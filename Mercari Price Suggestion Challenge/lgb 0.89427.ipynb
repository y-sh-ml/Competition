{
 "cells": [
  {
   "cell_type": "markdown",
   "id": "charming-theta",
   "metadata": {
    "execution": {
     "iopub.execute_input": "2021-06-24T03:23:16.409576Z",
     "iopub.status.busy": "2021-06-24T03:23:16.409199Z",
     "iopub.status.idle": "2021-06-24T03:23:16.414226Z",
     "shell.execute_reply": "2021-06-24T03:23:16.413341Z",
     "shell.execute_reply.started": "2021-06-24T03:23:16.409545Z"
    },
    "papermill": {
     "duration": 0.034318,
     "end_time": "2021-07-05T02:24:05.931019",
     "exception": false,
     "start_time": "2021-07-05T02:24:05.896701",
     "status": "completed"
    },
    "tags": []
   },
   "source": [
    "# Competition"
   ]
  },
  {
   "cell_type": "markdown",
   "id": "sound-optimization",
   "metadata": {
    "papermill": {
     "duration": 0.033562,
     "end_time": "2021-07-05T02:24:05.998539",
     "exception": false,
     "start_time": "2021-07-05T02:24:05.964977",
     "status": "completed"
    },
    "tags": []
   },
   "source": [
    "[Mercari Price Suggestion Challenge](https://www.kaggle.com/c/mercari-price-suggestion-challenge)"
   ]
  },
  {
   "cell_type": "markdown",
   "id": "adapted-radio",
   "metadata": {
    "papermill": {
     "duration": 0.033444,
     "end_time": "2021-07-05T02:24:06.067446",
     "exception": false,
     "start_time": "2021-07-05T02:24:06.034002",
     "status": "completed"
    },
    "tags": []
   },
   "source": [
    "# Overview"
   ]
  },
  {
   "cell_type": "markdown",
   "id": "clear-career",
   "metadata": {
    "papermill": {
     "duration": 0.032192,
     "end_time": "2021-07-05T02:24:06.132411",
     "exception": false,
     "start_time": "2021-07-05T02:24:06.100219",
     "status": "completed"
    },
    "tags": []
   },
   "source": [
    "メルカリに出品されている商品データ（カテゴリーやブランドなど）と価格をもとに<br>\n",
    "商品データから価格を予測するモデルを作成する。"
   ]
  },
  {
   "cell_type": "markdown",
   "id": "checked-traveler",
   "metadata": {
    "papermill": {
     "duration": 0.03196,
     "end_time": "2021-07-05T02:24:06.200789",
     "exception": false,
     "start_time": "2021-07-05T02:24:06.168829",
     "status": "completed"
    },
    "tags": []
   },
   "source": [
    "# Module"
   ]
  },
  {
   "cell_type": "code",
   "execution_count": 1,
   "id": "dressed-police",
   "metadata": {
    "execution": {
     "iopub.execute_input": "2021-07-05T02:24:06.272404Z",
     "iopub.status.busy": "2021-07-05T02:24:06.271845Z",
     "iopub.status.idle": "2021-07-05T02:24:08.296527Z",
     "shell.execute_reply": "2021-07-05T02:24:08.295799Z",
     "shell.execute_reply.started": "2021-07-05T01:54:21.743874Z"
    },
    "papermill": {
     "duration": 2.062606,
     "end_time": "2021-07-05T02:24:08.296680",
     "exception": false,
     "start_time": "2021-07-05T02:24:06.234074",
     "status": "completed"
    },
    "tags": []
   },
   "outputs": [
    {
     "data": {
      "text/html": [
       "<style type='text/css'>\n",
       ".datatable table.frame { margin-bottom: 0; }\n",
       ".datatable table.frame thead { border-bottom: none; }\n",
       ".datatable table.frame tr.coltypes td {  color: #FFFFFF;  line-height: 6px;  padding: 0 0.5em;}\n",
       ".datatable .bool    { background: #DDDD99; }\n",
       ".datatable .object  { background: #565656; }\n",
       ".datatable .int     { background: #5D9E5D; }\n",
       ".datatable .float   { background: #4040CC; }\n",
       ".datatable .str     { background: #CC4040; }\n",
       ".datatable .row_index {  background: var(--jp-border-color3);  border-right: 1px solid var(--jp-border-color0);  color: var(--jp-ui-font-color3);  font-size: 9px;}\n",
       ".datatable .frame tr.coltypes .row_index {  background: var(--jp-border-color0);}\n",
       ".datatable th:nth-child(2) { padding-left: 12px; }\n",
       ".datatable .hellipsis {  color: var(--jp-cell-editor-border-color);}\n",
       ".datatable .vellipsis {  background: var(--jp-layout-color0);  color: var(--jp-cell-editor-border-color);}\n",
       ".datatable .na {  color: var(--jp-cell-editor-border-color);  font-size: 80%;}\n",
       ".datatable .footer { font-size: 9px; }\n",
       ".datatable .frame_dimensions {  background: var(--jp-border-color3);  border-top: 1px solid var(--jp-border-color0);  color: var(--jp-ui-font-color3);  display: inline-block;  opacity: 0.6;  padding: 1px 10px 1px 5px;}\n",
       "</style>\n"
      ],
      "text/plain": [
       "<IPython.core.display.HTML object>"
      ]
     },
     "metadata": {},
     "output_type": "display_data"
    }
   ],
   "source": [
    "import gc\n",
    "import sys\n",
    "import optuna\n",
    "import datetime\n",
    "import warnings\n",
    "import matplotlib\n",
    "import numpy as np\n",
    "import pandas as pd\n",
    "import seaborn as sns\n",
    "import lightgbm as lgb\n",
    "import matplotlib.pyplot as plt\n",
    "\n",
    "from scipy.sparse import csr_matrix, hstack\n",
    "from sklearn.preprocessing import LabelBinarizer\n",
    "from sklearn.metrics import mean_squared_error\n",
    "from sklearn.model_selection import train_test_split\n",
    "from pandas.api.types import is_categorical_dtype\n",
    "from pandas.api.types import is_datetime64_any_dtype as is_datetime\n",
    "from sklearn.feature_extraction.text import CountVectorizer, TfidfVectorizer"
   ]
  },
  {
   "cell_type": "markdown",
   "id": "square-ladder",
   "metadata": {
    "papermill": {
     "duration": 0.034095,
     "end_time": "2021-07-05T02:24:08.365574",
     "exception": false,
     "start_time": "2021-07-05T02:24:08.331479",
     "status": "completed"
    },
    "tags": []
   },
   "source": [
    "# Unfreeze"
   ]
  },
  {
   "cell_type": "code",
   "execution_count": 2,
   "id": "still-illinois",
   "metadata": {
    "_kg_hide-output": true,
    "execution": {
     "iopub.execute_input": "2021-07-05T02:24:08.434185Z",
     "iopub.status.busy": "2021-07-05T02:24:08.433571Z",
     "iopub.status.idle": "2021-07-05T02:24:08.442725Z",
     "shell.execute_reply": "2021-07-05T02:24:08.442220Z",
     "shell.execute_reply.started": "2021-07-05T01:54:23.851112Z"
    },
    "papermill": {
     "duration": 0.044646,
     "end_time": "2021-07-05T02:24:08.442859",
     "exception": false,
     "start_time": "2021-07-05T02:24:08.398213",
     "status": "completed"
    },
    "tags": []
   },
   "outputs": [
    {
     "name": "stdout",
     "output_type": "stream",
     "text": [
      "/kaggle/input/mercari-price-suggestion-challenge/train.tsv.7z\n",
      "/kaggle/input/mercari-price-suggestion-challenge/test.tsv.7z\n",
      "/kaggle/input/mercari-price-suggestion-challenge/sample_submission_stg2.csv.zip\n",
      "/kaggle/input/mercari-price-suggestion-challenge/test_stg2.tsv.zip\n",
      "/kaggle/input/mercari-price-suggestion-challenge/sample_submission.csv.7z\n"
     ]
    }
   ],
   "source": [
    "import os\n",
    "for dirname, _, filenames in os.walk('/kaggle/input'):\n",
    "    for filename in filenames:\n",
    "        print(os.path.join(dirname, filename))"
   ]
  },
  {
   "cell_type": "markdown",
   "id": "dominant-royalty",
   "metadata": {
    "papermill": {
     "duration": 0.032632,
     "end_time": "2021-07-05T02:24:08.508427",
     "exception": false,
     "start_time": "2021-07-05T02:24:08.475795",
     "status": "completed"
    },
    "tags": []
   },
   "source": [
    "下記は、SettingsのInternetをONにして実行しないと、エラーになる。"
   ]
  },
  {
   "cell_type": "code",
   "execution_count": 3,
   "id": "damaged-robert",
   "metadata": {
    "_kg_hide-output": true,
    "execution": {
     "iopub.execute_input": "2021-07-05T02:24:08.582839Z",
     "iopub.status.busy": "2021-07-05T02:24:08.582189Z",
     "iopub.status.idle": "2021-07-05T02:24:26.012766Z",
     "shell.execute_reply": "2021-07-05T02:24:26.012191Z",
     "shell.execute_reply.started": "2021-07-05T01:54:23.861986Z"
    },
    "papermill": {
     "duration": 17.471396,
     "end_time": "2021-07-05T02:24:26.012903",
     "exception": false,
     "start_time": "2021-07-05T02:24:08.541507",
     "status": "completed"
    },
    "tags": []
   },
   "outputs": [
    {
     "name": "stdout",
     "output_type": "stream",
     "text": [
      "\r\n",
      "\r\n",
      "\r\n",
      "Suggested packages:\r\n",
      "  p7zip-full\r\n",
      "The following NEW packages will be installed:\r\n",
      "  p7zip\r\n",
      "0 upgraded, 1 newly installed, 0 to remove and 23 not upgraded.\r\n",
      "Need to get 358 kB of archives.\r\n",
      "After this operation, 996 kB of additional disk space will be used.\r\n",
      "Get:1 http://archive.ubuntu.com/ubuntu bionic/universe amd64 p7zip amd64 16.02+dfsg-6 [358 kB]\r\n",
      "Fetched 358 kB in 1s (540 kB/s)\r\n",
      "debconf: delaying package configuration, since apt-utils is not installed\r\n",
      "Selecting previously unselected package p7zip.\r\n",
      "(Reading database ... 95165 files and directories currently installed.)\r\n",
      "Preparing to unpack .../p7zip_16.02+dfsg-6_amd64.deb ...\r\n",
      "Unpacking p7zip (16.02+dfsg-6) ...\r\n",
      "Setting up p7zip (16.02+dfsg-6) ...\r\n",
      "\r\n",
      "7-Zip (a) [64] 16.02 : Copyright (c) 1999-2016 Igor Pavlov : 2016-05-21\r\n",
      "p7zip Version 16.02 (locale=C.UTF-8,Utf16=on,HugeFiles=on,64 bits,4 CPUs Intel(R) Xeon(R) CPU @ 2.30GHz (306F0),ASM,AES-NI)\r\n",
      "\r\n",
      "Scanning the drive for archives:\r\n",
      "  0M Scan /kaggle/input/mercari-price-suggestion-challenge/\b\b\b\b\b\b\b\b\b\b\b\b\b\b\b\b\b\b\b\b\b\b\b\b\b\b\b\b\b\b\b\b\b\b\b\b\b\b\b\b\b\b\b\b\b\b\b\b\b\b\b\b\b\b\b\b\b\b\b                                                           \b\b\b\b\b\b\b\b\b\b\b\b\b\b\b\b\b\b\b\b\b\b\b\b\b\b\b\b\b\b\b\b\b\b\b\b\b\b\b\b\b\b\b\b\b\b\b\b\b\b\b\b\b\b\b\b\b\b\b1 file, 77912192 bytes (75 MiB)\r\n",
      "\r\n",
      "Extracting archive: /kaggle/input/mercari-price-suggestion-challenge/train.tsv.7z\r\n",
      "--\r\n",
      "Path = /kaggle/input/mercari-price-suggestion-challenge/train.tsv.7z\r\n",
      "Type = 7z\r\n",
      "Physical Size = 77912192\r\n",
      "Headers Size = 122\r\n",
      "Method = LZMA2:24\r\n",
      "Solid = -\r\n",
      "Blocks = 1\r\n",
      "\r\n",
      "  0%\b\b\b\b    \b\b\b\b  2% - train.tsv\b\b\b\b\b\b\b\b\b\b\b\b\b\b\b\b                \b\b\b\b\b\b\b\b\b\b\b\b\b\b\b\b  4% - train.tsv\b\b\b\b\b\b\b\b\b\b\b\b\b\b\b\b                \b\b\b\b\b\b\b\b\b\b\b\b\b\b\b\b  8% - train.tsv\b\b\b\b\b\b\b\b\b\b\b\b\b\b\b\b                \b\b\b\b\b\b\b\b\b\b\b\b\b\b\b\b 11% - train.tsv\b\b\b\b\b\b\b\b\b\b\b\b\b\b\b\b                \b\b\b\b\b\b\b\b\b\b\b\b\b\b\b\b 14% - train.tsv\b\b\b\b\b\b\b\b\b\b\b\b\b\b\b\b                \b\b\b\b\b\b\b\b\b\b\b\b\b\b\b\b 18% - train.tsv\b\b\b\b\b\b\b\b\b\b\b\b\b\b\b\b                \b\b\b\b\b\b\b\b\b\b\b\b\b\b\b\b 21% - train.tsv\b\b\b\b\b\b\b\b\b\b\b\b\b\b\b\b                \b\b\b\b\b\b\b\b\b\b\b\b\b\b\b\b 23% - train.tsv\b\b\b\b\b\b\b\b\b\b\b\b\b\b\b\b                \b\b\b\b\b\b\b\b\b\b\b\b\b\b\b\b 27% - train.tsv\b\b\b\b\b\b\b\b\b\b\b\b\b\b\b\b                \b\b\b\b\b\b\b\b\b\b\b\b\b\b\b\b 30% - train.tsv\b\b\b\b\b\b\b\b\b\b\b\b\b\b\b\b                \b\b\b\b\b\b\b\b\b\b\b\b\b\b\b\b 33% - train.tsv\b\b\b\b\b\b\b\b\b\b\b\b\b\b\b\b                \b\b\b\b\b\b\b\b\b\b\b\b\b\b\b\b 36% - train.tsv\b\b\b\b\b\b\b\b\b\b\b\b\b\b\b\b                \b\b\b\b\b\b\b\b\b\b\b\b\b\b\b\b 39% - train.tsv\b\b\b\b\b\b\b\b\b\b\b\b\b\b\b\b                \b\b\b\b\b\b\b\b\b\b\b\b\b\b\b\b 42% - train.tsv\b\b\b\b\b\b\b\b\b\b\b\b\b\b\b\b                \b\b\b\b\b\b\b\b\b\b\b\b\b\b\b\b 45% - train.tsv\b\b\b\b\b\b\b\b\b\b\b\b\b\b\b\b                \b\b\b\b\b\b\b\b\b\b\b\b\b\b\b\b 48% - train.tsv\b\b\b\b\b\b\b\b\b\b\b\b\b\b\b\b                \b\b\b\b\b\b\b\b\b\b\b\b\b\b\b\b 52% - train.tsv\b\b\b\b\b\b\b\b\b\b\b\b\b\b\b\b                \b\b\b\b\b\b\b\b\b\b\b\b\b\b\b\b 55% - train.tsv\b\b\b\b\b\b\b\b\b\b\b\b\b\b\b\b                \b\b\b\b\b\b\b\b\b\b\b\b\b\b\b\b 59% - train.tsv\b\b\b\b\b\b\b\b\b\b\b\b\b\b\b\b                \b\b\b\b\b\b\b\b\b\b\b\b\b\b\b\b 62% - train.tsv\b\b\b\b\b\b\b\b\b\b\b\b\b\b\b\b                \b\b\b\b\b\b\b\b\b\b\b\b\b\b\b\b 65% - train.tsv\b\b\b\b\b\b\b\b\b\b\b\b\b\b\b\b                \b\b\b\b\b\b\b\b\b\b\b\b\b\b\b\b 69% - train.tsv\b\b\b\b\b\b\b\b\b\b\b\b\b\b\b\b                \b\b\b\b\b\b\b\b\b\b\b\b\b\b\b\b 72% - train.tsv\b\b\b\b\b\b\b\b\b\b\b\b\b\b\b\b                \b\b\b\b\b\b\b\b\b\b\b\b\b\b\b\b 75% - train.tsv\b\b\b\b\b\b\b\b\b\b\b\b\b\b\b\b                \b\b\b\b\b\b\b\b\b\b\b\b\b\b\b\b 79% - train.tsv\b\b\b\b\b\b\b\b\b\b\b\b\b\b\b\b                \b\b\b\b\b\b\b\b\b\b\b\b\b\b\b\b 81% - train.tsv\b\b\b\b\b\b\b\b\b\b\b\b\b\b\b\b                \b\b\b\b\b\b\b\b\b\b\b\b\b\b\b\b 85% - train.tsv\b\b\b\b\b\b\b\b\b\b\b\b\b\b\b\b                \b\b\b\b\b\b\b\b\b\b\b\b\b\b\b\b 89% - train.tsv\b\b\b\b\b\b\b\b\b\b\b\b\b\b\b\b                \b\b\b\b\b\b\b\b\b\b\b\b\b\b\b\b 92% - train.tsv\b\b\b\b\b\b\b\b\b\b\b\b\b\b\b\b                \b\b\b\b\b\b\b\b\b\b\b\b\b\b\b\b 96% - train.tsv\b\b\b\b\b\b\b\b\b\b\b\b\b\b\b\b                \b\b\b\b\b\b\b\b\b\b\b\b\b\b\b\b 99% - train.tsv\b\b\b\b\b\b\b\b\b\b\b\b\b\b\b\b                \b\b\b\b\b\b\b\b\b\b\b\b\b\b\b\bEverything is Ok\r\n",
      "\r\n",
      "Size:       337809843\r\n",
      "Compressed: 77912192\r\n",
      "\r\n",
      "7-Zip (a) [64] 16.02 : Copyright (c) 1999-2016 Igor Pavlov : 2016-05-21\r\n",
      "p7zip Version 16.02 (locale=C.UTF-8,Utf16=on,HugeFiles=on,64 bits,4 CPUs Intel(R) Xeon(R) CPU @ 2.30GHz (306F0),ASM,AES-NI)\r\n",
      "\r\n",
      "Scanning the drive for archives:\r\n",
      "  0M Scan /kaggle/input/mercari-price-suggestion-challenge/\b\b\b\b\b\b\b\b\b\b\b\b\b\b\b\b\b\b\b\b\b\b\b\b\b\b\b\b\b\b\b\b\b\b\b\b\b\b\b\b\b\b\b\b\b\b\b\b\b\b\b\b\b\b\b\b\b\b\b                                                           \b\b\b\b\b\b\b\b\b\b\b\b\b\b\b\b\b\b\b\b\b\b\b\b\b\b\b\b\b\b\b\b\b\b\b\b\b\b\b\b\b\b\b\b\b\b\b\b\b\b\b\b\b\b\b\b\b\b\b1 file, 35617013 bytes (34 MiB)\r\n",
      "\r\n",
      "Extracting archive: /kaggle/input/mercari-price-suggestion-challenge/test.tsv.7z\r\n",
      "--\r\n",
      "Path = /kaggle/input/mercari-price-suggestion-challenge/test.tsv.7z\r\n",
      "Type = 7z\r\n",
      "Physical Size = 35617013\r\n",
      "Headers Size = 122\r\n",
      "Method = LZMA2:24\r\n",
      "Solid = -\r\n",
      "Blocks = 1\r\n",
      "\r\n",
      "  0%\b\b\b\b    \b\b\b\b  8% - test.tsv\b\b\b\b\b\b\b\b\b\b\b\b\b\b\b               \b\b\b\b\b\b\b\b\b\b\b\b\b\b\b 16% - test.tsv\b\b\b\b\b\b\b\b\b\b\b\b\b\b\b               \b\b\b\b\b\b\b\b\b\b\b\b\b\b\b 23% - test.tsv\b\b\b\b\b\b\b\b\b\b\b\b\b\b\b               \b\b\b\b\b\b\b\b\b\b\b\b\b\b\b 29% - test.tsv\b\b\b\b\b\b\b\b\b\b\b\b\b\b\b               \b\b\b\b\b\b\b\b\b\b\b\b\b\b\b 38% - test.tsv\b\b\b\b\b\b\b\b\b\b\b\b\b\b\b               \b\b\b\b\b\b\b\b\b\b\b\b\b\b\b 44% - test.tsv\b\b\b\b\b\b\b\b\b\b\b\b\b\b\b               \b\b\b\b\b\b\b\b\b\b\b\b\b\b\b 51% - test.tsv\b\b\b\b\b\b\b\b\b\b\b\b\b\b\b               \b\b\b\b\b\b\b\b\b\b\b\b\b\b\b 58% - test.tsv\b\b\b\b\b\b\b\b\b\b\b\b\b\b\b               \b\b\b\b\b\b\b\b\b\b\b\b\b\b\b 65% - test.tsv\b\b\b\b\b\b\b\b\b\b\b\b\b\b\b               \b\b\b\b\b\b\b\b\b\b\b\b\b\b\b 73% - test.tsv\b\b\b\b\b\b\b\b\b\b\b\b\b\b\b               \b\b\b\b\b\b\b\b\b\b\b\b\b\b\b 79% - test.tsv\b\b\b\b\b\b\b\b\b\b\b\b\b\b\b               \b\b\b\b\b\b\b\b\b\b\b\b\b\b\b 85% - test.tsv\b\b\b\b\b\b\b\b\b\b\b\b\b\b\b               \b\b\b\b\b\b\b\b\b\b\b\b\b\b\b 92% - test.tsv\b\b\b\b\b\b\b\b\b\b\b\b\b\b\b               \b\b\b\b\b\b\b\b\b\b\b\b\b\b\b100% 1\b\b\b\b\b\b      \b\b\b\b\b\bEverything is Ok\r\n",
      "\r\n",
      "Size:       154222160\r\n",
      "Compressed: 35617013\r\n",
      "\r\n",
      "7-Zip (a) [64] 16.02 : Copyright (c) 1999-2016 Igor Pavlov : 2016-05-21\r\n",
      "p7zip Version 16.02 (locale=C.UTF-8,Utf16=on,HugeFiles=on,64 bits,4 CPUs Intel(R) Xeon(R) CPU @ 2.30GHz (306F0),ASM,AES-NI)\r\n",
      "\r\n",
      "Scanning the drive for archives:\r\n",
      "  0M Scan /kaggle/input/mercari-price-suggestion-challenge/\b\b\b\b\b\b\b\b\b\b\b\b\b\b\b\b\b\b\b\b\b\b\b\b\b\b\b\b\b\b\b\b\b\b\b\b\b\b\b\b\b\b\b\b\b\b\b\b\b\b\b\b\b\b\b\b\b\b\b                                                           \b\b\b\b\b\b\b\b\b\b\b\b\b\b\b\b\b\b\b\b\b\b\b\b\b\b\b\b\b\b\b\b\b\b\b\b\b\b\b\b\b\b\b\b\b\b\b\b\b\b\b\b\b\b\b\b\b\b\b1 file, 174228 bytes (171 KiB)\r\n",
      "\r\n",
      "Extracting archive: /kaggle/input/mercari-price-suggestion-challenge/sample_submission.csv.7z\r\n",
      "--\r\n",
      "Path = /kaggle/input/mercari-price-suggestion-challenge/sample_submission.csv.7z\r\n",
      "Type = 7z\r\n",
      "Physical Size = 174228\r\n",
      "Headers Size = 143\r\n",
      "Method = LZMA:12m\r\n",
      "Solid = -\r\n",
      "Blocks = 1\r\n",
      "\r\n",
      "  0%\b\b\b\b    \b\b\b\bEverything is Ok\r\n",
      "\r\n",
      "Size:       9595930\r\n",
      "Compressed: 174228\r\n"
     ]
    }
   ],
   "source": [
    "!apt-get install p7zip\n",
    "!p7zip -d -f -k /kaggle/input/mercari-price-suggestion-challenge/train.tsv.7z\n",
    "!p7zip -d -f -k /kaggle/input/mercari-price-suggestion-challenge/test.tsv.7z\n",
    "!p7zip -d -f -k /kaggle/input/mercari-price-suggestion-challenge/sample_submission.csv.7z"
   ]
  },
  {
   "cell_type": "code",
   "execution_count": 4,
   "id": "searching-activity",
   "metadata": {
    "_kg_hide-output": true,
    "execution": {
     "iopub.execute_input": "2021-07-05T02:24:26.122968Z",
     "iopub.status.busy": "2021-07-05T02:24:26.122331Z",
     "iopub.status.idle": "2021-07-05T02:24:36.489999Z",
     "shell.execute_reply": "2021-07-05T02:24:36.489534Z",
     "shell.execute_reply.started": "2021-07-05T01:54:42.992972Z"
    },
    "papermill": {
     "duration": 10.427821,
     "end_time": "2021-07-05T02:24:36.490132",
     "exception": false,
     "start_time": "2021-07-05T02:24:26.062311",
     "status": "completed"
    },
    "tags": []
   },
   "outputs": [
    {
     "name": "stdout",
     "output_type": "stream",
     "text": [
      "Archive:  /kaggle/input/mercari-price-suggestion-challenge/sample_submission_stg2.csv.zip\r\n",
      "  inflating: sample_submission_stg2.csv  \r\n",
      "Archive:  /kaggle/input/mercari-price-suggestion-challenge/test_stg2.tsv.zip\r\n",
      "  inflating: test_stg2.tsv           \r\n"
     ]
    }
   ],
   "source": [
    "!unzip /kaggle/input/mercari-price-suggestion-challenge/sample_submission_stg2.csv.zip\n",
    "!unzip /kaggle/input/mercari-price-suggestion-challenge/test_stg2.tsv.zip"
   ]
  },
  {
   "cell_type": "markdown",
   "id": "expected-master",
   "metadata": {
    "papermill": {
     "duration": 0.050126,
     "end_time": "2021-07-05T02:24:36.590861",
     "exception": false,
     "start_time": "2021-07-05T02:24:36.540735",
     "status": "completed"
    },
    "tags": []
   },
   "source": [
    "# Datasets"
   ]
  },
  {
   "cell_type": "code",
   "execution_count": 5,
   "id": "incorrect-farmer",
   "metadata": {
    "execution": {
     "iopub.execute_input": "2021-07-05T02:24:36.699066Z",
     "iopub.status.busy": "2021-07-05T02:24:36.698150Z",
     "iopub.status.idle": "2021-07-05T02:24:42.672465Z",
     "shell.execute_reply": "2021-07-05T02:24:42.672842Z",
     "shell.execute_reply.started": "2021-07-05T01:54:54.196596Z"
    },
    "papermill": {
     "duration": 6.0324,
     "end_time": "2021-07-05T02:24:42.673002",
     "exception": false,
     "start_time": "2021-07-05T02:24:36.640602",
     "status": "completed"
    },
    "tags": []
   },
   "outputs": [
    {
     "name": "stdout",
     "output_type": "stream",
     "text": [
      "(1482535, 8)\n"
     ]
    },
    {
     "data": {
      "text/html": [
       "<div>\n",
       "<style scoped>\n",
       "    .dataframe tbody tr th:only-of-type {\n",
       "        vertical-align: middle;\n",
       "    }\n",
       "\n",
       "    .dataframe tbody tr th {\n",
       "        vertical-align: top;\n",
       "    }\n",
       "\n",
       "    .dataframe thead th {\n",
       "        text-align: right;\n",
       "    }\n",
       "</style>\n",
       "<table border=\"1\" class=\"dataframe\">\n",
       "  <thead>\n",
       "    <tr style=\"text-align: right;\">\n",
       "      <th></th>\n",
       "      <th>train_id</th>\n",
       "      <th>name</th>\n",
       "      <th>item_condition_id</th>\n",
       "      <th>category_name</th>\n",
       "      <th>brand_name</th>\n",
       "      <th>price</th>\n",
       "      <th>shipping</th>\n",
       "      <th>item_description</th>\n",
       "    </tr>\n",
       "  </thead>\n",
       "  <tbody>\n",
       "    <tr>\n",
       "      <th>0</th>\n",
       "      <td>0</td>\n",
       "      <td>MLB Cincinnati Reds T Shirt Size XL</td>\n",
       "      <td>3</td>\n",
       "      <td>Men/Tops/T-shirts</td>\n",
       "      <td>NaN</td>\n",
       "      <td>10.0</td>\n",
       "      <td>1</td>\n",
       "      <td>No description yet</td>\n",
       "    </tr>\n",
       "    <tr>\n",
       "      <th>1</th>\n",
       "      <td>1</td>\n",
       "      <td>Razer BlackWidow Chroma Keyboard</td>\n",
       "      <td>3</td>\n",
       "      <td>Electronics/Computers &amp; Tablets/Components &amp; P...</td>\n",
       "      <td>Razer</td>\n",
       "      <td>52.0</td>\n",
       "      <td>0</td>\n",
       "      <td>This keyboard is in great condition and works ...</td>\n",
       "    </tr>\n",
       "    <tr>\n",
       "      <th>2</th>\n",
       "      <td>2</td>\n",
       "      <td>AVA-VIV Blouse</td>\n",
       "      <td>1</td>\n",
       "      <td>Women/Tops &amp; Blouses/Blouse</td>\n",
       "      <td>Target</td>\n",
       "      <td>10.0</td>\n",
       "      <td>1</td>\n",
       "      <td>Adorable top with a hint of lace and a key hol...</td>\n",
       "    </tr>\n",
       "    <tr>\n",
       "      <th>3</th>\n",
       "      <td>3</td>\n",
       "      <td>Leather Horse Statues</td>\n",
       "      <td>1</td>\n",
       "      <td>Home/Home Décor/Home Décor Accents</td>\n",
       "      <td>NaN</td>\n",
       "      <td>35.0</td>\n",
       "      <td>1</td>\n",
       "      <td>New with tags. Leather horses. Retail for [rm]...</td>\n",
       "    </tr>\n",
       "    <tr>\n",
       "      <th>4</th>\n",
       "      <td>4</td>\n",
       "      <td>24K GOLD plated rose</td>\n",
       "      <td>1</td>\n",
       "      <td>Women/Jewelry/Necklaces</td>\n",
       "      <td>NaN</td>\n",
       "      <td>44.0</td>\n",
       "      <td>0</td>\n",
       "      <td>Complete with certificate of authenticity</td>\n",
       "    </tr>\n",
       "    <tr>\n",
       "      <th>5</th>\n",
       "      <td>5</td>\n",
       "      <td>Bundled items requested for Ruie</td>\n",
       "      <td>3</td>\n",
       "      <td>Women/Other/Other</td>\n",
       "      <td>NaN</td>\n",
       "      <td>59.0</td>\n",
       "      <td>0</td>\n",
       "      <td>Banana republic bottoms, Candies skirt with ma...</td>\n",
       "    </tr>\n",
       "    <tr>\n",
       "      <th>6</th>\n",
       "      <td>6</td>\n",
       "      <td>Acacia pacific tides santorini top</td>\n",
       "      <td>3</td>\n",
       "      <td>Women/Swimwear/Two-Piece</td>\n",
       "      <td>Acacia Swimwear</td>\n",
       "      <td>64.0</td>\n",
       "      <td>0</td>\n",
       "      <td>Size small but straps slightly shortened to fi...</td>\n",
       "    </tr>\n",
       "    <tr>\n",
       "      <th>7</th>\n",
       "      <td>7</td>\n",
       "      <td>Girls cheer and tumbling bundle of 7</td>\n",
       "      <td>3</td>\n",
       "      <td>Sports &amp; Outdoors/Apparel/Girls</td>\n",
       "      <td>Soffe</td>\n",
       "      <td>6.0</td>\n",
       "      <td>1</td>\n",
       "      <td>You get three pairs of Sophie cheer shorts siz...</td>\n",
       "    </tr>\n",
       "    <tr>\n",
       "      <th>8</th>\n",
       "      <td>8</td>\n",
       "      <td>Girls Nike Pro shorts</td>\n",
       "      <td>3</td>\n",
       "      <td>Sports &amp; Outdoors/Apparel/Girls</td>\n",
       "      <td>Nike</td>\n",
       "      <td>19.0</td>\n",
       "      <td>0</td>\n",
       "      <td>Girls Size small Plus green. Three shorts total.</td>\n",
       "    </tr>\n",
       "    <tr>\n",
       "      <th>9</th>\n",
       "      <td>9</td>\n",
       "      <td>Porcelain clown doll checker pants VTG</td>\n",
       "      <td>3</td>\n",
       "      <td>Vintage &amp; Collectibles/Collectibles/Doll</td>\n",
       "      <td>NaN</td>\n",
       "      <td>8.0</td>\n",
       "      <td>0</td>\n",
       "      <td>I realized his pants are on backwards after th...</td>\n",
       "    </tr>\n",
       "  </tbody>\n",
       "</table>\n",
       "</div>"
      ],
      "text/plain": [
       "   train_id                                    name  item_condition_id  \\\n",
       "0         0     MLB Cincinnati Reds T Shirt Size XL                  3   \n",
       "1         1        Razer BlackWidow Chroma Keyboard                  3   \n",
       "2         2                          AVA-VIV Blouse                  1   \n",
       "3         3                   Leather Horse Statues                  1   \n",
       "4         4                    24K GOLD plated rose                  1   \n",
       "5         5        Bundled items requested for Ruie                  3   \n",
       "6         6      Acacia pacific tides santorini top                  3   \n",
       "7         7    Girls cheer and tumbling bundle of 7                  3   \n",
       "8         8                   Girls Nike Pro shorts                  3   \n",
       "9         9  Porcelain clown doll checker pants VTG                  3   \n",
       "\n",
       "                                       category_name       brand_name  price  \\\n",
       "0                                  Men/Tops/T-shirts              NaN   10.0   \n",
       "1  Electronics/Computers & Tablets/Components & P...            Razer   52.0   \n",
       "2                        Women/Tops & Blouses/Blouse           Target   10.0   \n",
       "3                 Home/Home Décor/Home Décor Accents              NaN   35.0   \n",
       "4                            Women/Jewelry/Necklaces              NaN   44.0   \n",
       "5                                  Women/Other/Other              NaN   59.0   \n",
       "6                           Women/Swimwear/Two-Piece  Acacia Swimwear   64.0   \n",
       "7                    Sports & Outdoors/Apparel/Girls            Soffe    6.0   \n",
       "8                    Sports & Outdoors/Apparel/Girls             Nike   19.0   \n",
       "9           Vintage & Collectibles/Collectibles/Doll              NaN    8.0   \n",
       "\n",
       "   shipping                                   item_description  \n",
       "0         1                                 No description yet  \n",
       "1         0  This keyboard is in great condition and works ...  \n",
       "2         1  Adorable top with a hint of lace and a key hol...  \n",
       "3         1  New with tags. Leather horses. Retail for [rm]...  \n",
       "4         0          Complete with certificate of authenticity  \n",
       "5         0  Banana republic bottoms, Candies skirt with ma...  \n",
       "6         0  Size small but straps slightly shortened to fi...  \n",
       "7         1  You get three pairs of Sophie cheer shorts siz...  \n",
       "8         0   Girls Size small Plus green. Three shorts total.  \n",
       "9         0  I realized his pants are on backwards after th...  "
      ]
     },
     "execution_count": 5,
     "metadata": {},
     "output_type": "execute_result"
    }
   ],
   "source": [
    "train = pd.read_csv('train.tsv', sep='\\t')\n",
    "\n",
    "print(train.shape)\n",
    "train.head(10)"
   ]
  },
  {
   "cell_type": "code",
   "execution_count": 6,
   "id": "atomic-georgia",
   "metadata": {
    "_kg_hide-input": true,
    "execution": {
     "iopub.execute_input": "2021-07-05T02:24:42.784745Z",
     "iopub.status.busy": "2021-07-05T02:24:42.783900Z",
     "iopub.status.idle": "2021-07-05T02:24:42.788245Z",
     "shell.execute_reply": "2021-07-05T02:24:42.787724Z",
     "shell.execute_reply.started": "2021-07-05T01:55:00.345064Z"
    },
    "papermill": {
     "duration": 0.06472,
     "end_time": "2021-07-05T02:24:42.788366",
     "exception": false,
     "start_time": "2021-07-05T02:24:42.723646",
     "status": "completed"
    },
    "tags": []
   },
   "outputs": [
    {
     "data": {
      "text/html": [
       "<div>\n",
       "<style scoped>\n",
       "    .dataframe tbody tr th:only-of-type {\n",
       "        vertical-align: middle;\n",
       "    }\n",
       "\n",
       "    .dataframe tbody tr th {\n",
       "        vertical-align: top;\n",
       "    }\n",
       "\n",
       "    .dataframe thead th {\n",
       "        text-align: right;\n",
       "    }\n",
       "</style>\n",
       "<table border=\"1\" class=\"dataframe\">\n",
       "  <thead>\n",
       "    <tr style=\"text-align: right;\">\n",
       "      <th></th>\n",
       "      <th>カラム</th>\n",
       "      <th>意味</th>\n",
       "    </tr>\n",
       "  </thead>\n",
       "  <tbody>\n",
       "    <tr>\n",
       "      <th>0</th>\n",
       "      <td>train_id</td>\n",
       "      <td>商品ID</td>\n",
       "    </tr>\n",
       "    <tr>\n",
       "      <th>1</th>\n",
       "      <td>name</td>\n",
       "      <td>商品名</td>\n",
       "    </tr>\n",
       "    <tr>\n",
       "      <th>2</th>\n",
       "      <td>item_condition_id</td>\n",
       "      <td>商品の状態</td>\n",
       "    </tr>\n",
       "    <tr>\n",
       "      <th>3</th>\n",
       "      <td>category_name</td>\n",
       "      <td>カテゴリー名</td>\n",
       "    </tr>\n",
       "    <tr>\n",
       "      <th>4</th>\n",
       "      <td>brand_name</td>\n",
       "      <td>ブランド名</td>\n",
       "    </tr>\n",
       "    <tr>\n",
       "      <th>5</th>\n",
       "      <td>price</td>\n",
       "      <td>価格（単位：ドル）</td>\n",
       "    </tr>\n",
       "    <tr>\n",
       "      <th>6</th>\n",
       "      <td>shipping</td>\n",
       "      <td>送料が売手負担かどうか</td>\n",
       "    </tr>\n",
       "    <tr>\n",
       "      <th>7</th>\n",
       "      <td>item_description</td>\n",
       "      <td>商品説明</td>\n",
       "    </tr>\n",
       "  </tbody>\n",
       "</table>\n",
       "</div>"
      ],
      "text/plain": [
       "                 カラム           意味\n",
       "0           train_id         商品ID\n",
       "1               name          商品名\n",
       "2  item_condition_id        商品の状態\n",
       "3      category_name       カテゴリー名\n",
       "4         brand_name        ブランド名\n",
       "5              price    価格（単位：ドル）\n",
       "6           shipping  送料が売手負担かどうか\n",
       "7   item_description         商品説明"
      ]
     },
     "execution_count": 6,
     "metadata": {},
     "output_type": "execute_result"
    }
   ],
   "source": [
    "pd.DataFrame([['train_id', '商品ID'],\n",
    "              ['name', '商品名'],\n",
    "              ['item_condition_id', '商品の状態'],\n",
    "              ['category_name', 'カテゴリー名'],\n",
    "              ['brand_name', 'ブランド名'],\n",
    "              ['price', '価格（単位：ドル）'],\n",
    "              ['shipping', '送料が売手負担かどうか'],['item_description', '商品説明']],\n",
    "              columns=['カラム', '意味'])"
   ]
  },
  {
   "cell_type": "markdown",
   "id": "behind-prediction",
   "metadata": {
    "execution": {
     "iopub.execute_input": "2021-07-02T06:56:15.612722Z",
     "iopub.status.busy": "2021-07-02T06:56:15.612322Z",
     "iopub.status.idle": "2021-07-02T06:56:15.618286Z",
     "shell.execute_reply": "2021-07-02T06:56:15.617229Z",
     "shell.execute_reply.started": "2021-07-02T06:56:15.612688Z"
    },
    "papermill": {
     "duration": 0.051332,
     "end_time": "2021-07-05T02:24:42.890736",
     "exception": false,
     "start_time": "2021-07-05T02:24:42.839404",
     "status": "completed"
    },
    "tags": []
   },
   "source": [
    "testデータは、test.tsvとtest_stg2.tsvがある。<br>\n",
    "submitのときには、test_stg2を使用する。"
   ]
  },
  {
   "cell_type": "code",
   "execution_count": 7,
   "id": "reduced-sleep",
   "metadata": {
    "execution": {
     "iopub.execute_input": "2021-07-05T02:24:42.998729Z",
     "iopub.status.busy": "2021-07-05T02:24:42.998138Z",
     "iopub.status.idle": "2021-07-05T02:24:45.628817Z",
     "shell.execute_reply": "2021-07-05T02:24:45.629177Z",
     "shell.execute_reply.started": "2021-07-05T01:55:00.360226Z"
    },
    "papermill": {
     "duration": 2.687433,
     "end_time": "2021-07-05T02:24:45.629348",
     "exception": false,
     "start_time": "2021-07-05T02:24:42.941915",
     "status": "completed"
    },
    "tags": []
   },
   "outputs": [
    {
     "name": "stdout",
     "output_type": "stream",
     "text": [
      "(693359, 7)\n"
     ]
    },
    {
     "data": {
      "text/html": [
       "<div>\n",
       "<style scoped>\n",
       "    .dataframe tbody tr th:only-of-type {\n",
       "        vertical-align: middle;\n",
       "    }\n",
       "\n",
       "    .dataframe tbody tr th {\n",
       "        vertical-align: top;\n",
       "    }\n",
       "\n",
       "    .dataframe thead th {\n",
       "        text-align: right;\n",
       "    }\n",
       "</style>\n",
       "<table border=\"1\" class=\"dataframe\">\n",
       "  <thead>\n",
       "    <tr style=\"text-align: right;\">\n",
       "      <th></th>\n",
       "      <th>test_id</th>\n",
       "      <th>name</th>\n",
       "      <th>item_condition_id</th>\n",
       "      <th>category_name</th>\n",
       "      <th>brand_name</th>\n",
       "      <th>shipping</th>\n",
       "      <th>item_description</th>\n",
       "    </tr>\n",
       "  </thead>\n",
       "  <tbody>\n",
       "    <tr>\n",
       "      <th>0</th>\n",
       "      <td>0</td>\n",
       "      <td>Breast cancer \"I fight like a girl\" ring</td>\n",
       "      <td>1</td>\n",
       "      <td>Women/Jewelry/Rings</td>\n",
       "      <td>NaN</td>\n",
       "      <td>1</td>\n",
       "      <td>Size 7</td>\n",
       "    </tr>\n",
       "    <tr>\n",
       "      <th>1</th>\n",
       "      <td>1</td>\n",
       "      <td>25 pcs NEW 7.5\"x12\" Kraft Bubble Mailers</td>\n",
       "      <td>1</td>\n",
       "      <td>Other/Office supplies/Shipping Supplies</td>\n",
       "      <td>NaN</td>\n",
       "      <td>1</td>\n",
       "      <td>25 pcs NEW 7.5\"x12\" Kraft Bubble Mailers Lined...</td>\n",
       "    </tr>\n",
       "    <tr>\n",
       "      <th>2</th>\n",
       "      <td>2</td>\n",
       "      <td>Coach bag</td>\n",
       "      <td>1</td>\n",
       "      <td>Vintage &amp; Collectibles/Bags and Purses/Handbag</td>\n",
       "      <td>Coach</td>\n",
       "      <td>1</td>\n",
       "      <td>Brand new coach bag. Bought for [rm] at a Coac...</td>\n",
       "    </tr>\n",
       "    <tr>\n",
       "      <th>3</th>\n",
       "      <td>3</td>\n",
       "      <td>Floral Kimono</td>\n",
       "      <td>2</td>\n",
       "      <td>Women/Sweaters/Cardigan</td>\n",
       "      <td>NaN</td>\n",
       "      <td>0</td>\n",
       "      <td>-floral kimono -never worn -lightweight and pe...</td>\n",
       "    </tr>\n",
       "    <tr>\n",
       "      <th>4</th>\n",
       "      <td>4</td>\n",
       "      <td>Life after Death</td>\n",
       "      <td>3</td>\n",
       "      <td>Other/Books/Religion &amp; Spirituality</td>\n",
       "      <td>NaN</td>\n",
       "      <td>1</td>\n",
       "      <td>Rediscovering life after the loss of a loved o...</td>\n",
       "    </tr>\n",
       "    <tr>\n",
       "      <th>5</th>\n",
       "      <td>5</td>\n",
       "      <td>iPhone 6 Plus or 6s Plus Vodka pink case</td>\n",
       "      <td>1</td>\n",
       "      <td>Electronics/Cell Phones &amp; Accessories/Cases, C...</td>\n",
       "      <td>NaN</td>\n",
       "      <td>1</td>\n",
       "      <td>One Absolut Vodka in Pink for iPhone 6 Plus an...</td>\n",
       "    </tr>\n",
       "    <tr>\n",
       "      <th>6</th>\n",
       "      <td>6</td>\n",
       "      <td>Vintage Cameo Pendant &amp; Brooch Pin</td>\n",
       "      <td>3</td>\n",
       "      <td>Women/Jewelry/Necklaces</td>\n",
       "      <td>Vintage</td>\n",
       "      <td>1</td>\n",
       "      <td>Two vintage Cameo pieces. 1. Silver metal Lock...</td>\n",
       "    </tr>\n",
       "    <tr>\n",
       "      <th>7</th>\n",
       "      <td>7</td>\n",
       "      <td>Rose Gold Stainless Steel Quartz Watch</td>\n",
       "      <td>1</td>\n",
       "      <td>Women/Women's Accessories/Watches</td>\n",
       "      <td>NaN</td>\n",
       "      <td>1</td>\n",
       "      <td>Brand new Price firm No trades Box included wi...</td>\n",
       "    </tr>\n",
       "    <tr>\n",
       "      <th>8</th>\n",
       "      <td>8</td>\n",
       "      <td>Daisy Marc Jacobs 3.4oz</td>\n",
       "      <td>3</td>\n",
       "      <td>Beauty/Fragrance/Women</td>\n",
       "      <td>MARC JACOBS</td>\n",
       "      <td>0</td>\n",
       "      <td>Brand new No box 100% authentic Firm price NO ...</td>\n",
       "    </tr>\n",
       "    <tr>\n",
       "      <th>9</th>\n",
       "      <td>9</td>\n",
       "      <td>Rose Brushes and Silicone Sponge</td>\n",
       "      <td>1</td>\n",
       "      <td>Beauty/Tools &amp; Accessories/Makeup Brushes &amp; Tools</td>\n",
       "      <td>NaN</td>\n",
       "      <td>1</td>\n",
       "      <td>All new. 12 pcs makeup brushes and one Silicon...</td>\n",
       "    </tr>\n",
       "  </tbody>\n",
       "</table>\n",
       "</div>"
      ],
      "text/plain": [
       "   test_id                                      name  item_condition_id  \\\n",
       "0        0  Breast cancer \"I fight like a girl\" ring                  1   \n",
       "1        1  25 pcs NEW 7.5\"x12\" Kraft Bubble Mailers                  1   \n",
       "2        2                                 Coach bag                  1   \n",
       "3        3                             Floral Kimono                  2   \n",
       "4        4                          Life after Death                  3   \n",
       "5        5  iPhone 6 Plus or 6s Plus Vodka pink case                  1   \n",
       "6        6        Vintage Cameo Pendant & Brooch Pin                  3   \n",
       "7        7    Rose Gold Stainless Steel Quartz Watch                  1   \n",
       "8        8                   Daisy Marc Jacobs 3.4oz                  3   \n",
       "9        9          Rose Brushes and Silicone Sponge                  1   \n",
       "\n",
       "                                       category_name   brand_name  shipping  \\\n",
       "0                                Women/Jewelry/Rings          NaN         1   \n",
       "1            Other/Office supplies/Shipping Supplies          NaN         1   \n",
       "2     Vintage & Collectibles/Bags and Purses/Handbag        Coach         1   \n",
       "3                            Women/Sweaters/Cardigan          NaN         0   \n",
       "4                Other/Books/Religion & Spirituality          NaN         1   \n",
       "5  Electronics/Cell Phones & Accessories/Cases, C...          NaN         1   \n",
       "6                            Women/Jewelry/Necklaces      Vintage         1   \n",
       "7                  Women/Women's Accessories/Watches          NaN         1   \n",
       "8                             Beauty/Fragrance/Women  MARC JACOBS         0   \n",
       "9  Beauty/Tools & Accessories/Makeup Brushes & Tools          NaN         1   \n",
       "\n",
       "                                    item_description  \n",
       "0                                             Size 7  \n",
       "1  25 pcs NEW 7.5\"x12\" Kraft Bubble Mailers Lined...  \n",
       "2  Brand new coach bag. Bought for [rm] at a Coac...  \n",
       "3  -floral kimono -never worn -lightweight and pe...  \n",
       "4  Rediscovering life after the loss of a loved o...  \n",
       "5  One Absolut Vodka in Pink for iPhone 6 Plus an...  \n",
       "6  Two vintage Cameo pieces. 1. Silver metal Lock...  \n",
       "7  Brand new Price firm No trades Box included wi...  \n",
       "8  Brand new No box 100% authentic Firm price NO ...  \n",
       "9  All new. 12 pcs makeup brushes and one Silicon...  "
      ]
     },
     "execution_count": 7,
     "metadata": {},
     "output_type": "execute_result"
    }
   ],
   "source": [
    "test_dummy = pd.read_csv('test.tsv', sep='\\t')\n",
    "\n",
    "print(test_dummy.shape)\n",
    "test_dummy.head(10)"
   ]
  },
  {
   "cell_type": "code",
   "execution_count": 8,
   "id": "chinese-democracy",
   "metadata": {
    "_kg_hide-input": true,
    "execution": {
     "iopub.execute_input": "2021-07-05T02:24:45.744029Z",
     "iopub.status.busy": "2021-07-05T02:24:45.743083Z",
     "iopub.status.idle": "2021-07-05T02:24:45.746584Z",
     "shell.execute_reply": "2021-07-05T02:24:45.746977Z",
     "shell.execute_reply.started": "2021-07-05T01:55:03.133556Z"
    },
    "papermill": {
     "duration": 0.0654,
     "end_time": "2021-07-05T02:24:45.747126",
     "exception": false,
     "start_time": "2021-07-05T02:24:45.681726",
     "status": "completed"
    },
    "tags": []
   },
   "outputs": [
    {
     "data": {
      "text/html": [
       "<div>\n",
       "<style scoped>\n",
       "    .dataframe tbody tr th:only-of-type {\n",
       "        vertical-align: middle;\n",
       "    }\n",
       "\n",
       "    .dataframe tbody tr th {\n",
       "        vertical-align: top;\n",
       "    }\n",
       "\n",
       "    .dataframe thead th {\n",
       "        text-align: right;\n",
       "    }\n",
       "</style>\n",
       "<table border=\"1\" class=\"dataframe\">\n",
       "  <thead>\n",
       "    <tr style=\"text-align: right;\">\n",
       "      <th></th>\n",
       "      <th>カラム</th>\n",
       "      <th>意味</th>\n",
       "    </tr>\n",
       "  </thead>\n",
       "  <tbody>\n",
       "    <tr>\n",
       "      <th>0</th>\n",
       "      <td>test_id</td>\n",
       "      <td>商品ID</td>\n",
       "    </tr>\n",
       "    <tr>\n",
       "      <th>1</th>\n",
       "      <td>name</td>\n",
       "      <td>商品名</td>\n",
       "    </tr>\n",
       "    <tr>\n",
       "      <th>2</th>\n",
       "      <td>item_condition_id</td>\n",
       "      <td>商品の状態</td>\n",
       "    </tr>\n",
       "    <tr>\n",
       "      <th>3</th>\n",
       "      <td>category_name</td>\n",
       "      <td>カテゴリー名</td>\n",
       "    </tr>\n",
       "    <tr>\n",
       "      <th>4</th>\n",
       "      <td>brand_name</td>\n",
       "      <td>ブランド名</td>\n",
       "    </tr>\n",
       "    <tr>\n",
       "      <th>5</th>\n",
       "      <td>shipping</td>\n",
       "      <td>送料が売手負担かどうか</td>\n",
       "    </tr>\n",
       "    <tr>\n",
       "      <th>6</th>\n",
       "      <td>item_description</td>\n",
       "      <td>商品説明</td>\n",
       "    </tr>\n",
       "  </tbody>\n",
       "</table>\n",
       "</div>"
      ],
      "text/plain": [
       "                 カラム           意味\n",
       "0            test_id         商品ID\n",
       "1               name          商品名\n",
       "2  item_condition_id        商品の状態\n",
       "3      category_name       カテゴリー名\n",
       "4         brand_name        ブランド名\n",
       "5           shipping  送料が売手負担かどうか\n",
       "6   item_description         商品説明"
      ]
     },
     "execution_count": 8,
     "metadata": {},
     "output_type": "execute_result"
    }
   ],
   "source": [
    "pd.DataFrame([['test_id', '商品ID'],\n",
    "              ['name', '商品名'],\n",
    "              ['item_condition_id', '商品の状態'],\n",
    "              ['category_name', 'カテゴリー名'],\n",
    "              ['brand_name', 'ブランド名'],\n",
    "              ['shipping', '送料が売手負担かどうか'],['item_description', '商品説明']],\n",
    "              columns=['カラム', '意味'])"
   ]
  },
  {
   "cell_type": "code",
   "execution_count": 9,
   "id": "pointed-eleven",
   "metadata": {
    "execution": {
     "iopub.execute_input": "2021-07-05T02:24:45.855916Z",
     "iopub.status.busy": "2021-07-05T02:24:45.855314Z",
     "iopub.status.idle": "2021-07-05T02:24:59.334474Z",
     "shell.execute_reply": "2021-07-05T02:24:59.333855Z",
     "shell.execute_reply.started": "2021-07-05T01:55:03.153080Z"
    },
    "papermill": {
     "duration": 13.535577,
     "end_time": "2021-07-05T02:24:59.334615",
     "exception": false,
     "start_time": "2021-07-05T02:24:45.799038",
     "status": "completed"
    },
    "tags": []
   },
   "outputs": [
    {
     "name": "stdout",
     "output_type": "stream",
     "text": [
      "(3460725, 7)\n"
     ]
    },
    {
     "data": {
      "text/html": [
       "<div>\n",
       "<style scoped>\n",
       "    .dataframe tbody tr th:only-of-type {\n",
       "        vertical-align: middle;\n",
       "    }\n",
       "\n",
       "    .dataframe tbody tr th {\n",
       "        vertical-align: top;\n",
       "    }\n",
       "\n",
       "    .dataframe thead th {\n",
       "        text-align: right;\n",
       "    }\n",
       "</style>\n",
       "<table border=\"1\" class=\"dataframe\">\n",
       "  <thead>\n",
       "    <tr style=\"text-align: right;\">\n",
       "      <th></th>\n",
       "      <th>test_id</th>\n",
       "      <th>name</th>\n",
       "      <th>item_condition_id</th>\n",
       "      <th>category_name</th>\n",
       "      <th>brand_name</th>\n",
       "      <th>shipping</th>\n",
       "      <th>item_description</th>\n",
       "    </tr>\n",
       "  </thead>\n",
       "  <tbody>\n",
       "    <tr>\n",
       "      <th>0</th>\n",
       "      <td>0</td>\n",
       "      <td>Breast cancer \"I fight like a girl\" ring</td>\n",
       "      <td>1</td>\n",
       "      <td>Women/Jewelry/Rings</td>\n",
       "      <td>NaN</td>\n",
       "      <td>1</td>\n",
       "      <td>Size 7</td>\n",
       "    </tr>\n",
       "    <tr>\n",
       "      <th>1</th>\n",
       "      <td>1</td>\n",
       "      <td>25 pcs NEW 7.5\"x12\" Kraft Bubble Mailers</td>\n",
       "      <td>1</td>\n",
       "      <td>Other/Office supplies/Shipping Supplies</td>\n",
       "      <td>NaN</td>\n",
       "      <td>1</td>\n",
       "      <td>25 pcs NEW 7.5\"x12\" Kraft Bubble Mailers Lined...</td>\n",
       "    </tr>\n",
       "    <tr>\n",
       "      <th>2</th>\n",
       "      <td>2</td>\n",
       "      <td>Coach bag</td>\n",
       "      <td>1</td>\n",
       "      <td>Vintage &amp; Collectibles/Bags and Purses/Handbag</td>\n",
       "      <td>Coach</td>\n",
       "      <td>1</td>\n",
       "      <td>Brand new coach bag. Bought for [rm] at a Coac...</td>\n",
       "    </tr>\n",
       "    <tr>\n",
       "      <th>3</th>\n",
       "      <td>3</td>\n",
       "      <td>Floral Kimono</td>\n",
       "      <td>2</td>\n",
       "      <td>Women/Sweaters/Cardigan</td>\n",
       "      <td>NaN</td>\n",
       "      <td>0</td>\n",
       "      <td>-floral kimono -never worn -lightweight and pe...</td>\n",
       "    </tr>\n",
       "    <tr>\n",
       "      <th>4</th>\n",
       "      <td>4</td>\n",
       "      <td>Life after Death</td>\n",
       "      <td>3</td>\n",
       "      <td>Other/Books/Religion &amp; Spirituality</td>\n",
       "      <td>NaN</td>\n",
       "      <td>1</td>\n",
       "      <td>Rediscovering life after the loss of a loved o...</td>\n",
       "    </tr>\n",
       "    <tr>\n",
       "      <th>5</th>\n",
       "      <td>5</td>\n",
       "      <td>iPhone 6 Plus or 6s Plus Vodka pink case</td>\n",
       "      <td>1</td>\n",
       "      <td>Electronics/Cell Phones &amp; Accessories/Cases, C...</td>\n",
       "      <td>NaN</td>\n",
       "      <td>1</td>\n",
       "      <td>One Absolut Vodka in Pink for iPhone 6 Plus an...</td>\n",
       "    </tr>\n",
       "    <tr>\n",
       "      <th>6</th>\n",
       "      <td>6</td>\n",
       "      <td>Vintage Cameo Pendant &amp; Brooch Pin</td>\n",
       "      <td>3</td>\n",
       "      <td>Women/Jewelry/Necklaces</td>\n",
       "      <td>Vintage</td>\n",
       "      <td>1</td>\n",
       "      <td>Two vintage Cameo pieces. 1. Silver metal Lock...</td>\n",
       "    </tr>\n",
       "    <tr>\n",
       "      <th>7</th>\n",
       "      <td>7</td>\n",
       "      <td>Rose Gold Stainless Steel Quartz Watch</td>\n",
       "      <td>1</td>\n",
       "      <td>Women/Women's Accessories/Watches</td>\n",
       "      <td>NaN</td>\n",
       "      <td>1</td>\n",
       "      <td>Brand new Price firm No trades Box included wi...</td>\n",
       "    </tr>\n",
       "    <tr>\n",
       "      <th>8</th>\n",
       "      <td>8</td>\n",
       "      <td>Daisy Marc Jacobs 3.4oz</td>\n",
       "      <td>3</td>\n",
       "      <td>Beauty/Fragrance/Women</td>\n",
       "      <td>MARC JACOBS</td>\n",
       "      <td>0</td>\n",
       "      <td>Brand new No box 100% authentic Firm price NO ...</td>\n",
       "    </tr>\n",
       "    <tr>\n",
       "      <th>9</th>\n",
       "      <td>9</td>\n",
       "      <td>Rose Brushes and Silicone Sponge</td>\n",
       "      <td>1</td>\n",
       "      <td>Beauty/Tools &amp; Accessories/Makeup Brushes &amp; Tools</td>\n",
       "      <td>NaN</td>\n",
       "      <td>1</td>\n",
       "      <td>All new. 12 pcs makeup brushes and one Silicon...</td>\n",
       "    </tr>\n",
       "  </tbody>\n",
       "</table>\n",
       "</div>"
      ],
      "text/plain": [
       "   test_id                                      name  item_condition_id  \\\n",
       "0        0  Breast cancer \"I fight like a girl\" ring                  1   \n",
       "1        1  25 pcs NEW 7.5\"x12\" Kraft Bubble Mailers                  1   \n",
       "2        2                                 Coach bag                  1   \n",
       "3        3                             Floral Kimono                  2   \n",
       "4        4                          Life after Death                  3   \n",
       "5        5  iPhone 6 Plus or 6s Plus Vodka pink case                  1   \n",
       "6        6        Vintage Cameo Pendant & Brooch Pin                  3   \n",
       "7        7    Rose Gold Stainless Steel Quartz Watch                  1   \n",
       "8        8                   Daisy Marc Jacobs 3.4oz                  3   \n",
       "9        9          Rose Brushes and Silicone Sponge                  1   \n",
       "\n",
       "                                       category_name   brand_name  shipping  \\\n",
       "0                                Women/Jewelry/Rings          NaN         1   \n",
       "1            Other/Office supplies/Shipping Supplies          NaN         1   \n",
       "2     Vintage & Collectibles/Bags and Purses/Handbag        Coach         1   \n",
       "3                            Women/Sweaters/Cardigan          NaN         0   \n",
       "4                Other/Books/Religion & Spirituality          NaN         1   \n",
       "5  Electronics/Cell Phones & Accessories/Cases, C...          NaN         1   \n",
       "6                            Women/Jewelry/Necklaces      Vintage         1   \n",
       "7                  Women/Women's Accessories/Watches          NaN         1   \n",
       "8                             Beauty/Fragrance/Women  MARC JACOBS         0   \n",
       "9  Beauty/Tools & Accessories/Makeup Brushes & Tools          NaN         1   \n",
       "\n",
       "                                    item_description  \n",
       "0                                             Size 7  \n",
       "1  25 pcs NEW 7.5\"x12\" Kraft Bubble Mailers Lined...  \n",
       "2  Brand new coach bag. Bought for [rm] at a Coac...  \n",
       "3  -floral kimono -never worn -lightweight and pe...  \n",
       "4  Rediscovering life after the loss of a loved o...  \n",
       "5  One Absolut Vodka in Pink for iPhone 6 Plus an...  \n",
       "6  Two vintage Cameo pieces. 1. Silver metal Lock...  \n",
       "7  Brand new Price firm No trades Box included wi...  \n",
       "8  Brand new No box 100% authentic Firm price NO ...  \n",
       "9  All new. 12 pcs makeup brushes and one Silicon...  "
      ]
     },
     "execution_count": 9,
     "metadata": {},
     "output_type": "execute_result"
    }
   ],
   "source": [
    "test = pd.read_csv('test_stg2.tsv', sep='\\t')\n",
    "\n",
    "print(test.shape)\n",
    "test.head(10)"
   ]
  },
  {
   "cell_type": "code",
   "execution_count": 10,
   "id": "surprised-range",
   "metadata": {
    "_kg_hide-input": true,
    "execution": {
     "iopub.execute_input": "2021-07-05T02:24:59.451482Z",
     "iopub.status.busy": "2021-07-05T02:24:59.450320Z",
     "iopub.status.idle": "2021-07-05T02:24:59.454301Z",
     "shell.execute_reply": "2021-07-05T02:24:59.453784Z",
     "shell.execute_reply.started": "2021-07-05T01:55:18.849063Z"
    },
    "papermill": {
     "duration": 0.066609,
     "end_time": "2021-07-05T02:24:59.454445",
     "exception": false,
     "start_time": "2021-07-05T02:24:59.387836",
     "status": "completed"
    },
    "tags": []
   },
   "outputs": [
    {
     "data": {
      "text/html": [
       "<div>\n",
       "<style scoped>\n",
       "    .dataframe tbody tr th:only-of-type {\n",
       "        vertical-align: middle;\n",
       "    }\n",
       "\n",
       "    .dataframe tbody tr th {\n",
       "        vertical-align: top;\n",
       "    }\n",
       "\n",
       "    .dataframe thead th {\n",
       "        text-align: right;\n",
       "    }\n",
       "</style>\n",
       "<table border=\"1\" class=\"dataframe\">\n",
       "  <thead>\n",
       "    <tr style=\"text-align: right;\">\n",
       "      <th></th>\n",
       "      <th>カラム</th>\n",
       "      <th>意味</th>\n",
       "    </tr>\n",
       "  </thead>\n",
       "  <tbody>\n",
       "    <tr>\n",
       "      <th>0</th>\n",
       "      <td>test_id</td>\n",
       "      <td>商品ID</td>\n",
       "    </tr>\n",
       "    <tr>\n",
       "      <th>1</th>\n",
       "      <td>name</td>\n",
       "      <td>商品名</td>\n",
       "    </tr>\n",
       "    <tr>\n",
       "      <th>2</th>\n",
       "      <td>item_condition_id</td>\n",
       "      <td>商品の状態</td>\n",
       "    </tr>\n",
       "    <tr>\n",
       "      <th>3</th>\n",
       "      <td>category_name</td>\n",
       "      <td>カテゴリー名</td>\n",
       "    </tr>\n",
       "    <tr>\n",
       "      <th>4</th>\n",
       "      <td>brand_name</td>\n",
       "      <td>ブランド名</td>\n",
       "    </tr>\n",
       "    <tr>\n",
       "      <th>5</th>\n",
       "      <td>shipping</td>\n",
       "      <td>送料が売手負担かどうか</td>\n",
       "    </tr>\n",
       "    <tr>\n",
       "      <th>6</th>\n",
       "      <td>item_description</td>\n",
       "      <td>商品説明</td>\n",
       "    </tr>\n",
       "  </tbody>\n",
       "</table>\n",
       "</div>"
      ],
      "text/plain": [
       "                 カラム           意味\n",
       "0            test_id         商品ID\n",
       "1               name          商品名\n",
       "2  item_condition_id        商品の状態\n",
       "3      category_name       カテゴリー名\n",
       "4         brand_name        ブランド名\n",
       "5           shipping  送料が売手負担かどうか\n",
       "6   item_description         商品説明"
      ]
     },
     "execution_count": 10,
     "metadata": {},
     "output_type": "execute_result"
    }
   ],
   "source": [
    "pd.DataFrame([['test_id', '商品ID'],\n",
    "              ['name', '商品名'],\n",
    "              ['item_condition_id', '商品の状態'],\n",
    "              ['category_name', 'カテゴリー名'],\n",
    "              ['brand_name', 'ブランド名'],\n",
    "              ['shipping', '送料が売手負担かどうか'],['item_description', '商品説明']],\n",
    "              columns=['カラム', '意味'])"
   ]
  },
  {
   "cell_type": "code",
   "execution_count": 11,
   "id": "governmental-location",
   "metadata": {
    "execution": {
     "iopub.execute_input": "2021-07-05T02:24:59.699325Z",
     "iopub.status.busy": "2021-07-05T02:24:59.698405Z",
     "iopub.status.idle": "2021-07-05T02:24:59.703424Z",
     "shell.execute_reply": "2021-07-05T02:24:59.704036Z",
     "shell.execute_reply.started": "2021-07-05T01:55:18.866917Z"
    },
    "papermill": {
     "duration": 0.191432,
     "end_time": "2021-07-05T02:24:59.704238",
     "exception": false,
     "start_time": "2021-07-05T02:24:59.512806",
     "status": "completed"
    },
    "tags": []
   },
   "outputs": [
    {
     "data": {
      "text/plain": [
       "120"
      ]
     },
     "execution_count": 11,
     "metadata": {},
     "output_type": "execute_result"
    }
   ],
   "source": [
    "del test_dummy\n",
    "gc.collect()"
   ]
  },
  {
   "cell_type": "markdown",
   "id": "sticky-brooks",
   "metadata": {
    "papermill": {
     "duration": 0.066844,
     "end_time": "2021-07-05T02:24:59.840182",
     "exception": false,
     "start_time": "2021-07-05T02:24:59.773338",
     "status": "completed"
    },
    "tags": []
   },
   "source": [
    "# Analytics"
   ]
  },
  {
   "cell_type": "code",
   "execution_count": 12,
   "id": "wanted-sensitivity",
   "metadata": {
    "execution": {
     "iopub.execute_input": "2021-07-05T02:24:59.983099Z",
     "iopub.status.busy": "2021-07-05T02:24:59.982369Z",
     "iopub.status.idle": "2021-07-05T02:25:00.289572Z",
     "shell.execute_reply": "2021-07-05T02:25:00.290174Z",
     "shell.execute_reply.started": "2021-07-05T01:55:19.003410Z"
    },
    "papermill": {
     "duration": 0.381034,
     "end_time": "2021-07-05T02:25:00.290409",
     "exception": false,
     "start_time": "2021-07-05T02:24:59.909375",
     "status": "completed"
    },
    "tags": []
   },
   "outputs": [
    {
     "name": "stdout",
     "output_type": "stream",
     "text": [
      "<class 'pandas.core.frame.DataFrame'>\n",
      "RangeIndex: 1482535 entries, 0 to 1482534\n",
      "Data columns (total 8 columns):\n",
      " #   Column             Non-Null Count    Dtype  \n",
      "---  ------             --------------    -----  \n",
      " 0   train_id           1482535 non-null  int64  \n",
      " 1   name               1482535 non-null  object \n",
      " 2   item_condition_id  1482535 non-null  int64  \n",
      " 3   category_name      1476208 non-null  object \n",
      " 4   brand_name         849853 non-null   object \n",
      " 5   price              1482535 non-null  float64\n",
      " 6   shipping           1482535 non-null  int64  \n",
      " 7   item_description   1482531 non-null  object \n",
      "dtypes: float64(1), int64(3), object(4)\n",
      "memory usage: 90.5+ MB\n"
     ]
    }
   ],
   "source": [
    "train.info()"
   ]
  },
  {
   "cell_type": "code",
   "execution_count": 13,
   "id": "recovered-iceland",
   "metadata": {
    "execution": {
     "iopub.execute_input": "2021-07-05T02:25:00.414700Z",
     "iopub.status.busy": "2021-07-05T02:25:00.413863Z",
     "iopub.status.idle": "2021-07-05T02:25:03.159704Z",
     "shell.execute_reply": "2021-07-05T02:25:03.159120Z",
     "shell.execute_reply.started": "2021-07-05T01:55:19.590547Z"
    },
    "papermill": {
     "duration": 2.803566,
     "end_time": "2021-07-05T02:25:03.159842",
     "exception": false,
     "start_time": "2021-07-05T02:25:00.356276",
     "status": "completed"
    },
    "tags": []
   },
   "outputs": [
    {
     "data": {
      "text/plain": [
       "train_id             1482535\n",
       "name                 1225273\n",
       "item_condition_id          5\n",
       "category_name           1287\n",
       "brand_name              4809\n",
       "price                    828\n",
       "shipping                   2\n",
       "item_description     1281426\n",
       "dtype: int64"
      ]
     },
     "execution_count": 13,
     "metadata": {},
     "output_type": "execute_result"
    }
   ],
   "source": [
    "train.nunique()"
   ]
  },
  {
   "cell_type": "code",
   "execution_count": 14,
   "id": "tropical-climb",
   "metadata": {
    "execution": {
     "iopub.execute_input": "2021-07-05T02:25:03.296264Z",
     "iopub.status.busy": "2021-07-05T02:25:03.295656Z",
     "iopub.status.idle": "2021-07-05T02:25:03.599154Z",
     "shell.execute_reply": "2021-07-05T02:25:03.598584Z",
     "shell.execute_reply.started": "2021-07-05T01:55:22.173587Z"
    },
    "papermill": {
     "duration": 0.365422,
     "end_time": "2021-07-05T02:25:03.599290",
     "exception": false,
     "start_time": "2021-07-05T02:25:03.233868",
     "status": "completed"
    },
    "tags": []
   },
   "outputs": [
    {
     "data": {
      "text/plain": [
       "train_id                  0\n",
       "name                      0\n",
       "item_condition_id         0\n",
       "category_name          6327\n",
       "brand_name           632682\n",
       "price                     0\n",
       "shipping                  0\n",
       "item_description          4\n",
       "dtype: int64"
      ]
     },
     "execution_count": 14,
     "metadata": {},
     "output_type": "execute_result"
    }
   ],
   "source": [
    "train.isnull().sum()"
   ]
  },
  {
   "cell_type": "code",
   "execution_count": 15,
   "id": "present-grenada",
   "metadata": {
    "execution": {
     "iopub.execute_input": "2021-07-05T02:25:03.714219Z",
     "iopub.status.busy": "2021-07-05T02:25:03.713577Z",
     "iopub.status.idle": "2021-07-05T02:25:03.841741Z",
     "shell.execute_reply": "2021-07-05T02:25:03.841137Z",
     "shell.execute_reply.started": "2021-07-05T01:55:22.727248Z"
    },
    "papermill": {
     "duration": 0.187874,
     "end_time": "2021-07-05T02:25:03.841877",
     "exception": false,
     "start_time": "2021-07-05T02:25:03.654003",
     "status": "completed"
    },
    "tags": []
   },
   "outputs": [
    {
     "data": {
      "text/html": [
       "<div>\n",
       "<style scoped>\n",
       "    .dataframe tbody tr th:only-of-type {\n",
       "        vertical-align: middle;\n",
       "    }\n",
       "\n",
       "    .dataframe tbody tr th {\n",
       "        vertical-align: top;\n",
       "    }\n",
       "\n",
       "    .dataframe thead th {\n",
       "        text-align: right;\n",
       "    }\n",
       "</style>\n",
       "<table border=\"1\" class=\"dataframe\">\n",
       "  <thead>\n",
       "    <tr style=\"text-align: right;\">\n",
       "      <th></th>\n",
       "      <th>train_id</th>\n",
       "      <th>item_condition_id</th>\n",
       "      <th>price</th>\n",
       "      <th>shipping</th>\n",
       "    </tr>\n",
       "  </thead>\n",
       "  <tbody>\n",
       "    <tr>\n",
       "      <th>train_id</th>\n",
       "      <td>1.000000</td>\n",
       "      <td>-0.000113</td>\n",
       "      <td>0.000478</td>\n",
       "      <td>0.000472</td>\n",
       "    </tr>\n",
       "    <tr>\n",
       "      <th>item_condition_id</th>\n",
       "      <td>-0.000113</td>\n",
       "      <td>1.000000</td>\n",
       "      <td>-0.000807</td>\n",
       "      <td>-0.191154</td>\n",
       "    </tr>\n",
       "    <tr>\n",
       "      <th>price</th>\n",
       "      <td>0.000478</td>\n",
       "      <td>-0.000807</td>\n",
       "      <td>1.000000</td>\n",
       "      <td>-0.097211</td>\n",
       "    </tr>\n",
       "    <tr>\n",
       "      <th>shipping</th>\n",
       "      <td>0.000472</td>\n",
       "      <td>-0.191154</td>\n",
       "      <td>-0.097211</td>\n",
       "      <td>1.000000</td>\n",
       "    </tr>\n",
       "  </tbody>\n",
       "</table>\n",
       "</div>"
      ],
      "text/plain": [
       "                   train_id  item_condition_id     price  shipping\n",
       "train_id           1.000000          -0.000113  0.000478  0.000472\n",
       "item_condition_id -0.000113           1.000000 -0.000807 -0.191154\n",
       "price              0.000478          -0.000807  1.000000 -0.097211\n",
       "shipping           0.000472          -0.191154 -0.097211  1.000000"
      ]
     },
     "execution_count": 15,
     "metadata": {},
     "output_type": "execute_result"
    }
   ],
   "source": [
    "train.corr()"
   ]
  },
  {
   "cell_type": "code",
   "execution_count": 16,
   "id": "instructional-beach",
   "metadata": {
    "execution": {
     "iopub.execute_input": "2021-07-05T02:25:03.959418Z",
     "iopub.status.busy": "2021-07-05T02:25:03.958160Z",
     "iopub.status.idle": "2021-07-05T02:25:04.491406Z",
     "shell.execute_reply": "2021-07-05T02:25:04.490893Z",
     "shell.execute_reply.started": "2021-07-05T01:55:22.849455Z"
    },
    "papermill": {
     "duration": 0.593983,
     "end_time": "2021-07-05T02:25:04.491558",
     "exception": false,
     "start_time": "2021-07-05T02:25:03.897575",
     "status": "completed"
    },
    "tags": []
   },
   "outputs": [
    {
     "data": {
      "text/plain": [
       "<AxesSubplot:>"
      ]
     },
     "execution_count": 16,
     "metadata": {},
     "output_type": "execute_result"
    },
    {
     "data": {
      "image/png": "[encoded data removed]",
      "text/plain": [
       "<Figure size 432x288 with 2 Axes>"
      ]
     },
     "metadata": {
      "needs_background": "light"
     },
     "output_type": "display_data"
    }
   ],
   "source": [
    "sns.heatmap(train.corr(), annot=True, fmt='.2f')"
   ]
  },
  {
   "cell_type": "code",
   "execution_count": 17,
   "id": "equal-acceptance",
   "metadata": {
    "execution": {
     "iopub.execute_input": "2021-07-05T02:25:04.716713Z",
     "iopub.status.busy": "2021-07-05T02:25:04.715847Z",
     "iopub.status.idle": "2021-07-05T02:25:04.978985Z",
     "shell.execute_reply": "2021-07-05T02:25:04.979614Z",
     "shell.execute_reply.started": "2021-07-05T01:55:23.275932Z"
    },
    "papermill": {
     "duration": 0.359093,
     "end_time": "2021-07-05T02:25:04.980123",
     "exception": false,
     "start_time": "2021-07-05T02:25:04.621030",
     "status": "completed"
    },
    "tags": []
   },
   "outputs": [
    {
     "data": {
      "text/html": [
       "<div>\n",
       "<style scoped>\n",
       "    .dataframe tbody tr th:only-of-type {\n",
       "        vertical-align: middle;\n",
       "    }\n",
       "\n",
       "    .dataframe tbody tr th {\n",
       "        vertical-align: top;\n",
       "    }\n",
       "\n",
       "    .dataframe thead th {\n",
       "        text-align: right;\n",
       "    }\n",
       "</style>\n",
       "<table border=\"1\" class=\"dataframe\">\n",
       "  <thead>\n",
       "    <tr style=\"text-align: right;\">\n",
       "      <th></th>\n",
       "      <th>train_id</th>\n",
       "      <th>item_condition_id</th>\n",
       "      <th>price</th>\n",
       "      <th>shipping</th>\n",
       "    </tr>\n",
       "  </thead>\n",
       "  <tbody>\n",
       "    <tr>\n",
       "      <th>count</th>\n",
       "      <td>1.482535e+06</td>\n",
       "      <td>1.482535e+06</td>\n",
       "      <td>1.482535e+06</td>\n",
       "      <td>1.482535e+06</td>\n",
       "    </tr>\n",
       "    <tr>\n",
       "      <th>mean</th>\n",
       "      <td>7.412670e+05</td>\n",
       "      <td>1.907380e+00</td>\n",
       "      <td>2.673752e+01</td>\n",
       "      <td>4.472744e-01</td>\n",
       "    </tr>\n",
       "    <tr>\n",
       "      <th>std</th>\n",
       "      <td>4.279711e+05</td>\n",
       "      <td>9.031586e-01</td>\n",
       "      <td>3.858607e+01</td>\n",
       "      <td>4.972124e-01</td>\n",
       "    </tr>\n",
       "    <tr>\n",
       "      <th>min</th>\n",
       "      <td>0.000000e+00</td>\n",
       "      <td>1.000000e+00</td>\n",
       "      <td>0.000000e+00</td>\n",
       "      <td>0.000000e+00</td>\n",
       "    </tr>\n",
       "    <tr>\n",
       "      <th>25%</th>\n",
       "      <td>3.706335e+05</td>\n",
       "      <td>1.000000e+00</td>\n",
       "      <td>1.000000e+01</td>\n",
       "      <td>0.000000e+00</td>\n",
       "    </tr>\n",
       "    <tr>\n",
       "      <th>50%</th>\n",
       "      <td>7.412670e+05</td>\n",
       "      <td>2.000000e+00</td>\n",
       "      <td>1.700000e+01</td>\n",
       "      <td>0.000000e+00</td>\n",
       "    </tr>\n",
       "    <tr>\n",
       "      <th>75%</th>\n",
       "      <td>1.111900e+06</td>\n",
       "      <td>3.000000e+00</td>\n",
       "      <td>2.900000e+01</td>\n",
       "      <td>1.000000e+00</td>\n",
       "    </tr>\n",
       "    <tr>\n",
       "      <th>max</th>\n",
       "      <td>1.482534e+06</td>\n",
       "      <td>5.000000e+00</td>\n",
       "      <td>2.009000e+03</td>\n",
       "      <td>1.000000e+00</td>\n",
       "    </tr>\n",
       "  </tbody>\n",
       "</table>\n",
       "</div>"
      ],
      "text/plain": [
       "           train_id  item_condition_id         price      shipping\n",
       "count  1.482535e+06       1.482535e+06  1.482535e+06  1.482535e+06\n",
       "mean   7.412670e+05       1.907380e+00  2.673752e+01  4.472744e-01\n",
       "std    4.279711e+05       9.031586e-01  3.858607e+01  4.972124e-01\n",
       "min    0.000000e+00       1.000000e+00  0.000000e+00  0.000000e+00\n",
       "25%    3.706335e+05       1.000000e+00  1.000000e+01  0.000000e+00\n",
       "50%    7.412670e+05       2.000000e+00  1.700000e+01  0.000000e+00\n",
       "75%    1.111900e+06       3.000000e+00  2.900000e+01  1.000000e+00\n",
       "max    1.482534e+06       5.000000e+00  2.009000e+03  1.000000e+00"
      ]
     },
     "execution_count": 17,
     "metadata": {},
     "output_type": "execute_result"
    }
   ],
   "source": [
    "train.describe()"
   ]
  },
  {
   "cell_type": "markdown",
   "id": "unknown-stereo",
   "metadata": {
    "papermill": {
     "duration": 0.07664,
     "end_time": "2021-07-05T02:25:05.121364",
     "exception": false,
     "start_time": "2021-07-05T02:25:05.044724",
     "status": "completed"
    },
    "tags": []
   },
   "source": [
    "# Visualization"
   ]
  },
  {
   "cell_type": "code",
   "execution_count": 18,
   "id": "beneficial-qatar",
   "metadata": {
    "execution": {
     "iopub.execute_input": "2021-07-05T02:25:05.288843Z",
     "iopub.status.busy": "2021-07-05T02:25:05.288091Z",
     "iopub.status.idle": "2021-07-05T02:25:05.301922Z",
     "shell.execute_reply": "2021-07-05T02:25:05.303443Z",
     "shell.execute_reply.started": "2021-07-05T01:55:23.467654Z"
    },
    "papermill": {
     "duration": 0.105015,
     "end_time": "2021-07-05T02:25:05.303711",
     "exception": false,
     "start_time": "2021-07-05T02:25:05.198696",
     "status": "completed"
    },
    "tags": []
   },
   "outputs": [],
   "source": [
    "sns.set()"
   ]
  },
  {
   "cell_type": "code",
   "execution_count": 19,
   "id": "comprehensive-classic",
   "metadata": {
    "execution": {
     "iopub.execute_input": "2021-07-05T02:25:05.455013Z",
     "iopub.status.busy": "2021-07-05T02:25:05.454152Z",
     "iopub.status.idle": "2021-07-05T02:25:07.428719Z",
     "shell.execute_reply": "2021-07-05T02:25:07.429663Z",
     "shell.execute_reply.started": "2021-07-05T01:55:23.476320Z"
    },
    "papermill": {
     "duration": 2.045665,
     "end_time": "2021-07-05T02:25:07.429852",
     "exception": false,
     "start_time": "2021-07-05T02:25:05.384187",
     "status": "completed"
    },
    "tags": []
   },
   "outputs": [
    {
     "data": {
      "image/png": "[encoded data removed]",
      "text/plain": [
       "<Figure size 576x288 with 1 Axes>"
      ]
     },
     "metadata": {},
     "output_type": "display_data"
    }
   ],
   "source": [
    "train = train.drop(train[(train['price'] >= 200)].index, axis=0)\n",
    "\n",
    "fig, ax = plt.subplots(1, 1, figsize=(8, 4))\n",
    "sns.histplot(train['price'], bins=50, ax=ax)\n",
    "plt.show()"
   ]
  },
  {
   "cell_type": "code",
   "execution_count": 20,
   "id": "capable-permission",
   "metadata": {
    "execution": {
     "iopub.execute_input": "2021-07-05T02:25:07.552659Z",
     "iopub.status.busy": "2021-07-05T02:25:07.551822Z",
     "iopub.status.idle": "2021-07-05T02:25:08.658616Z",
     "shell.execute_reply": "2021-07-05T02:25:08.659103Z",
     "shell.execute_reply.started": "2021-07-05T01:55:25.050002Z"
    },
    "papermill": {
     "duration": 1.168658,
     "end_time": "2021-07-05T02:25:08.659267",
     "exception": false,
     "start_time": "2021-07-05T02:25:07.490609",
     "status": "completed"
    },
    "tags": []
   },
   "outputs": [
    {
     "data": {
      "image/png": "[encoded data removed]",
      "text/plain": [
       "<Figure size 576x288 with 1 Axes>"
      ]
     },
     "metadata": {},
     "output_type": "display_data"
    }
   ],
   "source": [
    "train['log_price'] = np.log1p(train['price'])\n",
    "\n",
    "fig, ax = plt.subplots(1, 1, figsize=(8, 4))\n",
    "sns.histplot(train['log_price'], bins=50, ax=ax)\n",
    "plt.show()"
   ]
  },
  {
   "cell_type": "code",
   "execution_count": 21,
   "id": "filled-conservation",
   "metadata": {
    "execution": {
     "iopub.execute_input": "2021-07-05T02:25:08.776043Z",
     "iopub.status.busy": "2021-07-05T02:25:08.775487Z",
     "iopub.status.idle": "2021-07-05T02:25:09.131722Z",
     "shell.execute_reply": "2021-07-05T02:25:09.132141Z",
     "shell.execute_reply.started": "2021-07-05T01:55:26.443242Z"
    },
    "papermill": {
     "duration": 0.415819,
     "end_time": "2021-07-05T02:25:09.132321",
     "exception": false,
     "start_time": "2021-07-05T02:25:08.716502",
     "status": "completed"
    },
    "tags": []
   },
   "outputs": [
    {
     "data": {
      "text/plain": [
       "6075"
      ]
     },
     "execution_count": 21,
     "metadata": {},
     "output_type": "execute_result"
    }
   ],
   "source": [
    "train = train.drop('log_price', axis=1)\n",
    "gc.collect()"
   ]
  },
  {
   "cell_type": "code",
   "execution_count": 22,
   "id": "funded-julian",
   "metadata": {
    "execution": {
     "iopub.execute_input": "2021-07-05T02:25:09.249987Z",
     "iopub.status.busy": "2021-07-05T02:25:09.249436Z",
     "iopub.status.idle": "2021-07-05T02:25:16.461037Z",
     "shell.execute_reply": "2021-07-05T02:25:16.460558Z",
     "shell.execute_reply.started": "2021-07-05T01:55:26.717142Z"
    },
    "papermill": {
     "duration": 7.271445,
     "end_time": "2021-07-05T02:25:16.461173",
     "exception": false,
     "start_time": "2021-07-05T02:25:09.189728",
     "status": "completed"
    },
    "tags": []
   },
   "outputs": [
    {
     "data": {
      "text/plain": [
       "<matplotlib.legend.Legend at 0x7fc8bf0562d0>"
      ]
     },
     "execution_count": 22,
     "metadata": {},
     "output_type": "execute_result"
    },
    {
     "data": {
      "image/png": "[encoded data removed]",
      "text/plain": [
       "<Figure size 576x288 with 1 Axes>"
      ]
     },
     "metadata": {},
     "output_type": "display_data"
    }
   ],
   "source": [
    "fig = sns.FacetGrid(train, hue='shipping', height=4, aspect=2)\n",
    "fig.map(sns.kdeplot, 'price', shade=True)\n",
    "plt.legend()"
   ]
  },
  {
   "cell_type": "code",
   "execution_count": 23,
   "id": "sexual-overall",
   "metadata": {
    "execution": {
     "iopub.execute_input": "2021-07-05T02:25:16.584698Z",
     "iopub.status.busy": "2021-07-05T02:25:16.584075Z",
     "iopub.status.idle": "2021-07-05T02:25:23.936486Z",
     "shell.execute_reply": "2021-07-05T02:25:23.936930Z",
     "shell.execute_reply.started": "2021-07-05T01:55:34.137453Z"
    },
    "papermill": {
     "duration": 7.416629,
     "end_time": "2021-07-05T02:25:23.937089",
     "exception": false,
     "start_time": "2021-07-05T02:25:16.520460",
     "status": "completed"
    },
    "tags": []
   },
   "outputs": [
    {
     "data": {
      "text/plain": [
       "<matplotlib.legend.Legend at 0x7fc8bf09c650>"
      ]
     },
     "execution_count": 23,
     "metadata": {},
     "output_type": "execute_result"
    },
    {
     "data": {
      "image/png": "[encoded data removed]",
      "text/plain": [
       "<Figure size 576x288 with 1 Axes>"
      ]
     },
     "metadata": {},
     "output_type": "display_data"
    }
   ],
   "source": [
    "fig = sns.FacetGrid(train, hue='item_condition_id', height=4, aspect=2)\n",
    "fig.map(sns.kdeplot, 'price', shade=True)\n",
    "plt.legend()"
   ]
  },
  {
   "cell_type": "markdown",
   "id": "unsigned-measure",
   "metadata": {
    "papermill": {
     "duration": 0.060787,
     "end_time": "2021-07-05T02:25:24.060025",
     "exception": false,
     "start_time": "2021-07-05T02:25:23.999238",
     "status": "completed"
    },
    "tags": []
   },
   "source": [
    "# Feature Engineering"
   ]
  },
  {
   "cell_type": "code",
   "execution_count": 24,
   "id": "aboriginal-growth",
   "metadata": {
    "execution": {
     "iopub.execute_input": "2021-07-05T02:25:24.182090Z",
     "iopub.status.busy": "2021-07-05T02:25:24.181207Z",
     "iopub.status.idle": "2021-07-05T02:25:24.713846Z",
     "shell.execute_reply": "2021-07-05T02:25:24.714259Z",
     "shell.execute_reply.started": "2021-07-05T01:55:41.981695Z"
    },
    "papermill": {
     "duration": 0.595158,
     "end_time": "2021-07-05T02:25:24.714463",
     "exception": false,
     "start_time": "2021-07-05T02:25:24.119305",
     "status": "completed"
    },
    "tags": []
   },
   "outputs": [],
   "source": [
    "train['category_name'] = train['category_name'].fillna(value='missing')\n",
    "train['item_description'] = train['item_description'].fillna(value='missing')\n",
    "train['name'] = train['name'].fillna(value='missing')\n",
    "train['brand_name'] = train['brand_name'].fillna(value='missing')"
   ]
  },
  {
   "cell_type": "code",
   "execution_count": 25,
   "id": "indoor-turkish",
   "metadata": {
    "execution": {
     "iopub.execute_input": "2021-07-05T02:25:24.840064Z",
     "iopub.status.busy": "2021-07-05T02:25:24.839197Z",
     "iopub.status.idle": "2021-07-05T02:25:34.890857Z",
     "shell.execute_reply": "2021-07-05T02:25:34.891322Z",
     "shell.execute_reply.started": "2021-07-05T01:55:42.785228Z"
    },
    "papermill": {
     "duration": 10.117074,
     "end_time": "2021-07-05T02:25:34.891502",
     "exception": false,
     "start_time": "2021-07-05T02:25:24.774428",
     "status": "completed"
    },
    "tags": []
   },
   "outputs": [],
   "source": [
    "train['category_name'] = train['category_name'].astype('category')\n",
    "train['item_description'] = train['item_description'].astype('category')\n",
    "train['name'] = train['name'].astype('category')\n",
    "train['brand_name'] = train['brand_name'].astype('category')"
   ]
  },
  {
   "cell_type": "code",
   "execution_count": 26,
   "id": "explicit-elimination",
   "metadata": {
    "execution": {
     "iopub.execute_input": "2021-07-05T02:25:35.014712Z",
     "iopub.status.busy": "2021-07-05T02:25:35.014122Z",
     "iopub.status.idle": "2021-07-05T02:25:35.291850Z",
     "shell.execute_reply": "2021-07-05T02:25:35.292324Z",
     "shell.execute_reply.started": "2021-07-05T01:55:54.540214Z"
    },
    "papermill": {
     "duration": 0.341235,
     "end_time": "2021-07-05T02:25:35.292506",
     "exception": false,
     "start_time": "2021-07-05T02:25:34.951271",
     "status": "completed"
    },
    "tags": []
   },
   "outputs": [],
   "source": [
    "train['name'] = train['name'].cat.codes\n",
    "train['category_name'] = train['category_name'].cat.codes\n",
    "train['brand_name'] = train['brand_name'].cat.codes\n",
    "train['item_description'] = train['item_description'].cat.codes"
   ]
  },
  {
   "cell_type": "code",
   "execution_count": 27,
   "id": "chief-comfort",
   "metadata": {
    "execution": {
     "iopub.execute_input": "2021-07-05T02:25:35.415612Z",
     "iopub.status.busy": "2021-07-05T02:25:35.414946Z",
     "iopub.status.idle": "2021-07-05T02:25:35.418889Z",
     "shell.execute_reply": "2021-07-05T02:25:35.419325Z",
     "shell.execute_reply.started": "2021-07-05T01:55:54.837036Z"
    },
    "papermill": {
     "duration": 0.067341,
     "end_time": "2021-07-05T02:25:35.419528",
     "exception": false,
     "start_time": "2021-07-05T02:25:35.352187",
     "status": "completed"
    },
    "tags": []
   },
   "outputs": [],
   "source": [
    "df_group = train.groupby('category_name')['price']"
   ]
  },
  {
   "cell_type": "code",
   "execution_count": 28,
   "id": "fiscal-western",
   "metadata": {
    "execution": {
     "iopub.execute_input": "2021-07-05T02:25:35.543583Z",
     "iopub.status.busy": "2021-07-05T02:25:35.542965Z",
     "iopub.status.idle": "2021-07-05T02:25:35.685714Z",
     "shell.execute_reply": "2021-07-05T02:25:35.684750Z",
     "shell.execute_reply.started": "2021-07-05T01:55:54.844723Z"
    },
    "papermill": {
     "duration": 0.206031,
     "end_time": "2021-07-05T02:25:35.685867",
     "exception": false,
     "start_time": "2021-07-05T02:25:35.479836",
     "status": "completed"
    },
    "tags": []
   },
   "outputs": [],
   "source": [
    "category_mean = df_group.mean()\n",
    "category_median = df_group.median()\n",
    "category_std = df_group.std()\n",
    "category_min = df_group.min()\n",
    "category_max = df_group.max()"
   ]
  },
  {
   "cell_type": "code",
   "execution_count": 29,
   "id": "brutal-occasion",
   "metadata": {
    "execution": {
     "iopub.execute_input": "2021-07-05T02:25:35.811486Z",
     "iopub.status.busy": "2021-07-05T02:25:35.810895Z",
     "iopub.status.idle": "2021-07-05T02:25:35.904211Z",
     "shell.execute_reply": "2021-07-05T02:25:35.903749Z",
     "shell.execute_reply.started": "2021-07-05T01:55:54.979066Z"
    },
    "papermill": {
     "duration": 0.158181,
     "end_time": "2021-07-05T02:25:35.904346",
     "exception": false,
     "start_time": "2021-07-05T02:25:35.746165",
     "status": "completed"
    },
    "tags": []
   },
   "outputs": [],
   "source": [
    "train['category_mean'] = train['category_name'].map(category_mean)\n",
    "train['category_median'] = train['category_name'].map(category_median)\n",
    "train['category_std'] = train['category_name'].map(category_std)\n",
    "train['category_min'] = train['category_name'].map(category_min)\n",
    "train['category_max'] = train['category_name'].map(category_max)"
   ]
  },
  {
   "cell_type": "code",
   "execution_count": 30,
   "id": "roman-entrepreneur",
   "metadata": {
    "execution": {
     "iopub.execute_input": "2021-07-05T02:25:36.139617Z",
     "iopub.status.busy": "2021-07-05T02:25:36.138795Z",
     "iopub.status.idle": "2021-07-05T02:25:36.142077Z",
     "shell.execute_reply": "2021-07-05T02:25:36.142495Z",
     "shell.execute_reply.started": "2021-07-05T01:55:55.079665Z"
    },
    "papermill": {
     "duration": 0.178588,
     "end_time": "2021-07-05T02:25:36.142653",
     "exception": false,
     "start_time": "2021-07-05T02:25:35.964065",
     "status": "completed"
    },
    "tags": []
   },
   "outputs": [
    {
     "data": {
      "text/plain": [
       "140"
      ]
     },
     "execution_count": 30,
     "metadata": {},
     "output_type": "execute_result"
    }
   ],
   "source": [
    "del df_group\n",
    "gc.collect()"
   ]
  },
  {
   "cell_type": "markdown",
   "id": "collect-participation",
   "metadata": {
    "papermill": {
     "duration": 0.060652,
     "end_time": "2021-07-05T02:25:36.264187",
     "exception": false,
     "start_time": "2021-07-05T02:25:36.203535",
     "status": "completed"
    },
    "tags": []
   },
   "source": [
    "# Preprocess"
   ]
  },
  {
   "cell_type": "code",
   "execution_count": 31,
   "id": "friendly-essex",
   "metadata": {
    "execution": {
     "iopub.execute_input": "2021-07-05T02:25:36.392041Z",
     "iopub.status.busy": "2021-07-05T02:25:36.391151Z",
     "iopub.status.idle": "2021-07-05T02:25:36.519394Z",
     "shell.execute_reply": "2021-07-05T02:25:36.518476Z",
     "shell.execute_reply.started": "2021-07-05T01:55:55.205864Z"
    },
    "papermill": {
     "duration": 0.19511,
     "end_time": "2021-07-05T02:25:36.519553",
     "exception": false,
     "start_time": "2021-07-05T02:25:36.324443",
     "status": "completed"
    },
    "tags": []
   },
   "outputs": [],
   "source": [
    "train = train.drop('train_id', axis=1)"
   ]
  },
  {
   "cell_type": "code",
   "execution_count": 32,
   "id": "recovered-trance",
   "metadata": {
    "execution": {
     "iopub.execute_input": "2021-07-05T02:25:36.645353Z",
     "iopub.status.busy": "2021-07-05T02:25:36.644523Z",
     "iopub.status.idle": "2021-07-05T02:25:36.911778Z",
     "shell.execute_reply": "2021-07-05T02:25:36.912194Z",
     "shell.execute_reply.started": "2021-07-05T01:55:55.322855Z"
    },
    "papermill": {
     "duration": 0.33215,
     "end_time": "2021-07-05T02:25:36.912351",
     "exception": false,
     "start_time": "2021-07-05T02:25:36.580201",
     "status": "completed"
    },
    "tags": []
   },
   "outputs": [
    {
     "name": "stdout",
     "output_type": "stream",
     "text": [
      "(1471688, 12)\n"
     ]
    },
    {
     "data": {
      "text/html": [
       "<div>\n",
       "<style scoped>\n",
       "    .dataframe tbody tr th:only-of-type {\n",
       "        vertical-align: middle;\n",
       "    }\n",
       "\n",
       "    .dataframe tbody tr th {\n",
       "        vertical-align: top;\n",
       "    }\n",
       "\n",
       "    .dataframe thead th {\n",
       "        text-align: right;\n",
       "    }\n",
       "</style>\n",
       "<table border=\"1\" class=\"dataframe\">\n",
       "  <thead>\n",
       "    <tr style=\"text-align: right;\">\n",
       "      <th></th>\n",
       "      <th>name</th>\n",
       "      <th>item_condition_id</th>\n",
       "      <th>category_name</th>\n",
       "      <th>brand_name</th>\n",
       "      <th>price</th>\n",
       "      <th>shipping</th>\n",
       "      <th>item_description</th>\n",
       "      <th>category_mean</th>\n",
       "      <th>category_median</th>\n",
       "      <th>category_std</th>\n",
       "      <th>category_min</th>\n",
       "      <th>category_max</th>\n",
       "    </tr>\n",
       "  </thead>\n",
       "  <tbody>\n",
       "    <tr>\n",
       "      <th>0</th>\n",
       "      <td>635604</td>\n",
       "      <td>3</td>\n",
       "      <td>808</td>\n",
       "      <td>4778</td>\n",
       "      <td>10.0</td>\n",
       "      <td>1</td>\n",
       "      <td>799714</td>\n",
       "      <td>18.210922</td>\n",
       "      <td>14.0</td>\n",
       "      <td>15.328833</td>\n",
       "      <td>0.0</td>\n",
       "      <td>196.0</td>\n",
       "    </tr>\n",
       "    <tr>\n",
       "      <th>1</th>\n",
       "      <td>897220</td>\n",
       "      <td>3</td>\n",
       "      <td>86</td>\n",
       "      <td>3550</td>\n",
       "      <td>52.0</td>\n",
       "      <td>0</td>\n",
       "      <td>1081974</td>\n",
       "      <td>35.669862</td>\n",
       "      <td>25.0</td>\n",
       "      <td>33.437968</td>\n",
       "      <td>3.0</td>\n",
       "      <td>195.0</td>\n",
       "    </tr>\n",
       "    <tr>\n",
       "      <th>2</th>\n",
       "      <td>90769</td>\n",
       "      <td>1</td>\n",
       "      <td>1254</td>\n",
       "      <td>4172</td>\n",
       "      <td>10.0</td>\n",
       "      <td>1</td>\n",
       "      <td>114076</td>\n",
       "      <td>15.517389</td>\n",
       "      <td>12.0</td>\n",
       "      <td>12.515077</td>\n",
       "      <td>0.0</td>\n",
       "      <td>189.0</td>\n",
       "    </tr>\n",
       "    <tr>\n",
       "      <th>3</th>\n",
       "      <td>556556</td>\n",
       "      <td>1</td>\n",
       "      <td>485</td>\n",
       "      <td>4778</td>\n",
       "      <td>35.0</td>\n",
       "      <td>1</td>\n",
       "      <td>775515</td>\n",
       "      <td>21.797690</td>\n",
       "      <td>16.0</td>\n",
       "      <td>18.740061</td>\n",
       "      <td>0.0</td>\n",
       "      <td>198.0</td>\n",
       "    </tr>\n",
       "    <tr>\n",
       "      <th>4</th>\n",
       "      <td>45011</td>\n",
       "      <td>1</td>\n",
       "      <td>1181</td>\n",
       "      <td>4778</td>\n",
       "      <td>44.0</td>\n",
       "      <td>0</td>\n",
       "      <td>363054</td>\n",
       "      <td>22.548357</td>\n",
       "      <td>11.0</td>\n",
       "      <td>28.411848</td>\n",
       "      <td>0.0</td>\n",
       "      <td>199.0</td>\n",
       "    </tr>\n",
       "  </tbody>\n",
       "</table>\n",
       "</div>"
      ],
      "text/plain": [
       "     name  item_condition_id  category_name  brand_name  price  shipping  \\\n",
       "0  635604                  3            808        4778   10.0         1   \n",
       "1  897220                  3             86        3550   52.0         0   \n",
       "2   90769                  1           1254        4172   10.0         1   \n",
       "3  556556                  1            485        4778   35.0         1   \n",
       "4   45011                  1           1181        4778   44.0         0   \n",
       "\n",
       "   item_description  category_mean  category_median  category_std  \\\n",
       "0            799714      18.210922             14.0     15.328833   \n",
       "1           1081974      35.669862             25.0     33.437968   \n",
       "2            114076      15.517389             12.0     12.515077   \n",
       "3            775515      21.797690             16.0     18.740061   \n",
       "4            363054      22.548357             11.0     28.411848   \n",
       "\n",
       "   category_min  category_max  \n",
       "0           0.0         196.0  \n",
       "1           3.0         195.0  \n",
       "2           0.0         189.0  \n",
       "3           0.0         198.0  \n",
       "4           0.0         199.0  "
      ]
     },
     "execution_count": 32,
     "metadata": {},
     "output_type": "execute_result"
    }
   ],
   "source": [
    "train.to_pickle('train.pickle')\n",
    "\n",
    "print(train.shape)\n",
    "train.head()"
   ]
  },
  {
   "cell_type": "code",
   "execution_count": 33,
   "id": "regulation-uganda",
   "metadata": {
    "execution": {
     "iopub.execute_input": "2021-07-05T02:25:37.063472Z",
     "iopub.status.busy": "2021-07-05T02:25:37.062791Z",
     "iopub.status.idle": "2021-07-05T02:25:37.136990Z",
     "shell.execute_reply": "2021-07-05T02:25:37.136496Z",
     "shell.execute_reply.started": "2021-07-05T01:55:55.547252Z"
    },
    "papermill": {
     "duration": 0.161861,
     "end_time": "2021-07-05T02:25:37.137131",
     "exception": false,
     "start_time": "2021-07-05T02:25:36.975270",
     "status": "completed"
    },
    "tags": []
   },
   "outputs": [],
   "source": [
    "target = np.log1p(train['price'])\n",
    "train = train[[col for col in train.columns if col != 'price']]"
   ]
  },
  {
   "cell_type": "markdown",
   "id": "tamil-modern",
   "metadata": {
    "papermill": {
     "duration": 0.061701,
     "end_time": "2021-07-05T02:25:37.265438",
     "exception": false,
     "start_time": "2021-07-05T02:25:37.203737",
     "status": "completed"
    },
    "tags": []
   },
   "source": [
    "# Modeling"
   ]
  },
  {
   "cell_type": "code",
   "execution_count": 34,
   "id": "soviet-hurricane",
   "metadata": {
    "execution": {
     "iopub.execute_input": "2021-07-05T02:25:37.415313Z",
     "iopub.status.busy": "2021-07-05T02:25:37.414299Z",
     "iopub.status.idle": "2021-07-05T02:25:37.425143Z",
     "shell.execute_reply": "2021-07-05T02:25:37.425943Z",
     "shell.execute_reply.started": "2021-07-05T01:55:55.616372Z"
    },
    "papermill": {
     "duration": 0.09826,
     "end_time": "2021-07-05T02:25:37.426212",
     "exception": false,
     "start_time": "2021-07-05T02:25:37.327952",
     "status": "completed"
    },
    "tags": []
   },
   "outputs": [
    {
     "data": {
      "text/plain": [
       "\"\\nX_tr, X_val, y_tr, y_val = train_test_split(train, target, test_size=0.2, random_state=666)\\n\\ndef create_model(trial):\\n    num_leaves = trial.suggest_int('num_leaves', 2, 30)\\n    n_estimators = trial.suggest_int('n_estimators', 50, 300)\\n    learning_rate = trial.suggest_uniform('learning_rate', 0.0001, 0.99)\\n    max_depth = trial.suggest_int('max_depth', 2, 10)\\n    min_child_samples = trial.suggest_int('min_child_samples', 100, 1200)\\n    min_data_in_leaf = trial.suggest_int('min_data_in_leaf', 5, 90)\\n    bagging_freq = trial.suggest_int('bagging_freq', 1, 7)\\n    bagging_fraction = trial.suggest_uniform('bagging_fraction', 0.0001, 1.0)\\n    feature_fraction = trial.suggest_uniform('feature_fraction', 0.0001, 1.0)\\n    subsample = trial.suggest_uniform('subsample', 0.1, 1.0)\\n    colsample_bytree = trial.suggest_uniform('colsample_bytree', 0.1, 1.0)\\n    \\n    model = lgb.LGBMRegressor(\\n        num_leaves=num_leaves,\\n        n_estimators=n_estimators,\\n        learning_rate=learning_rate,\\n        max_depth=max_depth, \\n        min_child_samples=min_child_samples, \\n        min_data_in_leaf=min_data_in_leaf,\\n        bagging_freq=bagging_freq,\\n        bagging_fraction=bagging_fraction,\\n        feature_fraction=feature_fraction,\\n        subsample=subsample,\\n        colsample_bytree=colsample_bytree,\\n        metric='rsme',\\n        random_state=666)\\n    return model\\n\\ndef objective(trial):\\n    model = create_model(trial)\\n    model.fit(X_tr, y_tr)\\n    y_pred = model.predict(X_val)\\n    rsme = np.sqrt(mean_squared_error(y_pred, y_val))\\n    return rsme\\n\\nstudy = optuna.create_study(direction='minimize')\\nstudy.optimize(objective, n_trials=40)\\nparams = study.best_params\\nprint(params)\\n\""
      ]
     },
     "execution_count": 34,
     "metadata": {},
     "output_type": "execute_result"
    }
   ],
   "source": [
    "'''\n",
    "X_tr, X_val, y_tr, y_val = train_test_split(train, target, test_size=0.2, random_state=666)\n",
    "\n",
    "def create_model(trial):\n",
    "    num_leaves = trial.suggest_int('num_leaves', 2, 30)\n",
    "    n_estimators = trial.suggest_int('n_estimators', 50, 300)\n",
    "    learning_rate = trial.suggest_uniform('learning_rate', 0.0001, 0.99)\n",
    "    max_depth = trial.suggest_int('max_depth', 2, 10)\n",
    "    min_child_samples = trial.suggest_int('min_child_samples', 100, 1200)\n",
    "    min_data_in_leaf = trial.suggest_int('min_data_in_leaf', 5, 90)\n",
    "    bagging_freq = trial.suggest_int('bagging_freq', 1, 7)\n",
    "    bagging_fraction = trial.suggest_uniform('bagging_fraction', 0.0001, 1.0)\n",
    "    feature_fraction = trial.suggest_uniform('feature_fraction', 0.0001, 1.0)\n",
    "    subsample = trial.suggest_uniform('subsample', 0.1, 1.0)\n",
    "    colsample_bytree = trial.suggest_uniform('colsample_bytree', 0.1, 1.0)\n",
    "    \n",
    "    model = lgb.LGBMRegressor(\n",
    "        num_leaves=num_leaves,\n",
    "        n_estimators=n_estimators,\n",
    "        learning_rate=learning_rate,\n",
    "        max_depth=max_depth, \n",
    "        min_child_samples=min_child_samples, \n",
    "        min_data_in_leaf=min_data_in_leaf,\n",
    "        bagging_freq=bagging_freq,\n",
    "        bagging_fraction=bagging_fraction,\n",
    "        feature_fraction=feature_fraction,\n",
    "        subsample=subsample,\n",
    "        colsample_bytree=colsample_bytree,\n",
    "        metric='rsme',\n",
    "        random_state=666)\n",
    "    return model\n",
    "\n",
    "def objective(trial):\n",
    "    model = create_model(trial)\n",
    "    model.fit(X_tr, y_tr)\n",
    "    y_pred = model.predict(X_val)\n",
    "    rsme = np.sqrt(mean_squared_error(y_pred, y_val))\n",
    "    return rsme\n",
    "\n",
    "study = optuna.create_study(direction='minimize')\n",
    "study.optimize(objective, n_trials=40)\n",
    "params = study.best_params\n",
    "print(params)\n",
    "'''"
   ]
  },
  {
   "cell_type": "code",
   "execution_count": 35,
   "id": "scientific-guitar",
   "metadata": {
    "execution": {
     "iopub.execute_input": "2021-07-05T02:25:37.581140Z",
     "iopub.status.busy": "2021-07-05T02:25:37.580472Z",
     "iopub.status.idle": "2021-07-05T02:25:37.583539Z",
     "shell.execute_reply": "2021-07-05T02:25:37.582981Z",
     "shell.execute_reply.started": "2021-07-05T02:16:27.556434Z"
    },
    "papermill": {
     "duration": 0.070018,
     "end_time": "2021-07-05T02:25:37.583695",
     "exception": false,
     "start_time": "2021-07-05T02:25:37.513677",
     "status": "completed"
    },
    "tags": []
   },
   "outputs": [],
   "source": [
    "params = {'num_leaves': 28,\n",
    "          'n_estimators': 278,\n",
    "          'learning_rate': 0.6891485069759704,\n",
    "          'max_depth': 8,\n",
    "          'min_child_samples': 1141,\n",
    "          'min_data_in_leaf': 80,\n",
    "          'bagging_freq': 6,\n",
    "          'bagging_fraction': 0.8057855795281178,\n",
    "          'feature_fraction': 0.8587063406464702,\n",
    "          'subsample': 0.6401160844728042,\n",
    "          'colsample_bytree': 0.46587407611821724,\n",
    "          'random_state': 666}"
   ]
  },
  {
   "cell_type": "code",
   "execution_count": 36,
   "id": "dependent-stretch",
   "metadata": {
    "execution": {
     "iopub.execute_input": "2021-07-05T02:25:37.712989Z",
     "iopub.status.busy": "2021-07-05T02:25:37.712364Z",
     "iopub.status.idle": "2021-07-05T02:25:51.751636Z",
     "shell.execute_reply": "2021-07-05T02:25:51.752055Z",
     "shell.execute_reply.started": "2021-07-05T02:16:30.874240Z"
    },
    "papermill": {
     "duration": 14.106913,
     "end_time": "2021-07-05T02:25:51.752213",
     "exception": false,
     "start_time": "2021-07-05T02:25:37.645300",
     "status": "completed"
    },
    "tags": []
   },
   "outputs": [
    {
     "name": "stdout",
     "output_type": "stream",
     "text": [
      "[LightGBM] [Warning] bagging_fraction is set=0.8057855795281178, subsample=0.6401160844728042 will be ignored. Current value: bagging_fraction=0.8057855795281178\n",
      "[LightGBM] [Warning] feature_fraction is set=0.8587063406464702, colsample_bytree=0.46587407611821724 will be ignored. Current value: feature_fraction=0.8587063406464702\n",
      "[LightGBM] [Warning] bagging_freq is set=6, subsample_freq=0 will be ignored. Current value: bagging_freq=6\n",
      "[LightGBM] [Warning] min_data_in_leaf is set=80, min_child_samples=1141 will be ignored. Current value: min_data_in_leaf=80\n"
     ]
    },
    {
     "data": {
      "text/plain": [
       "LGBMRegressor(bagging_fraction=0.8057855795281178, bagging_freq=6,\n",
       "              colsample_bytree=0.46587407611821724,\n",
       "              feature_fraction=0.8587063406464702,\n",
       "              learning_rate=0.6891485069759704, max_depth=8,\n",
       "              min_child_samples=1141, min_data_in_leaf=80, n_estimators=278,\n",
       "              num_leaves=28, random_state=666, subsample=0.6401160844728042)"
      ]
     },
     "execution_count": 36,
     "metadata": {},
     "output_type": "execute_result"
    }
   ],
   "source": [
    "cls = lgb.LGBMRegressor(**params)\n",
    "cls.fit(train, target)"
   ]
  },
  {
   "cell_type": "code",
   "execution_count": 37,
   "id": "regional-literature",
   "metadata": {
    "execution": {
     "iopub.execute_input": "2021-07-05T02:25:51.878514Z",
     "iopub.status.busy": "2021-07-05T02:25:51.877615Z",
     "iopub.status.idle": "2021-07-05T02:25:52.104616Z",
     "shell.execute_reply": "2021-07-05T02:25:52.104177Z",
     "shell.execute_reply.started": "2021-07-05T02:16:46.350180Z"
    },
    "papermill": {
     "duration": 0.291213,
     "end_time": "2021-07-05T02:25:52.104757",
     "exception": false,
     "start_time": "2021-07-05T02:25:51.813544",
     "status": "completed"
    },
    "tags": []
   },
   "outputs": [
    {
     "data": {
      "image/png": "[encoded data removed]",
      "text/plain": [
       "<Figure size 432x288 with 1 Axes>"
      ]
     },
     "metadata": {},
     "output_type": "display_data"
    }
   ],
   "source": [
    "lgb.plot_importance(cls)\n",
    "plt.show()"
   ]
  },
  {
   "cell_type": "code",
   "execution_count": 38,
   "id": "macro-guitar",
   "metadata": {
    "execution": {
     "iopub.execute_input": "2021-07-05T02:25:52.352445Z",
     "iopub.status.busy": "2021-07-05T02:25:52.351522Z",
     "iopub.status.idle": "2021-07-05T02:25:52.357340Z",
     "shell.execute_reply": "2021-07-05T02:25:52.356861Z",
     "shell.execute_reply.started": "2021-07-05T02:16:55.726180Z"
    },
    "papermill": {
     "duration": 0.188086,
     "end_time": "2021-07-05T02:25:52.357501",
     "exception": false,
     "start_time": "2021-07-05T02:25:52.169415",
     "status": "completed"
    },
    "tags": []
   },
   "outputs": [
    {
     "data": {
      "text/plain": [
       "4549"
      ]
     },
     "execution_count": 38,
     "metadata": {},
     "output_type": "execute_result"
    }
   ],
   "source": [
    "del train, target, params\n",
    "gc.collect()"
   ]
  },
  {
   "cell_type": "markdown",
   "id": "suspended-oklahoma",
   "metadata": {
    "papermill": {
     "duration": 0.062863,
     "end_time": "2021-07-05T02:25:52.483996",
     "exception": false,
     "start_time": "2021-07-05T02:25:52.421133",
     "status": "completed"
    },
    "tags": []
   },
   "source": [
    "# Submit"
   ]
  },
  {
   "cell_type": "code",
   "execution_count": 39,
   "id": "touched-dictionary",
   "metadata": {
    "execution": {
     "iopub.execute_input": "2021-07-05T02:25:52.614653Z",
     "iopub.status.busy": "2021-07-05T02:25:52.614019Z",
     "iopub.status.idle": "2021-07-05T02:25:52.617263Z",
     "shell.execute_reply": "2021-07-05T02:25:52.616693Z",
     "shell.execute_reply.started": "2021-07-05T02:16:59.594047Z"
    },
    "papermill": {
     "duration": 0.070316,
     "end_time": "2021-07-05T02:25:52.617413",
     "exception": false,
     "start_time": "2021-07-05T02:25:52.547097",
     "status": "completed"
    },
    "tags": []
   },
   "outputs": [],
   "source": [
    "test_id = test['test_id']"
   ]
  },
  {
   "cell_type": "code",
   "execution_count": 40,
   "id": "friendly-visit",
   "metadata": {
    "execution": {
     "iopub.execute_input": "2021-07-05T02:25:52.865778Z",
     "iopub.status.busy": "2021-07-05T02:25:52.865128Z",
     "iopub.status.idle": "2021-07-05T02:25:54.183481Z",
     "shell.execute_reply": "2021-07-05T02:25:54.182960Z",
     "shell.execute_reply.started": "2021-07-05T02:18:58.870196Z"
    },
    "papermill": {
     "duration": 1.50119,
     "end_time": "2021-07-05T02:25:54.183611",
     "exception": false,
     "start_time": "2021-07-05T02:25:52.682421",
     "status": "completed"
    },
    "tags": []
   },
   "outputs": [],
   "source": [
    "test['category_name'] = test['category_name'].fillna(value='missing')\n",
    "test['item_description'] = test['item_description'].fillna(value='missing')\n",
    "test['name'] = test['name'].fillna(value='missing')\n",
    "test['brand_name'] = test['brand_name'].fillna(value='missing')"
   ]
  },
  {
   "cell_type": "code",
   "execution_count": 41,
   "id": "innovative-hypothesis",
   "metadata": {
    "execution": {
     "iopub.execute_input": "2021-07-05T02:25:54.439357Z",
     "iopub.status.busy": "2021-07-05T02:25:54.359970Z",
     "iopub.status.idle": "2021-07-05T02:26:23.413769Z",
     "shell.execute_reply": "2021-07-05T02:26:23.413202Z",
     "shell.execute_reply.started": "2021-07-05T02:19:08.251948Z"
    },
    "papermill": {
     "duration": 29.167478,
     "end_time": "2021-07-05T02:26:23.413931",
     "exception": false,
     "start_time": "2021-07-05T02:25:54.246453",
     "status": "completed"
    },
    "tags": []
   },
   "outputs": [],
   "source": [
    "test['category_name'] = test['category_name'].astype('category')\n",
    "test['item_description'] = test['item_description'].astype('category')\n",
    "test['name'] = test['name'].astype('category')\n",
    "test['brand_name'] = test['brand_name'].astype('category')"
   ]
  },
  {
   "cell_type": "code",
   "execution_count": 42,
   "id": "remarkable-printing",
   "metadata": {
    "execution": {
     "iopub.execute_input": "2021-07-05T02:26:23.547897Z",
     "iopub.status.busy": "2021-07-05T02:26:23.547280Z",
     "iopub.status.idle": "2021-07-05T02:26:24.260467Z",
     "shell.execute_reply": "2021-07-05T02:26:24.259975Z",
     "shell.execute_reply.started": "2021-07-05T02:19:39.446218Z"
    },
    "papermill": {
     "duration": 0.781839,
     "end_time": "2021-07-05T02:26:24.260611",
     "exception": false,
     "start_time": "2021-07-05T02:26:23.478772",
     "status": "completed"
    },
    "tags": []
   },
   "outputs": [],
   "source": [
    "test['name'] = test['name'].cat.codes\n",
    "test['category_name'] = test['category_name'].cat.codes\n",
    "test['brand_name'] = test['brand_name'].cat.codes\n",
    "test['item_description'] = test['item_description'].cat.codes"
   ]
  },
  {
   "cell_type": "code",
   "execution_count": 43,
   "id": "split-stocks",
   "metadata": {
    "execution": {
     "iopub.execute_input": "2021-07-05T02:26:24.392318Z",
     "iopub.status.busy": "2021-07-05T02:26:24.391737Z",
     "iopub.status.idle": "2021-07-05T02:26:24.640650Z",
     "shell.execute_reply": "2021-07-05T02:26:24.640129Z",
     "shell.execute_reply.started": "2021-07-05T02:20:05.665755Z"
    },
    "papermill": {
     "duration": 0.317078,
     "end_time": "2021-07-05T02:26:24.640786",
     "exception": false,
     "start_time": "2021-07-05T02:26:24.323708",
     "status": "completed"
    },
    "tags": []
   },
   "outputs": [],
   "source": [
    "test['category_mean'] = test['category_name'].map(category_mean)\n",
    "test['category_median'] = test['category_name'].map(category_median)\n",
    "test['category_std'] = test['category_name'].map(category_std)\n",
    "test['category_min'] = test['category_name'].map(category_min)\n",
    "test['category_max'] = test['category_name'].map(category_max)"
   ]
  },
  {
   "cell_type": "code",
   "execution_count": 44,
   "id": "looking-export",
   "metadata": {
    "execution": {
     "iopub.execute_input": "2021-07-05T02:26:24.775630Z",
     "iopub.status.busy": "2021-07-05T02:26:24.774098Z",
     "iopub.status.idle": "2021-07-05T02:26:25.016342Z",
     "shell.execute_reply": "2021-07-05T02:26:25.015766Z",
     "shell.execute_reply.started": "2021-07-05T02:20:41.946757Z"
    },
    "papermill": {
     "duration": 0.31174,
     "end_time": "2021-07-05T02:26:25.016493",
     "exception": false,
     "start_time": "2021-07-05T02:26:24.704753",
     "status": "completed"
    },
    "tags": []
   },
   "outputs": [],
   "source": [
    "test = test.drop('test_id', axis=1)"
   ]
  },
  {
   "cell_type": "code",
   "execution_count": 45,
   "id": "studied-cosmetic",
   "metadata": {
    "execution": {
     "iopub.execute_input": "2021-07-05T02:26:25.170989Z",
     "iopub.status.busy": "2021-07-05T02:26:25.151229Z",
     "iopub.status.idle": "2021-07-05T02:26:25.762047Z",
     "shell.execute_reply": "2021-07-05T02:26:25.762495Z",
     "shell.execute_reply.started": "2021-07-05T02:20:43.651569Z"
    },
    "papermill": {
     "duration": 0.68131,
     "end_time": "2021-07-05T02:26:25.762664",
     "exception": false,
     "start_time": "2021-07-05T02:26:25.081354",
     "status": "completed"
    },
    "tags": []
   },
   "outputs": [
    {
     "name": "stdout",
     "output_type": "stream",
     "text": [
      "(3460725, 11)\n"
     ]
    },
    {
     "data": {
      "text/html": [
       "<div>\n",
       "<style scoped>\n",
       "    .dataframe tbody tr th:only-of-type {\n",
       "        vertical-align: middle;\n",
       "    }\n",
       "\n",
       "    .dataframe tbody tr th {\n",
       "        vertical-align: top;\n",
       "    }\n",
       "\n",
       "    .dataframe thead th {\n",
       "        text-align: right;\n",
       "    }\n",
       "</style>\n",
       "<table border=\"1\" class=\"dataframe\">\n",
       "  <thead>\n",
       "    <tr style=\"text-align: right;\">\n",
       "      <th></th>\n",
       "      <th>name</th>\n",
       "      <th>item_condition_id</th>\n",
       "      <th>category_name</th>\n",
       "      <th>brand_name</th>\n",
       "      <th>shipping</th>\n",
       "      <th>item_description</th>\n",
       "      <th>category_mean</th>\n",
       "      <th>category_median</th>\n",
       "      <th>category_std</th>\n",
       "      <th>category_min</th>\n",
       "      <th>category_max</th>\n",
       "    </tr>\n",
       "  </thead>\n",
       "  <tbody>\n",
       "    <tr>\n",
       "      <th>0</th>\n",
       "      <td>497322</td>\n",
       "      <td>1</td>\n",
       "      <td>1230</td>\n",
       "      <td>5837</td>\n",
       "      <td>1</td>\n",
       "      <td>2189482</td>\n",
       "      <td>19.389831</td>\n",
       "      <td>14.0</td>\n",
       "      <td>22.951235</td>\n",
       "      <td>5.0</td>\n",
       "      <td>173.0</td>\n",
       "    </tr>\n",
       "    <tr>\n",
       "      <th>1</th>\n",
       "      <td>100830</td>\n",
       "      <td>1</td>\n",
       "      <td>916</td>\n",
       "      <td>5837</td>\n",
       "      <td>1</td>\n",
       "      <td>150218</td>\n",
       "      <td>60.723301</td>\n",
       "      <td>46.0</td>\n",
       "      <td>43.904510</td>\n",
       "      <td>3.0</td>\n",
       "      <td>199.0</td>\n",
       "    </tr>\n",
       "    <tr>\n",
       "      <th>2</th>\n",
       "      <td>629168</td>\n",
       "      <td>1</td>\n",
       "      <td>1018</td>\n",
       "      <td>1216</td>\n",
       "      <td>1</td>\n",
       "      <td>601498</td>\n",
       "      <td>18.444607</td>\n",
       "      <td>14.0</td>\n",
       "      <td>13.688548</td>\n",
       "      <td>3.0</td>\n",
       "      <td>151.0</td>\n",
       "    </tr>\n",
       "    <tr>\n",
       "      <th>3</th>\n",
       "      <td>836033</td>\n",
       "      <td>2</td>\n",
       "      <td>1281</td>\n",
       "      <td>5837</td>\n",
       "      <td>0</td>\n",
       "      <td>53732</td>\n",
       "      <td>49.280130</td>\n",
       "      <td>35.0</td>\n",
       "      <td>41.354197</td>\n",
       "      <td>0.0</td>\n",
       "      <td>196.0</td>\n",
       "    </tr>\n",
       "    <tr>\n",
       "      <th>4</th>\n",
       "      <td>1243301</td>\n",
       "      <td>3</td>\n",
       "      <td>878</td>\n",
       "      <td>5837</td>\n",
       "      <td>1</td>\n",
       "      <td>2064967</td>\n",
       "      <td>15.170676</td>\n",
       "      <td>12.0</td>\n",
       "      <td>13.609123</td>\n",
       "      <td>0.0</td>\n",
       "      <td>134.0</td>\n",
       "    </tr>\n",
       "  </tbody>\n",
       "</table>\n",
       "</div>"
      ],
      "text/plain": [
       "      name  item_condition_id  category_name  brand_name  shipping  \\\n",
       "0   497322                  1           1230        5837         1   \n",
       "1   100830                  1            916        5837         1   \n",
       "2   629168                  1           1018        1216         1   \n",
       "3   836033                  2           1281        5837         0   \n",
       "4  1243301                  3            878        5837         1   \n",
       "\n",
       "   item_description  category_mean  category_median  category_std  \\\n",
       "0           2189482      19.389831             14.0     22.951235   \n",
       "1            150218      60.723301             46.0     43.904510   \n",
       "2            601498      18.444607             14.0     13.688548   \n",
       "3             53732      49.280130             35.0     41.354197   \n",
       "4           2064967      15.170676             12.0     13.609123   \n",
       "\n",
       "   category_min  category_max  \n",
       "0           5.0         173.0  \n",
       "1           3.0         199.0  \n",
       "2           3.0         151.0  \n",
       "3           0.0         196.0  \n",
       "4           0.0         134.0  "
      ]
     },
     "execution_count": 45,
     "metadata": {},
     "output_type": "execute_result"
    }
   ],
   "source": [
    "test.to_pickle('test.pickle')\n",
    "\n",
    "print(test.shape)\n",
    "test.head()"
   ]
  },
  {
   "cell_type": "code",
   "execution_count": 46,
   "id": "every-therapy",
   "metadata": {
    "execution": {
     "iopub.execute_input": "2021-07-05T02:26:25.895467Z",
     "iopub.status.busy": "2021-07-05T02:26:25.894871Z",
     "iopub.status.idle": "2021-07-05T02:26:44.964696Z",
     "shell.execute_reply": "2021-07-05T02:26:44.964091Z",
     "shell.execute_reply.started": "2021-07-05T02:20:58.771248Z"
    },
    "papermill": {
     "duration": 19.138204,
     "end_time": "2021-07-05T02:26:44.964841",
     "exception": false,
     "start_time": "2021-07-05T02:26:25.826637",
     "status": "completed"
    },
    "tags": []
   },
   "outputs": [],
   "source": [
    "prediction = np.expm1(cls.predict(test))"
   ]
  },
  {
   "cell_type": "code",
   "execution_count": 47,
   "id": "touched-occupation",
   "metadata": {
    "execution": {
     "iopub.execute_input": "2021-07-05T02:26:45.217254Z",
     "iopub.status.busy": "2021-07-05T02:26:45.216560Z",
     "iopub.status.idle": "2021-07-05T02:26:45.220078Z",
     "shell.execute_reply": "2021-07-05T02:26:45.220512Z",
     "shell.execute_reply.started": "2021-07-05T02:22:22.277892Z"
    },
    "papermill": {
     "duration": 0.188926,
     "end_time": "2021-07-05T02:26:45.220712",
     "exception": false,
     "start_time": "2021-07-05T02:26:45.031786",
     "status": "completed"
    },
    "tags": []
   },
   "outputs": [
    {
     "data": {
      "text/plain": [
       "44"
      ]
     },
     "execution_count": 47,
     "metadata": {},
     "output_type": "execute_result"
    }
   ],
   "source": [
    "del test\n",
    "gc.collect()"
   ]
  },
  {
   "cell_type": "code",
   "execution_count": 48,
   "id": "aggregate-commander",
   "metadata": {
    "execution": {
     "iopub.execute_input": "2021-07-05T02:26:45.352905Z",
     "iopub.status.busy": "2021-07-05T02:26:45.352198Z",
     "iopub.status.idle": "2021-07-05T02:26:45.380256Z",
     "shell.execute_reply": "2021-07-05T02:26:45.380681Z",
     "shell.execute_reply.started": "2021-07-05T02:22:25.108328Z"
    },
    "papermill": {
     "duration": 0.095807,
     "end_time": "2021-07-05T02:26:45.380855",
     "exception": false,
     "start_time": "2021-07-05T02:26:45.285048",
     "status": "completed"
    },
    "tags": []
   },
   "outputs": [
    {
     "data": {
      "text/html": [
       "<div>\n",
       "<style scoped>\n",
       "    .dataframe tbody tr th:only-of-type {\n",
       "        vertical-align: middle;\n",
       "    }\n",
       "\n",
       "    .dataframe tbody tr th {\n",
       "        vertical-align: top;\n",
       "    }\n",
       "\n",
       "    .dataframe thead th {\n",
       "        text-align: right;\n",
       "    }\n",
       "</style>\n",
       "<table border=\"1\" class=\"dataframe\">\n",
       "  <thead>\n",
       "    <tr style=\"text-align: right;\">\n",
       "      <th></th>\n",
       "      <th>test_id</th>\n",
       "      <th>price</th>\n",
       "    </tr>\n",
       "  </thead>\n",
       "  <tbody>\n",
       "    <tr>\n",
       "      <th>0</th>\n",
       "      <td>0</td>\n",
       "      <td>15.034607</td>\n",
       "    </tr>\n",
       "    <tr>\n",
       "      <th>1</th>\n",
       "      <td>1</td>\n",
       "      <td>26.106124</td>\n",
       "    </tr>\n",
       "    <tr>\n",
       "      <th>2</th>\n",
       "      <td>2</td>\n",
       "      <td>18.238040</td>\n",
       "    </tr>\n",
       "    <tr>\n",
       "      <th>3</th>\n",
       "      <td>3</td>\n",
       "      <td>29.556761</td>\n",
       "    </tr>\n",
       "    <tr>\n",
       "      <th>4</th>\n",
       "      <td>4</td>\n",
       "      <td>14.034820</td>\n",
       "    </tr>\n",
       "    <tr>\n",
       "      <th>5</th>\n",
       "      <td>5</td>\n",
       "      <td>13.041869</td>\n",
       "    </tr>\n",
       "    <tr>\n",
       "      <th>6</th>\n",
       "      <td>6</td>\n",
       "      <td>34.559636</td>\n",
       "    </tr>\n",
       "    <tr>\n",
       "      <th>7</th>\n",
       "      <td>7</td>\n",
       "      <td>10.237095</td>\n",
       "    </tr>\n",
       "    <tr>\n",
       "      <th>8</th>\n",
       "      <td>8</td>\n",
       "      <td>21.383616</td>\n",
       "    </tr>\n",
       "    <tr>\n",
       "      <th>9</th>\n",
       "      <td>9</td>\n",
       "      <td>20.301299</td>\n",
       "    </tr>\n",
       "  </tbody>\n",
       "</table>\n",
       "</div>"
      ],
      "text/plain": [
       "   test_id      price\n",
       "0        0  15.034607\n",
       "1        1  26.106124\n",
       "2        2  18.238040\n",
       "3        3  29.556761\n",
       "4        4  14.034820\n",
       "5        5  13.041869\n",
       "6        6  34.559636\n",
       "7        7  10.237095\n",
       "8        8  21.383616\n",
       "9        9  20.301299"
      ]
     },
     "execution_count": 48,
     "metadata": {},
     "output_type": "execute_result"
    }
   ],
   "source": [
    "submit = pd.DataFrame(test_id, columns=['test_id'])\n",
    "submit['price'] = prediction\n",
    "\n",
    "submit.head(10)"
   ]
  },
  {
   "cell_type": "code",
   "execution_count": 49,
   "id": "commercial-terror",
   "metadata": {
    "execution": {
     "iopub.execute_input": "2021-07-05T02:26:45.512164Z",
     "iopub.status.busy": "2021-07-05T02:26:45.511294Z",
     "iopub.status.idle": "2021-07-05T02:26:45.620867Z",
     "shell.execute_reply": "2021-07-05T02:26:45.621222Z",
     "shell.execute_reply.started": "2021-07-05T02:22:46.083219Z"
    },
    "papermill": {
     "duration": 0.176586,
     "end_time": "2021-07-05T02:26:45.621391",
     "exception": false,
     "start_time": "2021-07-05T02:26:45.444805",
     "status": "completed"
    },
    "tags": []
   },
   "outputs": [
    {
     "data": {
      "text/plain": [
       "40"
      ]
     },
     "execution_count": 49,
     "metadata": {},
     "output_type": "execute_result"
    }
   ],
   "source": [
    "del test_id, prediction\n",
    "gc.collect()"
   ]
  },
  {
   "cell_type": "markdown",
   "id": "irish-uncertainty",
   "metadata": {
    "papermill": {
     "duration": 0.063596,
     "end_time": "2021-07-05T02:26:45.749098",
     "exception": false,
     "start_time": "2021-07-05T02:26:45.685502",
     "status": "completed"
    },
    "tags": []
   },
   "source": [
    "Submissionファイルは、/kaggle下ではなく、/kaggle/working下に作成する。<br>\n",
    "また、submissionのCSVファイルについて、index=Falseにする。"
   ]
  },
  {
   "cell_type": "code",
   "execution_count": 50,
   "id": "proof-export",
   "metadata": {
    "execution": {
     "iopub.execute_input": "2021-07-05T02:26:45.882163Z",
     "iopub.status.busy": "2021-07-05T02:26:45.881317Z",
     "iopub.status.idle": "2021-07-05T02:26:53.339116Z",
     "shell.execute_reply": "2021-07-05T02:26:53.338537Z",
     "shell.execute_reply.started": "2021-07-05T02:22:54.409484Z"
    },
    "papermill": {
     "duration": 7.5263,
     "end_time": "2021-07-05T02:26:53.339244",
     "exception": false,
     "start_time": "2021-07-05T02:26:45.812944",
     "status": "completed"
    },
    "tags": []
   },
   "outputs": [],
   "source": [
    "submit.to_csv('./submission.csv', index=False)"
   ]
  }
 ],
 "metadata": {
  "kernelspec": {
   "display_name": "Python 3",
   "language": "python",
   "name": "python3"
  },
  "language_info": {
   "codemirror_mode": {
    "name": "ipython",
    "version": 3
   },
   "file_extension": ".py",
   "mimetype": "text/x-python",
   "name": "python",
   "nbconvert_exporter": "python",
   "pygments_lexer": "ipython3",
   "version": "3.7.9"
  },
  "papermill": {
   "default_parameters": {},
   "duration": 174.56549,
   "end_time": "2021-07-05T02:26:54.719886",
   "environment_variables": {},
   "exception": null,
   "input_path": "__notebook__.ipynb",
   "output_path": "__notebook__.ipynb",
   "parameters": {},
   "start_time": "2021-07-05T02:24:00.154396",
   "version": "2.3.2"
  }
 },
 "nbformat": 4,
 "nbformat_minor": 5
}
