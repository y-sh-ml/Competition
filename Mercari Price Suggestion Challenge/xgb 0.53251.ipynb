{
 "cells": [
  {
   "cell_type": "markdown",
   "id": "quiet-rhythm",
   "metadata": {
    "execution": {
     "iopub.execute_input": "2021-06-24T03:23:16.409576Z",
     "iopub.status.busy": "2021-06-24T03:23:16.409199Z",
     "iopub.status.idle": "2021-06-24T03:23:16.414226Z",
     "shell.execute_reply": "2021-06-24T03:23:16.413341Z",
     "shell.execute_reply.started": "2021-06-24T03:23:16.409545Z"
    },
    "papermill": {
     "duration": 0.042712,
     "end_time": "2021-07-06T00:47:35.516565",
     "exception": false,
     "start_time": "2021-07-06T00:47:35.473853",
     "status": "completed"
    },
    "tags": []
   },
   "source": [
    "# Competition"
   ]
  },
  {
   "cell_type": "markdown",
   "id": "detailed-boundary",
   "metadata": {
    "papermill": {
     "duration": 0.040811,
     "end_time": "2021-07-06T00:47:35.598264",
     "exception": false,
     "start_time": "2021-07-06T00:47:35.557453",
     "status": "completed"
    },
    "tags": []
   },
   "source": [
    "[Mercari Price Suggestion Challenge](https://www.kaggle.com/c/mercari-price-suggestion-challenge)"
   ]
  },
  {
   "cell_type": "markdown",
   "id": "patient-scratch",
   "metadata": {
    "papermill": {
     "duration": 0.04157,
     "end_time": "2021-07-06T00:47:35.680858",
     "exception": false,
     "start_time": "2021-07-06T00:47:35.639288",
     "status": "completed"
    },
    "tags": []
   },
   "source": [
    "# Overview"
   ]
  },
  {
   "cell_type": "markdown",
   "id": "educational-imagination",
   "metadata": {
    "papermill": {
     "duration": 0.041877,
     "end_time": "2021-07-06T00:47:35.764923",
     "exception": false,
     "start_time": "2021-07-06T00:47:35.723046",
     "status": "completed"
    },
    "tags": []
   },
   "source": [
    "メルカリに出品されている商品データ（カテゴリーやブランドなど）と価格をもとに<br>\n",
    "商品データから価格を予測するモデルを作成する。"
   ]
  },
  {
   "cell_type": "markdown",
   "id": "engaged-sight",
   "metadata": {
    "papermill": {
     "duration": 0.040627,
     "end_time": "2021-07-06T00:47:35.847374",
     "exception": false,
     "start_time": "2021-07-06T00:47:35.806747",
     "status": "completed"
    },
    "tags": []
   },
   "source": [
    "# Module"
   ]
  },
  {
   "cell_type": "code",
   "execution_count": 1,
   "id": "broad-lunch",
   "metadata": {
    "execution": {
     "iopub.execute_input": "2021-07-06T00:47:35.936034Z",
     "iopub.status.busy": "2021-07-06T00:47:35.935411Z",
     "iopub.status.idle": "2021-07-06T00:47:40.202093Z",
     "shell.execute_reply": "2021-07-06T00:47:40.201142Z",
     "shell.execute_reply.started": "2021-07-06T00:24:47.020652Z"
    },
    "papermill": {
     "duration": 4.314408,
     "end_time": "2021-07-06T00:47:40.202279",
     "exception": false,
     "start_time": "2021-07-06T00:47:35.887871",
     "status": "completed"
    },
    "tags": []
   },
   "outputs": [
    {
     "data": {
      "text/html": [
       "<style type='text/css'>\n",
       ".datatable table.frame { margin-bottom: 0; }\n",
       ".datatable table.frame thead { border-bottom: none; }\n",
       ".datatable table.frame tr.coltypes td {  color: #FFFFFF;  line-height: 6px;  padding: 0 0.5em;}\n",
       ".datatable .bool    { background: #DDDD99; }\n",
       ".datatable .object  { background: #565656; }\n",
       ".datatable .int     { background: #5D9E5D; }\n",
       ".datatable .float   { background: #4040CC; }\n",
       ".datatable .str     { background: #CC4040; }\n",
       ".datatable .row_index {  background: var(--jp-border-color3);  border-right: 1px solid var(--jp-border-color0);  color: var(--jp-ui-font-color3);  font-size: 9px;}\n",
       ".datatable .frame tr.coltypes .row_index {  background: var(--jp-border-color0);}\n",
       ".datatable th:nth-child(2) { padding-left: 12px; }\n",
       ".datatable .hellipsis {  color: var(--jp-cell-editor-border-color);}\n",
       ".datatable .vellipsis {  background: var(--jp-layout-color0);  color: var(--jp-cell-editor-border-color);}\n",
       ".datatable .na {  color: var(--jp-cell-editor-border-color);  font-size: 80%;}\n",
       ".datatable .footer { font-size: 9px; }\n",
       ".datatable .frame_dimensions {  background: var(--jp-border-color3);  border-top: 1px solid var(--jp-border-color0);  color: var(--jp-ui-font-color3);  display: inline-block;  opacity: 0.6;  padding: 1px 10px 1px 5px;}\n",
       "</style>\n"
      ],
      "text/plain": [
       "<IPython.core.display.HTML object>"
      ]
     },
     "metadata": {},
     "output_type": "display_data"
    }
   ],
   "source": [
    "import gc\n",
    "import sys\n",
    "import optuna\n",
    "import datetime\n",
    "import warnings\n",
    "import matplotlib\n",
    "import numpy as np\n",
    "import pandas as pd\n",
    "import seaborn as sns\n",
    "import xgboost as xgb\n",
    "import lightgbm as lgb\n",
    "import matplotlib.pyplot as plt\n",
    "\n",
    "from scipy.sparse import csr_matrix, hstack\n",
    "from sklearn.preprocessing import LabelBinarizer\n",
    "from sklearn.metrics import mean_squared_error\n",
    "from sklearn.model_selection import train_test_split\n",
    "from pandas.api.types import is_categorical_dtype\n",
    "from pandas.api.types import is_datetime64_any_dtype as is_datetime\n",
    "from sklearn.feature_extraction.text import CountVectorizer, TfidfVectorizer"
   ]
  },
  {
   "cell_type": "markdown",
   "id": "better-playback",
   "metadata": {
    "papermill": {
     "duration": 0.041096,
     "end_time": "2021-07-06T00:47:40.285333",
     "exception": false,
     "start_time": "2021-07-06T00:47:40.244237",
     "status": "completed"
    },
    "tags": []
   },
   "source": [
    "# Unfreeze"
   ]
  },
  {
   "cell_type": "markdown",
   "id": "detailed-graham",
   "metadata": {
    "papermill": {
     "duration": 0.040897,
     "end_time": "2021-07-06T00:47:40.367471",
     "exception": false,
     "start_time": "2021-07-06T00:47:40.326574",
     "status": "completed"
    },
    "tags": []
   },
   "source": [
    "Kaggleで用意されたデータが、7z形式になっているため<br>\n",
    "解凍の処理から行っていく。"
   ]
  },
  {
   "cell_type": "code",
   "execution_count": 2,
   "id": "express-broadcasting",
   "metadata": {
    "_kg_hide-output": true,
    "execution": {
     "iopub.execute_input": "2021-07-06T00:47:40.453922Z",
     "iopub.status.busy": "2021-07-06T00:47:40.453408Z",
     "iopub.status.idle": "2021-07-06T00:47:40.461131Z",
     "shell.execute_reply": "2021-07-06T00:47:40.461693Z",
     "shell.execute_reply.started": "2021-07-06T00:24:51.204385Z"
    },
    "papermill": {
     "duration": 0.053234,
     "end_time": "2021-07-06T00:47:40.461863",
     "exception": false,
     "start_time": "2021-07-06T00:47:40.408629",
     "status": "completed"
    },
    "tags": []
   },
   "outputs": [
    {
     "name": "stdout",
     "output_type": "stream",
     "text": [
      "/kaggle/input/mercari-price-suggestion-challenge/train.tsv.7z\n",
      "/kaggle/input/mercari-price-suggestion-challenge/test.tsv.7z\n",
      "/kaggle/input/mercari-price-suggestion-challenge/sample_submission_stg2.csv.zip\n",
      "/kaggle/input/mercari-price-suggestion-challenge/test_stg2.tsv.zip\n",
      "/kaggle/input/mercari-price-suggestion-challenge/sample_submission.csv.7z\n"
     ]
    }
   ],
   "source": [
    "import os\n",
    "for dirname, _, filenames in os.walk('/kaggle/input'):\n",
    "    for filename in filenames:\n",
    "        print(os.path.join(dirname, filename))"
   ]
  },
  {
   "cell_type": "markdown",
   "id": "equal-walter",
   "metadata": {
    "papermill": {
     "duration": 0.043067,
     "end_time": "2021-07-06T00:47:40.546615",
     "exception": false,
     "start_time": "2021-07-06T00:47:40.503548",
     "status": "completed"
    },
    "tags": []
   },
   "source": [
    "下記は、SettingsのInternetをONにして実行しないと、エラーになる。"
   ]
  },
  {
   "cell_type": "code",
   "execution_count": 3,
   "id": "durable-measurement",
   "metadata": {
    "_kg_hide-output": true,
    "execution": {
     "iopub.execute_input": "2021-07-06T00:47:40.638155Z",
     "iopub.status.busy": "2021-07-06T00:47:40.637631Z",
     "iopub.status.idle": "2021-07-06T00:48:01.489698Z",
     "shell.execute_reply": "2021-07-06T00:48:01.489248Z",
     "shell.execute_reply.started": "2021-07-06T00:24:51.217236Z"
    },
    "papermill": {
     "duration": 20.901047,
     "end_time": "2021-07-06T00:48:01.489825",
     "exception": false,
     "start_time": "2021-07-06T00:47:40.588778",
     "status": "completed"
    },
    "tags": []
   },
   "outputs": [
    {
     "name": "stdout",
     "output_type": "stream",
     "text": [
      "\r\n",
      "\r\n",
      "\r\n",
      "Suggested packages:\r\n",
      "  p7zip-full\r\n",
      "The following NEW packages will be installed:\r\n",
      "  p7zip\r\n",
      "0 upgraded, 1 newly installed, 0 to remove and 25 not upgraded.\r\n",
      "Need to get 358 kB of archives.\r\n",
      "After this operation, 996 kB of additional disk space will be used.\r\n",
      "Get:1 http://archive.ubuntu.com/ubuntu bionic/universe amd64 p7zip amd64 16.02+dfsg-6 [358 kB]\r\n",
      "Fetched 358 kB in 6s (62.0 kB/s)\r\n",
      "debconf: delaying package configuration, since apt-utils is not installed\r\n",
      "Selecting previously unselected package p7zip.\r\n",
      "(Reading database ... 100572 files and directories currently installed.)\r\n",
      "Preparing to unpack .../p7zip_16.02+dfsg-6_amd64.deb ...\r\n",
      "Unpacking p7zip (16.02+dfsg-6) ...\r\n",
      "Setting up p7zip (16.02+dfsg-6) ...\r\n",
      "\r\n",
      "7-Zip (a) [64] 16.02 : Copyright (c) 1999-2016 Igor Pavlov : 2016-05-21\r\n",
      "p7zip Version 16.02 (locale=C.UTF-8,Utf16=on,HugeFiles=on,64 bits,2 CPUs Intel(R) Xeon(R) CPU @ 2.00GHz (50653),ASM,AES-NI)\r\n",
      "\r\n",
      "Scanning the drive for archives:\r\n",
      "  0M Scan /kaggle/input/mercari-price-suggestion-challenge/\b\b\b\b\b\b\b\b\b\b\b\b\b\b\b\b\b\b\b\b\b\b\b\b\b\b\b\b\b\b\b\b\b\b\b\b\b\b\b\b\b\b\b\b\b\b\b\b\b\b\b\b\b\b\b\b\b\b\b                                                           \b\b\b\b\b\b\b\b\b\b\b\b\b\b\b\b\b\b\b\b\b\b\b\b\b\b\b\b\b\b\b\b\b\b\b\b\b\b\b\b\b\b\b\b\b\b\b\b\b\b\b\b\b\b\b\b\b\b\b1 file, 77912192 bytes (75 MiB)\r\n",
      "\r\n",
      "Extracting archive: /kaggle/input/mercari-price-suggestion-challenge/train.tsv.7z\r\n",
      "--\r\n",
      "Path = /kaggle/input/mercari-price-suggestion-challenge/train.tsv.7z\r\n",
      "Type = 7z\r\n",
      "Physical Size = 77912192\r\n",
      "Headers Size = 122\r\n",
      "Method = LZMA2:24\r\n",
      "Solid = -\r\n",
      "Blocks = 1\r\n",
      "\r\n",
      "  0%\b\b\b\b    \b\b\b\b  2% - train.tsv\b\b\b\b\b\b\b\b\b\b\b\b\b\b\b\b                \b\b\b\b\b\b\b\b\b\b\b\b\b\b\b\b  6% - train.tsv\b\b\b\b\b\b\b\b\b\b\b\b\b\b\b\b                \b\b\b\b\b\b\b\b\b\b\b\b\b\b\b\b  9% - train.tsv\b\b\b\b\b\b\b\b\b\b\b\b\b\b\b\b                \b\b\b\b\b\b\b\b\b\b\b\b\b\b\b\b 13% - train.tsv\b\b\b\b\b\b\b\b\b\b\b\b\b\b\b\b                \b\b\b\b\b\b\b\b\b\b\b\b\b\b\b\b 17% - train.tsv\b\b\b\b\b\b\b\b\b\b\b\b\b\b\b\b                \b\b\b\b\b\b\b\b\b\b\b\b\b\b\b\b 20% - train.tsv\b\b\b\b\b\b\b\b\b\b\b\b\b\b\b\b                \b\b\b\b\b\b\b\b\b\b\b\b\b\b\b\b 23% - train.tsv\b\b\b\b\b\b\b\b\b\b\b\b\b\b\b\b                \b\b\b\b\b\b\b\b\b\b\b\b\b\b\b\b 27% - train.tsv\b\b\b\b\b\b\b\b\b\b\b\b\b\b\b\b                \b\b\b\b\b\b\b\b\b\b\b\b\b\b\b\b 30% - train.tsv\b\b\b\b\b\b\b\b\b\b\b\b\b\b\b\b                \b\b\b\b\b\b\b\b\b\b\b\b\b\b\b\b 33% - train.tsv\b\b\b\b\b\b\b\b\b\b\b\b\b\b\b\b                \b\b\b\b\b\b\b\b\b\b\b\b\b\b\b\b 36% - train.tsv\b\b\b\b\b\b\b\b\b\b\b\b\b\b\b\b                \b\b\b\b\b\b\b\b\b\b\b\b\b\b\b\b 39% - train.tsv\b\b\b\b\b\b\b\b\b\b\b\b\b\b\b\b                \b\b\b\b\b\b\b\b\b\b\b\b\b\b\b\b 43% - train.tsv\b\b\b\b\b\b\b\b\b\b\b\b\b\b\b\b                \b\b\b\b\b\b\b\b\b\b\b\b\b\b\b\b 45% - train.tsv\b\b\b\b\b\b\b\b\b\b\b\b\b\b\b\b                \b\b\b\b\b\b\b\b\b\b\b\b\b\b\b\b 48% - train.tsv\b\b\b\b\b\b\b\b\b\b\b\b\b\b\b\b                \b\b\b\b\b\b\b\b\b\b\b\b\b\b\b\b 52% - train.tsv\b\b\b\b\b\b\b\b\b\b\b\b\b\b\b\b                \b\b\b\b\b\b\b\b\b\b\b\b\b\b\b\b 55% - train.tsv\b\b\b\b\b\b\b\b\b\b\b\b\b\b\b\b                \b\b\b\b\b\b\b\b\b\b\b\b\b\b\b\b 59% - train.tsv\b\b\b\b\b\b\b\b\b\b\b\b\b\b\b\b                \b\b\b\b\b\b\b\b\b\b\b\b\b\b\b\b 62% - train.tsv\b\b\b\b\b\b\b\b\b\b\b\b\b\b\b\b                \b\b\b\b\b\b\b\b\b\b\b\b\b\b\b\b 67% - train.tsv\b\b\b\b\b\b\b\b\b\b\b\b\b\b\b\b                \b\b\b\b\b\b\b\b\b\b\b\b\b\b\b\b 70% - train.tsv\b\b\b\b\b\b\b\b\b\b\b\b\b\b\b\b                \b\b\b\b\b\b\b\b\b\b\b\b\b\b\b\b 74% - train.tsv\b\b\b\b\b\b\b\b\b\b\b\b\b\b\b\b                \b\b\b\b\b\b\b\b\b\b\b\b\b\b\b\b 78% - train.tsv\b\b\b\b\b\b\b\b\b\b\b\b\b\b\b\b                \b\b\b\b\b\b\b\b\b\b\b\b\b\b\b\b 81% - train.tsv\b\b\b\b\b\b\b\b\b\b\b\b\b\b\b\b                \b\b\b\b\b\b\b\b\b\b\b\b\b\b\b\b 85% - train.tsv\b\b\b\b\b\b\b\b\b\b\b\b\b\b\b\b                \b\b\b\b\b\b\b\b\b\b\b\b\b\b\b\b 89% - train.tsv\b\b\b\b\b\b\b\b\b\b\b\b\b\b\b\b                \b\b\b\b\b\b\b\b\b\b\b\b\b\b\b\b 92% - train.tsv\b\b\b\b\b\b\b\b\b\b\b\b\b\b\b\b                \b\b\b\b\b\b\b\b\b\b\b\b\b\b\b\b 96% - train.tsv\b\b\b\b\b\b\b\b\b\b\b\b\b\b\b\b                \b\b\b\b\b\b\b\b\b\b\b\b\b\b\b\bEverything is Ok\r\n",
      "\r\n",
      "Size:       337809843\r\n",
      "Compressed: 77912192\r\n",
      "\r\n",
      "7-Zip (a) [64] 16.02 : Copyright (c) 1999-2016 Igor Pavlov : 2016-05-21\r\n",
      "p7zip Version 16.02 (locale=C.UTF-8,Utf16=on,HugeFiles=on,64 bits,2 CPUs Intel(R) Xeon(R) CPU @ 2.00GHz (50653),ASM,AES-NI)\r\n",
      "\r\n",
      "Scanning the drive for archives:\r\n",
      "  0M Scan /kaggle/input/mercari-price-suggestion-challenge/\b\b\b\b\b\b\b\b\b\b\b\b\b\b\b\b\b\b\b\b\b\b\b\b\b\b\b\b\b\b\b\b\b\b\b\b\b\b\b\b\b\b\b\b\b\b\b\b\b\b\b\b\b\b\b\b\b\b\b                                                           \b\b\b\b\b\b\b\b\b\b\b\b\b\b\b\b\b\b\b\b\b\b\b\b\b\b\b\b\b\b\b\b\b\b\b\b\b\b\b\b\b\b\b\b\b\b\b\b\b\b\b\b\b\b\b\b\b\b\b1 file, 35617013 bytes (34 MiB)\r\n",
      "\r\n",
      "Extracting archive: /kaggle/input/mercari-price-suggestion-challenge/test.tsv.7z\r\n",
      "--\r\n",
      "Path = /kaggle/input/mercari-price-suggestion-challenge/test.tsv.7z\r\n",
      "Type = 7z\r\n",
      "Physical Size = 35617013\r\n",
      "Headers Size = 122\r\n",
      "Method = LZMA2:24\r\n",
      "Solid = -\r\n",
      "Blocks = 1\r\n",
      "\r\n",
      "  0%\b\b\b\b    \b\b\b\b  5% - test.tsv\b\b\b\b\b\b\b\b\b\b\b\b\b\b\b               \b\b\b\b\b\b\b\b\b\b\b\b\b\b\b 13% - test.tsv\b\b\b\b\b\b\b\b\b\b\b\b\b\b\b               \b\b\b\b\b\b\b\b\b\b\b\b\b\b\b 21% - test.tsv\b\b\b\b\b\b\b\b\b\b\b\b\b\b\b               \b\b\b\b\b\b\b\b\b\b\b\b\b\b\b 29% - test.tsv\b\b\b\b\b\b\b\b\b\b\b\b\b\b\b               \b\b\b\b\b\b\b\b\b\b\b\b\b\b\b 35% - test.tsv\b\b\b\b\b\b\b\b\b\b\b\b\b\b\b               \b\b\b\b\b\b\b\b\b\b\b\b\b\b\b 43% - test.tsv\b\b\b\b\b\b\b\b\b\b\b\b\b\b\b               \b\b\b\b\b\b\b\b\b\b\b\b\b\b\b 51% - test.tsv\b\b\b\b\b\b\b\b\b\b\b\b\b\b\b               \b\b\b\b\b\b\b\b\b\b\b\b\b\b\b 59% - test.tsv\b\b\b\b\b\b\b\b\b\b\b\b\b\b\b               \b\b\b\b\b\b\b\b\b\b\b\b\b\b\b 67% - test.tsv\b\b\b\b\b\b\b\b\b\b\b\b\b\b\b               \b\b\b\b\b\b\b\b\b\b\b\b\b\b\b 76% - test.tsv\b\b\b\b\b\b\b\b\b\b\b\b\b\b\b               \b\b\b\b\b\b\b\b\b\b\b\b\b\b\b 84% - test.tsv\b\b\b\b\b\b\b\b\b\b\b\b\b\b\b               \b\b\b\b\b\b\b\b\b\b\b\b\b\b\b 92% - test.tsv\b\b\b\b\b\b\b\b\b\b\b\b\b\b\b               \b\b\b\b\b\b\b\b\b\b\b\b\b\b\bEverything is Ok\r\n",
      "\r\n",
      "Size:       154222160\r\n",
      "Compressed: 35617013\r\n",
      "\r\n",
      "7-Zip (a) [64] 16.02 : Copyright (c) 1999-2016 Igor Pavlov : 2016-05-21\r\n",
      "p7zip Version 16.02 (locale=C.UTF-8,Utf16=on,HugeFiles=on,64 bits,2 CPUs Intel(R) Xeon(R) CPU @ 2.00GHz (50653),ASM,AES-NI)\r\n",
      "\r\n",
      "Scanning the drive for archives:\r\n",
      "  0M Scan /kaggle/input/mercari-price-suggestion-challenge/\b\b\b\b\b\b\b\b\b\b\b\b\b\b\b\b\b\b\b\b\b\b\b\b\b\b\b\b\b\b\b\b\b\b\b\b\b\b\b\b\b\b\b\b\b\b\b\b\b\b\b\b\b\b\b\b\b\b\b                                                           \b\b\b\b\b\b\b\b\b\b\b\b\b\b\b\b\b\b\b\b\b\b\b\b\b\b\b\b\b\b\b\b\b\b\b\b\b\b\b\b\b\b\b\b\b\b\b\b\b\b\b\b\b\b\b\b\b\b\b1 file, 174228 bytes (171 KiB)\r\n",
      "\r\n",
      "Extracting archive: /kaggle/input/mercari-price-suggestion-challenge/sample_submission.csv.7z\r\n",
      "--\r\n",
      "Path = /kaggle/input/mercari-price-suggestion-challenge/sample_submission.csv.7z\r\n",
      "Type = 7z\r\n",
      "Physical Size = 174228\r\n",
      "Headers Size = 143\r\n",
      "Method = LZMA:12m\r\n",
      "Solid = -\r\n",
      "Blocks = 1\r\n",
      "\r\n",
      "  0%\b\b\b\b    \b\b\b\bEverything is Ok\r\n",
      "\r\n",
      "Size:       9595930\r\n",
      "Compressed: 174228\r\n"
     ]
    }
   ],
   "source": [
    "!apt-get install p7zip\n",
    "!p7zip -d -f -k /kaggle/input/mercari-price-suggestion-challenge/train.tsv.7z\n",
    "!p7zip -d -f -k /kaggle/input/mercari-price-suggestion-challenge/test.tsv.7z\n",
    "!p7zip -d -f -k /kaggle/input/mercari-price-suggestion-challenge/sample_submission.csv.7z"
   ]
  },
  {
   "cell_type": "code",
   "execution_count": 4,
   "id": "parental-ecology",
   "metadata": {
    "_kg_hide-output": true,
    "execution": {
     "iopub.execute_input": "2021-07-06T00:48:01.625205Z",
     "iopub.status.busy": "2021-07-06T00:48:01.624423Z",
     "iopub.status.idle": "2021-07-06T00:48:11.197835Z",
     "shell.execute_reply": "2021-07-06T00:48:11.197044Z",
     "shell.execute_reply.started": "2021-07-06T00:25:11.745880Z"
    },
    "papermill": {
     "duration": 9.645049,
     "end_time": "2021-07-06T00:48:11.197970",
     "exception": false,
     "start_time": "2021-07-06T00:48:01.552921",
     "status": "completed"
    },
    "tags": []
   },
   "outputs": [
    {
     "name": "stdout",
     "output_type": "stream",
     "text": [
      "Archive:  /kaggle/input/mercari-price-suggestion-challenge/sample_submission_stg2.csv.zip\r\n",
      "  inflating: sample_submission_stg2.csv  \r\n",
      "Archive:  /kaggle/input/mercari-price-suggestion-challenge/test_stg2.tsv.zip\r\n",
      "  inflating: test_stg2.tsv           \r\n"
     ]
    }
   ],
   "source": [
    "!unzip /kaggle/input/mercari-price-suggestion-challenge/sample_submission_stg2.csv.zip\n",
    "!unzip /kaggle/input/mercari-price-suggestion-challenge/test_stg2.tsv.zip"
   ]
  },
  {
   "cell_type": "markdown",
   "id": "random-roman",
   "metadata": {
    "papermill": {
     "duration": 0.063414,
     "end_time": "2021-07-06T00:48:11.325461",
     "exception": false,
     "start_time": "2021-07-06T00:48:11.262047",
     "status": "completed"
    },
    "tags": []
   },
   "source": [
    "# Datasets"
   ]
  },
  {
   "cell_type": "code",
   "execution_count": 5,
   "id": "inside-rebecca",
   "metadata": {
    "execution": {
     "iopub.execute_input": "2021-07-06T00:48:12.728057Z",
     "iopub.status.busy": "2021-07-06T00:48:12.727044Z",
     "iopub.status.idle": "2021-07-06T00:48:16.947140Z",
     "shell.execute_reply": "2021-07-06T00:48:16.946700Z",
     "shell.execute_reply.started": "2021-07-06T00:25:22.974395Z"
    },
    "papermill": {
     "duration": 5.559125,
     "end_time": "2021-07-06T00:48:16.947310",
     "exception": false,
     "start_time": "2021-07-06T00:48:11.388185",
     "status": "completed"
    },
    "tags": []
   },
   "outputs": [
    {
     "name": "stdout",
     "output_type": "stream",
     "text": [
      "(1482535, 8)\n"
     ]
    },
    {
     "data": {
      "text/html": [
       "<div>\n",
       "<style scoped>\n",
       "    .dataframe tbody tr th:only-of-type {\n",
       "        vertical-align: middle;\n",
       "    }\n",
       "\n",
       "    .dataframe tbody tr th {\n",
       "        vertical-align: top;\n",
       "    }\n",
       "\n",
       "    .dataframe thead th {\n",
       "        text-align: right;\n",
       "    }\n",
       "</style>\n",
       "<table border=\"1\" class=\"dataframe\">\n",
       "  <thead>\n",
       "    <tr style=\"text-align: right;\">\n",
       "      <th></th>\n",
       "      <th>train_id</th>\n",
       "      <th>name</th>\n",
       "      <th>item_condition_id</th>\n",
       "      <th>category_name</th>\n",
       "      <th>brand_name</th>\n",
       "      <th>price</th>\n",
       "      <th>shipping</th>\n",
       "      <th>item_description</th>\n",
       "    </tr>\n",
       "  </thead>\n",
       "  <tbody>\n",
       "    <tr>\n",
       "      <th>0</th>\n",
       "      <td>0</td>\n",
       "      <td>MLB Cincinnati Reds T Shirt Size XL</td>\n",
       "      <td>3</td>\n",
       "      <td>Men/Tops/T-shirts</td>\n",
       "      <td>NaN</td>\n",
       "      <td>10.0</td>\n",
       "      <td>1</td>\n",
       "      <td>No description yet</td>\n",
       "    </tr>\n",
       "    <tr>\n",
       "      <th>1</th>\n",
       "      <td>1</td>\n",
       "      <td>Razer BlackWidow Chroma Keyboard</td>\n",
       "      <td>3</td>\n",
       "      <td>Electronics/Computers &amp; Tablets/Components &amp; P...</td>\n",
       "      <td>Razer</td>\n",
       "      <td>52.0</td>\n",
       "      <td>0</td>\n",
       "      <td>This keyboard is in great condition and works ...</td>\n",
       "    </tr>\n",
       "    <tr>\n",
       "      <th>2</th>\n",
       "      <td>2</td>\n",
       "      <td>AVA-VIV Blouse</td>\n",
       "      <td>1</td>\n",
       "      <td>Women/Tops &amp; Blouses/Blouse</td>\n",
       "      <td>Target</td>\n",
       "      <td>10.0</td>\n",
       "      <td>1</td>\n",
       "      <td>Adorable top with a hint of lace and a key hol...</td>\n",
       "    </tr>\n",
       "    <tr>\n",
       "      <th>3</th>\n",
       "      <td>3</td>\n",
       "      <td>Leather Horse Statues</td>\n",
       "      <td>1</td>\n",
       "      <td>Home/Home Décor/Home Décor Accents</td>\n",
       "      <td>NaN</td>\n",
       "      <td>35.0</td>\n",
       "      <td>1</td>\n",
       "      <td>New with tags. Leather horses. Retail for [rm]...</td>\n",
       "    </tr>\n",
       "    <tr>\n",
       "      <th>4</th>\n",
       "      <td>4</td>\n",
       "      <td>24K GOLD plated rose</td>\n",
       "      <td>1</td>\n",
       "      <td>Women/Jewelry/Necklaces</td>\n",
       "      <td>NaN</td>\n",
       "      <td>44.0</td>\n",
       "      <td>0</td>\n",
       "      <td>Complete with certificate of authenticity</td>\n",
       "    </tr>\n",
       "    <tr>\n",
       "      <th>5</th>\n",
       "      <td>5</td>\n",
       "      <td>Bundled items requested for Ruie</td>\n",
       "      <td>3</td>\n",
       "      <td>Women/Other/Other</td>\n",
       "      <td>NaN</td>\n",
       "      <td>59.0</td>\n",
       "      <td>0</td>\n",
       "      <td>Banana republic bottoms, Candies skirt with ma...</td>\n",
       "    </tr>\n",
       "    <tr>\n",
       "      <th>6</th>\n",
       "      <td>6</td>\n",
       "      <td>Acacia pacific tides santorini top</td>\n",
       "      <td>3</td>\n",
       "      <td>Women/Swimwear/Two-Piece</td>\n",
       "      <td>Acacia Swimwear</td>\n",
       "      <td>64.0</td>\n",
       "      <td>0</td>\n",
       "      <td>Size small but straps slightly shortened to fi...</td>\n",
       "    </tr>\n",
       "    <tr>\n",
       "      <th>7</th>\n",
       "      <td>7</td>\n",
       "      <td>Girls cheer and tumbling bundle of 7</td>\n",
       "      <td>3</td>\n",
       "      <td>Sports &amp; Outdoors/Apparel/Girls</td>\n",
       "      <td>Soffe</td>\n",
       "      <td>6.0</td>\n",
       "      <td>1</td>\n",
       "      <td>You get three pairs of Sophie cheer shorts siz...</td>\n",
       "    </tr>\n",
       "    <tr>\n",
       "      <th>8</th>\n",
       "      <td>8</td>\n",
       "      <td>Girls Nike Pro shorts</td>\n",
       "      <td>3</td>\n",
       "      <td>Sports &amp; Outdoors/Apparel/Girls</td>\n",
       "      <td>Nike</td>\n",
       "      <td>19.0</td>\n",
       "      <td>0</td>\n",
       "      <td>Girls Size small Plus green. Three shorts total.</td>\n",
       "    </tr>\n",
       "    <tr>\n",
       "      <th>9</th>\n",
       "      <td>9</td>\n",
       "      <td>Porcelain clown doll checker pants VTG</td>\n",
       "      <td>3</td>\n",
       "      <td>Vintage &amp; Collectibles/Collectibles/Doll</td>\n",
       "      <td>NaN</td>\n",
       "      <td>8.0</td>\n",
       "      <td>0</td>\n",
       "      <td>I realized his pants are on backwards after th...</td>\n",
       "    </tr>\n",
       "  </tbody>\n",
       "</table>\n",
       "</div>"
      ],
      "text/plain": [
       "   train_id                                    name  item_condition_id  \\\n",
       "0         0     MLB Cincinnati Reds T Shirt Size XL                  3   \n",
       "1         1        Razer BlackWidow Chroma Keyboard                  3   \n",
       "2         2                          AVA-VIV Blouse                  1   \n",
       "3         3                   Leather Horse Statues                  1   \n",
       "4         4                    24K GOLD plated rose                  1   \n",
       "5         5        Bundled items requested for Ruie                  3   \n",
       "6         6      Acacia pacific tides santorini top                  3   \n",
       "7         7    Girls cheer and tumbling bundle of 7                  3   \n",
       "8         8                   Girls Nike Pro shorts                  3   \n",
       "9         9  Porcelain clown doll checker pants VTG                  3   \n",
       "\n",
       "                                       category_name       brand_name  price  \\\n",
       "0                                  Men/Tops/T-shirts              NaN   10.0   \n",
       "1  Electronics/Computers & Tablets/Components & P...            Razer   52.0   \n",
       "2                        Women/Tops & Blouses/Blouse           Target   10.0   \n",
       "3                 Home/Home Décor/Home Décor Accents              NaN   35.0   \n",
       "4                            Women/Jewelry/Necklaces              NaN   44.0   \n",
       "5                                  Women/Other/Other              NaN   59.0   \n",
       "6                           Women/Swimwear/Two-Piece  Acacia Swimwear   64.0   \n",
       "7                    Sports & Outdoors/Apparel/Girls            Soffe    6.0   \n",
       "8                    Sports & Outdoors/Apparel/Girls             Nike   19.0   \n",
       "9           Vintage & Collectibles/Collectibles/Doll              NaN    8.0   \n",
       "\n",
       "   shipping                                   item_description  \n",
       "0         1                                 No description yet  \n",
       "1         0  This keyboard is in great condition and works ...  \n",
       "2         1  Adorable top with a hint of lace and a key hol...  \n",
       "3         1  New with tags. Leather horses. Retail for [rm]...  \n",
       "4         0          Complete with certificate of authenticity  \n",
       "5         0  Banana republic bottoms, Candies skirt with ma...  \n",
       "6         0  Size small but straps slightly shortened to fi...  \n",
       "7         1  You get three pairs of Sophie cheer shorts siz...  \n",
       "8         0   Girls Size small Plus green. Three shorts total.  \n",
       "9         0  I realized his pants are on backwards after th...  "
      ]
     },
     "execution_count": 5,
     "metadata": {},
     "output_type": "execute_result"
    }
   ],
   "source": [
    "train = pd.read_csv('train.tsv', sep='\\t')\n",
    "\n",
    "print(train.shape)\n",
    "train.head(10)"
   ]
  },
  {
   "cell_type": "code",
   "execution_count": 6,
   "id": "focal-grant",
   "metadata": {
    "_kg_hide-input": true,
    "execution": {
     "iopub.execute_input": "2021-07-06T00:48:17.230664Z",
     "iopub.status.busy": "2021-07-06T00:48:17.229916Z",
     "iopub.status.idle": "2021-07-06T00:48:17.234959Z",
     "shell.execute_reply": "2021-07-06T00:48:17.234516Z",
     "shell.execute_reply.started": "2021-07-06T00:25:27.867763Z"
    },
    "papermill": {
     "duration": 0.218232,
     "end_time": "2021-07-06T00:48:17.235071",
     "exception": false,
     "start_time": "2021-07-06T00:48:17.016839",
     "status": "completed"
    },
    "tags": []
   },
   "outputs": [
    {
     "data": {
      "text/html": [
       "<div>\n",
       "<style scoped>\n",
       "    .dataframe tbody tr th:only-of-type {\n",
       "        vertical-align: middle;\n",
       "    }\n",
       "\n",
       "    .dataframe tbody tr th {\n",
       "        vertical-align: top;\n",
       "    }\n",
       "\n",
       "    .dataframe thead th {\n",
       "        text-align: right;\n",
       "    }\n",
       "</style>\n",
       "<table border=\"1\" class=\"dataframe\">\n",
       "  <thead>\n",
       "    <tr style=\"text-align: right;\">\n",
       "      <th></th>\n",
       "      <th>カラム</th>\n",
       "      <th>意味</th>\n",
       "    </tr>\n",
       "  </thead>\n",
       "  <tbody>\n",
       "    <tr>\n",
       "      <th>0</th>\n",
       "      <td>train_id</td>\n",
       "      <td>商品ID</td>\n",
       "    </tr>\n",
       "    <tr>\n",
       "      <th>1</th>\n",
       "      <td>name</td>\n",
       "      <td>商品名</td>\n",
       "    </tr>\n",
       "    <tr>\n",
       "      <th>2</th>\n",
       "      <td>item_condition_id</td>\n",
       "      <td>商品の状態</td>\n",
       "    </tr>\n",
       "    <tr>\n",
       "      <th>3</th>\n",
       "      <td>category_name</td>\n",
       "      <td>カテゴリー名</td>\n",
       "    </tr>\n",
       "    <tr>\n",
       "      <th>4</th>\n",
       "      <td>brand_name</td>\n",
       "      <td>ブランド名</td>\n",
       "    </tr>\n",
       "    <tr>\n",
       "      <th>5</th>\n",
       "      <td>price</td>\n",
       "      <td>価格（単位：ドル）</td>\n",
       "    </tr>\n",
       "    <tr>\n",
       "      <th>6</th>\n",
       "      <td>shipping</td>\n",
       "      <td>送料が売手負担かどうか</td>\n",
       "    </tr>\n",
       "    <tr>\n",
       "      <th>7</th>\n",
       "      <td>item_description</td>\n",
       "      <td>商品説明</td>\n",
       "    </tr>\n",
       "  </tbody>\n",
       "</table>\n",
       "</div>"
      ],
      "text/plain": [
       "                 カラム           意味\n",
       "0           train_id         商品ID\n",
       "1               name          商品名\n",
       "2  item_condition_id        商品の状態\n",
       "3      category_name       カテゴリー名\n",
       "4         brand_name        ブランド名\n",
       "5              price    価格（単位：ドル）\n",
       "6           shipping  送料が売手負担かどうか\n",
       "7   item_description         商品説明"
      ]
     },
     "execution_count": 6,
     "metadata": {},
     "output_type": "execute_result"
    }
   ],
   "source": [
    "pd.DataFrame([['train_id', '商品ID'],\n",
    "              ['name', '商品名'],\n",
    "              ['item_condition_id', '商品の状態'],\n",
    "              ['category_name', 'カテゴリー名'],\n",
    "              ['brand_name', 'ブランド名'],\n",
    "              ['price', '価格（単位：ドル）'],\n",
    "              ['shipping', '送料が売手負担かどうか'],['item_description', '商品説明']],\n",
    "              columns=['カラム', '意味'])"
   ]
  },
  {
   "cell_type": "markdown",
   "id": "complex-quebec",
   "metadata": {
    "execution": {
     "iopub.execute_input": "2021-07-02T06:56:15.612722Z",
     "iopub.status.busy": "2021-07-02T06:56:15.612322Z",
     "iopub.status.idle": "2021-07-02T06:56:15.618286Z",
     "shell.execute_reply": "2021-07-02T06:56:15.617229Z",
     "shell.execute_reply.started": "2021-07-02T06:56:15.612688Z"
    },
    "papermill": {
     "duration": 0.064521,
     "end_time": "2021-07-06T00:48:17.364348",
     "exception": false,
     "start_time": "2021-07-06T00:48:17.299827",
     "status": "completed"
    },
    "tags": []
   },
   "source": [
    "testデータは、test.tsvとtest_stg2.tsvがある。<br>\n",
    "submitのときには、test_stg2を使用する。"
   ]
  },
  {
   "cell_type": "code",
   "execution_count": 7,
   "id": "powerful-suggestion",
   "metadata": {
    "execution": {
     "iopub.execute_input": "2021-07-06T00:48:17.498887Z",
     "iopub.status.busy": "2021-07-06T00:48:17.498102Z",
     "iopub.status.idle": "2021-07-06T00:48:19.642041Z",
     "shell.execute_reply": "2021-07-06T00:48:19.641435Z",
     "shell.execute_reply.started": "2021-07-06T00:25:27.884114Z"
    },
    "papermill": {
     "duration": 2.213281,
     "end_time": "2021-07-06T00:48:19.642220",
     "exception": false,
     "start_time": "2021-07-06T00:48:17.428939",
     "status": "completed"
    },
    "tags": []
   },
   "outputs": [
    {
     "name": "stdout",
     "output_type": "stream",
     "text": [
      "(693359, 7)\n"
     ]
    },
    {
     "data": {
      "text/html": [
       "<div>\n",
       "<style scoped>\n",
       "    .dataframe tbody tr th:only-of-type {\n",
       "        vertical-align: middle;\n",
       "    }\n",
       "\n",
       "    .dataframe tbody tr th {\n",
       "        vertical-align: top;\n",
       "    }\n",
       "\n",
       "    .dataframe thead th {\n",
       "        text-align: right;\n",
       "    }\n",
       "</style>\n",
       "<table border=\"1\" class=\"dataframe\">\n",
       "  <thead>\n",
       "    <tr style=\"text-align: right;\">\n",
       "      <th></th>\n",
       "      <th>test_id</th>\n",
       "      <th>name</th>\n",
       "      <th>item_condition_id</th>\n",
       "      <th>category_name</th>\n",
       "      <th>brand_name</th>\n",
       "      <th>shipping</th>\n",
       "      <th>item_description</th>\n",
       "    </tr>\n",
       "  </thead>\n",
       "  <tbody>\n",
       "    <tr>\n",
       "      <th>0</th>\n",
       "      <td>0</td>\n",
       "      <td>Breast cancer \"I fight like a girl\" ring</td>\n",
       "      <td>1</td>\n",
       "      <td>Women/Jewelry/Rings</td>\n",
       "      <td>NaN</td>\n",
       "      <td>1</td>\n",
       "      <td>Size 7</td>\n",
       "    </tr>\n",
       "    <tr>\n",
       "      <th>1</th>\n",
       "      <td>1</td>\n",
       "      <td>25 pcs NEW 7.5\"x12\" Kraft Bubble Mailers</td>\n",
       "      <td>1</td>\n",
       "      <td>Other/Office supplies/Shipping Supplies</td>\n",
       "      <td>NaN</td>\n",
       "      <td>1</td>\n",
       "      <td>25 pcs NEW 7.5\"x12\" Kraft Bubble Mailers Lined...</td>\n",
       "    </tr>\n",
       "    <tr>\n",
       "      <th>2</th>\n",
       "      <td>2</td>\n",
       "      <td>Coach bag</td>\n",
       "      <td>1</td>\n",
       "      <td>Vintage &amp; Collectibles/Bags and Purses/Handbag</td>\n",
       "      <td>Coach</td>\n",
       "      <td>1</td>\n",
       "      <td>Brand new coach bag. Bought for [rm] at a Coac...</td>\n",
       "    </tr>\n",
       "    <tr>\n",
       "      <th>3</th>\n",
       "      <td>3</td>\n",
       "      <td>Floral Kimono</td>\n",
       "      <td>2</td>\n",
       "      <td>Women/Sweaters/Cardigan</td>\n",
       "      <td>NaN</td>\n",
       "      <td>0</td>\n",
       "      <td>-floral kimono -never worn -lightweight and pe...</td>\n",
       "    </tr>\n",
       "    <tr>\n",
       "      <th>4</th>\n",
       "      <td>4</td>\n",
       "      <td>Life after Death</td>\n",
       "      <td>3</td>\n",
       "      <td>Other/Books/Religion &amp; Spirituality</td>\n",
       "      <td>NaN</td>\n",
       "      <td>1</td>\n",
       "      <td>Rediscovering life after the loss of a loved o...</td>\n",
       "    </tr>\n",
       "    <tr>\n",
       "      <th>5</th>\n",
       "      <td>5</td>\n",
       "      <td>iPhone 6 Plus or 6s Plus Vodka pink case</td>\n",
       "      <td>1</td>\n",
       "      <td>Electronics/Cell Phones &amp; Accessories/Cases, C...</td>\n",
       "      <td>NaN</td>\n",
       "      <td>1</td>\n",
       "      <td>One Absolut Vodka in Pink for iPhone 6 Plus an...</td>\n",
       "    </tr>\n",
       "    <tr>\n",
       "      <th>6</th>\n",
       "      <td>6</td>\n",
       "      <td>Vintage Cameo Pendant &amp; Brooch Pin</td>\n",
       "      <td>3</td>\n",
       "      <td>Women/Jewelry/Necklaces</td>\n",
       "      <td>Vintage</td>\n",
       "      <td>1</td>\n",
       "      <td>Two vintage Cameo pieces. 1. Silver metal Lock...</td>\n",
       "    </tr>\n",
       "    <tr>\n",
       "      <th>7</th>\n",
       "      <td>7</td>\n",
       "      <td>Rose Gold Stainless Steel Quartz Watch</td>\n",
       "      <td>1</td>\n",
       "      <td>Women/Women's Accessories/Watches</td>\n",
       "      <td>NaN</td>\n",
       "      <td>1</td>\n",
       "      <td>Brand new Price firm No trades Box included wi...</td>\n",
       "    </tr>\n",
       "    <tr>\n",
       "      <th>8</th>\n",
       "      <td>8</td>\n",
       "      <td>Daisy Marc Jacobs 3.4oz</td>\n",
       "      <td>3</td>\n",
       "      <td>Beauty/Fragrance/Women</td>\n",
       "      <td>MARC JACOBS</td>\n",
       "      <td>0</td>\n",
       "      <td>Brand new No box 100% authentic Firm price NO ...</td>\n",
       "    </tr>\n",
       "    <tr>\n",
       "      <th>9</th>\n",
       "      <td>9</td>\n",
       "      <td>Rose Brushes and Silicone Sponge</td>\n",
       "      <td>1</td>\n",
       "      <td>Beauty/Tools &amp; Accessories/Makeup Brushes &amp; Tools</td>\n",
       "      <td>NaN</td>\n",
       "      <td>1</td>\n",
       "      <td>All new. 12 pcs makeup brushes and one Silicon...</td>\n",
       "    </tr>\n",
       "  </tbody>\n",
       "</table>\n",
       "</div>"
      ],
      "text/plain": [
       "   test_id                                      name  item_condition_id  \\\n",
       "0        0  Breast cancer \"I fight like a girl\" ring                  1   \n",
       "1        1  25 pcs NEW 7.5\"x12\" Kraft Bubble Mailers                  1   \n",
       "2        2                                 Coach bag                  1   \n",
       "3        3                             Floral Kimono                  2   \n",
       "4        4                          Life after Death                  3   \n",
       "5        5  iPhone 6 Plus or 6s Plus Vodka pink case                  1   \n",
       "6        6        Vintage Cameo Pendant & Brooch Pin                  3   \n",
       "7        7    Rose Gold Stainless Steel Quartz Watch                  1   \n",
       "8        8                   Daisy Marc Jacobs 3.4oz                  3   \n",
       "9        9          Rose Brushes and Silicone Sponge                  1   \n",
       "\n",
       "                                       category_name   brand_name  shipping  \\\n",
       "0                                Women/Jewelry/Rings          NaN         1   \n",
       "1            Other/Office supplies/Shipping Supplies          NaN         1   \n",
       "2     Vintage & Collectibles/Bags and Purses/Handbag        Coach         1   \n",
       "3                            Women/Sweaters/Cardigan          NaN         0   \n",
       "4                Other/Books/Religion & Spirituality          NaN         1   \n",
       "5  Electronics/Cell Phones & Accessories/Cases, C...          NaN         1   \n",
       "6                            Women/Jewelry/Necklaces      Vintage         1   \n",
       "7                  Women/Women's Accessories/Watches          NaN         1   \n",
       "8                             Beauty/Fragrance/Women  MARC JACOBS         0   \n",
       "9  Beauty/Tools & Accessories/Makeup Brushes & Tools          NaN         1   \n",
       "\n",
       "                                    item_description  \n",
       "0                                             Size 7  \n",
       "1  25 pcs NEW 7.5\"x12\" Kraft Bubble Mailers Lined...  \n",
       "2  Brand new coach bag. Bought for [rm] at a Coac...  \n",
       "3  -floral kimono -never worn -lightweight and pe...  \n",
       "4  Rediscovering life after the loss of a loved o...  \n",
       "5  One Absolut Vodka in Pink for iPhone 6 Plus an...  \n",
       "6  Two vintage Cameo pieces. 1. Silver metal Lock...  \n",
       "7  Brand new Price firm No trades Box included wi...  \n",
       "8  Brand new No box 100% authentic Firm price NO ...  \n",
       "9  All new. 12 pcs makeup brushes and one Silicon...  "
      ]
     },
     "execution_count": 7,
     "metadata": {},
     "output_type": "execute_result"
    }
   ],
   "source": [
    "test_dummy = pd.read_csv('test.tsv', sep='\\t')\n",
    "\n",
    "print(test_dummy.shape)\n",
    "test_dummy.head(10)"
   ]
  },
  {
   "cell_type": "code",
   "execution_count": 8,
   "id": "continuing-heavy",
   "metadata": {
    "_kg_hide-input": true,
    "execution": {
     "iopub.execute_input": "2021-07-06T00:48:19.787221Z",
     "iopub.status.busy": "2021-07-06T00:48:19.786611Z",
     "iopub.status.idle": "2021-07-06T00:48:19.791809Z",
     "shell.execute_reply": "2021-07-06T00:48:19.791409Z",
     "shell.execute_reply.started": "2021-07-06T00:25:29.863004Z"
    },
    "papermill": {
     "duration": 0.082152,
     "end_time": "2021-07-06T00:48:19.791920",
     "exception": false,
     "start_time": "2021-07-06T00:48:19.709768",
     "status": "completed"
    },
    "tags": []
   },
   "outputs": [
    {
     "data": {
      "text/html": [
       "<div>\n",
       "<style scoped>\n",
       "    .dataframe tbody tr th:only-of-type {\n",
       "        vertical-align: middle;\n",
       "    }\n",
       "\n",
       "    .dataframe tbody tr th {\n",
       "        vertical-align: top;\n",
       "    }\n",
       "\n",
       "    .dataframe thead th {\n",
       "        text-align: right;\n",
       "    }\n",
       "</style>\n",
       "<table border=\"1\" class=\"dataframe\">\n",
       "  <thead>\n",
       "    <tr style=\"text-align: right;\">\n",
       "      <th></th>\n",
       "      <th>カラム</th>\n",
       "      <th>意味</th>\n",
       "    </tr>\n",
       "  </thead>\n",
       "  <tbody>\n",
       "    <tr>\n",
       "      <th>0</th>\n",
       "      <td>test_id</td>\n",
       "      <td>商品ID</td>\n",
       "    </tr>\n",
       "    <tr>\n",
       "      <th>1</th>\n",
       "      <td>name</td>\n",
       "      <td>商品名</td>\n",
       "    </tr>\n",
       "    <tr>\n",
       "      <th>2</th>\n",
       "      <td>item_condition_id</td>\n",
       "      <td>商品の状態</td>\n",
       "    </tr>\n",
       "    <tr>\n",
       "      <th>3</th>\n",
       "      <td>category_name</td>\n",
       "      <td>カテゴリー名</td>\n",
       "    </tr>\n",
       "    <tr>\n",
       "      <th>4</th>\n",
       "      <td>brand_name</td>\n",
       "      <td>ブランド名</td>\n",
       "    </tr>\n",
       "    <tr>\n",
       "      <th>5</th>\n",
       "      <td>shipping</td>\n",
       "      <td>送料が売手負担かどうか</td>\n",
       "    </tr>\n",
       "    <tr>\n",
       "      <th>6</th>\n",
       "      <td>item_description</td>\n",
       "      <td>商品説明</td>\n",
       "    </tr>\n",
       "  </tbody>\n",
       "</table>\n",
       "</div>"
      ],
      "text/plain": [
       "                 カラム           意味\n",
       "0            test_id         商品ID\n",
       "1               name          商品名\n",
       "2  item_condition_id        商品の状態\n",
       "3      category_name       カテゴリー名\n",
       "4         brand_name        ブランド名\n",
       "5           shipping  送料が売手負担かどうか\n",
       "6   item_description         商品説明"
      ]
     },
     "execution_count": 8,
     "metadata": {},
     "output_type": "execute_result"
    }
   ],
   "source": [
    "pd.DataFrame([['test_id', '商品ID'],\n",
    "              ['name', '商品名'],\n",
    "              ['item_condition_id', '商品の状態'],\n",
    "              ['category_name', 'カテゴリー名'],\n",
    "              ['brand_name', 'ブランド名'],\n",
    "              ['shipping', '送料が売手負担かどうか'],['item_description', '商品説明']],\n",
    "              columns=['カラム', '意味'])"
   ]
  },
  {
   "cell_type": "code",
   "execution_count": 9,
   "id": "dried-outside",
   "metadata": {
    "execution": {
     "iopub.execute_input": "2021-07-06T00:48:19.929107Z",
     "iopub.status.busy": "2021-07-06T00:48:19.928417Z",
     "iopub.status.idle": "2021-07-06T00:48:30.223651Z",
     "shell.execute_reply": "2021-07-06T00:48:30.223221Z",
     "shell.execute_reply.started": "2021-07-06T00:25:29.877409Z"
    },
    "papermill": {
     "duration": 10.365765,
     "end_time": "2021-07-06T00:48:30.223774",
     "exception": false,
     "start_time": "2021-07-06T00:48:19.858009",
     "status": "completed"
    },
    "tags": []
   },
   "outputs": [
    {
     "name": "stdout",
     "output_type": "stream",
     "text": [
      "(3460725, 7)\n"
     ]
    },
    {
     "data": {
      "text/html": [
       "<div>\n",
       "<style scoped>\n",
       "    .dataframe tbody tr th:only-of-type {\n",
       "        vertical-align: middle;\n",
       "    }\n",
       "\n",
       "    .dataframe tbody tr th {\n",
       "        vertical-align: top;\n",
       "    }\n",
       "\n",
       "    .dataframe thead th {\n",
       "        text-align: right;\n",
       "    }\n",
       "</style>\n",
       "<table border=\"1\" class=\"dataframe\">\n",
       "  <thead>\n",
       "    <tr style=\"text-align: right;\">\n",
       "      <th></th>\n",
       "      <th>test_id</th>\n",
       "      <th>name</th>\n",
       "      <th>item_condition_id</th>\n",
       "      <th>category_name</th>\n",
       "      <th>brand_name</th>\n",
       "      <th>shipping</th>\n",
       "      <th>item_description</th>\n",
       "    </tr>\n",
       "  </thead>\n",
       "  <tbody>\n",
       "    <tr>\n",
       "      <th>0</th>\n",
       "      <td>0</td>\n",
       "      <td>Breast cancer \"I fight like a girl\" ring</td>\n",
       "      <td>1</td>\n",
       "      <td>Women/Jewelry/Rings</td>\n",
       "      <td>NaN</td>\n",
       "      <td>1</td>\n",
       "      <td>Size 7</td>\n",
       "    </tr>\n",
       "    <tr>\n",
       "      <th>1</th>\n",
       "      <td>1</td>\n",
       "      <td>25 pcs NEW 7.5\"x12\" Kraft Bubble Mailers</td>\n",
       "      <td>1</td>\n",
       "      <td>Other/Office supplies/Shipping Supplies</td>\n",
       "      <td>NaN</td>\n",
       "      <td>1</td>\n",
       "      <td>25 pcs NEW 7.5\"x12\" Kraft Bubble Mailers Lined...</td>\n",
       "    </tr>\n",
       "    <tr>\n",
       "      <th>2</th>\n",
       "      <td>2</td>\n",
       "      <td>Coach bag</td>\n",
       "      <td>1</td>\n",
       "      <td>Vintage &amp; Collectibles/Bags and Purses/Handbag</td>\n",
       "      <td>Coach</td>\n",
       "      <td>1</td>\n",
       "      <td>Brand new coach bag. Bought for [rm] at a Coac...</td>\n",
       "    </tr>\n",
       "    <tr>\n",
       "      <th>3</th>\n",
       "      <td>3</td>\n",
       "      <td>Floral Kimono</td>\n",
       "      <td>2</td>\n",
       "      <td>Women/Sweaters/Cardigan</td>\n",
       "      <td>NaN</td>\n",
       "      <td>0</td>\n",
       "      <td>-floral kimono -never worn -lightweight and pe...</td>\n",
       "    </tr>\n",
       "    <tr>\n",
       "      <th>4</th>\n",
       "      <td>4</td>\n",
       "      <td>Life after Death</td>\n",
       "      <td>3</td>\n",
       "      <td>Other/Books/Religion &amp; Spirituality</td>\n",
       "      <td>NaN</td>\n",
       "      <td>1</td>\n",
       "      <td>Rediscovering life after the loss of a loved o...</td>\n",
       "    </tr>\n",
       "    <tr>\n",
       "      <th>5</th>\n",
       "      <td>5</td>\n",
       "      <td>iPhone 6 Plus or 6s Plus Vodka pink case</td>\n",
       "      <td>1</td>\n",
       "      <td>Electronics/Cell Phones &amp; Accessories/Cases, C...</td>\n",
       "      <td>NaN</td>\n",
       "      <td>1</td>\n",
       "      <td>One Absolut Vodka in Pink for iPhone 6 Plus an...</td>\n",
       "    </tr>\n",
       "    <tr>\n",
       "      <th>6</th>\n",
       "      <td>6</td>\n",
       "      <td>Vintage Cameo Pendant &amp; Brooch Pin</td>\n",
       "      <td>3</td>\n",
       "      <td>Women/Jewelry/Necklaces</td>\n",
       "      <td>Vintage</td>\n",
       "      <td>1</td>\n",
       "      <td>Two vintage Cameo pieces. 1. Silver metal Lock...</td>\n",
       "    </tr>\n",
       "    <tr>\n",
       "      <th>7</th>\n",
       "      <td>7</td>\n",
       "      <td>Rose Gold Stainless Steel Quartz Watch</td>\n",
       "      <td>1</td>\n",
       "      <td>Women/Women's Accessories/Watches</td>\n",
       "      <td>NaN</td>\n",
       "      <td>1</td>\n",
       "      <td>Brand new Price firm No trades Box included wi...</td>\n",
       "    </tr>\n",
       "    <tr>\n",
       "      <th>8</th>\n",
       "      <td>8</td>\n",
       "      <td>Daisy Marc Jacobs 3.4oz</td>\n",
       "      <td>3</td>\n",
       "      <td>Beauty/Fragrance/Women</td>\n",
       "      <td>MARC JACOBS</td>\n",
       "      <td>0</td>\n",
       "      <td>Brand new No box 100% authentic Firm price NO ...</td>\n",
       "    </tr>\n",
       "    <tr>\n",
       "      <th>9</th>\n",
       "      <td>9</td>\n",
       "      <td>Rose Brushes and Silicone Sponge</td>\n",
       "      <td>1</td>\n",
       "      <td>Beauty/Tools &amp; Accessories/Makeup Brushes &amp; Tools</td>\n",
       "      <td>NaN</td>\n",
       "      <td>1</td>\n",
       "      <td>All new. 12 pcs makeup brushes and one Silicon...</td>\n",
       "    </tr>\n",
       "  </tbody>\n",
       "</table>\n",
       "</div>"
      ],
      "text/plain": [
       "   test_id                                      name  item_condition_id  \\\n",
       "0        0  Breast cancer \"I fight like a girl\" ring                  1   \n",
       "1        1  25 pcs NEW 7.5\"x12\" Kraft Bubble Mailers                  1   \n",
       "2        2                                 Coach bag                  1   \n",
       "3        3                             Floral Kimono                  2   \n",
       "4        4                          Life after Death                  3   \n",
       "5        5  iPhone 6 Plus or 6s Plus Vodka pink case                  1   \n",
       "6        6        Vintage Cameo Pendant & Brooch Pin                  3   \n",
       "7        7    Rose Gold Stainless Steel Quartz Watch                  1   \n",
       "8        8                   Daisy Marc Jacobs 3.4oz                  3   \n",
       "9        9          Rose Brushes and Silicone Sponge                  1   \n",
       "\n",
       "                                       category_name   brand_name  shipping  \\\n",
       "0                                Women/Jewelry/Rings          NaN         1   \n",
       "1            Other/Office supplies/Shipping Supplies          NaN         1   \n",
       "2     Vintage & Collectibles/Bags and Purses/Handbag        Coach         1   \n",
       "3                            Women/Sweaters/Cardigan          NaN         0   \n",
       "4                Other/Books/Religion & Spirituality          NaN         1   \n",
       "5  Electronics/Cell Phones & Accessories/Cases, C...          NaN         1   \n",
       "6                            Women/Jewelry/Necklaces      Vintage         1   \n",
       "7                  Women/Women's Accessories/Watches          NaN         1   \n",
       "8                             Beauty/Fragrance/Women  MARC JACOBS         0   \n",
       "9  Beauty/Tools & Accessories/Makeup Brushes & Tools          NaN         1   \n",
       "\n",
       "                                    item_description  \n",
       "0                                             Size 7  \n",
       "1  25 pcs NEW 7.5\"x12\" Kraft Bubble Mailers Lined...  \n",
       "2  Brand new coach bag. Bought for [rm] at a Coac...  \n",
       "3  -floral kimono -never worn -lightweight and pe...  \n",
       "4  Rediscovering life after the loss of a loved o...  \n",
       "5  One Absolut Vodka in Pink for iPhone 6 Plus an...  \n",
       "6  Two vintage Cameo pieces. 1. Silver metal Lock...  \n",
       "7  Brand new Price firm No trades Box included wi...  \n",
       "8  Brand new No box 100% authentic Firm price NO ...  \n",
       "9  All new. 12 pcs makeup brushes and one Silicon...  "
      ]
     },
     "execution_count": 9,
     "metadata": {},
     "output_type": "execute_result"
    }
   ],
   "source": [
    "test = pd.read_csv('test_stg2.tsv', sep='\\t')\n",
    "\n",
    "print(test.shape)\n",
    "test.head(10)"
   ]
  },
  {
   "cell_type": "code",
   "execution_count": 10,
   "id": "married-landing",
   "metadata": {
    "_kg_hide-input": true,
    "execution": {
     "iopub.execute_input": "2021-07-06T00:48:30.366891Z",
     "iopub.status.busy": "2021-07-06T00:48:30.366098Z",
     "iopub.status.idle": "2021-07-06T00:48:30.370233Z",
     "shell.execute_reply": "2021-07-06T00:48:30.370713Z",
     "shell.execute_reply.started": "2021-07-06T00:25:40.791113Z"
    },
    "papermill": {
     "duration": 0.07991,
     "end_time": "2021-07-06T00:48:30.370843",
     "exception": false,
     "start_time": "2021-07-06T00:48:30.290933",
     "status": "completed"
    },
    "tags": []
   },
   "outputs": [
    {
     "data": {
      "text/html": [
       "<div>\n",
       "<style scoped>\n",
       "    .dataframe tbody tr th:only-of-type {\n",
       "        vertical-align: middle;\n",
       "    }\n",
       "\n",
       "    .dataframe tbody tr th {\n",
       "        vertical-align: top;\n",
       "    }\n",
       "\n",
       "    .dataframe thead th {\n",
       "        text-align: right;\n",
       "    }\n",
       "</style>\n",
       "<table border=\"1\" class=\"dataframe\">\n",
       "  <thead>\n",
       "    <tr style=\"text-align: right;\">\n",
       "      <th></th>\n",
       "      <th>カラム</th>\n",
       "      <th>意味</th>\n",
       "    </tr>\n",
       "  </thead>\n",
       "  <tbody>\n",
       "    <tr>\n",
       "      <th>0</th>\n",
       "      <td>test_id</td>\n",
       "      <td>商品ID</td>\n",
       "    </tr>\n",
       "    <tr>\n",
       "      <th>1</th>\n",
       "      <td>name</td>\n",
       "      <td>商品名</td>\n",
       "    </tr>\n",
       "    <tr>\n",
       "      <th>2</th>\n",
       "      <td>item_condition_id</td>\n",
       "      <td>商品の状態</td>\n",
       "    </tr>\n",
       "    <tr>\n",
       "      <th>3</th>\n",
       "      <td>category_name</td>\n",
       "      <td>カテゴリー名</td>\n",
       "    </tr>\n",
       "    <tr>\n",
       "      <th>4</th>\n",
       "      <td>brand_name</td>\n",
       "      <td>ブランド名</td>\n",
       "    </tr>\n",
       "    <tr>\n",
       "      <th>5</th>\n",
       "      <td>shipping</td>\n",
       "      <td>送料が売手負担かどうか</td>\n",
       "    </tr>\n",
       "    <tr>\n",
       "      <th>6</th>\n",
       "      <td>item_description</td>\n",
       "      <td>商品説明</td>\n",
       "    </tr>\n",
       "  </tbody>\n",
       "</table>\n",
       "</div>"
      ],
      "text/plain": [
       "                 カラム           意味\n",
       "0            test_id         商品ID\n",
       "1               name          商品名\n",
       "2  item_condition_id        商品の状態\n",
       "3      category_name       カテゴリー名\n",
       "4         brand_name        ブランド名\n",
       "5           shipping  送料が売手負担かどうか\n",
       "6   item_description         商品説明"
      ]
     },
     "execution_count": 10,
     "metadata": {},
     "output_type": "execute_result"
    }
   ],
   "source": [
    "pd.DataFrame([['test_id', '商品ID'],\n",
    "              ['name', '商品名'],\n",
    "              ['item_condition_id', '商品の状態'],\n",
    "              ['category_name', 'カテゴリー名'],\n",
    "              ['brand_name', 'ブランド名'],\n",
    "              ['shipping', '送料が売手負担かどうか'],['item_description', '商品説明']],\n",
    "              columns=['カラム', '意味'])"
   ]
  },
  {
   "cell_type": "code",
   "execution_count": 11,
   "id": "pressing-chassis",
   "metadata": {
    "execution": {
     "iopub.execute_input": "2021-07-06T00:48:30.647783Z",
     "iopub.status.busy": "2021-07-06T00:48:30.646604Z",
     "iopub.status.idle": "2021-07-06T00:48:30.650073Z",
     "shell.execute_reply": "2021-07-06T00:48:30.650478Z",
     "shell.execute_reply.started": "2021-07-06T00:25:40.810796Z"
    },
    "papermill": {
     "duration": 0.21249,
     "end_time": "2021-07-06T00:48:30.650620",
     "exception": false,
     "start_time": "2021-07-06T00:48:30.438130",
     "status": "completed"
    },
    "tags": []
   },
   "outputs": [
    {
     "data": {
      "text/plain": [
       "135"
      ]
     },
     "execution_count": 11,
     "metadata": {},
     "output_type": "execute_result"
    }
   ],
   "source": [
    "del test_dummy\n",
    "gc.collect()"
   ]
  },
  {
   "cell_type": "markdown",
   "id": "written-rescue",
   "metadata": {
    "papermill": {
     "duration": 0.067554,
     "end_time": "2021-07-06T00:48:30.787574",
     "exception": false,
     "start_time": "2021-07-06T00:48:30.720020",
     "status": "completed"
    },
    "tags": []
   },
   "source": [
    "# Analytics"
   ]
  },
  {
   "cell_type": "code",
   "execution_count": 12,
   "id": "absolute-hydrogen",
   "metadata": {
    "execution": {
     "iopub.execute_input": "2021-07-06T00:48:30.928006Z",
     "iopub.status.busy": "2021-07-06T00:48:30.926887Z",
     "iopub.status.idle": "2021-07-06T00:48:31.420230Z",
     "shell.execute_reply": "2021-07-06T00:48:31.420650Z",
     "shell.execute_reply.started": "2021-07-06T00:25:40.956958Z"
    },
    "papermill": {
     "duration": 0.566326,
     "end_time": "2021-07-06T00:48:31.420794",
     "exception": false,
     "start_time": "2021-07-06T00:48:30.854468",
     "status": "completed"
    },
    "tags": []
   },
   "outputs": [
    {
     "name": "stdout",
     "output_type": "stream",
     "text": [
      "<class 'pandas.core.frame.DataFrame'>\n",
      "RangeIndex: 1482535 entries, 0 to 1482534\n",
      "Data columns (total 8 columns):\n",
      " #   Column             Non-Null Count    Dtype  \n",
      "---  ------             --------------    -----  \n",
      " 0   train_id           1482535 non-null  int64  \n",
      " 1   name               1482535 non-null  object \n",
      " 2   item_condition_id  1482535 non-null  int64  \n",
      " 3   category_name      1476208 non-null  object \n",
      " 4   brand_name         849853 non-null   object \n",
      " 5   price              1482535 non-null  float64\n",
      " 6   shipping           1482535 non-null  int64  \n",
      " 7   item_description   1482531 non-null  object \n",
      "dtypes: float64(1), int64(3), object(4)\n",
      "memory usage: 90.5+ MB\n"
     ]
    }
   ],
   "source": [
    "train.info()"
   ]
  },
  {
   "cell_type": "code",
   "execution_count": 13,
   "id": "liable-seeking",
   "metadata": {
    "execution": {
     "iopub.execute_input": "2021-07-06T00:48:31.564560Z",
     "iopub.status.busy": "2021-07-06T00:48:31.564052Z",
     "iopub.status.idle": "2021-07-06T00:48:33.046078Z",
     "shell.execute_reply": "2021-07-06T00:48:33.046510Z",
     "shell.execute_reply.started": "2021-07-06T00:25:41.489456Z"
    },
    "papermill": {
     "duration": 1.553395,
     "end_time": "2021-07-06T00:48:33.046657",
     "exception": false,
     "start_time": "2021-07-06T00:48:31.493262",
     "status": "completed"
    },
    "tags": []
   },
   "outputs": [
    {
     "data": {
      "text/plain": [
       "train_id             1482535\n",
       "name                 1225273\n",
       "item_condition_id          5\n",
       "category_name           1287\n",
       "brand_name              4809\n",
       "price                    828\n",
       "shipping                   2\n",
       "item_description     1281426\n",
       "dtype: int64"
      ]
     },
     "execution_count": 13,
     "metadata": {},
     "output_type": "execute_result"
    }
   ],
   "source": [
    "train.nunique()"
   ]
  },
  {
   "cell_type": "code",
   "execution_count": 14,
   "id": "brown-fault",
   "metadata": {
    "execution": {
     "iopub.execute_input": "2021-07-06T00:48:33.190456Z",
     "iopub.status.busy": "2021-07-06T00:48:33.189387Z",
     "iopub.status.idle": "2021-07-06T00:48:33.668368Z",
     "shell.execute_reply": "2021-07-06T00:48:33.668812Z",
     "shell.execute_reply.started": "2021-07-06T00:25:43.023659Z"
    },
    "papermill": {
     "duration": 0.551408,
     "end_time": "2021-07-06T00:48:33.668955",
     "exception": false,
     "start_time": "2021-07-06T00:48:33.117547",
     "status": "completed"
    },
    "tags": []
   },
   "outputs": [
    {
     "data": {
      "text/plain": [
       "train_id                  0\n",
       "name                      0\n",
       "item_condition_id         0\n",
       "category_name          6327\n",
       "brand_name           632682\n",
       "price                     0\n",
       "shipping                  0\n",
       "item_description          4\n",
       "dtype: int64"
      ]
     },
     "execution_count": 14,
     "metadata": {},
     "output_type": "execute_result"
    }
   ],
   "source": [
    "train.isnull().sum()"
   ]
  },
  {
   "cell_type": "code",
   "execution_count": 15,
   "id": "optional-girlfriend",
   "metadata": {
    "execution": {
     "iopub.execute_input": "2021-07-06T00:48:33.810618Z",
     "iopub.status.busy": "2021-07-06T00:48:33.809392Z",
     "iopub.status.idle": "2021-07-06T00:48:33.891655Z",
     "shell.execute_reply": "2021-07-06T00:48:33.892065Z",
     "shell.execute_reply.started": "2021-07-06T00:25:43.548516Z"
    },
    "papermill": {
     "duration": 0.154547,
     "end_time": "2021-07-06T00:48:33.892224",
     "exception": false,
     "start_time": "2021-07-06T00:48:33.737677",
     "status": "completed"
    },
    "tags": []
   },
   "outputs": [
    {
     "data": {
      "text/html": [
       "<div>\n",
       "<style scoped>\n",
       "    .dataframe tbody tr th:only-of-type {\n",
       "        vertical-align: middle;\n",
       "    }\n",
       "\n",
       "    .dataframe tbody tr th {\n",
       "        vertical-align: top;\n",
       "    }\n",
       "\n",
       "    .dataframe thead th {\n",
       "        text-align: right;\n",
       "    }\n",
       "</style>\n",
       "<table border=\"1\" class=\"dataframe\">\n",
       "  <thead>\n",
       "    <tr style=\"text-align: right;\">\n",
       "      <th></th>\n",
       "      <th>train_id</th>\n",
       "      <th>item_condition_id</th>\n",
       "      <th>price</th>\n",
       "      <th>shipping</th>\n",
       "    </tr>\n",
       "  </thead>\n",
       "  <tbody>\n",
       "    <tr>\n",
       "      <th>train_id</th>\n",
       "      <td>1.000000</td>\n",
       "      <td>-0.000113</td>\n",
       "      <td>0.000478</td>\n",
       "      <td>0.000472</td>\n",
       "    </tr>\n",
       "    <tr>\n",
       "      <th>item_condition_id</th>\n",
       "      <td>-0.000113</td>\n",
       "      <td>1.000000</td>\n",
       "      <td>-0.000807</td>\n",
       "      <td>-0.191154</td>\n",
       "    </tr>\n",
       "    <tr>\n",
       "      <th>price</th>\n",
       "      <td>0.000478</td>\n",
       "      <td>-0.000807</td>\n",
       "      <td>1.000000</td>\n",
       "      <td>-0.097211</td>\n",
       "    </tr>\n",
       "    <tr>\n",
       "      <th>shipping</th>\n",
       "      <td>0.000472</td>\n",
       "      <td>-0.191154</td>\n",
       "      <td>-0.097211</td>\n",
       "      <td>1.000000</td>\n",
       "    </tr>\n",
       "  </tbody>\n",
       "</table>\n",
       "</div>"
      ],
      "text/plain": [
       "                   train_id  item_condition_id     price  shipping\n",
       "train_id           1.000000          -0.000113  0.000478  0.000472\n",
       "item_condition_id -0.000113           1.000000 -0.000807 -0.191154\n",
       "price              0.000478          -0.000807  1.000000 -0.097211\n",
       "shipping           0.000472          -0.191154 -0.097211  1.000000"
      ]
     },
     "execution_count": 15,
     "metadata": {},
     "output_type": "execute_result"
    }
   ],
   "source": [
    "train.corr()"
   ]
  },
  {
   "cell_type": "code",
   "execution_count": 16,
   "id": "familiar-lease",
   "metadata": {
    "execution": {
     "iopub.execute_input": "2021-07-06T00:48:34.036680Z",
     "iopub.status.busy": "2021-07-06T00:48:34.035523Z",
     "iopub.status.idle": "2021-07-06T00:48:34.381068Z",
     "shell.execute_reply": "2021-07-06T00:48:34.381514Z",
     "shell.execute_reply.started": "2021-07-06T00:25:43.640538Z"
    },
    "papermill": {
     "duration": 0.418982,
     "end_time": "2021-07-06T00:48:34.381665",
     "exception": false,
     "start_time": "2021-07-06T00:48:33.962683",
     "status": "completed"
    },
    "tags": []
   },
   "outputs": [
    {
     "data": {
      "text/plain": [
       "<AxesSubplot:>"
      ]
     },
     "execution_count": 16,
     "metadata": {},
     "output_type": "execute_result"
    },
    {
     "data": {
      "image/png": "[encoded data removed]",
      "text/plain": [
       "<Figure size 432x288 with 2 Axes>"
      ]
     },
     "metadata": {
      "needs_background": "light"
     },
     "output_type": "display_data"
    }
   ],
   "source": [
    "sns.heatmap(train.corr(), annot=True, fmt='.2f')"
   ]
  },
  {
   "cell_type": "code",
   "execution_count": 17,
   "id": "south-sentence",
   "metadata": {
    "execution": {
     "iopub.execute_input": "2021-07-06T00:48:34.537088Z",
     "iopub.status.busy": "2021-07-06T00:48:34.536365Z",
     "iopub.status.idle": "2021-07-06T00:48:34.670318Z",
     "shell.execute_reply": "2021-07-06T00:48:34.670726Z",
     "shell.execute_reply.started": "2021-07-06T00:25:43.993280Z"
    },
    "papermill": {
     "duration": 0.219579,
     "end_time": "2021-07-06T00:48:34.670871",
     "exception": false,
     "start_time": "2021-07-06T00:48:34.451292",
     "status": "completed"
    },
    "tags": []
   },
   "outputs": [
    {
     "data": {
      "text/html": [
       "<div>\n",
       "<style scoped>\n",
       "    .dataframe tbody tr th:only-of-type {\n",
       "        vertical-align: middle;\n",
       "    }\n",
       "\n",
       "    .dataframe tbody tr th {\n",
       "        vertical-align: top;\n",
       "    }\n",
       "\n",
       "    .dataframe thead th {\n",
       "        text-align: right;\n",
       "    }\n",
       "</style>\n",
       "<table border=\"1\" class=\"dataframe\">\n",
       "  <thead>\n",
       "    <tr style=\"text-align: right;\">\n",
       "      <th></th>\n",
       "      <th>train_id</th>\n",
       "      <th>item_condition_id</th>\n",
       "      <th>price</th>\n",
       "      <th>shipping</th>\n",
       "    </tr>\n",
       "  </thead>\n",
       "  <tbody>\n",
       "    <tr>\n",
       "      <th>count</th>\n",
       "      <td>1.482535e+06</td>\n",
       "      <td>1.482535e+06</td>\n",
       "      <td>1.482535e+06</td>\n",
       "      <td>1.482535e+06</td>\n",
       "    </tr>\n",
       "    <tr>\n",
       "      <th>mean</th>\n",
       "      <td>7.412670e+05</td>\n",
       "      <td>1.907380e+00</td>\n",
       "      <td>2.673752e+01</td>\n",
       "      <td>4.472744e-01</td>\n",
       "    </tr>\n",
       "    <tr>\n",
       "      <th>std</th>\n",
       "      <td>4.279711e+05</td>\n",
       "      <td>9.031586e-01</td>\n",
       "      <td>3.858607e+01</td>\n",
       "      <td>4.972124e-01</td>\n",
       "    </tr>\n",
       "    <tr>\n",
       "      <th>min</th>\n",
       "      <td>0.000000e+00</td>\n",
       "      <td>1.000000e+00</td>\n",
       "      <td>0.000000e+00</td>\n",
       "      <td>0.000000e+00</td>\n",
       "    </tr>\n",
       "    <tr>\n",
       "      <th>25%</th>\n",
       "      <td>3.706335e+05</td>\n",
       "      <td>1.000000e+00</td>\n",
       "      <td>1.000000e+01</td>\n",
       "      <td>0.000000e+00</td>\n",
       "    </tr>\n",
       "    <tr>\n",
       "      <th>50%</th>\n",
       "      <td>7.412670e+05</td>\n",
       "      <td>2.000000e+00</td>\n",
       "      <td>1.700000e+01</td>\n",
       "      <td>0.000000e+00</td>\n",
       "    </tr>\n",
       "    <tr>\n",
       "      <th>75%</th>\n",
       "      <td>1.111900e+06</td>\n",
       "      <td>3.000000e+00</td>\n",
       "      <td>2.900000e+01</td>\n",
       "      <td>1.000000e+00</td>\n",
       "    </tr>\n",
       "    <tr>\n",
       "      <th>max</th>\n",
       "      <td>1.482534e+06</td>\n",
       "      <td>5.000000e+00</td>\n",
       "      <td>2.009000e+03</td>\n",
       "      <td>1.000000e+00</td>\n",
       "    </tr>\n",
       "  </tbody>\n",
       "</table>\n",
       "</div>"
      ],
      "text/plain": [
       "           train_id  item_condition_id         price      shipping\n",
       "count  1.482535e+06       1.482535e+06  1.482535e+06  1.482535e+06\n",
       "mean   7.412670e+05       1.907380e+00  2.673752e+01  4.472744e-01\n",
       "std    4.279711e+05       9.031586e-01  3.858607e+01  4.972124e-01\n",
       "min    0.000000e+00       1.000000e+00  0.000000e+00  0.000000e+00\n",
       "25%    3.706335e+05       1.000000e+00  1.000000e+01  0.000000e+00\n",
       "50%    7.412670e+05       2.000000e+00  1.700000e+01  0.000000e+00\n",
       "75%    1.111900e+06       3.000000e+00  2.900000e+01  1.000000e+00\n",
       "max    1.482534e+06       5.000000e+00  2.009000e+03  1.000000e+00"
      ]
     },
     "execution_count": 17,
     "metadata": {},
     "output_type": "execute_result"
    }
   ],
   "source": [
    "train.describe()"
   ]
  },
  {
   "cell_type": "markdown",
   "id": "honest-forty",
   "metadata": {
    "papermill": {
     "duration": 0.068807,
     "end_time": "2021-07-06T00:48:34.811852",
     "exception": false,
     "start_time": "2021-07-06T00:48:34.743045",
     "status": "completed"
    },
    "tags": []
   },
   "source": [
    "# Visualization"
   ]
  },
  {
   "cell_type": "code",
   "execution_count": 18,
   "id": "neural-selling",
   "metadata": {
    "execution": {
     "iopub.execute_input": "2021-07-06T00:48:34.955815Z",
     "iopub.status.busy": "2021-07-06T00:48:34.955116Z",
     "iopub.status.idle": "2021-07-06T00:48:34.958099Z",
     "shell.execute_reply": "2021-07-06T00:48:34.957697Z",
     "shell.execute_reply.started": "2021-07-06T00:25:44.153482Z"
    },
    "papermill": {
     "duration": 0.076976,
     "end_time": "2021-07-06T00:48:34.958222",
     "exception": false,
     "start_time": "2021-07-06T00:48:34.881246",
     "status": "completed"
    },
    "tags": []
   },
   "outputs": [],
   "source": [
    "sns.set()"
   ]
  },
  {
   "cell_type": "code",
   "execution_count": 19,
   "id": "excessive-grave",
   "metadata": {
    "execution": {
     "iopub.execute_input": "2021-07-06T00:48:35.101593Z",
     "iopub.status.busy": "2021-07-06T00:48:35.101024Z",
     "iopub.status.idle": "2021-07-06T00:48:36.485069Z",
     "shell.execute_reply": "2021-07-06T00:48:36.484039Z",
     "shell.execute_reply.started": "2021-07-06T00:25:44.160798Z"
    },
    "papermill": {
     "duration": 1.45777,
     "end_time": "2021-07-06T00:48:36.485233",
     "exception": false,
     "start_time": "2021-07-06T00:48:35.027463",
     "status": "completed"
    },
    "tags": []
   },
   "outputs": [
    {
     "data": {
      "image/png": "[encoded data removed]",
      "text/plain": [
       "<Figure size 576x288 with 1 Axes>"
      ]
     },
     "metadata": {},
     "output_type": "display_data"
    }
   ],
   "source": [
    "train = train.drop(train[(train['price'] >= 200)].index, axis=0)\n",
    "\n",
    "fig, ax = plt.subplots(1, 1, figsize=(8, 4))\n",
    "sns.histplot(train['price'], bins=50, ax=ax)\n",
    "plt.show()"
   ]
  },
  {
   "cell_type": "code",
   "execution_count": 20,
   "id": "going-prevention",
   "metadata": {
    "execution": {
     "iopub.execute_input": "2021-07-06T00:48:36.716076Z",
     "iopub.status.busy": "2021-07-06T00:48:36.715307Z",
     "iopub.status.idle": "2021-07-06T00:48:38.024094Z",
     "shell.execute_reply": "2021-07-06T00:48:38.023662Z",
     "shell.execute_reply.started": "2021-07-06T00:25:45.542613Z"
    },
    "papermill": {
     "duration": 1.438057,
     "end_time": "2021-07-06T00:48:38.024231",
     "exception": false,
     "start_time": "2021-07-06T00:48:36.586174",
     "status": "completed"
    },
    "tags": []
   },
   "outputs": [
    {
     "data": {
      "image/png": "[encoded data removed]",
      "text/plain": [
       "<Figure size 576x288 with 1 Axes>"
      ]
     },
     "metadata": {},
     "output_type": "display_data"
    }
   ],
   "source": [
    "train['log_price'] = np.log1p(train['price'])\n",
    "\n",
    "fig, ax = plt.subplots(1, 1, figsize=(8, 4))\n",
    "sns.histplot(train['log_price'], bins=50, ax=ax)\n",
    "plt.show()"
   ]
  },
  {
   "cell_type": "code",
   "execution_count": 21,
   "id": "incorporate-jordan",
   "metadata": {
    "execution": {
     "iopub.execute_input": "2021-07-06T00:48:38.173019Z",
     "iopub.status.busy": "2021-07-06T00:48:38.171775Z",
     "iopub.status.idle": "2021-07-06T00:48:38.420657Z",
     "shell.execute_reply": "2021-07-06T00:48:38.421064Z",
     "shell.execute_reply.started": "2021-07-06T00:25:46.766663Z"
    },
    "papermill": {
     "duration": 0.325383,
     "end_time": "2021-07-06T00:48:38.421224",
     "exception": false,
     "start_time": "2021-07-06T00:48:38.095841",
     "status": "completed"
    },
    "tags": []
   },
   "outputs": [
    {
     "data": {
      "text/plain": [
       "6047"
      ]
     },
     "execution_count": 21,
     "metadata": {},
     "output_type": "execute_result"
    }
   ],
   "source": [
    "train = train.drop('log_price', axis=1)\n",
    "gc.collect()"
   ]
  },
  {
   "cell_type": "code",
   "execution_count": 22,
   "id": "certain-scenario",
   "metadata": {
    "execution": {
     "iopub.execute_input": "2021-07-06T00:48:38.567156Z",
     "iopub.status.busy": "2021-07-06T00:48:38.566477Z",
     "iopub.status.idle": "2021-07-06T00:48:44.938686Z",
     "shell.execute_reply": "2021-07-06T00:48:44.939119Z",
     "shell.execute_reply.started": "2021-07-06T00:25:47.027364Z"
    },
    "papermill": {
     "duration": 6.447223,
     "end_time": "2021-07-06T00:48:44.939300",
     "exception": false,
     "start_time": "2021-07-06T00:48:38.492077",
     "status": "completed"
    },
    "tags": []
   },
   "outputs": [
    {
     "data": {
      "text/plain": [
       "<matplotlib.legend.Legend at 0x7f553dfd0b90>"
      ]
     },
     "execution_count": 22,
     "metadata": {},
     "output_type": "execute_result"
    },
    {
     "data": {
      "image/png": "[encoded data removed]",
      "text/plain": [
       "<Figure size 576x288 with 1 Axes>"
      ]
     },
     "metadata": {},
     "output_type": "display_data"
    }
   ],
   "source": [
    "fig = sns.FacetGrid(train, hue='shipping', height=4, aspect=2)\n",
    "fig.map(sns.kdeplot, 'price', shade=True)\n",
    "plt.legend()"
   ]
  },
  {
   "cell_type": "code",
   "execution_count": 23,
   "id": "american-annex",
   "metadata": {
    "execution": {
     "iopub.execute_input": "2021-07-06T00:48:45.089259Z",
     "iopub.status.busy": "2021-07-06T00:48:45.088517Z",
     "iopub.status.idle": "2021-07-06T00:48:52.003785Z",
     "shell.execute_reply": "2021-07-06T00:48:52.003349Z",
     "shell.execute_reply.started": "2021-07-06T00:25:53.868360Z"
    },
    "papermill": {
     "duration": 6.991377,
     "end_time": "2021-07-06T00:48:52.003921",
     "exception": false,
     "start_time": "2021-07-06T00:48:45.012544",
     "status": "completed"
    },
    "tags": []
   },
   "outputs": [
    {
     "data": {
      "text/plain": [
       "<matplotlib.legend.Legend at 0x7f553deb6dd0>"
      ]
     },
     "execution_count": 23,
     "metadata": {},
     "output_type": "execute_result"
    },
    {
     "data": {
      "image/png": "[encoded data removed]",
      "text/plain": [
       "<Figure size 576x288 with 1 Axes>"
      ]
     },
     "metadata": {},
     "output_type": "display_data"
    }
   ],
   "source": [
    "fig = sns.FacetGrid(train, hue='item_condition_id', height=4, aspect=2)\n",
    "fig.map(sns.kdeplot, 'price', shade=True)\n",
    "plt.legend()"
   ]
  },
  {
   "cell_type": "markdown",
   "id": "interracial-forum",
   "metadata": {
    "papermill": {
     "duration": 0.073073,
     "end_time": "2021-07-06T00:48:52.150312",
     "exception": false,
     "start_time": "2021-07-06T00:48:52.077239",
     "status": "completed"
    },
    "tags": []
   },
   "source": [
    "# Preprocess"
   ]
  },
  {
   "cell_type": "code",
   "execution_count": 24,
   "id": "attempted-price",
   "metadata": {
    "execution": {
     "iopub.execute_input": "2021-07-06T00:48:52.301873Z",
     "iopub.status.busy": "2021-07-06T00:48:52.301117Z",
     "iopub.status.idle": "2021-07-06T00:48:52.303607Z",
     "shell.execute_reply": "2021-07-06T00:48:52.304124Z",
     "shell.execute_reply.started": "2021-07-06T00:26:00.977769Z"
    },
    "papermill": {
     "duration": 0.080462,
     "end_time": "2021-07-06T00:48:52.304284",
     "exception": false,
     "start_time": "2021-07-06T00:48:52.223822",
     "status": "completed"
    },
    "tags": []
   },
   "outputs": [],
   "source": [
    "train_row = train.shape[0]\n",
    "test_id = test['test_id']"
   ]
  },
  {
   "cell_type": "code",
   "execution_count": 25,
   "id": "modified-falls",
   "metadata": {
    "execution": {
     "iopub.execute_input": "2021-07-06T00:48:52.454336Z",
     "iopub.status.busy": "2021-07-06T00:48:52.453630Z",
     "iopub.status.idle": "2021-07-06T00:48:52.559103Z",
     "shell.execute_reply": "2021-07-06T00:48:52.558649Z",
     "shell.execute_reply.started": "2021-07-06T00:26:00.985740Z"
    },
    "papermill": {
     "duration": 0.182057,
     "end_time": "2021-07-06T00:48:52.559252",
     "exception": false,
     "start_time": "2021-07-06T00:48:52.377195",
     "status": "completed"
    },
    "tags": []
   },
   "outputs": [],
   "source": [
    "target = np.log1p(train['price'])\n",
    "train = train[[col for col in train.columns if col != 'price']]"
   ]
  },
  {
   "cell_type": "code",
   "execution_count": 26,
   "id": "developed-tender",
   "metadata": {
    "execution": {
     "iopub.execute_input": "2021-07-06T00:48:53.012557Z",
     "iopub.status.busy": "2021-07-06T00:48:52.820703Z",
     "iopub.status.idle": "2021-07-06T00:48:53.014820Z",
     "shell.execute_reply": "2021-07-06T00:48:53.014357Z",
     "shell.execute_reply.started": "2021-07-06T00:26:01.107257Z"
    },
    "papermill": {
     "duration": 0.382212,
     "end_time": "2021-07-06T00:48:53.014936",
     "exception": false,
     "start_time": "2021-07-06T00:48:52.632724",
     "status": "completed"
    },
    "tags": []
   },
   "outputs": [],
   "source": [
    "train = train.drop('train_id', axis=1)\n",
    "test = test.drop('test_id', axis=1)"
   ]
  },
  {
   "cell_type": "code",
   "execution_count": 27,
   "id": "considerable-suggestion",
   "metadata": {
    "execution": {
     "iopub.execute_input": "2021-07-06T00:48:53.166448Z",
     "iopub.status.busy": "2021-07-06T00:48:53.165592Z",
     "iopub.status.idle": "2021-07-06T00:48:53.946122Z",
     "shell.execute_reply": "2021-07-06T00:48:53.946702Z",
     "shell.execute_reply.started": "2021-07-06T00:26:01.416763Z"
    },
    "papermill": {
     "duration": 0.858703,
     "end_time": "2021-07-06T00:48:53.946896",
     "exception": false,
     "start_time": "2021-07-06T00:48:53.088193",
     "status": "completed"
    },
    "tags": []
   },
   "outputs": [
    {
     "name": "stdout",
     "output_type": "stream",
     "text": [
      "(4932413, 6)\n"
     ]
    },
    {
     "data": {
      "text/html": [
       "<div>\n",
       "<style scoped>\n",
       "    .dataframe tbody tr th:only-of-type {\n",
       "        vertical-align: middle;\n",
       "    }\n",
       "\n",
       "    .dataframe tbody tr th {\n",
       "        vertical-align: top;\n",
       "    }\n",
       "\n",
       "    .dataframe thead th {\n",
       "        text-align: right;\n",
       "    }\n",
       "</style>\n",
       "<table border=\"1\" class=\"dataframe\">\n",
       "  <thead>\n",
       "    <tr style=\"text-align: right;\">\n",
       "      <th></th>\n",
       "      <th>name</th>\n",
       "      <th>item_condition_id</th>\n",
       "      <th>category_name</th>\n",
       "      <th>brand_name</th>\n",
       "      <th>shipping</th>\n",
       "      <th>item_description</th>\n",
       "    </tr>\n",
       "  </thead>\n",
       "  <tbody>\n",
       "    <tr>\n",
       "      <th>0</th>\n",
       "      <td>MLB Cincinnati Reds T Shirt Size XL</td>\n",
       "      <td>3</td>\n",
       "      <td>Men/Tops/T-shirts</td>\n",
       "      <td>NaN</td>\n",
       "      <td>1</td>\n",
       "      <td>No description yet</td>\n",
       "    </tr>\n",
       "    <tr>\n",
       "      <th>1</th>\n",
       "      <td>Razer BlackWidow Chroma Keyboard</td>\n",
       "      <td>3</td>\n",
       "      <td>Electronics/Computers &amp; Tablets/Components &amp; P...</td>\n",
       "      <td>Razer</td>\n",
       "      <td>0</td>\n",
       "      <td>This keyboard is in great condition and works ...</td>\n",
       "    </tr>\n",
       "    <tr>\n",
       "      <th>2</th>\n",
       "      <td>AVA-VIV Blouse</td>\n",
       "      <td>1</td>\n",
       "      <td>Women/Tops &amp; Blouses/Blouse</td>\n",
       "      <td>Target</td>\n",
       "      <td>1</td>\n",
       "      <td>Adorable top with a hint of lace and a key hol...</td>\n",
       "    </tr>\n",
       "    <tr>\n",
       "      <th>3</th>\n",
       "      <td>Leather Horse Statues</td>\n",
       "      <td>1</td>\n",
       "      <td>Home/Home Décor/Home Décor Accents</td>\n",
       "      <td>NaN</td>\n",
       "      <td>1</td>\n",
       "      <td>New with tags. Leather horses. Retail for [rm]...</td>\n",
       "    </tr>\n",
       "    <tr>\n",
       "      <th>4</th>\n",
       "      <td>24K GOLD plated rose</td>\n",
       "      <td>1</td>\n",
       "      <td>Women/Jewelry/Necklaces</td>\n",
       "      <td>NaN</td>\n",
       "      <td>0</td>\n",
       "      <td>Complete with certificate of authenticity</td>\n",
       "    </tr>\n",
       "  </tbody>\n",
       "</table>\n",
       "</div>"
      ],
      "text/plain": [
       "                                  name  item_condition_id  \\\n",
       "0  MLB Cincinnati Reds T Shirt Size XL                  3   \n",
       "1     Razer BlackWidow Chroma Keyboard                  3   \n",
       "2                       AVA-VIV Blouse                  1   \n",
       "3                Leather Horse Statues                  1   \n",
       "4                 24K GOLD plated rose                  1   \n",
       "\n",
       "                                       category_name brand_name  shipping  \\\n",
       "0                                  Men/Tops/T-shirts        NaN         1   \n",
       "1  Electronics/Computers & Tablets/Components & P...      Razer         0   \n",
       "2                        Women/Tops & Blouses/Blouse     Target         1   \n",
       "3                 Home/Home Décor/Home Décor Accents        NaN         1   \n",
       "4                            Women/Jewelry/Necklaces        NaN         0   \n",
       "\n",
       "                                    item_description  \n",
       "0                                 No description yet  \n",
       "1  This keyboard is in great condition and works ...  \n",
       "2  Adorable top with a hint of lace and a key hol...  \n",
       "3  New with tags. Leather horses. Retail for [rm]...  \n",
       "4          Complete with certificate of authenticity  "
      ]
     },
     "execution_count": 27,
     "metadata": {},
     "output_type": "execute_result"
    }
   ],
   "source": [
    "X = pd.concat([train, test], axis=0)\n",
    "\n",
    "print(X.shape)\n",
    "X.head()"
   ]
  },
  {
   "cell_type": "code",
   "execution_count": 28,
   "id": "other-management",
   "metadata": {
    "execution": {
     "iopub.execute_input": "2021-07-06T00:48:54.474443Z",
     "iopub.status.busy": "2021-07-06T00:48:54.473647Z",
     "iopub.status.idle": "2021-07-06T00:48:55.694278Z",
     "shell.execute_reply": "2021-07-06T00:48:55.694735Z",
     "shell.execute_reply.started": "2021-07-06T00:26:02.210270Z"
    },
    "papermill": {
     "duration": 1.673605,
     "end_time": "2021-07-06T00:48:55.694910",
     "exception": false,
     "start_time": "2021-07-06T00:48:54.021305",
     "status": "completed"
    },
    "tags": []
   },
   "outputs": [
    {
     "data": {
      "text/plain": [
       "name                       0\n",
       "item_condition_id          0\n",
       "category_name          21115\n",
       "brand_name           2107076\n",
       "shipping                   0\n",
       "item_description          10\n",
       "dtype: int64"
      ]
     },
     "execution_count": 28,
     "metadata": {},
     "output_type": "execute_result"
    }
   ],
   "source": [
    "X.isnull().sum()"
   ]
  },
  {
   "cell_type": "markdown",
   "id": "comparable-simon",
   "metadata": {
    "papermill": {
     "duration": 0.075941,
     "end_time": "2021-07-06T00:48:55.846790",
     "exception": false,
     "start_time": "2021-07-06T00:48:55.770849",
     "status": "completed"
    },
    "tags": []
   },
   "source": [
    "文字列を数値に変換するには、いくつかの方法がある。\n",
    "\n",
    "・https://linus-mk.hatenablog.com/entry/pandas-unique-integer-id\n",
    "\n",
    "また、数値変換を統一するために、trainとtestを結合して、まとめて実行する必要がある。"
   ]
  },
  {
   "cell_type": "code",
   "execution_count": 29,
   "id": "scientific-temperature",
   "metadata": {
    "execution": {
     "iopub.execute_input": "2021-07-06T00:48:56.366370Z",
     "iopub.status.busy": "2021-07-06T00:48:56.365445Z",
     "iopub.status.idle": "2021-07-06T00:48:58.698149Z",
     "shell.execute_reply": "2021-07-06T00:48:58.698988Z",
     "shell.execute_reply.started": "2021-07-06T00:26:04.287305Z"
    },
    "papermill": {
     "duration": 2.776185,
     "end_time": "2021-07-06T00:48:58.699248",
     "exception": false,
     "start_time": "2021-07-06T00:48:55.923063",
     "status": "completed"
    },
    "tags": []
   },
   "outputs": [],
   "source": [
    "X['category_name'] = X['category_name'].fillna(value='missing')\n",
    "X['item_description'] = X['item_description'].fillna(value='missing')\n",
    "X['name'] = X['name'].fillna(value='missing')\n",
    "X['brand_name'] = X['brand_name'].fillna(value='missing')"
   ]
  },
  {
   "cell_type": "code",
   "execution_count": 30,
   "id": "modular-nature",
   "metadata": {
    "execution": {
     "iopub.execute_input": "2021-07-06T00:48:59.497235Z",
     "iopub.status.busy": "2021-07-06T00:48:59.496374Z",
     "iopub.status.idle": "2021-07-06T00:49:38.895759Z",
     "shell.execute_reply": "2021-07-06T00:49:38.894730Z",
     "shell.execute_reply.started": "2021-07-06T00:26:06.885398Z"
    },
    "papermill": {
     "duration": 39.936798,
     "end_time": "2021-07-06T00:49:38.895896",
     "exception": false,
     "start_time": "2021-07-06T00:48:58.959098",
     "status": "completed"
    },
    "tags": []
   },
   "outputs": [],
   "source": [
    "X['category_name'] = X['category_name'].astype('category')\n",
    "X['item_description'] = X['item_description'].astype('category')\n",
    "X['name'] = X['name'].astype('category')\n",
    "X['brand_name'] = X['brand_name'].astype('category')"
   ]
  },
  {
   "cell_type": "code",
   "execution_count": 31,
   "id": "raising-walker",
   "metadata": {
    "execution": {
     "iopub.execute_input": "2021-07-06T00:49:39.053776Z",
     "iopub.status.busy": "2021-07-06T00:49:39.052194Z",
     "iopub.status.idle": "2021-07-06T00:49:39.947871Z",
     "shell.execute_reply": "2021-07-06T00:49:39.947380Z",
     "shell.execute_reply.started": "2021-07-06T00:26:47.602862Z"
    },
    "papermill": {
     "duration": 0.977197,
     "end_time": "2021-07-06T00:49:39.947987",
     "exception": false,
     "start_time": "2021-07-06T00:49:38.970790",
     "status": "completed"
    },
    "tags": []
   },
   "outputs": [],
   "source": [
    "X['name'] = X['name'].cat.codes\n",
    "X['category_name'] = X['category_name'].cat.codes\n",
    "X['brand_name'] = X['brand_name'].cat.codes\n",
    "X['item_description'] = X['item_description'].cat.codes"
   ]
  },
  {
   "cell_type": "code",
   "execution_count": 32,
   "id": "opposed-submission",
   "metadata": {
    "execution": {
     "iopub.execute_input": "2021-07-06T00:49:40.210449Z",
     "iopub.status.busy": "2021-07-06T00:49:40.208668Z",
     "iopub.status.idle": "2021-07-06T00:49:40.211029Z",
     "shell.execute_reply": "2021-07-06T00:49:40.211432Z",
     "shell.execute_reply.started": "2021-07-06T00:26:48.482782Z"
    },
    "papermill": {
     "duration": 0.189134,
     "end_time": "2021-07-06T00:49:40.211566",
     "exception": false,
     "start_time": "2021-07-06T00:49:40.022432",
     "status": "completed"
    },
    "tags": []
   },
   "outputs": [],
   "source": [
    "train = X[:train_row]\n",
    "test = X[train_row:]"
   ]
  },
  {
   "cell_type": "code",
   "execution_count": 33,
   "id": "parliamentary-premises",
   "metadata": {
    "execution": {
     "iopub.execute_input": "2021-07-06T00:49:40.490223Z",
     "iopub.status.busy": "2021-07-06T00:49:40.489490Z",
     "iopub.status.idle": "2021-07-06T00:49:40.492830Z",
     "shell.execute_reply": "2021-07-06T00:49:40.493210Z",
     "shell.execute_reply.started": "2021-07-06T00:26:48.596530Z"
    },
    "papermill": {
     "duration": 0.206922,
     "end_time": "2021-07-06T00:49:40.493361",
     "exception": false,
     "start_time": "2021-07-06T00:49:40.286439",
     "status": "completed"
    },
    "tags": []
   },
   "outputs": [
    {
     "data": {
      "text/plain": [
       "200"
      ]
     },
     "execution_count": 33,
     "metadata": {},
     "output_type": "execute_result"
    }
   ],
   "source": [
    "del train_row\n",
    "gc.collect()"
   ]
  },
  {
   "cell_type": "code",
   "execution_count": 34,
   "id": "promotional-karen",
   "metadata": {
    "execution": {
     "iopub.execute_input": "2021-07-06T00:49:40.647923Z",
     "iopub.status.busy": "2021-07-06T00:49:40.646587Z",
     "iopub.status.idle": "2021-07-06T00:49:40.700543Z",
     "shell.execute_reply": "2021-07-06T00:49:40.699932Z",
     "shell.execute_reply.started": "2021-07-06T00:26:48.725982Z"
    },
    "papermill": {
     "duration": 0.132678,
     "end_time": "2021-07-06T00:49:40.700679",
     "exception": false,
     "start_time": "2021-07-06T00:49:40.568001",
     "status": "completed"
    },
    "tags": []
   },
   "outputs": [
    {
     "name": "stdout",
     "output_type": "stream",
     "text": [
      "(1471688, 7)\n"
     ]
    },
    {
     "data": {
      "text/html": [
       "<div>\n",
       "<style scoped>\n",
       "    .dataframe tbody tr th:only-of-type {\n",
       "        vertical-align: middle;\n",
       "    }\n",
       "\n",
       "    .dataframe tbody tr th {\n",
       "        vertical-align: top;\n",
       "    }\n",
       "\n",
       "    .dataframe thead th {\n",
       "        text-align: right;\n",
       "    }\n",
       "</style>\n",
       "<table border=\"1\" class=\"dataframe\">\n",
       "  <thead>\n",
       "    <tr style=\"text-align: right;\">\n",
       "      <th></th>\n",
       "      <th>name</th>\n",
       "      <th>item_condition_id</th>\n",
       "      <th>category_name</th>\n",
       "      <th>brand_name</th>\n",
       "      <th>shipping</th>\n",
       "      <th>item_description</th>\n",
       "      <th>price</th>\n",
       "    </tr>\n",
       "  </thead>\n",
       "  <tbody>\n",
       "    <tr>\n",
       "      <th>0</th>\n",
       "      <td>1942987</td>\n",
       "      <td>3</td>\n",
       "      <td>864</td>\n",
       "      <td>6283</td>\n",
       "      <td>1</td>\n",
       "      <td>2590534</td>\n",
       "      <td>2.397895</td>\n",
       "    </tr>\n",
       "    <tr>\n",
       "      <th>1</th>\n",
       "      <td>2742268</td>\n",
       "      <td>3</td>\n",
       "      <td>87</td>\n",
       "      <td>4657</td>\n",
       "      <td>0</td>\n",
       "      <td>3506316</td>\n",
       "      <td>3.970292</td>\n",
       "    </tr>\n",
       "    <tr>\n",
       "      <th>2</th>\n",
       "      <td>279967</td>\n",
       "      <td>1</td>\n",
       "      <td>1320</td>\n",
       "      <td>5486</td>\n",
       "      <td>1</td>\n",
       "      <td>367558</td>\n",
       "      <td>2.397895</td>\n",
       "    </tr>\n",
       "    <tr>\n",
       "      <th>3</th>\n",
       "      <td>1702985</td>\n",
       "      <td>1</td>\n",
       "      <td>536</td>\n",
       "      <td>6283</td>\n",
       "      <td>1</td>\n",
       "      <td>2511534</td>\n",
       "      <td>3.583519</td>\n",
       "    </tr>\n",
       "    <tr>\n",
       "      <th>4</th>\n",
       "      <td>139326</td>\n",
       "      <td>1</td>\n",
       "      <td>1247</td>\n",
       "      <td>6283</td>\n",
       "      <td>0</td>\n",
       "      <td>1170787</td>\n",
       "      <td>3.806662</td>\n",
       "    </tr>\n",
       "  </tbody>\n",
       "</table>\n",
       "</div>"
      ],
      "text/plain": [
       "      name  item_condition_id  category_name  brand_name  shipping  \\\n",
       "0  1942987                  3            864        6283         1   \n",
       "1  2742268                  3             87        4657         0   \n",
       "2   279967                  1           1320        5486         1   \n",
       "3  1702985                  1            536        6283         1   \n",
       "4   139326                  1           1247        6283         0   \n",
       "\n",
       "   item_description     price  \n",
       "0           2590534  2.397895  \n",
       "1           3506316  3.970292  \n",
       "2            367558  2.397895  \n",
       "3           2511534  3.583519  \n",
       "4           1170787  3.806662  "
      ]
     },
     "execution_count": 34,
     "metadata": {},
     "output_type": "execute_result"
    }
   ],
   "source": [
    "train = pd.concat([train, target], axis=1)\n",
    "\n",
    "print(train.shape)\n",
    "train.head()"
   ]
  },
  {
   "cell_type": "code",
   "execution_count": 35,
   "id": "friendly-maine",
   "metadata": {
    "execution": {
     "iopub.execute_input": "2021-07-06T00:49:40.857846Z",
     "iopub.status.busy": "2021-07-06T00:49:40.857240Z",
     "iopub.status.idle": "2021-07-06T00:49:40.860148Z",
     "shell.execute_reply": "2021-07-06T00:49:40.859766Z",
     "shell.execute_reply.started": "2021-07-06T00:26:48.787751Z"
    },
    "papermill": {
     "duration": 0.081811,
     "end_time": "2021-07-06T00:49:40.860278",
     "exception": false,
     "start_time": "2021-07-06T00:49:40.778467",
     "status": "completed"
    },
    "tags": []
   },
   "outputs": [],
   "source": [
    "df_group = train.groupby('category_name')['price']"
   ]
  },
  {
   "cell_type": "code",
   "execution_count": 36,
   "id": "young-calculator",
   "metadata": {
    "execution": {
     "iopub.execute_input": "2021-07-06T00:49:41.027007Z",
     "iopub.status.busy": "2021-07-06T00:49:41.026216Z",
     "iopub.status.idle": "2021-07-06T00:49:41.109484Z",
     "shell.execute_reply": "2021-07-06T00:49:41.109003Z",
     "shell.execute_reply.started": "2021-07-06T00:26:48.795685Z"
    },
    "papermill": {
     "duration": 0.16566,
     "end_time": "2021-07-06T00:49:41.109615",
     "exception": false,
     "start_time": "2021-07-06T00:49:40.943955",
     "status": "completed"
    },
    "tags": []
   },
   "outputs": [],
   "source": [
    "category_mean = df_group.mean()\n",
    "category_median = df_group.median()\n",
    "category_std = df_group.std()\n",
    "category_min = df_group.min()\n",
    "category_max = df_group.max()"
   ]
  },
  {
   "cell_type": "code",
   "execution_count": 37,
   "id": "stopped-kuwait",
   "metadata": {
    "execution": {
     "iopub.execute_input": "2021-07-06T00:49:41.267637Z",
     "iopub.status.busy": "2021-07-06T00:49:41.266857Z",
     "iopub.status.idle": "2021-07-06T00:49:41.325107Z",
     "shell.execute_reply": "2021-07-06T00:49:41.324673Z",
     "shell.execute_reply.started": "2021-07-06T00:26:48.893476Z"
    },
    "papermill": {
     "duration": 0.139695,
     "end_time": "2021-07-06T00:49:41.325254",
     "exception": false,
     "start_time": "2021-07-06T00:49:41.185559",
     "status": "completed"
    },
    "tags": []
   },
   "outputs": [],
   "source": [
    "train['category_mean'] = train['category_name'].map(category_mean)\n",
    "train['category_median'] = train['category_name'].map(category_median)\n",
    "train['category_std'] = train['category_name'].map(category_std)\n",
    "train['category_min'] = train['category_name'].map(category_min)\n",
    "train['category_max'] = train['category_name'].map(category_max)"
   ]
  },
  {
   "cell_type": "code",
   "execution_count": 38,
   "id": "processed-burner",
   "metadata": {
    "execution": {
     "iopub.execute_input": "2021-07-06T00:49:41.595134Z",
     "iopub.status.busy": "2021-07-06T00:49:41.594442Z",
     "iopub.status.idle": "2021-07-06T00:49:41.597430Z",
     "shell.execute_reply": "2021-07-06T00:49:41.597827Z",
     "shell.execute_reply.started": "2021-07-06T00:26:48.963911Z"
    },
    "papermill": {
     "duration": 0.197579,
     "end_time": "2021-07-06T00:49:41.597969",
     "exception": false,
     "start_time": "2021-07-06T00:49:41.400390",
     "status": "completed"
    },
    "tags": []
   },
   "outputs": [
    {
     "data": {
      "text/plain": [
       "20"
      ]
     },
     "execution_count": 38,
     "metadata": {},
     "output_type": "execute_result"
    }
   ],
   "source": [
    "del df_group\n",
    "gc.collect()"
   ]
  },
  {
   "cell_type": "code",
   "execution_count": 39,
   "id": "electoral-concentration",
   "metadata": {
    "execution": {
     "iopub.execute_input": "2021-07-06T00:49:41.768835Z",
     "iopub.status.busy": "2021-07-06T00:49:41.767613Z",
     "iopub.status.idle": "2021-07-06T00:49:41.850980Z",
     "shell.execute_reply": "2021-07-06T00:49:41.850527Z",
     "shell.execute_reply.started": "2021-07-06T00:26:49.087328Z"
    },
    "papermill": {
     "duration": 0.176101,
     "end_time": "2021-07-06T00:49:41.851109",
     "exception": false,
     "start_time": "2021-07-06T00:49:41.675008",
     "status": "completed"
    },
    "tags": []
   },
   "outputs": [],
   "source": [
    "train = train[[col for col in train.columns if col != 'price']]"
   ]
  },
  {
   "cell_type": "code",
   "execution_count": 40,
   "id": "pacific-frank",
   "metadata": {
    "execution": {
     "iopub.execute_input": "2021-07-06T00:49:42.007513Z",
     "iopub.status.busy": "2021-07-06T00:49:42.006978Z",
     "iopub.status.idle": "2021-07-06T00:49:42.355001Z",
     "shell.execute_reply": "2021-07-06T00:49:42.355574Z",
     "shell.execute_reply.started": "2021-07-06T00:26:49.178114Z"
    },
    "papermill": {
     "duration": 0.427917,
     "end_time": "2021-07-06T00:49:42.355764",
     "exception": false,
     "start_time": "2021-07-06T00:49:41.927847",
     "status": "completed"
    },
    "tags": []
   },
   "outputs": [
    {
     "name": "stdout",
     "output_type": "stream",
     "text": [
      "(1471688, 11)\n"
     ]
    },
    {
     "data": {
      "text/html": [
       "<div>\n",
       "<style scoped>\n",
       "    .dataframe tbody tr th:only-of-type {\n",
       "        vertical-align: middle;\n",
       "    }\n",
       "\n",
       "    .dataframe tbody tr th {\n",
       "        vertical-align: top;\n",
       "    }\n",
       "\n",
       "    .dataframe thead th {\n",
       "        text-align: right;\n",
       "    }\n",
       "</style>\n",
       "<table border=\"1\" class=\"dataframe\">\n",
       "  <thead>\n",
       "    <tr style=\"text-align: right;\">\n",
       "      <th></th>\n",
       "      <th>name</th>\n",
       "      <th>item_condition_id</th>\n",
       "      <th>category_name</th>\n",
       "      <th>brand_name</th>\n",
       "      <th>shipping</th>\n",
       "      <th>item_description</th>\n",
       "      <th>category_mean</th>\n",
       "      <th>category_median</th>\n",
       "      <th>category_std</th>\n",
       "      <th>category_min</th>\n",
       "      <th>category_max</th>\n",
       "    </tr>\n",
       "  </thead>\n",
       "  <tbody>\n",
       "    <tr>\n",
       "      <th>0</th>\n",
       "      <td>1942987</td>\n",
       "      <td>3</td>\n",
       "      <td>864</td>\n",
       "      <td>6283</td>\n",
       "      <td>1</td>\n",
       "      <td>2590534</td>\n",
       "      <td>2.770051</td>\n",
       "      <td>2.708050</td>\n",
       "      <td>0.563315</td>\n",
       "      <td>0.000000</td>\n",
       "      <td>5.283204</td>\n",
       "    </tr>\n",
       "    <tr>\n",
       "      <th>1</th>\n",
       "      <td>2742268</td>\n",
       "      <td>3</td>\n",
       "      <td>87</td>\n",
       "      <td>4657</td>\n",
       "      <td>0</td>\n",
       "      <td>3506316</td>\n",
       "      <td>3.274398</td>\n",
       "      <td>3.258097</td>\n",
       "      <td>0.797866</td>\n",
       "      <td>1.386294</td>\n",
       "      <td>5.278115</td>\n",
       "    </tr>\n",
       "    <tr>\n",
       "      <th>2</th>\n",
       "      <td>279967</td>\n",
       "      <td>1</td>\n",
       "      <td>1320</td>\n",
       "      <td>5486</td>\n",
       "      <td>1</td>\n",
       "      <td>367558</td>\n",
       "      <td>2.646088</td>\n",
       "      <td>2.564949</td>\n",
       "      <td>0.521971</td>\n",
       "      <td>0.000000</td>\n",
       "      <td>5.247024</td>\n",
       "    </tr>\n",
       "    <tr>\n",
       "      <th>3</th>\n",
       "      <td>1702985</td>\n",
       "      <td>1</td>\n",
       "      <td>536</td>\n",
       "      <td>6283</td>\n",
       "      <td>1</td>\n",
       "      <td>2511534</td>\n",
       "      <td>2.904655</td>\n",
       "      <td>2.833213</td>\n",
       "      <td>0.637105</td>\n",
       "      <td>0.000000</td>\n",
       "      <td>5.293305</td>\n",
       "    </tr>\n",
       "    <tr>\n",
       "      <th>4</th>\n",
       "      <td>139326</td>\n",
       "      <td>1</td>\n",
       "      <td>1247</td>\n",
       "      <td>6283</td>\n",
       "      <td>0</td>\n",
       "      <td>1170787</td>\n",
       "      <td>2.696821</td>\n",
       "      <td>2.484907</td>\n",
       "      <td>0.896413</td>\n",
       "      <td>0.000000</td>\n",
       "      <td>5.298317</td>\n",
       "    </tr>\n",
       "  </tbody>\n",
       "</table>\n",
       "</div>"
      ],
      "text/plain": [
       "      name  item_condition_id  category_name  brand_name  shipping  \\\n",
       "0  1942987                  3            864        6283         1   \n",
       "1  2742268                  3             87        4657         0   \n",
       "2   279967                  1           1320        5486         1   \n",
       "3  1702985                  1            536        6283         1   \n",
       "4   139326                  1           1247        6283         0   \n",
       "\n",
       "   item_description  category_mean  category_median  category_std  \\\n",
       "0           2590534       2.770051         2.708050      0.563315   \n",
       "1           3506316       3.274398         3.258097      0.797866   \n",
       "2            367558       2.646088         2.564949      0.521971   \n",
       "3           2511534       2.904655         2.833213      0.637105   \n",
       "4           1170787       2.696821         2.484907      0.896413   \n",
       "\n",
       "   category_min  category_max  \n",
       "0      0.000000      5.283204  \n",
       "1      1.386294      5.278115  \n",
       "2      0.000000      5.247024  \n",
       "3      0.000000      5.293305  \n",
       "4      0.000000      5.298317  "
      ]
     },
     "execution_count": 40,
     "metadata": {},
     "output_type": "execute_result"
    }
   ],
   "source": [
    "train.to_pickle('train.pickle')\n",
    "\n",
    "print(train.shape)\n",
    "train.head()"
   ]
  },
  {
   "cell_type": "code",
   "execution_count": 41,
   "id": "artistic-cherry",
   "metadata": {
    "execution": {
     "iopub.execute_input": "2021-07-06T00:49:42.520554Z",
     "iopub.status.busy": "2021-07-06T00:49:42.519845Z",
     "iopub.status.idle": "2021-07-06T00:49:42.533533Z",
     "shell.execute_reply": "2021-07-06T00:49:42.534523Z",
     "shell.execute_reply.started": "2021-07-06T00:26:49.649260Z"
    },
    "papermill": {
     "duration": 0.101528,
     "end_time": "2021-07-06T00:49:42.534748",
     "exception": false,
     "start_time": "2021-07-06T00:49:42.433220",
     "status": "completed"
    },
    "tags": []
   },
   "outputs": [
    {
     "name": "stdout",
     "output_type": "stream",
     "text": [
      "(1471688,)\n"
     ]
    },
    {
     "data": {
      "text/plain": [
       "0    2.397895\n",
       "1    3.970292\n",
       "2    2.397895\n",
       "3    3.583519\n",
       "4    3.806662\n",
       "Name: price, dtype: float64"
      ]
     },
     "execution_count": 41,
     "metadata": {},
     "output_type": "execute_result"
    }
   ],
   "source": [
    "print(target.shape)\n",
    "target.head()"
   ]
  },
  {
   "cell_type": "markdown",
   "id": "soviet-seeker",
   "metadata": {
    "papermill": {
     "duration": 0.145476,
     "end_time": "2021-07-06T00:49:42.851077",
     "exception": false,
     "start_time": "2021-07-06T00:49:42.705601",
     "status": "completed"
    },
    "tags": []
   },
   "source": [
    "# Modeling"
   ]
  },
  {
   "cell_type": "code",
   "execution_count": 42,
   "id": "rural-poison",
   "metadata": {
    "_kg_hide-output": true,
    "execution": {
     "iopub.execute_input": "2021-07-06T00:49:43.125572Z",
     "iopub.status.busy": "2021-07-06T00:49:43.124684Z",
     "iopub.status.idle": "2021-07-06T00:49:43.128880Z",
     "shell.execute_reply": "2021-07-06T00:49:43.128369Z",
     "shell.execute_reply.started": "2021-07-06T00:26:49.660814Z"
    },
    "papermill": {
     "duration": 0.143423,
     "end_time": "2021-07-06T00:49:43.129001",
     "exception": false,
     "start_time": "2021-07-06T00:49:42.985578",
     "status": "completed"
    },
    "tags": []
   },
   "outputs": [
    {
     "data": {
      "text/plain": [
       "\"\\nX_tr, X_val, y_tr, y_val = train_test_split(train, target, test_size=0.2, random_state=666)\\n\\ndef create_model(trial):\\n    n_estimators = trial.suggest_int('n_estimators', 50, 500)\\n    max_depth = trial.suggest_int('max_depth', 3, 8)\\n    learning_rate = trial.suggest_uniform('learning_rate', 0.0001, 0.99)\\n    subsample = trial.suggest_uniform('subsample', 0.1, 1.0)\\n    colsample_bytree = trial.suggest_uniform('colsample_bytree', 0.1, 1.0)\\n    \\n    model = xgb.XGBRegressor(\\n        n_estimators=n_estimators, \\n        max_depth=max_depth, \\n        learning_rate=learning_rate,\\n        subsample=subsample,\\n        colsample_bytree=colsample_bytree,\\n        random_state=666)\\n    return model\\n\\ndef objective(trial):\\n    model = create_model(trial)\\n    model.fit(X_tr, y_tr)\\n    y_pred = model.predict(X_val)\\n    rsme = np.sqrt(mean_squared_error(y_pred, y_val))\\n    return rsme\\n\\nstudy = optuna.create_study(direction='minimize')\\nstudy.optimize(objective, n_trials=40)\\nparams = study.best_params\\nprint(params)\\n\""
      ]
     },
     "execution_count": 42,
     "metadata": {},
     "output_type": "execute_result"
    }
   ],
   "source": [
    "'''\n",
    "X_tr, X_val, y_tr, y_val = train_test_split(train, target, test_size=0.2, random_state=666)\n",
    "\n",
    "def create_model(trial):\n",
    "    n_estimators = trial.suggest_int('n_estimators', 50, 500)\n",
    "    max_depth = trial.suggest_int('max_depth', 3, 8)\n",
    "    learning_rate = trial.suggest_uniform('learning_rate', 0.0001, 0.99)\n",
    "    subsample = trial.suggest_uniform('subsample', 0.1, 1.0)\n",
    "    colsample_bytree = trial.suggest_uniform('colsample_bytree', 0.1, 1.0)\n",
    "    \n",
    "    model = xgb.XGBRegressor(\n",
    "        n_estimators=n_estimators, \n",
    "        max_depth=max_depth, \n",
    "        learning_rate=learning_rate,\n",
    "        subsample=subsample,\n",
    "        colsample_bytree=colsample_bytree,\n",
    "        random_state=666)\n",
    "    return model\n",
    "\n",
    "def objective(trial):\n",
    "    model = create_model(trial)\n",
    "    model.fit(X_tr, y_tr)\n",
    "    y_pred = model.predict(X_val)\n",
    "    rsme = np.sqrt(mean_squared_error(y_pred, y_val))\n",
    "    return rsme\n",
    "\n",
    "study = optuna.create_study(direction='minimize')\n",
    "study.optimize(objective, n_trials=40)\n",
    "params = study.best_params\n",
    "print(params)\n",
    "'''"
   ]
  },
  {
   "cell_type": "code",
   "execution_count": 43,
   "id": "passing-knight",
   "metadata": {
    "_kg_hide-output": false,
    "execution": {
     "iopub.execute_input": "2021-07-06T00:49:43.305193Z",
     "iopub.status.busy": "2021-07-06T00:49:43.304561Z",
     "iopub.status.idle": "2021-07-06T00:49:43.307460Z",
     "shell.execute_reply": "2021-07-06T00:49:43.306949Z",
     "shell.execute_reply.started": "2021-07-06T00:26:49.671583Z"
    },
    "papermill": {
     "duration": 0.089999,
     "end_time": "2021-07-06T00:49:43.307579",
     "exception": false,
     "start_time": "2021-07-06T00:49:43.217580",
     "status": "completed"
    },
    "tags": []
   },
   "outputs": [],
   "source": [
    "params = {'n_estimators': 223,\n",
    "          'max_depth': 7,\n",
    "          'learning_rate': 0.7251170417771181,\n",
    "          'subsample': 0.646479352481374,\n",
    "          'colsample_bytree': 0.8223733989305669,\n",
    "          'random_state': 666}"
   ]
  },
  {
   "cell_type": "code",
   "execution_count": 44,
   "id": "opposed-colon",
   "metadata": {
    "_kg_hide-output": true,
    "execution": {
     "iopub.execute_input": "2021-07-06T00:49:43.469009Z",
     "iopub.status.busy": "2021-07-06T00:49:43.467857Z",
     "iopub.status.idle": "2021-07-06T00:55:19.713791Z",
     "shell.execute_reply": "2021-07-06T00:55:19.714214Z",
     "shell.execute_reply.started": "2021-07-06T00:26:49.683337Z"
    },
    "papermill": {
     "duration": 336.329011,
     "end_time": "2021-07-06T00:55:19.714375",
     "exception": false,
     "start_time": "2021-07-06T00:49:43.385364",
     "status": "completed"
    },
    "tags": []
   },
   "outputs": [
    {
     "data": {
      "text/plain": [
       "XGBRegressor(base_score=0.5, booster='gbtree', colsample_bylevel=1,\n",
       "             colsample_bynode=1, colsample_bytree=0.8223733989305669, gamma=0,\n",
       "             gpu_id=-1, importance_type='gain', interaction_constraints='',\n",
       "             learning_rate=0.7251170417771181, max_delta_step=0, max_depth=7,\n",
       "             min_child_weight=1, missing=nan, monotone_constraints='()',\n",
       "             n_estimators=223, n_jobs=2, num_parallel_tree=1, random_state=666,\n",
       "             reg_alpha=0, reg_lambda=1, scale_pos_weight=1,\n",
       "             subsample=0.646479352481374, tree_method='exact',\n",
       "             validate_parameters=1, verbosity=None)"
      ]
     },
     "execution_count": 44,
     "metadata": {},
     "output_type": "execute_result"
    }
   ],
   "source": [
    "cls = xgb.XGBRegressor(**params)\n",
    "cls.fit(train, target)"
   ]
  },
  {
   "cell_type": "code",
   "execution_count": 45,
   "id": "individual-wrapping",
   "metadata": {
    "execution": {
     "iopub.execute_input": "2021-07-06T00:55:19.875517Z",
     "iopub.status.busy": "2021-07-06T00:55:19.874750Z",
     "iopub.status.idle": "2021-07-06T00:55:20.325153Z",
     "shell.execute_reply": "2021-07-06T00:55:20.325611Z",
     "shell.execute_reply.started": "2021-07-06T00:32:31.812707Z"
    },
    "papermill": {
     "duration": 0.533576,
     "end_time": "2021-07-06T00:55:20.325762",
     "exception": false,
     "start_time": "2021-07-06T00:55:19.792186",
     "status": "completed"
    },
    "tags": []
   },
   "outputs": [
    {
     "data": {
      "image/png": "[encoded data removed]",
      "text/plain": [
       "<Figure size 432x288 with 1 Axes>"
      ]
     },
     "metadata": {},
     "output_type": "display_data"
    }
   ],
   "source": [
    "xgb.plot_importance(cls)\n",
    "plt.show()"
   ]
  },
  {
   "cell_type": "code",
   "execution_count": 46,
   "id": "employed-allen",
   "metadata": {
    "execution": {
     "iopub.execute_input": "2021-07-06T00:55:20.618142Z",
     "iopub.status.busy": "2021-07-06T00:55:20.617178Z",
     "iopub.status.idle": "2021-07-06T00:55:20.620690Z",
     "shell.execute_reply": "2021-07-06T00:55:20.621112Z",
     "shell.execute_reply.started": "2021-07-06T00:32:32.265397Z"
    },
    "papermill": {
     "duration": 0.215352,
     "end_time": "2021-07-06T00:55:20.621283",
     "exception": false,
     "start_time": "2021-07-06T00:55:20.405931",
     "status": "completed"
    },
    "tags": []
   },
   "outputs": [
    {
     "data": {
      "text/plain": [
       "4569"
      ]
     },
     "execution_count": 46,
     "metadata": {},
     "output_type": "execute_result"
    }
   ],
   "source": [
    "del train, target, params\n",
    "gc.collect()"
   ]
  },
  {
   "cell_type": "markdown",
   "id": "compound-symposium",
   "metadata": {
    "papermill": {
     "duration": 0.079459,
     "end_time": "2021-07-06T00:55:20.780653",
     "exception": false,
     "start_time": "2021-07-06T00:55:20.701194",
     "status": "completed"
    },
    "tags": []
   },
   "source": [
    "# Submit"
   ]
  },
  {
   "cell_type": "code",
   "execution_count": 47,
   "id": "third-holocaust",
   "metadata": {
    "_kg_hide-output": true,
    "execution": {
     "iopub.execute_input": "2021-07-06T00:55:20.945180Z",
     "iopub.status.busy": "2021-07-06T00:55:20.944274Z",
     "iopub.status.idle": "2021-07-06T00:55:21.098589Z",
     "shell.execute_reply": "2021-07-06T00:55:21.099217Z",
     "shell.execute_reply.started": "2021-07-06T00:32:32.402092Z"
    },
    "papermill": {
     "duration": 0.239228,
     "end_time": "2021-07-06T00:55:21.099412",
     "exception": false,
     "start_time": "2021-07-06T00:55:20.860184",
     "status": "completed"
    },
    "tags": []
   },
   "outputs": [
    {
     "name": "stderr",
     "output_type": "stream",
     "text": [
      "/opt/conda/lib/python3.7/site-packages/ipykernel_launcher.py:1: SettingWithCopyWarning: \n",
      "A value is trying to be set on a copy of a slice from a DataFrame.\n",
      "Try using .loc[row_indexer,col_indexer] = value instead\n",
      "\n",
      "See the caveats in the documentation: https://pandas.pydata.org/pandas-docs/stable/user_guide/indexing.html#returning-a-view-versus-a-copy\n",
      "  \"\"\"Entry point for launching an IPython kernel.\n",
      "/opt/conda/lib/python3.7/site-packages/ipykernel_launcher.py:2: SettingWithCopyWarning: \n",
      "A value is trying to be set on a copy of a slice from a DataFrame.\n",
      "Try using .loc[row_indexer,col_indexer] = value instead\n",
      "\n",
      "See the caveats in the documentation: https://pandas.pydata.org/pandas-docs/stable/user_guide/indexing.html#returning-a-view-versus-a-copy\n",
      "  \n",
      "/opt/conda/lib/python3.7/site-packages/ipykernel_launcher.py:3: SettingWithCopyWarning: \n",
      "A value is trying to be set on a copy of a slice from a DataFrame.\n",
      "Try using .loc[row_indexer,col_indexer] = value instead\n",
      "\n",
      "See the caveats in the documentation: https://pandas.pydata.org/pandas-docs/stable/user_guide/indexing.html#returning-a-view-versus-a-copy\n",
      "  This is separate from the ipykernel package so we can avoid doing imports until\n",
      "/opt/conda/lib/python3.7/site-packages/ipykernel_launcher.py:4: SettingWithCopyWarning: \n",
      "A value is trying to be set on a copy of a slice from a DataFrame.\n",
      "Try using .loc[row_indexer,col_indexer] = value instead\n",
      "\n",
      "See the caveats in the documentation: https://pandas.pydata.org/pandas-docs/stable/user_guide/indexing.html#returning-a-view-versus-a-copy\n",
      "  after removing the cwd from sys.path.\n",
      "/opt/conda/lib/python3.7/site-packages/ipykernel_launcher.py:5: SettingWithCopyWarning: \n",
      "A value is trying to be set on a copy of a slice from a DataFrame.\n",
      "Try using .loc[row_indexer,col_indexer] = value instead\n",
      "\n",
      "See the caveats in the documentation: https://pandas.pydata.org/pandas-docs/stable/user_guide/indexing.html#returning-a-view-versus-a-copy\n",
      "  \"\"\"\n"
     ]
    }
   ],
   "source": [
    "test['category_mean'] = test['category_name'].map(category_mean)\n",
    "test['category_median'] = test['category_name'].map(category_median)\n",
    "test['category_std'] = test['category_name'].map(category_std)\n",
    "test['category_min'] = test['category_name'].map(category_min)\n",
    "test['category_max'] = test['category_name'].map(category_max)"
   ]
  },
  {
   "cell_type": "code",
   "execution_count": 48,
   "id": "occupied-qatar",
   "metadata": {
    "execution": {
     "iopub.execute_input": "2021-07-06T00:55:21.560484Z",
     "iopub.status.busy": "2021-07-06T00:55:21.263285Z",
     "iopub.status.idle": "2021-07-06T00:55:21.759439Z",
     "shell.execute_reply": "2021-07-06T00:55:21.760009Z",
     "shell.execute_reply.started": "2021-07-06T00:32:32.571910Z"
    },
    "papermill": {
     "duration": 0.580063,
     "end_time": "2021-07-06T00:55:21.760202",
     "exception": false,
     "start_time": "2021-07-06T00:55:21.180139",
     "status": "completed"
    },
    "tags": []
   },
   "outputs": [
    {
     "name": "stdout",
     "output_type": "stream",
     "text": [
      "(3460725, 11)\n"
     ]
    },
    {
     "data": {
      "text/html": [
       "<div>\n",
       "<style scoped>\n",
       "    .dataframe tbody tr th:only-of-type {\n",
       "        vertical-align: middle;\n",
       "    }\n",
       "\n",
       "    .dataframe tbody tr th {\n",
       "        vertical-align: top;\n",
       "    }\n",
       "\n",
       "    .dataframe thead th {\n",
       "        text-align: right;\n",
       "    }\n",
       "</style>\n",
       "<table border=\"1\" class=\"dataframe\">\n",
       "  <thead>\n",
       "    <tr style=\"text-align: right;\">\n",
       "      <th></th>\n",
       "      <th>name</th>\n",
       "      <th>item_condition_id</th>\n",
       "      <th>category_name</th>\n",
       "      <th>brand_name</th>\n",
       "      <th>shipping</th>\n",
       "      <th>item_description</th>\n",
       "      <th>category_mean</th>\n",
       "      <th>category_median</th>\n",
       "      <th>category_std</th>\n",
       "      <th>category_min</th>\n",
       "      <th>category_max</th>\n",
       "    </tr>\n",
       "  </thead>\n",
       "  <tbody>\n",
       "    <tr>\n",
       "      <th>0</th>\n",
       "      <td>687992</td>\n",
       "      <td>1</td>\n",
       "      <td>1248</td>\n",
       "      <td>6283</td>\n",
       "      <td>1</td>\n",
       "      <td>3084753</td>\n",
       "      <td>2.866219</td>\n",
       "      <td>2.772589</td>\n",
       "      <td>0.829323</td>\n",
       "      <td>0.000000</td>\n",
       "      <td>5.298317</td>\n",
       "    </tr>\n",
       "    <tr>\n",
       "      <th>1</th>\n",
       "      <td>140679</td>\n",
       "      <td>1</td>\n",
       "      <td>934</td>\n",
       "      <td>6283</td>\n",
       "      <td>1</td>\n",
       "      <td>210147</td>\n",
       "      <td>2.345631</td>\n",
       "      <td>2.302585</td>\n",
       "      <td>0.525116</td>\n",
       "      <td>0.000000</td>\n",
       "      <td>5.225747</td>\n",
       "    </tr>\n",
       "    <tr>\n",
       "      <th>2</th>\n",
       "      <td>870054</td>\n",
       "      <td>1</td>\n",
       "      <td>1036</td>\n",
       "      <td>1298</td>\n",
       "      <td>1</td>\n",
       "      <td>845961</td>\n",
       "      <td>3.712730</td>\n",
       "      <td>3.713572</td>\n",
       "      <td>0.806799</td>\n",
       "      <td>0.000000</td>\n",
       "      <td>5.298317</td>\n",
       "    </tr>\n",
       "    <tr>\n",
       "      <th>3</th>\n",
       "      <td>1156281</td>\n",
       "      <td>2</td>\n",
       "      <td>1299</td>\n",
       "      <td>6283</td>\n",
       "      <td>0</td>\n",
       "      <td>74741</td>\n",
       "      <td>3.040210</td>\n",
       "      <td>2.890372</td>\n",
       "      <td>0.720912</td>\n",
       "      <td>0.000000</td>\n",
       "      <td>5.257495</td>\n",
       "    </tr>\n",
       "    <tr>\n",
       "      <th>4</th>\n",
       "      <td>1720115</td>\n",
       "      <td>3</td>\n",
       "      <td>895</td>\n",
       "      <td>6283</td>\n",
       "      <td>1</td>\n",
       "      <td>2909272</td>\n",
       "      <td>2.537237</td>\n",
       "      <td>2.484907</td>\n",
       "      <td>0.477239</td>\n",
       "      <td>1.386294</td>\n",
       "      <td>4.330733</td>\n",
       "    </tr>\n",
       "  </tbody>\n",
       "</table>\n",
       "</div>"
      ],
      "text/plain": [
       "      name  item_condition_id  category_name  brand_name  shipping  \\\n",
       "0   687992                  1           1248        6283         1   \n",
       "1   140679                  1            934        6283         1   \n",
       "2   870054                  1           1036        1298         1   \n",
       "3  1156281                  2           1299        6283         0   \n",
       "4  1720115                  3            895        6283         1   \n",
       "\n",
       "   item_description  category_mean  category_median  category_std  \\\n",
       "0           3084753       2.866219         2.772589      0.829323   \n",
       "1            210147       2.345631         2.302585      0.525116   \n",
       "2            845961       3.712730         3.713572      0.806799   \n",
       "3             74741       3.040210         2.890372      0.720912   \n",
       "4           2909272       2.537237         2.484907      0.477239   \n",
       "\n",
       "   category_min  category_max  \n",
       "0      0.000000      5.298317  \n",
       "1      0.000000      5.225747  \n",
       "2      0.000000      5.298317  \n",
       "3      0.000000      5.257495  \n",
       "4      1.386294      4.330733  "
      ]
     },
     "execution_count": 48,
     "metadata": {},
     "output_type": "execute_result"
    }
   ],
   "source": [
    "test.to_pickle('test.pickle')\n",
    "\n",
    "print(test.shape)\n",
    "test.head()"
   ]
  },
  {
   "cell_type": "code",
   "execution_count": 49,
   "id": "artistic-special",
   "metadata": {
    "execution": {
     "iopub.execute_input": "2021-07-06T00:55:21.928869Z",
     "iopub.status.busy": "2021-07-06T00:55:21.927713Z",
     "iopub.status.idle": "2021-07-06T00:55:38.818115Z",
     "shell.execute_reply": "2021-07-06T00:55:38.817578Z",
     "shell.execute_reply.started": "2021-07-06T00:32:33.076376Z"
    },
    "papermill": {
     "duration": 16.974817,
     "end_time": "2021-07-06T00:55:38.818268",
     "exception": false,
     "start_time": "2021-07-06T00:55:21.843451",
     "status": "completed"
    },
    "tags": []
   },
   "outputs": [],
   "source": [
    "prediction = np.expm1(cls.predict(test))"
   ]
  },
  {
   "cell_type": "code",
   "execution_count": 50,
   "id": "measured-arlington",
   "metadata": {
    "execution": {
     "iopub.execute_input": "2021-07-06T00:55:39.116610Z",
     "iopub.status.busy": "2021-07-06T00:55:39.115551Z",
     "iopub.status.idle": "2021-07-06T00:55:39.120060Z",
     "shell.execute_reply": "2021-07-06T00:55:39.119651Z"
    },
    "papermill": {
     "duration": 0.217123,
     "end_time": "2021-07-06T00:55:39.120194",
     "exception": false,
     "start_time": "2021-07-06T00:55:38.903071",
     "status": "completed"
    },
    "tags": []
   },
   "outputs": [
    {
     "data": {
      "text/plain": [
       "49"
      ]
     },
     "execution_count": 50,
     "metadata": {},
     "output_type": "execute_result"
    }
   ],
   "source": [
    "del test\n",
    "gc.collect()"
   ]
  },
  {
   "cell_type": "code",
   "execution_count": 51,
   "id": "headed-shift",
   "metadata": {
    "execution": {
     "iopub.execute_input": "2021-07-06T00:55:39.289018Z",
     "iopub.status.busy": "2021-07-06T00:55:39.287305Z",
     "iopub.status.idle": "2021-07-06T00:55:39.303833Z",
     "shell.execute_reply": "2021-07-06T00:55:39.303390Z"
    },
    "papermill": {
     "duration": 0.103633,
     "end_time": "2021-07-06T00:55:39.303956",
     "exception": false,
     "start_time": "2021-07-06T00:55:39.200323",
     "status": "completed"
    },
    "tags": []
   },
   "outputs": [
    {
     "data": {
      "text/html": [
       "<div>\n",
       "<style scoped>\n",
       "    .dataframe tbody tr th:only-of-type {\n",
       "        vertical-align: middle;\n",
       "    }\n",
       "\n",
       "    .dataframe tbody tr th {\n",
       "        vertical-align: top;\n",
       "    }\n",
       "\n",
       "    .dataframe thead th {\n",
       "        text-align: right;\n",
       "    }\n",
       "</style>\n",
       "<table border=\"1\" class=\"dataframe\">\n",
       "  <thead>\n",
       "    <tr style=\"text-align: right;\">\n",
       "      <th></th>\n",
       "      <th>test_id</th>\n",
       "      <th>price</th>\n",
       "    </tr>\n",
       "  </thead>\n",
       "  <tbody>\n",
       "    <tr>\n",
       "      <th>0</th>\n",
       "      <td>0</td>\n",
       "      <td>9.670785</td>\n",
       "    </tr>\n",
       "    <tr>\n",
       "      <th>1</th>\n",
       "      <td>1</td>\n",
       "      <td>6.734271</td>\n",
       "    </tr>\n",
       "    <tr>\n",
       "      <th>2</th>\n",
       "      <td>2</td>\n",
       "      <td>64.962723</td>\n",
       "    </tr>\n",
       "    <tr>\n",
       "      <th>3</th>\n",
       "      <td>3</td>\n",
       "      <td>11.789055</td>\n",
       "    </tr>\n",
       "    <tr>\n",
       "      <th>4</th>\n",
       "      <td>4</td>\n",
       "      <td>9.403168</td>\n",
       "    </tr>\n",
       "    <tr>\n",
       "      <th>5</th>\n",
       "      <td>5</td>\n",
       "      <td>9.568218</td>\n",
       "    </tr>\n",
       "    <tr>\n",
       "      <th>6</th>\n",
       "      <td>6</td>\n",
       "      <td>11.222969</td>\n",
       "    </tr>\n",
       "    <tr>\n",
       "      <th>7</th>\n",
       "      <td>7</td>\n",
       "      <td>12.780069</td>\n",
       "    </tr>\n",
       "    <tr>\n",
       "      <th>8</th>\n",
       "      <td>8</td>\n",
       "      <td>36.211502</td>\n",
       "    </tr>\n",
       "    <tr>\n",
       "      <th>9</th>\n",
       "      <td>9</td>\n",
       "      <td>14.101789</td>\n",
       "    </tr>\n",
       "  </tbody>\n",
       "</table>\n",
       "</div>"
      ],
      "text/plain": [
       "   test_id      price\n",
       "0        0   9.670785\n",
       "1        1   6.734271\n",
       "2        2  64.962723\n",
       "3        3  11.789055\n",
       "4        4   9.403168\n",
       "5        5   9.568218\n",
       "6        6  11.222969\n",
       "7        7  12.780069\n",
       "8        8  36.211502\n",
       "9        9  14.101789"
      ]
     },
     "execution_count": 51,
     "metadata": {},
     "output_type": "execute_result"
    }
   ],
   "source": [
    "submit = pd.DataFrame(test_id, columns=['test_id'])\n",
    "submit['price'] = prediction\n",
    "\n",
    "submit.head(10)"
   ]
  },
  {
   "cell_type": "code",
   "execution_count": 52,
   "id": "worse-eight",
   "metadata": {
    "execution": {
     "iopub.execute_input": "2021-07-06T00:55:39.611854Z",
     "iopub.status.busy": "2021-07-06T00:55:39.611072Z",
     "iopub.status.idle": "2021-07-06T00:55:39.614977Z",
     "shell.execute_reply": "2021-07-06T00:55:39.614514Z"
    },
    "papermill": {
     "duration": 0.222175,
     "end_time": "2021-07-06T00:55:39.615093",
     "exception": false,
     "start_time": "2021-07-06T00:55:39.392918",
     "status": "completed"
    },
    "tags": []
   },
   "outputs": [
    {
     "data": {
      "text/plain": [
       "40"
      ]
     },
     "execution_count": 52,
     "metadata": {},
     "output_type": "execute_result"
    }
   ],
   "source": [
    "del test_id, prediction\n",
    "gc.collect()"
   ]
  },
  {
   "cell_type": "markdown",
   "id": "quick-extraction",
   "metadata": {
    "papermill": {
     "duration": 0.081197,
     "end_time": "2021-07-06T00:55:39.778377",
     "exception": false,
     "start_time": "2021-07-06T00:55:39.697180",
     "status": "completed"
    },
    "tags": []
   },
   "source": [
    "Submissionファイルは、/kaggle下ではなく、/kaggle/working下に作成する。<br>\n",
    "また、submissionのCSVファイルについて、index=Falseにする。"
   ]
  },
  {
   "cell_type": "code",
   "execution_count": 53,
   "id": "toxic-breath",
   "metadata": {
    "execution": {
     "iopub.execute_input": "2021-07-06T00:55:39.945694Z",
     "iopub.status.busy": "2021-07-06T00:55:39.945080Z",
     "iopub.status.idle": "2021-07-06T00:55:49.653768Z",
     "shell.execute_reply": "2021-07-06T00:55:49.653291Z"
    },
    "papermill": {
     "duration": 9.794218,
     "end_time": "2021-07-06T00:55:49.653898",
     "exception": false,
     "start_time": "2021-07-06T00:55:39.859680",
     "status": "completed"
    },
    "tags": []
   },
   "outputs": [],
   "source": [
    "submit.to_csv('./submission.csv', index=False)"
   ]
  }
 ],
 "metadata": {
  "kernelspec": {
   "display_name": "Python 3",
   "language": "python",
   "name": "python3"
  },
  "language_info": {
   "codemirror_mode": {
    "name": "ipython",
    "version": 3
   },
   "file_extension": ".py",
   "mimetype": "text/x-python",
   "name": "python",
   "nbconvert_exporter": "python",
   "pygments_lexer": "ipython3",
   "version": "3.7.9"
  },
  "papermill": {
   "default_parameters": {},
   "duration": 500.925982,
   "end_time": "2021-07-06T00:55:51.346686",
   "environment_variables": {},
   "exception": null,
   "input_path": "__notebook__.ipynb",
   "output_path": "__notebook__.ipynb",
   "parameters": {},
   "start_time": "2021-07-06T00:47:30.420704",
   "version": "2.3.2"
  }
 },
 "nbformat": 4,
 "nbformat_minor": 5
}
