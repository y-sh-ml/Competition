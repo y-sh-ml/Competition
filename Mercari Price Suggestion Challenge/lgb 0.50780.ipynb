{
 "cells": [
  {
   "cell_type": "markdown",
   "id": "manufactured-flooring",
   "metadata": {
    "execution": {
     "iopub.execute_input": "2021-06-24T03:23:16.409576Z",
     "iopub.status.busy": "2021-06-24T03:23:16.409199Z",
     "iopub.status.idle": "2021-06-24T03:23:16.414226Z",
     "shell.execute_reply": "2021-06-24T03:23:16.413341Z",
     "shell.execute_reply.started": "2021-06-24T03:23:16.409545Z"
    },
    "papermill": {
     "duration": 0.039111,
     "end_time": "2021-07-07T00:21:25.810116",
     "exception": false,
     "start_time": "2021-07-07T00:21:25.771005",
     "status": "completed"
    },
    "tags": []
   },
   "source": [
    "# Competition"
   ]
  },
  {
   "cell_type": "markdown",
   "id": "alternate-attribute",
   "metadata": {
    "papermill": {
     "duration": 0.037564,
     "end_time": "2021-07-07T00:21:25.885400",
     "exception": false,
     "start_time": "2021-07-07T00:21:25.847836",
     "status": "completed"
    },
    "tags": []
   },
   "source": [
    "[Mercari Price Suggestion Challenge](https://www.kaggle.com/c/mercari-price-suggestion-challenge)"
   ]
  },
  {
   "cell_type": "markdown",
   "id": "technological-frame",
   "metadata": {
    "papermill": {
     "duration": 0.037273,
     "end_time": "2021-07-07T00:21:25.960446",
     "exception": false,
     "start_time": "2021-07-07T00:21:25.923173",
     "status": "completed"
    },
    "tags": []
   },
   "source": [
    "# Overview"
   ]
  },
  {
   "cell_type": "markdown",
   "id": "million-boutique",
   "metadata": {
    "papermill": {
     "duration": 0.037516,
     "end_time": "2021-07-07T00:21:26.035612",
     "exception": false,
     "start_time": "2021-07-07T00:21:25.998096",
     "status": "completed"
    },
    "tags": []
   },
   "source": [
    "メルカリに出品されている商品データ（カテゴリーやブランドなど）と価格をもとに<br>\n",
    "商品データから価格を予測するモデルを作成する。"
   ]
  },
  {
   "cell_type": "markdown",
   "id": "geographic-station",
   "metadata": {
    "papermill": {
     "duration": 0.037954,
     "end_time": "2021-07-07T00:21:26.111305",
     "exception": false,
     "start_time": "2021-07-07T00:21:26.073351",
     "status": "completed"
    },
    "tags": []
   },
   "source": [
    "# Module"
   ]
  },
  {
   "cell_type": "code",
   "execution_count": 1,
   "id": "occupational-practitioner",
   "metadata": {
    "execution": {
     "iopub.execute_input": "2021-07-07T00:21:26.194779Z",
     "iopub.status.busy": "2021-07-07T00:21:26.194174Z",
     "iopub.status.idle": "2021-07-07T00:21:27.785328Z",
     "shell.execute_reply": "2021-07-07T00:21:27.784357Z",
     "shell.execute_reply.started": "2021-07-06T23:27:48.131949Z"
    },
    "papermill": {
     "duration": 1.636529,
     "end_time": "2021-07-07T00:21:27.785475",
     "exception": false,
     "start_time": "2021-07-07T00:21:26.148946",
     "status": "completed"
    },
    "tags": []
   },
   "outputs": [
    {
     "data": {
      "text/html": [
       "<style type='text/css'>\n",
       ".datatable table.frame { margin-bottom: 0; }\n",
       ".datatable table.frame thead { border-bottom: none; }\n",
       ".datatable table.frame tr.coltypes td {  color: #FFFFFF;  line-height: 6px;  padding: 0 0.5em;}\n",
       ".datatable .bool    { background: #DDDD99; }\n",
       ".datatable .object  { background: #565656; }\n",
       ".datatable .int     { background: #5D9E5D; }\n",
       ".datatable .float   { background: #4040CC; }\n",
       ".datatable .str     { background: #CC4040; }\n",
       ".datatable .row_index {  background: var(--jp-border-color3);  border-right: 1px solid var(--jp-border-color0);  color: var(--jp-ui-font-color3);  font-size: 9px;}\n",
       ".datatable .frame tr.coltypes .row_index {  background: var(--jp-border-color0);}\n",
       ".datatable th:nth-child(2) { padding-left: 12px; }\n",
       ".datatable .hellipsis {  color: var(--jp-cell-editor-border-color);}\n",
       ".datatable .vellipsis {  background: var(--jp-layout-color0);  color: var(--jp-cell-editor-border-color);}\n",
       ".datatable .na {  color: var(--jp-cell-editor-border-color);  font-size: 80%;}\n",
       ".datatable .footer { font-size: 9px; }\n",
       ".datatable .frame_dimensions {  background: var(--jp-border-color3);  border-top: 1px solid var(--jp-border-color0);  color: var(--jp-ui-font-color3);  display: inline-block;  opacity: 0.6;  padding: 1px 10px 1px 5px;}\n",
       "</style>\n"
      ],
      "text/plain": [
       "<IPython.core.display.HTML object>"
      ]
     },
     "metadata": {},
     "output_type": "display_data"
    }
   ],
   "source": [
    "import gc\n",
    "import sys\n",
    "import scipy\n",
    "import optuna\n",
    "import datetime\n",
    "import warnings\n",
    "import matplotlib\n",
    "import numpy as np\n",
    "import pandas as pd\n",
    "import seaborn as sns\n",
    "import lightgbm as lgb\n",
    "import matplotlib.pyplot as plt\n",
    "\n",
    "from scipy.sparse import csr_matrix, hstack\n",
    "from sklearn.preprocessing import LabelBinarizer\n",
    "from sklearn.metrics import mean_squared_error\n",
    "from sklearn.model_selection import train_test_split\n",
    "from pandas.api.types import is_categorical_dtype\n",
    "from pandas.api.types import is_datetime64_any_dtype as is_datetime\n",
    "from sklearn.feature_extraction.text import CountVectorizer, TfidfVectorizer"
   ]
  },
  {
   "cell_type": "markdown",
   "id": "olive-royal",
   "metadata": {
    "papermill": {
     "duration": 0.038615,
     "end_time": "2021-07-07T00:21:27.863231",
     "exception": false,
     "start_time": "2021-07-07T00:21:27.824616",
     "status": "completed"
    },
    "tags": []
   },
   "source": [
    "# Unfreeze"
   ]
  },
  {
   "cell_type": "markdown",
   "id": "prostate-champagne",
   "metadata": {
    "papermill": {
     "duration": 0.038066,
     "end_time": "2021-07-07T00:21:27.939844",
     "exception": false,
     "start_time": "2021-07-07T00:21:27.901778",
     "status": "completed"
    },
    "tags": []
   },
   "source": [
    "Kaggleで用意されたデータが、7z形式になっているため<br>\n",
    "解凍の処理から行っていく。"
   ]
  },
  {
   "cell_type": "code",
   "execution_count": 2,
   "id": "visible-preserve",
   "metadata": {
    "_kg_hide-output": true,
    "execution": {
     "iopub.execute_input": "2021-07-07T00:21:28.021935Z",
     "iopub.status.busy": "2021-07-07T00:21:28.021286Z",
     "iopub.status.idle": "2021-07-07T00:21:28.029332Z",
     "shell.execute_reply": "2021-07-07T00:21:28.028910Z",
     "shell.execute_reply.started": "2021-07-06T23:27:50.096033Z"
    },
    "papermill": {
     "duration": 0.051233,
     "end_time": "2021-07-07T00:21:28.029442",
     "exception": false,
     "start_time": "2021-07-07T00:21:27.978209",
     "status": "completed"
    },
    "tags": []
   },
   "outputs": [
    {
     "name": "stdout",
     "output_type": "stream",
     "text": [
      "/kaggle/input/mercari-price-suggestion-challenge/train.tsv.7z\n",
      "/kaggle/input/mercari-price-suggestion-challenge/test.tsv.7z\n",
      "/kaggle/input/mercari-price-suggestion-challenge/sample_submission_stg2.csv.zip\n",
      "/kaggle/input/mercari-price-suggestion-challenge/test_stg2.tsv.zip\n",
      "/kaggle/input/mercari-price-suggestion-challenge/sample_submission.csv.7z\n"
     ]
    }
   ],
   "source": [
    "import os\n",
    "for dirname, _, filenames in os.walk('/kaggle/input'):\n",
    "    for filename in filenames:\n",
    "        print(os.path.join(dirname, filename))"
   ]
  },
  {
   "cell_type": "markdown",
   "id": "overall-residence",
   "metadata": {
    "papermill": {
     "duration": 0.04088,
     "end_time": "2021-07-07T00:21:28.110476",
     "exception": false,
     "start_time": "2021-07-07T00:21:28.069596",
     "status": "completed"
    },
    "tags": []
   },
   "source": [
    "下記は、SettingsのInternetをONにして実行しないと、エラーになる。"
   ]
  },
  {
   "cell_type": "code",
   "execution_count": 3,
   "id": "necessary-queue",
   "metadata": {
    "_kg_hide-output": true,
    "execution": {
     "iopub.execute_input": "2021-07-07T00:21:28.222632Z",
     "iopub.status.busy": "2021-07-07T00:21:28.212093Z",
     "iopub.status.idle": "2021-07-07T00:21:44.516238Z",
     "shell.execute_reply": "2021-07-07T00:21:44.515725Z",
     "shell.execute_reply.started": "2021-07-06T23:27:50.107959Z"
    },
    "papermill": {
     "duration": 16.360095,
     "end_time": "2021-07-07T00:21:44.516370",
     "exception": false,
     "start_time": "2021-07-07T00:21:28.156275",
     "status": "completed"
    },
    "tags": []
   },
   "outputs": [
    {
     "name": "stdout",
     "output_type": "stream",
     "text": [
      "\r\n",
      "\r\n",
      "\r\n",
      "Suggested packages:\r\n",
      "  p7zip-full\r\n",
      "The following NEW packages will be installed:\r\n",
      "  p7zip\r\n",
      "0 upgraded, 1 newly installed, 0 to remove and 25 not upgraded.\r\n",
      "Need to get 358 kB of archives.\r\n",
      "After this operation, 996 kB of additional disk space will be used.\r\n",
      "Get:1 http://archive.ubuntu.com/ubuntu bionic/universe amd64 p7zip amd64 16.02+dfsg-6 [358 kB]\r\n",
      "Fetched 358 kB in 0s (1806 kB/s)\r\n",
      "debconf: delaying package configuration, since apt-utils is not installed\r\n",
      "Selecting previously unselected package p7zip.\r\n",
      "(Reading database ... 100572 files and directories currently installed.)\r\n",
      "Preparing to unpack .../p7zip_16.02+dfsg-6_amd64.deb ...\r\n",
      "Unpacking p7zip (16.02+dfsg-6) ...\r\n",
      "Setting up p7zip (16.02+dfsg-6) ...\r\n",
      "\r\n",
      "7-Zip (a) [64] 16.02 : Copyright (c) 1999-2016 Igor Pavlov : 2016-05-21\r\n",
      "p7zip Version 16.02 (locale=C.UTF-8,Utf16=on,HugeFiles=on,64 bits,2 CPUs Intel(R) Xeon(R) CPU @ 2.00GHz (50653),ASM,AES-NI)\r\n",
      "\r\n",
      "Scanning the drive for archives:\r\n",
      "  0M Scan /kaggle/input/mercari-price-suggestion-challenge/\b\b\b\b\b\b\b\b\b\b\b\b\b\b\b\b\b\b\b\b\b\b\b\b\b\b\b\b\b\b\b\b\b\b\b\b\b\b\b\b\b\b\b\b\b\b\b\b\b\b\b\b\b\b\b\b\b\b\b                                                           \b\b\b\b\b\b\b\b\b\b\b\b\b\b\b\b\b\b\b\b\b\b\b\b\b\b\b\b\b\b\b\b\b\b\b\b\b\b\b\b\b\b\b\b\b\b\b\b\b\b\b\b\b\b\b\b\b\b\b1 file, 77912192 bytes (75 MiB)\r\n",
      "\r\n",
      "Extracting archive: /kaggle/input/mercari-price-suggestion-challenge/train.tsv.7z\r\n",
      "--\r\n",
      "Path = /kaggle/input/mercari-price-suggestion-challenge/train.tsv.7z\r\n",
      "Type = 7z\r\n",
      "Physical Size = 77912192\r\n",
      "Headers Size = 122\r\n",
      "Method = LZMA2:24\r\n",
      "Solid = -\r\n",
      "Blocks = 1\r\n",
      "\r\n",
      "  0%\b\b\b\b    \b\b\b\b  2% - train.tsv\b\b\b\b\b\b\b\b\b\b\b\b\b\b\b\b                \b\b\b\b\b\b\b\b\b\b\b\b\b\b\b\b  6% - train.tsv\b\b\b\b\b\b\b\b\b\b\b\b\b\b\b\b                \b\b\b\b\b\b\b\b\b\b\b\b\b\b\b\b  8% - train.tsv\b\b\b\b\b\b\b\b\b\b\b\b\b\b\b\b                \b\b\b\b\b\b\b\b\b\b\b\b\b\b\b\b 11% - train.tsv\b\b\b\b\b\b\b\b\b\b\b\b\b\b\b\b                \b\b\b\b\b\b\b\b\b\b\b\b\b\b\b\b 13% - train.tsv\b\b\b\b\b\b\b\b\b\b\b\b\b\b\b\b                \b\b\b\b\b\b\b\b\b\b\b\b\b\b\b\b 16% - train.tsv\b\b\b\b\b\b\b\b\b\b\b\b\b\b\b\b                \b\b\b\b\b\b\b\b\b\b\b\b\b\b\b\b 18% - train.tsv\b\b\b\b\b\b\b\b\b\b\b\b\b\b\b\b                \b\b\b\b\b\b\b\b\b\b\b\b\b\b\b\b 22% - train.tsv\b\b\b\b\b\b\b\b\b\b\b\b\b\b\b\b                \b\b\b\b\b\b\b\b\b\b\b\b\b\b\b\b 26% - train.tsv\b\b\b\b\b\b\b\b\b\b\b\b\b\b\b\b                \b\b\b\b\b\b\b\b\b\b\b\b\b\b\b\b 28% - train.tsv\b\b\b\b\b\b\b\b\b\b\b\b\b\b\b\b                \b\b\b\b\b\b\b\b\b\b\b\b\b\b\b\b 32% - train.tsv\b\b\b\b\b\b\b\b\b\b\b\b\b\b\b\b                \b\b\b\b\b\b\b\b\b\b\b\b\b\b\b\b 36% - train.tsv\b\b\b\b\b\b\b\b\b\b\b\b\b\b\b\b                \b\b\b\b\b\b\b\b\b\b\b\b\b\b\b\b 39% - train.tsv\b\b\b\b\b\b\b\b\b\b\b\b\b\b\b\b                \b\b\b\b\b\b\b\b\b\b\b\b\b\b\b\b 42% - train.tsv\b\b\b\b\b\b\b\b\b\b\b\b\b\b\b\b                \b\b\b\b\b\b\b\b\b\b\b\b\b\b\b\b 45% - train.tsv\b\b\b\b\b\b\b\b\b\b\b\b\b\b\b\b                \b\b\b\b\b\b\b\b\b\b\b\b\b\b\b\b 48% - train.tsv\b\b\b\b\b\b\b\b\b\b\b\b\b\b\b\b                \b\b\b\b\b\b\b\b\b\b\b\b\b\b\b\b 52% - train.tsv\b\b\b\b\b\b\b\b\b\b\b\b\b\b\b\b                \b\b\b\b\b\b\b\b\b\b\b\b\b\b\b\b 55% - train.tsv\b\b\b\b\b\b\b\b\b\b\b\b\b\b\b\b                \b\b\b\b\b\b\b\b\b\b\b\b\b\b\b\b 59% - train.tsv\b\b\b\b\b\b\b\b\b\b\b\b\b\b\b\b                \b\b\b\b\b\b\b\b\b\b\b\b\b\b\b\b 62% - train.tsv\b\b\b\b\b\b\b\b\b\b\b\b\b\b\b\b                \b\b\b\b\b\b\b\b\b\b\b\b\b\b\b\b 65% - train.tsv\b\b\b\b\b\b\b\b\b\b\b\b\b\b\b\b                \b\b\b\b\b\b\b\b\b\b\b\b\b\b\b\b 69% - train.tsv\b\b\b\b\b\b\b\b\b\b\b\b\b\b\b\b                \b\b\b\b\b\b\b\b\b\b\b\b\b\b\b\b 73% - train.tsv\b\b\b\b\b\b\b\b\b\b\b\b\b\b\b\b                \b\b\b\b\b\b\b\b\b\b\b\b\b\b\b\b 76% - train.tsv\b\b\b\b\b\b\b\b\b\b\b\b\b\b\b\b                \b\b\b\b\b\b\b\b\b\b\b\b\b\b\b\b 80% - train.tsv\b\b\b\b\b\b\b\b\b\b\b\b\b\b\b\b                \b\b\b\b\b\b\b\b\b\b\b\b\b\b\b\b 83% - train.tsv\b\b\b\b\b\b\b\b\b\b\b\b\b\b\b\b                \b\b\b\b\b\b\b\b\b\b\b\b\b\b\b\b 86% - train.tsv\b\b\b\b\b\b\b\b\b\b\b\b\b\b\b\b                \b\b\b\b\b\b\b\b\b\b\b\b\b\b\b\b 90% - train.tsv\b\b\b\b\b\b\b\b\b\b\b\b\b\b\b\b                \b\b\b\b\b\b\b\b\b\b\b\b\b\b\b\b 93% - train.tsv\b\b\b\b\b\b\b\b\b\b\b\b\b\b\b\b                \b\b\b\b\b\b\b\b\b\b\b\b\b\b\b\b 96% - train.tsv\b\b\b\b\b\b\b\b\b\b\b\b\b\b\b\b                \b\b\b\b\b\b\b\b\b\b\b\b\b\b\b\b100% 1\b\b\b\b\b\b      \b\b\b\b\b\bEverything is Ok\r\n",
      "\r\n",
      "Size:       337809843\r\n",
      "Compressed: 77912192\r\n",
      "\r\n",
      "7-Zip (a) [64] 16.02 : Copyright (c) 1999-2016 Igor Pavlov : 2016-05-21\r\n",
      "p7zip Version 16.02 (locale=C.UTF-8,Utf16=on,HugeFiles=on,64 bits,2 CPUs Intel(R) Xeon(R) CPU @ 2.00GHz (50653),ASM,AES-NI)\r\n",
      "\r\n",
      "Scanning the drive for archives:\r\n",
      "  0M Scan /kaggle/input/mercari-price-suggestion-challenge/\b\b\b\b\b\b\b\b\b\b\b\b\b\b\b\b\b\b\b\b\b\b\b\b\b\b\b\b\b\b\b\b\b\b\b\b\b\b\b\b\b\b\b\b\b\b\b\b\b\b\b\b\b\b\b\b\b\b\b                                                           \b\b\b\b\b\b\b\b\b\b\b\b\b\b\b\b\b\b\b\b\b\b\b\b\b\b\b\b\b\b\b\b\b\b\b\b\b\b\b\b\b\b\b\b\b\b\b\b\b\b\b\b\b\b\b\b\b\b\b1 file, 35617013 bytes (34 MiB)\r\n",
      "\r\n",
      "Extracting archive: /kaggle/input/mercari-price-suggestion-challenge/test.tsv.7z\r\n",
      "--\r\n",
      "Path = /kaggle/input/mercari-price-suggestion-challenge/test.tsv.7z\r\n",
      "Type = 7z\r\n",
      "Physical Size = 35617013\r\n",
      "Headers Size = 122\r\n",
      "Method = LZMA2:24\r\n",
      "Solid = -\r\n",
      "Blocks = 1\r\n",
      "\r\n",
      "  0%\b\b\b\b    \b\b\b\b  5% - test.tsv\b\b\b\b\b\b\b\b\b\b\b\b\b\b\b               \b\b\b\b\b\b\b\b\b\b\b\b\b\b\b 13% - test.tsv\b\b\b\b\b\b\b\b\b\b\b\b\b\b\b               \b\b\b\b\b\b\b\b\b\b\b\b\b\b\b 21% - test.tsv\b\b\b\b\b\b\b\b\b\b\b\b\b\b\b               \b\b\b\b\b\b\b\b\b\b\b\b\b\b\b 29% - test.tsv\b\b\b\b\b\b\b\b\b\b\b\b\b\b\b               \b\b\b\b\b\b\b\b\b\b\b\b\b\b\b 35% - test.tsv\b\b\b\b\b\b\b\b\b\b\b\b\b\b\b               \b\b\b\b\b\b\b\b\b\b\b\b\b\b\b 43% - test.tsv\b\b\b\b\b\b\b\b\b\b\b\b\b\b\b               \b\b\b\b\b\b\b\b\b\b\b\b\b\b\b 48% - test.tsv\b\b\b\b\b\b\b\b\b\b\b\b\b\b\b               \b\b\b\b\b\b\b\b\b\b\b\b\b\b\b 54% - test.tsv\b\b\b\b\b\b\b\b\b\b\b\b\b\b\b               \b\b\b\b\b\b\b\b\b\b\b\b\b\b\b 59% - test.tsv\b\b\b\b\b\b\b\b\b\b\b\b\b\b\b               \b\b\b\b\b\b\b\b\b\b\b\b\b\b\b 67% - test.tsv\b\b\b\b\b\b\b\b\b\b\b\b\b\b\b               \b\b\b\b\b\b\b\b\b\b\b\b\b\b\b 76% - test.tsv\b\b\b\b\b\b\b\b\b\b\b\b\b\b\b               \b\b\b\b\b\b\b\b\b\b\b\b\b\b\b 82% - test.tsv\b\b\b\b\b\b\b\b\b\b\b\b\b\b\b               \b\b\b\b\b\b\b\b\b\b\b\b\b\b\b 89% - test.tsv\b\b\b\b\b\b\b\b\b\b\b\b\b\b\b               \b\b\b\b\b\b\b\b\b\b\b\b\b\b\b 97% - test.tsv\b\b\b\b\b\b\b\b\b\b\b\b\b\b\b               \b\b\b\b\b\b\b\b\b\b\b\b\b\b\bEverything is Ok\r\n",
      "\r\n",
      "Size:       154222160\r\n",
      "Compressed: 35617013\r\n",
      "\r\n",
      "7-Zip (a) [64] 16.02 : Copyright (c) 1999-2016 Igor Pavlov : 2016-05-21\r\n",
      "p7zip Version 16.02 (locale=C.UTF-8,Utf16=on,HugeFiles=on,64 bits,2 CPUs Intel(R) Xeon(R) CPU @ 2.00GHz (50653),ASM,AES-NI)\r\n",
      "\r\n",
      "Scanning the drive for archives:\r\n",
      "  0M Scan /kaggle/input/mercari-price-suggestion-challenge/\b\b\b\b\b\b\b\b\b\b\b\b\b\b\b\b\b\b\b\b\b\b\b\b\b\b\b\b\b\b\b\b\b\b\b\b\b\b\b\b\b\b\b\b\b\b\b\b\b\b\b\b\b\b\b\b\b\b\b                                                           \b\b\b\b\b\b\b\b\b\b\b\b\b\b\b\b\b\b\b\b\b\b\b\b\b\b\b\b\b\b\b\b\b\b\b\b\b\b\b\b\b\b\b\b\b\b\b\b\b\b\b\b\b\b\b\b\b\b\b1 file, 174228 bytes (171 KiB)\r\n",
      "\r\n",
      "Extracting archive: /kaggle/input/mercari-price-suggestion-challenge/sample_submission.csv.7z\r\n",
      "--\r\n",
      "Path = /kaggle/input/mercari-price-suggestion-challenge/sample_submission.csv.7z\r\n",
      "Type = 7z\r\n",
      "Physical Size = 174228\r\n",
      "Headers Size = 143\r\n",
      "Method = LZMA:12m\r\n",
      "Solid = -\r\n",
      "Blocks = 1\r\n",
      "\r\n",
      "  0%\b\b\b\b    \b\b\b\bEverything is Ok\r\n",
      "\r\n",
      "Size:       9595930\r\n",
      "Compressed: 174228\r\n"
     ]
    }
   ],
   "source": [
    "!apt-get install p7zip\n",
    "!p7zip -d -f -k /kaggle/input/mercari-price-suggestion-challenge/train.tsv.7z\n",
    "!p7zip -d -f -k /kaggle/input/mercari-price-suggestion-challenge/test.tsv.7z\n",
    "!p7zip -d -f -k /kaggle/input/mercari-price-suggestion-challenge/sample_submission.csv.7z"
   ]
  },
  {
   "cell_type": "code",
   "execution_count": 4,
   "id": "under-dividend",
   "metadata": {
    "_kg_hide-output": true,
    "execution": {
     "iopub.execute_input": "2021-07-07T00:21:44.644192Z",
     "iopub.status.busy": "2021-07-07T00:21:44.638861Z",
     "iopub.status.idle": "2021-07-07T00:21:54.203846Z",
     "shell.execute_reply": "2021-07-07T00:21:54.203313Z",
     "shell.execute_reply.started": "2021-07-06T23:28:08.183806Z"
    },
    "papermill": {
     "duration": 9.628741,
     "end_time": "2021-07-07T00:21:54.203980",
     "exception": false,
     "start_time": "2021-07-07T00:21:44.575239",
     "status": "completed"
    },
    "tags": []
   },
   "outputs": [
    {
     "name": "stdout",
     "output_type": "stream",
     "text": [
      "Archive:  /kaggle/input/mercari-price-suggestion-challenge/sample_submission_stg2.csv.zip\r\n",
      "  inflating: sample_submission_stg2.csv  \r\n",
      "Archive:  /kaggle/input/mercari-price-suggestion-challenge/test_stg2.tsv.zip\r\n",
      "  inflating: test_stg2.tsv           \r\n"
     ]
    }
   ],
   "source": [
    "!unzip /kaggle/input/mercari-price-suggestion-challenge/sample_submission_stg2.csv.zip\n",
    "!unzip /kaggle/input/mercari-price-suggestion-challenge/test_stg2.tsv.zip"
   ]
  },
  {
   "cell_type": "markdown",
   "id": "immediate-knock",
   "metadata": {
    "papermill": {
     "duration": 0.058244,
     "end_time": "2021-07-07T00:21:54.322876",
     "exception": false,
     "start_time": "2021-07-07T00:21:54.264632",
     "status": "completed"
    },
    "tags": []
   },
   "source": [
    "# Datasets"
   ]
  },
  {
   "cell_type": "code",
   "execution_count": 5,
   "id": "quality-liver",
   "metadata": {
    "execution": {
     "iopub.execute_input": "2021-07-07T00:21:54.445691Z",
     "iopub.status.busy": "2021-07-07T00:21:54.444867Z",
     "iopub.status.idle": "2021-07-07T00:21:59.478944Z",
     "shell.execute_reply": "2021-07-07T00:21:59.480023Z",
     "shell.execute_reply.started": "2021-07-06T23:28:19.821742Z"
    },
    "papermill": {
     "duration": 5.098797,
     "end_time": "2021-07-07T00:21:59.480248",
     "exception": false,
     "start_time": "2021-07-07T00:21:54.381451",
     "status": "completed"
    },
    "tags": []
   },
   "outputs": [
    {
     "name": "stdout",
     "output_type": "stream",
     "text": [
      "(1482535, 8)\n"
     ]
    },
    {
     "data": {
      "text/html": [
       "<div>\n",
       "<style scoped>\n",
       "    .dataframe tbody tr th:only-of-type {\n",
       "        vertical-align: middle;\n",
       "    }\n",
       "\n",
       "    .dataframe tbody tr th {\n",
       "        vertical-align: top;\n",
       "    }\n",
       "\n",
       "    .dataframe thead th {\n",
       "        text-align: right;\n",
       "    }\n",
       "</style>\n",
       "<table border=\"1\" class=\"dataframe\">\n",
       "  <thead>\n",
       "    <tr style=\"text-align: right;\">\n",
       "      <th></th>\n",
       "      <th>train_id</th>\n",
       "      <th>name</th>\n",
       "      <th>item_condition_id</th>\n",
       "      <th>category_name</th>\n",
       "      <th>brand_name</th>\n",
       "      <th>price</th>\n",
       "      <th>shipping</th>\n",
       "      <th>item_description</th>\n",
       "    </tr>\n",
       "  </thead>\n",
       "  <tbody>\n",
       "    <tr>\n",
       "      <th>0</th>\n",
       "      <td>0</td>\n",
       "      <td>MLB Cincinnati Reds T Shirt Size XL</td>\n",
       "      <td>3</td>\n",
       "      <td>Men/Tops/T-shirts</td>\n",
       "      <td>NaN</td>\n",
       "      <td>10.0</td>\n",
       "      <td>1</td>\n",
       "      <td>No description yet</td>\n",
       "    </tr>\n",
       "    <tr>\n",
       "      <th>1</th>\n",
       "      <td>1</td>\n",
       "      <td>Razer BlackWidow Chroma Keyboard</td>\n",
       "      <td>3</td>\n",
       "      <td>Electronics/Computers &amp; Tablets/Components &amp; P...</td>\n",
       "      <td>Razer</td>\n",
       "      <td>52.0</td>\n",
       "      <td>0</td>\n",
       "      <td>This keyboard is in great condition and works ...</td>\n",
       "    </tr>\n",
       "    <tr>\n",
       "      <th>2</th>\n",
       "      <td>2</td>\n",
       "      <td>AVA-VIV Blouse</td>\n",
       "      <td>1</td>\n",
       "      <td>Women/Tops &amp; Blouses/Blouse</td>\n",
       "      <td>Target</td>\n",
       "      <td>10.0</td>\n",
       "      <td>1</td>\n",
       "      <td>Adorable top with a hint of lace and a key hol...</td>\n",
       "    </tr>\n",
       "    <tr>\n",
       "      <th>3</th>\n",
       "      <td>3</td>\n",
       "      <td>Leather Horse Statues</td>\n",
       "      <td>1</td>\n",
       "      <td>Home/Home Décor/Home Décor Accents</td>\n",
       "      <td>NaN</td>\n",
       "      <td>35.0</td>\n",
       "      <td>1</td>\n",
       "      <td>New with tags. Leather horses. Retail for [rm]...</td>\n",
       "    </tr>\n",
       "    <tr>\n",
       "      <th>4</th>\n",
       "      <td>4</td>\n",
       "      <td>24K GOLD plated rose</td>\n",
       "      <td>1</td>\n",
       "      <td>Women/Jewelry/Necklaces</td>\n",
       "      <td>NaN</td>\n",
       "      <td>44.0</td>\n",
       "      <td>0</td>\n",
       "      <td>Complete with certificate of authenticity</td>\n",
       "    </tr>\n",
       "    <tr>\n",
       "      <th>5</th>\n",
       "      <td>5</td>\n",
       "      <td>Bundled items requested for Ruie</td>\n",
       "      <td>3</td>\n",
       "      <td>Women/Other/Other</td>\n",
       "      <td>NaN</td>\n",
       "      <td>59.0</td>\n",
       "      <td>0</td>\n",
       "      <td>Banana republic bottoms, Candies skirt with ma...</td>\n",
       "    </tr>\n",
       "    <tr>\n",
       "      <th>6</th>\n",
       "      <td>6</td>\n",
       "      <td>Acacia pacific tides santorini top</td>\n",
       "      <td>3</td>\n",
       "      <td>Women/Swimwear/Two-Piece</td>\n",
       "      <td>Acacia Swimwear</td>\n",
       "      <td>64.0</td>\n",
       "      <td>0</td>\n",
       "      <td>Size small but straps slightly shortened to fi...</td>\n",
       "    </tr>\n",
       "    <tr>\n",
       "      <th>7</th>\n",
       "      <td>7</td>\n",
       "      <td>Girls cheer and tumbling bundle of 7</td>\n",
       "      <td>3</td>\n",
       "      <td>Sports &amp; Outdoors/Apparel/Girls</td>\n",
       "      <td>Soffe</td>\n",
       "      <td>6.0</td>\n",
       "      <td>1</td>\n",
       "      <td>You get three pairs of Sophie cheer shorts siz...</td>\n",
       "    </tr>\n",
       "    <tr>\n",
       "      <th>8</th>\n",
       "      <td>8</td>\n",
       "      <td>Girls Nike Pro shorts</td>\n",
       "      <td>3</td>\n",
       "      <td>Sports &amp; Outdoors/Apparel/Girls</td>\n",
       "      <td>Nike</td>\n",
       "      <td>19.0</td>\n",
       "      <td>0</td>\n",
       "      <td>Girls Size small Plus green. Three shorts total.</td>\n",
       "    </tr>\n",
       "    <tr>\n",
       "      <th>9</th>\n",
       "      <td>9</td>\n",
       "      <td>Porcelain clown doll checker pants VTG</td>\n",
       "      <td>3</td>\n",
       "      <td>Vintage &amp; Collectibles/Collectibles/Doll</td>\n",
       "      <td>NaN</td>\n",
       "      <td>8.0</td>\n",
       "      <td>0</td>\n",
       "      <td>I realized his pants are on backwards after th...</td>\n",
       "    </tr>\n",
       "  </tbody>\n",
       "</table>\n",
       "</div>"
      ],
      "text/plain": [
       "   train_id                                    name  item_condition_id  \\\n",
       "0         0     MLB Cincinnati Reds T Shirt Size XL                  3   \n",
       "1         1        Razer BlackWidow Chroma Keyboard                  3   \n",
       "2         2                          AVA-VIV Blouse                  1   \n",
       "3         3                   Leather Horse Statues                  1   \n",
       "4         4                    24K GOLD plated rose                  1   \n",
       "5         5        Bundled items requested for Ruie                  3   \n",
       "6         6      Acacia pacific tides santorini top                  3   \n",
       "7         7    Girls cheer and tumbling bundle of 7                  3   \n",
       "8         8                   Girls Nike Pro shorts                  3   \n",
       "9         9  Porcelain clown doll checker pants VTG                  3   \n",
       "\n",
       "                                       category_name       brand_name  price  \\\n",
       "0                                  Men/Tops/T-shirts              NaN   10.0   \n",
       "1  Electronics/Computers & Tablets/Components & P...            Razer   52.0   \n",
       "2                        Women/Tops & Blouses/Blouse           Target   10.0   \n",
       "3                 Home/Home Décor/Home Décor Accents              NaN   35.0   \n",
       "4                            Women/Jewelry/Necklaces              NaN   44.0   \n",
       "5                                  Women/Other/Other              NaN   59.0   \n",
       "6                           Women/Swimwear/Two-Piece  Acacia Swimwear   64.0   \n",
       "7                    Sports & Outdoors/Apparel/Girls            Soffe    6.0   \n",
       "8                    Sports & Outdoors/Apparel/Girls             Nike   19.0   \n",
       "9           Vintage & Collectibles/Collectibles/Doll              NaN    8.0   \n",
       "\n",
       "   shipping                                   item_description  \n",
       "0         1                                 No description yet  \n",
       "1         0  This keyboard is in great condition and works ...  \n",
       "2         1  Adorable top with a hint of lace and a key hol...  \n",
       "3         1  New with tags. Leather horses. Retail for [rm]...  \n",
       "4         0          Complete with certificate of authenticity  \n",
       "5         0  Banana republic bottoms, Candies skirt with ma...  \n",
       "6         0  Size small but straps slightly shortened to fi...  \n",
       "7         1  You get three pairs of Sophie cheer shorts siz...  \n",
       "8         0   Girls Size small Plus green. Three shorts total.  \n",
       "9         0  I realized his pants are on backwards after th...  "
      ]
     },
     "execution_count": 5,
     "metadata": {},
     "output_type": "execute_result"
    }
   ],
   "source": [
    "train = pd.read_csv('train.tsv', sep='\\t')\n",
    "\n",
    "print(train.shape)\n",
    "train.head(10)"
   ]
  },
  {
   "cell_type": "code",
   "execution_count": 6,
   "id": "continuing-configuration",
   "metadata": {
    "_kg_hide-input": true,
    "execution": {
     "iopub.execute_input": "2021-07-07T00:21:59.720858Z",
     "iopub.status.busy": "2021-07-07T00:21:59.720178Z",
     "iopub.status.idle": "2021-07-07T00:21:59.725692Z",
     "shell.execute_reply": "2021-07-07T00:21:59.725244Z",
     "shell.execute_reply.started": "2021-07-06T23:28:24.793867Z"
    },
    "papermill": {
     "duration": 0.079563,
     "end_time": "2021-07-07T00:21:59.725818",
     "exception": false,
     "start_time": "2021-07-07T00:21:59.646255",
     "status": "completed"
    },
    "tags": []
   },
   "outputs": [
    {
     "data": {
      "text/html": [
       "<div>\n",
       "<style scoped>\n",
       "    .dataframe tbody tr th:only-of-type {\n",
       "        vertical-align: middle;\n",
       "    }\n",
       "\n",
       "    .dataframe tbody tr th {\n",
       "        vertical-align: top;\n",
       "    }\n",
       "\n",
       "    .dataframe thead th {\n",
       "        text-align: right;\n",
       "    }\n",
       "</style>\n",
       "<table border=\"1\" class=\"dataframe\">\n",
       "  <thead>\n",
       "    <tr style=\"text-align: right;\">\n",
       "      <th></th>\n",
       "      <th>カラム</th>\n",
       "      <th>意味</th>\n",
       "    </tr>\n",
       "  </thead>\n",
       "  <tbody>\n",
       "    <tr>\n",
       "      <th>0</th>\n",
       "      <td>train_id</td>\n",
       "      <td>商品ID</td>\n",
       "    </tr>\n",
       "    <tr>\n",
       "      <th>1</th>\n",
       "      <td>name</td>\n",
       "      <td>商品名</td>\n",
       "    </tr>\n",
       "    <tr>\n",
       "      <th>2</th>\n",
       "      <td>item_condition_id</td>\n",
       "      <td>商品の状態</td>\n",
       "    </tr>\n",
       "    <tr>\n",
       "      <th>3</th>\n",
       "      <td>category_name</td>\n",
       "      <td>カテゴリー名</td>\n",
       "    </tr>\n",
       "    <tr>\n",
       "      <th>4</th>\n",
       "      <td>brand_name</td>\n",
       "      <td>ブランド名</td>\n",
       "    </tr>\n",
       "    <tr>\n",
       "      <th>5</th>\n",
       "      <td>price</td>\n",
       "      <td>価格（単位：ドル）</td>\n",
       "    </tr>\n",
       "    <tr>\n",
       "      <th>6</th>\n",
       "      <td>shipping</td>\n",
       "      <td>送料が売手負担かどうか</td>\n",
       "    </tr>\n",
       "    <tr>\n",
       "      <th>7</th>\n",
       "      <td>item_description</td>\n",
       "      <td>商品説明</td>\n",
       "    </tr>\n",
       "  </tbody>\n",
       "</table>\n",
       "</div>"
      ],
      "text/plain": [
       "                 カラム           意味\n",
       "0           train_id         商品ID\n",
       "1               name          商品名\n",
       "2  item_condition_id        商品の状態\n",
       "3      category_name       カテゴリー名\n",
       "4         brand_name        ブランド名\n",
       "5              price    価格（単位：ドル）\n",
       "6           shipping  送料が売手負担かどうか\n",
       "7   item_description         商品説明"
      ]
     },
     "execution_count": 6,
     "metadata": {},
     "output_type": "execute_result"
    }
   ],
   "source": [
    "pd.DataFrame([['train_id', '商品ID'],\n",
    "              ['name', '商品名'],\n",
    "              ['item_condition_id', '商品の状態'],\n",
    "              ['category_name', 'カテゴリー名'],\n",
    "              ['brand_name', 'ブランド名'],\n",
    "              ['price', '価格（単位：ドル）'],\n",
    "              ['shipping', '送料が売手負担かどうか'],['item_description', '商品説明']],\n",
    "              columns=['カラム', '意味'])"
   ]
  },
  {
   "cell_type": "markdown",
   "id": "everyday-trout",
   "metadata": {
    "execution": {
     "iopub.execute_input": "2021-07-02T06:56:15.612722Z",
     "iopub.status.busy": "2021-07-02T06:56:15.612322Z",
     "iopub.status.idle": "2021-07-02T06:56:15.618286Z",
     "shell.execute_reply": "2021-07-02T06:56:15.617229Z",
     "shell.execute_reply.started": "2021-07-02T06:56:15.612688Z"
    },
    "papermill": {
     "duration": 0.060021,
     "end_time": "2021-07-07T00:21:59.845785",
     "exception": false,
     "start_time": "2021-07-07T00:21:59.785764",
     "status": "completed"
    },
    "tags": []
   },
   "source": [
    "testデータは、test.tsvとtest_stg2.tsvがある。<br>\n",
    "submitのときには、test_stg2を使用する。"
   ]
  },
  {
   "cell_type": "code",
   "execution_count": 7,
   "id": "substantial-solomon",
   "metadata": {
    "execution": {
     "iopub.execute_input": "2021-07-07T00:21:59.972934Z",
     "iopub.status.busy": "2021-07-07T00:21:59.972026Z",
     "iopub.status.idle": "2021-07-07T00:22:02.096574Z",
     "shell.execute_reply": "2021-07-07T00:22:02.097101Z",
     "shell.execute_reply.started": "2021-07-06T23:28:24.813841Z"
    },
    "papermill": {
     "duration": 2.191273,
     "end_time": "2021-07-07T00:22:02.097272",
     "exception": false,
     "start_time": "2021-07-07T00:21:59.905999",
     "status": "completed"
    },
    "tags": []
   },
   "outputs": [
    {
     "name": "stdout",
     "output_type": "stream",
     "text": [
      "(693359, 7)\n"
     ]
    },
    {
     "data": {
      "text/html": [
       "<div>\n",
       "<style scoped>\n",
       "    .dataframe tbody tr th:only-of-type {\n",
       "        vertical-align: middle;\n",
       "    }\n",
       "\n",
       "    .dataframe tbody tr th {\n",
       "        vertical-align: top;\n",
       "    }\n",
       "\n",
       "    .dataframe thead th {\n",
       "        text-align: right;\n",
       "    }\n",
       "</style>\n",
       "<table border=\"1\" class=\"dataframe\">\n",
       "  <thead>\n",
       "    <tr style=\"text-align: right;\">\n",
       "      <th></th>\n",
       "      <th>test_id</th>\n",
       "      <th>name</th>\n",
       "      <th>item_condition_id</th>\n",
       "      <th>category_name</th>\n",
       "      <th>brand_name</th>\n",
       "      <th>shipping</th>\n",
       "      <th>item_description</th>\n",
       "    </tr>\n",
       "  </thead>\n",
       "  <tbody>\n",
       "    <tr>\n",
       "      <th>0</th>\n",
       "      <td>0</td>\n",
       "      <td>Breast cancer \"I fight like a girl\" ring</td>\n",
       "      <td>1</td>\n",
       "      <td>Women/Jewelry/Rings</td>\n",
       "      <td>NaN</td>\n",
       "      <td>1</td>\n",
       "      <td>Size 7</td>\n",
       "    </tr>\n",
       "    <tr>\n",
       "      <th>1</th>\n",
       "      <td>1</td>\n",
       "      <td>25 pcs NEW 7.5\"x12\" Kraft Bubble Mailers</td>\n",
       "      <td>1</td>\n",
       "      <td>Other/Office supplies/Shipping Supplies</td>\n",
       "      <td>NaN</td>\n",
       "      <td>1</td>\n",
       "      <td>25 pcs NEW 7.5\"x12\" Kraft Bubble Mailers Lined...</td>\n",
       "    </tr>\n",
       "    <tr>\n",
       "      <th>2</th>\n",
       "      <td>2</td>\n",
       "      <td>Coach bag</td>\n",
       "      <td>1</td>\n",
       "      <td>Vintage &amp; Collectibles/Bags and Purses/Handbag</td>\n",
       "      <td>Coach</td>\n",
       "      <td>1</td>\n",
       "      <td>Brand new coach bag. Bought for [rm] at a Coac...</td>\n",
       "    </tr>\n",
       "    <tr>\n",
       "      <th>3</th>\n",
       "      <td>3</td>\n",
       "      <td>Floral Kimono</td>\n",
       "      <td>2</td>\n",
       "      <td>Women/Sweaters/Cardigan</td>\n",
       "      <td>NaN</td>\n",
       "      <td>0</td>\n",
       "      <td>-floral kimono -never worn -lightweight and pe...</td>\n",
       "    </tr>\n",
       "    <tr>\n",
       "      <th>4</th>\n",
       "      <td>4</td>\n",
       "      <td>Life after Death</td>\n",
       "      <td>3</td>\n",
       "      <td>Other/Books/Religion &amp; Spirituality</td>\n",
       "      <td>NaN</td>\n",
       "      <td>1</td>\n",
       "      <td>Rediscovering life after the loss of a loved o...</td>\n",
       "    </tr>\n",
       "    <tr>\n",
       "      <th>5</th>\n",
       "      <td>5</td>\n",
       "      <td>iPhone 6 Plus or 6s Plus Vodka pink case</td>\n",
       "      <td>1</td>\n",
       "      <td>Electronics/Cell Phones &amp; Accessories/Cases, C...</td>\n",
       "      <td>NaN</td>\n",
       "      <td>1</td>\n",
       "      <td>One Absolut Vodka in Pink for iPhone 6 Plus an...</td>\n",
       "    </tr>\n",
       "    <tr>\n",
       "      <th>6</th>\n",
       "      <td>6</td>\n",
       "      <td>Vintage Cameo Pendant &amp; Brooch Pin</td>\n",
       "      <td>3</td>\n",
       "      <td>Women/Jewelry/Necklaces</td>\n",
       "      <td>Vintage</td>\n",
       "      <td>1</td>\n",
       "      <td>Two vintage Cameo pieces. 1. Silver metal Lock...</td>\n",
       "    </tr>\n",
       "    <tr>\n",
       "      <th>7</th>\n",
       "      <td>7</td>\n",
       "      <td>Rose Gold Stainless Steel Quartz Watch</td>\n",
       "      <td>1</td>\n",
       "      <td>Women/Women's Accessories/Watches</td>\n",
       "      <td>NaN</td>\n",
       "      <td>1</td>\n",
       "      <td>Brand new Price firm No trades Box included wi...</td>\n",
       "    </tr>\n",
       "    <tr>\n",
       "      <th>8</th>\n",
       "      <td>8</td>\n",
       "      <td>Daisy Marc Jacobs 3.4oz</td>\n",
       "      <td>3</td>\n",
       "      <td>Beauty/Fragrance/Women</td>\n",
       "      <td>MARC JACOBS</td>\n",
       "      <td>0</td>\n",
       "      <td>Brand new No box 100% authentic Firm price NO ...</td>\n",
       "    </tr>\n",
       "    <tr>\n",
       "      <th>9</th>\n",
       "      <td>9</td>\n",
       "      <td>Rose Brushes and Silicone Sponge</td>\n",
       "      <td>1</td>\n",
       "      <td>Beauty/Tools &amp; Accessories/Makeup Brushes &amp; Tools</td>\n",
       "      <td>NaN</td>\n",
       "      <td>1</td>\n",
       "      <td>All new. 12 pcs makeup brushes and one Silicon...</td>\n",
       "    </tr>\n",
       "  </tbody>\n",
       "</table>\n",
       "</div>"
      ],
      "text/plain": [
       "   test_id                                      name  item_condition_id  \\\n",
       "0        0  Breast cancer \"I fight like a girl\" ring                  1   \n",
       "1        1  25 pcs NEW 7.5\"x12\" Kraft Bubble Mailers                  1   \n",
       "2        2                                 Coach bag                  1   \n",
       "3        3                             Floral Kimono                  2   \n",
       "4        4                          Life after Death                  3   \n",
       "5        5  iPhone 6 Plus or 6s Plus Vodka pink case                  1   \n",
       "6        6        Vintage Cameo Pendant & Brooch Pin                  3   \n",
       "7        7    Rose Gold Stainless Steel Quartz Watch                  1   \n",
       "8        8                   Daisy Marc Jacobs 3.4oz                  3   \n",
       "9        9          Rose Brushes and Silicone Sponge                  1   \n",
       "\n",
       "                                       category_name   brand_name  shipping  \\\n",
       "0                                Women/Jewelry/Rings          NaN         1   \n",
       "1            Other/Office supplies/Shipping Supplies          NaN         1   \n",
       "2     Vintage & Collectibles/Bags and Purses/Handbag        Coach         1   \n",
       "3                            Women/Sweaters/Cardigan          NaN         0   \n",
       "4                Other/Books/Religion & Spirituality          NaN         1   \n",
       "5  Electronics/Cell Phones & Accessories/Cases, C...          NaN         1   \n",
       "6                            Women/Jewelry/Necklaces      Vintage         1   \n",
       "7                  Women/Women's Accessories/Watches          NaN         1   \n",
       "8                             Beauty/Fragrance/Women  MARC JACOBS         0   \n",
       "9  Beauty/Tools & Accessories/Makeup Brushes & Tools          NaN         1   \n",
       "\n",
       "                                    item_description  \n",
       "0                                             Size 7  \n",
       "1  25 pcs NEW 7.5\"x12\" Kraft Bubble Mailers Lined...  \n",
       "2  Brand new coach bag. Bought for [rm] at a Coac...  \n",
       "3  -floral kimono -never worn -lightweight and pe...  \n",
       "4  Rediscovering life after the loss of a loved o...  \n",
       "5  One Absolut Vodka in Pink for iPhone 6 Plus an...  \n",
       "6  Two vintage Cameo pieces. 1. Silver metal Lock...  \n",
       "7  Brand new Price firm No trades Box included wi...  \n",
       "8  Brand new No box 100% authentic Firm price NO ...  \n",
       "9  All new. 12 pcs makeup brushes and one Silicon...  "
      ]
     },
     "execution_count": 7,
     "metadata": {},
     "output_type": "execute_result"
    }
   ],
   "source": [
    "test_dummy = pd.read_csv('test.tsv', sep='\\t')\n",
    "\n",
    "print(test_dummy.shape)\n",
    "test_dummy.head(10)"
   ]
  },
  {
   "cell_type": "code",
   "execution_count": 8,
   "id": "immediate-mentor",
   "metadata": {
    "_kg_hide-input": true,
    "execution": {
     "iopub.execute_input": "2021-07-07T00:22:02.230033Z",
     "iopub.status.busy": "2021-07-07T00:22:02.229084Z",
     "iopub.status.idle": "2021-07-07T00:22:02.232992Z",
     "shell.execute_reply": "2021-07-07T00:22:02.232580Z",
     "shell.execute_reply.started": "2021-07-06T23:28:27.049741Z"
    },
    "papermill": {
     "duration": 0.074555,
     "end_time": "2021-07-07T00:22:02.233108",
     "exception": false,
     "start_time": "2021-07-07T00:22:02.158553",
     "status": "completed"
    },
    "tags": []
   },
   "outputs": [
    {
     "data": {
      "text/html": [
       "<div>\n",
       "<style scoped>\n",
       "    .dataframe tbody tr th:only-of-type {\n",
       "        vertical-align: middle;\n",
       "    }\n",
       "\n",
       "    .dataframe tbody tr th {\n",
       "        vertical-align: top;\n",
       "    }\n",
       "\n",
       "    .dataframe thead th {\n",
       "        text-align: right;\n",
       "    }\n",
       "</style>\n",
       "<table border=\"1\" class=\"dataframe\">\n",
       "  <thead>\n",
       "    <tr style=\"text-align: right;\">\n",
       "      <th></th>\n",
       "      <th>カラム</th>\n",
       "      <th>意味</th>\n",
       "    </tr>\n",
       "  </thead>\n",
       "  <tbody>\n",
       "    <tr>\n",
       "      <th>0</th>\n",
       "      <td>test_id</td>\n",
       "      <td>商品ID</td>\n",
       "    </tr>\n",
       "    <tr>\n",
       "      <th>1</th>\n",
       "      <td>name</td>\n",
       "      <td>商品名</td>\n",
       "    </tr>\n",
       "    <tr>\n",
       "      <th>2</th>\n",
       "      <td>item_condition_id</td>\n",
       "      <td>商品の状態</td>\n",
       "    </tr>\n",
       "    <tr>\n",
       "      <th>3</th>\n",
       "      <td>category_name</td>\n",
       "      <td>カテゴリー名</td>\n",
       "    </tr>\n",
       "    <tr>\n",
       "      <th>4</th>\n",
       "      <td>brand_name</td>\n",
       "      <td>ブランド名</td>\n",
       "    </tr>\n",
       "    <tr>\n",
       "      <th>5</th>\n",
       "      <td>shipping</td>\n",
       "      <td>送料が売手負担かどうか</td>\n",
       "    </tr>\n",
       "    <tr>\n",
       "      <th>6</th>\n",
       "      <td>item_description</td>\n",
       "      <td>商品説明</td>\n",
       "    </tr>\n",
       "  </tbody>\n",
       "</table>\n",
       "</div>"
      ],
      "text/plain": [
       "                 カラム           意味\n",
       "0            test_id         商品ID\n",
       "1               name          商品名\n",
       "2  item_condition_id        商品の状態\n",
       "3      category_name       カテゴリー名\n",
       "4         brand_name        ブランド名\n",
       "5           shipping  送料が売手負担かどうか\n",
       "6   item_description         商品説明"
      ]
     },
     "execution_count": 8,
     "metadata": {},
     "output_type": "execute_result"
    }
   ],
   "source": [
    "pd.DataFrame([['test_id', '商品ID'],\n",
    "              ['name', '商品名'],\n",
    "              ['item_condition_id', '商品の状態'],\n",
    "              ['category_name', 'カテゴリー名'],\n",
    "              ['brand_name', 'ブランド名'],\n",
    "              ['shipping', '送料が売手負担かどうか'],['item_description', '商品説明']],\n",
    "              columns=['カラム', '意味'])"
   ]
  },
  {
   "cell_type": "code",
   "execution_count": 9,
   "id": "handled-manner",
   "metadata": {
    "execution": {
     "iopub.execute_input": "2021-07-07T00:22:02.361678Z",
     "iopub.status.busy": "2021-07-07T00:22:02.360927Z",
     "iopub.status.idle": "2021-07-07T00:22:13.209269Z",
     "shell.execute_reply": "2021-07-07T00:22:13.208854Z",
     "shell.execute_reply.started": "2021-07-06T23:28:27.062665Z"
    },
    "papermill": {
     "duration": 10.914393,
     "end_time": "2021-07-07T00:22:13.209391",
     "exception": false,
     "start_time": "2021-07-07T00:22:02.294998",
     "status": "completed"
    },
    "tags": []
   },
   "outputs": [
    {
     "name": "stdout",
     "output_type": "stream",
     "text": [
      "(3460725, 7)\n"
     ]
    },
    {
     "data": {
      "text/html": [
       "<div>\n",
       "<style scoped>\n",
       "    .dataframe tbody tr th:only-of-type {\n",
       "        vertical-align: middle;\n",
       "    }\n",
       "\n",
       "    .dataframe tbody tr th {\n",
       "        vertical-align: top;\n",
       "    }\n",
       "\n",
       "    .dataframe thead th {\n",
       "        text-align: right;\n",
       "    }\n",
       "</style>\n",
       "<table border=\"1\" class=\"dataframe\">\n",
       "  <thead>\n",
       "    <tr style=\"text-align: right;\">\n",
       "      <th></th>\n",
       "      <th>test_id</th>\n",
       "      <th>name</th>\n",
       "      <th>item_condition_id</th>\n",
       "      <th>category_name</th>\n",
       "      <th>brand_name</th>\n",
       "      <th>shipping</th>\n",
       "      <th>item_description</th>\n",
       "    </tr>\n",
       "  </thead>\n",
       "  <tbody>\n",
       "    <tr>\n",
       "      <th>0</th>\n",
       "      <td>0</td>\n",
       "      <td>Breast cancer \"I fight like a girl\" ring</td>\n",
       "      <td>1</td>\n",
       "      <td>Women/Jewelry/Rings</td>\n",
       "      <td>NaN</td>\n",
       "      <td>1</td>\n",
       "      <td>Size 7</td>\n",
       "    </tr>\n",
       "    <tr>\n",
       "      <th>1</th>\n",
       "      <td>1</td>\n",
       "      <td>25 pcs NEW 7.5\"x12\" Kraft Bubble Mailers</td>\n",
       "      <td>1</td>\n",
       "      <td>Other/Office supplies/Shipping Supplies</td>\n",
       "      <td>NaN</td>\n",
       "      <td>1</td>\n",
       "      <td>25 pcs NEW 7.5\"x12\" Kraft Bubble Mailers Lined...</td>\n",
       "    </tr>\n",
       "    <tr>\n",
       "      <th>2</th>\n",
       "      <td>2</td>\n",
       "      <td>Coach bag</td>\n",
       "      <td>1</td>\n",
       "      <td>Vintage &amp; Collectibles/Bags and Purses/Handbag</td>\n",
       "      <td>Coach</td>\n",
       "      <td>1</td>\n",
       "      <td>Brand new coach bag. Bought for [rm] at a Coac...</td>\n",
       "    </tr>\n",
       "    <tr>\n",
       "      <th>3</th>\n",
       "      <td>3</td>\n",
       "      <td>Floral Kimono</td>\n",
       "      <td>2</td>\n",
       "      <td>Women/Sweaters/Cardigan</td>\n",
       "      <td>NaN</td>\n",
       "      <td>0</td>\n",
       "      <td>-floral kimono -never worn -lightweight and pe...</td>\n",
       "    </tr>\n",
       "    <tr>\n",
       "      <th>4</th>\n",
       "      <td>4</td>\n",
       "      <td>Life after Death</td>\n",
       "      <td>3</td>\n",
       "      <td>Other/Books/Religion &amp; Spirituality</td>\n",
       "      <td>NaN</td>\n",
       "      <td>1</td>\n",
       "      <td>Rediscovering life after the loss of a loved o...</td>\n",
       "    </tr>\n",
       "    <tr>\n",
       "      <th>5</th>\n",
       "      <td>5</td>\n",
       "      <td>iPhone 6 Plus or 6s Plus Vodka pink case</td>\n",
       "      <td>1</td>\n",
       "      <td>Electronics/Cell Phones &amp; Accessories/Cases, C...</td>\n",
       "      <td>NaN</td>\n",
       "      <td>1</td>\n",
       "      <td>One Absolut Vodka in Pink for iPhone 6 Plus an...</td>\n",
       "    </tr>\n",
       "    <tr>\n",
       "      <th>6</th>\n",
       "      <td>6</td>\n",
       "      <td>Vintage Cameo Pendant &amp; Brooch Pin</td>\n",
       "      <td>3</td>\n",
       "      <td>Women/Jewelry/Necklaces</td>\n",
       "      <td>Vintage</td>\n",
       "      <td>1</td>\n",
       "      <td>Two vintage Cameo pieces. 1. Silver metal Lock...</td>\n",
       "    </tr>\n",
       "    <tr>\n",
       "      <th>7</th>\n",
       "      <td>7</td>\n",
       "      <td>Rose Gold Stainless Steel Quartz Watch</td>\n",
       "      <td>1</td>\n",
       "      <td>Women/Women's Accessories/Watches</td>\n",
       "      <td>NaN</td>\n",
       "      <td>1</td>\n",
       "      <td>Brand new Price firm No trades Box included wi...</td>\n",
       "    </tr>\n",
       "    <tr>\n",
       "      <th>8</th>\n",
       "      <td>8</td>\n",
       "      <td>Daisy Marc Jacobs 3.4oz</td>\n",
       "      <td>3</td>\n",
       "      <td>Beauty/Fragrance/Women</td>\n",
       "      <td>MARC JACOBS</td>\n",
       "      <td>0</td>\n",
       "      <td>Brand new No box 100% authentic Firm price NO ...</td>\n",
       "    </tr>\n",
       "    <tr>\n",
       "      <th>9</th>\n",
       "      <td>9</td>\n",
       "      <td>Rose Brushes and Silicone Sponge</td>\n",
       "      <td>1</td>\n",
       "      <td>Beauty/Tools &amp; Accessories/Makeup Brushes &amp; Tools</td>\n",
       "      <td>NaN</td>\n",
       "      <td>1</td>\n",
       "      <td>All new. 12 pcs makeup brushes and one Silicon...</td>\n",
       "    </tr>\n",
       "  </tbody>\n",
       "</table>\n",
       "</div>"
      ],
      "text/plain": [
       "   test_id                                      name  item_condition_id  \\\n",
       "0        0  Breast cancer \"I fight like a girl\" ring                  1   \n",
       "1        1  25 pcs NEW 7.5\"x12\" Kraft Bubble Mailers                  1   \n",
       "2        2                                 Coach bag                  1   \n",
       "3        3                             Floral Kimono                  2   \n",
       "4        4                          Life after Death                  3   \n",
       "5        5  iPhone 6 Plus or 6s Plus Vodka pink case                  1   \n",
       "6        6        Vintage Cameo Pendant & Brooch Pin                  3   \n",
       "7        7    Rose Gold Stainless Steel Quartz Watch                  1   \n",
       "8        8                   Daisy Marc Jacobs 3.4oz                  3   \n",
       "9        9          Rose Brushes and Silicone Sponge                  1   \n",
       "\n",
       "                                       category_name   brand_name  shipping  \\\n",
       "0                                Women/Jewelry/Rings          NaN         1   \n",
       "1            Other/Office supplies/Shipping Supplies          NaN         1   \n",
       "2     Vintage & Collectibles/Bags and Purses/Handbag        Coach         1   \n",
       "3                            Women/Sweaters/Cardigan          NaN         0   \n",
       "4                Other/Books/Religion & Spirituality          NaN         1   \n",
       "5  Electronics/Cell Phones & Accessories/Cases, C...          NaN         1   \n",
       "6                            Women/Jewelry/Necklaces      Vintage         1   \n",
       "7                  Women/Women's Accessories/Watches          NaN         1   \n",
       "8                             Beauty/Fragrance/Women  MARC JACOBS         0   \n",
       "9  Beauty/Tools & Accessories/Makeup Brushes & Tools          NaN         1   \n",
       "\n",
       "                                    item_description  \n",
       "0                                             Size 7  \n",
       "1  25 pcs NEW 7.5\"x12\" Kraft Bubble Mailers Lined...  \n",
       "2  Brand new coach bag. Bought for [rm] at a Coac...  \n",
       "3  -floral kimono -never worn -lightweight and pe...  \n",
       "4  Rediscovering life after the loss of a loved o...  \n",
       "5  One Absolut Vodka in Pink for iPhone 6 Plus an...  \n",
       "6  Two vintage Cameo pieces. 1. Silver metal Lock...  \n",
       "7  Brand new Price firm No trades Box included wi...  \n",
       "8  Brand new No box 100% authentic Firm price NO ...  \n",
       "9  All new. 12 pcs makeup brushes and one Silicon...  "
      ]
     },
     "execution_count": 9,
     "metadata": {},
     "output_type": "execute_result"
    }
   ],
   "source": [
    "test = pd.read_csv('test_stg2.tsv', sep='\\t')\n",
    "\n",
    "print(test.shape)\n",
    "test.head(10)"
   ]
  },
  {
   "cell_type": "code",
   "execution_count": 10,
   "id": "hearing-matter",
   "metadata": {
    "_kg_hide-input": true,
    "execution": {
     "iopub.execute_input": "2021-07-07T00:22:13.343066Z",
     "iopub.status.busy": "2021-07-07T00:22:13.342172Z",
     "iopub.status.idle": "2021-07-07T00:22:13.346215Z",
     "shell.execute_reply": "2021-07-07T00:22:13.345817Z",
     "shell.execute_reply.started": "2021-07-06T23:28:38.518024Z"
    },
    "papermill": {
     "duration": 0.074454,
     "end_time": "2021-07-07T00:22:13.346337",
     "exception": false,
     "start_time": "2021-07-07T00:22:13.271883",
     "status": "completed"
    },
    "tags": []
   },
   "outputs": [
    {
     "data": {
      "text/html": [
       "<div>\n",
       "<style scoped>\n",
       "    .dataframe tbody tr th:only-of-type {\n",
       "        vertical-align: middle;\n",
       "    }\n",
       "\n",
       "    .dataframe tbody tr th {\n",
       "        vertical-align: top;\n",
       "    }\n",
       "\n",
       "    .dataframe thead th {\n",
       "        text-align: right;\n",
       "    }\n",
       "</style>\n",
       "<table border=\"1\" class=\"dataframe\">\n",
       "  <thead>\n",
       "    <tr style=\"text-align: right;\">\n",
       "      <th></th>\n",
       "      <th>カラム</th>\n",
       "      <th>意味</th>\n",
       "    </tr>\n",
       "  </thead>\n",
       "  <tbody>\n",
       "    <tr>\n",
       "      <th>0</th>\n",
       "      <td>test_id</td>\n",
       "      <td>商品ID</td>\n",
       "    </tr>\n",
       "    <tr>\n",
       "      <th>1</th>\n",
       "      <td>name</td>\n",
       "      <td>商品名</td>\n",
       "    </tr>\n",
       "    <tr>\n",
       "      <th>2</th>\n",
       "      <td>item_condition_id</td>\n",
       "      <td>商品の状態</td>\n",
       "    </tr>\n",
       "    <tr>\n",
       "      <th>3</th>\n",
       "      <td>category_name</td>\n",
       "      <td>カテゴリー名</td>\n",
       "    </tr>\n",
       "    <tr>\n",
       "      <th>4</th>\n",
       "      <td>brand_name</td>\n",
       "      <td>ブランド名</td>\n",
       "    </tr>\n",
       "    <tr>\n",
       "      <th>5</th>\n",
       "      <td>shipping</td>\n",
       "      <td>送料が売手負担かどうか</td>\n",
       "    </tr>\n",
       "    <tr>\n",
       "      <th>6</th>\n",
       "      <td>item_description</td>\n",
       "      <td>商品説明</td>\n",
       "    </tr>\n",
       "  </tbody>\n",
       "</table>\n",
       "</div>"
      ],
      "text/plain": [
       "                 カラム           意味\n",
       "0            test_id         商品ID\n",
       "1               name          商品名\n",
       "2  item_condition_id        商品の状態\n",
       "3      category_name       カテゴリー名\n",
       "4         brand_name        ブランド名\n",
       "5           shipping  送料が売手負担かどうか\n",
       "6   item_description         商品説明"
      ]
     },
     "execution_count": 10,
     "metadata": {},
     "output_type": "execute_result"
    }
   ],
   "source": [
    "pd.DataFrame([['test_id', '商品ID'],\n",
    "              ['name', '商品名'],\n",
    "              ['item_condition_id', '商品の状態'],\n",
    "              ['category_name', 'カテゴリー名'],\n",
    "              ['brand_name', 'ブランド名'],\n",
    "              ['shipping', '送料が売手負担かどうか'],['item_description', '商品説明']],\n",
    "              columns=['カラム', '意味'])"
   ]
  },
  {
   "cell_type": "code",
   "execution_count": 11,
   "id": "fluid-playing",
   "metadata": {
    "execution": {
     "iopub.execute_input": "2021-07-07T00:22:13.583548Z",
     "iopub.status.busy": "2021-07-07T00:22:13.582286Z",
     "iopub.status.idle": "2021-07-07T00:22:13.585797Z",
     "shell.execute_reply": "2021-07-07T00:22:13.586191Z",
     "shell.execute_reply.started": "2021-07-06T23:28:38.540601Z"
    },
    "papermill": {
     "duration": 0.178273,
     "end_time": "2021-07-07T00:22:13.586341",
     "exception": false,
     "start_time": "2021-07-07T00:22:13.408068",
     "status": "completed"
    },
    "tags": []
   },
   "outputs": [
    {
     "data": {
      "text/plain": [
       "120"
      ]
     },
     "execution_count": 11,
     "metadata": {},
     "output_type": "execute_result"
    }
   ],
   "source": [
    "del test_dummy\n",
    "gc.collect()"
   ]
  },
  {
   "cell_type": "markdown",
   "id": "upper-designation",
   "metadata": {
    "papermill": {
     "duration": 0.062002,
     "end_time": "2021-07-07T00:22:13.710478",
     "exception": false,
     "start_time": "2021-07-07T00:22:13.648476",
     "status": "completed"
    },
    "tags": []
   },
   "source": [
    "# Analytics"
   ]
  },
  {
   "cell_type": "code",
   "execution_count": 12,
   "id": "parallel-priest",
   "metadata": {
    "execution": {
     "iopub.execute_input": "2021-07-07T00:22:13.840117Z",
     "iopub.status.busy": "2021-07-07T00:22:13.839067Z",
     "iopub.status.idle": "2021-07-07T00:22:14.365208Z",
     "shell.execute_reply": "2021-07-07T00:22:14.364790Z",
     "shell.execute_reply.started": "2021-07-06T23:28:38.706387Z"
    },
    "papermill": {
     "duration": 0.592785,
     "end_time": "2021-07-07T00:22:14.365341",
     "exception": false,
     "start_time": "2021-07-07T00:22:13.772556",
     "status": "completed"
    },
    "tags": []
   },
   "outputs": [
    {
     "name": "stdout",
     "output_type": "stream",
     "text": [
      "<class 'pandas.core.frame.DataFrame'>\n",
      "RangeIndex: 1482535 entries, 0 to 1482534\n",
      "Data columns (total 8 columns):\n",
      " #   Column             Non-Null Count    Dtype  \n",
      "---  ------             --------------    -----  \n",
      " 0   train_id           1482535 non-null  int64  \n",
      " 1   name               1482535 non-null  object \n",
      " 2   item_condition_id  1482535 non-null  int64  \n",
      " 3   category_name      1476208 non-null  object \n",
      " 4   brand_name         849853 non-null   object \n",
      " 5   price              1482535 non-null  float64\n",
      " 6   shipping           1482535 non-null  int64  \n",
      " 7   item_description   1482531 non-null  object \n",
      "dtypes: float64(1), int64(3), object(4)\n",
      "memory usage: 90.5+ MB\n"
     ]
    }
   ],
   "source": [
    "train.info()"
   ]
  },
  {
   "cell_type": "code",
   "execution_count": 13,
   "id": "everyday-serbia",
   "metadata": {
    "execution": {
     "iopub.execute_input": "2021-07-07T00:22:14.494558Z",
     "iopub.status.busy": "2021-07-07T00:22:14.494036Z",
     "iopub.status.idle": "2021-07-07T00:22:16.213323Z",
     "shell.execute_reply": "2021-07-07T00:22:16.212892Z",
     "shell.execute_reply.started": "2021-07-06T23:28:39.322969Z"
    },
    "papermill": {
     "duration": 1.785033,
     "end_time": "2021-07-07T00:22:16.213444",
     "exception": false,
     "start_time": "2021-07-07T00:22:14.428411",
     "status": "completed"
    },
    "tags": []
   },
   "outputs": [
    {
     "data": {
      "text/plain": [
       "train_id             1482535\n",
       "name                 1225273\n",
       "item_condition_id          5\n",
       "category_name           1287\n",
       "brand_name              4809\n",
       "price                    828\n",
       "shipping                   2\n",
       "item_description     1281426\n",
       "dtype: int64"
      ]
     },
     "execution_count": 13,
     "metadata": {},
     "output_type": "execute_result"
    }
   ],
   "source": [
    "train.nunique()"
   ]
  },
  {
   "cell_type": "code",
   "execution_count": 14,
   "id": "regular-relation",
   "metadata": {
    "execution": {
     "iopub.execute_input": "2021-07-07T00:22:16.343881Z",
     "iopub.status.busy": "2021-07-07T00:22:16.342857Z",
     "iopub.status.idle": "2021-07-07T00:22:16.854898Z",
     "shell.execute_reply": "2021-07-07T00:22:16.855310Z",
     "shell.execute_reply.started": "2021-07-06T23:28:40.922473Z"
    },
    "papermill": {
     "duration": 0.578678,
     "end_time": "2021-07-07T00:22:16.855456",
     "exception": false,
     "start_time": "2021-07-07T00:22:16.276778",
     "status": "completed"
    },
    "tags": []
   },
   "outputs": [
    {
     "data": {
      "text/plain": [
       "train_id                  0\n",
       "name                      0\n",
       "item_condition_id         0\n",
       "category_name          6327\n",
       "brand_name           632682\n",
       "price                     0\n",
       "shipping                  0\n",
       "item_description          4\n",
       "dtype: int64"
      ]
     },
     "execution_count": 14,
     "metadata": {},
     "output_type": "execute_result"
    }
   ],
   "source": [
    "train.isnull().sum()"
   ]
  },
  {
   "cell_type": "code",
   "execution_count": 15,
   "id": "private-heart",
   "metadata": {
    "execution": {
     "iopub.execute_input": "2021-07-07T00:22:16.987926Z",
     "iopub.status.busy": "2021-07-07T00:22:16.986719Z",
     "iopub.status.idle": "2021-07-07T00:22:17.073695Z",
     "shell.execute_reply": "2021-07-07T00:22:17.074100Z",
     "shell.execute_reply.started": "2021-07-06T23:28:41.454922Z"
    },
    "papermill": {
     "duration": 0.15547,
     "end_time": "2021-07-07T00:22:17.074257",
     "exception": false,
     "start_time": "2021-07-07T00:22:16.918787",
     "status": "completed"
    },
    "tags": []
   },
   "outputs": [
    {
     "data": {
      "text/html": [
       "<div>\n",
       "<style scoped>\n",
       "    .dataframe tbody tr th:only-of-type {\n",
       "        vertical-align: middle;\n",
       "    }\n",
       "\n",
       "    .dataframe tbody tr th {\n",
       "        vertical-align: top;\n",
       "    }\n",
       "\n",
       "    .dataframe thead th {\n",
       "        text-align: right;\n",
       "    }\n",
       "</style>\n",
       "<table border=\"1\" class=\"dataframe\">\n",
       "  <thead>\n",
       "    <tr style=\"text-align: right;\">\n",
       "      <th></th>\n",
       "      <th>train_id</th>\n",
       "      <th>item_condition_id</th>\n",
       "      <th>price</th>\n",
       "      <th>shipping</th>\n",
       "    </tr>\n",
       "  </thead>\n",
       "  <tbody>\n",
       "    <tr>\n",
       "      <th>train_id</th>\n",
       "      <td>1.000000</td>\n",
       "      <td>-0.000113</td>\n",
       "      <td>0.000478</td>\n",
       "      <td>0.000472</td>\n",
       "    </tr>\n",
       "    <tr>\n",
       "      <th>item_condition_id</th>\n",
       "      <td>-0.000113</td>\n",
       "      <td>1.000000</td>\n",
       "      <td>-0.000807</td>\n",
       "      <td>-0.191154</td>\n",
       "    </tr>\n",
       "    <tr>\n",
       "      <th>price</th>\n",
       "      <td>0.000478</td>\n",
       "      <td>-0.000807</td>\n",
       "      <td>1.000000</td>\n",
       "      <td>-0.097211</td>\n",
       "    </tr>\n",
       "    <tr>\n",
       "      <th>shipping</th>\n",
       "      <td>0.000472</td>\n",
       "      <td>-0.191154</td>\n",
       "      <td>-0.097211</td>\n",
       "      <td>1.000000</td>\n",
       "    </tr>\n",
       "  </tbody>\n",
       "</table>\n",
       "</div>"
      ],
      "text/plain": [
       "                   train_id  item_condition_id     price  shipping\n",
       "train_id           1.000000          -0.000113  0.000478  0.000472\n",
       "item_condition_id -0.000113           1.000000 -0.000807 -0.191154\n",
       "price              0.000478          -0.000807  1.000000 -0.097211\n",
       "shipping           0.000472          -0.191154 -0.097211  1.000000"
      ]
     },
     "execution_count": 15,
     "metadata": {},
     "output_type": "execute_result"
    }
   ],
   "source": [
    "train.corr()"
   ]
  },
  {
   "cell_type": "code",
   "execution_count": 16,
   "id": "heated-messaging",
   "metadata": {
    "execution": {
     "iopub.execute_input": "2021-07-07T00:22:17.207005Z",
     "iopub.status.busy": "2021-07-07T00:22:17.205905Z",
     "iopub.status.idle": "2021-07-07T00:22:17.550382Z",
     "shell.execute_reply": "2021-07-07T00:22:17.549939Z",
     "shell.execute_reply.started": "2021-07-06T23:28:41.550749Z"
    },
    "papermill": {
     "duration": 0.412725,
     "end_time": "2021-07-07T00:22:17.550530",
     "exception": false,
     "start_time": "2021-07-07T00:22:17.137805",
     "status": "completed"
    },
    "tags": []
   },
   "outputs": [
    {
     "data": {
      "text/plain": [
       "<AxesSubplot:>"
      ]
     },
     "execution_count": 16,
     "metadata": {},
     "output_type": "execute_result"
    },
    {
     "data": {
      "image/png": "[encoded data removed]",
      "text/plain": [
       "<Figure size 432x288 with 2 Axes>"
      ]
     },
     "metadata": {
      "needs_background": "light"
     },
     "output_type": "display_data"
    }
   ],
   "source": [
    "sns.heatmap(train.corr(), annot=True, fmt='.2f')"
   ]
  },
  {
   "cell_type": "code",
   "execution_count": 17,
   "id": "narrative-argument",
   "metadata": {
    "execution": {
     "iopub.execute_input": "2021-07-07T00:22:17.697489Z",
     "iopub.status.busy": "2021-07-07T00:22:17.696758Z",
     "iopub.status.idle": "2021-07-07T00:22:17.840149Z",
     "shell.execute_reply": "2021-07-07T00:22:17.839696Z",
     "shell.execute_reply.started": "2021-07-06T23:28:41.922939Z"
    },
    "papermill": {
     "duration": 0.224652,
     "end_time": "2021-07-07T00:22:17.840267",
     "exception": false,
     "start_time": "2021-07-07T00:22:17.615615",
     "status": "completed"
    },
    "tags": []
   },
   "outputs": [
    {
     "data": {
      "text/html": [
       "<div>\n",
       "<style scoped>\n",
       "    .dataframe tbody tr th:only-of-type {\n",
       "        vertical-align: middle;\n",
       "    }\n",
       "\n",
       "    .dataframe tbody tr th {\n",
       "        vertical-align: top;\n",
       "    }\n",
       "\n",
       "    .dataframe thead th {\n",
       "        text-align: right;\n",
       "    }\n",
       "</style>\n",
       "<table border=\"1\" class=\"dataframe\">\n",
       "  <thead>\n",
       "    <tr style=\"text-align: right;\">\n",
       "      <th></th>\n",
       "      <th>train_id</th>\n",
       "      <th>item_condition_id</th>\n",
       "      <th>price</th>\n",
       "      <th>shipping</th>\n",
       "    </tr>\n",
       "  </thead>\n",
       "  <tbody>\n",
       "    <tr>\n",
       "      <th>count</th>\n",
       "      <td>1.482535e+06</td>\n",
       "      <td>1.482535e+06</td>\n",
       "      <td>1.482535e+06</td>\n",
       "      <td>1.482535e+06</td>\n",
       "    </tr>\n",
       "    <tr>\n",
       "      <th>mean</th>\n",
       "      <td>7.412670e+05</td>\n",
       "      <td>1.907380e+00</td>\n",
       "      <td>2.673752e+01</td>\n",
       "      <td>4.472744e-01</td>\n",
       "    </tr>\n",
       "    <tr>\n",
       "      <th>std</th>\n",
       "      <td>4.279711e+05</td>\n",
       "      <td>9.031586e-01</td>\n",
       "      <td>3.858607e+01</td>\n",
       "      <td>4.972124e-01</td>\n",
       "    </tr>\n",
       "    <tr>\n",
       "      <th>min</th>\n",
       "      <td>0.000000e+00</td>\n",
       "      <td>1.000000e+00</td>\n",
       "      <td>0.000000e+00</td>\n",
       "      <td>0.000000e+00</td>\n",
       "    </tr>\n",
       "    <tr>\n",
       "      <th>25%</th>\n",
       "      <td>3.706335e+05</td>\n",
       "      <td>1.000000e+00</td>\n",
       "      <td>1.000000e+01</td>\n",
       "      <td>0.000000e+00</td>\n",
       "    </tr>\n",
       "    <tr>\n",
       "      <th>50%</th>\n",
       "      <td>7.412670e+05</td>\n",
       "      <td>2.000000e+00</td>\n",
       "      <td>1.700000e+01</td>\n",
       "      <td>0.000000e+00</td>\n",
       "    </tr>\n",
       "    <tr>\n",
       "      <th>75%</th>\n",
       "      <td>1.111900e+06</td>\n",
       "      <td>3.000000e+00</td>\n",
       "      <td>2.900000e+01</td>\n",
       "      <td>1.000000e+00</td>\n",
       "    </tr>\n",
       "    <tr>\n",
       "      <th>max</th>\n",
       "      <td>1.482534e+06</td>\n",
       "      <td>5.000000e+00</td>\n",
       "      <td>2.009000e+03</td>\n",
       "      <td>1.000000e+00</td>\n",
       "    </tr>\n",
       "  </tbody>\n",
       "</table>\n",
       "</div>"
      ],
      "text/plain": [
       "           train_id  item_condition_id         price      shipping\n",
       "count  1.482535e+06       1.482535e+06  1.482535e+06  1.482535e+06\n",
       "mean   7.412670e+05       1.907380e+00  2.673752e+01  4.472744e-01\n",
       "std    4.279711e+05       9.031586e-01  3.858607e+01  4.972124e-01\n",
       "min    0.000000e+00       1.000000e+00  0.000000e+00  0.000000e+00\n",
       "25%    3.706335e+05       1.000000e+00  1.000000e+01  0.000000e+00\n",
       "50%    7.412670e+05       2.000000e+00  1.700000e+01  0.000000e+00\n",
       "75%    1.111900e+06       3.000000e+00  2.900000e+01  1.000000e+00\n",
       "max    1.482534e+06       5.000000e+00  2.009000e+03  1.000000e+00"
      ]
     },
     "execution_count": 17,
     "metadata": {},
     "output_type": "execute_result"
    }
   ],
   "source": [
    "train.describe()"
   ]
  },
  {
   "cell_type": "markdown",
   "id": "sapphire-organ",
   "metadata": {
    "papermill": {
     "duration": 0.064756,
     "end_time": "2021-07-07T00:22:17.970408",
     "exception": false,
     "start_time": "2021-07-07T00:22:17.905652",
     "status": "completed"
    },
    "tags": []
   },
   "source": [
    "# Visualization"
   ]
  },
  {
   "cell_type": "code",
   "execution_count": 18,
   "id": "metropolitan-monaco",
   "metadata": {
    "execution": {
     "iopub.execute_input": "2021-07-07T00:22:18.104418Z",
     "iopub.status.busy": "2021-07-07T00:22:18.103884Z",
     "iopub.status.idle": "2021-07-07T00:22:18.107806Z",
     "shell.execute_reply": "2021-07-07T00:22:18.107263Z",
     "shell.execute_reply.started": "2021-07-06T23:28:42.089015Z"
    },
    "papermill": {
     "duration": 0.073121,
     "end_time": "2021-07-07T00:22:18.107967",
     "exception": false,
     "start_time": "2021-07-07T00:22:18.034846",
     "status": "completed"
    },
    "tags": []
   },
   "outputs": [],
   "source": [
    "sns.set()"
   ]
  },
  {
   "cell_type": "code",
   "execution_count": 19,
   "id": "seeing-yahoo",
   "metadata": {
    "execution": {
     "iopub.execute_input": "2021-07-07T00:22:18.242067Z",
     "iopub.status.busy": "2021-07-07T00:22:18.241410Z",
     "iopub.status.idle": "2021-07-07T00:22:19.612227Z",
     "shell.execute_reply": "2021-07-07T00:22:19.611278Z",
     "shell.execute_reply.started": "2021-07-06T23:28:42.096921Z"
    },
    "papermill": {
     "duration": 1.439867,
     "end_time": "2021-07-07T00:22:19.612354",
     "exception": false,
     "start_time": "2021-07-07T00:22:18.172487",
     "status": "completed"
    },
    "tags": []
   },
   "outputs": [
    {
     "data": {
      "image/png": "[encoded data removed]",
      "text/plain": [
       "<Figure size 576x288 with 1 Axes>"
      ]
     },
     "metadata": {},
     "output_type": "display_data"
    }
   ],
   "source": [
    "train = train.drop(train[(train['price'] >= 200)].index, axis=0)\n",
    "\n",
    "fig, ax = plt.subplots(1, 1, figsize=(8, 4))\n",
    "sns.histplot(train['price'], bins=50, ax=ax)\n",
    "plt.show()"
   ]
  },
  {
   "cell_type": "code",
   "execution_count": 20,
   "id": "amino-pakistan",
   "metadata": {
    "execution": {
     "iopub.execute_input": "2021-07-07T00:22:19.750309Z",
     "iopub.status.busy": "2021-07-07T00:22:19.749580Z",
     "iopub.status.idle": "2021-07-07T00:22:21.159937Z",
     "shell.execute_reply": "2021-07-07T00:22:21.160410Z",
     "shell.execute_reply.started": "2021-07-06T23:28:43.497664Z"
    },
    "papermill": {
     "duration": 1.481701,
     "end_time": "2021-07-07T00:22:21.160578",
     "exception": false,
     "start_time": "2021-07-07T00:22:19.678877",
     "status": "completed"
    },
    "tags": []
   },
   "outputs": [
    {
     "data": {
      "image/png": "[encoded data removed]",
      "text/plain": [
       "<Figure size 576x288 with 1 Axes>"
      ]
     },
     "metadata": {},
     "output_type": "display_data"
    }
   ],
   "source": [
    "train['log_price'] = np.log1p(train['price'])\n",
    "\n",
    "fig, ax = plt.subplots(1, 1, figsize=(8, 4))\n",
    "sns.histplot(train['log_price'], bins=50, ax=ax)\n",
    "plt.show()"
   ]
  },
  {
   "cell_type": "code",
   "execution_count": 21,
   "id": "subjective-alarm",
   "metadata": {
    "execution": {
     "iopub.execute_input": "2021-07-07T00:22:21.315406Z",
     "iopub.status.busy": "2021-07-07T00:22:21.314220Z",
     "iopub.status.idle": "2021-07-07T00:22:21.558326Z",
     "shell.execute_reply": "2021-07-07T00:22:21.558751Z",
     "shell.execute_reply.started": "2021-07-06T23:28:44.690986Z"
    },
    "papermill": {
     "duration": 0.325577,
     "end_time": "2021-07-07T00:22:21.558902",
     "exception": false,
     "start_time": "2021-07-07T00:22:21.233325",
     "status": "completed"
    },
    "tags": []
   },
   "outputs": [
    {
     "data": {
      "text/plain": [
       "6052"
      ]
     },
     "execution_count": 21,
     "metadata": {},
     "output_type": "execute_result"
    }
   ],
   "source": [
    "train = train.drop('log_price', axis=1)\n",
    "gc.collect()"
   ]
  },
  {
   "cell_type": "code",
   "execution_count": 22,
   "id": "special-biology",
   "metadata": {
    "execution": {
     "iopub.execute_input": "2021-07-07T00:22:21.698280Z",
     "iopub.status.busy": "2021-07-07T00:22:21.697553Z",
     "iopub.status.idle": "2021-07-07T00:22:28.464817Z",
     "shell.execute_reply": "2021-07-07T00:22:28.464322Z",
     "shell.execute_reply.started": "2021-07-06T23:28:44.935396Z"
    },
    "papermill": {
     "duration": 6.839514,
     "end_time": "2021-07-07T00:22:28.464951",
     "exception": false,
     "start_time": "2021-07-07T00:22:21.625437",
     "status": "completed"
    },
    "tags": []
   },
   "outputs": [
    {
     "data": {
      "text/plain": [
       "<matplotlib.legend.Legend at 0x7faafdbd6110>"
      ]
     },
     "execution_count": 22,
     "metadata": {},
     "output_type": "execute_result"
    },
    {
     "data": {
      "image/png": "[encoded data removed]",
      "text/plain": [
       "<Figure size 576x288 with 1 Axes>"
      ]
     },
     "metadata": {},
     "output_type": "display_data"
    }
   ],
   "source": [
    "fig = sns.FacetGrid(train, hue='shipping', height=4, aspect=2)\n",
    "fig.map(sns.kdeplot, 'price', shade=True)\n",
    "plt.legend()"
   ]
  },
  {
   "cell_type": "code",
   "execution_count": 23,
   "id": "continuing-graphic",
   "metadata": {
    "execution": {
     "iopub.execute_input": "2021-07-07T00:22:28.606726Z",
     "iopub.status.busy": "2021-07-07T00:22:28.605996Z",
     "iopub.status.idle": "2021-07-07T00:22:35.533915Z",
     "shell.execute_reply": "2021-07-07T00:22:35.533412Z",
     "shell.execute_reply.started": "2021-07-06T23:28:51.846454Z"
    },
    "papermill": {
     "duration": 7.000074,
     "end_time": "2021-07-07T00:22:35.534044",
     "exception": false,
     "start_time": "2021-07-07T00:22:28.533970",
     "status": "completed"
    },
    "tags": []
   },
   "outputs": [
    {
     "data": {
      "text/plain": [
       "<matplotlib.legend.Legend at 0x7faafdb5a2d0>"
      ]
     },
     "execution_count": 23,
     "metadata": {},
     "output_type": "execute_result"
    },
    {
     "data": {
      "image/png": "[encoded data removed]",
      "text/plain": [
       "<Figure size 576x288 with 1 Axes>"
      ]
     },
     "metadata": {},
     "output_type": "display_data"
    }
   ],
   "source": [
    "fig = sns.FacetGrid(train, hue='item_condition_id', height=4, aspect=2)\n",
    "fig.map(sns.kdeplot, 'price', shade=True)\n",
    "plt.legend()"
   ]
  },
  {
   "cell_type": "markdown",
   "id": "confidential-workplace",
   "metadata": {
    "papermill": {
     "duration": 0.068649,
     "end_time": "2021-07-07T00:22:35.672215",
     "exception": false,
     "start_time": "2021-07-07T00:22:35.603566",
     "status": "completed"
    },
    "tags": []
   },
   "source": [
    "# Preprocess"
   ]
  },
  {
   "cell_type": "code",
   "execution_count": 24,
   "id": "seeing-prerequisite",
   "metadata": {
    "execution": {
     "iopub.execute_input": "2021-07-07T00:22:35.816804Z",
     "iopub.status.busy": "2021-07-07T00:22:35.816105Z",
     "iopub.status.idle": "2021-07-07T00:22:35.819106Z",
     "shell.execute_reply": "2021-07-07T00:22:35.818596Z",
     "shell.execute_reply.started": "2021-07-06T23:28:58.885342Z"
    },
    "papermill": {
     "duration": 0.076591,
     "end_time": "2021-07-07T00:22:35.819215",
     "exception": false,
     "start_time": "2021-07-07T00:22:35.742624",
     "status": "completed"
    },
    "tags": []
   },
   "outputs": [],
   "source": [
    "train_row = train.shape[0]\n",
    "test_id = test['test_id']"
   ]
  },
  {
   "cell_type": "code",
   "execution_count": 25,
   "id": "worthy-institute",
   "metadata": {
    "execution": {
     "iopub.execute_input": "2021-07-07T00:22:35.962076Z",
     "iopub.status.busy": "2021-07-07T00:22:35.961243Z",
     "iopub.status.idle": "2021-07-07T00:22:36.074994Z",
     "shell.execute_reply": "2021-07-07T00:22:36.075622Z",
     "shell.execute_reply.started": "2021-07-06T23:28:58.893513Z"
    },
    "papermill": {
     "duration": 0.187884,
     "end_time": "2021-07-07T00:22:36.075824",
     "exception": false,
     "start_time": "2021-07-07T00:22:35.887940",
     "status": "completed"
    },
    "tags": []
   },
   "outputs": [
    {
     "name": "stdout",
     "output_type": "stream",
     "text": [
      "(1471688, 7)\n",
      "(1471688,)\n"
     ]
    }
   ],
   "source": [
    "target = np.log1p(train['price'])\n",
    "train = train[[col for col in train.columns if col != 'price']]\n",
    "\n",
    "print(train.shape)\n",
    "print(target.shape)"
   ]
  },
  {
   "cell_type": "code",
   "execution_count": 26,
   "id": "minimal-budget",
   "metadata": {
    "execution": {
     "iopub.execute_input": "2021-07-07T00:22:36.398641Z",
     "iopub.status.busy": "2021-07-07T00:22:36.300326Z",
     "iopub.status.idle": "2021-07-07T00:22:36.532460Z",
     "shell.execute_reply": "2021-07-07T00:22:36.531998Z",
     "shell.execute_reply.started": "2021-07-06T23:28:59.015528Z"
    },
    "papermill": {
     "duration": 0.385396,
     "end_time": "2021-07-07T00:22:36.532605",
     "exception": false,
     "start_time": "2021-07-07T00:22:36.147209",
     "status": "completed"
    },
    "tags": []
   },
   "outputs": [],
   "source": [
    "train = train.drop('train_id', axis=1)\n",
    "test = test.drop('test_id', axis=1)"
   ]
  },
  {
   "cell_type": "code",
   "execution_count": 27,
   "id": "verbal-tribe",
   "metadata": {
    "execution": {
     "iopub.execute_input": "2021-07-07T00:22:36.677450Z",
     "iopub.status.busy": "2021-07-07T00:22:36.676507Z",
     "iopub.status.idle": "2021-07-07T00:22:37.636653Z",
     "shell.execute_reply": "2021-07-07T00:22:37.635818Z",
     "shell.execute_reply.started": "2021-07-06T23:28:59.335615Z"
    },
    "papermill": {
     "duration": 1.034703,
     "end_time": "2021-07-07T00:22:37.636787",
     "exception": false,
     "start_time": "2021-07-07T00:22:36.602084",
     "status": "completed"
    },
    "tags": []
   },
   "outputs": [
    {
     "name": "stdout",
     "output_type": "stream",
     "text": [
      "(4932413, 6)\n"
     ]
    },
    {
     "data": {
      "text/html": [
       "<div>\n",
       "<style scoped>\n",
       "    .dataframe tbody tr th:only-of-type {\n",
       "        vertical-align: middle;\n",
       "    }\n",
       "\n",
       "    .dataframe tbody tr th {\n",
       "        vertical-align: top;\n",
       "    }\n",
       "\n",
       "    .dataframe thead th {\n",
       "        text-align: right;\n",
       "    }\n",
       "</style>\n",
       "<table border=\"1\" class=\"dataframe\">\n",
       "  <thead>\n",
       "    <tr style=\"text-align: right;\">\n",
       "      <th></th>\n",
       "      <th>name</th>\n",
       "      <th>item_condition_id</th>\n",
       "      <th>category_name</th>\n",
       "      <th>brand_name</th>\n",
       "      <th>shipping</th>\n",
       "      <th>item_description</th>\n",
       "    </tr>\n",
       "  </thead>\n",
       "  <tbody>\n",
       "    <tr>\n",
       "      <th>0</th>\n",
       "      <td>MLB Cincinnati Reds T Shirt Size XL</td>\n",
       "      <td>3</td>\n",
       "      <td>Men/Tops/T-shirts</td>\n",
       "      <td>NaN</td>\n",
       "      <td>1</td>\n",
       "      <td>No description yet</td>\n",
       "    </tr>\n",
       "    <tr>\n",
       "      <th>1</th>\n",
       "      <td>Razer BlackWidow Chroma Keyboard</td>\n",
       "      <td>3</td>\n",
       "      <td>Electronics/Computers &amp; Tablets/Components &amp; P...</td>\n",
       "      <td>Razer</td>\n",
       "      <td>0</td>\n",
       "      <td>This keyboard is in great condition and works ...</td>\n",
       "    </tr>\n",
       "    <tr>\n",
       "      <th>2</th>\n",
       "      <td>AVA-VIV Blouse</td>\n",
       "      <td>1</td>\n",
       "      <td>Women/Tops &amp; Blouses/Blouse</td>\n",
       "      <td>Target</td>\n",
       "      <td>1</td>\n",
       "      <td>Adorable top with a hint of lace and a key hol...</td>\n",
       "    </tr>\n",
       "    <tr>\n",
       "      <th>3</th>\n",
       "      <td>Leather Horse Statues</td>\n",
       "      <td>1</td>\n",
       "      <td>Home/Home Décor/Home Décor Accents</td>\n",
       "      <td>NaN</td>\n",
       "      <td>1</td>\n",
       "      <td>New with tags. Leather horses. Retail for [rm]...</td>\n",
       "    </tr>\n",
       "    <tr>\n",
       "      <th>4</th>\n",
       "      <td>24K GOLD plated rose</td>\n",
       "      <td>1</td>\n",
       "      <td>Women/Jewelry/Necklaces</td>\n",
       "      <td>NaN</td>\n",
       "      <td>0</td>\n",
       "      <td>Complete with certificate of authenticity</td>\n",
       "    </tr>\n",
       "  </tbody>\n",
       "</table>\n",
       "</div>"
      ],
      "text/plain": [
       "                                  name  item_condition_id  \\\n",
       "0  MLB Cincinnati Reds T Shirt Size XL                  3   \n",
       "1     Razer BlackWidow Chroma Keyboard                  3   \n",
       "2                       AVA-VIV Blouse                  1   \n",
       "3                Leather Horse Statues                  1   \n",
       "4                 24K GOLD plated rose                  1   \n",
       "\n",
       "                                       category_name brand_name  shipping  \\\n",
       "0                                  Men/Tops/T-shirts        NaN         1   \n",
       "1  Electronics/Computers & Tablets/Components & P...      Razer         0   \n",
       "2                        Women/Tops & Blouses/Blouse     Target         1   \n",
       "3                 Home/Home Décor/Home Décor Accents        NaN         1   \n",
       "4                            Women/Jewelry/Necklaces        NaN         0   \n",
       "\n",
       "                                    item_description  \n",
       "0                                 No description yet  \n",
       "1  This keyboard is in great condition and works ...  \n",
       "2  Adorable top with a hint of lace and a key hol...  \n",
       "3  New with tags. Leather horses. Retail for [rm]...  \n",
       "4          Complete with certificate of authenticity  "
      ]
     },
     "execution_count": 27,
     "metadata": {},
     "output_type": "execute_result"
    }
   ],
   "source": [
    "X = pd.concat([train, test], axis=0)\n",
    "\n",
    "print(X.shape)\n",
    "X.head()"
   ]
  },
  {
   "cell_type": "code",
   "execution_count": 28,
   "id": "civil-buffalo",
   "metadata": {
    "execution": {
     "iopub.execute_input": "2021-07-07T00:22:38.193084Z",
     "iopub.status.busy": "2021-07-07T00:22:38.192442Z",
     "iopub.status.idle": "2021-07-07T00:22:39.559186Z",
     "shell.execute_reply": "2021-07-07T00:22:39.559649Z",
     "shell.execute_reply.started": "2021-07-06T23:29:00.148042Z"
    },
    "papermill": {
     "duration": 1.852836,
     "end_time": "2021-07-07T00:22:39.559816",
     "exception": false,
     "start_time": "2021-07-07T00:22:37.706980",
     "status": "completed"
    },
    "tags": []
   },
   "outputs": [
    {
     "data": {
      "text/plain": [
       "name                       0\n",
       "item_condition_id          0\n",
       "category_name          21115\n",
       "brand_name           2107076\n",
       "shipping                   0\n",
       "item_description          10\n",
       "dtype: int64"
      ]
     },
     "execution_count": 28,
     "metadata": {},
     "output_type": "execute_result"
    }
   ],
   "source": [
    "X.isnull().sum()"
   ]
  },
  {
   "cell_type": "code",
   "execution_count": 29,
   "id": "allied-table",
   "metadata": {
    "execution": {
     "iopub.execute_input": "2021-07-07T00:22:40.384738Z",
     "iopub.status.busy": "2021-07-07T00:22:40.383914Z",
     "iopub.status.idle": "2021-07-07T00:22:41.902929Z",
     "shell.execute_reply": "2021-07-07T00:22:41.902141Z",
     "shell.execute_reply.started": "2021-07-06T23:29:02.063594Z"
    },
    "papermill": {
     "duration": 2.222446,
     "end_time": "2021-07-07T00:22:41.903063",
     "exception": false,
     "start_time": "2021-07-07T00:22:39.680617",
     "status": "completed"
    },
    "tags": []
   },
   "outputs": [],
   "source": [
    "X['category_name'] = X['category_name'].fillna(value='missing')\n",
    "X['brand_name'] = X['brand_name'].fillna(value='missing')\n",
    "X['item_description'] = X['item_description'].fillna(value='missing')"
   ]
  },
  {
   "cell_type": "code",
   "execution_count": 30,
   "id": "threatened-stomach",
   "metadata": {
    "execution": {
     "iopub.execute_input": "2021-07-07T00:22:42.087710Z",
     "iopub.status.busy": "2021-07-07T00:22:42.072262Z",
     "iopub.status.idle": "2021-07-07T00:23:22.869426Z",
     "shell.execute_reply": "2021-07-07T00:23:22.869972Z",
     "shell.execute_reply.started": "2021-07-06T23:29:03.973308Z"
    },
    "papermill": {
     "duration": 40.896405,
     "end_time": "2021-07-07T00:23:22.870153",
     "exception": false,
     "start_time": "2021-07-07T00:22:41.973748",
     "status": "completed"
    },
    "tags": []
   },
   "outputs": [
    {
     "data": {
      "text/plain": [
       "<4932413x207463 sparse matrix of type '<class 'numpy.int64'>'\n",
       "\twith 20740804 stored elements in Compressed Sparse Row format>"
      ]
     },
     "execution_count": 30,
     "metadata": {},
     "output_type": "execute_result"
    }
   ],
   "source": [
    "cv = CountVectorizer()\n",
    "\n",
    "name_data = cv.fit_transform(X['name'])\n",
    "name_data"
   ]
  },
  {
   "cell_type": "code",
   "execution_count": 31,
   "id": "auburn-found",
   "metadata": {
    "execution": {
     "iopub.execute_input": "2021-07-07T00:23:23.060584Z",
     "iopub.status.busy": "2021-07-07T00:23:23.040031Z",
     "iopub.status.idle": "2021-07-07T00:25:52.522927Z",
     "shell.execute_reply": "2021-07-07T00:25:52.523417Z",
     "shell.execute_reply.started": "2021-07-06T23:29:45.437855Z"
    },
    "papermill": {
     "duration": 149.582865,
     "end_time": "2021-07-07T00:25:52.523606",
     "exception": false,
     "start_time": "2021-07-07T00:23:22.940741",
     "status": "completed"
    },
    "tags": []
   },
   "outputs": [
    {
     "data": {
      "text/plain": [
       "<4932413x305203 sparse matrix of type '<class 'numpy.float64'>'\n",
       "\twith 101584608 stored elements in Compressed Sparse Row format>"
      ]
     },
     "execution_count": 31,
     "metadata": {},
     "output_type": "execute_result"
    }
   ],
   "source": [
    "tv = TfidfVectorizer()\n",
    "\n",
    "description_data = tv.fit_transform(X['item_description'])\n",
    "description_data"
   ]
  },
  {
   "cell_type": "code",
   "execution_count": 32,
   "id": "popular-facing",
   "metadata": {
    "execution": {
     "iopub.execute_input": "2021-07-07T00:26:00.545884Z",
     "iopub.status.busy": "2021-07-07T00:26:00.544321Z",
     "iopub.status.idle": "2021-07-07T00:44:00.031542Z",
     "shell.execute_reply": "2021-07-07T00:44:00.031984Z",
     "shell.execute_reply.started": "2021-07-06T23:32:12.438193Z"
    },
    "papermill": {
     "duration": 1087.432515,
     "end_time": "2021-07-07T00:44:00.032155",
     "exception": false,
     "start_time": "2021-07-07T00:25:52.599640",
     "status": "completed"
    },
    "tags": []
   },
   "outputs": [
    {
     "data": {
      "text/plain": [
       "<4932413x6309 sparse matrix of type '<class 'numpy.int64'>'\n",
       "\twith 4932413 stored elements in Compressed Sparse Row format>"
      ]
     },
     "execution_count": 32,
     "metadata": {},
     "output_type": "execute_result"
    }
   ],
   "source": [
    "lb = LabelBinarizer(sparse_output=True)\n",
    "\n",
    "brand_data = lb.fit_transform(X['brand_name'])\n",
    "brand_data"
   ]
  },
  {
   "cell_type": "code",
   "execution_count": 33,
   "id": "handy-dubai",
   "metadata": {
    "execution": {
     "iopub.execute_input": "2021-07-07T00:44:08.885721Z",
     "iopub.status.busy": "2021-07-07T00:44:00.235268Z",
     "iopub.status.idle": "2021-07-07T00:48:25.611070Z",
     "shell.execute_reply": "2021-07-07T00:48:25.611488Z",
     "shell.execute_reply.started": "2021-07-06T23:50:32.454664Z"
    },
    "papermill": {
     "duration": 265.506847,
     "end_time": "2021-07-07T00:48:25.611658",
     "exception": false,
     "start_time": "2021-07-07T00:44:00.104811",
     "status": "completed"
    },
    "tags": []
   },
   "outputs": [
    {
     "data": {
      "text/plain": [
       "<4932413x1354 sparse matrix of type '<class 'numpy.int64'>'\n",
       "\twith 4932413 stored elements in Compressed Sparse Row format>"
      ]
     },
     "execution_count": 33,
     "metadata": {},
     "output_type": "execute_result"
    }
   ],
   "source": [
    "category_data = lb.fit_transform(X['category_name'])\n",
    "category_data"
   ]
  },
  {
   "cell_type": "code",
   "execution_count": 34,
   "id": "meaning-acting",
   "metadata": {
    "execution": {
     "iopub.execute_input": "2021-07-07T00:48:25.761650Z",
     "iopub.status.busy": "2021-07-07T00:48:25.760767Z",
     "iopub.status.idle": "2021-07-07T00:48:30.263581Z",
     "shell.execute_reply": "2021-07-07T00:48:30.262735Z",
     "shell.execute_reply.started": "2021-07-06T23:55:00.848427Z"
    },
    "papermill": {
     "duration": 4.580048,
     "end_time": "2021-07-07T00:48:30.263716",
     "exception": false,
     "start_time": "2021-07-07T00:48:25.683668",
     "status": "completed"
    },
    "tags": []
   },
   "outputs": [
    {
     "data": {
      "text/plain": [
       "<4932413x5 sparse matrix of type '<class 'numpy.uint8'>'\n",
       "\twith 4932413 stored elements in Compressed Sparse Row format>"
      ]
     },
     "execution_count": 34,
     "metadata": {},
     "output_type": "execute_result"
    }
   ],
   "source": [
    "condition_data = scipy.sparse.csr_matrix(pd.get_dummies(X['item_condition_id'], sparse = True).values)\n",
    "condition_data"
   ]
  },
  {
   "cell_type": "code",
   "execution_count": 35,
   "id": "marine-recruitment",
   "metadata": {
    "execution": {
     "iopub.execute_input": "2021-07-07T00:48:30.414002Z",
     "iopub.status.busy": "2021-07-07T00:48:30.413210Z",
     "iopub.status.idle": "2021-07-07T00:48:34.378046Z",
     "shell.execute_reply": "2021-07-07T00:48:34.378452Z",
     "shell.execute_reply.started": "2021-07-06T23:55:05.383325Z"
    },
    "papermill": {
     "duration": 4.042266,
     "end_time": "2021-07-07T00:48:34.378617",
     "exception": false,
     "start_time": "2021-07-07T00:48:30.336351",
     "status": "completed"
    },
    "tags": []
   },
   "outputs": [
    {
     "data": {
      "text/plain": [
       "<4932413x2 sparse matrix of type '<class 'numpy.uint8'>'\n",
       "\twith 4932413 stored elements in Compressed Sparse Row format>"
      ]
     },
     "execution_count": 35,
     "metadata": {},
     "output_type": "execute_result"
    }
   ],
   "source": [
    "shipping_data = scipy.sparse.csr_matrix(pd.get_dummies(X['shipping'], sparse = True).values)\n",
    "shipping_data"
   ]
  },
  {
   "cell_type": "code",
   "execution_count": 36,
   "id": "polished-volunteer",
   "metadata": {
    "execution": {
     "iopub.execute_input": "2021-07-07T00:48:34.528628Z",
     "iopub.status.busy": "2021-07-07T00:48:34.527660Z",
     "iopub.status.idle": "2021-07-07T00:48:43.714396Z",
     "shell.execute_reply": "2021-07-07T00:48:43.713978Z",
     "shell.execute_reply.started": "2021-07-06T23:55:09.466826Z"
    },
    "papermill": {
     "duration": 9.263587,
     "end_time": "2021-07-07T00:48:43.714531",
     "exception": false,
     "start_time": "2021-07-07T00:48:34.450944",
     "status": "completed"
    },
    "tags": []
   },
   "outputs": [
    {
     "data": {
      "text/plain": [
       "<4932413x520336 sparse matrix of type '<class 'numpy.float64'>'\n",
       "\twith 142055064 stored elements in Compressed Sparse Row format>"
      ]
     },
     "execution_count": 36,
     "metadata": {},
     "output_type": "execute_result"
    }
   ],
   "source": [
    "X_sparse = scipy.sparse.hstack((name_data, brand_data, description_data, category_data, condition_data, shipping_data)).tocsr()\n",
    "X_sparse"
   ]
  },
  {
   "cell_type": "code",
   "execution_count": 37,
   "id": "lesser-christianity",
   "metadata": {
    "execution": {
     "iopub.execute_input": "2021-07-07T00:48:43.912605Z",
     "iopub.status.busy": "2021-07-07T00:48:43.911845Z",
     "iopub.status.idle": "2021-07-07T00:48:46.151498Z",
     "shell.execute_reply": "2021-07-07T00:48:46.150433Z",
     "shell.execute_reply.started": "2021-07-06T23:55:18.546539Z"
    },
    "papermill": {
     "duration": 2.316358,
     "end_time": "2021-07-07T00:48:46.151658",
     "exception": false,
     "start_time": "2021-07-07T00:48:43.835300",
     "status": "completed"
    },
    "tags": []
   },
   "outputs": [],
   "source": [
    "train = X_sparse[:train_row]\n",
    "test = X_sparse[train_row:]"
   ]
  },
  {
   "cell_type": "code",
   "execution_count": 38,
   "id": "intended-appeal",
   "metadata": {
    "execution": {
     "iopub.execute_input": "2021-07-07T00:48:46.478126Z",
     "iopub.status.busy": "2021-07-07T00:48:46.477124Z",
     "iopub.status.idle": "2021-07-07T00:48:46.480697Z",
     "shell.execute_reply": "2021-07-07T00:48:46.481099Z",
     "shell.execute_reply.started": "2021-07-06T23:55:20.926777Z"
    },
    "papermill": {
     "duration": 0.256798,
     "end_time": "2021-07-07T00:48:46.481239",
     "exception": false,
     "start_time": "2021-07-07T00:48:46.224441",
     "status": "completed"
    },
    "tags": []
   },
   "outputs": [
    {
     "data": {
      "text/plain": [
       "140"
      ]
     },
     "execution_count": 38,
     "metadata": {},
     "output_type": "execute_result"
    }
   ],
   "source": [
    "del X, X_sparse, name_data, description_data, brand_data, category_data, condition_data, shipping_data, train_row, cv, tv, lb\n",
    "gc.collect()"
   ]
  },
  {
   "cell_type": "code",
   "execution_count": 39,
   "id": "dental-credits",
   "metadata": {
    "execution": {
     "iopub.execute_input": "2021-07-07T00:48:46.631767Z",
     "iopub.status.busy": "2021-07-07T00:48:46.631097Z",
     "iopub.status.idle": "2021-07-07T00:48:46.634937Z",
     "shell.execute_reply": "2021-07-07T00:48:46.634524Z",
     "shell.execute_reply.started": "2021-07-06T23:55:21.179747Z"
    },
    "papermill": {
     "duration": 0.08101,
     "end_time": "2021-07-07T00:48:46.635050",
     "exception": false,
     "start_time": "2021-07-07T00:48:46.554040",
     "status": "completed"
    },
    "tags": []
   },
   "outputs": [
    {
     "name": "stdout",
     "output_type": "stream",
     "text": [
      "(1471688, 520336)\n",
      "(1471688,)\n"
     ]
    }
   ],
   "source": [
    "print(train.shape)\n",
    "print(target.shape)"
   ]
  },
  {
   "cell_type": "markdown",
   "id": "micro-heather",
   "metadata": {
    "papermill": {
     "duration": 0.074295,
     "end_time": "2021-07-07T00:48:46.782234",
     "exception": false,
     "start_time": "2021-07-07T00:48:46.707939",
     "status": "completed"
    },
    "tags": []
   },
   "source": [
    "# Modeling"
   ]
  },
  {
   "cell_type": "code",
   "execution_count": 40,
   "id": "noted-pavilion",
   "metadata": {
    "_kg_hide-output": true,
    "execution": {
     "iopub.execute_input": "2021-07-07T00:48:46.935486Z",
     "iopub.status.busy": "2021-07-07T00:48:46.934593Z",
     "iopub.status.idle": "2021-07-07T00:48:46.938002Z",
     "shell.execute_reply": "2021-07-07T00:48:46.938449Z",
     "shell.execute_reply.started": "2021-07-06T23:55:21.195426Z"
    },
    "papermill": {
     "duration": 0.083188,
     "end_time": "2021-07-07T00:48:46.938607",
     "exception": false,
     "start_time": "2021-07-07T00:48:46.855419",
     "status": "completed"
    },
    "tags": []
   },
   "outputs": [
    {
     "data": {
      "text/plain": [
       "\"\\nX_tr, X_val, y_tr, y_val = train_test_split(train, target, test_size=0.2, random_state=666)\\n\\ndef create_model(trial):\\n    num_leaves = trial.suggest_int('num_leaves', 2, 30)\\n    n_estimators = trial.suggest_int('n_estimators', 50, 300)\\n    learning_rate = trial.suggest_uniform('learning_rate', 0.0001, 0.99)\\n    max_depth = trial.suggest_int('max_depth', 2, 10)\\n    min_child_samples = trial.suggest_int('min_child_samples', 100, 1200)\\n    min_data_in_leaf = trial.suggest_int('min_data_in_leaf', 5, 90)\\n    bagging_freq = trial.suggest_int('bagging_freq', 1, 7)\\n    bagging_fraction = trial.suggest_uniform('bagging_fraction', 0.0001, 1.0)\\n    feature_fraction = trial.suggest_uniform('feature_fraction', 0.0001, 1.0)\\n    subsample = trial.suggest_uniform('subsample', 0.1, 1.0)\\n    colsample_bytree = trial.suggest_uniform('colsample_bytree', 0.1, 1.0)\\n    \\n    model = lgb.LGBMRegressor(\\n        num_leaves=num_leaves,\\n        n_estimators=n_estimators,\\n        learning_rate=learning_rate,\\n        max_depth=max_depth, \\n        min_child_samples=min_child_samples, \\n        min_data_in_leaf=min_data_in_leaf,\\n        bagging_freq=bagging_freq,\\n        bagging_fraction=bagging_fraction,\\n        feature_fraction=feature_fraction,\\n        subsample=subsample,\\n        colsample_bytree=colsample_bytree,\\n        metric='rsme',\\n        random_state=666)\\n    return model\\n\\ndef objective(trial):\\n    model = create_model(trial)\\n    model.fit(X_tr, y_tr)\\n    y_pred = model.predict(X_val)\\n    rsme = np.sqrt(mean_squared_error(y_pred, y_val))\\n    return rsme\\n\\nstudy = optuna.create_study(direction='minimize')\\nstudy.optimize(objective, n_trials=40)\\nparams = study.best_params\\nprint(params)\\n\""
      ]
     },
     "execution_count": 40,
     "metadata": {},
     "output_type": "execute_result"
    }
   ],
   "source": [
    "'''\n",
    "X_tr, X_val, y_tr, y_val = train_test_split(train, target, test_size=0.2, random_state=666)\n",
    "\n",
    "def create_model(trial):\n",
    "    num_leaves = trial.suggest_int('num_leaves', 2, 30)\n",
    "    n_estimators = trial.suggest_int('n_estimators', 50, 300)\n",
    "    learning_rate = trial.suggest_uniform('learning_rate', 0.0001, 0.99)\n",
    "    max_depth = trial.suggest_int('max_depth', 2, 10)\n",
    "    min_child_samples = trial.suggest_int('min_child_samples', 100, 1200)\n",
    "    min_data_in_leaf = trial.suggest_int('min_data_in_leaf', 5, 90)\n",
    "    bagging_freq = trial.suggest_int('bagging_freq', 1, 7)\n",
    "    bagging_fraction = trial.suggest_uniform('bagging_fraction', 0.0001, 1.0)\n",
    "    feature_fraction = trial.suggest_uniform('feature_fraction', 0.0001, 1.0)\n",
    "    subsample = trial.suggest_uniform('subsample', 0.1, 1.0)\n",
    "    colsample_bytree = trial.suggest_uniform('colsample_bytree', 0.1, 1.0)\n",
    "    \n",
    "    model = lgb.LGBMRegressor(\n",
    "        num_leaves=num_leaves,\n",
    "        n_estimators=n_estimators,\n",
    "        learning_rate=learning_rate,\n",
    "        max_depth=max_depth, \n",
    "        min_child_samples=min_child_samples, \n",
    "        min_data_in_leaf=min_data_in_leaf,\n",
    "        bagging_freq=bagging_freq,\n",
    "        bagging_fraction=bagging_fraction,\n",
    "        feature_fraction=feature_fraction,\n",
    "        subsample=subsample,\n",
    "        colsample_bytree=colsample_bytree,\n",
    "        metric='rsme',\n",
    "        random_state=666)\n",
    "    return model\n",
    "\n",
    "def objective(trial):\n",
    "    model = create_model(trial)\n",
    "    model.fit(X_tr, y_tr)\n",
    "    y_pred = model.predict(X_val)\n",
    "    rsme = np.sqrt(mean_squared_error(y_pred, y_val))\n",
    "    return rsme\n",
    "\n",
    "study = optuna.create_study(direction='minimize')\n",
    "study.optimize(objective, n_trials=40)\n",
    "params = study.best_params\n",
    "print(params)\n",
    "'''"
   ]
  },
  {
   "cell_type": "code",
   "execution_count": 41,
   "id": "found-distinction",
   "metadata": {
    "execution": {
     "iopub.execute_input": "2021-07-07T00:48:47.092396Z",
     "iopub.status.busy": "2021-07-07T00:48:47.091566Z",
     "iopub.status.idle": "2021-07-07T00:48:47.094374Z",
     "shell.execute_reply": "2021-07-07T00:48:47.093966Z",
     "shell.execute_reply.started": "2021-07-06T23:55:21.212986Z"
    },
    "papermill": {
     "duration": 0.081764,
     "end_time": "2021-07-07T00:48:47.094490",
     "exception": false,
     "start_time": "2021-07-07T00:48:47.012726",
     "status": "completed"
    },
    "tags": []
   },
   "outputs": [],
   "source": [
    "params = {'num_leaves': 19,\n",
    "          'n_estimators': 294,\n",
    "          'learning_rate': 0.30629521899319057,\n",
    "          'max_depth': 8,\n",
    "          'min_child_samples': 836,\n",
    "          'min_data_in_leaf': 32,\n",
    "          'bagging_freq': 4,\n",
    "          'bagging_fraction': 0.1460764432004789,\n",
    "          'feature_fraction': 0.8707981099370118,\n",
    "          'subsample': 0.3296674411363768,\n",
    "          'colsample_bytree': 0.8999093468212471,\n",
    "          'random_state': 666}"
   ]
  },
  {
   "cell_type": "code",
   "execution_count": 42,
   "id": "judicial-reasoning",
   "metadata": {
    "_kg_hide-output": true,
    "execution": {
     "iopub.execute_input": "2021-07-07T00:48:47.248259Z",
     "iopub.status.busy": "2021-07-07T00:48:47.247349Z",
     "iopub.status.idle": "2021-07-07T01:32:58.458452Z",
     "shell.execute_reply": "2021-07-07T01:32:58.458984Z",
     "shell.execute_reply.started": "2021-07-06T23:55:21.237247Z"
    },
    "papermill": {
     "duration": 2651.29064,
     "end_time": "2021-07-07T01:32:58.459196",
     "exception": false,
     "start_time": "2021-07-07T00:48:47.168556",
     "status": "completed"
    },
    "tags": []
   },
   "outputs": [
    {
     "name": "stdout",
     "output_type": "stream",
     "text": [
      "[LightGBM] [Warning] bagging_fraction is set=0.1460764432004789, subsample=0.3296674411363768 will be ignored. Current value: bagging_fraction=0.1460764432004789\n",
      "[LightGBM] [Warning] feature_fraction is set=0.8707981099370118, colsample_bytree=0.8999093468212471 will be ignored. Current value: feature_fraction=0.8707981099370118\n",
      "[LightGBM] [Warning] bagging_freq is set=4, subsample_freq=0 will be ignored. Current value: bagging_freq=4\n",
      "[LightGBM] [Warning] min_data_in_leaf is set=32, min_child_samples=836 will be ignored. Current value: min_data_in_leaf=32\n"
     ]
    },
    {
     "data": {
      "text/plain": [
       "LGBMRegressor(bagging_fraction=0.1460764432004789, bagging_freq=4,\n",
       "              colsample_bytree=0.8999093468212471,\n",
       "              feature_fraction=0.8707981099370118,\n",
       "              learning_rate=0.30629521899319057, max_depth=8,\n",
       "              min_child_samples=836, min_data_in_leaf=32, n_estimators=294,\n",
       "              num_leaves=19, random_state=666, subsample=0.3296674411363768)"
      ]
     },
     "execution_count": 42,
     "metadata": {},
     "output_type": "execute_result"
    }
   ],
   "source": [
    "cls = lgb.LGBMRegressor(**params)\n",
    "cls.fit(train, target)"
   ]
  },
  {
   "cell_type": "code",
   "execution_count": 43,
   "id": "sporting-enforcement",
   "metadata": {
    "execution": {
     "iopub.execute_input": "2021-07-07T01:32:58.611472Z",
     "iopub.status.busy": "2021-07-07T01:32:58.610733Z",
     "iopub.status.idle": "2021-07-07T01:32:58.735129Z",
     "shell.execute_reply": "2021-07-07T01:32:58.734682Z",
     "shell.execute_reply.started": "2021-07-07T00:15:25.049161Z"
    },
    "papermill": {
     "duration": 0.201839,
     "end_time": "2021-07-07T01:32:58.735250",
     "exception": false,
     "start_time": "2021-07-07T01:32:58.533411",
     "status": "completed"
    },
    "tags": []
   },
   "outputs": [
    {
     "data": {
      "text/plain": [
       "144"
      ]
     },
     "execution_count": 43,
     "metadata": {},
     "output_type": "execute_result"
    }
   ],
   "source": [
    "del train, target, params\n",
    "gc.collect()"
   ]
  },
  {
   "cell_type": "markdown",
   "id": "olive-problem",
   "metadata": {
    "papermill": {
     "duration": 0.074027,
     "end_time": "2021-07-07T01:32:58.883531",
     "exception": false,
     "start_time": "2021-07-07T01:32:58.809504",
     "status": "completed"
    },
    "tags": []
   },
   "source": [
    "# Submit"
   ]
  },
  {
   "cell_type": "code",
   "execution_count": 44,
   "id": "another-fancy",
   "metadata": {
    "execution": {
     "iopub.execute_input": "2021-07-07T01:32:59.053033Z",
     "iopub.status.busy": "2021-07-07T01:32:59.051757Z",
     "iopub.status.idle": "2021-07-07T01:36:16.209453Z",
     "shell.execute_reply": "2021-07-07T01:36:16.208930Z",
     "shell.execute_reply.started": "2021-07-07T00:15:25.155775Z"
    },
    "papermill": {
     "duration": 197.252061,
     "end_time": "2021-07-07T01:36:16.209643",
     "exception": false,
     "start_time": "2021-07-07T01:32:58.957582",
     "status": "completed"
    },
    "tags": []
   },
   "outputs": [],
   "source": [
    "prediction = np.expm1(cls.predict(test))"
   ]
  },
  {
   "cell_type": "code",
   "execution_count": 45,
   "id": "olive-assurance",
   "metadata": {
    "execution": {
     "iopub.execute_input": "2021-07-07T01:36:16.466530Z",
     "iopub.status.busy": "2021-07-07T01:36:16.465757Z",
     "iopub.status.idle": "2021-07-07T01:36:16.469484Z",
     "shell.execute_reply": "2021-07-07T01:36:16.469081Z",
     "shell.execute_reply.started": "2021-07-07T00:18:22.462428Z"
    },
    "papermill": {
     "duration": 0.185436,
     "end_time": "2021-07-07T01:36:16.469623",
     "exception": false,
     "start_time": "2021-07-07T01:36:16.284187",
     "status": "completed"
    },
    "tags": []
   },
   "outputs": [
    {
     "data": {
      "text/plain": [
       "48"
      ]
     },
     "execution_count": 45,
     "metadata": {},
     "output_type": "execute_result"
    }
   ],
   "source": [
    "del test\n",
    "gc.collect()"
   ]
  },
  {
   "cell_type": "code",
   "execution_count": 46,
   "id": "polyphonic-studio",
   "metadata": {
    "execution": {
     "iopub.execute_input": "2021-07-07T01:36:16.632124Z",
     "iopub.status.busy": "2021-07-07T01:36:16.630630Z",
     "iopub.status.idle": "2021-07-07T01:36:16.651770Z",
     "shell.execute_reply": "2021-07-07T01:36:16.652264Z",
     "shell.execute_reply.started": "2021-07-07T00:18:22.608026Z"
    },
    "papermill": {
     "duration": 0.105077,
     "end_time": "2021-07-07T01:36:16.652410",
     "exception": false,
     "start_time": "2021-07-07T01:36:16.547333",
     "status": "completed"
    },
    "tags": []
   },
   "outputs": [
    {
     "data": {
      "text/html": [
       "<div>\n",
       "<style scoped>\n",
       "    .dataframe tbody tr th:only-of-type {\n",
       "        vertical-align: middle;\n",
       "    }\n",
       "\n",
       "    .dataframe tbody tr th {\n",
       "        vertical-align: top;\n",
       "    }\n",
       "\n",
       "    .dataframe thead th {\n",
       "        text-align: right;\n",
       "    }\n",
       "</style>\n",
       "<table border=\"1\" class=\"dataframe\">\n",
       "  <thead>\n",
       "    <tr style=\"text-align: right;\">\n",
       "      <th></th>\n",
       "      <th>test_id</th>\n",
       "      <th>price</th>\n",
       "    </tr>\n",
       "  </thead>\n",
       "  <tbody>\n",
       "    <tr>\n",
       "      <th>0</th>\n",
       "      <td>0</td>\n",
       "      <td>10.271150</td>\n",
       "    </tr>\n",
       "    <tr>\n",
       "      <th>1</th>\n",
       "      <td>1</td>\n",
       "      <td>10.340614</td>\n",
       "    </tr>\n",
       "    <tr>\n",
       "      <th>2</th>\n",
       "      <td>2</td>\n",
       "      <td>29.348034</td>\n",
       "    </tr>\n",
       "    <tr>\n",
       "      <th>3</th>\n",
       "      <td>3</td>\n",
       "      <td>14.755059</td>\n",
       "    </tr>\n",
       "    <tr>\n",
       "      <th>4</th>\n",
       "      <td>4</td>\n",
       "      <td>8.991566</td>\n",
       "    </tr>\n",
       "    <tr>\n",
       "      <th>5</th>\n",
       "      <td>5</td>\n",
       "      <td>9.915995</td>\n",
       "    </tr>\n",
       "    <tr>\n",
       "      <th>6</th>\n",
       "      <td>6</td>\n",
       "      <td>12.190965</td>\n",
       "    </tr>\n",
       "    <tr>\n",
       "      <th>7</th>\n",
       "      <td>7</td>\n",
       "      <td>29.017876</td>\n",
       "    </tr>\n",
       "    <tr>\n",
       "      <th>8</th>\n",
       "      <td>8</td>\n",
       "      <td>54.643252</td>\n",
       "    </tr>\n",
       "    <tr>\n",
       "      <th>9</th>\n",
       "      <td>9</td>\n",
       "      <td>7.350550</td>\n",
       "    </tr>\n",
       "  </tbody>\n",
       "</table>\n",
       "</div>"
      ],
      "text/plain": [
       "   test_id      price\n",
       "0        0  10.271150\n",
       "1        1  10.340614\n",
       "2        2  29.348034\n",
       "3        3  14.755059\n",
       "4        4   8.991566\n",
       "5        5   9.915995\n",
       "6        6  12.190965\n",
       "7        7  29.017876\n",
       "8        8  54.643252\n",
       "9        9   7.350550"
      ]
     },
     "execution_count": 46,
     "metadata": {},
     "output_type": "execute_result"
    }
   ],
   "source": [
    "submit = pd.DataFrame(test_id, columns=['test_id'])\n",
    "submit['price'] = prediction\n",
    "\n",
    "submit.head(10)"
   ]
  },
  {
   "cell_type": "code",
   "execution_count": 47,
   "id": "contrary-ballot",
   "metadata": {
    "execution": {
     "iopub.execute_input": "2021-07-07T01:36:16.904892Z",
     "iopub.status.busy": "2021-07-07T01:36:16.904143Z",
     "iopub.status.idle": "2021-07-07T01:36:16.907621Z",
     "shell.execute_reply": "2021-07-07T01:36:16.908014Z",
     "shell.execute_reply.started": "2021-07-07T00:18:22.653532Z"
    },
    "papermill": {
     "duration": 0.180191,
     "end_time": "2021-07-07T01:36:16.908159",
     "exception": false,
     "start_time": "2021-07-07T01:36:16.727968",
     "status": "completed"
    },
    "tags": []
   },
   "outputs": [
    {
     "data": {
      "text/plain": [
       "40"
      ]
     },
     "execution_count": 47,
     "metadata": {},
     "output_type": "execute_result"
    }
   ],
   "source": [
    "del test_id, prediction\n",
    "gc.collect()"
   ]
  },
  {
   "cell_type": "markdown",
   "id": "italian-spider",
   "metadata": {
    "papermill": {
     "duration": 0.075748,
     "end_time": "2021-07-07T01:36:17.059854",
     "exception": false,
     "start_time": "2021-07-07T01:36:16.984106",
     "status": "completed"
    },
    "tags": []
   },
   "source": [
    "Submissionファイルは、/kaggle下ではなく、/kaggle/working下に作成する。<br>\n",
    "また、submissionのCSVファイルについて、index=Falseにする。"
   ]
  },
  {
   "cell_type": "code",
   "execution_count": 48,
   "id": "early-friday",
   "metadata": {
    "execution": {
     "iopub.execute_input": "2021-07-07T01:36:17.215896Z",
     "iopub.status.busy": "2021-07-07T01:36:17.215318Z",
     "iopub.status.idle": "2021-07-07T01:36:30.317254Z",
     "shell.execute_reply": "2021-07-07T01:36:30.318445Z",
     "shell.execute_reply.started": "2021-07-07T00:18:22.788996Z"
    },
    "papermill": {
     "duration": 13.182837,
     "end_time": "2021-07-07T01:36:30.318755",
     "exception": false,
     "start_time": "2021-07-07T01:36:17.135918",
     "status": "completed"
    },
    "tags": []
   },
   "outputs": [],
   "source": [
    "submit.to_csv('./submission.csv', index=False)"
   ]
  }
 ],
 "metadata": {
  "kernelspec": {
   "display_name": "Python 3",
   "language": "python",
   "name": "python3"
  },
  "language_info": {
   "codemirror_mode": {
    "name": "ipython",
    "version": 3
   },
   "file_extension": ".py",
   "mimetype": "text/x-python",
   "name": "python",
   "nbconvert_exporter": "python",
   "pygments_lexer": "ipython3",
   "version": "3.7.9"
  },
  "papermill": {
   "default_parameters": {},
   "duration": 4511.62283,
   "end_time": "2021-07-07T01:36:32.070991",
   "environment_variables": {},
   "exception": null,
   "input_path": "__notebook__.ipynb",
   "output_path": "__notebook__.ipynb",
   "parameters": {},
   "start_time": "2021-07-07T00:21:20.448161",
   "version": "2.3.2"
  }
 },
 "nbformat": 4,
 "nbformat_minor": 5
}
