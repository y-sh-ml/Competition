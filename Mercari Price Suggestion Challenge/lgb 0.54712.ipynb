{
 "cells": [
  {
   "cell_type": "markdown",
   "id": "centered-shade",
   "metadata": {
    "execution": {
     "iopub.execute_input": "2021-06-24T03:23:16.409576Z",
     "iopub.status.busy": "2021-06-24T03:23:16.409199Z",
     "iopub.status.idle": "2021-06-24T03:23:16.414226Z",
     "shell.execute_reply": "2021-06-24T03:23:16.413341Z",
     "shell.execute_reply.started": "2021-06-24T03:23:16.409545Z"
    },
    "papermill": {
     "duration": 0.040444,
     "end_time": "2021-07-05T05:55:10.886209",
     "exception": false,
     "start_time": "2021-07-05T05:55:10.845765",
     "status": "completed"
    },
    "tags": []
   },
   "source": [
    "# Competition"
   ]
  },
  {
   "cell_type": "markdown",
   "id": "cellular-malta",
   "metadata": {
    "papermill": {
     "duration": 0.038877,
     "end_time": "2021-07-05T05:55:10.964059",
     "exception": false,
     "start_time": "2021-07-05T05:55:10.925182",
     "status": "completed"
    },
    "tags": []
   },
   "source": [
    "[Mercari Price Suggestion Challenge](https://www.kaggle.com/c/mercari-price-suggestion-challenge)"
   ]
  },
  {
   "cell_type": "markdown",
   "id": "proud-healthcare",
   "metadata": {
    "papermill": {
     "duration": 0.03906,
     "end_time": "2021-07-05T05:55:11.041382",
     "exception": false,
     "start_time": "2021-07-05T05:55:11.002322",
     "status": "completed"
    },
    "tags": []
   },
   "source": [
    "# Overview"
   ]
  },
  {
   "cell_type": "markdown",
   "id": "described-paper",
   "metadata": {
    "papermill": {
     "duration": 0.038857,
     "end_time": "2021-07-05T05:55:11.118685",
     "exception": false,
     "start_time": "2021-07-05T05:55:11.079828",
     "status": "completed"
    },
    "tags": []
   },
   "source": [
    "メルカリに出品されている商品データ（カテゴリーやブランドなど）と価格をもとに<br>\n",
    "商品データから価格を予測するモデルを作成する。"
   ]
  },
  {
   "cell_type": "markdown",
   "id": "sublime-uganda",
   "metadata": {
    "papermill": {
     "duration": 0.038186,
     "end_time": "2021-07-05T05:55:11.195997",
     "exception": false,
     "start_time": "2021-07-05T05:55:11.157811",
     "status": "completed"
    },
    "tags": []
   },
   "source": [
    "# Module"
   ]
  },
  {
   "cell_type": "code",
   "execution_count": 1,
   "id": "vocal-television",
   "metadata": {
    "execution": {
     "iopub.execute_input": "2021-07-05T05:55:11.280018Z",
     "iopub.status.busy": "2021-07-05T05:55:11.279582Z",
     "iopub.status.idle": "2021-07-05T05:55:13.278310Z",
     "shell.execute_reply": "2021-07-05T05:55:13.277656Z",
     "shell.execute_reply.started": "2021-07-05T05:24:28.364800Z"
    },
    "papermill": {
     "duration": 2.044064,
     "end_time": "2021-07-05T05:55:13.278431",
     "exception": false,
     "start_time": "2021-07-05T05:55:11.234367",
     "status": "completed"
    },
    "tags": []
   },
   "outputs": [
    {
     "data": {
      "text/html": [
       "<style type='text/css'>\n",
       ".datatable table.frame { margin-bottom: 0; }\n",
       ".datatable table.frame thead { border-bottom: none; }\n",
       ".datatable table.frame tr.coltypes td {  color: #FFFFFF;  line-height: 6px;  padding: 0 0.5em;}\n",
       ".datatable .bool    { background: #DDDD99; }\n",
       ".datatable .object  { background: #565656; }\n",
       ".datatable .int     { background: #5D9E5D; }\n",
       ".datatable .float   { background: #4040CC; }\n",
       ".datatable .str     { background: #CC4040; }\n",
       ".datatable .row_index {  background: var(--jp-border-color3);  border-right: 1px solid var(--jp-border-color0);  color: var(--jp-ui-font-color3);  font-size: 9px;}\n",
       ".datatable .frame tr.coltypes .row_index {  background: var(--jp-border-color0);}\n",
       ".datatable th:nth-child(2) { padding-left: 12px; }\n",
       ".datatable .hellipsis {  color: var(--jp-cell-editor-border-color);}\n",
       ".datatable .vellipsis {  background: var(--jp-layout-color0);  color: var(--jp-cell-editor-border-color);}\n",
       ".datatable .na {  color: var(--jp-cell-editor-border-color);  font-size: 80%;}\n",
       ".datatable .footer { font-size: 9px; }\n",
       ".datatable .frame_dimensions {  background: var(--jp-border-color3);  border-top: 1px solid var(--jp-border-color0);  color: var(--jp-ui-font-color3);  display: inline-block;  opacity: 0.6;  padding: 1px 10px 1px 5px;}\n",
       "</style>\n"
      ],
      "text/plain": [
       "<IPython.core.display.HTML object>"
      ]
     },
     "metadata": {},
     "output_type": "display_data"
    }
   ],
   "source": [
    "import gc\n",
    "import sys\n",
    "import optuna\n",
    "import datetime\n",
    "import warnings\n",
    "import matplotlib\n",
    "import numpy as np\n",
    "import pandas as pd\n",
    "import seaborn as sns\n",
    "import lightgbm as lgb\n",
    "import matplotlib.pyplot as plt\n",
    "\n",
    "from scipy.sparse import csr_matrix, hstack\n",
    "from sklearn.preprocessing import LabelBinarizer\n",
    "from sklearn.metrics import mean_squared_error\n",
    "from sklearn.model_selection import train_test_split\n",
    "from pandas.api.types import is_categorical_dtype\n",
    "from pandas.api.types import is_datetime64_any_dtype as is_datetime\n",
    "from sklearn.feature_extraction.text import CountVectorizer, TfidfVectorizer"
   ]
  },
  {
   "cell_type": "markdown",
   "id": "black-shock",
   "metadata": {
    "papermill": {
     "duration": 0.039569,
     "end_time": "2021-07-05T05:55:13.358188",
     "exception": false,
     "start_time": "2021-07-05T05:55:13.318619",
     "status": "completed"
    },
    "tags": []
   },
   "source": [
    "# Unfreeze"
   ]
  },
  {
   "cell_type": "markdown",
   "id": "extreme-glossary",
   "metadata": {
    "papermill": {
     "duration": 0.03901,
     "end_time": "2021-07-05T05:55:13.437764",
     "exception": false,
     "start_time": "2021-07-05T05:55:13.398754",
     "status": "completed"
    },
    "tags": []
   },
   "source": [
    "Kaggleで用意されたデータが、7z形式になっているため<br>\n",
    "解凍の処理から行っていく。"
   ]
  },
  {
   "cell_type": "code",
   "execution_count": 2,
   "id": "caroline-triumph",
   "metadata": {
    "_kg_hide-output": true,
    "execution": {
     "iopub.execute_input": "2021-07-05T05:55:13.520844Z",
     "iopub.status.busy": "2021-07-05T05:55:13.520406Z",
     "iopub.status.idle": "2021-07-05T05:55:13.526948Z",
     "shell.execute_reply": "2021-07-05T05:55:13.527378Z",
     "shell.execute_reply.started": "2021-07-05T05:24:30.576124Z"
    },
    "papermill": {
     "duration": 0.050498,
     "end_time": "2021-07-05T05:55:13.527520",
     "exception": false,
     "start_time": "2021-07-05T05:55:13.477022",
     "status": "completed"
    },
    "tags": []
   },
   "outputs": [
    {
     "name": "stdout",
     "output_type": "stream",
     "text": [
      "/kaggle/input/mercari-price-suggestion-challenge/train.tsv.7z\n",
      "/kaggle/input/mercari-price-suggestion-challenge/test.tsv.7z\n",
      "/kaggle/input/mercari-price-suggestion-challenge/sample_submission_stg2.csv.zip\n",
      "/kaggle/input/mercari-price-suggestion-challenge/test_stg2.tsv.zip\n",
      "/kaggle/input/mercari-price-suggestion-challenge/sample_submission.csv.7z\n"
     ]
    }
   ],
   "source": [
    "import os\n",
    "for dirname, _, filenames in os.walk('/kaggle/input'):\n",
    "    for filename in filenames:\n",
    "        print(os.path.join(dirname, filename))"
   ]
  },
  {
   "cell_type": "markdown",
   "id": "exempt-dimension",
   "metadata": {
    "papermill": {
     "duration": 0.039966,
     "end_time": "2021-07-05T05:55:13.608364",
     "exception": false,
     "start_time": "2021-07-05T05:55:13.568398",
     "status": "completed"
    },
    "tags": []
   },
   "source": [
    "下記は、SettingsのInternetをONにして実行しないと、エラーになる。"
   ]
  },
  {
   "cell_type": "code",
   "execution_count": 3,
   "id": "proper-fraction",
   "metadata": {
    "_kg_hide-output": true,
    "execution": {
     "iopub.execute_input": "2021-07-05T05:55:13.707033Z",
     "iopub.status.busy": "2021-07-05T05:55:13.696380Z",
     "iopub.status.idle": "2021-07-05T05:55:27.423793Z",
     "shell.execute_reply": "2021-07-05T05:55:27.423271Z",
     "shell.execute_reply.started": "2021-07-05T05:24:30.587484Z"
    },
    "papermill": {
     "duration": 13.77615,
     "end_time": "2021-07-05T05:55:27.423923",
     "exception": false,
     "start_time": "2021-07-05T05:55:13.647773",
     "status": "completed"
    },
    "tags": []
   },
   "outputs": [
    {
     "name": "stdout",
     "output_type": "stream",
     "text": [
      "\r\n",
      "\r\n",
      "\r\n",
      "Suggested packages:\r\n",
      "  p7zip-full\r\n",
      "The following NEW packages will be installed:\r\n",
      "  p7zip\r\n",
      "0 upgraded, 1 newly installed, 0 to remove and 23 not upgraded.\r\n",
      "Need to get 358 kB of archives.\r\n",
      "After this operation, 996 kB of additional disk space will be used.\r\n",
      "Get:1 http://archive.ubuntu.com/ubuntu bionic/universe amd64 p7zip amd64 16.02+dfsg-6 [358 kB]\r\n",
      "Fetched 358 kB in 0s (1349 kB/s)\r\n",
      "debconf: delaying package configuration, since apt-utils is not installed\r\n",
      "Selecting previously unselected package p7zip.\r\n",
      "(Reading database ... 95165 files and directories currently installed.)\r\n",
      "Preparing to unpack .../p7zip_16.02+dfsg-6_amd64.deb ...\r\n",
      "Unpacking p7zip (16.02+dfsg-6) ...\r\n",
      "Setting up p7zip (16.02+dfsg-6) ...\r\n",
      "\r\n",
      "7-Zip (a) [64] 16.02 : Copyright (c) 1999-2016 Igor Pavlov : 2016-05-21\r\n",
      "p7zip Version 16.02 (locale=C.UTF-8,Utf16=on,HugeFiles=on,64 bits,4 CPUs AMD EPYC 7B12 (830F10),ASM,AES-NI)\r\n",
      "\r\n",
      "Scanning the drive for archives:\r\n",
      "  0M Scan /kaggle/input/mercari-price-suggestion-challenge/\b\b\b\b\b\b\b\b\b\b\b\b\b\b\b\b\b\b\b\b\b\b\b\b\b\b\b\b\b\b\b\b\b\b\b\b\b\b\b\b\b\b\b\b\b\b\b\b\b\b\b\b\b\b\b\b\b\b\b                                                           \b\b\b\b\b\b\b\b\b\b\b\b\b\b\b\b\b\b\b\b\b\b\b\b\b\b\b\b\b\b\b\b\b\b\b\b\b\b\b\b\b\b\b\b\b\b\b\b\b\b\b\b\b\b\b\b\b\b\b1 file, 77912192 bytes (75 MiB)\r\n",
      "\r\n",
      "Extracting archive: /kaggle/input/mercari-price-suggestion-challenge/train.tsv.7z\r\n",
      "--\r\n",
      "Path = /kaggle/input/mercari-price-suggestion-challenge/train.tsv.7z\r\n",
      "Type = 7z\r\n",
      "Physical Size = 77912192\r\n",
      "Headers Size = 122\r\n",
      "Method = LZMA2:24\r\n",
      "Solid = -\r\n",
      "Blocks = 1\r\n",
      "\r\n",
      "  0%\b\b\b\b    \b\b\b\b  2% - train.tsv\b\b\b\b\b\b\b\b\b\b\b\b\b\b\b\b                \b\b\b\b\b\b\b\b\b\b\b\b\b\b\b\b  6% - train.tsv\b\b\b\b\b\b\b\b\b\b\b\b\b\b\b\b                \b\b\b\b\b\b\b\b\b\b\b\b\b\b\b\b  9% - train.tsv\b\b\b\b\b\b\b\b\b\b\b\b\b\b\b\b                \b\b\b\b\b\b\b\b\b\b\b\b\b\b\b\b 13% - train.tsv\b\b\b\b\b\b\b\b\b\b\b\b\b\b\b\b                \b\b\b\b\b\b\b\b\b\b\b\b\b\b\b\b 17% - train.tsv\b\b\b\b\b\b\b\b\b\b\b\b\b\b\b\b                \b\b\b\b\b\b\b\b\b\b\b\b\b\b\b\b 21% - train.tsv\b\b\b\b\b\b\b\b\b\b\b\b\b\b\b\b                \b\b\b\b\b\b\b\b\b\b\b\b\b\b\b\b 24% - train.tsv\b\b\b\b\b\b\b\b\b\b\b\b\b\b\b\b                \b\b\b\b\b\b\b\b\b\b\b\b\b\b\b\b 28% - train.tsv\b\b\b\b\b\b\b\b\b\b\b\b\b\b\b\b                \b\b\b\b\b\b\b\b\b\b\b\b\b\b\b\b 32% - train.tsv\b\b\b\b\b\b\b\b\b\b\b\b\b\b\b\b                \b\b\b\b\b\b\b\b\b\b\b\b\b\b\b\b 36% - train.tsv\b\b\b\b\b\b\b\b\b\b\b\b\b\b\b\b                \b\b\b\b\b\b\b\b\b\b\b\b\b\b\b\b 39% - train.tsv\b\b\b\b\b\b\b\b\b\b\b\b\b\b\b\b                \b\b\b\b\b\b\b\b\b\b\b\b\b\b\b\b 43% - train.tsv\b\b\b\b\b\b\b\b\b\b\b\b\b\b\b\b                \b\b\b\b\b\b\b\b\b\b\b\b\b\b\b\b 46% - train.tsv\b\b\b\b\b\b\b\b\b\b\b\b\b\b\b\b                \b\b\b\b\b\b\b\b\b\b\b\b\b\b\b\b 50% - train.tsv\b\b\b\b\b\b\b\b\b\b\b\b\b\b\b\b                \b\b\b\b\b\b\b\b\b\b\b\b\b\b\b\b 54% - train.tsv\b\b\b\b\b\b\b\b\b\b\b\b\b\b\b\b                \b\b\b\b\b\b\b\b\b\b\b\b\b\b\b\b 58% - train.tsv\b\b\b\b\b\b\b\b\b\b\b\b\b\b\b\b                \b\b\b\b\b\b\b\b\b\b\b\b\b\b\b\b 62% - train.tsv\b\b\b\b\b\b\b\b\b\b\b\b\b\b\b\b                \b\b\b\b\b\b\b\b\b\b\b\b\b\b\b\b 65% - train.tsv\b\b\b\b\b\b\b\b\b\b\b\b\b\b\b\b                \b\b\b\b\b\b\b\b\b\b\b\b\b\b\b\b 69% - train.tsv\b\b\b\b\b\b\b\b\b\b\b\b\b\b\b\b                \b\b\b\b\b\b\b\b\b\b\b\b\b\b\b\b 73% - train.tsv\b\b\b\b\b\b\b\b\b\b\b\b\b\b\b\b                \b\b\b\b\b\b\b\b\b\b\b\b\b\b\b\b 76% - train.tsv\b\b\b\b\b\b\b\b\b\b\b\b\b\b\b\b                \b\b\b\b\b\b\b\b\b\b\b\b\b\b\b\b 80% - train.tsv\b\b\b\b\b\b\b\b\b\b\b\b\b\b\b\b                \b\b\b\b\b\b\b\b\b\b\b\b\b\b\b\b 84% - train.tsv\b\b\b\b\b\b\b\b\b\b\b\b\b\b\b\b                \b\b\b\b\b\b\b\b\b\b\b\b\b\b\b\b 88% - train.tsv\b\b\b\b\b\b\b\b\b\b\b\b\b\b\b\b                \b\b\b\b\b\b\b\b\b\b\b\b\b\b\b\b 91% - train.tsv\b\b\b\b\b\b\b\b\b\b\b\b\b\b\b\b                \b\b\b\b\b\b\b\b\b\b\b\b\b\b\b\b 94% - train.tsv\b\b\b\b\b\b\b\b\b\b\b\b\b\b\b\b                \b\b\b\b\b\b\b\b\b\b\b\b\b\b\b\b 98% - train.tsv\b\b\b\b\b\b\b\b\b\b\b\b\b\b\b\b                \b\b\b\b\b\b\b\b\b\b\b\b\b\b\b\bEverything is Ok\r\n",
      "\r\n",
      "Size:       337809843\r\n",
      "Compressed: 77912192\r\n",
      "\r\n",
      "7-Zip (a) [64] 16.02 : Copyright (c) 1999-2016 Igor Pavlov : 2016-05-21\r\n",
      "p7zip Version 16.02 (locale=C.UTF-8,Utf16=on,HugeFiles=on,64 bits,4 CPUs AMD EPYC 7B12 (830F10),ASM,AES-NI)\r\n",
      "\r\n",
      "Scanning the drive for archives:\r\n",
      "  0M Scan /kaggle/input/mercari-price-suggestion-challenge/\b\b\b\b\b\b\b\b\b\b\b\b\b\b\b\b\b\b\b\b\b\b\b\b\b\b\b\b\b\b\b\b\b\b\b\b\b\b\b\b\b\b\b\b\b\b\b\b\b\b\b\b\b\b\b\b\b\b\b                                                           \b\b\b\b\b\b\b\b\b\b\b\b\b\b\b\b\b\b\b\b\b\b\b\b\b\b\b\b\b\b\b\b\b\b\b\b\b\b\b\b\b\b\b\b\b\b\b\b\b\b\b\b\b\b\b\b\b\b\b1 file, 35617013 bytes (34 MiB)\r\n",
      "\r\n",
      "Extracting archive: /kaggle/input/mercari-price-suggestion-challenge/test.tsv.7z\r\n",
      "--\r\n",
      "Path = /kaggle/input/mercari-price-suggestion-challenge/test.tsv.7z\r\n",
      "Type = 7z\r\n",
      "Physical Size = 35617013\r\n",
      "Headers Size = 122\r\n",
      "Method = LZMA2:24\r\n",
      "Solid = -\r\n",
      "Blocks = 1\r\n",
      "\r\n",
      "  0%\b\b\b\b    \b\b\b\b  5% - test.tsv\b\b\b\b\b\b\b\b\b\b\b\b\b\b\b               \b\b\b\b\b\b\b\b\b\b\b\b\b\b\b 13% - test.tsv\b\b\b\b\b\b\b\b\b\b\b\b\b\b\b               \b\b\b\b\b\b\b\b\b\b\b\b\b\b\b 21% - test.tsv\b\b\b\b\b\b\b\b\b\b\b\b\b\b\b               \b\b\b\b\b\b\b\b\b\b\b\b\b\b\b 29% - test.tsv\b\b\b\b\b\b\b\b\b\b\b\b\b\b\b               \b\b\b\b\b\b\b\b\b\b\b\b\b\b\b 38% - test.tsv\b\b\b\b\b\b\b\b\b\b\b\b\b\b\b               \b\b\b\b\b\b\b\b\b\b\b\b\b\b\b 46% - test.tsv\b\b\b\b\b\b\b\b\b\b\b\b\b\b\b               \b\b\b\b\b\b\b\b\b\b\b\b\b\b\b 52% - test.tsv\b\b\b\b\b\b\b\b\b\b\b\b\b\b\b               \b\b\b\b\b\b\b\b\b\b\b\b\b\b\b 59% - test.tsv\b\b\b\b\b\b\b\b\b\b\b\b\b\b\b               \b\b\b\b\b\b\b\b\b\b\b\b\b\b\b 67% - test.tsv\b\b\b\b\b\b\b\b\b\b\b\b\b\b\b               \b\b\b\b\b\b\b\b\b\b\b\b\b\b\b 76% - test.tsv\b\b\b\b\b\b\b\b\b\b\b\b\b\b\b               \b\b\b\b\b\b\b\b\b\b\b\b\b\b\b 84% - test.tsv\b\b\b\b\b\b\b\b\b\b\b\b\b\b\b               \b\b\b\b\b\b\b\b\b\b\b\b\b\b\b 92% - test.tsv\b\b\b\b\b\b\b\b\b\b\b\b\b\b\b               \b\b\b\b\b\b\b\b\b\b\b\b\b\b\b100% 1\b\b\b\b\b\b      \b\b\b\b\b\bEverything is Ok\r\n",
      "\r\n",
      "Size:       154222160\r\n",
      "Compressed: 35617013\r\n",
      "\r\n",
      "7-Zip (a) [64] 16.02 : Copyright (c) 1999-2016 Igor Pavlov : 2016-05-21\r\n",
      "p7zip Version 16.02 (locale=C.UTF-8,Utf16=on,HugeFiles=on,64 bits,4 CPUs AMD EPYC 7B12 (830F10),ASM,AES-NI)\r\n",
      "\r\n",
      "Scanning the drive for archives:\r\n",
      "  0M Scan /kaggle/input/mercari-price-suggestion-challenge/\b\b\b\b\b\b\b\b\b\b\b\b\b\b\b\b\b\b\b\b\b\b\b\b\b\b\b\b\b\b\b\b\b\b\b\b\b\b\b\b\b\b\b\b\b\b\b\b\b\b\b\b\b\b\b\b\b\b\b                                                           \b\b\b\b\b\b\b\b\b\b\b\b\b\b\b\b\b\b\b\b\b\b\b\b\b\b\b\b\b\b\b\b\b\b\b\b\b\b\b\b\b\b\b\b\b\b\b\b\b\b\b\b\b\b\b\b\b\b\b1 file, 174228 bytes (171 KiB)\r\n",
      "\r\n",
      "Extracting archive: /kaggle/input/mercari-price-suggestion-challenge/sample_submission.csv.7z\r\n",
      "--\r\n",
      "Path = /kaggle/input/mercari-price-suggestion-challenge/sample_submission.csv.7z\r\n",
      "Type = 7z\r\n",
      "Physical Size = 174228\r\n",
      "Headers Size = 143\r\n",
      "Method = LZMA:12m\r\n",
      "Solid = -\r\n",
      "Blocks = 1\r\n",
      "\r\n",
      "  0%\b\b\b\b    \b\b\b\bEverything is Ok\r\n",
      "\r\n",
      "Size:       9595930\r\n",
      "Compressed: 174228\r\n"
     ]
    }
   ],
   "source": [
    "!apt-get install p7zip\n",
    "!p7zip -d -f -k /kaggle/input/mercari-price-suggestion-challenge/train.tsv.7z\n",
    "!p7zip -d -f -k /kaggle/input/mercari-price-suggestion-challenge/test.tsv.7z\n",
    "!p7zip -d -f -k /kaggle/input/mercari-price-suggestion-challenge/sample_submission.csv.7z"
   ]
  },
  {
   "cell_type": "code",
   "execution_count": 4,
   "id": "expired-weapon",
   "metadata": {
    "_kg_hide-output": true,
    "execution": {
     "iopub.execute_input": "2021-07-05T05:55:27.605386Z",
     "iopub.status.busy": "2021-07-05T05:55:27.604764Z",
     "iopub.status.idle": "2021-07-05T05:55:36.084203Z",
     "shell.execute_reply": "2021-07-05T05:55:36.083725Z",
     "shell.execute_reply.started": "2021-07-05T05:24:49.216872Z"
    },
    "papermill": {
     "duration": 8.571958,
     "end_time": "2021-07-05T05:55:36.084303",
     "exception": false,
     "start_time": "2021-07-05T05:55:27.512345",
     "status": "completed"
    },
    "tags": []
   },
   "outputs": [
    {
     "name": "stdout",
     "output_type": "stream",
     "text": [
      "Archive:  /kaggle/input/mercari-price-suggestion-challenge/sample_submission_stg2.csv.zip\r\n",
      "  inflating: sample_submission_stg2.csv  \r\n",
      "Archive:  /kaggle/input/mercari-price-suggestion-challenge/test_stg2.tsv.zip\r\n",
      "  inflating: test_stg2.tsv           \r\n"
     ]
    }
   ],
   "source": [
    "!unzip /kaggle/input/mercari-price-suggestion-challenge/sample_submission_stg2.csv.zip\n",
    "!unzip /kaggle/input/mercari-price-suggestion-challenge/test_stg2.tsv.zip"
   ]
  },
  {
   "cell_type": "markdown",
   "id": "understood-anthropology",
   "metadata": {
    "papermill": {
     "duration": 0.05698,
     "end_time": "2021-07-05T05:55:36.199683",
     "exception": false,
     "start_time": "2021-07-05T05:55:36.142703",
     "status": "completed"
    },
    "tags": []
   },
   "source": [
    "# Datasets"
   ]
  },
  {
   "cell_type": "code",
   "execution_count": 5,
   "id": "naval-officer",
   "metadata": {
    "execution": {
     "iopub.execute_input": "2021-07-05T05:55:36.319849Z",
     "iopub.status.busy": "2021-07-05T05:55:36.318820Z",
     "iopub.status.idle": "2021-07-05T05:55:41.013210Z",
     "shell.execute_reply": "2021-07-05T05:55:41.012274Z",
     "shell.execute_reply.started": "2021-07-05T05:25:00.833178Z"
    },
    "papermill": {
     "duration": 4.756181,
     "end_time": "2021-07-05T05:55:41.013337",
     "exception": false,
     "start_time": "2021-07-05T05:55:36.257156",
     "status": "completed"
    },
    "tags": []
   },
   "outputs": [
    {
     "name": "stdout",
     "output_type": "stream",
     "text": [
      "(1482535, 8)\n"
     ]
    },
    {
     "data": {
      "text/html": [
       "<div>\n",
       "<style scoped>\n",
       "    .dataframe tbody tr th:only-of-type {\n",
       "        vertical-align: middle;\n",
       "    }\n",
       "\n",
       "    .dataframe tbody tr th {\n",
       "        vertical-align: top;\n",
       "    }\n",
       "\n",
       "    .dataframe thead th {\n",
       "        text-align: right;\n",
       "    }\n",
       "</style>\n",
       "<table border=\"1\" class=\"dataframe\">\n",
       "  <thead>\n",
       "    <tr style=\"text-align: right;\">\n",
       "      <th></th>\n",
       "      <th>train_id</th>\n",
       "      <th>name</th>\n",
       "      <th>item_condition_id</th>\n",
       "      <th>category_name</th>\n",
       "      <th>brand_name</th>\n",
       "      <th>price</th>\n",
       "      <th>shipping</th>\n",
       "      <th>item_description</th>\n",
       "    </tr>\n",
       "  </thead>\n",
       "  <tbody>\n",
       "    <tr>\n",
       "      <th>0</th>\n",
       "      <td>0</td>\n",
       "      <td>MLB Cincinnati Reds T Shirt Size XL</td>\n",
       "      <td>3</td>\n",
       "      <td>Men/Tops/T-shirts</td>\n",
       "      <td>NaN</td>\n",
       "      <td>10.0</td>\n",
       "      <td>1</td>\n",
       "      <td>No description yet</td>\n",
       "    </tr>\n",
       "    <tr>\n",
       "      <th>1</th>\n",
       "      <td>1</td>\n",
       "      <td>Razer BlackWidow Chroma Keyboard</td>\n",
       "      <td>3</td>\n",
       "      <td>Electronics/Computers &amp; Tablets/Components &amp; P...</td>\n",
       "      <td>Razer</td>\n",
       "      <td>52.0</td>\n",
       "      <td>0</td>\n",
       "      <td>This keyboard is in great condition and works ...</td>\n",
       "    </tr>\n",
       "    <tr>\n",
       "      <th>2</th>\n",
       "      <td>2</td>\n",
       "      <td>AVA-VIV Blouse</td>\n",
       "      <td>1</td>\n",
       "      <td>Women/Tops &amp; Blouses/Blouse</td>\n",
       "      <td>Target</td>\n",
       "      <td>10.0</td>\n",
       "      <td>1</td>\n",
       "      <td>Adorable top with a hint of lace and a key hol...</td>\n",
       "    </tr>\n",
       "    <tr>\n",
       "      <th>3</th>\n",
       "      <td>3</td>\n",
       "      <td>Leather Horse Statues</td>\n",
       "      <td>1</td>\n",
       "      <td>Home/Home Décor/Home Décor Accents</td>\n",
       "      <td>NaN</td>\n",
       "      <td>35.0</td>\n",
       "      <td>1</td>\n",
       "      <td>New with tags. Leather horses. Retail for [rm]...</td>\n",
       "    </tr>\n",
       "    <tr>\n",
       "      <th>4</th>\n",
       "      <td>4</td>\n",
       "      <td>24K GOLD plated rose</td>\n",
       "      <td>1</td>\n",
       "      <td>Women/Jewelry/Necklaces</td>\n",
       "      <td>NaN</td>\n",
       "      <td>44.0</td>\n",
       "      <td>0</td>\n",
       "      <td>Complete with certificate of authenticity</td>\n",
       "    </tr>\n",
       "    <tr>\n",
       "      <th>5</th>\n",
       "      <td>5</td>\n",
       "      <td>Bundled items requested for Ruie</td>\n",
       "      <td>3</td>\n",
       "      <td>Women/Other/Other</td>\n",
       "      <td>NaN</td>\n",
       "      <td>59.0</td>\n",
       "      <td>0</td>\n",
       "      <td>Banana republic bottoms, Candies skirt with ma...</td>\n",
       "    </tr>\n",
       "    <tr>\n",
       "      <th>6</th>\n",
       "      <td>6</td>\n",
       "      <td>Acacia pacific tides santorini top</td>\n",
       "      <td>3</td>\n",
       "      <td>Women/Swimwear/Two-Piece</td>\n",
       "      <td>Acacia Swimwear</td>\n",
       "      <td>64.0</td>\n",
       "      <td>0</td>\n",
       "      <td>Size small but straps slightly shortened to fi...</td>\n",
       "    </tr>\n",
       "    <tr>\n",
       "      <th>7</th>\n",
       "      <td>7</td>\n",
       "      <td>Girls cheer and tumbling bundle of 7</td>\n",
       "      <td>3</td>\n",
       "      <td>Sports &amp; Outdoors/Apparel/Girls</td>\n",
       "      <td>Soffe</td>\n",
       "      <td>6.0</td>\n",
       "      <td>1</td>\n",
       "      <td>You get three pairs of Sophie cheer shorts siz...</td>\n",
       "    </tr>\n",
       "    <tr>\n",
       "      <th>8</th>\n",
       "      <td>8</td>\n",
       "      <td>Girls Nike Pro shorts</td>\n",
       "      <td>3</td>\n",
       "      <td>Sports &amp; Outdoors/Apparel/Girls</td>\n",
       "      <td>Nike</td>\n",
       "      <td>19.0</td>\n",
       "      <td>0</td>\n",
       "      <td>Girls Size small Plus green. Three shorts total.</td>\n",
       "    </tr>\n",
       "    <tr>\n",
       "      <th>9</th>\n",
       "      <td>9</td>\n",
       "      <td>Porcelain clown doll checker pants VTG</td>\n",
       "      <td>3</td>\n",
       "      <td>Vintage &amp; Collectibles/Collectibles/Doll</td>\n",
       "      <td>NaN</td>\n",
       "      <td>8.0</td>\n",
       "      <td>0</td>\n",
       "      <td>I realized his pants are on backwards after th...</td>\n",
       "    </tr>\n",
       "  </tbody>\n",
       "</table>\n",
       "</div>"
      ],
      "text/plain": [
       "   train_id                                    name  item_condition_id  \\\n",
       "0         0     MLB Cincinnati Reds T Shirt Size XL                  3   \n",
       "1         1        Razer BlackWidow Chroma Keyboard                  3   \n",
       "2         2                          AVA-VIV Blouse                  1   \n",
       "3         3                   Leather Horse Statues                  1   \n",
       "4         4                    24K GOLD plated rose                  1   \n",
       "5         5        Bundled items requested for Ruie                  3   \n",
       "6         6      Acacia pacific tides santorini top                  3   \n",
       "7         7    Girls cheer and tumbling bundle of 7                  3   \n",
       "8         8                   Girls Nike Pro shorts                  3   \n",
       "9         9  Porcelain clown doll checker pants VTG                  3   \n",
       "\n",
       "                                       category_name       brand_name  price  \\\n",
       "0                                  Men/Tops/T-shirts              NaN   10.0   \n",
       "1  Electronics/Computers & Tablets/Components & P...            Razer   52.0   \n",
       "2                        Women/Tops & Blouses/Blouse           Target   10.0   \n",
       "3                 Home/Home Décor/Home Décor Accents              NaN   35.0   \n",
       "4                            Women/Jewelry/Necklaces              NaN   44.0   \n",
       "5                                  Women/Other/Other              NaN   59.0   \n",
       "6                           Women/Swimwear/Two-Piece  Acacia Swimwear   64.0   \n",
       "7                    Sports & Outdoors/Apparel/Girls            Soffe    6.0   \n",
       "8                    Sports & Outdoors/Apparel/Girls             Nike   19.0   \n",
       "9           Vintage & Collectibles/Collectibles/Doll              NaN    8.0   \n",
       "\n",
       "   shipping                                   item_description  \n",
       "0         1                                 No description yet  \n",
       "1         0  This keyboard is in great condition and works ...  \n",
       "2         1  Adorable top with a hint of lace and a key hol...  \n",
       "3         1  New with tags. Leather horses. Retail for [rm]...  \n",
       "4         0          Complete with certificate of authenticity  \n",
       "5         0  Banana republic bottoms, Candies skirt with ma...  \n",
       "6         0  Size small but straps slightly shortened to fi...  \n",
       "7         1  You get three pairs of Sophie cheer shorts siz...  \n",
       "8         0   Girls Size small Plus green. Three shorts total.  \n",
       "9         0  I realized his pants are on backwards after th...  "
      ]
     },
     "execution_count": 5,
     "metadata": {},
     "output_type": "execute_result"
    }
   ],
   "source": [
    "train = pd.read_csv('train.tsv', sep='\\t')\n",
    "\n",
    "print(train.shape)\n",
    "train.head(10)"
   ]
  },
  {
   "cell_type": "code",
   "execution_count": 6,
   "id": "covered-adjustment",
   "metadata": {
    "_kg_hide-input": true,
    "execution": {
     "iopub.execute_input": "2021-07-05T05:55:41.203260Z",
     "iopub.status.busy": "2021-07-05T05:55:41.202654Z",
     "iopub.status.idle": "2021-07-05T05:55:41.206885Z",
     "shell.execute_reply": "2021-07-05T05:55:41.206506Z",
     "shell.execute_reply.started": "2021-07-05T05:25:07.024982Z"
    },
    "papermill": {
     "duration": 0.102596,
     "end_time": "2021-07-05T05:55:41.206978",
     "exception": false,
     "start_time": "2021-07-05T05:55:41.104382",
     "status": "completed"
    },
    "tags": []
   },
   "outputs": [
    {
     "data": {
      "text/html": [
       "<div>\n",
       "<style scoped>\n",
       "    .dataframe tbody tr th:only-of-type {\n",
       "        vertical-align: middle;\n",
       "    }\n",
       "\n",
       "    .dataframe tbody tr th {\n",
       "        vertical-align: top;\n",
       "    }\n",
       "\n",
       "    .dataframe thead th {\n",
       "        text-align: right;\n",
       "    }\n",
       "</style>\n",
       "<table border=\"1\" class=\"dataframe\">\n",
       "  <thead>\n",
       "    <tr style=\"text-align: right;\">\n",
       "      <th></th>\n",
       "      <th>カラム</th>\n",
       "      <th>意味</th>\n",
       "    </tr>\n",
       "  </thead>\n",
       "  <tbody>\n",
       "    <tr>\n",
       "      <th>0</th>\n",
       "      <td>train_id</td>\n",
       "      <td>商品ID</td>\n",
       "    </tr>\n",
       "    <tr>\n",
       "      <th>1</th>\n",
       "      <td>name</td>\n",
       "      <td>商品名</td>\n",
       "    </tr>\n",
       "    <tr>\n",
       "      <th>2</th>\n",
       "      <td>item_condition_id</td>\n",
       "      <td>商品の状態</td>\n",
       "    </tr>\n",
       "    <tr>\n",
       "      <th>3</th>\n",
       "      <td>category_name</td>\n",
       "      <td>カテゴリー名</td>\n",
       "    </tr>\n",
       "    <tr>\n",
       "      <th>4</th>\n",
       "      <td>brand_name</td>\n",
       "      <td>ブランド名</td>\n",
       "    </tr>\n",
       "    <tr>\n",
       "      <th>5</th>\n",
       "      <td>price</td>\n",
       "      <td>価格（単位：ドル）</td>\n",
       "    </tr>\n",
       "    <tr>\n",
       "      <th>6</th>\n",
       "      <td>shipping</td>\n",
       "      <td>送料が売手負担かどうか</td>\n",
       "    </tr>\n",
       "    <tr>\n",
       "      <th>7</th>\n",
       "      <td>item_description</td>\n",
       "      <td>商品説明</td>\n",
       "    </tr>\n",
       "  </tbody>\n",
       "</table>\n",
       "</div>"
      ],
      "text/plain": [
       "                 カラム           意味\n",
       "0           train_id         商品ID\n",
       "1               name          商品名\n",
       "2  item_condition_id        商品の状態\n",
       "3      category_name       カテゴリー名\n",
       "4         brand_name        ブランド名\n",
       "5              price    価格（単位：ドル）\n",
       "6           shipping  送料が売手負担かどうか\n",
       "7   item_description         商品説明"
      ]
     },
     "execution_count": 6,
     "metadata": {},
     "output_type": "execute_result"
    }
   ],
   "source": [
    "pd.DataFrame([['train_id', '商品ID'],\n",
    "              ['name', '商品名'],\n",
    "              ['item_condition_id', '商品の状態'],\n",
    "              ['category_name', 'カテゴリー名'],\n",
    "              ['brand_name', 'ブランド名'],\n",
    "              ['price', '価格（単位：ドル）'],\n",
    "              ['shipping', '送料が売手負担かどうか'],['item_description', '商品説明']],\n",
    "              columns=['カラム', '意味'])"
   ]
  },
  {
   "cell_type": "markdown",
   "id": "controlling-union",
   "metadata": {
    "execution": {
     "iopub.execute_input": "2021-07-02T06:56:15.612722Z",
     "iopub.status.busy": "2021-07-02T06:56:15.612322Z",
     "iopub.status.idle": "2021-07-02T06:56:15.618286Z",
     "shell.execute_reply": "2021-07-02T06:56:15.617229Z",
     "shell.execute_reply.started": "2021-07-02T06:56:15.612688Z"
    },
    "papermill": {
     "duration": 0.059584,
     "end_time": "2021-07-05T05:55:41.325516",
     "exception": false,
     "start_time": "2021-07-05T05:55:41.265932",
     "status": "completed"
    },
    "tags": []
   },
   "source": [
    "testデータは、test.tsvとtest_stg2.tsvがある。<br>\n",
    "submitのときには、test_stg2を使用する。"
   ]
  },
  {
   "cell_type": "code",
   "execution_count": 7,
   "id": "going-drill",
   "metadata": {
    "execution": {
     "iopub.execute_input": "2021-07-05T05:55:41.451840Z",
     "iopub.status.busy": "2021-07-05T05:55:41.451252Z",
     "iopub.status.idle": "2021-07-05T05:55:43.653762Z",
     "shell.execute_reply": "2021-07-05T05:55:43.653295Z",
     "shell.execute_reply.started": "2021-07-05T05:25:07.041221Z"
    },
    "papermill": {
     "duration": 2.26716,
     "end_time": "2021-07-05T05:55:43.653867",
     "exception": false,
     "start_time": "2021-07-05T05:55:41.386707",
     "status": "completed"
    },
    "tags": []
   },
   "outputs": [
    {
     "name": "stdout",
     "output_type": "stream",
     "text": [
      "(693359, 7)\n"
     ]
    },
    {
     "data": {
      "text/html": [
       "<div>\n",
       "<style scoped>\n",
       "    .dataframe tbody tr th:only-of-type {\n",
       "        vertical-align: middle;\n",
       "    }\n",
       "\n",
       "    .dataframe tbody tr th {\n",
       "        vertical-align: top;\n",
       "    }\n",
       "\n",
       "    .dataframe thead th {\n",
       "        text-align: right;\n",
       "    }\n",
       "</style>\n",
       "<table border=\"1\" class=\"dataframe\">\n",
       "  <thead>\n",
       "    <tr style=\"text-align: right;\">\n",
       "      <th></th>\n",
       "      <th>test_id</th>\n",
       "      <th>name</th>\n",
       "      <th>item_condition_id</th>\n",
       "      <th>category_name</th>\n",
       "      <th>brand_name</th>\n",
       "      <th>shipping</th>\n",
       "      <th>item_description</th>\n",
       "    </tr>\n",
       "  </thead>\n",
       "  <tbody>\n",
       "    <tr>\n",
       "      <th>0</th>\n",
       "      <td>0</td>\n",
       "      <td>Breast cancer \"I fight like a girl\" ring</td>\n",
       "      <td>1</td>\n",
       "      <td>Women/Jewelry/Rings</td>\n",
       "      <td>NaN</td>\n",
       "      <td>1</td>\n",
       "      <td>Size 7</td>\n",
       "    </tr>\n",
       "    <tr>\n",
       "      <th>1</th>\n",
       "      <td>1</td>\n",
       "      <td>25 pcs NEW 7.5\"x12\" Kraft Bubble Mailers</td>\n",
       "      <td>1</td>\n",
       "      <td>Other/Office supplies/Shipping Supplies</td>\n",
       "      <td>NaN</td>\n",
       "      <td>1</td>\n",
       "      <td>25 pcs NEW 7.5\"x12\" Kraft Bubble Mailers Lined...</td>\n",
       "    </tr>\n",
       "    <tr>\n",
       "      <th>2</th>\n",
       "      <td>2</td>\n",
       "      <td>Coach bag</td>\n",
       "      <td>1</td>\n",
       "      <td>Vintage &amp; Collectibles/Bags and Purses/Handbag</td>\n",
       "      <td>Coach</td>\n",
       "      <td>1</td>\n",
       "      <td>Brand new coach bag. Bought for [rm] at a Coac...</td>\n",
       "    </tr>\n",
       "    <tr>\n",
       "      <th>3</th>\n",
       "      <td>3</td>\n",
       "      <td>Floral Kimono</td>\n",
       "      <td>2</td>\n",
       "      <td>Women/Sweaters/Cardigan</td>\n",
       "      <td>NaN</td>\n",
       "      <td>0</td>\n",
       "      <td>-floral kimono -never worn -lightweight and pe...</td>\n",
       "    </tr>\n",
       "    <tr>\n",
       "      <th>4</th>\n",
       "      <td>4</td>\n",
       "      <td>Life after Death</td>\n",
       "      <td>3</td>\n",
       "      <td>Other/Books/Religion &amp; Spirituality</td>\n",
       "      <td>NaN</td>\n",
       "      <td>1</td>\n",
       "      <td>Rediscovering life after the loss of a loved o...</td>\n",
       "    </tr>\n",
       "    <tr>\n",
       "      <th>5</th>\n",
       "      <td>5</td>\n",
       "      <td>iPhone 6 Plus or 6s Plus Vodka pink case</td>\n",
       "      <td>1</td>\n",
       "      <td>Electronics/Cell Phones &amp; Accessories/Cases, C...</td>\n",
       "      <td>NaN</td>\n",
       "      <td>1</td>\n",
       "      <td>One Absolut Vodka in Pink for iPhone 6 Plus an...</td>\n",
       "    </tr>\n",
       "    <tr>\n",
       "      <th>6</th>\n",
       "      <td>6</td>\n",
       "      <td>Vintage Cameo Pendant &amp; Brooch Pin</td>\n",
       "      <td>3</td>\n",
       "      <td>Women/Jewelry/Necklaces</td>\n",
       "      <td>Vintage</td>\n",
       "      <td>1</td>\n",
       "      <td>Two vintage Cameo pieces. 1. Silver metal Lock...</td>\n",
       "    </tr>\n",
       "    <tr>\n",
       "      <th>7</th>\n",
       "      <td>7</td>\n",
       "      <td>Rose Gold Stainless Steel Quartz Watch</td>\n",
       "      <td>1</td>\n",
       "      <td>Women/Women's Accessories/Watches</td>\n",
       "      <td>NaN</td>\n",
       "      <td>1</td>\n",
       "      <td>Brand new Price firm No trades Box included wi...</td>\n",
       "    </tr>\n",
       "    <tr>\n",
       "      <th>8</th>\n",
       "      <td>8</td>\n",
       "      <td>Daisy Marc Jacobs 3.4oz</td>\n",
       "      <td>3</td>\n",
       "      <td>Beauty/Fragrance/Women</td>\n",
       "      <td>MARC JACOBS</td>\n",
       "      <td>0</td>\n",
       "      <td>Brand new No box 100% authentic Firm price NO ...</td>\n",
       "    </tr>\n",
       "    <tr>\n",
       "      <th>9</th>\n",
       "      <td>9</td>\n",
       "      <td>Rose Brushes and Silicone Sponge</td>\n",
       "      <td>1</td>\n",
       "      <td>Beauty/Tools &amp; Accessories/Makeup Brushes &amp; Tools</td>\n",
       "      <td>NaN</td>\n",
       "      <td>1</td>\n",
       "      <td>All new. 12 pcs makeup brushes and one Silicon...</td>\n",
       "    </tr>\n",
       "  </tbody>\n",
       "</table>\n",
       "</div>"
      ],
      "text/plain": [
       "   test_id                                      name  item_condition_id  \\\n",
       "0        0  Breast cancer \"I fight like a girl\" ring                  1   \n",
       "1        1  25 pcs NEW 7.5\"x12\" Kraft Bubble Mailers                  1   \n",
       "2        2                                 Coach bag                  1   \n",
       "3        3                             Floral Kimono                  2   \n",
       "4        4                          Life after Death                  3   \n",
       "5        5  iPhone 6 Plus or 6s Plus Vodka pink case                  1   \n",
       "6        6        Vintage Cameo Pendant & Brooch Pin                  3   \n",
       "7        7    Rose Gold Stainless Steel Quartz Watch                  1   \n",
       "8        8                   Daisy Marc Jacobs 3.4oz                  3   \n",
       "9        9          Rose Brushes and Silicone Sponge                  1   \n",
       "\n",
       "                                       category_name   brand_name  shipping  \\\n",
       "0                                Women/Jewelry/Rings          NaN         1   \n",
       "1            Other/Office supplies/Shipping Supplies          NaN         1   \n",
       "2     Vintage & Collectibles/Bags and Purses/Handbag        Coach         1   \n",
       "3                            Women/Sweaters/Cardigan          NaN         0   \n",
       "4                Other/Books/Religion & Spirituality          NaN         1   \n",
       "5  Electronics/Cell Phones & Accessories/Cases, C...          NaN         1   \n",
       "6                            Women/Jewelry/Necklaces      Vintage         1   \n",
       "7                  Women/Women's Accessories/Watches          NaN         1   \n",
       "8                             Beauty/Fragrance/Women  MARC JACOBS         0   \n",
       "9  Beauty/Tools & Accessories/Makeup Brushes & Tools          NaN         1   \n",
       "\n",
       "                                    item_description  \n",
       "0                                             Size 7  \n",
       "1  25 pcs NEW 7.5\"x12\" Kraft Bubble Mailers Lined...  \n",
       "2  Brand new coach bag. Bought for [rm] at a Coac...  \n",
       "3  -floral kimono -never worn -lightweight and pe...  \n",
       "4  Rediscovering life after the loss of a loved o...  \n",
       "5  One Absolut Vodka in Pink for iPhone 6 Plus an...  \n",
       "6  Two vintage Cameo pieces. 1. Silver metal Lock...  \n",
       "7  Brand new Price firm No trades Box included wi...  \n",
       "8  Brand new No box 100% authentic Firm price NO ...  \n",
       "9  All new. 12 pcs makeup brushes and one Silicon...  "
      ]
     },
     "execution_count": 7,
     "metadata": {},
     "output_type": "execute_result"
    }
   ],
   "source": [
    "test_dummy = pd.read_csv('test.tsv', sep='\\t')\n",
    "\n",
    "print(test_dummy.shape)\n",
    "test_dummy.head(10)"
   ]
  },
  {
   "cell_type": "code",
   "execution_count": 8,
   "id": "distinct-packing",
   "metadata": {
    "_kg_hide-input": true,
    "execution": {
     "iopub.execute_input": "2021-07-05T05:55:43.783897Z",
     "iopub.status.busy": "2021-07-05T05:55:43.783340Z",
     "iopub.status.idle": "2021-07-05T05:55:43.788577Z",
     "shell.execute_reply": "2021-07-05T05:55:43.788916Z",
     "shell.execute_reply.started": "2021-07-05T05:25:09.826727Z"
    },
    "papermill": {
     "duration": 0.074661,
     "end_time": "2021-07-05T05:55:43.789030",
     "exception": false,
     "start_time": "2021-07-05T05:55:43.714369",
     "status": "completed"
    },
    "tags": []
   },
   "outputs": [
    {
     "data": {
      "text/html": [
       "<div>\n",
       "<style scoped>\n",
       "    .dataframe tbody tr th:only-of-type {\n",
       "        vertical-align: middle;\n",
       "    }\n",
       "\n",
       "    .dataframe tbody tr th {\n",
       "        vertical-align: top;\n",
       "    }\n",
       "\n",
       "    .dataframe thead th {\n",
       "        text-align: right;\n",
       "    }\n",
       "</style>\n",
       "<table border=\"1\" class=\"dataframe\">\n",
       "  <thead>\n",
       "    <tr style=\"text-align: right;\">\n",
       "      <th></th>\n",
       "      <th>カラム</th>\n",
       "      <th>意味</th>\n",
       "    </tr>\n",
       "  </thead>\n",
       "  <tbody>\n",
       "    <tr>\n",
       "      <th>0</th>\n",
       "      <td>test_id</td>\n",
       "      <td>商品ID</td>\n",
       "    </tr>\n",
       "    <tr>\n",
       "      <th>1</th>\n",
       "      <td>name</td>\n",
       "      <td>商品名</td>\n",
       "    </tr>\n",
       "    <tr>\n",
       "      <th>2</th>\n",
       "      <td>item_condition_id</td>\n",
       "      <td>商品の状態</td>\n",
       "    </tr>\n",
       "    <tr>\n",
       "      <th>3</th>\n",
       "      <td>category_name</td>\n",
       "      <td>カテゴリー名</td>\n",
       "    </tr>\n",
       "    <tr>\n",
       "      <th>4</th>\n",
       "      <td>brand_name</td>\n",
       "      <td>ブランド名</td>\n",
       "    </tr>\n",
       "    <tr>\n",
       "      <th>5</th>\n",
       "      <td>shipping</td>\n",
       "      <td>送料が売手負担かどうか</td>\n",
       "    </tr>\n",
       "    <tr>\n",
       "      <th>6</th>\n",
       "      <td>item_description</td>\n",
       "      <td>商品説明</td>\n",
       "    </tr>\n",
       "  </tbody>\n",
       "</table>\n",
       "</div>"
      ],
      "text/plain": [
       "                 カラム           意味\n",
       "0            test_id         商品ID\n",
       "1               name          商品名\n",
       "2  item_condition_id        商品の状態\n",
       "3      category_name       カテゴリー名\n",
       "4         brand_name        ブランド名\n",
       "5           shipping  送料が売手負担かどうか\n",
       "6   item_description         商品説明"
      ]
     },
     "execution_count": 8,
     "metadata": {},
     "output_type": "execute_result"
    }
   ],
   "source": [
    "pd.DataFrame([['test_id', '商品ID'],\n",
    "              ['name', '商品名'],\n",
    "              ['item_condition_id', '商品の状態'],\n",
    "              ['category_name', 'カテゴリー名'],\n",
    "              ['brand_name', 'ブランド名'],\n",
    "              ['shipping', '送料が売手負担かどうか'],['item_description', '商品説明']],\n",
    "              columns=['カラム', '意味'])"
   ]
  },
  {
   "cell_type": "code",
   "execution_count": 9,
   "id": "weird-handy",
   "metadata": {
    "execution": {
     "iopub.execute_input": "2021-07-05T05:55:43.912749Z",
     "iopub.status.busy": "2021-07-05T05:55:43.912098Z",
     "iopub.status.idle": "2021-07-05T05:55:54.675390Z",
     "shell.execute_reply": "2021-07-05T05:55:54.676028Z",
     "shell.execute_reply.started": "2021-07-05T05:25:09.840265Z"
    },
    "papermill": {
     "duration": 10.827519,
     "end_time": "2021-07-05T05:55:54.676270",
     "exception": false,
     "start_time": "2021-07-05T05:55:43.848751",
     "status": "completed"
    },
    "tags": []
   },
   "outputs": [
    {
     "name": "stdout",
     "output_type": "stream",
     "text": [
      "(3460725, 7)\n"
     ]
    },
    {
     "data": {
      "text/html": [
       "<div>\n",
       "<style scoped>\n",
       "    .dataframe tbody tr th:only-of-type {\n",
       "        vertical-align: middle;\n",
       "    }\n",
       "\n",
       "    .dataframe tbody tr th {\n",
       "        vertical-align: top;\n",
       "    }\n",
       "\n",
       "    .dataframe thead th {\n",
       "        text-align: right;\n",
       "    }\n",
       "</style>\n",
       "<table border=\"1\" class=\"dataframe\">\n",
       "  <thead>\n",
       "    <tr style=\"text-align: right;\">\n",
       "      <th></th>\n",
       "      <th>test_id</th>\n",
       "      <th>name</th>\n",
       "      <th>item_condition_id</th>\n",
       "      <th>category_name</th>\n",
       "      <th>brand_name</th>\n",
       "      <th>shipping</th>\n",
       "      <th>item_description</th>\n",
       "    </tr>\n",
       "  </thead>\n",
       "  <tbody>\n",
       "    <tr>\n",
       "      <th>0</th>\n",
       "      <td>0</td>\n",
       "      <td>Breast cancer \"I fight like a girl\" ring</td>\n",
       "      <td>1</td>\n",
       "      <td>Women/Jewelry/Rings</td>\n",
       "      <td>NaN</td>\n",
       "      <td>1</td>\n",
       "      <td>Size 7</td>\n",
       "    </tr>\n",
       "    <tr>\n",
       "      <th>1</th>\n",
       "      <td>1</td>\n",
       "      <td>25 pcs NEW 7.5\"x12\" Kraft Bubble Mailers</td>\n",
       "      <td>1</td>\n",
       "      <td>Other/Office supplies/Shipping Supplies</td>\n",
       "      <td>NaN</td>\n",
       "      <td>1</td>\n",
       "      <td>25 pcs NEW 7.5\"x12\" Kraft Bubble Mailers Lined...</td>\n",
       "    </tr>\n",
       "    <tr>\n",
       "      <th>2</th>\n",
       "      <td>2</td>\n",
       "      <td>Coach bag</td>\n",
       "      <td>1</td>\n",
       "      <td>Vintage &amp; Collectibles/Bags and Purses/Handbag</td>\n",
       "      <td>Coach</td>\n",
       "      <td>1</td>\n",
       "      <td>Brand new coach bag. Bought for [rm] at a Coac...</td>\n",
       "    </tr>\n",
       "    <tr>\n",
       "      <th>3</th>\n",
       "      <td>3</td>\n",
       "      <td>Floral Kimono</td>\n",
       "      <td>2</td>\n",
       "      <td>Women/Sweaters/Cardigan</td>\n",
       "      <td>NaN</td>\n",
       "      <td>0</td>\n",
       "      <td>-floral kimono -never worn -lightweight and pe...</td>\n",
       "    </tr>\n",
       "    <tr>\n",
       "      <th>4</th>\n",
       "      <td>4</td>\n",
       "      <td>Life after Death</td>\n",
       "      <td>3</td>\n",
       "      <td>Other/Books/Religion &amp; Spirituality</td>\n",
       "      <td>NaN</td>\n",
       "      <td>1</td>\n",
       "      <td>Rediscovering life after the loss of a loved o...</td>\n",
       "    </tr>\n",
       "    <tr>\n",
       "      <th>5</th>\n",
       "      <td>5</td>\n",
       "      <td>iPhone 6 Plus or 6s Plus Vodka pink case</td>\n",
       "      <td>1</td>\n",
       "      <td>Electronics/Cell Phones &amp; Accessories/Cases, C...</td>\n",
       "      <td>NaN</td>\n",
       "      <td>1</td>\n",
       "      <td>One Absolut Vodka in Pink for iPhone 6 Plus an...</td>\n",
       "    </tr>\n",
       "    <tr>\n",
       "      <th>6</th>\n",
       "      <td>6</td>\n",
       "      <td>Vintage Cameo Pendant &amp; Brooch Pin</td>\n",
       "      <td>3</td>\n",
       "      <td>Women/Jewelry/Necklaces</td>\n",
       "      <td>Vintage</td>\n",
       "      <td>1</td>\n",
       "      <td>Two vintage Cameo pieces. 1. Silver metal Lock...</td>\n",
       "    </tr>\n",
       "    <tr>\n",
       "      <th>7</th>\n",
       "      <td>7</td>\n",
       "      <td>Rose Gold Stainless Steel Quartz Watch</td>\n",
       "      <td>1</td>\n",
       "      <td>Women/Women's Accessories/Watches</td>\n",
       "      <td>NaN</td>\n",
       "      <td>1</td>\n",
       "      <td>Brand new Price firm No trades Box included wi...</td>\n",
       "    </tr>\n",
       "    <tr>\n",
       "      <th>8</th>\n",
       "      <td>8</td>\n",
       "      <td>Daisy Marc Jacobs 3.4oz</td>\n",
       "      <td>3</td>\n",
       "      <td>Beauty/Fragrance/Women</td>\n",
       "      <td>MARC JACOBS</td>\n",
       "      <td>0</td>\n",
       "      <td>Brand new No box 100% authentic Firm price NO ...</td>\n",
       "    </tr>\n",
       "    <tr>\n",
       "      <th>9</th>\n",
       "      <td>9</td>\n",
       "      <td>Rose Brushes and Silicone Sponge</td>\n",
       "      <td>1</td>\n",
       "      <td>Beauty/Tools &amp; Accessories/Makeup Brushes &amp; Tools</td>\n",
       "      <td>NaN</td>\n",
       "      <td>1</td>\n",
       "      <td>All new. 12 pcs makeup brushes and one Silicon...</td>\n",
       "    </tr>\n",
       "  </tbody>\n",
       "</table>\n",
       "</div>"
      ],
      "text/plain": [
       "   test_id                                      name  item_condition_id  \\\n",
       "0        0  Breast cancer \"I fight like a girl\" ring                  1   \n",
       "1        1  25 pcs NEW 7.5\"x12\" Kraft Bubble Mailers                  1   \n",
       "2        2                                 Coach bag                  1   \n",
       "3        3                             Floral Kimono                  2   \n",
       "4        4                          Life after Death                  3   \n",
       "5        5  iPhone 6 Plus or 6s Plus Vodka pink case                  1   \n",
       "6        6        Vintage Cameo Pendant & Brooch Pin                  3   \n",
       "7        7    Rose Gold Stainless Steel Quartz Watch                  1   \n",
       "8        8                   Daisy Marc Jacobs 3.4oz                  3   \n",
       "9        9          Rose Brushes and Silicone Sponge                  1   \n",
       "\n",
       "                                       category_name   brand_name  shipping  \\\n",
       "0                                Women/Jewelry/Rings          NaN         1   \n",
       "1            Other/Office supplies/Shipping Supplies          NaN         1   \n",
       "2     Vintage & Collectibles/Bags and Purses/Handbag        Coach         1   \n",
       "3                            Women/Sweaters/Cardigan          NaN         0   \n",
       "4                Other/Books/Religion & Spirituality          NaN         1   \n",
       "5  Electronics/Cell Phones & Accessories/Cases, C...          NaN         1   \n",
       "6                            Women/Jewelry/Necklaces      Vintage         1   \n",
       "7                  Women/Women's Accessories/Watches          NaN         1   \n",
       "8                             Beauty/Fragrance/Women  MARC JACOBS         0   \n",
       "9  Beauty/Tools & Accessories/Makeup Brushes & Tools          NaN         1   \n",
       "\n",
       "                                    item_description  \n",
       "0                                             Size 7  \n",
       "1  25 pcs NEW 7.5\"x12\" Kraft Bubble Mailers Lined...  \n",
       "2  Brand new coach bag. Bought for [rm] at a Coac...  \n",
       "3  -floral kimono -never worn -lightweight and pe...  \n",
       "4  Rediscovering life after the loss of a loved o...  \n",
       "5  One Absolut Vodka in Pink for iPhone 6 Plus an...  \n",
       "6  Two vintage Cameo pieces. 1. Silver metal Lock...  \n",
       "7  Brand new Price firm No trades Box included wi...  \n",
       "8  Brand new No box 100% authentic Firm price NO ...  \n",
       "9  All new. 12 pcs makeup brushes and one Silicon...  "
      ]
     },
     "execution_count": 9,
     "metadata": {},
     "output_type": "execute_result"
    }
   ],
   "source": [
    "test = pd.read_csv('test_stg2.tsv', sep='\\t')\n",
    "\n",
    "print(test.shape)\n",
    "test.head(10)"
   ]
  },
  {
   "cell_type": "code",
   "execution_count": 10,
   "id": "thorough-angle",
   "metadata": {
    "_kg_hide-input": true,
    "execution": {
     "iopub.execute_input": "2021-07-05T05:55:54.878261Z",
     "iopub.status.busy": "2021-07-05T05:55:54.877410Z",
     "iopub.status.idle": "2021-07-05T05:55:54.881390Z",
     "shell.execute_reply": "2021-07-05T05:55:54.880559Z",
     "shell.execute_reply.started": "2021-07-05T05:25:24.133197Z"
    },
    "papermill": {
     "duration": 0.108003,
     "end_time": "2021-07-05T05:55:54.881495",
     "exception": false,
     "start_time": "2021-07-05T05:55:54.773492",
     "status": "completed"
    },
    "tags": []
   },
   "outputs": [
    {
     "data": {
      "text/html": [
       "<div>\n",
       "<style scoped>\n",
       "    .dataframe tbody tr th:only-of-type {\n",
       "        vertical-align: middle;\n",
       "    }\n",
       "\n",
       "    .dataframe tbody tr th {\n",
       "        vertical-align: top;\n",
       "    }\n",
       "\n",
       "    .dataframe thead th {\n",
       "        text-align: right;\n",
       "    }\n",
       "</style>\n",
       "<table border=\"1\" class=\"dataframe\">\n",
       "  <thead>\n",
       "    <tr style=\"text-align: right;\">\n",
       "      <th></th>\n",
       "      <th>カラム</th>\n",
       "      <th>意味</th>\n",
       "    </tr>\n",
       "  </thead>\n",
       "  <tbody>\n",
       "    <tr>\n",
       "      <th>0</th>\n",
       "      <td>test_id</td>\n",
       "      <td>商品ID</td>\n",
       "    </tr>\n",
       "    <tr>\n",
       "      <th>1</th>\n",
       "      <td>name</td>\n",
       "      <td>商品名</td>\n",
       "    </tr>\n",
       "    <tr>\n",
       "      <th>2</th>\n",
       "      <td>item_condition_id</td>\n",
       "      <td>商品の状態</td>\n",
       "    </tr>\n",
       "    <tr>\n",
       "      <th>3</th>\n",
       "      <td>category_name</td>\n",
       "      <td>カテゴリー名</td>\n",
       "    </tr>\n",
       "    <tr>\n",
       "      <th>4</th>\n",
       "      <td>brand_name</td>\n",
       "      <td>ブランド名</td>\n",
       "    </tr>\n",
       "    <tr>\n",
       "      <th>5</th>\n",
       "      <td>shipping</td>\n",
       "      <td>送料が売手負担かどうか</td>\n",
       "    </tr>\n",
       "    <tr>\n",
       "      <th>6</th>\n",
       "      <td>item_description</td>\n",
       "      <td>商品説明</td>\n",
       "    </tr>\n",
       "  </tbody>\n",
       "</table>\n",
       "</div>"
      ],
      "text/plain": [
       "                 カラム           意味\n",
       "0            test_id         商品ID\n",
       "1               name          商品名\n",
       "2  item_condition_id        商品の状態\n",
       "3      category_name       カテゴリー名\n",
       "4         brand_name        ブランド名\n",
       "5           shipping  送料が売手負担かどうか\n",
       "6   item_description         商品説明"
      ]
     },
     "execution_count": 10,
     "metadata": {},
     "output_type": "execute_result"
    }
   ],
   "source": [
    "pd.DataFrame([['test_id', '商品ID'],\n",
    "              ['name', '商品名'],\n",
    "              ['item_condition_id', '商品の状態'],\n",
    "              ['category_name', 'カテゴリー名'],\n",
    "              ['brand_name', 'ブランド名'],\n",
    "              ['shipping', '送料が売手負担かどうか'],['item_description', '商品説明']],\n",
    "              columns=['カラム', '意味'])"
   ]
  },
  {
   "cell_type": "code",
   "execution_count": 11,
   "id": "studied-invalid",
   "metadata": {
    "execution": {
     "iopub.execute_input": "2021-07-05T05:55:55.090420Z",
     "iopub.status.busy": "2021-07-05T05:55:55.089754Z",
     "iopub.status.idle": "2021-07-05T05:55:55.095281Z",
     "shell.execute_reply": "2021-07-05T05:55:55.094802Z",
     "shell.execute_reply.started": "2021-07-05T05:25:24.150866Z"
    },
    "papermill": {
     "duration": 0.151993,
     "end_time": "2021-07-05T05:55:55.095422",
     "exception": false,
     "start_time": "2021-07-05T05:55:54.943429",
     "status": "completed"
    },
    "tags": []
   },
   "outputs": [
    {
     "data": {
      "text/plain": [
       "120"
      ]
     },
     "execution_count": 11,
     "metadata": {},
     "output_type": "execute_result"
    }
   ],
   "source": [
    "del test_dummy\n",
    "gc.collect()"
   ]
  },
  {
   "cell_type": "markdown",
   "id": "freelance-ribbon",
   "metadata": {
    "papermill": {
     "duration": 0.062609,
     "end_time": "2021-07-05T05:55:55.221487",
     "exception": false,
     "start_time": "2021-07-05T05:55:55.158878",
     "status": "completed"
    },
    "tags": []
   },
   "source": [
    "# Analytics"
   ]
  },
  {
   "cell_type": "code",
   "execution_count": 12,
   "id": "willing-things",
   "metadata": {
    "execution": {
     "iopub.execute_input": "2021-07-05T05:55:55.351222Z",
     "iopub.status.busy": "2021-07-05T05:55:55.350568Z",
     "iopub.status.idle": "2021-07-05T05:55:55.612529Z",
     "shell.execute_reply": "2021-07-05T05:55:55.611970Z",
     "shell.execute_reply.started": "2021-07-05T05:25:24.286447Z"
    },
    "papermill": {
     "duration": 0.328691,
     "end_time": "2021-07-05T05:55:55.612665",
     "exception": false,
     "start_time": "2021-07-05T05:55:55.283974",
     "status": "completed"
    },
    "tags": []
   },
   "outputs": [
    {
     "name": "stdout",
     "output_type": "stream",
     "text": [
      "<class 'pandas.core.frame.DataFrame'>\n",
      "RangeIndex: 1482535 entries, 0 to 1482534\n",
      "Data columns (total 8 columns):\n",
      " #   Column             Non-Null Count    Dtype  \n",
      "---  ------             --------------    -----  \n",
      " 0   train_id           1482535 non-null  int64  \n",
      " 1   name               1482535 non-null  object \n",
      " 2   item_condition_id  1482535 non-null  int64  \n",
      " 3   category_name      1476208 non-null  object \n",
      " 4   brand_name         849853 non-null   object \n",
      " 5   price              1482535 non-null  float64\n",
      " 6   shipping           1482535 non-null  int64  \n",
      " 7   item_description   1482531 non-null  object \n",
      "dtypes: float64(1), int64(3), object(4)\n",
      "memory usage: 90.5+ MB\n"
     ]
    }
   ],
   "source": [
    "train.info()"
   ]
  },
  {
   "cell_type": "code",
   "execution_count": 13,
   "id": "approved-currency",
   "metadata": {
    "execution": {
     "iopub.execute_input": "2021-07-05T05:55:55.809922Z",
     "iopub.status.busy": "2021-07-05T05:55:55.809373Z",
     "iopub.status.idle": "2021-07-05T05:55:58.008860Z",
     "shell.execute_reply": "2021-07-05T05:55:58.008477Z",
     "shell.execute_reply.started": "2021-07-05T05:25:24.632847Z"
    },
    "papermill": {
     "duration": 2.2998,
     "end_time": "2021-07-05T05:55:58.008965",
     "exception": false,
     "start_time": "2021-07-05T05:55:55.709165",
     "status": "completed"
    },
    "tags": []
   },
   "outputs": [
    {
     "data": {
      "text/plain": [
       "train_id             1482535\n",
       "name                 1225273\n",
       "item_condition_id          5\n",
       "category_name           1287\n",
       "brand_name              4809\n",
       "price                    828\n",
       "shipping                   2\n",
       "item_description     1281426\n",
       "dtype: int64"
      ]
     },
     "execution_count": 13,
     "metadata": {},
     "output_type": "execute_result"
    }
   ],
   "source": [
    "train.nunique()"
   ]
  },
  {
   "cell_type": "code",
   "execution_count": 14,
   "id": "pregnant-belgium",
   "metadata": {
    "execution": {
     "iopub.execute_input": "2021-07-05T05:55:58.137751Z",
     "iopub.status.busy": "2021-07-05T05:55:58.137121Z",
     "iopub.status.idle": "2021-07-05T05:55:58.773453Z",
     "shell.execute_reply": "2021-07-05T05:55:58.773051Z",
     "shell.execute_reply.started": "2021-07-05T05:25:26.907534Z"
    },
    "papermill": {
     "duration": 0.702391,
     "end_time": "2021-07-05T05:55:58.773554",
     "exception": false,
     "start_time": "2021-07-05T05:55:58.071163",
     "status": "completed"
    },
    "tags": []
   },
   "outputs": [
    {
     "data": {
      "text/plain": [
       "train_id                  0\n",
       "name                      0\n",
       "item_condition_id         0\n",
       "category_name          6327\n",
       "brand_name           632682\n",
       "price                     0\n",
       "shipping                  0\n",
       "item_description          4\n",
       "dtype: int64"
      ]
     },
     "execution_count": 14,
     "metadata": {},
     "output_type": "execute_result"
    }
   ],
   "source": [
    "train.isnull().sum()"
   ]
  },
  {
   "cell_type": "code",
   "execution_count": 15,
   "id": "structural-degree",
   "metadata": {
    "execution": {
     "iopub.execute_input": "2021-07-05T05:55:58.904899Z",
     "iopub.status.busy": "2021-07-05T05:55:58.904322Z",
     "iopub.status.idle": "2021-07-05T05:55:58.983655Z",
     "shell.execute_reply": "2021-07-05T05:55:58.983987Z",
     "shell.execute_reply.started": "2021-07-05T05:25:27.230130Z"
    },
    "papermill": {
     "duration": 0.14696,
     "end_time": "2021-07-05T05:55:58.984145",
     "exception": false,
     "start_time": "2021-07-05T05:55:58.837185",
     "status": "completed"
    },
    "tags": []
   },
   "outputs": [
    {
     "data": {
      "text/html": [
       "<div>\n",
       "<style scoped>\n",
       "    .dataframe tbody tr th:only-of-type {\n",
       "        vertical-align: middle;\n",
       "    }\n",
       "\n",
       "    .dataframe tbody tr th {\n",
       "        vertical-align: top;\n",
       "    }\n",
       "\n",
       "    .dataframe thead th {\n",
       "        text-align: right;\n",
       "    }\n",
       "</style>\n",
       "<table border=\"1\" class=\"dataframe\">\n",
       "  <thead>\n",
       "    <tr style=\"text-align: right;\">\n",
       "      <th></th>\n",
       "      <th>train_id</th>\n",
       "      <th>item_condition_id</th>\n",
       "      <th>price</th>\n",
       "      <th>shipping</th>\n",
       "    </tr>\n",
       "  </thead>\n",
       "  <tbody>\n",
       "    <tr>\n",
       "      <th>train_id</th>\n",
       "      <td>1.000000</td>\n",
       "      <td>-0.000113</td>\n",
       "      <td>0.000478</td>\n",
       "      <td>0.000472</td>\n",
       "    </tr>\n",
       "    <tr>\n",
       "      <th>item_condition_id</th>\n",
       "      <td>-0.000113</td>\n",
       "      <td>1.000000</td>\n",
       "      <td>-0.000807</td>\n",
       "      <td>-0.191154</td>\n",
       "    </tr>\n",
       "    <tr>\n",
       "      <th>price</th>\n",
       "      <td>0.000478</td>\n",
       "      <td>-0.000807</td>\n",
       "      <td>1.000000</td>\n",
       "      <td>-0.097211</td>\n",
       "    </tr>\n",
       "    <tr>\n",
       "      <th>shipping</th>\n",
       "      <td>0.000472</td>\n",
       "      <td>-0.191154</td>\n",
       "      <td>-0.097211</td>\n",
       "      <td>1.000000</td>\n",
       "    </tr>\n",
       "  </tbody>\n",
       "</table>\n",
       "</div>"
      ],
      "text/plain": [
       "                   train_id  item_condition_id     price  shipping\n",
       "train_id           1.000000          -0.000113  0.000478  0.000472\n",
       "item_condition_id -0.000113           1.000000 -0.000807 -0.191154\n",
       "price              0.000478          -0.000807  1.000000 -0.097211\n",
       "shipping           0.000472          -0.191154 -0.097211  1.000000"
      ]
     },
     "execution_count": 15,
     "metadata": {},
     "output_type": "execute_result"
    }
   ],
   "source": [
    "train.corr()"
   ]
  },
  {
   "cell_type": "code",
   "execution_count": 16,
   "id": "related-germany",
   "metadata": {
    "execution": {
     "iopub.execute_input": "2021-07-05T05:55:59.113656Z",
     "iopub.status.busy": "2021-07-05T05:55:59.113222Z",
     "iopub.status.idle": "2021-07-05T05:55:59.459528Z",
     "shell.execute_reply": "2021-07-05T05:55:59.460006Z",
     "shell.execute_reply.started": "2021-07-05T05:25:27.353941Z"
    },
    "papermill": {
     "duration": 0.413408,
     "end_time": "2021-07-05T05:55:59.460203",
     "exception": false,
     "start_time": "2021-07-05T05:55:59.046795",
     "status": "completed"
    },
    "tags": []
   },
   "outputs": [
    {
     "data": {
      "text/plain": [
       "<AxesSubplot:>"
      ]
     },
     "execution_count": 16,
     "metadata": {},
     "output_type": "execute_result"
    },
    {
     "data": {
      "image/png": "[encoded data removed]",
      "text/plain": [
       "<Figure size 432x288 with 2 Axes>"
      ]
     },
     "metadata": {
      "needs_background": "light"
     },
     "output_type": "display_data"
    }
   ],
   "source": [
    "sns.heatmap(train.corr(), annot=True, fmt='.2f')"
   ]
  },
  {
   "cell_type": "code",
   "execution_count": 17,
   "id": "flying-silly",
   "metadata": {
    "execution": {
     "iopub.execute_input": "2021-07-05T05:55:59.661227Z",
     "iopub.status.busy": "2021-07-05T05:55:59.660629Z",
     "iopub.status.idle": "2021-07-05T05:55:59.808055Z",
     "shell.execute_reply": "2021-07-05T05:55:59.807654Z",
     "shell.execute_reply.started": "2021-07-05T05:25:27.765670Z"
    },
    "papermill": {
     "duration": 0.249138,
     "end_time": "2021-07-05T05:55:59.808179",
     "exception": false,
     "start_time": "2021-07-05T05:55:59.559041",
     "status": "completed"
    },
    "tags": []
   },
   "outputs": [
    {
     "data": {
      "text/html": [
       "<div>\n",
       "<style scoped>\n",
       "    .dataframe tbody tr th:only-of-type {\n",
       "        vertical-align: middle;\n",
       "    }\n",
       "\n",
       "    .dataframe tbody tr th {\n",
       "        vertical-align: top;\n",
       "    }\n",
       "\n",
       "    .dataframe thead th {\n",
       "        text-align: right;\n",
       "    }\n",
       "</style>\n",
       "<table border=\"1\" class=\"dataframe\">\n",
       "  <thead>\n",
       "    <tr style=\"text-align: right;\">\n",
       "      <th></th>\n",
       "      <th>train_id</th>\n",
       "      <th>item_condition_id</th>\n",
       "      <th>price</th>\n",
       "      <th>shipping</th>\n",
       "    </tr>\n",
       "  </thead>\n",
       "  <tbody>\n",
       "    <tr>\n",
       "      <th>count</th>\n",
       "      <td>1.482535e+06</td>\n",
       "      <td>1.482535e+06</td>\n",
       "      <td>1.482535e+06</td>\n",
       "      <td>1.482535e+06</td>\n",
       "    </tr>\n",
       "    <tr>\n",
       "      <th>mean</th>\n",
       "      <td>7.412670e+05</td>\n",
       "      <td>1.907380e+00</td>\n",
       "      <td>2.673752e+01</td>\n",
       "      <td>4.472744e-01</td>\n",
       "    </tr>\n",
       "    <tr>\n",
       "      <th>std</th>\n",
       "      <td>4.279711e+05</td>\n",
       "      <td>9.031586e-01</td>\n",
       "      <td>3.858607e+01</td>\n",
       "      <td>4.972124e-01</td>\n",
       "    </tr>\n",
       "    <tr>\n",
       "      <th>min</th>\n",
       "      <td>0.000000e+00</td>\n",
       "      <td>1.000000e+00</td>\n",
       "      <td>0.000000e+00</td>\n",
       "      <td>0.000000e+00</td>\n",
       "    </tr>\n",
       "    <tr>\n",
       "      <th>25%</th>\n",
       "      <td>3.706335e+05</td>\n",
       "      <td>1.000000e+00</td>\n",
       "      <td>1.000000e+01</td>\n",
       "      <td>0.000000e+00</td>\n",
       "    </tr>\n",
       "    <tr>\n",
       "      <th>50%</th>\n",
       "      <td>7.412670e+05</td>\n",
       "      <td>2.000000e+00</td>\n",
       "      <td>1.700000e+01</td>\n",
       "      <td>0.000000e+00</td>\n",
       "    </tr>\n",
       "    <tr>\n",
       "      <th>75%</th>\n",
       "      <td>1.111900e+06</td>\n",
       "      <td>3.000000e+00</td>\n",
       "      <td>2.900000e+01</td>\n",
       "      <td>1.000000e+00</td>\n",
       "    </tr>\n",
       "    <tr>\n",
       "      <th>max</th>\n",
       "      <td>1.482534e+06</td>\n",
       "      <td>5.000000e+00</td>\n",
       "      <td>2.009000e+03</td>\n",
       "      <td>1.000000e+00</td>\n",
       "    </tr>\n",
       "  </tbody>\n",
       "</table>\n",
       "</div>"
      ],
      "text/plain": [
       "           train_id  item_condition_id         price      shipping\n",
       "count  1.482535e+06       1.482535e+06  1.482535e+06  1.482535e+06\n",
       "mean   7.412670e+05       1.907380e+00  2.673752e+01  4.472744e-01\n",
       "std    4.279711e+05       9.031586e-01  3.858607e+01  4.972124e-01\n",
       "min    0.000000e+00       1.000000e+00  0.000000e+00  0.000000e+00\n",
       "25%    3.706335e+05       1.000000e+00  1.000000e+01  0.000000e+00\n",
       "50%    7.412670e+05       2.000000e+00  1.700000e+01  0.000000e+00\n",
       "75%    1.111900e+06       3.000000e+00  2.900000e+01  1.000000e+00\n",
       "max    1.482534e+06       5.000000e+00  2.009000e+03  1.000000e+00"
      ]
     },
     "execution_count": 17,
     "metadata": {},
     "output_type": "execute_result"
    }
   ],
   "source": [
    "train.describe()"
   ]
  },
  {
   "cell_type": "markdown",
   "id": "surface-tumor",
   "metadata": {
    "papermill": {
     "duration": 0.099605,
     "end_time": "2021-07-05T05:55:59.973009",
     "exception": false,
     "start_time": "2021-07-05T05:55:59.873404",
     "status": "completed"
    },
    "tags": []
   },
   "source": [
    "# Visualization"
   ]
  },
  {
   "cell_type": "code",
   "execution_count": 18,
   "id": "altered-board",
   "metadata": {
    "execution": {
     "iopub.execute_input": "2021-07-05T05:56:00.174601Z",
     "iopub.status.busy": "2021-07-05T05:56:00.174143Z",
     "iopub.status.idle": "2021-07-05T05:56:00.176893Z",
     "shell.execute_reply": "2021-07-05T05:56:00.177426Z",
     "shell.execute_reply.started": "2021-07-05T05:25:27.968450Z"
    },
    "papermill": {
     "duration": 0.106235,
     "end_time": "2021-07-05T05:56:00.177570",
     "exception": false,
     "start_time": "2021-07-05T05:56:00.071335",
     "status": "completed"
    },
    "tags": []
   },
   "outputs": [],
   "source": [
    "sns.set()"
   ]
  },
  {
   "cell_type": "code",
   "execution_count": 19,
   "id": "forty-finnish",
   "metadata": {
    "execution": {
     "iopub.execute_input": "2021-07-05T05:56:00.378921Z",
     "iopub.status.busy": "2021-07-05T05:56:00.378350Z",
     "iopub.status.idle": "2021-07-05T05:56:02.165333Z",
     "shell.execute_reply": "2021-07-05T05:56:02.164943Z",
     "shell.execute_reply.started": "2021-07-05T05:25:27.975839Z"
    },
    "papermill": {
     "duration": 1.88978,
     "end_time": "2021-07-05T05:56:02.165431",
     "exception": false,
     "start_time": "2021-07-05T05:56:00.275651",
     "status": "completed"
    },
    "tags": []
   },
   "outputs": [
    {
     "data": {
      "image/png": "[encoded data removed]",
      "text/plain": [
       "<Figure size 576x288 with 1 Axes>"
      ]
     },
     "metadata": {},
     "output_type": "display_data"
    }
   ],
   "source": [
    "train = train.drop(train[(train['price'] >= 200)].index, axis=0)\n",
    "\n",
    "fig, ax = plt.subplots(1, 1, figsize=(8, 4))\n",
    "sns.histplot(train['price'], bins=50, ax=ax)\n",
    "plt.show()"
   ]
  },
  {
   "cell_type": "code",
   "execution_count": 20,
   "id": "threaded-burden",
   "metadata": {
    "execution": {
     "iopub.execute_input": "2021-07-05T05:56:02.300810Z",
     "iopub.status.busy": "2021-07-05T05:56:02.300373Z",
     "iopub.status.idle": "2021-07-05T05:56:03.896520Z",
     "shell.execute_reply": "2021-07-05T05:56:03.896880Z",
     "shell.execute_reply.started": "2021-07-05T05:25:29.272295Z"
    },
    "papermill": {
     "duration": 1.666402,
     "end_time": "2021-07-05T05:56:03.896998",
     "exception": false,
     "start_time": "2021-07-05T05:56:02.230596",
     "status": "completed"
    },
    "tags": []
   },
   "outputs": [
    {
     "data": {
      "image/png": "[encoded data removed]",
      "text/plain": [
       "<Figure size 576x288 with 1 Axes>"
      ]
     },
     "metadata": {},
     "output_type": "display_data"
    }
   ],
   "source": [
    "train['log_price'] = np.log1p(train['price'])\n",
    "\n",
    "fig, ax = plt.subplots(1, 1, figsize=(8, 4))\n",
    "sns.histplot(train['log_price'], bins=50, ax=ax)\n",
    "plt.show()"
   ]
  },
  {
   "cell_type": "code",
   "execution_count": 21,
   "id": "technological-allocation",
   "metadata": {
    "execution": {
     "iopub.execute_input": "2021-07-05T05:56:04.030676Z",
     "iopub.status.busy": "2021-07-05T05:56:04.030238Z",
     "iopub.status.idle": "2021-07-05T05:56:04.237748Z",
     "shell.execute_reply": "2021-07-05T05:56:04.237361Z",
     "shell.execute_reply.started": "2021-07-05T05:25:30.418431Z"
    },
    "papermill": {
     "duration": 0.276055,
     "end_time": "2021-07-05T05:56:04.237850",
     "exception": false,
     "start_time": "2021-07-05T05:56:03.961795",
     "status": "completed"
    },
    "tags": []
   },
   "outputs": [
    {
     "data": {
      "text/plain": [
       "6075"
      ]
     },
     "execution_count": 21,
     "metadata": {},
     "output_type": "execute_result"
    }
   ],
   "source": [
    "train = train.drop('log_price', axis=1)\n",
    "gc.collect()"
   ]
  },
  {
   "cell_type": "code",
   "execution_count": 22,
   "id": "manufactured-millennium",
   "metadata": {
    "execution": {
     "iopub.execute_input": "2021-07-05T05:56:04.374392Z",
     "iopub.status.busy": "2021-07-05T05:56:04.373826Z",
     "iopub.status.idle": "2021-07-05T05:56:12.492380Z",
     "shell.execute_reply": "2021-07-05T05:56:12.491956Z",
     "shell.execute_reply.started": "2021-07-05T05:25:30.686992Z"
    },
    "papermill": {
     "duration": 8.188214,
     "end_time": "2021-07-05T05:56:12.492482",
     "exception": false,
     "start_time": "2021-07-05T05:56:04.304268",
     "status": "completed"
    },
    "tags": []
   },
   "outputs": [
    {
     "data": {
      "text/plain": [
       "<matplotlib.legend.Legend at 0x7f72cfae5250>"
      ]
     },
     "execution_count": 22,
     "metadata": {},
     "output_type": "execute_result"
    },
    {
     "data": {
      "image/png": "[encoded data removed]",
      "text/plain": [
       "<Figure size 576x288 with 1 Axes>"
      ]
     },
     "metadata": {},
     "output_type": "display_data"
    }
   ],
   "source": [
    "fig = sns.FacetGrid(train, hue='shipping', height=4, aspect=2)\n",
    "fig.map(sns.kdeplot, 'price', shade=True)\n",
    "plt.legend()"
   ]
  },
  {
   "cell_type": "code",
   "execution_count": 23,
   "id": "spare-mount",
   "metadata": {
    "execution": {
     "iopub.execute_input": "2021-07-05T05:56:12.631842Z",
     "iopub.status.busy": "2021-07-05T05:56:12.631276Z",
     "iopub.status.idle": "2021-07-05T05:56:20.848565Z",
     "shell.execute_reply": "2021-07-05T05:56:20.848920Z",
     "shell.execute_reply.started": "2021-07-05T05:25:38.431802Z"
    },
    "papermill": {
     "duration": 8.29002,
     "end_time": "2021-07-05T05:56:20.849043",
     "exception": false,
     "start_time": "2021-07-05T05:56:12.559023",
     "status": "completed"
    },
    "tags": []
   },
   "outputs": [
    {
     "data": {
      "text/plain": [
       "<matplotlib.legend.Legend at 0x7f72ce672590>"
      ]
     },
     "execution_count": 23,
     "metadata": {},
     "output_type": "execute_result"
    },
    {
     "data": {
      "image/png": "[encoded data removed]",
      "text/plain": [
       "<Figure size 576x288 with 1 Axes>"
      ]
     },
     "metadata": {},
     "output_type": "display_data"
    }
   ],
   "source": [
    "fig = sns.FacetGrid(train, hue='item_condition_id', height=4, aspect=2)\n",
    "fig.map(sns.kdeplot, 'price', shade=True)\n",
    "plt.legend()"
   ]
  },
  {
   "cell_type": "markdown",
   "id": "departmental-heritage",
   "metadata": {
    "papermill": {
     "duration": 0.066626,
     "end_time": "2021-07-05T05:56:20.983145",
     "exception": false,
     "start_time": "2021-07-05T05:56:20.916519",
     "status": "completed"
    },
    "tags": []
   },
   "source": [
    "# Preprocess"
   ]
  },
  {
   "cell_type": "code",
   "execution_count": 24,
   "id": "foreign-testing",
   "metadata": {
    "execution": {
     "iopub.execute_input": "2021-07-05T05:56:21.119050Z",
     "iopub.status.busy": "2021-07-05T05:56:21.118620Z",
     "iopub.status.idle": "2021-07-05T05:56:21.122472Z",
     "shell.execute_reply": "2021-07-05T05:56:21.122859Z",
     "shell.execute_reply.started": "2021-07-05T05:25:46.504584Z"
    },
    "papermill": {
     "duration": 0.073139,
     "end_time": "2021-07-05T05:56:21.122962",
     "exception": false,
     "start_time": "2021-07-05T05:56:21.049823",
     "status": "completed"
    },
    "tags": []
   },
   "outputs": [],
   "source": [
    "train_row = train.shape[0]\n",
    "test_id = test['test_id']"
   ]
  },
  {
   "cell_type": "code",
   "execution_count": 25,
   "id": "respiratory-liabilities",
   "metadata": {
    "execution": {
     "iopub.execute_input": "2021-07-05T05:56:21.259068Z",
     "iopub.status.busy": "2021-07-05T05:56:21.258643Z",
     "iopub.status.idle": "2021-07-05T05:56:21.355922Z",
     "shell.execute_reply": "2021-07-05T05:56:21.355400Z",
     "shell.execute_reply.started": "2021-07-05T05:25:46.512446Z"
    },
    "papermill": {
     "duration": 0.165861,
     "end_time": "2021-07-05T05:56:21.356052",
     "exception": false,
     "start_time": "2021-07-05T05:56:21.190191",
     "status": "completed"
    },
    "tags": []
   },
   "outputs": [],
   "source": [
    "target = np.log1p(train['price'])\n",
    "train = train[[col for col in train.columns if col != 'price']]"
   ]
  },
  {
   "cell_type": "code",
   "execution_count": 26,
   "id": "turkish-witness",
   "metadata": {
    "execution": {
     "iopub.execute_input": "2021-07-05T05:56:21.580896Z",
     "iopub.status.busy": "2021-07-05T05:56:21.566062Z",
     "iopub.status.idle": "2021-07-05T05:56:21.825967Z",
     "shell.execute_reply": "2021-07-05T05:56:21.826365Z",
     "shell.execute_reply.started": "2021-07-05T05:25:46.664600Z"
    },
    "papermill": {
     "duration": 0.367735,
     "end_time": "2021-07-05T05:56:21.826498",
     "exception": false,
     "start_time": "2021-07-05T05:56:21.458763",
     "status": "completed"
    },
    "tags": []
   },
   "outputs": [],
   "source": [
    "train = train.drop('train_id', axis=1)\n",
    "test = test.drop('test_id', axis=1)"
   ]
  },
  {
   "cell_type": "code",
   "execution_count": 27,
   "id": "indoor-religion",
   "metadata": {
    "execution": {
     "iopub.execute_input": "2021-07-05T05:56:21.966131Z",
     "iopub.status.busy": "2021-07-05T05:56:21.965646Z",
     "iopub.status.idle": "2021-07-05T05:56:22.544822Z",
     "shell.execute_reply": "2021-07-05T05:56:22.545230Z",
     "shell.execute_reply.started": "2021-07-05T05:25:47.006231Z"
    },
    "papermill": {
     "duration": 0.650476,
     "end_time": "2021-07-05T05:56:22.545362",
     "exception": false,
     "start_time": "2021-07-05T05:56:21.894886",
     "status": "completed"
    },
    "tags": []
   },
   "outputs": [
    {
     "name": "stdout",
     "output_type": "stream",
     "text": [
      "(4932413, 6)\n"
     ]
    },
    {
     "data": {
      "text/html": [
       "<div>\n",
       "<style scoped>\n",
       "    .dataframe tbody tr th:only-of-type {\n",
       "        vertical-align: middle;\n",
       "    }\n",
       "\n",
       "    .dataframe tbody tr th {\n",
       "        vertical-align: top;\n",
       "    }\n",
       "\n",
       "    .dataframe thead th {\n",
       "        text-align: right;\n",
       "    }\n",
       "</style>\n",
       "<table border=\"1\" class=\"dataframe\">\n",
       "  <thead>\n",
       "    <tr style=\"text-align: right;\">\n",
       "      <th></th>\n",
       "      <th>name</th>\n",
       "      <th>item_condition_id</th>\n",
       "      <th>category_name</th>\n",
       "      <th>brand_name</th>\n",
       "      <th>shipping</th>\n",
       "      <th>item_description</th>\n",
       "    </tr>\n",
       "  </thead>\n",
       "  <tbody>\n",
       "    <tr>\n",
       "      <th>0</th>\n",
       "      <td>MLB Cincinnati Reds T Shirt Size XL</td>\n",
       "      <td>3</td>\n",
       "      <td>Men/Tops/T-shirts</td>\n",
       "      <td>NaN</td>\n",
       "      <td>1</td>\n",
       "      <td>No description yet</td>\n",
       "    </tr>\n",
       "    <tr>\n",
       "      <th>1</th>\n",
       "      <td>Razer BlackWidow Chroma Keyboard</td>\n",
       "      <td>3</td>\n",
       "      <td>Electronics/Computers &amp; Tablets/Components &amp; P...</td>\n",
       "      <td>Razer</td>\n",
       "      <td>0</td>\n",
       "      <td>This keyboard is in great condition and works ...</td>\n",
       "    </tr>\n",
       "    <tr>\n",
       "      <th>2</th>\n",
       "      <td>AVA-VIV Blouse</td>\n",
       "      <td>1</td>\n",
       "      <td>Women/Tops &amp; Blouses/Blouse</td>\n",
       "      <td>Target</td>\n",
       "      <td>1</td>\n",
       "      <td>Adorable top with a hint of lace and a key hol...</td>\n",
       "    </tr>\n",
       "    <tr>\n",
       "      <th>3</th>\n",
       "      <td>Leather Horse Statues</td>\n",
       "      <td>1</td>\n",
       "      <td>Home/Home Décor/Home Décor Accents</td>\n",
       "      <td>NaN</td>\n",
       "      <td>1</td>\n",
       "      <td>New with tags. Leather horses. Retail for [rm]...</td>\n",
       "    </tr>\n",
       "    <tr>\n",
       "      <th>4</th>\n",
       "      <td>24K GOLD plated rose</td>\n",
       "      <td>1</td>\n",
       "      <td>Women/Jewelry/Necklaces</td>\n",
       "      <td>NaN</td>\n",
       "      <td>0</td>\n",
       "      <td>Complete with certificate of authenticity</td>\n",
       "    </tr>\n",
       "  </tbody>\n",
       "</table>\n",
       "</div>"
      ],
      "text/plain": [
       "                                  name  item_condition_id  \\\n",
       "0  MLB Cincinnati Reds T Shirt Size XL                  3   \n",
       "1     Razer BlackWidow Chroma Keyboard                  3   \n",
       "2                       AVA-VIV Blouse                  1   \n",
       "3                Leather Horse Statues                  1   \n",
       "4                 24K GOLD plated rose                  1   \n",
       "\n",
       "                                       category_name brand_name  shipping  \\\n",
       "0                                  Men/Tops/T-shirts        NaN         1   \n",
       "1  Electronics/Computers & Tablets/Components & P...      Razer         0   \n",
       "2                        Women/Tops & Blouses/Blouse     Target         1   \n",
       "3                 Home/Home Décor/Home Décor Accents        NaN         1   \n",
       "4                            Women/Jewelry/Necklaces        NaN         0   \n",
       "\n",
       "                                    item_description  \n",
       "0                                 No description yet  \n",
       "1  This keyboard is in great condition and works ...  \n",
       "2  Adorable top with a hint of lace and a key hol...  \n",
       "3  New with tags. Leather horses. Retail for [rm]...  \n",
       "4          Complete with certificate of authenticity  "
      ]
     },
     "execution_count": 27,
     "metadata": {},
     "output_type": "execute_result"
    }
   ],
   "source": [
    "X = pd.concat([train, test], axis=0)\n",
    "\n",
    "print(X.shape)\n",
    "X.head()"
   ]
  },
  {
   "cell_type": "code",
   "execution_count": 28,
   "id": "expensive-negotiation",
   "metadata": {
    "execution": {
     "iopub.execute_input": "2021-07-05T05:56:22.861753Z",
     "iopub.status.busy": "2021-07-05T05:56:22.860963Z",
     "iopub.status.idle": "2021-07-05T05:56:23.524687Z",
     "shell.execute_reply": "2021-07-05T05:56:23.523956Z",
     "shell.execute_reply.started": "2021-07-05T05:25:47.890987Z"
    },
    "papermill": {
     "duration": 0.910429,
     "end_time": "2021-07-05T05:56:23.524816",
     "exception": false,
     "start_time": "2021-07-05T05:56:22.614387",
     "status": "completed"
    },
    "tags": []
   },
   "outputs": [
    {
     "data": {
      "text/plain": [
       "name                       0\n",
       "item_condition_id          0\n",
       "category_name          21115\n",
       "brand_name           2107076\n",
       "shipping                   0\n",
       "item_description          10\n",
       "dtype: int64"
      ]
     },
     "execution_count": 28,
     "metadata": {},
     "output_type": "execute_result"
    }
   ],
   "source": [
    "X.isnull().sum()"
   ]
  },
  {
   "cell_type": "markdown",
   "id": "stainless-table",
   "metadata": {
    "papermill": {
     "duration": 0.104223,
     "end_time": "2021-07-05T05:56:23.733874",
     "exception": false,
     "start_time": "2021-07-05T05:56:23.629651",
     "status": "completed"
    },
    "tags": []
   },
   "source": [
    "文字列を数値に変換するには、いくつかの方法がある。\n",
    "\n",
    "・https://linus-mk.hatenablog.com/entry/pandas-unique-integer-id"
   ]
  },
  {
   "cell_type": "code",
   "execution_count": 29,
   "id": "checked-absolute",
   "metadata": {
    "execution": {
     "iopub.execute_input": "2021-07-05T05:56:24.073700Z",
     "iopub.status.busy": "2021-07-05T05:56:24.072805Z",
     "iopub.status.idle": "2021-07-05T05:56:25.423470Z",
     "shell.execute_reply": "2021-07-05T05:56:25.422969Z",
     "shell.execute_reply.started": "2021-07-05T05:25:48.931468Z"
    },
    "papermill": {
     "duration": 1.587434,
     "end_time": "2021-07-05T05:56:25.423572",
     "exception": false,
     "start_time": "2021-07-05T05:56:23.836138",
     "status": "completed"
    },
    "tags": []
   },
   "outputs": [],
   "source": [
    "X['category_name'] = X['category_name'].fillna(value='missing')\n",
    "X['item_description'] = X['item_description'].fillna(value='missing')\n",
    "X['name'] = X['name'].fillna(value='missing')\n",
    "X['brand_name'] = X['brand_name'].fillna(value='missing')"
   ]
  },
  {
   "cell_type": "code",
   "execution_count": 30,
   "id": "sublime-event",
   "metadata": {
    "execution": {
     "iopub.execute_input": "2021-07-05T05:56:25.765039Z",
     "iopub.status.busy": "2021-07-05T05:56:25.629351Z",
     "iopub.status.idle": "2021-07-05T05:57:10.182759Z",
     "shell.execute_reply": "2021-07-05T05:57:10.181979Z",
     "shell.execute_reply.started": "2021-07-05T05:25:50.817772Z"
    },
    "papermill": {
     "duration": 44.689544,
     "end_time": "2021-07-05T05:57:10.183064",
     "exception": false,
     "start_time": "2021-07-05T05:56:25.493520",
     "status": "completed"
    },
    "tags": []
   },
   "outputs": [],
   "source": [
    "X['category_name'] = X['category_name'].astype('category')\n",
    "X['item_description'] = X['item_description'].astype('category')\n",
    "X['name'] = X['name'].astype('category')\n",
    "X['brand_name'] = X['brand_name'].astype('category')"
   ]
  },
  {
   "cell_type": "code",
   "execution_count": 31,
   "id": "requested-riding",
   "metadata": {
    "execution": {
     "iopub.execute_input": "2021-07-05T05:57:10.328129Z",
     "iopub.status.busy": "2021-07-05T05:57:10.327647Z",
     "iopub.status.idle": "2021-07-05T05:57:11.164916Z",
     "shell.execute_reply": "2021-07-05T05:57:11.164253Z",
     "shell.execute_reply.started": "2021-07-05T05:26:37.530323Z"
    },
    "papermill": {
     "duration": 0.911024,
     "end_time": "2021-07-05T05:57:11.165047",
     "exception": false,
     "start_time": "2021-07-05T05:57:10.254023",
     "status": "completed"
    },
    "tags": []
   },
   "outputs": [],
   "source": [
    "X['name'] = X['name'].cat.codes\n",
    "X['category_name'] = X['category_name'].cat.codes\n",
    "X['brand_name'] = X['brand_name'].cat.codes\n",
    "X['item_description'] = X['item_description'].cat.codes"
   ]
  },
  {
   "cell_type": "code",
   "execution_count": 32,
   "id": "bridal-basket",
   "metadata": {
    "execution": {
     "iopub.execute_input": "2021-07-05T05:57:11.499116Z",
     "iopub.status.busy": "2021-07-05T05:57:11.498453Z",
     "iopub.status.idle": "2021-07-05T05:57:11.500888Z",
     "shell.execute_reply": "2021-07-05T05:57:11.500289Z",
     "shell.execute_reply.started": "2021-07-05T05:30:44.576979Z"
    },
    "papermill": {
     "duration": 0.230503,
     "end_time": "2021-07-05T05:57:11.501015",
     "exception": false,
     "start_time": "2021-07-05T05:57:11.270512",
     "status": "completed"
    },
    "tags": []
   },
   "outputs": [],
   "source": [
    "train = X[:train_row]\n",
    "test = X[train_row:]"
   ]
  },
  {
   "cell_type": "code",
   "execution_count": 33,
   "id": "effective-hydrogen",
   "metadata": {
    "execution": {
     "iopub.execute_input": "2021-07-05T05:57:11.875789Z",
     "iopub.status.busy": "2021-07-05T05:57:11.875214Z",
     "iopub.status.idle": "2021-07-05T05:57:11.879925Z",
     "shell.execute_reply": "2021-07-05T05:57:11.879543Z",
     "shell.execute_reply.started": "2021-07-05T05:31:04.513182Z"
    },
    "papermill": {
     "duration": 0.273187,
     "end_time": "2021-07-05T05:57:11.880033",
     "exception": false,
     "start_time": "2021-07-05T05:57:11.606846",
     "status": "completed"
    },
    "tags": []
   },
   "outputs": [
    {
     "data": {
      "text/plain": [
       "200"
      ]
     },
     "execution_count": 33,
     "metadata": {},
     "output_type": "execute_result"
    }
   ],
   "source": [
    "del train_row\n",
    "gc.collect()"
   ]
  },
  {
   "cell_type": "code",
   "execution_count": 34,
   "id": "scheduled-replication",
   "metadata": {
    "execution": {
     "iopub.execute_input": "2021-07-05T05:57:12.022310Z",
     "iopub.status.busy": "2021-07-05T05:57:12.021445Z",
     "iopub.status.idle": "2021-07-05T05:57:12.063685Z",
     "shell.execute_reply": "2021-07-05T05:57:12.063268Z",
     "shell.execute_reply.started": "2021-07-05T05:35:47.373651Z"
    },
    "papermill": {
     "duration": 0.115288,
     "end_time": "2021-07-05T05:57:12.063800",
     "exception": false,
     "start_time": "2021-07-05T05:57:11.948512",
     "status": "completed"
    },
    "tags": []
   },
   "outputs": [
    {
     "name": "stdout",
     "output_type": "stream",
     "text": [
      "(1471688, 7)\n"
     ]
    },
    {
     "data": {
      "text/html": [
       "<div>\n",
       "<style scoped>\n",
       "    .dataframe tbody tr th:only-of-type {\n",
       "        vertical-align: middle;\n",
       "    }\n",
       "\n",
       "    .dataframe tbody tr th {\n",
       "        vertical-align: top;\n",
       "    }\n",
       "\n",
       "    .dataframe thead th {\n",
       "        text-align: right;\n",
       "    }\n",
       "</style>\n",
       "<table border=\"1\" class=\"dataframe\">\n",
       "  <thead>\n",
       "    <tr style=\"text-align: right;\">\n",
       "      <th></th>\n",
       "      <th>name</th>\n",
       "      <th>item_condition_id</th>\n",
       "      <th>category_name</th>\n",
       "      <th>brand_name</th>\n",
       "      <th>shipping</th>\n",
       "      <th>item_description</th>\n",
       "      <th>price</th>\n",
       "    </tr>\n",
       "  </thead>\n",
       "  <tbody>\n",
       "    <tr>\n",
       "      <th>0</th>\n",
       "      <td>1942987</td>\n",
       "      <td>3</td>\n",
       "      <td>864</td>\n",
       "      <td>6283</td>\n",
       "      <td>1</td>\n",
       "      <td>2590534</td>\n",
       "      <td>2.397895</td>\n",
       "    </tr>\n",
       "    <tr>\n",
       "      <th>1</th>\n",
       "      <td>2742268</td>\n",
       "      <td>3</td>\n",
       "      <td>87</td>\n",
       "      <td>4657</td>\n",
       "      <td>0</td>\n",
       "      <td>3506316</td>\n",
       "      <td>3.970292</td>\n",
       "    </tr>\n",
       "    <tr>\n",
       "      <th>2</th>\n",
       "      <td>279967</td>\n",
       "      <td>1</td>\n",
       "      <td>1320</td>\n",
       "      <td>5486</td>\n",
       "      <td>1</td>\n",
       "      <td>367558</td>\n",
       "      <td>2.397895</td>\n",
       "    </tr>\n",
       "    <tr>\n",
       "      <th>3</th>\n",
       "      <td>1702985</td>\n",
       "      <td>1</td>\n",
       "      <td>536</td>\n",
       "      <td>6283</td>\n",
       "      <td>1</td>\n",
       "      <td>2511534</td>\n",
       "      <td>3.583519</td>\n",
       "    </tr>\n",
       "    <tr>\n",
       "      <th>4</th>\n",
       "      <td>139326</td>\n",
       "      <td>1</td>\n",
       "      <td>1247</td>\n",
       "      <td>6283</td>\n",
       "      <td>0</td>\n",
       "      <td>1170787</td>\n",
       "      <td>3.806662</td>\n",
       "    </tr>\n",
       "  </tbody>\n",
       "</table>\n",
       "</div>"
      ],
      "text/plain": [
       "      name  item_condition_id  category_name  brand_name  shipping  \\\n",
       "0  1942987                  3            864        6283         1   \n",
       "1  2742268                  3             87        4657         0   \n",
       "2   279967                  1           1320        5486         1   \n",
       "3  1702985                  1            536        6283         1   \n",
       "4   139326                  1           1247        6283         0   \n",
       "\n",
       "   item_description     price  \n",
       "0           2590534  2.397895  \n",
       "1           3506316  3.970292  \n",
       "2            367558  2.397895  \n",
       "3           2511534  3.583519  \n",
       "4           1170787  3.806662  "
      ]
     },
     "execution_count": 34,
     "metadata": {},
     "output_type": "execute_result"
    }
   ],
   "source": [
    "train = pd.concat([train, target], axis=1)\n",
    "\n",
    "print(train.shape)\n",
    "train.head()"
   ]
  },
  {
   "cell_type": "code",
   "execution_count": 35,
   "id": "verbal-twelve",
   "metadata": {
    "execution": {
     "iopub.execute_input": "2021-07-05T05:57:12.205346Z",
     "iopub.status.busy": "2021-07-05T05:57:12.204673Z",
     "iopub.status.idle": "2021-07-05T05:57:12.207475Z",
     "shell.execute_reply": "2021-07-05T05:57:12.208046Z",
     "shell.execute_reply.started": "2021-07-05T05:36:13.796679Z"
    },
    "papermill": {
     "duration": 0.074926,
     "end_time": "2021-07-05T05:57:12.208250",
     "exception": false,
     "start_time": "2021-07-05T05:57:12.133324",
     "status": "completed"
    },
    "tags": []
   },
   "outputs": [],
   "source": [
    "df_group = train.groupby('category_name')['price']"
   ]
  },
  {
   "cell_type": "code",
   "execution_count": 36,
   "id": "organized-album",
   "metadata": {
    "execution": {
     "iopub.execute_input": "2021-07-05T05:57:12.424675Z",
     "iopub.status.busy": "2021-07-05T05:57:12.424067Z",
     "iopub.status.idle": "2021-07-05T05:57:12.542237Z",
     "shell.execute_reply": "2021-07-05T05:57:12.542742Z",
     "shell.execute_reply.started": "2021-07-05T05:36:28.778858Z"
    },
    "papermill": {
     "duration": 0.227428,
     "end_time": "2021-07-05T05:57:12.542911",
     "exception": false,
     "start_time": "2021-07-05T05:57:12.315483",
     "status": "completed"
    },
    "tags": []
   },
   "outputs": [],
   "source": [
    "category_mean = df_group.mean()\n",
    "category_median = df_group.median()\n",
    "category_std = df_group.std()\n",
    "category_min = df_group.min()\n",
    "category_max = df_group.max()"
   ]
  },
  {
   "cell_type": "code",
   "execution_count": 37,
   "id": "british-conversion",
   "metadata": {
    "execution": {
     "iopub.execute_input": "2021-07-05T05:57:12.764721Z",
     "iopub.status.busy": "2021-07-05T05:57:12.763903Z",
     "iopub.status.idle": "2021-07-05T05:57:12.837549Z",
     "shell.execute_reply": "2021-07-05T05:57:12.836976Z",
     "shell.execute_reply.started": "2021-07-05T05:37:57.634928Z"
    },
    "papermill": {
     "duration": 0.18738,
     "end_time": "2021-07-05T05:57:12.837680",
     "exception": false,
     "start_time": "2021-07-05T05:57:12.650300",
     "status": "completed"
    },
    "tags": []
   },
   "outputs": [],
   "source": [
    "train['category_mean'] = train['category_name'].map(category_mean)\n",
    "train['category_median'] = train['category_name'].map(category_median)\n",
    "train['category_std'] = train['category_name'].map(category_std)\n",
    "train['category_min'] = train['category_name'].map(category_min)\n",
    "train['category_matrain'] = train['category_name'].map(category_max)"
   ]
  },
  {
   "cell_type": "code",
   "execution_count": 38,
   "id": "bridal-slope",
   "metadata": {
    "execution": {
     "iopub.execute_input": "2021-07-05T05:57:13.139621Z",
     "iopub.status.busy": "2021-07-05T05:57:13.138811Z",
     "iopub.status.idle": "2021-07-05T05:57:13.145784Z",
     "shell.execute_reply": "2021-07-05T05:57:13.145267Z"
    },
    "papermill": {
     "duration": 0.202199,
     "end_time": "2021-07-05T05:57:13.145919",
     "exception": false,
     "start_time": "2021-07-05T05:57:12.943720",
     "status": "completed"
    },
    "tags": []
   },
   "outputs": [
    {
     "data": {
      "text/plain": [
       "20"
      ]
     },
     "execution_count": 38,
     "metadata": {},
     "output_type": "execute_result"
    }
   ],
   "source": [
    "del df_group\n",
    "gc.collect()"
   ]
  },
  {
   "cell_type": "code",
   "execution_count": 39,
   "id": "proud-cuisine",
   "metadata": {
    "execution": {
     "iopub.execute_input": "2021-07-05T05:57:13.365765Z",
     "iopub.status.busy": "2021-07-05T05:57:13.364959Z",
     "iopub.status.idle": "2021-07-05T05:57:13.421778Z",
     "shell.execute_reply": "2021-07-05T05:57:13.421285Z",
     "shell.execute_reply.started": "2021-07-05T05:38:40.032717Z"
    },
    "papermill": {
     "duration": 0.169375,
     "end_time": "2021-07-05T05:57:13.421885",
     "exception": false,
     "start_time": "2021-07-05T05:57:13.252510",
     "status": "completed"
    },
    "tags": []
   },
   "outputs": [],
   "source": [
    "train = train[[col for col in train.columns if col != 'price']]"
   ]
  },
  {
   "cell_type": "code",
   "execution_count": 40,
   "id": "informed-williams",
   "metadata": {
    "execution": {
     "iopub.execute_input": "2021-07-05T05:57:13.566310Z",
     "iopub.status.busy": "2021-07-05T05:57:13.564735Z",
     "iopub.status.idle": "2021-07-05T05:57:13.681489Z",
     "shell.execute_reply": "2021-07-05T05:57:13.681958Z",
     "shell.execute_reply.started": "2021-07-05T05:38:42.102152Z"
    },
    "papermill": {
     "duration": 0.19089,
     "end_time": "2021-07-05T05:57:13.682140",
     "exception": false,
     "start_time": "2021-07-05T05:57:13.491250",
     "status": "completed"
    },
    "tags": []
   },
   "outputs": [
    {
     "name": "stdout",
     "output_type": "stream",
     "text": [
      "(1471688, 11)\n"
     ]
    },
    {
     "data": {
      "text/html": [
       "<div>\n",
       "<style scoped>\n",
       "    .dataframe tbody tr th:only-of-type {\n",
       "        vertical-align: middle;\n",
       "    }\n",
       "\n",
       "    .dataframe tbody tr th {\n",
       "        vertical-align: top;\n",
       "    }\n",
       "\n",
       "    .dataframe thead th {\n",
       "        text-align: right;\n",
       "    }\n",
       "</style>\n",
       "<table border=\"1\" class=\"dataframe\">\n",
       "  <thead>\n",
       "    <tr style=\"text-align: right;\">\n",
       "      <th></th>\n",
       "      <th>name</th>\n",
       "      <th>item_condition_id</th>\n",
       "      <th>category_name</th>\n",
       "      <th>brand_name</th>\n",
       "      <th>shipping</th>\n",
       "      <th>item_description</th>\n",
       "      <th>category_mean</th>\n",
       "      <th>category_median</th>\n",
       "      <th>category_std</th>\n",
       "      <th>category_min</th>\n",
       "      <th>category_matrain</th>\n",
       "    </tr>\n",
       "  </thead>\n",
       "  <tbody>\n",
       "    <tr>\n",
       "      <th>0</th>\n",
       "      <td>1942987</td>\n",
       "      <td>3</td>\n",
       "      <td>864</td>\n",
       "      <td>6283</td>\n",
       "      <td>1</td>\n",
       "      <td>2590534</td>\n",
       "      <td>2.770051</td>\n",
       "      <td>2.708050</td>\n",
       "      <td>0.563315</td>\n",
       "      <td>0.000000</td>\n",
       "      <td>5.283204</td>\n",
       "    </tr>\n",
       "    <tr>\n",
       "      <th>1</th>\n",
       "      <td>2742268</td>\n",
       "      <td>3</td>\n",
       "      <td>87</td>\n",
       "      <td>4657</td>\n",
       "      <td>0</td>\n",
       "      <td>3506316</td>\n",
       "      <td>3.274398</td>\n",
       "      <td>3.258097</td>\n",
       "      <td>0.797866</td>\n",
       "      <td>1.386294</td>\n",
       "      <td>5.278115</td>\n",
       "    </tr>\n",
       "    <tr>\n",
       "      <th>2</th>\n",
       "      <td>279967</td>\n",
       "      <td>1</td>\n",
       "      <td>1320</td>\n",
       "      <td>5486</td>\n",
       "      <td>1</td>\n",
       "      <td>367558</td>\n",
       "      <td>2.646088</td>\n",
       "      <td>2.564949</td>\n",
       "      <td>0.521971</td>\n",
       "      <td>0.000000</td>\n",
       "      <td>5.247024</td>\n",
       "    </tr>\n",
       "    <tr>\n",
       "      <th>3</th>\n",
       "      <td>1702985</td>\n",
       "      <td>1</td>\n",
       "      <td>536</td>\n",
       "      <td>6283</td>\n",
       "      <td>1</td>\n",
       "      <td>2511534</td>\n",
       "      <td>2.904655</td>\n",
       "      <td>2.833213</td>\n",
       "      <td>0.637105</td>\n",
       "      <td>0.000000</td>\n",
       "      <td>5.293305</td>\n",
       "    </tr>\n",
       "    <tr>\n",
       "      <th>4</th>\n",
       "      <td>139326</td>\n",
       "      <td>1</td>\n",
       "      <td>1247</td>\n",
       "      <td>6283</td>\n",
       "      <td>0</td>\n",
       "      <td>1170787</td>\n",
       "      <td>2.696821</td>\n",
       "      <td>2.484907</td>\n",
       "      <td>0.896413</td>\n",
       "      <td>0.000000</td>\n",
       "      <td>5.298317</td>\n",
       "    </tr>\n",
       "  </tbody>\n",
       "</table>\n",
       "</div>"
      ],
      "text/plain": [
       "      name  item_condition_id  category_name  brand_name  shipping  \\\n",
       "0  1942987                  3            864        6283         1   \n",
       "1  2742268                  3             87        4657         0   \n",
       "2   279967                  1           1320        5486         1   \n",
       "3  1702985                  1            536        6283         1   \n",
       "4   139326                  1           1247        6283         0   \n",
       "\n",
       "   item_description  category_mean  category_median  category_std  \\\n",
       "0           2590534       2.770051         2.708050      0.563315   \n",
       "1           3506316       3.274398         3.258097      0.797866   \n",
       "2            367558       2.646088         2.564949      0.521971   \n",
       "3           2511534       2.904655         2.833213      0.637105   \n",
       "4           1170787       2.696821         2.484907      0.896413   \n",
       "\n",
       "   category_min  category_matrain  \n",
       "0      0.000000          5.283204  \n",
       "1      1.386294          5.278115  \n",
       "2      0.000000          5.247024  \n",
       "3      0.000000          5.293305  \n",
       "4      0.000000          5.298317  "
      ]
     },
     "execution_count": 40,
     "metadata": {},
     "output_type": "execute_result"
    }
   ],
   "source": [
    "train.to_pickle('train.pickle')\n",
    "\n",
    "print(train.shape)\n",
    "train.head()"
   ]
  },
  {
   "cell_type": "code",
   "execution_count": 41,
   "id": "dramatic-spectrum",
   "metadata": {
    "execution": {
     "iopub.execute_input": "2021-07-05T05:57:13.904067Z",
     "iopub.status.busy": "2021-07-05T05:57:13.902936Z",
     "iopub.status.idle": "2021-07-05T05:57:13.909204Z",
     "shell.execute_reply": "2021-07-05T05:57:13.908556Z",
     "shell.execute_reply.started": "2021-07-05T05:38:53.543101Z"
    },
    "papermill": {
     "duration": 0.11928,
     "end_time": "2021-07-05T05:57:13.909331",
     "exception": false,
     "start_time": "2021-07-05T05:57:13.790051",
     "status": "completed"
    },
    "tags": []
   },
   "outputs": [
    {
     "name": "stdout",
     "output_type": "stream",
     "text": [
      "(1471688,)\n"
     ]
    },
    {
     "data": {
      "text/plain": [
       "0    2.397895\n",
       "1    3.970292\n",
       "2    2.397895\n",
       "3    3.583519\n",
       "4    3.806662\n",
       "Name: price, dtype: float64"
      ]
     },
     "execution_count": 41,
     "metadata": {},
     "output_type": "execute_result"
    }
   ],
   "source": [
    "print(target.shape)\n",
    "target.head()"
   ]
  },
  {
   "cell_type": "markdown",
   "id": "gothic-perry",
   "metadata": {
    "papermill": {
     "duration": 0.108826,
     "end_time": "2021-07-05T05:57:14.127216",
     "exception": false,
     "start_time": "2021-07-05T05:57:14.018390",
     "status": "completed"
    },
    "tags": []
   },
   "source": [
    "# Modeling"
   ]
  },
  {
   "cell_type": "code",
   "execution_count": 42,
   "id": "jewish-entertainment",
   "metadata": {
    "execution": {
     "iopub.execute_input": "2021-07-05T05:57:14.351273Z",
     "iopub.status.busy": "2021-07-05T05:57:14.350443Z",
     "iopub.status.idle": "2021-07-05T05:57:14.355459Z",
     "shell.execute_reply": "2021-07-05T05:57:14.354977Z",
     "shell.execute_reply.started": "2021-07-05T05:39:01.540861Z"
    },
    "papermill": {
     "duration": 0.11931,
     "end_time": "2021-07-05T05:57:14.355551",
     "exception": false,
     "start_time": "2021-07-05T05:57:14.236241",
     "status": "completed"
    },
    "tags": []
   },
   "outputs": [
    {
     "data": {
      "text/plain": [
       "\"\\nX_tr, X_val, y_tr, y_val = train_test_split(train, target, test_size=0.2, random_state=666)\\n\\ndef create_model(trial):\\n    num_leaves = trial.suggest_int('num_leaves', 2, 30)\\n    n_estimators = trial.suggest_int('n_estimators', 50, 300)\\n    learning_rate = trial.suggest_uniform('learning_rate', 0.0001, 0.99)\\n    max_depth = trial.suggest_int('max_depth', 2, 10)\\n    min_child_samples = trial.suggest_int('min_child_samples', 100, 1200)\\n    min_data_in_leaf = trial.suggest_int('min_data_in_leaf', 5, 90)\\n    bagging_freq = trial.suggest_int('bagging_freq', 1, 7)\\n    bagging_fraction = trial.suggest_uniform('bagging_fraction', 0.0001, 1.0)\\n    feature_fraction = trial.suggest_uniform('feature_fraction', 0.0001, 1.0)\\n    subsample = trial.suggest_uniform('subsample', 0.1, 1.0)\\n    colsample_bytree = trial.suggest_uniform('colsample_bytree', 0.1, 1.0)\\n    \\n    model = lgb.LGBMRegressor(\\n        num_leaves=num_leaves,\\n        n_estimators=n_estimators,\\n        learning_rate=learning_rate,\\n        max_depth=max_depth, \\n        min_child_samples=min_child_samples, \\n        min_data_in_leaf=min_data_in_leaf,\\n        bagging_freq=bagging_freq,\\n        bagging_fraction=bagging_fraction,\\n        feature_fraction=feature_fraction,\\n        subsample=subsample,\\n        colsample_bytree=colsample_bytree,\\n        metric='rsme',\\n        random_state=666)\\n    return model\\n\\ndef objective(trial):\\n    model = create_model(trial)\\n    model.fit(X_tr, y_tr)\\n    y_pred = model.predict(X_val)\\n    rsme = np.sqrt(mean_squared_error(y_pred, y_val))\\n    return rsme\\n\\nstudy = optuna.create_study(direction='minimize')\\nstudy.optimize(objective, n_trials=40)\\nparams = study.best_params\\nprint(params)\\n\""
      ]
     },
     "execution_count": 42,
     "metadata": {},
     "output_type": "execute_result"
    }
   ],
   "source": [
    "'''\n",
    "X_tr, X_val, y_tr, y_val = train_test_split(train, target, test_size=0.2, random_state=666)\n",
    "\n",
    "def create_model(trial):\n",
    "    num_leaves = trial.suggest_int('num_leaves', 2, 30)\n",
    "    n_estimators = trial.suggest_int('n_estimators', 50, 300)\n",
    "    learning_rate = trial.suggest_uniform('learning_rate', 0.0001, 0.99)\n",
    "    max_depth = trial.suggest_int('max_depth', 2, 10)\n",
    "    min_child_samples = trial.suggest_int('min_child_samples', 100, 1200)\n",
    "    min_data_in_leaf = trial.suggest_int('min_data_in_leaf', 5, 90)\n",
    "    bagging_freq = trial.suggest_int('bagging_freq', 1, 7)\n",
    "    bagging_fraction = trial.suggest_uniform('bagging_fraction', 0.0001, 1.0)\n",
    "    feature_fraction = trial.suggest_uniform('feature_fraction', 0.0001, 1.0)\n",
    "    subsample = trial.suggest_uniform('subsample', 0.1, 1.0)\n",
    "    colsample_bytree = trial.suggest_uniform('colsample_bytree', 0.1, 1.0)\n",
    "    \n",
    "    model = lgb.LGBMRegressor(\n",
    "        num_leaves=num_leaves,\n",
    "        n_estimators=n_estimators,\n",
    "        learning_rate=learning_rate,\n",
    "        max_depth=max_depth, \n",
    "        min_child_samples=min_child_samples, \n",
    "        min_data_in_leaf=min_data_in_leaf,\n",
    "        bagging_freq=bagging_freq,\n",
    "        bagging_fraction=bagging_fraction,\n",
    "        feature_fraction=feature_fraction,\n",
    "        subsample=subsample,\n",
    "        colsample_bytree=colsample_bytree,\n",
    "        metric='rsme',\n",
    "        random_state=666)\n",
    "    return model\n",
    "\n",
    "def objective(trial):\n",
    "    model = create_model(trial)\n",
    "    model.fit(X_tr, y_tr)\n",
    "    y_pred = model.predict(X_val)\n",
    "    rsme = np.sqrt(mean_squared_error(y_pred, y_val))\n",
    "    return rsme\n",
    "\n",
    "study = optuna.create_study(direction='minimize')\n",
    "study.optimize(objective, n_trials=40)\n",
    "params = study.best_params\n",
    "print(params)\n",
    "'''"
   ]
  },
  {
   "cell_type": "code",
   "execution_count": 43,
   "id": "decreased-point",
   "metadata": {
    "execution": {
     "iopub.execute_input": "2021-07-05T05:57:14.499674Z",
     "iopub.status.busy": "2021-07-05T05:57:14.499226Z",
     "iopub.status.idle": "2021-07-05T05:57:14.504273Z",
     "shell.execute_reply": "2021-07-05T05:57:14.503810Z",
     "shell.execute_reply.started": "2021-07-05T05:51:12.261646Z"
    },
    "papermill": {
     "duration": 0.077911,
     "end_time": "2021-07-05T05:57:14.504364",
     "exception": false,
     "start_time": "2021-07-05T05:57:14.426453",
     "status": "completed"
    },
    "tags": []
   },
   "outputs": [],
   "source": [
    "params = {'num_leaves': 27,\n",
    "          'n_estimators': 246,\n",
    "          'learning_rate': 0.5891085520981525,\n",
    "          'max_depth': 8,\n",
    "          'min_child_samples': 736,\n",
    "          'min_data_in_leaf': 80,\n",
    "          'bagging_freq': 3,\n",
    "          'bagging_fraction': 0.7976794164483426,\n",
    "          'feature_fraction': 0.7716993533001292,\n",
    "          'subsample': 0.3585480926624078,\n",
    "          'colsample_bytree': 0.28978876816462784,\n",
    "          'random_state': 666}"
   ]
  },
  {
   "cell_type": "code",
   "execution_count": 44,
   "id": "superb-preservation",
   "metadata": {
    "execution": {
     "iopub.execute_input": "2021-07-05T05:57:14.653026Z",
     "iopub.status.busy": "2021-07-05T05:57:14.652332Z",
     "iopub.status.idle": "2021-07-05T05:57:29.300243Z",
     "shell.execute_reply": "2021-07-05T05:57:29.300894Z",
     "shell.execute_reply.started": "2021-07-05T05:51:14.077108Z"
    },
    "papermill": {
     "duration": 14.72493,
     "end_time": "2021-07-05T05:57:29.301037",
     "exception": false,
     "start_time": "2021-07-05T05:57:14.576107",
     "status": "completed"
    },
    "tags": []
   },
   "outputs": [
    {
     "name": "stdout",
     "output_type": "stream",
     "text": [
      "[LightGBM] [Warning] bagging_fraction is set=0.7976794164483426, subsample=0.3585480926624078 will be ignored. Current value: bagging_fraction=0.7976794164483426\n",
      "[LightGBM] [Warning] feature_fraction is set=0.7716993533001292, colsample_bytree=0.28978876816462784 will be ignored. Current value: feature_fraction=0.7716993533001292\n",
      "[LightGBM] [Warning] bagging_freq is set=3, subsample_freq=0 will be ignored. Current value: bagging_freq=3\n",
      "[LightGBM] [Warning] min_data_in_leaf is set=80, min_child_samples=736 will be ignored. Current value: min_data_in_leaf=80\n"
     ]
    },
    {
     "data": {
      "text/plain": [
       "LGBMRegressor(bagging_fraction=0.7976794164483426, bagging_freq=3,\n",
       "              colsample_bytree=0.28978876816462784,\n",
       "              feature_fraction=0.7716993533001292,\n",
       "              learning_rate=0.5891085520981525, max_depth=8,\n",
       "              min_child_samples=736, min_data_in_leaf=80, n_estimators=246,\n",
       "              num_leaves=27, random_state=666, subsample=0.3585480926624078)"
      ]
     },
     "execution_count": 44,
     "metadata": {},
     "output_type": "execute_result"
    }
   ],
   "source": [
    "cls = lgb.LGBMRegressor(**params)\n",
    "cls.fit(train, target)"
   ]
  },
  {
   "cell_type": "code",
   "execution_count": 45,
   "id": "manual-carbon",
   "metadata": {
    "execution": {
     "iopub.execute_input": "2021-07-05T05:57:29.449600Z",
     "iopub.status.busy": "2021-07-05T05:57:29.449162Z",
     "iopub.status.idle": "2021-07-05T05:57:29.639260Z",
     "shell.execute_reply": "2021-07-05T05:57:29.639602Z",
     "shell.execute_reply.started": "2021-07-05T05:51:27.121203Z"
    },
    "papermill": {
     "duration": 0.265699,
     "end_time": "2021-07-05T05:57:29.639720",
     "exception": false,
     "start_time": "2021-07-05T05:57:29.374021",
     "status": "completed"
    },
    "tags": []
   },
   "outputs": [
    {
     "data": {
      "image/png": "[encoded data removed]",
      "text/plain": [
       "<Figure size 432x288 with 1 Axes>"
      ]
     },
     "metadata": {},
     "output_type": "display_data"
    }
   ],
   "source": [
    "lgb.plot_importance(cls)\n",
    "plt.show()"
   ]
  },
  {
   "cell_type": "code",
   "execution_count": 46,
   "id": "humanitarian-helping",
   "metadata": {
    "execution": {
     "iopub.execute_input": "2021-07-05T05:57:29.792142Z",
     "iopub.status.busy": "2021-07-05T05:57:29.791447Z",
     "iopub.status.idle": "2021-07-05T05:57:29.886794Z",
     "shell.execute_reply": "2021-07-05T05:57:29.886279Z",
     "shell.execute_reply.started": "2021-07-05T05:51:27.363372Z"
    },
    "papermill": {
     "duration": 0.172246,
     "end_time": "2021-07-05T05:57:29.886901",
     "exception": false,
     "start_time": "2021-07-05T05:57:29.714655",
     "status": "completed"
    },
    "tags": []
   },
   "outputs": [
    {
     "data": {
      "text/plain": [
       "4473"
      ]
     },
     "execution_count": 46,
     "metadata": {},
     "output_type": "execute_result"
    }
   ],
   "source": [
    "del train, target, params\n",
    "gc.collect()"
   ]
  },
  {
   "cell_type": "markdown",
   "id": "industrial-civilian",
   "metadata": {
    "papermill": {
     "duration": 0.075121,
     "end_time": "2021-07-05T05:57:30.037526",
     "exception": false,
     "start_time": "2021-07-05T05:57:29.962405",
     "status": "completed"
    },
    "tags": []
   },
   "source": [
    "# Submit"
   ]
  },
  {
   "cell_type": "code",
   "execution_count": 47,
   "id": "wicked-jaguar",
   "metadata": {
    "execution": {
     "iopub.execute_input": "2021-07-05T05:57:30.194390Z",
     "iopub.status.busy": "2021-07-05T05:57:30.193696Z",
     "iopub.status.idle": "2021-07-05T05:57:30.362498Z",
     "shell.execute_reply": "2021-07-05T05:57:30.361861Z",
     "shell.execute_reply.started": "2021-07-05T05:51:27.512833Z"
    },
    "papermill": {
     "duration": 0.249025,
     "end_time": "2021-07-05T05:57:30.362627",
     "exception": false,
     "start_time": "2021-07-05T05:57:30.113602",
     "status": "completed"
    },
    "tags": []
   },
   "outputs": [
    {
     "name": "stderr",
     "output_type": "stream",
     "text": [
      "/opt/conda/lib/python3.7/site-packages/ipykernel_launcher.py:1: SettingWithCopyWarning: \n",
      "A value is trying to be set on a copy of a slice from a DataFrame.\n",
      "Try using .loc[row_indexer,col_indexer] = value instead\n",
      "\n",
      "See the caveats in the documentation: https://pandas.pydata.org/pandas-docs/stable/user_guide/indexing.html#returning-a-view-versus-a-copy\n",
      "  \"\"\"Entry point for launching an IPython kernel.\n",
      "/opt/conda/lib/python3.7/site-packages/ipykernel_launcher.py:2: SettingWithCopyWarning: \n",
      "A value is trying to be set on a copy of a slice from a DataFrame.\n",
      "Try using .loc[row_indexer,col_indexer] = value instead\n",
      "\n",
      "See the caveats in the documentation: https://pandas.pydata.org/pandas-docs/stable/user_guide/indexing.html#returning-a-view-versus-a-copy\n",
      "  \n",
      "/opt/conda/lib/python3.7/site-packages/ipykernel_launcher.py:3: SettingWithCopyWarning: \n",
      "A value is trying to be set on a copy of a slice from a DataFrame.\n",
      "Try using .loc[row_indexer,col_indexer] = value instead\n",
      "\n",
      "See the caveats in the documentation: https://pandas.pydata.org/pandas-docs/stable/user_guide/indexing.html#returning-a-view-versus-a-copy\n",
      "  This is separate from the ipykernel package so we can avoid doing imports until\n",
      "/opt/conda/lib/python3.7/site-packages/ipykernel_launcher.py:4: SettingWithCopyWarning: \n",
      "A value is trying to be set on a copy of a slice from a DataFrame.\n",
      "Try using .loc[row_indexer,col_indexer] = value instead\n",
      "\n",
      "See the caveats in the documentation: https://pandas.pydata.org/pandas-docs/stable/user_guide/indexing.html#returning-a-view-versus-a-copy\n",
      "  after removing the cwd from sys.path.\n",
      "/opt/conda/lib/python3.7/site-packages/ipykernel_launcher.py:5: SettingWithCopyWarning: \n",
      "A value is trying to be set on a copy of a slice from a DataFrame.\n",
      "Try using .loc[row_indexer,col_indexer] = value instead\n",
      "\n",
      "See the caveats in the documentation: https://pandas.pydata.org/pandas-docs/stable/user_guide/indexing.html#returning-a-view-versus-a-copy\n",
      "  \"\"\"\n"
     ]
    }
   ],
   "source": [
    "test['category_mean'] = test['category_name'].map(category_mean)\n",
    "test['category_median'] = test['category_name'].map(category_median)\n",
    "test['category_std'] = test['category_name'].map(category_std)\n",
    "test['category_min'] = test['category_name'].map(category_min)\n",
    "test['category_matest'] = test['category_name'].map(category_max)"
   ]
  },
  {
   "cell_type": "code",
   "execution_count": 48,
   "id": "tribal-triangle",
   "metadata": {
    "execution": {
     "iopub.execute_input": "2021-07-05T05:57:30.519771Z",
     "iopub.status.busy": "2021-07-05T05:57:30.519054Z",
     "iopub.status.idle": "2021-07-05T05:57:30.923072Z",
     "shell.execute_reply": "2021-07-05T05:57:30.922692Z",
     "shell.execute_reply.started": "2021-07-05T05:51:27.717849Z"
    },
    "papermill": {
     "duration": 0.484659,
     "end_time": "2021-07-05T05:57:30.923195",
     "exception": false,
     "start_time": "2021-07-05T05:57:30.438536",
     "status": "completed"
    },
    "tags": []
   },
   "outputs": [
    {
     "name": "stdout",
     "output_type": "stream",
     "text": [
      "(3460725, 11)\n"
     ]
    },
    {
     "data": {
      "text/html": [
       "<div>\n",
       "<style scoped>\n",
       "    .dataframe tbody tr th:only-of-type {\n",
       "        vertical-align: middle;\n",
       "    }\n",
       "\n",
       "    .dataframe tbody tr th {\n",
       "        vertical-align: top;\n",
       "    }\n",
       "\n",
       "    .dataframe thead th {\n",
       "        text-align: right;\n",
       "    }\n",
       "</style>\n",
       "<table border=\"1\" class=\"dataframe\">\n",
       "  <thead>\n",
       "    <tr style=\"text-align: right;\">\n",
       "      <th></th>\n",
       "      <th>name</th>\n",
       "      <th>item_condition_id</th>\n",
       "      <th>category_name</th>\n",
       "      <th>brand_name</th>\n",
       "      <th>shipping</th>\n",
       "      <th>item_description</th>\n",
       "      <th>category_mean</th>\n",
       "      <th>category_median</th>\n",
       "      <th>category_std</th>\n",
       "      <th>category_min</th>\n",
       "      <th>category_matest</th>\n",
       "    </tr>\n",
       "  </thead>\n",
       "  <tbody>\n",
       "    <tr>\n",
       "      <th>0</th>\n",
       "      <td>687992</td>\n",
       "      <td>1</td>\n",
       "      <td>1248</td>\n",
       "      <td>6283</td>\n",
       "      <td>1</td>\n",
       "      <td>3084753</td>\n",
       "      <td>2.866219</td>\n",
       "      <td>2.772589</td>\n",
       "      <td>0.829323</td>\n",
       "      <td>0.000000</td>\n",
       "      <td>5.298317</td>\n",
       "    </tr>\n",
       "    <tr>\n",
       "      <th>1</th>\n",
       "      <td>140679</td>\n",
       "      <td>1</td>\n",
       "      <td>934</td>\n",
       "      <td>6283</td>\n",
       "      <td>1</td>\n",
       "      <td>210147</td>\n",
       "      <td>2.345631</td>\n",
       "      <td>2.302585</td>\n",
       "      <td>0.525116</td>\n",
       "      <td>0.000000</td>\n",
       "      <td>5.225747</td>\n",
       "    </tr>\n",
       "    <tr>\n",
       "      <th>2</th>\n",
       "      <td>870054</td>\n",
       "      <td>1</td>\n",
       "      <td>1036</td>\n",
       "      <td>1298</td>\n",
       "      <td>1</td>\n",
       "      <td>845961</td>\n",
       "      <td>3.712730</td>\n",
       "      <td>3.713572</td>\n",
       "      <td>0.806799</td>\n",
       "      <td>0.000000</td>\n",
       "      <td>5.298317</td>\n",
       "    </tr>\n",
       "    <tr>\n",
       "      <th>3</th>\n",
       "      <td>1156281</td>\n",
       "      <td>2</td>\n",
       "      <td>1299</td>\n",
       "      <td>6283</td>\n",
       "      <td>0</td>\n",
       "      <td>74741</td>\n",
       "      <td>3.040210</td>\n",
       "      <td>2.890372</td>\n",
       "      <td>0.720912</td>\n",
       "      <td>0.000000</td>\n",
       "      <td>5.257495</td>\n",
       "    </tr>\n",
       "    <tr>\n",
       "      <th>4</th>\n",
       "      <td>1720115</td>\n",
       "      <td>3</td>\n",
       "      <td>895</td>\n",
       "      <td>6283</td>\n",
       "      <td>1</td>\n",
       "      <td>2909272</td>\n",
       "      <td>2.537237</td>\n",
       "      <td>2.484907</td>\n",
       "      <td>0.477239</td>\n",
       "      <td>1.386294</td>\n",
       "      <td>4.330733</td>\n",
       "    </tr>\n",
       "  </tbody>\n",
       "</table>\n",
       "</div>"
      ],
      "text/plain": [
       "      name  item_condition_id  category_name  brand_name  shipping  \\\n",
       "0   687992                  1           1248        6283         1   \n",
       "1   140679                  1            934        6283         1   \n",
       "2   870054                  1           1036        1298         1   \n",
       "3  1156281                  2           1299        6283         0   \n",
       "4  1720115                  3            895        6283         1   \n",
       "\n",
       "   item_description  category_mean  category_median  category_std  \\\n",
       "0           3084753       2.866219         2.772589      0.829323   \n",
       "1            210147       2.345631         2.302585      0.525116   \n",
       "2            845961       3.712730         3.713572      0.806799   \n",
       "3             74741       3.040210         2.890372      0.720912   \n",
       "4           2909272       2.537237         2.484907      0.477239   \n",
       "\n",
       "   category_min  category_matest  \n",
       "0      0.000000         5.298317  \n",
       "1      0.000000         5.225747  \n",
       "2      0.000000         5.298317  \n",
       "3      0.000000         5.257495  \n",
       "4      1.386294         4.330733  "
      ]
     },
     "execution_count": 48,
     "metadata": {},
     "output_type": "execute_result"
    }
   ],
   "source": [
    "test.to_pickle('test.pickle')\n",
    "\n",
    "print(test.shape)\n",
    "test.head()"
   ]
  },
  {
   "cell_type": "code",
   "execution_count": 49,
   "id": "piano-handle",
   "metadata": {
    "execution": {
     "iopub.execute_input": "2021-07-05T05:57:31.077043Z",
     "iopub.status.busy": "2021-07-05T05:57:31.076302Z",
     "iopub.status.idle": "2021-07-05T05:57:45.662466Z",
     "shell.execute_reply": "2021-07-05T05:57:45.661255Z",
     "shell.execute_reply.started": "2021-07-05T05:51:28.563628Z"
    },
    "papermill": {
     "duration": 14.664692,
     "end_time": "2021-07-05T05:57:45.662587",
     "exception": false,
     "start_time": "2021-07-05T05:57:30.997895",
     "status": "completed"
    },
    "tags": []
   },
   "outputs": [],
   "source": [
    "prediction = np.expm1(cls.predict(test))"
   ]
  },
  {
   "cell_type": "code",
   "execution_count": 50,
   "id": "tested-hardware",
   "metadata": {
    "execution": {
     "iopub.execute_input": "2021-07-05T05:57:45.909644Z",
     "iopub.status.busy": "2021-07-05T05:57:45.908366Z",
     "iopub.status.idle": "2021-07-05T05:57:45.911966Z",
     "shell.execute_reply": "2021-07-05T05:57:45.912356Z",
     "shell.execute_reply.started": "2021-07-05T05:51:45.975086Z"
    },
    "papermill": {
     "duration": 0.175197,
     "end_time": "2021-07-05T05:57:45.912480",
     "exception": false,
     "start_time": "2021-07-05T05:57:45.737283",
     "status": "completed"
    },
    "tags": []
   },
   "outputs": [
    {
     "data": {
      "text/plain": [
       "84"
      ]
     },
     "execution_count": 50,
     "metadata": {},
     "output_type": "execute_result"
    }
   ],
   "source": [
    "del test\n",
    "gc.collect()"
   ]
  },
  {
   "cell_type": "code",
   "execution_count": 51,
   "id": "prerequisite-elements",
   "metadata": {
    "execution": {
     "iopub.execute_input": "2021-07-05T05:57:46.065868Z",
     "iopub.status.busy": "2021-07-05T05:57:46.065443Z",
     "iopub.status.idle": "2021-07-05T05:57:46.082633Z",
     "shell.execute_reply": "2021-07-05T05:57:46.082112Z",
     "shell.execute_reply.started": "2021-07-05T05:51:46.093745Z"
    },
    "papermill": {
     "duration": 0.096313,
     "end_time": "2021-07-05T05:57:46.082768",
     "exception": false,
     "start_time": "2021-07-05T05:57:45.986455",
     "status": "completed"
    },
    "tags": []
   },
   "outputs": [
    {
     "data": {
      "text/html": [
       "<div>\n",
       "<style scoped>\n",
       "    .dataframe tbody tr th:only-of-type {\n",
       "        vertical-align: middle;\n",
       "    }\n",
       "\n",
       "    .dataframe tbody tr th {\n",
       "        vertical-align: top;\n",
       "    }\n",
       "\n",
       "    .dataframe thead th {\n",
       "        text-align: right;\n",
       "    }\n",
       "</style>\n",
       "<table border=\"1\" class=\"dataframe\">\n",
       "  <thead>\n",
       "    <tr style=\"text-align: right;\">\n",
       "      <th></th>\n",
       "      <th>test_id</th>\n",
       "      <th>price</th>\n",
       "    </tr>\n",
       "  </thead>\n",
       "  <tbody>\n",
       "    <tr>\n",
       "      <th>0</th>\n",
       "      <td>0</td>\n",
       "      <td>9.189557</td>\n",
       "    </tr>\n",
       "    <tr>\n",
       "      <th>1</th>\n",
       "      <td>1</td>\n",
       "      <td>7.707985</td>\n",
       "    </tr>\n",
       "    <tr>\n",
       "      <th>2</th>\n",
       "      <td>2</td>\n",
       "      <td>49.849573</td>\n",
       "    </tr>\n",
       "    <tr>\n",
       "      <th>3</th>\n",
       "      <td>3</td>\n",
       "      <td>18.038677</td>\n",
       "    </tr>\n",
       "    <tr>\n",
       "      <th>4</th>\n",
       "      <td>4</td>\n",
       "      <td>10.308208</td>\n",
       "    </tr>\n",
       "    <tr>\n",
       "      <th>5</th>\n",
       "      <td>5</td>\n",
       "      <td>9.775669</td>\n",
       "    </tr>\n",
       "    <tr>\n",
       "      <th>6</th>\n",
       "      <td>6</td>\n",
       "      <td>15.438796</td>\n",
       "    </tr>\n",
       "    <tr>\n",
       "      <th>7</th>\n",
       "      <td>7</td>\n",
       "      <td>14.043477</td>\n",
       "    </tr>\n",
       "    <tr>\n",
       "      <th>8</th>\n",
       "      <td>8</td>\n",
       "      <td>26.019181</td>\n",
       "    </tr>\n",
       "    <tr>\n",
       "      <th>9</th>\n",
       "      <td>9</td>\n",
       "      <td>16.135850</td>\n",
       "    </tr>\n",
       "  </tbody>\n",
       "</table>\n",
       "</div>"
      ],
      "text/plain": [
       "   test_id      price\n",
       "0        0   9.189557\n",
       "1        1   7.707985\n",
       "2        2  49.849573\n",
       "3        3  18.038677\n",
       "4        4  10.308208\n",
       "5        5   9.775669\n",
       "6        6  15.438796\n",
       "7        7  14.043477\n",
       "8        8  26.019181\n",
       "9        9  16.135850"
      ]
     },
     "execution_count": 51,
     "metadata": {},
     "output_type": "execute_result"
    }
   ],
   "source": [
    "submit = pd.DataFrame(test_id, columns=['test_id'])\n",
    "submit['price'] = prediction\n",
    "\n",
    "submit.head(10)"
   ]
  },
  {
   "cell_type": "code",
   "execution_count": 52,
   "id": "fossil-spread",
   "metadata": {
    "execution": {
     "iopub.execute_input": "2021-07-05T05:57:46.406727Z",
     "iopub.status.busy": "2021-07-05T05:57:46.405920Z",
     "iopub.status.idle": "2021-07-05T05:57:46.410512Z",
     "shell.execute_reply": "2021-07-05T05:57:46.410988Z",
     "shell.execute_reply.started": "2021-07-05T05:51:46.134993Z"
    },
    "papermill": {
     "duration": 0.214733,
     "end_time": "2021-07-05T05:57:46.411182",
     "exception": false,
     "start_time": "2021-07-05T05:57:46.196449",
     "status": "completed"
    },
    "tags": []
   },
   "outputs": [
    {
     "data": {
      "text/plain": [
       "40"
      ]
     },
     "execution_count": 52,
     "metadata": {},
     "output_type": "execute_result"
    }
   ],
   "source": [
    "del test_id, prediction\n",
    "gc.collect()"
   ]
  },
  {
   "cell_type": "markdown",
   "id": "exciting-reminder",
   "metadata": {
    "papermill": {
     "duration": 0.076415,
     "end_time": "2021-07-05T05:57:47.292110",
     "exception": false,
     "start_time": "2021-07-05T05:57:47.215695",
     "status": "completed"
    },
    "tags": []
   },
   "source": [
    "Submissionファイルは、/kaggle下ではなく、/kaggle/working下に作成する。<br>\n",
    "また、submissionのCSVファイルについて、index=Falseにする。"
   ]
  },
  {
   "cell_type": "code",
   "execution_count": 53,
   "id": "appropriate-suggestion",
   "metadata": {
    "execution": {
     "iopub.execute_input": "2021-07-05T05:57:47.449480Z",
     "iopub.status.busy": "2021-07-05T05:57:47.448967Z",
     "iopub.status.idle": "2021-07-05T05:57:58.184060Z",
     "shell.execute_reply": "2021-07-05T05:57:58.184469Z",
     "shell.execute_reply.started": "2021-07-05T05:51:46.257146Z"
    },
    "papermill": {
     "duration": 10.815827,
     "end_time": "2021-07-05T05:57:58.184614",
     "exception": false,
     "start_time": "2021-07-05T05:57:47.368787",
     "status": "completed"
    },
    "tags": []
   },
   "outputs": [],
   "source": [
    "submit.to_csv('./submission.csv', index=False)"
   ]
  }
 ],
 "metadata": {
  "kernelspec": {
   "display_name": "Python 3",
   "language": "python",
   "name": "python3"
  },
  "language_info": {
   "codemirror_mode": {
    "name": "ipython",
    "version": 3
   },
   "file_extension": ".py",
   "mimetype": "text/x-python",
   "name": "python",
   "nbconvert_exporter": "python",
   "pygments_lexer": "ipython3",
   "version": "3.7.9"
  },
  "papermill": {
   "default_parameters": {},
   "duration": 175.098895,
   "end_time": "2021-07-05T05:57:59.873485",
   "environment_variables": {},
   "exception": null,
   "input_path": "__notebook__.ipynb",
   "output_path": "__notebook__.ipynb",
   "parameters": {},
   "start_time": "2021-07-05T05:55:04.774590",
   "version": "2.3.2"
  }
 },
 "nbformat": 4,
 "nbformat_minor": 5
}
