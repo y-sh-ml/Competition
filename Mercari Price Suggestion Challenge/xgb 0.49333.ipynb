{
 "cells": [
  {
   "cell_type": "markdown",
   "id": "overall-revelation",
   "metadata": {
    "papermill": {
     "duration": 0.033931,
     "end_time": "2021-07-07T08:41:03.276431",
     "exception": false,
     "start_time": "2021-07-07T08:41:03.242500",
     "status": "completed"
    },
    "tags": []
   },
   "source": [
    "# Competition"
   ]
  },
  {
   "cell_type": "markdown",
   "id": "proper-admission",
   "metadata": {
    "papermill": {
     "duration": 0.031126,
     "end_time": "2021-07-07T08:41:03.339276",
     "exception": false,
     "start_time": "2021-07-07T08:41:03.308150",
     "status": "completed"
    },
    "tags": []
   },
   "source": [
    "[Mercari Price Suggestion Challenge](https://www.kaggle.com/c/mercari-price-suggestion-challenge)"
   ]
  },
  {
   "cell_type": "markdown",
   "id": "voluntary-minnesota",
   "metadata": {
    "papermill": {
     "duration": 0.031363,
     "end_time": "2021-07-07T08:41:03.402038",
     "exception": false,
     "start_time": "2021-07-07T08:41:03.370675",
     "status": "completed"
    },
    "tags": []
   },
   "source": [
    "# Overview"
   ]
  },
  {
   "cell_type": "markdown",
   "id": "verbal-millennium",
   "metadata": {
    "papermill": {
     "duration": 0.031329,
     "end_time": "2021-07-07T08:41:03.465038",
     "exception": false,
     "start_time": "2021-07-07T08:41:03.433709",
     "status": "completed"
    },
    "tags": []
   },
   "source": [
    "メルカリに出品されている商品データ（カテゴリーやブランドなど）と価格をもとに<br>\n",
    "商品データから価格を予測するモデルを作成する。"
   ]
  },
  {
   "cell_type": "markdown",
   "id": "generous-backup",
   "metadata": {
    "papermill": {
     "duration": 0.03115,
     "end_time": "2021-07-07T08:41:03.527791",
     "exception": false,
     "start_time": "2021-07-07T08:41:03.496641",
     "status": "completed"
    },
    "tags": []
   },
   "source": [
    "# Module"
   ]
  },
  {
   "cell_type": "code",
   "execution_count": 1,
   "id": "robust-teens",
   "metadata": {
    "execution": {
     "iopub.execute_input": "2021-07-07T08:41:03.596043Z",
     "iopub.status.busy": "2021-07-07T08:41:03.594624Z",
     "iopub.status.idle": "2021-07-07T08:41:08.135411Z",
     "shell.execute_reply": "2021-07-07T08:41:08.134365Z"
    },
    "papermill": {
     "duration": 4.576132,
     "end_time": "2021-07-07T08:41:08.135556",
     "exception": false,
     "start_time": "2021-07-07T08:41:03.559424",
     "status": "completed"
    },
    "tags": []
   },
   "outputs": [
    {
     "data": {
      "text/html": [
       "<style type='text/css'>\n",
       ".datatable table.frame { margin-bottom: 0; }\n",
       ".datatable table.frame thead { border-bottom: none; }\n",
       ".datatable table.frame tr.coltypes td {  color: #FFFFFF;  line-height: 6px;  padding: 0 0.5em;}\n",
       ".datatable .bool    { background: #DDDD99; }\n",
       ".datatable .object  { background: #565656; }\n",
       ".datatable .int     { background: #5D9E5D; }\n",
       ".datatable .float   { background: #4040CC; }\n",
       ".datatable .str     { background: #CC4040; }\n",
       ".datatable .row_index {  background: var(--jp-border-color3);  border-right: 1px solid var(--jp-border-color0);  color: var(--jp-ui-font-color3);  font-size: 9px;}\n",
       ".datatable .frame tr.coltypes .row_index {  background: var(--jp-border-color0);}\n",
       ".datatable th:nth-child(2) { padding-left: 12px; }\n",
       ".datatable .hellipsis {  color: var(--jp-cell-editor-border-color);}\n",
       ".datatable .vellipsis {  background: var(--jp-layout-color0);  color: var(--jp-cell-editor-border-color);}\n",
       ".datatable .na {  color: var(--jp-cell-editor-border-color);  font-size: 80%;}\n",
       ".datatable .footer { font-size: 9px; }\n",
       ".datatable .frame_dimensions {  background: var(--jp-border-color3);  border-top: 1px solid var(--jp-border-color0);  color: var(--jp-ui-font-color3);  display: inline-block;  opacity: 0.6;  padding: 1px 10px 1px 5px;}\n",
       "</style>\n"
      ],
      "text/plain": [
       "<IPython.core.display.HTML object>"
      ]
     },
     "metadata": {},
     "output_type": "display_data"
    }
   ],
   "source": [
    "import gc\n",
    "import sys\n",
    "import scipy\n",
    "import optuna\n",
    "import datetime\n",
    "import warnings\n",
    "import matplotlib\n",
    "import numpy as np\n",
    "import pandas as pd\n",
    "import seaborn as sns\n",
    "import xgboost as xgb\n",
    "import lightgbm as lgb\n",
    "import matplotlib.pyplot as plt\n",
    "\n",
    "from scipy.sparse import csr_matrix, hstack\n",
    "from sklearn.preprocessing import LabelBinarizer\n",
    "from sklearn.metrics import mean_squared_error\n",
    "from sklearn.model_selection import train_test_split\n",
    "from pandas.api.types import is_categorical_dtype\n",
    "from pandas.api.types import is_datetime64_any_dtype as is_datetime\n",
    "from sklearn.feature_extraction.text import CountVectorizer, TfidfVectorizer"
   ]
  },
  {
   "cell_type": "markdown",
   "id": "complex-arrest",
   "metadata": {
    "papermill": {
     "duration": 0.031869,
     "end_time": "2021-07-07T08:41:08.200097",
     "exception": false,
     "start_time": "2021-07-07T08:41:08.168228",
     "status": "completed"
    },
    "tags": []
   },
   "source": [
    "# Unfreeze"
   ]
  },
  {
   "cell_type": "markdown",
   "id": "alert-bobby",
   "metadata": {
    "papermill": {
     "duration": 0.031702,
     "end_time": "2021-07-07T08:41:08.263812",
     "exception": false,
     "start_time": "2021-07-07T08:41:08.232110",
     "status": "completed"
    },
    "tags": []
   },
   "source": [
    "Kaggleで用意されたデータが、7z形式になっているため<br>\n",
    "解凍の処理から行っていく。"
   ]
  },
  {
   "cell_type": "code",
   "execution_count": 2,
   "id": "selected-growing",
   "metadata": {
    "_kg_hide-output": true,
    "execution": {
     "iopub.execute_input": "2021-07-07T08:41:08.332372Z",
     "iopub.status.busy": "2021-07-07T08:41:08.331858Z",
     "iopub.status.idle": "2021-07-07T08:41:08.338661Z",
     "shell.execute_reply": "2021-07-07T08:41:08.339119Z"
    },
    "papermill": {
     "duration": 0.043394,
     "end_time": "2021-07-07T08:41:08.339275",
     "exception": false,
     "start_time": "2021-07-07T08:41:08.295881",
     "status": "completed"
    },
    "tags": []
   },
   "outputs": [
    {
     "name": "stdout",
     "output_type": "stream",
     "text": [
      "/kaggle/input/mercari-price-suggestion-challenge/train.tsv.7z\n",
      "/kaggle/input/mercari-price-suggestion-challenge/test.tsv.7z\n",
      "/kaggle/input/mercari-price-suggestion-challenge/sample_submission_stg2.csv.zip\n",
      "/kaggle/input/mercari-price-suggestion-challenge/test_stg2.tsv.zip\n",
      "/kaggle/input/mercari-price-suggestion-challenge/sample_submission.csv.7z\n"
     ]
    }
   ],
   "source": [
    "import os\n",
    "for dirname, _, filenames in os.walk('/kaggle/input'):\n",
    "    for filename in filenames:\n",
    "        print(os.path.join(dirname, filename))"
   ]
  },
  {
   "cell_type": "markdown",
   "id": "liked-leonard",
   "metadata": {
    "papermill": {
     "duration": 0.032219,
     "end_time": "2021-07-07T08:41:08.403914",
     "exception": false,
     "start_time": "2021-07-07T08:41:08.371695",
     "status": "completed"
    },
    "tags": []
   },
   "source": [
    "下記は、SettingsのInternetをONにして実行しないと、エラーになる。"
   ]
  },
  {
   "cell_type": "code",
   "execution_count": 3,
   "id": "closing-spelling",
   "metadata": {
    "_kg_hide-output": true,
    "execution": {
     "iopub.execute_input": "2021-07-07T08:41:08.488671Z",
     "iopub.status.busy": "2021-07-07T08:41:08.476471Z",
     "iopub.status.idle": "2021-07-07T08:41:24.740239Z",
     "shell.execute_reply": "2021-07-07T08:41:24.739750Z"
    },
    "papermill": {
     "duration": 16.303965,
     "end_time": "2021-07-07T08:41:24.740372",
     "exception": false,
     "start_time": "2021-07-07T08:41:08.436407",
     "status": "completed"
    },
    "tags": []
   },
   "outputs": [
    {
     "name": "stdout",
     "output_type": "stream",
     "text": [
      "\r\n",
      "\r\n",
      "\r\n",
      "Suggested packages:\r\n",
      "  p7zip-full\r\n",
      "The following NEW packages will be installed:\r\n",
      "  p7zip\r\n",
      "0 upgraded, 1 newly installed, 0 to remove and 25 not upgraded.\r\n",
      "Need to get 358 kB of archives.\r\n",
      "After this operation, 996 kB of additional disk space will be used.\r\n",
      "Get:1 http://archive.ubuntu.com/ubuntu bionic/universe amd64 p7zip amd64 16.02+dfsg-6 [358 kB]\r\n",
      "Fetched 358 kB in 1s (353 kB/s)\r\n",
      "debconf: delaying package configuration, since apt-utils is not installed\r\n",
      "Selecting previously unselected package p7zip.\r\n",
      "(Reading database ... 100572 files and directories currently installed.)\r\n",
      "Preparing to unpack .../p7zip_16.02+dfsg-6_amd64.deb ...\r\n",
      "Unpacking p7zip (16.02+dfsg-6) ...\r\n",
      "Setting up p7zip (16.02+dfsg-6) ...\r\n",
      "\r\n",
      "7-Zip (a) [64] 16.02 : Copyright (c) 1999-2016 Igor Pavlov : 2016-05-21\r\n",
      "p7zip Version 16.02 (locale=C.UTF-8,Utf16=on,HugeFiles=on,64 bits,2 CPUs Intel(R) Xeon(R) CPU @ 2.00GHz (50653),ASM,AES-NI)\r\n",
      "\r\n",
      "Scanning the drive for archives:\r\n",
      "  0M Scan /kaggle/input/mercari-price-suggestion-challenge/\b\b\b\b\b\b\b\b\b\b\b\b\b\b\b\b\b\b\b\b\b\b\b\b\b\b\b\b\b\b\b\b\b\b\b\b\b\b\b\b\b\b\b\b\b\b\b\b\b\b\b\b\b\b\b\b\b\b\b                                                           \b\b\b\b\b\b\b\b\b\b\b\b\b\b\b\b\b\b\b\b\b\b\b\b\b\b\b\b\b\b\b\b\b\b\b\b\b\b\b\b\b\b\b\b\b\b\b\b\b\b\b\b\b\b\b\b\b\b\b1 file, 77912192 bytes (75 MiB)\r\n",
      "\r\n",
      "Extracting archive: /kaggle/input/mercari-price-suggestion-challenge/train.tsv.7z\r\n",
      "--\r\n",
      "Path = /kaggle/input/mercari-price-suggestion-challenge/train.tsv.7z\r\n",
      "Type = 7z\r\n",
      "Physical Size = 77912192\r\n",
      "Headers Size = 122\r\n",
      "Method = LZMA2:24\r\n",
      "Solid = -\r\n",
      "Blocks = 1\r\n",
      "\r\n",
      "  0%\b\b\b\b    \b\b\b\b  2% - train.tsv\b\b\b\b\b\b\b\b\b\b\b\b\b\b\b\b                \b\b\b\b\b\b\b\b\b\b\b\b\b\b\b\b  6% - train.tsv\b\b\b\b\b\b\b\b\b\b\b\b\b\b\b\b                \b\b\b\b\b\b\b\b\b\b\b\b\b\b\b\b  9% - train.tsv\b\b\b\b\b\b\b\b\b\b\b\b\b\b\b\b                \b\b\b\b\b\b\b\b\b\b\b\b\b\b\b\b 12% - train.tsv\b\b\b\b\b\b\b\b\b\b\b\b\b\b\b\b                \b\b\b\b\b\b\b\b\b\b\b\b\b\b\b\b 16% - train.tsv\b\b\b\b\b\b\b\b\b\b\b\b\b\b\b\b                \b\b\b\b\b\b\b\b\b\b\b\b\b\b\b\b 19% - train.tsv\b\b\b\b\b\b\b\b\b\b\b\b\b\b\b\b                \b\b\b\b\b\b\b\b\b\b\b\b\b\b\b\b 22% - train.tsv\b\b\b\b\b\b\b\b\b\b\b\b\b\b\b\b                \b\b\b\b\b\b\b\b\b\b\b\b\b\b\b\b 26% - train.tsv\b\b\b\b\b\b\b\b\b\b\b\b\b\b\b\b                \b\b\b\b\b\b\b\b\b\b\b\b\b\b\b\b 29% - train.tsv\b\b\b\b\b\b\b\b\b\b\b\b\b\b\b\b                \b\b\b\b\b\b\b\b\b\b\b\b\b\b\b\b 33% - train.tsv\b\b\b\b\b\b\b\b\b\b\b\b\b\b\b\b                \b\b\b\b\b\b\b\b\b\b\b\b\b\b\b\b 37% - train.tsv\b\b\b\b\b\b\b\b\b\b\b\b\b\b\b\b                \b\b\b\b\b\b\b\b\b\b\b\b\b\b\b\b 40% - train.tsv\b\b\b\b\b\b\b\b\b\b\b\b\b\b\b\b                \b\b\b\b\b\b\b\b\b\b\b\b\b\b\b\b 43% - train.tsv\b\b\b\b\b\b\b\b\b\b\b\b\b\b\b\b                \b\b\b\b\b\b\b\b\b\b\b\b\b\b\b\b 47% - train.tsv\b\b\b\b\b\b\b\b\b\b\b\b\b\b\b\b                \b\b\b\b\b\b\b\b\b\b\b\b\b\b\b\b 50% - train.tsv\b\b\b\b\b\b\b\b\b\b\b\b\b\b\b\b                \b\b\b\b\b\b\b\b\b\b\b\b\b\b\b\b 54% - train.tsv\b\b\b\b\b\b\b\b\b\b\b\b\b\b\b\b                \b\b\b\b\b\b\b\b\b\b\b\b\b\b\b\b 58% - train.tsv\b\b\b\b\b\b\b\b\b\b\b\b\b\b\b\b                \b\b\b\b\b\b\b\b\b\b\b\b\b\b\b\b 61% - train.tsv\b\b\b\b\b\b\b\b\b\b\b\b\b\b\b\b                \b\b\b\b\b\b\b\b\b\b\b\b\b\b\b\b 65% - train.tsv\b\b\b\b\b\b\b\b\b\b\b\b\b\b\b\b                \b\b\b\b\b\b\b\b\b\b\b\b\b\b\b\b 69% - train.tsv\b\b\b\b\b\b\b\b\b\b\b\b\b\b\b\b                \b\b\b\b\b\b\b\b\b\b\b\b\b\b\b\b 73% - train.tsv\b\b\b\b\b\b\b\b\b\b\b\b\b\b\b\b                \b\b\b\b\b\b\b\b\b\b\b\b\b\b\b\b 76% - train.tsv\b\b\b\b\b\b\b\b\b\b\b\b\b\b\b\b                \b\b\b\b\b\b\b\b\b\b\b\b\b\b\b\b 79% - train.tsv\b\b\b\b\b\b\b\b\b\b\b\b\b\b\b\b                \b\b\b\b\b\b\b\b\b\b\b\b\b\b\b\b 81% - train.tsv\b\b\b\b\b\b\b\b\b\b\b\b\b\b\b\b                \b\b\b\b\b\b\b\b\b\b\b\b\b\b\b\b 85% - train.tsv\b\b\b\b\b\b\b\b\b\b\b\b\b\b\b\b                \b\b\b\b\b\b\b\b\b\b\b\b\b\b\b\b 89% - train.tsv\b\b\b\b\b\b\b\b\b\b\b\b\b\b\b\b                \b\b\b\b\b\b\b\b\b\b\b\b\b\b\b\b 92% - train.tsv\b\b\b\b\b\b\b\b\b\b\b\b\b\b\b\b                \b\b\b\b\b\b\b\b\b\b\b\b\b\b\b\b 95% - train.tsv\b\b\b\b\b\b\b\b\b\b\b\b\b\b\b\b                \b\b\b\b\b\b\b\b\b\b\b\b\b\b\b\b 99% - train.tsv\b\b\b\b\b\b\b\b\b\b\b\b\b\b\b\b                \b\b\b\b\b\b\b\b\b\b\b\b\b\b\b\bEverything is Ok\r\n",
      "\r\n",
      "Size:       337809843\r\n",
      "Compressed: 77912192\r\n",
      "\r\n",
      "7-Zip (a) [64] 16.02 : Copyright (c) 1999-2016 Igor Pavlov : 2016-05-21\r\n",
      "p7zip Version 16.02 (locale=C.UTF-8,Utf16=on,HugeFiles=on,64 bits,2 CPUs Intel(R) Xeon(R) CPU @ 2.00GHz (50653),ASM,AES-NI)\r\n",
      "\r\n",
      "Scanning the drive for archives:\r\n",
      "  0M Scan /kaggle/input/mercari-price-suggestion-challenge/\b\b\b\b\b\b\b\b\b\b\b\b\b\b\b\b\b\b\b\b\b\b\b\b\b\b\b\b\b\b\b\b\b\b\b\b\b\b\b\b\b\b\b\b\b\b\b\b\b\b\b\b\b\b\b\b\b\b\b                                                           \b\b\b\b\b\b\b\b\b\b\b\b\b\b\b\b\b\b\b\b\b\b\b\b\b\b\b\b\b\b\b\b\b\b\b\b\b\b\b\b\b\b\b\b\b\b\b\b\b\b\b\b\b\b\b\b\b\b\b1 file, 35617013 bytes (34 MiB)\r\n",
      "\r\n",
      "Extracting archive: /kaggle/input/mercari-price-suggestion-challenge/test.tsv.7z\r\n",
      "--\r\n",
      "Path = /kaggle/input/mercari-price-suggestion-challenge/test.tsv.7z\r\n",
      "Type = 7z\r\n",
      "Physical Size = 35617013\r\n",
      "Headers Size = 122\r\n",
      "Method = LZMA2:24\r\n",
      "Solid = -\r\n",
      "Blocks = 1\r\n",
      "\r\n",
      "  0%\b\b\b\b    \b\b\b\b  5% - test.tsv\b\b\b\b\b\b\b\b\b\b\b\b\b\b\b               \b\b\b\b\b\b\b\b\b\b\b\b\b\b\b 13% - test.tsv\b\b\b\b\b\b\b\b\b\b\b\b\b\b\b               \b\b\b\b\b\b\b\b\b\b\b\b\b\b\b 21% - test.tsv\b\b\b\b\b\b\b\b\b\b\b\b\b\b\b               \b\b\b\b\b\b\b\b\b\b\b\b\b\b\b 29% - test.tsv\b\b\b\b\b\b\b\b\b\b\b\b\b\b\b               \b\b\b\b\b\b\b\b\b\b\b\b\b\b\b 38% - test.tsv\b\b\b\b\b\b\b\b\b\b\b\b\b\b\b               \b\b\b\b\b\b\b\b\b\b\b\b\b\b\b 44% - test.tsv\b\b\b\b\b\b\b\b\b\b\b\b\b\b\b               \b\b\b\b\b\b\b\b\b\b\b\b\b\b\b 51% - test.tsv\b\b\b\b\b\b\b\b\b\b\b\b\b\b\b               \b\b\b\b\b\b\b\b\b\b\b\b\b\b\b 59% - test.tsv\b\b\b\b\b\b\b\b\b\b\b\b\b\b\b               \b\b\b\b\b\b\b\b\b\b\b\b\b\b\b 67% - test.tsv\b\b\b\b\b\b\b\b\b\b\b\b\b\b\b               \b\b\b\b\b\b\b\b\b\b\b\b\b\b\b 76% - test.tsv\b\b\b\b\b\b\b\b\b\b\b\b\b\b\b               \b\b\b\b\b\b\b\b\b\b\b\b\b\b\b 84% - test.tsv\b\b\b\b\b\b\b\b\b\b\b\b\b\b\b               \b\b\b\b\b\b\b\b\b\b\b\b\b\b\b 92% - test.tsv\b\b\b\b\b\b\b\b\b\b\b\b\b\b\b               \b\b\b\b\b\b\b\b\b\b\b\b\b\b\b100% 1\b\b\b\b\b\b      \b\b\b\b\b\bEverything is Ok\r\n",
      "\r\n",
      "Size:       154222160\r\n",
      "Compressed: 35617013\r\n",
      "\r\n",
      "7-Zip (a) [64] 16.02 : Copyright (c) 1999-2016 Igor Pavlov : 2016-05-21\r\n",
      "p7zip Version 16.02 (locale=C.UTF-8,Utf16=on,HugeFiles=on,64 bits,2 CPUs Intel(R) Xeon(R) CPU @ 2.00GHz (50653),ASM,AES-NI)\r\n",
      "\r\n",
      "Scanning the drive for archives:\r\n",
      "  0M Scan /kaggle/input/mercari-price-suggestion-challenge/\b\b\b\b\b\b\b\b\b\b\b\b\b\b\b\b\b\b\b\b\b\b\b\b\b\b\b\b\b\b\b\b\b\b\b\b\b\b\b\b\b\b\b\b\b\b\b\b\b\b\b\b\b\b\b\b\b\b\b                                                           \b\b\b\b\b\b\b\b\b\b\b\b\b\b\b\b\b\b\b\b\b\b\b\b\b\b\b\b\b\b\b\b\b\b\b\b\b\b\b\b\b\b\b\b\b\b\b\b\b\b\b\b\b\b\b\b\b\b\b1 file, 174228 bytes (171 KiB)\r\n",
      "\r\n",
      "Extracting archive: /kaggle/input/mercari-price-suggestion-challenge/sample_submission.csv.7z\r\n",
      "--\r\n",
      "Path = /kaggle/input/mercari-price-suggestion-challenge/sample_submission.csv.7z\r\n",
      "Type = 7z\r\n",
      "Physical Size = 174228\r\n",
      "Headers Size = 143\r\n",
      "Method = LZMA:12m\r\n",
      "Solid = -\r\n",
      "Blocks = 1\r\n",
      "\r\n",
      "  0%\b\b\b\b    \b\b\b\bEverything is Ok\r\n",
      "\r\n",
      "Size:       9595930\r\n",
      "Compressed: 174228\r\n"
     ]
    }
   ],
   "source": [
    "!apt-get install p7zip\n",
    "!p7zip -d -f -k /kaggle/input/mercari-price-suggestion-challenge/train.tsv.7z\n",
    "!p7zip -d -f -k /kaggle/input/mercari-price-suggestion-challenge/test.tsv.7z\n",
    "!p7zip -d -f -k /kaggle/input/mercari-price-suggestion-challenge/sample_submission.csv.7z"
   ]
  },
  {
   "cell_type": "code",
   "execution_count": 4,
   "id": "departmental-engineering",
   "metadata": {
    "_kg_hide-output": true,
    "execution": {
     "iopub.execute_input": "2021-07-07T08:41:24.853619Z",
     "iopub.status.busy": "2021-07-07T08:41:24.848825Z",
     "iopub.status.idle": "2021-07-07T08:41:34.973030Z",
     "shell.execute_reply": "2021-07-07T08:41:34.972550Z"
    },
    "papermill": {
     "duration": 10.1804,
     "end_time": "2021-07-07T08:41:34.973161",
     "exception": false,
     "start_time": "2021-07-07T08:41:24.792761",
     "status": "completed"
    },
    "tags": []
   },
   "outputs": [
    {
     "name": "stdout",
     "output_type": "stream",
     "text": [
      "Archive:  /kaggle/input/mercari-price-suggestion-challenge/sample_submission_stg2.csv.zip\r\n",
      "  inflating: sample_submission_stg2.csv  \r\n",
      "Archive:  /kaggle/input/mercari-price-suggestion-challenge/test_stg2.tsv.zip\r\n",
      "  inflating: test_stg2.tsv           \r\n"
     ]
    }
   ],
   "source": [
    "!unzip /kaggle/input/mercari-price-suggestion-challenge/sample_submission_stg2.csv.zip\n",
    "!unzip /kaggle/input/mercari-price-suggestion-challenge/test_stg2.tsv.zip"
   ]
  },
  {
   "cell_type": "markdown",
   "id": "tight-paint",
   "metadata": {
    "papermill": {
     "duration": 0.055096,
     "end_time": "2021-07-07T08:41:35.085132",
     "exception": false,
     "start_time": "2021-07-07T08:41:35.030036",
     "status": "completed"
    },
    "tags": []
   },
   "source": [
    "# Datasets"
   ]
  },
  {
   "cell_type": "code",
   "execution_count": 5,
   "id": "numerical-boxing",
   "metadata": {
    "execution": {
     "iopub.execute_input": "2021-07-07T08:41:35.196526Z",
     "iopub.status.busy": "2021-07-07T08:41:35.195604Z",
     "iopub.status.idle": "2021-07-07T08:41:39.541338Z",
     "shell.execute_reply": "2021-07-07T08:41:39.540899Z"
    },
    "papermill": {
     "duration": 4.403664,
     "end_time": "2021-07-07T08:41:39.541541",
     "exception": false,
     "start_time": "2021-07-07T08:41:35.137877",
     "status": "completed"
    },
    "tags": []
   },
   "outputs": [
    {
     "name": "stdout",
     "output_type": "stream",
     "text": [
      "(1482535, 8)\n"
     ]
    },
    {
     "data": {
      "text/html": [
       "<div>\n",
       "<style scoped>\n",
       "    .dataframe tbody tr th:only-of-type {\n",
       "        vertical-align: middle;\n",
       "    }\n",
       "\n",
       "    .dataframe tbody tr th {\n",
       "        vertical-align: top;\n",
       "    }\n",
       "\n",
       "    .dataframe thead th {\n",
       "        text-align: right;\n",
       "    }\n",
       "</style>\n",
       "<table border=\"1\" class=\"dataframe\">\n",
       "  <thead>\n",
       "    <tr style=\"text-align: right;\">\n",
       "      <th></th>\n",
       "      <th>train_id</th>\n",
       "      <th>name</th>\n",
       "      <th>item_condition_id</th>\n",
       "      <th>category_name</th>\n",
       "      <th>brand_name</th>\n",
       "      <th>price</th>\n",
       "      <th>shipping</th>\n",
       "      <th>item_description</th>\n",
       "    </tr>\n",
       "  </thead>\n",
       "  <tbody>\n",
       "    <tr>\n",
       "      <th>0</th>\n",
       "      <td>0</td>\n",
       "      <td>MLB Cincinnati Reds T Shirt Size XL</td>\n",
       "      <td>3</td>\n",
       "      <td>Men/Tops/T-shirts</td>\n",
       "      <td>NaN</td>\n",
       "      <td>10.0</td>\n",
       "      <td>1</td>\n",
       "      <td>No description yet</td>\n",
       "    </tr>\n",
       "    <tr>\n",
       "      <th>1</th>\n",
       "      <td>1</td>\n",
       "      <td>Razer BlackWidow Chroma Keyboard</td>\n",
       "      <td>3</td>\n",
       "      <td>Electronics/Computers &amp; Tablets/Components &amp; P...</td>\n",
       "      <td>Razer</td>\n",
       "      <td>52.0</td>\n",
       "      <td>0</td>\n",
       "      <td>This keyboard is in great condition and works ...</td>\n",
       "    </tr>\n",
       "    <tr>\n",
       "      <th>2</th>\n",
       "      <td>2</td>\n",
       "      <td>AVA-VIV Blouse</td>\n",
       "      <td>1</td>\n",
       "      <td>Women/Tops &amp; Blouses/Blouse</td>\n",
       "      <td>Target</td>\n",
       "      <td>10.0</td>\n",
       "      <td>1</td>\n",
       "      <td>Adorable top with a hint of lace and a key hol...</td>\n",
       "    </tr>\n",
       "    <tr>\n",
       "      <th>3</th>\n",
       "      <td>3</td>\n",
       "      <td>Leather Horse Statues</td>\n",
       "      <td>1</td>\n",
       "      <td>Home/Home Décor/Home Décor Accents</td>\n",
       "      <td>NaN</td>\n",
       "      <td>35.0</td>\n",
       "      <td>1</td>\n",
       "      <td>New with tags. Leather horses. Retail for [rm]...</td>\n",
       "    </tr>\n",
       "    <tr>\n",
       "      <th>4</th>\n",
       "      <td>4</td>\n",
       "      <td>24K GOLD plated rose</td>\n",
       "      <td>1</td>\n",
       "      <td>Women/Jewelry/Necklaces</td>\n",
       "      <td>NaN</td>\n",
       "      <td>44.0</td>\n",
       "      <td>0</td>\n",
       "      <td>Complete with certificate of authenticity</td>\n",
       "    </tr>\n",
       "    <tr>\n",
       "      <th>5</th>\n",
       "      <td>5</td>\n",
       "      <td>Bundled items requested for Ruie</td>\n",
       "      <td>3</td>\n",
       "      <td>Women/Other/Other</td>\n",
       "      <td>NaN</td>\n",
       "      <td>59.0</td>\n",
       "      <td>0</td>\n",
       "      <td>Banana republic bottoms, Candies skirt with ma...</td>\n",
       "    </tr>\n",
       "    <tr>\n",
       "      <th>6</th>\n",
       "      <td>6</td>\n",
       "      <td>Acacia pacific tides santorini top</td>\n",
       "      <td>3</td>\n",
       "      <td>Women/Swimwear/Two-Piece</td>\n",
       "      <td>Acacia Swimwear</td>\n",
       "      <td>64.0</td>\n",
       "      <td>0</td>\n",
       "      <td>Size small but straps slightly shortened to fi...</td>\n",
       "    </tr>\n",
       "    <tr>\n",
       "      <th>7</th>\n",
       "      <td>7</td>\n",
       "      <td>Girls cheer and tumbling bundle of 7</td>\n",
       "      <td>3</td>\n",
       "      <td>Sports &amp; Outdoors/Apparel/Girls</td>\n",
       "      <td>Soffe</td>\n",
       "      <td>6.0</td>\n",
       "      <td>1</td>\n",
       "      <td>You get three pairs of Sophie cheer shorts siz...</td>\n",
       "    </tr>\n",
       "    <tr>\n",
       "      <th>8</th>\n",
       "      <td>8</td>\n",
       "      <td>Girls Nike Pro shorts</td>\n",
       "      <td>3</td>\n",
       "      <td>Sports &amp; Outdoors/Apparel/Girls</td>\n",
       "      <td>Nike</td>\n",
       "      <td>19.0</td>\n",
       "      <td>0</td>\n",
       "      <td>Girls Size small Plus green. Three shorts total.</td>\n",
       "    </tr>\n",
       "    <tr>\n",
       "      <th>9</th>\n",
       "      <td>9</td>\n",
       "      <td>Porcelain clown doll checker pants VTG</td>\n",
       "      <td>3</td>\n",
       "      <td>Vintage &amp; Collectibles/Collectibles/Doll</td>\n",
       "      <td>NaN</td>\n",
       "      <td>8.0</td>\n",
       "      <td>0</td>\n",
       "      <td>I realized his pants are on backwards after th...</td>\n",
       "    </tr>\n",
       "  </tbody>\n",
       "</table>\n",
       "</div>"
      ],
      "text/plain": [
       "   train_id                                    name  item_condition_id  \\\n",
       "0         0     MLB Cincinnati Reds T Shirt Size XL                  3   \n",
       "1         1        Razer BlackWidow Chroma Keyboard                  3   \n",
       "2         2                          AVA-VIV Blouse                  1   \n",
       "3         3                   Leather Horse Statues                  1   \n",
       "4         4                    24K GOLD plated rose                  1   \n",
       "5         5        Bundled items requested for Ruie                  3   \n",
       "6         6      Acacia pacific tides santorini top                  3   \n",
       "7         7    Girls cheer and tumbling bundle of 7                  3   \n",
       "8         8                   Girls Nike Pro shorts                  3   \n",
       "9         9  Porcelain clown doll checker pants VTG                  3   \n",
       "\n",
       "                                       category_name       brand_name  price  \\\n",
       "0                                  Men/Tops/T-shirts              NaN   10.0   \n",
       "1  Electronics/Computers & Tablets/Components & P...            Razer   52.0   \n",
       "2                        Women/Tops & Blouses/Blouse           Target   10.0   \n",
       "3                 Home/Home Décor/Home Décor Accents              NaN   35.0   \n",
       "4                            Women/Jewelry/Necklaces              NaN   44.0   \n",
       "5                                  Women/Other/Other              NaN   59.0   \n",
       "6                           Women/Swimwear/Two-Piece  Acacia Swimwear   64.0   \n",
       "7                    Sports & Outdoors/Apparel/Girls            Soffe    6.0   \n",
       "8                    Sports & Outdoors/Apparel/Girls             Nike   19.0   \n",
       "9           Vintage & Collectibles/Collectibles/Doll              NaN    8.0   \n",
       "\n",
       "   shipping                                   item_description  \n",
       "0         1                                 No description yet  \n",
       "1         0  This keyboard is in great condition and works ...  \n",
       "2         1  Adorable top with a hint of lace and a key hol...  \n",
       "3         1  New with tags. Leather horses. Retail for [rm]...  \n",
       "4         0          Complete with certificate of authenticity  \n",
       "5         0  Banana republic bottoms, Candies skirt with ma...  \n",
       "6         0  Size small but straps slightly shortened to fi...  \n",
       "7         1  You get three pairs of Sophie cheer shorts siz...  \n",
       "8         0   Girls Size small Plus green. Three shorts total.  \n",
       "9         0  I realized his pants are on backwards after th...  "
      ]
     },
     "execution_count": 5,
     "metadata": {},
     "output_type": "execute_result"
    }
   ],
   "source": [
    "train = pd.read_csv('train.tsv', sep='\\t')\n",
    "\n",
    "print(train.shape)\n",
    "train.head(10)"
   ]
  },
  {
   "cell_type": "code",
   "execution_count": 6,
   "id": "flush-stable",
   "metadata": {
    "_kg_hide-input": true,
    "execution": {
     "iopub.execute_input": "2021-07-07T08:41:40.207761Z",
     "iopub.status.busy": "2021-07-07T08:41:40.206997Z",
     "iopub.status.idle": "2021-07-07T08:41:40.210820Z",
     "shell.execute_reply": "2021-07-07T08:41:40.211256Z"
    },
    "papermill": {
     "duration": 0.612729,
     "end_time": "2021-07-07T08:41:40.211390",
     "exception": false,
     "start_time": "2021-07-07T08:41:39.598661",
     "status": "completed"
    },
    "tags": []
   },
   "outputs": [
    {
     "data": {
      "text/html": [
       "<div>\n",
       "<style scoped>\n",
       "    .dataframe tbody tr th:only-of-type {\n",
       "        vertical-align: middle;\n",
       "    }\n",
       "\n",
       "    .dataframe tbody tr th {\n",
       "        vertical-align: top;\n",
       "    }\n",
       "\n",
       "    .dataframe thead th {\n",
       "        text-align: right;\n",
       "    }\n",
       "</style>\n",
       "<table border=\"1\" class=\"dataframe\">\n",
       "  <thead>\n",
       "    <tr style=\"text-align: right;\">\n",
       "      <th></th>\n",
       "      <th>カラム</th>\n",
       "      <th>意味</th>\n",
       "    </tr>\n",
       "  </thead>\n",
       "  <tbody>\n",
       "    <tr>\n",
       "      <th>0</th>\n",
       "      <td>train_id</td>\n",
       "      <td>商品ID</td>\n",
       "    </tr>\n",
       "    <tr>\n",
       "      <th>1</th>\n",
       "      <td>name</td>\n",
       "      <td>商品名</td>\n",
       "    </tr>\n",
       "    <tr>\n",
       "      <th>2</th>\n",
       "      <td>item_condition_id</td>\n",
       "      <td>商品の状態</td>\n",
       "    </tr>\n",
       "    <tr>\n",
       "      <th>3</th>\n",
       "      <td>category_name</td>\n",
       "      <td>カテゴリー名</td>\n",
       "    </tr>\n",
       "    <tr>\n",
       "      <th>4</th>\n",
       "      <td>brand_name</td>\n",
       "      <td>ブランド名</td>\n",
       "    </tr>\n",
       "    <tr>\n",
       "      <th>5</th>\n",
       "      <td>price</td>\n",
       "      <td>価格（単位：ドル）</td>\n",
       "    </tr>\n",
       "    <tr>\n",
       "      <th>6</th>\n",
       "      <td>shipping</td>\n",
       "      <td>送料が売手負担かどうか</td>\n",
       "    </tr>\n",
       "    <tr>\n",
       "      <th>7</th>\n",
       "      <td>item_description</td>\n",
       "      <td>商品説明</td>\n",
       "    </tr>\n",
       "  </tbody>\n",
       "</table>\n",
       "</div>"
      ],
      "text/plain": [
       "                 カラム           意味\n",
       "0           train_id         商品ID\n",
       "1               name          商品名\n",
       "2  item_condition_id        商品の状態\n",
       "3      category_name       カテゴリー名\n",
       "4         brand_name        ブランド名\n",
       "5              price    価格（単位：ドル）\n",
       "6           shipping  送料が売手負担かどうか\n",
       "7   item_description         商品説明"
      ]
     },
     "execution_count": 6,
     "metadata": {},
     "output_type": "execute_result"
    }
   ],
   "source": [
    "pd.DataFrame([['train_id', '商品ID'],\n",
    "              ['name', '商品名'],\n",
    "              ['item_condition_id', '商品の状態'],\n",
    "              ['category_name', 'カテゴリー名'],\n",
    "              ['brand_name', 'ブランド名'],\n",
    "              ['price', '価格（単位：ドル）'],\n",
    "              ['shipping', '送料が売手負担かどうか'],['item_description', '商品説明']],\n",
    "              columns=['カラム', '意味'])"
   ]
  },
  {
   "cell_type": "markdown",
   "id": "critical-batch",
   "metadata": {
    "execution": {
     "iopub.execute_input": "2021-07-02T06:56:15.612722Z",
     "iopub.status.busy": "2021-07-02T06:56:15.612322Z",
     "iopub.status.idle": "2021-07-02T06:56:15.618286Z",
     "shell.execute_reply": "2021-07-02T06:56:15.617229Z",
     "shell.execute_reply.started": "2021-07-02T06:56:15.612688Z"
    },
    "papermill": {
     "duration": 0.05333,
     "end_time": "2021-07-07T08:41:40.319530",
     "exception": false,
     "start_time": "2021-07-07T08:41:40.266200",
     "status": "completed"
    },
    "tags": []
   },
   "source": [
    "testデータは、test.tsvとtest_stg2.tsvがある。<br>\n",
    "submitのときには、test_stg2を使用する。"
   ]
  },
  {
   "cell_type": "code",
   "execution_count": 7,
   "id": "quick-sensitivity",
   "metadata": {
    "execution": {
     "iopub.execute_input": "2021-07-07T08:41:40.637426Z",
     "iopub.status.busy": "2021-07-07T08:41:40.592105Z",
     "iopub.status.idle": "2021-07-07T08:41:42.890830Z",
     "shell.execute_reply": "2021-07-07T08:41:42.890132Z"
    },
    "papermill": {
     "duration": 2.499187,
     "end_time": "2021-07-07T08:41:42.890961",
     "exception": false,
     "start_time": "2021-07-07T08:41:40.391774",
     "status": "completed"
    },
    "tags": []
   },
   "outputs": [
    {
     "name": "stdout",
     "output_type": "stream",
     "text": [
      "(693359, 7)\n"
     ]
    },
    {
     "data": {
      "text/html": [
       "<div>\n",
       "<style scoped>\n",
       "    .dataframe tbody tr th:only-of-type {\n",
       "        vertical-align: middle;\n",
       "    }\n",
       "\n",
       "    .dataframe tbody tr th {\n",
       "        vertical-align: top;\n",
       "    }\n",
       "\n",
       "    .dataframe thead th {\n",
       "        text-align: right;\n",
       "    }\n",
       "</style>\n",
       "<table border=\"1\" class=\"dataframe\">\n",
       "  <thead>\n",
       "    <tr style=\"text-align: right;\">\n",
       "      <th></th>\n",
       "      <th>test_id</th>\n",
       "      <th>name</th>\n",
       "      <th>item_condition_id</th>\n",
       "      <th>category_name</th>\n",
       "      <th>brand_name</th>\n",
       "      <th>shipping</th>\n",
       "      <th>item_description</th>\n",
       "    </tr>\n",
       "  </thead>\n",
       "  <tbody>\n",
       "    <tr>\n",
       "      <th>0</th>\n",
       "      <td>0</td>\n",
       "      <td>Breast cancer \"I fight like a girl\" ring</td>\n",
       "      <td>1</td>\n",
       "      <td>Women/Jewelry/Rings</td>\n",
       "      <td>NaN</td>\n",
       "      <td>1</td>\n",
       "      <td>Size 7</td>\n",
       "    </tr>\n",
       "    <tr>\n",
       "      <th>1</th>\n",
       "      <td>1</td>\n",
       "      <td>25 pcs NEW 7.5\"x12\" Kraft Bubble Mailers</td>\n",
       "      <td>1</td>\n",
       "      <td>Other/Office supplies/Shipping Supplies</td>\n",
       "      <td>NaN</td>\n",
       "      <td>1</td>\n",
       "      <td>25 pcs NEW 7.5\"x12\" Kraft Bubble Mailers Lined...</td>\n",
       "    </tr>\n",
       "    <tr>\n",
       "      <th>2</th>\n",
       "      <td>2</td>\n",
       "      <td>Coach bag</td>\n",
       "      <td>1</td>\n",
       "      <td>Vintage &amp; Collectibles/Bags and Purses/Handbag</td>\n",
       "      <td>Coach</td>\n",
       "      <td>1</td>\n",
       "      <td>Brand new coach bag. Bought for [rm] at a Coac...</td>\n",
       "    </tr>\n",
       "    <tr>\n",
       "      <th>3</th>\n",
       "      <td>3</td>\n",
       "      <td>Floral Kimono</td>\n",
       "      <td>2</td>\n",
       "      <td>Women/Sweaters/Cardigan</td>\n",
       "      <td>NaN</td>\n",
       "      <td>0</td>\n",
       "      <td>-floral kimono -never worn -lightweight and pe...</td>\n",
       "    </tr>\n",
       "    <tr>\n",
       "      <th>4</th>\n",
       "      <td>4</td>\n",
       "      <td>Life after Death</td>\n",
       "      <td>3</td>\n",
       "      <td>Other/Books/Religion &amp; Spirituality</td>\n",
       "      <td>NaN</td>\n",
       "      <td>1</td>\n",
       "      <td>Rediscovering life after the loss of a loved o...</td>\n",
       "    </tr>\n",
       "    <tr>\n",
       "      <th>5</th>\n",
       "      <td>5</td>\n",
       "      <td>iPhone 6 Plus or 6s Plus Vodka pink case</td>\n",
       "      <td>1</td>\n",
       "      <td>Electronics/Cell Phones &amp; Accessories/Cases, C...</td>\n",
       "      <td>NaN</td>\n",
       "      <td>1</td>\n",
       "      <td>One Absolut Vodka in Pink for iPhone 6 Plus an...</td>\n",
       "    </tr>\n",
       "    <tr>\n",
       "      <th>6</th>\n",
       "      <td>6</td>\n",
       "      <td>Vintage Cameo Pendant &amp; Brooch Pin</td>\n",
       "      <td>3</td>\n",
       "      <td>Women/Jewelry/Necklaces</td>\n",
       "      <td>Vintage</td>\n",
       "      <td>1</td>\n",
       "      <td>Two vintage Cameo pieces. 1. Silver metal Lock...</td>\n",
       "    </tr>\n",
       "    <tr>\n",
       "      <th>7</th>\n",
       "      <td>7</td>\n",
       "      <td>Rose Gold Stainless Steel Quartz Watch</td>\n",
       "      <td>1</td>\n",
       "      <td>Women/Women's Accessories/Watches</td>\n",
       "      <td>NaN</td>\n",
       "      <td>1</td>\n",
       "      <td>Brand new Price firm No trades Box included wi...</td>\n",
       "    </tr>\n",
       "    <tr>\n",
       "      <th>8</th>\n",
       "      <td>8</td>\n",
       "      <td>Daisy Marc Jacobs 3.4oz</td>\n",
       "      <td>3</td>\n",
       "      <td>Beauty/Fragrance/Women</td>\n",
       "      <td>MARC JACOBS</td>\n",
       "      <td>0</td>\n",
       "      <td>Brand new No box 100% authentic Firm price NO ...</td>\n",
       "    </tr>\n",
       "    <tr>\n",
       "      <th>9</th>\n",
       "      <td>9</td>\n",
       "      <td>Rose Brushes and Silicone Sponge</td>\n",
       "      <td>1</td>\n",
       "      <td>Beauty/Tools &amp; Accessories/Makeup Brushes &amp; Tools</td>\n",
       "      <td>NaN</td>\n",
       "      <td>1</td>\n",
       "      <td>All new. 12 pcs makeup brushes and one Silicon...</td>\n",
       "    </tr>\n",
       "  </tbody>\n",
       "</table>\n",
       "</div>"
      ],
      "text/plain": [
       "   test_id                                      name  item_condition_id  \\\n",
       "0        0  Breast cancer \"I fight like a girl\" ring                  1   \n",
       "1        1  25 pcs NEW 7.5\"x12\" Kraft Bubble Mailers                  1   \n",
       "2        2                                 Coach bag                  1   \n",
       "3        3                             Floral Kimono                  2   \n",
       "4        4                          Life after Death                  3   \n",
       "5        5  iPhone 6 Plus or 6s Plus Vodka pink case                  1   \n",
       "6        6        Vintage Cameo Pendant & Brooch Pin                  3   \n",
       "7        7    Rose Gold Stainless Steel Quartz Watch                  1   \n",
       "8        8                   Daisy Marc Jacobs 3.4oz                  3   \n",
       "9        9          Rose Brushes and Silicone Sponge                  1   \n",
       "\n",
       "                                       category_name   brand_name  shipping  \\\n",
       "0                                Women/Jewelry/Rings          NaN         1   \n",
       "1            Other/Office supplies/Shipping Supplies          NaN         1   \n",
       "2     Vintage & Collectibles/Bags and Purses/Handbag        Coach         1   \n",
       "3                            Women/Sweaters/Cardigan          NaN         0   \n",
       "4                Other/Books/Religion & Spirituality          NaN         1   \n",
       "5  Electronics/Cell Phones & Accessories/Cases, C...          NaN         1   \n",
       "6                            Women/Jewelry/Necklaces      Vintage         1   \n",
       "7                  Women/Women's Accessories/Watches          NaN         1   \n",
       "8                             Beauty/Fragrance/Women  MARC JACOBS         0   \n",
       "9  Beauty/Tools & Accessories/Makeup Brushes & Tools          NaN         1   \n",
       "\n",
       "                                    item_description  \n",
       "0                                             Size 7  \n",
       "1  25 pcs NEW 7.5\"x12\" Kraft Bubble Mailers Lined...  \n",
       "2  Brand new coach bag. Bought for [rm] at a Coac...  \n",
       "3  -floral kimono -never worn -lightweight and pe...  \n",
       "4  Rediscovering life after the loss of a loved o...  \n",
       "5  One Absolut Vodka in Pink for iPhone 6 Plus an...  \n",
       "6  Two vintage Cameo pieces. 1. Silver metal Lock...  \n",
       "7  Brand new Price firm No trades Box included wi...  \n",
       "8  Brand new No box 100% authentic Firm price NO ...  \n",
       "9  All new. 12 pcs makeup brushes and one Silicon...  "
      ]
     },
     "execution_count": 7,
     "metadata": {},
     "output_type": "execute_result"
    }
   ],
   "source": [
    "test_dummy = pd.read_csv('test.tsv', sep='\\t')\n",
    "\n",
    "print(test_dummy.shape)\n",
    "test_dummy.head(10)"
   ]
  },
  {
   "cell_type": "code",
   "execution_count": 8,
   "id": "visible-stock",
   "metadata": {
    "_kg_hide-input": true,
    "execution": {
     "iopub.execute_input": "2021-07-07T08:41:43.010495Z",
     "iopub.status.busy": "2021-07-07T08:41:43.009582Z",
     "iopub.status.idle": "2021-07-07T08:41:43.013680Z",
     "shell.execute_reply": "2021-07-07T08:41:43.013257Z"
    },
    "papermill": {
     "duration": 0.067654,
     "end_time": "2021-07-07T08:41:43.013790",
     "exception": false,
     "start_time": "2021-07-07T08:41:42.946136",
     "status": "completed"
    },
    "tags": []
   },
   "outputs": [
    {
     "data": {
      "text/html": [
       "<div>\n",
       "<style scoped>\n",
       "    .dataframe tbody tr th:only-of-type {\n",
       "        vertical-align: middle;\n",
       "    }\n",
       "\n",
       "    .dataframe tbody tr th {\n",
       "        vertical-align: top;\n",
       "    }\n",
       "\n",
       "    .dataframe thead th {\n",
       "        text-align: right;\n",
       "    }\n",
       "</style>\n",
       "<table border=\"1\" class=\"dataframe\">\n",
       "  <thead>\n",
       "    <tr style=\"text-align: right;\">\n",
       "      <th></th>\n",
       "      <th>カラム</th>\n",
       "      <th>意味</th>\n",
       "    </tr>\n",
       "  </thead>\n",
       "  <tbody>\n",
       "    <tr>\n",
       "      <th>0</th>\n",
       "      <td>test_id</td>\n",
       "      <td>商品ID</td>\n",
       "    </tr>\n",
       "    <tr>\n",
       "      <th>1</th>\n",
       "      <td>name</td>\n",
       "      <td>商品名</td>\n",
       "    </tr>\n",
       "    <tr>\n",
       "      <th>2</th>\n",
       "      <td>item_condition_id</td>\n",
       "      <td>商品の状態</td>\n",
       "    </tr>\n",
       "    <tr>\n",
       "      <th>3</th>\n",
       "      <td>category_name</td>\n",
       "      <td>カテゴリー名</td>\n",
       "    </tr>\n",
       "    <tr>\n",
       "      <th>4</th>\n",
       "      <td>brand_name</td>\n",
       "      <td>ブランド名</td>\n",
       "    </tr>\n",
       "    <tr>\n",
       "      <th>5</th>\n",
       "      <td>shipping</td>\n",
       "      <td>送料が売手負担かどうか</td>\n",
       "    </tr>\n",
       "    <tr>\n",
       "      <th>6</th>\n",
       "      <td>item_description</td>\n",
       "      <td>商品説明</td>\n",
       "    </tr>\n",
       "  </tbody>\n",
       "</table>\n",
       "</div>"
      ],
      "text/plain": [
       "                 カラム           意味\n",
       "0            test_id         商品ID\n",
       "1               name          商品名\n",
       "2  item_condition_id        商品の状態\n",
       "3      category_name       カテゴリー名\n",
       "4         brand_name        ブランド名\n",
       "5           shipping  送料が売手負担かどうか\n",
       "6   item_description         商品説明"
      ]
     },
     "execution_count": 8,
     "metadata": {},
     "output_type": "execute_result"
    }
   ],
   "source": [
    "pd.DataFrame([['test_id', '商品ID'],\n",
    "              ['name', '商品名'],\n",
    "              ['item_condition_id', '商品の状態'],\n",
    "              ['category_name', 'カテゴリー名'],\n",
    "              ['brand_name', 'ブランド名'],\n",
    "              ['shipping', '送料が売手負担かどうか'],['item_description', '商品説明']],\n",
    "              columns=['カラム', '意味'])"
   ]
  },
  {
   "cell_type": "code",
   "execution_count": 9,
   "id": "secondary-phrase",
   "metadata": {
    "execution": {
     "iopub.execute_input": "2021-07-07T08:41:43.129302Z",
     "iopub.status.busy": "2021-07-07T08:41:43.128565Z",
     "iopub.status.idle": "2021-07-07T08:41:53.423888Z",
     "shell.execute_reply": "2021-07-07T08:41:53.423469Z"
    },
    "papermill": {
     "duration": 10.354857,
     "end_time": "2021-07-07T08:41:53.424008",
     "exception": false,
     "start_time": "2021-07-07T08:41:43.069151",
     "status": "completed"
    },
    "tags": []
   },
   "outputs": [
    {
     "name": "stdout",
     "output_type": "stream",
     "text": [
      "(3460725, 7)\n"
     ]
    },
    {
     "data": {
      "text/html": [
       "<div>\n",
       "<style scoped>\n",
       "    .dataframe tbody tr th:only-of-type {\n",
       "        vertical-align: middle;\n",
       "    }\n",
       "\n",
       "    .dataframe tbody tr th {\n",
       "        vertical-align: top;\n",
       "    }\n",
       "\n",
       "    .dataframe thead th {\n",
       "        text-align: right;\n",
       "    }\n",
       "</style>\n",
       "<table border=\"1\" class=\"dataframe\">\n",
       "  <thead>\n",
       "    <tr style=\"text-align: right;\">\n",
       "      <th></th>\n",
       "      <th>test_id</th>\n",
       "      <th>name</th>\n",
       "      <th>item_condition_id</th>\n",
       "      <th>category_name</th>\n",
       "      <th>brand_name</th>\n",
       "      <th>shipping</th>\n",
       "      <th>item_description</th>\n",
       "    </tr>\n",
       "  </thead>\n",
       "  <tbody>\n",
       "    <tr>\n",
       "      <th>0</th>\n",
       "      <td>0</td>\n",
       "      <td>Breast cancer \"I fight like a girl\" ring</td>\n",
       "      <td>1</td>\n",
       "      <td>Women/Jewelry/Rings</td>\n",
       "      <td>NaN</td>\n",
       "      <td>1</td>\n",
       "      <td>Size 7</td>\n",
       "    </tr>\n",
       "    <tr>\n",
       "      <th>1</th>\n",
       "      <td>1</td>\n",
       "      <td>25 pcs NEW 7.5\"x12\" Kraft Bubble Mailers</td>\n",
       "      <td>1</td>\n",
       "      <td>Other/Office supplies/Shipping Supplies</td>\n",
       "      <td>NaN</td>\n",
       "      <td>1</td>\n",
       "      <td>25 pcs NEW 7.5\"x12\" Kraft Bubble Mailers Lined...</td>\n",
       "    </tr>\n",
       "    <tr>\n",
       "      <th>2</th>\n",
       "      <td>2</td>\n",
       "      <td>Coach bag</td>\n",
       "      <td>1</td>\n",
       "      <td>Vintage &amp; Collectibles/Bags and Purses/Handbag</td>\n",
       "      <td>Coach</td>\n",
       "      <td>1</td>\n",
       "      <td>Brand new coach bag. Bought for [rm] at a Coac...</td>\n",
       "    </tr>\n",
       "    <tr>\n",
       "      <th>3</th>\n",
       "      <td>3</td>\n",
       "      <td>Floral Kimono</td>\n",
       "      <td>2</td>\n",
       "      <td>Women/Sweaters/Cardigan</td>\n",
       "      <td>NaN</td>\n",
       "      <td>0</td>\n",
       "      <td>-floral kimono -never worn -lightweight and pe...</td>\n",
       "    </tr>\n",
       "    <tr>\n",
       "      <th>4</th>\n",
       "      <td>4</td>\n",
       "      <td>Life after Death</td>\n",
       "      <td>3</td>\n",
       "      <td>Other/Books/Religion &amp; Spirituality</td>\n",
       "      <td>NaN</td>\n",
       "      <td>1</td>\n",
       "      <td>Rediscovering life after the loss of a loved o...</td>\n",
       "    </tr>\n",
       "    <tr>\n",
       "      <th>5</th>\n",
       "      <td>5</td>\n",
       "      <td>iPhone 6 Plus or 6s Plus Vodka pink case</td>\n",
       "      <td>1</td>\n",
       "      <td>Electronics/Cell Phones &amp; Accessories/Cases, C...</td>\n",
       "      <td>NaN</td>\n",
       "      <td>1</td>\n",
       "      <td>One Absolut Vodka in Pink for iPhone 6 Plus an...</td>\n",
       "    </tr>\n",
       "    <tr>\n",
       "      <th>6</th>\n",
       "      <td>6</td>\n",
       "      <td>Vintage Cameo Pendant &amp; Brooch Pin</td>\n",
       "      <td>3</td>\n",
       "      <td>Women/Jewelry/Necklaces</td>\n",
       "      <td>Vintage</td>\n",
       "      <td>1</td>\n",
       "      <td>Two vintage Cameo pieces. 1. Silver metal Lock...</td>\n",
       "    </tr>\n",
       "    <tr>\n",
       "      <th>7</th>\n",
       "      <td>7</td>\n",
       "      <td>Rose Gold Stainless Steel Quartz Watch</td>\n",
       "      <td>1</td>\n",
       "      <td>Women/Women's Accessories/Watches</td>\n",
       "      <td>NaN</td>\n",
       "      <td>1</td>\n",
       "      <td>Brand new Price firm No trades Box included wi...</td>\n",
       "    </tr>\n",
       "    <tr>\n",
       "      <th>8</th>\n",
       "      <td>8</td>\n",
       "      <td>Daisy Marc Jacobs 3.4oz</td>\n",
       "      <td>3</td>\n",
       "      <td>Beauty/Fragrance/Women</td>\n",
       "      <td>MARC JACOBS</td>\n",
       "      <td>0</td>\n",
       "      <td>Brand new No box 100% authentic Firm price NO ...</td>\n",
       "    </tr>\n",
       "    <tr>\n",
       "      <th>9</th>\n",
       "      <td>9</td>\n",
       "      <td>Rose Brushes and Silicone Sponge</td>\n",
       "      <td>1</td>\n",
       "      <td>Beauty/Tools &amp; Accessories/Makeup Brushes &amp; Tools</td>\n",
       "      <td>NaN</td>\n",
       "      <td>1</td>\n",
       "      <td>All new. 12 pcs makeup brushes and one Silicon...</td>\n",
       "    </tr>\n",
       "  </tbody>\n",
       "</table>\n",
       "</div>"
      ],
      "text/plain": [
       "   test_id                                      name  item_condition_id  \\\n",
       "0        0  Breast cancer \"I fight like a girl\" ring                  1   \n",
       "1        1  25 pcs NEW 7.5\"x12\" Kraft Bubble Mailers                  1   \n",
       "2        2                                 Coach bag                  1   \n",
       "3        3                             Floral Kimono                  2   \n",
       "4        4                          Life after Death                  3   \n",
       "5        5  iPhone 6 Plus or 6s Plus Vodka pink case                  1   \n",
       "6        6        Vintage Cameo Pendant & Brooch Pin                  3   \n",
       "7        7    Rose Gold Stainless Steel Quartz Watch                  1   \n",
       "8        8                   Daisy Marc Jacobs 3.4oz                  3   \n",
       "9        9          Rose Brushes and Silicone Sponge                  1   \n",
       "\n",
       "                                       category_name   brand_name  shipping  \\\n",
       "0                                Women/Jewelry/Rings          NaN         1   \n",
       "1            Other/Office supplies/Shipping Supplies          NaN         1   \n",
       "2     Vintage & Collectibles/Bags and Purses/Handbag        Coach         1   \n",
       "3                            Women/Sweaters/Cardigan          NaN         0   \n",
       "4                Other/Books/Religion & Spirituality          NaN         1   \n",
       "5  Electronics/Cell Phones & Accessories/Cases, C...          NaN         1   \n",
       "6                            Women/Jewelry/Necklaces      Vintage         1   \n",
       "7                  Women/Women's Accessories/Watches          NaN         1   \n",
       "8                             Beauty/Fragrance/Women  MARC JACOBS         0   \n",
       "9  Beauty/Tools & Accessories/Makeup Brushes & Tools          NaN         1   \n",
       "\n",
       "                                    item_description  \n",
       "0                                             Size 7  \n",
       "1  25 pcs NEW 7.5\"x12\" Kraft Bubble Mailers Lined...  \n",
       "2  Brand new coach bag. Bought for [rm] at a Coac...  \n",
       "3  -floral kimono -never worn -lightweight and pe...  \n",
       "4  Rediscovering life after the loss of a loved o...  \n",
       "5  One Absolut Vodka in Pink for iPhone 6 Plus an...  \n",
       "6  Two vintage Cameo pieces. 1. Silver metal Lock...  \n",
       "7  Brand new Price firm No trades Box included wi...  \n",
       "8  Brand new No box 100% authentic Firm price NO ...  \n",
       "9  All new. 12 pcs makeup brushes and one Silicon...  "
      ]
     },
     "execution_count": 9,
     "metadata": {},
     "output_type": "execute_result"
    }
   ],
   "source": [
    "test = pd.read_csv('test_stg2.tsv', sep='\\t')\n",
    "\n",
    "print(test.shape)\n",
    "test.head(10)"
   ]
  },
  {
   "cell_type": "code",
   "execution_count": 10,
   "id": "fitting-wrong",
   "metadata": {
    "_kg_hide-input": true,
    "execution": {
     "iopub.execute_input": "2021-07-07T08:41:53.546659Z",
     "iopub.status.busy": "2021-07-07T08:41:53.546061Z",
     "iopub.status.idle": "2021-07-07T08:41:53.549407Z",
     "shell.execute_reply": "2021-07-07T08:41:53.549798Z"
    },
    "papermill": {
     "duration": 0.069527,
     "end_time": "2021-07-07T08:41:53.549917",
     "exception": false,
     "start_time": "2021-07-07T08:41:53.480390",
     "status": "completed"
    },
    "tags": []
   },
   "outputs": [
    {
     "data": {
      "text/html": [
       "<div>\n",
       "<style scoped>\n",
       "    .dataframe tbody tr th:only-of-type {\n",
       "        vertical-align: middle;\n",
       "    }\n",
       "\n",
       "    .dataframe tbody tr th {\n",
       "        vertical-align: top;\n",
       "    }\n",
       "\n",
       "    .dataframe thead th {\n",
       "        text-align: right;\n",
       "    }\n",
       "</style>\n",
       "<table border=\"1\" class=\"dataframe\">\n",
       "  <thead>\n",
       "    <tr style=\"text-align: right;\">\n",
       "      <th></th>\n",
       "      <th>カラム</th>\n",
       "      <th>意味</th>\n",
       "    </tr>\n",
       "  </thead>\n",
       "  <tbody>\n",
       "    <tr>\n",
       "      <th>0</th>\n",
       "      <td>test_id</td>\n",
       "      <td>商品ID</td>\n",
       "    </tr>\n",
       "    <tr>\n",
       "      <th>1</th>\n",
       "      <td>name</td>\n",
       "      <td>商品名</td>\n",
       "    </tr>\n",
       "    <tr>\n",
       "      <th>2</th>\n",
       "      <td>item_condition_id</td>\n",
       "      <td>商品の状態</td>\n",
       "    </tr>\n",
       "    <tr>\n",
       "      <th>3</th>\n",
       "      <td>category_name</td>\n",
       "      <td>カテゴリー名</td>\n",
       "    </tr>\n",
       "    <tr>\n",
       "      <th>4</th>\n",
       "      <td>brand_name</td>\n",
       "      <td>ブランド名</td>\n",
       "    </tr>\n",
       "    <tr>\n",
       "      <th>5</th>\n",
       "      <td>shipping</td>\n",
       "      <td>送料が売手負担かどうか</td>\n",
       "    </tr>\n",
       "    <tr>\n",
       "      <th>6</th>\n",
       "      <td>item_description</td>\n",
       "      <td>商品説明</td>\n",
       "    </tr>\n",
       "  </tbody>\n",
       "</table>\n",
       "</div>"
      ],
      "text/plain": [
       "                 カラム           意味\n",
       "0            test_id         商品ID\n",
       "1               name          商品名\n",
       "2  item_condition_id        商品の状態\n",
       "3      category_name       カテゴリー名\n",
       "4         brand_name        ブランド名\n",
       "5           shipping  送料が売手負担かどうか\n",
       "6   item_description         商品説明"
      ]
     },
     "execution_count": 10,
     "metadata": {},
     "output_type": "execute_result"
    }
   ],
   "source": [
    "pd.DataFrame([['test_id', '商品ID'],\n",
    "              ['name', '商品名'],\n",
    "              ['item_condition_id', '商品の状態'],\n",
    "              ['category_name', 'カテゴリー名'],\n",
    "              ['brand_name', 'ブランド名'],\n",
    "              ['shipping', '送料が売手負担かどうか'],['item_description', '商品説明']],\n",
    "              columns=['カラム', '意味'])"
   ]
  },
  {
   "cell_type": "code",
   "execution_count": 11,
   "id": "exact-device",
   "metadata": {
    "execution": {
     "iopub.execute_input": "2021-07-07T08:41:53.800426Z",
     "iopub.status.busy": "2021-07-07T08:41:53.799739Z",
     "iopub.status.idle": "2021-07-07T08:41:53.802610Z",
     "shell.execute_reply": "2021-07-07T08:41:53.803019Z"
    },
    "papermill": {
     "duration": 0.197004,
     "end_time": "2021-07-07T08:41:53.803157",
     "exception": false,
     "start_time": "2021-07-07T08:41:53.606153",
     "status": "completed"
    },
    "tags": []
   },
   "outputs": [
    {
     "data": {
      "text/plain": [
       "135"
      ]
     },
     "execution_count": 11,
     "metadata": {},
     "output_type": "execute_result"
    }
   ],
   "source": [
    "del test_dummy\n",
    "gc.collect()"
   ]
  },
  {
   "cell_type": "markdown",
   "id": "productive-pressing",
   "metadata": {
    "papermill": {
     "duration": 0.056131,
     "end_time": "2021-07-07T08:41:53.916025",
     "exception": false,
     "start_time": "2021-07-07T08:41:53.859894",
     "status": "completed"
    },
    "tags": []
   },
   "source": [
    "# Analytics"
   ]
  },
  {
   "cell_type": "code",
   "execution_count": 12,
   "id": "mysterious-appliance",
   "metadata": {
    "execution": {
     "iopub.execute_input": "2021-07-07T08:41:54.033471Z",
     "iopub.status.busy": "2021-07-07T08:41:54.032468Z",
     "iopub.status.idle": "2021-07-07T08:41:54.555877Z",
     "shell.execute_reply": "2021-07-07T08:41:54.556466Z"
    },
    "papermill": {
     "duration": 0.584348,
     "end_time": "2021-07-07T08:41:54.556660",
     "exception": false,
     "start_time": "2021-07-07T08:41:53.972312",
     "status": "completed"
    },
    "tags": []
   },
   "outputs": [
    {
     "name": "stdout",
     "output_type": "stream",
     "text": [
      "<class 'pandas.core.frame.DataFrame'>\n",
      "RangeIndex: 1482535 entries, 0 to 1482534\n",
      "Data columns (total 8 columns):\n",
      " #   Column             Non-Null Count    Dtype  \n",
      "---  ------             --------------    -----  \n",
      " 0   train_id           1482535 non-null  int64  \n",
      " 1   name               1482535 non-null  object \n",
      " 2   item_condition_id  1482535 non-null  int64  \n",
      " 3   category_name      1476208 non-null  object \n",
      " 4   brand_name         849853 non-null   object \n",
      " 5   price              1482535 non-null  float64\n",
      " 6   shipping           1482535 non-null  int64  \n",
      " 7   item_description   1482531 non-null  object \n",
      "dtypes: float64(1), int64(3), object(4)\n",
      "memory usage: 90.5+ MB\n"
     ]
    }
   ],
   "source": [
    "train.info()"
   ]
  },
  {
   "cell_type": "code",
   "execution_count": 13,
   "id": "proprietary-spouse",
   "metadata": {
    "execution": {
     "iopub.execute_input": "2021-07-07T08:41:54.675612Z",
     "iopub.status.busy": "2021-07-07T08:41:54.674764Z",
     "iopub.status.idle": "2021-07-07T08:41:56.207691Z",
     "shell.execute_reply": "2021-07-07T08:41:56.208098Z"
    },
    "papermill": {
     "duration": 1.593505,
     "end_time": "2021-07-07T08:41:56.208259",
     "exception": false,
     "start_time": "2021-07-07T08:41:54.614754",
     "status": "completed"
    },
    "tags": []
   },
   "outputs": [
    {
     "data": {
      "text/plain": [
       "train_id             1482535\n",
       "name                 1225273\n",
       "item_condition_id          5\n",
       "category_name           1287\n",
       "brand_name              4809\n",
       "price                    828\n",
       "shipping                   2\n",
       "item_description     1281426\n",
       "dtype: int64"
      ]
     },
     "execution_count": 13,
     "metadata": {},
     "output_type": "execute_result"
    }
   ],
   "source": [
    "train.nunique()"
   ]
  },
  {
   "cell_type": "code",
   "execution_count": 14,
   "id": "quarterly-madonna",
   "metadata": {
    "execution": {
     "iopub.execute_input": "2021-07-07T08:41:56.328005Z",
     "iopub.status.busy": "2021-07-07T08:41:56.326914Z",
     "iopub.status.idle": "2021-07-07T08:41:56.837241Z",
     "shell.execute_reply": "2021-07-07T08:41:56.837783Z"
    },
    "papermill": {
     "duration": 0.572351,
     "end_time": "2021-07-07T08:41:56.837940",
     "exception": false,
     "start_time": "2021-07-07T08:41:56.265589",
     "status": "completed"
    },
    "tags": []
   },
   "outputs": [
    {
     "data": {
      "text/plain": [
       "train_id                  0\n",
       "name                      0\n",
       "item_condition_id         0\n",
       "category_name          6327\n",
       "brand_name           632682\n",
       "price                     0\n",
       "shipping                  0\n",
       "item_description          4\n",
       "dtype: int64"
      ]
     },
     "execution_count": 14,
     "metadata": {},
     "output_type": "execute_result"
    }
   ],
   "source": [
    "train.isnull().sum()"
   ]
  },
  {
   "cell_type": "code",
   "execution_count": 15,
   "id": "hazardous-seller",
   "metadata": {
    "execution": {
     "iopub.execute_input": "2021-07-07T08:41:56.959021Z",
     "iopub.status.busy": "2021-07-07T08:41:56.957891Z",
     "iopub.status.idle": "2021-07-07T08:41:57.045047Z",
     "shell.execute_reply": "2021-07-07T08:41:57.044644Z"
    },
    "papermill": {
     "duration": 0.149429,
     "end_time": "2021-07-07T08:41:57.045162",
     "exception": false,
     "start_time": "2021-07-07T08:41:56.895733",
     "status": "completed"
    },
    "tags": []
   },
   "outputs": [
    {
     "data": {
      "text/html": [
       "<div>\n",
       "<style scoped>\n",
       "    .dataframe tbody tr th:only-of-type {\n",
       "        vertical-align: middle;\n",
       "    }\n",
       "\n",
       "    .dataframe tbody tr th {\n",
       "        vertical-align: top;\n",
       "    }\n",
       "\n",
       "    .dataframe thead th {\n",
       "        text-align: right;\n",
       "    }\n",
       "</style>\n",
       "<table border=\"1\" class=\"dataframe\">\n",
       "  <thead>\n",
       "    <tr style=\"text-align: right;\">\n",
       "      <th></th>\n",
       "      <th>train_id</th>\n",
       "      <th>item_condition_id</th>\n",
       "      <th>price</th>\n",
       "      <th>shipping</th>\n",
       "    </tr>\n",
       "  </thead>\n",
       "  <tbody>\n",
       "    <tr>\n",
       "      <th>train_id</th>\n",
       "      <td>1.000000</td>\n",
       "      <td>-0.000113</td>\n",
       "      <td>0.000478</td>\n",
       "      <td>0.000472</td>\n",
       "    </tr>\n",
       "    <tr>\n",
       "      <th>item_condition_id</th>\n",
       "      <td>-0.000113</td>\n",
       "      <td>1.000000</td>\n",
       "      <td>-0.000807</td>\n",
       "      <td>-0.191154</td>\n",
       "    </tr>\n",
       "    <tr>\n",
       "      <th>price</th>\n",
       "      <td>0.000478</td>\n",
       "      <td>-0.000807</td>\n",
       "      <td>1.000000</td>\n",
       "      <td>-0.097211</td>\n",
       "    </tr>\n",
       "    <tr>\n",
       "      <th>shipping</th>\n",
       "      <td>0.000472</td>\n",
       "      <td>-0.191154</td>\n",
       "      <td>-0.097211</td>\n",
       "      <td>1.000000</td>\n",
       "    </tr>\n",
       "  </tbody>\n",
       "</table>\n",
       "</div>"
      ],
      "text/plain": [
       "                   train_id  item_condition_id     price  shipping\n",
       "train_id           1.000000          -0.000113  0.000478  0.000472\n",
       "item_condition_id -0.000113           1.000000 -0.000807 -0.191154\n",
       "price              0.000478          -0.000807  1.000000 -0.097211\n",
       "shipping           0.000472          -0.191154 -0.097211  1.000000"
      ]
     },
     "execution_count": 15,
     "metadata": {},
     "output_type": "execute_result"
    }
   ],
   "source": [
    "train.corr()"
   ]
  },
  {
   "cell_type": "code",
   "execution_count": 16,
   "id": "early-belize",
   "metadata": {
    "execution": {
     "iopub.execute_input": "2021-07-07T08:41:57.168550Z",
     "iopub.status.busy": "2021-07-07T08:41:57.167432Z",
     "iopub.status.idle": "2021-07-07T08:41:57.509292Z",
     "shell.execute_reply": "2021-07-07T08:41:57.509711Z"
    },
    "papermill": {
     "duration": 0.405923,
     "end_time": "2021-07-07T08:41:57.509871",
     "exception": false,
     "start_time": "2021-07-07T08:41:57.103948",
     "status": "completed"
    },
    "tags": []
   },
   "outputs": [
    {
     "data": {
      "text/plain": [
       "<AxesSubplot:>"
      ]
     },
     "execution_count": 16,
     "metadata": {},
     "output_type": "execute_result"
    },
    {
     "data": {
      "image/png": "[encoded data removed]",
      "text/plain": [
       "<Figure size 432x288 with 2 Axes>"
      ]
     },
     "metadata": {
      "needs_background": "light"
     },
     "output_type": "display_data"
    }
   ],
   "source": [
    "sns.heatmap(train.corr(), annot=True, fmt='.2f')"
   ]
  },
  {
   "cell_type": "code",
   "execution_count": 17,
   "id": "about-concert",
   "metadata": {
    "execution": {
     "iopub.execute_input": "2021-07-07T08:41:57.641770Z",
     "iopub.status.busy": "2021-07-07T08:41:57.640989Z",
     "iopub.status.idle": "2021-07-07T08:41:57.787118Z",
     "shell.execute_reply": "2021-07-07T08:41:57.787559Z"
    },
    "papermill": {
     "duration": 0.217124,
     "end_time": "2021-07-07T08:41:57.787703",
     "exception": false,
     "start_time": "2021-07-07T08:41:57.570579",
     "status": "completed"
    },
    "tags": []
   },
   "outputs": [
    {
     "data": {
      "text/html": [
       "<div>\n",
       "<style scoped>\n",
       "    .dataframe tbody tr th:only-of-type {\n",
       "        vertical-align: middle;\n",
       "    }\n",
       "\n",
       "    .dataframe tbody tr th {\n",
       "        vertical-align: top;\n",
       "    }\n",
       "\n",
       "    .dataframe thead th {\n",
       "        text-align: right;\n",
       "    }\n",
       "</style>\n",
       "<table border=\"1\" class=\"dataframe\">\n",
       "  <thead>\n",
       "    <tr style=\"text-align: right;\">\n",
       "      <th></th>\n",
       "      <th>train_id</th>\n",
       "      <th>item_condition_id</th>\n",
       "      <th>price</th>\n",
       "      <th>shipping</th>\n",
       "    </tr>\n",
       "  </thead>\n",
       "  <tbody>\n",
       "    <tr>\n",
       "      <th>count</th>\n",
       "      <td>1.482535e+06</td>\n",
       "      <td>1.482535e+06</td>\n",
       "      <td>1.482535e+06</td>\n",
       "      <td>1.482535e+06</td>\n",
       "    </tr>\n",
       "    <tr>\n",
       "      <th>mean</th>\n",
       "      <td>7.412670e+05</td>\n",
       "      <td>1.907380e+00</td>\n",
       "      <td>2.673752e+01</td>\n",
       "      <td>4.472744e-01</td>\n",
       "    </tr>\n",
       "    <tr>\n",
       "      <th>std</th>\n",
       "      <td>4.279711e+05</td>\n",
       "      <td>9.031586e-01</td>\n",
       "      <td>3.858607e+01</td>\n",
       "      <td>4.972124e-01</td>\n",
       "    </tr>\n",
       "    <tr>\n",
       "      <th>min</th>\n",
       "      <td>0.000000e+00</td>\n",
       "      <td>1.000000e+00</td>\n",
       "      <td>0.000000e+00</td>\n",
       "      <td>0.000000e+00</td>\n",
       "    </tr>\n",
       "    <tr>\n",
       "      <th>25%</th>\n",
       "      <td>3.706335e+05</td>\n",
       "      <td>1.000000e+00</td>\n",
       "      <td>1.000000e+01</td>\n",
       "      <td>0.000000e+00</td>\n",
       "    </tr>\n",
       "    <tr>\n",
       "      <th>50%</th>\n",
       "      <td>7.412670e+05</td>\n",
       "      <td>2.000000e+00</td>\n",
       "      <td>1.700000e+01</td>\n",
       "      <td>0.000000e+00</td>\n",
       "    </tr>\n",
       "    <tr>\n",
       "      <th>75%</th>\n",
       "      <td>1.111900e+06</td>\n",
       "      <td>3.000000e+00</td>\n",
       "      <td>2.900000e+01</td>\n",
       "      <td>1.000000e+00</td>\n",
       "    </tr>\n",
       "    <tr>\n",
       "      <th>max</th>\n",
       "      <td>1.482534e+06</td>\n",
       "      <td>5.000000e+00</td>\n",
       "      <td>2.009000e+03</td>\n",
       "      <td>1.000000e+00</td>\n",
       "    </tr>\n",
       "  </tbody>\n",
       "</table>\n",
       "</div>"
      ],
      "text/plain": [
       "           train_id  item_condition_id         price      shipping\n",
       "count  1.482535e+06       1.482535e+06  1.482535e+06  1.482535e+06\n",
       "mean   7.412670e+05       1.907380e+00  2.673752e+01  4.472744e-01\n",
       "std    4.279711e+05       9.031586e-01  3.858607e+01  4.972124e-01\n",
       "min    0.000000e+00       1.000000e+00  0.000000e+00  0.000000e+00\n",
       "25%    3.706335e+05       1.000000e+00  1.000000e+01  0.000000e+00\n",
       "50%    7.412670e+05       2.000000e+00  1.700000e+01  0.000000e+00\n",
       "75%    1.111900e+06       3.000000e+00  2.900000e+01  1.000000e+00\n",
       "max    1.482534e+06       5.000000e+00  2.009000e+03  1.000000e+00"
      ]
     },
     "execution_count": 17,
     "metadata": {},
     "output_type": "execute_result"
    }
   ],
   "source": [
    "train.describe()"
   ]
  },
  {
   "cell_type": "markdown",
   "id": "innovative-moore",
   "metadata": {
    "papermill": {
     "duration": 0.059846,
     "end_time": "2021-07-07T08:41:57.908118",
     "exception": false,
     "start_time": "2021-07-07T08:41:57.848272",
     "status": "completed"
    },
    "tags": []
   },
   "source": [
    "# Visualization"
   ]
  },
  {
   "cell_type": "code",
   "execution_count": 18,
   "id": "local-potential",
   "metadata": {
    "execution": {
     "iopub.execute_input": "2021-07-07T08:41:58.032586Z",
     "iopub.status.busy": "2021-07-07T08:41:58.031894Z",
     "iopub.status.idle": "2021-07-07T08:41:58.034835Z",
     "shell.execute_reply": "2021-07-07T08:41:58.034425Z"
    },
    "papermill": {
     "duration": 0.066954,
     "end_time": "2021-07-07T08:41:58.034941",
     "exception": false,
     "start_time": "2021-07-07T08:41:57.967987",
     "status": "completed"
    },
    "tags": []
   },
   "outputs": [],
   "source": [
    "sns.set()"
   ]
  },
  {
   "cell_type": "code",
   "execution_count": 19,
   "id": "complete-birmingham",
   "metadata": {
    "execution": {
     "iopub.execute_input": "2021-07-07T08:41:58.160757Z",
     "iopub.status.busy": "2021-07-07T08:41:58.160218Z",
     "iopub.status.idle": "2021-07-07T08:41:59.490146Z",
     "shell.execute_reply": "2021-07-07T08:41:59.490568Z"
    },
    "papermill": {
     "duration": 1.394614,
     "end_time": "2021-07-07T08:41:59.490724",
     "exception": false,
     "start_time": "2021-07-07T08:41:58.096110",
     "status": "completed"
    },
    "tags": []
   },
   "outputs": [
    {
     "data": {
      "image/png": "[encoded data removed]",
      "text/plain": [
       "<Figure size 576x288 with 1 Axes>"
      ]
     },
     "metadata": {},
     "output_type": "display_data"
    }
   ],
   "source": [
    "train = train.drop(train[(train['price'] >= 200)].index, axis=0)\n",
    "\n",
    "fig, ax = plt.subplots(1, 1, figsize=(8, 4))\n",
    "sns.histplot(train['price'], bins=50, ax=ax)\n",
    "plt.show()"
   ]
  },
  {
   "cell_type": "code",
   "execution_count": 20,
   "id": "frequent-sierra",
   "metadata": {
    "execution": {
     "iopub.execute_input": "2021-07-07T08:41:59.618129Z",
     "iopub.status.busy": "2021-07-07T08:41:59.617447Z",
     "iopub.status.idle": "2021-07-07T08:42:00.795708Z",
     "shell.execute_reply": "2021-07-07T08:42:00.796109Z"
    },
    "papermill": {
     "duration": 1.243709,
     "end_time": "2021-07-07T08:42:00.796263",
     "exception": false,
     "start_time": "2021-07-07T08:41:59.552554",
     "status": "completed"
    },
    "tags": []
   },
   "outputs": [
    {
     "data": {
      "image/png": "[encoded data removed]",
      "text/plain": [
       "<Figure size 576x288 with 1 Axes>"
      ]
     },
     "metadata": {},
     "output_type": "display_data"
    }
   ],
   "source": [
    "train['log_price'] = np.log1p(train['price'])\n",
    "\n",
    "fig, ax = plt.subplots(1, 1, figsize=(8, 4))\n",
    "sns.histplot(train['log_price'], bins=50, ax=ax)\n",
    "plt.show()"
   ]
  },
  {
   "cell_type": "code",
   "execution_count": 21,
   "id": "headed-therapist",
   "metadata": {
    "execution": {
     "iopub.execute_input": "2021-07-07T08:42:00.925693Z",
     "iopub.status.busy": "2021-07-07T08:42:00.924514Z",
     "iopub.status.idle": "2021-07-07T08:42:01.175373Z",
     "shell.execute_reply": "2021-07-07T08:42:01.175785Z"
    },
    "papermill": {
     "duration": 0.317718,
     "end_time": "2021-07-07T08:42:01.175928",
     "exception": false,
     "start_time": "2021-07-07T08:42:00.858210",
     "status": "completed"
    },
    "tags": []
   },
   "outputs": [
    {
     "data": {
      "text/plain": [
       "6047"
      ]
     },
     "execution_count": 21,
     "metadata": {},
     "output_type": "execute_result"
    }
   ],
   "source": [
    "train = train.drop('log_price', axis=1)\n",
    "gc.collect()"
   ]
  },
  {
   "cell_type": "code",
   "execution_count": 22,
   "id": "regulation-garden",
   "metadata": {
    "execution": {
     "iopub.execute_input": "2021-07-07T08:42:01.304566Z",
     "iopub.status.busy": "2021-07-07T08:42:01.303844Z",
     "iopub.status.idle": "2021-07-07T08:42:08.606099Z",
     "shell.execute_reply": "2021-07-07T08:42:08.605676Z"
    },
    "papermill": {
     "duration": 7.368032,
     "end_time": "2021-07-07T08:42:08.606234",
     "exception": false,
     "start_time": "2021-07-07T08:42:01.238202",
     "status": "completed"
    },
    "tags": []
   },
   "outputs": [
    {
     "data": {
      "text/plain": [
       "<matplotlib.legend.Legend at 0x7f19b4a3b290>"
      ]
     },
     "execution_count": 22,
     "metadata": {},
     "output_type": "execute_result"
    },
    {
     "data": {
      "image/png": "[encoded data removed]",
      "text/plain": [
       "<Figure size 576x288 with 1 Axes>"
      ]
     },
     "metadata": {},
     "output_type": "display_data"
    }
   ],
   "source": [
    "fig = sns.FacetGrid(train, hue='shipping', height=4, aspect=2)\n",
    "fig.map(sns.kdeplot, 'price', shade=True)\n",
    "plt.legend()"
   ]
  },
  {
   "cell_type": "code",
   "execution_count": 23,
   "id": "mexican-chester",
   "metadata": {
    "execution": {
     "iopub.execute_input": "2021-07-07T08:42:08.738063Z",
     "iopub.status.busy": "2021-07-07T08:42:08.737390Z",
     "iopub.status.idle": "2021-07-07T08:42:15.899610Z",
     "shell.execute_reply": "2021-07-07T08:42:15.899992Z"
    },
    "papermill": {
     "duration": 7.230538,
     "end_time": "2021-07-07T08:42:15.900150",
     "exception": false,
     "start_time": "2021-07-07T08:42:08.669612",
     "status": "completed"
    },
    "tags": []
   },
   "outputs": [
    {
     "data": {
      "text/plain": [
       "<matplotlib.legend.Legend at 0x7f19b249b390>"
      ]
     },
     "execution_count": 23,
     "metadata": {},
     "output_type": "execute_result"
    },
    {
     "data": {
      "image/png": "[encoded data removed]",
      "text/plain": [
       "<Figure size 576x288 with 1 Axes>"
      ]
     },
     "metadata": {},
     "output_type": "display_data"
    }
   ],
   "source": [
    "fig = sns.FacetGrid(train, hue='item_condition_id', height=4, aspect=2)\n",
    "fig.map(sns.kdeplot, 'price', shade=True)\n",
    "plt.legend()"
   ]
  },
  {
   "cell_type": "markdown",
   "id": "diverse-cincinnati",
   "metadata": {
    "papermill": {
     "duration": 0.066911,
     "end_time": "2021-07-07T08:42:16.034649",
     "exception": false,
     "start_time": "2021-07-07T08:42:15.967738",
     "status": "completed"
    },
    "tags": []
   },
   "source": [
    "# Preprocess"
   ]
  },
  {
   "cell_type": "code",
   "execution_count": 24,
   "id": "authorized-airline",
   "metadata": {
    "execution": {
     "iopub.execute_input": "2021-07-07T08:42:16.174194Z",
     "iopub.status.busy": "2021-07-07T08:42:16.172366Z",
     "iopub.status.idle": "2021-07-07T08:42:16.174863Z",
     "shell.execute_reply": "2021-07-07T08:42:16.175290Z"
    },
    "papermill": {
     "duration": 0.073739,
     "end_time": "2021-07-07T08:42:16.175410",
     "exception": false,
     "start_time": "2021-07-07T08:42:16.101671",
     "status": "completed"
    },
    "tags": []
   },
   "outputs": [],
   "source": [
    "train_row = train.shape[0]\n",
    "test_id = test['test_id']"
   ]
  },
  {
   "cell_type": "code",
   "execution_count": 25,
   "id": "human-truth",
   "metadata": {
    "execution": {
     "iopub.execute_input": "2021-07-07T08:42:16.313406Z",
     "iopub.status.busy": "2021-07-07T08:42:16.312656Z",
     "iopub.status.idle": "2021-07-07T08:42:16.425151Z",
     "shell.execute_reply": "2021-07-07T08:42:16.425599Z"
    },
    "papermill": {
     "duration": 0.183689,
     "end_time": "2021-07-07T08:42:16.425743",
     "exception": false,
     "start_time": "2021-07-07T08:42:16.242054",
     "status": "completed"
    },
    "tags": []
   },
   "outputs": [
    {
     "name": "stdout",
     "output_type": "stream",
     "text": [
      "(1471688, 7)\n",
      "(1471688,)\n"
     ]
    }
   ],
   "source": [
    "target = np.log1p(train['price'])\n",
    "train = train[[col for col in train.columns if col != 'price']]\n",
    "\n",
    "print(train.shape)\n",
    "print(target.shape)"
   ]
  },
  {
   "cell_type": "code",
   "execution_count": 26,
   "id": "provincial-budget",
   "metadata": {
    "execution": {
     "iopub.execute_input": "2021-07-07T08:42:16.879642Z",
     "iopub.status.busy": "2021-07-07T08:42:16.599396Z",
     "iopub.status.idle": "2021-07-07T08:42:16.883413Z",
     "shell.execute_reply": "2021-07-07T08:42:16.882850Z"
    },
    "papermill": {
     "duration": 0.3841,
     "end_time": "2021-07-07T08:42:16.883538",
     "exception": false,
     "start_time": "2021-07-07T08:42:16.499438",
     "status": "completed"
    },
    "tags": []
   },
   "outputs": [],
   "source": [
    "train = train.drop('train_id', axis=1)\n",
    "test = test.drop('test_id', axis=1)"
   ]
  },
  {
   "cell_type": "code",
   "execution_count": 27,
   "id": "great-dream",
   "metadata": {
    "execution": {
     "iopub.execute_input": "2021-07-07T08:42:17.023836Z",
     "iopub.status.busy": "2021-07-07T08:42:17.022926Z",
     "iopub.status.idle": "2021-07-07T08:42:17.839760Z",
     "shell.execute_reply": "2021-07-07T08:42:17.840336Z"
    },
    "papermill": {
     "duration": 0.889072,
     "end_time": "2021-07-07T08:42:17.840529",
     "exception": false,
     "start_time": "2021-07-07T08:42:16.951457",
     "status": "completed"
    },
    "tags": []
   },
   "outputs": [
    {
     "name": "stdout",
     "output_type": "stream",
     "text": [
      "(4932413, 6)\n"
     ]
    },
    {
     "data": {
      "text/html": [
       "<div>\n",
       "<style scoped>\n",
       "    .dataframe tbody tr th:only-of-type {\n",
       "        vertical-align: middle;\n",
       "    }\n",
       "\n",
       "    .dataframe tbody tr th {\n",
       "        vertical-align: top;\n",
       "    }\n",
       "\n",
       "    .dataframe thead th {\n",
       "        text-align: right;\n",
       "    }\n",
       "</style>\n",
       "<table border=\"1\" class=\"dataframe\">\n",
       "  <thead>\n",
       "    <tr style=\"text-align: right;\">\n",
       "      <th></th>\n",
       "      <th>name</th>\n",
       "      <th>item_condition_id</th>\n",
       "      <th>category_name</th>\n",
       "      <th>brand_name</th>\n",
       "      <th>shipping</th>\n",
       "      <th>item_description</th>\n",
       "    </tr>\n",
       "  </thead>\n",
       "  <tbody>\n",
       "    <tr>\n",
       "      <th>0</th>\n",
       "      <td>MLB Cincinnati Reds T Shirt Size XL</td>\n",
       "      <td>3</td>\n",
       "      <td>Men/Tops/T-shirts</td>\n",
       "      <td>NaN</td>\n",
       "      <td>1</td>\n",
       "      <td>No description yet</td>\n",
       "    </tr>\n",
       "    <tr>\n",
       "      <th>1</th>\n",
       "      <td>Razer BlackWidow Chroma Keyboard</td>\n",
       "      <td>3</td>\n",
       "      <td>Electronics/Computers &amp; Tablets/Components &amp; P...</td>\n",
       "      <td>Razer</td>\n",
       "      <td>0</td>\n",
       "      <td>This keyboard is in great condition and works ...</td>\n",
       "    </tr>\n",
       "    <tr>\n",
       "      <th>2</th>\n",
       "      <td>AVA-VIV Blouse</td>\n",
       "      <td>1</td>\n",
       "      <td>Women/Tops &amp; Blouses/Blouse</td>\n",
       "      <td>Target</td>\n",
       "      <td>1</td>\n",
       "      <td>Adorable top with a hint of lace and a key hol...</td>\n",
       "    </tr>\n",
       "    <tr>\n",
       "      <th>3</th>\n",
       "      <td>Leather Horse Statues</td>\n",
       "      <td>1</td>\n",
       "      <td>Home/Home Décor/Home Décor Accents</td>\n",
       "      <td>NaN</td>\n",
       "      <td>1</td>\n",
       "      <td>New with tags. Leather horses. Retail for [rm]...</td>\n",
       "    </tr>\n",
       "    <tr>\n",
       "      <th>4</th>\n",
       "      <td>24K GOLD plated rose</td>\n",
       "      <td>1</td>\n",
       "      <td>Women/Jewelry/Necklaces</td>\n",
       "      <td>NaN</td>\n",
       "      <td>0</td>\n",
       "      <td>Complete with certificate of authenticity</td>\n",
       "    </tr>\n",
       "  </tbody>\n",
       "</table>\n",
       "</div>"
      ],
      "text/plain": [
       "                                  name  item_condition_id  \\\n",
       "0  MLB Cincinnati Reds T Shirt Size XL                  3   \n",
       "1     Razer BlackWidow Chroma Keyboard                  3   \n",
       "2                       AVA-VIV Blouse                  1   \n",
       "3                Leather Horse Statues                  1   \n",
       "4                 24K GOLD plated rose                  1   \n",
       "\n",
       "                                       category_name brand_name  shipping  \\\n",
       "0                                  Men/Tops/T-shirts        NaN         1   \n",
       "1  Electronics/Computers & Tablets/Components & P...      Razer         0   \n",
       "2                        Women/Tops & Blouses/Blouse     Target         1   \n",
       "3                 Home/Home Décor/Home Décor Accents        NaN         1   \n",
       "4                            Women/Jewelry/Necklaces        NaN         0   \n",
       "\n",
       "                                    item_description  \n",
       "0                                 No description yet  \n",
       "1  This keyboard is in great condition and works ...  \n",
       "2  Adorable top with a hint of lace and a key hol...  \n",
       "3  New with tags. Leather horses. Retail for [rm]...  \n",
       "4          Complete with certificate of authenticity  "
      ]
     },
     "execution_count": 27,
     "metadata": {},
     "output_type": "execute_result"
    }
   ],
   "source": [
    "X = pd.concat([train, test], axis=0)\n",
    "\n",
    "print(X.shape)\n",
    "X.head()"
   ]
  },
  {
   "cell_type": "code",
   "execution_count": 28,
   "id": "fantastic-impression",
   "metadata": {
    "execution": {
     "iopub.execute_input": "2021-07-07T08:42:18.453562Z",
     "iopub.status.busy": "2021-07-07T08:42:18.452591Z",
     "iopub.status.idle": "2021-07-07T08:42:19.732429Z",
     "shell.execute_reply": "2021-07-07T08:42:19.732846Z"
    },
    "papermill": {
     "duration": 1.820412,
     "end_time": "2021-07-07T08:42:19.732991",
     "exception": false,
     "start_time": "2021-07-07T08:42:17.912579",
     "status": "completed"
    },
    "tags": []
   },
   "outputs": [
    {
     "data": {
      "text/plain": [
       "name                       0\n",
       "item_condition_id          0\n",
       "category_name          21115\n",
       "brand_name           2107076\n",
       "shipping                   0\n",
       "item_description          10\n",
       "dtype: int64"
      ]
     },
     "execution_count": 28,
     "metadata": {},
     "output_type": "execute_result"
    }
   ],
   "source": [
    "X.isnull().sum()"
   ]
  },
  {
   "cell_type": "code",
   "execution_count": 29,
   "id": "rational-matthew",
   "metadata": {
    "execution": {
     "iopub.execute_input": "2021-07-07T08:42:20.264311Z",
     "iopub.status.busy": "2021-07-07T08:42:20.263439Z",
     "iopub.status.idle": "2021-07-07T08:42:21.771153Z",
     "shell.execute_reply": "2021-07-07T08:42:21.770655Z"
    },
    "papermill": {
     "duration": 1.971926,
     "end_time": "2021-07-07T08:42:21.771287",
     "exception": false,
     "start_time": "2021-07-07T08:42:19.799361",
     "status": "completed"
    },
    "tags": []
   },
   "outputs": [],
   "source": [
    "X['category_name'] = X['category_name'].fillna(value='missing')\n",
    "X['brand_name'] = X['brand_name'].fillna(value='missing')\n",
    "X['item_description'] = X['item_description'].fillna(value='missing')"
   ]
  },
  {
   "cell_type": "code",
   "execution_count": 30,
   "id": "statewide-hanging",
   "metadata": {
    "execution": {
     "iopub.execute_input": "2021-07-07T08:42:21.939247Z",
     "iopub.status.busy": "2021-07-07T08:42:21.928956Z",
     "iopub.status.idle": "2021-07-07T08:43:01.522122Z",
     "shell.execute_reply": "2021-07-07T08:43:01.522561Z"
    },
    "papermill": {
     "duration": 39.683426,
     "end_time": "2021-07-07T08:43:01.522697",
     "exception": false,
     "start_time": "2021-07-07T08:42:21.839271",
     "status": "completed"
    },
    "tags": []
   },
   "outputs": [
    {
     "data": {
      "text/plain": [
       "<4932413x207463 sparse matrix of type '<class 'numpy.int64'>'\n",
       "\twith 20740804 stored elements in Compressed Sparse Row format>"
      ]
     },
     "execution_count": 30,
     "metadata": {},
     "output_type": "execute_result"
    }
   ],
   "source": [
    "cv = CountVectorizer()\n",
    "\n",
    "name_data = cv.fit_transform(X['name'])\n",
    "name_data"
   ]
  },
  {
   "cell_type": "code",
   "execution_count": 31,
   "id": "sensitive-assist",
   "metadata": {
    "execution": {
     "iopub.execute_input": "2021-07-07T08:43:01.684152Z",
     "iopub.status.busy": "2021-07-07T08:43:01.668679Z",
     "iopub.status.idle": "2021-07-07T08:45:27.844495Z",
     "shell.execute_reply": "2021-07-07T08:45:27.844912Z"
    },
    "papermill": {
     "duration": 146.25558,
     "end_time": "2021-07-07T08:45:27.845059",
     "exception": false,
     "start_time": "2021-07-07T08:43:01.589479",
     "status": "completed"
    },
    "tags": []
   },
   "outputs": [
    {
     "data": {
      "text/plain": [
       "<4932413x305203 sparse matrix of type '<class 'numpy.float64'>'\n",
       "\twith 101584608 stored elements in Compressed Sparse Row format>"
      ]
     },
     "execution_count": 31,
     "metadata": {},
     "output_type": "execute_result"
    }
   ],
   "source": [
    "tv = TfidfVectorizer()\n",
    "\n",
    "description_data = tv.fit_transform(X['item_description'])\n",
    "description_data"
   ]
  },
  {
   "cell_type": "code",
   "execution_count": 32,
   "id": "julian-heart",
   "metadata": {
    "execution": {
     "iopub.execute_input": "2021-07-07T08:45:35.498086Z",
     "iopub.status.busy": "2021-07-07T08:45:35.497220Z",
     "iopub.status.idle": "2021-07-07T09:03:27.291435Z",
     "shell.execute_reply": "2021-07-07T09:03:27.291967Z"
    },
    "papermill": {
     "duration": 1079.379892,
     "end_time": "2021-07-07T09:03:27.292131",
     "exception": false,
     "start_time": "2021-07-07T08:45:27.912239",
     "status": "completed"
    },
    "tags": []
   },
   "outputs": [
    {
     "data": {
      "text/plain": [
       "<4932413x6309 sparse matrix of type '<class 'numpy.int64'>'\n",
       "\twith 4932413 stored elements in Compressed Sparse Row format>"
      ]
     },
     "execution_count": 32,
     "metadata": {},
     "output_type": "execute_result"
    }
   ],
   "source": [
    "lb = LabelBinarizer(sparse_output=True)\n",
    "\n",
    "brand_data = lb.fit_transform(X['brand_name'])\n",
    "brand_data"
   ]
  },
  {
   "cell_type": "code",
   "execution_count": 33,
   "id": "turned-respondent",
   "metadata": {
    "execution": {
     "iopub.execute_input": "2021-07-07T09:03:36.055462Z",
     "iopub.status.busy": "2021-07-07T09:03:36.054575Z",
     "iopub.status.idle": "2021-07-07T09:07:50.577637Z",
     "shell.execute_reply": "2021-07-07T09:07:50.578097Z"
    },
    "papermill": {
     "duration": 263.21748,
     "end_time": "2021-07-07T09:07:50.578278",
     "exception": false,
     "start_time": "2021-07-07T09:03:27.360798",
     "status": "completed"
    },
    "tags": []
   },
   "outputs": [
    {
     "data": {
      "text/plain": [
       "<4932413x1354 sparse matrix of type '<class 'numpy.int64'>'\n",
       "\twith 4932413 stored elements in Compressed Sparse Row format>"
      ]
     },
     "execution_count": 33,
     "metadata": {},
     "output_type": "execute_result"
    }
   ],
   "source": [
    "category_data = lb.fit_transform(X['category_name'])\n",
    "category_data"
   ]
  },
  {
   "cell_type": "code",
   "execution_count": 34,
   "id": "documentary-artist",
   "metadata": {
    "execution": {
     "iopub.execute_input": "2021-07-07T09:07:50.719677Z",
     "iopub.status.busy": "2021-07-07T09:07:50.718902Z",
     "iopub.status.idle": "2021-07-07T09:07:54.950789Z",
     "shell.execute_reply": "2021-07-07T09:07:54.949863Z"
    },
    "papermill": {
     "duration": 4.304209,
     "end_time": "2021-07-07T09:07:54.950927",
     "exception": false,
     "start_time": "2021-07-07T09:07:50.646718",
     "status": "completed"
    },
    "tags": []
   },
   "outputs": [
    {
     "data": {
      "text/plain": [
       "<4932413x5 sparse matrix of type '<class 'numpy.uint8'>'\n",
       "\twith 4932413 stored elements in Compressed Sparse Row format>"
      ]
     },
     "execution_count": 34,
     "metadata": {},
     "output_type": "execute_result"
    }
   ],
   "source": [
    "condition_data = scipy.sparse.csr_matrix(pd.get_dummies(X['item_condition_id'], sparse = True).values)\n",
    "condition_data"
   ]
  },
  {
   "cell_type": "code",
   "execution_count": 35,
   "id": "western-petite",
   "metadata": {
    "execution": {
     "iopub.execute_input": "2021-07-07T09:07:55.139385Z",
     "iopub.status.busy": "2021-07-07T09:07:55.138483Z",
     "iopub.status.idle": "2021-07-07T09:07:59.133420Z",
     "shell.execute_reply": "2021-07-07T09:07:59.132961Z"
    },
    "papermill": {
     "duration": 4.113526,
     "end_time": "2021-07-07T09:07:59.133550",
     "exception": false,
     "start_time": "2021-07-07T09:07:55.020024",
     "status": "completed"
    },
    "tags": []
   },
   "outputs": [
    {
     "data": {
      "text/plain": [
       "<4932413x2 sparse matrix of type '<class 'numpy.uint8'>'\n",
       "\twith 4932413 stored elements in Compressed Sparse Row format>"
      ]
     },
     "execution_count": 35,
     "metadata": {},
     "output_type": "execute_result"
    }
   ],
   "source": [
    "shipping_data = scipy.sparse.csr_matrix(pd.get_dummies(X['shipping'], sparse = True).values)\n",
    "shipping_data"
   ]
  },
  {
   "cell_type": "code",
   "execution_count": 36,
   "id": "naval-persian",
   "metadata": {
    "execution": {
     "iopub.execute_input": "2021-07-07T09:07:59.276631Z",
     "iopub.status.busy": "2021-07-07T09:07:59.275833Z",
     "iopub.status.idle": "2021-07-07T09:08:08.446595Z",
     "shell.execute_reply": "2021-07-07T09:08:08.447578Z"
    },
    "papermill": {
     "duration": 9.24429,
     "end_time": "2021-07-07T09:08:08.447777",
     "exception": false,
     "start_time": "2021-07-07T09:07:59.203487",
     "status": "completed"
    },
    "tags": []
   },
   "outputs": [
    {
     "data": {
      "text/plain": [
       "<4932413x520336 sparse matrix of type '<class 'numpy.float64'>'\n",
       "\twith 142055064 stored elements in Compressed Sparse Row format>"
      ]
     },
     "execution_count": 36,
     "metadata": {},
     "output_type": "execute_result"
    }
   ],
   "source": [
    "X_sparse = scipy.sparse.hstack((name_data, brand_data, description_data, category_data, condition_data, shipping_data)).tocsr()\n",
    "X_sparse"
   ]
  },
  {
   "cell_type": "code",
   "execution_count": 37,
   "id": "revised-characteristic",
   "metadata": {
    "execution": {
     "iopub.execute_input": "2021-07-07T09:08:08.686379Z",
     "iopub.status.busy": "2021-07-07T09:08:08.685596Z",
     "iopub.status.idle": "2021-07-07T09:08:10.946322Z",
     "shell.execute_reply": "2021-07-07T09:08:10.945851Z"
    },
    "papermill": {
     "duration": 2.383689,
     "end_time": "2021-07-07T09:08:10.946457",
     "exception": false,
     "start_time": "2021-07-07T09:08:08.562768",
     "status": "completed"
    },
    "tags": []
   },
   "outputs": [],
   "source": [
    "train = X_sparse[:train_row]\n",
    "test = X_sparse[train_row:]"
   ]
  },
  {
   "cell_type": "code",
   "execution_count": 38,
   "id": "turned-alfred",
   "metadata": {
    "execution": {
     "iopub.execute_input": "2021-07-07T09:08:11.276946Z",
     "iopub.status.busy": "2021-07-07T09:08:11.275964Z",
     "iopub.status.idle": "2021-07-07T09:08:11.279666Z",
     "shell.execute_reply": "2021-07-07T09:08:11.280052Z"
    },
    "papermill": {
     "duration": 0.263059,
     "end_time": "2021-07-07T09:08:11.280214",
     "exception": false,
     "start_time": "2021-07-07T09:08:11.017155",
     "status": "completed"
    },
    "tags": []
   },
   "outputs": [
    {
     "data": {
      "text/plain": [
       "140"
      ]
     },
     "execution_count": 38,
     "metadata": {},
     "output_type": "execute_result"
    }
   ],
   "source": [
    "del X, X_sparse, name_data, description_data, brand_data, category_data, condition_data, shipping_data, train_row, cv, tv, lb\n",
    "gc.collect()"
   ]
  },
  {
   "cell_type": "code",
   "execution_count": 39,
   "id": "plain-hygiene",
   "metadata": {
    "execution": {
     "iopub.execute_input": "2021-07-07T09:08:11.425266Z",
     "iopub.status.busy": "2021-07-07T09:08:11.424636Z",
     "iopub.status.idle": "2021-07-07T09:08:11.428936Z",
     "shell.execute_reply": "2021-07-07T09:08:11.429489Z"
    },
    "papermill": {
     "duration": 0.078612,
     "end_time": "2021-07-07T09:08:11.429661",
     "exception": false,
     "start_time": "2021-07-07T09:08:11.351049",
     "status": "completed"
    },
    "tags": []
   },
   "outputs": [
    {
     "name": "stdout",
     "output_type": "stream",
     "text": [
      "(1471688, 520336)\n",
      "(1471688,)\n"
     ]
    }
   ],
   "source": [
    "print(train.shape)\n",
    "print(target.shape)"
   ]
  },
  {
   "cell_type": "markdown",
   "id": "quality-advisory",
   "metadata": {
    "papermill": {
     "duration": 0.070406,
     "end_time": "2021-07-07T09:08:11.570885",
     "exception": false,
     "start_time": "2021-07-07T09:08:11.500479",
     "status": "completed"
    },
    "tags": []
   },
   "source": [
    "# Modeling"
   ]
  },
  {
   "cell_type": "code",
   "execution_count": 40,
   "id": "cleared-retirement",
   "metadata": {
    "_kg_hide-output": true,
    "execution": {
     "iopub.execute_input": "2021-07-07T09:08:11.716254Z",
     "iopub.status.busy": "2021-07-07T09:08:11.715454Z",
     "iopub.status.idle": "2021-07-07T09:08:11.719237Z",
     "shell.execute_reply": "2021-07-07T09:08:11.718824Z"
    },
    "papermill": {
     "duration": 0.078301,
     "end_time": "2021-07-07T09:08:11.719344",
     "exception": false,
     "start_time": "2021-07-07T09:08:11.641043",
     "status": "completed"
    },
    "tags": []
   },
   "outputs": [
    {
     "data": {
      "text/plain": [
       "\"\\nX_tr, X_val, y_tr, y_val = train_test_split(train, target, test_size=0.2, random_state=666)\\n\\ndef create_model(trial):\\n    n_estimators = trial.suggest_int('n_estimators', 50, 500)\\n    max_depth = trial.suggest_int('max_depth', 3, 8)\\n    learning_rate = trial.suggest_uniform('learning_rate', 0.0001, 0.99)\\n    subsample = trial.suggest_uniform('subsample', 0.1, 1.0)\\n    colsample_bytree = trial.suggest_uniform('colsample_bytree', 0.1, 1.0)\\n    \\n    model = xgb.XGBRegressor(\\n        n_estimators=n_estimators, \\n        max_depth=max_depth, \\n        learning_rate=learning_rate,\\n        subsample=subsample,\\n        colsample_bytree=colsample_bytree,\\n        random_state=666)\\n    return model\\n\\ndef objective(trial):\\n    model = create_model(trial)\\n    model.fit(X_tr, y_tr)\\n    y_pred = model.predict(X_val)\\n    rsme = np.sqrt(mean_squared_error(y_pred, y_val))\\n    return rsme\\n\\nstudy = optuna.create_study(direction='minimize')\\nstudy.optimize(objective, n_trials=40)\\nparams = study.best_params\\nprint(params)\\n\""
      ]
     },
     "execution_count": 40,
     "metadata": {},
     "output_type": "execute_result"
    }
   ],
   "source": [
    "'''\n",
    "X_tr, X_val, y_tr, y_val = train_test_split(train, target, test_size=0.2, random_state=666)\n",
    "\n",
    "def create_model(trial):\n",
    "    n_estimators = trial.suggest_int('n_estimators', 50, 500)\n",
    "    max_depth = trial.suggest_int('max_depth', 3, 8)\n",
    "    learning_rate = trial.suggest_uniform('learning_rate', 0.0001, 0.99)\n",
    "    subsample = trial.suggest_uniform('subsample', 0.1, 1.0)\n",
    "    colsample_bytree = trial.suggest_uniform('colsample_bytree', 0.1, 1.0)\n",
    "    \n",
    "    model = xgb.XGBRegressor(\n",
    "        n_estimators=n_estimators, \n",
    "        max_depth=max_depth, \n",
    "        learning_rate=learning_rate,\n",
    "        subsample=subsample,\n",
    "        colsample_bytree=colsample_bytree,\n",
    "        random_state=666)\n",
    "    return model\n",
    "\n",
    "def objective(trial):\n",
    "    model = create_model(trial)\n",
    "    model.fit(X_tr, y_tr)\n",
    "    y_pred = model.predict(X_val)\n",
    "    rsme = np.sqrt(mean_squared_error(y_pred, y_val))\n",
    "    return rsme\n",
    "\n",
    "study = optuna.create_study(direction='minimize')\n",
    "study.optimize(objective, n_trials=40)\n",
    "params = study.best_params\n",
    "print(params)\n",
    "'''"
   ]
  },
  {
   "cell_type": "code",
   "execution_count": 41,
   "id": "ethical-semester",
   "metadata": {
    "execution": {
     "iopub.execute_input": "2021-07-07T09:08:11.864255Z",
     "iopub.status.busy": "2021-07-07T09:08:11.863615Z",
     "iopub.status.idle": "2021-07-07T09:08:11.866551Z",
     "shell.execute_reply": "2021-07-07T09:08:11.866143Z"
    },
    "papermill": {
     "duration": 0.076884,
     "end_time": "2021-07-07T09:08:11.866655",
     "exception": false,
     "start_time": "2021-07-07T09:08:11.789771",
     "status": "completed"
    },
    "tags": []
   },
   "outputs": [],
   "source": [
    "params = {'n_estimators': 449,\n",
    "          'max_depth': 8,\n",
    "          'learning_rate': 0.2982035256062862,\n",
    "          'subsample': 0.31160589537682476,\n",
    "          'colsample_bytree': 0.2527697031779773,\n",
    "          'random_state': 666}"
   ]
  },
  {
   "cell_type": "code",
   "execution_count": 42,
   "id": "micro-belarus",
   "metadata": {
    "_kg_hide-output": true,
    "execution": {
     "iopub.execute_input": "2021-07-07T09:08:29.834272Z",
     "iopub.status.busy": "2021-07-07T09:08:29.833521Z",
     "iopub.status.idle": "2021-07-07T09:32:57.501244Z",
     "shell.execute_reply": "2021-07-07T09:32:57.501662Z"
    },
    "papermill": {
     "duration": 1485.564149,
     "end_time": "2021-07-07T09:32:57.501807",
     "exception": false,
     "start_time": "2021-07-07T09:08:11.937658",
     "status": "completed"
    },
    "tags": []
   },
   "outputs": [
    {
     "data": {
      "text/plain": [
       "XGBRegressor(base_score=0.5, booster='gbtree', colsample_bylevel=1,\n",
       "             colsample_bynode=1, colsample_bytree=0.2527697031779773, gamma=0,\n",
       "             gpu_id=-1, importance_type='gain', interaction_constraints='',\n",
       "             learning_rate=0.2982035256062862, max_delta_step=0, max_depth=8,\n",
       "             min_child_weight=1, missing=nan, monotone_constraints='()',\n",
       "             n_estimators=449, n_jobs=2, num_parallel_tree=1, random_state=666,\n",
       "             reg_alpha=0, reg_lambda=1, scale_pos_weight=1,\n",
       "             subsample=0.31160589537682476, tree_method='exact',\n",
       "             validate_parameters=1, verbosity=None)"
      ]
     },
     "execution_count": 42,
     "metadata": {},
     "output_type": "execute_result"
    }
   ],
   "source": [
    "cls = xgb.XGBRegressor(**params)\n",
    "cls.fit(train, target)"
   ]
  },
  {
   "cell_type": "code",
   "execution_count": 43,
   "id": "delayed-investment",
   "metadata": {
    "execution": {
     "iopub.execute_input": "2021-07-07T09:32:57.779618Z",
     "iopub.status.busy": "2021-07-07T09:32:57.778859Z",
     "iopub.status.idle": "2021-07-07T09:32:57.782299Z",
     "shell.execute_reply": "2021-07-07T09:32:57.782689Z"
    },
    "papermill": {
     "duration": 0.207282,
     "end_time": "2021-07-07T09:32:57.782827",
     "exception": false,
     "start_time": "2021-07-07T09:32:57.575545",
     "status": "completed"
    },
    "tags": []
   },
   "outputs": [
    {
     "data": {
      "text/plain": [
       "151"
      ]
     },
     "execution_count": 43,
     "metadata": {},
     "output_type": "execute_result"
    }
   ],
   "source": [
    "del train, target, params\n",
    "gc.collect()"
   ]
  },
  {
   "cell_type": "markdown",
   "id": "funded-shock",
   "metadata": {
    "papermill": {
     "duration": 0.070821,
     "end_time": "2021-07-07T09:32:57.925228",
     "exception": false,
     "start_time": "2021-07-07T09:32:57.854407",
     "status": "completed"
    },
    "tags": []
   },
   "source": [
    "# Submit"
   ]
  },
  {
   "cell_type": "code",
   "execution_count": 44,
   "id": "introductory-above",
   "metadata": {
    "execution": {
     "iopub.execute_input": "2021-07-07T09:33:41.581095Z",
     "iopub.status.busy": "2021-07-07T09:33:41.471941Z",
     "iopub.status.idle": "2021-07-07T09:35:08.461451Z",
     "shell.execute_reply": "2021-07-07T09:35:08.460937Z"
    },
    "papermill": {
     "duration": 130.465177,
     "end_time": "2021-07-07T09:35:08.461597",
     "exception": false,
     "start_time": "2021-07-07T09:32:57.996420",
     "status": "completed"
    },
    "tags": []
   },
   "outputs": [],
   "source": [
    "prediction = np.expm1(cls.predict(test))"
   ]
  },
  {
   "cell_type": "code",
   "execution_count": 45,
   "id": "reserved-leeds",
   "metadata": {
    "execution": {
     "iopub.execute_input": "2021-07-07T09:35:08.754286Z",
     "iopub.status.busy": "2021-07-07T09:35:08.753489Z",
     "iopub.status.idle": "2021-07-07T09:35:08.756940Z",
     "shell.execute_reply": "2021-07-07T09:35:08.757350Z"
    },
    "papermill": {
     "duration": 0.218922,
     "end_time": "2021-07-07T09:35:08.757493",
     "exception": false,
     "start_time": "2021-07-07T09:35:08.538571",
     "status": "completed"
    },
    "tags": []
   },
   "outputs": [
    {
     "data": {
      "text/plain": [
       "61"
      ]
     },
     "execution_count": 45,
     "metadata": {},
     "output_type": "execute_result"
    }
   ],
   "source": [
    "del test\n",
    "gc.collect()"
   ]
  },
  {
   "cell_type": "code",
   "execution_count": 46,
   "id": "offensive-strike",
   "metadata": {
    "execution": {
     "iopub.execute_input": "2021-07-07T09:35:08.909489Z",
     "iopub.status.busy": "2021-07-07T09:35:08.908268Z",
     "iopub.status.idle": "2021-07-07T09:35:08.926743Z",
     "shell.execute_reply": "2021-07-07T09:35:08.926326Z"
    },
    "papermill": {
     "duration": 0.097317,
     "end_time": "2021-07-07T09:35:08.926865",
     "exception": false,
     "start_time": "2021-07-07T09:35:08.829548",
     "status": "completed"
    },
    "tags": []
   },
   "outputs": [
    {
     "data": {
      "text/html": [
       "<div>\n",
       "<style scoped>\n",
       "    .dataframe tbody tr th:only-of-type {\n",
       "        vertical-align: middle;\n",
       "    }\n",
       "\n",
       "    .dataframe tbody tr th {\n",
       "        vertical-align: top;\n",
       "    }\n",
       "\n",
       "    .dataframe thead th {\n",
       "        text-align: right;\n",
       "    }\n",
       "</style>\n",
       "<table border=\"1\" class=\"dataframe\">\n",
       "  <thead>\n",
       "    <tr style=\"text-align: right;\">\n",
       "      <th></th>\n",
       "      <th>test_id</th>\n",
       "      <th>price</th>\n",
       "    </tr>\n",
       "  </thead>\n",
       "  <tbody>\n",
       "    <tr>\n",
       "      <th>0</th>\n",
       "      <td>0</td>\n",
       "      <td>10.903090</td>\n",
       "    </tr>\n",
       "    <tr>\n",
       "      <th>1</th>\n",
       "      <td>1</td>\n",
       "      <td>10.091768</td>\n",
       "    </tr>\n",
       "    <tr>\n",
       "      <th>2</th>\n",
       "      <td>2</td>\n",
       "      <td>41.207645</td>\n",
       "    </tr>\n",
       "    <tr>\n",
       "      <th>3</th>\n",
       "      <td>3</td>\n",
       "      <td>14.630348</td>\n",
       "    </tr>\n",
       "    <tr>\n",
       "      <th>4</th>\n",
       "      <td>4</td>\n",
       "      <td>9.923117</td>\n",
       "    </tr>\n",
       "    <tr>\n",
       "      <th>5</th>\n",
       "      <td>5</td>\n",
       "      <td>8.754657</td>\n",
       "    </tr>\n",
       "    <tr>\n",
       "      <th>6</th>\n",
       "      <td>6</td>\n",
       "      <td>12.200715</td>\n",
       "    </tr>\n",
       "    <tr>\n",
       "      <th>7</th>\n",
       "      <td>7</td>\n",
       "      <td>37.521782</td>\n",
       "    </tr>\n",
       "    <tr>\n",
       "      <th>8</th>\n",
       "      <td>8</td>\n",
       "      <td>45.751553</td>\n",
       "    </tr>\n",
       "    <tr>\n",
       "      <th>9</th>\n",
       "      <td>9</td>\n",
       "      <td>8.525372</td>\n",
       "    </tr>\n",
       "  </tbody>\n",
       "</table>\n",
       "</div>"
      ],
      "text/plain": [
       "   test_id      price\n",
       "0        0  10.903090\n",
       "1        1  10.091768\n",
       "2        2  41.207645\n",
       "3        3  14.630348\n",
       "4        4   9.923117\n",
       "5        5   8.754657\n",
       "6        6  12.200715\n",
       "7        7  37.521782\n",
       "8        8  45.751553\n",
       "9        9   8.525372"
      ]
     },
     "execution_count": 46,
     "metadata": {},
     "output_type": "execute_result"
    }
   ],
   "source": [
    "submit = pd.DataFrame(test_id, columns=['test_id'])\n",
    "submit['price'] = prediction\n",
    "\n",
    "submit.head(10)"
   ]
  },
  {
   "cell_type": "code",
   "execution_count": 47,
   "id": "atmospheric-cleveland",
   "metadata": {
    "execution": {
     "iopub.execute_input": "2021-07-07T09:35:09.212693Z",
     "iopub.status.busy": "2021-07-07T09:35:09.211739Z",
     "iopub.status.idle": "2021-07-07T09:35:09.215721Z",
     "shell.execute_reply": "2021-07-07T09:35:09.215317Z"
    },
    "papermill": {
     "duration": 0.215475,
     "end_time": "2021-07-07T09:35:09.215839",
     "exception": false,
     "start_time": "2021-07-07T09:35:09.000364",
     "status": "completed"
    },
    "tags": []
   },
   "outputs": [
    {
     "data": {
      "text/plain": [
       "40"
      ]
     },
     "execution_count": 47,
     "metadata": {},
     "output_type": "execute_result"
    }
   ],
   "source": [
    "del test_id, prediction\n",
    "gc.collect()"
   ]
  },
  {
   "cell_type": "markdown",
   "id": "incoming-honduras",
   "metadata": {
    "papermill": {
     "duration": 0.072325,
     "end_time": "2021-07-07T09:35:09.361769",
     "exception": false,
     "start_time": "2021-07-07T09:35:09.289444",
     "status": "completed"
    },
    "tags": []
   },
   "source": [
    "Submissionファイルは、/kaggle下ではなく、/kaggle/working下に作成する。<br>\n",
    "また、submissionのCSVファイルについて、index=Falseにする。"
   ]
  },
  {
   "cell_type": "code",
   "execution_count": 48,
   "id": "forced-lafayette",
   "metadata": {
    "execution": {
     "iopub.execute_input": "2021-07-07T09:35:09.511692Z",
     "iopub.status.busy": "2021-07-07T09:35:09.511085Z",
     "iopub.status.idle": "2021-07-07T09:35:20.181430Z",
     "shell.execute_reply": "2021-07-07T09:35:20.180936Z"
    },
    "papermill": {
     "duration": 10.746892,
     "end_time": "2021-07-07T09:35:20.181566",
     "exception": false,
     "start_time": "2021-07-07T09:35:09.434674",
     "status": "completed"
    },
    "tags": []
   },
   "outputs": [],
   "source": [
    "submit.to_csv('./submission.csv', index=False)"
   ]
  }
 ],
 "metadata": {
  "kernelspec": {
   "display_name": "Python 3",
   "language": "python",
   "name": "python3"
  },
  "language_info": {
   "codemirror_mode": {
    "name": "ipython",
    "version": 3
   },
   "file_extension": ".py",
   "mimetype": "text/x-python",
   "name": "python",
   "nbconvert_exporter": "python",
   "pygments_lexer": "ipython3",
   "version": "3.7.9"
  },
  "papermill": {
   "default_parameters": {},
   "duration": 3264.10866,
   "end_time": "2021-07-07T09:35:22.068553",
   "environment_variables": {},
   "exception": null,
   "input_path": "__notebook__.ipynb",
   "output_path": "__notebook__.ipynb",
   "parameters": {},
   "start_time": "2021-07-07T08:40:57.959893",
   "version": "2.3.2"
  }
 },
 "nbformat": 4,
 "nbformat_minor": 5
}
