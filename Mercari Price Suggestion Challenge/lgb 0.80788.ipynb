{
 "cells": [
  {
   "cell_type": "markdown",
   "id": "thousand-elite",
   "metadata": {
    "execution": {
     "iopub.execute_input": "2021-06-24T03:23:16.409576Z",
     "iopub.status.busy": "2021-06-24T03:23:16.409199Z",
     "iopub.status.idle": "2021-06-24T03:23:16.414226Z",
     "shell.execute_reply": "2021-06-24T03:23:16.413341Z",
     "shell.execute_reply.started": "2021-06-24T03:23:16.409545Z"
    },
    "papermill": {
     "duration": 0.046868,
     "end_time": "2021-07-05T04:28:06.039077",
     "exception": false,
     "start_time": "2021-07-05T04:28:05.992209",
     "status": "completed"
    },
    "tags": []
   },
   "source": [
    "# Competition"
   ]
  },
  {
   "cell_type": "markdown",
   "id": "covered-contractor",
   "metadata": {
    "papermill": {
     "duration": 0.042724,
     "end_time": "2021-07-05T04:28:06.125705",
     "exception": false,
     "start_time": "2021-07-05T04:28:06.082981",
     "status": "completed"
    },
    "tags": []
   },
   "source": [
    "[Mercari Price Suggestion Challenge](https://www.kaggle.com/c/mercari-price-suggestion-challenge)"
   ]
  },
  {
   "cell_type": "markdown",
   "id": "distant-kenya",
   "metadata": {
    "papermill": {
     "duration": 0.042521,
     "end_time": "2021-07-05T04:28:06.211032",
     "exception": false,
     "start_time": "2021-07-05T04:28:06.168511",
     "status": "completed"
    },
    "tags": []
   },
   "source": [
    "# Overview"
   ]
  },
  {
   "cell_type": "markdown",
   "id": "parallel-technique",
   "metadata": {
    "papermill": {
     "duration": 0.042447,
     "end_time": "2021-07-05T04:28:06.296408",
     "exception": false,
     "start_time": "2021-07-05T04:28:06.253961",
     "status": "completed"
    },
    "tags": []
   },
   "source": [
    "メルカリに出品されている商品データ（カテゴリーやブランドなど）と価格をもとに<br>\n",
    "商品データから価格を予測するモデルを作成する。"
   ]
  },
  {
   "cell_type": "markdown",
   "id": "explicit-naples",
   "metadata": {
    "papermill": {
     "duration": 0.050945,
     "end_time": "2021-07-05T04:28:06.399330",
     "exception": false,
     "start_time": "2021-07-05T04:28:06.348385",
     "status": "completed"
    },
    "tags": []
   },
   "source": [
    "# Module"
   ]
  },
  {
   "cell_type": "code",
   "execution_count": 1,
   "id": "durable-festival",
   "metadata": {
    "execution": {
     "iopub.execute_input": "2021-07-05T04:28:06.499874Z",
     "iopub.status.busy": "2021-07-05T04:28:06.499154Z",
     "iopub.status.idle": "2021-07-05T04:28:08.608755Z",
     "shell.execute_reply": "2021-07-05T04:28:08.609477Z",
     "shell.execute_reply.started": "2021-07-05T04:17:17.959603Z"
    },
    "papermill": {
     "duration": 2.166773,
     "end_time": "2021-07-05T04:28:08.609774",
     "exception": false,
     "start_time": "2021-07-05T04:28:06.443001",
     "status": "completed"
    },
    "tags": []
   },
   "outputs": [
    {
     "data": {
      "text/html": [
       "<style type='text/css'>\n",
       ".datatable table.frame { margin-bottom: 0; }\n",
       ".datatable table.frame thead { border-bottom: none; }\n",
       ".datatable table.frame tr.coltypes td {  color: #FFFFFF;  line-height: 6px;  padding: 0 0.5em;}\n",
       ".datatable .bool    { background: #DDDD99; }\n",
       ".datatable .object  { background: #565656; }\n",
       ".datatable .int     { background: #5D9E5D; }\n",
       ".datatable .float   { background: #4040CC; }\n",
       ".datatable .str     { background: #CC4040; }\n",
       ".datatable .row_index {  background: var(--jp-border-color3);  border-right: 1px solid var(--jp-border-color0);  color: var(--jp-ui-font-color3);  font-size: 9px;}\n",
       ".datatable .frame tr.coltypes .row_index {  background: var(--jp-border-color0);}\n",
       ".datatable th:nth-child(2) { padding-left: 12px; }\n",
       ".datatable .hellipsis {  color: var(--jp-cell-editor-border-color);}\n",
       ".datatable .vellipsis {  background: var(--jp-layout-color0);  color: var(--jp-cell-editor-border-color);}\n",
       ".datatable .na {  color: var(--jp-cell-editor-border-color);  font-size: 80%;}\n",
       ".datatable .footer { font-size: 9px; }\n",
       ".datatable .frame_dimensions {  background: var(--jp-border-color3);  border-top: 1px solid var(--jp-border-color0);  color: var(--jp-ui-font-color3);  display: inline-block;  opacity: 0.6;  padding: 1px 10px 1px 5px;}\n",
       "</style>\n"
      ],
      "text/plain": [
       "<IPython.core.display.HTML object>"
      ]
     },
     "metadata": {},
     "output_type": "display_data"
    }
   ],
   "source": [
    "import gc\n",
    "import sys\n",
    "import optuna\n",
    "import datetime\n",
    "import warnings\n",
    "import matplotlib\n",
    "import numpy as np\n",
    "import pandas as pd\n",
    "import seaborn as sns\n",
    "import lightgbm as lgb\n",
    "import matplotlib.pyplot as plt\n",
    "\n",
    "from scipy.sparse import csr_matrix, hstack\n",
    "from sklearn.preprocessing import LabelBinarizer\n",
    "from sklearn.metrics import mean_squared_error\n",
    "from sklearn.model_selection import train_test_split\n",
    "from pandas.api.types import is_categorical_dtype\n",
    "from pandas.api.types import is_datetime64_any_dtype as is_datetime\n",
    "from sklearn.feature_extraction.text import CountVectorizer, TfidfVectorizer"
   ]
  },
  {
   "cell_type": "markdown",
   "id": "illegal-uganda",
   "metadata": {
    "papermill": {
     "duration": 0.043087,
     "end_time": "2021-07-05T04:28:08.696648",
     "exception": false,
     "start_time": "2021-07-05T04:28:08.653561",
     "status": "completed"
    },
    "tags": []
   },
   "source": [
    "# Unfreeze"
   ]
  },
  {
   "cell_type": "markdown",
   "id": "thirty-progress",
   "metadata": {
    "papermill": {
     "duration": 0.043506,
     "end_time": "2021-07-05T04:28:08.783505",
     "exception": false,
     "start_time": "2021-07-05T04:28:08.739999",
     "status": "completed"
    },
    "tags": []
   },
   "source": [
    "Kaggleで用意されたデータが、7z形式になっているため<br>\n",
    "解凍の処理から行っていく。"
   ]
  },
  {
   "cell_type": "code",
   "execution_count": 2,
   "id": "instrumental-stanford",
   "metadata": {
    "_kg_hide-output": true,
    "execution": {
     "iopub.execute_input": "2021-07-05T04:28:08.873708Z",
     "iopub.status.busy": "2021-07-05T04:28:08.873040Z",
     "iopub.status.idle": "2021-07-05T04:28:08.884759Z",
     "shell.execute_reply": "2021-07-05T04:28:08.884189Z",
     "shell.execute_reply.started": "2021-07-05T04:17:20.077900Z"
    },
    "papermill": {
     "duration": 0.058081,
     "end_time": "2021-07-05T04:28:08.884904",
     "exception": false,
     "start_time": "2021-07-05T04:28:08.826823",
     "status": "completed"
    },
    "tags": []
   },
   "outputs": [
    {
     "name": "stdout",
     "output_type": "stream",
     "text": [
      "/kaggle/input/mercari-price-suggestion-challenge/train.tsv.7z\n",
      "/kaggle/input/mercari-price-suggestion-challenge/test.tsv.7z\n",
      "/kaggle/input/mercari-price-suggestion-challenge/sample_submission_stg2.csv.zip\n",
      "/kaggle/input/mercari-price-suggestion-challenge/test_stg2.tsv.zip\n",
      "/kaggle/input/mercari-price-suggestion-challenge/sample_submission.csv.7z\n"
     ]
    }
   ],
   "source": [
    "import os\n",
    "for dirname, _, filenames in os.walk('/kaggle/input'):\n",
    "    for filename in filenames:\n",
    "        print(os.path.join(dirname, filename))"
   ]
  },
  {
   "cell_type": "markdown",
   "id": "engaged-rogers",
   "metadata": {
    "papermill": {
     "duration": 0.043167,
     "end_time": "2021-07-05T04:28:08.971493",
     "exception": false,
     "start_time": "2021-07-05T04:28:08.928326",
     "status": "completed"
    },
    "tags": []
   },
   "source": [
    "下記は、SettingsのInternetをONにして実行しないと、エラーになる。"
   ]
  },
  {
   "cell_type": "code",
   "execution_count": 3,
   "id": "disturbed-stockholm",
   "metadata": {
    "_kg_hide-output": true,
    "execution": {
     "iopub.execute_input": "2021-07-05T04:28:09.063358Z",
     "iopub.status.busy": "2021-07-05T04:28:09.062696Z",
     "iopub.status.idle": "2021-07-05T04:28:28.702020Z",
     "shell.execute_reply": "2021-07-05T04:28:28.701293Z",
     "shell.execute_reply.started": "2021-07-05T04:17:20.086179Z"
    },
    "papermill": {
     "duration": 19.686863,
     "end_time": "2021-07-05T04:28:28.702172",
     "exception": false,
     "start_time": "2021-07-05T04:28:09.015309",
     "status": "completed"
    },
    "tags": []
   },
   "outputs": [
    {
     "name": "stdout",
     "output_type": "stream",
     "text": [
      "\r\n",
      "\r\n",
      "\r\n",
      "Suggested packages:\r\n",
      "  p7zip-full\r\n",
      "The following NEW packages will be installed:\r\n",
      "  p7zip\r\n",
      "0 upgraded, 1 newly installed, 0 to remove and 23 not upgraded.\r\n",
      "Need to get 358 kB of archives.\r\n",
      "After this operation, 996 kB of additional disk space will be used.\r\n",
      "Get:1 http://archive.ubuntu.com/ubuntu bionic/universe amd64 p7zip amd64 16.02+dfsg-6 [358 kB]\r\n",
      "Fetched 358 kB in 1s (342 kB/s)\r\n",
      "debconf: delaying package configuration, since apt-utils is not installed\r\n",
      "Selecting previously unselected package p7zip.\r\n",
      "(Reading database ... 95165 files and directories currently installed.)\r\n",
      "Preparing to unpack .../p7zip_16.02+dfsg-6_amd64.deb ...\r\n",
      "Unpacking p7zip (16.02+dfsg-6) ...\r\n",
      "Setting up p7zip (16.02+dfsg-6) ...\r\n",
      "\r\n",
      "7-Zip (a) [64] 16.02 : Copyright (c) 1999-2016 Igor Pavlov : 2016-05-21\r\n",
      "p7zip Version 16.02 (locale=C.UTF-8,Utf16=on,HugeFiles=on,64 bits,4 CPUs Intel(R) Xeon(R) CPU @ 2.20GHz (406F0),ASM,AES-NI)\r\n",
      "\r\n",
      "Scanning the drive for archives:\r\n",
      "  0M Scan /kaggle/input/mercari-price-suggestion-challenge/\b\b\b\b\b\b\b\b\b\b\b\b\b\b\b\b\b\b\b\b\b\b\b\b\b\b\b\b\b\b\b\b\b\b\b\b\b\b\b\b\b\b\b\b\b\b\b\b\b\b\b\b\b\b\b\b\b\b\b                                                           \b\b\b\b\b\b\b\b\b\b\b\b\b\b\b\b\b\b\b\b\b\b\b\b\b\b\b\b\b\b\b\b\b\b\b\b\b\b\b\b\b\b\b\b\b\b\b\b\b\b\b\b\b\b\b\b\b\b\b1 file, 77912192 bytes (75 MiB)\r\n",
      "\r\n",
      "Extracting archive: /kaggle/input/mercari-price-suggestion-challenge/train.tsv.7z\r\n",
      "--\r\n",
      "Path = /kaggle/input/mercari-price-suggestion-challenge/train.tsv.7z\r\n",
      "Type = 7z\r\n",
      "Physical Size = 77912192\r\n",
      "Headers Size = 122\r\n",
      "Method = LZMA2:24\r\n",
      "Solid = -\r\n",
      "Blocks = 1\r\n",
      "\r\n",
      "  0%\b\b\b\b    \b\b\b\b  2% - train.tsv\b\b\b\b\b\b\b\b\b\b\b\b\b\b\b\b                \b\b\b\b\b\b\b\b\b\b\b\b\b\b\b\b  4% - train.tsv\b\b\b\b\b\b\b\b\b\b\b\b\b\b\b\b                \b\b\b\b\b\b\b\b\b\b\b\b\b\b\b\b  7% - train.tsv\b\b\b\b\b\b\b\b\b\b\b\b\b\b\b\b                \b\b\b\b\b\b\b\b\b\b\b\b\b\b\b\b  9% - train.tsv\b\b\b\b\b\b\b\b\b\b\b\b\b\b\b\b                \b\b\b\b\b\b\b\b\b\b\b\b\b\b\b\b 12% - train.tsv\b\b\b\b\b\b\b\b\b\b\b\b\b\b\b\b                \b\b\b\b\b\b\b\b\b\b\b\b\b\b\b\b 14% - train.tsv\b\b\b\b\b\b\b\b\b\b\b\b\b\b\b\b                \b\b\b\b\b\b\b\b\b\b\b\b\b\b\b\b 17% - train.tsv\b\b\b\b\b\b\b\b\b\b\b\b\b\b\b\b                \b\b\b\b\b\b\b\b\b\b\b\b\b\b\b\b 19% - train.tsv\b\b\b\b\b\b\b\b\b\b\b\b\b\b\b\b                \b\b\b\b\b\b\b\b\b\b\b\b\b\b\b\b 22% - train.tsv\b\b\b\b\b\b\b\b\b\b\b\b\b\b\b\b                \b\b\b\b\b\b\b\b\b\b\b\b\b\b\b\b 24% - train.tsv\b\b\b\b\b\b\b\b\b\b\b\b\b\b\b\b                \b\b\b\b\b\b\b\b\b\b\b\b\b\b\b\b 27% - train.tsv\b\b\b\b\b\b\b\b\b\b\b\b\b\b\b\b                \b\b\b\b\b\b\b\b\b\b\b\b\b\b\b\b 29% - train.tsv\b\b\b\b\b\b\b\b\b\b\b\b\b\b\b\b                \b\b\b\b\b\b\b\b\b\b\b\b\b\b\b\b 32% - train.tsv\b\b\b\b\b\b\b\b\b\b\b\b\b\b\b\b                \b\b\b\b\b\b\b\b\b\b\b\b\b\b\b\b 36% - train.tsv\b\b\b\b\b\b\b\b\b\b\b\b\b\b\b\b                \b\b\b\b\b\b\b\b\b\b\b\b\b\b\b\b 39% - train.tsv\b\b\b\b\b\b\b\b\b\b\b\b\b\b\b\b                \b\b\b\b\b\b\b\b\b\b\b\b\b\b\b\b 40% - train.tsv\b\b\b\b\b\b\b\b\b\b\b\b\b\b\b\b                \b\b\b\b\b\b\b\b\b\b\b\b\b\b\b\b 43% - train.tsv\b\b\b\b\b\b\b\b\b\b\b\b\b\b\b\b                \b\b\b\b\b\b\b\b\b\b\b\b\b\b\b\b 45% - train.tsv\b\b\b\b\b\b\b\b\b\b\b\b\b\b\b\b                \b\b\b\b\b\b\b\b\b\b\b\b\b\b\b\b 48% - train.tsv\b\b\b\b\b\b\b\b\b\b\b\b\b\b\b\b                \b\b\b\b\b\b\b\b\b\b\b\b\b\b\b\b 52% - train.tsv\b\b\b\b\b\b\b\b\b\b\b\b\b\b\b\b                \b\b\b\b\b\b\b\b\b\b\b\b\b\b\b\b 55% - train.tsv\b\b\b\b\b\b\b\b\b\b\b\b\b\b\b\b                \b\b\b\b\b\b\b\b\b\b\b\b\b\b\b\b 57% - train.tsv\b\b\b\b\b\b\b\b\b\b\b\b\b\b\b\b                \b\b\b\b\b\b\b\b\b\b\b\b\b\b\b\b 60% - train.tsv\b\b\b\b\b\b\b\b\b\b\b\b\b\b\b\b                \b\b\b\b\b\b\b\b\b\b\b\b\b\b\b\b 63% - train.tsv\b\b\b\b\b\b\b\b\b\b\b\b\b\b\b\b                \b\b\b\b\b\b\b\b\b\b\b\b\b\b\b\b 67% - train.tsv\b\b\b\b\b\b\b\b\b\b\b\b\b\b\b\b                \b\b\b\b\b\b\b\b\b\b\b\b\b\b\b\b 69% - train.tsv\b\b\b\b\b\b\b\b\b\b\b\b\b\b\b\b                \b\b\b\b\b\b\b\b\b\b\b\b\b\b\b\b 72% - train.tsv\b\b\b\b\b\b\b\b\b\b\b\b\b\b\b\b                \b\b\b\b\b\b\b\b\b\b\b\b\b\b\b\b 75% - train.tsv\b\b\b\b\b\b\b\b\b\b\b\b\b\b\b\b                \b\b\b\b\b\b\b\b\b\b\b\b\b\b\b\b 78% - train.tsv\b\b\b\b\b\b\b\b\b\b\b\b\b\b\b\b                \b\b\b\b\b\b\b\b\b\b\b\b\b\b\b\b 80% - train.tsv\b\b\b\b\b\b\b\b\b\b\b\b\b\b\b\b                \b\b\b\b\b\b\b\b\b\b\b\b\b\b\b\b 83% - train.tsv\b\b\b\b\b\b\b\b\b\b\b\b\b\b\b\b                \b\b\b\b\b\b\b\b\b\b\b\b\b\b\b\b 85% - train.tsv\b\b\b\b\b\b\b\b\b\b\b\b\b\b\b\b                \b\b\b\b\b\b\b\b\b\b\b\b\b\b\b\b 88% - train.tsv\b\b\b\b\b\b\b\b\b\b\b\b\b\b\b\b                \b\b\b\b\b\b\b\b\b\b\b\b\b\b\b\b 91% - train.tsv\b\b\b\b\b\b\b\b\b\b\b\b\b\b\b\b                \b\b\b\b\b\b\b\b\b\b\b\b\b\b\b\b 94% - train.tsv\b\b\b\b\b\b\b\b\b\b\b\b\b\b\b\b                \b\b\b\b\b\b\b\b\b\b\b\b\b\b\b\b 98% - train.tsv\b\b\b\b\b\b\b\b\b\b\b\b\b\b\b\b                \b\b\b\b\b\b\b\b\b\b\b\b\b\b\b\bEverything is Ok\r\n",
      "\r\n",
      "Size:       337809843\r\n",
      "Compressed: 77912192\r\n",
      "\r\n",
      "7-Zip (a) [64] 16.02 : Copyright (c) 1999-2016 Igor Pavlov : 2016-05-21\r\n",
      "p7zip Version 16.02 (locale=C.UTF-8,Utf16=on,HugeFiles=on,64 bits,4 CPUs Intel(R) Xeon(R) CPU @ 2.20GHz (406F0),ASM,AES-NI)\r\n",
      "\r\n",
      "Scanning the drive for archives:\r\n",
      "  0M Scan /kaggle/input/mercari-price-suggestion-challenge/\b\b\b\b\b\b\b\b\b\b\b\b\b\b\b\b\b\b\b\b\b\b\b\b\b\b\b\b\b\b\b\b\b\b\b\b\b\b\b\b\b\b\b\b\b\b\b\b\b\b\b\b\b\b\b\b\b\b\b                                                           \b\b\b\b\b\b\b\b\b\b\b\b\b\b\b\b\b\b\b\b\b\b\b\b\b\b\b\b\b\b\b\b\b\b\b\b\b\b\b\b\b\b\b\b\b\b\b\b\b\b\b\b\b\b\b\b\b\b\b1 file, 35617013 bytes (34 MiB)\r\n",
      "\r\n",
      "Extracting archive: /kaggle/input/mercari-price-suggestion-challenge/test.tsv.7z\r\n",
      "--\r\n",
      "Path = /kaggle/input/mercari-price-suggestion-challenge/test.tsv.7z\r\n",
      "Type = 7z\r\n",
      "Physical Size = 35617013\r\n",
      "Headers Size = 122\r\n",
      "Method = LZMA2:24\r\n",
      "Solid = -\r\n",
      "Blocks = 1\r\n",
      "\r\n",
      "  0%\b\b\b\b    \b\b\b\b  5% - test.tsv\b\b\b\b\b\b\b\b\b\b\b\b\b\b\b               \b\b\b\b\b\b\b\b\b\b\b\b\b\b\b 10% - test.tsv\b\b\b\b\b\b\b\b\b\b\b\b\b\b\b               \b\b\b\b\b\b\b\b\b\b\b\b\b\b\b 16% - test.tsv\b\b\b\b\b\b\b\b\b\b\b\b\b\b\b               \b\b\b\b\b\b\b\b\b\b\b\b\b\b\b 23% - test.tsv\b\b\b\b\b\b\b\b\b\b\b\b\b\b\b               \b\b\b\b\b\b\b\b\b\b\b\b\b\b\b 29% - test.tsv\b\b\b\b\b\b\b\b\b\b\b\b\b\b\b               \b\b\b\b\b\b\b\b\b\b\b\b\b\b\b 35% - test.tsv\b\b\b\b\b\b\b\b\b\b\b\b\b\b\b               \b\b\b\b\b\b\b\b\b\b\b\b\b\b\b 40% - test.tsv\b\b\b\b\b\b\b\b\b\b\b\b\b\b\b               \b\b\b\b\b\b\b\b\b\b\b\b\b\b\b 46% - test.tsv\b\b\b\b\b\b\b\b\b\b\b\b\b\b\b               \b\b\b\b\b\b\b\b\b\b\b\b\b\b\b 51% - test.tsv\b\b\b\b\b\b\b\b\b\b\b\b\b\b\b               \b\b\b\b\b\b\b\b\b\b\b\b\b\b\b 57% - test.tsv\b\b\b\b\b\b\b\b\b\b\b\b\b\b\b               \b\b\b\b\b\b\b\b\b\b\b\b\b\b\b 62% - test.tsv\b\b\b\b\b\b\b\b\b\b\b\b\b\b\b               \b\b\b\b\b\b\b\b\b\b\b\b\b\b\b 70% - test.tsv\b\b\b\b\b\b\b\b\b\b\b\b\b\b\b               \b\b\b\b\b\b\b\b\b\b\b\b\b\b\b 76% - test.tsv\b\b\b\b\b\b\b\b\b\b\b\b\b\b\b               \b\b\b\b\b\b\b\b\b\b\b\b\b\b\b 81% - test.tsv\b\b\b\b\b\b\b\b\b\b\b\b\b\b\b               \b\b\b\b\b\b\b\b\b\b\b\b\b\b\b 87% - test.tsv\b\b\b\b\b\b\b\b\b\b\b\b\b\b\b               \b\b\b\b\b\b\b\b\b\b\b\b\b\b\b 92% - test.tsv\b\b\b\b\b\b\b\b\b\b\b\b\b\b\b               \b\b\b\b\b\b\b\b\b\b\b\b\b\b\b100% 1\b\b\b\b\b\b      \b\b\b\b\b\bEverything is Ok\r\n",
      "\r\n",
      "Size:       154222160\r\n",
      "Compressed: 35617013\r\n",
      "\r\n",
      "7-Zip (a) [64] 16.02 : Copyright (c) 1999-2016 Igor Pavlov : 2016-05-21\r\n",
      "p7zip Version 16.02 (locale=C.UTF-8,Utf16=on,HugeFiles=on,64 bits,4 CPUs Intel(R) Xeon(R) CPU @ 2.20GHz (406F0),ASM,AES-NI)\r\n",
      "\r\n",
      "Scanning the drive for archives:\r\n",
      "  0M Scan /kaggle/input/mercari-price-suggestion-challenge/\b\b\b\b\b\b\b\b\b\b\b\b\b\b\b\b\b\b\b\b\b\b\b\b\b\b\b\b\b\b\b\b\b\b\b\b\b\b\b\b\b\b\b\b\b\b\b\b\b\b\b\b\b\b\b\b\b\b\b                                                           \b\b\b\b\b\b\b\b\b\b\b\b\b\b\b\b\b\b\b\b\b\b\b\b\b\b\b\b\b\b\b\b\b\b\b\b\b\b\b\b\b\b\b\b\b\b\b\b\b\b\b\b\b\b\b\b\b\b\b1 file, 174228 bytes (171 KiB)\r\n",
      "\r\n",
      "Extracting archive: /kaggle/input/mercari-price-suggestion-challenge/sample_submission.csv.7z\r\n",
      "--\r\n",
      "Path = /kaggle/input/mercari-price-suggestion-challenge/sample_submission.csv.7z\r\n",
      "Type = 7z\r\n",
      "Physical Size = 174228\r\n",
      "Headers Size = 143\r\n",
      "Method = LZMA:12m\r\n",
      "Solid = -\r\n",
      "Blocks = 1\r\n",
      "\r\n",
      "  0%\b\b\b\b    \b\b\b\bEverything is Ok\r\n",
      "\r\n",
      "Size:       9595930\r\n",
      "Compressed: 174228\r\n"
     ]
    }
   ],
   "source": [
    "!apt-get install p7zip\n",
    "!p7zip -d -f -k /kaggle/input/mercari-price-suggestion-challenge/train.tsv.7z\n",
    "!p7zip -d -f -k /kaggle/input/mercari-price-suggestion-challenge/test.tsv.7z\n",
    "!p7zip -d -f -k /kaggle/input/mercari-price-suggestion-challenge/sample_submission.csv.7z"
   ]
  },
  {
   "cell_type": "code",
   "execution_count": 4,
   "id": "turned-object",
   "metadata": {
    "_kg_hide-output": true,
    "execution": {
     "iopub.execute_input": "2021-07-05T04:28:28.855076Z",
     "iopub.status.busy": "2021-07-05T04:28:28.854178Z",
     "iopub.status.idle": "2021-07-05T04:28:40.320521Z",
     "shell.execute_reply": "2021-07-05T04:28:40.319448Z",
     "shell.execute_reply.started": "2021-07-05T04:17:38.191699Z"
    },
    "papermill": {
     "duration": 11.546937,
     "end_time": "2021-07-05T04:28:40.320700",
     "exception": false,
     "start_time": "2021-07-05T04:28:28.773763",
     "status": "completed"
    },
    "tags": []
   },
   "outputs": [
    {
     "name": "stdout",
     "output_type": "stream",
     "text": [
      "Archive:  /kaggle/input/mercari-price-suggestion-challenge/sample_submission_stg2.csv.zip\r\n",
      "  inflating: sample_submission_stg2.csv  \r\n",
      "Archive:  /kaggle/input/mercari-price-suggestion-challenge/test_stg2.tsv.zip\r\n",
      "  inflating: test_stg2.tsv           \r\n"
     ]
    }
   ],
   "source": [
    "!unzip /kaggle/input/mercari-price-suggestion-challenge/sample_submission_stg2.csv.zip\n",
    "!unzip /kaggle/input/mercari-price-suggestion-challenge/test_stg2.tsv.zip"
   ]
  },
  {
   "cell_type": "markdown",
   "id": "exciting-mexico",
   "metadata": {
    "papermill": {
     "duration": 0.072327,
     "end_time": "2021-07-05T04:28:40.464076",
     "exception": false,
     "start_time": "2021-07-05T04:28:40.391749",
     "status": "completed"
    },
    "tags": []
   },
   "source": [
    "# Datasets"
   ]
  },
  {
   "cell_type": "code",
   "execution_count": 5,
   "id": "average-politics",
   "metadata": {
    "execution": {
     "iopub.execute_input": "2021-07-05T04:28:40.614481Z",
     "iopub.status.busy": "2021-07-05T04:28:40.612756Z",
     "iopub.status.idle": "2021-07-05T04:28:47.379005Z",
     "shell.execute_reply": "2021-07-05T04:28:47.378223Z",
     "shell.execute_reply.started": "2021-07-05T04:17:49.351379Z"
    },
    "papermill": {
     "duration": 6.844073,
     "end_time": "2021-07-05T04:28:47.379198",
     "exception": false,
     "start_time": "2021-07-05T04:28:40.535125",
     "status": "completed"
    },
    "tags": []
   },
   "outputs": [
    {
     "name": "stdout",
     "output_type": "stream",
     "text": [
      "(1482535, 8)\n"
     ]
    },
    {
     "data": {
      "text/html": [
       "<div>\n",
       "<style scoped>\n",
       "    .dataframe tbody tr th:only-of-type {\n",
       "        vertical-align: middle;\n",
       "    }\n",
       "\n",
       "    .dataframe tbody tr th {\n",
       "        vertical-align: top;\n",
       "    }\n",
       "\n",
       "    .dataframe thead th {\n",
       "        text-align: right;\n",
       "    }\n",
       "</style>\n",
       "<table border=\"1\" class=\"dataframe\">\n",
       "  <thead>\n",
       "    <tr style=\"text-align: right;\">\n",
       "      <th></th>\n",
       "      <th>train_id</th>\n",
       "      <th>name</th>\n",
       "      <th>item_condition_id</th>\n",
       "      <th>category_name</th>\n",
       "      <th>brand_name</th>\n",
       "      <th>price</th>\n",
       "      <th>shipping</th>\n",
       "      <th>item_description</th>\n",
       "    </tr>\n",
       "  </thead>\n",
       "  <tbody>\n",
       "    <tr>\n",
       "      <th>0</th>\n",
       "      <td>0</td>\n",
       "      <td>MLB Cincinnati Reds T Shirt Size XL</td>\n",
       "      <td>3</td>\n",
       "      <td>Men/Tops/T-shirts</td>\n",
       "      <td>NaN</td>\n",
       "      <td>10.0</td>\n",
       "      <td>1</td>\n",
       "      <td>No description yet</td>\n",
       "    </tr>\n",
       "    <tr>\n",
       "      <th>1</th>\n",
       "      <td>1</td>\n",
       "      <td>Razer BlackWidow Chroma Keyboard</td>\n",
       "      <td>3</td>\n",
       "      <td>Electronics/Computers &amp; Tablets/Components &amp; P...</td>\n",
       "      <td>Razer</td>\n",
       "      <td>52.0</td>\n",
       "      <td>0</td>\n",
       "      <td>This keyboard is in great condition and works ...</td>\n",
       "    </tr>\n",
       "    <tr>\n",
       "      <th>2</th>\n",
       "      <td>2</td>\n",
       "      <td>AVA-VIV Blouse</td>\n",
       "      <td>1</td>\n",
       "      <td>Women/Tops &amp; Blouses/Blouse</td>\n",
       "      <td>Target</td>\n",
       "      <td>10.0</td>\n",
       "      <td>1</td>\n",
       "      <td>Adorable top with a hint of lace and a key hol...</td>\n",
       "    </tr>\n",
       "    <tr>\n",
       "      <th>3</th>\n",
       "      <td>3</td>\n",
       "      <td>Leather Horse Statues</td>\n",
       "      <td>1</td>\n",
       "      <td>Home/Home Décor/Home Décor Accents</td>\n",
       "      <td>NaN</td>\n",
       "      <td>35.0</td>\n",
       "      <td>1</td>\n",
       "      <td>New with tags. Leather horses. Retail for [rm]...</td>\n",
       "    </tr>\n",
       "    <tr>\n",
       "      <th>4</th>\n",
       "      <td>4</td>\n",
       "      <td>24K GOLD plated rose</td>\n",
       "      <td>1</td>\n",
       "      <td>Women/Jewelry/Necklaces</td>\n",
       "      <td>NaN</td>\n",
       "      <td>44.0</td>\n",
       "      <td>0</td>\n",
       "      <td>Complete with certificate of authenticity</td>\n",
       "    </tr>\n",
       "    <tr>\n",
       "      <th>5</th>\n",
       "      <td>5</td>\n",
       "      <td>Bundled items requested for Ruie</td>\n",
       "      <td>3</td>\n",
       "      <td>Women/Other/Other</td>\n",
       "      <td>NaN</td>\n",
       "      <td>59.0</td>\n",
       "      <td>0</td>\n",
       "      <td>Banana republic bottoms, Candies skirt with ma...</td>\n",
       "    </tr>\n",
       "    <tr>\n",
       "      <th>6</th>\n",
       "      <td>6</td>\n",
       "      <td>Acacia pacific tides santorini top</td>\n",
       "      <td>3</td>\n",
       "      <td>Women/Swimwear/Two-Piece</td>\n",
       "      <td>Acacia Swimwear</td>\n",
       "      <td>64.0</td>\n",
       "      <td>0</td>\n",
       "      <td>Size small but straps slightly shortened to fi...</td>\n",
       "    </tr>\n",
       "    <tr>\n",
       "      <th>7</th>\n",
       "      <td>7</td>\n",
       "      <td>Girls cheer and tumbling bundle of 7</td>\n",
       "      <td>3</td>\n",
       "      <td>Sports &amp; Outdoors/Apparel/Girls</td>\n",
       "      <td>Soffe</td>\n",
       "      <td>6.0</td>\n",
       "      <td>1</td>\n",
       "      <td>You get three pairs of Sophie cheer shorts siz...</td>\n",
       "    </tr>\n",
       "    <tr>\n",
       "      <th>8</th>\n",
       "      <td>8</td>\n",
       "      <td>Girls Nike Pro shorts</td>\n",
       "      <td>3</td>\n",
       "      <td>Sports &amp; Outdoors/Apparel/Girls</td>\n",
       "      <td>Nike</td>\n",
       "      <td>19.0</td>\n",
       "      <td>0</td>\n",
       "      <td>Girls Size small Plus green. Three shorts total.</td>\n",
       "    </tr>\n",
       "    <tr>\n",
       "      <th>9</th>\n",
       "      <td>9</td>\n",
       "      <td>Porcelain clown doll checker pants VTG</td>\n",
       "      <td>3</td>\n",
       "      <td>Vintage &amp; Collectibles/Collectibles/Doll</td>\n",
       "      <td>NaN</td>\n",
       "      <td>8.0</td>\n",
       "      <td>0</td>\n",
       "      <td>I realized his pants are on backwards after th...</td>\n",
       "    </tr>\n",
       "  </tbody>\n",
       "</table>\n",
       "</div>"
      ],
      "text/plain": [
       "   train_id                                    name  item_condition_id  \\\n",
       "0         0     MLB Cincinnati Reds T Shirt Size XL                  3   \n",
       "1         1        Razer BlackWidow Chroma Keyboard                  3   \n",
       "2         2                          AVA-VIV Blouse                  1   \n",
       "3         3                   Leather Horse Statues                  1   \n",
       "4         4                    24K GOLD plated rose                  1   \n",
       "5         5        Bundled items requested for Ruie                  3   \n",
       "6         6      Acacia pacific tides santorini top                  3   \n",
       "7         7    Girls cheer and tumbling bundle of 7                  3   \n",
       "8         8                   Girls Nike Pro shorts                  3   \n",
       "9         9  Porcelain clown doll checker pants VTG                  3   \n",
       "\n",
       "                                       category_name       brand_name  price  \\\n",
       "0                                  Men/Tops/T-shirts              NaN   10.0   \n",
       "1  Electronics/Computers & Tablets/Components & P...            Razer   52.0   \n",
       "2                        Women/Tops & Blouses/Blouse           Target   10.0   \n",
       "3                 Home/Home Décor/Home Décor Accents              NaN   35.0   \n",
       "4                            Women/Jewelry/Necklaces              NaN   44.0   \n",
       "5                                  Women/Other/Other              NaN   59.0   \n",
       "6                           Women/Swimwear/Two-Piece  Acacia Swimwear   64.0   \n",
       "7                    Sports & Outdoors/Apparel/Girls            Soffe    6.0   \n",
       "8                    Sports & Outdoors/Apparel/Girls             Nike   19.0   \n",
       "9           Vintage & Collectibles/Collectibles/Doll              NaN    8.0   \n",
       "\n",
       "   shipping                                   item_description  \n",
       "0         1                                 No description yet  \n",
       "1         0  This keyboard is in great condition and works ...  \n",
       "2         1  Adorable top with a hint of lace and a key hol...  \n",
       "3         1  New with tags. Leather horses. Retail for [rm]...  \n",
       "4         0          Complete with certificate of authenticity  \n",
       "5         0  Banana republic bottoms, Candies skirt with ma...  \n",
       "6         0  Size small but straps slightly shortened to fi...  \n",
       "7         1  You get three pairs of Sophie cheer shorts siz...  \n",
       "8         0   Girls Size small Plus green. Three shorts total.  \n",
       "9         0  I realized his pants are on backwards after th...  "
      ]
     },
     "execution_count": 5,
     "metadata": {},
     "output_type": "execute_result"
    }
   ],
   "source": [
    "train = pd.read_csv('train.tsv', sep='\\t')\n",
    "\n",
    "print(train.shape)\n",
    "train.head(10)"
   ]
  },
  {
   "cell_type": "code",
   "execution_count": 6,
   "id": "thorough-insertion",
   "metadata": {
    "_kg_hide-input": true,
    "execution": {
     "iopub.execute_input": "2021-07-05T04:28:48.735805Z",
     "iopub.status.busy": "2021-07-05T04:28:48.734816Z",
     "iopub.status.idle": "2021-07-05T04:28:48.739253Z",
     "shell.execute_reply": "2021-07-05T04:28:48.738784Z",
     "shell.execute_reply.started": "2021-07-05T04:17:56.006399Z"
    },
    "papermill": {
     "duration": 1.287296,
     "end_time": "2021-07-05T04:28:48.739400",
     "exception": false,
     "start_time": "2021-07-05T04:28:47.452104",
     "status": "completed"
    },
    "tags": []
   },
   "outputs": [
    {
     "data": {
      "text/html": [
       "<div>\n",
       "<style scoped>\n",
       "    .dataframe tbody tr th:only-of-type {\n",
       "        vertical-align: middle;\n",
       "    }\n",
       "\n",
       "    .dataframe tbody tr th {\n",
       "        vertical-align: top;\n",
       "    }\n",
       "\n",
       "    .dataframe thead th {\n",
       "        text-align: right;\n",
       "    }\n",
       "</style>\n",
       "<table border=\"1\" class=\"dataframe\">\n",
       "  <thead>\n",
       "    <tr style=\"text-align: right;\">\n",
       "      <th></th>\n",
       "      <th>カラム</th>\n",
       "      <th>意味</th>\n",
       "    </tr>\n",
       "  </thead>\n",
       "  <tbody>\n",
       "    <tr>\n",
       "      <th>0</th>\n",
       "      <td>train_id</td>\n",
       "      <td>商品ID</td>\n",
       "    </tr>\n",
       "    <tr>\n",
       "      <th>1</th>\n",
       "      <td>name</td>\n",
       "      <td>商品名</td>\n",
       "    </tr>\n",
       "    <tr>\n",
       "      <th>2</th>\n",
       "      <td>item_condition_id</td>\n",
       "      <td>商品の状態</td>\n",
       "    </tr>\n",
       "    <tr>\n",
       "      <th>3</th>\n",
       "      <td>category_name</td>\n",
       "      <td>カテゴリー名</td>\n",
       "    </tr>\n",
       "    <tr>\n",
       "      <th>4</th>\n",
       "      <td>brand_name</td>\n",
       "      <td>ブランド名</td>\n",
       "    </tr>\n",
       "    <tr>\n",
       "      <th>5</th>\n",
       "      <td>price</td>\n",
       "      <td>価格（単位：ドル）</td>\n",
       "    </tr>\n",
       "    <tr>\n",
       "      <th>6</th>\n",
       "      <td>shipping</td>\n",
       "      <td>送料が売手負担かどうか</td>\n",
       "    </tr>\n",
       "    <tr>\n",
       "      <th>7</th>\n",
       "      <td>item_description</td>\n",
       "      <td>商品説明</td>\n",
       "    </tr>\n",
       "  </tbody>\n",
       "</table>\n",
       "</div>"
      ],
      "text/plain": [
       "                 カラム           意味\n",
       "0           train_id         商品ID\n",
       "1               name          商品名\n",
       "2  item_condition_id        商品の状態\n",
       "3      category_name       カテゴリー名\n",
       "4         brand_name        ブランド名\n",
       "5              price    価格（単位：ドル）\n",
       "6           shipping  送料が売手負担かどうか\n",
       "7   item_description         商品説明"
      ]
     },
     "execution_count": 6,
     "metadata": {},
     "output_type": "execute_result"
    }
   ],
   "source": [
    "pd.DataFrame([['train_id', '商品ID'],\n",
    "              ['name', '商品名'],\n",
    "              ['item_condition_id', '商品の状態'],\n",
    "              ['category_name', 'カテゴリー名'],\n",
    "              ['brand_name', 'ブランド名'],\n",
    "              ['price', '価格（単位：ドル）'],\n",
    "              ['shipping', '送料が売手負担かどうか'],['item_description', '商品説明']],\n",
    "              columns=['カラム', '意味'])"
   ]
  },
  {
   "cell_type": "markdown",
   "id": "reliable-companion",
   "metadata": {
    "execution": {
     "iopub.execute_input": "2021-07-02T06:56:15.612722Z",
     "iopub.status.busy": "2021-07-02T06:56:15.612322Z",
     "iopub.status.idle": "2021-07-02T06:56:15.618286Z",
     "shell.execute_reply": "2021-07-02T06:56:15.617229Z",
     "shell.execute_reply.started": "2021-07-02T06:56:15.612688Z"
    },
    "papermill": {
     "duration": 0.073093,
     "end_time": "2021-07-05T04:28:48.884775",
     "exception": false,
     "start_time": "2021-07-05T04:28:48.811682",
     "status": "completed"
    },
    "tags": []
   },
   "source": [
    "testデータは、test.tsvとtest_stg2.tsvがある。<br>\n",
    "submitのときには、test_stg2を使用する。"
   ]
  },
  {
   "cell_type": "code",
   "execution_count": 7,
   "id": "tutorial-royalty",
   "metadata": {
    "execution": {
     "iopub.execute_input": "2021-07-05T04:28:49.038020Z",
     "iopub.status.busy": "2021-07-05T04:28:49.037253Z",
     "iopub.status.idle": "2021-07-05T04:28:51.965985Z",
     "shell.execute_reply": "2021-07-05T04:28:51.966461Z",
     "shell.execute_reply.started": "2021-07-05T04:17:56.021882Z"
    },
    "papermill": {
     "duration": 3.008668,
     "end_time": "2021-07-05T04:28:51.966665",
     "exception": false,
     "start_time": "2021-07-05T04:28:48.957997",
     "status": "completed"
    },
    "tags": []
   },
   "outputs": [
    {
     "name": "stdout",
     "output_type": "stream",
     "text": [
      "(693359, 7)\n"
     ]
    },
    {
     "data": {
      "text/html": [
       "<div>\n",
       "<style scoped>\n",
       "    .dataframe tbody tr th:only-of-type {\n",
       "        vertical-align: middle;\n",
       "    }\n",
       "\n",
       "    .dataframe tbody tr th {\n",
       "        vertical-align: top;\n",
       "    }\n",
       "\n",
       "    .dataframe thead th {\n",
       "        text-align: right;\n",
       "    }\n",
       "</style>\n",
       "<table border=\"1\" class=\"dataframe\">\n",
       "  <thead>\n",
       "    <tr style=\"text-align: right;\">\n",
       "      <th></th>\n",
       "      <th>test_id</th>\n",
       "      <th>name</th>\n",
       "      <th>item_condition_id</th>\n",
       "      <th>category_name</th>\n",
       "      <th>brand_name</th>\n",
       "      <th>shipping</th>\n",
       "      <th>item_description</th>\n",
       "    </tr>\n",
       "  </thead>\n",
       "  <tbody>\n",
       "    <tr>\n",
       "      <th>0</th>\n",
       "      <td>0</td>\n",
       "      <td>Breast cancer \"I fight like a girl\" ring</td>\n",
       "      <td>1</td>\n",
       "      <td>Women/Jewelry/Rings</td>\n",
       "      <td>NaN</td>\n",
       "      <td>1</td>\n",
       "      <td>Size 7</td>\n",
       "    </tr>\n",
       "    <tr>\n",
       "      <th>1</th>\n",
       "      <td>1</td>\n",
       "      <td>25 pcs NEW 7.5\"x12\" Kraft Bubble Mailers</td>\n",
       "      <td>1</td>\n",
       "      <td>Other/Office supplies/Shipping Supplies</td>\n",
       "      <td>NaN</td>\n",
       "      <td>1</td>\n",
       "      <td>25 pcs NEW 7.5\"x12\" Kraft Bubble Mailers Lined...</td>\n",
       "    </tr>\n",
       "    <tr>\n",
       "      <th>2</th>\n",
       "      <td>2</td>\n",
       "      <td>Coach bag</td>\n",
       "      <td>1</td>\n",
       "      <td>Vintage &amp; Collectibles/Bags and Purses/Handbag</td>\n",
       "      <td>Coach</td>\n",
       "      <td>1</td>\n",
       "      <td>Brand new coach bag. Bought for [rm] at a Coac...</td>\n",
       "    </tr>\n",
       "    <tr>\n",
       "      <th>3</th>\n",
       "      <td>3</td>\n",
       "      <td>Floral Kimono</td>\n",
       "      <td>2</td>\n",
       "      <td>Women/Sweaters/Cardigan</td>\n",
       "      <td>NaN</td>\n",
       "      <td>0</td>\n",
       "      <td>-floral kimono -never worn -lightweight and pe...</td>\n",
       "    </tr>\n",
       "    <tr>\n",
       "      <th>4</th>\n",
       "      <td>4</td>\n",
       "      <td>Life after Death</td>\n",
       "      <td>3</td>\n",
       "      <td>Other/Books/Religion &amp; Spirituality</td>\n",
       "      <td>NaN</td>\n",
       "      <td>1</td>\n",
       "      <td>Rediscovering life after the loss of a loved o...</td>\n",
       "    </tr>\n",
       "    <tr>\n",
       "      <th>5</th>\n",
       "      <td>5</td>\n",
       "      <td>iPhone 6 Plus or 6s Plus Vodka pink case</td>\n",
       "      <td>1</td>\n",
       "      <td>Electronics/Cell Phones &amp; Accessories/Cases, C...</td>\n",
       "      <td>NaN</td>\n",
       "      <td>1</td>\n",
       "      <td>One Absolut Vodka in Pink for iPhone 6 Plus an...</td>\n",
       "    </tr>\n",
       "    <tr>\n",
       "      <th>6</th>\n",
       "      <td>6</td>\n",
       "      <td>Vintage Cameo Pendant &amp; Brooch Pin</td>\n",
       "      <td>3</td>\n",
       "      <td>Women/Jewelry/Necklaces</td>\n",
       "      <td>Vintage</td>\n",
       "      <td>1</td>\n",
       "      <td>Two vintage Cameo pieces. 1. Silver metal Lock...</td>\n",
       "    </tr>\n",
       "    <tr>\n",
       "      <th>7</th>\n",
       "      <td>7</td>\n",
       "      <td>Rose Gold Stainless Steel Quartz Watch</td>\n",
       "      <td>1</td>\n",
       "      <td>Women/Women's Accessories/Watches</td>\n",
       "      <td>NaN</td>\n",
       "      <td>1</td>\n",
       "      <td>Brand new Price firm No trades Box included wi...</td>\n",
       "    </tr>\n",
       "    <tr>\n",
       "      <th>8</th>\n",
       "      <td>8</td>\n",
       "      <td>Daisy Marc Jacobs 3.4oz</td>\n",
       "      <td>3</td>\n",
       "      <td>Beauty/Fragrance/Women</td>\n",
       "      <td>MARC JACOBS</td>\n",
       "      <td>0</td>\n",
       "      <td>Brand new No box 100% authentic Firm price NO ...</td>\n",
       "    </tr>\n",
       "    <tr>\n",
       "      <th>9</th>\n",
       "      <td>9</td>\n",
       "      <td>Rose Brushes and Silicone Sponge</td>\n",
       "      <td>1</td>\n",
       "      <td>Beauty/Tools &amp; Accessories/Makeup Brushes &amp; Tools</td>\n",
       "      <td>NaN</td>\n",
       "      <td>1</td>\n",
       "      <td>All new. 12 pcs makeup brushes and one Silicon...</td>\n",
       "    </tr>\n",
       "  </tbody>\n",
       "</table>\n",
       "</div>"
      ],
      "text/plain": [
       "   test_id                                      name  item_condition_id  \\\n",
       "0        0  Breast cancer \"I fight like a girl\" ring                  1   \n",
       "1        1  25 pcs NEW 7.5\"x12\" Kraft Bubble Mailers                  1   \n",
       "2        2                                 Coach bag                  1   \n",
       "3        3                             Floral Kimono                  2   \n",
       "4        4                          Life after Death                  3   \n",
       "5        5  iPhone 6 Plus or 6s Plus Vodka pink case                  1   \n",
       "6        6        Vintage Cameo Pendant & Brooch Pin                  3   \n",
       "7        7    Rose Gold Stainless Steel Quartz Watch                  1   \n",
       "8        8                   Daisy Marc Jacobs 3.4oz                  3   \n",
       "9        9          Rose Brushes and Silicone Sponge                  1   \n",
       "\n",
       "                                       category_name   brand_name  shipping  \\\n",
       "0                                Women/Jewelry/Rings          NaN         1   \n",
       "1            Other/Office supplies/Shipping Supplies          NaN         1   \n",
       "2     Vintage & Collectibles/Bags and Purses/Handbag        Coach         1   \n",
       "3                            Women/Sweaters/Cardigan          NaN         0   \n",
       "4                Other/Books/Religion & Spirituality          NaN         1   \n",
       "5  Electronics/Cell Phones & Accessories/Cases, C...          NaN         1   \n",
       "6                            Women/Jewelry/Necklaces      Vintage         1   \n",
       "7                  Women/Women's Accessories/Watches          NaN         1   \n",
       "8                             Beauty/Fragrance/Women  MARC JACOBS         0   \n",
       "9  Beauty/Tools & Accessories/Makeup Brushes & Tools          NaN         1   \n",
       "\n",
       "                                    item_description  \n",
       "0                                             Size 7  \n",
       "1  25 pcs NEW 7.5\"x12\" Kraft Bubble Mailers Lined...  \n",
       "2  Brand new coach bag. Bought for [rm] at a Coac...  \n",
       "3  -floral kimono -never worn -lightweight and pe...  \n",
       "4  Rediscovering life after the loss of a loved o...  \n",
       "5  One Absolut Vodka in Pink for iPhone 6 Plus an...  \n",
       "6  Two vintage Cameo pieces. 1. Silver metal Lock...  \n",
       "7  Brand new Price firm No trades Box included wi...  \n",
       "8  Brand new No box 100% authentic Firm price NO ...  \n",
       "9  All new. 12 pcs makeup brushes and one Silicon...  "
      ]
     },
     "execution_count": 7,
     "metadata": {},
     "output_type": "execute_result"
    }
   ],
   "source": [
    "test_dummy = pd.read_csv('test.tsv', sep='\\t')\n",
    "\n",
    "print(test_dummy.shape)\n",
    "test_dummy.head(10)"
   ]
  },
  {
   "cell_type": "code",
   "execution_count": 8,
   "id": "handled-quantity",
   "metadata": {
    "_kg_hide-input": true,
    "execution": {
     "iopub.execute_input": "2021-07-05T04:28:52.126881Z",
     "iopub.status.busy": "2021-07-05T04:28:52.125829Z",
     "iopub.status.idle": "2021-07-05T04:28:52.130314Z",
     "shell.execute_reply": "2021-07-05T04:28:52.129694Z",
     "shell.execute_reply.started": "2021-07-05T04:17:58.920689Z"
    },
    "papermill": {
     "duration": 0.090271,
     "end_time": "2021-07-05T04:28:52.130454",
     "exception": false,
     "start_time": "2021-07-05T04:28:52.040183",
     "status": "completed"
    },
    "tags": []
   },
   "outputs": [
    {
     "data": {
      "text/html": [
       "<div>\n",
       "<style scoped>\n",
       "    .dataframe tbody tr th:only-of-type {\n",
       "        vertical-align: middle;\n",
       "    }\n",
       "\n",
       "    .dataframe tbody tr th {\n",
       "        vertical-align: top;\n",
       "    }\n",
       "\n",
       "    .dataframe thead th {\n",
       "        text-align: right;\n",
       "    }\n",
       "</style>\n",
       "<table border=\"1\" class=\"dataframe\">\n",
       "  <thead>\n",
       "    <tr style=\"text-align: right;\">\n",
       "      <th></th>\n",
       "      <th>カラム</th>\n",
       "      <th>意味</th>\n",
       "    </tr>\n",
       "  </thead>\n",
       "  <tbody>\n",
       "    <tr>\n",
       "      <th>0</th>\n",
       "      <td>test_id</td>\n",
       "      <td>商品ID</td>\n",
       "    </tr>\n",
       "    <tr>\n",
       "      <th>1</th>\n",
       "      <td>name</td>\n",
       "      <td>商品名</td>\n",
       "    </tr>\n",
       "    <tr>\n",
       "      <th>2</th>\n",
       "      <td>item_condition_id</td>\n",
       "      <td>商品の状態</td>\n",
       "    </tr>\n",
       "    <tr>\n",
       "      <th>3</th>\n",
       "      <td>category_name</td>\n",
       "      <td>カテゴリー名</td>\n",
       "    </tr>\n",
       "    <tr>\n",
       "      <th>4</th>\n",
       "      <td>brand_name</td>\n",
       "      <td>ブランド名</td>\n",
       "    </tr>\n",
       "    <tr>\n",
       "      <th>5</th>\n",
       "      <td>shipping</td>\n",
       "      <td>送料が売手負担かどうか</td>\n",
       "    </tr>\n",
       "    <tr>\n",
       "      <th>6</th>\n",
       "      <td>item_description</td>\n",
       "      <td>商品説明</td>\n",
       "    </tr>\n",
       "  </tbody>\n",
       "</table>\n",
       "</div>"
      ],
      "text/plain": [
       "                 カラム           意味\n",
       "0            test_id         商品ID\n",
       "1               name          商品名\n",
       "2  item_condition_id        商品の状態\n",
       "3      category_name       カテゴリー名\n",
       "4         brand_name        ブランド名\n",
       "5           shipping  送料が売手負担かどうか\n",
       "6   item_description         商品説明"
      ]
     },
     "execution_count": 8,
     "metadata": {},
     "output_type": "execute_result"
    }
   ],
   "source": [
    "pd.DataFrame([['test_id', '商品ID'],\n",
    "              ['name', '商品名'],\n",
    "              ['item_condition_id', '商品の状態'],\n",
    "              ['category_name', 'カテゴリー名'],\n",
    "              ['brand_name', 'ブランド名'],\n",
    "              ['shipping', '送料が売手負担かどうか'],['item_description', '商品説明']],\n",
    "              columns=['カラム', '意味'])"
   ]
  },
  {
   "cell_type": "code",
   "execution_count": 9,
   "id": "fleet-semester",
   "metadata": {
    "execution": {
     "iopub.execute_input": "2021-07-05T04:28:52.282948Z",
     "iopub.status.busy": "2021-07-05T04:28:52.282246Z",
     "iopub.status.idle": "2021-07-05T04:29:07.300792Z",
     "shell.execute_reply": "2021-07-05T04:29:07.300059Z",
     "shell.execute_reply.started": "2021-07-05T04:17:58.934518Z"
    },
    "papermill": {
     "duration": 15.097027,
     "end_time": "2021-07-05T04:29:07.300942",
     "exception": false,
     "start_time": "2021-07-05T04:28:52.203915",
     "status": "completed"
    },
    "tags": []
   },
   "outputs": [
    {
     "name": "stdout",
     "output_type": "stream",
     "text": [
      "(3460725, 7)\n"
     ]
    },
    {
     "data": {
      "text/html": [
       "<div>\n",
       "<style scoped>\n",
       "    .dataframe tbody tr th:only-of-type {\n",
       "        vertical-align: middle;\n",
       "    }\n",
       "\n",
       "    .dataframe tbody tr th {\n",
       "        vertical-align: top;\n",
       "    }\n",
       "\n",
       "    .dataframe thead th {\n",
       "        text-align: right;\n",
       "    }\n",
       "</style>\n",
       "<table border=\"1\" class=\"dataframe\">\n",
       "  <thead>\n",
       "    <tr style=\"text-align: right;\">\n",
       "      <th></th>\n",
       "      <th>test_id</th>\n",
       "      <th>name</th>\n",
       "      <th>item_condition_id</th>\n",
       "      <th>category_name</th>\n",
       "      <th>brand_name</th>\n",
       "      <th>shipping</th>\n",
       "      <th>item_description</th>\n",
       "    </tr>\n",
       "  </thead>\n",
       "  <tbody>\n",
       "    <tr>\n",
       "      <th>0</th>\n",
       "      <td>0</td>\n",
       "      <td>Breast cancer \"I fight like a girl\" ring</td>\n",
       "      <td>1</td>\n",
       "      <td>Women/Jewelry/Rings</td>\n",
       "      <td>NaN</td>\n",
       "      <td>1</td>\n",
       "      <td>Size 7</td>\n",
       "    </tr>\n",
       "    <tr>\n",
       "      <th>1</th>\n",
       "      <td>1</td>\n",
       "      <td>25 pcs NEW 7.5\"x12\" Kraft Bubble Mailers</td>\n",
       "      <td>1</td>\n",
       "      <td>Other/Office supplies/Shipping Supplies</td>\n",
       "      <td>NaN</td>\n",
       "      <td>1</td>\n",
       "      <td>25 pcs NEW 7.5\"x12\" Kraft Bubble Mailers Lined...</td>\n",
       "    </tr>\n",
       "    <tr>\n",
       "      <th>2</th>\n",
       "      <td>2</td>\n",
       "      <td>Coach bag</td>\n",
       "      <td>1</td>\n",
       "      <td>Vintage &amp; Collectibles/Bags and Purses/Handbag</td>\n",
       "      <td>Coach</td>\n",
       "      <td>1</td>\n",
       "      <td>Brand new coach bag. Bought for [rm] at a Coac...</td>\n",
       "    </tr>\n",
       "    <tr>\n",
       "      <th>3</th>\n",
       "      <td>3</td>\n",
       "      <td>Floral Kimono</td>\n",
       "      <td>2</td>\n",
       "      <td>Women/Sweaters/Cardigan</td>\n",
       "      <td>NaN</td>\n",
       "      <td>0</td>\n",
       "      <td>-floral kimono -never worn -lightweight and pe...</td>\n",
       "    </tr>\n",
       "    <tr>\n",
       "      <th>4</th>\n",
       "      <td>4</td>\n",
       "      <td>Life after Death</td>\n",
       "      <td>3</td>\n",
       "      <td>Other/Books/Religion &amp; Spirituality</td>\n",
       "      <td>NaN</td>\n",
       "      <td>1</td>\n",
       "      <td>Rediscovering life after the loss of a loved o...</td>\n",
       "    </tr>\n",
       "    <tr>\n",
       "      <th>5</th>\n",
       "      <td>5</td>\n",
       "      <td>iPhone 6 Plus or 6s Plus Vodka pink case</td>\n",
       "      <td>1</td>\n",
       "      <td>Electronics/Cell Phones &amp; Accessories/Cases, C...</td>\n",
       "      <td>NaN</td>\n",
       "      <td>1</td>\n",
       "      <td>One Absolut Vodka in Pink for iPhone 6 Plus an...</td>\n",
       "    </tr>\n",
       "    <tr>\n",
       "      <th>6</th>\n",
       "      <td>6</td>\n",
       "      <td>Vintage Cameo Pendant &amp; Brooch Pin</td>\n",
       "      <td>3</td>\n",
       "      <td>Women/Jewelry/Necklaces</td>\n",
       "      <td>Vintage</td>\n",
       "      <td>1</td>\n",
       "      <td>Two vintage Cameo pieces. 1. Silver metal Lock...</td>\n",
       "    </tr>\n",
       "    <tr>\n",
       "      <th>7</th>\n",
       "      <td>7</td>\n",
       "      <td>Rose Gold Stainless Steel Quartz Watch</td>\n",
       "      <td>1</td>\n",
       "      <td>Women/Women's Accessories/Watches</td>\n",
       "      <td>NaN</td>\n",
       "      <td>1</td>\n",
       "      <td>Brand new Price firm No trades Box included wi...</td>\n",
       "    </tr>\n",
       "    <tr>\n",
       "      <th>8</th>\n",
       "      <td>8</td>\n",
       "      <td>Daisy Marc Jacobs 3.4oz</td>\n",
       "      <td>3</td>\n",
       "      <td>Beauty/Fragrance/Women</td>\n",
       "      <td>MARC JACOBS</td>\n",
       "      <td>0</td>\n",
       "      <td>Brand new No box 100% authentic Firm price NO ...</td>\n",
       "    </tr>\n",
       "    <tr>\n",
       "      <th>9</th>\n",
       "      <td>9</td>\n",
       "      <td>Rose Brushes and Silicone Sponge</td>\n",
       "      <td>1</td>\n",
       "      <td>Beauty/Tools &amp; Accessories/Makeup Brushes &amp; Tools</td>\n",
       "      <td>NaN</td>\n",
       "      <td>1</td>\n",
       "      <td>All new. 12 pcs makeup brushes and one Silicon...</td>\n",
       "    </tr>\n",
       "  </tbody>\n",
       "</table>\n",
       "</div>"
      ],
      "text/plain": [
       "   test_id                                      name  item_condition_id  \\\n",
       "0        0  Breast cancer \"I fight like a girl\" ring                  1   \n",
       "1        1  25 pcs NEW 7.5\"x12\" Kraft Bubble Mailers                  1   \n",
       "2        2                                 Coach bag                  1   \n",
       "3        3                             Floral Kimono                  2   \n",
       "4        4                          Life after Death                  3   \n",
       "5        5  iPhone 6 Plus or 6s Plus Vodka pink case                  1   \n",
       "6        6        Vintage Cameo Pendant & Brooch Pin                  3   \n",
       "7        7    Rose Gold Stainless Steel Quartz Watch                  1   \n",
       "8        8                   Daisy Marc Jacobs 3.4oz                  3   \n",
       "9        9          Rose Brushes and Silicone Sponge                  1   \n",
       "\n",
       "                                       category_name   brand_name  shipping  \\\n",
       "0                                Women/Jewelry/Rings          NaN         1   \n",
       "1            Other/Office supplies/Shipping Supplies          NaN         1   \n",
       "2     Vintage & Collectibles/Bags and Purses/Handbag        Coach         1   \n",
       "3                            Women/Sweaters/Cardigan          NaN         0   \n",
       "4                Other/Books/Religion & Spirituality          NaN         1   \n",
       "5  Electronics/Cell Phones & Accessories/Cases, C...          NaN         1   \n",
       "6                            Women/Jewelry/Necklaces      Vintage         1   \n",
       "7                  Women/Women's Accessories/Watches          NaN         1   \n",
       "8                             Beauty/Fragrance/Women  MARC JACOBS         0   \n",
       "9  Beauty/Tools & Accessories/Makeup Brushes & Tools          NaN         1   \n",
       "\n",
       "                                    item_description  \n",
       "0                                             Size 7  \n",
       "1  25 pcs NEW 7.5\"x12\" Kraft Bubble Mailers Lined...  \n",
       "2  Brand new coach bag. Bought for [rm] at a Coac...  \n",
       "3  -floral kimono -never worn -lightweight and pe...  \n",
       "4  Rediscovering life after the loss of a loved o...  \n",
       "5  One Absolut Vodka in Pink for iPhone 6 Plus an...  \n",
       "6  Two vintage Cameo pieces. 1. Silver metal Lock...  \n",
       "7  Brand new Price firm No trades Box included wi...  \n",
       "8  Brand new No box 100% authentic Firm price NO ...  \n",
       "9  All new. 12 pcs makeup brushes and one Silicon...  "
      ]
     },
     "execution_count": 9,
     "metadata": {},
     "output_type": "execute_result"
    }
   ],
   "source": [
    "test = pd.read_csv('test_stg2.tsv', sep='\\t')\n",
    "\n",
    "print(test.shape)\n",
    "test.head(10)"
   ]
  },
  {
   "cell_type": "code",
   "execution_count": 10,
   "id": "superior-frame",
   "metadata": {
    "_kg_hide-input": true,
    "execution": {
     "iopub.execute_input": "2021-07-05T04:29:07.463678Z",
     "iopub.status.busy": "2021-07-05T04:29:07.462693Z",
     "iopub.status.idle": "2021-07-05T04:29:07.467759Z",
     "shell.execute_reply": "2021-07-05T04:29:07.466902Z",
     "shell.execute_reply.started": "2021-07-05T04:18:15.384255Z"
    },
    "papermill": {
     "duration": 0.091597,
     "end_time": "2021-07-05T04:29:07.468000",
     "exception": false,
     "start_time": "2021-07-05T04:29:07.376403",
     "status": "completed"
    },
    "tags": []
   },
   "outputs": [
    {
     "data": {
      "text/html": [
       "<div>\n",
       "<style scoped>\n",
       "    .dataframe tbody tr th:only-of-type {\n",
       "        vertical-align: middle;\n",
       "    }\n",
       "\n",
       "    .dataframe tbody tr th {\n",
       "        vertical-align: top;\n",
       "    }\n",
       "\n",
       "    .dataframe thead th {\n",
       "        text-align: right;\n",
       "    }\n",
       "</style>\n",
       "<table border=\"1\" class=\"dataframe\">\n",
       "  <thead>\n",
       "    <tr style=\"text-align: right;\">\n",
       "      <th></th>\n",
       "      <th>カラム</th>\n",
       "      <th>意味</th>\n",
       "    </tr>\n",
       "  </thead>\n",
       "  <tbody>\n",
       "    <tr>\n",
       "      <th>0</th>\n",
       "      <td>test_id</td>\n",
       "      <td>商品ID</td>\n",
       "    </tr>\n",
       "    <tr>\n",
       "      <th>1</th>\n",
       "      <td>name</td>\n",
       "      <td>商品名</td>\n",
       "    </tr>\n",
       "    <tr>\n",
       "      <th>2</th>\n",
       "      <td>item_condition_id</td>\n",
       "      <td>商品の状態</td>\n",
       "    </tr>\n",
       "    <tr>\n",
       "      <th>3</th>\n",
       "      <td>category_name</td>\n",
       "      <td>カテゴリー名</td>\n",
       "    </tr>\n",
       "    <tr>\n",
       "      <th>4</th>\n",
       "      <td>brand_name</td>\n",
       "      <td>ブランド名</td>\n",
       "    </tr>\n",
       "    <tr>\n",
       "      <th>5</th>\n",
       "      <td>shipping</td>\n",
       "      <td>送料が売手負担かどうか</td>\n",
       "    </tr>\n",
       "    <tr>\n",
       "      <th>6</th>\n",
       "      <td>item_description</td>\n",
       "      <td>商品説明</td>\n",
       "    </tr>\n",
       "  </tbody>\n",
       "</table>\n",
       "</div>"
      ],
      "text/plain": [
       "                 カラム           意味\n",
       "0            test_id         商品ID\n",
       "1               name          商品名\n",
       "2  item_condition_id        商品の状態\n",
       "3      category_name       カテゴリー名\n",
       "4         brand_name        ブランド名\n",
       "5           shipping  送料が売手負担かどうか\n",
       "6   item_description         商品説明"
      ]
     },
     "execution_count": 10,
     "metadata": {},
     "output_type": "execute_result"
    }
   ],
   "source": [
    "pd.DataFrame([['test_id', '商品ID'],\n",
    "              ['name', '商品名'],\n",
    "              ['item_condition_id', '商品の状態'],\n",
    "              ['category_name', 'カテゴリー名'],\n",
    "              ['brand_name', 'ブランド名'],\n",
    "              ['shipping', '送料が売手負担かどうか'],['item_description', '商品説明']],\n",
    "              columns=['カラム', '意味'])"
   ]
  },
  {
   "cell_type": "code",
   "execution_count": 11,
   "id": "numeric-brand",
   "metadata": {
    "execution": {
     "iopub.execute_input": "2021-07-05T04:29:07.749357Z",
     "iopub.status.busy": "2021-07-05T04:29:07.748311Z",
     "iopub.status.idle": "2021-07-05T04:29:07.752328Z",
     "shell.execute_reply": "2021-07-05T04:29:07.753064Z",
     "shell.execute_reply.started": "2021-07-05T04:18:15.400760Z"
    },
    "papermill": {
     "duration": 0.210054,
     "end_time": "2021-07-05T04:29:07.753245",
     "exception": false,
     "start_time": "2021-07-05T04:29:07.543191",
     "status": "completed"
    },
    "tags": []
   },
   "outputs": [
    {
     "data": {
      "text/plain": [
       "120"
      ]
     },
     "execution_count": 11,
     "metadata": {},
     "output_type": "execute_result"
    }
   ],
   "source": [
    "del test_dummy\n",
    "gc.collect()"
   ]
  },
  {
   "cell_type": "markdown",
   "id": "friendly-yield",
   "metadata": {
    "papermill": {
     "duration": 0.077145,
     "end_time": "2021-07-05T04:29:07.906930",
     "exception": false,
     "start_time": "2021-07-05T04:29:07.829785",
     "status": "completed"
    },
    "tags": []
   },
   "source": [
    "# Analytics"
   ]
  },
  {
   "cell_type": "code",
   "execution_count": 12,
   "id": "refined-slovak",
   "metadata": {
    "execution": {
     "iopub.execute_input": "2021-07-05T04:29:08.066013Z",
     "iopub.status.busy": "2021-07-05T04:29:08.065294Z",
     "iopub.status.idle": "2021-07-05T04:29:08.679511Z",
     "shell.execute_reply": "2021-07-05T04:29:08.678992Z",
     "shell.execute_reply.started": "2021-07-05T04:18:15.538619Z"
    },
    "papermill": {
     "duration": 0.696796,
     "end_time": "2021-07-05T04:29:08.679676",
     "exception": false,
     "start_time": "2021-07-05T04:29:07.982880",
     "status": "completed"
    },
    "tags": []
   },
   "outputs": [
    {
     "name": "stdout",
     "output_type": "stream",
     "text": [
      "<class 'pandas.core.frame.DataFrame'>\n",
      "RangeIndex: 1482535 entries, 0 to 1482534\n",
      "Data columns (total 8 columns):\n",
      " #   Column             Non-Null Count    Dtype  \n",
      "---  ------             --------------    -----  \n",
      " 0   train_id           1482535 non-null  int64  \n",
      " 1   name               1482535 non-null  object \n",
      " 2   item_condition_id  1482535 non-null  int64  \n",
      " 3   category_name      1476208 non-null  object \n",
      " 4   brand_name         849853 non-null   object \n",
      " 5   price              1482535 non-null  float64\n",
      " 6   shipping           1482535 non-null  int64  \n",
      " 7   item_description   1482531 non-null  object \n",
      "dtypes: float64(1), int64(3), object(4)\n",
      "memory usage: 90.5+ MB\n"
     ]
    }
   ],
   "source": [
    "train.info()"
   ]
  },
  {
   "cell_type": "code",
   "execution_count": 13,
   "id": "ignored-individual",
   "metadata": {
    "execution": {
     "iopub.execute_input": "2021-07-05T04:29:08.836963Z",
     "iopub.status.busy": "2021-07-05T04:29:08.836285Z",
     "iopub.status.idle": "2021-07-05T04:29:11.476752Z",
     "shell.execute_reply": "2021-07-05T04:29:11.476144Z",
     "shell.execute_reply.started": "2021-07-05T04:18:16.146507Z"
    },
    "papermill": {
     "duration": 2.720888,
     "end_time": "2021-07-05T04:29:11.476899",
     "exception": false,
     "start_time": "2021-07-05T04:29:08.756011",
     "status": "completed"
    },
    "tags": []
   },
   "outputs": [
    {
     "data": {
      "text/plain": [
       "train_id             1482535\n",
       "name                 1225273\n",
       "item_condition_id          5\n",
       "category_name           1287\n",
       "brand_name              4809\n",
       "price                    828\n",
       "shipping                   2\n",
       "item_description     1281426\n",
       "dtype: int64"
      ]
     },
     "execution_count": 13,
     "metadata": {},
     "output_type": "execute_result"
    }
   ],
   "source": [
    "train.nunique()"
   ]
  },
  {
   "cell_type": "code",
   "execution_count": 14,
   "id": "facial-treasurer",
   "metadata": {
    "execution": {
     "iopub.execute_input": "2021-07-05T04:29:11.634718Z",
     "iopub.status.busy": "2021-07-05T04:29:11.633956Z",
     "iopub.status.idle": "2021-07-05T04:29:12.226674Z",
     "shell.execute_reply": "2021-07-05T04:29:12.226111Z",
     "shell.execute_reply.started": "2021-07-05T04:18:18.800158Z"
    },
    "papermill": {
     "duration": 0.673297,
     "end_time": "2021-07-05T04:29:12.226841",
     "exception": false,
     "start_time": "2021-07-05T04:29:11.553544",
     "status": "completed"
    },
    "tags": []
   },
   "outputs": [
    {
     "data": {
      "text/plain": [
       "train_id                  0\n",
       "name                      0\n",
       "item_condition_id         0\n",
       "category_name          6327\n",
       "brand_name           632682\n",
       "price                     0\n",
       "shipping                  0\n",
       "item_description          4\n",
       "dtype: int64"
      ]
     },
     "execution_count": 14,
     "metadata": {},
     "output_type": "execute_result"
    }
   ],
   "source": [
    "train.isnull().sum()"
   ]
  },
  {
   "cell_type": "code",
   "execution_count": 15,
   "id": "modular-egyptian",
   "metadata": {
    "execution": {
     "iopub.execute_input": "2021-07-05T04:29:12.385299Z",
     "iopub.status.busy": "2021-07-05T04:29:12.384569Z",
     "iopub.status.idle": "2021-07-05T04:29:12.503430Z",
     "shell.execute_reply": "2021-07-05T04:29:12.503933Z",
     "shell.execute_reply.started": "2021-07-05T04:18:19.396460Z"
    },
    "papermill": {
     "duration": 0.200566,
     "end_time": "2021-07-05T04:29:12.504113",
     "exception": false,
     "start_time": "2021-07-05T04:29:12.303547",
     "status": "completed"
    },
    "tags": []
   },
   "outputs": [
    {
     "data": {
      "text/html": [
       "<div>\n",
       "<style scoped>\n",
       "    .dataframe tbody tr th:only-of-type {\n",
       "        vertical-align: middle;\n",
       "    }\n",
       "\n",
       "    .dataframe tbody tr th {\n",
       "        vertical-align: top;\n",
       "    }\n",
       "\n",
       "    .dataframe thead th {\n",
       "        text-align: right;\n",
       "    }\n",
       "</style>\n",
       "<table border=\"1\" class=\"dataframe\">\n",
       "  <thead>\n",
       "    <tr style=\"text-align: right;\">\n",
       "      <th></th>\n",
       "      <th>train_id</th>\n",
       "      <th>item_condition_id</th>\n",
       "      <th>price</th>\n",
       "      <th>shipping</th>\n",
       "    </tr>\n",
       "  </thead>\n",
       "  <tbody>\n",
       "    <tr>\n",
       "      <th>train_id</th>\n",
       "      <td>1.000000</td>\n",
       "      <td>-0.000113</td>\n",
       "      <td>0.000478</td>\n",
       "      <td>0.000472</td>\n",
       "    </tr>\n",
       "    <tr>\n",
       "      <th>item_condition_id</th>\n",
       "      <td>-0.000113</td>\n",
       "      <td>1.000000</td>\n",
       "      <td>-0.000807</td>\n",
       "      <td>-0.191154</td>\n",
       "    </tr>\n",
       "    <tr>\n",
       "      <th>price</th>\n",
       "      <td>0.000478</td>\n",
       "      <td>-0.000807</td>\n",
       "      <td>1.000000</td>\n",
       "      <td>-0.097211</td>\n",
       "    </tr>\n",
       "    <tr>\n",
       "      <th>shipping</th>\n",
       "      <td>0.000472</td>\n",
       "      <td>-0.191154</td>\n",
       "      <td>-0.097211</td>\n",
       "      <td>1.000000</td>\n",
       "    </tr>\n",
       "  </tbody>\n",
       "</table>\n",
       "</div>"
      ],
      "text/plain": [
       "                   train_id  item_condition_id     price  shipping\n",
       "train_id           1.000000          -0.000113  0.000478  0.000472\n",
       "item_condition_id -0.000113           1.000000 -0.000807 -0.191154\n",
       "price              0.000478          -0.000807  1.000000 -0.097211\n",
       "shipping           0.000472          -0.191154 -0.097211  1.000000"
      ]
     },
     "execution_count": 15,
     "metadata": {},
     "output_type": "execute_result"
    }
   ],
   "source": [
    "train.corr()"
   ]
  },
  {
   "cell_type": "code",
   "execution_count": 16,
   "id": "partial-fusion",
   "metadata": {
    "execution": {
     "iopub.execute_input": "2021-07-05T04:29:12.671267Z",
     "iopub.status.busy": "2021-07-05T04:29:12.670511Z",
     "iopub.status.idle": "2021-07-05T04:29:13.102263Z",
     "shell.execute_reply": "2021-07-05T04:29:13.102754Z",
     "shell.execute_reply.started": "2021-07-05T04:18:19.519136Z"
    },
    "papermill": {
     "duration": 0.516789,
     "end_time": "2021-07-05T04:29:13.102955",
     "exception": false,
     "start_time": "2021-07-05T04:29:12.586166",
     "status": "completed"
    },
    "tags": []
   },
   "outputs": [
    {
     "data": {
      "text/plain": [
       "<AxesSubplot:>"
      ]
     },
     "execution_count": 16,
     "metadata": {},
     "output_type": "execute_result"
    },
    {
     "data": {
      "image/png": "[encoded data removed]",
      "text/plain": [
       "<Figure size 432x288 with 2 Axes>"
      ]
     },
     "metadata": {
      "needs_background": "light"
     },
     "output_type": "display_data"
    }
   ],
   "source": [
    "sns.heatmap(train.corr(), annot=True, fmt='.2f')"
   ]
  },
  {
   "cell_type": "code",
   "execution_count": 17,
   "id": "peripheral-syntax",
   "metadata": {
    "execution": {
     "iopub.execute_input": "2021-07-05T04:29:13.266363Z",
     "iopub.status.busy": "2021-07-05T04:29:13.265288Z",
     "iopub.status.idle": "2021-07-05T04:29:13.467318Z",
     "shell.execute_reply": "2021-07-05T04:29:13.466794Z",
     "shell.execute_reply.started": "2021-07-05T04:18:19.942053Z"
    },
    "papermill": {
     "duration": 0.283559,
     "end_time": "2021-07-05T04:29:13.467470",
     "exception": false,
     "start_time": "2021-07-05T04:29:13.183911",
     "status": "completed"
    },
    "tags": []
   },
   "outputs": [
    {
     "data": {
      "text/html": [
       "<div>\n",
       "<style scoped>\n",
       "    .dataframe tbody tr th:only-of-type {\n",
       "        vertical-align: middle;\n",
       "    }\n",
       "\n",
       "    .dataframe tbody tr th {\n",
       "        vertical-align: top;\n",
       "    }\n",
       "\n",
       "    .dataframe thead th {\n",
       "        text-align: right;\n",
       "    }\n",
       "</style>\n",
       "<table border=\"1\" class=\"dataframe\">\n",
       "  <thead>\n",
       "    <tr style=\"text-align: right;\">\n",
       "      <th></th>\n",
       "      <th>train_id</th>\n",
       "      <th>item_condition_id</th>\n",
       "      <th>price</th>\n",
       "      <th>shipping</th>\n",
       "    </tr>\n",
       "  </thead>\n",
       "  <tbody>\n",
       "    <tr>\n",
       "      <th>count</th>\n",
       "      <td>1.482535e+06</td>\n",
       "      <td>1.482535e+06</td>\n",
       "      <td>1.482535e+06</td>\n",
       "      <td>1.482535e+06</td>\n",
       "    </tr>\n",
       "    <tr>\n",
       "      <th>mean</th>\n",
       "      <td>7.412670e+05</td>\n",
       "      <td>1.907380e+00</td>\n",
       "      <td>2.673752e+01</td>\n",
       "      <td>4.472744e-01</td>\n",
       "    </tr>\n",
       "    <tr>\n",
       "      <th>std</th>\n",
       "      <td>4.279711e+05</td>\n",
       "      <td>9.031586e-01</td>\n",
       "      <td>3.858607e+01</td>\n",
       "      <td>4.972124e-01</td>\n",
       "    </tr>\n",
       "    <tr>\n",
       "      <th>min</th>\n",
       "      <td>0.000000e+00</td>\n",
       "      <td>1.000000e+00</td>\n",
       "      <td>0.000000e+00</td>\n",
       "      <td>0.000000e+00</td>\n",
       "    </tr>\n",
       "    <tr>\n",
       "      <th>25%</th>\n",
       "      <td>3.706335e+05</td>\n",
       "      <td>1.000000e+00</td>\n",
       "      <td>1.000000e+01</td>\n",
       "      <td>0.000000e+00</td>\n",
       "    </tr>\n",
       "    <tr>\n",
       "      <th>50%</th>\n",
       "      <td>7.412670e+05</td>\n",
       "      <td>2.000000e+00</td>\n",
       "      <td>1.700000e+01</td>\n",
       "      <td>0.000000e+00</td>\n",
       "    </tr>\n",
       "    <tr>\n",
       "      <th>75%</th>\n",
       "      <td>1.111900e+06</td>\n",
       "      <td>3.000000e+00</td>\n",
       "      <td>2.900000e+01</td>\n",
       "      <td>1.000000e+00</td>\n",
       "    </tr>\n",
       "    <tr>\n",
       "      <th>max</th>\n",
       "      <td>1.482534e+06</td>\n",
       "      <td>5.000000e+00</td>\n",
       "      <td>2.009000e+03</td>\n",
       "      <td>1.000000e+00</td>\n",
       "    </tr>\n",
       "  </tbody>\n",
       "</table>\n",
       "</div>"
      ],
      "text/plain": [
       "           train_id  item_condition_id         price      shipping\n",
       "count  1.482535e+06       1.482535e+06  1.482535e+06  1.482535e+06\n",
       "mean   7.412670e+05       1.907380e+00  2.673752e+01  4.472744e-01\n",
       "std    4.279711e+05       9.031586e-01  3.858607e+01  4.972124e-01\n",
       "min    0.000000e+00       1.000000e+00  0.000000e+00  0.000000e+00\n",
       "25%    3.706335e+05       1.000000e+00  1.000000e+01  0.000000e+00\n",
       "50%    7.412670e+05       2.000000e+00  1.700000e+01  0.000000e+00\n",
       "75%    1.111900e+06       3.000000e+00  2.900000e+01  1.000000e+00\n",
       "max    1.482534e+06       5.000000e+00  2.009000e+03  1.000000e+00"
      ]
     },
     "execution_count": 17,
     "metadata": {},
     "output_type": "execute_result"
    }
   ],
   "source": [
    "train.describe()"
   ]
  },
  {
   "cell_type": "markdown",
   "id": "sized-source",
   "metadata": {
    "papermill": {
     "duration": 0.078406,
     "end_time": "2021-07-05T04:29:13.625074",
     "exception": false,
     "start_time": "2021-07-05T04:29:13.546668",
     "status": "completed"
    },
    "tags": []
   },
   "source": [
    "# Visualization"
   ]
  },
  {
   "cell_type": "code",
   "execution_count": 18,
   "id": "pressing-easter",
   "metadata": {
    "execution": {
     "iopub.execute_input": "2021-07-05T04:29:13.788395Z",
     "iopub.status.busy": "2021-07-05T04:29:13.787395Z",
     "iopub.status.idle": "2021-07-05T04:29:13.789886Z",
     "shell.execute_reply": "2021-07-05T04:29:13.790458Z",
     "shell.execute_reply.started": "2021-07-05T04:18:20.142590Z"
    },
    "papermill": {
     "duration": 0.086621,
     "end_time": "2021-07-05T04:29:13.790648",
     "exception": false,
     "start_time": "2021-07-05T04:29:13.704027",
     "status": "completed"
    },
    "tags": []
   },
   "outputs": [],
   "source": [
    "sns.set()"
   ]
  },
  {
   "cell_type": "code",
   "execution_count": 19,
   "id": "manual-attitude",
   "metadata": {
    "execution": {
     "iopub.execute_input": "2021-07-05T04:29:13.951848Z",
     "iopub.status.busy": "2021-07-05T04:29:13.950829Z",
     "iopub.status.idle": "2021-07-05T04:29:15.634317Z",
     "shell.execute_reply": "2021-07-05T04:29:15.634844Z",
     "shell.execute_reply.started": "2021-07-05T04:18:20.151182Z"
    },
    "papermill": {
     "duration": 1.765776,
     "end_time": "2021-07-05T04:29:15.635025",
     "exception": false,
     "start_time": "2021-07-05T04:29:13.869249",
     "status": "completed"
    },
    "tags": []
   },
   "outputs": [
    {
     "data": {
      "image/png": "[encoded data removed]",
      "text/plain": [
       "<Figure size 576x288 with 1 Axes>"
      ]
     },
     "metadata": {},
     "output_type": "display_data"
    }
   ],
   "source": [
    "train = train.drop(train[(train['price'] >= 200)].index, axis=0)\n",
    "\n",
    "fig, ax = plt.subplots(1, 1, figsize=(8, 4))\n",
    "sns.histplot(train['price'], bins=50, ax=ax)\n",
    "plt.show()"
   ]
  },
  {
   "cell_type": "code",
   "execution_count": 20,
   "id": "decent-thesaurus",
   "metadata": {
    "execution": {
     "iopub.execute_input": "2021-07-05T04:29:15.797577Z",
     "iopub.status.busy": "2021-07-05T04:29:15.796441Z",
     "iopub.status.idle": "2021-07-05T04:29:17.245176Z",
     "shell.execute_reply": "2021-07-05T04:29:17.244631Z",
     "shell.execute_reply.started": "2021-07-05T04:18:21.739273Z"
    },
    "papermill": {
     "duration": 1.531216,
     "end_time": "2021-07-05T04:29:17.245324",
     "exception": false,
     "start_time": "2021-07-05T04:29:15.714108",
     "status": "completed"
    },
    "tags": []
   },
   "outputs": [
    {
     "data": {
      "image/png": "[encoded data removed]",
      "text/plain": [
       "<Figure size 576x288 with 1 Axes>"
      ]
     },
     "metadata": {},
     "output_type": "display_data"
    }
   ],
   "source": [
    "train['log_price'] = np.log1p(train['price'])\n",
    "\n",
    "fig, ax = plt.subplots(1, 1, figsize=(8, 4))\n",
    "sns.histplot(train['log_price'], bins=50, ax=ax)\n",
    "plt.show()"
   ]
  },
  {
   "cell_type": "code",
   "execution_count": 21,
   "id": "mechanical-memory",
   "metadata": {
    "execution": {
     "iopub.execute_input": "2021-07-05T04:29:17.413368Z",
     "iopub.status.busy": "2021-07-05T04:29:17.411758Z",
     "iopub.status.idle": "2021-07-05T04:29:17.680516Z",
     "shell.execute_reply": "2021-07-05T04:29:17.679804Z",
     "shell.execute_reply.started": "2021-07-05T04:18:23.141950Z"
    },
    "papermill": {
     "duration": 0.355391,
     "end_time": "2021-07-05T04:29:17.680746",
     "exception": false,
     "start_time": "2021-07-05T04:29:17.325355",
     "status": "completed"
    },
    "tags": []
   },
   "outputs": [
    {
     "data": {
      "text/plain": [
       "6075"
      ]
     },
     "execution_count": 21,
     "metadata": {},
     "output_type": "execute_result"
    }
   ],
   "source": [
    "train = train.drop('log_price', axis=1)\n",
    "gc.collect()"
   ]
  },
  {
   "cell_type": "code",
   "execution_count": 22,
   "id": "direct-reputation",
   "metadata": {
    "execution": {
     "iopub.execute_input": "2021-07-05T04:29:17.848664Z",
     "iopub.status.busy": "2021-07-05T04:29:17.847693Z",
     "iopub.status.idle": "2021-07-05T04:29:25.520952Z",
     "shell.execute_reply": "2021-07-05T04:29:25.521408Z",
     "shell.execute_reply.started": "2021-07-05T04:18:23.410565Z"
    },
    "papermill": {
     "duration": 7.760214,
     "end_time": "2021-07-05T04:29:25.521606",
     "exception": false,
     "start_time": "2021-07-05T04:29:17.761392",
     "status": "completed"
    },
    "tags": []
   },
   "outputs": [
    {
     "data": {
      "text/plain": [
       "<matplotlib.legend.Legend at 0x7f88af4dd710>"
      ]
     },
     "execution_count": 22,
     "metadata": {},
     "output_type": "execute_result"
    },
    {
     "data": {
      "image/png": "[encoded data removed]",
      "text/plain": [
       "<Figure size 576x288 with 1 Axes>"
      ]
     },
     "metadata": {},
     "output_type": "display_data"
    }
   ],
   "source": [
    "fig = sns.FacetGrid(train, hue='shipping', height=4, aspect=2)\n",
    "fig.map(sns.kdeplot, 'price', shade=True)\n",
    "plt.legend()"
   ]
  },
  {
   "cell_type": "code",
   "execution_count": 23,
   "id": "mexican-adjustment",
   "metadata": {
    "execution": {
     "iopub.execute_input": "2021-07-05T04:29:25.692293Z",
     "iopub.status.busy": "2021-07-05T04:29:25.691626Z",
     "iopub.status.idle": "2021-07-05T04:29:33.651660Z",
     "shell.execute_reply": "2021-07-05T04:29:33.651096Z",
     "shell.execute_reply.started": "2021-07-05T04:18:31.080280Z"
    },
    "papermill": {
     "duration": 8.047919,
     "end_time": "2021-07-05T04:29:33.651802",
     "exception": false,
     "start_time": "2021-07-05T04:29:25.603883",
     "status": "completed"
    },
    "tags": []
   },
   "outputs": [
    {
     "data": {
      "text/plain": [
       "<matplotlib.legend.Legend at 0x7f88ae18c650>"
      ]
     },
     "execution_count": 23,
     "metadata": {},
     "output_type": "execute_result"
    },
    {
     "data": {
      "image/png": "[encoded data removed]",
      "text/plain": [
       "<Figure size 576x288 with 1 Axes>"
      ]
     },
     "metadata": {},
     "output_type": "display_data"
    }
   ],
   "source": [
    "fig = sns.FacetGrid(train, hue='item_condition_id', height=4, aspect=2)\n",
    "fig.map(sns.kdeplot, 'price', shade=True)\n",
    "plt.legend()"
   ]
  },
  {
   "cell_type": "markdown",
   "id": "eligible-stuart",
   "metadata": {
    "papermill": {
     "duration": 0.083966,
     "end_time": "2021-07-05T04:29:33.819085",
     "exception": false,
     "start_time": "2021-07-05T04:29:33.735119",
     "status": "completed"
    },
    "tags": []
   },
   "source": [
    "# Preprocess"
   ]
  },
  {
   "cell_type": "code",
   "execution_count": 24,
   "id": "joined-stationery",
   "metadata": {
    "execution": {
     "iopub.execute_input": "2021-07-05T04:29:34.132052Z",
     "iopub.status.busy": "2021-07-05T04:29:34.131281Z",
     "iopub.status.idle": "2021-07-05T04:29:34.818362Z",
     "shell.execute_reply": "2021-07-05T04:29:34.817782Z",
     "shell.execute_reply.started": "2021-07-05T04:18:39.120211Z"
    },
    "papermill": {
     "duration": 0.915132,
     "end_time": "2021-07-05T04:29:34.818504",
     "exception": false,
     "start_time": "2021-07-05T04:29:33.903372",
     "status": "completed"
    },
    "tags": []
   },
   "outputs": [],
   "source": [
    "train['category_name'] = train['category_name'].fillna(value='missing')\n",
    "train['item_description'] = train['item_description'].fillna(value='missing')\n",
    "train['name'] = train['name'].fillna(value='missing')\n",
    "train['brand_name'] = train['brand_name'].fillna(value='missing')"
   ]
  },
  {
   "cell_type": "code",
   "execution_count": 25,
   "id": "happy-religious",
   "metadata": {
    "execution": {
     "iopub.execute_input": "2021-07-05T04:29:35.078212Z",
     "iopub.status.busy": "2021-07-05T04:29:35.013304Z",
     "iopub.status.idle": "2021-07-05T04:29:47.303637Z",
     "shell.execute_reply": "2021-07-05T04:29:47.302964Z",
     "shell.execute_reply.started": "2021-07-05T04:18:39.983672Z"
    },
    "papermill": {
     "duration": 12.401725,
     "end_time": "2021-07-05T04:29:47.303796",
     "exception": false,
     "start_time": "2021-07-05T04:29:34.902071",
     "status": "completed"
    },
    "tags": []
   },
   "outputs": [],
   "source": [
    "train['category_name'] = train['category_name'].astype('category')\n",
    "train['item_description'] = train['item_description'].astype('category')\n",
    "train['name'] = train['name'].astype('category')\n",
    "train['brand_name'] = train['brand_name'].astype('category')"
   ]
  },
  {
   "cell_type": "code",
   "execution_count": 26,
   "id": "collectible-aaron",
   "metadata": {
    "execution": {
     "iopub.execute_input": "2021-07-05T04:29:47.509565Z",
     "iopub.status.busy": "2021-07-05T04:29:47.508649Z",
     "iopub.status.idle": "2021-07-05T04:29:47.791542Z",
     "shell.execute_reply": "2021-07-05T04:29:47.790978Z",
     "shell.execute_reply.started": "2021-07-05T04:18:52.677564Z"
    },
    "papermill": {
     "duration": 0.385628,
     "end_time": "2021-07-05T04:29:47.791713",
     "exception": false,
     "start_time": "2021-07-05T04:29:47.406085",
     "status": "completed"
    },
    "tags": []
   },
   "outputs": [],
   "source": [
    "train['name'] = train['name'].cat.codes\n",
    "train['category_name'] = train['category_name'].cat.codes\n",
    "train['brand_name'] = train['brand_name'].cat.codes\n",
    "train['item_description'] = train['item_description'].cat.codes"
   ]
  },
  {
   "cell_type": "code",
   "execution_count": 27,
   "id": "proved-undergraduate",
   "metadata": {
    "execution": {
     "iopub.execute_input": "2021-07-05T04:29:47.977719Z",
     "iopub.status.busy": "2021-07-05T04:29:47.976428Z",
     "iopub.status.idle": "2021-07-05T04:29:48.015869Z",
     "shell.execute_reply": "2021-07-05T04:29:48.015145Z",
     "shell.execute_reply.started": "2021-07-05T04:18:52.980373Z"
    },
    "papermill": {
     "duration": 0.136348,
     "end_time": "2021-07-05T04:29:48.016026",
     "exception": false,
     "start_time": "2021-07-05T04:29:47.879678",
     "status": "completed"
    },
    "tags": []
   },
   "outputs": [],
   "source": [
    "train = train.drop('train_id', axis=1)"
   ]
  },
  {
   "cell_type": "code",
   "execution_count": 28,
   "id": "brown-duncan",
   "metadata": {
    "execution": {
     "iopub.execute_input": "2021-07-05T04:29:48.196697Z",
     "iopub.status.busy": "2021-07-05T04:29:48.196009Z",
     "iopub.status.idle": "2021-07-05T04:29:48.251845Z",
     "shell.execute_reply": "2021-07-05T04:29:48.251150Z",
     "shell.execute_reply.started": "2021-07-05T04:18:53.037010Z"
    },
    "papermill": {
     "duration": 0.147955,
     "end_time": "2021-07-05T04:29:48.251995",
     "exception": false,
     "start_time": "2021-07-05T04:29:48.104040",
     "status": "completed"
    },
    "tags": []
   },
   "outputs": [],
   "source": [
    "target = np.log1p(train['price'])\n",
    "train = train[[col for col in train.columns if col != 'price']]"
   ]
  },
  {
   "cell_type": "code",
   "execution_count": 29,
   "id": "narrow-treasurer",
   "metadata": {
    "execution": {
     "iopub.execute_input": "2021-07-05T04:29:48.435927Z",
     "iopub.status.busy": "2021-07-05T04:29:48.435154Z",
     "iopub.status.idle": "2021-07-05T04:29:48.511900Z",
     "shell.execute_reply": "2021-07-05T04:29:48.511336Z",
     "shell.execute_reply.started": "2021-07-05T04:18:53.101341Z"
    },
    "papermill": {
     "duration": 0.171467,
     "end_time": "2021-07-05T04:29:48.512050",
     "exception": false,
     "start_time": "2021-07-05T04:29:48.340583",
     "status": "completed"
    },
    "tags": []
   },
   "outputs": [
    {
     "name": "stdout",
     "output_type": "stream",
     "text": [
      "(1471688, 6)\n"
     ]
    },
    {
     "data": {
      "text/html": [
       "<div>\n",
       "<style scoped>\n",
       "    .dataframe tbody tr th:only-of-type {\n",
       "        vertical-align: middle;\n",
       "    }\n",
       "\n",
       "    .dataframe tbody tr th {\n",
       "        vertical-align: top;\n",
       "    }\n",
       "\n",
       "    .dataframe thead th {\n",
       "        text-align: right;\n",
       "    }\n",
       "</style>\n",
       "<table border=\"1\" class=\"dataframe\">\n",
       "  <thead>\n",
       "    <tr style=\"text-align: right;\">\n",
       "      <th></th>\n",
       "      <th>name</th>\n",
       "      <th>item_condition_id</th>\n",
       "      <th>category_name</th>\n",
       "      <th>brand_name</th>\n",
       "      <th>shipping</th>\n",
       "      <th>item_description</th>\n",
       "    </tr>\n",
       "  </thead>\n",
       "  <tbody>\n",
       "    <tr>\n",
       "      <th>0</th>\n",
       "      <td>635604</td>\n",
       "      <td>3</td>\n",
       "      <td>808</td>\n",
       "      <td>4778</td>\n",
       "      <td>1</td>\n",
       "      <td>799714</td>\n",
       "    </tr>\n",
       "    <tr>\n",
       "      <th>1</th>\n",
       "      <td>897220</td>\n",
       "      <td>3</td>\n",
       "      <td>86</td>\n",
       "      <td>3550</td>\n",
       "      <td>0</td>\n",
       "      <td>1081974</td>\n",
       "    </tr>\n",
       "    <tr>\n",
       "      <th>2</th>\n",
       "      <td>90769</td>\n",
       "      <td>1</td>\n",
       "      <td>1254</td>\n",
       "      <td>4172</td>\n",
       "      <td>1</td>\n",
       "      <td>114076</td>\n",
       "    </tr>\n",
       "    <tr>\n",
       "      <th>3</th>\n",
       "      <td>556556</td>\n",
       "      <td>1</td>\n",
       "      <td>485</td>\n",
       "      <td>4778</td>\n",
       "      <td>1</td>\n",
       "      <td>775515</td>\n",
       "    </tr>\n",
       "    <tr>\n",
       "      <th>4</th>\n",
       "      <td>45011</td>\n",
       "      <td>1</td>\n",
       "      <td>1181</td>\n",
       "      <td>4778</td>\n",
       "      <td>0</td>\n",
       "      <td>363054</td>\n",
       "    </tr>\n",
       "  </tbody>\n",
       "</table>\n",
       "</div>"
      ],
      "text/plain": [
       "     name  item_condition_id  category_name  brand_name  shipping  \\\n",
       "0  635604                  3            808        4778         1   \n",
       "1  897220                  3             86        3550         0   \n",
       "2   90769                  1           1254        4172         1   \n",
       "3  556556                  1            485        4778         1   \n",
       "4   45011                  1           1181        4778         0   \n",
       "\n",
       "   item_description  \n",
       "0            799714  \n",
       "1           1081974  \n",
       "2            114076  \n",
       "3            775515  \n",
       "4            363054  "
      ]
     },
     "execution_count": 29,
     "metadata": {},
     "output_type": "execute_result"
    }
   ],
   "source": [
    "train.to_pickle('train.pickle')\n",
    "\n",
    "print(train.shape)\n",
    "train.head()"
   ]
  },
  {
   "cell_type": "markdown",
   "id": "special-extent",
   "metadata": {
    "papermill": {
     "duration": 0.083627,
     "end_time": "2021-07-05T04:29:48.680037",
     "exception": false,
     "start_time": "2021-07-05T04:29:48.596410",
     "status": "completed"
    },
    "tags": []
   },
   "source": [
    "# Modeling"
   ]
  },
  {
   "cell_type": "code",
   "execution_count": 30,
   "id": "revolutionary-conviction",
   "metadata": {
    "execution": {
     "iopub.execute_input": "2021-07-05T04:29:48.855581Z",
     "iopub.status.busy": "2021-07-05T04:29:48.854669Z",
     "iopub.status.idle": "2021-07-05T04:29:48.860056Z",
     "shell.execute_reply": "2021-07-05T04:29:48.860511Z",
     "shell.execute_reply.started": "2021-07-05T04:18:53.186004Z"
    },
    "papermill": {
     "duration": 0.096532,
     "end_time": "2021-07-05T04:29:48.860717",
     "exception": false,
     "start_time": "2021-07-05T04:29:48.764185",
     "status": "completed"
    },
    "tags": []
   },
   "outputs": [
    {
     "data": {
      "text/plain": [
       "\"\\nX_tr, X_val, y_tr, y_val = train_test_split(train, target, test_size=0.2, random_state=666)\\n\\ndef create_model(trial):\\n    num_leaves = trial.suggest_int('num_leaves', 2, 30)\\n    n_estimators = trial.suggest_int('n_estimators', 50, 300)\\n    learning_rate = trial.suggest_uniform('learning_rate', 0.0001, 0.99)\\n    max_depth = trial.suggest_int('max_depth', 2, 10)\\n    min_child_samples = trial.suggest_int('min_child_samples', 100, 1200)\\n    min_data_in_leaf = trial.suggest_int('min_data_in_leaf', 5, 90)\\n    bagging_freq = trial.suggest_int('bagging_freq', 1, 7)\\n    bagging_fraction = trial.suggest_uniform('bagging_fraction', 0.0001, 1.0)\\n    feature_fraction = trial.suggest_uniform('feature_fraction', 0.0001, 1.0)\\n    subsample = trial.suggest_uniform('subsample', 0.1, 1.0)\\n    colsample_bytree = trial.suggest_uniform('colsample_bytree', 0.1, 1.0)\\n    \\n    model = lgb.LGBMRegressor(\\n        num_leaves=num_leaves,\\n        n_estimators=n_estimators,\\n        learning_rate=learning_rate,\\n        max_depth=max_depth, \\n        min_child_samples=min_child_samples, \\n        min_data_in_leaf=min_data_in_leaf,\\n        bagging_freq=bagging_freq,\\n        bagging_fraction=bagging_fraction,\\n        feature_fraction=feature_fraction,\\n        subsample=subsample,\\n        colsample_bytree=colsample_bytree,\\n        metric='rsme',\\n        random_state=666)\\n    return model\\n\\ndef objective(trial):\\n    model = create_model(trial)\\n    model.fit(X_tr, y_tr)\\n    y_pred = model.predict(X_val)\\n    rsme = np.sqrt(mean_squared_error(y_pred, y_val))\\n    return rsme\\n\\nstudy = optuna.create_study(direction='minimize')\\nstudy.optimize(objective, n_trials=40)\\nparams = study.best_params\\nprint(params)\\n\""
      ]
     },
     "execution_count": 30,
     "metadata": {},
     "output_type": "execute_result"
    }
   ],
   "source": [
    "'''\n",
    "X_tr, X_val, y_tr, y_val = train_test_split(train, target, test_size=0.2, random_state=666)\n",
    "\n",
    "def create_model(trial):\n",
    "    num_leaves = trial.suggest_int('num_leaves', 2, 30)\n",
    "    n_estimators = trial.suggest_int('n_estimators', 50, 300)\n",
    "    learning_rate = trial.suggest_uniform('learning_rate', 0.0001, 0.99)\n",
    "    max_depth = trial.suggest_int('max_depth', 2, 10)\n",
    "    min_child_samples = trial.suggest_int('min_child_samples', 100, 1200)\n",
    "    min_data_in_leaf = trial.suggest_int('min_data_in_leaf', 5, 90)\n",
    "    bagging_freq = trial.suggest_int('bagging_freq', 1, 7)\n",
    "    bagging_fraction = trial.suggest_uniform('bagging_fraction', 0.0001, 1.0)\n",
    "    feature_fraction = trial.suggest_uniform('feature_fraction', 0.0001, 1.0)\n",
    "    subsample = trial.suggest_uniform('subsample', 0.1, 1.0)\n",
    "    colsample_bytree = trial.suggest_uniform('colsample_bytree', 0.1, 1.0)\n",
    "    \n",
    "    model = lgb.LGBMRegressor(\n",
    "        num_leaves=num_leaves,\n",
    "        n_estimators=n_estimators,\n",
    "        learning_rate=learning_rate,\n",
    "        max_depth=max_depth, \n",
    "        min_child_samples=min_child_samples, \n",
    "        min_data_in_leaf=min_data_in_leaf,\n",
    "        bagging_freq=bagging_freq,\n",
    "        bagging_fraction=bagging_fraction,\n",
    "        feature_fraction=feature_fraction,\n",
    "        subsample=subsample,\n",
    "        colsample_bytree=colsample_bytree,\n",
    "        metric='rsme',\n",
    "        random_state=666)\n",
    "    return model\n",
    "\n",
    "def objective(trial):\n",
    "    model = create_model(trial)\n",
    "    model.fit(X_tr, y_tr)\n",
    "    y_pred = model.predict(X_val)\n",
    "    rsme = np.sqrt(mean_squared_error(y_pred, y_val))\n",
    "    return rsme\n",
    "\n",
    "study = optuna.create_study(direction='minimize')\n",
    "study.optimize(objective, n_trials=40)\n",
    "params = study.best_params\n",
    "print(params)\n",
    "'''"
   ]
  },
  {
   "cell_type": "code",
   "execution_count": 31,
   "id": "breeding-negotiation",
   "metadata": {
    "execution": {
     "iopub.execute_input": "2021-07-05T04:29:49.036903Z",
     "iopub.status.busy": "2021-07-05T04:29:49.035812Z",
     "iopub.status.idle": "2021-07-05T04:29:49.041561Z",
     "shell.execute_reply": "2021-07-05T04:29:49.042083Z",
     "shell.execute_reply.started": "2021-07-05T04:25:56.468321Z"
    },
    "papermill": {
     "duration": 0.096931,
     "end_time": "2021-07-05T04:29:49.042280",
     "exception": false,
     "start_time": "2021-07-05T04:29:48.945349",
     "status": "completed"
    },
    "tags": []
   },
   "outputs": [],
   "source": [
    "params = {'num_leaves': 30,\n",
    "          'n_estimators': 298,\n",
    "          'learning_rate': 0.5716633952621463,\n",
    "          'max_depth': 9,\n",
    "          'min_child_samples': 357,\n",
    "          'min_data_in_leaf': 29,\n",
    "          'bagging_freq': 5,\n",
    "          'bagging_fraction': 0.720632177461159,\n",
    "          'feature_fraction': 0.7438540142554341,\n",
    "          'subsample': 0.7082234386478102,\n",
    "          'colsample_bytree': 0.2760267128338079,\n",
    "          'random_state': 666}"
   ]
  },
  {
   "cell_type": "code",
   "execution_count": 32,
   "id": "turkish-fleet",
   "metadata": {
    "execution": {
     "iopub.execute_input": "2021-07-05T04:29:49.224740Z",
     "iopub.status.busy": "2021-07-05T04:29:49.223635Z",
     "iopub.status.idle": "2021-07-05T04:30:02.518986Z",
     "shell.execute_reply": "2021-07-05T04:30:02.519575Z",
     "shell.execute_reply.started": "2021-07-05T04:25:56.484762Z"
    },
    "papermill": {
     "duration": 13.388396,
     "end_time": "2021-07-05T04:30:02.519796",
     "exception": false,
     "start_time": "2021-07-05T04:29:49.131400",
     "status": "completed"
    },
    "tags": []
   },
   "outputs": [
    {
     "name": "stdout",
     "output_type": "stream",
     "text": [
      "[LightGBM] [Warning] bagging_fraction is set=0.720632177461159, subsample=0.7082234386478102 will be ignored. Current value: bagging_fraction=0.720632177461159\n",
      "[LightGBM] [Warning] feature_fraction is set=0.7438540142554341, colsample_bytree=0.2760267128338079 will be ignored. Current value: feature_fraction=0.7438540142554341\n",
      "[LightGBM] [Warning] bagging_freq is set=5, subsample_freq=0 will be ignored. Current value: bagging_freq=5\n",
      "[LightGBM] [Warning] min_data_in_leaf is set=29, min_child_samples=357 will be ignored. Current value: min_data_in_leaf=29\n"
     ]
    },
    {
     "data": {
      "text/plain": [
       "LGBMRegressor(bagging_fraction=0.720632177461159, bagging_freq=5,\n",
       "              colsample_bytree=0.2760267128338079,\n",
       "              feature_fraction=0.7438540142554341,\n",
       "              learning_rate=0.5716633952621463, max_depth=9,\n",
       "              min_child_samples=357, min_data_in_leaf=29, n_estimators=298,\n",
       "              num_leaves=30, random_state=666, subsample=0.7082234386478102)"
      ]
     },
     "execution_count": 32,
     "metadata": {},
     "output_type": "execute_result"
    }
   ],
   "source": [
    "cls = lgb.LGBMRegressor(**params)\n",
    "cls.fit(train, target)"
   ]
  },
  {
   "cell_type": "code",
   "execution_count": 33,
   "id": "compliant-matrix",
   "metadata": {
    "execution": {
     "iopub.execute_input": "2021-07-05T04:30:02.712469Z",
     "iopub.status.busy": "2021-07-05T04:30:02.694241Z",
     "iopub.status.idle": "2021-07-05T04:30:02.900718Z",
     "shell.execute_reply": "2021-07-05T04:30:02.901256Z",
     "shell.execute_reply.started": "2021-07-05T04:26:10.540312Z"
    },
    "papermill": {
     "duration": 0.296271,
     "end_time": "2021-07-05T04:30:02.901444",
     "exception": false,
     "start_time": "2021-07-05T04:30:02.605173",
     "status": "completed"
    },
    "tags": []
   },
   "outputs": [
    {
     "data": {
      "image/png": "[encoded data removed]",
      "text/plain": [
       "<Figure size 432x288 with 1 Axes>"
      ]
     },
     "metadata": {},
     "output_type": "display_data"
    }
   ],
   "source": [
    "lgb.plot_importance(cls)\n",
    "plt.show()"
   ]
  },
  {
   "cell_type": "code",
   "execution_count": 34,
   "id": "removable-canberra",
   "metadata": {
    "execution": {
     "iopub.execute_input": "2021-07-05T04:30:03.077800Z",
     "iopub.status.busy": "2021-07-05T04:30:03.077110Z",
     "iopub.status.idle": "2021-07-05T04:30:03.199375Z",
     "shell.execute_reply": "2021-07-05T04:30:03.198710Z",
     "shell.execute_reply.started": "2021-07-05T04:26:10.767783Z"
    },
    "papermill": {
     "duration": 0.211368,
     "end_time": "2021-07-05T04:30:03.199511",
     "exception": false,
     "start_time": "2021-07-05T04:30:02.988143",
     "status": "completed"
    },
    "tags": []
   },
   "outputs": [
    {
     "data": {
      "text/plain": [
       "3427"
      ]
     },
     "execution_count": 34,
     "metadata": {},
     "output_type": "execute_result"
    }
   ],
   "source": [
    "del train, target, params\n",
    "gc.collect()"
   ]
  },
  {
   "cell_type": "markdown",
   "id": "overall-onion",
   "metadata": {
    "papermill": {
     "duration": 0.087184,
     "end_time": "2021-07-05T04:30:03.373646",
     "exception": false,
     "start_time": "2021-07-05T04:30:03.286462",
     "status": "completed"
    },
    "tags": []
   },
   "source": [
    "# Submit"
   ]
  },
  {
   "cell_type": "code",
   "execution_count": 35,
   "id": "exposed-alias",
   "metadata": {
    "execution": {
     "iopub.execute_input": "2021-07-05T04:30:03.553468Z",
     "iopub.status.busy": "2021-07-05T04:30:03.552770Z",
     "iopub.status.idle": "2021-07-05T04:30:03.555537Z",
     "shell.execute_reply": "2021-07-05T04:30:03.555043Z",
     "shell.execute_reply.started": "2021-07-05T04:26:11.068603Z"
    },
    "papermill": {
     "duration": 0.095296,
     "end_time": "2021-07-05T04:30:03.555694",
     "exception": false,
     "start_time": "2021-07-05T04:30:03.460398",
     "status": "completed"
    },
    "tags": []
   },
   "outputs": [],
   "source": [
    "test_id = test['test_id']"
   ]
  },
  {
   "cell_type": "code",
   "execution_count": 36,
   "id": "afraid-spokesman",
   "metadata": {
    "execution": {
     "iopub.execute_input": "2021-07-05T04:30:04.061417Z",
     "iopub.status.busy": "2021-07-05T04:30:04.060753Z",
     "iopub.status.idle": "2021-07-05T04:30:05.683138Z",
     "shell.execute_reply": "2021-07-05T04:30:05.682553Z",
     "shell.execute_reply.started": "2021-07-05T04:26:11.080273Z"
    },
    "papermill": {
     "duration": 2.039669,
     "end_time": "2021-07-05T04:30:05.683300",
     "exception": false,
     "start_time": "2021-07-05T04:30:03.643631",
     "status": "completed"
    },
    "tags": []
   },
   "outputs": [],
   "source": [
    "test['category_name'] = test['category_name'].fillna(value='missing')\n",
    "test['item_description'] = test['item_description'].fillna(value='missing')\n",
    "test['name'] = test['name'].fillna(value='missing')\n",
    "test['brand_name'] = test['brand_name'].fillna(value='missing')"
   ]
  },
  {
   "cell_type": "code",
   "execution_count": 37,
   "id": "bacterial-month",
   "metadata": {
    "execution": {
     "iopub.execute_input": "2021-07-05T04:30:05.916375Z",
     "iopub.status.busy": "2021-07-05T04:30:05.915573Z",
     "iopub.status.idle": "2021-07-05T04:30:37.668541Z",
     "shell.execute_reply": "2021-07-05T04:30:37.667865Z",
     "shell.execute_reply.started": "2021-07-05T04:26:13.092830Z"
    },
    "papermill": {
     "duration": 31.898757,
     "end_time": "2021-07-05T04:30:37.668702",
     "exception": false,
     "start_time": "2021-07-05T04:30:05.769945",
     "status": "completed"
    },
    "tags": []
   },
   "outputs": [],
   "source": [
    "test['category_name'] = test['category_name'].astype('category')\n",
    "test['item_description'] = test['item_description'].astype('category')\n",
    "test['name'] = test['name'].astype('category')\n",
    "test['brand_name'] = test['brand_name'].astype('category')"
   ]
  },
  {
   "cell_type": "code",
   "execution_count": 38,
   "id": "skilled-mineral",
   "metadata": {
    "execution": {
     "iopub.execute_input": "2021-07-05T04:30:37.849695Z",
     "iopub.status.busy": "2021-07-05T04:30:37.849006Z",
     "iopub.status.idle": "2021-07-05T04:30:38.550257Z",
     "shell.execute_reply": "2021-07-05T04:30:38.550771Z",
     "shell.execute_reply.started": "2021-07-05T04:26:46.701853Z"
    },
    "papermill": {
     "duration": 0.795796,
     "end_time": "2021-07-05T04:30:38.550991",
     "exception": false,
     "start_time": "2021-07-05T04:30:37.755195",
     "status": "completed"
    },
    "tags": []
   },
   "outputs": [],
   "source": [
    "test['name'] = test['name'].cat.codes\n",
    "test['category_name'] = test['category_name'].cat.codes\n",
    "test['brand_name'] = test['brand_name'].cat.codes\n",
    "test['item_description'] = test['item_description'].cat.codes"
   ]
  },
  {
   "cell_type": "code",
   "execution_count": 39,
   "id": "modular-theory",
   "metadata": {
    "execution": {
     "iopub.execute_input": "2021-07-05T04:30:38.729241Z",
     "iopub.status.busy": "2021-07-05T04:30:38.728497Z",
     "iopub.status.idle": "2021-07-05T04:30:38.783420Z",
     "shell.execute_reply": "2021-07-05T04:30:38.782737Z",
     "shell.execute_reply.started": "2021-07-05T04:26:47.390261Z"
    },
    "papermill": {
     "duration": 0.145813,
     "end_time": "2021-07-05T04:30:38.783568",
     "exception": false,
     "start_time": "2021-07-05T04:30:38.637755",
     "status": "completed"
    },
    "tags": []
   },
   "outputs": [],
   "source": [
    "test = test.drop('test_id', axis=1)"
   ]
  },
  {
   "cell_type": "code",
   "execution_count": 40,
   "id": "primary-acquisition",
   "metadata": {
    "execution": {
     "iopub.execute_input": "2021-07-05T04:30:38.966707Z",
     "iopub.status.busy": "2021-07-05T04:30:38.960770Z",
     "iopub.status.idle": "2021-07-05T04:30:39.106147Z",
     "shell.execute_reply": "2021-07-05T04:30:39.105512Z",
     "shell.execute_reply.started": "2021-07-05T04:26:47.450753Z"
    },
    "papermill": {
     "duration": 0.236738,
     "end_time": "2021-07-05T04:30:39.106286",
     "exception": false,
     "start_time": "2021-07-05T04:30:38.869548",
     "status": "completed"
    },
    "tags": []
   },
   "outputs": [
    {
     "name": "stdout",
     "output_type": "stream",
     "text": [
      "(3460725, 6)\n"
     ]
    },
    {
     "data": {
      "text/html": [
       "<div>\n",
       "<style scoped>\n",
       "    .dataframe tbody tr th:only-of-type {\n",
       "        vertical-align: middle;\n",
       "    }\n",
       "\n",
       "    .dataframe tbody tr th {\n",
       "        vertical-align: top;\n",
       "    }\n",
       "\n",
       "    .dataframe thead th {\n",
       "        text-align: right;\n",
       "    }\n",
       "</style>\n",
       "<table border=\"1\" class=\"dataframe\">\n",
       "  <thead>\n",
       "    <tr style=\"text-align: right;\">\n",
       "      <th></th>\n",
       "      <th>name</th>\n",
       "      <th>item_condition_id</th>\n",
       "      <th>category_name</th>\n",
       "      <th>brand_name</th>\n",
       "      <th>shipping</th>\n",
       "      <th>item_description</th>\n",
       "    </tr>\n",
       "  </thead>\n",
       "  <tbody>\n",
       "    <tr>\n",
       "      <th>0</th>\n",
       "      <td>497322</td>\n",
       "      <td>1</td>\n",
       "      <td>1230</td>\n",
       "      <td>5837</td>\n",
       "      <td>1</td>\n",
       "      <td>2189482</td>\n",
       "    </tr>\n",
       "    <tr>\n",
       "      <th>1</th>\n",
       "      <td>100830</td>\n",
       "      <td>1</td>\n",
       "      <td>916</td>\n",
       "      <td>5837</td>\n",
       "      <td>1</td>\n",
       "      <td>150218</td>\n",
       "    </tr>\n",
       "    <tr>\n",
       "      <th>2</th>\n",
       "      <td>629168</td>\n",
       "      <td>1</td>\n",
       "      <td>1018</td>\n",
       "      <td>1216</td>\n",
       "      <td>1</td>\n",
       "      <td>601498</td>\n",
       "    </tr>\n",
       "    <tr>\n",
       "      <th>3</th>\n",
       "      <td>836033</td>\n",
       "      <td>2</td>\n",
       "      <td>1281</td>\n",
       "      <td>5837</td>\n",
       "      <td>0</td>\n",
       "      <td>53732</td>\n",
       "    </tr>\n",
       "    <tr>\n",
       "      <th>4</th>\n",
       "      <td>1243301</td>\n",
       "      <td>3</td>\n",
       "      <td>878</td>\n",
       "      <td>5837</td>\n",
       "      <td>1</td>\n",
       "      <td>2064967</td>\n",
       "    </tr>\n",
       "  </tbody>\n",
       "</table>\n",
       "</div>"
      ],
      "text/plain": [
       "      name  item_condition_id  category_name  brand_name  shipping  \\\n",
       "0   497322                  1           1230        5837         1   \n",
       "1   100830                  1            916        5837         1   \n",
       "2   629168                  1           1018        1216         1   \n",
       "3   836033                  2           1281        5837         0   \n",
       "4  1243301                  3            878        5837         1   \n",
       "\n",
       "   item_description  \n",
       "0           2189482  \n",
       "1            150218  \n",
       "2            601498  \n",
       "3             53732  \n",
       "4           2064967  "
      ]
     },
     "execution_count": 40,
     "metadata": {},
     "output_type": "execute_result"
    }
   ],
   "source": [
    "test.to_pickle('test.pickle')\n",
    "\n",
    "print(test.shape)\n",
    "test.head()"
   ]
  },
  {
   "cell_type": "code",
   "execution_count": 41,
   "id": "silver-figure",
   "metadata": {
    "execution": {
     "iopub.execute_input": "2021-07-05T04:30:39.289661Z",
     "iopub.status.busy": "2021-07-05T04:30:39.288954Z",
     "iopub.status.idle": "2021-07-05T04:30:58.733283Z",
     "shell.execute_reply": "2021-07-05T04:30:58.732434Z",
     "shell.execute_reply.started": "2021-07-05T04:26:47.602256Z"
    },
    "papermill": {
     "duration": 19.53802,
     "end_time": "2021-07-05T04:30:58.733431",
     "exception": false,
     "start_time": "2021-07-05T04:30:39.195411",
     "status": "completed"
    },
    "tags": []
   },
   "outputs": [],
   "source": [
    "prediction = np.expm1(cls.predict(test))"
   ]
  },
  {
   "cell_type": "code",
   "execution_count": 42,
   "id": "cardiac-float",
   "metadata": {
    "execution": {
     "iopub.execute_input": "2021-07-05T04:30:59.085659Z",
     "iopub.status.busy": "2021-07-05T04:30:59.084631Z",
     "iopub.status.idle": "2021-07-05T04:30:59.089179Z",
     "shell.execute_reply": "2021-07-05T04:30:59.088615Z",
     "shell.execute_reply.started": "2021-07-05T04:27:07.643239Z"
    },
    "papermill": {
     "duration": 0.268681,
     "end_time": "2021-07-05T04:30:59.089345",
     "exception": false,
     "start_time": "2021-07-05T04:30:58.820664",
     "status": "completed"
    },
    "tags": []
   },
   "outputs": [
    {
     "data": {
      "text/plain": [
       "164"
      ]
     },
     "execution_count": 42,
     "metadata": {},
     "output_type": "execute_result"
    }
   ],
   "source": [
    "del test\n",
    "gc.collect()"
   ]
  },
  {
   "cell_type": "code",
   "execution_count": 43,
   "id": "documentary-silly",
   "metadata": {
    "execution": {
     "iopub.execute_input": "2021-07-05T04:30:59.277207Z",
     "iopub.status.busy": "2021-07-05T04:30:59.276337Z",
     "iopub.status.idle": "2021-07-05T04:30:59.302252Z",
     "shell.execute_reply": "2021-07-05T04:30:59.301524Z",
     "shell.execute_reply.started": "2021-07-05T04:27:07.768854Z"
    },
    "papermill": {
     "duration": 0.121963,
     "end_time": "2021-07-05T04:30:59.302416",
     "exception": false,
     "start_time": "2021-07-05T04:30:59.180453",
     "status": "completed"
    },
    "tags": []
   },
   "outputs": [
    {
     "data": {
      "text/html": [
       "<div>\n",
       "<style scoped>\n",
       "    .dataframe tbody tr th:only-of-type {\n",
       "        vertical-align: middle;\n",
       "    }\n",
       "\n",
       "    .dataframe tbody tr th {\n",
       "        vertical-align: top;\n",
       "    }\n",
       "\n",
       "    .dataframe thead th {\n",
       "        text-align: right;\n",
       "    }\n",
       "</style>\n",
       "<table border=\"1\" class=\"dataframe\">\n",
       "  <thead>\n",
       "    <tr style=\"text-align: right;\">\n",
       "      <th></th>\n",
       "      <th>test_id</th>\n",
       "      <th>price</th>\n",
       "    </tr>\n",
       "  </thead>\n",
       "  <tbody>\n",
       "    <tr>\n",
       "      <th>0</th>\n",
       "      <td>0</td>\n",
       "      <td>36.152729</td>\n",
       "    </tr>\n",
       "    <tr>\n",
       "      <th>1</th>\n",
       "      <td>1</td>\n",
       "      <td>36.127149</td>\n",
       "    </tr>\n",
       "    <tr>\n",
       "      <th>2</th>\n",
       "      <td>2</td>\n",
       "      <td>14.426599</td>\n",
       "    </tr>\n",
       "    <tr>\n",
       "      <th>3</th>\n",
       "      <td>3</td>\n",
       "      <td>30.550051</td>\n",
       "    </tr>\n",
       "    <tr>\n",
       "      <th>4</th>\n",
       "      <td>4</td>\n",
       "      <td>25.510851</td>\n",
       "    </tr>\n",
       "    <tr>\n",
       "      <th>5</th>\n",
       "      <td>5</td>\n",
       "      <td>15.504122</td>\n",
       "    </tr>\n",
       "    <tr>\n",
       "      <th>6</th>\n",
       "      <td>6</td>\n",
       "      <td>19.845826</td>\n",
       "    </tr>\n",
       "    <tr>\n",
       "      <th>7</th>\n",
       "      <td>7</td>\n",
       "      <td>17.636903</td>\n",
       "    </tr>\n",
       "    <tr>\n",
       "      <th>8</th>\n",
       "      <td>8</td>\n",
       "      <td>18.734495</td>\n",
       "    </tr>\n",
       "    <tr>\n",
       "      <th>9</th>\n",
       "      <td>9</td>\n",
       "      <td>19.972649</td>\n",
       "    </tr>\n",
       "  </tbody>\n",
       "</table>\n",
       "</div>"
      ],
      "text/plain": [
       "   test_id      price\n",
       "0        0  36.152729\n",
       "1        1  36.127149\n",
       "2        2  14.426599\n",
       "3        3  30.550051\n",
       "4        4  25.510851\n",
       "5        5  15.504122\n",
       "6        6  19.845826\n",
       "7        7  17.636903\n",
       "8        8  18.734495\n",
       "9        9  19.972649"
      ]
     },
     "execution_count": 43,
     "metadata": {},
     "output_type": "execute_result"
    }
   ],
   "source": [
    "submit = pd.DataFrame(test_id, columns=['test_id'])\n",
    "submit['price'] = prediction\n",
    "\n",
    "submit.head(10)"
   ]
  },
  {
   "cell_type": "code",
   "execution_count": 44,
   "id": "minus-judge",
   "metadata": {
    "execution": {
     "iopub.execute_input": "2021-07-05T04:30:59.620343Z",
     "iopub.status.busy": "2021-07-05T04:30:59.619371Z",
     "iopub.status.idle": "2021-07-05T04:30:59.623998Z",
     "shell.execute_reply": "2021-07-05T04:30:59.623340Z",
     "shell.execute_reply.started": "2021-07-05T04:27:07.806719Z"
    },
    "papermill": {
     "duration": 0.230969,
     "end_time": "2021-07-05T04:30:59.624159",
     "exception": false,
     "start_time": "2021-07-05T04:30:59.393190",
     "status": "completed"
    },
    "tags": []
   },
   "outputs": [
    {
     "data": {
      "text/plain": [
       "40"
      ]
     },
     "execution_count": 44,
     "metadata": {},
     "output_type": "execute_result"
    }
   ],
   "source": [
    "del test_id, prediction\n",
    "gc.collect()"
   ]
  },
  {
   "cell_type": "markdown",
   "id": "answering-deficit",
   "metadata": {
    "papermill": {
     "duration": 0.089703,
     "end_time": "2021-07-05T04:30:59.806148",
     "exception": false,
     "start_time": "2021-07-05T04:30:59.716445",
     "status": "completed"
    },
    "tags": []
   },
   "source": [
    "Submissionファイルは、/kaggle下ではなく、/kaggle/working下に作成する。<br>\n",
    "また、submissionのCSVファイルについて、index=Falseにする。"
   ]
  },
  {
   "cell_type": "code",
   "execution_count": 45,
   "id": "latter-tsunami",
   "metadata": {
    "execution": {
     "iopub.execute_input": "2021-07-05T04:30:59.993017Z",
     "iopub.status.busy": "2021-07-05T04:30:59.992282Z",
     "iopub.status.idle": "2021-07-05T04:31:12.938147Z",
     "shell.execute_reply": "2021-07-05T04:31:12.937522Z",
     "shell.execute_reply.started": "2021-07-05T04:27:07.925260Z"
    },
    "papermill": {
     "duration": 13.042136,
     "end_time": "2021-07-05T04:31:12.938316",
     "exception": false,
     "start_time": "2021-07-05T04:30:59.896180",
     "status": "completed"
    },
    "tags": []
   },
   "outputs": [],
   "source": [
    "submit.to_csv('./submission.csv', index=False)"
   ]
  }
 ],
 "metadata": {
  "kernelspec": {
   "display_name": "Python 3",
   "language": "python",
   "name": "python3"
  },
  "language_info": {
   "codemirror_mode": {
    "name": "ipython",
    "version": 3
   },
   "file_extension": ".py",
   "mimetype": "text/x-python",
   "name": "python",
   "nbconvert_exporter": "python",
   "pygments_lexer": "ipython3",
   "version": "3.7.9"
  },
  "papermill": {
   "default_parameters": {},
   "duration": 195.317584,
   "end_time": "2021-07-05T04:31:14.844667",
   "environment_variables": {},
   "exception": null,
   "input_path": "__notebook__.ipynb",
   "output_path": "__notebook__.ipynb",
   "parameters": {},
   "start_time": "2021-07-05T04:27:59.527083",
   "version": "2.3.2"
  }
 },
 "nbformat": 4,
 "nbformat_minor": 5
}
