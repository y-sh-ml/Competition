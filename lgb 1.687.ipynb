{
 "cells": [
  {
   "cell_type": "markdown",
   "id": "distant-stupid",
   "metadata": {
    "papermill": {
     "duration": 0.036489,
     "end_time": "2021-06-08T08:14:54.561610",
     "exception": false,
     "start_time": "2021-06-08T08:14:54.525121",
     "status": "completed"
    },
    "tags": []
   },
   "source": [
    "# Overview"
   ]
  },
  {
   "cell_type": "markdown",
   "id": "static-fight",
   "metadata": {
    "papermill": {
     "duration": 0.035379,
     "end_time": "2021-06-08T08:14:54.632165",
     "exception": false,
     "start_time": "2021-06-08T08:14:54.596786",
     "status": "completed"
    },
    "tags": []
   },
   "source": [
    "1448棟のビルの4種類のメーター（電力、冷水、スチーム、温水）の値を予測するコンペである。\n",
    "\n",
    "背景としては、エネルギー使用量（4種類のメーターの値）が正確に予測できるようになることで<br>\n",
    "省エネ投資を活発化させて、環境問題に貢献したいという狙いがある。\n",
    "\n",
    "ビルの所有者は、ビルのエネルギー効率を改善するような投資を行うことで<br>\n",
    "エネルギー効率が改善された分、コストを抑えることができる。"
   ]
  },
  {
   "cell_type": "markdown",
   "id": "alpine-equilibrium",
   "metadata": {
    "papermill": {
     "duration": 0.035744,
     "end_time": "2021-06-08T08:14:54.703168",
     "exception": false,
     "start_time": "2021-06-08T08:14:54.667424",
     "status": "completed"
    },
    "tags": []
   },
   "source": [
    "# Module"
   ]
  },
  {
   "cell_type": "code",
   "execution_count": 1,
   "id": "breeding-english",
   "metadata": {
    "execution": {
     "iopub.execute_input": "2021-06-08T08:14:54.786268Z",
     "iopub.status.busy": "2021-06-08T08:14:54.781987Z",
     "iopub.status.idle": "2021-06-08T08:14:57.528810Z",
     "shell.execute_reply": "2021-06-08T08:14:57.528119Z",
     "shell.execute_reply.started": "2021-06-08T08:01:43.858576Z"
    },
    "papermill": {
     "duration": 2.790751,
     "end_time": "2021-06-08T08:14:57.528989",
     "exception": false,
     "start_time": "2021-06-08T08:14:54.738238",
     "status": "completed"
    },
    "tags": []
   },
   "outputs": [
    {
     "data": {
      "text/html": [
       "<style type='text/css'>\n",
       ".datatable table.frame { margin-bottom: 0; }\n",
       ".datatable table.frame thead { border-bottom: none; }\n",
       ".datatable table.frame tr.coltypes td {  color: #FFFFFF;  line-height: 6px;  padding: 0 0.5em;}\n",
       ".datatable .bool    { background: #DDDD99; }\n",
       ".datatable .object  { background: #565656; }\n",
       ".datatable .int     { background: #5D9E5D; }\n",
       ".datatable .float   { background: #4040CC; }\n",
       ".datatable .str     { background: #CC4040; }\n",
       ".datatable .row_index {  background: var(--jp-border-color3);  border-right: 1px solid var(--jp-border-color0);  color: var(--jp-ui-font-color3);  font-size: 9px;}\n",
       ".datatable .frame tr.coltypes .row_index {  background: var(--jp-border-color0);}\n",
       ".datatable th:nth-child(2) { padding-left: 12px; }\n",
       ".datatable .hellipsis {  color: var(--jp-cell-editor-border-color);}\n",
       ".datatable .vellipsis {  background: var(--jp-layout-color0);  color: var(--jp-cell-editor-border-color);}\n",
       ".datatable .na {  color: var(--jp-cell-editor-border-color);  font-size: 80%;}\n",
       ".datatable .footer { font-size: 9px; }\n",
       ".datatable .frame_dimensions {  background: var(--jp-border-color3);  border-top: 1px solid var(--jp-border-color0);  color: var(--jp-ui-font-color3);  display: inline-block;  opacity: 0.6;  padding: 1px 10px 1px 5px;}\n",
       "</style>\n"
      ],
      "text/plain": [
       "<IPython.core.display.HTML object>"
      ]
     },
     "metadata": {},
     "output_type": "display_data"
    }
   ],
   "source": [
    "import gc\n",
    "import optuna\n",
    "import datetime\n",
    "import warnings\n",
    "import matplotlib\n",
    "import numpy as np\n",
    "import pandas as pd\n",
    "import seaborn as sns\n",
    "import lightgbm as lgb\n",
    "import matplotlib.pyplot as plt\n",
    "\n",
    "from sklearn.preprocessing import LabelEncoder\n",
    "from sklearn.model_selection import train_test_split\n",
    "from sklearn.metrics import mean_squared_error\n",
    "from pandas.api.types import is_datetime64_any_dtype as is_datetime\n",
    "from pandas.api.types import is_categorical_dtype"
   ]
  },
  {
   "cell_type": "markdown",
   "id": "acceptable-america",
   "metadata": {
    "papermill": {
     "duration": 0.036532,
     "end_time": "2021-06-08T08:14:57.601922",
     "exception": false,
     "start_time": "2021-06-08T08:14:57.565390",
     "status": "completed"
    },
    "tags": []
   },
   "source": [
    "# Datasets"
   ]
  },
  {
   "cell_type": "code",
   "execution_count": 2,
   "id": "pressed-compact",
   "metadata": {
    "execution": {
     "iopub.execute_input": "2021-06-08T08:14:57.679594Z",
     "iopub.status.busy": "2021-06-08T08:14:57.678930Z",
     "iopub.status.idle": "2021-06-08T08:15:12.224300Z",
     "shell.execute_reply": "2021-06-08T08:15:12.223711Z",
     "shell.execute_reply.started": "2021-06-08T08:01:47.210011Z"
    },
    "papermill": {
     "duration": 14.586434,
     "end_time": "2021-06-08T08:15:12.224442",
     "exception": false,
     "start_time": "2021-06-08T08:14:57.638008",
     "status": "completed"
    },
    "tags": []
   },
   "outputs": [
    {
     "name": "stdout",
     "output_type": "stream",
     "text": [
      "(20216100, 4)\n"
     ]
    },
    {
     "data": {
      "text/html": [
       "<div>\n",
       "<style scoped>\n",
       "    .dataframe tbody tr th:only-of-type {\n",
       "        vertical-align: middle;\n",
       "    }\n",
       "\n",
       "    .dataframe tbody tr th {\n",
       "        vertical-align: top;\n",
       "    }\n",
       "\n",
       "    .dataframe thead th {\n",
       "        text-align: right;\n",
       "    }\n",
       "</style>\n",
       "<table border=\"1\" class=\"dataframe\">\n",
       "  <thead>\n",
       "    <tr style=\"text-align: right;\">\n",
       "      <th></th>\n",
       "      <th>building_id</th>\n",
       "      <th>meter</th>\n",
       "      <th>timestamp</th>\n",
       "      <th>meter_reading</th>\n",
       "    </tr>\n",
       "  </thead>\n",
       "  <tbody>\n",
       "    <tr>\n",
       "      <th>0</th>\n",
       "      <td>0</td>\n",
       "      <td>0</td>\n",
       "      <td>2016-01-01 00:00:00</td>\n",
       "      <td>0.0</td>\n",
       "    </tr>\n",
       "    <tr>\n",
       "      <th>1</th>\n",
       "      <td>1</td>\n",
       "      <td>0</td>\n",
       "      <td>2016-01-01 00:00:00</td>\n",
       "      <td>0.0</td>\n",
       "    </tr>\n",
       "    <tr>\n",
       "      <th>2</th>\n",
       "      <td>2</td>\n",
       "      <td>0</td>\n",
       "      <td>2016-01-01 00:00:00</td>\n",
       "      <td>0.0</td>\n",
       "    </tr>\n",
       "    <tr>\n",
       "      <th>3</th>\n",
       "      <td>3</td>\n",
       "      <td>0</td>\n",
       "      <td>2016-01-01 00:00:00</td>\n",
       "      <td>0.0</td>\n",
       "    </tr>\n",
       "    <tr>\n",
       "      <th>4</th>\n",
       "      <td>4</td>\n",
       "      <td>0</td>\n",
       "      <td>2016-01-01 00:00:00</td>\n",
       "      <td>0.0</td>\n",
       "    </tr>\n",
       "  </tbody>\n",
       "</table>\n",
       "</div>"
      ],
      "text/plain": [
       "   building_id  meter            timestamp  meter_reading\n",
       "0            0      0  2016-01-01 00:00:00            0.0\n",
       "1            1      0  2016-01-01 00:00:00            0.0\n",
       "2            2      0  2016-01-01 00:00:00            0.0\n",
       "3            3      0  2016-01-01 00:00:00            0.0\n",
       "4            4      0  2016-01-01 00:00:00            0.0"
      ]
     },
     "execution_count": 2,
     "metadata": {},
     "output_type": "execute_result"
    }
   ],
   "source": [
    "train = pd.read_csv('../input/ashrae-energy-prediction/train.csv')\n",
    "\n",
    "print(train.shape)\n",
    "train.head()"
   ]
  },
  {
   "cell_type": "markdown",
   "id": "reverse-reasoning",
   "metadata": {
    "execution": {
     "iopub.execute_input": "2021-06-04T05:10:36.573413Z",
     "iopub.status.busy": "2021-06-04T05:10:36.573045Z",
     "iopub.status.idle": "2021-06-04T05:10:36.579555Z",
     "shell.execute_reply": "2021-06-04T05:10:36.578197Z",
     "shell.execute_reply.started": "2021-06-04T05:10:36.573384Z"
    },
    "papermill": {
     "duration": 0.035903,
     "end_time": "2021-06-08T08:15:12.297765",
     "exception": false,
     "start_time": "2021-06-08T08:15:12.261862",
     "status": "completed"
    },
    "tags": []
   },
   "source": [
    "1時間ごとのメータ値を保持するテーブル（学習データ）<br>\n",
    "・building_id：ビルのID<br>\n",
    "・meter：0は電力、1は冷水、2はスチーム、3は温水<br>\n",
    "・timestamp：日付と時刻<br>\n",
    "・meter_reading：メーターの使用量（目的変数）<br>"
   ]
  },
  {
   "cell_type": "code",
   "execution_count": 3,
   "id": "pregnant-printing",
   "metadata": {
    "execution": {
     "iopub.execute_input": "2021-06-08T08:15:12.374423Z",
     "iopub.status.busy": "2021-06-08T08:15:12.373450Z",
     "iopub.status.idle": "2021-06-08T08:15:46.254678Z",
     "shell.execute_reply": "2021-06-08T08:15:46.253902Z",
     "shell.execute_reply.started": "2021-06-08T08:02:03.478402Z"
    },
    "papermill": {
     "duration": 33.920882,
     "end_time": "2021-06-08T08:15:46.254871",
     "exception": false,
     "start_time": "2021-06-08T08:15:12.333989",
     "status": "completed"
    },
    "tags": []
   },
   "outputs": [
    {
     "name": "stdout",
     "output_type": "stream",
     "text": [
      "(41697600, 4)\n"
     ]
    },
    {
     "data": {
      "text/html": [
       "<div>\n",
       "<style scoped>\n",
       "    .dataframe tbody tr th:only-of-type {\n",
       "        vertical-align: middle;\n",
       "    }\n",
       "\n",
       "    .dataframe tbody tr th {\n",
       "        vertical-align: top;\n",
       "    }\n",
       "\n",
       "    .dataframe thead th {\n",
       "        text-align: right;\n",
       "    }\n",
       "</style>\n",
       "<table border=\"1\" class=\"dataframe\">\n",
       "  <thead>\n",
       "    <tr style=\"text-align: right;\">\n",
       "      <th></th>\n",
       "      <th>row_id</th>\n",
       "      <th>building_id</th>\n",
       "      <th>meter</th>\n",
       "      <th>timestamp</th>\n",
       "    </tr>\n",
       "  </thead>\n",
       "  <tbody>\n",
       "    <tr>\n",
       "      <th>0</th>\n",
       "      <td>0</td>\n",
       "      <td>0</td>\n",
       "      <td>0</td>\n",
       "      <td>2017-01-01 00:00:00</td>\n",
       "    </tr>\n",
       "    <tr>\n",
       "      <th>1</th>\n",
       "      <td>1</td>\n",
       "      <td>1</td>\n",
       "      <td>0</td>\n",
       "      <td>2017-01-01 00:00:00</td>\n",
       "    </tr>\n",
       "    <tr>\n",
       "      <th>2</th>\n",
       "      <td>2</td>\n",
       "      <td>2</td>\n",
       "      <td>0</td>\n",
       "      <td>2017-01-01 00:00:00</td>\n",
       "    </tr>\n",
       "    <tr>\n",
       "      <th>3</th>\n",
       "      <td>3</td>\n",
       "      <td>3</td>\n",
       "      <td>0</td>\n",
       "      <td>2017-01-01 00:00:00</td>\n",
       "    </tr>\n",
       "    <tr>\n",
       "      <th>4</th>\n",
       "      <td>4</td>\n",
       "      <td>4</td>\n",
       "      <td>0</td>\n",
       "      <td>2017-01-01 00:00:00</td>\n",
       "    </tr>\n",
       "  </tbody>\n",
       "</table>\n",
       "</div>"
      ],
      "text/plain": [
       "   row_id  building_id  meter            timestamp\n",
       "0       0            0      0  2017-01-01 00:00:00\n",
       "1       1            1      0  2017-01-01 00:00:00\n",
       "2       2            2      0  2017-01-01 00:00:00\n",
       "3       3            3      0  2017-01-01 00:00:00\n",
       "4       4            4      0  2017-01-01 00:00:00"
      ]
     },
     "execution_count": 3,
     "metadata": {},
     "output_type": "execute_result"
    }
   ],
   "source": [
    "test = pd.read_csv('../input/ashrae-energy-prediction/test.csv')\n",
    "\n",
    "print(test.shape)\n",
    "test.head()"
   ]
  },
  {
   "cell_type": "markdown",
   "id": "placed-gabriel",
   "metadata": {
    "papermill": {
     "duration": 0.037967,
     "end_time": "2021-06-08T08:15:46.331589",
     "exception": false,
     "start_time": "2021-06-08T08:15:46.293622",
     "status": "completed"
    },
    "tags": []
   },
   "source": [
    "1時間ごとのメータ値を保持するテーブル（テストデータ）<br>\n",
    "・row_id：行のID<br>\n",
    "・building_id：ビルのID<br>\n",
    "・meter：0は電力、1は冷水、2はスチーム、3は温水<br>\n",
    "・timestamp：日付と時刻<br>"
   ]
  },
  {
   "cell_type": "code",
   "execution_count": 4,
   "id": "referenced-massage",
   "metadata": {
    "execution": {
     "iopub.execute_input": "2021-06-08T08:15:46.412936Z",
     "iopub.status.busy": "2021-06-08T08:15:46.412267Z",
     "iopub.status.idle": "2021-06-08T08:15:46.710759Z",
     "shell.execute_reply": "2021-06-08T08:15:46.711198Z",
     "shell.execute_reply.started": "2021-06-08T08:02:35.515216Z"
    },
    "papermill": {
     "duration": 0.341144,
     "end_time": "2021-06-08T08:15:46.711380",
     "exception": false,
     "start_time": "2021-06-08T08:15:46.370236",
     "status": "completed"
    },
    "tags": []
   },
   "outputs": [
    {
     "name": "stdout",
     "output_type": "stream",
     "text": [
      "(139773, 9)\n"
     ]
    },
    {
     "data": {
      "text/html": [
       "<div>\n",
       "<style scoped>\n",
       "    .dataframe tbody tr th:only-of-type {\n",
       "        vertical-align: middle;\n",
       "    }\n",
       "\n",
       "    .dataframe tbody tr th {\n",
       "        vertical-align: top;\n",
       "    }\n",
       "\n",
       "    .dataframe thead th {\n",
       "        text-align: right;\n",
       "    }\n",
       "</style>\n",
       "<table border=\"1\" class=\"dataframe\">\n",
       "  <thead>\n",
       "    <tr style=\"text-align: right;\">\n",
       "      <th></th>\n",
       "      <th>site_id</th>\n",
       "      <th>timestamp</th>\n",
       "      <th>air_temperature</th>\n",
       "      <th>cloud_coverage</th>\n",
       "      <th>dew_temperature</th>\n",
       "      <th>precip_depth_1_hr</th>\n",
       "      <th>sea_level_pressure</th>\n",
       "      <th>wind_direction</th>\n",
       "      <th>wind_speed</th>\n",
       "    </tr>\n",
       "  </thead>\n",
       "  <tbody>\n",
       "    <tr>\n",
       "      <th>0</th>\n",
       "      <td>0</td>\n",
       "      <td>2016-01-01 00:00:00</td>\n",
       "      <td>25.0</td>\n",
       "      <td>6.0</td>\n",
       "      <td>20.0</td>\n",
       "      <td>NaN</td>\n",
       "      <td>1019.7</td>\n",
       "      <td>0.0</td>\n",
       "      <td>0.0</td>\n",
       "    </tr>\n",
       "    <tr>\n",
       "      <th>1</th>\n",
       "      <td>0</td>\n",
       "      <td>2016-01-01 01:00:00</td>\n",
       "      <td>24.4</td>\n",
       "      <td>NaN</td>\n",
       "      <td>21.1</td>\n",
       "      <td>-1.0</td>\n",
       "      <td>1020.2</td>\n",
       "      <td>70.0</td>\n",
       "      <td>1.5</td>\n",
       "    </tr>\n",
       "    <tr>\n",
       "      <th>2</th>\n",
       "      <td>0</td>\n",
       "      <td>2016-01-01 02:00:00</td>\n",
       "      <td>22.8</td>\n",
       "      <td>2.0</td>\n",
       "      <td>21.1</td>\n",
       "      <td>0.0</td>\n",
       "      <td>1020.2</td>\n",
       "      <td>0.0</td>\n",
       "      <td>0.0</td>\n",
       "    </tr>\n",
       "    <tr>\n",
       "      <th>3</th>\n",
       "      <td>0</td>\n",
       "      <td>2016-01-01 03:00:00</td>\n",
       "      <td>21.1</td>\n",
       "      <td>2.0</td>\n",
       "      <td>20.6</td>\n",
       "      <td>0.0</td>\n",
       "      <td>1020.1</td>\n",
       "      <td>0.0</td>\n",
       "      <td>0.0</td>\n",
       "    </tr>\n",
       "    <tr>\n",
       "      <th>4</th>\n",
       "      <td>0</td>\n",
       "      <td>2016-01-01 04:00:00</td>\n",
       "      <td>20.0</td>\n",
       "      <td>2.0</td>\n",
       "      <td>20.0</td>\n",
       "      <td>-1.0</td>\n",
       "      <td>1020.0</td>\n",
       "      <td>250.0</td>\n",
       "      <td>2.6</td>\n",
       "    </tr>\n",
       "  </tbody>\n",
       "</table>\n",
       "</div>"
      ],
      "text/plain": [
       "   site_id            timestamp  air_temperature  cloud_coverage  \\\n",
       "0        0  2016-01-01 00:00:00             25.0             6.0   \n",
       "1        0  2016-01-01 01:00:00             24.4             NaN   \n",
       "2        0  2016-01-01 02:00:00             22.8             2.0   \n",
       "3        0  2016-01-01 03:00:00             21.1             2.0   \n",
       "4        0  2016-01-01 04:00:00             20.0             2.0   \n",
       "\n",
       "   dew_temperature  precip_depth_1_hr  sea_level_pressure  wind_direction  \\\n",
       "0             20.0                NaN              1019.7             0.0   \n",
       "1             21.1               -1.0              1020.2            70.0   \n",
       "2             21.1                0.0              1020.2             0.0   \n",
       "3             20.6                0.0              1020.1             0.0   \n",
       "4             20.0               -1.0              1020.0           250.0   \n",
       "\n",
       "   wind_speed  \n",
       "0         0.0  \n",
       "1         1.5  \n",
       "2         0.0  \n",
       "3         0.0  \n",
       "4         2.6  "
      ]
     },
     "execution_count": 4,
     "metadata": {},
     "output_type": "execute_result"
    }
   ],
   "source": [
    "weather_train = pd.read_csv('../input/ashrae-energy-prediction/weather_train.csv')\n",
    "\n",
    "print(weather_train.shape)\n",
    "weather_train.head()"
   ]
  },
  {
   "cell_type": "markdown",
   "id": "steady-joseph",
   "metadata": {
    "papermill": {
     "duration": 0.03858,
     "end_time": "2021-06-08T08:15:46.788787",
     "exception": false,
     "start_time": "2021-06-08T08:15:46.750207",
     "status": "completed"
    },
    "tags": []
   },
   "source": [
    "気象情報を保持するテーブル（学習データに対応）<br>\n",
    "・site_id：ビルの物理的な位置<br>\n",
    "・timestamp：日付と時刻<br>\n",
    "・air_temperature：気温<br>\n",
    "・dew_temperature：湿度<br>\n",
    "・precip_depth：降水量<br>\n",
    "・sea_level_pressure：海圧<br>\n",
    "・wind_direction：風向<br>\n",
    "・wind_speed：風速<br>"
   ]
  },
  {
   "cell_type": "code",
   "execution_count": 5,
   "id": "joined-verse",
   "metadata": {
    "execution": {
     "iopub.execute_input": "2021-06-08T08:15:46.870057Z",
     "iopub.status.busy": "2021-06-08T08:15:46.869359Z",
     "iopub.status.idle": "2021-06-08T08:15:47.425143Z",
     "shell.execute_reply": "2021-06-08T08:15:47.424608Z",
     "shell.execute_reply.started": "2021-06-08T08:02:35.774061Z"
    },
    "papermill": {
     "duration": 0.598212,
     "end_time": "2021-06-08T08:15:47.425277",
     "exception": false,
     "start_time": "2021-06-08T08:15:46.827065",
     "status": "completed"
    },
    "tags": []
   },
   "outputs": [
    {
     "name": "stdout",
     "output_type": "stream",
     "text": [
      "(277243, 9)\n"
     ]
    },
    {
     "data": {
      "text/html": [
       "<div>\n",
       "<style scoped>\n",
       "    .dataframe tbody tr th:only-of-type {\n",
       "        vertical-align: middle;\n",
       "    }\n",
       "\n",
       "    .dataframe tbody tr th {\n",
       "        vertical-align: top;\n",
       "    }\n",
       "\n",
       "    .dataframe thead th {\n",
       "        text-align: right;\n",
       "    }\n",
       "</style>\n",
       "<table border=\"1\" class=\"dataframe\">\n",
       "  <thead>\n",
       "    <tr style=\"text-align: right;\">\n",
       "      <th></th>\n",
       "      <th>site_id</th>\n",
       "      <th>timestamp</th>\n",
       "      <th>air_temperature</th>\n",
       "      <th>cloud_coverage</th>\n",
       "      <th>dew_temperature</th>\n",
       "      <th>precip_depth_1_hr</th>\n",
       "      <th>sea_level_pressure</th>\n",
       "      <th>wind_direction</th>\n",
       "      <th>wind_speed</th>\n",
       "    </tr>\n",
       "  </thead>\n",
       "  <tbody>\n",
       "    <tr>\n",
       "      <th>0</th>\n",
       "      <td>0</td>\n",
       "      <td>2017-01-01 00:00:00</td>\n",
       "      <td>17.8</td>\n",
       "      <td>4.0</td>\n",
       "      <td>11.7</td>\n",
       "      <td>NaN</td>\n",
       "      <td>1021.4</td>\n",
       "      <td>100.0</td>\n",
       "      <td>3.6</td>\n",
       "    </tr>\n",
       "    <tr>\n",
       "      <th>1</th>\n",
       "      <td>0</td>\n",
       "      <td>2017-01-01 01:00:00</td>\n",
       "      <td>17.8</td>\n",
       "      <td>2.0</td>\n",
       "      <td>12.8</td>\n",
       "      <td>0.0</td>\n",
       "      <td>1022.0</td>\n",
       "      <td>130.0</td>\n",
       "      <td>3.1</td>\n",
       "    </tr>\n",
       "    <tr>\n",
       "      <th>2</th>\n",
       "      <td>0</td>\n",
       "      <td>2017-01-01 02:00:00</td>\n",
       "      <td>16.1</td>\n",
       "      <td>0.0</td>\n",
       "      <td>12.8</td>\n",
       "      <td>0.0</td>\n",
       "      <td>1021.9</td>\n",
       "      <td>140.0</td>\n",
       "      <td>3.1</td>\n",
       "    </tr>\n",
       "    <tr>\n",
       "      <th>3</th>\n",
       "      <td>0</td>\n",
       "      <td>2017-01-01 03:00:00</td>\n",
       "      <td>17.2</td>\n",
       "      <td>0.0</td>\n",
       "      <td>13.3</td>\n",
       "      <td>0.0</td>\n",
       "      <td>1022.2</td>\n",
       "      <td>140.0</td>\n",
       "      <td>3.1</td>\n",
       "    </tr>\n",
       "    <tr>\n",
       "      <th>4</th>\n",
       "      <td>0</td>\n",
       "      <td>2017-01-01 04:00:00</td>\n",
       "      <td>16.7</td>\n",
       "      <td>2.0</td>\n",
       "      <td>13.3</td>\n",
       "      <td>0.0</td>\n",
       "      <td>1022.3</td>\n",
       "      <td>130.0</td>\n",
       "      <td>2.6</td>\n",
       "    </tr>\n",
       "  </tbody>\n",
       "</table>\n",
       "</div>"
      ],
      "text/plain": [
       "   site_id            timestamp  air_temperature  cloud_coverage  \\\n",
       "0        0  2017-01-01 00:00:00             17.8             4.0   \n",
       "1        0  2017-01-01 01:00:00             17.8             2.0   \n",
       "2        0  2017-01-01 02:00:00             16.1             0.0   \n",
       "3        0  2017-01-01 03:00:00             17.2             0.0   \n",
       "4        0  2017-01-01 04:00:00             16.7             2.0   \n",
       "\n",
       "   dew_temperature  precip_depth_1_hr  sea_level_pressure  wind_direction  \\\n",
       "0             11.7                NaN              1021.4           100.0   \n",
       "1             12.8                0.0              1022.0           130.0   \n",
       "2             12.8                0.0              1021.9           140.0   \n",
       "3             13.3                0.0              1022.2           140.0   \n",
       "4             13.3                0.0              1022.3           130.0   \n",
       "\n",
       "   wind_speed  \n",
       "0         3.6  \n",
       "1         3.1  \n",
       "2         3.1  \n",
       "3         3.1  \n",
       "4         2.6  "
      ]
     },
     "execution_count": 5,
     "metadata": {},
     "output_type": "execute_result"
    }
   ],
   "source": [
    "weather_test = pd.read_csv('../input/ashrae-energy-prediction/weather_test.csv')\n",
    "\n",
    "print(weather_test.shape)\n",
    "weather_test.head()"
   ]
  },
  {
   "cell_type": "markdown",
   "id": "straight-seventh",
   "metadata": {
    "papermill": {
     "duration": 0.040999,
     "end_time": "2021-06-08T08:15:47.506585",
     "exception": false,
     "start_time": "2021-06-08T08:15:47.465586",
     "status": "completed"
    },
    "tags": []
   },
   "source": [
    "気象情報を保持するテーブル（テストデータに対応）<br>\n",
    "・site_id：ビルの物理的な位置<br>\n",
    "・timestamp：日付と時刻<br>\n",
    "・air_temperature：気温<br>\n",
    "・dew_temperature：湿度<br>\n",
    "・precip_depth：降水量<br>\n",
    "・sea_level_pressure：海圧<br>\n",
    "・wind_direction：風向<br>\n",
    "・wind_speed：風速<br>"
   ]
  },
  {
   "cell_type": "code",
   "execution_count": 6,
   "id": "talented-monaco",
   "metadata": {
    "execution": {
     "iopub.execute_input": "2021-06-08T08:15:47.593808Z",
     "iopub.status.busy": "2021-06-08T08:15:47.593043Z",
     "iopub.status.idle": "2021-06-08T08:15:47.621184Z",
     "shell.execute_reply": "2021-06-08T08:15:47.620604Z",
     "shell.execute_reply.started": "2021-06-08T08:02:36.245418Z"
    },
    "papermill": {
     "duration": 0.073172,
     "end_time": "2021-06-08T08:15:47.621316",
     "exception": false,
     "start_time": "2021-06-08T08:15:47.548144",
     "status": "completed"
    },
    "tags": []
   },
   "outputs": [
    {
     "name": "stdout",
     "output_type": "stream",
     "text": [
      "(1449, 6)\n"
     ]
    },
    {
     "data": {
      "text/html": [
       "<div>\n",
       "<style scoped>\n",
       "    .dataframe tbody tr th:only-of-type {\n",
       "        vertical-align: middle;\n",
       "    }\n",
       "\n",
       "    .dataframe tbody tr th {\n",
       "        vertical-align: top;\n",
       "    }\n",
       "\n",
       "    .dataframe thead th {\n",
       "        text-align: right;\n",
       "    }\n",
       "</style>\n",
       "<table border=\"1\" class=\"dataframe\">\n",
       "  <thead>\n",
       "    <tr style=\"text-align: right;\">\n",
       "      <th></th>\n",
       "      <th>site_id</th>\n",
       "      <th>building_id</th>\n",
       "      <th>primary_use</th>\n",
       "      <th>square_feet</th>\n",
       "      <th>year_built</th>\n",
       "      <th>floor_count</th>\n",
       "    </tr>\n",
       "  </thead>\n",
       "  <tbody>\n",
       "    <tr>\n",
       "      <th>0</th>\n",
       "      <td>0</td>\n",
       "      <td>0</td>\n",
       "      <td>Education</td>\n",
       "      <td>7432</td>\n",
       "      <td>2008.0</td>\n",
       "      <td>NaN</td>\n",
       "    </tr>\n",
       "    <tr>\n",
       "      <th>1</th>\n",
       "      <td>0</td>\n",
       "      <td>1</td>\n",
       "      <td>Education</td>\n",
       "      <td>2720</td>\n",
       "      <td>2004.0</td>\n",
       "      <td>NaN</td>\n",
       "    </tr>\n",
       "    <tr>\n",
       "      <th>2</th>\n",
       "      <td>0</td>\n",
       "      <td>2</td>\n",
       "      <td>Education</td>\n",
       "      <td>5376</td>\n",
       "      <td>1991.0</td>\n",
       "      <td>NaN</td>\n",
       "    </tr>\n",
       "    <tr>\n",
       "      <th>3</th>\n",
       "      <td>0</td>\n",
       "      <td>3</td>\n",
       "      <td>Education</td>\n",
       "      <td>23685</td>\n",
       "      <td>2002.0</td>\n",
       "      <td>NaN</td>\n",
       "    </tr>\n",
       "    <tr>\n",
       "      <th>4</th>\n",
       "      <td>0</td>\n",
       "      <td>4</td>\n",
       "      <td>Education</td>\n",
       "      <td>116607</td>\n",
       "      <td>1975.0</td>\n",
       "      <td>NaN</td>\n",
       "    </tr>\n",
       "  </tbody>\n",
       "</table>\n",
       "</div>"
      ],
      "text/plain": [
       "   site_id  building_id primary_use  square_feet  year_built  floor_count\n",
       "0        0            0   Education         7432      2008.0          NaN\n",
       "1        0            1   Education         2720      2004.0          NaN\n",
       "2        0            2   Education         5376      1991.0          NaN\n",
       "3        0            3   Education        23685      2002.0          NaN\n",
       "4        0            4   Education       116607      1975.0          NaN"
      ]
     },
     "execution_count": 6,
     "metadata": {},
     "output_type": "execute_result"
    }
   ],
   "source": [
    "building = pd.read_csv('../input/ashrae-energy-prediction/building_metadata.csv')\n",
    "\n",
    "print(building.shape)\n",
    "building.head()"
   ]
  },
  {
   "cell_type": "markdown",
   "id": "micro-musical",
   "metadata": {
    "papermill": {
     "duration": 0.039001,
     "end_time": "2021-06-08T08:15:47.700109",
     "exception": false,
     "start_time": "2021-06-08T08:15:47.661108",
     "status": "completed"
    },
    "tags": []
   },
   "source": [
    "ビルの情報を保持するテーブル<br>\n",
    "・site_id：ビルの物理的な位置<br>\n",
    "・building_id：ビルのID<br>\n",
    "・primary_use：使用目的<br>\n",
    "・square_feet：面積<br>\n",
    "・year_built：施工した年<br>\n",
    "・floor_count：階数<br>"
   ]
  },
  {
   "cell_type": "markdown",
   "id": "straight-atlanta",
   "metadata": {
    "papermill": {
     "duration": 0.039097,
     "end_time": "2021-06-08T08:15:47.778860",
     "exception": false,
     "start_time": "2021-06-08T08:15:47.739763",
     "status": "completed"
    },
    "tags": []
   },
   "source": [
    "# Join"
   ]
  },
  {
   "cell_type": "code",
   "execution_count": 7,
   "id": "genuine-tactics",
   "metadata": {
    "execution": {
     "iopub.execute_input": "2021-06-08T08:15:47.873897Z",
     "iopub.status.busy": "2021-06-08T08:15:47.873252Z",
     "iopub.status.idle": "2021-06-08T08:15:47.875977Z",
     "shell.execute_reply": "2021-06-08T08:15:47.876411Z",
     "shell.execute_reply.started": "2021-06-08T08:02:36.269199Z"
    },
    "papermill": {
     "duration": 0.058239,
     "end_time": "2021-06-08T08:15:47.876594",
     "exception": false,
     "start_time": "2021-06-08T08:15:47.818355",
     "status": "completed"
    },
    "tags": []
   },
   "outputs": [],
   "source": [
    "def reduce_mem_usage(df, use_float16=False):\n",
    "    \n",
    "    start_mem = df.memory_usage().sum() / 1024**2\n",
    "    print('Memory usage of dataframe is {:.2f} MB'.format(start_mem))\n",
    "    \n",
    "    for col in df.columns:\n",
    "        if is_datetime(df[col]) or is_categorical_dtype(df[col]):\n",
    "            continue\n",
    "        col_type = df[col].dtype\n",
    "        \n",
    "        if col_type != object:\n",
    "            c_min = df[col].min()\n",
    "            c_max = df[col].max()\n",
    "            if str(col_type)[:3] == 'int':\n",
    "                if c_min > np.iinfo(np.int8).min and c_max < np.iinfo(np.int8).max:\n",
    "                    df[col] = df[col].astype(np.int8)\n",
    "                elif c_min > np.iinfo(np.int16).min and c_max < np.iinfo(np.int16).max:\n",
    "                    df[col] = df[col].astype(np.int16)\n",
    "                elif c_min > np.iinfo(np.int32).min and c_max < np.iinfo(np.int32).max:\n",
    "                    df[col] = df[col].astype(np.int32)\n",
    "                elif c_min > np.iinfo(np.int64).min and c_max < np.iinfo(np.int64).max:\n",
    "                    df[col] = df[col].astype(np.int64)  \n",
    "            else:\n",
    "                if use_float16 and c_min > np.finfo(np.float16).min and c_max < np.finfo(np.float16).max:\n",
    "                    df[col] = df[col].astype(np.float16)\n",
    "                elif c_min > np.finfo(np.float32).min and c_max < np.finfo(np.float32).max:\n",
    "                    df[col] = df[col].astype(np.float32)\n",
    "                else:\n",
    "                    df[col] = df[col].astype(np.float64)\n",
    "        else:\n",
    "            df[col] = df[col].astype('category')\n",
    "\n",
    "    end_mem = df.memory_usage().sum() / 1024**2\n",
    "    print('Memory usage after optimization is: {:.2f} MB'.format(end_mem))\n",
    "    print('Decreased by {:.1f}%'.format(100 * (start_mem - end_mem) / start_mem))\n",
    "    \n",
    "    return df"
   ]
  },
  {
   "cell_type": "code",
   "execution_count": 8,
   "id": "virgin-costume",
   "metadata": {
    "execution": {
     "iopub.execute_input": "2021-06-08T08:15:47.964737Z",
     "iopub.status.busy": "2021-06-08T08:15:47.964044Z",
     "iopub.status.idle": "2021-06-08T08:16:00.919136Z",
     "shell.execute_reply": "2021-06-08T08:16:00.919980Z",
     "shell.execute_reply.started": "2021-06-08T08:02:36.289878Z"
    },
    "papermill": {
     "duration": 13.004191,
     "end_time": "2021-06-08T08:16:00.920511",
     "exception": false,
     "start_time": "2021-06-08T08:15:47.916320",
     "status": "completed"
    },
    "tags": []
   },
   "outputs": [
    {
     "name": "stdout",
     "output_type": "stream",
     "text": [
      "Memory usage of dataframe is 616.95 MB\n",
      "Memory usage after optimization is: 173.84 MB\n",
      "Decreased by 71.8%\n",
      "Memory usage of dataframe is 1272.51 MB\n",
      "Memory usage after optimization is: 358.53 MB\n",
      "Decreased by 71.8%\n",
      "Memory usage of dataframe is 9.60 MB\n",
      "Memory usage after optimization is: 4.45 MB\n",
      "Decreased by 53.6%\n",
      "Memory usage of dataframe is 19.04 MB\n",
      "Memory usage after optimization is: 8.83 MB\n",
      "Decreased by 53.6%\n"
     ]
    }
   ],
   "source": [
    "train = reduce_mem_usage(train)\n",
    "test = reduce_mem_usage(test)\n",
    "\n",
    "weather_train = reduce_mem_usage(weather_train)\n",
    "weather_test = reduce_mem_usage(weather_test)"
   ]
  },
  {
   "cell_type": "code",
   "execution_count": 9,
   "id": "special-platform",
   "metadata": {
    "execution": {
     "iopub.execute_input": "2021-06-08T08:16:01.037138Z",
     "iopub.status.busy": "2021-06-08T08:16:01.036116Z",
     "iopub.status.idle": "2021-06-08T08:16:13.644535Z",
     "shell.execute_reply": "2021-06-08T08:16:13.643817Z",
     "shell.execute_reply.started": "2021-06-08T08:02:44.662206Z"
    },
    "papermill": {
     "duration": 12.666023,
     "end_time": "2021-06-08T08:16:13.644735",
     "exception": false,
     "start_time": "2021-06-08T08:16:00.978712",
     "status": "completed"
    },
    "tags": []
   },
   "outputs": [
    {
     "name": "stdout",
     "output_type": "stream",
     "text": [
      "(20216100, 9)\n"
     ]
    },
    {
     "data": {
      "text/html": [
       "<div>\n",
       "<style scoped>\n",
       "    .dataframe tbody tr th:only-of-type {\n",
       "        vertical-align: middle;\n",
       "    }\n",
       "\n",
       "    .dataframe tbody tr th {\n",
       "        vertical-align: top;\n",
       "    }\n",
       "\n",
       "    .dataframe thead th {\n",
       "        text-align: right;\n",
       "    }\n",
       "</style>\n",
       "<table border=\"1\" class=\"dataframe\">\n",
       "  <thead>\n",
       "    <tr style=\"text-align: right;\">\n",
       "      <th></th>\n",
       "      <th>building_id</th>\n",
       "      <th>meter</th>\n",
       "      <th>timestamp</th>\n",
       "      <th>meter_reading</th>\n",
       "      <th>site_id</th>\n",
       "      <th>primary_use</th>\n",
       "      <th>square_feet</th>\n",
       "      <th>year_built</th>\n",
       "      <th>floor_count</th>\n",
       "    </tr>\n",
       "  </thead>\n",
       "  <tbody>\n",
       "    <tr>\n",
       "      <th>0</th>\n",
       "      <td>0</td>\n",
       "      <td>0</td>\n",
       "      <td>2016-01-01 00:00:00</td>\n",
       "      <td>0.0</td>\n",
       "      <td>0</td>\n",
       "      <td>Education</td>\n",
       "      <td>7432</td>\n",
       "      <td>2008.0</td>\n",
       "      <td>NaN</td>\n",
       "    </tr>\n",
       "    <tr>\n",
       "      <th>1</th>\n",
       "      <td>1</td>\n",
       "      <td>0</td>\n",
       "      <td>2016-01-01 00:00:00</td>\n",
       "      <td>0.0</td>\n",
       "      <td>0</td>\n",
       "      <td>Education</td>\n",
       "      <td>2720</td>\n",
       "      <td>2004.0</td>\n",
       "      <td>NaN</td>\n",
       "    </tr>\n",
       "    <tr>\n",
       "      <th>2</th>\n",
       "      <td>2</td>\n",
       "      <td>0</td>\n",
       "      <td>2016-01-01 00:00:00</td>\n",
       "      <td>0.0</td>\n",
       "      <td>0</td>\n",
       "      <td>Education</td>\n",
       "      <td>5376</td>\n",
       "      <td>1991.0</td>\n",
       "      <td>NaN</td>\n",
       "    </tr>\n",
       "    <tr>\n",
       "      <th>3</th>\n",
       "      <td>3</td>\n",
       "      <td>0</td>\n",
       "      <td>2016-01-01 00:00:00</td>\n",
       "      <td>0.0</td>\n",
       "      <td>0</td>\n",
       "      <td>Education</td>\n",
       "      <td>23685</td>\n",
       "      <td>2002.0</td>\n",
       "      <td>NaN</td>\n",
       "    </tr>\n",
       "    <tr>\n",
       "      <th>4</th>\n",
       "      <td>4</td>\n",
       "      <td>0</td>\n",
       "      <td>2016-01-01 00:00:00</td>\n",
       "      <td>0.0</td>\n",
       "      <td>0</td>\n",
       "      <td>Education</td>\n",
       "      <td>116607</td>\n",
       "      <td>1975.0</td>\n",
       "      <td>NaN</td>\n",
       "    </tr>\n",
       "  </tbody>\n",
       "</table>\n",
       "</div>"
      ],
      "text/plain": [
       "   building_id  meter            timestamp  meter_reading  site_id  \\\n",
       "0            0      0  2016-01-01 00:00:00            0.0        0   \n",
       "1            1      0  2016-01-01 00:00:00            0.0        0   \n",
       "2            2      0  2016-01-01 00:00:00            0.0        0   \n",
       "3            3      0  2016-01-01 00:00:00            0.0        0   \n",
       "4            4      0  2016-01-01 00:00:00            0.0        0   \n",
       "\n",
       "  primary_use  square_feet  year_built  floor_count  \n",
       "0   Education         7432      2008.0          NaN  \n",
       "1   Education         2720      2004.0          NaN  \n",
       "2   Education         5376      1991.0          NaN  \n",
       "3   Education        23685      2002.0          NaN  \n",
       "4   Education       116607      1975.0          NaN  "
      ]
     },
     "execution_count": 9,
     "metadata": {},
     "output_type": "execute_result"
    }
   ],
   "source": [
    "train = train.merge(building, on='building_id', how='left')\n",
    "test = test.merge(building, on='building_id', how='left')\n",
    "\n",
    "print(train.shape)\n",
    "train.head()"
   ]
  },
  {
   "cell_type": "code",
   "execution_count": 10,
   "id": "meaningful-habitat",
   "metadata": {
    "execution": {
     "iopub.execute_input": "2021-06-08T08:16:13.950916Z",
     "iopub.status.busy": "2021-06-08T08:16:13.950079Z",
     "iopub.status.idle": "2021-06-08T08:16:13.954903Z",
     "shell.execute_reply": "2021-06-08T08:16:13.954268Z",
     "shell.execute_reply.started": "2021-06-08T08:02:55.657256Z"
    },
    "papermill": {
     "duration": 0.267691,
     "end_time": "2021-06-08T08:16:13.955058",
     "exception": false,
     "start_time": "2021-06-08T08:16:13.687367",
     "status": "completed"
    },
    "tags": []
   },
   "outputs": [
    {
     "data": {
      "text/plain": [
       "151"
      ]
     },
     "execution_count": 10,
     "metadata": {},
     "output_type": "execute_result"
    }
   ],
   "source": [
    "del building\n",
    "gc.collect()"
   ]
  },
  {
   "cell_type": "code",
   "execution_count": 11,
   "id": "incident-librarian",
   "metadata": {
    "execution": {
     "iopub.execute_input": "2021-06-08T08:16:14.045702Z",
     "iopub.status.busy": "2021-06-08T08:16:14.045045Z",
     "iopub.status.idle": "2021-06-08T08:16:28.974070Z",
     "shell.execute_reply": "2021-06-08T08:16:28.974730Z",
     "shell.execute_reply.started": "2021-06-08T08:02:55.797006Z"
    },
    "papermill": {
     "duration": 14.977611,
     "end_time": "2021-06-08T08:16:28.974943",
     "exception": false,
     "start_time": "2021-06-08T08:16:13.997332",
     "status": "completed"
    },
    "tags": []
   },
   "outputs": [
    {
     "name": "stdout",
     "output_type": "stream",
     "text": [
      "(20216100, 16)\n"
     ]
    },
    {
     "data": {
      "text/html": [
       "<div>\n",
       "<style scoped>\n",
       "    .dataframe tbody tr th:only-of-type {\n",
       "        vertical-align: middle;\n",
       "    }\n",
       "\n",
       "    .dataframe tbody tr th {\n",
       "        vertical-align: top;\n",
       "    }\n",
       "\n",
       "    .dataframe thead th {\n",
       "        text-align: right;\n",
       "    }\n",
       "</style>\n",
       "<table border=\"1\" class=\"dataframe\">\n",
       "  <thead>\n",
       "    <tr style=\"text-align: right;\">\n",
       "      <th></th>\n",
       "      <th>building_id</th>\n",
       "      <th>meter</th>\n",
       "      <th>timestamp</th>\n",
       "      <th>meter_reading</th>\n",
       "      <th>site_id</th>\n",
       "      <th>primary_use</th>\n",
       "      <th>square_feet</th>\n",
       "      <th>year_built</th>\n",
       "      <th>floor_count</th>\n",
       "      <th>air_temperature</th>\n",
       "      <th>cloud_coverage</th>\n",
       "      <th>dew_temperature</th>\n",
       "      <th>precip_depth_1_hr</th>\n",
       "      <th>sea_level_pressure</th>\n",
       "      <th>wind_direction</th>\n",
       "      <th>wind_speed</th>\n",
       "    </tr>\n",
       "  </thead>\n",
       "  <tbody>\n",
       "    <tr>\n",
       "      <th>0</th>\n",
       "      <td>0</td>\n",
       "      <td>0</td>\n",
       "      <td>2016-01-01 00:00:00</td>\n",
       "      <td>0.0</td>\n",
       "      <td>0</td>\n",
       "      <td>Education</td>\n",
       "      <td>7432</td>\n",
       "      <td>2008.0</td>\n",
       "      <td>NaN</td>\n",
       "      <td>25.0</td>\n",
       "      <td>6.0</td>\n",
       "      <td>20.0</td>\n",
       "      <td>NaN</td>\n",
       "      <td>1019.700012</td>\n",
       "      <td>0.0</td>\n",
       "      <td>0.0</td>\n",
       "    </tr>\n",
       "    <tr>\n",
       "      <th>1</th>\n",
       "      <td>1</td>\n",
       "      <td>0</td>\n",
       "      <td>2016-01-01 00:00:00</td>\n",
       "      <td>0.0</td>\n",
       "      <td>0</td>\n",
       "      <td>Education</td>\n",
       "      <td>2720</td>\n",
       "      <td>2004.0</td>\n",
       "      <td>NaN</td>\n",
       "      <td>25.0</td>\n",
       "      <td>6.0</td>\n",
       "      <td>20.0</td>\n",
       "      <td>NaN</td>\n",
       "      <td>1019.700012</td>\n",
       "      <td>0.0</td>\n",
       "      <td>0.0</td>\n",
       "    </tr>\n",
       "    <tr>\n",
       "      <th>2</th>\n",
       "      <td>2</td>\n",
       "      <td>0</td>\n",
       "      <td>2016-01-01 00:00:00</td>\n",
       "      <td>0.0</td>\n",
       "      <td>0</td>\n",
       "      <td>Education</td>\n",
       "      <td>5376</td>\n",
       "      <td>1991.0</td>\n",
       "      <td>NaN</td>\n",
       "      <td>25.0</td>\n",
       "      <td>6.0</td>\n",
       "      <td>20.0</td>\n",
       "      <td>NaN</td>\n",
       "      <td>1019.700012</td>\n",
       "      <td>0.0</td>\n",
       "      <td>0.0</td>\n",
       "    </tr>\n",
       "    <tr>\n",
       "      <th>3</th>\n",
       "      <td>3</td>\n",
       "      <td>0</td>\n",
       "      <td>2016-01-01 00:00:00</td>\n",
       "      <td>0.0</td>\n",
       "      <td>0</td>\n",
       "      <td>Education</td>\n",
       "      <td>23685</td>\n",
       "      <td>2002.0</td>\n",
       "      <td>NaN</td>\n",
       "      <td>25.0</td>\n",
       "      <td>6.0</td>\n",
       "      <td>20.0</td>\n",
       "      <td>NaN</td>\n",
       "      <td>1019.700012</td>\n",
       "      <td>0.0</td>\n",
       "      <td>0.0</td>\n",
       "    </tr>\n",
       "    <tr>\n",
       "      <th>4</th>\n",
       "      <td>4</td>\n",
       "      <td>0</td>\n",
       "      <td>2016-01-01 00:00:00</td>\n",
       "      <td>0.0</td>\n",
       "      <td>0</td>\n",
       "      <td>Education</td>\n",
       "      <td>116607</td>\n",
       "      <td>1975.0</td>\n",
       "      <td>NaN</td>\n",
       "      <td>25.0</td>\n",
       "      <td>6.0</td>\n",
       "      <td>20.0</td>\n",
       "      <td>NaN</td>\n",
       "      <td>1019.700012</td>\n",
       "      <td>0.0</td>\n",
       "      <td>0.0</td>\n",
       "    </tr>\n",
       "  </tbody>\n",
       "</table>\n",
       "</div>"
      ],
      "text/plain": [
       "   building_id  meter            timestamp  meter_reading  site_id  \\\n",
       "0            0      0  2016-01-01 00:00:00            0.0        0   \n",
       "1            1      0  2016-01-01 00:00:00            0.0        0   \n",
       "2            2      0  2016-01-01 00:00:00            0.0        0   \n",
       "3            3      0  2016-01-01 00:00:00            0.0        0   \n",
       "4            4      0  2016-01-01 00:00:00            0.0        0   \n",
       "\n",
       "  primary_use  square_feet  year_built  floor_count  air_temperature  \\\n",
       "0   Education         7432      2008.0          NaN             25.0   \n",
       "1   Education         2720      2004.0          NaN             25.0   \n",
       "2   Education         5376      1991.0          NaN             25.0   \n",
       "3   Education        23685      2002.0          NaN             25.0   \n",
       "4   Education       116607      1975.0          NaN             25.0   \n",
       "\n",
       "   cloud_coverage  dew_temperature  precip_depth_1_hr  sea_level_pressure  \\\n",
       "0             6.0             20.0                NaN         1019.700012   \n",
       "1             6.0             20.0                NaN         1019.700012   \n",
       "2             6.0             20.0                NaN         1019.700012   \n",
       "3             6.0             20.0                NaN         1019.700012   \n",
       "4             6.0             20.0                NaN         1019.700012   \n",
       "\n",
       "   wind_direction  wind_speed  \n",
       "0             0.0         0.0  \n",
       "1             0.0         0.0  \n",
       "2             0.0         0.0  \n",
       "3             0.0         0.0  \n",
       "4             0.0         0.0  "
      ]
     },
     "execution_count": 11,
     "metadata": {},
     "output_type": "execute_result"
    }
   ],
   "source": [
    "train = train.merge(weather_train, on=['site_id', 'timestamp'], how='left')\n",
    "test = test.merge(weather_test, on=['site_id', 'timestamp'], how='left')\n",
    "\n",
    "print(train.shape)\n",
    "train.head()"
   ]
  },
  {
   "cell_type": "code",
   "execution_count": 12,
   "id": "signed-bench",
   "metadata": {
    "execution": {
     "iopub.execute_input": "2021-06-08T08:16:29.184877Z",
     "iopub.status.busy": "2021-06-08T08:16:29.184205Z",
     "iopub.status.idle": "2021-06-08T08:16:29.190677Z",
     "shell.execute_reply": "2021-06-08T08:16:29.190188Z",
     "shell.execute_reply.started": "2021-06-08T08:03:08.630190Z"
    },
    "papermill": {
     "duration": 0.173342,
     "end_time": "2021-06-08T08:16:29.190811",
     "exception": false,
     "start_time": "2021-06-08T08:16:29.017469",
     "status": "completed"
    },
    "tags": []
   },
   "outputs": [
    {
     "data": {
      "text/plain": [
       "40"
      ]
     },
     "execution_count": 12,
     "metadata": {},
     "output_type": "execute_result"
    }
   ],
   "source": [
    "del weather_train, weather_test\n",
    "gc.collect()"
   ]
  },
  {
   "cell_type": "code",
   "execution_count": 13,
   "id": "unlikely-slope",
   "metadata": {
    "execution": {
     "iopub.execute_input": "2021-06-08T08:16:29.281215Z",
     "iopub.status.busy": "2021-06-08T08:16:29.280621Z",
     "iopub.status.idle": "2021-06-08T08:16:44.251552Z",
     "shell.execute_reply": "2021-06-08T08:16:44.250895Z",
     "shell.execute_reply.started": "2021-06-08T08:03:08.764105Z"
    },
    "papermill": {
     "duration": 15.018592,
     "end_time": "2021-06-08T08:16:44.251686",
     "exception": false,
     "start_time": "2021-06-08T08:16:29.233094",
     "status": "completed"
    },
    "tags": []
   },
   "outputs": [
    {
     "name": "stdout",
     "output_type": "stream",
     "text": [
      "Memory usage of dataframe is 1639.08 MB\n",
      "Memory usage after optimization is: 1137.81 MB\n",
      "Decreased by 30.6%\n",
      "Memory usage of dataframe is 3380.74 MB\n",
      "Memory usage after optimization is: 2346.83 MB\n",
      "Decreased by 30.6%\n"
     ]
    }
   ],
   "source": [
    "train = reduce_mem_usage(train)\n",
    "test = reduce_mem_usage(test)"
   ]
  },
  {
   "cell_type": "markdown",
   "id": "international-yukon",
   "metadata": {
    "papermill": {
     "duration": 0.042243,
     "end_time": "2021-06-08T08:16:44.336114",
     "exception": false,
     "start_time": "2021-06-08T08:16:44.293871",
     "status": "completed"
    },
    "tags": []
   },
   "source": [
    "# Visualization"
   ]
  },
  {
   "cell_type": "code",
   "execution_count": 14,
   "id": "celtic-wednesday",
   "metadata": {
    "execution": {
     "iopub.execute_input": "2021-06-08T08:16:44.428808Z",
     "iopub.status.busy": "2021-06-08T08:16:44.427580Z",
     "iopub.status.idle": "2021-06-08T08:16:47.650432Z",
     "shell.execute_reply": "2021-06-08T08:16:47.649845Z",
     "shell.execute_reply.started": "2021-06-08T08:03:24.056882Z"
    },
    "papermill": {
     "duration": 3.271348,
     "end_time": "2021-06-08T08:16:47.650620",
     "exception": false,
     "start_time": "2021-06-08T08:16:44.379272",
     "status": "completed"
    },
    "tags": []
   },
   "outputs": [],
   "source": [
    "train['timestamp'] = pd.to_datetime(train['timestamp'])\n",
    "test['timestamp'] = pd.to_datetime(test['timestamp'])"
   ]
  },
  {
   "cell_type": "code",
   "execution_count": 15,
   "id": "moved-movie",
   "metadata": {
    "execution": {
     "iopub.execute_input": "2021-06-08T08:16:47.742757Z",
     "iopub.status.busy": "2021-06-08T08:16:47.742110Z",
     "iopub.status.idle": "2021-06-08T08:16:47.744969Z",
     "shell.execute_reply": "2021-06-08T08:16:47.744452Z",
     "shell.execute_reply.started": "2021-06-08T08:03:27.251149Z"
    },
    "papermill": {
     "duration": 0.050826,
     "end_time": "2021-06-08T08:16:47.745105",
     "exception": false,
     "start_time": "2021-06-08T08:16:47.694279",
     "status": "completed"
    },
    "tags": []
   },
   "outputs": [],
   "source": [
    "# train[train['site_id'] == 0].plot('timestamp', 'meter_reading')"
   ]
  },
  {
   "cell_type": "code",
   "execution_count": 16,
   "id": "sealed-groove",
   "metadata": {
    "execution": {
     "iopub.execute_input": "2021-06-08T08:16:47.834969Z",
     "iopub.status.busy": "2021-06-08T08:16:47.834368Z",
     "iopub.status.idle": "2021-06-08T08:16:47.837338Z",
     "shell.execute_reply": "2021-06-08T08:16:47.837838Z",
     "shell.execute_reply.started": "2021-06-08T08:03:27.257104Z"
    },
    "papermill": {
     "duration": 0.04939,
     "end_time": "2021-06-08T08:16:47.837988",
     "exception": false,
     "start_time": "2021-06-08T08:16:47.788598",
     "status": "completed"
    },
    "tags": []
   },
   "outputs": [],
   "source": [
    "# train[train['site_id'] == 1].plot('timestamp', 'meter_reading')"
   ]
  },
  {
   "cell_type": "code",
   "execution_count": 17,
   "id": "naval-empire",
   "metadata": {
    "execution": {
     "iopub.execute_input": "2021-06-08T08:16:47.927857Z",
     "iopub.status.busy": "2021-06-08T08:16:47.927268Z",
     "iopub.status.idle": "2021-06-08T08:16:47.930341Z",
     "shell.execute_reply": "2021-06-08T08:16:47.930877Z",
     "shell.execute_reply.started": "2021-06-08T08:03:27.272180Z"
    },
    "papermill": {
     "duration": 0.049617,
     "end_time": "2021-06-08T08:16:47.931037",
     "exception": false,
     "start_time": "2021-06-08T08:16:47.881420",
     "status": "completed"
    },
    "tags": []
   },
   "outputs": [],
   "source": [
    "# train[train['site_id'] == 2].plot('timestamp', 'meter_reading')"
   ]
  },
  {
   "cell_type": "markdown",
   "id": "likely-offering",
   "metadata": {
    "papermill": {
     "duration": 0.043518,
     "end_time": "2021-06-08T08:16:48.019332",
     "exception": false,
     "start_time": "2021-06-08T08:16:47.975814",
     "status": "completed"
    },
    "tags": []
   },
   "source": [
    "# Feature Engineering"
   ]
  },
  {
   "cell_type": "code",
   "execution_count": 18,
   "id": "complex-mileage",
   "metadata": {
    "execution": {
     "iopub.execute_input": "2021-06-08T08:16:48.110418Z",
     "iopub.status.busy": "2021-06-08T08:16:48.109829Z",
     "iopub.status.idle": "2021-06-08T08:16:52.104409Z",
     "shell.execute_reply": "2021-06-08T08:16:52.105301Z",
     "shell.execute_reply.started": "2021-06-08T08:03:27.286071Z"
    },
    "papermill": {
     "duration": 4.042165,
     "end_time": "2021-06-08T08:16:52.105595",
     "exception": false,
     "start_time": "2021-06-08T08:16:48.063430",
     "status": "completed"
    },
    "tags": []
   },
   "outputs": [
    {
     "name": "stdout",
     "output_type": "stream",
     "text": [
      "(20216100, 18)\n"
     ]
    },
    {
     "data": {
      "text/html": [
       "<div>\n",
       "<style scoped>\n",
       "    .dataframe tbody tr th:only-of-type {\n",
       "        vertical-align: middle;\n",
       "    }\n",
       "\n",
       "    .dataframe tbody tr th {\n",
       "        vertical-align: top;\n",
       "    }\n",
       "\n",
       "    .dataframe thead th {\n",
       "        text-align: right;\n",
       "    }\n",
       "</style>\n",
       "<table border=\"1\" class=\"dataframe\">\n",
       "  <thead>\n",
       "    <tr style=\"text-align: right;\">\n",
       "      <th></th>\n",
       "      <th>building_id</th>\n",
       "      <th>meter</th>\n",
       "      <th>timestamp</th>\n",
       "      <th>meter_reading</th>\n",
       "      <th>site_id</th>\n",
       "      <th>primary_use</th>\n",
       "      <th>square_feet</th>\n",
       "      <th>year_built</th>\n",
       "      <th>floor_count</th>\n",
       "      <th>air_temperature</th>\n",
       "      <th>cloud_coverage</th>\n",
       "      <th>dew_temperature</th>\n",
       "      <th>precip_depth_1_hr</th>\n",
       "      <th>sea_level_pressure</th>\n",
       "      <th>wind_direction</th>\n",
       "      <th>wind_speed</th>\n",
       "      <th>day</th>\n",
       "      <th>weekend</th>\n",
       "    </tr>\n",
       "  </thead>\n",
       "  <tbody>\n",
       "    <tr>\n",
       "      <th>0</th>\n",
       "      <td>0</td>\n",
       "      <td>0</td>\n",
       "      <td>2016-01-01</td>\n",
       "      <td>0.0</td>\n",
       "      <td>0</td>\n",
       "      <td>Education</td>\n",
       "      <td>7432</td>\n",
       "      <td>2008.0</td>\n",
       "      <td>NaN</td>\n",
       "      <td>25.0</td>\n",
       "      <td>6.0</td>\n",
       "      <td>20.0</td>\n",
       "      <td>NaN</td>\n",
       "      <td>1019.700012</td>\n",
       "      <td>0.0</td>\n",
       "      <td>0.0</td>\n",
       "      <td>1</td>\n",
       "      <td>4</td>\n",
       "    </tr>\n",
       "    <tr>\n",
       "      <th>1</th>\n",
       "      <td>1</td>\n",
       "      <td>0</td>\n",
       "      <td>2016-01-01</td>\n",
       "      <td>0.0</td>\n",
       "      <td>0</td>\n",
       "      <td>Education</td>\n",
       "      <td>2720</td>\n",
       "      <td>2004.0</td>\n",
       "      <td>NaN</td>\n",
       "      <td>25.0</td>\n",
       "      <td>6.0</td>\n",
       "      <td>20.0</td>\n",
       "      <td>NaN</td>\n",
       "      <td>1019.700012</td>\n",
       "      <td>0.0</td>\n",
       "      <td>0.0</td>\n",
       "      <td>1</td>\n",
       "      <td>4</td>\n",
       "    </tr>\n",
       "    <tr>\n",
       "      <th>2</th>\n",
       "      <td>2</td>\n",
       "      <td>0</td>\n",
       "      <td>2016-01-01</td>\n",
       "      <td>0.0</td>\n",
       "      <td>0</td>\n",
       "      <td>Education</td>\n",
       "      <td>5376</td>\n",
       "      <td>1991.0</td>\n",
       "      <td>NaN</td>\n",
       "      <td>25.0</td>\n",
       "      <td>6.0</td>\n",
       "      <td>20.0</td>\n",
       "      <td>NaN</td>\n",
       "      <td>1019.700012</td>\n",
       "      <td>0.0</td>\n",
       "      <td>0.0</td>\n",
       "      <td>1</td>\n",
       "      <td>4</td>\n",
       "    </tr>\n",
       "    <tr>\n",
       "      <th>3</th>\n",
       "      <td>3</td>\n",
       "      <td>0</td>\n",
       "      <td>2016-01-01</td>\n",
       "      <td>0.0</td>\n",
       "      <td>0</td>\n",
       "      <td>Education</td>\n",
       "      <td>23685</td>\n",
       "      <td>2002.0</td>\n",
       "      <td>NaN</td>\n",
       "      <td>25.0</td>\n",
       "      <td>6.0</td>\n",
       "      <td>20.0</td>\n",
       "      <td>NaN</td>\n",
       "      <td>1019.700012</td>\n",
       "      <td>0.0</td>\n",
       "      <td>0.0</td>\n",
       "      <td>1</td>\n",
       "      <td>4</td>\n",
       "    </tr>\n",
       "    <tr>\n",
       "      <th>4</th>\n",
       "      <td>4</td>\n",
       "      <td>0</td>\n",
       "      <td>2016-01-01</td>\n",
       "      <td>0.0</td>\n",
       "      <td>0</td>\n",
       "      <td>Education</td>\n",
       "      <td>116607</td>\n",
       "      <td>1975.0</td>\n",
       "      <td>NaN</td>\n",
       "      <td>25.0</td>\n",
       "      <td>6.0</td>\n",
       "      <td>20.0</td>\n",
       "      <td>NaN</td>\n",
       "      <td>1019.700012</td>\n",
       "      <td>0.0</td>\n",
       "      <td>0.0</td>\n",
       "      <td>1</td>\n",
       "      <td>4</td>\n",
       "    </tr>\n",
       "  </tbody>\n",
       "</table>\n",
       "</div>"
      ],
      "text/plain": [
       "   building_id  meter  timestamp  meter_reading  site_id primary_use  \\\n",
       "0            0      0 2016-01-01            0.0        0   Education   \n",
       "1            1      0 2016-01-01            0.0        0   Education   \n",
       "2            2      0 2016-01-01            0.0        0   Education   \n",
       "3            3      0 2016-01-01            0.0        0   Education   \n",
       "4            4      0 2016-01-01            0.0        0   Education   \n",
       "\n",
       "   square_feet  year_built  floor_count  air_temperature  cloud_coverage  \\\n",
       "0         7432      2008.0          NaN             25.0             6.0   \n",
       "1         2720      2004.0          NaN             25.0             6.0   \n",
       "2         5376      1991.0          NaN             25.0             6.0   \n",
       "3        23685      2002.0          NaN             25.0             6.0   \n",
       "4       116607      1975.0          NaN             25.0             6.0   \n",
       "\n",
       "   dew_temperature  precip_depth_1_hr  sea_level_pressure  wind_direction  \\\n",
       "0             20.0                NaN         1019.700012             0.0   \n",
       "1             20.0                NaN         1019.700012             0.0   \n",
       "2             20.0                NaN         1019.700012             0.0   \n",
       "3             20.0                NaN         1019.700012             0.0   \n",
       "4             20.0                NaN         1019.700012             0.0   \n",
       "\n",
       "   wind_speed  day  weekend  \n",
       "0         0.0    1        4  \n",
       "1         0.0    1        4  \n",
       "2         0.0    1        4  \n",
       "3         0.0    1        4  \n",
       "4         0.0    1        4  "
      ]
     },
     "execution_count": 18,
     "metadata": {},
     "output_type": "execute_result"
    }
   ],
   "source": [
    "# train['hour'] = train['timestamp'].dt.hour\n",
    "train['day'] = train['timestamp'].dt.day\n",
    "train['weekend'] = train['timestamp'].dt.weekday\n",
    "# train['month'] = train['timestamp'].dt.month\n",
    "\n",
    "print(train.shape)\n",
    "train.head()"
   ]
  },
  {
   "cell_type": "markdown",
   "id": "hindu-feeding",
   "metadata": {
    "papermill": {
     "duration": 0.043256,
     "end_time": "2021-06-08T08:16:52.194343",
     "exception": false,
     "start_time": "2021-06-08T08:16:52.151087",
     "status": "completed"
    },
    "tags": []
   },
   "source": [
    "# Preprocess"
   ]
  },
  {
   "cell_type": "code",
   "execution_count": 19,
   "id": "interior-match",
   "metadata": {
    "execution": {
     "iopub.execute_input": "2021-06-08T08:16:52.287108Z",
     "iopub.status.busy": "2021-06-08T08:16:52.286496Z",
     "iopub.status.idle": "2021-06-08T08:16:53.715399Z",
     "shell.execute_reply": "2021-06-08T08:16:53.714892Z",
     "shell.execute_reply.started": "2021-06-08T08:03:31.348191Z"
    },
    "papermill": {
     "duration": 1.477647,
     "end_time": "2021-06-08T08:16:53.715564",
     "exception": false,
     "start_time": "2021-06-08T08:16:52.237917",
     "status": "completed"
    },
    "tags": []
   },
   "outputs": [
    {
     "data": {
      "text/plain": [
       "131"
      ]
     },
     "execution_count": 19,
     "metadata": {},
     "output_type": "execute_result"
    }
   ],
   "source": [
    "drop_col = ['timestamp',\n",
    "            'site_id',\n",
    "            'precip_depth_1_hr',\n",
    "            'sea_level_pressure',\n",
    "            'wind_direction',\n",
    "            'wind_speed',\n",
    "            'floor_count']\n",
    "            \n",
    "train = train.drop(drop_col, axis = 1)\n",
    "\n",
    "gc.collect()"
   ]
  },
  {
   "cell_type": "code",
   "execution_count": 20,
   "id": "answering-conversation",
   "metadata": {
    "execution": {
     "iopub.execute_input": "2021-06-08T08:16:53.809267Z",
     "iopub.status.busy": "2021-06-08T08:16:53.808662Z",
     "iopub.status.idle": "2021-06-08T08:17:00.481865Z",
     "shell.execute_reply": "2021-06-08T08:17:00.481236Z",
     "shell.execute_reply.started": "2021-06-08T08:03:32.758843Z"
    },
    "papermill": {
     "duration": 6.721886,
     "end_time": "2021-06-08T08:17:00.482001",
     "exception": false,
     "start_time": "2021-06-08T08:16:53.760115",
     "status": "completed"
    },
    "tags": []
   },
   "outputs": [],
   "source": [
    "le = LabelEncoder()\n",
    "train['primary_use'] = le.fit_transform(train['primary_use'])"
   ]
  },
  {
   "cell_type": "code",
   "execution_count": 21,
   "id": "contemporary-ribbon",
   "metadata": {
    "execution": {
     "iopub.execute_input": "2021-06-08T08:17:00.575391Z",
     "iopub.status.busy": "2021-06-08T08:17:00.574784Z",
     "iopub.status.idle": "2021-06-08T08:17:01.765089Z",
     "shell.execute_reply": "2021-06-08T08:17:01.765579Z",
     "shell.execute_reply.started": "2021-06-08T08:03:40.062580Z"
    },
    "papermill": {
     "duration": 1.239651,
     "end_time": "2021-06-08T08:17:01.765754",
     "exception": false,
     "start_time": "2021-06-08T08:17:00.526103",
     "status": "completed"
    },
    "tags": []
   },
   "outputs": [
    {
     "name": "stdout",
     "output_type": "stream",
     "text": [
      "(20216100, 10)\n"
     ]
    },
    {
     "data": {
      "text/html": [
       "<div>\n",
       "<style scoped>\n",
       "    .dataframe tbody tr th:only-of-type {\n",
       "        vertical-align: middle;\n",
       "    }\n",
       "\n",
       "    .dataframe tbody tr th {\n",
       "        vertical-align: top;\n",
       "    }\n",
       "\n",
       "    .dataframe thead th {\n",
       "        text-align: right;\n",
       "    }\n",
       "</style>\n",
       "<table border=\"1\" class=\"dataframe\">\n",
       "  <thead>\n",
       "    <tr style=\"text-align: right;\">\n",
       "      <th></th>\n",
       "      <th>building_id</th>\n",
       "      <th>meter</th>\n",
       "      <th>primary_use</th>\n",
       "      <th>square_feet</th>\n",
       "      <th>year_built</th>\n",
       "      <th>air_temperature</th>\n",
       "      <th>cloud_coverage</th>\n",
       "      <th>dew_temperature</th>\n",
       "      <th>day</th>\n",
       "      <th>weekend</th>\n",
       "    </tr>\n",
       "  </thead>\n",
       "  <tbody>\n",
       "    <tr>\n",
       "      <th>0</th>\n",
       "      <td>0</td>\n",
       "      <td>0</td>\n",
       "      <td>0</td>\n",
       "      <td>7432</td>\n",
       "      <td>2008.0</td>\n",
       "      <td>25.0</td>\n",
       "      <td>6.0</td>\n",
       "      <td>20.0</td>\n",
       "      <td>1</td>\n",
       "      <td>4</td>\n",
       "    </tr>\n",
       "    <tr>\n",
       "      <th>1</th>\n",
       "      <td>1</td>\n",
       "      <td>0</td>\n",
       "      <td>0</td>\n",
       "      <td>2720</td>\n",
       "      <td>2004.0</td>\n",
       "      <td>25.0</td>\n",
       "      <td>6.0</td>\n",
       "      <td>20.0</td>\n",
       "      <td>1</td>\n",
       "      <td>4</td>\n",
       "    </tr>\n",
       "    <tr>\n",
       "      <th>2</th>\n",
       "      <td>2</td>\n",
       "      <td>0</td>\n",
       "      <td>0</td>\n",
       "      <td>5376</td>\n",
       "      <td>1991.0</td>\n",
       "      <td>25.0</td>\n",
       "      <td>6.0</td>\n",
       "      <td>20.0</td>\n",
       "      <td>1</td>\n",
       "      <td>4</td>\n",
       "    </tr>\n",
       "    <tr>\n",
       "      <th>3</th>\n",
       "      <td>3</td>\n",
       "      <td>0</td>\n",
       "      <td>0</td>\n",
       "      <td>23685</td>\n",
       "      <td>2002.0</td>\n",
       "      <td>25.0</td>\n",
       "      <td>6.0</td>\n",
       "      <td>20.0</td>\n",
       "      <td>1</td>\n",
       "      <td>4</td>\n",
       "    </tr>\n",
       "    <tr>\n",
       "      <th>4</th>\n",
       "      <td>4</td>\n",
       "      <td>0</td>\n",
       "      <td>0</td>\n",
       "      <td>116607</td>\n",
       "      <td>1975.0</td>\n",
       "      <td>25.0</td>\n",
       "      <td>6.0</td>\n",
       "      <td>20.0</td>\n",
       "      <td>1</td>\n",
       "      <td>4</td>\n",
       "    </tr>\n",
       "  </tbody>\n",
       "</table>\n",
       "</div>"
      ],
      "text/plain": [
       "   building_id  meter  primary_use  square_feet  year_built  air_temperature  \\\n",
       "0            0      0            0         7432      2008.0             25.0   \n",
       "1            1      0            0         2720      2004.0             25.0   \n",
       "2            2      0            0         5376      1991.0             25.0   \n",
       "3            3      0            0        23685      2002.0             25.0   \n",
       "4            4      0            0       116607      1975.0             25.0   \n",
       "\n",
       "   cloud_coverage  dew_temperature  day  weekend  \n",
       "0             6.0             20.0    1        4  \n",
       "1             6.0             20.0    1        4  \n",
       "2             6.0             20.0    1        4  \n",
       "3             6.0             20.0    1        4  \n",
       "4             6.0             20.0    1        4  "
      ]
     },
     "execution_count": 21,
     "metadata": {},
     "output_type": "execute_result"
    }
   ],
   "source": [
    "target = np.log1p(train['meter_reading'])\n",
    "train = train.drop(['meter_reading'], axis=1)\n",
    "\n",
    "print(train.shape)\n",
    "train.head()"
   ]
  },
  {
   "cell_type": "markdown",
   "id": "cross-negative",
   "metadata": {
    "papermill": {
     "duration": 0.044983,
     "end_time": "2021-06-08T08:17:01.856936",
     "exception": false,
     "start_time": "2021-06-08T08:17:01.811953",
     "status": "completed"
    },
    "tags": []
   },
   "source": [
    "# Modeling"
   ]
  },
  {
   "cell_type": "code",
   "execution_count": 22,
   "id": "agreed-kingston",
   "metadata": {
    "execution": {
     "iopub.execute_input": "2021-06-08T08:17:01.954469Z",
     "iopub.status.busy": "2021-06-08T08:17:01.953605Z",
     "iopub.status.idle": "2021-06-08T08:17:01.957069Z",
     "shell.execute_reply": "2021-06-08T08:17:01.957598Z",
     "shell.execute_reply.started": "2021-06-08T08:03:41.265972Z"
    },
    "papermill": {
     "duration": 0.05574,
     "end_time": "2021-06-08T08:17:01.957768",
     "exception": false,
     "start_time": "2021-06-08T08:17:01.902028",
     "status": "completed"
    },
    "tags": []
   },
   "outputs": [
    {
     "data": {
      "text/plain": [
       "\"\\nX_tr, X_val, y_tr, y_val = train_test_split(train, target, test_size=0.2, random_state=666)\\n\\ndef create_model(trial):\\n    num_leaves = trial.suggest_int('num_leaves', 2, 31)\\n    n_estimators = trial.suggest_int('n_estimators', 50, 300)\\n    learning_rate = trial.suggest_uniform('learning_rate', 0.0001, 0.99)\\n    max_depth = trial.suggest_int('max_depth', 3, 8)\\n    min_child_samples = trial.suggest_int('min_child_samples', 100, 1200)\\n    min_data_in_leaf = trial.suggest_int('min_data_in_leaf', 5, 90)\\n    bagging_freq = trial.suggest_int('bagging_freq', 1, 7)\\n    bagging_fraction = trial.suggest_uniform('bagging_fraction', 0.0001, 1.0)\\n    feature_fraction = trial.suggest_uniform('feature_fraction', 0.0001, 1.0)\\n    subsample = trial.suggest_uniform('subsample', 0.1, 1.0)\\n    colsample_bytree = trial.suggest_uniform('colsample_bytree', 0.1, 1.0)\\n    \\n    model = lgb.LGBMRegressor(\\n        num_leaves=num_leaves,\\n        n_estimators=n_estimators,\\n        learning_rate=learning_rate,\\n        max_depth=max_depth, \\n        min_child_samples=min_child_samples, \\n        min_data_in_leaf=min_data_in_leaf,\\n        bagging_freq=bagging_freq,\\n        bagging_fraction=bagging_fraction,\\n        feature_fraction=feature_fraction,\\n        subsample=subsample,\\n        colsample_bytree=colsample_bytree,\\n        metric='rsme',\\n        random_state=666)\\n    return model\\n\\ndef objective(trial):\\n    model = create_model(trial)\\n    model.fit(X_tr, y_tr)\\n    y_pred = model.predict(X_val)\\n    score = 1 / np.sqrt(mean_squared_error(y_pred, y_val))\\n    return score\\n\\nstudy = optuna.create_study(direction='maximize')\\nstudy.optimize(objective, n_trials=40)\\nparams = study.best_params\\nprint(params)\\n\""
      ]
     },
     "execution_count": 22,
     "metadata": {},
     "output_type": "execute_result"
    }
   ],
   "source": [
    "'''\n",
    "X_tr, X_val, y_tr, y_val = train_test_split(train, target, test_size=0.2, random_state=666)\n",
    "\n",
    "def create_model(trial):\n",
    "    num_leaves = trial.suggest_int('num_leaves', 2, 31)\n",
    "    n_estimators = trial.suggest_int('n_estimators', 50, 300)\n",
    "    learning_rate = trial.suggest_uniform('learning_rate', 0.0001, 0.99)\n",
    "    max_depth = trial.suggest_int('max_depth', 3, 8)\n",
    "    min_child_samples = trial.suggest_int('min_child_samples', 100, 1200)\n",
    "    min_data_in_leaf = trial.suggest_int('min_data_in_leaf', 5, 90)\n",
    "    bagging_freq = trial.suggest_int('bagging_freq', 1, 7)\n",
    "    bagging_fraction = trial.suggest_uniform('bagging_fraction', 0.0001, 1.0)\n",
    "    feature_fraction = trial.suggest_uniform('feature_fraction', 0.0001, 1.0)\n",
    "    subsample = trial.suggest_uniform('subsample', 0.1, 1.0)\n",
    "    colsample_bytree = trial.suggest_uniform('colsample_bytree', 0.1, 1.0)\n",
    "    \n",
    "    model = lgb.LGBMRegressor(\n",
    "        num_leaves=num_leaves,\n",
    "        n_estimators=n_estimators,\n",
    "        learning_rate=learning_rate,\n",
    "        max_depth=max_depth, \n",
    "        min_child_samples=min_child_samples, \n",
    "        min_data_in_leaf=min_data_in_leaf,\n",
    "        bagging_freq=bagging_freq,\n",
    "        bagging_fraction=bagging_fraction,\n",
    "        feature_fraction=feature_fraction,\n",
    "        subsample=subsample,\n",
    "        colsample_bytree=colsample_bytree,\n",
    "        metric='rsme',\n",
    "        random_state=666)\n",
    "    return model\n",
    "\n",
    "def objective(trial):\n",
    "    model = create_model(trial)\n",
    "    model.fit(X_tr, y_tr)\n",
    "    y_pred = model.predict(X_val)\n",
    "    score = 1 / np.sqrt(mean_squared_error(y_pred, y_val))\n",
    "    return score\n",
    "\n",
    "study = optuna.create_study(direction='maximize')\n",
    "study.optimize(objective, n_trials=40)\n",
    "params = study.best_params\n",
    "print(params)\n",
    "'''"
   ]
  },
  {
   "cell_type": "code",
   "execution_count": 23,
   "id": "jewish-width",
   "metadata": {
    "execution": {
     "iopub.execute_input": "2021-06-08T08:17:02.052355Z",
     "iopub.status.busy": "2021-06-08T08:17:02.051435Z",
     "iopub.status.idle": "2021-06-08T08:17:02.056551Z",
     "shell.execute_reply": "2021-06-08T08:17:02.056994Z",
     "shell.execute_reply.started": "2021-06-08T08:03:41.279087Z"
    },
    "papermill": {
     "duration": 0.054052,
     "end_time": "2021-06-08T08:17:02.057158",
     "exception": false,
     "start_time": "2021-06-08T08:17:02.003106",
     "status": "completed"
    },
    "tags": []
   },
   "outputs": [],
   "source": [
    "params = {'num_leaves': 11,\n",
    "          'n_estimators': 292,\n",
    "          'learning_rate': 0.8640663767978793,\n",
    "          'max_depth': 7,\n",
    "          'min_child_samples': 597,\n",
    "          'min_data_in_leaf': 39,\n",
    "          'bagging_freq': 3,\n",
    "          'bagging_fraction': 0.849866403131204,\n",
    "          'feature_fraction': 0.015663657484555338,\n",
    "          'subsample': 0.6047292499624366,\n",
    "          'colsample_bytree': 0.9865686659484679,\n",
    "          'metric': 'rsme',\n",
    "          'random_state': 666}"
   ]
  },
  {
   "cell_type": "code",
   "execution_count": 24,
   "id": "internal-browser",
   "metadata": {
    "execution": {
     "iopub.execute_input": "2021-06-08T08:17:02.152980Z",
     "iopub.status.busy": "2021-06-08T08:17:02.152031Z",
     "iopub.status.idle": "2021-06-08T08:20:03.719504Z",
     "shell.execute_reply": "2021-06-08T08:20:03.718934Z",
     "shell.execute_reply.started": "2021-06-08T08:03:41.294581Z"
    },
    "papermill": {
     "duration": 181.616871,
     "end_time": "2021-06-08T08:20:03.719707",
     "exception": false,
     "start_time": "2021-06-08T08:17:02.102836",
     "status": "completed"
    },
    "tags": []
   },
   "outputs": [
    {
     "name": "stdout",
     "output_type": "stream",
     "text": [
      "[LightGBM] [Warning] bagging_fraction is set=0.849866403131204, subsample=0.6047292499624366 will be ignored. Current value: bagging_fraction=0.849866403131204\n",
      "[LightGBM] [Warning] feature_fraction is set=0.015663657484555338, colsample_bytree=0.9865686659484679 will be ignored. Current value: feature_fraction=0.015663657484555338\n",
      "[LightGBM] [Warning] bagging_freq is set=3, subsample_freq=0 will be ignored. Current value: bagging_freq=3\n",
      "[LightGBM] [Warning] min_data_in_leaf is set=39, min_child_samples=597 will be ignored. Current value: min_data_in_leaf=39\n",
      "CPU times: user 11min 18s, sys: 3.53 s, total: 11min 22s\n",
      "Wall time: 3min 1s\n"
     ]
    },
    {
     "data": {
      "text/plain": [
       "LGBMRegressor(bagging_fraction=0.849866403131204, bagging_freq=3,\n",
       "              colsample_bytree=0.9865686659484679,\n",
       "              feature_fraction=0.015663657484555338,\n",
       "              learning_rate=0.8640663767978793, max_depth=7, metric='rsme',\n",
       "              min_child_samples=597, min_data_in_leaf=39, n_estimators=292,\n",
       "              num_leaves=11, random_state=666, subsample=0.6047292499624366)"
      ]
     },
     "execution_count": 24,
     "metadata": {},
     "output_type": "execute_result"
    }
   ],
   "source": [
    "%%time\n",
    "\n",
    "cls = lgb.LGBMRegressor(**params)\n",
    "cls.fit(train, target)"
   ]
  },
  {
   "cell_type": "code",
   "execution_count": 25,
   "id": "disciplinary-crash",
   "metadata": {
    "execution": {
     "iopub.execute_input": "2021-06-08T08:20:03.952671Z",
     "iopub.status.busy": "2021-06-08T08:20:03.951746Z",
     "iopub.status.idle": "2021-06-08T08:20:03.955520Z",
     "shell.execute_reply": "2021-06-08T08:20:03.956052Z",
     "shell.execute_reply.started": "2021-06-08T08:06:51.413755Z"
    },
    "papermill": {
     "duration": 0.189382,
     "end_time": "2021-06-08T08:20:03.956231",
     "exception": false,
     "start_time": "2021-06-08T08:20:03.766849",
     "status": "completed"
    },
    "tags": []
   },
   "outputs": [
    {
     "data": {
      "text/plain": [
       "43"
      ]
     },
     "execution_count": 25,
     "metadata": {},
     "output_type": "execute_result"
    }
   ],
   "source": [
    "del train, target, params\n",
    "gc.collect()"
   ]
  },
  {
   "cell_type": "markdown",
   "id": "empty-payroll",
   "metadata": {
    "papermill": {
     "duration": 0.04666,
     "end_time": "2021-06-08T08:20:04.050501",
     "exception": false,
     "start_time": "2021-06-08T08:20:04.003841",
     "status": "completed"
    },
    "tags": []
   },
   "source": [
    "# Submit"
   ]
  },
  {
   "cell_type": "code",
   "execution_count": 26,
   "id": "eastern-destiny",
   "metadata": {
    "execution": {
     "iopub.execute_input": "2021-06-08T08:20:04.151413Z",
     "iopub.status.busy": "2021-06-08T08:20:04.150815Z",
     "iopub.status.idle": "2021-06-08T08:20:06.683328Z",
     "shell.execute_reply": "2021-06-08T08:20:06.682794Z",
     "shell.execute_reply.started": "2021-06-08T08:06:51.562577Z"
    },
    "papermill": {
     "duration": 2.585191,
     "end_time": "2021-06-08T08:20:06.683463",
     "exception": false,
     "start_time": "2021-06-08T08:20:04.098272",
     "status": "completed"
    },
    "tags": []
   },
   "outputs": [],
   "source": [
    "row_id = test['row_id']\n",
    "test = test.drop(['row_id'], axis = 1)"
   ]
  },
  {
   "cell_type": "code",
   "execution_count": 27,
   "id": "round-mailman",
   "metadata": {
    "execution": {
     "iopub.execute_input": "2021-06-08T08:20:06.782975Z",
     "iopub.status.busy": "2021-06-08T08:20:06.782312Z",
     "iopub.status.idle": "2021-06-08T08:20:15.073989Z",
     "shell.execute_reply": "2021-06-08T08:20:15.073408Z",
     "shell.execute_reply.started": "2021-06-08T08:06:54.160799Z"
    },
    "papermill": {
     "duration": 8.34369,
     "end_time": "2021-06-08T08:20:15.074115",
     "exception": false,
     "start_time": "2021-06-08T08:20:06.730425",
     "status": "completed"
    },
    "tags": []
   },
   "outputs": [],
   "source": [
    "# test['hour'] = test['timestamp'].dt.hour\n",
    "test['day'] = test['timestamp'].dt.day\n",
    "test['weekend'] = test['timestamp'].dt.weekday\n",
    "# test['month'] = test['timestamp'].dt.month"
   ]
  },
  {
   "cell_type": "code",
   "execution_count": 28,
   "id": "statewide-fleece",
   "metadata": {
    "execution": {
     "iopub.execute_input": "2021-06-08T08:20:15.173404Z",
     "iopub.status.busy": "2021-06-08T08:20:15.172732Z",
     "iopub.status.idle": "2021-06-08T08:20:16.600842Z",
     "shell.execute_reply": "2021-06-08T08:20:16.600307Z",
     "shell.execute_reply.started": "2021-06-08T08:07:02.518353Z"
    },
    "papermill": {
     "duration": 1.480225,
     "end_time": "2021-06-08T08:20:16.600980",
     "exception": false,
     "start_time": "2021-06-08T08:20:15.120755",
     "status": "completed"
    },
    "tags": []
   },
   "outputs": [
    {
     "data": {
      "text/plain": [
       "101"
      ]
     },
     "execution_count": 28,
     "metadata": {},
     "output_type": "execute_result"
    }
   ],
   "source": [
    "test = test.drop(drop_col, axis=1)\n",
    "gc.collect()"
   ]
  },
  {
   "cell_type": "code",
   "execution_count": 29,
   "id": "pressing-burning",
   "metadata": {
    "execution": {
     "iopub.execute_input": "2021-06-08T08:20:16.703013Z",
     "iopub.status.busy": "2021-06-08T08:20:16.701836Z",
     "iopub.status.idle": "2021-06-08T08:20:30.327210Z",
     "shell.execute_reply": "2021-06-08T08:20:30.327661Z",
     "shell.execute_reply.started": "2021-06-08T08:07:03.973214Z"
    },
    "papermill": {
     "duration": 13.678827,
     "end_time": "2021-06-08T08:20:30.327846",
     "exception": false,
     "start_time": "2021-06-08T08:20:16.649019",
     "status": "completed"
    },
    "tags": []
   },
   "outputs": [
    {
     "name": "stdout",
     "output_type": "stream",
     "text": [
      "(41697600, 10)\n"
     ]
    },
    {
     "data": {
      "text/html": [
       "<div>\n",
       "<style scoped>\n",
       "    .dataframe tbody tr th:only-of-type {\n",
       "        vertical-align: middle;\n",
       "    }\n",
       "\n",
       "    .dataframe tbody tr th {\n",
       "        vertical-align: top;\n",
       "    }\n",
       "\n",
       "    .dataframe thead th {\n",
       "        text-align: right;\n",
       "    }\n",
       "</style>\n",
       "<table border=\"1\" class=\"dataframe\">\n",
       "  <thead>\n",
       "    <tr style=\"text-align: right;\">\n",
       "      <th></th>\n",
       "      <th>building_id</th>\n",
       "      <th>meter</th>\n",
       "      <th>primary_use</th>\n",
       "      <th>square_feet</th>\n",
       "      <th>year_built</th>\n",
       "      <th>air_temperature</th>\n",
       "      <th>cloud_coverage</th>\n",
       "      <th>dew_temperature</th>\n",
       "      <th>day</th>\n",
       "      <th>weekend</th>\n",
       "    </tr>\n",
       "  </thead>\n",
       "  <tbody>\n",
       "    <tr>\n",
       "      <th>0</th>\n",
       "      <td>0</td>\n",
       "      <td>0</td>\n",
       "      <td>0</td>\n",
       "      <td>7432</td>\n",
       "      <td>2008.0</td>\n",
       "      <td>17.799999</td>\n",
       "      <td>4.0</td>\n",
       "      <td>11.7</td>\n",
       "      <td>1</td>\n",
       "      <td>6</td>\n",
       "    </tr>\n",
       "    <tr>\n",
       "      <th>1</th>\n",
       "      <td>1</td>\n",
       "      <td>0</td>\n",
       "      <td>0</td>\n",
       "      <td>2720</td>\n",
       "      <td>2004.0</td>\n",
       "      <td>17.799999</td>\n",
       "      <td>4.0</td>\n",
       "      <td>11.7</td>\n",
       "      <td>1</td>\n",
       "      <td>6</td>\n",
       "    </tr>\n",
       "    <tr>\n",
       "      <th>2</th>\n",
       "      <td>2</td>\n",
       "      <td>0</td>\n",
       "      <td>0</td>\n",
       "      <td>5376</td>\n",
       "      <td>1991.0</td>\n",
       "      <td>17.799999</td>\n",
       "      <td>4.0</td>\n",
       "      <td>11.7</td>\n",
       "      <td>1</td>\n",
       "      <td>6</td>\n",
       "    </tr>\n",
       "    <tr>\n",
       "      <th>3</th>\n",
       "      <td>3</td>\n",
       "      <td>0</td>\n",
       "      <td>0</td>\n",
       "      <td>23685</td>\n",
       "      <td>2002.0</td>\n",
       "      <td>17.799999</td>\n",
       "      <td>4.0</td>\n",
       "      <td>11.7</td>\n",
       "      <td>1</td>\n",
       "      <td>6</td>\n",
       "    </tr>\n",
       "    <tr>\n",
       "      <th>4</th>\n",
       "      <td>4</td>\n",
       "      <td>0</td>\n",
       "      <td>0</td>\n",
       "      <td>116607</td>\n",
       "      <td>1975.0</td>\n",
       "      <td>17.799999</td>\n",
       "      <td>4.0</td>\n",
       "      <td>11.7</td>\n",
       "      <td>1</td>\n",
       "      <td>6</td>\n",
       "    </tr>\n",
       "  </tbody>\n",
       "</table>\n",
       "</div>"
      ],
      "text/plain": [
       "   building_id  meter  primary_use  square_feet  year_built  air_temperature  \\\n",
       "0            0      0            0         7432      2008.0        17.799999   \n",
       "1            1      0            0         2720      2004.0        17.799999   \n",
       "2            2      0            0         5376      1991.0        17.799999   \n",
       "3            3      0            0        23685      2002.0        17.799999   \n",
       "4            4      0            0       116607      1975.0        17.799999   \n",
       "\n",
       "   cloud_coverage  dew_temperature  day  weekend  \n",
       "0             4.0             11.7    1        6  \n",
       "1             4.0             11.7    1        6  \n",
       "2             4.0             11.7    1        6  \n",
       "3             4.0             11.7    1        6  \n",
       "4             4.0             11.7    1        6  "
      ]
     },
     "execution_count": 29,
     "metadata": {},
     "output_type": "execute_result"
    }
   ],
   "source": [
    "test['primary_use'] = le.fit_transform(test['primary_use'])\n",
    "\n",
    "print(test.shape)\n",
    "test.head()"
   ]
  },
  {
   "cell_type": "code",
   "execution_count": 30,
   "id": "warming-mixture",
   "metadata": {
    "execution": {
     "iopub.execute_input": "2021-06-08T08:20:30.428310Z",
     "iopub.status.busy": "2021-06-08T08:20:30.427687Z",
     "iopub.status.idle": "2021-06-08T08:20:33.528552Z",
     "shell.execute_reply": "2021-06-08T08:20:33.529012Z",
     "shell.execute_reply.started": "2021-06-08T08:07:19.445653Z"
    },
    "papermill": {
     "duration": 3.15354,
     "end_time": "2021-06-08T08:20:33.529207",
     "exception": false,
     "start_time": "2021-06-08T08:20:30.375667",
     "status": "completed"
    },
    "tags": []
   },
   "outputs": [
    {
     "name": "stdout",
     "output_type": "stream",
     "text": [
      "Memory usage of dataframe is 2187.13 MB\n",
      "Memory usage after optimization is: 1352.04 MB\n",
      "Decreased by 38.2%\n"
     ]
    }
   ],
   "source": [
    "test = reduce_mem_usage(test)"
   ]
  },
  {
   "cell_type": "code",
   "execution_count": 31,
   "id": "pleasant-wholesale",
   "metadata": {
    "_kg_hide-input": true,
    "_kg_hide-output": true,
    "execution": {
     "iopub.execute_input": "2021-06-08T08:20:33.633574Z",
     "iopub.status.busy": "2021-06-08T08:20:33.632813Z",
     "iopub.status.idle": "2021-06-08T08:20:33.636870Z",
     "shell.execute_reply": "2021-06-08T08:20:33.637778Z",
     "shell.execute_reply.started": "2021-06-08T08:07:22.586640Z"
    },
    "papermill": {
     "duration": 0.060452,
     "end_time": "2021-06-08T08:20:33.638036",
     "exception": false,
     "start_time": "2021-06-08T08:20:33.577584",
     "status": "completed"
    },
    "tags": []
   },
   "outputs": [
    {
     "name": "stdout",
     "output_type": "stream",
     "text": [
      "1417718432\n",
      "500371232\n"
     ]
    }
   ],
   "source": [
    "import sys\n",
    "\n",
    "print(sys.getsizeof(test))\n",
    "print(sys.getsizeof(row_id))"
   ]
  },
  {
   "cell_type": "code",
   "execution_count": 32,
   "id": "urban-techno",
   "metadata": {
    "_kg_hide-input": true,
    "_kg_hide-output": true,
    "execution": {
     "iopub.execute_input": "2021-06-08T08:20:33.740670Z",
     "iopub.status.busy": "2021-06-08T08:20:33.740070Z",
     "iopub.status.idle": "2021-06-08T08:20:33.903309Z",
     "shell.execute_reply": "2021-06-08T08:20:33.902784Z",
     "shell.execute_reply.started": "2021-06-08T08:07:22.596772Z"
    },
    "papermill": {
     "duration": 0.214835,
     "end_time": "2021-06-08T08:20:33.903465",
     "exception": false,
     "start_time": "2021-06-08T08:20:33.688630",
     "status": "completed"
    },
    "tags": []
   },
   "outputs": [
    {
     "name": "stdout",
     "output_type": "stream",
     "text": [
      "           name        size\n",
      "0          test  1417718432\n",
      "1        row_id   500371232\n",
      "2           _11      932563\n",
      "3            _9      932423\n",
      "4           _18      336598\n",
      "..          ...         ...\n",
      "87          _25          28\n",
      "88          ___          28\n",
      "89     __spec__          16\n",
      "90   __loader__          16\n",
      "91  __package__          16\n",
      "\n",
      "[92 rows x 2 columns]\n"
     ]
    },
    {
     "data": {
      "text/plain": [
       "0"
      ]
     },
     "execution_count": 32,
     "metadata": {},
     "output_type": "execute_result"
    }
   ],
   "source": [
    "print(pd.DataFrame([[val for val in dir()], [sys.getsizeof(eval(val)) for val in dir()]],\n",
    "                   index=['name','size']).T.sort_values('size', ascending=False).reset_index(drop=True))\n",
    "\n",
    "del _11, _9, _18\n",
    "gc.collect()"
   ]
  },
  {
   "cell_type": "code",
   "execution_count": 33,
   "id": "everyday-timeline",
   "metadata": {
    "execution": {
     "iopub.execute_input": "2021-06-08T08:20:34.009456Z",
     "iopub.status.busy": "2021-06-08T08:20:34.008831Z",
     "iopub.status.idle": "2021-06-08T08:23:56.446750Z",
     "shell.execute_reply": "2021-06-08T08:23:56.447248Z",
     "shell.execute_reply.started": "2021-06-08T08:07:22.785066Z"
    },
    "papermill": {
     "duration": 202.493538,
     "end_time": "2021-06-08T08:23:56.447419",
     "exception": false,
     "start_time": "2021-06-08T08:20:33.953881",
     "status": "completed"
    },
    "tags": []
   },
   "outputs": [
    {
     "data": {
      "text/html": [
       "<div>\n",
       "<style scoped>\n",
       "    .dataframe tbody tr th:only-of-type {\n",
       "        vertical-align: middle;\n",
       "    }\n",
       "\n",
       "    .dataframe tbody tr th {\n",
       "        vertical-align: top;\n",
       "    }\n",
       "\n",
       "    .dataframe thead th {\n",
       "        text-align: right;\n",
       "    }\n",
       "</style>\n",
       "<table border=\"1\" class=\"dataframe\">\n",
       "  <thead>\n",
       "    <tr style=\"text-align: right;\">\n",
       "      <th></th>\n",
       "      <th>meter_reading</th>\n",
       "    </tr>\n",
       "    <tr>\n",
       "      <th>row_id</th>\n",
       "      <th></th>\n",
       "    </tr>\n",
       "  </thead>\n",
       "  <tbody>\n",
       "    <tr>\n",
       "      <th>0</th>\n",
       "      <td>20.904493</td>\n",
       "    </tr>\n",
       "    <tr>\n",
       "      <th>1</th>\n",
       "      <td>4.635884</td>\n",
       "    </tr>\n",
       "    <tr>\n",
       "      <th>2</th>\n",
       "      <td>6.671875</td>\n",
       "    </tr>\n",
       "    <tr>\n",
       "      <th>3</th>\n",
       "      <td>29.810936</td>\n",
       "    </tr>\n",
       "    <tr>\n",
       "      <th>4</th>\n",
       "      <td>140.282104</td>\n",
       "    </tr>\n",
       "    <tr>\n",
       "      <th>5</th>\n",
       "      <td>7.963854</td>\n",
       "    </tr>\n",
       "    <tr>\n",
       "      <th>6</th>\n",
       "      <td>40.785556</td>\n",
       "    </tr>\n",
       "    <tr>\n",
       "      <th>7</th>\n",
       "      <td>88.987123</td>\n",
       "    </tr>\n",
       "    <tr>\n",
       "      <th>8</th>\n",
       "      <td>66.383996</td>\n",
       "    </tr>\n",
       "    <tr>\n",
       "      <th>9</th>\n",
       "      <td>40.094845</td>\n",
       "    </tr>\n",
       "  </tbody>\n",
       "</table>\n",
       "</div>"
      ],
      "text/plain": [
       "        meter_reading\n",
       "row_id               \n",
       "0           20.904493\n",
       "1            4.635884\n",
       "2            6.671875\n",
       "3           29.810936\n",
       "4          140.282104\n",
       "5            7.963854\n",
       "6           40.785556\n",
       "7           88.987123\n",
       "8           66.383996\n",
       "9           40.094845"
      ]
     },
     "execution_count": 33,
     "metadata": {},
     "output_type": "execute_result"
    }
   ],
   "source": [
    "target = np.expm1(cls.predict(test))\n",
    "\n",
    "submission = pd.DataFrame(target, index=row_id, columns=['meter_reading'])\n",
    "submission.head(10)"
   ]
  },
  {
   "cell_type": "code",
   "execution_count": 34,
   "id": "micro-machinery",
   "metadata": {
    "execution": {
     "iopub.execute_input": "2021-06-08T08:23:56.702295Z",
     "iopub.status.busy": "2021-06-08T08:23:56.701327Z",
     "iopub.status.idle": "2021-06-08T08:23:56.705384Z",
     "shell.execute_reply": "2021-06-08T08:23:56.704817Z",
     "shell.execute_reply.started": "2021-06-08T08:10:58.315540Z"
    },
    "papermill": {
     "duration": 0.209072,
     "end_time": "2021-06-08T08:23:56.705529",
     "exception": false,
     "start_time": "2021-06-08T08:23:56.496457",
     "status": "completed"
    },
    "tags": []
   },
   "outputs": [
    {
     "data": {
      "text/plain": [
       "44"
      ]
     },
     "execution_count": 34,
     "metadata": {},
     "output_type": "execute_result"
    }
   ],
   "source": [
    "del row_id\n",
    "gc.collect()"
   ]
  },
  {
   "cell_type": "code",
   "execution_count": 35,
   "id": "twelve-sword",
   "metadata": {
    "execution": {
     "iopub.execute_input": "2021-06-08T08:23:56.810331Z",
     "iopub.status.busy": "2021-06-08T08:23:56.809658Z",
     "iopub.status.idle": "2021-06-08T08:26:36.325044Z",
     "shell.execute_reply": "2021-06-08T08:26:36.325558Z",
     "shell.execute_reply.started": "2021-06-08T08:10:58.451212Z"
    },
    "papermill": {
     "duration": 159.569657,
     "end_time": "2021-06-08T08:26:36.325740",
     "exception": false,
     "start_time": "2021-06-08T08:23:56.756083",
     "status": "completed"
    },
    "tags": []
   },
   "outputs": [
    {
     "data": {
      "text/html": [
       "<div>\n",
       "<style scoped>\n",
       "    .dataframe tbody tr th:only-of-type {\n",
       "        vertical-align: middle;\n",
       "    }\n",
       "\n",
       "    .dataframe tbody tr th {\n",
       "        vertical-align: top;\n",
       "    }\n",
       "\n",
       "    .dataframe thead th {\n",
       "        text-align: right;\n",
       "    }\n",
       "</style>\n",
       "<table border=\"1\" class=\"dataframe\">\n",
       "  <thead>\n",
       "    <tr style=\"text-align: right;\">\n",
       "      <th></th>\n",
       "      <th>meter_reading</th>\n",
       "    </tr>\n",
       "    <tr>\n",
       "      <th>row_id</th>\n",
       "      <th></th>\n",
       "    </tr>\n",
       "  </thead>\n",
       "  <tbody>\n",
       "    <tr>\n",
       "      <th>0</th>\n",
       "      <td>20.904493</td>\n",
       "    </tr>\n",
       "    <tr>\n",
       "      <th>1</th>\n",
       "      <td>4.635884</td>\n",
       "    </tr>\n",
       "    <tr>\n",
       "      <th>2</th>\n",
       "      <td>6.671875</td>\n",
       "    </tr>\n",
       "    <tr>\n",
       "      <th>3</th>\n",
       "      <td>29.810936</td>\n",
       "    </tr>\n",
       "    <tr>\n",
       "      <th>4</th>\n",
       "      <td>140.282104</td>\n",
       "    </tr>\n",
       "  </tbody>\n",
       "</table>\n",
       "</div>"
      ],
      "text/plain": [
       "        meter_reading\n",
       "row_id               \n",
       "0           20.904493\n",
       "1            4.635884\n",
       "2            6.671875\n",
       "3           29.810936\n",
       "4          140.282104"
      ]
     },
     "execution_count": 35,
     "metadata": {},
     "output_type": "execute_result"
    }
   ],
   "source": [
    "submission.to_csv('ASHRAE_submit.csv')\n",
    "submission.head()"
   ]
  },
  {
   "cell_type": "markdown",
   "id": "sufficient-people",
   "metadata": {
    "papermill": {
     "duration": 0.050989,
     "end_time": "2021-06-08T08:26:36.427698",
     "exception": false,
     "start_time": "2021-06-08T08:26:36.376709",
     "status": "completed"
    },
    "tags": []
   },
   "source": [
    "予測値を提出する際の形式<br>\n",
    "・row_id：行のID<br>\n",
    "・meter_reading：メーターの使用量（目的変数）<br>"
   ]
  }
 ],
 "metadata": {
  "kernelspec": {
   "display_name": "Python 3",
   "language": "python",
   "name": "python3"
  },
  "language_info": {
   "codemirror_mode": {
    "name": "ipython",
    "version": 3
   },
   "file_extension": ".py",
   "mimetype": "text/x-python",
   "name": "python",
   "nbconvert_exporter": "python",
   "pygments_lexer": "ipython3",
   "version": "3.7.10"
  },
  "papermill": {
   "default_parameters": {},
   "duration": 712.013082,
   "end_time": "2021-06-08T08:26:38.698024",
   "environment_variables": {},
   "exception": null,
   "input_path": "__notebook__.ipynb",
   "output_path": "__notebook__.ipynb",
   "parameters": {},
   "start_time": "2021-06-08T08:14:46.684942",
   "version": "2.3.3"
  }
 },
 "nbformat": 4,
 "nbformat_minor": 5
}
