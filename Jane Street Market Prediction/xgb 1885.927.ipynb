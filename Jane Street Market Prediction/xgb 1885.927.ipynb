{
 "cells": [
  {
   "cell_type": "markdown",
   "metadata": {
    "papermill": {
     "duration": 0.012409,
     "end_time": "2021-02-04T06:03:11.564047",
     "exception": false,
     "start_time": "2021-02-04T06:03:11.551638",
     "status": "completed"
    },
    "tags": []
   },
   "source": [
    "# Module"
   ]
  },
  {
   "cell_type": "code",
   "execution_count": 1,
   "metadata": {
    "_cell_guid": "79c7e3d0-c299-4dcb-8224-4455121ee9b0",
    "_uuid": "d629ff2d2480ee46fbb7e2d37f6b5fab8052498a",
    "execution": {
     "iopub.execute_input": "2021-02-04T06:03:11.591875Z",
     "iopub.status.busy": "2021-02-04T06:03:11.591179Z",
     "iopub.status.idle": "2021-02-04T06:03:17.243173Z",
     "shell.execute_reply": "2021-02-04T06:03:17.241816Z"
    },
    "papermill": {
     "duration": 5.667907,
     "end_time": "2021-02-04T06:03:17.243287",
     "exception": false,
     "start_time": "2021-02-04T06:03:11.575380",
     "status": "completed"
    },
    "tags": []
   },
   "outputs": [],
   "source": [
    "import gc\n",
    "import optuna\n",
    "import janestreet\n",
    "import numpy as np\n",
    "import pandas as pd\n",
    "import xgboost as xgb\n",
    "import matplotlib.pyplot as plt\n",
    "from sklearn.model_selection import train_test_split\n",
    "from sklearn.metrics import roc_auc_score"
   ]
  },
  {
   "cell_type": "markdown",
   "metadata": {
    "papermill": {
     "duration": 0.010741,
     "end_time": "2021-02-04T06:03:17.265862",
     "exception": false,
     "start_time": "2021-02-04T06:03:17.255121",
     "status": "completed"
    },
    "tags": []
   },
   "source": [
    "# Dataset"
   ]
  },
  {
   "cell_type": "code",
   "execution_count": 2,
   "metadata": {
    "execution": {
     "iopub.execute_input": "2021-02-04T06:03:17.298464Z",
     "iopub.status.busy": "2021-02-04T06:03:17.297946Z",
     "iopub.status.idle": "2021-02-04T06:05:25.606457Z",
     "shell.execute_reply": "2021-02-04T06:05:25.605922Z"
    },
    "papermill": {
     "duration": 128.329774,
     "end_time": "2021-02-04T06:05:25.606599",
     "exception": false,
     "start_time": "2021-02-04T06:03:17.276825",
     "status": "completed"
    },
    "tags": []
   },
   "outputs": [
    {
     "name": "stdout",
     "output_type": "stream",
     "text": [
      "(2390491, 138)\n",
      "CPU times: user 1min 17s, sys: 5.7 s, total: 1min 23s\n",
      "Wall time: 2min 8s\n"
     ]
    },
    {
     "data": {
      "text/html": [
       "<div>\n",
       "<style scoped>\n",
       "    .dataframe tbody tr th:only-of-type {\n",
       "        vertical-align: middle;\n",
       "    }\n",
       "\n",
       "    .dataframe tbody tr th {\n",
       "        vertical-align: top;\n",
       "    }\n",
       "\n",
       "    .dataframe thead th {\n",
       "        text-align: right;\n",
       "    }\n",
       "</style>\n",
       "<table border=\"1\" class=\"dataframe\">\n",
       "  <thead>\n",
       "    <tr style=\"text-align: right;\">\n",
       "      <th></th>\n",
       "      <th>date</th>\n",
       "      <th>weight</th>\n",
       "      <th>resp_1</th>\n",
       "      <th>resp_2</th>\n",
       "      <th>resp_3</th>\n",
       "      <th>resp_4</th>\n",
       "      <th>resp</th>\n",
       "      <th>feature_0</th>\n",
       "      <th>feature_1</th>\n",
       "      <th>feature_2</th>\n",
       "      <th>...</th>\n",
       "      <th>feature_121</th>\n",
       "      <th>feature_122</th>\n",
       "      <th>feature_123</th>\n",
       "      <th>feature_124</th>\n",
       "      <th>feature_125</th>\n",
       "      <th>feature_126</th>\n",
       "      <th>feature_127</th>\n",
       "      <th>feature_128</th>\n",
       "      <th>feature_129</th>\n",
       "      <th>ts_id</th>\n",
       "    </tr>\n",
       "  </thead>\n",
       "  <tbody>\n",
       "    <tr>\n",
       "      <th>0</th>\n",
       "      <td>0</td>\n",
       "      <td>0.000000</td>\n",
       "      <td>0.009916</td>\n",
       "      <td>0.014079</td>\n",
       "      <td>0.008773</td>\n",
       "      <td>0.001390</td>\n",
       "      <td>0.006270</td>\n",
       "      <td>1</td>\n",
       "      <td>-1.872746</td>\n",
       "      <td>-2.191242</td>\n",
       "      <td>...</td>\n",
       "      <td>NaN</td>\n",
       "      <td>1.168391</td>\n",
       "      <td>8.313583</td>\n",
       "      <td>1.782433</td>\n",
       "      <td>14.018213</td>\n",
       "      <td>2.653056</td>\n",
       "      <td>12.600292</td>\n",
       "      <td>2.301488</td>\n",
       "      <td>11.445807</td>\n",
       "      <td>0</td>\n",
       "    </tr>\n",
       "    <tr>\n",
       "      <th>1</th>\n",
       "      <td>0</td>\n",
       "      <td>16.673515</td>\n",
       "      <td>-0.002828</td>\n",
       "      <td>-0.003226</td>\n",
       "      <td>-0.007319</td>\n",
       "      <td>-0.011114</td>\n",
       "      <td>-0.009792</td>\n",
       "      <td>-1</td>\n",
       "      <td>-1.349537</td>\n",
       "      <td>-1.704709</td>\n",
       "      <td>...</td>\n",
       "      <td>NaN</td>\n",
       "      <td>-1.178850</td>\n",
       "      <td>1.777472</td>\n",
       "      <td>-0.915458</td>\n",
       "      <td>2.831612</td>\n",
       "      <td>-1.417010</td>\n",
       "      <td>2.297459</td>\n",
       "      <td>-1.304614</td>\n",
       "      <td>1.898684</td>\n",
       "      <td>1</td>\n",
       "    </tr>\n",
       "    <tr>\n",
       "      <th>2</th>\n",
       "      <td>0</td>\n",
       "      <td>0.000000</td>\n",
       "      <td>0.025134</td>\n",
       "      <td>0.027607</td>\n",
       "      <td>0.033406</td>\n",
       "      <td>0.034380</td>\n",
       "      <td>0.023970</td>\n",
       "      <td>-1</td>\n",
       "      <td>0.812780</td>\n",
       "      <td>-0.256156</td>\n",
       "      <td>...</td>\n",
       "      <td>NaN</td>\n",
       "      <td>6.115747</td>\n",
       "      <td>9.667908</td>\n",
       "      <td>5.542871</td>\n",
       "      <td>11.671595</td>\n",
       "      <td>7.281757</td>\n",
       "      <td>10.060014</td>\n",
       "      <td>6.638248</td>\n",
       "      <td>9.427299</td>\n",
       "      <td>2</td>\n",
       "    </tr>\n",
       "    <tr>\n",
       "      <th>3</th>\n",
       "      <td>0</td>\n",
       "      <td>0.000000</td>\n",
       "      <td>-0.004730</td>\n",
       "      <td>-0.003273</td>\n",
       "      <td>-0.000461</td>\n",
       "      <td>-0.000476</td>\n",
       "      <td>-0.003200</td>\n",
       "      <td>-1</td>\n",
       "      <td>1.174378</td>\n",
       "      <td>0.344640</td>\n",
       "      <td>...</td>\n",
       "      <td>NaN</td>\n",
       "      <td>2.838853</td>\n",
       "      <td>0.499251</td>\n",
       "      <td>3.033732</td>\n",
       "      <td>1.513488</td>\n",
       "      <td>4.397532</td>\n",
       "      <td>1.266037</td>\n",
       "      <td>3.856384</td>\n",
       "      <td>1.013469</td>\n",
       "      <td>3</td>\n",
       "    </tr>\n",
       "    <tr>\n",
       "      <th>4</th>\n",
       "      <td>0</td>\n",
       "      <td>0.138531</td>\n",
       "      <td>0.001252</td>\n",
       "      <td>0.002165</td>\n",
       "      <td>-0.001215</td>\n",
       "      <td>-0.006219</td>\n",
       "      <td>-0.002604</td>\n",
       "      <td>1</td>\n",
       "      <td>-3.172026</td>\n",
       "      <td>-3.093182</td>\n",
       "      <td>...</td>\n",
       "      <td>NaN</td>\n",
       "      <td>0.344850</td>\n",
       "      <td>4.101145</td>\n",
       "      <td>0.614252</td>\n",
       "      <td>6.623456</td>\n",
       "      <td>0.800129</td>\n",
       "      <td>5.233243</td>\n",
       "      <td>0.362636</td>\n",
       "      <td>3.926633</td>\n",
       "      <td>4</td>\n",
       "    </tr>\n",
       "  </tbody>\n",
       "</table>\n",
       "<p>5 rows × 138 columns</p>\n",
       "</div>"
      ],
      "text/plain": [
       "   date     weight    resp_1    resp_2    resp_3    resp_4      resp  \\\n",
       "0     0   0.000000  0.009916  0.014079  0.008773  0.001390  0.006270   \n",
       "1     0  16.673515 -0.002828 -0.003226 -0.007319 -0.011114 -0.009792   \n",
       "2     0   0.000000  0.025134  0.027607  0.033406  0.034380  0.023970   \n",
       "3     0   0.000000 -0.004730 -0.003273 -0.000461 -0.000476 -0.003200   \n",
       "4     0   0.138531  0.001252  0.002165 -0.001215 -0.006219 -0.002604   \n",
       "\n",
       "   feature_0  feature_1  feature_2  ...  feature_121  feature_122  \\\n",
       "0          1  -1.872746  -2.191242  ...          NaN     1.168391   \n",
       "1         -1  -1.349537  -1.704709  ...          NaN    -1.178850   \n",
       "2         -1   0.812780  -0.256156  ...          NaN     6.115747   \n",
       "3         -1   1.174378   0.344640  ...          NaN     2.838853   \n",
       "4          1  -3.172026  -3.093182  ...          NaN     0.344850   \n",
       "\n",
       "   feature_123  feature_124  feature_125  feature_126  feature_127  \\\n",
       "0     8.313583     1.782433    14.018213     2.653056    12.600292   \n",
       "1     1.777472    -0.915458     2.831612    -1.417010     2.297459   \n",
       "2     9.667908     5.542871    11.671595     7.281757    10.060014   \n",
       "3     0.499251     3.033732     1.513488     4.397532     1.266037   \n",
       "4     4.101145     0.614252     6.623456     0.800129     5.233243   \n",
       "\n",
       "   feature_128  feature_129  ts_id  \n",
       "0     2.301488    11.445807      0  \n",
       "1    -1.304614     1.898684      1  \n",
       "2     6.638248     9.427299      2  \n",
       "3     3.856384     1.013469      3  \n",
       "4     0.362636     3.926633      4  \n",
       "\n",
       "[5 rows x 138 columns]"
      ]
     },
     "execution_count": 2,
     "metadata": {},
     "output_type": "execute_result"
    }
   ],
   "source": [
    "%%time\n",
    "\n",
    "train  = pd.read_csv('/kaggle/input/jane-street-market-prediction/train.csv')\n",
    "\n",
    "print(train.shape)\n",
    "train.head()"
   ]
  },
  {
   "cell_type": "markdown",
   "metadata": {
    "papermill": {
     "duration": 0.011708,
     "end_time": "2021-02-04T06:05:25.630266",
     "exception": false,
     "start_time": "2021-02-04T06:05:25.618558",
     "status": "completed"
    },
    "tags": []
   },
   "source": [
    "# Preprocess"
   ]
  },
  {
   "cell_type": "code",
   "execution_count": 3,
   "metadata": {
    "execution": {
     "iopub.execute_input": "2021-02-04T06:05:25.659937Z",
     "iopub.status.busy": "2021-02-04T06:05:25.658930Z",
     "iopub.status.idle": "2021-02-04T06:05:27.344080Z",
     "shell.execute_reply": "2021-02-04T06:05:27.343287Z"
    },
    "papermill": {
     "duration": 1.701852,
     "end_time": "2021-02-04T06:05:27.344182",
     "exception": false,
     "start_time": "2021-02-04T06:05:25.642330",
     "status": "completed"
    },
    "tags": []
   },
   "outputs": [
    {
     "name": "stdout",
     "output_type": "stream",
     "text": [
      "weight    0\n",
      "resp_1    0\n",
      "resp_2    0\n",
      "resp_3    0\n",
      "resp_4    0\n",
      "resp      0\n",
      "dtype: int64\n"
     ]
    }
   ],
   "source": [
    "train = train[train['weight'] != 0]\n",
    "\n",
    "print(train.isnull().sum()[1:7])"
   ]
  },
  {
   "cell_type": "code",
   "execution_count": 4,
   "metadata": {
    "execution": {
     "iopub.execute_input": "2021-02-04T06:05:27.373799Z",
     "iopub.status.busy": "2021-02-04T06:05:27.372890Z",
     "iopub.status.idle": "2021-02-04T06:05:27.388870Z",
     "shell.execute_reply": "2021-02-04T06:05:27.389283Z"
    },
    "papermill": {
     "duration": 0.032862,
     "end_time": "2021-02-04T06:05:27.389404",
     "exception": false,
     "start_time": "2021-02-04T06:05:27.356542",
     "status": "completed"
    },
    "tags": []
   },
   "outputs": [
    {
     "data": {
      "text/plain": [
       "1    0\n",
       "4    0\n",
       "6    1\n",
       "7    1\n",
       "8    0\n",
       "Name: action, dtype: int64"
      ]
     },
     "execution_count": 4,
     "metadata": {},
     "output_type": "execute_result"
    }
   ],
   "source": [
    "# train['action'] = ((train['weight'].values * train['resp'].values) > 0).astype('int')\n",
    "train['action'] = (train['resp'] > 0) * 1\n",
    "\n",
    "train['action'].head()"
   ]
  },
  {
   "cell_type": "code",
   "execution_count": 5,
   "metadata": {
    "execution": {
     "iopub.execute_input": "2021-02-04T06:05:27.419553Z",
     "iopub.status.busy": "2021-02-04T06:05:27.418587Z",
     "iopub.status.idle": "2021-02-04T06:05:30.240795Z",
     "shell.execute_reply": "2021-02-04T06:05:30.239770Z"
    },
    "papermill": {
     "duration": 2.838834,
     "end_time": "2021-02-04T06:05:30.240898",
     "exception": false,
     "start_time": "2021-02-04T06:05:27.402064",
     "status": "completed"
    },
    "tags": []
   },
   "outputs": [
    {
     "name": "stdout",
     "output_type": "stream",
     "text": [
      "Total Null:  0\n"
     ]
    }
   ],
   "source": [
    "train = train.fillna(-9999)\n",
    "\n",
    "print('Total Null: ', train.isnull().sum().sum())"
   ]
  },
  {
   "cell_type": "code",
   "execution_count": 6,
   "metadata": {
    "execution": {
     "iopub.execute_input": "2021-02-04T06:05:30.275720Z",
     "iopub.status.busy": "2021-02-04T06:05:30.274947Z",
     "iopub.status.idle": "2021-02-04T06:05:30.279634Z",
     "shell.execute_reply": "2021-02-04T06:05:30.280010Z"
    },
    "papermill": {
     "duration": 0.025921,
     "end_time": "2021-02-04T06:05:30.280113",
     "exception": false,
     "start_time": "2021-02-04T06:05:30.254192",
     "status": "completed"
    },
    "tags": []
   },
   "outputs": [
    {
     "name": "stdout",
     "output_type": "stream",
     "text": [
      "130\n",
      "Index(['feature_0', 'feature_1'], dtype='object') ... Index(['feature_128', 'feature_129'], dtype='object')\n"
     ]
    }
   ],
   "source": [
    "features = train.columns[train.columns.str.contains('feature')]\n",
    "target = 'action'\n",
    "\n",
    "print(len(features))\n",
    "print(features[:2], '...', features[128:])"
   ]
  },
  {
   "cell_type": "code",
   "execution_count": 7,
   "metadata": {
    "execution": {
     "iopub.execute_input": "2021-02-04T06:05:30.314108Z",
     "iopub.status.busy": "2021-02-04T06:05:30.312894Z",
     "iopub.status.idle": "2021-02-04T06:05:31.056582Z",
     "shell.execute_reply": "2021-02-04T06:05:31.056035Z"
    },
    "papermill": {
     "duration": 0.762501,
     "end_time": "2021-02-04T06:05:31.056689",
     "exception": false,
     "start_time": "2021-02-04T06:05:30.294188",
     "status": "completed"
    },
    "tags": []
   },
   "outputs": [
    {
     "data": {
      "text/plain": [
       "109"
      ]
     },
     "execution_count": 7,
     "metadata": {},
     "output_type": "execute_result"
    }
   ],
   "source": [
    "X_train = train[features]\n",
    "y_train = train[target]\n",
    "\n",
    "del(train, features, target)\n",
    "gc.collect()"
   ]
  },
  {
   "cell_type": "markdown",
   "metadata": {
    "papermill": {
     "duration": 0.014449,
     "end_time": "2021-02-04T06:05:31.086115",
     "exception": false,
     "start_time": "2021-02-04T06:05:31.071666",
     "status": "completed"
    },
    "tags": []
   },
   "source": [
    "# Modeling"
   ]
  },
  {
   "cell_type": "code",
   "execution_count": 8,
   "metadata": {
    "execution": {
     "iopub.execute_input": "2021-02-04T06:05:31.121239Z",
     "iopub.status.busy": "2021-02-04T06:05:31.120403Z",
     "iopub.status.idle": "2021-02-04T06:05:33.851817Z",
     "shell.execute_reply": "2021-02-04T06:05:33.851360Z"
    },
    "papermill": {
     "duration": 2.751915,
     "end_time": "2021-02-04T06:05:33.851913",
     "exception": false,
     "start_time": "2021-02-04T06:05:31.099998",
     "status": "completed"
    },
    "tags": []
   },
   "outputs": [
    {
     "name": "stdout",
     "output_type": "stream",
     "text": [
      "(1585029, 130)\n",
      "(396258,)\n",
      "(1585029, 130)\n",
      "(396258,)\n"
     ]
    }
   ],
   "source": [
    "X_tr, X_val, y_tr, y_val = train_test_split(X_train, y_train, random_state=666, test_size=0.2)\n",
    "\n",
    "print(X_tr.shape)\n",
    "print(y_val.shape)\n",
    "print(X_tr.shape)\n",
    "print(y_val.shape)"
   ]
  },
  {
   "cell_type": "code",
   "execution_count": 9,
   "metadata": {
    "execution": {
     "iopub.execute_input": "2021-02-04T06:05:33.886113Z",
     "iopub.status.busy": "2021-02-04T06:05:33.885584Z",
     "iopub.status.idle": "2021-02-04T06:05:33.891207Z",
     "shell.execute_reply": "2021-02-04T06:05:33.890786Z"
    },
    "papermill": {
     "duration": 0.024725,
     "end_time": "2021-02-04T06:05:33.891286",
     "exception": false,
     "start_time": "2021-02-04T06:05:33.866561",
     "status": "completed"
    },
    "tags": []
   },
   "outputs": [
    {
     "data": {
      "text/plain": [
       "'\\n%%time\\n\\ndef create_model(trial):\\n    n_estimators = trial.suggest_int(\"n_estimators\", 50, 500)\\n    max_depth = trial.suggest_int(\\'max_depth\\', 3, 8)\\n    learning_rate = trial.suggest_uniform(\\'learning_rate\\', 0.0001, 0.99)\\n    subsample = trial.suggest_uniform(\\'subsample\\', 0.1, 1.0)\\n    colsample_bytree = trial.suggest_uniform(\\'colsample_bytree\\', 0.1, 1.0)\\n    tree_method = \\'gpu_hist\\'\\n    missing = -999\\n    random_state = 666\\n    \\n    model = xgb.XGBClassifier(\\n        n_estimators=n_estimators, \\n        max_depth=max_depth, \\n        learning_rate=learning_rate,\\n        subsample=subsample,\\n        colsample_bytree=colsample_bytree,\\n        tree_method=\\'gpu_hist\\',\\n        missing=-999,\\n        random_state=666)\\n        \\n    return model\\n\\ndef objective(trial):\\n    model = create_model(trial)\\n    model.fit(X_tr, y_tr)\\n    y_proba = model.predict_proba(X_val)[:,1]\\n    score = roc_auc_score(y_val, y_proba)\\n    return score\\n\\nstudy = optuna.create_study(direction=\\'maximize\\')\\nstudy.optimize(objective, n_trials=40)\\nparams = study.best_params\\n\\nprint(params)\\n\\n'"
      ]
     },
     "execution_count": 9,
     "metadata": {},
     "output_type": "execute_result"
    }
   ],
   "source": [
    "'''\n",
    "%%time\n",
    "\n",
    "def create_model(trial):\n",
    "    n_estimators = trial.suggest_int(\"n_estimators\", 50, 500)\n",
    "    max_depth = trial.suggest_int('max_depth', 3, 8)\n",
    "    learning_rate = trial.suggest_uniform('learning_rate', 0.0001, 0.99)\n",
    "    subsample = trial.suggest_uniform('subsample', 0.1, 1.0)\n",
    "    colsample_bytree = trial.suggest_uniform('colsample_bytree', 0.1, 1.0)\n",
    "    tree_method = 'gpu_hist'\n",
    "    missing = -999\n",
    "    random_state = 666\n",
    "    \n",
    "    model = xgb.XGBClassifier(\n",
    "        n_estimators=n_estimators, \n",
    "        max_depth=max_depth, \n",
    "        learning_rate=learning_rate,\n",
    "        subsample=subsample,\n",
    "        colsample_bytree=colsample_bytree,\n",
    "        tree_method='gpu_hist',\n",
    "        missing=-999,\n",
    "        random_state=666)\n",
    "        \n",
    "    return model\n",
    "\n",
    "def objective(trial):\n",
    "    model = create_model(trial)\n",
    "    model.fit(X_tr, y_tr)\n",
    "    y_proba = model.predict_proba(X_val)[:,1]\n",
    "    score = roc_auc_score(y_val, y_proba)\n",
    "    return score\n",
    "\n",
    "study = optuna.create_study(direction='maximize')\n",
    "study.optimize(objective, n_trials=40)\n",
    "params = study.best_params\n",
    "\n",
    "print(params)\n",
    "\n",
    "'''"
   ]
  },
  {
   "cell_type": "code",
   "execution_count": 10,
   "metadata": {
    "execution": {
     "iopub.execute_input": "2021-02-04T06:05:33.925362Z",
     "iopub.status.busy": "2021-02-04T06:05:33.924823Z",
     "iopub.status.idle": "2021-02-04T06:05:33.928480Z",
     "shell.execute_reply": "2021-02-04T06:05:33.927992Z"
    },
    "papermill": {
     "duration": 0.022515,
     "end_time": "2021-02-04T06:05:33.928610",
     "exception": false,
     "start_time": "2021-02-04T06:05:33.906095",
     "status": "completed"
    },
    "tags": []
   },
   "outputs": [],
   "source": [
    "params = {'n_estimators': 496,\n",
    "          'max_depth': 7,\n",
    "          'learning_rate': 0.4760890255821276,\n",
    "          'subsample': 0.9325559756405156,\n",
    "          'colsample_bytree': 0.7267082309559035,\n",
    "          'tree_method': 'gpu_hist',\n",
    "          'missing': -999,\n",
    "          'random_state': 666}"
   ]
  },
  {
   "cell_type": "code",
   "execution_count": 11,
   "metadata": {
    "execution": {
     "iopub.execute_input": "2021-02-04T06:05:34.063940Z",
     "iopub.status.busy": "2021-02-04T06:05:34.062470Z",
     "iopub.status.idle": "2021-02-04T06:05:34.068081Z",
     "shell.execute_reply": "2021-02-04T06:05:34.067565Z"
    },
    "papermill": {
     "duration": 0.124843,
     "end_time": "2021-02-04T06:05:34.068179",
     "exception": false,
     "start_time": "2021-02-04T06:05:33.943336",
     "status": "completed"
    },
    "tags": []
   },
   "outputs": [
    {
     "data": {
      "text/plain": [
       "80"
      ]
     },
     "execution_count": 11,
     "metadata": {},
     "output_type": "execute_result"
    }
   ],
   "source": [
    "del(X_tr, X_val, y_tr, y_val)\n",
    "gc.collect()"
   ]
  },
  {
   "cell_type": "code",
   "execution_count": 12,
   "metadata": {
    "execution": {
     "iopub.execute_input": "2021-02-04T06:05:34.106271Z",
     "iopub.status.busy": "2021-02-04T06:05:34.104690Z",
     "iopub.status.idle": "2021-02-04T06:06:08.472888Z",
     "shell.execute_reply": "2021-02-04T06:06:08.472186Z"
    },
    "papermill": {
     "duration": 34.388505,
     "end_time": "2021-02-04T06:06:08.473025",
     "exception": false,
     "start_time": "2021-02-04T06:05:34.084520",
     "status": "completed"
    },
    "tags": []
   },
   "outputs": [
    {
     "name": "stdout",
     "output_type": "stream",
     "text": [
      "CPU times: user 29.9 s, sys: 3.78 s, total: 33.7 s\n",
      "Wall time: 34.3 s\n"
     ]
    },
    {
     "data": {
      "text/plain": [
       "XGBClassifier(base_score=0.5, booster='gbtree', colsample_bylevel=1,\n",
       "              colsample_bynode=1, colsample_bytree=0.7267082309559035, gamma=0,\n",
       "              gpu_id=0, importance_type='gain', interaction_constraints='',\n",
       "              learning_rate=0.4760890255821276, max_delta_step=0, max_depth=7,\n",
       "              min_child_weight=1, missing=-999,\n",
       "              monotone_constraints='(0,0,0,0,0,0,0,0,0,0,0,0,0,0,0,0,0,0,0,0,0,0,0...0,0,0,0,0,0,0,0,0,0,0,0,0,0,0,0,0,0,0,0,0,0,0,0,0,0,0,0,0,0,0,0,0,0,0,0,0,0,0,0,0,0,0,0,0,0,0,0,0,0,0,0,0,0,0,0,0,0,0,0,0,0,0,0,0,0,0,0,0,0,0,0,0,0,0,0)',\n",
       "              n_estimators=496, n_jobs=0, num_parallel_tree=1, random_state=666,\n",
       "              reg_alpha=0, reg_lambda=1, scale_pos_weight=1,\n",
       "              subsample=0.9325559756405156, tree_method='gpu_hist',\n",
       "              validate_parameters=1, verbosity=None)"
      ]
     },
     "execution_count": 12,
     "metadata": {},
     "output_type": "execute_result"
    }
   ],
   "source": [
    "%%time\n",
    "\n",
    "cls = xgb.XGBClassifier(**params)\n",
    "cls.fit(X_train, y_train)"
   ]
  },
  {
   "cell_type": "code",
   "execution_count": 13,
   "metadata": {
    "execution": {
     "iopub.execute_input": "2021-02-04T06:06:08.617412Z",
     "iopub.status.busy": "2021-02-04T06:06:08.616134Z",
     "iopub.status.idle": "2021-02-04T06:06:08.619792Z",
     "shell.execute_reply": "2021-02-04T06:06:08.620212Z"
    },
    "papermill": {
     "duration": 0.129894,
     "end_time": "2021-02-04T06:06:08.620360",
     "exception": false,
     "start_time": "2021-02-04T06:06:08.490466",
     "status": "completed"
    },
    "tags": []
   },
   "outputs": [
    {
     "data": {
      "text/plain": [
       "20"
      ]
     },
     "execution_count": 13,
     "metadata": {},
     "output_type": "execute_result"
    }
   ],
   "source": [
    "del(X_train, y_train, params)\n",
    "gc.collect()"
   ]
  },
  {
   "cell_type": "markdown",
   "metadata": {
    "papermill": {
     "duration": 0.016447,
     "end_time": "2021-02-04T06:06:08.654554",
     "exception": false,
     "start_time": "2021-02-04T06:06:08.638107",
     "status": "completed"
    },
    "tags": []
   },
   "source": [
    "# Submit"
   ]
  },
  {
   "cell_type": "code",
   "execution_count": 14,
   "metadata": {
    "execution": {
     "iopub.execute_input": "2021-02-04T06:06:08.692359Z",
     "iopub.status.busy": "2021-02-04T06:06:08.691703Z",
     "iopub.status.idle": "2021-02-04T06:06:08.694696Z",
     "shell.execute_reply": "2021-02-04T06:06:08.694234Z"
    },
    "papermill": {
     "duration": 0.023003,
     "end_time": "2021-02-04T06:06:08.694787",
     "exception": false,
     "start_time": "2021-02-04T06:06:08.671784",
     "status": "completed"
    },
    "tags": []
   },
   "outputs": [],
   "source": [
    "env = janestreet.make_env()\n",
    "iter_test = env.iter_test()"
   ]
  },
  {
   "cell_type": "code",
   "execution_count": 15,
   "metadata": {
    "execution": {
     "iopub.execute_input": "2021-02-04T06:06:08.732430Z",
     "iopub.status.busy": "2021-02-04T06:06:08.731701Z",
     "iopub.status.idle": "2021-02-04T06:06:08.734785Z",
     "shell.execute_reply": "2021-02-04T06:06:08.735150Z"
    },
    "papermill": {
     "duration": 0.024007,
     "end_time": "2021-02-04T06:06:08.735260",
     "exception": false,
     "start_time": "2021-02-04T06:06:08.711253",
     "status": "completed"
    },
    "tags": []
   },
   "outputs": [
    {
     "data": {
      "text/plain": [
       "\"\\n%%time\\n\\nfor (test, sample_prediction) in iter_test:\\n    test = test.fillna(0.5)\\n    sample_prediction['action'] = cls.predict(test[features])\\n    env.predict(sample_prediction)\\n    \\n\""
      ]
     },
     "execution_count": 15,
     "metadata": {},
     "output_type": "execute_result"
    }
   ],
   "source": [
    "'''\n",
    "%%time\n",
    "\n",
    "for (test, sample_prediction) in iter_test:\n",
    "    test = test.fillna(0.5)\n",
    "    sample_prediction['action'] = cls.predict(test[features])\n",
    "    env.predict(sample_prediction)\n",
    "    \n",
    "'''"
   ]
  },
  {
   "cell_type": "code",
   "execution_count": 16,
   "metadata": {
    "execution": {
     "iopub.execute_input": "2021-02-04T06:06:08.780525Z",
     "iopub.status.busy": "2021-02-04T06:06:08.779949Z",
     "iopub.status.idle": "2021-02-04T06:09:16.893514Z",
     "shell.execute_reply": "2021-02-04T06:09:16.894260Z"
    },
    "papermill": {
     "duration": 188.142245,
     "end_time": "2021-02-04T06:09:16.894462",
     "exception": false,
     "start_time": "2021-02-04T06:06:08.752217",
     "status": "completed"
    },
    "tags": []
   },
   "outputs": [
    {
     "name": "stdout",
     "output_type": "stream",
     "text": [
      "CPU times: user 3min 6s, sys: 359 ms, total: 3min 7s\n",
      "Wall time: 3min 8s\n"
     ]
    }
   ],
   "source": [
    "%%time\n",
    "\n",
    "for (test, sample_prediction) in iter_test:\n",
    "    test = test.fillna(-9999)\n",
    "    \n",
    "    features = test.columns[test.columns.str.contains('feature')]\n",
    "    X_test = test[features]\n",
    "    \n",
    "    if test['weight'].item() > 0:\n",
    "        sample_prediction['action'] = cls.predict(X_test)\n",
    "    else:\n",
    "        sample_prediction['action'] = 0\n",
    "    \n",
    "    env.predict(sample_prediction)"
   ]
  }
 ],
 "metadata": {
  "kernelspec": {
   "display_name": "Python 3",
   "language": "python",
   "name": "python3"
  },
  "language_info": {
   "codemirror_mode": {
    "name": "ipython",
    "version": 3
   },
   "file_extension": ".py",
   "mimetype": "text/x-python",
   "name": "python",
   "nbconvert_exporter": "python",
   "pygments_lexer": "ipython3",
   "version": "3.7.6"
  },
  "papermill": {
   "duration": 371.027667,
   "end_time": "2021-02-04T06:09:18.352997",
   "environment_variables": {},
   "exception": null,
   "input_path": "__notebook__.ipynb",
   "output_path": "__notebook__.ipynb",
   "parameters": {},
   "start_time": "2021-02-04T06:03:07.325330",
   "version": "2.1.0"
  }
 },
 "nbformat": 4,
 "nbformat_minor": 4
}
