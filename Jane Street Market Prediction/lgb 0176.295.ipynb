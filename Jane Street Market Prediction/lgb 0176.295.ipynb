{
 "cells": [
  {
   "cell_type": "markdown",
   "metadata": {
    "papermill": {
     "duration": 0.017972,
     "end_time": "2021-01-29T11:05:15.797153",
     "exception": false,
     "start_time": "2021-01-29T11:05:15.779181",
     "status": "completed"
    },
    "tags": []
   },
   "source": [
    "# Module"
   ]
  },
  {
   "cell_type": "code",
   "execution_count": 1,
   "metadata": {
    "_cell_guid": "79c7e3d0-c299-4dcb-8224-4455121ee9b0",
    "_uuid": "d629ff2d2480ee46fbb7e2d37f6b5fab8052498a",
    "execution": {
     "iopub.execute_input": "2021-01-29T11:05:15.832115Z",
     "iopub.status.busy": "2021-01-29T11:05:15.831286Z",
     "iopub.status.idle": "2021-01-29T11:05:19.443798Z",
     "shell.execute_reply": "2021-01-29T11:05:19.444420Z"
    },
    "papermill": {
     "duration": 3.632068,
     "end_time": "2021-01-29T11:05:19.444622",
     "exception": false,
     "start_time": "2021-01-29T11:05:15.812554",
     "status": "completed"
    },
    "tags": []
   },
   "outputs": [],
   "source": [
    "import gc\n",
    "import optuna\n",
    "import janestreet\n",
    "import numpy as np\n",
    "import pandas as pd\n",
    "import matplotlib.pyplot as plt\n",
    "import lightgbm as lgb\n",
    "import xgboost as xgb\n",
    "from sklearn.model_selection import train_test_split\n",
    "from sklearn.metrics import roc_auc_score"
   ]
  },
  {
   "cell_type": "markdown",
   "metadata": {
    "papermill": {
     "duration": 0.014284,
     "end_time": "2021-01-29T11:05:19.474042",
     "exception": false,
     "start_time": "2021-01-29T11:05:19.459758",
     "status": "completed"
    },
    "tags": []
   },
   "source": [
    "# Dataset"
   ]
  },
  {
   "cell_type": "code",
   "execution_count": 2,
   "metadata": {
    "execution": {
     "iopub.execute_input": "2021-01-29T11:05:19.507017Z",
     "iopub.status.busy": "2021-01-29T11:05:19.506279Z",
     "iopub.status.idle": "2021-01-29T11:08:10.479831Z",
     "shell.execute_reply": "2021-01-29T11:08:10.479218Z"
    },
    "papermill": {
     "duration": 170.991267,
     "end_time": "2021-01-29T11:08:10.479959",
     "exception": false,
     "start_time": "2021-01-29T11:05:19.488692",
     "status": "completed"
    },
    "tags": []
   },
   "outputs": [
    {
     "name": "stdout",
     "output_type": "stream",
     "text": [
      "(2390491, 138)\n",
      "CPU times: user 1min 29s, sys: 7.38 s, total: 1min 36s\n",
      "Wall time: 2min 50s\n"
     ]
    },
    {
     "data": {
      "text/html": [
       "<div>\n",
       "<style scoped>\n",
       "    .dataframe tbody tr th:only-of-type {\n",
       "        vertical-align: middle;\n",
       "    }\n",
       "\n",
       "    .dataframe tbody tr th {\n",
       "        vertical-align: top;\n",
       "    }\n",
       "\n",
       "    .dataframe thead th {\n",
       "        text-align: right;\n",
       "    }\n",
       "</style>\n",
       "<table border=\"1\" class=\"dataframe\">\n",
       "  <thead>\n",
       "    <tr style=\"text-align: right;\">\n",
       "      <th></th>\n",
       "      <th>date</th>\n",
       "      <th>weight</th>\n",
       "      <th>resp_1</th>\n",
       "      <th>resp_2</th>\n",
       "      <th>resp_3</th>\n",
       "      <th>resp_4</th>\n",
       "      <th>resp</th>\n",
       "      <th>feature_0</th>\n",
       "      <th>feature_1</th>\n",
       "      <th>feature_2</th>\n",
       "      <th>...</th>\n",
       "      <th>feature_121</th>\n",
       "      <th>feature_122</th>\n",
       "      <th>feature_123</th>\n",
       "      <th>feature_124</th>\n",
       "      <th>feature_125</th>\n",
       "      <th>feature_126</th>\n",
       "      <th>feature_127</th>\n",
       "      <th>feature_128</th>\n",
       "      <th>feature_129</th>\n",
       "      <th>ts_id</th>\n",
       "    </tr>\n",
       "  </thead>\n",
       "  <tbody>\n",
       "    <tr>\n",
       "      <th>0</th>\n",
       "      <td>0</td>\n",
       "      <td>0.000000</td>\n",
       "      <td>0.009916</td>\n",
       "      <td>0.014079</td>\n",
       "      <td>0.008773</td>\n",
       "      <td>0.001390</td>\n",
       "      <td>0.006270</td>\n",
       "      <td>1</td>\n",
       "      <td>-1.872746</td>\n",
       "      <td>-2.191242</td>\n",
       "      <td>...</td>\n",
       "      <td>NaN</td>\n",
       "      <td>1.168391</td>\n",
       "      <td>8.313583</td>\n",
       "      <td>1.782433</td>\n",
       "      <td>14.018213</td>\n",
       "      <td>2.653056</td>\n",
       "      <td>12.600292</td>\n",
       "      <td>2.301488</td>\n",
       "      <td>11.445807</td>\n",
       "      <td>0</td>\n",
       "    </tr>\n",
       "    <tr>\n",
       "      <th>1</th>\n",
       "      <td>0</td>\n",
       "      <td>16.673515</td>\n",
       "      <td>-0.002828</td>\n",
       "      <td>-0.003226</td>\n",
       "      <td>-0.007319</td>\n",
       "      <td>-0.011114</td>\n",
       "      <td>-0.009792</td>\n",
       "      <td>-1</td>\n",
       "      <td>-1.349537</td>\n",
       "      <td>-1.704709</td>\n",
       "      <td>...</td>\n",
       "      <td>NaN</td>\n",
       "      <td>-1.178850</td>\n",
       "      <td>1.777472</td>\n",
       "      <td>-0.915458</td>\n",
       "      <td>2.831612</td>\n",
       "      <td>-1.417010</td>\n",
       "      <td>2.297459</td>\n",
       "      <td>-1.304614</td>\n",
       "      <td>1.898684</td>\n",
       "      <td>1</td>\n",
       "    </tr>\n",
       "    <tr>\n",
       "      <th>2</th>\n",
       "      <td>0</td>\n",
       "      <td>0.000000</td>\n",
       "      <td>0.025134</td>\n",
       "      <td>0.027607</td>\n",
       "      <td>0.033406</td>\n",
       "      <td>0.034380</td>\n",
       "      <td>0.023970</td>\n",
       "      <td>-1</td>\n",
       "      <td>0.812780</td>\n",
       "      <td>-0.256156</td>\n",
       "      <td>...</td>\n",
       "      <td>NaN</td>\n",
       "      <td>6.115747</td>\n",
       "      <td>9.667908</td>\n",
       "      <td>5.542871</td>\n",
       "      <td>11.671595</td>\n",
       "      <td>7.281757</td>\n",
       "      <td>10.060014</td>\n",
       "      <td>6.638248</td>\n",
       "      <td>9.427299</td>\n",
       "      <td>2</td>\n",
       "    </tr>\n",
       "    <tr>\n",
       "      <th>3</th>\n",
       "      <td>0</td>\n",
       "      <td>0.000000</td>\n",
       "      <td>-0.004730</td>\n",
       "      <td>-0.003273</td>\n",
       "      <td>-0.000461</td>\n",
       "      <td>-0.000476</td>\n",
       "      <td>-0.003200</td>\n",
       "      <td>-1</td>\n",
       "      <td>1.174378</td>\n",
       "      <td>0.344640</td>\n",
       "      <td>...</td>\n",
       "      <td>NaN</td>\n",
       "      <td>2.838853</td>\n",
       "      <td>0.499251</td>\n",
       "      <td>3.033732</td>\n",
       "      <td>1.513488</td>\n",
       "      <td>4.397532</td>\n",
       "      <td>1.266037</td>\n",
       "      <td>3.856384</td>\n",
       "      <td>1.013469</td>\n",
       "      <td>3</td>\n",
       "    </tr>\n",
       "    <tr>\n",
       "      <th>4</th>\n",
       "      <td>0</td>\n",
       "      <td>0.138531</td>\n",
       "      <td>0.001252</td>\n",
       "      <td>0.002165</td>\n",
       "      <td>-0.001215</td>\n",
       "      <td>-0.006219</td>\n",
       "      <td>-0.002604</td>\n",
       "      <td>1</td>\n",
       "      <td>-3.172026</td>\n",
       "      <td>-3.093182</td>\n",
       "      <td>...</td>\n",
       "      <td>NaN</td>\n",
       "      <td>0.344850</td>\n",
       "      <td>4.101145</td>\n",
       "      <td>0.614252</td>\n",
       "      <td>6.623456</td>\n",
       "      <td>0.800129</td>\n",
       "      <td>5.233243</td>\n",
       "      <td>0.362636</td>\n",
       "      <td>3.926633</td>\n",
       "      <td>4</td>\n",
       "    </tr>\n",
       "  </tbody>\n",
       "</table>\n",
       "<p>5 rows × 138 columns</p>\n",
       "</div>"
      ],
      "text/plain": [
       "   date     weight    resp_1    resp_2    resp_3    resp_4      resp  \\\n",
       "0     0   0.000000  0.009916  0.014079  0.008773  0.001390  0.006270   \n",
       "1     0  16.673515 -0.002828 -0.003226 -0.007319 -0.011114 -0.009792   \n",
       "2     0   0.000000  0.025134  0.027607  0.033406  0.034380  0.023970   \n",
       "3     0   0.000000 -0.004730 -0.003273 -0.000461 -0.000476 -0.003200   \n",
       "4     0   0.138531  0.001252  0.002165 -0.001215 -0.006219 -0.002604   \n",
       "\n",
       "   feature_0  feature_1  feature_2  ...  feature_121  feature_122  \\\n",
       "0          1  -1.872746  -2.191242  ...          NaN     1.168391   \n",
       "1         -1  -1.349537  -1.704709  ...          NaN    -1.178850   \n",
       "2         -1   0.812780  -0.256156  ...          NaN     6.115747   \n",
       "3         -1   1.174378   0.344640  ...          NaN     2.838853   \n",
       "4          1  -3.172026  -3.093182  ...          NaN     0.344850   \n",
       "\n",
       "   feature_123  feature_124  feature_125  feature_126  feature_127  \\\n",
       "0     8.313583     1.782433    14.018213     2.653056    12.600292   \n",
       "1     1.777472    -0.915458     2.831612    -1.417010     2.297459   \n",
       "2     9.667908     5.542871    11.671595     7.281757    10.060014   \n",
       "3     0.499251     3.033732     1.513488     4.397532     1.266037   \n",
       "4     4.101145     0.614252     6.623456     0.800129     5.233243   \n",
       "\n",
       "   feature_128  feature_129  ts_id  \n",
       "0     2.301488    11.445807      0  \n",
       "1    -1.304614     1.898684      1  \n",
       "2     6.638248     9.427299      2  \n",
       "3     3.856384     1.013469      3  \n",
       "4     0.362636     3.926633      4  \n",
       "\n",
       "[5 rows x 138 columns]"
      ]
     },
     "execution_count": 2,
     "metadata": {},
     "output_type": "execute_result"
    }
   ],
   "source": [
    "%%time\n",
    "\n",
    "data  = pd.read_csv('/kaggle/input/jane-street-market-prediction/train.csv')\n",
    "\n",
    "print(data.shape)\n",
    "data.head()"
   ]
  },
  {
   "cell_type": "markdown",
   "metadata": {
    "papermill": {
     "duration": 0.015456,
     "end_time": "2021-01-29T11:08:10.511599",
     "exception": false,
     "start_time": "2021-01-29T11:08:10.496143",
     "status": "completed"
    },
    "tags": []
   },
   "source": [
    "# Preprocess"
   ]
  },
  {
   "cell_type": "code",
   "execution_count": 3,
   "metadata": {
    "execution": {
     "iopub.execute_input": "2021-01-29T11:08:10.551466Z",
     "iopub.status.busy": "2021-01-29T11:08:10.550732Z",
     "iopub.status.idle": "2021-01-29T11:08:12.895787Z",
     "shell.execute_reply": "2021-01-29T11:08:12.894830Z"
    },
    "papermill": {
     "duration": 2.368129,
     "end_time": "2021-01-29T11:08:12.895956",
     "exception": false,
     "start_time": "2021-01-29T11:08:10.527827",
     "status": "completed"
    },
    "tags": []
   },
   "outputs": [
    {
     "name": "stdout",
     "output_type": "stream",
     "text": [
      "weight    0\n",
      "resp_1    0\n",
      "resp_2    0\n",
      "resp_3    0\n",
      "resp_4    0\n",
      "resp      0\n",
      "dtype: int64\n",
      "Total Null:  5339765\n"
     ]
    }
   ],
   "source": [
    "train = data[data['weight'] != 0]\n",
    "\n",
    "print(train.isnull().sum()[1:7])\n",
    "print('Total Null: ', train.isnull().sum().sum())"
   ]
  },
  {
   "cell_type": "code",
   "execution_count": 4,
   "metadata": {
    "execution": {
     "iopub.execute_input": "2021-01-29T11:08:13.041050Z",
     "iopub.status.busy": "2021-01-29T11:08:13.040029Z",
     "iopub.status.idle": "2021-01-29T11:08:13.046054Z",
     "shell.execute_reply": "2021-01-29T11:08:13.045412Z"
    },
    "papermill": {
     "duration": 0.133083,
     "end_time": "2021-01-29T11:08:13.046174",
     "exception": false,
     "start_time": "2021-01-29T11:08:12.913091",
     "status": "completed"
    },
    "tags": []
   },
   "outputs": [
    {
     "data": {
      "text/plain": [
       "40"
      ]
     },
     "execution_count": 4,
     "metadata": {},
     "output_type": "execute_result"
    }
   ],
   "source": [
    "del(data)\n",
    "gc.collect()"
   ]
  },
  {
   "cell_type": "code",
   "execution_count": 5,
   "metadata": {
    "execution": {
     "iopub.execute_input": "2021-01-29T11:08:13.089011Z",
     "iopub.status.busy": "2021-01-29T11:08:13.088070Z",
     "iopub.status.idle": "2021-01-29T11:08:13.092262Z",
     "shell.execute_reply": "2021-01-29T11:08:13.091626Z"
    },
    "papermill": {
     "duration": 0.028965,
     "end_time": "2021-01-29T11:08:13.092393",
     "exception": false,
     "start_time": "2021-01-29T11:08:13.063428",
     "status": "completed"
    },
    "tags": []
   },
   "outputs": [
    {
     "name": "stdout",
     "output_type": "stream",
     "text": [
      "130\n",
      "Index(['feature_0', 'feature_1'], dtype='object') ... Index(['feature_128', 'feature_129'], dtype='object')\n"
     ]
    }
   ],
   "source": [
    "features = train.columns[train.columns.str.contains('feature')]\n",
    "target = 'action'\n",
    "\n",
    "print(len(features))\n",
    "print(features[:2], '...', features[128:])"
   ]
  },
  {
   "cell_type": "code",
   "execution_count": 6,
   "metadata": {
    "execution": {
     "iopub.execute_input": "2021-01-29T11:08:13.946971Z",
     "iopub.status.busy": "2021-01-29T11:08:13.945981Z",
     "iopub.status.idle": "2021-01-29T11:08:13.950943Z",
     "shell.execute_reply": "2021-01-29T11:08:13.951502Z"
    },
    "papermill": {
     "duration": 0.841575,
     "end_time": "2021-01-29T11:08:13.951679",
     "exception": false,
     "start_time": "2021-01-29T11:08:13.110104",
     "status": "completed"
    },
    "tags": []
   },
   "outputs": [
    {
     "data": {
      "text/plain": [
       "(1981287, 130)"
      ]
     },
     "execution_count": 6,
     "metadata": {},
     "output_type": "execute_result"
    }
   ],
   "source": [
    "train[features].shape"
   ]
  },
  {
   "cell_type": "code",
   "execution_count": 7,
   "metadata": {
    "execution": {
     "iopub.execute_input": "2021-01-29T11:08:13.996267Z",
     "iopub.status.busy": "2021-01-29T11:08:13.995516Z",
     "iopub.status.idle": "2021-01-29T11:08:23.362063Z",
     "shell.execute_reply": "2021-01-29T11:08:23.361473Z"
    },
    "papermill": {
     "duration": 9.391817,
     "end_time": "2021-01-29T11:08:23.362177",
     "exception": false,
     "start_time": "2021-01-29T11:08:13.970360",
     "status": "completed"
    },
    "tags": []
   },
   "outputs": [],
   "source": [
    "for i in train.columns:\n",
    "    if train[i].isnull().sum() > train.shape[0] * 0.1:\n",
    "        train = train.drop(i, axis=1)\n",
    "    else:\n",
    "        pass"
   ]
  },
  {
   "cell_type": "code",
   "execution_count": 8,
   "metadata": {
    "execution": {
     "iopub.execute_input": "2021-01-29T11:08:23.405468Z",
     "iopub.status.busy": "2021-01-29T11:08:23.404214Z",
     "iopub.status.idle": "2021-01-29T11:08:23.995455Z",
     "shell.execute_reply": "2021-01-29T11:08:23.994830Z"
    },
    "papermill": {
     "duration": 0.614878,
     "end_time": "2021-01-29T11:08:23.995633",
     "exception": false,
     "start_time": "2021-01-29T11:08:23.380755",
     "status": "completed"
    },
    "tags": []
   },
   "outputs": [
    {
     "data": {
      "text/plain": [
       "1212929"
      ]
     },
     "execution_count": 8,
     "metadata": {},
     "output_type": "execute_result"
    }
   ],
   "source": [
    "train.isnull().sum().sum()"
   ]
  },
  {
   "cell_type": "code",
   "execution_count": 9,
   "metadata": {
    "execution": {
     "iopub.execute_input": "2021-01-29T11:08:24.601810Z",
     "iopub.status.busy": "2021-01-29T11:08:24.596077Z",
     "iopub.status.idle": "2021-01-29T11:08:24.607535Z",
     "shell.execute_reply": "2021-01-29T11:08:24.606854Z"
    },
    "papermill": {
     "duration": 0.593281,
     "end_time": "2021-01-29T11:08:24.607652",
     "exception": false,
     "start_time": "2021-01-29T11:08:24.014371",
     "status": "completed"
    },
    "tags": []
   },
   "outputs": [
    {
     "data": {
      "text/plain": [
       "(1981287, 116)"
      ]
     },
     "execution_count": 9,
     "metadata": {},
     "output_type": "execute_result"
    }
   ],
   "source": [
    "features = train.columns[train.columns.str.contains('feature')]\n",
    "train[features].shape"
   ]
  },
  {
   "cell_type": "code",
   "execution_count": 10,
   "metadata": {
    "execution": {
     "iopub.execute_input": "2021-01-29T11:08:24.654949Z",
     "iopub.status.busy": "2021-01-29T11:08:24.653313Z",
     "iopub.status.idle": "2021-01-29T11:08:26.489479Z",
     "shell.execute_reply": "2021-01-29T11:08:26.488274Z"
    },
    "papermill": {
     "duration": 1.862816,
     "end_time": "2021-01-29T11:08:26.489656",
     "exception": false,
     "start_time": "2021-01-29T11:08:24.626840",
     "status": "completed"
    },
    "tags": []
   },
   "outputs": [
    {
     "name": "stdout",
     "output_type": "stream",
     "text": [
      "0\n"
     ]
    },
    {
     "data": {
      "text/plain": [
       "1    0\n",
       "4    0\n",
       "6    1\n",
       "7    1\n",
       "8    0\n",
       "Name: action, dtype: int64"
      ]
     },
     "execution_count": 10,
     "metadata": {},
     "output_type": "execute_result"
    }
   ],
   "source": [
    "train = train.fillna(0.5)\n",
    "\n",
    "# train['action'] = ((train['weight'].values * train['resp'].values) > 0).astype('int')\n",
    "train['action'] = (train['resp'] > 0) * 1\n",
    "\n",
    "print(train.isnull().sum().sum())\n",
    "train['action'].head()"
   ]
  },
  {
   "cell_type": "markdown",
   "metadata": {
    "papermill": {
     "duration": 0.019918,
     "end_time": "2021-01-29T11:08:26.530581",
     "exception": false,
     "start_time": "2021-01-29T11:08:26.510663",
     "status": "completed"
    },
    "tags": []
   },
   "source": [
    "# Modeling"
   ]
  },
  {
   "cell_type": "code",
   "execution_count": 11,
   "metadata": {
    "execution": {
     "iopub.execute_input": "2021-01-29T11:08:26.578198Z",
     "iopub.status.busy": "2021-01-29T11:08:26.577432Z",
     "iopub.status.idle": "2021-01-29T11:08:30.605004Z",
     "shell.execute_reply": "2021-01-29T11:08:30.605544Z"
    },
    "papermill": {
     "duration": 4.054847,
     "end_time": "2021-01-29T11:08:30.605707",
     "exception": false,
     "start_time": "2021-01-29T11:08:26.550860",
     "status": "completed"
    },
    "tags": []
   },
   "outputs": [
    {
     "name": "stdout",
     "output_type": "stream",
     "text": [
      "(1585029, 116)\n",
      "(1585029,)\n",
      "(396258, 116)\n",
      "(396258,)\n"
     ]
    }
   ],
   "source": [
    "X_train, X_test, y_train, y_test = train_test_split(train[features], train[target], random_state=2021, test_size=0.2)\n",
    "\n",
    "print(X_train.shape)\n",
    "print(y_train.shape)\n",
    "print(X_test.shape)\n",
    "print(y_test.shape)"
   ]
  },
  {
   "cell_type": "code",
   "execution_count": 12,
   "metadata": {
    "execution": {
     "iopub.execute_input": "2021-01-29T11:08:30.654989Z",
     "iopub.status.busy": "2021-01-29T11:08:30.653771Z",
     "iopub.status.idle": "2021-01-29T11:08:30.658835Z",
     "shell.execute_reply": "2021-01-29T11:08:30.658172Z"
    },
    "papermill": {
     "duration": 0.032734,
     "end_time": "2021-01-29T11:08:30.658956",
     "exception": false,
     "start_time": "2021-01-29T11:08:30.626222",
     "status": "completed"
    },
    "tags": []
   },
   "outputs": [
    {
     "data": {
      "text/plain": [
       "'\\ndef create_model(trial):\\n    num_leaves = trial.suggest_int(\"num_leaves\", 2, 31)\\n    n_estimators = trial.suggest_int(\"n_estimators\", 50, 300)\\n    max_depth = trial.suggest_int(\\'max_depth\\', 3, 8)\\n    min_child_samples = trial.suggest_int(\\'min_child_samples\\', 100, 1200)\\n    learning_rate = trial.suggest_uniform(\\'learning_rate\\', 0.0001, 0.99)\\n    min_data_in_leaf = trial.suggest_int(\\'min_data_in_leaf\\', 5, 90)\\n    bagging_fraction = trial.suggest_uniform(\\'bagging_fraction\\', 0.0001, 1.0)\\n    feature_fraction = trial.suggest_uniform(\\'feature_fraction\\', 0.0001, 1.0)\\n    bagging_freq = trial.suggest_int(\\'bagging_freq\\', 1, 7)\\n    subsample = trial.suggest_uniform(\\'subsample\\', 0.1, 1.0)\\n    colsample_bytree = trial.suggest_uniform(\\'colsample_bytree\\', 0.1, 1.0)\\n    tree_method = \\'gpu_hist\\'\\n    random_state = 2021\\n    \\n    model = lgb.LGBMClassifier(\\n        num_leaves=num_leaves,\\n        n_estimators=n_estimators, \\n        max_depth=max_depth, \\n        min_child_samples=min_child_samples, \\n        min_data_in_leaf=min_data_in_leaf,\\n        learning_rate=learning_rate,\\n        feature_fraction=feature_fraction,\\n        bagging_freq=bagging_freq,\\n        subsample=subsample,\\n        colsample_bytree=colsample_bytree,\\n        tree_method=\\'gpu_hist\\',\\n        random_state=2021)\\n        \\n    return model\\n\\ndef objective(trial):\\n    model = create_model(trial)\\n    model.fit(X_train, y_train)\\n    score = roc_auc_score(y_test.values, model.predict_proba(X_test)[:,1])\\n    return score\\n\\nstudy = optuna.create_study(direction=\"maximize\")\\nstudy.optimize(objective, n_trials=40)\\nparams = study.best_params\\n\\nprint(params)\\n\\n'"
      ]
     },
     "execution_count": 12,
     "metadata": {},
     "output_type": "execute_result"
    }
   ],
   "source": [
    "'''\n",
    "def create_model(trial):\n",
    "    num_leaves = trial.suggest_int(\"num_leaves\", 2, 31)\n",
    "    n_estimators = trial.suggest_int(\"n_estimators\", 50, 300)\n",
    "    max_depth = trial.suggest_int('max_depth', 3, 8)\n",
    "    min_child_samples = trial.suggest_int('min_child_samples', 100, 1200)\n",
    "    learning_rate = trial.suggest_uniform('learning_rate', 0.0001, 0.99)\n",
    "    min_data_in_leaf = trial.suggest_int('min_data_in_leaf', 5, 90)\n",
    "    bagging_fraction = trial.suggest_uniform('bagging_fraction', 0.0001, 1.0)\n",
    "    feature_fraction = trial.suggest_uniform('feature_fraction', 0.0001, 1.0)\n",
    "    bagging_freq = trial.suggest_int('bagging_freq', 1, 7)\n",
    "    subsample = trial.suggest_uniform('subsample', 0.1, 1.0)\n",
    "    colsample_bytree = trial.suggest_uniform('colsample_bytree', 0.1, 1.0)\n",
    "    tree_method = 'gpu_hist'\n",
    "    random_state = 2021\n",
    "    \n",
    "    model = lgb.LGBMClassifier(\n",
    "        num_leaves=num_leaves,\n",
    "        n_estimators=n_estimators, \n",
    "        max_depth=max_depth, \n",
    "        min_child_samples=min_child_samples, \n",
    "        min_data_in_leaf=min_data_in_leaf,\n",
    "        learning_rate=learning_rate,\n",
    "        feature_fraction=feature_fraction,\n",
    "        bagging_freq=bagging_freq,\n",
    "        subsample=subsample,\n",
    "        colsample_bytree=colsample_bytree,\n",
    "        tree_method='gpu_hist',\n",
    "        random_state=2021)\n",
    "        \n",
    "    return model\n",
    "\n",
    "def objective(trial):\n",
    "    model = create_model(trial)\n",
    "    model.fit(X_train, y_train)\n",
    "    score = roc_auc_score(y_test.values, model.predict_proba(X_test)[:,1])\n",
    "    return score\n",
    "\n",
    "study = optuna.create_study(direction=\"maximize\")\n",
    "study.optimize(objective, n_trials=40)\n",
    "params = study.best_params\n",
    "\n",
    "print(params)\n",
    "\n",
    "'''"
   ]
  },
  {
   "cell_type": "code",
   "execution_count": 13,
   "metadata": {
    "execution": {
     "iopub.execute_input": "2021-01-29T11:08:30.708831Z",
     "iopub.status.busy": "2021-01-29T11:08:30.708151Z",
     "iopub.status.idle": "2021-01-29T11:08:30.711018Z",
     "shell.execute_reply": "2021-01-29T11:08:30.711509Z"
    },
    "papermill": {
     "duration": 0.031867,
     "end_time": "2021-01-29T11:08:30.711657",
     "exception": false,
     "start_time": "2021-01-29T11:08:30.679790",
     "status": "completed"
    },
    "tags": []
   },
   "outputs": [],
   "source": [
    "params = {'num_leaves': 31,\n",
    "          'n_estimators': 233,\n",
    "          'max_depth': 8,\n",
    "          'min_child_samples': 471,\n",
    "          'learning_rate': 0.4632871325838548,\n",
    "          'min_data_in_leaf': 58,\n",
    "          'bagging_fraction': 0.015017317657353202,\n",
    "          'feature_fraction': 0.5183554308849505,\n",
    "          'bagging_freq': 6,\n",
    "          'subsample': 0.9527614413140412,\n",
    "          'colsample_bytree': 0.1686391522311169,\n",
    "          'tree_method': 'gpu_hist',\n",
    "          'random_state': 2021}"
   ]
  },
  {
   "cell_type": "code",
   "execution_count": 14,
   "metadata": {
    "execution": {
     "iopub.execute_input": "2021-01-29T11:08:31.311251Z",
     "iopub.status.busy": "2021-01-29T11:08:31.310526Z",
     "iopub.status.idle": "2021-01-29T11:09:08.949915Z",
     "shell.execute_reply": "2021-01-29T11:09:08.950468Z"
    },
    "papermill": {
     "duration": 38.217856,
     "end_time": "2021-01-29T11:09:08.950650",
     "exception": false,
     "start_time": "2021-01-29T11:08:30.732794",
     "status": "completed"
    },
    "tags": []
   },
   "outputs": [
    {
     "name": "stdout",
     "output_type": "stream",
     "text": [
      "AUC:  0.5216069243252318\n",
      "CPU times: user 2min 8s, sys: 3.53 s, total: 2min 11s\n",
      "Wall time: 38.2 s\n"
     ]
    }
   ],
   "source": [
    "%%time\n",
    "\n",
    "cls = lgb.LGBMClassifier(**params)\n",
    "cls.fit(train[features], train[target])\n",
    "\n",
    "y_proba = cls.predict_proba(X_test)[:,1]\n",
    "\n",
    "print('AUC: ', roc_auc_score(y_test, y_proba))"
   ]
  },
  {
   "cell_type": "code",
   "execution_count": 15,
   "metadata": {
    "execution": {
     "iopub.execute_input": "2021-01-29T11:09:09.106103Z",
     "iopub.status.busy": "2021-01-29T11:09:09.105018Z",
     "iopub.status.idle": "2021-01-29T11:09:09.109945Z",
     "shell.execute_reply": "2021-01-29T11:09:09.109416Z"
    },
    "papermill": {
     "duration": 0.137817,
     "end_time": "2021-01-29T11:09:09.110064",
     "exception": false,
     "start_time": "2021-01-29T11:09:08.972247",
     "status": "completed"
    },
    "tags": []
   },
   "outputs": [
    {
     "data": {
      "text/plain": [
       "62"
      ]
     },
     "execution_count": 15,
     "metadata": {},
     "output_type": "execute_result"
    }
   ],
   "source": [
    "del(train)\n",
    "gc.collect()"
   ]
  },
  {
   "cell_type": "markdown",
   "metadata": {
    "papermill": {
     "duration": 0.022019,
     "end_time": "2021-01-29T11:09:09.154602",
     "exception": false,
     "start_time": "2021-01-29T11:09:09.132583",
     "status": "completed"
    },
    "tags": []
   },
   "source": [
    "# Submit"
   ]
  },
  {
   "cell_type": "code",
   "execution_count": 16,
   "metadata": {
    "execution": {
     "iopub.execute_input": "2021-01-29T11:09:09.205603Z",
     "iopub.status.busy": "2021-01-29T11:09:09.204865Z",
     "iopub.status.idle": "2021-01-29T11:09:09.208749Z",
     "shell.execute_reply": "2021-01-29T11:09:09.208040Z"
    },
    "papermill": {
     "duration": 0.03184,
     "end_time": "2021-01-29T11:09:09.208889",
     "exception": false,
     "start_time": "2021-01-29T11:09:09.177049",
     "status": "completed"
    },
    "tags": []
   },
   "outputs": [],
   "source": [
    "env = janestreet.make_env()\n",
    "iter_test = env.iter_test()"
   ]
  },
  {
   "cell_type": "code",
   "execution_count": 17,
   "metadata": {
    "execution": {
     "iopub.execute_input": "2021-01-29T11:09:09.260191Z",
     "iopub.status.busy": "2021-01-29T11:09:09.259186Z",
     "iopub.status.idle": "2021-01-29T11:09:09.263757Z",
     "shell.execute_reply": "2021-01-29T11:09:09.263098Z"
    },
    "papermill": {
     "duration": 0.03204,
     "end_time": "2021-01-29T11:09:09.263872",
     "exception": false,
     "start_time": "2021-01-29T11:09:09.231832",
     "status": "completed"
    },
    "tags": []
   },
   "outputs": [
    {
     "data": {
      "text/plain": [
       "\"\\n%%time\\n\\nfor (test, sample_prediction) in iter_test:\\n    test = test.fillna(0.5)\\n    sample_prediction['action'] = cls.predict(test[features])\\n    env.predict(sample_prediction)\\n    \\n\""
      ]
     },
     "execution_count": 17,
     "metadata": {},
     "output_type": "execute_result"
    }
   ],
   "source": [
    "'''\n",
    "%%time\n",
    "\n",
    "for (test, sample_prediction) in iter_test:\n",
    "    test = test.fillna(0.5)\n",
    "    sample_prediction['action'] = cls.predict(test[features])\n",
    "    env.predict(sample_prediction)\n",
    "    \n",
    "'''"
   ]
  },
  {
   "cell_type": "code",
   "execution_count": 18,
   "metadata": {
    "execution": {
     "iopub.execute_input": "2021-01-29T11:09:09.322451Z",
     "iopub.status.busy": "2021-01-29T11:09:09.321660Z",
     "iopub.status.idle": "2021-01-29T11:13:41.197522Z",
     "shell.execute_reply": "2021-01-29T11:13:41.198315Z"
    },
    "papermill": {
     "duration": 271.911734,
     "end_time": "2021-01-29T11:13:41.198567",
     "exception": false,
     "start_time": "2021-01-29T11:09:09.286833",
     "status": "completed"
    },
    "tags": []
   },
   "outputs": [
    {
     "name": "stdout",
     "output_type": "stream",
     "text": [
      "CPU times: user 16min 58s, sys: 31.7 s, total: 17min 30s\n",
      "Wall time: 4min 31s\n"
     ]
    }
   ],
   "source": [
    "%%time\n",
    "\n",
    "for (test, sample_prediction) in iter_test:\n",
    "    test = test.fillna(0.5)\n",
    "    \n",
    "    if test['weight'].item() > 0:\n",
    "        sample_prediction['action'] = cls.predict(test[features])\n",
    "    else:\n",
    "        sample_prediction['action'] = 0\n",
    "    \n",
    "    env.predict(sample_prediction)"
   ]
  }
 ],
 "metadata": {
  "kernelspec": {
   "display_name": "Python 3",
   "language": "python",
   "name": "python3"
  },
  "language_info": {
   "codemirror_mode": {
    "name": "ipython",
    "version": 3
   },
   "file_extension": ".py",
   "mimetype": "text/x-python",
   "name": "python",
   "nbconvert_exporter": "python",
   "pygments_lexer": "ipython3",
   "version": "3.7.6"
  },
  "papermill": {
   "duration": 512.560399,
   "end_time": "2021-01-29T11:13:42.379856",
   "environment_variables": {},
   "exception": null,
   "input_path": "__notebook__.ipynb",
   "output_path": "__notebook__.ipynb",
   "parameters": {},
   "start_time": "2021-01-29T11:05:09.819457",
   "version": "2.1.0"
  }
 },
 "nbformat": 4,
 "nbformat_minor": 4
}
