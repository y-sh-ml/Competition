{
 "cells": [
  {
   "cell_type": "code",
   "execution_count": 1,
   "metadata": {
    "_cell_guid": "b1076dfc-b9ad-4769-8c92-a6c4dae69d19",
    "_uuid": "8f2839f25d086af736a60e9eeb907d3b93b6e0e5",
    "execution": {
     "iopub.execute_input": "2020-11-26T15:37:52.649209Z",
     "iopub.status.busy": "2020-11-26T15:37:52.648349Z",
     "iopub.status.idle": "2020-11-26T15:37:52.656499Z",
     "shell.execute_reply": "2020-11-26T15:37:52.655880Z"
    },
    "papermill": {
     "duration": 0.028893,
     "end_time": "2020-11-26T15:37:52.656665",
     "exception": false,
     "start_time": "2020-11-26T15:37:52.627772",
     "status": "completed"
    },
    "tags": []
   },
   "outputs": [
    {
     "name": "stdout",
     "output_type": "stream",
     "text": [
      "/kaggle/input/jane-street-market-prediction/train.csv\n",
      "/kaggle/input/jane-street-market-prediction/example_test.csv\n",
      "/kaggle/input/jane-street-market-prediction/features.csv\n",
      "/kaggle/input/jane-street-market-prediction/example_sample_submission.csv\n",
      "/kaggle/input/jane-street-market-prediction/janestreet/__init__.py\n",
      "/kaggle/input/jane-street-market-prediction/janestreet/competition.cpython-37m-x86_64-linux-gnu.so\n"
     ]
    }
   ],
   "source": [
    "# This Python 3 environment comes with many helpful analytics libraries installed\n",
    "# It is defined by the kaggle/python Docker image: https://github.com/kaggle/docker-python\n",
    "# For example, here's several helpful packages to load\n",
    "\n",
    "import numpy as np # linear algebra\n",
    "import pandas as pd # data processing, CSV file I/O (e.g. pd.read_csv)\n",
    "\n",
    "# Input data files are available in the read-only \"../input/\" directory\n",
    "# For example, running this (by clicking run or pressing Shift+Enter) will list all files under the input directory\n",
    "\n",
    "import os\n",
    "for dirname, _, filenames in os.walk('/kaggle/input'):\n",
    "    for filename in filenames:\n",
    "        print(os.path.join(dirname, filename))\n",
    "\n",
    "# You can write up to 20GB to the current directory (/kaggle/working/) that gets preserved as output when you create a version using \"Save & Run All\" \n",
    "# You can also write temporary files to /kaggle/temp/, but they won't be saved outside of the current session"
   ]
  },
  {
   "cell_type": "code",
   "execution_count": 2,
   "metadata": {
    "_cell_guid": "79c7e3d0-c299-4dcb-8224-4455121ee9b0",
    "_uuid": "d629ff2d2480ee46fbb7e2d37f6b5fab8052498a",
    "execution": {
     "iopub.execute_input": "2020-11-26T15:37:52.693772Z",
     "iopub.status.busy": "2020-11-26T15:37:52.692916Z",
     "iopub.status.idle": "2020-11-26T15:37:56.406175Z",
     "shell.execute_reply": "2020-11-26T15:37:56.405350Z"
    },
    "papermill": {
     "duration": 3.733958,
     "end_time": "2020-11-26T15:37:56.406338",
     "exception": false,
     "start_time": "2020-11-26T15:37:52.672380",
     "status": "completed"
    },
    "tags": []
   },
   "outputs": [],
   "source": [
    "import numpy as np\n",
    "import pandas as pd\n",
    "import matplotlib.pyplot as plt\n",
    "import seaborn as sns\n",
    "import optuna\n",
    "import lightgbm as lgb\n",
    "import xgboost as xgb\n",
    "\n",
    "from sklearn.preprocessing import StandardScaler\n",
    "from sklearn.model_selection import train_test_split\n",
    "from sklearn.metrics import roc_curve, roc_auc_score\n",
    "from sklearn.metrics import accuracy_score, f1_score\n",
    "from sklearn.metrics import confusion_matrix, classification_report\n",
    "from sklearn.metrics import log_loss\n",
    "from sklearn.model_selection import KFold\n",
    "from sklearn.model_selection import StratifiedKFold\n",
    "from sklearn.model_selection import GridSearchCV"
   ]
  },
  {
   "cell_type": "code",
   "execution_count": 3,
   "metadata": {
    "execution": {
     "iopub.execute_input": "2020-11-26T15:37:56.443692Z",
     "iopub.status.busy": "2020-11-26T15:37:56.442800Z",
     "iopub.status.idle": "2020-11-26T15:37:56.454148Z",
     "shell.execute_reply": "2020-11-26T15:37:56.453322Z"
    },
    "papermill": {
     "duration": 0.035512,
     "end_time": "2020-11-26T15:37:56.454280",
     "exception": false,
     "start_time": "2020-11-26T15:37:56.418768",
     "status": "completed"
    },
    "tags": []
   },
   "outputs": [],
   "source": [
    "import janestreet\n",
    "env = janestreet.make_env()\n",
    "iter_test = env.iter_test()"
   ]
  },
  {
   "cell_type": "code",
   "execution_count": 4,
   "metadata": {
    "execution": {
     "iopub.execute_input": "2020-11-26T15:37:56.487851Z",
     "iopub.status.busy": "2020-11-26T15:37:56.487016Z",
     "iopub.status.idle": "2020-11-26T15:39:48.869668Z",
     "shell.execute_reply": "2020-11-26T15:39:48.868846Z"
    },
    "papermill": {
     "duration": 112.402538,
     "end_time": "2020-11-26T15:39:48.869872",
     "exception": false,
     "start_time": "2020-11-26T15:37:56.467334",
     "status": "completed"
    },
    "tags": []
   },
   "outputs": [],
   "source": [
    "train = pd.read_csv('/kaggle/input/jane-street-market-prediction/train.csv')\n",
    "features = pd.read_csv('../input/jane-street-market-prediction/features.csv')\n",
    "example_test = pd.read_csv('../input/jane-street-market-prediction/example_test.csv')\n",
    "sample_prediction_df = pd.read_csv('../input/jane-street-market-prediction/example_sample_submission.csv')"
   ]
  },
  {
   "cell_type": "code",
   "execution_count": 5,
   "metadata": {
    "execution": {
     "iopub.execute_input": "2020-11-26T15:39:48.904941Z",
     "iopub.status.busy": "2020-11-26T15:39:48.903566Z",
     "iopub.status.idle": "2020-11-26T15:39:48.908073Z",
     "shell.execute_reply": "2020-11-26T15:39:48.908853Z"
    },
    "papermill": {
     "duration": 0.026194,
     "end_time": "2020-11-26T15:39:48.909070",
     "exception": false,
     "start_time": "2020-11-26T15:39:48.882876",
     "status": "completed"
    },
    "tags": []
   },
   "outputs": [
    {
     "name": "stdout",
     "output_type": "stream",
     "text": [
      "train shape is (2390491, 138)\n",
      "features shape is (130, 30)\n",
      "example_test shape is (15219, 133)\n",
      "sample_prediction_df shape is (15219, 2)\n"
     ]
    }
   ],
   "source": [
    "print('train shape is {}'.format(train.shape))\n",
    "print('features shape is {}'.format(features.shape))\n",
    "print('example_test shape is {}'.format(example_test.shape))\n",
    "print('sample_prediction_df shape is {}'.format(sample_prediction_df.shape))"
   ]
  },
  {
   "cell_type": "code",
   "execution_count": 6,
   "metadata": {
    "execution": {
     "iopub.execute_input": "2020-11-26T15:39:48.965498Z",
     "iopub.status.busy": "2020-11-26T15:39:48.957334Z",
     "iopub.status.idle": "2020-11-26T15:39:48.998553Z",
     "shell.execute_reply": "2020-11-26T15:39:48.997866Z"
    },
    "papermill": {
     "duration": 0.074078,
     "end_time": "2020-11-26T15:39:48.998681",
     "exception": false,
     "start_time": "2020-11-26T15:39:48.924603",
     "status": "completed"
    },
    "tags": []
   },
   "outputs": [
    {
     "data": {
      "text/html": [
       "<div>\n",
       "<style scoped>\n",
       "    .dataframe tbody tr th:only-of-type {\n",
       "        vertical-align: middle;\n",
       "    }\n",
       "\n",
       "    .dataframe tbody tr th {\n",
       "        vertical-align: top;\n",
       "    }\n",
       "\n",
       "    .dataframe thead th {\n",
       "        text-align: right;\n",
       "    }\n",
       "</style>\n",
       "<table border=\"1\" class=\"dataframe\">\n",
       "  <thead>\n",
       "    <tr style=\"text-align: right;\">\n",
       "      <th></th>\n",
       "      <th>date</th>\n",
       "      <th>weight</th>\n",
       "      <th>resp_1</th>\n",
       "      <th>resp_2</th>\n",
       "      <th>resp_3</th>\n",
       "      <th>resp_4</th>\n",
       "      <th>resp</th>\n",
       "      <th>feature_0</th>\n",
       "      <th>feature_1</th>\n",
       "      <th>feature_2</th>\n",
       "      <th>...</th>\n",
       "      <th>feature_121</th>\n",
       "      <th>feature_122</th>\n",
       "      <th>feature_123</th>\n",
       "      <th>feature_124</th>\n",
       "      <th>feature_125</th>\n",
       "      <th>feature_126</th>\n",
       "      <th>feature_127</th>\n",
       "      <th>feature_128</th>\n",
       "      <th>feature_129</th>\n",
       "      <th>ts_id</th>\n",
       "    </tr>\n",
       "  </thead>\n",
       "  <tbody>\n",
       "    <tr>\n",
       "      <th>0</th>\n",
       "      <td>0</td>\n",
       "      <td>0.000000</td>\n",
       "      <td>0.009916</td>\n",
       "      <td>0.014079</td>\n",
       "      <td>0.008773</td>\n",
       "      <td>0.001390</td>\n",
       "      <td>0.006270</td>\n",
       "      <td>1</td>\n",
       "      <td>-1.872746</td>\n",
       "      <td>-2.191242</td>\n",
       "      <td>...</td>\n",
       "      <td>NaN</td>\n",
       "      <td>1.168391</td>\n",
       "      <td>8.313583</td>\n",
       "      <td>1.782433</td>\n",
       "      <td>14.018213</td>\n",
       "      <td>2.653056</td>\n",
       "      <td>12.600292</td>\n",
       "      <td>2.301488</td>\n",
       "      <td>11.445807</td>\n",
       "      <td>0</td>\n",
       "    </tr>\n",
       "    <tr>\n",
       "      <th>1</th>\n",
       "      <td>0</td>\n",
       "      <td>16.673515</td>\n",
       "      <td>-0.002828</td>\n",
       "      <td>-0.003226</td>\n",
       "      <td>-0.007319</td>\n",
       "      <td>-0.011114</td>\n",
       "      <td>-0.009792</td>\n",
       "      <td>-1</td>\n",
       "      <td>-1.349537</td>\n",
       "      <td>-1.704709</td>\n",
       "      <td>...</td>\n",
       "      <td>NaN</td>\n",
       "      <td>-1.178850</td>\n",
       "      <td>1.777472</td>\n",
       "      <td>-0.915458</td>\n",
       "      <td>2.831612</td>\n",
       "      <td>-1.417010</td>\n",
       "      <td>2.297459</td>\n",
       "      <td>-1.304614</td>\n",
       "      <td>1.898684</td>\n",
       "      <td>1</td>\n",
       "    </tr>\n",
       "    <tr>\n",
       "      <th>2</th>\n",
       "      <td>0</td>\n",
       "      <td>0.000000</td>\n",
       "      <td>0.025134</td>\n",
       "      <td>0.027607</td>\n",
       "      <td>0.033406</td>\n",
       "      <td>0.034380</td>\n",
       "      <td>0.023970</td>\n",
       "      <td>-1</td>\n",
       "      <td>0.812780</td>\n",
       "      <td>-0.256156</td>\n",
       "      <td>...</td>\n",
       "      <td>NaN</td>\n",
       "      <td>6.115747</td>\n",
       "      <td>9.667908</td>\n",
       "      <td>5.542871</td>\n",
       "      <td>11.671595</td>\n",
       "      <td>7.281757</td>\n",
       "      <td>10.060014</td>\n",
       "      <td>6.638248</td>\n",
       "      <td>9.427299</td>\n",
       "      <td>2</td>\n",
       "    </tr>\n",
       "    <tr>\n",
       "      <th>3</th>\n",
       "      <td>0</td>\n",
       "      <td>0.000000</td>\n",
       "      <td>-0.004730</td>\n",
       "      <td>-0.003273</td>\n",
       "      <td>-0.000461</td>\n",
       "      <td>-0.000476</td>\n",
       "      <td>-0.003200</td>\n",
       "      <td>-1</td>\n",
       "      <td>1.174378</td>\n",
       "      <td>0.344640</td>\n",
       "      <td>...</td>\n",
       "      <td>NaN</td>\n",
       "      <td>2.838853</td>\n",
       "      <td>0.499251</td>\n",
       "      <td>3.033732</td>\n",
       "      <td>1.513488</td>\n",
       "      <td>4.397532</td>\n",
       "      <td>1.266037</td>\n",
       "      <td>3.856384</td>\n",
       "      <td>1.013469</td>\n",
       "      <td>3</td>\n",
       "    </tr>\n",
       "    <tr>\n",
       "      <th>4</th>\n",
       "      <td>0</td>\n",
       "      <td>0.138531</td>\n",
       "      <td>0.001252</td>\n",
       "      <td>0.002165</td>\n",
       "      <td>-0.001215</td>\n",
       "      <td>-0.006219</td>\n",
       "      <td>-0.002604</td>\n",
       "      <td>1</td>\n",
       "      <td>-3.172026</td>\n",
       "      <td>-3.093182</td>\n",
       "      <td>...</td>\n",
       "      <td>NaN</td>\n",
       "      <td>0.344850</td>\n",
       "      <td>4.101145</td>\n",
       "      <td>0.614252</td>\n",
       "      <td>6.623456</td>\n",
       "      <td>0.800129</td>\n",
       "      <td>5.233243</td>\n",
       "      <td>0.362636</td>\n",
       "      <td>3.926633</td>\n",
       "      <td>4</td>\n",
       "    </tr>\n",
       "  </tbody>\n",
       "</table>\n",
       "<p>5 rows × 138 columns</p>\n",
       "</div>"
      ],
      "text/plain": [
       "   date     weight    resp_1    resp_2    resp_3    resp_4      resp  \\\n",
       "0     0   0.000000  0.009916  0.014079  0.008773  0.001390  0.006270   \n",
       "1     0  16.673515 -0.002828 -0.003226 -0.007319 -0.011114 -0.009792   \n",
       "2     0   0.000000  0.025134  0.027607  0.033406  0.034380  0.023970   \n",
       "3     0   0.000000 -0.004730 -0.003273 -0.000461 -0.000476 -0.003200   \n",
       "4     0   0.138531  0.001252  0.002165 -0.001215 -0.006219 -0.002604   \n",
       "\n",
       "   feature_0  feature_1  feature_2  ...  feature_121  feature_122  \\\n",
       "0          1  -1.872746  -2.191242  ...          NaN     1.168391   \n",
       "1         -1  -1.349537  -1.704709  ...          NaN    -1.178850   \n",
       "2         -1   0.812780  -0.256156  ...          NaN     6.115747   \n",
       "3         -1   1.174378   0.344640  ...          NaN     2.838853   \n",
       "4          1  -3.172026  -3.093182  ...          NaN     0.344850   \n",
       "\n",
       "   feature_123  feature_124  feature_125  feature_126  feature_127  \\\n",
       "0     8.313583     1.782433    14.018213     2.653056    12.600292   \n",
       "1     1.777472    -0.915458     2.831612    -1.417010     2.297459   \n",
       "2     9.667908     5.542871    11.671595     7.281757    10.060014   \n",
       "3     0.499251     3.033732     1.513488     4.397532     1.266037   \n",
       "4     4.101145     0.614252     6.623456     0.800129     5.233243   \n",
       "\n",
       "   feature_128  feature_129  ts_id  \n",
       "0     2.301488    11.445807      0  \n",
       "1    -1.304614     1.898684      1  \n",
       "2     6.638248     9.427299      2  \n",
       "3     3.856384     1.013469      3  \n",
       "4     0.362636     3.926633      4  \n",
       "\n",
       "[5 rows x 138 columns]"
      ]
     },
     "execution_count": 6,
     "metadata": {},
     "output_type": "execute_result"
    }
   ],
   "source": [
    "train.head()"
   ]
  },
  {
   "cell_type": "code",
   "execution_count": 7,
   "metadata": {
    "execution": {
     "iopub.execute_input": "2020-11-26T15:39:49.035974Z",
     "iopub.status.busy": "2020-11-26T15:39:49.035081Z",
     "iopub.status.idle": "2020-11-26T15:39:50.779923Z",
     "shell.execute_reply": "2020-11-26T15:39:50.779282Z"
    },
    "papermill": {
     "duration": 1.766999,
     "end_time": "2020-11-26T15:39:50.780061",
     "exception": false,
     "start_time": "2020-11-26T15:39:49.013062",
     "status": "completed"
    },
    "tags": []
   },
   "outputs": [
    {
     "name": "stdout",
     "output_type": "stream",
     "text": [
      "date              0\n",
      "weight            0\n",
      "resp_1            0\n",
      "resp_2            0\n",
      "resp_3            0\n",
      "               ... \n",
      "feature_126    8853\n",
      "feature_127    8853\n",
      "feature_128    1921\n",
      "feature_129    1921\n",
      "ts_id             0\n",
      "Length: 138, dtype: int64\n",
      "Total_null: 6762701\n"
     ]
    }
   ],
   "source": [
    "print(train.isnull().sum())\n",
    "print('Total_null:', train.isnull().sum().sum())"
   ]
  },
  {
   "cell_type": "code",
   "execution_count": 8,
   "metadata": {
    "execution": {
     "iopub.execute_input": "2020-11-26T15:39:50.818321Z",
     "iopub.status.busy": "2020-11-26T15:39:50.817400Z",
     "iopub.status.idle": "2020-11-26T15:39:52.894271Z",
     "shell.execute_reply": "2020-11-26T15:39:52.893634Z"
    },
    "papermill": {
     "duration": 2.099458,
     "end_time": "2020-11-26T15:39:52.894411",
     "exception": false,
     "start_time": "2020-11-26T15:39:50.794953",
     "status": "completed"
    },
    "tags": []
   },
   "outputs": [],
   "source": [
    "train = train[train['weight'] != 0]\n",
    "\n",
    "train['action'] = ((train['weight'].values * train['resp'].values) > 0).astype('int')\n",
    "\n",
    "\n",
    "X_train = train.loc[:, train.columns.str.contains('feature')]\n",
    "y_train = train.loc[:, 'action']"
   ]
  },
  {
   "cell_type": "code",
   "execution_count": 9,
   "metadata": {
    "execution": {
     "iopub.execute_input": "2020-11-26T15:39:52.930676Z",
     "iopub.status.busy": "2020-11-26T15:39:52.929792Z",
     "iopub.status.idle": "2020-11-26T15:39:55.013652Z",
     "shell.execute_reply": "2020-11-26T15:39:55.014561Z"
    },
    "papermill": {
     "duration": 2.104743,
     "end_time": "2020-11-26T15:39:55.014813",
     "exception": false,
     "start_time": "2020-11-26T15:39:52.910070",
     "status": "completed"
    },
    "tags": []
   },
   "outputs": [],
   "source": [
    "X_train = X_train.fillna(-999)"
   ]
  },
  {
   "cell_type": "code",
   "execution_count": 10,
   "metadata": {
    "execution": {
     "iopub.execute_input": "2020-11-26T15:39:55.068222Z",
     "iopub.status.busy": "2020-11-26T15:39:55.066798Z",
     "iopub.status.idle": "2020-11-26T15:39:55.711080Z",
     "shell.execute_reply": "2020-11-26T15:39:55.710281Z"
    },
    "papermill": {
     "duration": 0.672845,
     "end_time": "2020-11-26T15:39:55.711210",
     "exception": false,
     "start_time": "2020-11-26T15:39:55.038365",
     "status": "completed"
    },
    "tags": []
   },
   "outputs": [
    {
     "name": "stdout",
     "output_type": "stream",
     "text": [
      "0\n"
     ]
    }
   ],
   "source": [
    "print(X_train.isnull().sum().sum())"
   ]
  },
  {
   "cell_type": "code",
   "execution_count": 11,
   "metadata": {
    "execution": {
     "iopub.execute_input": "2020-11-26T15:39:55.752678Z",
     "iopub.status.busy": "2020-11-26T15:39:55.751347Z",
     "iopub.status.idle": "2020-11-26T15:42:24.707617Z",
     "shell.execute_reply": "2020-11-26T15:42:24.708338Z"
    },
    "papermill": {
     "duration": 148.981631,
     "end_time": "2020-11-26T15:42:24.708582",
     "exception": false,
     "start_time": "2020-11-26T15:39:55.726951",
     "status": "completed"
    },
    "tags": []
   },
   "outputs": [
    {
     "data": {
      "text/plain": [
       "LGBMClassifier(colsample_bytree=0.6, learning_rate=0.06, max_depth=11,\n",
       "               missing=-999, n_estimators=500, random_state=2020, subsample=0.9,\n",
       "               tree_method='gpu_hist')"
      ]
     },
     "execution_count": 11,
     "metadata": {},
     "output_type": "execute_result"
    }
   ],
   "source": [
    "cls = lgb.LGBMClassifier(n_estimators=500,\n",
    "                         max_depth=11,\n",
    "                         learning_rate=0.06,\n",
    "                         subsample=0.9,\n",
    "                         colsample_bytree=0.6,\n",
    "                         missing=-999,\n",
    "                         random_state=2020,\n",
    "                         tree_method='gpu_hist')\n",
    "\n",
    "cls.fit(X_train, y_train)"
   ]
  },
  {
   "cell_type": "code",
   "execution_count": 12,
   "metadata": {
    "execution": {
     "iopub.execute_input": "2020-11-26T15:42:24.759315Z",
     "iopub.status.busy": "2020-11-26T15:42:24.758251Z",
     "iopub.status.idle": "2020-11-26T15:47:47.535992Z",
     "shell.execute_reply": "2020-11-26T15:47:47.535117Z"
    },
    "papermill": {
     "duration": 322.808168,
     "end_time": "2020-11-26T15:47:47.536164",
     "exception": false,
     "start_time": "2020-11-26T15:42:24.727996",
     "status": "completed"
    },
    "tags": []
   },
   "outputs": [],
   "source": [
    "for (test_df, sample_prediction_df) in iter_test:\n",
    "    X_test = test_df.loc[:, test_df.columns.str.contains('feature')]\n",
    "    X_test.fillna(-999)\n",
    "    y_preds = cls.predict(X_test)\n",
    "    sample_prediction_df.action = y_preds\n",
    "    env.predict(sample_prediction_df)"
   ]
  },
  {
   "cell_type": "markdown",
   "metadata": {
    "papermill": {
     "duration": 0.016169,
     "end_time": "2020-11-26T15:47:47.569788",
     "exception": false,
     "start_time": "2020-11-26T15:47:47.553619",
     "status": "completed"
    },
    "tags": []
   },
   "source": [
    "Kaggle Score: 4286.825／158th of 337　（2020/11/27）"
   ]
  }
 ],
 "metadata": {
  "kernelspec": {
   "display_name": "Python 3",
   "language": "python",
   "name": "python3"
  },
  "language_info": {
   "codemirror_mode": {
    "name": "ipython",
    "version": 3
   },
   "file_extension": ".py",
   "mimetype": "text/x-python",
   "name": "python",
   "nbconvert_exporter": "python",
   "pygments_lexer": "ipython3",
   "version": "3.7.6"
  },
  "papermill": {
   "duration": 600.79344,
   "end_time": "2020-11-26T15:47:47.795368",
   "environment_variables": {},
   "exception": null,
   "input_path": "__notebook__.ipynb",
   "output_path": "__notebook__.ipynb",
   "parameters": {},
   "start_time": "2020-11-26T15:37:47.001928",
   "version": "2.1.0"
  }
 },
 "nbformat": 4,
 "nbformat_minor": 4
}
