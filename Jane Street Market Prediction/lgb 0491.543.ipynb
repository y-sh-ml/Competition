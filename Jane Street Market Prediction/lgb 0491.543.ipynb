{
 "cells": [
  {
   "cell_type": "code",
   "execution_count": 1,
   "metadata": {
    "_cell_guid": "b1076dfc-b9ad-4769-8c92-a6c4dae69d19",
    "_uuid": "8f2839f25d086af736a60e9eeb907d3b93b6e0e5",
    "execution": {
     "iopub.execute_input": "2021-01-15T02:19:34.888225Z",
     "iopub.status.busy": "2021-01-15T02:19:34.887277Z",
     "iopub.status.idle": "2021-01-15T02:19:34.897020Z",
     "shell.execute_reply": "2021-01-15T02:19:34.896403Z"
    },
    "papermill": {
     "duration": 0.029813,
     "end_time": "2021-01-15T02:19:34.897160",
     "exception": false,
     "start_time": "2021-01-15T02:19:34.867347",
     "status": "completed"
    },
    "tags": []
   },
   "outputs": [
    {
     "name": "stdout",
     "output_type": "stream",
     "text": [
      "/kaggle/input/jane-street-market-prediction/example_sample_submission.csv\n",
      "/kaggle/input/jane-street-market-prediction/features.csv\n",
      "/kaggle/input/jane-street-market-prediction/example_test.csv\n",
      "/kaggle/input/jane-street-market-prediction/train.csv\n",
      "/kaggle/input/jane-street-market-prediction/janestreet/competition.cpython-37m-x86_64-linux-gnu.so\n",
      "/kaggle/input/jane-street-market-prediction/janestreet/__init__.py\n"
     ]
    }
   ],
   "source": [
    "# This Python 3 environment comes with many helpful analytics libraries installed\n",
    "# It is defined by the kaggle/python Docker image: https://github.com/kaggle/docker-python\n",
    "# For example, here's several helpful packages to load\n",
    "\n",
    "import numpy as np # linear algebra\n",
    "import pandas as pd # data processing, CSV file I/O (e.g. pd.read_csv)\n",
    "\n",
    "# Input data files are available in the read-only \"../input/\" directory\n",
    "# For example, running this (by clicking run or pressing Shift+Enter) will list all files under the input directory\n",
    "\n",
    "import os\n",
    "for dirname, _, filenames in os.walk('/kaggle/input'):\n",
    "    for filename in filenames:\n",
    "        print(os.path.join(dirname, filename))\n",
    "\n",
    "# You can write up to 20GB to the current directory (/kaggle/working/) that gets preserved as output when you create a version using \"Save & Run All\" \n",
    "# You can also write temporary files to /kaggle/temp/, but they won't be saved outside of the current session"
   ]
  },
  {
   "cell_type": "code",
   "execution_count": 2,
   "metadata": {
    "_cell_guid": "79c7e3d0-c299-4dcb-8224-4455121ee9b0",
    "_uuid": "d629ff2d2480ee46fbb7e2d37f6b5fab8052498a",
    "execution": {
     "iopub.execute_input": "2021-01-15T02:19:34.929613Z",
     "iopub.status.busy": "2021-01-15T02:19:34.928772Z",
     "iopub.status.idle": "2021-01-15T02:19:40.823925Z",
     "shell.execute_reply": "2021-01-15T02:19:40.822399Z"
    },
    "papermill": {
     "duration": 5.913065,
     "end_time": "2021-01-15T02:19:40.824039",
     "exception": false,
     "start_time": "2021-01-15T02:19:34.910974",
     "status": "completed"
    },
    "tags": []
   },
   "outputs": [],
   "source": [
    "import numpy as np\n",
    "import pandas as pd\n",
    "import optuna\n",
    "import lightgbm as lgb\n",
    "import xgboost as xgb\n",
    "import janestreet\n",
    "from sklearn.model_selection import train_test_split\n",
    "from sklearn.metrics import roc_auc_score"
   ]
  },
  {
   "cell_type": "markdown",
   "metadata": {
    "papermill": {
     "duration": 0.012289,
     "end_time": "2021-01-15T02:19:40.848857",
     "exception": false,
     "start_time": "2021-01-15T02:19:40.836568",
     "status": "completed"
    },
    "tags": []
   },
   "source": [
    "# Dataset"
   ]
  },
  {
   "cell_type": "code",
   "execution_count": 3,
   "metadata": {
    "execution": {
     "iopub.execute_input": "2021-01-15T02:19:40.888359Z",
     "iopub.status.busy": "2021-01-15T02:19:40.887683Z",
     "iopub.status.idle": "2021-01-15T02:19:46.422671Z",
     "shell.execute_reply": "2021-01-15T02:19:46.423123Z"
    },
    "papermill": {
     "duration": 5.562321,
     "end_time": "2021-01-15T02:19:46.423294",
     "exception": false,
     "start_time": "2021-01-15T02:19:40.860973",
     "status": "completed"
    },
    "tags": []
   },
   "outputs": [
    {
     "name": "stdout",
     "output_type": "stream",
     "text": [
      "(100000, 138)\n",
      "CPU times: user 3.51 s, sys: 219 ms, total: 3.73 s\n",
      "Wall time: 5.5 s\n"
     ]
    },
    {
     "data": {
      "text/html": [
       "<div>\n",
       "<style scoped>\n",
       "    .dataframe tbody tr th:only-of-type {\n",
       "        vertical-align: middle;\n",
       "    }\n",
       "\n",
       "    .dataframe tbody tr th {\n",
       "        vertical-align: top;\n",
       "    }\n",
       "\n",
       "    .dataframe thead th {\n",
       "        text-align: right;\n",
       "    }\n",
       "</style>\n",
       "<table border=\"1\" class=\"dataframe\">\n",
       "  <thead>\n",
       "    <tr style=\"text-align: right;\">\n",
       "      <th></th>\n",
       "      <th>date</th>\n",
       "      <th>weight</th>\n",
       "      <th>resp_1</th>\n",
       "      <th>resp_2</th>\n",
       "      <th>resp_3</th>\n",
       "      <th>resp_4</th>\n",
       "      <th>resp</th>\n",
       "      <th>feature_0</th>\n",
       "      <th>feature_1</th>\n",
       "      <th>feature_2</th>\n",
       "      <th>...</th>\n",
       "      <th>feature_121</th>\n",
       "      <th>feature_122</th>\n",
       "      <th>feature_123</th>\n",
       "      <th>feature_124</th>\n",
       "      <th>feature_125</th>\n",
       "      <th>feature_126</th>\n",
       "      <th>feature_127</th>\n",
       "      <th>feature_128</th>\n",
       "      <th>feature_129</th>\n",
       "      <th>ts_id</th>\n",
       "    </tr>\n",
       "  </thead>\n",
       "  <tbody>\n",
       "    <tr>\n",
       "      <th>0</th>\n",
       "      <td>0</td>\n",
       "      <td>0.000000</td>\n",
       "      <td>0.009916</td>\n",
       "      <td>0.014079</td>\n",
       "      <td>0.008773</td>\n",
       "      <td>0.001390</td>\n",
       "      <td>0.006270</td>\n",
       "      <td>1</td>\n",
       "      <td>-1.872746</td>\n",
       "      <td>-2.191242</td>\n",
       "      <td>...</td>\n",
       "      <td>NaN</td>\n",
       "      <td>1.168391</td>\n",
       "      <td>8.313583</td>\n",
       "      <td>1.782433</td>\n",
       "      <td>14.018213</td>\n",
       "      <td>2.653056</td>\n",
       "      <td>12.600292</td>\n",
       "      <td>2.301488</td>\n",
       "      <td>11.445807</td>\n",
       "      <td>0</td>\n",
       "    </tr>\n",
       "    <tr>\n",
       "      <th>1</th>\n",
       "      <td>0</td>\n",
       "      <td>16.673515</td>\n",
       "      <td>-0.002828</td>\n",
       "      <td>-0.003226</td>\n",
       "      <td>-0.007319</td>\n",
       "      <td>-0.011114</td>\n",
       "      <td>-0.009792</td>\n",
       "      <td>-1</td>\n",
       "      <td>-1.349537</td>\n",
       "      <td>-1.704709</td>\n",
       "      <td>...</td>\n",
       "      <td>NaN</td>\n",
       "      <td>-1.178850</td>\n",
       "      <td>1.777472</td>\n",
       "      <td>-0.915458</td>\n",
       "      <td>2.831612</td>\n",
       "      <td>-1.417010</td>\n",
       "      <td>2.297459</td>\n",
       "      <td>-1.304614</td>\n",
       "      <td>1.898684</td>\n",
       "      <td>1</td>\n",
       "    </tr>\n",
       "    <tr>\n",
       "      <th>2</th>\n",
       "      <td>0</td>\n",
       "      <td>0.000000</td>\n",
       "      <td>0.025134</td>\n",
       "      <td>0.027607</td>\n",
       "      <td>0.033406</td>\n",
       "      <td>0.034380</td>\n",
       "      <td>0.023970</td>\n",
       "      <td>-1</td>\n",
       "      <td>0.812780</td>\n",
       "      <td>-0.256156</td>\n",
       "      <td>...</td>\n",
       "      <td>NaN</td>\n",
       "      <td>6.115747</td>\n",
       "      <td>9.667908</td>\n",
       "      <td>5.542871</td>\n",
       "      <td>11.671595</td>\n",
       "      <td>7.281757</td>\n",
       "      <td>10.060014</td>\n",
       "      <td>6.638248</td>\n",
       "      <td>9.427299</td>\n",
       "      <td>2</td>\n",
       "    </tr>\n",
       "    <tr>\n",
       "      <th>3</th>\n",
       "      <td>0</td>\n",
       "      <td>0.000000</td>\n",
       "      <td>-0.004730</td>\n",
       "      <td>-0.003273</td>\n",
       "      <td>-0.000461</td>\n",
       "      <td>-0.000476</td>\n",
       "      <td>-0.003200</td>\n",
       "      <td>-1</td>\n",
       "      <td>1.174378</td>\n",
       "      <td>0.344640</td>\n",
       "      <td>...</td>\n",
       "      <td>NaN</td>\n",
       "      <td>2.838853</td>\n",
       "      <td>0.499251</td>\n",
       "      <td>3.033732</td>\n",
       "      <td>1.513488</td>\n",
       "      <td>4.397532</td>\n",
       "      <td>1.266037</td>\n",
       "      <td>3.856384</td>\n",
       "      <td>1.013469</td>\n",
       "      <td>3</td>\n",
       "    </tr>\n",
       "    <tr>\n",
       "      <th>4</th>\n",
       "      <td>0</td>\n",
       "      <td>0.138531</td>\n",
       "      <td>0.001252</td>\n",
       "      <td>0.002165</td>\n",
       "      <td>-0.001215</td>\n",
       "      <td>-0.006219</td>\n",
       "      <td>-0.002604</td>\n",
       "      <td>1</td>\n",
       "      <td>-3.172026</td>\n",
       "      <td>-3.093182</td>\n",
       "      <td>...</td>\n",
       "      <td>NaN</td>\n",
       "      <td>0.344850</td>\n",
       "      <td>4.101145</td>\n",
       "      <td>0.614252</td>\n",
       "      <td>6.623456</td>\n",
       "      <td>0.800129</td>\n",
       "      <td>5.233243</td>\n",
       "      <td>0.362636</td>\n",
       "      <td>3.926633</td>\n",
       "      <td>4</td>\n",
       "    </tr>\n",
       "  </tbody>\n",
       "</table>\n",
       "<p>5 rows × 138 columns</p>\n",
       "</div>"
      ],
      "text/plain": [
       "   date     weight    resp_1    resp_2    resp_3    resp_4      resp  \\\n",
       "0     0   0.000000  0.009916  0.014079  0.008773  0.001390  0.006270   \n",
       "1     0  16.673515 -0.002828 -0.003226 -0.007319 -0.011114 -0.009792   \n",
       "2     0   0.000000  0.025134  0.027607  0.033406  0.034380  0.023970   \n",
       "3     0   0.000000 -0.004730 -0.003273 -0.000461 -0.000476 -0.003200   \n",
       "4     0   0.138531  0.001252  0.002165 -0.001215 -0.006219 -0.002604   \n",
       "\n",
       "   feature_0  feature_1  feature_2  ...  feature_121  feature_122  \\\n",
       "0          1  -1.872746  -2.191242  ...          NaN     1.168391   \n",
       "1         -1  -1.349537  -1.704709  ...          NaN    -1.178850   \n",
       "2         -1   0.812780  -0.256156  ...          NaN     6.115747   \n",
       "3         -1   1.174378   0.344640  ...          NaN     2.838853   \n",
       "4          1  -3.172026  -3.093182  ...          NaN     0.344850   \n",
       "\n",
       "   feature_123  feature_124  feature_125  feature_126  feature_127  \\\n",
       "0     8.313583     1.782433    14.018213     2.653056    12.600292   \n",
       "1     1.777472    -0.915458     2.831612    -1.417010     2.297459   \n",
       "2     9.667908     5.542871    11.671595     7.281757    10.060014   \n",
       "3     0.499251     3.033732     1.513488     4.397532     1.266037   \n",
       "4     4.101145     0.614252     6.623456     0.800129     5.233243   \n",
       "\n",
       "   feature_128  feature_129  ts_id  \n",
       "0     2.301488    11.445807      0  \n",
       "1    -1.304614     1.898684      1  \n",
       "2     6.638248     9.427299      2  \n",
       "3     3.856384     1.013469      3  \n",
       "4     0.362636     3.926633      4  \n",
       "\n",
       "[5 rows x 138 columns]"
      ]
     },
     "execution_count": 3,
     "metadata": {},
     "output_type": "execute_result"
    }
   ],
   "source": [
    "%%time\n",
    "\n",
    "train  = pd.read_csv('/kaggle/input/jane-street-market-prediction/train.csv', nrows=10**5)\n",
    "\n",
    "print(train.shape)\n",
    "train.head()\n",
    "\n",
    "# all train shape (2390491, 138)"
   ]
  },
  {
   "cell_type": "code",
   "execution_count": 4,
   "metadata": {
    "execution": {
     "iopub.execute_input": "2021-01-15T02:19:46.458528Z",
     "iopub.status.busy": "2021-01-15T02:19:46.454620Z",
     "iopub.status.idle": "2021-01-15T02:19:47.375540Z",
     "shell.execute_reply": "2021-01-15T02:19:47.376252Z"
    },
    "papermill": {
     "duration": 0.939166,
     "end_time": "2021-01-15T02:19:47.376431",
     "exception": false,
     "start_time": "2021-01-15T02:19:46.437265",
     "status": "completed"
    },
    "tags": []
   },
   "outputs": [
    {
     "name": "stdout",
     "output_type": "stream",
     "text": [
      "(15219, 133)\n"
     ]
    },
    {
     "data": {
      "text/html": [
       "<div>\n",
       "<style scoped>\n",
       "    .dataframe tbody tr th:only-of-type {\n",
       "        vertical-align: middle;\n",
       "    }\n",
       "\n",
       "    .dataframe tbody tr th {\n",
       "        vertical-align: top;\n",
       "    }\n",
       "\n",
       "    .dataframe thead th {\n",
       "        text-align: right;\n",
       "    }\n",
       "</style>\n",
       "<table border=\"1\" class=\"dataframe\">\n",
       "  <thead>\n",
       "    <tr style=\"text-align: right;\">\n",
       "      <th></th>\n",
       "      <th>weight</th>\n",
       "      <th>feature_0</th>\n",
       "      <th>feature_1</th>\n",
       "      <th>feature_2</th>\n",
       "      <th>feature_3</th>\n",
       "      <th>feature_4</th>\n",
       "      <th>feature_5</th>\n",
       "      <th>feature_6</th>\n",
       "      <th>feature_7</th>\n",
       "      <th>feature_8</th>\n",
       "      <th>...</th>\n",
       "      <th>feature_122</th>\n",
       "      <th>feature_123</th>\n",
       "      <th>feature_124</th>\n",
       "      <th>feature_125</th>\n",
       "      <th>feature_126</th>\n",
       "      <th>feature_127</th>\n",
       "      <th>feature_128</th>\n",
       "      <th>feature_129</th>\n",
       "      <th>date</th>\n",
       "      <th>ts_id</th>\n",
       "    </tr>\n",
       "  </thead>\n",
       "  <tbody>\n",
       "    <tr>\n",
       "      <th>0</th>\n",
       "      <td>0.000000</td>\n",
       "      <td>1</td>\n",
       "      <td>-1.872746</td>\n",
       "      <td>-2.191242</td>\n",
       "      <td>-0.474163</td>\n",
       "      <td>-0.323046</td>\n",
       "      <td>0.014688</td>\n",
       "      <td>-0.002484</td>\n",
       "      <td>NaN</td>\n",
       "      <td>NaN</td>\n",
       "      <td>...</td>\n",
       "      <td>1.168391</td>\n",
       "      <td>8.313583</td>\n",
       "      <td>1.782433</td>\n",
       "      <td>14.018213</td>\n",
       "      <td>2.653056</td>\n",
       "      <td>12.600292</td>\n",
       "      <td>2.301488</td>\n",
       "      <td>11.445807</td>\n",
       "      <td>0</td>\n",
       "      <td>0</td>\n",
       "    </tr>\n",
       "    <tr>\n",
       "      <th>1</th>\n",
       "      <td>16.673515</td>\n",
       "      <td>-1</td>\n",
       "      <td>-1.349537</td>\n",
       "      <td>-1.704709</td>\n",
       "      <td>0.068058</td>\n",
       "      <td>0.028432</td>\n",
       "      <td>0.193794</td>\n",
       "      <td>0.138212</td>\n",
       "      <td>NaN</td>\n",
       "      <td>NaN</td>\n",
       "      <td>...</td>\n",
       "      <td>-1.178850</td>\n",
       "      <td>1.777472</td>\n",
       "      <td>-0.915458</td>\n",
       "      <td>2.831612</td>\n",
       "      <td>-1.417010</td>\n",
       "      <td>2.297459</td>\n",
       "      <td>-1.304614</td>\n",
       "      <td>1.898684</td>\n",
       "      <td>0</td>\n",
       "      <td>1</td>\n",
       "    </tr>\n",
       "    <tr>\n",
       "      <th>2</th>\n",
       "      <td>0.000000</td>\n",
       "      <td>-1</td>\n",
       "      <td>0.812780</td>\n",
       "      <td>-0.256156</td>\n",
       "      <td>0.806463</td>\n",
       "      <td>0.400221</td>\n",
       "      <td>-0.614188</td>\n",
       "      <td>-0.354800</td>\n",
       "      <td>NaN</td>\n",
       "      <td>NaN</td>\n",
       "      <td>...</td>\n",
       "      <td>6.115747</td>\n",
       "      <td>9.667908</td>\n",
       "      <td>5.542871</td>\n",
       "      <td>11.671595</td>\n",
       "      <td>7.281757</td>\n",
       "      <td>10.060014</td>\n",
       "      <td>6.638248</td>\n",
       "      <td>9.427299</td>\n",
       "      <td>0</td>\n",
       "      <td>2</td>\n",
       "    </tr>\n",
       "    <tr>\n",
       "      <th>3</th>\n",
       "      <td>0.000000</td>\n",
       "      <td>-1</td>\n",
       "      <td>1.174378</td>\n",
       "      <td>0.344640</td>\n",
       "      <td>0.066872</td>\n",
       "      <td>0.009357</td>\n",
       "      <td>-1.006373</td>\n",
       "      <td>-0.676458</td>\n",
       "      <td>NaN</td>\n",
       "      <td>NaN</td>\n",
       "      <td>...</td>\n",
       "      <td>2.838853</td>\n",
       "      <td>0.499251</td>\n",
       "      <td>3.033732</td>\n",
       "      <td>1.513488</td>\n",
       "      <td>4.397532</td>\n",
       "      <td>1.266037</td>\n",
       "      <td>3.856384</td>\n",
       "      <td>1.013469</td>\n",
       "      <td>0</td>\n",
       "      <td>3</td>\n",
       "    </tr>\n",
       "    <tr>\n",
       "      <th>4</th>\n",
       "      <td>0.138531</td>\n",
       "      <td>1</td>\n",
       "      <td>-3.172026</td>\n",
       "      <td>-3.093182</td>\n",
       "      <td>-0.161518</td>\n",
       "      <td>-0.128149</td>\n",
       "      <td>-0.195006</td>\n",
       "      <td>-0.143780</td>\n",
       "      <td>NaN</td>\n",
       "      <td>NaN</td>\n",
       "      <td>...</td>\n",
       "      <td>0.344850</td>\n",
       "      <td>4.101145</td>\n",
       "      <td>0.614252</td>\n",
       "      <td>6.623456</td>\n",
       "      <td>0.800129</td>\n",
       "      <td>5.233243</td>\n",
       "      <td>0.362636</td>\n",
       "      <td>3.926633</td>\n",
       "      <td>0</td>\n",
       "      <td>4</td>\n",
       "    </tr>\n",
       "  </tbody>\n",
       "</table>\n",
       "<p>5 rows × 133 columns</p>\n",
       "</div>"
      ],
      "text/plain": [
       "      weight  feature_0  feature_1  feature_2  feature_3  feature_4  \\\n",
       "0   0.000000          1  -1.872746  -2.191242  -0.474163  -0.323046   \n",
       "1  16.673515         -1  -1.349537  -1.704709   0.068058   0.028432   \n",
       "2   0.000000         -1   0.812780  -0.256156   0.806463   0.400221   \n",
       "3   0.000000         -1   1.174378   0.344640   0.066872   0.009357   \n",
       "4   0.138531          1  -3.172026  -3.093182  -0.161518  -0.128149   \n",
       "\n",
       "   feature_5  feature_6  feature_7  feature_8  ...  feature_122  feature_123  \\\n",
       "0   0.014688  -0.002484        NaN        NaN  ...     1.168391     8.313583   \n",
       "1   0.193794   0.138212        NaN        NaN  ...    -1.178850     1.777472   \n",
       "2  -0.614188  -0.354800        NaN        NaN  ...     6.115747     9.667908   \n",
       "3  -1.006373  -0.676458        NaN        NaN  ...     2.838853     0.499251   \n",
       "4  -0.195006  -0.143780        NaN        NaN  ...     0.344850     4.101145   \n",
       "\n",
       "   feature_124  feature_125  feature_126  feature_127  feature_128  \\\n",
       "0     1.782433    14.018213     2.653056    12.600292     2.301488   \n",
       "1    -0.915458     2.831612    -1.417010     2.297459    -1.304614   \n",
       "2     5.542871    11.671595     7.281757    10.060014     6.638248   \n",
       "3     3.033732     1.513488     4.397532     1.266037     3.856384   \n",
       "4     0.614252     6.623456     0.800129     5.233243     0.362636   \n",
       "\n",
       "   feature_129  date  ts_id  \n",
       "0    11.445807     0      0  \n",
       "1     1.898684     0      1  \n",
       "2     9.427299     0      2  \n",
       "3     1.013469     0      3  \n",
       "4     3.926633     0      4  \n",
       "\n",
       "[5 rows x 133 columns]"
      ]
     },
     "execution_count": 4,
     "metadata": {},
     "output_type": "execute_result"
    }
   ],
   "source": [
    "example_test = pd.read_csv('../input/jane-street-market-prediction/example_test.csv')\n",
    "\n",
    "print(example_test.shape)\n",
    "example_test.head()"
   ]
  },
  {
   "cell_type": "code",
   "execution_count": 5,
   "metadata": {
    "execution": {
     "iopub.execute_input": "2021-01-15T02:19:47.431429Z",
     "iopub.status.busy": "2021-01-15T02:19:47.430487Z",
     "iopub.status.idle": "2021-01-15T02:19:47.463101Z",
     "shell.execute_reply": "2021-01-15T02:19:47.464247Z"
    },
    "papermill": {
     "duration": 0.061345,
     "end_time": "2021-01-15T02:19:47.464419",
     "exception": false,
     "start_time": "2021-01-15T02:19:47.403074",
     "status": "completed"
    },
    "tags": []
   },
   "outputs": [
    {
     "name": "stdout",
     "output_type": "stream",
     "text": [
      "(15219, 2)\n"
     ]
    },
    {
     "data": {
      "text/html": [
       "<div>\n",
       "<style scoped>\n",
       "    .dataframe tbody tr th:only-of-type {\n",
       "        vertical-align: middle;\n",
       "    }\n",
       "\n",
       "    .dataframe tbody tr th {\n",
       "        vertical-align: top;\n",
       "    }\n",
       "\n",
       "    .dataframe thead th {\n",
       "        text-align: right;\n",
       "    }\n",
       "</style>\n",
       "<table border=\"1\" class=\"dataframe\">\n",
       "  <thead>\n",
       "    <tr style=\"text-align: right;\">\n",
       "      <th></th>\n",
       "      <th>ts_id</th>\n",
       "      <th>action</th>\n",
       "    </tr>\n",
       "  </thead>\n",
       "  <tbody>\n",
       "    <tr>\n",
       "      <th>0</th>\n",
       "      <td>0</td>\n",
       "      <td>1</td>\n",
       "    </tr>\n",
       "    <tr>\n",
       "      <th>1</th>\n",
       "      <td>1</td>\n",
       "      <td>1</td>\n",
       "    </tr>\n",
       "    <tr>\n",
       "      <th>2</th>\n",
       "      <td>2</td>\n",
       "      <td>1</td>\n",
       "    </tr>\n",
       "    <tr>\n",
       "      <th>3</th>\n",
       "      <td>3</td>\n",
       "      <td>1</td>\n",
       "    </tr>\n",
       "    <tr>\n",
       "      <th>4</th>\n",
       "      <td>4</td>\n",
       "      <td>1</td>\n",
       "    </tr>\n",
       "  </tbody>\n",
       "</table>\n",
       "</div>"
      ],
      "text/plain": [
       "   ts_id  action\n",
       "0      0       1\n",
       "1      1       1\n",
       "2      2       1\n",
       "3      3       1\n",
       "4      4       1"
      ]
     },
     "execution_count": 5,
     "metadata": {},
     "output_type": "execute_result"
    }
   ],
   "source": [
    "sample_prediction_df = pd.read_csv('../input/jane-street-market-prediction/example_sample_submission.csv')\n",
    "\n",
    "print(sample_prediction_df.shape)\n",
    "sample_prediction_df.head()"
   ]
  },
  {
   "cell_type": "markdown",
   "metadata": {
    "papermill": {
     "duration": 0.021529,
     "end_time": "2021-01-15T02:19:47.511480",
     "exception": false,
     "start_time": "2021-01-15T02:19:47.489951",
     "status": "completed"
    },
    "tags": []
   },
   "source": [
    "# Preprocess"
   ]
  },
  {
   "cell_type": "code",
   "execution_count": 6,
   "metadata": {
    "execution": {
     "iopub.execute_input": "2021-01-15T02:19:47.563942Z",
     "iopub.status.busy": "2021-01-15T02:19:47.563098Z",
     "iopub.status.idle": "2021-01-15T02:19:47.646819Z",
     "shell.execute_reply": "2021-01-15T02:19:47.648055Z"
    },
    "papermill": {
     "duration": 0.114516,
     "end_time": "2021-01-15T02:19:47.648316",
     "exception": false,
     "start_time": "2021-01-15T02:19:47.533800",
     "status": "completed"
    },
    "tags": []
   },
   "outputs": [],
   "source": [
    "train = train[train['weight'] != 0]\n",
    "\n",
    "train['action'] = ((train['weight'].values * train['resp'].values) > 0).astype('int')\n",
    "\n",
    "X_train = train.loc[:, train.columns.str.contains('feature')]\n",
    "y_train = train.loc[:, 'action']"
   ]
  },
  {
   "cell_type": "code",
   "execution_count": 7,
   "metadata": {
    "execution": {
     "iopub.execute_input": "2021-01-15T02:19:47.710217Z",
     "iopub.status.busy": "2021-01-15T02:19:47.709348Z",
     "iopub.status.idle": "2021-01-15T02:19:47.801535Z",
     "shell.execute_reply": "2021-01-15T02:19:47.802720Z"
    },
    "papermill": {
     "duration": 0.128137,
     "end_time": "2021-01-15T02:19:47.802915",
     "exception": false,
     "start_time": "2021-01-15T02:19:47.674778",
     "status": "completed"
    },
    "tags": []
   },
   "outputs": [
    {
     "name": "stdout",
     "output_type": "stream",
     "text": [
      "X_train: 0\n",
      "y_train: 0\n"
     ]
    }
   ],
   "source": [
    "X_train = X_train.fillna(-999)\n",
    "\n",
    "print('X_train:', X_train.isnull().sum().sum())\n",
    "print('y_train:', y_train.isnull().sum().sum())"
   ]
  },
  {
   "cell_type": "markdown",
   "metadata": {
    "papermill": {
     "duration": 0.023044,
     "end_time": "2021-01-15T02:19:47.849798",
     "exception": false,
     "start_time": "2021-01-15T02:19:47.826754",
     "status": "completed"
    },
    "tags": []
   },
   "source": [
    "# Modeling"
   ]
  },
  {
   "cell_type": "code",
   "execution_count": 8,
   "metadata": {
    "execution": {
     "iopub.execute_input": "2021-01-15T02:19:47.910332Z",
     "iopub.status.busy": "2021-01-15T02:19:47.909455Z",
     "iopub.status.idle": "2021-01-15T02:19:48.009995Z",
     "shell.execute_reply": "2021-01-15T02:19:48.011274Z"
    },
    "papermill": {
     "duration": 0.138302,
     "end_time": "2021-01-15T02:19:48.011463",
     "exception": false,
     "start_time": "2021-01-15T02:19:47.873161",
     "status": "completed"
    },
    "tags": []
   },
   "outputs": [
    {
     "name": "stdout",
     "output_type": "stream",
     "text": [
      "(62207, 130)\n",
      "(62207,)\n",
      "(15552, 130)\n",
      "(15552,)\n"
     ]
    }
   ],
   "source": [
    "X_tr, X_val, y_tr, y_val = train_test_split(X_train, y_train, random_state=666, test_size=0.2)\n",
    "\n",
    "print(X_tr.shape)\n",
    "print(y_tr.shape)\n",
    "print(X_val.shape)\n",
    "print(y_val.shape)"
   ]
  },
  {
   "cell_type": "code",
   "execution_count": 9,
   "metadata": {
    "execution": {
     "iopub.execute_input": "2021-01-15T02:19:48.076158Z",
     "iopub.status.busy": "2021-01-15T02:19:48.075142Z",
     "iopub.status.idle": "2021-01-15T02:21:47.050616Z",
     "shell.execute_reply": "2021-01-15T02:21:47.051250Z"
    },
    "papermill": {
     "duration": 119.014749,
     "end_time": "2021-01-15T02:21:47.051444",
     "exception": false,
     "start_time": "2021-01-15T02:19:48.036695",
     "status": "completed"
    },
    "tags": []
   },
   "outputs": [
    {
     "name": "stderr",
     "output_type": "stream",
     "text": [
      "\u001b[32m[I 2021-01-15 02:19:48,083]\u001b[0m A new study created in memory with name: no-name-f48254ce-226d-4db7-b340-e5f3e5516b25\u001b[0m\n",
      "\u001b[32m[I 2021-01-15 02:19:50,438]\u001b[0m Trial 0 finished with value: 0.6289113962220015 and parameters: {'num_leaves': 25, 'n_estimators': 89, 'max_depth': 4, 'min_child_samples': 330, 'learning_rate': 0.7531026829532032, 'min_data_in_leaf': 13, 'bagging_fraction': 0.29801178870591327, 'feature_fraction': 0.02693156343562796, 'subsample': 0.9958838527560754, 'colsample_bytree': 0.23406504694644323}. Best is trial 0 with value: 0.6289113962220015.\u001b[0m\n",
      "\u001b[32m[I 2021-01-15 02:19:53,698]\u001b[0m Trial 1 finished with value: 0.7084439962397475 and parameters: {'num_leaves': 31, 'n_estimators': 166, 'max_depth': 7, 'min_child_samples': 516, 'learning_rate': 0.5435393344788615, 'min_data_in_leaf': 74, 'bagging_fraction': 0.45910985267829774, 'feature_fraction': 0.14573954334813516, 'subsample': 0.5848796991733658, 'colsample_bytree': 0.11112386839797617}. Best is trial 1 with value: 0.7084439962397475.\u001b[0m\n",
      "\u001b[32m[I 2021-01-15 02:19:56,730]\u001b[0m Trial 2 finished with value: 0.6786452514112165 and parameters: {'num_leaves': 11, 'n_estimators': 61, 'max_depth': 5, 'min_child_samples': 914, 'learning_rate': 0.5205471488375095, 'min_data_in_leaf': 11, 'bagging_fraction': 0.4293289774797288, 'feature_fraction': 0.5477763527707745, 'subsample': 0.12399127872964028, 'colsample_bytree': 0.6348454176019258}. Best is trial 1 with value: 0.7084439962397475.\u001b[0m\n",
      "\u001b[32m[I 2021-01-15 02:20:04,333]\u001b[0m Trial 3 finished with value: 0.7068039315259447 and parameters: {'num_leaves': 25, 'n_estimators': 252, 'max_depth': 8, 'min_child_samples': 940, 'learning_rate': 0.048466284582526, 'min_data_in_leaf': 41, 'bagging_fraction': 0.07803345143153023, 'feature_fraction': 0.3392598970672266, 'subsample': 0.567657892727654, 'colsample_bytree': 0.7451605232477275}. Best is trial 1 with value: 0.7084439962397475.\u001b[0m\n",
      "\u001b[32m[I 2021-01-15 02:20:12,303]\u001b[0m Trial 4 finished with value: 0.6868204412844496 and parameters: {'num_leaves': 25, 'n_estimators': 260, 'max_depth': 3, 'min_child_samples': 1060, 'learning_rate': 0.36160611809487575, 'min_data_in_leaf': 77, 'bagging_fraction': 0.6788500795739796, 'feature_fraction': 0.9845620581600854, 'subsample': 0.4946907611699817, 'colsample_bytree': 0.32883359182686067}. Best is trial 1 with value: 0.7084439962397475.\u001b[0m\n",
      "\u001b[32m[I 2021-01-15 02:20:14,084]\u001b[0m Trial 5 finished with value: 0.5737442916666384 and parameters: {'num_leaves': 3, 'n_estimators': 72, 'max_depth': 8, 'min_child_samples': 1076, 'learning_rate': 0.2042512132249951, 'min_data_in_leaf': 76, 'bagging_fraction': 0.9382730965603571, 'feature_fraction': 0.024310677121883194, 'subsample': 0.859737935674621, 'colsample_bytree': 0.15325609328834414}. Best is trial 1 with value: 0.7084439962397475.\u001b[0m\n",
      "\u001b[32m[I 2021-01-15 02:20:19,021]\u001b[0m Trial 6 finished with value: 0.71784954509418 and parameters: {'num_leaves': 22, 'n_estimators': 123, 'max_depth': 8, 'min_child_samples': 915, 'learning_rate': 0.4134374436987456, 'min_data_in_leaf': 5, 'bagging_fraction': 0.5852818617967388, 'feature_fraction': 0.5655689120468129, 'subsample': 0.42120360975513116, 'colsample_bytree': 0.4319493144943204}. Best is trial 6 with value: 0.71784954509418.\u001b[0m\n",
      "\u001b[32m[I 2021-01-15 02:20:28,851]\u001b[0m Trial 7 finished with value: 0.7157750879940127 and parameters: {'num_leaves': 24, 'n_estimators': 280, 'max_depth': 8, 'min_child_samples': 242, 'learning_rate': 0.7228279548722141, 'min_data_in_leaf': 39, 'bagging_fraction': 0.9607910490959529, 'feature_fraction': 0.5511194014170036, 'subsample': 0.9694027324613701, 'colsample_bytree': 0.24642579813658877}. Best is trial 6 with value: 0.71784954509418.\u001b[0m\n",
      "\u001b[32m[I 2021-01-15 02:20:32,523]\u001b[0m Trial 8 finished with value: 0.6762736603818795 and parameters: {'num_leaves': 9, 'n_estimators': 185, 'max_depth': 3, 'min_child_samples': 444, 'learning_rate': 0.5762790166697516, 'min_data_in_leaf': 28, 'bagging_fraction': 0.14589409740436268, 'feature_fraction': 0.413079718161985, 'subsample': 0.6873457538209493, 'colsample_bytree': 0.7814769116399236}. Best is trial 6 with value: 0.71784954509418.\u001b[0m\n",
      "\u001b[32m[I 2021-01-15 02:20:35,806]\u001b[0m Trial 9 finished with value: 0.6317979217082728 and parameters: {'num_leaves': 3, 'n_estimators': 175, 'max_depth': 8, 'min_child_samples': 1173, 'learning_rate': 0.4977011187307407, 'min_data_in_leaf': 48, 'bagging_fraction': 0.608107492523545, 'feature_fraction': 0.3312145586872435, 'subsample': 0.4799596522148445, 'colsample_bytree': 0.8153282498678747}. Best is trial 6 with value: 0.71784954509418.\u001b[0m\n",
      "\u001b[32m[I 2021-01-15 02:20:41,350]\u001b[0m Trial 10 finished with value: 0.7049419683991955 and parameters: {'num_leaves': 17, 'n_estimators': 121, 'max_depth': 6, 'min_child_samples': 630, 'learning_rate': 0.27912943748994934, 'min_data_in_leaf': 5, 'bagging_fraction': 0.7365294391418585, 'feature_fraction': 0.8170683957238151, 'subsample': 0.2641734315094363, 'colsample_bytree': 0.4514353541600734}. Best is trial 6 with value: 0.71784954509418.\u001b[0m\n",
      "\u001b[32m[I 2021-01-15 02:20:51,423]\u001b[0m Trial 11 finished with value: 0.7031272261554284 and parameters: {'num_leaves': 19, 'n_estimators': 299, 'max_depth': 7, 'min_child_samples': 105, 'learning_rate': 0.9388411182326628, 'min_data_in_leaf': 57, 'bagging_fraction': 0.9513896715268922, 'feature_fraction': 0.6457449928793398, 'subsample': 0.3700464924319374, 'colsample_bytree': 0.4276442475937131}. Best is trial 6 with value: 0.71784954509418.\u001b[0m\n",
      "\u001b[32m[I 2021-01-15 02:20:59,499]\u001b[0m Trial 12 finished with value: 0.7088274589500769 and parameters: {'num_leaves': 30, 'n_estimators': 132, 'max_depth': 7, 'min_child_samples': 101, 'learning_rate': 0.7577307222976104, 'min_data_in_leaf': 26, 'bagging_fraction': 0.8279537655162984, 'feature_fraction': 0.70007162571308, 'subsample': 0.8000448062488781, 'colsample_bytree': 0.5342970647421194}. Best is trial 6 with value: 0.71784954509418.\u001b[0m\n",
      "\u001b[32m[I 2021-01-15 02:21:06,499]\u001b[0m Trial 13 finished with value: 0.7034660508922239 and parameters: {'num_leaves': 21, 'n_estimators': 214, 'max_depth': 6, 'min_child_samples': 800, 'learning_rate': 0.7299183745284132, 'min_data_in_leaf': 90, 'bagging_fraction': 0.9844501652497474, 'feature_fraction': 0.5270314927779759, 'subsample': 0.2527369957998046, 'colsample_bytree': 0.2800161942994722}. Best is trial 6 with value: 0.71784954509418.\u001b[0m\n",
      "\u001b[32m[I 2021-01-15 02:21:12,791]\u001b[0m Trial 14 finished with value: 0.695273840308014 and parameters: {'num_leaves': 22, 'n_estimators': 117, 'max_depth': 8, 'min_child_samples': 290, 'learning_rate': 0.9308645134561906, 'min_data_in_leaf': 24, 'bagging_fraction': 0.29298299820747425, 'feature_fraction': 0.8329495876941353, 'subsample': 0.9363329840632577, 'colsample_bytree': 0.36593274270703124}. Best is trial 6 with value: 0.71784954509418.\u001b[0m\n",
      "\u001b[32m[I 2021-01-15 02:21:17,035]\u001b[0m Trial 15 finished with value: 0.7057966630697445 and parameters: {'num_leaves': 12, 'n_estimators': 298, 'max_depth': 7, 'min_child_samples': 686, 'learning_rate': 0.36643260395121213, 'min_data_in_leaf': 39, 'bagging_fraction': 0.8255539675851828, 'feature_fraction': 0.23183370490190802, 'subsample': 0.3770019005161523, 'colsample_bytree': 0.5746142903198994}. Best is trial 6 with value: 0.71784954509418.\u001b[0m\n",
      "\u001b[32m[I 2021-01-15 02:21:25,528]\u001b[0m Trial 16 finished with value: 0.7214233480145795 and parameters: {'num_leaves': 28, 'n_estimators': 231, 'max_depth': 5, 'min_child_samples': 808, 'learning_rate': 0.647045355158735, 'min_data_in_leaf': 62, 'bagging_fraction': 0.5576613159890975, 'feature_fraction': 0.6533625613907775, 'subsample': 0.6864160561063538, 'colsample_bytree': 0.19537289831614685}. Best is trial 16 with value: 0.7214233480145795.\u001b[0m\n",
      "\u001b[32m[I 2021-01-15 02:21:35,028]\u001b[0m Trial 17 finished with value: 0.7102896837255528 and parameters: {'num_leaves': 29, 'n_estimators': 220, 'max_depth': 5, 'min_child_samples': 820, 'learning_rate': 0.6189075616806943, 'min_data_in_leaf': 61, 'bagging_fraction': 0.562259920527753, 'feature_fraction': 0.7328212121983411, 'subsample': 0.6906259337927332, 'colsample_bytree': 0.10587303720149766}. Best is trial 16 with value: 0.7214233480145795.\u001b[0m\n",
      "\u001b[32m[I 2021-01-15 02:21:41,116]\u001b[0m Trial 18 finished with value: 0.66326198084617 and parameters: {'num_leaves': 28, 'n_estimators': 149, 'max_depth': 4, 'min_child_samples': 745, 'learning_rate': 0.09115094120544859, 'min_data_in_leaf': 63, 'bagging_fraction': 0.36378217920667477, 'feature_fraction': 0.9049101951863683, 'subsample': 0.7302585525819603, 'colsample_bytree': 0.9424462572672643}. Best is trial 16 with value: 0.7214233480145795.\u001b[0m\n",
      "\u001b[32m[I 2021-01-15 02:21:47,039]\u001b[0m Trial 19 finished with value: 0.7103396530891009 and parameters: {'num_leaves': 14, 'n_estimators': 208, 'max_depth': 4, 'min_child_samples': 945, 'learning_rate': 0.3929033777826164, 'min_data_in_leaf': 88, 'bagging_fraction': 0.5477835271487814, 'feature_fraction': 0.6465248118792755, 'subsample': 0.438435145787488, 'colsample_bytree': 0.4735315397114136}. Best is trial 16 with value: 0.7214233480145795.\u001b[0m\n"
     ]
    },
    {
     "name": "stdout",
     "output_type": "stream",
     "text": [
      "{'num_leaves': 28, 'n_estimators': 231, 'max_depth': 5, 'min_child_samples': 808, 'learning_rate': 0.647045355158735, 'min_data_in_leaf': 62, 'bagging_fraction': 0.5576613159890975, 'feature_fraction': 0.6533625613907775, 'subsample': 0.6864160561063538, 'colsample_bytree': 0.19537289831614685}\n"
     ]
    }
   ],
   "source": [
    "def create_model(trial):\n",
    "    num_leaves = trial.suggest_int(\"num_leaves\", 2, 31)\n",
    "    n_estimators = trial.suggest_int(\"n_estimators\", 50, 300)\n",
    "    max_depth = trial.suggest_int('max_depth', 3, 8)\n",
    "    min_child_samples = trial.suggest_int('min_child_samples', 100, 1200)\n",
    "    learning_rate = trial.suggest_uniform('learning_rate', 0.0001, 0.99)\n",
    "    min_data_in_leaf = trial.suggest_int('min_data_in_leaf', 5, 90)\n",
    "    bagging_fraction = trial.suggest_uniform('bagging_fraction', 0.0001, 1.0)\n",
    "    feature_fraction = trial.suggest_uniform('feature_fraction', 0.0001, 1.0)\n",
    "    subsample = trial.suggest_uniform('subsample', 0.1, 1.0)\n",
    "    colsample_bytree = trial.suggest_uniform('colsample_bytree', 0.1, 1.0)\n",
    "    tree_method='gpu_hist'\n",
    "    \n",
    "    model = lgb.LGBMClassifier(\n",
    "        num_leaves=num_leaves,\n",
    "        n_estimators=n_estimators, \n",
    "        max_depth=max_depth, \n",
    "        min_child_samples=min_child_samples, \n",
    "        min_data_in_leaf=min_data_in_leaf,\n",
    "        learning_rate=learning_rate,\n",
    "        feature_fraction=feature_fraction,\n",
    "        subsample = subsample,\n",
    "        colsample_bytree = colsample_bytree,\n",
    "        tree_method='gpu_hist',\n",
    "        random_state=666\n",
    "    )\n",
    "    return model\n",
    "\n",
    "def objective(trial):\n",
    "    model = create_model(trial)\n",
    "    model.fit(X_tr, y_tr)\n",
    "    score = roc_auc_score(\n",
    "        y_val.values, \n",
    "        model.predict_proba(X_val)[:,1]\n",
    "    )\n",
    "    return score\n",
    "\n",
    "study = optuna.create_study(direction=\"maximize\")\n",
    "study.optimize(objective, n_trials=20)\n",
    "params = study.best_params\n",
    "\n",
    "print(params)"
   ]
  },
  {
   "cell_type": "code",
   "execution_count": 10,
   "metadata": {
    "execution": {
     "iopub.execute_input": "2021-01-15T02:21:47.119959Z",
     "iopub.status.busy": "2021-01-15T02:21:47.118106Z",
     "iopub.status.idle": "2021-01-15T02:21:47.120821Z",
     "shell.execute_reply": "2021-01-15T02:21:47.121435Z"
    },
    "papermill": {
     "duration": 0.039448,
     "end_time": "2021-01-15T02:21:47.121571",
     "exception": false,
     "start_time": "2021-01-15T02:21:47.082123",
     "status": "completed"
    },
    "tags": []
   },
   "outputs": [],
   "source": [
    "params = {'num_leaves': 31,\n",
    "          'n_estimators': 290,\n",
    "          'max_depth': 8,\n",
    "          'min_child_samples': 418,\n",
    "          'learning_rate': 0.12475209462389317,\n",
    "          'min_data_in_leaf': 44,\n",
    "          'bagging_fraction': 0.37351492384449037,\n",
    "          'feature_fraction': 0.8950577837959371,\n",
    "          'subsample': 0.13176139471397147,\n",
    "          'colsample_bytree': 0.9885945385428538}"
   ]
  },
  {
   "cell_type": "code",
   "execution_count": 11,
   "metadata": {
    "execution": {
     "iopub.execute_input": "2021-01-15T02:21:47.188273Z",
     "iopub.status.busy": "2021-01-15T02:21:47.187419Z",
     "iopub.status.idle": "2021-01-15T02:22:06.773895Z",
     "shell.execute_reply": "2021-01-15T02:22:06.773146Z"
    },
    "papermill": {
     "duration": 19.62302,
     "end_time": "2021-01-15T02:22:06.774045",
     "exception": false,
     "start_time": "2021-01-15T02:21:47.151025",
     "status": "completed"
    },
    "tags": []
   },
   "outputs": [
    {
     "name": "stdout",
     "output_type": "stream",
     "text": [
      "score:  0.9115704856036989\n"
     ]
    }
   ],
   "source": [
    "cls = lgb.LGBMClassifier(**params)\n",
    "cls.fit(X_train, y_train)\n",
    "\n",
    "print('score: ', roc_auc_score(y_val.values, cls.predict_proba(X_val)[:,1]))"
   ]
  },
  {
   "cell_type": "markdown",
   "metadata": {
    "papermill": {
     "duration": 0.032122,
     "end_time": "2021-01-15T02:22:06.839948",
     "exception": false,
     "start_time": "2021-01-15T02:22:06.807826",
     "status": "completed"
    },
    "tags": []
   },
   "source": [
    "# Submit"
   ]
  },
  {
   "cell_type": "code",
   "execution_count": 12,
   "metadata": {
    "execution": {
     "iopub.execute_input": "2021-01-15T02:22:06.908611Z",
     "iopub.status.busy": "2021-01-15T02:22:06.907926Z",
     "iopub.status.idle": "2021-01-15T02:22:06.911686Z",
     "shell.execute_reply": "2021-01-15T02:22:06.913008Z"
    },
    "papermill": {
     "duration": 0.041353,
     "end_time": "2021-01-15T02:22:06.913156",
     "exception": false,
     "start_time": "2021-01-15T02:22:06.871803",
     "status": "completed"
    },
    "tags": []
   },
   "outputs": [],
   "source": [
    "env = janestreet.make_env()\n",
    "iter_test = env.iter_test()"
   ]
  },
  {
   "cell_type": "code",
   "execution_count": 13,
   "metadata": {
    "execution": {
     "iopub.execute_input": "2021-01-15T02:22:06.984957Z",
     "iopub.status.busy": "2021-01-15T02:22:06.984035Z",
     "iopub.status.idle": "2021-01-15T02:26:45.108250Z",
     "shell.execute_reply": "2021-01-15T02:26:45.108878Z"
    },
    "papermill": {
     "duration": 278.165114,
     "end_time": "2021-01-15T02:26:45.109063",
     "exception": false,
     "start_time": "2021-01-15T02:22:06.943949",
     "status": "completed"
    },
    "tags": []
   },
   "outputs": [
    {
     "name": "stdout",
     "output_type": "stream",
     "text": [
      "CPU times: user 8min 25s, sys: 10.5 s, total: 8min 36s\n",
      "Wall time: 4min 38s\n"
     ]
    }
   ],
   "source": [
    "%%time\n",
    "\n",
    "for (test_df, sample_prediction_df) in iter_test:\n",
    "    X_test = test_df.loc[:, test_df.columns.str.contains('feature')]\n",
    "    X_test.fillna(-999)\n",
    "    y_preds = cls.predict(X_test)\n",
    "    sample_prediction_df.action = y_preds\n",
    "    env.predict(sample_prediction_df)"
   ]
  }
 ],
 "metadata": {
  "kernelspec": {
   "display_name": "Python 3",
   "language": "python",
   "name": "python3"
  },
  "language_info": {
   "codemirror_mode": {
    "name": "ipython",
    "version": 3
   },
   "file_extension": ".py",
   "mimetype": "text/x-python",
   "name": "python",
   "nbconvert_exporter": "python",
   "pygments_lexer": "ipython3",
   "version": "3.7.6"
  },
  "papermill": {
   "duration": 435.964408,
   "end_time": "2021-01-15T02:26:46.395982",
   "environment_variables": {},
   "exception": null,
   "input_path": "__notebook__.ipynb",
   "output_path": "__notebook__.ipynb",
   "parameters": {},
   "start_time": "2021-01-15T02:19:30.431574",
   "version": "2.1.0"
  }
 },
 "nbformat": 4,
 "nbformat_minor": 4
}
