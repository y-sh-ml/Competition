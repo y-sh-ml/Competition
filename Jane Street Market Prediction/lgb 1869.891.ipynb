{
 "cells": [
  {
   "cell_type": "code",
   "execution_count": 1,
   "metadata": {
    "_cell_guid": "b1076dfc-b9ad-4769-8c92-a6c4dae69d19",
    "_uuid": "8f2839f25d086af736a60e9eeb907d3b93b6e0e5",
    "execution": {
     "iopub.execute_input": "2021-01-20T05:04:22.238967Z",
     "iopub.status.busy": "2021-01-20T05:04:22.237619Z",
     "iopub.status.idle": "2021-01-20T05:04:22.251827Z",
     "shell.execute_reply": "2021-01-20T05:04:22.251007Z"
    },
    "papermill": {
     "duration": 0.037299,
     "end_time": "2021-01-20T05:04:22.251974",
     "exception": false,
     "start_time": "2021-01-20T05:04:22.214675",
     "status": "completed"
    },
    "tags": []
   },
   "outputs": [
    {
     "name": "stdout",
     "output_type": "stream",
     "text": [
      "/kaggle/input/jane-street-market-prediction/example_sample_submission.csv\n",
      "/kaggle/input/jane-street-market-prediction/features.csv\n",
      "/kaggle/input/jane-street-market-prediction/example_test.csv\n",
      "/kaggle/input/jane-street-market-prediction/train.csv\n",
      "/kaggle/input/jane-street-market-prediction/janestreet/competition.cpython-37m-x86_64-linux-gnu.so\n",
      "/kaggle/input/jane-street-market-prediction/janestreet/__init__.py\n"
     ]
    }
   ],
   "source": [
    "# This Python 3 environment comes with many helpful analytics libraries installed\n",
    "# It is defined by the kaggle/python Docker image: https://github.com/kaggle/docker-python\n",
    "# For example, here's several helpful packages to load\n",
    "\n",
    "import numpy as np # linear algebra\n",
    "import pandas as pd # data processing, CSV file I/O (e.g. pd.read_csv)\n",
    "\n",
    "# Input data files are available in the read-only \"../input/\" directory\n",
    "# For example, running this (by clicking run or pressing Shift+Enter) will list all files under the input directory\n",
    "\n",
    "import os\n",
    "for dirname, _, filenames in os.walk('/kaggle/input'):\n",
    "    for filename in filenames:\n",
    "        print(os.path.join(dirname, filename))\n",
    "\n",
    "# You can write up to 20GB to the current directory (/kaggle/working/) that gets preserved as output when you create a version using \"Save & Run All\" \n",
    "# You can also write temporary files to /kaggle/temp/, but they won't be saved outside of the current session"
   ]
  },
  {
   "cell_type": "code",
   "execution_count": 2,
   "metadata": {
    "_cell_guid": "79c7e3d0-c299-4dcb-8224-4455121ee9b0",
    "_uuid": "d629ff2d2480ee46fbb7e2d37f6b5fab8052498a",
    "execution": {
     "iopub.execute_input": "2021-01-20T05:04:22.285032Z",
     "iopub.status.busy": "2021-01-20T05:04:22.284276Z",
     "iopub.status.idle": "2021-01-20T05:04:25.342269Z",
     "shell.execute_reply": "2021-01-20T05:04:25.342823Z"
    },
    "papermill": {
     "duration": 3.077587,
     "end_time": "2021-01-20T05:04:25.342975",
     "exception": false,
     "start_time": "2021-01-20T05:04:22.265388",
     "status": "completed"
    },
    "tags": []
   },
   "outputs": [],
   "source": [
    "import numpy as np\n",
    "import pandas as pd\n",
    "import optuna\n",
    "import lightgbm as lgb\n",
    "import xgboost as xgb\n",
    "import janestreet\n",
    "from sklearn.model_selection import train_test_split\n",
    "from sklearn.metrics import roc_auc_score"
   ]
  },
  {
   "cell_type": "markdown",
   "metadata": {
    "papermill": {
     "duration": 0.011316,
     "end_time": "2021-01-20T05:04:25.366077",
     "exception": false,
     "start_time": "2021-01-20T05:04:25.354761",
     "status": "completed"
    },
    "tags": []
   },
   "source": [
    "# Dataset"
   ]
  },
  {
   "cell_type": "code",
   "execution_count": 3,
   "metadata": {
    "execution": {
     "iopub.execute_input": "2021-01-20T05:04:25.393399Z",
     "iopub.status.busy": "2021-01-20T05:04:25.392512Z",
     "iopub.status.idle": "2021-01-20T05:06:58.477574Z",
     "shell.execute_reply": "2021-01-20T05:06:58.477020Z"
    },
    "papermill": {
     "duration": 153.099898,
     "end_time": "2021-01-20T05:06:58.477678",
     "exception": false,
     "start_time": "2021-01-20T05:04:25.377780",
     "status": "completed"
    },
    "tags": []
   },
   "outputs": [
    {
     "name": "stdout",
     "output_type": "stream",
     "text": [
      "(2390491, 138)\n",
      "CPU times: user 1min 40s, sys: 5.81 s, total: 1min 46s\n",
      "Wall time: 2min 33s\n"
     ]
    },
    {
     "data": {
      "text/html": [
       "<div>\n",
       "<style scoped>\n",
       "    .dataframe tbody tr th:only-of-type {\n",
       "        vertical-align: middle;\n",
       "    }\n",
       "\n",
       "    .dataframe tbody tr th {\n",
       "        vertical-align: top;\n",
       "    }\n",
       "\n",
       "    .dataframe thead th {\n",
       "        text-align: right;\n",
       "    }\n",
       "</style>\n",
       "<table border=\"1\" class=\"dataframe\">\n",
       "  <thead>\n",
       "    <tr style=\"text-align: right;\">\n",
       "      <th></th>\n",
       "      <th>date</th>\n",
       "      <th>weight</th>\n",
       "      <th>resp_1</th>\n",
       "      <th>resp_2</th>\n",
       "      <th>resp_3</th>\n",
       "      <th>resp_4</th>\n",
       "      <th>resp</th>\n",
       "      <th>feature_0</th>\n",
       "      <th>feature_1</th>\n",
       "      <th>feature_2</th>\n",
       "      <th>...</th>\n",
       "      <th>feature_121</th>\n",
       "      <th>feature_122</th>\n",
       "      <th>feature_123</th>\n",
       "      <th>feature_124</th>\n",
       "      <th>feature_125</th>\n",
       "      <th>feature_126</th>\n",
       "      <th>feature_127</th>\n",
       "      <th>feature_128</th>\n",
       "      <th>feature_129</th>\n",
       "      <th>ts_id</th>\n",
       "    </tr>\n",
       "  </thead>\n",
       "  <tbody>\n",
       "    <tr>\n",
       "      <th>0</th>\n",
       "      <td>0</td>\n",
       "      <td>0.000000</td>\n",
       "      <td>0.009916</td>\n",
       "      <td>0.014079</td>\n",
       "      <td>0.008773</td>\n",
       "      <td>0.001390</td>\n",
       "      <td>0.006270</td>\n",
       "      <td>1</td>\n",
       "      <td>-1.872746</td>\n",
       "      <td>-2.191242</td>\n",
       "      <td>...</td>\n",
       "      <td>NaN</td>\n",
       "      <td>1.168391</td>\n",
       "      <td>8.313583</td>\n",
       "      <td>1.782433</td>\n",
       "      <td>14.018213</td>\n",
       "      <td>2.653056</td>\n",
       "      <td>12.600292</td>\n",
       "      <td>2.301488</td>\n",
       "      <td>11.445807</td>\n",
       "      <td>0</td>\n",
       "    </tr>\n",
       "    <tr>\n",
       "      <th>1</th>\n",
       "      <td>0</td>\n",
       "      <td>16.673515</td>\n",
       "      <td>-0.002828</td>\n",
       "      <td>-0.003226</td>\n",
       "      <td>-0.007319</td>\n",
       "      <td>-0.011114</td>\n",
       "      <td>-0.009792</td>\n",
       "      <td>-1</td>\n",
       "      <td>-1.349537</td>\n",
       "      <td>-1.704709</td>\n",
       "      <td>...</td>\n",
       "      <td>NaN</td>\n",
       "      <td>-1.178850</td>\n",
       "      <td>1.777472</td>\n",
       "      <td>-0.915458</td>\n",
       "      <td>2.831612</td>\n",
       "      <td>-1.417010</td>\n",
       "      <td>2.297459</td>\n",
       "      <td>-1.304614</td>\n",
       "      <td>1.898684</td>\n",
       "      <td>1</td>\n",
       "    </tr>\n",
       "    <tr>\n",
       "      <th>2</th>\n",
       "      <td>0</td>\n",
       "      <td>0.000000</td>\n",
       "      <td>0.025134</td>\n",
       "      <td>0.027607</td>\n",
       "      <td>0.033406</td>\n",
       "      <td>0.034380</td>\n",
       "      <td>0.023970</td>\n",
       "      <td>-1</td>\n",
       "      <td>0.812780</td>\n",
       "      <td>-0.256156</td>\n",
       "      <td>...</td>\n",
       "      <td>NaN</td>\n",
       "      <td>6.115747</td>\n",
       "      <td>9.667908</td>\n",
       "      <td>5.542871</td>\n",
       "      <td>11.671595</td>\n",
       "      <td>7.281757</td>\n",
       "      <td>10.060014</td>\n",
       "      <td>6.638248</td>\n",
       "      <td>9.427299</td>\n",
       "      <td>2</td>\n",
       "    </tr>\n",
       "    <tr>\n",
       "      <th>3</th>\n",
       "      <td>0</td>\n",
       "      <td>0.000000</td>\n",
       "      <td>-0.004730</td>\n",
       "      <td>-0.003273</td>\n",
       "      <td>-0.000461</td>\n",
       "      <td>-0.000476</td>\n",
       "      <td>-0.003200</td>\n",
       "      <td>-1</td>\n",
       "      <td>1.174378</td>\n",
       "      <td>0.344640</td>\n",
       "      <td>...</td>\n",
       "      <td>NaN</td>\n",
       "      <td>2.838853</td>\n",
       "      <td>0.499251</td>\n",
       "      <td>3.033732</td>\n",
       "      <td>1.513488</td>\n",
       "      <td>4.397532</td>\n",
       "      <td>1.266037</td>\n",
       "      <td>3.856384</td>\n",
       "      <td>1.013469</td>\n",
       "      <td>3</td>\n",
       "    </tr>\n",
       "    <tr>\n",
       "      <th>4</th>\n",
       "      <td>0</td>\n",
       "      <td>0.138531</td>\n",
       "      <td>0.001252</td>\n",
       "      <td>0.002165</td>\n",
       "      <td>-0.001215</td>\n",
       "      <td>-0.006219</td>\n",
       "      <td>-0.002604</td>\n",
       "      <td>1</td>\n",
       "      <td>-3.172026</td>\n",
       "      <td>-3.093182</td>\n",
       "      <td>...</td>\n",
       "      <td>NaN</td>\n",
       "      <td>0.344850</td>\n",
       "      <td>4.101145</td>\n",
       "      <td>0.614252</td>\n",
       "      <td>6.623456</td>\n",
       "      <td>0.800129</td>\n",
       "      <td>5.233243</td>\n",
       "      <td>0.362636</td>\n",
       "      <td>3.926633</td>\n",
       "      <td>4</td>\n",
       "    </tr>\n",
       "  </tbody>\n",
       "</table>\n",
       "<p>5 rows × 138 columns</p>\n",
       "</div>"
      ],
      "text/plain": [
       "   date     weight    resp_1    resp_2    resp_3    resp_4      resp  \\\n",
       "0     0   0.000000  0.009916  0.014079  0.008773  0.001390  0.006270   \n",
       "1     0  16.673515 -0.002828 -0.003226 -0.007319 -0.011114 -0.009792   \n",
       "2     0   0.000000  0.025134  0.027607  0.033406  0.034380  0.023970   \n",
       "3     0   0.000000 -0.004730 -0.003273 -0.000461 -0.000476 -0.003200   \n",
       "4     0   0.138531  0.001252  0.002165 -0.001215 -0.006219 -0.002604   \n",
       "\n",
       "   feature_0  feature_1  feature_2  ...  feature_121  feature_122  \\\n",
       "0          1  -1.872746  -2.191242  ...          NaN     1.168391   \n",
       "1         -1  -1.349537  -1.704709  ...          NaN    -1.178850   \n",
       "2         -1   0.812780  -0.256156  ...          NaN     6.115747   \n",
       "3         -1   1.174378   0.344640  ...          NaN     2.838853   \n",
       "4          1  -3.172026  -3.093182  ...          NaN     0.344850   \n",
       "\n",
       "   feature_123  feature_124  feature_125  feature_126  feature_127  \\\n",
       "0     8.313583     1.782433    14.018213     2.653056    12.600292   \n",
       "1     1.777472    -0.915458     2.831612    -1.417010     2.297459   \n",
       "2     9.667908     5.542871    11.671595     7.281757    10.060014   \n",
       "3     0.499251     3.033732     1.513488     4.397532     1.266037   \n",
       "4     4.101145     0.614252     6.623456     0.800129     5.233243   \n",
       "\n",
       "   feature_128  feature_129  ts_id  \n",
       "0     2.301488    11.445807      0  \n",
       "1    -1.304614     1.898684      1  \n",
       "2     6.638248     9.427299      2  \n",
       "3     3.856384     1.013469      3  \n",
       "4     0.362636     3.926633      4  \n",
       "\n",
       "[5 rows x 138 columns]"
      ]
     },
     "execution_count": 3,
     "metadata": {},
     "output_type": "execute_result"
    }
   ],
   "source": [
    "%%time\n",
    "\n",
    "train  = pd.read_csv('/kaggle/input/jane-street-market-prediction/train.csv')\n",
    "\n",
    "print(train.shape)\n",
    "train.head()\n",
    "\n",
    "# all train shape (2390491, 138)"
   ]
  },
  {
   "cell_type": "code",
   "execution_count": 4,
   "metadata": {
    "execution": {
     "iopub.execute_input": "2021-01-20T05:06:58.511753Z",
     "iopub.status.busy": "2021-01-20T05:06:58.510904Z",
     "iopub.status.idle": "2021-01-20T05:06:59.467968Z",
     "shell.execute_reply": "2021-01-20T05:06:59.468797Z"
    },
    "papermill": {
     "duration": 0.978386,
     "end_time": "2021-01-20T05:06:59.468976",
     "exception": false,
     "start_time": "2021-01-20T05:06:58.490590",
     "status": "completed"
    },
    "tags": []
   },
   "outputs": [
    {
     "name": "stdout",
     "output_type": "stream",
     "text": [
      "(15219, 133)\n"
     ]
    },
    {
     "data": {
      "text/html": [
       "<div>\n",
       "<style scoped>\n",
       "    .dataframe tbody tr th:only-of-type {\n",
       "        vertical-align: middle;\n",
       "    }\n",
       "\n",
       "    .dataframe tbody tr th {\n",
       "        vertical-align: top;\n",
       "    }\n",
       "\n",
       "    .dataframe thead th {\n",
       "        text-align: right;\n",
       "    }\n",
       "</style>\n",
       "<table border=\"1\" class=\"dataframe\">\n",
       "  <thead>\n",
       "    <tr style=\"text-align: right;\">\n",
       "      <th></th>\n",
       "      <th>weight</th>\n",
       "      <th>feature_0</th>\n",
       "      <th>feature_1</th>\n",
       "      <th>feature_2</th>\n",
       "      <th>feature_3</th>\n",
       "      <th>feature_4</th>\n",
       "      <th>feature_5</th>\n",
       "      <th>feature_6</th>\n",
       "      <th>feature_7</th>\n",
       "      <th>feature_8</th>\n",
       "      <th>...</th>\n",
       "      <th>feature_122</th>\n",
       "      <th>feature_123</th>\n",
       "      <th>feature_124</th>\n",
       "      <th>feature_125</th>\n",
       "      <th>feature_126</th>\n",
       "      <th>feature_127</th>\n",
       "      <th>feature_128</th>\n",
       "      <th>feature_129</th>\n",
       "      <th>date</th>\n",
       "      <th>ts_id</th>\n",
       "    </tr>\n",
       "  </thead>\n",
       "  <tbody>\n",
       "    <tr>\n",
       "      <th>0</th>\n",
       "      <td>0.000000</td>\n",
       "      <td>1</td>\n",
       "      <td>-1.872746</td>\n",
       "      <td>-2.191242</td>\n",
       "      <td>-0.474163</td>\n",
       "      <td>-0.323046</td>\n",
       "      <td>0.014688</td>\n",
       "      <td>-0.002484</td>\n",
       "      <td>NaN</td>\n",
       "      <td>NaN</td>\n",
       "      <td>...</td>\n",
       "      <td>1.168391</td>\n",
       "      <td>8.313583</td>\n",
       "      <td>1.782433</td>\n",
       "      <td>14.018213</td>\n",
       "      <td>2.653056</td>\n",
       "      <td>12.600292</td>\n",
       "      <td>2.301488</td>\n",
       "      <td>11.445807</td>\n",
       "      <td>0</td>\n",
       "      <td>0</td>\n",
       "    </tr>\n",
       "    <tr>\n",
       "      <th>1</th>\n",
       "      <td>16.673515</td>\n",
       "      <td>-1</td>\n",
       "      <td>-1.349537</td>\n",
       "      <td>-1.704709</td>\n",
       "      <td>0.068058</td>\n",
       "      <td>0.028432</td>\n",
       "      <td>0.193794</td>\n",
       "      <td>0.138212</td>\n",
       "      <td>NaN</td>\n",
       "      <td>NaN</td>\n",
       "      <td>...</td>\n",
       "      <td>-1.178850</td>\n",
       "      <td>1.777472</td>\n",
       "      <td>-0.915458</td>\n",
       "      <td>2.831612</td>\n",
       "      <td>-1.417010</td>\n",
       "      <td>2.297459</td>\n",
       "      <td>-1.304614</td>\n",
       "      <td>1.898684</td>\n",
       "      <td>0</td>\n",
       "      <td>1</td>\n",
       "    </tr>\n",
       "    <tr>\n",
       "      <th>2</th>\n",
       "      <td>0.000000</td>\n",
       "      <td>-1</td>\n",
       "      <td>0.812780</td>\n",
       "      <td>-0.256156</td>\n",
       "      <td>0.806463</td>\n",
       "      <td>0.400221</td>\n",
       "      <td>-0.614188</td>\n",
       "      <td>-0.354800</td>\n",
       "      <td>NaN</td>\n",
       "      <td>NaN</td>\n",
       "      <td>...</td>\n",
       "      <td>6.115747</td>\n",
       "      <td>9.667908</td>\n",
       "      <td>5.542871</td>\n",
       "      <td>11.671595</td>\n",
       "      <td>7.281757</td>\n",
       "      <td>10.060014</td>\n",
       "      <td>6.638248</td>\n",
       "      <td>9.427299</td>\n",
       "      <td>0</td>\n",
       "      <td>2</td>\n",
       "    </tr>\n",
       "    <tr>\n",
       "      <th>3</th>\n",
       "      <td>0.000000</td>\n",
       "      <td>-1</td>\n",
       "      <td>1.174378</td>\n",
       "      <td>0.344640</td>\n",
       "      <td>0.066872</td>\n",
       "      <td>0.009357</td>\n",
       "      <td>-1.006373</td>\n",
       "      <td>-0.676458</td>\n",
       "      <td>NaN</td>\n",
       "      <td>NaN</td>\n",
       "      <td>...</td>\n",
       "      <td>2.838853</td>\n",
       "      <td>0.499251</td>\n",
       "      <td>3.033732</td>\n",
       "      <td>1.513488</td>\n",
       "      <td>4.397532</td>\n",
       "      <td>1.266037</td>\n",
       "      <td>3.856384</td>\n",
       "      <td>1.013469</td>\n",
       "      <td>0</td>\n",
       "      <td>3</td>\n",
       "    </tr>\n",
       "    <tr>\n",
       "      <th>4</th>\n",
       "      <td>0.138531</td>\n",
       "      <td>1</td>\n",
       "      <td>-3.172026</td>\n",
       "      <td>-3.093182</td>\n",
       "      <td>-0.161518</td>\n",
       "      <td>-0.128149</td>\n",
       "      <td>-0.195006</td>\n",
       "      <td>-0.143780</td>\n",
       "      <td>NaN</td>\n",
       "      <td>NaN</td>\n",
       "      <td>...</td>\n",
       "      <td>0.344850</td>\n",
       "      <td>4.101145</td>\n",
       "      <td>0.614252</td>\n",
       "      <td>6.623456</td>\n",
       "      <td>0.800129</td>\n",
       "      <td>5.233243</td>\n",
       "      <td>0.362636</td>\n",
       "      <td>3.926633</td>\n",
       "      <td>0</td>\n",
       "      <td>4</td>\n",
       "    </tr>\n",
       "  </tbody>\n",
       "</table>\n",
       "<p>5 rows × 133 columns</p>\n",
       "</div>"
      ],
      "text/plain": [
       "      weight  feature_0  feature_1  feature_2  feature_3  feature_4  \\\n",
       "0   0.000000          1  -1.872746  -2.191242  -0.474163  -0.323046   \n",
       "1  16.673515         -1  -1.349537  -1.704709   0.068058   0.028432   \n",
       "2   0.000000         -1   0.812780  -0.256156   0.806463   0.400221   \n",
       "3   0.000000         -1   1.174378   0.344640   0.066872   0.009357   \n",
       "4   0.138531          1  -3.172026  -3.093182  -0.161518  -0.128149   \n",
       "\n",
       "   feature_5  feature_6  feature_7  feature_8  ...  feature_122  feature_123  \\\n",
       "0   0.014688  -0.002484        NaN        NaN  ...     1.168391     8.313583   \n",
       "1   0.193794   0.138212        NaN        NaN  ...    -1.178850     1.777472   \n",
       "2  -0.614188  -0.354800        NaN        NaN  ...     6.115747     9.667908   \n",
       "3  -1.006373  -0.676458        NaN        NaN  ...     2.838853     0.499251   \n",
       "4  -0.195006  -0.143780        NaN        NaN  ...     0.344850     4.101145   \n",
       "\n",
       "   feature_124  feature_125  feature_126  feature_127  feature_128  \\\n",
       "0     1.782433    14.018213     2.653056    12.600292     2.301488   \n",
       "1    -0.915458     2.831612    -1.417010     2.297459    -1.304614   \n",
       "2     5.542871    11.671595     7.281757    10.060014     6.638248   \n",
       "3     3.033732     1.513488     4.397532     1.266037     3.856384   \n",
       "4     0.614252     6.623456     0.800129     5.233243     0.362636   \n",
       "\n",
       "   feature_129  date  ts_id  \n",
       "0    11.445807     0      0  \n",
       "1     1.898684     0      1  \n",
       "2     9.427299     0      2  \n",
       "3     1.013469     0      3  \n",
       "4     3.926633     0      4  \n",
       "\n",
       "[5 rows x 133 columns]"
      ]
     },
     "execution_count": 4,
     "metadata": {},
     "output_type": "execute_result"
    }
   ],
   "source": [
    "example_test = pd.read_csv('../input/jane-street-market-prediction/example_test.csv')\n",
    "\n",
    "print(example_test.shape)\n",
    "example_test.head()"
   ]
  },
  {
   "cell_type": "code",
   "execution_count": 5,
   "metadata": {
    "execution": {
     "iopub.execute_input": "2021-01-20T05:06:59.517156Z",
     "iopub.status.busy": "2021-01-20T05:06:59.516297Z",
     "iopub.status.idle": "2021-01-20T05:06:59.540019Z",
     "shell.execute_reply": "2021-01-20T05:06:59.539066Z"
    },
    "papermill": {
     "duration": 0.050268,
     "end_time": "2021-01-20T05:06:59.540156",
     "exception": false,
     "start_time": "2021-01-20T05:06:59.489888",
     "status": "completed"
    },
    "tags": []
   },
   "outputs": [
    {
     "name": "stdout",
     "output_type": "stream",
     "text": [
      "(15219, 2)\n"
     ]
    },
    {
     "data": {
      "text/html": [
       "<div>\n",
       "<style scoped>\n",
       "    .dataframe tbody tr th:only-of-type {\n",
       "        vertical-align: middle;\n",
       "    }\n",
       "\n",
       "    .dataframe tbody tr th {\n",
       "        vertical-align: top;\n",
       "    }\n",
       "\n",
       "    .dataframe thead th {\n",
       "        text-align: right;\n",
       "    }\n",
       "</style>\n",
       "<table border=\"1\" class=\"dataframe\">\n",
       "  <thead>\n",
       "    <tr style=\"text-align: right;\">\n",
       "      <th></th>\n",
       "      <th>ts_id</th>\n",
       "      <th>action</th>\n",
       "    </tr>\n",
       "  </thead>\n",
       "  <tbody>\n",
       "    <tr>\n",
       "      <th>0</th>\n",
       "      <td>0</td>\n",
       "      <td>1</td>\n",
       "    </tr>\n",
       "    <tr>\n",
       "      <th>1</th>\n",
       "      <td>1</td>\n",
       "      <td>1</td>\n",
       "    </tr>\n",
       "    <tr>\n",
       "      <th>2</th>\n",
       "      <td>2</td>\n",
       "      <td>1</td>\n",
       "    </tr>\n",
       "    <tr>\n",
       "      <th>3</th>\n",
       "      <td>3</td>\n",
       "      <td>1</td>\n",
       "    </tr>\n",
       "    <tr>\n",
       "      <th>4</th>\n",
       "      <td>4</td>\n",
       "      <td>1</td>\n",
       "    </tr>\n",
       "  </tbody>\n",
       "</table>\n",
       "</div>"
      ],
      "text/plain": [
       "   ts_id  action\n",
       "0      0       1\n",
       "1      1       1\n",
       "2      2       1\n",
       "3      3       1\n",
       "4      4       1"
      ]
     },
     "execution_count": 5,
     "metadata": {},
     "output_type": "execute_result"
    }
   ],
   "source": [
    "sample_prediction_df = pd.read_csv('../input/jane-street-market-prediction/example_sample_submission.csv')\n",
    "\n",
    "print(sample_prediction_df.shape)\n",
    "sample_prediction_df.head()"
   ]
  },
  {
   "cell_type": "markdown",
   "metadata": {
    "papermill": {
     "duration": 0.022245,
     "end_time": "2021-01-20T05:06:59.585476",
     "exception": false,
     "start_time": "2021-01-20T05:06:59.563231",
     "status": "completed"
    },
    "tags": []
   },
   "source": [
    "# Preprocess"
   ]
  },
  {
   "cell_type": "code",
   "execution_count": 6,
   "metadata": {
    "execution": {
     "iopub.execute_input": "2021-01-20T05:06:59.639159Z",
     "iopub.status.busy": "2021-01-20T05:06:59.638277Z",
     "iopub.status.idle": "2021-01-20T05:07:01.000289Z",
     "shell.execute_reply": "2021-01-20T05:07:00.999340Z"
    },
    "papermill": {
     "duration": 1.392149,
     "end_time": "2021-01-20T05:07:01.000400",
     "exception": false,
     "start_time": "2021-01-20T05:06:59.608251",
     "status": "completed"
    },
    "tags": []
   },
   "outputs": [],
   "source": [
    "train = train[train['weight'] != 0]\n",
    "\n",
    "# train['action'] = ((train['weight'].values * train['resp'].values) > 0).astype('int')\n",
    "train['action'] = (train['resp'] > 0) * 1\n",
    "\n",
    "X_train = train.loc[:, train.columns.str.contains('feature')]\n",
    "y_train = train.loc[:, 'action']"
   ]
  },
  {
   "cell_type": "code",
   "execution_count": 7,
   "metadata": {
    "execution": {
     "iopub.execute_input": "2021-01-20T05:07:01.038384Z",
     "iopub.status.busy": "2021-01-20T05:07:01.037728Z",
     "iopub.status.idle": "2021-01-20T05:07:03.093227Z",
     "shell.execute_reply": "2021-01-20T05:07:03.093890Z"
    },
    "papermill": {
     "duration": 2.078267,
     "end_time": "2021-01-20T05:07:03.094035",
     "exception": false,
     "start_time": "2021-01-20T05:07:01.015768",
     "status": "completed"
    },
    "tags": []
   },
   "outputs": [
    {
     "name": "stdout",
     "output_type": "stream",
     "text": [
      "X_train: 0\n",
      "y_train: 0\n"
     ]
    }
   ],
   "source": [
    "X_train = X_train.fillna(-999)\n",
    "\n",
    "print('X_train:', X_train.isnull().sum().sum())\n",
    "print('y_train:', y_train.isnull().sum().sum())"
   ]
  },
  {
   "cell_type": "markdown",
   "metadata": {
    "papermill": {
     "duration": 0.015476,
     "end_time": "2021-01-20T05:07:03.125679",
     "exception": false,
     "start_time": "2021-01-20T05:07:03.110203",
     "status": "completed"
    },
    "tags": []
   },
   "source": [
    "# Modeling"
   ]
  },
  {
   "cell_type": "code",
   "execution_count": 8,
   "metadata": {
    "execution": {
     "iopub.execute_input": "2021-01-20T05:07:03.164493Z",
     "iopub.status.busy": "2021-01-20T05:07:03.163901Z",
     "iopub.status.idle": "2021-01-20T05:07:06.328891Z",
     "shell.execute_reply": "2021-01-20T05:07:06.329861Z"
    },
    "papermill": {
     "duration": 3.189076,
     "end_time": "2021-01-20T05:07:06.330042",
     "exception": false,
     "start_time": "2021-01-20T05:07:03.140966",
     "status": "completed"
    },
    "tags": []
   },
   "outputs": [
    {
     "name": "stdout",
     "output_type": "stream",
     "text": [
      "(1585029, 130)\n",
      "(1585029,)\n",
      "(396258, 130)\n",
      "(396258,)\n"
     ]
    }
   ],
   "source": [
    "X_tr, X_val, y_tr, y_val = train_test_split(X_train, y_train, random_state=666, test_size=0.2)\n",
    "\n",
    "print(X_tr.shape)\n",
    "print(y_tr.shape)\n",
    "print(X_val.shape)\n",
    "print(y_val.shape)"
   ]
  },
  {
   "cell_type": "code",
   "execution_count": 9,
   "metadata": {
    "execution": {
     "iopub.execute_input": "2021-01-20T05:07:06.384245Z",
     "iopub.status.busy": "2021-01-20T05:07:06.383439Z",
     "iopub.status.idle": "2021-01-20T05:07:06.388206Z",
     "shell.execute_reply": "2021-01-20T05:07:06.387550Z"
    },
    "papermill": {
     "duration": 0.034141,
     "end_time": "2021-01-20T05:07:06.388312",
     "exception": false,
     "start_time": "2021-01-20T05:07:06.354171",
     "status": "completed"
    },
    "tags": []
   },
   "outputs": [
    {
     "data": {
      "text/plain": [
       "'\\ndef create_model(trial):\\n    num_leaves = trial.suggest_int(\"num_leaves\", 2, 31)\\n    n_estimators = trial.suggest_int(\"n_estimators\", 50, 300)\\n    max_depth = trial.suggest_int(\\'max_depth\\', 3, 8)\\n    min_child_samples = trial.suggest_int(\\'min_child_samples\\', 100, 1200)\\n    learning_rate = trial.suggest_uniform(\\'learning_rate\\', 0.0001, 0.99)\\n    min_data_in_leaf = trial.suggest_int(\\'min_data_in_leaf\\', 5, 90)\\n    bagging_fraction = trial.suggest_uniform(\\'bagging_fraction\\', 0.0001, 1.0)\\n    feature_fraction = trial.suggest_uniform(\\'feature_fraction\\', 0.0001, 1.0)\\n    subsample = trial.suggest_uniform(\\'subsample\\', 0.1, 1.0)\\n    colsample_bytree = trial.suggest_uniform(\\'colsample_bytree\\', 0.1, 1.0)\\n    tree_method = \\'gpu_hist\\'\\n    random_state = 666\\n    \\n    model = lgb.LGBMClassifier(\\n        num_leaves=num_leaves,\\n        n_estimators=n_estimators, \\n        max_depth=max_depth, \\n        min_child_samples=min_child_samples, \\n        min_data_in_leaf=min_data_in_leaf,\\n        learning_rate=learning_rate,\\n        feature_fraction=feature_fraction,\\n        subsample = subsample,\\n        colsample_bytree = colsample_bytree,\\n        tree_method=\\'gpu_hist\\',\\n        random_state=666\\n    )\\n    return model\\n\\ndef objective(trial):\\n    model = create_model(trial)\\n    model.fit(X_tr, y_tr)\\n    score = roc_auc_score(\\n        y_val.values, \\n        model.predict_proba(X_val)[:,1]\\n    )\\n    return score\\n\\nstudy = optuna.create_study(direction=\"maximize\")\\nstudy.optimize(objective, n_trials=40)\\nparams = study.best_params\\n\\nprint(params)\\n\\n'"
      ]
     },
     "execution_count": 9,
     "metadata": {},
     "output_type": "execute_result"
    }
   ],
   "source": [
    "'''\n",
    "def create_model(trial):\n",
    "    num_leaves = trial.suggest_int(\"num_leaves\", 2, 31)\n",
    "    n_estimators = trial.suggest_int(\"n_estimators\", 50, 300)\n",
    "    max_depth = trial.suggest_int('max_depth', 3, 8)\n",
    "    min_child_samples = trial.suggest_int('min_child_samples', 100, 1200)\n",
    "    learning_rate = trial.suggest_uniform('learning_rate', 0.0001, 0.99)\n",
    "    min_data_in_leaf = trial.suggest_int('min_data_in_leaf', 5, 90)\n",
    "    bagging_fraction = trial.suggest_uniform('bagging_fraction', 0.0001, 1.0)\n",
    "    feature_fraction = trial.suggest_uniform('feature_fraction', 0.0001, 1.0)\n",
    "    subsample = trial.suggest_uniform('subsample', 0.1, 1.0)\n",
    "    colsample_bytree = trial.suggest_uniform('colsample_bytree', 0.1, 1.0)\n",
    "    tree_method = 'gpu_hist'\n",
    "    random_state = 666\n",
    "    \n",
    "    model = lgb.LGBMClassifier(\n",
    "        num_leaves=num_leaves,\n",
    "        n_estimators=n_estimators, \n",
    "        max_depth=max_depth, \n",
    "        min_child_samples=min_child_samples, \n",
    "        min_data_in_leaf=min_data_in_leaf,\n",
    "        learning_rate=learning_rate,\n",
    "        feature_fraction=feature_fraction,\n",
    "        subsample = subsample,\n",
    "        colsample_bytree = colsample_bytree,\n",
    "        tree_method='gpu_hist',\n",
    "        random_state=666\n",
    "    )\n",
    "    return model\n",
    "\n",
    "def objective(trial):\n",
    "    model = create_model(trial)\n",
    "    model.fit(X_tr, y_tr)\n",
    "    score = roc_auc_score(\n",
    "        y_val.values, \n",
    "        model.predict_proba(X_val)[:,1]\n",
    "    )\n",
    "    return score\n",
    "\n",
    "study = optuna.create_study(direction=\"maximize\")\n",
    "study.optimize(objective, n_trials=40)\n",
    "params = study.best_params\n",
    "\n",
    "print(params)\n",
    "\n",
    "'''"
   ]
  },
  {
   "cell_type": "code",
   "execution_count": 10,
   "metadata": {
    "execution": {
     "iopub.execute_input": "2021-01-20T05:07:06.427516Z",
     "iopub.status.busy": "2021-01-20T05:07:06.426910Z",
     "iopub.status.idle": "2021-01-20T05:07:06.431382Z",
     "shell.execute_reply": "2021-01-20T05:07:06.430606Z"
    },
    "papermill": {
     "duration": 0.0267,
     "end_time": "2021-01-20T05:07:06.431519",
     "exception": false,
     "start_time": "2021-01-20T05:07:06.404819",
     "status": "completed"
    },
    "tags": []
   },
   "outputs": [],
   "source": [
    "params = {'num_leaves': 31,\n",
    "          'n_estimators': 266,\n",
    "          'max_depth': 5,\n",
    "          'min_child_samples': 878,\n",
    "          'learning_rate': 0.8563666224484051,\n",
    "          'min_data_in_leaf': 64,\n",
    "          'bagging_fraction': 0.7129419211920485,\n",
    "          'feature_fraction': 0.8969344469414363,\n",
    "          'subsample': 0.27639473323688724,\n",
    "          'colsample_bytree': 0.20287040656655514,\n",
    "          'tree_method': 'gpu_hist',\n",
    "          'random_state': 666}"
   ]
  },
  {
   "cell_type": "code",
   "execution_count": 11,
   "metadata": {
    "execution": {
     "iopub.execute_input": "2021-01-20T05:07:06.486981Z",
     "iopub.status.busy": "2021-01-20T05:07:06.486181Z",
     "iopub.status.idle": "2021-01-20T05:09:24.774252Z",
     "shell.execute_reply": "2021-01-20T05:09:24.774786Z"
    },
    "papermill": {
     "duration": 138.318647,
     "end_time": "2021-01-20T05:09:24.774925",
     "exception": false,
     "start_time": "2021-01-20T05:07:06.456278",
     "status": "completed"
    },
    "tags": []
   },
   "outputs": [
    {
     "name": "stdout",
     "output_type": "stream",
     "text": [
      "score:  0.6557975232254614\n"
     ]
    }
   ],
   "source": [
    "cls = lgb.LGBMClassifier(**params)\n",
    "cls.fit(X_train, y_train)\n",
    "\n",
    "print('score: ', roc_auc_score(y_val.values, cls.predict_proba(X_val)[:,1]))"
   ]
  },
  {
   "cell_type": "markdown",
   "metadata": {
    "papermill": {
     "duration": 0.020437,
     "end_time": "2021-01-20T05:09:24.820466",
     "exception": false,
     "start_time": "2021-01-20T05:09:24.800029",
     "status": "completed"
    },
    "tags": []
   },
   "source": [
    "# Submit"
   ]
  },
  {
   "cell_type": "code",
   "execution_count": 12,
   "metadata": {
    "execution": {
     "iopub.execute_input": "2021-01-20T05:09:24.863448Z",
     "iopub.status.busy": "2021-01-20T05:09:24.862741Z",
     "iopub.status.idle": "2021-01-20T05:09:24.865339Z",
     "shell.execute_reply": "2021-01-20T05:09:24.864722Z"
    },
    "papermill": {
     "duration": 0.026055,
     "end_time": "2021-01-20T05:09:24.865434",
     "exception": false,
     "start_time": "2021-01-20T05:09:24.839379",
     "status": "completed"
    },
    "tags": []
   },
   "outputs": [],
   "source": [
    "env = janestreet.make_env()\n",
    "iter_test = env.iter_test()"
   ]
  },
  {
   "cell_type": "code",
   "execution_count": 13,
   "metadata": {
    "execution": {
     "iopub.execute_input": "2021-01-20T05:09:24.913801Z",
     "iopub.status.busy": "2021-01-20T05:09:24.913209Z",
     "iopub.status.idle": "2021-01-20T05:14:26.142802Z",
     "shell.execute_reply": "2021-01-20T05:14:26.144023Z"
    },
    "papermill": {
     "duration": 301.260307,
     "end_time": "2021-01-20T05:14:26.144566",
     "exception": false,
     "start_time": "2021-01-20T05:09:24.884259",
     "status": "completed"
    },
    "tags": []
   },
   "outputs": [
    {
     "name": "stdout",
     "output_type": "stream",
     "text": [
      "CPU times: user 18min 44s, sys: 29.3 s, total: 19min 13s\n",
      "Wall time: 5min 1s\n"
     ]
    }
   ],
   "source": [
    "%%time\n",
    "\n",
    "for (test_df, sample_prediction_df) in iter_test:\n",
    "    X_test = test_df.loc[:, test_df.columns.str.contains('feature')]\n",
    "    X_test = X_test.fillna(-999)\n",
    "    y_preds = cls.predict(X_test)\n",
    "    sample_prediction_df.action = y_preds\n",
    "    env.predict(sample_prediction_df)"
   ]
  }
 ],
 "metadata": {
  "kernelspec": {
   "display_name": "Python 3",
   "language": "python",
   "name": "python3"
  },
  "language_info": {
   "codemirror_mode": {
    "name": "ipython",
    "version": 3
   },
   "file_extension": ".py",
   "mimetype": "text/x-python",
   "name": "python",
   "nbconvert_exporter": "python",
   "pygments_lexer": "ipython3",
   "version": "3.7.6"
  },
  "papermill": {
   "duration": 609.651015,
   "end_time": "2021-01-20T05:14:26.482406",
   "environment_variables": {},
   "exception": null,
   "input_path": "__notebook__.ipynb",
   "output_path": "__notebook__.ipynb",
   "parameters": {},
   "start_time": "2021-01-20T05:04:16.831391",
   "version": "2.1.0"
  }
 },
 "nbformat": 4,
 "nbformat_minor": 4
}
