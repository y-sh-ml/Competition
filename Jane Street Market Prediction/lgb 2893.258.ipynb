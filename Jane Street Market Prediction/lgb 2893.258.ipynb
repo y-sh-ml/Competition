{
 "cells": [
  {
   "cell_type": "markdown",
   "metadata": {
    "papermill": {
     "duration": 0.015112,
     "end_time": "2021-01-27T05:11:03.258971",
     "exception": false,
     "start_time": "2021-01-27T05:11:03.243859",
     "status": "completed"
    },
    "tags": []
   },
   "source": [
    "# Module"
   ]
  },
  {
   "cell_type": "code",
   "execution_count": 1,
   "metadata": {
    "_cell_guid": "79c7e3d0-c299-4dcb-8224-4455121ee9b0",
    "_uuid": "d629ff2d2480ee46fbb7e2d37f6b5fab8052498a",
    "execution": {
     "iopub.execute_input": "2021-01-27T05:11:03.290707Z",
     "iopub.status.busy": "2021-01-27T05:11:03.289918Z",
     "iopub.status.idle": "2021-01-27T05:11:06.138546Z",
     "shell.execute_reply": "2021-01-27T05:11:06.139260Z"
    },
    "papermill": {
     "duration": 2.867944,
     "end_time": "2021-01-27T05:11:06.139514",
     "exception": false,
     "start_time": "2021-01-27T05:11:03.271570",
     "status": "completed"
    },
    "tags": []
   },
   "outputs": [],
   "source": [
    "import optuna\n",
    "import janestreet\n",
    "import numpy as np\n",
    "import pandas as pd\n",
    "import matplotlib.pyplot as plt\n",
    "import lightgbm as lgb\n",
    "import xgboost as xgb\n",
    "from sklearn.model_selection import train_test_split\n",
    "from sklearn.metrics import roc_auc_score"
   ]
  },
  {
   "cell_type": "markdown",
   "metadata": {
    "papermill": {
     "duration": 0.017753,
     "end_time": "2021-01-27T05:11:06.174144",
     "exception": false,
     "start_time": "2021-01-27T05:11:06.156391",
     "status": "completed"
    },
    "tags": []
   },
   "source": [
    "# Dataset"
   ]
  },
  {
   "cell_type": "code",
   "execution_count": 2,
   "metadata": {
    "execution": {
     "iopub.execute_input": "2021-01-27T05:11:06.206486Z",
     "iopub.status.busy": "2021-01-27T05:11:06.205491Z",
     "iopub.status.idle": "2021-01-27T05:13:51.408351Z",
     "shell.execute_reply": "2021-01-27T05:13:51.407801Z"
    },
    "papermill": {
     "duration": 165.219715,
     "end_time": "2021-01-27T05:13:51.408479",
     "exception": false,
     "start_time": "2021-01-27T05:11:06.188764",
     "status": "completed"
    },
    "tags": []
   },
   "outputs": [
    {
     "name": "stdout",
     "output_type": "stream",
     "text": [
      "(2390491, 138)\n",
      "CPU times: user 1min 29s, sys: 7.2 s, total: 1min 36s\n",
      "Wall time: 2min 45s\n"
     ]
    },
    {
     "data": {
      "text/html": [
       "<div>\n",
       "<style scoped>\n",
       "    .dataframe tbody tr th:only-of-type {\n",
       "        vertical-align: middle;\n",
       "    }\n",
       "\n",
       "    .dataframe tbody tr th {\n",
       "        vertical-align: top;\n",
       "    }\n",
       "\n",
       "    .dataframe thead th {\n",
       "        text-align: right;\n",
       "    }\n",
       "</style>\n",
       "<table border=\"1\" class=\"dataframe\">\n",
       "  <thead>\n",
       "    <tr style=\"text-align: right;\">\n",
       "      <th></th>\n",
       "      <th>date</th>\n",
       "      <th>weight</th>\n",
       "      <th>resp_1</th>\n",
       "      <th>resp_2</th>\n",
       "      <th>resp_3</th>\n",
       "      <th>resp_4</th>\n",
       "      <th>resp</th>\n",
       "      <th>feature_0</th>\n",
       "      <th>feature_1</th>\n",
       "      <th>feature_2</th>\n",
       "      <th>...</th>\n",
       "      <th>feature_121</th>\n",
       "      <th>feature_122</th>\n",
       "      <th>feature_123</th>\n",
       "      <th>feature_124</th>\n",
       "      <th>feature_125</th>\n",
       "      <th>feature_126</th>\n",
       "      <th>feature_127</th>\n",
       "      <th>feature_128</th>\n",
       "      <th>feature_129</th>\n",
       "      <th>ts_id</th>\n",
       "    </tr>\n",
       "  </thead>\n",
       "  <tbody>\n",
       "    <tr>\n",
       "      <th>0</th>\n",
       "      <td>0</td>\n",
       "      <td>0.000000</td>\n",
       "      <td>0.009916</td>\n",
       "      <td>0.014079</td>\n",
       "      <td>0.008773</td>\n",
       "      <td>0.001390</td>\n",
       "      <td>0.006270</td>\n",
       "      <td>1</td>\n",
       "      <td>-1.872746</td>\n",
       "      <td>-2.191242</td>\n",
       "      <td>...</td>\n",
       "      <td>NaN</td>\n",
       "      <td>1.168391</td>\n",
       "      <td>8.313583</td>\n",
       "      <td>1.782433</td>\n",
       "      <td>14.018213</td>\n",
       "      <td>2.653056</td>\n",
       "      <td>12.600292</td>\n",
       "      <td>2.301488</td>\n",
       "      <td>11.445807</td>\n",
       "      <td>0</td>\n",
       "    </tr>\n",
       "    <tr>\n",
       "      <th>1</th>\n",
       "      <td>0</td>\n",
       "      <td>16.673515</td>\n",
       "      <td>-0.002828</td>\n",
       "      <td>-0.003226</td>\n",
       "      <td>-0.007319</td>\n",
       "      <td>-0.011114</td>\n",
       "      <td>-0.009792</td>\n",
       "      <td>-1</td>\n",
       "      <td>-1.349537</td>\n",
       "      <td>-1.704709</td>\n",
       "      <td>...</td>\n",
       "      <td>NaN</td>\n",
       "      <td>-1.178850</td>\n",
       "      <td>1.777472</td>\n",
       "      <td>-0.915458</td>\n",
       "      <td>2.831612</td>\n",
       "      <td>-1.417010</td>\n",
       "      <td>2.297459</td>\n",
       "      <td>-1.304614</td>\n",
       "      <td>1.898684</td>\n",
       "      <td>1</td>\n",
       "    </tr>\n",
       "    <tr>\n",
       "      <th>2</th>\n",
       "      <td>0</td>\n",
       "      <td>0.000000</td>\n",
       "      <td>0.025134</td>\n",
       "      <td>0.027607</td>\n",
       "      <td>0.033406</td>\n",
       "      <td>0.034380</td>\n",
       "      <td>0.023970</td>\n",
       "      <td>-1</td>\n",
       "      <td>0.812780</td>\n",
       "      <td>-0.256156</td>\n",
       "      <td>...</td>\n",
       "      <td>NaN</td>\n",
       "      <td>6.115747</td>\n",
       "      <td>9.667908</td>\n",
       "      <td>5.542871</td>\n",
       "      <td>11.671595</td>\n",
       "      <td>7.281757</td>\n",
       "      <td>10.060014</td>\n",
       "      <td>6.638248</td>\n",
       "      <td>9.427299</td>\n",
       "      <td>2</td>\n",
       "    </tr>\n",
       "    <tr>\n",
       "      <th>3</th>\n",
       "      <td>0</td>\n",
       "      <td>0.000000</td>\n",
       "      <td>-0.004730</td>\n",
       "      <td>-0.003273</td>\n",
       "      <td>-0.000461</td>\n",
       "      <td>-0.000476</td>\n",
       "      <td>-0.003200</td>\n",
       "      <td>-1</td>\n",
       "      <td>1.174378</td>\n",
       "      <td>0.344640</td>\n",
       "      <td>...</td>\n",
       "      <td>NaN</td>\n",
       "      <td>2.838853</td>\n",
       "      <td>0.499251</td>\n",
       "      <td>3.033732</td>\n",
       "      <td>1.513488</td>\n",
       "      <td>4.397532</td>\n",
       "      <td>1.266037</td>\n",
       "      <td>3.856384</td>\n",
       "      <td>1.013469</td>\n",
       "      <td>3</td>\n",
       "    </tr>\n",
       "    <tr>\n",
       "      <th>4</th>\n",
       "      <td>0</td>\n",
       "      <td>0.138531</td>\n",
       "      <td>0.001252</td>\n",
       "      <td>0.002165</td>\n",
       "      <td>-0.001215</td>\n",
       "      <td>-0.006219</td>\n",
       "      <td>-0.002604</td>\n",
       "      <td>1</td>\n",
       "      <td>-3.172026</td>\n",
       "      <td>-3.093182</td>\n",
       "      <td>...</td>\n",
       "      <td>NaN</td>\n",
       "      <td>0.344850</td>\n",
       "      <td>4.101145</td>\n",
       "      <td>0.614252</td>\n",
       "      <td>6.623456</td>\n",
       "      <td>0.800129</td>\n",
       "      <td>5.233243</td>\n",
       "      <td>0.362636</td>\n",
       "      <td>3.926633</td>\n",
       "      <td>4</td>\n",
       "    </tr>\n",
       "  </tbody>\n",
       "</table>\n",
       "<p>5 rows × 138 columns</p>\n",
       "</div>"
      ],
      "text/plain": [
       "   date     weight    resp_1    resp_2    resp_3    resp_4      resp  \\\n",
       "0     0   0.000000  0.009916  0.014079  0.008773  0.001390  0.006270   \n",
       "1     0  16.673515 -0.002828 -0.003226 -0.007319 -0.011114 -0.009792   \n",
       "2     0   0.000000  0.025134  0.027607  0.033406  0.034380  0.023970   \n",
       "3     0   0.000000 -0.004730 -0.003273 -0.000461 -0.000476 -0.003200   \n",
       "4     0   0.138531  0.001252  0.002165 -0.001215 -0.006219 -0.002604   \n",
       "\n",
       "   feature_0  feature_1  feature_2  ...  feature_121  feature_122  \\\n",
       "0          1  -1.872746  -2.191242  ...          NaN     1.168391   \n",
       "1         -1  -1.349537  -1.704709  ...          NaN    -1.178850   \n",
       "2         -1   0.812780  -0.256156  ...          NaN     6.115747   \n",
       "3         -1   1.174378   0.344640  ...          NaN     2.838853   \n",
       "4          1  -3.172026  -3.093182  ...          NaN     0.344850   \n",
       "\n",
       "   feature_123  feature_124  feature_125  feature_126  feature_127  \\\n",
       "0     8.313583     1.782433    14.018213     2.653056    12.600292   \n",
       "1     1.777472    -0.915458     2.831612    -1.417010     2.297459   \n",
       "2     9.667908     5.542871    11.671595     7.281757    10.060014   \n",
       "3     0.499251     3.033732     1.513488     4.397532     1.266037   \n",
       "4     4.101145     0.614252     6.623456     0.800129     5.233243   \n",
       "\n",
       "   feature_128  feature_129  ts_id  \n",
       "0     2.301488    11.445807      0  \n",
       "1    -1.304614     1.898684      1  \n",
       "2     6.638248     9.427299      2  \n",
       "3     3.856384     1.013469      3  \n",
       "4     0.362636     3.926633      4  \n",
       "\n",
       "[5 rows x 138 columns]"
      ]
     },
     "execution_count": 2,
     "metadata": {},
     "output_type": "execute_result"
    }
   ],
   "source": [
    "%%time\n",
    "\n",
    "train  = pd.read_csv('/kaggle/input/jane-street-market-prediction/train.csv')\n",
    "\n",
    "print(train.shape)\n",
    "train.head()\n",
    "\n",
    "# all train shape (2390491, 138)"
   ]
  },
  {
   "cell_type": "code",
   "execution_count": 3,
   "metadata": {
    "execution": {
     "iopub.execute_input": "2021-01-27T05:13:51.443935Z",
     "iopub.status.busy": "2021-01-27T05:13:51.443193Z",
     "iopub.status.idle": "2021-01-27T05:13:52.466320Z",
     "shell.execute_reply": "2021-01-27T05:13:52.466827Z"
    },
    "papermill": {
     "duration": 1.044883,
     "end_time": "2021-01-27T05:13:52.466981",
     "exception": false,
     "start_time": "2021-01-27T05:13:51.422098",
     "status": "completed"
    },
    "tags": []
   },
   "outputs": [
    {
     "name": "stdout",
     "output_type": "stream",
     "text": [
      "(15219, 133)\n"
     ]
    },
    {
     "data": {
      "text/html": [
       "<div>\n",
       "<style scoped>\n",
       "    .dataframe tbody tr th:only-of-type {\n",
       "        vertical-align: middle;\n",
       "    }\n",
       "\n",
       "    .dataframe tbody tr th {\n",
       "        vertical-align: top;\n",
       "    }\n",
       "\n",
       "    .dataframe thead th {\n",
       "        text-align: right;\n",
       "    }\n",
       "</style>\n",
       "<table border=\"1\" class=\"dataframe\">\n",
       "  <thead>\n",
       "    <tr style=\"text-align: right;\">\n",
       "      <th></th>\n",
       "      <th>weight</th>\n",
       "      <th>feature_0</th>\n",
       "      <th>feature_1</th>\n",
       "      <th>feature_2</th>\n",
       "      <th>feature_3</th>\n",
       "      <th>feature_4</th>\n",
       "      <th>feature_5</th>\n",
       "      <th>feature_6</th>\n",
       "      <th>feature_7</th>\n",
       "      <th>feature_8</th>\n",
       "      <th>...</th>\n",
       "      <th>feature_122</th>\n",
       "      <th>feature_123</th>\n",
       "      <th>feature_124</th>\n",
       "      <th>feature_125</th>\n",
       "      <th>feature_126</th>\n",
       "      <th>feature_127</th>\n",
       "      <th>feature_128</th>\n",
       "      <th>feature_129</th>\n",
       "      <th>date</th>\n",
       "      <th>ts_id</th>\n",
       "    </tr>\n",
       "  </thead>\n",
       "  <tbody>\n",
       "    <tr>\n",
       "      <th>0</th>\n",
       "      <td>0.000000</td>\n",
       "      <td>1</td>\n",
       "      <td>-1.872746</td>\n",
       "      <td>-2.191242</td>\n",
       "      <td>-0.474163</td>\n",
       "      <td>-0.323046</td>\n",
       "      <td>0.014688</td>\n",
       "      <td>-0.002484</td>\n",
       "      <td>NaN</td>\n",
       "      <td>NaN</td>\n",
       "      <td>...</td>\n",
       "      <td>1.168391</td>\n",
       "      <td>8.313583</td>\n",
       "      <td>1.782433</td>\n",
       "      <td>14.018213</td>\n",
       "      <td>2.653056</td>\n",
       "      <td>12.600292</td>\n",
       "      <td>2.301488</td>\n",
       "      <td>11.445807</td>\n",
       "      <td>0</td>\n",
       "      <td>0</td>\n",
       "    </tr>\n",
       "    <tr>\n",
       "      <th>1</th>\n",
       "      <td>16.673515</td>\n",
       "      <td>-1</td>\n",
       "      <td>-1.349537</td>\n",
       "      <td>-1.704709</td>\n",
       "      <td>0.068058</td>\n",
       "      <td>0.028432</td>\n",
       "      <td>0.193794</td>\n",
       "      <td>0.138212</td>\n",
       "      <td>NaN</td>\n",
       "      <td>NaN</td>\n",
       "      <td>...</td>\n",
       "      <td>-1.178850</td>\n",
       "      <td>1.777472</td>\n",
       "      <td>-0.915458</td>\n",
       "      <td>2.831612</td>\n",
       "      <td>-1.417010</td>\n",
       "      <td>2.297459</td>\n",
       "      <td>-1.304614</td>\n",
       "      <td>1.898684</td>\n",
       "      <td>0</td>\n",
       "      <td>1</td>\n",
       "    </tr>\n",
       "    <tr>\n",
       "      <th>2</th>\n",
       "      <td>0.000000</td>\n",
       "      <td>-1</td>\n",
       "      <td>0.812780</td>\n",
       "      <td>-0.256156</td>\n",
       "      <td>0.806463</td>\n",
       "      <td>0.400221</td>\n",
       "      <td>-0.614188</td>\n",
       "      <td>-0.354800</td>\n",
       "      <td>NaN</td>\n",
       "      <td>NaN</td>\n",
       "      <td>...</td>\n",
       "      <td>6.115747</td>\n",
       "      <td>9.667908</td>\n",
       "      <td>5.542871</td>\n",
       "      <td>11.671595</td>\n",
       "      <td>7.281757</td>\n",
       "      <td>10.060014</td>\n",
       "      <td>6.638248</td>\n",
       "      <td>9.427299</td>\n",
       "      <td>0</td>\n",
       "      <td>2</td>\n",
       "    </tr>\n",
       "    <tr>\n",
       "      <th>3</th>\n",
       "      <td>0.000000</td>\n",
       "      <td>-1</td>\n",
       "      <td>1.174378</td>\n",
       "      <td>0.344640</td>\n",
       "      <td>0.066872</td>\n",
       "      <td>0.009357</td>\n",
       "      <td>-1.006373</td>\n",
       "      <td>-0.676458</td>\n",
       "      <td>NaN</td>\n",
       "      <td>NaN</td>\n",
       "      <td>...</td>\n",
       "      <td>2.838853</td>\n",
       "      <td>0.499251</td>\n",
       "      <td>3.033732</td>\n",
       "      <td>1.513488</td>\n",
       "      <td>4.397532</td>\n",
       "      <td>1.266037</td>\n",
       "      <td>3.856384</td>\n",
       "      <td>1.013469</td>\n",
       "      <td>0</td>\n",
       "      <td>3</td>\n",
       "    </tr>\n",
       "    <tr>\n",
       "      <th>4</th>\n",
       "      <td>0.138531</td>\n",
       "      <td>1</td>\n",
       "      <td>-3.172026</td>\n",
       "      <td>-3.093182</td>\n",
       "      <td>-0.161518</td>\n",
       "      <td>-0.128149</td>\n",
       "      <td>-0.195006</td>\n",
       "      <td>-0.143780</td>\n",
       "      <td>NaN</td>\n",
       "      <td>NaN</td>\n",
       "      <td>...</td>\n",
       "      <td>0.344850</td>\n",
       "      <td>4.101145</td>\n",
       "      <td>0.614252</td>\n",
       "      <td>6.623456</td>\n",
       "      <td>0.800129</td>\n",
       "      <td>5.233243</td>\n",
       "      <td>0.362636</td>\n",
       "      <td>3.926633</td>\n",
       "      <td>0</td>\n",
       "      <td>4</td>\n",
       "    </tr>\n",
       "  </tbody>\n",
       "</table>\n",
       "<p>5 rows × 133 columns</p>\n",
       "</div>"
      ],
      "text/plain": [
       "      weight  feature_0  feature_1  feature_2  feature_3  feature_4  \\\n",
       "0   0.000000          1  -1.872746  -2.191242  -0.474163  -0.323046   \n",
       "1  16.673515         -1  -1.349537  -1.704709   0.068058   0.028432   \n",
       "2   0.000000         -1   0.812780  -0.256156   0.806463   0.400221   \n",
       "3   0.000000         -1   1.174378   0.344640   0.066872   0.009357   \n",
       "4   0.138531          1  -3.172026  -3.093182  -0.161518  -0.128149   \n",
       "\n",
       "   feature_5  feature_6  feature_7  feature_8  ...  feature_122  feature_123  \\\n",
       "0   0.014688  -0.002484        NaN        NaN  ...     1.168391     8.313583   \n",
       "1   0.193794   0.138212        NaN        NaN  ...    -1.178850     1.777472   \n",
       "2  -0.614188  -0.354800        NaN        NaN  ...     6.115747     9.667908   \n",
       "3  -1.006373  -0.676458        NaN        NaN  ...     2.838853     0.499251   \n",
       "4  -0.195006  -0.143780        NaN        NaN  ...     0.344850     4.101145   \n",
       "\n",
       "   feature_124  feature_125  feature_126  feature_127  feature_128  \\\n",
       "0     1.782433    14.018213     2.653056    12.600292     2.301488   \n",
       "1    -0.915458     2.831612    -1.417010     2.297459    -1.304614   \n",
       "2     5.542871    11.671595     7.281757    10.060014     6.638248   \n",
       "3     3.033732     1.513488     4.397532     1.266037     3.856384   \n",
       "4     0.614252     6.623456     0.800129     5.233243     0.362636   \n",
       "\n",
       "   feature_129  date  ts_id  \n",
       "0    11.445807     0      0  \n",
       "1     1.898684     0      1  \n",
       "2     9.427299     0      2  \n",
       "3     1.013469     0      3  \n",
       "4     3.926633     0      4  \n",
       "\n",
       "[5 rows x 133 columns]"
      ]
     },
     "execution_count": 3,
     "metadata": {},
     "output_type": "execute_result"
    }
   ],
   "source": [
    "example_test = pd.read_csv('../input/jane-street-market-prediction/example_test.csv')\n",
    "\n",
    "print(example_test.shape)\n",
    "example_test.head()"
   ]
  },
  {
   "cell_type": "code",
   "execution_count": 4,
   "metadata": {
    "execution": {
     "iopub.execute_input": "2021-01-27T05:13:52.500726Z",
     "iopub.status.busy": "2021-01-27T05:13:52.499975Z",
     "iopub.status.idle": "2021-01-27T05:13:52.522016Z",
     "shell.execute_reply": "2021-01-27T05:13:52.521051Z"
    },
    "papermill": {
     "duration": 0.039734,
     "end_time": "2021-01-27T05:13:52.522191",
     "exception": false,
     "start_time": "2021-01-27T05:13:52.482457",
     "status": "completed"
    },
    "tags": []
   },
   "outputs": [
    {
     "name": "stdout",
     "output_type": "stream",
     "text": [
      "(15219, 2)\n"
     ]
    },
    {
     "data": {
      "text/html": [
       "<div>\n",
       "<style scoped>\n",
       "    .dataframe tbody tr th:only-of-type {\n",
       "        vertical-align: middle;\n",
       "    }\n",
       "\n",
       "    .dataframe tbody tr th {\n",
       "        vertical-align: top;\n",
       "    }\n",
       "\n",
       "    .dataframe thead th {\n",
       "        text-align: right;\n",
       "    }\n",
       "</style>\n",
       "<table border=\"1\" class=\"dataframe\">\n",
       "  <thead>\n",
       "    <tr style=\"text-align: right;\">\n",
       "      <th></th>\n",
       "      <th>ts_id</th>\n",
       "      <th>action</th>\n",
       "    </tr>\n",
       "  </thead>\n",
       "  <tbody>\n",
       "    <tr>\n",
       "      <th>0</th>\n",
       "      <td>0</td>\n",
       "      <td>1</td>\n",
       "    </tr>\n",
       "    <tr>\n",
       "      <th>1</th>\n",
       "      <td>1</td>\n",
       "      <td>1</td>\n",
       "    </tr>\n",
       "    <tr>\n",
       "      <th>2</th>\n",
       "      <td>2</td>\n",
       "      <td>1</td>\n",
       "    </tr>\n",
       "    <tr>\n",
       "      <th>3</th>\n",
       "      <td>3</td>\n",
       "      <td>1</td>\n",
       "    </tr>\n",
       "    <tr>\n",
       "      <th>4</th>\n",
       "      <td>4</td>\n",
       "      <td>1</td>\n",
       "    </tr>\n",
       "  </tbody>\n",
       "</table>\n",
       "</div>"
      ],
      "text/plain": [
       "   ts_id  action\n",
       "0      0       1\n",
       "1      1       1\n",
       "2      2       1\n",
       "3      3       1\n",
       "4      4       1"
      ]
     },
     "execution_count": 4,
     "metadata": {},
     "output_type": "execute_result"
    }
   ],
   "source": [
    "sample_prediction_df = pd.read_csv('../input/jane-street-market-prediction/example_sample_submission.csv')\n",
    "\n",
    "print(sample_prediction_df.shape)\n",
    "sample_prediction_df.head()"
   ]
  },
  {
   "cell_type": "markdown",
   "metadata": {
    "papermill": {
     "duration": 0.015628,
     "end_time": "2021-01-27T05:13:52.554291",
     "exception": false,
     "start_time": "2021-01-27T05:13:52.538663",
     "status": "completed"
    },
    "tags": []
   },
   "source": [
    "# Preprocess"
   ]
  },
  {
   "cell_type": "code",
   "execution_count": 5,
   "metadata": {
    "execution": {
     "iopub.execute_input": "2021-01-27T05:13:52.595393Z",
     "iopub.status.busy": "2021-01-27T05:13:52.594702Z",
     "iopub.status.idle": "2021-01-27T05:13:54.897682Z",
     "shell.execute_reply": "2021-01-27T05:13:54.898469Z"
    },
    "papermill": {
     "duration": 2.326637,
     "end_time": "2021-01-27T05:13:54.898657",
     "exception": false,
     "start_time": "2021-01-27T05:13:52.572020",
     "status": "completed"
    },
    "tags": []
   },
   "outputs": [
    {
     "name": "stdout",
     "output_type": "stream",
     "text": [
      "weight    0\n",
      "resp_1    0\n",
      "resp_2    0\n",
      "resp_3    0\n",
      "resp_4    0\n",
      "resp      0\n",
      "dtype: int64\n",
      "Total Null:  5339765\n"
     ]
    }
   ],
   "source": [
    "train = train[train['weight'] != 0]\n",
    "\n",
    "print(train.isnull().sum()[1:7])\n",
    "print('Total Null: ', train.isnull().sum().sum())"
   ]
  },
  {
   "cell_type": "code",
   "execution_count": 6,
   "metadata": {
    "execution": {
     "iopub.execute_input": "2021-01-27T05:13:54.941432Z",
     "iopub.status.busy": "2021-01-27T05:13:54.940712Z",
     "iopub.status.idle": "2021-01-27T05:13:54.944436Z",
     "shell.execute_reply": "2021-01-27T05:13:54.944931Z"
    },
    "papermill": {
     "duration": 0.028627,
     "end_time": "2021-01-27T05:13:54.945076",
     "exception": false,
     "start_time": "2021-01-27T05:13:54.916449",
     "status": "completed"
    },
    "tags": []
   },
   "outputs": [
    {
     "name": "stdout",
     "output_type": "stream",
     "text": [
      "130\n",
      "Index(['feature_0', 'feature_1'], dtype='object') ... Index(['feature_128', 'feature_129'], dtype='object')\n"
     ]
    }
   ],
   "source": [
    "features = train.columns[train.columns.str.contains('feature')]\n",
    "target = 'action'\n",
    "\n",
    "print(len(features))\n",
    "print(features[:2], '...', features[128:])"
   ]
  },
  {
   "cell_type": "code",
   "execution_count": 7,
   "metadata": {
    "execution": {
     "iopub.execute_input": "2021-01-27T05:13:54.985696Z",
     "iopub.status.busy": "2021-01-27T05:13:54.984997Z",
     "iopub.status.idle": "2021-01-27T05:13:58.121094Z",
     "shell.execute_reply": "2021-01-27T05:13:58.120171Z"
    },
    "papermill": {
     "duration": 3.159225,
     "end_time": "2021-01-27T05:13:58.121278",
     "exception": false,
     "start_time": "2021-01-27T05:13:54.962053",
     "status": "completed"
    },
    "tags": []
   },
   "outputs": [
    {
     "name": "stdout",
     "output_type": "stream",
     "text": [
      "0\n"
     ]
    }
   ],
   "source": [
    "train = train.fillna(-999)\n",
    "\n",
    "# train['action'] = ((train['weight'].values * train['resp'].values) > 0).astype('int')\n",
    "# train['action'] = (train['resp'] > 0) * 1\n",
    "\n",
    "train['action'] = 0\n",
    "train.loc[train['resp']>0.0, 'action'] = 1\n",
    "\n",
    "print(train.isnull().sum().sum())"
   ]
  },
  {
   "cell_type": "markdown",
   "metadata": {
    "papermill": {
     "duration": 0.018082,
     "end_time": "2021-01-27T05:13:58.157849",
     "exception": false,
     "start_time": "2021-01-27T05:13:58.139767",
     "status": "completed"
    },
    "tags": []
   },
   "source": [
    "# Modeling"
   ]
  },
  {
   "cell_type": "code",
   "execution_count": 8,
   "metadata": {
    "execution": {
     "iopub.execute_input": "2021-01-27T05:13:58.817492Z",
     "iopub.status.busy": "2021-01-27T05:13:58.816793Z",
     "iopub.status.idle": "2021-01-27T05:14:02.890993Z",
     "shell.execute_reply": "2021-01-27T05:14:02.891576Z"
    },
    "papermill": {
     "duration": 4.715949,
     "end_time": "2021-01-27T05:14:02.891729",
     "exception": false,
     "start_time": "2021-01-27T05:13:58.175780",
     "status": "completed"
    },
    "tags": []
   },
   "outputs": [
    {
     "name": "stdout",
     "output_type": "stream",
     "text": [
      "(1585029, 130)\n",
      "(1585029,)\n",
      "(396258, 130)\n",
      "(396258,)\n"
     ]
    }
   ],
   "source": [
    "X_train, X_test, y_train, y_test = train_test_split(train[features], train[target], random_state=666, test_size=0.2)\n",
    "\n",
    "print(X_train.shape)\n",
    "print(y_train.shape)\n",
    "print(X_test.shape)\n",
    "print(y_test.shape)"
   ]
  },
  {
   "cell_type": "code",
   "execution_count": 9,
   "metadata": {
    "execution": {
     "iopub.execute_input": "2021-01-27T05:14:02.936906Z",
     "iopub.status.busy": "2021-01-27T05:14:02.936157Z",
     "iopub.status.idle": "2021-01-27T05:14:02.939454Z",
     "shell.execute_reply": "2021-01-27T05:14:02.939970Z"
    },
    "papermill": {
     "duration": 0.029069,
     "end_time": "2021-01-27T05:14:02.940114",
     "exception": false,
     "start_time": "2021-01-27T05:14:02.911045",
     "status": "completed"
    },
    "tags": []
   },
   "outputs": [
    {
     "data": {
      "text/plain": [
       "'\\ndef create_model(trial):\\n    num_leaves = trial.suggest_int(\"num_leaves\", 2, 31)\\n    n_estimators = trial.suggest_int(\"n_estimators\", 50, 300)\\n    max_depth = trial.suggest_int(\\'max_depth\\', 3, 8)\\n    min_child_samples = trial.suggest_int(\\'min_child_samples\\', 100, 1200)\\n    learning_rate = trial.suggest_uniform(\\'learning_rate\\', 0.0001, 0.99)\\n    min_data_in_leaf = trial.suggest_int(\\'min_data_in_leaf\\', 5, 90)\\n    bagging_fraction = trial.suggest_uniform(\\'bagging_fraction\\', 0.0001, 1.0)\\n    feature_fraction = trial.suggest_uniform(\\'feature_fraction\\', 0.0001, 1.0)\\n    subsample = trial.suggest_uniform(\\'subsample\\', 0.1, 1.0)\\n    colsample_bytree = trial.suggest_uniform(\\'colsample_bytree\\', 0.1, 1.0)\\n    tree_method = \\'gpu_hist\\'\\n    random_state = 666\\n    \\n    model = lgb.LGBMClassifier(\\n        num_leaves=num_leaves,\\n        n_estimators=n_estimators, \\n        max_depth=max_depth, \\n        min_child_samples=min_child_samples, \\n        min_data_in_leaf=min_data_in_leaf,\\n        learning_rate=learning_rate,\\n        feature_fraction=feature_fraction,\\n        subsample = subsample,\\n        colsample_bytree = colsample_bytree,\\n        tree_method = \\'gpu_hist\\',\\n        random_state = 666)\\n        \\n    return model\\n\\ndef objective(trial):\\n    model = create_model(trial)\\n    model.fit(X_train, y_train)\\n    score = roc_auc_score(y_test.values, model.predict_proba(X_test)[:,1])\\n    return score\\n\\nstudy = optuna.create_study(direction=\"maximize\")\\nstudy.optimize(objective, n_trials=40)\\nparams = study.best_params\\n\\nprint(params)\\n\\n'"
      ]
     },
     "execution_count": 9,
     "metadata": {},
     "output_type": "execute_result"
    }
   ],
   "source": [
    "'''\n",
    "def create_model(trial):\n",
    "    num_leaves = trial.suggest_int(\"num_leaves\", 2, 31)\n",
    "    n_estimators = trial.suggest_int(\"n_estimators\", 50, 300)\n",
    "    max_depth = trial.suggest_int('max_depth', 3, 8)\n",
    "    min_child_samples = trial.suggest_int('min_child_samples', 100, 1200)\n",
    "    learning_rate = trial.suggest_uniform('learning_rate', 0.0001, 0.99)\n",
    "    min_data_in_leaf = trial.suggest_int('min_data_in_leaf', 5, 90)\n",
    "    bagging_fraction = trial.suggest_uniform('bagging_fraction', 0.0001, 1.0)\n",
    "    feature_fraction = trial.suggest_uniform('feature_fraction', 0.0001, 1.0)\n",
    "    subsample = trial.suggest_uniform('subsample', 0.1, 1.0)\n",
    "    colsample_bytree = trial.suggest_uniform('colsample_bytree', 0.1, 1.0)\n",
    "    tree_method = 'gpu_hist'\n",
    "    random_state = 666\n",
    "    \n",
    "    model = lgb.LGBMClassifier(\n",
    "        num_leaves=num_leaves,\n",
    "        n_estimators=n_estimators, \n",
    "        max_depth=max_depth, \n",
    "        min_child_samples=min_child_samples, \n",
    "        min_data_in_leaf=min_data_in_leaf,\n",
    "        learning_rate=learning_rate,\n",
    "        feature_fraction=feature_fraction,\n",
    "        subsample = subsample,\n",
    "        colsample_bytree = colsample_bytree,\n",
    "        tree_method = 'gpu_hist',\n",
    "        random_state = 666)\n",
    "        \n",
    "    return model\n",
    "\n",
    "def objective(trial):\n",
    "    model = create_model(trial)\n",
    "    model.fit(X_train, y_train)\n",
    "    score = roc_auc_score(y_test.values, model.predict_proba(X_test)[:,1])\n",
    "    return score\n",
    "\n",
    "study = optuna.create_study(direction=\"maximize\")\n",
    "study.optimize(objective, n_trials=40)\n",
    "params = study.best_params\n",
    "\n",
    "print(params)\n",
    "\n",
    "'''"
   ]
  },
  {
   "cell_type": "code",
   "execution_count": 10,
   "metadata": {
    "execution": {
     "iopub.execute_input": "2021-01-27T05:14:02.981409Z",
     "iopub.status.busy": "2021-01-27T05:14:02.980671Z",
     "iopub.status.idle": "2021-01-27T05:14:02.986952Z",
     "shell.execute_reply": "2021-01-27T05:14:02.986381Z"
    },
    "papermill": {
     "duration": 0.028109,
     "end_time": "2021-01-27T05:14:02.987061",
     "exception": false,
     "start_time": "2021-01-27T05:14:02.958952",
     "status": "completed"
    },
    "tags": []
   },
   "outputs": [],
   "source": [
    "params = {'num_leaves': 23,\n",
    "          'n_estimators': 286,\n",
    "          'max_depth': 8,\n",
    "          'min_child_samples': 957,\n",
    "          'learning_rate': 0.6313484050137067,\n",
    "          'min_data_in_leaf': 55,\n",
    "          'bagging_fraction': 0.5706817129820564,\n",
    "          'feature_fraction': 0.786837269915177,\n",
    "          'subsample': 0.14168658023733338,\n",
    "          'colsample_bytree': 0.3711909380163205,\n",
    "          'tree_method': 'gpu_hist',\n",
    "          'random_state': 666}"
   ]
  },
  {
   "cell_type": "code",
   "execution_count": 11,
   "metadata": {
    "execution": {
     "iopub.execute_input": "2021-01-27T05:14:03.648119Z",
     "iopub.status.busy": "2021-01-27T05:14:03.647450Z",
     "iopub.status.idle": "2021-01-27T05:15:39.721330Z",
     "shell.execute_reply": "2021-01-27T05:15:39.721897Z"
    },
    "papermill": {
     "duration": 96.71609,
     "end_time": "2021-01-27T05:15:39.722049",
     "exception": false,
     "start_time": "2021-01-27T05:14:03.005959",
     "status": "completed"
    },
    "tags": []
   },
   "outputs": [
    {
     "name": "stdout",
     "output_type": "stream",
     "text": [
      "AUC:  0.6505758896478027\n",
      "CPU times: user 5min 53s, sys: 4.73 s, total: 5min 57s\n",
      "Wall time: 1min 36s\n"
     ]
    }
   ],
   "source": [
    "%%time\n",
    "\n",
    "cls = lgb.LGBMClassifier(**params)\n",
    "cls.fit(train[features], train[target])\n",
    "\n",
    "y_proba = cls.predict_proba(X_test)[:,1]\n",
    "\n",
    "print('AUC: ', roc_auc_score(y_test, y_proba))"
   ]
  },
  {
   "cell_type": "code",
   "execution_count": 12,
   "metadata": {
    "execution": {
     "iopub.execute_input": "2021-01-27T05:15:39.764457Z",
     "iopub.status.busy": "2021-01-27T05:15:39.763496Z",
     "iopub.status.idle": "2021-01-27T05:15:41.742854Z",
     "shell.execute_reply": "2021-01-27T05:15:41.742305Z"
    },
    "papermill": {
     "duration": 2.001869,
     "end_time": "2021-01-27T05:15:41.742978",
     "exception": false,
     "start_time": "2021-01-27T05:15:39.741109",
     "status": "completed"
    },
    "tags": []
   },
   "outputs": [
    {
     "data": {
      "image/png": "[encoded data removed]",
      "text/plain": [
       "<Figure size 432x288 with 1 Axes>"
      ]
     },
     "metadata": {
      "needs_background": "light"
     },
     "output_type": "display_data"
    }
   ],
   "source": [
    "lgb.plot_importance(cls)\n",
    "plt.show()"
   ]
  },
  {
   "cell_type": "markdown",
   "metadata": {
    "papermill": {
     "duration": 0.02101,
     "end_time": "2021-01-27T05:15:41.785541",
     "exception": false,
     "start_time": "2021-01-27T05:15:41.764531",
     "status": "completed"
    },
    "tags": []
   },
   "source": [
    "# Submit"
   ]
  },
  {
   "cell_type": "code",
   "execution_count": 13,
   "metadata": {
    "execution": {
     "iopub.execute_input": "2021-01-27T05:15:41.832124Z",
     "iopub.status.busy": "2021-01-27T05:15:41.831119Z",
     "iopub.status.idle": "2021-01-27T05:15:41.835740Z",
     "shell.execute_reply": "2021-01-27T05:15:41.836201Z"
    },
    "papermill": {
     "duration": 0.029597,
     "end_time": "2021-01-27T05:15:41.836361",
     "exception": false,
     "start_time": "2021-01-27T05:15:41.806764",
     "status": "completed"
    },
    "tags": []
   },
   "outputs": [],
   "source": [
    "env = janestreet.make_env()\n",
    "iter_test = env.iter_test()"
   ]
  },
  {
   "cell_type": "code",
   "execution_count": 14,
   "metadata": {
    "execution": {
     "iopub.execute_input": "2021-01-27T05:15:41.886650Z",
     "iopub.status.busy": "2021-01-27T05:15:41.885749Z",
     "iopub.status.idle": "2021-01-27T05:15:41.890495Z",
     "shell.execute_reply": "2021-01-27T05:15:41.889916Z"
    },
    "papermill": {
     "duration": 0.032534,
     "end_time": "2021-01-27T05:15:41.890614",
     "exception": false,
     "start_time": "2021-01-27T05:15:41.858080",
     "status": "completed"
    },
    "tags": []
   },
   "outputs": [
    {
     "data": {
      "text/plain": [
       "\"\\n%%time\\n\\nfor (test, sample_prediction) in iter_test:\\n    test = test.fillna(0.5)\\n    sample_prediction['action'] = cls.predict(test[features])\\n    env.predict(sample_prediction)\\n    \\n\""
      ]
     },
     "execution_count": 14,
     "metadata": {},
     "output_type": "execute_result"
    }
   ],
   "source": [
    "'''\n",
    "%%time\n",
    "\n",
    "for (test, sample_prediction) in iter_test:\n",
    "    test = test.fillna(0.5)\n",
    "    sample_prediction['action'] = cls.predict(test[features])\n",
    "    env.predict(sample_prediction)\n",
    "    \n",
    "'''"
   ]
  },
  {
   "cell_type": "code",
   "execution_count": 15,
   "metadata": {
    "execution": {
     "iopub.execute_input": "2021-01-27T05:15:41.943325Z",
     "iopub.status.busy": "2021-01-27T05:15:41.942637Z",
     "iopub.status.idle": "2021-01-27T05:20:08.856725Z",
     "shell.execute_reply": "2021-01-27T05:20:08.857246Z"
    },
    "papermill": {
     "duration": 266.944783,
     "end_time": "2021-01-27T05:20:08.857402",
     "exception": false,
     "start_time": "2021-01-27T05:15:41.912619",
     "status": "completed"
    },
    "tags": []
   },
   "outputs": [
    {
     "name": "stdout",
     "output_type": "stream",
     "text": [
      "CPU times: user 16min 48s, sys: 29.2 s, total: 17min 17s\n",
      "Wall time: 4min 26s\n"
     ]
    }
   ],
   "source": [
    "%%time\n",
    "\n",
    "for (test, sample_prediction) in iter_test:\n",
    "    test = test.fillna(-999)\n",
    "    \n",
    "    if test['weight'].item() > 0:\n",
    "        sample_prediction['action'] = cls.predict(test[features])\n",
    "    else:\n",
    "        sample_prediction['action'] = 0\n",
    "    \n",
    "    env.predict(sample_prediction)"
   ]
  }
 ],
 "metadata": {
  "kernelspec": {
   "display_name": "Python 3",
   "language": "python",
   "name": "python3"
  },
  "language_info": {
   "codemirror_mode": {
    "name": "ipython",
    "version": 3
   },
   "file_extension": ".py",
   "mimetype": "text/x-python",
   "name": "python",
   "nbconvert_exporter": "python",
   "pygments_lexer": "ipython3",
   "version": "3.7.6"
  },
  "papermill": {
   "duration": 550.814998,
   "end_time": "2021-01-27T05:20:09.088442",
   "environment_variables": {},
   "exception": null,
   "input_path": "__notebook__.ipynb",
   "output_path": "__notebook__.ipynb",
   "parameters": {},
   "start_time": "2021-01-27T05:10:58.273444",
   "version": "2.1.0"
  }
 },
 "nbformat": 4,
 "nbformat_minor": 4
}
