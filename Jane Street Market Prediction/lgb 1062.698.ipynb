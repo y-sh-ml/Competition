{
 "cells": [
  {
   "cell_type": "markdown",
   "metadata": {
    "papermill": {
     "duration": 0.015043,
     "end_time": "2021-01-28T05:09:32.112913",
     "exception": false,
     "start_time": "2021-01-28T05:09:32.097870",
     "status": "completed"
    },
    "tags": []
   },
   "source": [
    "# Module"
   ]
  },
  {
   "cell_type": "code",
   "execution_count": 1,
   "metadata": {
    "_cell_guid": "79c7e3d0-c299-4dcb-8224-4455121ee9b0",
    "_uuid": "d629ff2d2480ee46fbb7e2d37f6b5fab8052498a",
    "execution": {
     "iopub.execute_input": "2021-01-28T05:09:32.144429Z",
     "iopub.status.busy": "2021-01-28T05:09:32.143781Z",
     "iopub.status.idle": "2021-01-28T05:09:35.253834Z",
     "shell.execute_reply": "2021-01-28T05:09:35.253107Z"
    },
    "papermill": {
     "duration": 3.128564,
     "end_time": "2021-01-28T05:09:35.253948",
     "exception": false,
     "start_time": "2021-01-28T05:09:32.125384",
     "status": "completed"
    },
    "tags": []
   },
   "outputs": [],
   "source": [
    "import gc\n",
    "import optuna\n",
    "import janestreet\n",
    "import numpy as np\n",
    "import pandas as pd\n",
    "import matplotlib.pyplot as plt\n",
    "import lightgbm as lgb\n",
    "import xgboost as xgb\n",
    "from sklearn.model_selection import train_test_split\n",
    "from sklearn.metrics import roc_auc_score"
   ]
  },
  {
   "cell_type": "markdown",
   "metadata": {
    "papermill": {
     "duration": 0.01183,
     "end_time": "2021-01-28T05:09:35.278453",
     "exception": false,
     "start_time": "2021-01-28T05:09:35.266623",
     "status": "completed"
    },
    "tags": []
   },
   "source": [
    "# Dataset"
   ]
  },
  {
   "cell_type": "code",
   "execution_count": 2,
   "metadata": {
    "execution": {
     "iopub.execute_input": "2021-01-28T05:09:35.314352Z",
     "iopub.status.busy": "2021-01-28T05:09:35.313712Z",
     "iopub.status.idle": "2021-01-28T05:12:05.645266Z",
     "shell.execute_reply": "2021-01-28T05:12:05.644500Z"
    },
    "papermill": {
     "duration": 150.355039,
     "end_time": "2021-01-28T05:12:05.645401",
     "exception": false,
     "start_time": "2021-01-28T05:09:35.290362",
     "status": "completed"
    },
    "tags": []
   },
   "outputs": [
    {
     "name": "stdout",
     "output_type": "stream",
     "text": [
      "(2390491, 138)\n",
      "CPU times: user 1min 44s, sys: 5.3 s, total: 1min 49s\n",
      "Wall time: 2min 30s\n"
     ]
    },
    {
     "data": {
      "text/html": [
       "<div>\n",
       "<style scoped>\n",
       "    .dataframe tbody tr th:only-of-type {\n",
       "        vertical-align: middle;\n",
       "    }\n",
       "\n",
       "    .dataframe tbody tr th {\n",
       "        vertical-align: top;\n",
       "    }\n",
       "\n",
       "    .dataframe thead th {\n",
       "        text-align: right;\n",
       "    }\n",
       "</style>\n",
       "<table border=\"1\" class=\"dataframe\">\n",
       "  <thead>\n",
       "    <tr style=\"text-align: right;\">\n",
       "      <th></th>\n",
       "      <th>date</th>\n",
       "      <th>weight</th>\n",
       "      <th>resp_1</th>\n",
       "      <th>resp_2</th>\n",
       "      <th>resp_3</th>\n",
       "      <th>resp_4</th>\n",
       "      <th>resp</th>\n",
       "      <th>feature_0</th>\n",
       "      <th>feature_1</th>\n",
       "      <th>feature_2</th>\n",
       "      <th>...</th>\n",
       "      <th>feature_121</th>\n",
       "      <th>feature_122</th>\n",
       "      <th>feature_123</th>\n",
       "      <th>feature_124</th>\n",
       "      <th>feature_125</th>\n",
       "      <th>feature_126</th>\n",
       "      <th>feature_127</th>\n",
       "      <th>feature_128</th>\n",
       "      <th>feature_129</th>\n",
       "      <th>ts_id</th>\n",
       "    </tr>\n",
       "  </thead>\n",
       "  <tbody>\n",
       "    <tr>\n",
       "      <th>0</th>\n",
       "      <td>0</td>\n",
       "      <td>0.000000</td>\n",
       "      <td>0.009916</td>\n",
       "      <td>0.014079</td>\n",
       "      <td>0.008773</td>\n",
       "      <td>0.001390</td>\n",
       "      <td>0.006270</td>\n",
       "      <td>1</td>\n",
       "      <td>-1.872746</td>\n",
       "      <td>-2.191242</td>\n",
       "      <td>...</td>\n",
       "      <td>NaN</td>\n",
       "      <td>1.168391</td>\n",
       "      <td>8.313583</td>\n",
       "      <td>1.782433</td>\n",
       "      <td>14.018213</td>\n",
       "      <td>2.653056</td>\n",
       "      <td>12.600292</td>\n",
       "      <td>2.301488</td>\n",
       "      <td>11.445807</td>\n",
       "      <td>0</td>\n",
       "    </tr>\n",
       "    <tr>\n",
       "      <th>1</th>\n",
       "      <td>0</td>\n",
       "      <td>16.673515</td>\n",
       "      <td>-0.002828</td>\n",
       "      <td>-0.003226</td>\n",
       "      <td>-0.007319</td>\n",
       "      <td>-0.011114</td>\n",
       "      <td>-0.009792</td>\n",
       "      <td>-1</td>\n",
       "      <td>-1.349537</td>\n",
       "      <td>-1.704709</td>\n",
       "      <td>...</td>\n",
       "      <td>NaN</td>\n",
       "      <td>-1.178850</td>\n",
       "      <td>1.777472</td>\n",
       "      <td>-0.915458</td>\n",
       "      <td>2.831612</td>\n",
       "      <td>-1.417010</td>\n",
       "      <td>2.297459</td>\n",
       "      <td>-1.304614</td>\n",
       "      <td>1.898684</td>\n",
       "      <td>1</td>\n",
       "    </tr>\n",
       "    <tr>\n",
       "      <th>2</th>\n",
       "      <td>0</td>\n",
       "      <td>0.000000</td>\n",
       "      <td>0.025134</td>\n",
       "      <td>0.027607</td>\n",
       "      <td>0.033406</td>\n",
       "      <td>0.034380</td>\n",
       "      <td>0.023970</td>\n",
       "      <td>-1</td>\n",
       "      <td>0.812780</td>\n",
       "      <td>-0.256156</td>\n",
       "      <td>...</td>\n",
       "      <td>NaN</td>\n",
       "      <td>6.115747</td>\n",
       "      <td>9.667908</td>\n",
       "      <td>5.542871</td>\n",
       "      <td>11.671595</td>\n",
       "      <td>7.281757</td>\n",
       "      <td>10.060014</td>\n",
       "      <td>6.638248</td>\n",
       "      <td>9.427299</td>\n",
       "      <td>2</td>\n",
       "    </tr>\n",
       "    <tr>\n",
       "      <th>3</th>\n",
       "      <td>0</td>\n",
       "      <td>0.000000</td>\n",
       "      <td>-0.004730</td>\n",
       "      <td>-0.003273</td>\n",
       "      <td>-0.000461</td>\n",
       "      <td>-0.000476</td>\n",
       "      <td>-0.003200</td>\n",
       "      <td>-1</td>\n",
       "      <td>1.174378</td>\n",
       "      <td>0.344640</td>\n",
       "      <td>...</td>\n",
       "      <td>NaN</td>\n",
       "      <td>2.838853</td>\n",
       "      <td>0.499251</td>\n",
       "      <td>3.033732</td>\n",
       "      <td>1.513488</td>\n",
       "      <td>4.397532</td>\n",
       "      <td>1.266037</td>\n",
       "      <td>3.856384</td>\n",
       "      <td>1.013469</td>\n",
       "      <td>3</td>\n",
       "    </tr>\n",
       "    <tr>\n",
       "      <th>4</th>\n",
       "      <td>0</td>\n",
       "      <td>0.138531</td>\n",
       "      <td>0.001252</td>\n",
       "      <td>0.002165</td>\n",
       "      <td>-0.001215</td>\n",
       "      <td>-0.006219</td>\n",
       "      <td>-0.002604</td>\n",
       "      <td>1</td>\n",
       "      <td>-3.172026</td>\n",
       "      <td>-3.093182</td>\n",
       "      <td>...</td>\n",
       "      <td>NaN</td>\n",
       "      <td>0.344850</td>\n",
       "      <td>4.101145</td>\n",
       "      <td>0.614252</td>\n",
       "      <td>6.623456</td>\n",
       "      <td>0.800129</td>\n",
       "      <td>5.233243</td>\n",
       "      <td>0.362636</td>\n",
       "      <td>3.926633</td>\n",
       "      <td>4</td>\n",
       "    </tr>\n",
       "  </tbody>\n",
       "</table>\n",
       "<p>5 rows × 138 columns</p>\n",
       "</div>"
      ],
      "text/plain": [
       "   date     weight    resp_1    resp_2    resp_3    resp_4      resp  \\\n",
       "0     0   0.000000  0.009916  0.014079  0.008773  0.001390  0.006270   \n",
       "1     0  16.673515 -0.002828 -0.003226 -0.007319 -0.011114 -0.009792   \n",
       "2     0   0.000000  0.025134  0.027607  0.033406  0.034380  0.023970   \n",
       "3     0   0.000000 -0.004730 -0.003273 -0.000461 -0.000476 -0.003200   \n",
       "4     0   0.138531  0.001252  0.002165 -0.001215 -0.006219 -0.002604   \n",
       "\n",
       "   feature_0  feature_1  feature_2  ...  feature_121  feature_122  \\\n",
       "0          1  -1.872746  -2.191242  ...          NaN     1.168391   \n",
       "1         -1  -1.349537  -1.704709  ...          NaN    -1.178850   \n",
       "2         -1   0.812780  -0.256156  ...          NaN     6.115747   \n",
       "3         -1   1.174378   0.344640  ...          NaN     2.838853   \n",
       "4          1  -3.172026  -3.093182  ...          NaN     0.344850   \n",
       "\n",
       "   feature_123  feature_124  feature_125  feature_126  feature_127  \\\n",
       "0     8.313583     1.782433    14.018213     2.653056    12.600292   \n",
       "1     1.777472    -0.915458     2.831612    -1.417010     2.297459   \n",
       "2     9.667908     5.542871    11.671595     7.281757    10.060014   \n",
       "3     0.499251     3.033732     1.513488     4.397532     1.266037   \n",
       "4     4.101145     0.614252     6.623456     0.800129     5.233243   \n",
       "\n",
       "   feature_128  feature_129  ts_id  \n",
       "0     2.301488    11.445807      0  \n",
       "1    -1.304614     1.898684      1  \n",
       "2     6.638248     9.427299      2  \n",
       "3     3.856384     1.013469      3  \n",
       "4     0.362636     3.926633      4  \n",
       "\n",
       "[5 rows x 138 columns]"
      ]
     },
     "execution_count": 2,
     "metadata": {},
     "output_type": "execute_result"
    }
   ],
   "source": [
    "%%time\n",
    "\n",
    "data  = pd.read_csv('/kaggle/input/jane-street-market-prediction/train.csv')\n",
    "\n",
    "print(data.shape)\n",
    "data.head()"
   ]
  },
  {
   "cell_type": "markdown",
   "metadata": {
    "papermill": {
     "duration": 0.013154,
     "end_time": "2021-01-28T05:12:05.672501",
     "exception": false,
     "start_time": "2021-01-28T05:12:05.659347",
     "status": "completed"
    },
    "tags": []
   },
   "source": [
    "# Preprocess"
   ]
  },
  {
   "cell_type": "code",
   "execution_count": 3,
   "metadata": {
    "execution": {
     "iopub.execute_input": "2021-01-28T05:12:05.708063Z",
     "iopub.status.busy": "2021-01-28T05:12:05.707417Z",
     "iopub.status.idle": "2021-01-28T05:12:07.287849Z",
     "shell.execute_reply": "2021-01-28T05:12:07.286966Z"
    },
    "papermill": {
     "duration": 1.601785,
     "end_time": "2021-01-28T05:12:07.287980",
     "exception": false,
     "start_time": "2021-01-28T05:12:05.686195",
     "status": "completed"
    },
    "tags": []
   },
   "outputs": [
    {
     "name": "stdout",
     "output_type": "stream",
     "text": [
      "weight    0\n",
      "resp_1    0\n",
      "resp_2    0\n",
      "resp_3    0\n",
      "resp_4    0\n",
      "resp      0\n",
      "dtype: int64\n",
      "Total Null:  5339765\n"
     ]
    }
   ],
   "source": [
    "train = data[data['weight'] != 0]\n",
    "\n",
    "print(train.isnull().sum()[1:7])\n",
    "print('Total Null: ', train.isnull().sum().sum())"
   ]
  },
  {
   "cell_type": "code",
   "execution_count": 4,
   "metadata": {
    "execution": {
     "iopub.execute_input": "2021-01-28T05:12:07.472718Z",
     "iopub.status.busy": "2021-01-28T05:12:07.471960Z",
     "iopub.status.idle": "2021-01-28T05:12:07.478639Z",
     "shell.execute_reply": "2021-01-28T05:12:07.477927Z"
    },
    "papermill": {
     "duration": 0.169658,
     "end_time": "2021-01-28T05:12:07.478800",
     "exception": false,
     "start_time": "2021-01-28T05:12:07.309142",
     "status": "completed"
    },
    "tags": []
   },
   "outputs": [
    {
     "data": {
      "text/plain": [
       "40"
      ]
     },
     "execution_count": 4,
     "metadata": {},
     "output_type": "execute_result"
    }
   ],
   "source": [
    "del(data)\n",
    "gc.collect()"
   ]
  },
  {
   "cell_type": "code",
   "execution_count": 5,
   "metadata": {
    "execution": {
     "iopub.execute_input": "2021-01-28T05:12:07.531232Z",
     "iopub.status.busy": "2021-01-28T05:12:07.530352Z",
     "iopub.status.idle": "2021-01-28T05:12:07.534700Z",
     "shell.execute_reply": "2021-01-28T05:12:07.535333Z"
    },
    "papermill": {
     "duration": 0.034691,
     "end_time": "2021-01-28T05:12:07.535497",
     "exception": false,
     "start_time": "2021-01-28T05:12:07.500806",
     "status": "completed"
    },
    "tags": []
   },
   "outputs": [
    {
     "name": "stdout",
     "output_type": "stream",
     "text": [
      "130\n",
      "Index(['feature_0', 'feature_1'], dtype='object') ... Index(['feature_128', 'feature_129'], dtype='object')\n"
     ]
    }
   ],
   "source": [
    "features = train.columns[train.columns.str.contains('feature')]\n",
    "target = 'action'\n",
    "\n",
    "print(len(features))\n",
    "print(features[:2], '...', features[128:])"
   ]
  },
  {
   "cell_type": "code",
   "execution_count": 6,
   "metadata": {
    "execution": {
     "iopub.execute_input": "2021-01-28T05:12:07.587145Z",
     "iopub.status.busy": "2021-01-28T05:12:07.586345Z",
     "iopub.status.idle": "2021-01-28T05:12:09.051470Z",
     "shell.execute_reply": "2021-01-28T05:12:09.052383Z"
    },
    "papermill": {
     "duration": 1.494635,
     "end_time": "2021-01-28T05:12:09.052576",
     "exception": false,
     "start_time": "2021-01-28T05:12:07.557941",
     "status": "completed"
    },
    "tags": []
   },
   "outputs": [
    {
     "name": "stdout",
     "output_type": "stream",
     "text": [
      "0\n"
     ]
    },
    {
     "data": {
      "text/plain": [
       "1    0\n",
       "4    0\n",
       "6    1\n",
       "7    1\n",
       "8    0\n",
       "Name: action, dtype: int64"
      ]
     },
     "execution_count": 6,
     "metadata": {},
     "output_type": "execute_result"
    }
   ],
   "source": [
    "train = train.fillna(-9999)\n",
    "\n",
    "# train['action'] = ((train['weight'].values * train['resp'].values) > 0).astype('int')\n",
    "train['action'] = (train['resp'] > 0) * 1\n",
    "\n",
    "print(train.isnull().sum().sum())\n",
    "train['action'].head()"
   ]
  },
  {
   "cell_type": "markdown",
   "metadata": {
    "papermill": {
     "duration": 0.024248,
     "end_time": "2021-01-28T05:12:09.101056",
     "exception": false,
     "start_time": "2021-01-28T05:12:09.076808",
     "status": "completed"
    },
    "tags": []
   },
   "source": [
    "# Modeling"
   ]
  },
  {
   "cell_type": "code",
   "execution_count": 7,
   "metadata": {
    "execution": {
     "iopub.execute_input": "2021-01-28T05:12:09.156889Z",
     "iopub.status.busy": "2021-01-28T05:12:09.156068Z",
     "iopub.status.idle": "2021-01-28T05:12:13.046476Z",
     "shell.execute_reply": "2021-01-28T05:12:13.045817Z"
    },
    "papermill": {
     "duration": 3.921938,
     "end_time": "2021-01-28T05:12:13.046582",
     "exception": false,
     "start_time": "2021-01-28T05:12:09.124644",
     "status": "completed"
    },
    "tags": []
   },
   "outputs": [
    {
     "name": "stdout",
     "output_type": "stream",
     "text": [
      "(1585029, 130)\n",
      "(1585029,)\n",
      "(396258, 130)\n",
      "(396258,)\n"
     ]
    }
   ],
   "source": [
    "X_train, X_test, y_train, y_test = train_test_split(train[features], train[target], random_state=666, test_size=0.2)\n",
    "\n",
    "print(X_train.shape)\n",
    "print(y_train.shape)\n",
    "print(X_test.shape)\n",
    "print(y_test.shape)"
   ]
  },
  {
   "cell_type": "code",
   "execution_count": 8,
   "metadata": {
    "execution": {
     "iopub.execute_input": "2021-01-28T05:12:13.086409Z",
     "iopub.status.busy": "2021-01-28T05:12:13.085677Z",
     "iopub.status.idle": "2021-01-28T05:12:13.091571Z",
     "shell.execute_reply": "2021-01-28T05:12:13.090719Z"
    },
    "papermill": {
     "duration": 0.028671,
     "end_time": "2021-01-28T05:12:13.091704",
     "exception": false,
     "start_time": "2021-01-28T05:12:13.063033",
     "status": "completed"
    },
    "tags": []
   },
   "outputs": [
    {
     "data": {
      "text/plain": [
       "'\\ndef create_model(trial):\\n    num_leaves = trial.suggest_int(\"num_leaves\", 2, 31)\\n    n_estimators = trial.suggest_int(\"n_estimators\", 50, 300)\\n    max_depth = trial.suggest_int(\\'max_depth\\', 3, 8)\\n    min_child_samples = trial.suggest_int(\\'min_child_samples\\', 100, 1200)\\n    learning_rate = trial.suggest_uniform(\\'learning_rate\\', 0.0001, 0.99)\\n    min_data_in_leaf = trial.suggest_int(\\'min_data_in_leaf\\', 5, 90)\\n    bagging_fraction = trial.suggest_uniform(\\'bagging_fraction\\', 0.0001, 1.0)\\n    feature_fraction = trial.suggest_uniform(\\'feature_fraction\\', 0.0001, 1.0)\\n    bagging_freq = trial.suggest_int(\\'bagging_freq\\', 1, 7)\\n    subsample = trial.suggest_uniform(\\'subsample\\', 0.1, 1.0)\\n    colsample_bytree = trial.suggest_uniform(\\'colsample_bytree\\', 0.1, 1.0)\\n    tree_method = \\'gpu_hist\\'\\n    random_state = 666\\n    \\n    model = lgb.LGBMClassifier(\\n        num_leaves=num_leaves,\\n        n_estimators=n_estimators, \\n        max_depth=max_depth, \\n        min_child_samples=min_child_samples, \\n        min_data_in_leaf=min_data_in_leaf,\\n        learning_rate=learning_rate,\\n        feature_fraction=feature_fraction,\\n        bagging_freq=bagging_freq,\\n        subsample=subsample,\\n        colsample_bytree=colsample_bytree,\\n        tree_method=\\'gpu_hist\\',\\n        random_state=666)\\n        \\n    return model\\n\\ndef objective(trial):\\n    model = create_model(trial)\\n    model.fit(X_train, y_train)\\n    score = roc_auc_score(y_test.values, model.predict_proba(X_test)[:,1])\\n    return score\\n\\nstudy = optuna.create_study(direction=\"maximize\")\\nstudy.optimize(objective, n_trials=40)\\nparams = study.best_params\\n\\nprint(params)\\n\\n'"
      ]
     },
     "execution_count": 8,
     "metadata": {},
     "output_type": "execute_result"
    }
   ],
   "source": [
    "'''\n",
    "def create_model(trial):\n",
    "    num_leaves = trial.suggest_int(\"num_leaves\", 2, 31)\n",
    "    n_estimators = trial.suggest_int(\"n_estimators\", 50, 300)\n",
    "    max_depth = trial.suggest_int('max_depth', 3, 8)\n",
    "    min_child_samples = trial.suggest_int('min_child_samples', 100, 1200)\n",
    "    learning_rate = trial.suggest_uniform('learning_rate', 0.0001, 0.99)\n",
    "    min_data_in_leaf = trial.suggest_int('min_data_in_leaf', 5, 90)\n",
    "    bagging_fraction = trial.suggest_uniform('bagging_fraction', 0.0001, 1.0)\n",
    "    feature_fraction = trial.suggest_uniform('feature_fraction', 0.0001, 1.0)\n",
    "    bagging_freq = trial.suggest_int('bagging_freq', 1, 7)\n",
    "    subsample = trial.suggest_uniform('subsample', 0.1, 1.0)\n",
    "    colsample_bytree = trial.suggest_uniform('colsample_bytree', 0.1, 1.0)\n",
    "    tree_method = 'gpu_hist'\n",
    "    random_state = 666\n",
    "    \n",
    "    model = lgb.LGBMClassifier(\n",
    "        num_leaves=num_leaves,\n",
    "        n_estimators=n_estimators, \n",
    "        max_depth=max_depth, \n",
    "        min_child_samples=min_child_samples, \n",
    "        min_data_in_leaf=min_data_in_leaf,\n",
    "        learning_rate=learning_rate,\n",
    "        feature_fraction=feature_fraction,\n",
    "        bagging_freq=bagging_freq,\n",
    "        subsample=subsample,\n",
    "        colsample_bytree=colsample_bytree,\n",
    "        tree_method='gpu_hist',\n",
    "        random_state=666)\n",
    "        \n",
    "    return model\n",
    "\n",
    "def objective(trial):\n",
    "    model = create_model(trial)\n",
    "    model.fit(X_train, y_train)\n",
    "    score = roc_auc_score(y_test.values, model.predict_proba(X_test)[:,1])\n",
    "    return score\n",
    "\n",
    "study = optuna.create_study(direction=\"maximize\")\n",
    "study.optimize(objective, n_trials=40)\n",
    "params = study.best_params\n",
    "\n",
    "print(params)\n",
    "\n",
    "'''"
   ]
  },
  {
   "cell_type": "code",
   "execution_count": 9,
   "metadata": {
    "execution": {
     "iopub.execute_input": "2021-01-28T05:12:13.150188Z",
     "iopub.status.busy": "2021-01-28T05:12:13.149381Z",
     "iopub.status.idle": "2021-01-28T05:12:13.155527Z",
     "shell.execute_reply": "2021-01-28T05:12:13.154703Z"
    },
    "papermill": {
     "duration": 0.038179,
     "end_time": "2021-01-28T05:12:13.155647",
     "exception": false,
     "start_time": "2021-01-28T05:12:13.117468",
     "status": "completed"
    },
    "tags": []
   },
   "outputs": [],
   "source": [
    "params = {'num_leaves': 22,\n",
    "          'n_estimators': 220,\n",
    "          'max_depth': 6,\n",
    "          'min_child_samples': 693,\n",
    "          'learning_rate': 0.8776003284159013,\n",
    "          'min_data_in_leaf': 90,\n",
    "          'bagging_fraction': 0.22877973178889682,\n",
    "          'feature_fraction': 0.6980358427683643,\n",
    "          'bagging_freq': 5,\n",
    "          'subsample': 0.9413551924406076,\n",
    "          'colsample_bytree': 0.47676806243368036,\n",
    "          'tree_method': 'gpu_hist',\n",
    "          'random_state': 666}"
   ]
  },
  {
   "cell_type": "code",
   "execution_count": 10,
   "metadata": {
    "execution": {
     "iopub.execute_input": "2021-01-28T05:12:13.500799Z",
     "iopub.status.busy": "2021-01-28T05:12:13.499949Z",
     "iopub.status.idle": "2021-01-28T05:13:11.846201Z",
     "shell.execute_reply": "2021-01-28T05:13:11.846900Z"
    },
    "papermill": {
     "duration": 58.66591,
     "end_time": "2021-01-28T05:13:11.847056",
     "exception": false,
     "start_time": "2021-01-28T05:12:13.181146",
     "status": "completed"
    },
    "tags": []
   },
   "outputs": [
    {
     "name": "stdout",
     "output_type": "stream",
     "text": [
      "AUC:  0.5832849958386889\n",
      "CPU times: user 3min 32s, sys: 3.04 s, total: 3min 35s\n",
      "Wall time: 58.6 s\n"
     ]
    }
   ],
   "source": [
    "%%time\n",
    "\n",
    "cls = lgb.LGBMClassifier(**params)\n",
    "cls.fit(train[features], train[target])\n",
    "\n",
    "y_proba = cls.predict_proba(X_test)[:,1]\n",
    "\n",
    "print('AUC: ', roc_auc_score(y_test, y_proba))"
   ]
  },
  {
   "cell_type": "code",
   "execution_count": 11,
   "metadata": {
    "execution": {
     "iopub.execute_input": "2021-01-28T05:13:12.059335Z",
     "iopub.status.busy": "2021-01-28T05:13:12.058483Z",
     "iopub.status.idle": "2021-01-28T05:13:12.064917Z",
     "shell.execute_reply": "2021-01-28T05:13:12.064040Z"
    },
    "papermill": {
     "duration": 0.191716,
     "end_time": "2021-01-28T05:13:12.065062",
     "exception": false,
     "start_time": "2021-01-28T05:13:11.873346",
     "status": "completed"
    },
    "tags": []
   },
   "outputs": [
    {
     "data": {
      "text/plain": [
       "62"
      ]
     },
     "execution_count": 11,
     "metadata": {},
     "output_type": "execute_result"
    }
   ],
   "source": [
    "del(train)\n",
    "gc.collect()"
   ]
  },
  {
   "cell_type": "markdown",
   "metadata": {
    "papermill": {
     "duration": 0.026398,
     "end_time": "2021-01-28T05:13:12.118545",
     "exception": false,
     "start_time": "2021-01-28T05:13:12.092147",
     "status": "completed"
    },
    "tags": []
   },
   "source": [
    "# Submit"
   ]
  },
  {
   "cell_type": "code",
   "execution_count": 12,
   "metadata": {
    "execution": {
     "iopub.execute_input": "2021-01-28T05:13:12.178667Z",
     "iopub.status.busy": "2021-01-28T05:13:12.177891Z",
     "iopub.status.idle": "2021-01-28T05:13:12.182585Z",
     "shell.execute_reply": "2021-01-28T05:13:12.181935Z"
    },
    "papermill": {
     "duration": 0.037418,
     "end_time": "2021-01-28T05:13:12.182696",
     "exception": false,
     "start_time": "2021-01-28T05:13:12.145278",
     "status": "completed"
    },
    "tags": []
   },
   "outputs": [],
   "source": [
    "env = janestreet.make_env()\n",
    "iter_test = env.iter_test()"
   ]
  },
  {
   "cell_type": "code",
   "execution_count": 13,
   "metadata": {
    "execution": {
     "iopub.execute_input": "2021-01-28T05:13:12.226174Z",
     "iopub.status.busy": "2021-01-28T05:13:12.225331Z",
     "iopub.status.idle": "2021-01-28T05:13:12.231620Z",
     "shell.execute_reply": "2021-01-28T05:13:12.231016Z"
    },
    "papermill": {
     "duration": 0.030163,
     "end_time": "2021-01-28T05:13:12.231725",
     "exception": false,
     "start_time": "2021-01-28T05:13:12.201562",
     "status": "completed"
    },
    "tags": []
   },
   "outputs": [
    {
     "data": {
      "text/plain": [
       "\"\\n%%time\\n\\nfor (test, sample_prediction) in iter_test:\\n    test = test.fillna(0.5)\\n    sample_prediction['action'] = cls.predict(test[features])\\n    env.predict(sample_prediction)\\n    \\n\""
      ]
     },
     "execution_count": 13,
     "metadata": {},
     "output_type": "execute_result"
    }
   ],
   "source": [
    "'''\n",
    "%%time\n",
    "\n",
    "for (test, sample_prediction) in iter_test:\n",
    "    test = test.fillna(0.5)\n",
    "    sample_prediction['action'] = cls.predict(test[features])\n",
    "    env.predict(sample_prediction)\n",
    "    \n",
    "'''"
   ]
  },
  {
   "cell_type": "code",
   "execution_count": 14,
   "metadata": {
    "execution": {
     "iopub.execute_input": "2021-01-28T05:13:12.282678Z",
     "iopub.status.busy": "2021-01-28T05:13:12.281851Z",
     "iopub.status.idle": "2021-01-28T05:17:47.867549Z",
     "shell.execute_reply": "2021-01-28T05:17:47.868258Z"
    },
    "papermill": {
     "duration": 275.617465,
     "end_time": "2021-01-28T05:17:47.868420",
     "exception": false,
     "start_time": "2021-01-28T05:13:12.250955",
     "status": "completed"
    },
    "tags": []
   },
   "outputs": [
    {
     "name": "stdout",
     "output_type": "stream",
     "text": [
      "CPU times: user 17min 26s, sys: 26.1 s, total: 17min 52s\n",
      "Wall time: 4min 35s\n"
     ]
    }
   ],
   "source": [
    "%%time\n",
    "\n",
    "for (test, sample_prediction) in iter_test:\n",
    "    test = test.fillna(-9999)\n",
    "    \n",
    "    if test['weight'].item() > 0:\n",
    "        sample_prediction['action'] = cls.predict(test[features])\n",
    "    else:\n",
    "        sample_prediction['action'] = 0\n",
    "    \n",
    "    env.predict(sample_prediction)"
   ]
  }
 ],
 "metadata": {
  "kernelspec": {
   "display_name": "Python 3",
   "language": "python",
   "name": "python3"
  },
  "language_info": {
   "codemirror_mode": {
    "name": "ipython",
    "version": 3
   },
   "file_extension": ".py",
   "mimetype": "text/x-python",
   "name": "python",
   "nbconvert_exporter": "python",
   "pygments_lexer": "ipython3",
   "version": "3.7.6"
  },
  "papermill": {
   "duration": 501.355209,
   "end_time": "2021-01-28T05:17:48.097184",
   "environment_variables": {},
   "exception": null,
   "input_path": "__notebook__.ipynb",
   "output_path": "__notebook__.ipynb",
   "parameters": {},
   "start_time": "2021-01-28T05:09:26.741975",
   "version": "2.1.0"
  }
 },
 "nbformat": 4,
 "nbformat_minor": 4
}
