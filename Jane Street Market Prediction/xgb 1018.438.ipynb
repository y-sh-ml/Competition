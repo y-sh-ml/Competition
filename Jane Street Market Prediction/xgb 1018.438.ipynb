{
 "cells": [
  {
   "cell_type": "markdown",
   "metadata": {
    "papermill": {
     "duration": 0.011982,
     "end_time": "2021-02-02T10:27:17.615041",
     "exception": false,
     "start_time": "2021-02-02T10:27:17.603059",
     "status": "completed"
    },
    "tags": []
   },
   "source": [
    "# Module"
   ]
  },
  {
   "cell_type": "code",
   "execution_count": 1,
   "metadata": {
    "_cell_guid": "79c7e3d0-c299-4dcb-8224-4455121ee9b0",
    "_uuid": "d629ff2d2480ee46fbb7e2d37f6b5fab8052498a",
    "execution": {
     "iopub.execute_input": "2021-02-02T10:27:17.642414Z",
     "iopub.status.busy": "2021-02-02T10:27:17.641844Z",
     "iopub.status.idle": "2021-02-02T10:27:23.362905Z",
     "shell.execute_reply": "2021-02-02T10:27:23.361798Z"
    },
    "papermill": {
     "duration": 5.736863,
     "end_time": "2021-02-02T10:27:23.363029",
     "exception": false,
     "start_time": "2021-02-02T10:27:17.626166",
     "status": "completed"
    },
    "tags": []
   },
   "outputs": [],
   "source": [
    "import gc\n",
    "import optuna\n",
    "import janestreet\n",
    "import numpy as np\n",
    "import pandas as pd\n",
    "import xgboost as xgb\n",
    "from sklearn.model_selection import train_test_split\n",
    "from sklearn.metrics import roc_auc_score"
   ]
  },
  {
   "cell_type": "markdown",
   "metadata": {
    "papermill": {
     "duration": 0.011097,
     "end_time": "2021-02-02T10:27:23.385466",
     "exception": false,
     "start_time": "2021-02-02T10:27:23.374369",
     "status": "completed"
    },
    "tags": []
   },
   "source": [
    "# Dataset"
   ]
  },
  {
   "cell_type": "code",
   "execution_count": 2,
   "metadata": {
    "execution": {
     "iopub.execute_input": "2021-02-02T10:27:23.417414Z",
     "iopub.status.busy": "2021-02-02T10:27:23.416830Z",
     "iopub.status.idle": "2021-02-02T10:29:13.085237Z",
     "shell.execute_reply": "2021-02-02T10:29:13.084569Z"
    },
    "papermill": {
     "duration": 109.68914,
     "end_time": "2021-02-02T10:29:13.085365",
     "exception": false,
     "start_time": "2021-02-02T10:27:23.396225",
     "status": "completed"
    },
    "tags": []
   },
   "outputs": [
    {
     "name": "stdout",
     "output_type": "stream",
     "text": [
      "(2000000, 138)\n",
      "CPU times: user 1min 5s, sys: 4.3 s, total: 1min 10s\n",
      "Wall time: 1min 49s\n"
     ]
    },
    {
     "data": {
      "text/html": [
       "<div>\n",
       "<style scoped>\n",
       "    .dataframe tbody tr th:only-of-type {\n",
       "        vertical-align: middle;\n",
       "    }\n",
       "\n",
       "    .dataframe tbody tr th {\n",
       "        vertical-align: top;\n",
       "    }\n",
       "\n",
       "    .dataframe thead th {\n",
       "        text-align: right;\n",
       "    }\n",
       "</style>\n",
       "<table border=\"1\" class=\"dataframe\">\n",
       "  <thead>\n",
       "    <tr style=\"text-align: right;\">\n",
       "      <th></th>\n",
       "      <th>date</th>\n",
       "      <th>weight</th>\n",
       "      <th>resp_1</th>\n",
       "      <th>resp_2</th>\n",
       "      <th>resp_3</th>\n",
       "      <th>resp_4</th>\n",
       "      <th>resp</th>\n",
       "      <th>feature_0</th>\n",
       "      <th>feature_1</th>\n",
       "      <th>feature_2</th>\n",
       "      <th>...</th>\n",
       "      <th>feature_121</th>\n",
       "      <th>feature_122</th>\n",
       "      <th>feature_123</th>\n",
       "      <th>feature_124</th>\n",
       "      <th>feature_125</th>\n",
       "      <th>feature_126</th>\n",
       "      <th>feature_127</th>\n",
       "      <th>feature_128</th>\n",
       "      <th>feature_129</th>\n",
       "      <th>ts_id</th>\n",
       "    </tr>\n",
       "  </thead>\n",
       "  <tbody>\n",
       "    <tr>\n",
       "      <th>0</th>\n",
       "      <td>0</td>\n",
       "      <td>0.000000</td>\n",
       "      <td>0.009916</td>\n",
       "      <td>0.014079</td>\n",
       "      <td>0.008773</td>\n",
       "      <td>0.001390</td>\n",
       "      <td>0.006270</td>\n",
       "      <td>1</td>\n",
       "      <td>-1.872746</td>\n",
       "      <td>-2.191242</td>\n",
       "      <td>...</td>\n",
       "      <td>NaN</td>\n",
       "      <td>1.168391</td>\n",
       "      <td>8.313583</td>\n",
       "      <td>1.782433</td>\n",
       "      <td>14.018213</td>\n",
       "      <td>2.653056</td>\n",
       "      <td>12.600292</td>\n",
       "      <td>2.301488</td>\n",
       "      <td>11.445807</td>\n",
       "      <td>0</td>\n",
       "    </tr>\n",
       "    <tr>\n",
       "      <th>1</th>\n",
       "      <td>0</td>\n",
       "      <td>16.673515</td>\n",
       "      <td>-0.002828</td>\n",
       "      <td>-0.003226</td>\n",
       "      <td>-0.007319</td>\n",
       "      <td>-0.011114</td>\n",
       "      <td>-0.009792</td>\n",
       "      <td>-1</td>\n",
       "      <td>-1.349537</td>\n",
       "      <td>-1.704709</td>\n",
       "      <td>...</td>\n",
       "      <td>NaN</td>\n",
       "      <td>-1.178850</td>\n",
       "      <td>1.777472</td>\n",
       "      <td>-0.915458</td>\n",
       "      <td>2.831612</td>\n",
       "      <td>-1.417010</td>\n",
       "      <td>2.297459</td>\n",
       "      <td>-1.304614</td>\n",
       "      <td>1.898684</td>\n",
       "      <td>1</td>\n",
       "    </tr>\n",
       "    <tr>\n",
       "      <th>2</th>\n",
       "      <td>0</td>\n",
       "      <td>0.000000</td>\n",
       "      <td>0.025134</td>\n",
       "      <td>0.027607</td>\n",
       "      <td>0.033406</td>\n",
       "      <td>0.034380</td>\n",
       "      <td>0.023970</td>\n",
       "      <td>-1</td>\n",
       "      <td>0.812780</td>\n",
       "      <td>-0.256156</td>\n",
       "      <td>...</td>\n",
       "      <td>NaN</td>\n",
       "      <td>6.115747</td>\n",
       "      <td>9.667908</td>\n",
       "      <td>5.542871</td>\n",
       "      <td>11.671595</td>\n",
       "      <td>7.281757</td>\n",
       "      <td>10.060014</td>\n",
       "      <td>6.638248</td>\n",
       "      <td>9.427299</td>\n",
       "      <td>2</td>\n",
       "    </tr>\n",
       "    <tr>\n",
       "      <th>3</th>\n",
       "      <td>0</td>\n",
       "      <td>0.000000</td>\n",
       "      <td>-0.004730</td>\n",
       "      <td>-0.003273</td>\n",
       "      <td>-0.000461</td>\n",
       "      <td>-0.000476</td>\n",
       "      <td>-0.003200</td>\n",
       "      <td>-1</td>\n",
       "      <td>1.174378</td>\n",
       "      <td>0.344640</td>\n",
       "      <td>...</td>\n",
       "      <td>NaN</td>\n",
       "      <td>2.838853</td>\n",
       "      <td>0.499251</td>\n",
       "      <td>3.033732</td>\n",
       "      <td>1.513488</td>\n",
       "      <td>4.397532</td>\n",
       "      <td>1.266037</td>\n",
       "      <td>3.856384</td>\n",
       "      <td>1.013469</td>\n",
       "      <td>3</td>\n",
       "    </tr>\n",
       "    <tr>\n",
       "      <th>4</th>\n",
       "      <td>0</td>\n",
       "      <td>0.138531</td>\n",
       "      <td>0.001252</td>\n",
       "      <td>0.002165</td>\n",
       "      <td>-0.001215</td>\n",
       "      <td>-0.006219</td>\n",
       "      <td>-0.002604</td>\n",
       "      <td>1</td>\n",
       "      <td>-3.172026</td>\n",
       "      <td>-3.093182</td>\n",
       "      <td>...</td>\n",
       "      <td>NaN</td>\n",
       "      <td>0.344850</td>\n",
       "      <td>4.101145</td>\n",
       "      <td>0.614252</td>\n",
       "      <td>6.623456</td>\n",
       "      <td>0.800129</td>\n",
       "      <td>5.233243</td>\n",
       "      <td>0.362636</td>\n",
       "      <td>3.926633</td>\n",
       "      <td>4</td>\n",
       "    </tr>\n",
       "  </tbody>\n",
       "</table>\n",
       "<p>5 rows × 138 columns</p>\n",
       "</div>"
      ],
      "text/plain": [
       "   date     weight    resp_1    resp_2    resp_3    resp_4      resp  \\\n",
       "0     0   0.000000  0.009916  0.014079  0.008773  0.001390  0.006270   \n",
       "1     0  16.673515 -0.002828 -0.003226 -0.007319 -0.011114 -0.009792   \n",
       "2     0   0.000000  0.025134  0.027607  0.033406  0.034380  0.023970   \n",
       "3     0   0.000000 -0.004730 -0.003273 -0.000461 -0.000476 -0.003200   \n",
       "4     0   0.138531  0.001252  0.002165 -0.001215 -0.006219 -0.002604   \n",
       "\n",
       "   feature_0  feature_1  feature_2  ...  feature_121  feature_122  \\\n",
       "0          1  -1.872746  -2.191242  ...          NaN     1.168391   \n",
       "1         -1  -1.349537  -1.704709  ...          NaN    -1.178850   \n",
       "2         -1   0.812780  -0.256156  ...          NaN     6.115747   \n",
       "3         -1   1.174378   0.344640  ...          NaN     2.838853   \n",
       "4          1  -3.172026  -3.093182  ...          NaN     0.344850   \n",
       "\n",
       "   feature_123  feature_124  feature_125  feature_126  feature_127  \\\n",
       "0     8.313583     1.782433    14.018213     2.653056    12.600292   \n",
       "1     1.777472    -0.915458     2.831612    -1.417010     2.297459   \n",
       "2     9.667908     5.542871    11.671595     7.281757    10.060014   \n",
       "3     0.499251     3.033732     1.513488     4.397532     1.266037   \n",
       "4     4.101145     0.614252     6.623456     0.800129     5.233243   \n",
       "\n",
       "   feature_128  feature_129  ts_id  \n",
       "0     2.301488    11.445807      0  \n",
       "1    -1.304614     1.898684      1  \n",
       "2     6.638248     9.427299      2  \n",
       "3     3.856384     1.013469      3  \n",
       "4     0.362636     3.926633      4  \n",
       "\n",
       "[5 rows x 138 columns]"
      ]
     },
     "execution_count": 2,
     "metadata": {},
     "output_type": "execute_result"
    }
   ],
   "source": [
    "%%time\n",
    "\n",
    "data  = pd.read_csv('/kaggle/input/jane-street-market-prediction/train.csv', nrows=2000000)\n",
    "\n",
    "print(data.shape)\n",
    "data.head()"
   ]
  },
  {
   "cell_type": "markdown",
   "metadata": {
    "papermill": {
     "duration": 0.011524,
     "end_time": "2021-02-02T10:29:13.109076",
     "exception": false,
     "start_time": "2021-02-02T10:29:13.097552",
     "status": "completed"
    },
    "tags": []
   },
   "source": [
    "# Preprocess"
   ]
  },
  {
   "cell_type": "code",
   "execution_count": 3,
   "metadata": {
    "execution": {
     "iopub.execute_input": "2021-02-02T10:29:13.138544Z",
     "iopub.status.busy": "2021-02-02T10:29:13.137569Z",
     "iopub.status.idle": "2021-02-02T10:29:14.408870Z",
     "shell.execute_reply": "2021-02-02T10:29:14.407993Z"
    },
    "papermill": {
     "duration": 1.288273,
     "end_time": "2021-02-02T10:29:14.408973",
     "exception": false,
     "start_time": "2021-02-02T10:29:13.120700",
     "status": "completed"
    },
    "tags": []
   },
   "outputs": [
    {
     "name": "stdout",
     "output_type": "stream",
     "text": [
      "weight    0\n",
      "resp_1    0\n",
      "resp_2    0\n",
      "resp_3    0\n",
      "resp_4    0\n",
      "resp      0\n",
      "dtype: int64\n"
     ]
    }
   ],
   "source": [
    "train = data[data['weight'] != 0]\n",
    "\n",
    "print(train.isnull().sum()[1:7])"
   ]
  },
  {
   "cell_type": "code",
   "execution_count": 4,
   "metadata": {
    "execution": {
     "iopub.execute_input": "2021-02-02T10:29:14.544467Z",
     "iopub.status.busy": "2021-02-02T10:29:14.543857Z",
     "iopub.status.idle": "2021-02-02T10:29:14.549796Z",
     "shell.execute_reply": "2021-02-02T10:29:14.549333Z"
    },
    "papermill": {
     "duration": 0.128501,
     "end_time": "2021-02-02T10:29:14.549896",
     "exception": false,
     "start_time": "2021-02-02T10:29:14.421395",
     "status": "completed"
    },
    "tags": []
   },
   "outputs": [
    {
     "data": {
      "text/plain": [
       "40"
      ]
     },
     "execution_count": 4,
     "metadata": {},
     "output_type": "execute_result"
    }
   ],
   "source": [
    "del(data)\n",
    "gc.collect()"
   ]
  },
  {
   "cell_type": "code",
   "execution_count": 5,
   "metadata": {
    "execution": {
     "iopub.execute_input": "2021-02-02T10:29:14.581877Z",
     "iopub.status.busy": "2021-02-02T10:29:14.580721Z",
     "iopub.status.idle": "2021-02-02T10:29:14.594408Z",
     "shell.execute_reply": "2021-02-02T10:29:14.594784Z"
    },
    "papermill": {
     "duration": 0.03196,
     "end_time": "2021-02-02T10:29:14.594905",
     "exception": false,
     "start_time": "2021-02-02T10:29:14.562945",
     "status": "completed"
    },
    "tags": []
   },
   "outputs": [
    {
     "data": {
      "text/plain": [
       "1    0\n",
       "4    0\n",
       "6    1\n",
       "7    1\n",
       "8    0\n",
       "Name: action, dtype: int64"
      ]
     },
     "execution_count": 5,
     "metadata": {},
     "output_type": "execute_result"
    }
   ],
   "source": [
    "train['action'] = ((train['weight'].values * train['resp'].values) > 0).astype('int')\n",
    "# train['action'] = (train['resp'] > 0) * 1\n",
    "\n",
    "train['action'].head()"
   ]
  },
  {
   "cell_type": "code",
   "execution_count": 6,
   "metadata": {
    "execution": {
     "iopub.execute_input": "2021-02-02T10:29:14.627401Z",
     "iopub.status.busy": "2021-02-02T10:29:14.626675Z",
     "iopub.status.idle": "2021-02-02T10:29:14.631756Z",
     "shell.execute_reply": "2021-02-02T10:29:14.632371Z"
    },
    "papermill": {
     "duration": 0.02452,
     "end_time": "2021-02-02T10:29:14.632517",
     "exception": false,
     "start_time": "2021-02-02T10:29:14.607997",
     "status": "completed"
    },
    "tags": []
   },
   "outputs": [
    {
     "name": "stdout",
     "output_type": "stream",
     "text": [
      "130\n",
      "Index(['feature_0', 'feature_1'], dtype='object') ... Index(['feature_128', 'feature_129'], dtype='object')\n"
     ]
    }
   ],
   "source": [
    "features = train.columns[train.columns.str.contains('feature')]\n",
    "target = 'action'\n",
    "\n",
    "print(len(features))\n",
    "print(features[:2], '...', features[128:])"
   ]
  },
  {
   "cell_type": "code",
   "execution_count": 7,
   "metadata": {
    "execution": {
     "iopub.execute_input": "2021-02-02T10:29:14.664328Z",
     "iopub.status.busy": "2021-02-02T10:29:14.663385Z",
     "iopub.status.idle": "2021-02-02T10:29:16.752818Z",
     "shell.execute_reply": "2021-02-02T10:29:16.753465Z"
    },
    "papermill": {
     "duration": 2.107488,
     "end_time": "2021-02-02T10:29:16.753638",
     "exception": false,
     "start_time": "2021-02-02T10:29:14.646150",
     "status": "completed"
    },
    "tags": []
   },
   "outputs": [
    {
     "name": "stdout",
     "output_type": "stream",
     "text": [
      "Total Null:  0\n"
     ]
    }
   ],
   "source": [
    "train = train.fillna(0.5)\n",
    "\n",
    "print('Total Null: ', train.isnull().sum().sum())"
   ]
  },
  {
   "cell_type": "markdown",
   "metadata": {
    "papermill": {
     "duration": 0.014102,
     "end_time": "2021-02-02T10:29:16.783047",
     "exception": false,
     "start_time": "2021-02-02T10:29:16.768945",
     "status": "completed"
    },
    "tags": []
   },
   "source": [
    "# Modeling"
   ]
  },
  {
   "cell_type": "code",
   "execution_count": 8,
   "metadata": {
    "execution": {
     "iopub.execute_input": "2021-02-02T10:29:16.818042Z",
     "iopub.status.busy": "2021-02-02T10:29:16.816787Z",
     "iopub.status.idle": "2021-02-02T10:29:20.073049Z",
     "shell.execute_reply": "2021-02-02T10:29:20.073951Z"
    },
    "papermill": {
     "duration": 3.276983,
     "end_time": "2021-02-02T10:29:20.074092",
     "exception": false,
     "start_time": "2021-02-02T10:29:16.797109",
     "status": "completed"
    },
    "tags": []
   },
   "outputs": [
    {
     "name": "stdout",
     "output_type": "stream",
     "text": [
      "(1319428, 130)\n",
      "(1319428,)\n",
      "(329858, 130)\n",
      "(329858,)\n"
     ]
    }
   ],
   "source": [
    "X_train, X_test, y_train, y_test = train_test_split(train[features], train[target], random_state=666, test_size=0.2)\n",
    "\n",
    "print(X_train.shape)\n",
    "print(y_train.shape)\n",
    "print(X_test.shape)\n",
    "print(y_test.shape)"
   ]
  },
  {
   "cell_type": "code",
   "execution_count": 9,
   "metadata": {
    "execution": {
     "iopub.execute_input": "2021-02-02T10:29:20.112694Z",
     "iopub.status.busy": "2021-02-02T10:29:20.111282Z",
     "iopub.status.idle": "2021-02-02T10:29:20.115127Z",
     "shell.execute_reply": "2021-02-02T10:29:20.114677Z"
    },
    "papermill": {
     "duration": 0.025633,
     "end_time": "2021-02-02T10:29:20.115224",
     "exception": false,
     "start_time": "2021-02-02T10:29:20.089591",
     "status": "completed"
    },
    "tags": []
   },
   "outputs": [
    {
     "data": {
      "text/plain": [
       "'\\n%%time\\n\\ndef create_model(trial):\\n    n_estimators = trial.suggest_int(\"n_estimators\", 50, 500)\\n    max_depth = trial.suggest_int(\\'max_depth\\', 3, 8)\\n    learning_rate = trial.suggest_uniform(\\'learning_rate\\', 0.0001, 0.99)\\n    subsample = trial.suggest_uniform(\\'subsample\\', 0.1, 1.0)\\n    colsample_bytree = trial.suggest_uniform(\\'colsample_bytree\\', 0.1, 1.0)\\n    tree_method = \\'gpu_hist\\'\\n    missing = -999\\n    random_state = 666\\n    \\n    model = xgb.XGBClassifier(\\n        n_estimators=n_estimators, \\n        max_depth=max_depth, \\n        learning_rate=learning_rate,\\n        subsample=subsample,\\n        colsample_bytree=colsample_bytree,\\n        tree_method=\\'gpu_hist\\',\\n        missing=-999,\\n        random_state=666)\\n        \\n    return model\\n\\ndef objective(trial):\\n    model = create_model(trial)\\n    model.fit(X_train, y_train)\\n    y_proba = model.predict_proba(X_test)[:,1]\\n    score = roc_auc_score(y_test, y_proba)\\n    return score\\n\\nstudy = optuna.create_study(direction=\\'maximize\\')\\nstudy.optimize(objective, n_trials=40)\\nparams = study.best_params\\n\\nprint(params)\\n\\n'"
      ]
     },
     "execution_count": 9,
     "metadata": {},
     "output_type": "execute_result"
    }
   ],
   "source": [
    "'''\n",
    "%%time\n",
    "\n",
    "def create_model(trial):\n",
    "    n_estimators = trial.suggest_int(\"n_estimators\", 50, 500)\n",
    "    max_depth = trial.suggest_int('max_depth', 3, 8)\n",
    "    learning_rate = trial.suggest_uniform('learning_rate', 0.0001, 0.99)\n",
    "    subsample = trial.suggest_uniform('subsample', 0.1, 1.0)\n",
    "    colsample_bytree = trial.suggest_uniform('colsample_bytree', 0.1, 1.0)\n",
    "    tree_method = 'gpu_hist'\n",
    "    missing = -999\n",
    "    random_state = 666\n",
    "    \n",
    "    model = xgb.XGBClassifier(\n",
    "        n_estimators=n_estimators, \n",
    "        max_depth=max_depth, \n",
    "        learning_rate=learning_rate,\n",
    "        subsample=subsample,\n",
    "        colsample_bytree=colsample_bytree,\n",
    "        tree_method='gpu_hist',\n",
    "        missing=-999,\n",
    "        random_state=666)\n",
    "        \n",
    "    return model\n",
    "\n",
    "def objective(trial):\n",
    "    model = create_model(trial)\n",
    "    model.fit(X_train, y_train)\n",
    "    y_proba = model.predict_proba(X_test)[:,1]\n",
    "    score = roc_auc_score(y_test, y_proba)\n",
    "    return score\n",
    "\n",
    "study = optuna.create_study(direction='maximize')\n",
    "study.optimize(objective, n_trials=40)\n",
    "params = study.best_params\n",
    "\n",
    "print(params)\n",
    "\n",
    "'''"
   ]
  },
  {
   "cell_type": "code",
   "execution_count": 10,
   "metadata": {
    "execution": {
     "iopub.execute_input": "2021-02-02T10:29:20.266898Z",
     "iopub.status.busy": "2021-02-02T10:29:20.266135Z",
     "iopub.status.idle": "2021-02-02T10:29:20.269744Z",
     "shell.execute_reply": "2021-02-02T10:29:20.270187Z"
    },
    "papermill": {
     "duration": 0.14041,
     "end_time": "2021-02-02T10:29:20.270311",
     "exception": false,
     "start_time": "2021-02-02T10:29:20.129901",
     "status": "completed"
    },
    "tags": []
   },
   "outputs": [
    {
     "data": {
      "text/plain": [
       "0"
      ]
     },
     "execution_count": 10,
     "metadata": {},
     "output_type": "execute_result"
    }
   ],
   "source": [
    "del(X_train)\n",
    "del(X_test)\n",
    "del(y_train)\n",
    "del(y_test)\n",
    "\n",
    "gc.collect()"
   ]
  },
  {
   "cell_type": "code",
   "execution_count": 11,
   "metadata": {
    "execution": {
     "iopub.execute_input": "2021-02-02T10:29:20.304898Z",
     "iopub.status.busy": "2021-02-02T10:29:20.304386Z",
     "iopub.status.idle": "2021-02-02T10:29:20.307968Z",
     "shell.execute_reply": "2021-02-02T10:29:20.307534Z"
    },
    "papermill": {
     "duration": 0.022608,
     "end_time": "2021-02-02T10:29:20.308048",
     "exception": false,
     "start_time": "2021-02-02T10:29:20.285440",
     "status": "completed"
    },
    "tags": []
   },
   "outputs": [],
   "source": [
    "params = {'n_estimators': 499,\n",
    "          'max_depth': 7,\n",
    "          'learning_rate': 0.978392615888505,\n",
    "          'subsample': 0.9869724628015693,\n",
    "          'colsample_bytree': 0.9828149582391027,\n",
    "          'tree_method': 'gpu_hist',\n",
    "          'missing': -999,\n",
    "          'random_state': 666}"
   ]
  },
  {
   "cell_type": "code",
   "execution_count": 12,
   "metadata": {
    "execution": {
     "iopub.execute_input": "2021-02-02T10:29:20.895798Z",
     "iopub.status.busy": "2021-02-02T10:29:20.894766Z",
     "iopub.status.idle": "2021-02-02T10:29:51.626037Z",
     "shell.execute_reply": "2021-02-02T10:29:51.625404Z"
    },
    "papermill": {
     "duration": 31.30297,
     "end_time": "2021-02-02T10:29:51.626183",
     "exception": false,
     "start_time": "2021-02-02T10:29:20.323213",
     "status": "completed"
    },
    "tags": []
   },
   "outputs": [
    {
     "name": "stdout",
     "output_type": "stream",
     "text": [
      "CPU times: user 26.9 s, sys: 3.72 s, total: 30.6 s\n",
      "Wall time: 31.3 s\n"
     ]
    },
    {
     "data": {
      "text/plain": [
       "XGBClassifier(base_score=0.5, booster='gbtree', colsample_bylevel=1,\n",
       "              colsample_bynode=1, colsample_bytree=0.9828149582391027, gamma=0,\n",
       "              gpu_id=0, importance_type='gain', interaction_constraints='',\n",
       "              learning_rate=0.978392615888505, max_delta_step=0, max_depth=7,\n",
       "              min_child_weight=1, missing=-999,\n",
       "              monotone_constraints='(0,0,0,0,0,0,0,0,0,0,0,0,0,0,0,0,0,0,0,0,0,0,0,...0,0,0,0,0,0,0,0,0,0,0,0,0,0,0,0,0,0,0,0,0,0,0,0,0,0,0,0,0,0,0,0,0,0,0,0,0,0,0,0,0,0,0,0,0,0,0,0,0,0,0,0,0,0,0,0,0,0,0,0,0,0,0,0,0,0,0,0,0,0,0,0,0,0,0,0)',\n",
       "              n_estimators=499, n_jobs=0, num_parallel_tree=1, random_state=666,\n",
       "              reg_alpha=0, reg_lambda=1, scale_pos_weight=1,\n",
       "              subsample=0.9869724628015693, tree_method='gpu_hist',\n",
       "              validate_parameters=1, verbosity=None)"
      ]
     },
     "execution_count": 12,
     "metadata": {},
     "output_type": "execute_result"
    }
   ],
   "source": [
    "%%time\n",
    "\n",
    "cls = xgb.XGBClassifier(**params)\n",
    "cls.fit(train[features], train[target])"
   ]
  },
  {
   "cell_type": "code",
   "execution_count": 13,
   "metadata": {
    "execution": {
     "iopub.execute_input": "2021-02-02T10:29:51.781363Z",
     "iopub.status.busy": "2021-02-02T10:29:51.780541Z",
     "iopub.status.idle": "2021-02-02T10:29:51.784216Z",
     "shell.execute_reply": "2021-02-02T10:29:51.784638Z"
    },
    "papermill": {
     "duration": 0.141472,
     "end_time": "2021-02-02T10:29:51.784759",
     "exception": false,
     "start_time": "2021-02-02T10:29:51.643287",
     "status": "completed"
    },
    "tags": []
   },
   "outputs": [
    {
     "data": {
      "text/plain": [
       "29"
      ]
     },
     "execution_count": 13,
     "metadata": {},
     "output_type": "execute_result"
    }
   ],
   "source": [
    "del(train)\n",
    "gc.collect()"
   ]
  },
  {
   "cell_type": "markdown",
   "metadata": {
    "papermill": {
     "duration": 0.016127,
     "end_time": "2021-02-02T10:29:51.817367",
     "exception": false,
     "start_time": "2021-02-02T10:29:51.801240",
     "status": "completed"
    },
    "tags": []
   },
   "source": [
    "# Submit"
   ]
  },
  {
   "cell_type": "code",
   "execution_count": 14,
   "metadata": {
    "execution": {
     "iopub.execute_input": "2021-02-02T10:29:51.853958Z",
     "iopub.status.busy": "2021-02-02T10:29:51.853288Z",
     "iopub.status.idle": "2021-02-02T10:29:51.856218Z",
     "shell.execute_reply": "2021-02-02T10:29:51.855790Z"
    },
    "papermill": {
     "duration": 0.022854,
     "end_time": "2021-02-02T10:29:51.856305",
     "exception": false,
     "start_time": "2021-02-02T10:29:51.833451",
     "status": "completed"
    },
    "tags": []
   },
   "outputs": [],
   "source": [
    "env = janestreet.make_env()\n",
    "iter_test = env.iter_test()"
   ]
  },
  {
   "cell_type": "code",
   "execution_count": 15,
   "metadata": {
    "execution": {
     "iopub.execute_input": "2021-02-02T10:29:51.893554Z",
     "iopub.status.busy": "2021-02-02T10:29:51.892768Z",
     "iopub.status.idle": "2021-02-02T10:29:51.895971Z",
     "shell.execute_reply": "2021-02-02T10:29:51.896480Z"
    },
    "papermill": {
     "duration": 0.024133,
     "end_time": "2021-02-02T10:29:51.896589",
     "exception": false,
     "start_time": "2021-02-02T10:29:51.872456",
     "status": "completed"
    },
    "tags": []
   },
   "outputs": [
    {
     "data": {
      "text/plain": [
       "\"\\n%%time\\n\\nfor (test, sample_prediction) in iter_test:\\n    test = test.fillna(0.5)\\n    sample_prediction['action'] = cls.predict(test[features])\\n    env.predict(sample_prediction)\\n    \\n\""
      ]
     },
     "execution_count": 15,
     "metadata": {},
     "output_type": "execute_result"
    }
   ],
   "source": [
    "'''\n",
    "%%time\n",
    "\n",
    "for (test, sample_prediction) in iter_test:\n",
    "    test = test.fillna(0.5)\n",
    "    sample_prediction['action'] = cls.predict(test[features])\n",
    "    env.predict(sample_prediction)\n",
    "    \n",
    "'''"
   ]
  },
  {
   "cell_type": "code",
   "execution_count": 16,
   "metadata": {
    "execution": {
     "iopub.execute_input": "2021-02-02T10:29:51.938512Z",
     "iopub.status.busy": "2021-02-02T10:29:51.937903Z",
     "iopub.status.idle": "2021-02-02T10:32:56.655678Z",
     "shell.execute_reply": "2021-02-02T10:32:56.656122Z"
    },
    "papermill": {
     "duration": 184.742898,
     "end_time": "2021-02-02T10:32:56.656281",
     "exception": false,
     "start_time": "2021-02-02T10:29:51.913383",
     "status": "completed"
    },
    "tags": []
   },
   "outputs": [
    {
     "name": "stdout",
     "output_type": "stream",
     "text": [
      "CPU times: user 3min 3s, sys: 446 ms, total: 3min 3s\n",
      "Wall time: 3min 4s\n"
     ]
    }
   ],
   "source": [
    "%%time\n",
    "\n",
    "for (test, sample_prediction) in iter_test:\n",
    "    test = test.fillna(0.5)\n",
    "    \n",
    "    if test['weight'].item() > 0:\n",
    "        sample_prediction['action'] = cls.predict(test[features])\n",
    "    else:\n",
    "        sample_prediction['action'] = 0\n",
    "    \n",
    "    env.predict(sample_prediction)"
   ]
  }
 ],
 "metadata": {
  "kernelspec": {
   "display_name": "Python 3",
   "language": "python",
   "name": "python3"
  },
  "language_info": {
   "codemirror_mode": {
    "name": "ipython",
    "version": 3
   },
   "file_extension": ".py",
   "mimetype": "text/x-python",
   "name": "python",
   "nbconvert_exporter": "python",
   "pygments_lexer": "ipython3",
   "version": "3.7.6"
  },
  "papermill": {
   "duration": 343.887874,
   "end_time": "2021-02-02T10:32:57.087656",
   "environment_variables": {},
   "exception": null,
   "input_path": "__notebook__.ipynb",
   "output_path": "__notebook__.ipynb",
   "parameters": {},
   "start_time": "2021-02-02T10:27:13.199782",
   "version": "2.1.0"
  }
 },
 "nbformat": 4,
 "nbformat_minor": 4
}
