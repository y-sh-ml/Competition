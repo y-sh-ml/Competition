{
 "cells": [
  {
   "cell_type": "code",
   "execution_count": 1,
   "metadata": {
    "_cell_guid": "b1076dfc-b9ad-4769-8c92-a6c4dae69d19",
    "_uuid": "8f2839f25d086af736a60e9eeb907d3b93b6e0e5",
    "execution": {
     "iopub.execute_input": "2020-11-26T06:40:50.944441Z",
     "iopub.status.busy": "2020-11-26T06:40:50.943519Z",
     "iopub.status.idle": "2020-11-26T06:40:50.950677Z",
     "shell.execute_reply": "2020-11-26T06:40:50.950015Z"
    },
    "papermill": {
     "duration": 0.026052,
     "end_time": "2020-11-26T06:40:50.950821",
     "exception": false,
     "start_time": "2020-11-26T06:40:50.924769",
     "status": "completed"
    },
    "tags": []
   },
   "outputs": [
    {
     "name": "stdout",
     "output_type": "stream",
     "text": [
      "/kaggle/input/jane-street-market-prediction/train.csv\n",
      "/kaggle/input/jane-street-market-prediction/example_test.csv\n",
      "/kaggle/input/jane-street-market-prediction/features.csv\n",
      "/kaggle/input/jane-street-market-prediction/example_sample_submission.csv\n",
      "/kaggle/input/jane-street-market-prediction/janestreet/__init__.py\n",
      "/kaggle/input/jane-street-market-prediction/janestreet/competition.cpython-37m-x86_64-linux-gnu.so\n"
     ]
    }
   ],
   "source": [
    "# This Python 3 environment comes with many helpful analytics libraries installed\n",
    "# It is defined by the kaggle/python Docker image: https://github.com/kaggle/docker-python\n",
    "# For example, here's several helpful packages to load\n",
    "\n",
    "import numpy as np # linear algebra\n",
    "import pandas as pd # data processing, CSV file I/O (e.g. pd.read_csv)\n",
    "\n",
    "# Input data files are available in the read-only \"../input/\" directory\n",
    "# For example, running this (by clicking run or pressing Shift+Enter) will list all files under the input directory\n",
    "\n",
    "import os\n",
    "for dirname, _, filenames in os.walk('/kaggle/input'):\n",
    "    for filename in filenames:\n",
    "        print(os.path.join(dirname, filename))\n",
    "\n",
    "# You can write up to 20GB to the current directory (/kaggle/working/) that gets preserved as output when you create a version using \"Save & Run All\" \n",
    "# You can also write temporary files to /kaggle/temp/, but they won't be saved outside of the current session"
   ]
  },
  {
   "cell_type": "code",
   "execution_count": 2,
   "metadata": {
    "_cell_guid": "79c7e3d0-c299-4dcb-8224-4455121ee9b0",
    "_uuid": "d629ff2d2480ee46fbb7e2d37f6b5fab8052498a",
    "execution": {
     "iopub.execute_input": "2020-11-26T06:40:50.983902Z",
     "iopub.status.busy": "2020-11-26T06:40:50.982927Z",
     "iopub.status.idle": "2020-11-26T06:40:52.291092Z",
     "shell.execute_reply": "2020-11-26T06:40:52.290370Z"
    },
    "papermill": {
     "duration": 1.326575,
     "end_time": "2020-11-26T06:40:52.291237",
     "exception": false,
     "start_time": "2020-11-26T06:40:50.964662",
     "status": "completed"
    },
    "tags": []
   },
   "outputs": [],
   "source": [
    "import numpy as np\n",
    "import pandas as pd\n",
    "import matplotlib.pyplot as plt\n",
    "import seaborn as sns\n",
    "\n",
    "from sklearn.preprocessing import StandardScaler\n",
    "from sklearn.model_selection import train_test_split\n",
    "import lightgbm as lgb\n",
    "from sklearn.metrics import roc_curve, roc_auc_score\n",
    "from sklearn.metrics import accuracy_score, f1_score\n",
    "from sklearn.metrics import confusion_matrix, classification_report"
   ]
  },
  {
   "cell_type": "code",
   "execution_count": 3,
   "metadata": {
    "_kg_hide-output": true,
    "execution": {
     "iopub.execute_input": "2020-11-26T06:40:52.320460Z",
     "iopub.status.busy": "2020-11-26T06:40:52.319462Z",
     "iopub.status.idle": "2020-11-26T06:40:52.329188Z",
     "shell.execute_reply": "2020-11-26T06:40:52.328361Z"
    },
    "papermill": {
     "duration": 0.026029,
     "end_time": "2020-11-26T06:40:52.329346",
     "exception": false,
     "start_time": "2020-11-26T06:40:52.303317",
     "status": "completed"
    },
    "tags": []
   },
   "outputs": [],
   "source": [
    "import janestreet\n",
    "env = janestreet.make_env() \n",
    "iter_test = env.iter_test() "
   ]
  },
  {
   "cell_type": "code",
   "execution_count": 4,
   "metadata": {
    "execution": {
     "iopub.execute_input": "2020-11-26T06:40:52.360830Z",
     "iopub.status.busy": "2020-11-26T06:40:52.359670Z",
     "iopub.status.idle": "2020-11-26T06:42:42.940792Z",
     "shell.execute_reply": "2020-11-26T06:42:42.940061Z"
    },
    "papermill": {
     "duration": 110.600078,
     "end_time": "2020-11-26T06:42:42.940932",
     "exception": false,
     "start_time": "2020-11-26T06:40:52.340854",
     "status": "completed"
    },
    "tags": []
   },
   "outputs": [],
   "source": [
    "train = pd.read_csv('/kaggle/input/jane-street-market-prediction/train.csv')\n",
    "features = pd.read_csv('../input/jane-street-market-prediction/features.csv')\n",
    "example_test = pd.read_csv('../input/jane-street-market-prediction/example_test.csv')\n",
    "sample_prediction_df = pd.read_csv('../input/jane-street-market-prediction/example_sample_submission.csv')"
   ]
  },
  {
   "cell_type": "code",
   "execution_count": 5,
   "metadata": {
    "execution": {
     "iopub.execute_input": "2020-11-26T06:42:42.970767Z",
     "iopub.status.busy": "2020-11-26T06:42:42.969877Z",
     "iopub.status.idle": "2020-11-26T06:42:42.974404Z",
     "shell.execute_reply": "2020-11-26T06:42:42.973588Z"
    },
    "papermill": {
     "duration": 0.021645,
     "end_time": "2020-11-26T06:42:42.974610",
     "exception": false,
     "start_time": "2020-11-26T06:42:42.952965",
     "status": "completed"
    },
    "tags": []
   },
   "outputs": [
    {
     "name": "stdout",
     "output_type": "stream",
     "text": [
      "(2390491, 138)\n",
      "(130, 30)\n",
      "(15219, 133)\n",
      "(15219, 2)\n"
     ]
    }
   ],
   "source": [
    "print(train.shape)\n",
    "print(features.shape)\n",
    "print(example_test.shape)\n",
    "print(sample_prediction_df.shape)"
   ]
  },
  {
   "cell_type": "code",
   "execution_count": 6,
   "metadata": {
    "execution": {
     "iopub.execute_input": "2020-11-26T06:42:43.035765Z",
     "iopub.status.busy": "2020-11-26T06:42:43.028638Z",
     "iopub.status.idle": "2020-11-26T06:42:43.054653Z",
     "shell.execute_reply": "2020-11-26T06:42:43.054055Z"
    },
    "papermill": {
     "duration": 0.06791,
     "end_time": "2020-11-26T06:42:43.054777",
     "exception": false,
     "start_time": "2020-11-26T06:42:42.986867",
     "status": "completed"
    },
    "tags": []
   },
   "outputs": [
    {
     "data": {
      "text/html": [
       "<div>\n",
       "<style scoped>\n",
       "    .dataframe tbody tr th:only-of-type {\n",
       "        vertical-align: middle;\n",
       "    }\n",
       "\n",
       "    .dataframe tbody tr th {\n",
       "        vertical-align: top;\n",
       "    }\n",
       "\n",
       "    .dataframe thead th {\n",
       "        text-align: right;\n",
       "    }\n",
       "</style>\n",
       "<table border=\"1\" class=\"dataframe\">\n",
       "  <thead>\n",
       "    <tr style=\"text-align: right;\">\n",
       "      <th></th>\n",
       "      <th>date</th>\n",
       "      <th>weight</th>\n",
       "      <th>resp_1</th>\n",
       "      <th>resp_2</th>\n",
       "      <th>resp_3</th>\n",
       "      <th>resp_4</th>\n",
       "      <th>resp</th>\n",
       "      <th>feature_0</th>\n",
       "      <th>feature_1</th>\n",
       "      <th>feature_2</th>\n",
       "      <th>...</th>\n",
       "      <th>feature_121</th>\n",
       "      <th>feature_122</th>\n",
       "      <th>feature_123</th>\n",
       "      <th>feature_124</th>\n",
       "      <th>feature_125</th>\n",
       "      <th>feature_126</th>\n",
       "      <th>feature_127</th>\n",
       "      <th>feature_128</th>\n",
       "      <th>feature_129</th>\n",
       "      <th>ts_id</th>\n",
       "    </tr>\n",
       "  </thead>\n",
       "  <tbody>\n",
       "    <tr>\n",
       "      <th>0</th>\n",
       "      <td>0</td>\n",
       "      <td>0.000000</td>\n",
       "      <td>0.009916</td>\n",
       "      <td>0.014079</td>\n",
       "      <td>0.008773</td>\n",
       "      <td>0.001390</td>\n",
       "      <td>0.006270</td>\n",
       "      <td>1</td>\n",
       "      <td>-1.872746</td>\n",
       "      <td>-2.191242</td>\n",
       "      <td>...</td>\n",
       "      <td>NaN</td>\n",
       "      <td>1.168391</td>\n",
       "      <td>8.313583</td>\n",
       "      <td>1.782433</td>\n",
       "      <td>14.018213</td>\n",
       "      <td>2.653056</td>\n",
       "      <td>12.600292</td>\n",
       "      <td>2.301488</td>\n",
       "      <td>11.445807</td>\n",
       "      <td>0</td>\n",
       "    </tr>\n",
       "    <tr>\n",
       "      <th>1</th>\n",
       "      <td>0</td>\n",
       "      <td>16.673515</td>\n",
       "      <td>-0.002828</td>\n",
       "      <td>-0.003226</td>\n",
       "      <td>-0.007319</td>\n",
       "      <td>-0.011114</td>\n",
       "      <td>-0.009792</td>\n",
       "      <td>-1</td>\n",
       "      <td>-1.349537</td>\n",
       "      <td>-1.704709</td>\n",
       "      <td>...</td>\n",
       "      <td>NaN</td>\n",
       "      <td>-1.178850</td>\n",
       "      <td>1.777472</td>\n",
       "      <td>-0.915458</td>\n",
       "      <td>2.831612</td>\n",
       "      <td>-1.417010</td>\n",
       "      <td>2.297459</td>\n",
       "      <td>-1.304614</td>\n",
       "      <td>1.898684</td>\n",
       "      <td>1</td>\n",
       "    </tr>\n",
       "    <tr>\n",
       "      <th>2</th>\n",
       "      <td>0</td>\n",
       "      <td>0.000000</td>\n",
       "      <td>0.025134</td>\n",
       "      <td>0.027607</td>\n",
       "      <td>0.033406</td>\n",
       "      <td>0.034380</td>\n",
       "      <td>0.023970</td>\n",
       "      <td>-1</td>\n",
       "      <td>0.812780</td>\n",
       "      <td>-0.256156</td>\n",
       "      <td>...</td>\n",
       "      <td>NaN</td>\n",
       "      <td>6.115747</td>\n",
       "      <td>9.667908</td>\n",
       "      <td>5.542871</td>\n",
       "      <td>11.671595</td>\n",
       "      <td>7.281757</td>\n",
       "      <td>10.060014</td>\n",
       "      <td>6.638248</td>\n",
       "      <td>9.427299</td>\n",
       "      <td>2</td>\n",
       "    </tr>\n",
       "    <tr>\n",
       "      <th>3</th>\n",
       "      <td>0</td>\n",
       "      <td>0.000000</td>\n",
       "      <td>-0.004730</td>\n",
       "      <td>-0.003273</td>\n",
       "      <td>-0.000461</td>\n",
       "      <td>-0.000476</td>\n",
       "      <td>-0.003200</td>\n",
       "      <td>-1</td>\n",
       "      <td>1.174378</td>\n",
       "      <td>0.344640</td>\n",
       "      <td>...</td>\n",
       "      <td>NaN</td>\n",
       "      <td>2.838853</td>\n",
       "      <td>0.499251</td>\n",
       "      <td>3.033732</td>\n",
       "      <td>1.513488</td>\n",
       "      <td>4.397532</td>\n",
       "      <td>1.266037</td>\n",
       "      <td>3.856384</td>\n",
       "      <td>1.013469</td>\n",
       "      <td>3</td>\n",
       "    </tr>\n",
       "    <tr>\n",
       "      <th>4</th>\n",
       "      <td>0</td>\n",
       "      <td>0.138531</td>\n",
       "      <td>0.001252</td>\n",
       "      <td>0.002165</td>\n",
       "      <td>-0.001215</td>\n",
       "      <td>-0.006219</td>\n",
       "      <td>-0.002604</td>\n",
       "      <td>1</td>\n",
       "      <td>-3.172026</td>\n",
       "      <td>-3.093182</td>\n",
       "      <td>...</td>\n",
       "      <td>NaN</td>\n",
       "      <td>0.344850</td>\n",
       "      <td>4.101145</td>\n",
       "      <td>0.614252</td>\n",
       "      <td>6.623456</td>\n",
       "      <td>0.800129</td>\n",
       "      <td>5.233243</td>\n",
       "      <td>0.362636</td>\n",
       "      <td>3.926633</td>\n",
       "      <td>4</td>\n",
       "    </tr>\n",
       "  </tbody>\n",
       "</table>\n",
       "<p>5 rows × 138 columns</p>\n",
       "</div>"
      ],
      "text/plain": [
       "   date     weight    resp_1    resp_2    resp_3    resp_4      resp  \\\n",
       "0     0   0.000000  0.009916  0.014079  0.008773  0.001390  0.006270   \n",
       "1     0  16.673515 -0.002828 -0.003226 -0.007319 -0.011114 -0.009792   \n",
       "2     0   0.000000  0.025134  0.027607  0.033406  0.034380  0.023970   \n",
       "3     0   0.000000 -0.004730 -0.003273 -0.000461 -0.000476 -0.003200   \n",
       "4     0   0.138531  0.001252  0.002165 -0.001215 -0.006219 -0.002604   \n",
       "\n",
       "   feature_0  feature_1  feature_2  ...  feature_121  feature_122  \\\n",
       "0          1  -1.872746  -2.191242  ...          NaN     1.168391   \n",
       "1         -1  -1.349537  -1.704709  ...          NaN    -1.178850   \n",
       "2         -1   0.812780  -0.256156  ...          NaN     6.115747   \n",
       "3         -1   1.174378   0.344640  ...          NaN     2.838853   \n",
       "4          1  -3.172026  -3.093182  ...          NaN     0.344850   \n",
       "\n",
       "   feature_123  feature_124  feature_125  feature_126  feature_127  \\\n",
       "0     8.313583     1.782433    14.018213     2.653056    12.600292   \n",
       "1     1.777472    -0.915458     2.831612    -1.417010     2.297459   \n",
       "2     9.667908     5.542871    11.671595     7.281757    10.060014   \n",
       "3     0.499251     3.033732     1.513488     4.397532     1.266037   \n",
       "4     4.101145     0.614252     6.623456     0.800129     5.233243   \n",
       "\n",
       "   feature_128  feature_129  ts_id  \n",
       "0     2.301488    11.445807      0  \n",
       "1    -1.304614     1.898684      1  \n",
       "2     6.638248     9.427299      2  \n",
       "3     3.856384     1.013469      3  \n",
       "4     0.362636     3.926633      4  \n",
       "\n",
       "[5 rows x 138 columns]"
      ]
     },
     "execution_count": 6,
     "metadata": {},
     "output_type": "execute_result"
    }
   ],
   "source": [
    "train.head()"
   ]
  },
  {
   "cell_type": "code",
   "execution_count": 7,
   "metadata": {
    "execution": {
     "iopub.execute_input": "2020-11-26T06:42:43.090289Z",
     "iopub.status.busy": "2020-11-26T06:42:43.089380Z",
     "iopub.status.idle": "2020-11-26T06:42:45.639333Z",
     "shell.execute_reply": "2020-11-26T06:42:45.638701Z"
    },
    "papermill": {
     "duration": 2.571426,
     "end_time": "2020-11-26T06:42:45.639466",
     "exception": false,
     "start_time": "2020-11-26T06:42:43.068040",
     "status": "completed"
    },
    "tags": []
   },
   "outputs": [
    {
     "name": "stdout",
     "output_type": "stream",
     "text": [
      "(1981287, 130)\n",
      "(1981287,)\n"
     ]
    }
   ],
   "source": [
    "train = train[train['weight'] != 0]\n",
    "\n",
    "train['action'] = ((train['weight'].values * train['resp'].values) > 0).astype('int')\n",
    "\n",
    "\n",
    "X_train = train.loc[:, train.columns.str.contains('feature')]\n",
    "y_train = train.loc[:, 'action']\n",
    "\n",
    "print(X_train.shape)\n",
    "print(y_train.shape)"
   ]
  },
  {
   "cell_type": "code",
   "execution_count": 8,
   "metadata": {
    "execution": {
     "iopub.execute_input": "2020-11-26T06:42:45.672624Z",
     "iopub.status.busy": "2020-11-26T06:42:45.671830Z",
     "iopub.status.idle": "2020-11-26T06:42:46.893946Z",
     "shell.execute_reply": "2020-11-26T06:42:46.893291Z"
    },
    "papermill": {
     "duration": 1.240932,
     "end_time": "2020-11-26T06:42:46.894070",
     "exception": false,
     "start_time": "2020-11-26T06:42:45.653138",
     "status": "completed"
    },
    "tags": []
   },
   "outputs": [
    {
     "name": "stdout",
     "output_type": "stream",
     "text": [
      "feature_0          0\n",
      "feature_1          0\n",
      "feature_2          0\n",
      "feature_3        418\n",
      "feature_4        418\n",
      "               ...  \n",
      "feature_125    11873\n",
      "feature_126     6492\n",
      "feature_127     6492\n",
      "feature_128     1369\n",
      "feature_129     1369\n",
      "Length: 130, dtype: int64\n",
      "Total: 5339765\n"
     ]
    }
   ],
   "source": [
    "print(X_train.isnull().sum())\n",
    "print('Total:', X_train.isnull().sum().sum())"
   ]
  },
  {
   "cell_type": "code",
   "execution_count": 9,
   "metadata": {
    "execution": {
     "iopub.execute_input": "2020-11-26T06:42:46.929853Z",
     "iopub.status.busy": "2020-11-26T06:42:46.929060Z",
     "iopub.status.idle": "2020-11-26T06:42:48.100801Z",
     "shell.execute_reply": "2020-11-26T06:42:48.099896Z"
    },
    "papermill": {
     "duration": 1.192306,
     "end_time": "2020-11-26T06:42:48.100972",
     "exception": false,
     "start_time": "2020-11-26T06:42:46.908666",
     "status": "completed"
    },
    "tags": []
   },
   "outputs": [
    {
     "name": "stderr",
     "output_type": "stream",
     "text": [
      "/opt/conda/lib/python3.7/site-packages/pandas/core/frame.py:4327: SettingWithCopyWarning: \n",
      "A value is trying to be set on a copy of a slice from a DataFrame\n",
      "\n",
      "See the caveats in the documentation: https://pandas.pydata.org/pandas-docs/stable/user_guide/indexing.html#returning-a-view-versus-a-copy\n",
      "  downcast=downcast,\n"
     ]
    },
    {
     "name": "stdout",
     "output_type": "stream",
     "text": [
      "Total_null: 0\n"
     ]
    }
   ],
   "source": [
    "X_train.fillna(value=-999, inplace=True)\n",
    "\n",
    "print('Total_null:', X_train.isnull().sum().sum())"
   ]
  },
  {
   "cell_type": "code",
   "execution_count": 10,
   "metadata": {
    "execution": {
     "iopub.execute_input": "2020-11-26T06:42:48.145908Z",
     "iopub.status.busy": "2020-11-26T06:42:48.145075Z",
     "iopub.status.idle": "2020-11-26T06:42:48.154077Z",
     "shell.execute_reply": "2020-11-26T06:42:48.153430Z"
    },
    "papermill": {
     "duration": 0.036794,
     "end_time": "2020-11-26T06:42:48.154206",
     "exception": false,
     "start_time": "2020-11-26T06:42:48.117412",
     "status": "completed"
    },
    "tags": []
   },
   "outputs": [
    {
     "name": "stdout",
     "output_type": "stream",
     "text": [
      "categorical_feature: []\n",
      "feature_0        int64\n",
      "feature_1      float64\n",
      "feature_2      float64\n",
      "feature_3      float64\n",
      "feature_4      float64\n",
      "                ...   \n",
      "feature_125    float64\n",
      "feature_126    float64\n",
      "feature_127    float64\n",
      "feature_128    float64\n",
      "feature_129    float64\n",
      "Length: 130, dtype: object\n"
     ]
    }
   ],
   "source": [
    "categorical_feature = [col for col in X_train.columns if X_train[col].dtype == 'object']\n",
    "print('categorical_feature:', categorical_feature)\n",
    "\n",
    "for i in categorical_feature:\n",
    "    X_train[i] = X_train[i].astype(\"category\")\n",
    "    \n",
    "print(X_train.dtypes)"
   ]
  },
  {
   "cell_type": "code",
   "execution_count": 11,
   "metadata": {
    "execution": {
     "iopub.execute_input": "2020-11-26T06:42:48.193896Z",
     "iopub.status.busy": "2020-11-26T06:42:48.193056Z",
     "iopub.status.idle": "2020-11-26T06:43:53.791029Z",
     "shell.execute_reply": "2020-11-26T06:43:53.791752Z"
    },
    "papermill": {
     "duration": 65.62135,
     "end_time": "2020-11-26T06:43:53.791944",
     "exception": false,
     "start_time": "2020-11-26T06:42:48.170594",
     "status": "completed"
    },
    "tags": []
   },
   "outputs": [
    {
     "name": "stderr",
     "output_type": "stream",
     "text": [
      "/opt/conda/lib/python3.7/site-packages/lightgbm/basic.py:1295: UserWarning: categorical_feature in Dataset is overridden.\n",
      "New categorical_feature is []\n",
      "  'New categorical_feature is {}'.format(sorted(list(categorical_feature))))\n"
     ]
    },
    {
     "data": {
      "text/plain": [
       "LGBMClassifier(random_state=42)"
      ]
     },
     "execution_count": 11,
     "metadata": {},
     "output_type": "execute_result"
    }
   ],
   "source": [
    "params = {\n",
    "\"random_state\": 42\n",
    "}\n",
    "\n",
    "cls = lgb.LGBMClassifier(**params)\n",
    "cls.fit(X_train, y_train, categorical_feature = categorical_feature)"
   ]
  },
  {
   "cell_type": "code",
   "execution_count": 12,
   "metadata": {
    "execution": {
     "iopub.execute_input": "2020-11-26T06:43:53.846875Z",
     "iopub.status.busy": "2020-11-26T06:43:53.845720Z",
     "iopub.status.idle": "2020-11-26T06:49:07.895871Z",
     "shell.execute_reply": "2020-11-26T06:49:07.895026Z"
    },
    "papermill": {
     "duration": 314.082416,
     "end_time": "2020-11-26T06:49:07.896025",
     "exception": false,
     "start_time": "2020-11-26T06:43:53.813609",
     "status": "completed"
    },
    "tags": []
   },
   "outputs": [],
   "source": [
    "for (test_df, sample_prediction_df) in iter_test:\n",
    "    X_test = test_df.loc[:, test_df.columns.str.contains('feature')]\n",
    "    X_test.fillna(-999)\n",
    "    y_preds = cls.predict(X_test)\n",
    "    sample_prediction_df.action = y_preds\n",
    "    env.predict(sample_prediction_df)"
   ]
  }
 ],
 "metadata": {
  "kernelspec": {
   "display_name": "Python 3",
   "language": "python",
   "name": "python3"
  },
  "language_info": {
   "codemirror_mode": {
    "name": "ipython",
    "version": 3
   },
   "file_extension": ".py",
   "mimetype": "text/x-python",
   "name": "python",
   "nbconvert_exporter": "python",
   "pygments_lexer": "ipython3",
   "version": "3.7.6"
  },
  "papermill": {
   "duration": 503.122362,
   "end_time": "2020-11-26T06:49:08.930630",
   "environment_variables": {},
   "exception": null,
   "input_path": "__notebook__.ipynb",
   "output_path": "__notebook__.ipynb",
   "parameters": {},
   "start_time": "2020-11-26T06:40:45.808268",
   "version": "2.1.0"
  }
 },
 "nbformat": 4,
 "nbformat_minor": 4
}
