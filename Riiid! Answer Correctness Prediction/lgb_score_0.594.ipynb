{
 "cells": [
  {
   "cell_type": "code",
   "execution_count": 1,
   "metadata": {
    "_cell_guid": "b1076dfc-b9ad-4769-8c92-a6c4dae69d19",
    "_uuid": "8f2839f25d086af736a60e9eeb907d3b93b6e0e5",
    "execution": {
     "iopub.execute_input": "2021-01-07T11:19:29.091870Z",
     "iopub.status.busy": "2021-01-07T11:19:29.090861Z",
     "iopub.status.idle": "2021-01-07T11:19:51.970386Z",
     "shell.execute_reply": "2021-01-07T11:19:51.969844Z"
    },
    "papermill": {
     "duration": 22.914756,
     "end_time": "2021-01-07T11:19:51.970514",
     "exception": false,
     "start_time": "2021-01-07T11:19:29.055758",
     "status": "completed"
    },
    "tags": []
   },
   "outputs": [
    {
     "name": "stdout",
     "output_type": "stream",
     "text": [
      "/kaggle/input/riiid-test-answer-prediction/example_sample_submission.csv\n",
      "/kaggle/input/riiid-test-answer-prediction/example_test.csv\n",
      "/kaggle/input/riiid-test-answer-prediction/questions.csv\n",
      "/kaggle/input/riiid-test-answer-prediction/train.csv\n",
      "/kaggle/input/riiid-test-answer-prediction/lectures.csv\n",
      "/kaggle/input/riiid-test-answer-prediction/riiideducation/competition.cpython-37m-x86_64-linux-gnu.so\n",
      "/kaggle/input/riiid-test-answer-prediction/riiideducation/__init__.py\n"
     ]
    }
   ],
   "source": [
    "# This Python 3 environment comes with many helpful analytics libraries installed\n",
    "# It is defined by the kaggle/python Docker image: https://github.com/kaggle/docker-python\n",
    "# For example, here's several helpful packages to load\n",
    "\n",
    "import numpy as np # linear algebra\n",
    "import pandas as pd # data processing, CSV file I/O (e.g. pd.read_csv)\n",
    "\n",
    "# Input data files are available in the read-only \"../input/\" directory\n",
    "# For example, running this (by clicking run or pressing Shift+Enter) will list all files under the input directory\n",
    "\n",
    "import os\n",
    "for dirname, _, filenames in os.walk('/kaggle/input'):\n",
    "    for filename in filenames:\n",
    "        print(os.path.join(dirname, filename))\n",
    "\n",
    "# You can write up to 20GB to the current directory (/kaggle/working/) that gets preserved as output when you create a version using \"Save & Run All\" \n",
    "# You can also write temporary files to /kaggle/temp/, but they won't be saved outside of the current session\n",
    "\n",
    "!pip install ../input/python-datatable/datatable-0.11.0-cp37-cp37m-manylinux2010_x86_64.whl > /dev/null 2>&1"
   ]
  },
  {
   "cell_type": "code",
   "execution_count": 2,
   "metadata": {
    "_cell_guid": "79c7e3d0-c299-4dcb-8224-4455121ee9b0",
    "_uuid": "d629ff2d2480ee46fbb7e2d37f6b5fab8052498a",
    "execution": {
     "iopub.execute_input": "2021-01-07T11:19:52.029133Z",
     "iopub.status.busy": "2021-01-07T11:19:52.028491Z",
     "iopub.status.idle": "2021-01-07T11:19:54.261200Z",
     "shell.execute_reply": "2021-01-07T11:19:54.260653Z"
    },
    "papermill": {
     "duration": 2.264397,
     "end_time": "2021-01-07T11:19:54.261320",
     "exception": false,
     "start_time": "2021-01-07T11:19:51.996923",
     "status": "completed"
    },
    "tags": []
   },
   "outputs": [
    {
     "data": {
      "text/html": [
       "<style type='text/css'>\n",
       ".datatable table.frame { margin-bottom: 0; }\n",
       ".datatable table.frame thead { border-bottom: none; }\n",
       ".datatable table.frame tr.coltypes td {  color: #FFFFFF;  line-height: 6px;  padding: 0 0.5em;}\n",
       ".datatable .bool    { background: #DDDD99; }\n",
       ".datatable .object  { background: #565656; }\n",
       ".datatable .int     { background: #5D9E5D; }\n",
       ".datatable .float   { background: #4040CC; }\n",
       ".datatable .str     { background: #CC4040; }\n",
       ".datatable .row_index {  background: var(--jp-border-color3);  border-right: 1px solid var(--jp-border-color0);  color: var(--jp-ui-font-color3);  font-size: 9px;}\n",
       ".datatable .frame tr.coltypes .row_index {  background: var(--jp-border-color0);}\n",
       ".datatable th:nth-child(2) { padding-left: 12px; }\n",
       ".datatable .hellipsis {  color: var(--jp-cell-editor-border-color);}\n",
       ".datatable .vellipsis {  background: var(--jp-layout-color0);  color: var(--jp-cell-editor-border-color);}\n",
       ".datatable .na {  color: var(--jp-cell-editor-border-color);  font-size: 80%;}\n",
       ".datatable .footer { font-size: 9px; }\n",
       ".datatable .frame_dimensions {  background: var(--jp-border-color3);  border-top: 1px solid var(--jp-border-color0);  color: var(--jp-ui-font-color3);  display: inline-block;  opacity: 0.6;  padding: 1px 10px 1px 5px;}\n",
       "</style>\n"
      ],
      "text/plain": [
       "<IPython.core.display.HTML object>"
      ]
     },
     "metadata": {},
     "output_type": "display_data"
    }
   ],
   "source": [
    "import gc\n",
    "import random\n",
    "import joblib\n",
    "import optuna\n",
    "import datatable as dt\n",
    "import lightgbm as lgb\n",
    "import riiideducation\n",
    "import matplotlib.pyplot as plt\n",
    "\n",
    "from collections import defaultdict\n",
    "from sklearn.preprocessing import LabelEncoder\n",
    "from sklearn.model_selection import train_test_split\n",
    "from sklearn.metrics import roc_auc_score\n",
    "\n",
    "_ = np.seterr(divide='ignore', invalid='ignore')"
   ]
  },
  {
   "cell_type": "markdown",
   "metadata": {
    "papermill": {
     "duration": 0.026407,
     "end_time": "2021-01-07T11:19:54.315530",
     "exception": false,
     "start_time": "2021-01-07T11:19:54.289123",
     "status": "completed"
    },
    "tags": []
   },
   "source": [
    "# Preprocess"
   ]
  },
  {
   "cell_type": "markdown",
   "metadata": {
    "papermill": {
     "duration": 0.02575,
     "end_time": "2021-01-07T11:19:54.367754",
     "exception": false,
     "start_time": "2021-01-07T11:19:54.342004",
     "status": "completed"
    },
    "tags": []
   },
   "source": [
    "df表示をすると、メモリの残容量が減ってしまうので気を付ける必要がある。"
   ]
  },
  {
   "cell_type": "code",
   "execution_count": 3,
   "metadata": {
    "execution": {
     "iopub.execute_input": "2021-01-07T11:19:54.424105Z",
     "iopub.status.busy": "2021-01-07T11:19:54.423519Z",
     "iopub.status.idle": "2021-01-07T11:19:56.513482Z",
     "shell.execute_reply": "2021-01-07T11:19:56.512847Z"
    },
    "papermill": {
     "duration": 2.118518,
     "end_time": "2021-01-07T11:19:56.513621",
     "exception": false,
     "start_time": "2021-01-07T11:19:54.395103",
     "status": "completed"
    },
    "tags": []
   },
   "outputs": [
    {
     "name": "stdout",
     "output_type": "stream",
     "text": [
      "CPU times: user 1.43 s, sys: 64.2 ms, total: 1.49 s\n",
      "Wall time: 2.08 s\n"
     ]
    }
   ],
   "source": [
    "%%time\n",
    "\n",
    "data_types_dict = {\n",
    "    'timestamp': 'int64',\n",
    "    'user_id': 'int32', \n",
    "    'content_id': 'int16', \n",
    "    'content_type_id':'int8', \n",
    "    'task_container_id': 'int16',\n",
    "    'answered_correctly': 'int8', \n",
    "    'prior_question_elapsed_time': 'float32', \n",
    "    'prior_question_had_explanation': 'boolean'\n",
    "}\n",
    "target = 'answered_correctly'\n",
    "\n",
    "# train_df = dt.fread('../input/riiid-test-answer-prediction/train.csv', columns=set(data_types_dict.keys())).to_pandas()\n",
    "\n",
    "train_df = pd.read_csv('/kaggle/input/riiid-test-answer-prediction/train.csv', usecols = data_types_dict.keys(), dtype=data_types_dict, nrows=(10**6))\n",
    "\n",
    "default_features = [col for col in train_df.columns if col != 'answered_correctly']\n",
    "\n",
    "# print(default_features)\n",
    "# print(train_df.shape)\n",
    "# train_df.head()"
   ]
  },
  {
   "cell_type": "markdown",
   "metadata": {
    "papermill": {
     "duration": 0.025962,
     "end_time": "2021-01-07T11:19:56.568178",
     "exception": false,
     "start_time": "2021-01-07T11:19:56.542216",
     "status": "completed"
    },
    "tags": []
   },
   "source": [
    "test_dfには目的変数（answered_correctly）が含まれないため、特徴量のみで前処理すること。\n",
    "\n",
    "※前処理でanswered_correctlyを使用すると、最後のtest_dfの処理ができなくなってしまう。"
   ]
  },
  {
   "cell_type": "code",
   "execution_count": 4,
   "metadata": {
    "execution": {
     "iopub.execute_input": "2021-01-07T11:19:56.627236Z",
     "iopub.status.busy": "2021-01-07T11:19:56.625609Z",
     "iopub.status.idle": "2021-01-07T11:19:56.627826Z",
     "shell.execute_reply": "2021-01-07T11:19:56.628279Z"
    },
    "papermill": {
     "duration": 0.034071,
     "end_time": "2021-01-07T11:19:56.628409",
     "exception": false,
     "start_time": "2021-01-07T11:19:56.594338",
     "status": "completed"
    },
    "tags": []
   },
   "outputs": [],
   "source": [
    "# lectures_df = pd.read_csv('/kaggle/input/riiid-test-answer-prediction/lectures.csv')\n",
    "\n",
    "# print(lectures_df.shape)\n",
    "# lectures_df.head()"
   ]
  },
  {
   "cell_type": "code",
   "execution_count": 5,
   "metadata": {
    "execution": {
     "iopub.execute_input": "2021-01-07T11:19:56.684998Z",
     "iopub.status.busy": "2021-01-07T11:19:56.684349Z",
     "iopub.status.idle": "2021-01-07T11:19:56.689390Z",
     "shell.execute_reply": "2021-01-07T11:19:56.688886Z"
    },
    "papermill": {
     "duration": 0.034849,
     "end_time": "2021-01-07T11:19:56.689493",
     "exception": false,
     "start_time": "2021-01-07T11:19:56.654644",
     "status": "completed"
    },
    "tags": []
   },
   "outputs": [],
   "source": [
    "# lectures_df['type_of'] = lectures_df['type_of'].replace('solving question', 'solving_question')\n",
    "\n",
    "# lectures_df = pd.get_dummies(lectures_df, columns=['part', 'type_of'])\n",
    "\n",
    "# part_lectures_columns = [column for column in lectures_df.columns if column.startswith('part')]\n",
    "# types_of_lectures_columns = [column for column in lectures_df.columns if column.startswith('type_of_')]\n",
    "\n",
    "# print(part_lectures_columns)\n",
    "# print(types_of_lectures_columns)\n",
    "\n",
    "# lectures_df.head()"
   ]
  },
  {
   "cell_type": "code",
   "execution_count": 6,
   "metadata": {
    "execution": {
     "iopub.execute_input": "2021-01-07T11:19:56.747457Z",
     "iopub.status.busy": "2021-01-07T11:19:56.746867Z",
     "iopub.status.idle": "2021-01-07T11:19:56.748815Z",
     "shell.execute_reply": "2021-01-07T11:19:56.749353Z"
    },
    "papermill": {
     "duration": 0.033156,
     "end_time": "2021-01-07T11:19:56.749500",
     "exception": false,
     "start_time": "2021-01-07T11:19:56.716344",
     "status": "completed"
    },
    "tags": []
   },
   "outputs": [],
   "source": [
    "# train_lectures = train_df[train_df.content_type_id == True].merge(lectures_df, left_on='content_id', right_on='lecture_id', how='left')\n",
    "\n",
    "# print(train_lectures.shape)\n",
    "# train_lectures.head()"
   ]
  },
  {
   "cell_type": "code",
   "execution_count": 7,
   "metadata": {
    "execution": {
     "iopub.execute_input": "2021-01-07T11:19:56.809247Z",
     "iopub.status.busy": "2021-01-07T11:19:56.808248Z",
     "iopub.status.idle": "2021-01-07T11:19:56.810771Z",
     "shell.execute_reply": "2021-01-07T11:19:56.811338Z"
    },
    "papermill": {
     "duration": 0.034239,
     "end_time": "2021-01-07T11:19:56.811482",
     "exception": false,
     "start_time": "2021-01-07T11:19:56.777243",
     "status": "completed"
    },
    "tags": []
   },
   "outputs": [],
   "source": [
    "# user_lecture_stats_part = train_lectures.groupby('user_id',as_index = False)[part_lectures_columns + types_of_lectures_columns].sum()\n",
    "\n",
    "# print(user_lecture_stats_part.shape)\n",
    "# user_lecture_stats_part.head()"
   ]
  },
  {
   "cell_type": "code",
   "execution_count": 8,
   "metadata": {
    "execution": {
     "iopub.execute_input": "2021-01-07T11:19:56.869435Z",
     "iopub.status.busy": "2021-01-07T11:19:56.868713Z",
     "iopub.status.idle": "2021-01-07T11:19:56.872893Z",
     "shell.execute_reply": "2021-01-07T11:19:56.873351Z"
    },
    "papermill": {
     "duration": 0.035042,
     "end_time": "2021-01-07T11:19:56.873494",
     "exception": false,
     "start_time": "2021-01-07T11:19:56.838452",
     "status": "completed"
    },
    "tags": []
   },
   "outputs": [],
   "source": [
    "# lecturedata_types_dict = {   \n",
    "    # 'user_id': 'int32', \n",
    "    # 'part_1': 'int8',\n",
    "    # 'part_2': 'int8',\n",
    "    # 'part_3': 'int8',\n",
    "    # 'part_4': 'int8',\n",
    "    # 'part_5': 'int8',\n",
    "    # 'part_6': 'int8',\n",
    "    # 'part_7': 'int8',\n",
    "    # 'type_of_concept': 'int8',\n",
    "    # 'type_of_intention': 'int8',\n",
    "    # 'type_of_solving_question': 'int8',\n",
    "    #'type_of_starter': 'int8'}\n",
    "\n",
    "# user_lecture_stats_part = user_lecture_stats_part.astype(lecturedata_types_dict)\n",
    "\n",
    "# for column in user_lecture_stats_part.columns:\n",
    "    # if(column !='user_id'):\n",
    "        # user_lecture_stats_part[column] = (user_lecture_stats_part[column] > 0).astype('int8')\n",
    "        \n",
    "# print(user_lecture_stats_part.shape)\n",
    "# user_lecture_stats_part.head()"
   ]
  },
  {
   "cell_type": "code",
   "execution_count": 9,
   "metadata": {
    "execution": {
     "iopub.execute_input": "2021-01-07T11:19:56.932687Z",
     "iopub.status.busy": "2021-01-07T11:19:56.931970Z",
     "iopub.status.idle": "2021-01-07T11:19:56.935595Z",
     "shell.execute_reply": "2021-01-07T11:19:56.935108Z"
    },
    "papermill": {
     "duration": 0.034695,
     "end_time": "2021-01-07T11:19:56.935701",
     "exception": false,
     "start_time": "2021-01-07T11:19:56.901006",
     "status": "completed"
    },
    "tags": []
   },
   "outputs": [],
   "source": [
    "# del(train_lectures)\n",
    "# gc.collect()"
   ]
  },
  {
   "cell_type": "code",
   "execution_count": 10,
   "metadata": {
    "execution": {
     "iopub.execute_input": "2021-01-07T11:19:56.994526Z",
     "iopub.status.busy": "2021-01-07T11:19:56.993891Z",
     "iopub.status.idle": "2021-01-07T11:19:56.996971Z",
     "shell.execute_reply": "2021-01-07T11:19:56.996401Z"
    },
    "papermill": {
     "duration": 0.034368,
     "end_time": "2021-01-07T11:19:56.997079",
     "exception": false,
     "start_time": "2021-01-07T11:19:56.962711",
     "status": "completed"
    },
    "tags": []
   },
   "outputs": [],
   "source": [
    "# user_lecture_agg = train_df.groupby('user_id')['content_type_id'].agg(['sum', 'count'])\n",
    "# user_lecture_agg = user_lecture_agg.astype('int16')\n",
    "\n",
    "# print(user_lecture_agg.shape)\n",
    "# user_lecture_agg.head()"
   ]
  },
  {
   "cell_type": "code",
   "execution_count": 11,
   "metadata": {
    "execution": {
     "iopub.execute_input": "2021-01-07T11:19:57.061183Z",
     "iopub.status.busy": "2021-01-07T11:19:57.060568Z",
     "iopub.status.idle": "2021-01-07T11:19:57.184606Z",
     "shell.execute_reply": "2021-01-07T11:19:57.183977Z"
    },
    "papermill": {
     "duration": 0.160676,
     "end_time": "2021-01-07T11:19:57.184714",
     "exception": false,
     "start_time": "2021-01-07T11:19:57.024038",
     "status": "completed"
    },
    "tags": []
   },
   "outputs": [],
   "source": [
    "cum = train_df.groupby('user_id')['content_type_id'].agg(['cumsum', 'cumcount'])\n",
    "cum['cumcount'] = cum['cumcount'] + 1\n",
    "\n",
    "# print(cum.shape)\n",
    "# cum.head()"
   ]
  },
  {
   "cell_type": "code",
   "execution_count": 12,
   "metadata": {
    "execution": {
     "iopub.execute_input": "2021-01-07T11:19:57.245469Z",
     "iopub.status.busy": "2021-01-07T11:19:57.244833Z",
     "iopub.status.idle": "2021-01-07T11:19:57.280481Z",
     "shell.execute_reply": "2021-01-07T11:19:57.279629Z"
    },
    "papermill": {
     "duration": 0.068848,
     "end_time": "2021-01-07T11:19:57.280596",
     "exception": false,
     "start_time": "2021-01-07T11:19:57.211748",
     "status": "completed"
    },
    "tags": []
   },
   "outputs": [],
   "source": [
    "train_df['user_interaction_count'] = cum['cumcount'] \n",
    "train_df['user_interaction_timestamp_mean'] = train_df['timestamp'] / cum['cumcount'] \n",
    "train_df['user_lecture_sum'] = cum['cumsum'] \n",
    "train_df['user_lecture_lv'] = cum['cumsum'] / cum['cumcount']\n",
    "\n",
    "train_df['user_lecture_lv'] = train_df['user_lecture_lv'].astype('float16')\n",
    "train_df['user_lecture_sum'] = train_df['user_lecture_sum'].astype('int16')\n",
    "train_df['user_interaction_count'] = train_df['user_interaction_count'].astype('int16')\n",
    "train_df['user_interaction_timestamp_mean'] = train_df['user_interaction_timestamp_mean'] / (1000*3600)\n",
    "train_df['user_interaction_timestamp_mean'] = train_df['user_interaction_timestamp_mean'].astype('float32')\n",
    "\n",
    "# print(train_df.shape)\n",
    "# train_df.head()"
   ]
  },
  {
   "cell_type": "code",
   "execution_count": 13,
   "metadata": {
    "execution": {
     "iopub.execute_input": "2021-01-07T11:19:57.427585Z",
     "iopub.status.busy": "2021-01-07T11:19:57.426955Z",
     "iopub.status.idle": "2021-01-07T11:19:57.430969Z",
     "shell.execute_reply": "2021-01-07T11:19:57.430379Z"
    },
    "papermill": {
     "duration": 0.123464,
     "end_time": "2021-01-07T11:19:57.431076",
     "exception": false,
     "start_time": "2021-01-07T11:19:57.307612",
     "status": "completed"
    },
    "tags": []
   },
   "outputs": [
    {
     "data": {
      "text/plain": [
       "84"
      ]
     },
     "execution_count": 13,
     "metadata": {},
     "output_type": "execute_result"
    }
   ],
   "source": [
    "del cum\n",
    "gc.collect()"
   ]
  },
  {
   "cell_type": "code",
   "execution_count": 14,
   "metadata": {
    "execution": {
     "iopub.execute_input": "2021-01-07T11:19:57.492219Z",
     "iopub.status.busy": "2021-01-07T11:19:57.491617Z",
     "iopub.status.idle": "2021-01-07T11:19:57.594054Z",
     "shell.execute_reply": "2021-01-07T11:19:57.593516Z"
    },
    "papermill": {
     "duration": 0.134612,
     "end_time": "2021-01-07T11:19:57.594163",
     "exception": false,
     "start_time": "2021-01-07T11:19:57.459551",
     "status": "completed"
    },
    "tags": []
   },
   "outputs": [],
   "source": [
    "train_df['prior_question_had_explanation'].fillna(False, inplace=True)\n",
    "\n",
    "train_df = train_df.astype(data_types_dict)\n",
    "train_df = train_df[train_df[target] != -1].reset_index(drop=True)\n",
    "\n",
    "# print(train_df.shape)\n",
    "# train_df.head()"
   ]
  },
  {
   "cell_type": "code",
   "execution_count": 15,
   "metadata": {
    "execution": {
     "iopub.execute_input": "2021-01-07T11:19:57.653718Z",
     "iopub.status.busy": "2021-01-07T11:19:57.653144Z",
     "iopub.status.idle": "2021-01-07T11:19:57.655091Z",
     "shell.execute_reply": "2021-01-07T11:19:57.655488Z"
    },
    "papermill": {
     "duration": 0.033927,
     "end_time": "2021-01-07T11:19:57.655622",
     "exception": false,
     "start_time": "2021-01-07T11:19:57.621695",
     "status": "completed"
    },
    "tags": []
   },
   "outputs": [],
   "source": [
    "# content_explation_agg = train_df[[\"content_id\",\"prior_question_had_explanation\",target]].groupby([\"content_id\",\"prior_question_had_explanation\"])[target].agg(['mean'])\n",
    "\n",
    "# print(content_explation_agg.shape)\n",
    "# content_explation_agg.head()"
   ]
  },
  {
   "cell_type": "code",
   "execution_count": 16,
   "metadata": {
    "execution": {
     "iopub.execute_input": "2021-01-07T11:19:57.714507Z",
     "iopub.status.busy": "2021-01-07T11:19:57.713787Z",
     "iopub.status.idle": "2021-01-07T11:19:57.716559Z",
     "shell.execute_reply": "2021-01-07T11:19:57.717078Z"
    },
    "papermill": {
     "duration": 0.0339,
     "end_time": "2021-01-07T11:19:57.717215",
     "exception": false,
     "start_time": "2021-01-07T11:19:57.683315",
     "status": "completed"
    },
    "tags": []
   },
   "outputs": [],
   "source": [
    "# content_explation_agg = content_explation_agg.unstack()\n",
    "# content_explation_agg = content_explation_agg.reset_index()\n",
    "# content_explation_agg.columns = ['content_id', 'content_explation_false_mean','content_explation_true_mean']\n",
    "\n",
    "# content_explation_agg['content_id'] = content_explation_agg['content_id'].astype('int16')\n",
    "# content_explation_agg['content_explation_false_mean'] = content_explation_agg['content_explation_false_mean'].astype('float16')\n",
    "# content_explation_agg['content_explation_true_mean'] = content_explation_agg['content_explation_true_mean'].astype('float16')\n",
    "\n",
    "# print(content_explation_agg.shape)\n",
    "# content_explation_agg.head()"
   ]
  },
  {
   "cell_type": "code",
   "execution_count": 17,
   "metadata": {
    "execution": {
     "iopub.execute_input": "2021-01-07T11:19:57.776078Z",
     "iopub.status.busy": "2021-01-07T11:19:57.775396Z",
     "iopub.status.idle": "2021-01-07T11:19:58.178324Z",
     "shell.execute_reply": "2021-01-07T11:19:58.176874Z"
    },
    "papermill": {
     "duration": 0.433454,
     "end_time": "2021-01-07T11:19:58.178452",
     "exception": false,
     "start_time": "2021-01-07T11:19:57.744998",
     "status": "completed"
    },
    "tags": []
   },
   "outputs": [],
   "source": [
    "train_df[\"attempt_no\"] = 1\n",
    "train_df[\"attempt_no\"] = train_df[\"attempt_no\"].astype('int8')\n",
    "\n",
    "attempt_no_agg = train_df.groupby([\"user_id\",\"content_id\"])[\"attempt_no\"].agg(['sum']).astype('int8')\n",
    "\n",
    "# print(attempt_no_agg.shape)\n",
    "# attempt_no_agg.head()"
   ]
  },
  {
   "cell_type": "code",
   "execution_count": 18,
   "metadata": {
    "execution": {
     "iopub.execute_input": "2021-01-07T11:19:58.242182Z",
     "iopub.status.busy": "2021-01-07T11:19:58.241555Z",
     "iopub.status.idle": "2021-01-07T11:19:58.583119Z",
     "shell.execute_reply": "2021-01-07T11:19:58.582583Z"
    },
    "papermill": {
     "duration": 0.375982,
     "end_time": "2021-01-07T11:19:58.583235",
     "exception": false,
     "start_time": "2021-01-07T11:19:58.207253",
     "status": "completed"
    },
    "tags": []
   },
   "outputs": [],
   "source": [
    "train_df[\"attempt_no\"] = train_df[[\"user_id\",\"content_id\",'attempt_no']].groupby([\"user_id\",\"content_id\"])[\"attempt_no\"].cumsum()\n",
    "attempt_no_agg = attempt_no_agg[attempt_no_agg['sum'] >1]\n",
    "\n",
    "prior_question_elapsed_time_mean = train_df['prior_question_elapsed_time'].mean()\n",
    "train_df['prior_question_elapsed_time'].fillna(prior_question_elapsed_time_mean, inplace=True)\n",
    "\n",
    "# print(train_df.shape)\n",
    "# train_df.head()"
   ]
  },
  {
   "cell_type": "code",
   "execution_count": 19,
   "metadata": {
    "execution": {
     "iopub.execute_input": "2021-01-07T11:19:58.655813Z",
     "iopub.status.busy": "2021-01-07T11:19:58.655170Z",
     "iopub.status.idle": "2021-01-07T11:19:58.682838Z",
     "shell.execute_reply": "2021-01-07T11:19:58.682303Z"
    },
    "papermill": {
     "duration": 0.070835,
     "end_time": "2021-01-07T11:19:58.682968",
     "exception": false,
     "start_time": "2021-01-07T11:19:58.612133",
     "status": "completed"
    },
    "tags": []
   },
   "outputs": [],
   "source": [
    "max_timestamp_u = train_df[['user_id','timestamp']].groupby(['user_id'])['timestamp'].agg(['max']).reset_index()\n",
    "max_timestamp_u.columns = ['user_id', 'max_time_stamp']\n",
    "max_timestamp_u['user_id'] = max_timestamp_u.user_id.astype('int32')\n",
    "\n",
    "# print(max_timestamp_u.shape)\n",
    "# max_timestamp_u.head()"
   ]
  },
  {
   "cell_type": "code",
   "execution_count": 20,
   "metadata": {
    "execution": {
     "iopub.execute_input": "2021-01-07T11:19:58.746497Z",
     "iopub.status.busy": "2021-01-07T11:19:58.745554Z",
     "iopub.status.idle": "2021-01-07T11:19:58.781918Z",
     "shell.execute_reply": "2021-01-07T11:19:58.781289Z"
    },
    "papermill": {
     "duration": 0.070662,
     "end_time": "2021-01-07T11:19:58.782026",
     "exception": false,
     "start_time": "2021-01-07T11:19:58.711364",
     "status": "completed"
    },
    "tags": []
   },
   "outputs": [],
   "source": [
    "train_df['lagtime'] = train_df.groupby('user_id')['timestamp'].shift()\n",
    "\n",
    "# print(train_df.shape)\n",
    "# train_df.head()"
   ]
  },
  {
   "cell_type": "code",
   "execution_count": 21,
   "metadata": {
    "execution": {
     "iopub.execute_input": "2021-01-07T11:19:58.853592Z",
     "iopub.status.busy": "2021-01-07T11:19:58.852180Z",
     "iopub.status.idle": "2021-01-07T11:19:58.878390Z",
     "shell.execute_reply": "2021-01-07T11:19:58.877731Z"
    },
    "papermill": {
     "duration": 0.067586,
     "end_time": "2021-01-07T11:19:58.878702",
     "exception": false,
     "start_time": "2021-01-07T11:19:58.811116",
     "status": "completed"
    },
    "tags": []
   },
   "outputs": [],
   "source": [
    "max_timestamp_u2 = train_df[['user_id','lagtime']].groupby(['user_id'])['lagtime'].agg(['max']).reset_index()\n",
    "max_timestamp_u2.columns = ['user_id', 'max_time_stamp2']\n",
    "max_timestamp_u2['user_id'] = max_timestamp_u2.user_id.astype('int32')\n",
    "\n",
    "# print(max_timestamp_u2.shape)\n",
    "# max_timestamp_u2.head()"
   ]
  },
  {
   "cell_type": "code",
   "execution_count": 22,
   "metadata": {
    "execution": {
     "iopub.execute_input": "2021-01-07T11:19:58.944429Z",
     "iopub.status.busy": "2021-01-07T11:19:58.943762Z",
     "iopub.status.idle": "2021-01-07T11:19:58.964632Z",
     "shell.execute_reply": "2021-01-07T11:19:58.964117Z"
    },
    "papermill": {
     "duration": 0.057211,
     "end_time": "2021-01-07T11:19:58.964737",
     "exception": false,
     "start_time": "2021-01-07T11:19:58.907526",
     "status": "completed"
    },
    "tags": []
   },
   "outputs": [],
   "source": [
    "train_df['lagtime'] = train_df['timestamp'] - train_df['lagtime']\n",
    "\n",
    "lagtime_mean = train_df['lagtime'].mean()\n",
    "train_df['lagtime'].fillna(lagtime_mean, inplace=True)\n",
    "\n",
    "train_df['lagtime'] = train_df['lagtime']/(1000*3600)\n",
    "train_df['lagtime'] = train_df['lagtime'].astype('float32')\n",
    "\n",
    "# print(train_df.shape)\n",
    "# train_df.head()"
   ]
  },
  {
   "cell_type": "code",
   "execution_count": 23,
   "metadata": {
    "execution": {
     "iopub.execute_input": "2021-01-07T11:19:59.026841Z",
     "iopub.status.busy": "2021-01-07T11:19:59.026111Z",
     "iopub.status.idle": "2021-01-07T11:19:59.062807Z",
     "shell.execute_reply": "2021-01-07T11:19:59.063361Z"
    },
    "papermill": {
     "duration": 0.069241,
     "end_time": "2021-01-07T11:19:59.063506",
     "exception": false,
     "start_time": "2021-01-07T11:19:58.994265",
     "status": "completed"
    },
    "tags": []
   },
   "outputs": [],
   "source": [
    "train_df['lagtime2'] = train_df.groupby('user_id')['timestamp'].shift(2)\n",
    "\n",
    "# print(train_df.shape)\n",
    "# train_df.head()"
   ]
  },
  {
   "cell_type": "code",
   "execution_count": 24,
   "metadata": {
    "execution": {
     "iopub.execute_input": "2021-01-07T11:19:59.123954Z",
     "iopub.status.busy": "2021-01-07T11:19:59.123363Z",
     "iopub.status.idle": "2021-01-07T11:19:59.170112Z",
     "shell.execute_reply": "2021-01-07T11:19:59.168635Z"
    },
    "papermill": {
     "duration": 0.07823,
     "end_time": "2021-01-07T11:19:59.170233",
     "exception": false,
     "start_time": "2021-01-07T11:19:59.092003",
     "status": "completed"
    },
    "tags": []
   },
   "outputs": [],
   "source": [
    "max_timestamp_u3 = train_df[['user_id','lagtime2']].groupby(['user_id']).agg(['max']).reset_index()\n",
    "max_timestamp_u3.columns = ['user_id', 'max_time_stamp3']\n",
    "max_timestamp_u3['user_id'] = max_timestamp_u3.user_id.astype('int32')\n",
    "\n",
    "# print(max_timestamp_u3.shape)\n",
    "# max_timestamp_u3.head()"
   ]
  },
  {
   "cell_type": "code",
   "execution_count": 25,
   "metadata": {
    "execution": {
     "iopub.execute_input": "2021-01-07T11:19:59.235160Z",
     "iopub.status.busy": "2021-01-07T11:19:59.234463Z",
     "iopub.status.idle": "2021-01-07T11:19:59.253771Z",
     "shell.execute_reply": "2021-01-07T11:19:59.254721Z"
    },
    "papermill": {
     "duration": 0.05585,
     "end_time": "2021-01-07T11:19:59.254880",
     "exception": false,
     "start_time": "2021-01-07T11:19:59.199030",
     "status": "completed"
    },
    "tags": []
   },
   "outputs": [],
   "source": [
    "train_df['lagtime2'] = train_df['timestamp']-train_df['lagtime2']\n",
    "\n",
    "lagtime_mean2 = train_df['lagtime2'].mean()\n",
    "train_df['lagtime2'].fillna(lagtime_mean2, inplace=True)\n",
    "\n",
    "train_df['lagtime2'] = train_df['lagtime2']/(1000*3600)\n",
    "train_df['lagtime2'] = train_df['lagtime2'].astype('float32')\n",
    "\n",
    "# print(train_df.shape)\n",
    "# train_df.head()"
   ]
  },
  {
   "cell_type": "code",
   "execution_count": 26,
   "metadata": {
    "execution": {
     "iopub.execute_input": "2021-01-07T11:19:59.324785Z",
     "iopub.status.busy": "2021-01-07T11:19:59.323782Z",
     "iopub.status.idle": "2021-01-07T11:19:59.379510Z",
     "shell.execute_reply": "2021-01-07T11:19:59.378953Z"
    },
    "papermill": {
     "duration": 0.094218,
     "end_time": "2021-01-07T11:19:59.379620",
     "exception": false,
     "start_time": "2021-01-07T11:19:59.285402",
     "status": "completed"
    },
    "tags": []
   },
   "outputs": [],
   "source": [
    "train_df['lagtime3'] = train_df.groupby('user_id')['timestamp'].shift(3)\n",
    "train_df['lagtime3'] = train_df['timestamp'] - train_df['lagtime3']\n",
    "\n",
    "lagtime_mean3 = train_df['lagtime3'].mean()\n",
    "train_df['lagtime3'].fillna(lagtime_mean3, inplace=True)\n",
    "\n",
    "train_df['lagtime3'] = train_df['lagtime3']/(1000*3600)\n",
    "train_df['lagtime3'] = train_df['lagtime3'].astype('float32')\n",
    "\n",
    "# print(train_df.shape)\n",
    "# train_df.head()"
   ]
  },
  {
   "cell_type": "code",
   "execution_count": 27,
   "metadata": {
    "execution": {
     "iopub.execute_input": "2021-01-07T11:19:59.448194Z",
     "iopub.status.busy": "2021-01-07T11:19:59.447551Z",
     "iopub.status.idle": "2021-01-07T11:19:59.460958Z",
     "shell.execute_reply": "2021-01-07T11:19:59.460338Z"
    },
    "papermill": {
     "duration": 0.049801,
     "end_time": "2021-01-07T11:19:59.461076",
     "exception": false,
     "start_time": "2021-01-07T11:19:59.411275",
     "status": "completed"
    },
    "tags": []
   },
   "outputs": [],
   "source": [
    "train_df['timestamp'] = train_df['timestamp']/(1000*3600)\n",
    "train_df['timestamp'] = train_df['timestamp'].astype('float16')"
   ]
  },
  {
   "cell_type": "markdown",
   "metadata": {
    "papermill": {
     "duration": 0.029478,
     "end_time": "2021-01-07T11:19:59.520703",
     "exception": false,
     "start_time": "2021-01-07T11:19:59.491225",
     "status": "completed"
    },
    "tags": []
   },
   "source": [
    "各user_idのグループごとに、最後の1行を抽出する。"
   ]
  },
  {
   "cell_type": "code",
   "execution_count": 28,
   "metadata": {
    "execution": {
     "iopub.execute_input": "2021-01-07T11:19:59.586029Z",
     "iopub.status.busy": "2021-01-07T11:19:59.585370Z",
     "iopub.status.idle": "2021-01-07T11:19:59.648646Z",
     "shell.execute_reply": "2021-01-07T11:19:59.648026Z"
    },
    "papermill": {
     "duration": 0.098331,
     "end_time": "2021-01-07T11:19:59.648750",
     "exception": false,
     "start_time": "2021-01-07T11:19:59.550419",
     "status": "completed"
    },
    "tags": []
   },
   "outputs": [],
   "source": [
    "user_prior_question_elapsed_time = train_df[['user_id','prior_question_elapsed_time']].groupby(['user_id']).tail(1)\n",
    "user_prior_question_elapsed_time.columns = ['user_id', 'prior_question_elapsed_time']\n",
    "\n",
    "# print(train_df['user_id'].nunique())\n",
    "# print(user_prior_question_elapsed_time.shape)\n",
    "# user_prior_question_elapsed_time.head()"
   ]
  },
  {
   "cell_type": "code",
   "execution_count": 29,
   "metadata": {
    "execution": {
     "iopub.execute_input": "2021-01-07T11:19:59.715209Z",
     "iopub.status.busy": "2021-01-07T11:19:59.714579Z",
     "iopub.status.idle": "2021-01-07T11:19:59.756927Z",
     "shell.execute_reply": "2021-01-07T11:19:59.756270Z"
    },
    "papermill": {
     "duration": 0.079258,
     "end_time": "2021-01-07T11:19:59.757048",
     "exception": false,
     "start_time": "2021-01-07T11:19:59.677790",
     "status": "completed"
    },
    "tags": []
   },
   "outputs": [],
   "source": [
    "train_df['delta_prior_question_elapsed_time'] = train_df.groupby('user_id')['prior_question_elapsed_time'].shift()\n",
    "train_df['delta_prior_question_elapsed_time'] = train_df['prior_question_elapsed_time'] - train_df['delta_prior_question_elapsed_time']\n",
    "\n",
    "delta_prior_question_elapsed_time_mean = train_df['delta_prior_question_elapsed_time'].mean()\n",
    "train_df['delta_prior_question_elapsed_time'].fillna(delta_prior_question_elapsed_time_mean, inplace=True)\n",
    "\n",
    "train_df['delta_prior_question_elapsed_time'] = train_df['delta_prior_question_elapsed_time'].astype('int32')"
   ]
  },
  {
   "cell_type": "code",
   "execution_count": 30,
   "metadata": {
    "execution": {
     "iopub.execute_input": "2021-01-07T11:19:59.821566Z",
     "iopub.status.busy": "2021-01-07T11:19:59.820654Z",
     "iopub.status.idle": "2021-01-07T11:19:59.854966Z",
     "shell.execute_reply": "2021-01-07T11:19:59.855469Z"
    },
    "papermill": {
     "duration": 0.068626,
     "end_time": "2021-01-07T11:19:59.855606",
     "exception": false,
     "start_time": "2021-01-07T11:19:59.786980",
     "status": "completed"
    },
    "tags": []
   },
   "outputs": [],
   "source": [
    "train_df['prior_question_had_explanation'] = train_df['prior_question_had_explanation'].astype('int8')\n",
    "\n",
    "explanation_agg = train_df.groupby('user_id')['prior_question_had_explanation'].agg(['sum', 'count'])\n",
    "explanation_agg = explanation_agg.astype('int16')"
   ]
  },
  {
   "cell_type": "code",
   "execution_count": 31,
   "metadata": {
    "execution": {
     "iopub.execute_input": "2021-01-07T11:19:59.919991Z",
     "iopub.status.busy": "2021-01-07T11:19:59.919055Z",
     "iopub.status.idle": "2021-01-07T11:20:00.098055Z",
     "shell.execute_reply": "2021-01-07T11:20:00.097515Z"
    },
    "papermill": {
     "duration": 0.212369,
     "end_time": "2021-01-07T11:20:00.098160",
     "exception": false,
     "start_time": "2021-01-07T11:19:59.885791",
     "status": "completed"
    },
    "tags": []
   },
   "outputs": [
    {
     "data": {
      "text/plain": [
       "166"
      ]
     },
     "execution_count": 31,
     "metadata": {},
     "output_type": "execute_result"
    }
   ],
   "source": [
    "cum = train_df.groupby('user_id')['prior_question_had_explanation'].agg(['cumsum', 'cumcount'])\n",
    "cum['cumcount'] = cum['cumcount'] + 1\n",
    "\n",
    "train_df['explanation_mean'] = cum['cumsum'] / cum['cumcount']\n",
    "train_df['explanation_true_count'] = cum['cumsum'] \n",
    "train_df['explanation_false_count'] =  cum['cumcount'] - cum['cumsum']\n",
    "\n",
    "del cum\n",
    "gc.collect()"
   ]
  },
  {
   "cell_type": "code",
   "execution_count": 32,
   "metadata": {
    "execution": {
     "iopub.execute_input": "2021-01-07T11:20:00.164790Z",
     "iopub.status.busy": "2021-01-07T11:20:00.164060Z",
     "iopub.status.idle": "2021-01-07T11:20:00.167140Z",
     "shell.execute_reply": "2021-01-07T11:20:00.167633Z"
    },
    "papermill": {
     "duration": 0.039602,
     "end_time": "2021-01-07T11:20:00.167775",
     "exception": false,
     "start_time": "2021-01-07T11:20:00.128173",
     "status": "completed"
    },
    "tags": []
   },
   "outputs": [],
   "source": [
    "# content_elapsed_time_agg = train_df.groupby('content_id')['prior_question_elapsed_time'].agg(['mean'])\n",
    "# content_had_explanation_agg = train_df.groupby('content_id')['prior_question_had_explanation'].agg(['mean'])"
   ]
  },
  {
   "cell_type": "code",
   "execution_count": 33,
   "metadata": {
    "execution": {
     "iopub.execute_input": "2021-01-07T11:20:00.233058Z",
     "iopub.status.busy": "2021-01-07T11:20:00.232235Z",
     "iopub.status.idle": "2021-01-07T11:20:00.235721Z",
     "shell.execute_reply": "2021-01-07T11:20:00.236339Z"
    },
    "papermill": {
     "duration": 0.038627,
     "end_time": "2021-01-07T11:20:00.236501",
     "exception": false,
     "start_time": "2021-01-07T11:20:00.197874",
     "status": "completed"
    },
    "tags": []
   },
   "outputs": [],
   "source": [
    "# questions_df = pd.read_csv('../input/riiid-test-answer-prediction/questions.csv', usecols=[0, 1,3,4], dtype={'question_id': 'int16','bundle_id': 'int16', 'part': 'int8','tags': 'str'})\n",
    "\n",
    "# print(questions_df.shape)\n",
    "# questions_df.head()"
   ]
  },
  {
   "cell_type": "code",
   "execution_count": 34,
   "metadata": {
    "execution": {
     "iopub.execute_input": "2021-01-07T11:20:00.303494Z",
     "iopub.status.busy": "2021-01-07T11:20:00.302701Z",
     "iopub.status.idle": "2021-01-07T11:20:00.306376Z",
     "shell.execute_reply": "2021-01-07T11:20:00.305723Z"
    },
    "papermill": {
     "duration": 0.040189,
     "end_time": "2021-01-07T11:20:00.306500",
     "exception": false,
     "start_time": "2021-01-07T11:20:00.266311",
     "status": "completed"
    },
    "tags": []
   },
   "outputs": [],
   "source": [
    "# bundle_agg = questions_df.groupby('bundle_id')['question_id'].agg(['count'])\n",
    "\n",
    "# print(bundle_agg.shape)\n",
    "# bundle_agg.head()"
   ]
  },
  {
   "cell_type": "code",
   "execution_count": 35,
   "metadata": {
    "execution": {
     "iopub.execute_input": "2021-01-07T11:20:00.372983Z",
     "iopub.status.busy": "2021-01-07T11:20:00.372183Z",
     "iopub.status.idle": "2021-01-07T11:20:00.376246Z",
     "shell.execute_reply": "2021-01-07T11:20:00.375599Z"
    },
    "papermill": {
     "duration": 0.038962,
     "end_time": "2021-01-07T11:20:00.376359",
     "exception": false,
     "start_time": "2021-01-07T11:20:00.337397",
     "status": "completed"
    },
    "tags": []
   },
   "outputs": [],
   "source": [
    "# questions_df['content_sub_bundle'] = questions_df['bundle_id'].map(bundle_agg['count']).astype('int8')\n",
    "# questions_df['tags'].fillna('188', inplace=True)\n",
    "\n",
    "# print(questions_df.shape)\n",
    "# questions_df.head()"
   ]
  },
  {
   "cell_type": "code",
   "execution_count": 36,
   "metadata": {
    "execution": {
     "iopub.execute_input": "2021-01-07T11:20:00.443201Z",
     "iopub.status.busy": "2021-01-07T11:20:00.442235Z",
     "iopub.status.idle": "2021-01-07T11:20:00.446815Z",
     "shell.execute_reply": "2021-01-07T11:20:00.446200Z"
    },
    "papermill": {
     "duration": 0.040466,
     "end_time": "2021-01-07T11:20:00.446959",
     "exception": false,
     "start_time": "2021-01-07T11:20:00.406493",
     "status": "completed"
    },
    "tags": []
   },
   "outputs": [
    {
     "data": {
      "text/plain": [
       "'\\ndef gettags(tags,num):\\n    tags_splits = tags.split(\" \")\\n    result = \\'\\' \\n    \\n    for t in tags_splits:\\n        x = int(t)\\n        if(x < 32*(num+1) and x >= 32*num):\\n            result = result +\\' \\'+ t\\n    return result\\n    \\n'"
      ]
     },
     "execution_count": 36,
     "metadata": {},
     "output_type": "execute_result"
    }
   ],
   "source": [
    "'''\n",
    "def gettags(tags,num):\n",
    "    tags_splits = tags.split(\" \")\n",
    "    result = '' \n",
    "    \n",
    "    for t in tags_splits:\n",
    "        x = int(t)\n",
    "        if(x < 32*(num+1) and x >= 32*num):\n",
    "            result = result +' '+ t\n",
    "    return result\n",
    "    \n",
    "'''"
   ]
  },
  {
   "cell_type": "code",
   "execution_count": 37,
   "metadata": {
    "execution": {
     "iopub.execute_input": "2021-01-07T11:20:00.514745Z",
     "iopub.status.busy": "2021-01-07T11:20:00.513848Z",
     "iopub.status.idle": "2021-01-07T11:20:00.518828Z",
     "shell.execute_reply": "2021-01-07T11:20:00.518186Z"
    },
    "papermill": {
     "duration": 0.040863,
     "end_time": "2021-01-07T11:20:00.518995",
     "exception": false,
     "start_time": "2021-01-07T11:20:00.478132",
     "status": "completed"
    },
    "tags": []
   },
   "outputs": [
    {
     "data": {
      "text/plain": [
       "'\\nfor num in range(0,6):\\n    questions_df[\"tags\" + str(num)] = questions_df[\"tags\"].apply(lambda row: gettags(row,num))\\n    \\n    le = LabelEncoder()\\n    le.fit(np.unique(questions_df[\\'tags\\' + str(num)].values))\\n    \\n    questions_df[\\'tags\\' + str(num)] = questions_df[[\\'tags\\' + str(num)]].apply(le.transform)\\n    \\n# print(questions_df.shape)\\n# questions_df.head()\\n\\n'"
      ]
     },
     "execution_count": 37,
     "metadata": {},
     "output_type": "execute_result"
    }
   ],
   "source": [
    "'''\n",
    "for num in range(0,6):\n",
    "    questions_df[\"tags\" + str(num)] = questions_df[\"tags\"].apply(lambda row: gettags(row,num))\n",
    "    \n",
    "    le = LabelEncoder()\n",
    "    le.fit(np.unique(questions_df['tags' + str(num)].values))\n",
    "    \n",
    "    questions_df['tags' + str(num)] = questions_df[['tags' + str(num)]].apply(le.transform)\n",
    "    \n",
    "# print(questions_df.shape)\n",
    "# questions_df.head()\n",
    "\n",
    "'''"
   ]
  },
  {
   "cell_type": "code",
   "execution_count": 38,
   "metadata": {
    "execution": {
     "iopub.execute_input": "2021-01-07T11:20:00.589277Z",
     "iopub.status.busy": "2021-01-07T11:20:00.588523Z",
     "iopub.status.idle": "2021-01-07T11:20:00.594781Z",
     "shell.execute_reply": "2021-01-07T11:20:00.594231Z"
    },
    "papermill": {
     "duration": 0.043342,
     "end_time": "2021-01-07T11:20:00.594890",
     "exception": false,
     "start_time": "2021-01-07T11:20:00.551548",
     "status": "completed"
    },
    "tags": []
   },
   "outputs": [
    {
     "data": {
      "text/plain": [
       "\"\\nquestions_df_dict = {   \\n    'tags0': 'int8',\\n    'tags1': 'int8',\\n    'tags2': 'int8',\\n    'tags3': 'int8',\\n    'tags4': 'int8',\\n    'tags5': 'int8',\\n}\\n\\nquestions_df = questions_df.astype(questions_df_dict)\\nquestions_df.drop(columns=['tags'], inplace=True)\\n\\nquestions_df['part_bundle_id'] = questions_df['part']*100000 + questions_df['bundle_id']\\nquestions_df['part_bundle_id'] = questions_df['part_bundle_id'].astype('int32')\\n\\nquestions_df.rename(columns={'question_id':'content_id'}, inplace=True)\\n\\n# print(questions_df.shape)\\n# questions_df.head()\\n\\n\""
      ]
     },
     "execution_count": 38,
     "metadata": {},
     "output_type": "execute_result"
    }
   ],
   "source": [
    "'''\n",
    "questions_df_dict = {   \n",
    "    'tags0': 'int8',\n",
    "    'tags1': 'int8',\n",
    "    'tags2': 'int8',\n",
    "    'tags3': 'int8',\n",
    "    'tags4': 'int8',\n",
    "    'tags5': 'int8',\n",
    "}\n",
    "\n",
    "questions_df = questions_df.astype(questions_df_dict)\n",
    "questions_df.drop(columns=['tags'], inplace=True)\n",
    "\n",
    "questions_df['part_bundle_id'] = questions_df['part']*100000 + questions_df['bundle_id']\n",
    "questions_df['part_bundle_id'] = questions_df['part_bundle_id'].astype('int32')\n",
    "\n",
    "questions_df.rename(columns={'question_id':'content_id'}, inplace=True)\n",
    "\n",
    "# print(questions_df.shape)\n",
    "# questions_df.head()\n",
    "\n",
    "'''"
   ]
  },
  {
   "cell_type": "code",
   "execution_count": 39,
   "metadata": {
    "execution": {
     "iopub.execute_input": "2021-01-07T11:20:00.664859Z",
     "iopub.status.busy": "2021-01-07T11:20:00.664002Z",
     "iopub.status.idle": "2021-01-07T11:20:00.667586Z",
     "shell.execute_reply": "2021-01-07T11:20:00.667105Z"
    },
    "papermill": {
     "duration": 0.040536,
     "end_time": "2021-01-07T11:20:00.667698",
     "exception": false,
     "start_time": "2021-01-07T11:20:00.627162",
     "status": "completed"
    },
    "tags": []
   },
   "outputs": [],
   "source": [
    "# questions_df = pd.merge(questions_df, content_explation_agg, on='content_id', how='left',right_index=True)\n",
    "\n",
    "# print(questions_df.shape)\n",
    "# questions_df.head()"
   ]
  },
  {
   "cell_type": "markdown",
   "metadata": {
    "papermill": {
     "duration": 0.031122,
     "end_time": "2021-01-07T11:20:00.731172",
     "exception": false,
     "start_time": "2021-01-07T11:20:00.700050",
     "status": "completed"
    },
    "tags": []
   },
   "source": [
    "content_explain_aggには、answered_correctlyを含んだ処理をしているため<br>\n",
    "これ以上進めたとしても、最後のtest_dfの処理ができない。"
   ]
  },
  {
   "cell_type": "code",
   "execution_count": 40,
   "metadata": {
    "execution": {
     "iopub.execute_input": "2021-01-07T11:20:00.809027Z",
     "iopub.status.busy": "2021-01-07T11:20:00.807007Z",
     "iopub.status.idle": "2021-01-07T11:20:03.067519Z",
     "shell.execute_reply": "2021-01-07T11:20:03.066245Z"
    },
    "papermill": {
     "duration": 2.30496,
     "end_time": "2021-01-07T11:20:03.067692",
     "exception": false,
     "start_time": "2021-01-07T11:20:00.762732",
     "status": "completed"
    },
    "tags": []
   },
   "outputs": [
    {
     "name": "stdout",
     "output_type": "stream",
     "text": [
      "timestamp                            float16\n",
      "user_id                                int32\n",
      "content_id                             int16\n",
      "content_type_id                         int8\n",
      "task_container_id                      int16\n",
      "answered_correctly                      int8\n",
      "prior_question_elapsed_time          float32\n",
      "prior_question_had_explanation          int8\n",
      "user_interaction_count                 int16\n",
      "user_interaction_timestamp_mean      float32\n",
      "user_lecture_sum                       int16\n",
      "user_lecture_lv                      float16\n",
      "attempt_no                              int8\n",
      "lagtime                              float32\n",
      "lagtime2                             float32\n",
      "lagtime3                             float32\n",
      "delta_prior_question_elapsed_time      int32\n",
      "explanation_mean                     float64\n",
      "explanation_true_count                 int64\n",
      "explanation_false_count                int64\n",
      "mean_user_accuracy                   float64\n",
      "questions_answered                   float64\n",
      "std_user_accuracy                    float64\n",
      "median_user_accuracy                 float64\n",
      "skew_user_accuracy                   float64\n",
      "mean_accuracy                        float64\n",
      "question_asked                       float64\n",
      "std_accuracy                         float64\n",
      "median_accuracy                      float64\n",
      "skew_accuracy                        float64\n",
      "dtype: object\n",
      "(98010, 30)\n"
     ]
    },
    {
     "data": {
      "text/html": [
       "<div>\n",
       "<style scoped>\n",
       "    .dataframe tbody tr th:only-of-type {\n",
       "        vertical-align: middle;\n",
       "    }\n",
       "\n",
       "    .dataframe tbody tr th {\n",
       "        vertical-align: top;\n",
       "    }\n",
       "\n",
       "    .dataframe thead th {\n",
       "        text-align: right;\n",
       "    }\n",
       "</style>\n",
       "<table border=\"1\" class=\"dataframe\">\n",
       "  <thead>\n",
       "    <tr style=\"text-align: right;\">\n",
       "      <th></th>\n",
       "      <th>timestamp</th>\n",
       "      <th>user_id</th>\n",
       "      <th>content_id</th>\n",
       "      <th>content_type_id</th>\n",
       "      <th>task_container_id</th>\n",
       "      <th>answered_correctly</th>\n",
       "      <th>prior_question_elapsed_time</th>\n",
       "      <th>prior_question_had_explanation</th>\n",
       "      <th>user_interaction_count</th>\n",
       "      <th>user_interaction_timestamp_mean</th>\n",
       "      <th>...</th>\n",
       "      <th>mean_user_accuracy</th>\n",
       "      <th>questions_answered</th>\n",
       "      <th>std_user_accuracy</th>\n",
       "      <th>median_user_accuracy</th>\n",
       "      <th>skew_user_accuracy</th>\n",
       "      <th>mean_accuracy</th>\n",
       "      <th>question_asked</th>\n",
       "      <th>std_accuracy</th>\n",
       "      <th>median_accuracy</th>\n",
       "      <th>skew_accuracy</th>\n",
       "    </tr>\n",
       "  </thead>\n",
       "  <tbody>\n",
       "    <tr>\n",
       "      <th>0</th>\n",
       "      <td>6492.0</td>\n",
       "      <td>18789336</td>\n",
       "      <td>7796</td>\n",
       "      <td>0</td>\n",
       "      <td>936</td>\n",
       "      <td>0</td>\n",
       "      <td>1400.0</td>\n",
       "      <td>1</td>\n",
       "      <td>2349</td>\n",
       "      <td>2.762904</td>\n",
       "      <td>...</td>\n",
       "      <td>0.310865</td>\n",
       "      <td>2255.0</td>\n",
       "      <td>0.46295</td>\n",
       "      <td>0.0</td>\n",
       "      <td>0.817812</td>\n",
       "      <td>0.962963</td>\n",
       "      <td>54.0</td>\n",
       "      <td>0.190626</td>\n",
       "      <td>1.0</td>\n",
       "      <td>-5.044113</td>\n",
       "    </tr>\n",
       "    <tr>\n",
       "      <th>1</th>\n",
       "      <td>6492.0</td>\n",
       "      <td>18789336</td>\n",
       "      <td>7798</td>\n",
       "      <td>0</td>\n",
       "      <td>936</td>\n",
       "      <td>0</td>\n",
       "      <td>1400.0</td>\n",
       "      <td>1</td>\n",
       "      <td>2350</td>\n",
       "      <td>2.761729</td>\n",
       "      <td>...</td>\n",
       "      <td>0.310865</td>\n",
       "      <td>2255.0</td>\n",
       "      <td>0.46295</td>\n",
       "      <td>0.0</td>\n",
       "      <td>0.817812</td>\n",
       "      <td>0.870370</td>\n",
       "      <td>54.0</td>\n",
       "      <td>0.339050</td>\n",
       "      <td>1.0</td>\n",
       "      <td>-2.268786</td>\n",
       "    </tr>\n",
       "    <tr>\n",
       "      <th>2</th>\n",
       "      <td>6492.0</td>\n",
       "      <td>18789336</td>\n",
       "      <td>2908</td>\n",
       "      <td>0</td>\n",
       "      <td>937</td>\n",
       "      <td>0</td>\n",
       "      <td>1600.0</td>\n",
       "      <td>1</td>\n",
       "      <td>2351</td>\n",
       "      <td>2.760556</td>\n",
       "      <td>...</td>\n",
       "      <td>0.310865</td>\n",
       "      <td>2255.0</td>\n",
       "      <td>0.46295</td>\n",
       "      <td>0.0</td>\n",
       "      <td>0.817812</td>\n",
       "      <td>0.676768</td>\n",
       "      <td>99.0</td>\n",
       "      <td>0.470091</td>\n",
       "      <td>1.0</td>\n",
       "      <td>-0.767564</td>\n",
       "    </tr>\n",
       "    <tr>\n",
       "      <th>3</th>\n",
       "      <td>6492.0</td>\n",
       "      <td>18789336</td>\n",
       "      <td>2909</td>\n",
       "      <td>0</td>\n",
       "      <td>937</td>\n",
       "      <td>0</td>\n",
       "      <td>1600.0</td>\n",
       "      <td>1</td>\n",
       "      <td>2352</td>\n",
       "      <td>2.759382</td>\n",
       "      <td>...</td>\n",
       "      <td>0.310865</td>\n",
       "      <td>2255.0</td>\n",
       "      <td>0.46295</td>\n",
       "      <td>0.0</td>\n",
       "      <td>0.817812</td>\n",
       "      <td>0.616162</td>\n",
       "      <td>99.0</td>\n",
       "      <td>0.488794</td>\n",
       "      <td>1.0</td>\n",
       "      <td>-0.485099</td>\n",
       "    </tr>\n",
       "    <tr>\n",
       "      <th>4</th>\n",
       "      <td>6492.0</td>\n",
       "      <td>18789336</td>\n",
       "      <td>2907</td>\n",
       "      <td>0</td>\n",
       "      <td>937</td>\n",
       "      <td>0</td>\n",
       "      <td>1600.0</td>\n",
       "      <td>1</td>\n",
       "      <td>2353</td>\n",
       "      <td>2.758210</td>\n",
       "      <td>...</td>\n",
       "      <td>0.310865</td>\n",
       "      <td>2255.0</td>\n",
       "      <td>0.46295</td>\n",
       "      <td>0.0</td>\n",
       "      <td>0.817812</td>\n",
       "      <td>0.454545</td>\n",
       "      <td>99.0</td>\n",
       "      <td>0.500464</td>\n",
       "      <td>0.0</td>\n",
       "      <td>0.185395</td>\n",
       "    </tr>\n",
       "  </tbody>\n",
       "</table>\n",
       "<p>5 rows × 30 columns</p>\n",
       "</div>"
      ],
      "text/plain": [
       "   timestamp   user_id  content_id  content_type_id  task_container_id  \\\n",
       "0     6492.0  18789336        7796                0                936   \n",
       "1     6492.0  18789336        7798                0                936   \n",
       "2     6492.0  18789336        2908                0                937   \n",
       "3     6492.0  18789336        2909                0                937   \n",
       "4     6492.0  18789336        2907                0                937   \n",
       "\n",
       "   answered_correctly  prior_question_elapsed_time  \\\n",
       "0                   0                       1400.0   \n",
       "1                   0                       1400.0   \n",
       "2                   0                       1600.0   \n",
       "3                   0                       1600.0   \n",
       "4                   0                       1600.0   \n",
       "\n",
       "   prior_question_had_explanation  user_interaction_count  \\\n",
       "0                               1                    2349   \n",
       "1                               1                    2350   \n",
       "2                               1                    2351   \n",
       "3                               1                    2352   \n",
       "4                               1                    2353   \n",
       "\n",
       "   user_interaction_timestamp_mean  ...  mean_user_accuracy  \\\n",
       "0                         2.762904  ...            0.310865   \n",
       "1                         2.761729  ...            0.310865   \n",
       "2                         2.760556  ...            0.310865   \n",
       "3                         2.759382  ...            0.310865   \n",
       "4                         2.758210  ...            0.310865   \n",
       "\n",
       "   questions_answered  std_user_accuracy  median_user_accuracy  \\\n",
       "0              2255.0            0.46295                   0.0   \n",
       "1              2255.0            0.46295                   0.0   \n",
       "2              2255.0            0.46295                   0.0   \n",
       "3              2255.0            0.46295                   0.0   \n",
       "4              2255.0            0.46295                   0.0   \n",
       "\n",
       "   skew_user_accuracy  mean_accuracy  question_asked  std_accuracy  \\\n",
       "0            0.817812       0.962963            54.0      0.190626   \n",
       "1            0.817812       0.870370            54.0      0.339050   \n",
       "2            0.817812       0.676768            99.0      0.470091   \n",
       "3            0.817812       0.616162            99.0      0.488794   \n",
       "4            0.817812       0.454545            99.0      0.500464   \n",
       "\n",
       "   median_accuracy  skew_accuracy  \n",
       "0              1.0      -5.044113  \n",
       "1              1.0      -2.268786  \n",
       "2              1.0      -0.767564  \n",
       "3              1.0      -0.485099  \n",
       "4              0.0       0.185395  \n",
       "\n",
       "[5 rows x 30 columns]"
      ]
     },
     "execution_count": 40,
     "metadata": {},
     "output_type": "execute_result"
    }
   ],
   "source": [
    "features_df = train_df.iloc[:int(9/10 * len(train_df))]\n",
    "train_df = train_df.iloc[int(9/10 * len(train_df)):]\n",
    "\n",
    "train_questions_only_df = features_df[features_df['answered_correctly']!=-1]\n",
    "grouped_by_user_df = train_questions_only_df.groupby('user_id')\n",
    "user_answers_df = grouped_by_user_df.agg({'answered_correctly': ['mean', 'count','std','median','skew']}).copy()\n",
    "user_answers_df.columns = ['mean_user_accuracy', \n",
    "                           'questions_answered', \n",
    "                           'std_user_accuracy', \n",
    "                           'median_user_accuracy', \n",
    "                           'skew_user_accuracy']\n",
    "\n",
    "grouped_by_content_df = train_questions_only_df.groupby('content_id')\n",
    "content_answers_df = grouped_by_content_df.agg({'answered_correctly': ['mean', 'count','std','median','skew']}).copy()\n",
    "content_answers_df.columns = ['mean_accuracy', \n",
    "                              'question_asked', \n",
    "                              'std_accuracy', \n",
    "                              'median_accuracy', \n",
    "                              'skew_accuracy']\n",
    "\n",
    "del features_df\n",
    "del grouped_by_user_df\n",
    "del grouped_by_content_df\n",
    "\n",
    "\n",
    "train_df = train_df.merge(user_answers_df, how='left', on='user_id')\n",
    "train_df = train_df.merge(content_answers_df, how='left', on='content_id')\n",
    "\n",
    "print(train_df.dtypes)\n",
    "print(train_df.shape)\n",
    "train_df.head()"
   ]
  },
  {
   "cell_type": "markdown",
   "metadata": {
    "papermill": {
     "duration": 0.032666,
     "end_time": "2021-01-07T11:20:03.136484",
     "exception": false,
     "start_time": "2021-01-07T11:20:03.103818",
     "status": "completed"
    },
    "tags": []
   },
   "source": [
    "# Modeling"
   ]
  },
  {
   "cell_type": "code",
   "execution_count": 41,
   "metadata": {
    "execution": {
     "iopub.execute_input": "2021-01-07T11:20:03.206125Z",
     "iopub.status.busy": "2021-01-07T11:20:03.205332Z",
     "iopub.status.idle": "2021-01-07T11:20:03.244835Z",
     "shell.execute_reply": "2021-01-07T11:20:03.244345Z"
    },
    "papermill": {
     "duration": 0.075838,
     "end_time": "2021-01-07T11:20:03.244988",
     "exception": false,
     "start_time": "2021-01-07T11:20:03.169150",
     "status": "completed"
    },
    "tags": []
   },
   "outputs": [
    {
     "name": "stdout",
     "output_type": "stream",
     "text": [
      "features: 25\n",
      "timestamp                            0\n",
      "user_id                              0\n",
      "content_id                           0\n",
      "content_type_id                      0\n",
      "task_container_id                    0\n",
      "answered_correctly                   0\n",
      "prior_question_elapsed_time          0\n",
      "prior_question_had_explanation       0\n",
      "user_interaction_count               0\n",
      "user_interaction_timestamp_mean      0\n",
      "user_lecture_sum                     0\n",
      "user_lecture_lv                      0\n",
      "attempt_no                           0\n",
      "lagtime                              0\n",
      "lagtime2                             0\n",
      "lagtime3                             0\n",
      "delta_prior_question_elapsed_time    0\n",
      "explanation_mean                     0\n",
      "explanation_true_count               0\n",
      "explanation_false_count              0\n",
      "mean_user_accuracy                   0\n",
      "questions_answered                   0\n",
      "std_user_accuracy                    0\n",
      "median_user_accuracy                 0\n",
      "skew_user_accuracy                   0\n",
      "mean_accuracy                        0\n",
      "question_asked                       0\n",
      "std_accuracy                         0\n",
      "median_accuracy                      0\n",
      "skew_accuracy                        0\n",
      "dtype: int64\n"
     ]
    }
   ],
   "source": [
    "train_df['prior_question_had_explanation'] = train_df['prior_question_had_explanation'].astype(int)\n",
    "\n",
    "features = ['timestamp',\n",
    "            'prior_question_elapsed_time',\n",
    "            'prior_question_had_explanation',\n",
    "            'user_interaction_count',\n",
    "            'user_interaction_timestamp_mean',\n",
    "            'user_lecture_sum',\n",
    "            'user_lecture_lv',\n",
    "            'attempt_no',\n",
    "            'lagtime',\n",
    "            'lagtime2',\n",
    "            'lagtime3',\n",
    "            'delta_prior_question_elapsed_time',\n",
    "            'explanation_mean',\n",
    "            'explanation_true_count',\n",
    "            'explanation_false_count',\n",
    "            'mean_user_accuracy',\n",
    "            'questions_answered',\n",
    "            'std_user_accuracy',\n",
    "            'median_user_accuracy',\n",
    "            'skew_user_accuracy',\n",
    "            'mean_accuracy',\n",
    "            'question_asked',\n",
    "            'std_accuracy',\n",
    "            'median_accuracy',\n",
    "            'skew_accuracy']\n",
    "\n",
    "target = 'answered_correctly'\n",
    "\n",
    "train_df = train_df.fillna(value=0.5)\n",
    "\n",
    "print('features:', len(features))\n",
    "print(train_df.isnull().sum())"
   ]
  },
  {
   "cell_type": "code",
   "execution_count": 42,
   "metadata": {
    "execution": {
     "iopub.execute_input": "2021-01-07T11:20:03.317560Z",
     "iopub.status.busy": "2021-01-07T11:20:03.316760Z",
     "iopub.status.idle": "2021-01-07T11:20:03.336337Z",
     "shell.execute_reply": "2021-01-07T11:20:03.335621Z"
    },
    "papermill": {
     "duration": 0.058881,
     "end_time": "2021-01-07T11:20:03.336469",
     "exception": false,
     "start_time": "2021-01-07T11:20:03.277588",
     "status": "completed"
    },
    "tags": []
   },
   "outputs": [],
   "source": [
    "# train_df, test_df = train_test_split(train_df, random_state=666, test_size=0.2)\n",
    "\n",
    "test_df = train_df.groupby('user_id').tail(6)\n",
    "train_df.drop(test_df.index, inplace=True)"
   ]
  },
  {
   "cell_type": "code",
   "execution_count": 43,
   "metadata": {
    "execution": {
     "iopub.execute_input": "2021-01-07T11:20:03.408699Z",
     "iopub.status.busy": "2021-01-07T11:20:03.407801Z",
     "iopub.status.idle": "2021-01-07T11:20:03.412812Z",
     "shell.execute_reply": "2021-01-07T11:20:03.412210Z"
    },
    "papermill": {
     "duration": 0.043307,
     "end_time": "2021-01-07T11:20:03.412940",
     "exception": false,
     "start_time": "2021-01-07T11:20:03.369633",
     "status": "completed"
    },
    "tags": []
   },
   "outputs": [
    {
     "data": {
      "text/plain": [
       "'\\ndef create_model(trial):\\n    num_leaves = trial.suggest_int(\"num_leaves\", 2, 31)\\n    n_estimators = trial.suggest_int(\"n_estimators\", 50, 300)\\n    max_depth = trial.suggest_int(\\'max_depth\\', 3, 8)\\n    min_child_samples = trial.suggest_int(\\'min_child_samples\\', 100, 1200)\\n    learning_rate = trial.suggest_uniform(\\'learning_rate\\', 0.0001, 0.99)\\n    min_data_in_leaf = trial.suggest_int(\\'min_data_in_leaf\\', 5, 90)\\n    bagging_fraction = trial.suggest_uniform(\\'bagging_fraction\\', 0.0001, 1.0)\\n    feature_fraction = trial.suggest_uniform(\\'feature_fraction\\', 0.0001, 1.0)\\n    \\n    model = lgb.LGBMClassifier(\\n        num_leaves=num_leaves,\\n        n_estimators=n_estimators, \\n        max_depth=max_depth, \\n        min_child_samples=min_child_samples, \\n        min_data_in_leaf=min_data_in_leaf,\\n        learning_rate=learning_rate,\\n        feature_fraction=feature_fraction,\\n        random_state=666\\n    )\\n    return model\\n    \\ndef objective(trial):\\n    model = create_model(trial)\\n    model.fit(train_df[features], train_df[target])\\n    score = roc_auc_score(\\n        test_df[target].values, \\n        model.predict_proba(test_df[features])[:,1]\\n    )\\n    return score\\n    \\nstudy = optuna.create_study(direction=\"maximize\")\\nstudy.optimize(objective, n_trials=70)\\nparams = study.best_params\\n\\nprint(params)\\n\\n'"
      ]
     },
     "execution_count": 43,
     "metadata": {},
     "output_type": "execute_result"
    }
   ],
   "source": [
    "'''\n",
    "def create_model(trial):\n",
    "    num_leaves = trial.suggest_int(\"num_leaves\", 2, 31)\n",
    "    n_estimators = trial.suggest_int(\"n_estimators\", 50, 300)\n",
    "    max_depth = trial.suggest_int('max_depth', 3, 8)\n",
    "    min_child_samples = trial.suggest_int('min_child_samples', 100, 1200)\n",
    "    learning_rate = trial.suggest_uniform('learning_rate', 0.0001, 0.99)\n",
    "    min_data_in_leaf = trial.suggest_int('min_data_in_leaf', 5, 90)\n",
    "    bagging_fraction = trial.suggest_uniform('bagging_fraction', 0.0001, 1.0)\n",
    "    feature_fraction = trial.suggest_uniform('feature_fraction', 0.0001, 1.0)\n",
    "    \n",
    "    model = lgb.LGBMClassifier(\n",
    "        num_leaves=num_leaves,\n",
    "        n_estimators=n_estimators, \n",
    "        max_depth=max_depth, \n",
    "        min_child_samples=min_child_samples, \n",
    "        min_data_in_leaf=min_data_in_leaf,\n",
    "        learning_rate=learning_rate,\n",
    "        feature_fraction=feature_fraction,\n",
    "        random_state=666\n",
    "    )\n",
    "    return model\n",
    "    \n",
    "def objective(trial):\n",
    "    model = create_model(trial)\n",
    "    model.fit(train_df[features], train_df[target])\n",
    "    score = roc_auc_score(\n",
    "        test_df[target].values, \n",
    "        model.predict_proba(test_df[features])[:,1]\n",
    "    )\n",
    "    return score\n",
    "    \n",
    "study = optuna.create_study(direction=\"maximize\")\n",
    "study.optimize(objective, n_trials=70)\n",
    "params = study.best_params\n",
    "\n",
    "print(params)\n",
    "\n",
    "'''"
   ]
  },
  {
   "cell_type": "code",
   "execution_count": 44,
   "metadata": {
    "execution": {
     "iopub.execute_input": "2021-01-07T11:20:03.485641Z",
     "iopub.status.busy": "2021-01-07T11:20:03.484932Z",
     "iopub.status.idle": "2021-01-07T11:20:03.488940Z",
     "shell.execute_reply": "2021-01-07T11:20:03.488418Z"
    },
    "papermill": {
     "duration": 0.042595,
     "end_time": "2021-01-07T11:20:03.489076",
     "exception": false,
     "start_time": "2021-01-07T11:20:03.446481",
     "status": "completed"
    },
    "tags": []
   },
   "outputs": [],
   "source": [
    "# 10**6\n",
    "\n",
    "params = {'num_leaves': 19,\n",
    "          'n_estimators': 253,\n",
    "          'max_depth': 7,\n",
    "          'min_child_samples': 917,\n",
    "          'learning_rate': 0.08837048153511577,\n",
    "          'min_data_in_leaf': 5,\n",
    "          'bagging_fraction': 0.14076488112326396,\n",
    "          'feature_fraction': 0.5982015442187711}"
   ]
  },
  {
   "cell_type": "code",
   "execution_count": 45,
   "metadata": {
    "execution": {
     "iopub.execute_input": "2021-01-07T11:20:03.561936Z",
     "iopub.status.busy": "2021-01-07T11:20:03.561110Z",
     "iopub.status.idle": "2021-01-07T11:20:03.565565Z",
     "shell.execute_reply": "2021-01-07T11:20:03.565017Z"
    },
    "papermill": {
     "duration": 0.042816,
     "end_time": "2021-01-07T11:20:03.565674",
     "exception": false,
     "start_time": "2021-01-07T11:20:03.522858",
     "status": "completed"
    },
    "tags": []
   },
   "outputs": [
    {
     "data": {
      "text/plain": [
       "\"\\nparams = {'num_leaves': 31,\\n          'n_estimators': 297,\\n          'max_depth': 8,\\n          'min_child_samples': 295,\\n          'learning_rate': 0.9768661701125526,\\n          'min_data_in_leaf': 46,\\n          'bagging_fraction': 0.0436713452300919,\\n          'feature_fraction': 0.4062930238066179\\n         }\\n         \\n\""
      ]
     },
     "execution_count": 45,
     "metadata": {},
     "output_type": "execute_result"
    }
   ],
   "source": [
    "# 50*(10**6)\n",
    "\n",
    "'''\n",
    "params = {'num_leaves': 31,\n",
    "          'n_estimators': 297,\n",
    "          'max_depth': 8,\n",
    "          'min_child_samples': 295,\n",
    "          'learning_rate': 0.9768661701125526,\n",
    "          'min_data_in_leaf': 46,\n",
    "          'bagging_fraction': 0.0436713452300919,\n",
    "          'feature_fraction': 0.4062930238066179\n",
    "         }\n",
    "         \n",
    "'''"
   ]
  },
  {
   "cell_type": "code",
   "execution_count": 46,
   "metadata": {
    "execution": {
     "iopub.execute_input": "2021-01-07T11:20:03.654047Z",
     "iopub.status.busy": "2021-01-07T11:20:03.652704Z",
     "iopub.status.idle": "2021-01-07T11:20:06.265074Z",
     "shell.execute_reply": "2021-01-07T11:20:06.265519Z"
    },
    "papermill": {
     "duration": 2.665094,
     "end_time": "2021-01-07T11:20:06.265694",
     "exception": false,
     "start_time": "2021-01-07T11:20:03.600600",
     "status": "completed"
    },
    "tags": []
   },
   "outputs": [
    {
     "name": "stdout",
     "output_type": "stream",
     "text": [
      "LGB score:  0.7172265320981145\n"
     ]
    },
    {
     "data": {
      "image/png": "[encoded data removed]",
      "text/plain": [
       "<Figure size 1080x1080 with 1 Axes>"
      ]
     },
     "metadata": {
      "needs_background": "light"
     },
     "output_type": "display_data"
    }
   ],
   "source": [
    "model = lgb.LGBMClassifier(**params)\n",
    "model.fit(train_df[features], train_df[target])\n",
    "\n",
    "print('LGB score: ', roc_auc_score(test_df[target].values, model.predict_proba(test_df[features])[:,1]))\n",
    "\n",
    "fig,ax = plt.subplots(figsize=(15,15))\n",
    "lgb.plot_importance(model, ax=ax,importance_type='gain',max_num_features=50)\n",
    "plt.show()"
   ]
  },
  {
   "cell_type": "code",
   "execution_count": 47,
   "metadata": {
    "execution": {
     "iopub.execute_input": "2021-01-07T11:20:06.341495Z",
     "iopub.status.busy": "2021-01-07T11:20:06.340753Z",
     "iopub.status.idle": "2021-01-07T11:20:06.344111Z",
     "shell.execute_reply": "2021-01-07T11:20:06.344651Z"
    },
    "papermill": {
     "duration": 0.042769,
     "end_time": "2021-01-07T11:20:06.344781",
     "exception": false,
     "start_time": "2021-01-07T11:20:06.302012",
     "status": "completed"
    },
    "tags": []
   },
   "outputs": [],
   "source": [
    "# test_df = pd.read_csv(\"/kaggle/input/riiid-test-answer-prediction/example_test.csv\")\n",
    "\n",
    "# print(test_df.dtypes)\n",
    "# print(test_df.shape)\n",
    "# test_df.head()"
   ]
  },
  {
   "cell_type": "code",
   "execution_count": 48,
   "metadata": {
    "execution": {
     "iopub.execute_input": "2021-01-07T11:20:06.439888Z",
     "iopub.status.busy": "2021-01-07T11:20:06.439255Z",
     "iopub.status.idle": "2021-01-07T11:20:06.442574Z",
     "shell.execute_reply": "2021-01-07T11:20:06.442040Z"
    },
    "papermill": {
     "duration": 0.056993,
     "end_time": "2021-01-07T11:20:06.442683",
     "exception": false,
     "start_time": "2021-01-07T11:20:06.385690",
     "status": "completed"
    },
    "tags": []
   },
   "outputs": [],
   "source": [
    "env = riiideducation.make_env()\n",
    "iter_test = env.iter_test()"
   ]
  },
  {
   "cell_type": "code",
   "execution_count": 49,
   "metadata": {
    "execution": {
     "iopub.execute_input": "2021-01-07T11:20:06.543314Z",
     "iopub.status.busy": "2021-01-07T11:20:06.542682Z",
     "iopub.status.idle": "2021-01-07T11:20:06.546693Z",
     "shell.execute_reply": "2021-01-07T11:20:06.546029Z"
    },
    "papermill": {
     "duration": 0.055833,
     "end_time": "2021-01-07T11:20:06.546824",
     "exception": false,
     "start_time": "2021-01-07T11:20:06.490991",
     "status": "completed"
    },
    "tags": []
   },
   "outputs": [],
   "source": [
    "data_types_dict = {'timestamp': 'int64',\n",
    "                   'user_id': 'int32',\n",
    "                   'content_id': 'int16',\n",
    "                   'content_type_id': 'int8',\n",
    "                   'task_container_id': 'int16',\n",
    "                   'prior_question_elapsed_time': 'float32',\n",
    "                   'prior_question_had_explanation': 'boolean'}\n",
    "\n",
    "# submit(+ row_id)\n",
    "default_features = ['row_id',\n",
    "                    'timestamp',\n",
    "                    'user_id',\n",
    "                    'content_id',\n",
    "                    'content_type_id',\n",
    "                    'task_container_id',\n",
    "                    'prior_question_elapsed_time',\n",
    "                    'prior_question_had_explanation']\n",
    "\n",
    "# print(default_features)\n",
    "# print(data_types_dict)"
   ]
  },
  {
   "cell_type": "code",
   "execution_count": 50,
   "metadata": {
    "execution": {
     "iopub.execute_input": "2021-01-07T11:20:06.661023Z",
     "iopub.status.busy": "2021-01-07T11:20:06.637520Z",
     "iopub.status.idle": "2021-01-07T11:20:07.804071Z",
     "shell.execute_reply": "2021-01-07T11:20:07.803396Z"
    },
    "papermill": {
     "duration": 1.218403,
     "end_time": "2021-01-07T11:20:07.804192",
     "exception": false,
     "start_time": "2021-01-07T11:20:06.585789",
     "status": "completed"
    },
    "tags": []
   },
   "outputs": [],
   "source": [
    "for (test_df, sample_prediction_df) in iter_test:\n",
    "    \n",
    "    test_df = test_df[default_features]\n",
    "    \n",
    "    # test_lectures = test_df[test_df.content_type_id == True].merge(lectures_df, left_on='content_id', right_on='lecture_id', how='left')\n",
    "    # user_lecture_stats_part = test_lectures.groupby('user_id',as_index = False)[part_lectures_columns + types_of_lectures_columns].sum()\n",
    "    \n",
    "    # del(lectures_df)\n",
    "    # del(test_lectures)\n",
    "    # gc.collect()\n",
    "    \n",
    "    user_lecture_agg = test_df.groupby('user_id')['content_type_id'].agg(['sum', 'count'])\n",
    "    user_lecture_agg = user_lecture_agg.astype('int16')\n",
    "    \n",
    "    cum = test_df.groupby('user_id')['content_type_id'].agg(['cumsum', 'cumcount'])\n",
    "    cum['cumcount'] = cum['cumcount'] + 1\n",
    "    \n",
    "    test_df['user_interaction_count'] = cum['cumcount'] \n",
    "    test_df['user_interaction_timestamp_mean'] = test_df['timestamp'] / cum['cumcount'] \n",
    "    test_df['user_lecture_sum'] = cum['cumsum'] \n",
    "    test_df['user_lecture_lv'] = cum['cumsum'] / cum['cumcount']\n",
    "\n",
    "    test_df['user_lecture_lv'] = test_df['user_lecture_lv'].astype('float16')\n",
    "    test_df['user_lecture_sum'] = test_df['user_lecture_sum'].astype('int16')\n",
    "    test_df['user_interaction_count'] = test_df['user_interaction_count'].astype('int16')\n",
    "    test_df['user_interaction_timestamp_mean'] = test_df['user_interaction_timestamp_mean'] / (1000*3600)\n",
    "    test_df['user_interaction_timestamp_mean'] = test_df['user_interaction_timestamp_mean'].astype('float32')\n",
    "    \n",
    "    del cum\n",
    "    gc.collect()\n",
    "    \n",
    "    test_df['prior_question_had_explanation'].fillna(False, inplace=True)\n",
    "    test_df = test_df.astype(data_types_dict)\n",
    "    # test_df = test_df[test_df[target] != -1].reset_index(drop=True)\n",
    "    \n",
    "    # content_explation_agg = test_df[[\"content_id\",\"prior_question_had_explanation\",target]].groupby([\"content_id\",\"prior_question_had_explanation\"])[target].agg(['mean'])\n",
    "    \n",
    "    # content_explation_agg = content_explation_agg.unstack()\n",
    "    # content_explation_agg = content_explation_agg.reset_index()\n",
    "    # content_explation_agg.columns = ['content_id', 'content_explation_false_mean','content_explation_true_mean']\n",
    "\n",
    "    # content_explation_agg['content_id'] = content_explation_agg['content_id'].astype('int16')\n",
    "    # content_explation_agg['content_explation_false_mean'] = content_explation_agg['content_explation_false_mean'].astype('float16')\n",
    "    # content_explation_agg['content_explation_true_mean'] = content_explation_agg['content_explation_true_mean'].astype('float16')\n",
    "    \n",
    "    test_df[\"attempt_no\"] = 1\n",
    "    test_df[\"attempt_no\"] = test_df[\"attempt_no\"].astype('int8')\n",
    "    attempt_no_agg = test_df.groupby([\"user_id\",\"content_id\"])[\"attempt_no\"].agg(['sum']).astype('int8')\n",
    "    \n",
    "    test_df[\"attempt_no\"] = test_df[[\"user_id\",\"content_id\",'attempt_no']].groupby([\"user_id\",\"content_id\"])[\"attempt_no\"].cumsum()\n",
    "    attempt_no_agg = attempt_no_agg[attempt_no_agg['sum'] > 1]\n",
    "    prior_question_elapsed_time_mean = test_df['prior_question_elapsed_time'].mean()\n",
    "    test_df['prior_question_elapsed_time'].fillna(prior_question_elapsed_time_mean, inplace=True)\n",
    "    \n",
    "    max_timestamp_u = test_df[['user_id','timestamp']].groupby(['user_id'])['timestamp'].agg(['max']).reset_index()\n",
    "    max_timestamp_u.columns = ['user_id', 'max_time_stamp']\n",
    "    max_timestamp_u['user_id'] = max_timestamp_u['user_id'].astype('int32')\n",
    "    \n",
    "    test_df['lagtime'] = test_df.groupby('user_id')['timestamp'].shift()\n",
    "    \n",
    "    max_timestamp_u2 = test_df[['user_id','lagtime']].groupby(['user_id'])['lagtime'].agg(['max']).reset_index()\n",
    "    max_timestamp_u2.columns = ['user_id', 'max_time_stamp2']\n",
    "    max_timestamp_u2['user_id'] = max_timestamp_u2['user_id'].astype('int32')\n",
    "    \n",
    "    test_df['lagtime'] = test_df['timestamp'] - test_df['lagtime']\n",
    "\n",
    "    lagtime_mean = test_df['lagtime'].mean()\n",
    "    test_df['lagtime'].fillna(lagtime_mean, inplace=True)\n",
    "\n",
    "    test_df['lagtime'] = test_df['lagtime'] / (1000*3600)\n",
    "    test_df['lagtime'] = test_df['lagtime'].astype('float32')\n",
    "    \n",
    "    test_df['lagtime2'] = test_df.groupby('user_id')['timestamp'].shift(2)\n",
    "    \n",
    "    max_timestamp_u3 = test_df[['user_id','lagtime2']].groupby(['user_id']).agg(['max']).reset_index()\n",
    "    max_timestamp_u3.columns = ['user_id', 'max_time_stamp3']\n",
    "    max_timestamp_u3['user_id'] = max_timestamp_u3['user_id'].astype('int32')\n",
    "    \n",
    "    test_df['lagtime2'] = test_df['timestamp'] - test_df['lagtime2']\n",
    "\n",
    "    lagtime_mean2 = test_df['lagtime2'].mean()\n",
    "    test_df['lagtime2'].fillna(lagtime_mean2, inplace=True)\n",
    "\n",
    "    test_df['lagtime2'] = test_df['lagtime2'] / (1000*3600)\n",
    "    test_df['lagtime2'] = test_df['lagtime2'].astype('float32')\n",
    "    \n",
    "    test_df['lagtime3'] = test_df.groupby('user_id')['timestamp'].shift(3)\n",
    "    test_df['lagtime3'] = test_df['timestamp'] - test_df['lagtime3']\n",
    "\n",
    "    lagtime_mean3 = test_df['lagtime3'].mean()\n",
    "    test_df['lagtime3'].fillna(lagtime_mean3, inplace=True)\n",
    "\n",
    "    test_df['lagtime3'] = test_df['lagtime3'] / (1000*3600)\n",
    "    test_df['lagtime3'] = test_df['lagtime3'].astype('float32')\n",
    "    \n",
    "    test_df['timestamp'] = test_df['timestamp'] / (1000*3600)\n",
    "    test_df['timestamp'] = test_df['timestamp'].astype('float16')\n",
    "    \n",
    "    user_prior_question_elapsed_time = test_df[['user_id','prior_question_elapsed_time']].groupby(['user_id']).tail(1)\n",
    "    user_prior_question_elapsed_time.columns = ['user_id', 'prior_question_elapsed_time']\n",
    "    \n",
    "    test_df['delta_prior_question_elapsed_time'] = test_df.groupby('user_id')['prior_question_elapsed_time'].shift()\n",
    "    test_df['delta_prior_question_elapsed_time'] = test_df['prior_question_elapsed_time'] - test_df['delta_prior_question_elapsed_time']\n",
    "\n",
    "    delta_prior_question_elapsed_time_mean = test_df['delta_prior_question_elapsed_time'].mean()\n",
    "    test_df['delta_prior_question_elapsed_time'].fillna(delta_prior_question_elapsed_time_mean, inplace=True)\n",
    "\n",
    "    test_df['delta_prior_question_elapsed_time'] = train_df['delta_prior_question_elapsed_time'].astype('int32')\n",
    "    \n",
    "    test_df['prior_question_had_explanation'] = test_df['prior_question_had_explanation'].astype('int8')\n",
    "\n",
    "    explanation_agg = test_df.groupby('user_id')['prior_question_had_explanation'].agg(['sum', 'count'])\n",
    "    explanation_agg = explanation_agg.astype('int16')\n",
    "    \n",
    "    cum = test_df.groupby('user_id')['prior_question_had_explanation'].agg(['cumsum', 'cumcount'])\n",
    "    cum['cumcount'] = cum['cumcount'] + 1\n",
    "\n",
    "    test_df['explanation_mean'] = cum['cumsum'] / cum['cumcount']\n",
    "    test_df['explanation_true_count'] = cum['cumsum'] \n",
    "    test_df['explanation_false_count'] =  cum['cumcount'] - cum['cumsum']\n",
    "    \n",
    "    test_df['prior_question_had_explanation'] = test_df['prior_question_had_explanation'].astype(int)\n",
    "    \n",
    "    test_df = test_df.merge(user_answers_df, how='left', on='user_id')\n",
    "    test_df = test_df.merge(content_answers_df, how='left', on='content_id')\n",
    "    test_df.fillna(0.5, inplace=True)\n",
    "    \n",
    "    # target\n",
    "    test_df[target] = 1\n",
    "    test_df[target] = model.predict(test_df[features])\n",
    "    \n",
    "    # submit_data\n",
    "    env.predict(test_df.loc[test_df['content_type_id'] == 0, ['row_id', 'answered_correctly']])"
   ]
  }
 ],
 "metadata": {
  "kernelspec": {
   "display_name": "Python 3",
   "language": "python",
   "name": "python3"
  },
  "language_info": {
   "codemirror_mode": {
    "name": "ipython",
    "version": 3
   },
   "file_extension": ".py",
   "mimetype": "text/x-python",
   "name": "python",
   "nbconvert_exporter": "python",
   "pygments_lexer": "ipython3",
   "version": "3.7.6"
  },
  "papermill": {
   "duration": 43.772451,
   "end_time": "2021-01-07T11:20:07.948524",
   "environment_variables": {},
   "exception": null,
   "input_path": "__notebook__.ipynb",
   "output_path": "__notebook__.ipynb",
   "parameters": {},
   "start_time": "2021-01-07T11:19:24.176073",
   "version": "2.1.0"
  }
 },
 "nbformat": 4,
 "nbformat_minor": 4
}
