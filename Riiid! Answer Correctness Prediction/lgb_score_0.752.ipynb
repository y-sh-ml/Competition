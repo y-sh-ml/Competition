{
 "cells": [
  {
   "cell_type": "code",
   "execution_count": 1,
   "metadata": {
    "_cell_guid": "b1076dfc-b9ad-4769-8c92-a6c4dae69d19",
    "_uuid": "8f2839f25d086af736a60e9eeb907d3b93b6e0e5",
    "execution": {
     "iopub.execute_input": "2020-12-10T03:26:32.288110Z",
     "iopub.status.busy": "2020-12-10T03:26:32.287539Z",
     "iopub.status.idle": "2020-12-10T03:26:32.295093Z",
     "shell.execute_reply": "2020-12-10T03:26:32.295591Z"
    },
    "papermill": {
     "duration": 0.03014,
     "end_time": "2020-12-10T03:26:32.295739",
     "exception": false,
     "start_time": "2020-12-10T03:26:32.265599",
     "status": "completed"
    },
    "tags": []
   },
   "outputs": [
    {
     "name": "stdout",
     "output_type": "stream",
     "text": [
      "/kaggle/input/riiid-test-answer-prediction/example_sample_submission.csv\n",
      "/kaggle/input/riiid-test-answer-prediction/example_test.csv\n",
      "/kaggle/input/riiid-test-answer-prediction/questions.csv\n",
      "/kaggle/input/riiid-test-answer-prediction/train.csv\n",
      "/kaggle/input/riiid-test-answer-prediction/lectures.csv\n",
      "/kaggle/input/riiid-test-answer-prediction/riiideducation/competition.cpython-37m-x86_64-linux-gnu.so\n",
      "/kaggle/input/riiid-test-answer-prediction/riiideducation/__init__.py\n"
     ]
    }
   ],
   "source": [
    "# This Python 3 environment comes with many helpful analytics libraries installed\n",
    "# It is defined by the kaggle/python Docker image: https://github.com/kaggle/docker-python\n",
    "# For example, here's several helpful packages to load\n",
    "\n",
    "import numpy as np # linear algebra\n",
    "import pandas as pd # data processing, CSV file I/O (e.g. pd.read_csv)\n",
    "\n",
    "# Input data files are available in the read-only \"../input/\" directory\n",
    "# For example, running this (by clicking run or pressing Shift+Enter) will list all files under the input directory\n",
    "\n",
    "import os\n",
    "for dirname, _, filenames in os.walk('/kaggle/input'):\n",
    "    for filename in filenames:\n",
    "        print(os.path.join(dirname, filename))\n",
    "\n",
    "# You can write up to 20GB to the current directory (/kaggle/working/) that gets preserved as output when you create a version using \"Save & Run All\" \n",
    "# You can also write temporary files to /kaggle/temp/, but they won't be saved outside of the current session"
   ]
  },
  {
   "cell_type": "code",
   "execution_count": 2,
   "metadata": {
    "_cell_guid": "79c7e3d0-c299-4dcb-8224-4455121ee9b0",
    "_uuid": "d629ff2d2480ee46fbb7e2d37f6b5fab8052498a",
    "execution": {
     "iopub.execute_input": "2020-12-10T03:26:32.333367Z",
     "iopub.status.busy": "2020-12-10T03:26:32.332827Z",
     "iopub.status.idle": "2020-12-10T03:26:33.446490Z",
     "shell.execute_reply": "2020-12-10T03:26:33.447037Z"
    },
    "papermill": {
     "duration": 1.134415,
     "end_time": "2020-12-10T03:26:33.447180",
     "exception": false,
     "start_time": "2020-12-10T03:26:32.312765",
     "status": "completed"
    },
    "tags": []
   },
   "outputs": [
    {
     "data": {
      "text/html": [
       "<style type='text/css'>\n",
       ".datatable table.frame { margin-bottom: 0; }\n",
       ".datatable table.frame thead { border-bottom: none; }\n",
       ".datatable table.frame tr.coltypes td {  color: #FFFFFF;  line-height: 6px;  padding: 0 0.5em;}\n",
       ".datatable .bool    { background: #DDDD99; }\n",
       ".datatable .object  { background: #565656; }\n",
       ".datatable .int     { background: #5D9E5D; }\n",
       ".datatable .float   { background: #4040CC; }\n",
       ".datatable .str     { background: #CC4040; }\n",
       ".datatable .row_index {  background: var(--jp-border-color3);  border-right: 1px solid var(--jp-border-color0);  color: var(--jp-ui-font-color3);  font-size: 9px;}\n",
       ".datatable .frame tr.coltypes .row_index {  background: var(--jp-border-color0);}\n",
       ".datatable th:nth-child(2) { padding-left: 12px; }\n",
       ".datatable .hellipsis {  color: var(--jp-cell-editor-border-color);}\n",
       ".datatable .vellipsis {  background: var(--jp-layout-color0);  color: var(--jp-cell-editor-border-color);}\n",
       ".datatable .na {  color: var(--jp-cell-editor-border-color);  font-size: 80%;}\n",
       ".datatable .footer { font-size: 9px; }\n",
       ".datatable .frame_dimensions {  background: var(--jp-border-color3);  border-top: 1px solid var(--jp-border-color0);  color: var(--jp-ui-font-color3);  display: inline-block;  opacity: 0.6;  padding: 1px 10px 1px 5px;}\n",
       ".datatable .frame thead tr.colnames {  background-image: url('data:image/png;base64,iVBORw0KGgoAAAANSUhEUgAAABwAAAA4CAYAAADuMJi0AAAGR0lEQVR42rVZ21IbRxBtCbQrkIR2dQVjsLmDLBsET3nTQ8ouYRkQVf6e/E9+Im958qMfkgoXAaKSSj6C9Jnd2R2NeiRSRaZqitVOT5+Z6dNnWoKGlN94JFp8Ipofkb/7SOXjGyp8wF+z35K3f0uUp/GW4XfLQ8v2gefj3ZCCzojoNfue+43o1Q3l3xB/yA3JO7jnF2pCLnI+pNyx/qw7L+SQ7T2N9p2f8c60QcfcK6KGXsAd+ZvA4LlZYuSSAoOhMs5vwJkEGDlbPMaJoA+FcQ0IH38QLWkbAFLkOOhoMF5tU6/eBRhNjro0ZgKiPRAt3FLhCO/vqdgmNTm32LkmKpvBmQY4q5uAaAgbwDBG2BVv3bfI8KKAMWj2kfw9+pkZREIbEql4ST1x7hgHIANkbJ//MF8mAH/ilTCJ2tIi4ASr1IC3VNqXHKOxjy34mgoImnOQtx1g81fkqTiMOBVGcTogNhiT5iBHET8R8C+iApJUmgim3SQAXhsLQz7ee2G8gOAQNtJckBEplADiAxtX+G9NmhDl0qJKnTvyWlAMPYZnvIviGXRg6/Dh824DBXhP/tbfREXJEIvQ+aaPGjG7pvw6r3xdx+9hqb4dgZaP2XmdHO2K/B0c1+oUph6k8kShBryl/Ft0DYgjTlOieOACHFFpVyUl72T9V3cM1jUoYvxIC2vpCSys/ck70mDYuYvdvKjlMdKAUThneWVU1aAsyjv6PURDiwNsHGBZzY+JtAAgE2TFxdRHJdyIp/f+zqu09M5cDP2F08Ukkpj4YNSdX950HY2pNCCUK/Hhx5ZMBfjNSEzdsIihVzzAMdn9dz4eDYhnyQb9SSCiAryiJcQk82LiTbJ4x2FZJaUenpKnzP95WyDf4Y+QN9EFHHSeDLGdBjjKNQ5vKHf4XMA7KrY0y0GEObBOO/8e1ywuQExOHXktuQyJALEBpcEqhwtHqgiDuCK5b6i0p2MQpcckIIoh+6hYgTZtO8xlMi6O4tKCF/kOGHEg/W0UUpHW0ZoGNZ1ExZWcn7EErgwt4uj50E/sFBjXXIayWvh7WryjasxarZKssXon0zxvvkc32Q0bqbBCuZiKt9dWFysfQefeL29JYFaeztX6tePaZdz5mYx8+6Zq3Mk0wXECQxlhdzgS2wjBHju3j1RIgKyOMdNUE8X0+RAdbSapS11MRCv1SzUXmO6wGZe2SQYrv2MvCSWEv2VODE6DN7bz8ufypgQKW7uQskFTQHULLKyaEyrnlZbgOGLrV5qrn9U79jjm2HJmgkaVN98AfBub91lGPLZBqdroN5LYgjSu4zYZDDHXZOIPC691HqrWI1900I8qLzgKP4ft8DxEWigprPfrO+KcXno9gZz4jjGewWdUcpGCj0qVFuGPYbl2VturndZ2qRvlL8acDO6lF/DY/VjsFesiUK+ypJ+r/ep+cJkSQxEK4PG4WozgA75TYrDDqStE69K8/mzGEM+JXTeqvmedEElMmwCMm2SLd6bNNF9su02zEtoW6nAQtpMj5Gd7fKa//wqonF7UdtHFsVn+6hf1o7AfriPH7M6EeIUEF5zKVxXbYo7kS/OEtOqDYZKPoBsETIixn0uYrasThmzDkhdKPkz2EnaX0HdQbIgr59vAdGYDqjHrxkjS7WOxkTD8sqEqhiwcJETgBYigrBqF08KyDaje9SZ/I1A7MzaTzMGDEulPtZUkuKcyIRAjxEJPVrnVlb/9wkfij31D/pQt1IN+iL8bGJcstBIO7Y5VI/cwDqURbXhMuJxBqD0KLoK3esWFs0Jz5i5ZvJUAfFJMFb9XmGIOnzGpijpcWYCaMqXSQWp8EnCABepQ0Elyi4wfKfsw78ikIqif1pe1AGPlLmojl1SKxHHXp1L+Ut7AmDQHvhI5xHGi4EooO2BR7k78PEkJOdL7cAxQUZ/Tyclu9gnfwGgOmm2lNHGNmZXsq4Pqgc1EG1ATrvKl8s4R9ywwnqulGUnaRLVhxy8v3ieUwy2hbooT68uscW++DCDH0WSzuoyN2D4LUJ/tLECbcSKznwMIFs0ChF4mRTCnQbIIfk4SHJo6A9BMuTnXTs3Ku/KxsgZWqzuSe+Os8cEUfnMBY6UF5gi3SUbd5K7vDjq5WW0UENJlRsWn4sy21Er/E/AvPQSFHy1p4fgAAAAASUVORK5CYII=');  background-repeat: repeat-x;  background-size: 14px;  height: 28px;}\n",
       "</style>\n"
      ],
      "text/plain": [
       "<IPython.core.display.HTML object>"
      ]
     },
     "metadata": {},
     "output_type": "display_data"
    }
   ],
   "source": [
    "import matplotlib.pyplot as plt\n",
    "import seaborn as sns\n",
    "import lightgbm as lgb\n",
    "import riiideducation\n",
    "\n",
    "from sklearn.preprocessing import LabelEncoder\n",
    "from sklearn.metrics import roc_auc_score\n",
    "\n",
    "env = riiideducation.make_env()\n",
    "iter_test = env.iter_test()"
   ]
  },
  {
   "cell_type": "markdown",
   "metadata": {
    "papermill": {
     "duration": 0.015903,
     "end_time": "2020-12-10T03:26:33.479666",
     "exception": false,
     "start_time": "2020-12-10T03:26:33.463763",
     "status": "completed"
    },
    "tags": []
   },
   "source": [
    "# Data"
   ]
  },
  {
   "cell_type": "code",
   "execution_count": 3,
   "metadata": {
    "execution": {
     "iopub.execute_input": "2020-12-10T03:26:33.519762Z",
     "iopub.status.busy": "2020-12-10T03:26:33.519210Z",
     "iopub.status.idle": "2020-12-10T03:30:09.318234Z",
     "shell.execute_reply": "2020-12-10T03:30:09.317527Z"
    },
    "papermill": {
     "duration": 215.822699,
     "end_time": "2020-12-10T03:30:09.318380",
     "exception": false,
     "start_time": "2020-12-10T03:26:33.495681",
     "status": "completed"
    },
    "tags": []
   },
   "outputs": [
    {
     "name": "stdout",
     "output_type": "stream",
     "text": [
      "(98063883, 7)\n"
     ]
    },
    {
     "data": {
      "text/html": [
       "<div>\n",
       "<style scoped>\n",
       "    .dataframe tbody tr th:only-of-type {\n",
       "        vertical-align: middle;\n",
       "    }\n",
       "\n",
       "    .dataframe tbody tr th {\n",
       "        vertical-align: top;\n",
       "    }\n",
       "\n",
       "    .dataframe thead th {\n",
       "        text-align: right;\n",
       "    }\n",
       "</style>\n",
       "<table border=\"1\" class=\"dataframe\">\n",
       "  <thead>\n",
       "    <tr style=\"text-align: right;\">\n",
       "      <th></th>\n",
       "      <th>timestamp</th>\n",
       "      <th>user_id</th>\n",
       "      <th>content_id</th>\n",
       "      <th>content_type_id</th>\n",
       "      <th>answered_correctly</th>\n",
       "      <th>prior_question_elapsed_time</th>\n",
       "      <th>prior_question_had_explanation</th>\n",
       "    </tr>\n",
       "  </thead>\n",
       "  <tbody>\n",
       "    <tr>\n",
       "      <th>0</th>\n",
       "      <td>0</td>\n",
       "      <td>115</td>\n",
       "      <td>5692</td>\n",
       "      <td>0</td>\n",
       "      <td>1</td>\n",
       "      <td>NaN</td>\n",
       "      <td>&lt;NA&gt;</td>\n",
       "    </tr>\n",
       "    <tr>\n",
       "      <th>1</th>\n",
       "      <td>0</td>\n",
       "      <td>1405438286</td>\n",
       "      <td>7900</td>\n",
       "      <td>0</td>\n",
       "      <td>1</td>\n",
       "      <td>NaN</td>\n",
       "      <td>&lt;NA&gt;</td>\n",
       "    </tr>\n",
       "    <tr>\n",
       "      <th>2</th>\n",
       "      <td>0</td>\n",
       "      <td>59848493</td>\n",
       "      <td>4555</td>\n",
       "      <td>0</td>\n",
       "      <td>1</td>\n",
       "      <td>NaN</td>\n",
       "      <td>&lt;NA&gt;</td>\n",
       "    </tr>\n",
       "    <tr>\n",
       "      <th>3</th>\n",
       "      <td>0</td>\n",
       "      <td>59848686</td>\n",
       "      <td>9711</td>\n",
       "      <td>0</td>\n",
       "      <td>1</td>\n",
       "      <td>NaN</td>\n",
       "      <td>&lt;NA&gt;</td>\n",
       "    </tr>\n",
       "    <tr>\n",
       "      <th>4</th>\n",
       "      <td>0</td>\n",
       "      <td>1405436849</td>\n",
       "      <td>7900</td>\n",
       "      <td>0</td>\n",
       "      <td>1</td>\n",
       "      <td>NaN</td>\n",
       "      <td>&lt;NA&gt;</td>\n",
       "    </tr>\n",
       "  </tbody>\n",
       "</table>\n",
       "</div>"
      ],
      "text/plain": [
       "   timestamp     user_id  content_id  content_type_id  answered_correctly  \\\n",
       "0          0         115        5692                0                   1   \n",
       "1          0  1405438286        7900                0                   1   \n",
       "2          0    59848493        4555                0                   1   \n",
       "3          0    59848686        9711                0                   1   \n",
       "4          0  1405436849        7900                0                   1   \n",
       "\n",
       "   prior_question_elapsed_time  prior_question_had_explanation  \n",
       "0                          NaN                            <NA>  \n",
       "1                          NaN                            <NA>  \n",
       "2                          NaN                            <NA>  \n",
       "3                          NaN                            <NA>  \n",
       "4                          NaN                            <NA>  "
      ]
     },
     "execution_count": 3,
     "metadata": {},
     "output_type": "execute_result"
    }
   ],
   "source": [
    "train = pd.read_csv('/kaggle/input/riiid-test-answer-prediction/train.csv',\n",
    "                   usecols=[1, 2, 3, 4, 7, 8, 9],\n",
    "                   dtype={'timestamp': 'int64',\n",
    "                          'user_id': 'int32',\n",
    "                          'content_id': 'int16',\n",
    "                          'content_type_id': 'int8',\n",
    "                          'answered_correctly':'int8',\n",
    "                          'prior_question_elapsed_time': 'float32',\n",
    "                          'prior_question_had_explanation': 'boolean'},\n",
    "                    nrows=10*(10**7))\n",
    "\n",
    "train = train[train.content_type_id == False]\n",
    "train = train.sort_values(['timestamp'], ascending=True).reset_index(drop = True)\n",
    "\n",
    "print(train.shape)\n",
    "train.head()"
   ]
  },
  {
   "cell_type": "code",
   "execution_count": 4,
   "metadata": {
    "execution": {
     "iopub.execute_input": "2020-12-10T03:30:09.908687Z",
     "iopub.status.busy": "2020-12-10T03:30:09.906978Z",
     "iopub.status.idle": "2020-12-10T03:30:12.798711Z",
     "shell.execute_reply": "2020-12-10T03:30:12.799173Z"
    },
    "papermill": {
     "duration": 3.463194,
     "end_time": "2020-12-10T03:30:12.799333",
     "exception": false,
     "start_time": "2020-12-10T03:30:09.336139",
     "status": "completed"
    },
    "tags": []
   },
   "outputs": [
    {
     "name": "stdout",
     "output_type": "stream",
     "text": [
      "(13523, 1)\n"
     ]
    },
    {
     "data": {
      "text/html": [
       "<div>\n",
       "<style scoped>\n",
       "    .dataframe tbody tr th:only-of-type {\n",
       "        vertical-align: middle;\n",
       "    }\n",
       "\n",
       "    .dataframe tbody tr th {\n",
       "        vertical-align: top;\n",
       "    }\n",
       "\n",
       "    .dataframe thead th {\n",
       "        text-align: right;\n",
       "    }\n",
       "</style>\n",
       "<table border=\"1\" class=\"dataframe\">\n",
       "  <thead>\n",
       "    <tr style=\"text-align: right;\">\n",
       "      <th></th>\n",
       "      <th>answered_correctly_content</th>\n",
       "    </tr>\n",
       "    <tr>\n",
       "      <th>content_id</th>\n",
       "      <th></th>\n",
       "    </tr>\n",
       "  </thead>\n",
       "  <tbody>\n",
       "    <tr>\n",
       "      <th>0</th>\n",
       "      <td>0.907508</td>\n",
       "    </tr>\n",
       "    <tr>\n",
       "      <th>1</th>\n",
       "      <td>0.890364</td>\n",
       "    </tr>\n",
       "    <tr>\n",
       "      <th>2</th>\n",
       "      <td>0.554486</td>\n",
       "    </tr>\n",
       "    <tr>\n",
       "      <th>3</th>\n",
       "      <td>0.779586</td>\n",
       "    </tr>\n",
       "    <tr>\n",
       "      <th>4</th>\n",
       "      <td>0.612688</td>\n",
       "    </tr>\n",
       "  </tbody>\n",
       "</table>\n",
       "</div>"
      ],
      "text/plain": [
       "            answered_correctly_content\n",
       "content_id                            \n",
       "0                             0.907508\n",
       "1                             0.890364\n",
       "2                             0.554486\n",
       "3                             0.779586\n",
       "4                             0.612688"
      ]
     },
     "execution_count": 4,
     "metadata": {},
     "output_type": "execute_result"
    }
   ],
   "source": [
    "results_c_final = train[['content_id','answered_correctly']].groupby(['content_id']).agg(['mean'])\n",
    "results_c_final.columns = [\"answered_correctly_content\"]\n",
    "\n",
    "print(results_c_final.shape)\n",
    "results_c_final.head()"
   ]
  },
  {
   "cell_type": "code",
   "execution_count": 5,
   "metadata": {
    "execution": {
     "iopub.execute_input": "2020-12-10T03:30:13.512904Z",
     "iopub.status.busy": "2020-12-10T03:30:13.511961Z",
     "iopub.status.idle": "2020-12-10T03:30:19.123715Z",
     "shell.execute_reply": "2020-12-10T03:30:19.123245Z"
    },
    "papermill": {
     "duration": 6.306377,
     "end_time": "2020-12-10T03:30:19.123824",
     "exception": false,
     "start_time": "2020-12-10T03:30:12.817447",
     "status": "completed"
    },
    "tags": []
   },
   "outputs": [
    {
     "name": "stdout",
     "output_type": "stream",
     "text": [
      "(388969, 3)\n"
     ]
    },
    {
     "data": {
      "text/html": [
       "<div>\n",
       "<style scoped>\n",
       "    .dataframe tbody tr th:only-of-type {\n",
       "        vertical-align: middle;\n",
       "    }\n",
       "\n",
       "    .dataframe tbody tr th {\n",
       "        vertical-align: top;\n",
       "    }\n",
       "\n",
       "    .dataframe thead th {\n",
       "        text-align: right;\n",
       "    }\n",
       "</style>\n",
       "<table border=\"1\" class=\"dataframe\">\n",
       "  <thead>\n",
       "    <tr style=\"text-align: right;\">\n",
       "      <th></th>\n",
       "      <th>answered_correctly_user</th>\n",
       "      <th>sum</th>\n",
       "      <th>count</th>\n",
       "    </tr>\n",
       "    <tr>\n",
       "      <th>user_id</th>\n",
       "      <th></th>\n",
       "      <th></th>\n",
       "      <th></th>\n",
       "    </tr>\n",
       "  </thead>\n",
       "  <tbody>\n",
       "    <tr>\n",
       "      <th>115</th>\n",
       "      <td>0.695652</td>\n",
       "      <td>32.0</td>\n",
       "      <td>46</td>\n",
       "    </tr>\n",
       "    <tr>\n",
       "      <th>124</th>\n",
       "      <td>0.233333</td>\n",
       "      <td>7.0</td>\n",
       "      <td>30</td>\n",
       "    </tr>\n",
       "    <tr>\n",
       "      <th>2746</th>\n",
       "      <td>0.578947</td>\n",
       "      <td>11.0</td>\n",
       "      <td>19</td>\n",
       "    </tr>\n",
       "    <tr>\n",
       "      <th>5382</th>\n",
       "      <td>0.672000</td>\n",
       "      <td>84.0</td>\n",
       "      <td>125</td>\n",
       "    </tr>\n",
       "    <tr>\n",
       "      <th>8623</th>\n",
       "      <td>0.642202</td>\n",
       "      <td>70.0</td>\n",
       "      <td>109</td>\n",
       "    </tr>\n",
       "  </tbody>\n",
       "</table>\n",
       "</div>"
      ],
      "text/plain": [
       "         answered_correctly_user   sum  count\n",
       "user_id                                      \n",
       "115                     0.695652  32.0     46\n",
       "124                     0.233333   7.0     30\n",
       "2746                    0.578947  11.0     19\n",
       "5382                    0.672000  84.0    125\n",
       "8623                    0.642202  70.0    109"
      ]
     },
     "execution_count": 5,
     "metadata": {},
     "output_type": "execute_result"
    }
   ],
   "source": [
    "results_u_final = train[['user_id','answered_correctly']].groupby(['user_id']).agg(['mean', 'sum', 'count'])\n",
    "results_u_final.columns = ['answered_correctly_user', 'sum', 'count']\n",
    "\n",
    "print(results_u_final.shape)\n",
    "results_u_final.head()"
   ]
  },
  {
   "cell_type": "code",
   "execution_count": 6,
   "metadata": {
    "execution": {
     "iopub.execute_input": "2020-12-10T03:30:19.165814Z",
     "iopub.status.busy": "2020-12-10T03:30:19.165249Z",
     "iopub.status.idle": "2020-12-10T03:30:19.320942Z",
     "shell.execute_reply": "2020-12-10T03:30:19.321385Z"
    },
    "papermill": {
     "duration": 0.17942,
     "end_time": "2020-12-10T03:30:19.321549",
     "exception": false,
     "start_time": "2020-12-10T03:30:19.142129",
     "status": "completed"
    },
    "tags": []
   },
   "outputs": [
    {
     "name": "stdout",
     "output_type": "stream",
     "text": [
      "13336.501953125\n"
     ]
    }
   ],
   "source": [
    "elapsed_mean = train.prior_question_elapsed_time.mean()\n",
    "\n",
    "print(elapsed_mean)"
   ]
  },
  {
   "cell_type": "code",
   "execution_count": 7,
   "metadata": {
    "execution": {
     "iopub.execute_input": "2020-12-10T03:30:19.380583Z",
     "iopub.status.busy": "2020-12-10T03:30:19.379656Z",
     "iopub.status.idle": "2020-12-10T03:30:36.896372Z",
     "shell.execute_reply": "2020-12-10T03:30:36.895709Z"
    },
    "papermill": {
     "duration": 17.556004,
     "end_time": "2020-12-10T03:30:36.896481",
     "exception": false,
     "start_time": "2020-12-10T03:30:19.340477",
     "status": "completed"
    },
    "tags": []
   },
   "outputs": [
    {
     "name": "stdout",
     "output_type": "stream",
     "text": [
      "0.6787011998784546\n",
      "0.6570819288915809\n",
      "0.4760377971564314\n",
      "True     88595615\n",
      "False     9080437\n",
      "Name: prior_question_had_explanation, dtype: Int64\n",
      "0.6571682665268312\n"
     ]
    }
   ],
   "source": [
    "print(train.loc[(train.timestamp == 0)].answered_correctly.mean())\n",
    "print(train.loc[(train.timestamp != 0)].answered_correctly.mean())\n",
    "print(train.loc[(train.timestamp < 1000000) & (train.timestamp > 0)].answered_correctly.mean())\n",
    "print(train.prior_question_had_explanation.value_counts())\n",
    "print(train.answered_correctly.mean())"
   ]
  },
  {
   "cell_type": "code",
   "execution_count": 8,
   "metadata": {
    "execution": {
     "iopub.execute_input": "2020-12-10T03:30:37.621720Z",
     "iopub.status.busy": "2020-12-10T03:30:37.610704Z",
     "iopub.status.idle": "2020-12-10T03:30:38.095978Z",
     "shell.execute_reply": "2020-12-10T03:30:38.095414Z"
    },
    "papermill": {
     "duration": 1.179474,
     "end_time": "2020-12-10T03:30:38.096084",
     "exception": false,
     "start_time": "2020-12-10T03:30:36.916610",
     "status": "completed"
    },
    "tags": []
   },
   "outputs": [
    {
     "name": "stdout",
     "output_type": "stream",
     "text": [
      "(98063883, 5)\n"
     ]
    },
    {
     "data": {
      "text/html": [
       "<div>\n",
       "<style scoped>\n",
       "    .dataframe tbody tr th:only-of-type {\n",
       "        vertical-align: middle;\n",
       "    }\n",
       "\n",
       "    .dataframe tbody tr th {\n",
       "        vertical-align: top;\n",
       "    }\n",
       "\n",
       "    .dataframe thead th {\n",
       "        text-align: right;\n",
       "    }\n",
       "</style>\n",
       "<table border=\"1\" class=\"dataframe\">\n",
       "  <thead>\n",
       "    <tr style=\"text-align: right;\">\n",
       "      <th></th>\n",
       "      <th>user_id</th>\n",
       "      <th>content_id</th>\n",
       "      <th>answered_correctly</th>\n",
       "      <th>prior_question_elapsed_time</th>\n",
       "      <th>prior_question_had_explanation</th>\n",
       "    </tr>\n",
       "  </thead>\n",
       "  <tbody>\n",
       "    <tr>\n",
       "      <th>0</th>\n",
       "      <td>115</td>\n",
       "      <td>5692</td>\n",
       "      <td>1</td>\n",
       "      <td>NaN</td>\n",
       "      <td>&lt;NA&gt;</td>\n",
       "    </tr>\n",
       "    <tr>\n",
       "      <th>1</th>\n",
       "      <td>1405438286</td>\n",
       "      <td>7900</td>\n",
       "      <td>1</td>\n",
       "      <td>NaN</td>\n",
       "      <td>&lt;NA&gt;</td>\n",
       "    </tr>\n",
       "    <tr>\n",
       "      <th>2</th>\n",
       "      <td>59848493</td>\n",
       "      <td>4555</td>\n",
       "      <td>1</td>\n",
       "      <td>NaN</td>\n",
       "      <td>&lt;NA&gt;</td>\n",
       "    </tr>\n",
       "    <tr>\n",
       "      <th>3</th>\n",
       "      <td>59848686</td>\n",
       "      <td>9711</td>\n",
       "      <td>1</td>\n",
       "      <td>NaN</td>\n",
       "      <td>&lt;NA&gt;</td>\n",
       "    </tr>\n",
       "    <tr>\n",
       "      <th>4</th>\n",
       "      <td>1405436849</td>\n",
       "      <td>7900</td>\n",
       "      <td>1</td>\n",
       "      <td>NaN</td>\n",
       "      <td>&lt;NA&gt;</td>\n",
       "    </tr>\n",
       "  </tbody>\n",
       "</table>\n",
       "</div>"
      ],
      "text/plain": [
       "      user_id  content_id  answered_correctly  prior_question_elapsed_time  \\\n",
       "0         115        5692                   1                          NaN   \n",
       "1  1405438286        7900                   1                          NaN   \n",
       "2    59848493        4555                   1                          NaN   \n",
       "3    59848686        9711                   1                          NaN   \n",
       "4  1405436849        7900                   1                          NaN   \n",
       "\n",
       "   prior_question_had_explanation  \n",
       "0                            <NA>  \n",
       "1                            <NA>  \n",
       "2                            <NA>  \n",
       "3                            <NA>  \n",
       "4                            <NA>  "
      ]
     },
     "execution_count": 8,
     "metadata": {},
     "output_type": "execute_result"
    }
   ],
   "source": [
    "train.drop(['timestamp', 'content_type_id'], axis=1, inplace=True)\n",
    "\n",
    "print(train.shape)\n",
    "train.head()"
   ]
  },
  {
   "cell_type": "code",
   "execution_count": 9,
   "metadata": {
    "execution": {
     "iopub.execute_input": "2020-12-10T03:30:38.145316Z",
     "iopub.status.busy": "2020-12-10T03:30:38.144767Z",
     "iopub.status.idle": "2020-12-10T03:31:34.981055Z",
     "shell.execute_reply": "2020-12-10T03:31:34.981861Z"
    },
    "papermill": {
     "duration": 56.865158,
     "end_time": "2020-12-10T03:31:34.982100",
     "exception": false,
     "start_time": "2020-12-10T03:30:38.116942",
     "status": "completed"
    },
    "tags": []
   },
   "outputs": [
    {
     "name": "stdout",
     "output_type": "stream",
     "text": [
      "96508425\n",
      "1555458\n",
      "0.5334891716780524\n",
      "0.6591616431415185\n"
     ]
    }
   ],
   "source": [
    "validation = pd.DataFrame()\n",
    "\n",
    "for i in range(4):\n",
    "    last_records = train.drop_duplicates('user_id', keep = 'last')\n",
    "    train = train[~train.index.isin(last_records.index)]\n",
    "    validation = validation.append(last_records)\n",
    "    \n",
    "print(len(train))\n",
    "print(len(validation))\n",
    "\n",
    "print(validation.answered_correctly.mean())\n",
    "print(train.answered_correctly.mean())"
   ]
  },
  {
   "cell_type": "code",
   "execution_count": 10,
   "metadata": {
    "execution": {
     "iopub.execute_input": "2020-12-10T03:31:35.043710Z",
     "iopub.status.busy": "2020-12-10T03:31:35.042381Z",
     "iopub.status.idle": "2020-12-10T03:34:50.902225Z",
     "shell.execute_reply": "2020-12-10T03:34:50.903064Z"
    },
    "papermill": {
     "duration": 195.896348,
     "end_time": "2020-12-10T03:34:50.903283",
     "exception": false,
     "start_time": "2020-12-10T03:31:35.006935",
     "status": "completed"
    },
    "tags": []
   },
   "outputs": [
    {
     "name": "stdout",
     "output_type": "stream",
     "text": [
      "5620937\n",
      "90887488\n",
      "0.5565420854209894\n",
      "0.6655081500327086\n"
     ]
    }
   ],
   "source": [
    "X = pd.DataFrame()\n",
    "\n",
    "for i in range(15):\n",
    "    last_records = train.drop_duplicates('user_id', keep = 'last')\n",
    "    train = train[~train.index.isin(last_records.index)]\n",
    "    X = X.append(last_records)\n",
    "    \n",
    "print(len(X))\n",
    "print(len(train))\n",
    "\n",
    "print(X.answered_correctly.mean())\n",
    "print(train.answered_correctly.mean())"
   ]
  },
  {
   "cell_type": "code",
   "execution_count": 11,
   "metadata": {
    "execution": {
     "iopub.execute_input": "2020-12-10T03:34:51.407212Z",
     "iopub.status.busy": "2020-12-10T03:34:51.406209Z",
     "iopub.status.idle": "2020-12-10T03:35:02.399910Z",
     "shell.execute_reply": "2020-12-10T03:35:02.400424Z"
    },
    "papermill": {
     "duration": 11.475313,
     "end_time": "2020-12-10T03:35:02.400584",
     "exception": false,
     "start_time": "2020-12-10T03:34:50.925271",
     "status": "completed"
    },
    "tags": []
   },
   "outputs": [
    {
     "name": "stdout",
     "output_type": "stream",
     "text": [
      "(13523, 1)\n"
     ]
    },
    {
     "data": {
      "text/html": [
       "<div>\n",
       "<style scoped>\n",
       "    .dataframe tbody tr th:only-of-type {\n",
       "        vertical-align: middle;\n",
       "    }\n",
       "\n",
       "    .dataframe tbody tr th {\n",
       "        vertical-align: top;\n",
       "    }\n",
       "\n",
       "    .dataframe thead th {\n",
       "        text-align: right;\n",
       "    }\n",
       "</style>\n",
       "<table border=\"1\" class=\"dataframe\">\n",
       "  <thead>\n",
       "    <tr style=\"text-align: right;\">\n",
       "      <th></th>\n",
       "      <th>answered_correctly_content</th>\n",
       "    </tr>\n",
       "    <tr>\n",
       "      <th>content_id</th>\n",
       "      <th></th>\n",
       "    </tr>\n",
       "  </thead>\n",
       "  <tbody>\n",
       "    <tr>\n",
       "      <th>0</th>\n",
       "      <td>0.912076</td>\n",
       "    </tr>\n",
       "    <tr>\n",
       "      <th>1</th>\n",
       "      <td>0.893804</td>\n",
       "    </tr>\n",
       "    <tr>\n",
       "      <th>2</th>\n",
       "      <td>0.559010</td>\n",
       "    </tr>\n",
       "    <tr>\n",
       "      <th>3</th>\n",
       "      <td>0.782932</td>\n",
       "    </tr>\n",
       "    <tr>\n",
       "      <th>4</th>\n",
       "      <td>0.625582</td>\n",
       "    </tr>\n",
       "  </tbody>\n",
       "</table>\n",
       "</div>"
      ],
      "text/plain": [
       "            answered_correctly_content\n",
       "content_id                            \n",
       "0                             0.912076\n",
       "1                             0.893804\n",
       "2                             0.559010\n",
       "3                             0.782932\n",
       "4                             0.625582"
      ]
     },
     "execution_count": 11,
     "metadata": {},
     "output_type": "execute_result"
    }
   ],
   "source": [
    "results_c = train[['content_id','answered_correctly']].groupby(['content_id']).agg(['mean'])\n",
    "results_c.columns = [\"answered_correctly_content\"]\n",
    "\n",
    "print(results_c.shape)\n",
    "results_c.head()"
   ]
  },
  {
   "cell_type": "code",
   "execution_count": 12,
   "metadata": {
    "execution": {
     "iopub.execute_input": "2020-12-10T03:35:03.163802Z",
     "iopub.status.busy": "2020-12-10T03:35:03.163188Z",
     "iopub.status.idle": "2020-12-10T03:35:08.185761Z",
     "shell.execute_reply": "2020-12-10T03:35:08.186169Z"
    },
    "papermill": {
     "duration": 5.762883,
     "end_time": "2020-12-10T03:35:08.186311",
     "exception": false,
     "start_time": "2020-12-10T03:35:02.423428",
     "status": "completed"
    },
    "tags": []
   },
   "outputs": [
    {
     "name": "stdout",
     "output_type": "stream",
     "text": [
      "(333985, 3)\n"
     ]
    },
    {
     "data": {
      "text/html": [
       "<div>\n",
       "<style scoped>\n",
       "    .dataframe tbody tr th:only-of-type {\n",
       "        vertical-align: middle;\n",
       "    }\n",
       "\n",
       "    .dataframe tbody tr th {\n",
       "        vertical-align: top;\n",
       "    }\n",
       "\n",
       "    .dataframe thead th {\n",
       "        text-align: right;\n",
       "    }\n",
       "</style>\n",
       "<table border=\"1\" class=\"dataframe\">\n",
       "  <thead>\n",
       "    <tr style=\"text-align: right;\">\n",
       "      <th></th>\n",
       "      <th>answered_correctly_user</th>\n",
       "      <th>sum</th>\n",
       "      <th>count</th>\n",
       "    </tr>\n",
       "    <tr>\n",
       "      <th>user_id</th>\n",
       "      <th></th>\n",
       "      <th></th>\n",
       "      <th></th>\n",
       "    </tr>\n",
       "  </thead>\n",
       "  <tbody>\n",
       "    <tr>\n",
       "      <th>115</th>\n",
       "      <td>0.703704</td>\n",
       "      <td>19.0</td>\n",
       "      <td>27</td>\n",
       "    </tr>\n",
       "    <tr>\n",
       "      <th>124</th>\n",
       "      <td>0.272727</td>\n",
       "      <td>3.0</td>\n",
       "      <td>11</td>\n",
       "    </tr>\n",
       "    <tr>\n",
       "      <th>5382</th>\n",
       "      <td>0.669811</td>\n",
       "      <td>71.0</td>\n",
       "      <td>106</td>\n",
       "    </tr>\n",
       "    <tr>\n",
       "      <th>8623</th>\n",
       "      <td>0.611111</td>\n",
       "      <td>55.0</td>\n",
       "      <td>90</td>\n",
       "    </tr>\n",
       "    <tr>\n",
       "      <th>12741</th>\n",
       "      <td>0.556911</td>\n",
       "      <td>137.0</td>\n",
       "      <td>246</td>\n",
       "    </tr>\n",
       "  </tbody>\n",
       "</table>\n",
       "</div>"
      ],
      "text/plain": [
       "         answered_correctly_user    sum  count\n",
       "user_id                                       \n",
       "115                     0.703704   19.0     27\n",
       "124                     0.272727    3.0     11\n",
       "5382                    0.669811   71.0    106\n",
       "8623                    0.611111   55.0     90\n",
       "12741                   0.556911  137.0    246"
      ]
     },
     "execution_count": 12,
     "metadata": {},
     "output_type": "execute_result"
    }
   ],
   "source": [
    "results_u = train[['user_id','answered_correctly']].groupby(['user_id']).agg(['mean', 'sum', 'count'])\n",
    "results_u.columns = [\"answered_correctly_user\", 'sum', 'count']\n",
    "\n",
    "print(results_u.shape)\n",
    "results_u.head()"
   ]
  },
  {
   "cell_type": "code",
   "execution_count": 13,
   "metadata": {
    "execution": {
     "iopub.execute_input": "2020-12-10T03:35:08.333270Z",
     "iopub.status.busy": "2020-12-10T03:35:08.332173Z",
     "iopub.status.idle": "2020-12-10T03:35:08.337037Z",
     "shell.execute_reply": "2020-12-10T03:35:08.336403Z"
    },
    "papermill": {
     "duration": 0.12829,
     "end_time": "2020-12-10T03:35:08.337151",
     "exception": false,
     "start_time": "2020-12-10T03:35:08.208861",
     "status": "completed"
    },
    "tags": []
   },
   "outputs": [],
   "source": [
    "del(train)"
   ]
  },
  {
   "cell_type": "markdown",
   "metadata": {
    "papermill": {
     "duration": 0.022794,
     "end_time": "2020-12-10T03:35:08.383471",
     "exception": false,
     "start_time": "2020-12-10T03:35:08.360677",
     "status": "completed"
    },
    "tags": []
   },
   "source": [
    "# Dataset (X, validation)"
   ]
  },
  {
   "cell_type": "code",
   "execution_count": 14,
   "metadata": {
    "execution": {
     "iopub.execute_input": "2020-12-10T03:35:08.436333Z",
     "iopub.status.busy": "2020-12-10T03:35:08.435077Z",
     "iopub.status.idle": "2020-12-10T03:35:10.466984Z",
     "shell.execute_reply": "2020-12-10T03:35:10.466400Z"
    },
    "papermill": {
     "duration": 2.060644,
     "end_time": "2020-12-10T03:35:10.467100",
     "exception": false,
     "start_time": "2020-12-10T03:35:08.406456",
     "status": "completed"
    },
    "tags": []
   },
   "outputs": [
    {
     "name": "stdout",
     "output_type": "stream",
     "text": [
      "(5620937, 9)\n"
     ]
    },
    {
     "data": {
      "text/html": [
       "<div>\n",
       "<style scoped>\n",
       "    .dataframe tbody tr th:only-of-type {\n",
       "        vertical-align: middle;\n",
       "    }\n",
       "\n",
       "    .dataframe tbody tr th {\n",
       "        vertical-align: top;\n",
       "    }\n",
       "\n",
       "    .dataframe thead th {\n",
       "        text-align: right;\n",
       "    }\n",
       "</style>\n",
       "<table border=\"1\" class=\"dataframe\">\n",
       "  <thead>\n",
       "    <tr style=\"text-align: right;\">\n",
       "      <th></th>\n",
       "      <th>user_id</th>\n",
       "      <th>content_id</th>\n",
       "      <th>answered_correctly</th>\n",
       "      <th>prior_question_elapsed_time</th>\n",
       "      <th>prior_question_had_explanation</th>\n",
       "      <th>answered_correctly_user</th>\n",
       "      <th>sum</th>\n",
       "      <th>count</th>\n",
       "      <th>answered_correctly_content</th>\n",
       "    </tr>\n",
       "  </thead>\n",
       "  <tbody>\n",
       "    <tr>\n",
       "      <th>0</th>\n",
       "      <td>1418755930</td>\n",
       "      <td>5314</td>\n",
       "      <td>1</td>\n",
       "      <td>NaN</td>\n",
       "      <td>&lt;NA&gt;</td>\n",
       "      <td>NaN</td>\n",
       "      <td>NaN</td>\n",
       "      <td>NaN</td>\n",
       "      <td>0.782666</td>\n",
       "    </tr>\n",
       "    <tr>\n",
       "      <th>1</th>\n",
       "      <td>1224328917</td>\n",
       "      <td>9731</td>\n",
       "      <td>1</td>\n",
       "      <td>NaN</td>\n",
       "      <td>&lt;NA&gt;</td>\n",
       "      <td>NaN</td>\n",
       "      <td>NaN</td>\n",
       "      <td>NaN</td>\n",
       "      <td>0.794889</td>\n",
       "    </tr>\n",
       "    <tr>\n",
       "      <th>2</th>\n",
       "      <td>2004252207</td>\n",
       "      <td>128</td>\n",
       "      <td>1</td>\n",
       "      <td>NaN</td>\n",
       "      <td>&lt;NA&gt;</td>\n",
       "      <td>NaN</td>\n",
       "      <td>NaN</td>\n",
       "      <td>NaN</td>\n",
       "      <td>0.967141</td>\n",
       "    </tr>\n",
       "    <tr>\n",
       "      <th>3</th>\n",
       "      <td>1639083714</td>\n",
       "      <td>5970</td>\n",
       "      <td>0</td>\n",
       "      <td>NaN</td>\n",
       "      <td>&lt;NA&gt;</td>\n",
       "      <td>NaN</td>\n",
       "      <td>NaN</td>\n",
       "      <td>NaN</td>\n",
       "      <td>0.426873</td>\n",
       "    </tr>\n",
       "    <tr>\n",
       "      <th>4</th>\n",
       "      <td>1646232520</td>\n",
       "      <td>4357</td>\n",
       "      <td>1</td>\n",
       "      <td>NaN</td>\n",
       "      <td>&lt;NA&gt;</td>\n",
       "      <td>NaN</td>\n",
       "      <td>NaN</td>\n",
       "      <td>NaN</td>\n",
       "      <td>0.765323</td>\n",
       "    </tr>\n",
       "  </tbody>\n",
       "</table>\n",
       "</div>"
      ],
      "text/plain": [
       "      user_id  content_id  answered_correctly  prior_question_elapsed_time  \\\n",
       "0  1418755930        5314                   1                          NaN   \n",
       "1  1224328917        9731                   1                          NaN   \n",
       "2  2004252207         128                   1                          NaN   \n",
       "3  1639083714        5970                   0                          NaN   \n",
       "4  1646232520        4357                   1                          NaN   \n",
       "\n",
       "   prior_question_had_explanation  answered_correctly_user  sum  count  \\\n",
       "0                            <NA>                      NaN  NaN    NaN   \n",
       "1                            <NA>                      NaN  NaN    NaN   \n",
       "2                            <NA>                      NaN  NaN    NaN   \n",
       "3                            <NA>                      NaN  NaN    NaN   \n",
       "4                            <NA>                      NaN  NaN    NaN   \n",
       "\n",
       "   answered_correctly_content  \n",
       "0                    0.782666  \n",
       "1                    0.794889  \n",
       "2                    0.967141  \n",
       "3                    0.426873  \n",
       "4                    0.765323  "
      ]
     },
     "execution_count": 14,
     "metadata": {},
     "output_type": "execute_result"
    }
   ],
   "source": [
    "X = pd.merge(X, results_u, on=['user_id'], how=\"left\")\n",
    "X = pd.merge(X, results_c_final, on=['content_id'], how=\"left\")\n",
    "\n",
    "print(X.shape)\n",
    "X.head()"
   ]
  },
  {
   "cell_type": "code",
   "execution_count": 15,
   "metadata": {
    "execution": {
     "iopub.execute_input": "2020-12-10T03:35:10.519599Z",
     "iopub.status.busy": "2020-12-10T03:35:10.518999Z",
     "iopub.status.idle": "2020-12-10T03:35:10.986816Z",
     "shell.execute_reply": "2020-12-10T03:35:10.986122Z"
    },
    "papermill": {
     "duration": 0.496231,
     "end_time": "2020-12-10T03:35:10.986939",
     "exception": false,
     "start_time": "2020-12-10T03:35:10.490708",
     "status": "completed"
    },
    "tags": []
   },
   "outputs": [
    {
     "name": "stdout",
     "output_type": "stream",
     "text": [
      "(1555458, 9)\n"
     ]
    },
    {
     "data": {
      "text/html": [
       "<div>\n",
       "<style scoped>\n",
       "    .dataframe tbody tr th:only-of-type {\n",
       "        vertical-align: middle;\n",
       "    }\n",
       "\n",
       "    .dataframe tbody tr th {\n",
       "        vertical-align: top;\n",
       "    }\n",
       "\n",
       "    .dataframe thead th {\n",
       "        text-align: right;\n",
       "    }\n",
       "</style>\n",
       "<table border=\"1\" class=\"dataframe\">\n",
       "  <thead>\n",
       "    <tr style=\"text-align: right;\">\n",
       "      <th></th>\n",
       "      <th>user_id</th>\n",
       "      <th>content_id</th>\n",
       "      <th>answered_correctly</th>\n",
       "      <th>prior_question_elapsed_time</th>\n",
       "      <th>prior_question_had_explanation</th>\n",
       "      <th>answered_correctly_user</th>\n",
       "      <th>sum</th>\n",
       "      <th>count</th>\n",
       "      <th>answered_correctly_content</th>\n",
       "    </tr>\n",
       "  </thead>\n",
       "  <tbody>\n",
       "    <tr>\n",
       "      <th>0</th>\n",
       "      <td>1401661034</td>\n",
       "      <td>5340</td>\n",
       "      <td>0</td>\n",
       "      <td>NaN</td>\n",
       "      <td>&lt;NA&gt;</td>\n",
       "      <td>NaN</td>\n",
       "      <td>NaN</td>\n",
       "      <td>NaN</td>\n",
       "      <td>0.651905</td>\n",
       "    </tr>\n",
       "    <tr>\n",
       "      <th>1</th>\n",
       "      <td>60215278</td>\n",
       "      <td>6680</td>\n",
       "      <td>1</td>\n",
       "      <td>NaN</td>\n",
       "      <td>&lt;NA&gt;</td>\n",
       "      <td>NaN</td>\n",
       "      <td>NaN</td>\n",
       "      <td>NaN</td>\n",
       "      <td>0.784135</td>\n",
       "    </tr>\n",
       "    <tr>\n",
       "      <th>2</th>\n",
       "      <td>1409178561</td>\n",
       "      <td>6464</td>\n",
       "      <td>0</td>\n",
       "      <td>NaN</td>\n",
       "      <td>&lt;NA&gt;</td>\n",
       "      <td>NaN</td>\n",
       "      <td>NaN</td>\n",
       "      <td>NaN</td>\n",
       "      <td>0.766106</td>\n",
       "    </tr>\n",
       "    <tr>\n",
       "      <th>3</th>\n",
       "      <td>1390768116</td>\n",
       "      <td>6092</td>\n",
       "      <td>0</td>\n",
       "      <td>NaN</td>\n",
       "      <td>&lt;NA&gt;</td>\n",
       "      <td>NaN</td>\n",
       "      <td>NaN</td>\n",
       "      <td>NaN</td>\n",
       "      <td>0.556030</td>\n",
       "    </tr>\n",
       "    <tr>\n",
       "      <th>4</th>\n",
       "      <td>1394917844</td>\n",
       "      <td>6004</td>\n",
       "      <td>0</td>\n",
       "      <td>NaN</td>\n",
       "      <td>&lt;NA&gt;</td>\n",
       "      <td>NaN</td>\n",
       "      <td>NaN</td>\n",
       "      <td>NaN</td>\n",
       "      <td>0.644570</td>\n",
       "    </tr>\n",
       "  </tbody>\n",
       "</table>\n",
       "</div>"
      ],
      "text/plain": [
       "      user_id  content_id  answered_correctly  prior_question_elapsed_time  \\\n",
       "0  1401661034        5340                   0                          NaN   \n",
       "1    60215278        6680                   1                          NaN   \n",
       "2  1409178561        6464                   0                          NaN   \n",
       "3  1390768116        6092                   0                          NaN   \n",
       "4  1394917844        6004                   0                          NaN   \n",
       "\n",
       "   prior_question_had_explanation  answered_correctly_user  sum  count  \\\n",
       "0                            <NA>                      NaN  NaN    NaN   \n",
       "1                            <NA>                      NaN  NaN    NaN   \n",
       "2                            <NA>                      NaN  NaN    NaN   \n",
       "3                            <NA>                      NaN  NaN    NaN   \n",
       "4                            <NA>                      NaN  NaN    NaN   \n",
       "\n",
       "   answered_correctly_content  \n",
       "0                    0.651905  \n",
       "1                    0.784135  \n",
       "2                    0.766106  \n",
       "3                    0.556030  \n",
       "4                    0.644570  "
      ]
     },
     "execution_count": 15,
     "metadata": {},
     "output_type": "execute_result"
    }
   ],
   "source": [
    "validation = pd.merge(validation, results_u, on=['user_id'], how=\"left\")\n",
    "validation = pd.merge(validation, results_c_final, on=['content_id'], how=\"left\")\n",
    "\n",
    "print(validation.shape)\n",
    "validation.head()"
   ]
  },
  {
   "cell_type": "code",
   "execution_count": 16,
   "metadata": {
    "execution": {
     "iopub.execute_input": "2020-12-10T03:35:11.042292Z",
     "iopub.status.busy": "2020-12-10T03:35:11.040743Z",
     "iopub.status.idle": "2020-12-10T03:35:12.391723Z",
     "shell.execute_reply": "2020-12-10T03:35:12.391131Z"
    },
    "papermill": {
     "duration": 1.380384,
     "end_time": "2020-12-10T03:35:12.391842",
     "exception": false,
     "start_time": "2020-12-10T03:35:11.011458",
     "status": "completed"
    },
    "tags": []
   },
   "outputs": [],
   "source": [
    "lb_make = LabelEncoder()\n",
    "\n",
    "X.prior_question_had_explanation.fillna(False, inplace = True)\n",
    "validation.prior_question_had_explanation.fillna(False, inplace = True)\n",
    "\n",
    "X[\"prior_question_had_explanation_enc\"] = lb_make.fit_transform(X[\"prior_question_had_explanation\"])\n",
    "validation[\"prior_question_had_explanation_enc\"] = lb_make.fit_transform(validation[\"prior_question_had_explanation\"])"
   ]
  },
  {
   "cell_type": "code",
   "execution_count": 17,
   "metadata": {
    "execution": {
     "iopub.execute_input": "2020-12-10T03:35:12.454632Z",
     "iopub.status.busy": "2020-12-10T03:35:12.453731Z",
     "iopub.status.idle": "2020-12-10T03:35:12.459317Z",
     "shell.execute_reply": "2020-12-10T03:35:12.459790Z"
    },
    "papermill": {
     "duration": 0.043366,
     "end_time": "2020-12-10T03:35:12.459962",
     "exception": false,
     "start_time": "2020-12-10T03:35:12.416596",
     "status": "completed"
    },
    "tags": []
   },
   "outputs": [
    {
     "name": "stdout",
     "output_type": "stream",
     "text": [
      "(5620937, 10)\n"
     ]
    },
    {
     "data": {
      "text/html": [
       "<div>\n",
       "<style scoped>\n",
       "    .dataframe tbody tr th:only-of-type {\n",
       "        vertical-align: middle;\n",
       "    }\n",
       "\n",
       "    .dataframe tbody tr th {\n",
       "        vertical-align: top;\n",
       "    }\n",
       "\n",
       "    .dataframe thead th {\n",
       "        text-align: right;\n",
       "    }\n",
       "</style>\n",
       "<table border=\"1\" class=\"dataframe\">\n",
       "  <thead>\n",
       "    <tr style=\"text-align: right;\">\n",
       "      <th></th>\n",
       "      <th>user_id</th>\n",
       "      <th>content_id</th>\n",
       "      <th>answered_correctly</th>\n",
       "      <th>prior_question_elapsed_time</th>\n",
       "      <th>prior_question_had_explanation</th>\n",
       "      <th>answered_correctly_user</th>\n",
       "      <th>sum</th>\n",
       "      <th>count</th>\n",
       "      <th>answered_correctly_content</th>\n",
       "      <th>prior_question_had_explanation_enc</th>\n",
       "    </tr>\n",
       "  </thead>\n",
       "  <tbody>\n",
       "    <tr>\n",
       "      <th>0</th>\n",
       "      <td>1418755930</td>\n",
       "      <td>5314</td>\n",
       "      <td>1</td>\n",
       "      <td>NaN</td>\n",
       "      <td>False</td>\n",
       "      <td>NaN</td>\n",
       "      <td>NaN</td>\n",
       "      <td>NaN</td>\n",
       "      <td>0.782666</td>\n",
       "      <td>0</td>\n",
       "    </tr>\n",
       "    <tr>\n",
       "      <th>1</th>\n",
       "      <td>1224328917</td>\n",
       "      <td>9731</td>\n",
       "      <td>1</td>\n",
       "      <td>NaN</td>\n",
       "      <td>False</td>\n",
       "      <td>NaN</td>\n",
       "      <td>NaN</td>\n",
       "      <td>NaN</td>\n",
       "      <td>0.794889</td>\n",
       "      <td>0</td>\n",
       "    </tr>\n",
       "    <tr>\n",
       "      <th>2</th>\n",
       "      <td>2004252207</td>\n",
       "      <td>128</td>\n",
       "      <td>1</td>\n",
       "      <td>NaN</td>\n",
       "      <td>False</td>\n",
       "      <td>NaN</td>\n",
       "      <td>NaN</td>\n",
       "      <td>NaN</td>\n",
       "      <td>0.967141</td>\n",
       "      <td>0</td>\n",
       "    </tr>\n",
       "    <tr>\n",
       "      <th>3</th>\n",
       "      <td>1639083714</td>\n",
       "      <td>5970</td>\n",
       "      <td>0</td>\n",
       "      <td>NaN</td>\n",
       "      <td>False</td>\n",
       "      <td>NaN</td>\n",
       "      <td>NaN</td>\n",
       "      <td>NaN</td>\n",
       "      <td>0.426873</td>\n",
       "      <td>0</td>\n",
       "    </tr>\n",
       "    <tr>\n",
       "      <th>4</th>\n",
       "      <td>1646232520</td>\n",
       "      <td>4357</td>\n",
       "      <td>1</td>\n",
       "      <td>NaN</td>\n",
       "      <td>False</td>\n",
       "      <td>NaN</td>\n",
       "      <td>NaN</td>\n",
       "      <td>NaN</td>\n",
       "      <td>0.765323</td>\n",
       "      <td>0</td>\n",
       "    </tr>\n",
       "  </tbody>\n",
       "</table>\n",
       "</div>"
      ],
      "text/plain": [
       "      user_id  content_id  answered_correctly  prior_question_elapsed_time  \\\n",
       "0  1418755930        5314                   1                          NaN   \n",
       "1  1224328917        9731                   1                          NaN   \n",
       "2  2004252207         128                   1                          NaN   \n",
       "3  1639083714        5970                   0                          NaN   \n",
       "4  1646232520        4357                   1                          NaN   \n",
       "\n",
       "   prior_question_had_explanation  answered_correctly_user  sum  count  \\\n",
       "0                           False                      NaN  NaN    NaN   \n",
       "1                           False                      NaN  NaN    NaN   \n",
       "2                           False                      NaN  NaN    NaN   \n",
       "3                           False                      NaN  NaN    NaN   \n",
       "4                           False                      NaN  NaN    NaN   \n",
       "\n",
       "   answered_correctly_content  prior_question_had_explanation_enc  \n",
       "0                    0.782666                                   0  \n",
       "1                    0.794889                                   0  \n",
       "2                    0.967141                                   0  \n",
       "3                    0.426873                                   0  \n",
       "4                    0.765323                                   0  "
      ]
     },
     "execution_count": 17,
     "metadata": {},
     "output_type": "execute_result"
    }
   ],
   "source": [
    "print(X.shape)\n",
    "X.head()"
   ]
  },
  {
   "cell_type": "code",
   "execution_count": 18,
   "metadata": {
    "execution": {
     "iopub.execute_input": "2020-12-10T03:35:12.523669Z",
     "iopub.status.busy": "2020-12-10T03:35:12.515214Z",
     "iopub.status.idle": "2020-12-10T03:35:12.527845Z",
     "shell.execute_reply": "2020-12-10T03:35:12.528336Z"
    },
    "papermill": {
     "duration": 0.042797,
     "end_time": "2020-12-10T03:35:12.528462",
     "exception": false,
     "start_time": "2020-12-10T03:35:12.485665",
     "status": "completed"
    },
    "tags": []
   },
   "outputs": [
    {
     "name": "stdout",
     "output_type": "stream",
     "text": [
      "(1555458, 10)\n"
     ]
    },
    {
     "data": {
      "text/html": [
       "<div>\n",
       "<style scoped>\n",
       "    .dataframe tbody tr th:only-of-type {\n",
       "        vertical-align: middle;\n",
       "    }\n",
       "\n",
       "    .dataframe tbody tr th {\n",
       "        vertical-align: top;\n",
       "    }\n",
       "\n",
       "    .dataframe thead th {\n",
       "        text-align: right;\n",
       "    }\n",
       "</style>\n",
       "<table border=\"1\" class=\"dataframe\">\n",
       "  <thead>\n",
       "    <tr style=\"text-align: right;\">\n",
       "      <th></th>\n",
       "      <th>user_id</th>\n",
       "      <th>content_id</th>\n",
       "      <th>answered_correctly</th>\n",
       "      <th>prior_question_elapsed_time</th>\n",
       "      <th>prior_question_had_explanation</th>\n",
       "      <th>answered_correctly_user</th>\n",
       "      <th>sum</th>\n",
       "      <th>count</th>\n",
       "      <th>answered_correctly_content</th>\n",
       "      <th>prior_question_had_explanation_enc</th>\n",
       "    </tr>\n",
       "  </thead>\n",
       "  <tbody>\n",
       "    <tr>\n",
       "      <th>0</th>\n",
       "      <td>1401661034</td>\n",
       "      <td>5340</td>\n",
       "      <td>0</td>\n",
       "      <td>NaN</td>\n",
       "      <td>False</td>\n",
       "      <td>NaN</td>\n",
       "      <td>NaN</td>\n",
       "      <td>NaN</td>\n",
       "      <td>0.651905</td>\n",
       "      <td>0</td>\n",
       "    </tr>\n",
       "    <tr>\n",
       "      <th>1</th>\n",
       "      <td>60215278</td>\n",
       "      <td>6680</td>\n",
       "      <td>1</td>\n",
       "      <td>NaN</td>\n",
       "      <td>False</td>\n",
       "      <td>NaN</td>\n",
       "      <td>NaN</td>\n",
       "      <td>NaN</td>\n",
       "      <td>0.784135</td>\n",
       "      <td>0</td>\n",
       "    </tr>\n",
       "    <tr>\n",
       "      <th>2</th>\n",
       "      <td>1409178561</td>\n",
       "      <td>6464</td>\n",
       "      <td>0</td>\n",
       "      <td>NaN</td>\n",
       "      <td>False</td>\n",
       "      <td>NaN</td>\n",
       "      <td>NaN</td>\n",
       "      <td>NaN</td>\n",
       "      <td>0.766106</td>\n",
       "      <td>0</td>\n",
       "    </tr>\n",
       "    <tr>\n",
       "      <th>3</th>\n",
       "      <td>1390768116</td>\n",
       "      <td>6092</td>\n",
       "      <td>0</td>\n",
       "      <td>NaN</td>\n",
       "      <td>False</td>\n",
       "      <td>NaN</td>\n",
       "      <td>NaN</td>\n",
       "      <td>NaN</td>\n",
       "      <td>0.556030</td>\n",
       "      <td>0</td>\n",
       "    </tr>\n",
       "    <tr>\n",
       "      <th>4</th>\n",
       "      <td>1394917844</td>\n",
       "      <td>6004</td>\n",
       "      <td>0</td>\n",
       "      <td>NaN</td>\n",
       "      <td>False</td>\n",
       "      <td>NaN</td>\n",
       "      <td>NaN</td>\n",
       "      <td>NaN</td>\n",
       "      <td>0.644570</td>\n",
       "      <td>0</td>\n",
       "    </tr>\n",
       "  </tbody>\n",
       "</table>\n",
       "</div>"
      ],
      "text/plain": [
       "      user_id  content_id  answered_correctly  prior_question_elapsed_time  \\\n",
       "0  1401661034        5340                   0                          NaN   \n",
       "1    60215278        6680                   1                          NaN   \n",
       "2  1409178561        6464                   0                          NaN   \n",
       "3  1390768116        6092                   0                          NaN   \n",
       "4  1394917844        6004                   0                          NaN   \n",
       "\n",
       "   prior_question_had_explanation  answered_correctly_user  sum  count  \\\n",
       "0                           False                      NaN  NaN    NaN   \n",
       "1                           False                      NaN  NaN    NaN   \n",
       "2                           False                      NaN  NaN    NaN   \n",
       "3                           False                      NaN  NaN    NaN   \n",
       "4                           False                      NaN  NaN    NaN   \n",
       "\n",
       "   answered_correctly_content  prior_question_had_explanation_enc  \n",
       "0                    0.651905                                   0  \n",
       "1                    0.784135                                   0  \n",
       "2                    0.766106                                   0  \n",
       "3                    0.556030                                   0  \n",
       "4                    0.644570                                   0  "
      ]
     },
     "execution_count": 18,
     "metadata": {},
     "output_type": "execute_result"
    }
   ],
   "source": [
    "print(validation.shape)\n",
    "validation.head()"
   ]
  },
  {
   "cell_type": "code",
   "execution_count": 19,
   "metadata": {
    "execution": {
     "iopub.execute_input": "2020-12-10T03:35:12.589145Z",
     "iopub.status.busy": "2020-12-10T03:35:12.588620Z",
     "iopub.status.idle": "2020-12-10T03:35:12.606147Z",
     "shell.execute_reply": "2020-12-10T03:35:12.605597Z"
    },
    "papermill": {
     "duration": 0.052182,
     "end_time": "2020-12-10T03:35:12.606243",
     "exception": false,
     "start_time": "2020-12-10T03:35:12.554061",
     "status": "completed"
    },
    "tags": []
   },
   "outputs": [
    {
     "name": "stdout",
     "output_type": "stream",
     "text": [
      "(13523, 2)\n"
     ]
    },
    {
     "data": {
      "text/html": [
       "<div>\n",
       "<style scoped>\n",
       "    .dataframe tbody tr th:only-of-type {\n",
       "        vertical-align: middle;\n",
       "    }\n",
       "\n",
       "    .dataframe tbody tr th {\n",
       "        vertical-align: top;\n",
       "    }\n",
       "\n",
       "    .dataframe thead th {\n",
       "        text-align: right;\n",
       "    }\n",
       "</style>\n",
       "<table border=\"1\" class=\"dataframe\">\n",
       "  <thead>\n",
       "    <tr style=\"text-align: right;\">\n",
       "      <th></th>\n",
       "      <th>question_id</th>\n",
       "      <th>part</th>\n",
       "    </tr>\n",
       "  </thead>\n",
       "  <tbody>\n",
       "    <tr>\n",
       "      <th>0</th>\n",
       "      <td>0</td>\n",
       "      <td>1</td>\n",
       "    </tr>\n",
       "    <tr>\n",
       "      <th>1</th>\n",
       "      <td>1</td>\n",
       "      <td>1</td>\n",
       "    </tr>\n",
       "    <tr>\n",
       "      <th>2</th>\n",
       "      <td>2</td>\n",
       "      <td>1</td>\n",
       "    </tr>\n",
       "    <tr>\n",
       "      <th>3</th>\n",
       "      <td>3</td>\n",
       "      <td>1</td>\n",
       "    </tr>\n",
       "    <tr>\n",
       "      <th>4</th>\n",
       "      <td>4</td>\n",
       "      <td>1</td>\n",
       "    </tr>\n",
       "  </tbody>\n",
       "</table>\n",
       "</div>"
      ],
      "text/plain": [
       "   question_id  part\n",
       "0            0     1\n",
       "1            1     1\n",
       "2            2     1\n",
       "3            3     1\n",
       "4            4     1"
      ]
     },
     "execution_count": 19,
     "metadata": {},
     "output_type": "execute_result"
    }
   ],
   "source": [
    "questions_df = pd.read_csv('/kaggle/input/riiid-test-answer-prediction/questions.csv',\n",
    "                            usecols=[0, 3],\n",
    "                            dtype={'question_id': 'int16',\n",
    "                              'part': 'int8'})\n",
    "\n",
    "print(questions_df.shape)\n",
    "questions_df.head()"
   ]
  },
  {
   "cell_type": "code",
   "execution_count": 20,
   "metadata": {
    "execution": {
     "iopub.execute_input": "2020-12-10T03:35:12.664082Z",
     "iopub.status.busy": "2020-12-10T03:35:12.663480Z",
     "iopub.status.idle": "2020-12-10T03:35:13.986695Z",
     "shell.execute_reply": "2020-12-10T03:35:13.984883Z"
    },
    "papermill": {
     "duration": 1.353408,
     "end_time": "2020-12-10T03:35:13.986861",
     "exception": false,
     "start_time": "2020-12-10T03:35:12.633453",
     "status": "completed"
    },
    "tags": []
   },
   "outputs": [
    {
     "name": "stdout",
     "output_type": "stream",
     "text": [
      "4    2914621\n",
      "1    1140830\n",
      "5     513536\n",
      "3     449313\n",
      "0     271630\n",
      "6     176263\n",
      "2     154744\n",
      "Name: part, dtype: int64\n",
      "4    778797\n",
      "1    311392\n",
      "6    265834\n",
      "0     61242\n",
      "5     56735\n",
      "3     48444\n",
      "2     33014\n",
      "Name: part, dtype: int64\n"
     ]
    }
   ],
   "source": [
    "X = pd.merge(X, questions_df, left_on = 'content_id', right_on = 'question_id', how = 'left')\n",
    "validation = pd.merge(validation, questions_df, left_on = 'content_id', right_on = 'question_id', how = 'left')\n",
    "\n",
    "X.part = X.part - 1\n",
    "validation.part = validation.part - 1\n",
    "\n",
    "print(X.part.value_counts())\n",
    "print(validation.part.value_counts())"
   ]
  },
  {
   "cell_type": "code",
   "execution_count": 21,
   "metadata": {
    "execution": {
     "iopub.execute_input": "2020-12-10T03:35:14.049416Z",
     "iopub.status.busy": "2020-12-10T03:35:14.048856Z",
     "iopub.status.idle": "2020-12-10T03:35:14.058632Z",
     "shell.execute_reply": "2020-12-10T03:35:14.058132Z"
    },
    "papermill": {
     "duration": 0.044084,
     "end_time": "2020-12-10T03:35:14.058733",
     "exception": false,
     "start_time": "2020-12-10T03:35:14.014649",
     "status": "completed"
    },
    "tags": []
   },
   "outputs": [
    {
     "name": "stdout",
     "output_type": "stream",
     "text": [
      "(5620937, 12)\n"
     ]
    },
    {
     "data": {
      "text/html": [
       "<div>\n",
       "<style scoped>\n",
       "    .dataframe tbody tr th:only-of-type {\n",
       "        vertical-align: middle;\n",
       "    }\n",
       "\n",
       "    .dataframe tbody tr th {\n",
       "        vertical-align: top;\n",
       "    }\n",
       "\n",
       "    .dataframe thead th {\n",
       "        text-align: right;\n",
       "    }\n",
       "</style>\n",
       "<table border=\"1\" class=\"dataframe\">\n",
       "  <thead>\n",
       "    <tr style=\"text-align: right;\">\n",
       "      <th></th>\n",
       "      <th>user_id</th>\n",
       "      <th>content_id</th>\n",
       "      <th>answered_correctly</th>\n",
       "      <th>prior_question_elapsed_time</th>\n",
       "      <th>prior_question_had_explanation</th>\n",
       "      <th>answered_correctly_user</th>\n",
       "      <th>sum</th>\n",
       "      <th>count</th>\n",
       "      <th>answered_correctly_content</th>\n",
       "      <th>prior_question_had_explanation_enc</th>\n",
       "      <th>question_id</th>\n",
       "      <th>part</th>\n",
       "    </tr>\n",
       "  </thead>\n",
       "  <tbody>\n",
       "    <tr>\n",
       "      <th>0</th>\n",
       "      <td>1418755930</td>\n",
       "      <td>5314</td>\n",
       "      <td>1</td>\n",
       "      <td>NaN</td>\n",
       "      <td>False</td>\n",
       "      <td>NaN</td>\n",
       "      <td>NaN</td>\n",
       "      <td>NaN</td>\n",
       "      <td>0.782666</td>\n",
       "      <td>0</td>\n",
       "      <td>5314</td>\n",
       "      <td>4</td>\n",
       "    </tr>\n",
       "    <tr>\n",
       "      <th>1</th>\n",
       "      <td>1224328917</td>\n",
       "      <td>9731</td>\n",
       "      <td>1</td>\n",
       "      <td>NaN</td>\n",
       "      <td>False</td>\n",
       "      <td>NaN</td>\n",
       "      <td>NaN</td>\n",
       "      <td>NaN</td>\n",
       "      <td>0.794889</td>\n",
       "      <td>0</td>\n",
       "      <td>9731</td>\n",
       "      <td>4</td>\n",
       "    </tr>\n",
       "    <tr>\n",
       "      <th>2</th>\n",
       "      <td>2004252207</td>\n",
       "      <td>128</td>\n",
       "      <td>1</td>\n",
       "      <td>NaN</td>\n",
       "      <td>False</td>\n",
       "      <td>NaN</td>\n",
       "      <td>NaN</td>\n",
       "      <td>NaN</td>\n",
       "      <td>0.967141</td>\n",
       "      <td>0</td>\n",
       "      <td>128</td>\n",
       "      <td>0</td>\n",
       "    </tr>\n",
       "    <tr>\n",
       "      <th>3</th>\n",
       "      <td>1639083714</td>\n",
       "      <td>5970</td>\n",
       "      <td>0</td>\n",
       "      <td>NaN</td>\n",
       "      <td>False</td>\n",
       "      <td>NaN</td>\n",
       "      <td>NaN</td>\n",
       "      <td>NaN</td>\n",
       "      <td>0.426873</td>\n",
       "      <td>0</td>\n",
       "      <td>5970</td>\n",
       "      <td>4</td>\n",
       "    </tr>\n",
       "    <tr>\n",
       "      <th>4</th>\n",
       "      <td>1646232520</td>\n",
       "      <td>4357</td>\n",
       "      <td>1</td>\n",
       "      <td>NaN</td>\n",
       "      <td>False</td>\n",
       "      <td>NaN</td>\n",
       "      <td>NaN</td>\n",
       "      <td>NaN</td>\n",
       "      <td>0.765323</td>\n",
       "      <td>0</td>\n",
       "      <td>4357</td>\n",
       "      <td>4</td>\n",
       "    </tr>\n",
       "  </tbody>\n",
       "</table>\n",
       "</div>"
      ],
      "text/plain": [
       "      user_id  content_id  answered_correctly  prior_question_elapsed_time  \\\n",
       "0  1418755930        5314                   1                          NaN   \n",
       "1  1224328917        9731                   1                          NaN   \n",
       "2  2004252207         128                   1                          NaN   \n",
       "3  1639083714        5970                   0                          NaN   \n",
       "4  1646232520        4357                   1                          NaN   \n",
       "\n",
       "   prior_question_had_explanation  answered_correctly_user  sum  count  \\\n",
       "0                           False                      NaN  NaN    NaN   \n",
       "1                           False                      NaN  NaN    NaN   \n",
       "2                           False                      NaN  NaN    NaN   \n",
       "3                           False                      NaN  NaN    NaN   \n",
       "4                           False                      NaN  NaN    NaN   \n",
       "\n",
       "   answered_correctly_content  prior_question_had_explanation_enc  \\\n",
       "0                    0.782666                                   0   \n",
       "1                    0.794889                                   0   \n",
       "2                    0.967141                                   0   \n",
       "3                    0.426873                                   0   \n",
       "4                    0.765323                                   0   \n",
       "\n",
       "   question_id  part  \n",
       "0         5314     4  \n",
       "1         9731     4  \n",
       "2          128     0  \n",
       "3         5970     4  \n",
       "4         4357     4  "
      ]
     },
     "execution_count": 21,
     "metadata": {},
     "output_type": "execute_result"
    }
   ],
   "source": [
    "print(X.shape)\n",
    "X.head()"
   ]
  },
  {
   "cell_type": "code",
   "execution_count": 22,
   "metadata": {
    "execution": {
     "iopub.execute_input": "2020-12-10T03:35:14.116643Z",
     "iopub.status.busy": "2020-12-10T03:35:14.115780Z",
     "iopub.status.idle": "2020-12-10T03:35:14.131272Z",
     "shell.execute_reply": "2020-12-10T03:35:14.130834Z"
    },
    "papermill": {
     "duration": 0.045411,
     "end_time": "2020-12-10T03:35:14.131372",
     "exception": false,
     "start_time": "2020-12-10T03:35:14.085961",
     "status": "completed"
    },
    "tags": []
   },
   "outputs": [
    {
     "name": "stdout",
     "output_type": "stream",
     "text": [
      "(1555458, 12)\n"
     ]
    },
    {
     "data": {
      "text/html": [
       "<div>\n",
       "<style scoped>\n",
       "    .dataframe tbody tr th:only-of-type {\n",
       "        vertical-align: middle;\n",
       "    }\n",
       "\n",
       "    .dataframe tbody tr th {\n",
       "        vertical-align: top;\n",
       "    }\n",
       "\n",
       "    .dataframe thead th {\n",
       "        text-align: right;\n",
       "    }\n",
       "</style>\n",
       "<table border=\"1\" class=\"dataframe\">\n",
       "  <thead>\n",
       "    <tr style=\"text-align: right;\">\n",
       "      <th></th>\n",
       "      <th>user_id</th>\n",
       "      <th>content_id</th>\n",
       "      <th>answered_correctly</th>\n",
       "      <th>prior_question_elapsed_time</th>\n",
       "      <th>prior_question_had_explanation</th>\n",
       "      <th>answered_correctly_user</th>\n",
       "      <th>sum</th>\n",
       "      <th>count</th>\n",
       "      <th>answered_correctly_content</th>\n",
       "      <th>prior_question_had_explanation_enc</th>\n",
       "      <th>question_id</th>\n",
       "      <th>part</th>\n",
       "    </tr>\n",
       "  </thead>\n",
       "  <tbody>\n",
       "    <tr>\n",
       "      <th>0</th>\n",
       "      <td>1401661034</td>\n",
       "      <td>5340</td>\n",
       "      <td>0</td>\n",
       "      <td>NaN</td>\n",
       "      <td>False</td>\n",
       "      <td>NaN</td>\n",
       "      <td>NaN</td>\n",
       "      <td>NaN</td>\n",
       "      <td>0.651905</td>\n",
       "      <td>0</td>\n",
       "      <td>5340</td>\n",
       "      <td>4</td>\n",
       "    </tr>\n",
       "    <tr>\n",
       "      <th>1</th>\n",
       "      <td>60215278</td>\n",
       "      <td>6680</td>\n",
       "      <td>1</td>\n",
       "      <td>NaN</td>\n",
       "      <td>False</td>\n",
       "      <td>NaN</td>\n",
       "      <td>NaN</td>\n",
       "      <td>NaN</td>\n",
       "      <td>0.784135</td>\n",
       "      <td>0</td>\n",
       "      <td>6680</td>\n",
       "      <td>4</td>\n",
       "    </tr>\n",
       "    <tr>\n",
       "      <th>2</th>\n",
       "      <td>1409178561</td>\n",
       "      <td>6464</td>\n",
       "      <td>0</td>\n",
       "      <td>NaN</td>\n",
       "      <td>False</td>\n",
       "      <td>NaN</td>\n",
       "      <td>NaN</td>\n",
       "      <td>NaN</td>\n",
       "      <td>0.766106</td>\n",
       "      <td>0</td>\n",
       "      <td>6464</td>\n",
       "      <td>4</td>\n",
       "    </tr>\n",
       "    <tr>\n",
       "      <th>3</th>\n",
       "      <td>1390768116</td>\n",
       "      <td>6092</td>\n",
       "      <td>0</td>\n",
       "      <td>NaN</td>\n",
       "      <td>False</td>\n",
       "      <td>NaN</td>\n",
       "      <td>NaN</td>\n",
       "      <td>NaN</td>\n",
       "      <td>0.556030</td>\n",
       "      <td>0</td>\n",
       "      <td>6092</td>\n",
       "      <td>4</td>\n",
       "    </tr>\n",
       "    <tr>\n",
       "      <th>4</th>\n",
       "      <td>1394917844</td>\n",
       "      <td>6004</td>\n",
       "      <td>0</td>\n",
       "      <td>NaN</td>\n",
       "      <td>False</td>\n",
       "      <td>NaN</td>\n",
       "      <td>NaN</td>\n",
       "      <td>NaN</td>\n",
       "      <td>0.644570</td>\n",
       "      <td>0</td>\n",
       "      <td>6004</td>\n",
       "      <td>4</td>\n",
       "    </tr>\n",
       "  </tbody>\n",
       "</table>\n",
       "</div>"
      ],
      "text/plain": [
       "      user_id  content_id  answered_correctly  prior_question_elapsed_time  \\\n",
       "0  1401661034        5340                   0                          NaN   \n",
       "1    60215278        6680                   1                          NaN   \n",
       "2  1409178561        6464                   0                          NaN   \n",
       "3  1390768116        6092                   0                          NaN   \n",
       "4  1394917844        6004                   0                          NaN   \n",
       "\n",
       "   prior_question_had_explanation  answered_correctly_user  sum  count  \\\n",
       "0                           False                      NaN  NaN    NaN   \n",
       "1                           False                      NaN  NaN    NaN   \n",
       "2                           False                      NaN  NaN    NaN   \n",
       "3                           False                      NaN  NaN    NaN   \n",
       "4                           False                      NaN  NaN    NaN   \n",
       "\n",
       "   answered_correctly_content  prior_question_had_explanation_enc  \\\n",
       "0                    0.651905                                   0   \n",
       "1                    0.784135                                   0   \n",
       "2                    0.766106                                   0   \n",
       "3                    0.556030                                   0   \n",
       "4                    0.644570                                   0   \n",
       "\n",
       "   question_id  part  \n",
       "0         5340     4  \n",
       "1         6680     4  \n",
       "2         6464     4  \n",
       "3         6092     4  \n",
       "4         6004     4  "
      ]
     },
     "execution_count": 22,
     "metadata": {},
     "output_type": "execute_result"
    }
   ],
   "source": [
    "print(validation.shape)\n",
    "validation.head()"
   ]
  },
  {
   "cell_type": "code",
   "execution_count": 23,
   "metadata": {
    "execution": {
     "iopub.execute_input": "2020-12-10T03:35:14.193911Z",
     "iopub.status.busy": "2020-12-10T03:35:14.192688Z",
     "iopub.status.idle": "2020-12-10T03:35:14.564023Z",
     "shell.execute_reply": "2020-12-10T03:35:14.563533Z"
    },
    "papermill": {
     "duration": 0.404403,
     "end_time": "2020-12-10T03:35:14.564130",
     "exception": false,
     "start_time": "2020-12-10T03:35:14.159727",
     "status": "completed"
    },
    "tags": []
   },
   "outputs": [],
   "source": [
    "y = X['answered_correctly']\n",
    "X = X.drop(['answered_correctly'], axis=1)\n",
    "\n",
    "y_val = validation['answered_correctly']\n",
    "X_val = validation.drop(['answered_correctly'], axis=1)"
   ]
  },
  {
   "cell_type": "code",
   "execution_count": 24,
   "metadata": {
    "execution": {
     "iopub.execute_input": "2020-12-10T03:35:14.684896Z",
     "iopub.status.busy": "2020-12-10T03:35:14.684292Z",
     "iopub.status.idle": "2020-12-10T03:35:14.768252Z",
     "shell.execute_reply": "2020-12-10T03:35:14.768709Z"
    },
    "papermill": {
     "duration": 0.176205,
     "end_time": "2020-12-10T03:35:14.768861",
     "exception": false,
     "start_time": "2020-12-10T03:35:14.592656",
     "status": "completed"
    },
    "tags": []
   },
   "outputs": [],
   "source": [
    "X = X[['answered_correctly_user', 'answered_correctly_content', 'sum', 'count',\n",
    "       'prior_question_elapsed_time','prior_question_had_explanation_enc', 'part']]\n",
    "\n",
    "X_val = X_val[['answered_correctly_user', 'answered_correctly_content', 'sum', 'count',\n",
    "       'prior_question_elapsed_time','prior_question_had_explanation_enc', 'part']]"
   ]
  },
  {
   "cell_type": "code",
   "execution_count": 25,
   "metadata": {
    "execution": {
     "iopub.execute_input": "2020-12-10T03:35:14.836384Z",
     "iopub.status.busy": "2020-12-10T03:35:14.835818Z",
     "iopub.status.idle": "2020-12-10T03:35:14.913277Z",
     "shell.execute_reply": "2020-12-10T03:35:14.913710Z"
    },
    "papermill": {
     "duration": 0.116054,
     "end_time": "2020-12-10T03:35:14.913855",
     "exception": false,
     "start_time": "2020-12-10T03:35:14.797801",
     "status": "completed"
    },
    "tags": []
   },
   "outputs": [],
   "source": [
    "X['answered_correctly_user'].fillna(0.5,  inplace=True)\n",
    "X['answered_correctly_content'].fillna(0.5,  inplace=True)\n",
    "X['part'].fillna(4, inplace = True)\n",
    "X['sum'].fillna(0, inplace = True)\n",
    "X['count'].fillna(0, inplace = True)\n",
    "X['prior_question_elapsed_time'].fillna(elapsed_mean, inplace = True)\n",
    "X['prior_question_had_explanation_enc'].fillna(0, inplace = True)\n",
    "\n",
    "X_val['answered_correctly_user'].fillna(0.5,  inplace=True)\n",
    "X_val['answered_correctly_content'].fillna(0.5,  inplace=True)\n",
    "X_val['part'].fillna(4, inplace = True)\n",
    "X_val['count'].fillna(0, inplace = True)\n",
    "X_val['sum'].fillna(0, inplace = True)\n",
    "X_val['prior_question_elapsed_time'].fillna(elapsed_mean, inplace = True)\n",
    "X_val['prior_question_had_explanation_enc'].fillna(0, inplace = True)"
   ]
  },
  {
   "cell_type": "markdown",
   "metadata": {
    "papermill": {
     "duration": 0.028384,
     "end_time": "2020-12-10T03:35:14.970826",
     "exception": false,
     "start_time": "2020-12-10T03:35:14.942442",
     "status": "completed"
    },
    "tags": []
   },
   "source": [
    "# Modeling"
   ]
  },
  {
   "cell_type": "code",
   "execution_count": 26,
   "metadata": {
    "execution": {
     "iopub.execute_input": "2020-12-10T03:35:15.049056Z",
     "iopub.status.busy": "2020-12-10T03:35:15.048037Z",
     "iopub.status.idle": "2020-12-10T03:35:15.051307Z",
     "shell.execute_reply": "2020-12-10T03:35:15.050442Z"
    },
    "papermill": {
     "duration": 0.044594,
     "end_time": "2020-12-10T03:35:15.051472",
     "exception": false,
     "start_time": "2020-12-10T03:35:15.006878",
     "status": "completed"
    },
    "tags": []
   },
   "outputs": [],
   "source": [
    "import lightgbm as lgb\n",
    "\n",
    "params = {\n",
    "    'objective': 'binary',\n",
    "    'max_bin': 700,\n",
    "    'learning_rate': 0.0175,\n",
    "    'num_leaves': 80\n",
    "}\n",
    "\n",
    "lgb_train = lgb.Dataset(X, y, categorical_feature = ['part', 'prior_question_had_explanation_enc'])\n",
    "lgb_eval = lgb.Dataset(X_val, y_val, categorical_feature = ['part', 'prior_question_had_explanation_enc'], reference=lgb_train)"
   ]
  },
  {
   "cell_type": "code",
   "execution_count": 27,
   "metadata": {
    "execution": {
     "iopub.execute_input": "2020-12-10T03:35:15.146863Z",
     "iopub.status.busy": "2020-12-10T03:35:15.145911Z",
     "iopub.status.idle": "2020-12-10T03:41:51.126887Z",
     "shell.execute_reply": "2020-12-10T03:41:51.128270Z"
    },
    "papermill": {
     "duration": 396.029217,
     "end_time": "2020-12-10T03:41:51.128740",
     "exception": false,
     "start_time": "2020-12-10T03:35:15.099523",
     "status": "completed"
    },
    "tags": []
   },
   "outputs": [
    {
     "name": "stderr",
     "output_type": "stream",
     "text": [
      "/opt/conda/lib/python3.7/site-packages/lightgbm/basic.py:1291: UserWarning: Using categorical_feature in Dataset.\n",
      "  warnings.warn('Using categorical_feature in Dataset.')\n"
     ]
    },
    {
     "name": "stdout",
     "output_type": "stream",
     "text": [
      "Training until validation scores don't improve for 12 rounds\n",
      "[50]\ttraining's binary_logloss: 0.613866\tvalid_1's binary_logloss: 0.63051\n",
      "[100]\ttraining's binary_logloss: 0.597485\tvalid_1's binary_logloss: 0.617619\n",
      "[150]\ttraining's binary_logloss: 0.593081\tvalid_1's binary_logloss: 0.614305\n",
      "[200]\ttraining's binary_logloss: 0.591455\tvalid_1's binary_logloss: 0.612977\n",
      "[250]\ttraining's binary_logloss: 0.590648\tvalid_1's binary_logloss: 0.612259\n",
      "[300]\ttraining's binary_logloss: 0.590128\tvalid_1's binary_logloss: 0.611708\n",
      "[350]\ttraining's binary_logloss: 0.589781\tvalid_1's binary_logloss: 0.61135\n",
      "[400]\ttraining's binary_logloss: 0.589525\tvalid_1's binary_logloss: 0.61113\n",
      "[450]\ttraining's binary_logloss: 0.589345\tvalid_1's binary_logloss: 0.610999\n",
      "[500]\ttraining's binary_logloss: 0.58921\tvalid_1's binary_logloss: 0.610925\n",
      "[550]\ttraining's binary_logloss: 0.589084\tvalid_1's binary_logloss: 0.610873\n",
      "[600]\ttraining's binary_logloss: 0.588961\tvalid_1's binary_logloss: 0.610832\n",
      "[650]\ttraining's binary_logloss: 0.588846\tvalid_1's binary_logloss: 0.610797\n",
      "Early stopping, best iteration is:\n",
      "[680]\ttraining's binary_logloss: 0.588781\tvalid_1's binary_logloss: 0.610778\n"
     ]
    }
   ],
   "source": [
    "model = lgb.train(\n",
    "    params, lgb_train,\n",
    "    valid_sets=[lgb_train, lgb_eval],\n",
    "    verbose_eval=50,\n",
    "    num_boost_round=10000,\n",
    "    early_stopping_rounds=12\n",
    ")"
   ]
  },
  {
   "cell_type": "code",
   "execution_count": 28,
   "metadata": {
    "execution": {
     "iopub.execute_input": "2020-12-10T03:41:51.270788Z",
     "iopub.status.busy": "2020-12-10T03:41:51.269943Z",
     "iopub.status.idle": "2020-12-10T03:42:39.841823Z",
     "shell.execute_reply": "2020-12-10T03:42:39.842281Z"
    },
    "papermill": {
     "duration": 48.643207,
     "end_time": "2020-12-10T03:42:39.842533",
     "exception": false,
     "start_time": "2020-12-10T03:41:51.199326",
     "status": "completed"
    },
    "tags": []
   },
   "outputs": [
    {
     "data": {
      "text/plain": [
       "0.7258335638984436"
      ]
     },
     "execution_count": 28,
     "metadata": {},
     "output_type": "execute_result"
    }
   ],
   "source": [
    "y_pred = model.predict(X_val)\n",
    "y_true = np.array(y_val)\n",
    "roc_auc_score(y_true, y_pred)"
   ]
  },
  {
   "cell_type": "code",
   "execution_count": 29,
   "metadata": {
    "execution": {
     "iopub.execute_input": "2020-12-10T03:42:39.921017Z",
     "iopub.status.busy": "2020-12-10T03:42:39.920265Z",
     "iopub.status.idle": "2020-12-10T03:42:40.126226Z",
     "shell.execute_reply": "2020-12-10T03:42:40.125168Z"
    },
    "papermill": {
     "duration": 0.242609,
     "end_time": "2020-12-10T03:42:40.126337",
     "exception": false,
     "start_time": "2020-12-10T03:42:39.883728",
     "status": "completed"
    },
    "tags": []
   },
   "outputs": [
    {
     "data": {
      "image/png": "[encoded data removed]",
      "text/plain": [
       "<Figure size 432x288 with 1 Axes>"
      ]
     },
     "metadata": {
      "needs_background": "light"
     },
     "output_type": "display_data"
    }
   ],
   "source": [
    "lgb.plot_importance(model)\n",
    "plt.show()"
   ]
  },
  {
   "cell_type": "markdown",
   "metadata": {
    "papermill": {
     "duration": 0.034036,
     "end_time": "2020-12-10T03:42:40.195942",
     "exception": false,
     "start_time": "2020-12-10T03:42:40.161906",
     "status": "completed"
    },
    "tags": []
   },
   "source": [
    "# Submit"
   ]
  },
  {
   "cell_type": "code",
   "execution_count": 30,
   "metadata": {
    "execution": {
     "iopub.execute_input": "2020-12-10T03:42:40.277438Z",
     "iopub.status.busy": "2020-12-10T03:42:40.276845Z",
     "iopub.status.idle": "2020-12-10T03:42:41.179596Z",
     "shell.execute_reply": "2020-12-10T03:42:41.179048Z"
    },
    "papermill": {
     "duration": 0.948674,
     "end_time": "2020-12-10T03:42:41.179739",
     "exception": false,
     "start_time": "2020-12-10T03:42:40.231065",
     "status": "completed"
    },
    "tags": []
   },
   "outputs": [],
   "source": [
    "for (test_df, sample_prediction_df) in iter_test:\n",
    "    \n",
    "    test_df = pd.merge(test_df, questions_df, left_on = 'content_id', right_on = 'question_id', how = 'left')\n",
    "    test_df = pd.merge(test_df, results_u_final, on=['user_id'],  how=\"left\")\n",
    "    test_df = pd.merge(test_df, results_c_final, on=['content_id'],  how=\"left\")\n",
    "    test_df['answered_correctly_user'].fillna(0.5,  inplace=True)\n",
    "    test_df['answered_correctly_content'].fillna(0.5,  inplace=True)\n",
    "    test_df['part'] = test_df.part - 1\n",
    "    test_df['part'].fillna(4, inplace = True)\n",
    "    test_df['sum'].fillna(0, inplace=True)\n",
    "    test_df['count'].fillna(0, inplace=True)\n",
    "    test_df['prior_question_elapsed_time'].fillna(elapsed_mean, inplace = True)\n",
    "    test_df['prior_question_had_explanation'].fillna(False, inplace=True)\n",
    "    test_df[\"prior_question_had_explanation_enc\"] = lb_make.fit_transform(test_df[\"prior_question_had_explanation\"])\n",
    "    test_df['answered_correctly'] =  model.predict(test_df[['answered_correctly_user', 'answered_correctly_content', 'sum', 'count',\n",
    "                                                            'prior_question_elapsed_time','prior_question_had_explanation_enc', 'part']])\n",
    "    \n",
    "    env.predict(test_df.loc[test_df['content_type_id'] == 0, ['row_id', 'answered_correctly']])"
   ]
  }
 ],
 "metadata": {
  "kernelspec": {
   "display_name": "Python 3",
   "language": "python",
   "name": "python3"
  },
  "language_info": {
   "codemirror_mode": {
    "name": "ipython",
    "version": 3
   },
   "file_extension": ".py",
   "mimetype": "text/x-python",
   "name": "python",
   "nbconvert_exporter": "python",
   "pygments_lexer": "ipython3",
   "version": "3.7.6"
  },
  "papermill": {
   "duration": 972.81844,
   "end_time": "2020-12-10T03:42:41.392985",
   "environment_variables": {},
   "exception": null,
   "input_path": "__notebook__.ipynb",
   "output_path": "__notebook__.ipynb",
   "parameters": {},
   "start_time": "2020-12-10T03:26:28.574545",
   "version": "2.1.0"
  }
 },
 "nbformat": 4,
 "nbformat_minor": 4
}
