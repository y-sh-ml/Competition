{
 "cells": [
  {
   "cell_type": "code",
   "execution_count": 1,
   "metadata": {
    "_cell_guid": "b1076dfc-b9ad-4769-8c92-a6c4dae69d19",
    "_uuid": "8f2839f25d086af736a60e9eeb907d3b93b6e0e5",
    "execution": {
     "iopub.execute_input": "2020-12-10T02:08:30.031761Z",
     "iopub.status.busy": "2020-12-10T02:08:30.030950Z",
     "iopub.status.idle": "2020-12-10T02:08:30.045972Z",
     "shell.execute_reply": "2020-12-10T02:08:30.045101Z"
    },
    "papermill": {
     "duration": 0.052401,
     "end_time": "2020-12-10T02:08:30.046101",
     "exception": false,
     "start_time": "2020-12-10T02:08:29.993700",
     "status": "completed"
    },
    "tags": []
   },
   "outputs": [
    {
     "name": "stdout",
     "output_type": "stream",
     "text": [
      "/kaggle/input/riiid-test-answer-prediction/example_sample_submission.csv\n",
      "/kaggle/input/riiid-test-answer-prediction/example_test.csv\n",
      "/kaggle/input/riiid-test-answer-prediction/questions.csv\n",
      "/kaggle/input/riiid-test-answer-prediction/train.csv\n",
      "/kaggle/input/riiid-test-answer-prediction/lectures.csv\n",
      "/kaggle/input/riiid-test-answer-prediction/riiideducation/competition.cpython-37m-x86_64-linux-gnu.so\n",
      "/kaggle/input/riiid-test-answer-prediction/riiideducation/__init__.py\n"
     ]
    }
   ],
   "source": [
    "# This Python 3 environment comes with many helpful analytics libraries installed\n",
    "# It is defined by the kaggle/python Docker image: https://github.com/kaggle/docker-python\n",
    "# For example, here's several helpful packages to load\n",
    "\n",
    "import numpy as np # linear algebra\n",
    "import pandas as pd # data processing, CSV file I/O (e.g. pd.read_csv)\n",
    "\n",
    "# Input data files are available in the read-only \"../input/\" directory\n",
    "# For example, running this (by clicking run or pressing Shift+Enter) will list all files under the input directory\n",
    "\n",
    "import os\n",
    "for dirname, _, filenames in os.walk('/kaggle/input'):\n",
    "    for filename in filenames:\n",
    "        print(os.path.join(dirname, filename))\n",
    "\n",
    "# You can write up to 20GB to the current directory (/kaggle/working/) that gets preserved as output when you create a version using \"Save & Run All\" \n",
    "# You can also write temporary files to /kaggle/temp/, but they won't be saved outside of the current session"
   ]
  },
  {
   "cell_type": "code",
   "execution_count": 2,
   "metadata": {
    "_cell_guid": "79c7e3d0-c299-4dcb-8224-4455121ee9b0",
    "_uuid": "d629ff2d2480ee46fbb7e2d37f6b5fab8052498a",
    "execution": {
     "iopub.execute_input": "2020-12-10T02:08:30.119215Z",
     "iopub.status.busy": "2020-12-10T02:08:30.118271Z",
     "iopub.status.idle": "2020-12-10T02:08:31.386560Z",
     "shell.execute_reply": "2020-12-10T02:08:31.385922Z"
    },
    "papermill": {
     "duration": 1.307136,
     "end_time": "2020-12-10T02:08:31.386707",
     "exception": false,
     "start_time": "2020-12-10T02:08:30.079571",
     "status": "completed"
    },
    "tags": []
   },
   "outputs": [
    {
     "data": {
      "text/html": [
       "<style type='text/css'>\n",
       ".datatable table.frame { margin-bottom: 0; }\n",
       ".datatable table.frame thead { border-bottom: none; }\n",
       ".datatable table.frame tr.coltypes td {  color: #FFFFFF;  line-height: 6px;  padding: 0 0.5em;}\n",
       ".datatable .bool    { background: #DDDD99; }\n",
       ".datatable .object  { background: #565656; }\n",
       ".datatable .int     { background: #5D9E5D; }\n",
       ".datatable .float   { background: #4040CC; }\n",
       ".datatable .str     { background: #CC4040; }\n",
       ".datatable .row_index {  background: var(--jp-border-color3);  border-right: 1px solid var(--jp-border-color0);  color: var(--jp-ui-font-color3);  font-size: 9px;}\n",
       ".datatable .frame tr.coltypes .row_index {  background: var(--jp-border-color0);}\n",
       ".datatable th:nth-child(2) { padding-left: 12px; }\n",
       ".datatable .hellipsis {  color: var(--jp-cell-editor-border-color);}\n",
       ".datatable .vellipsis {  background: var(--jp-layout-color0);  color: var(--jp-cell-editor-border-color);}\n",
       ".datatable .na {  color: var(--jp-cell-editor-border-color);  font-size: 80%;}\n",
       ".datatable .footer { font-size: 9px; }\n",
       ".datatable .frame_dimensions {  background: var(--jp-border-color3);  border-top: 1px solid var(--jp-border-color0);  color: var(--jp-ui-font-color3);  display: inline-block;  opacity: 0.6;  padding: 1px 10px 1px 5px;}\n",
       ".datatable .frame thead tr.colnames {  background-image: url('data:image/png;base64,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');  background-repeat: repeat-x;  background-size: 14px;  height: 28px;}\n",
       "</style>\n"
      ],
      "text/plain": [
       "<IPython.core.display.HTML object>"
      ]
     },
     "metadata": {},
     "output_type": "display_data"
    }
   ],
   "source": [
    "import matplotlib.pyplot as plt\n",
    "import seaborn as sns\n",
    "import lightgbm as lgb\n",
    "import riiideducation\n",
    "\n",
    "from sklearn.preprocessing import LabelEncoder\n",
    "from sklearn.metrics import roc_auc_score\n",
    "\n",
    "env = riiideducation.make_env()\n",
    "iter_test = env.iter_test()"
   ]
  },
  {
   "cell_type": "markdown",
   "metadata": {
    "papermill": {
     "duration": 0.02191,
     "end_time": "2020-12-10T02:08:31.431608",
     "exception": false,
     "start_time": "2020-12-10T02:08:31.409698",
     "status": "completed"
    },
    "tags": []
   },
   "source": [
    "# Data"
   ]
  },
  {
   "cell_type": "code",
   "execution_count": 3,
   "metadata": {
    "execution": {
     "iopub.execute_input": "2020-12-10T02:08:31.490329Z",
     "iopub.status.busy": "2020-12-10T02:08:31.489463Z",
     "iopub.status.idle": "2020-12-10T02:08:35.056603Z",
     "shell.execute_reply": "2020-12-10T02:08:35.056043Z"
    },
    "papermill": {
     "duration": 3.602841,
     "end_time": "2020-12-10T02:08:35.056738",
     "exception": false,
     "start_time": "2020-12-10T02:08:31.453897",
     "status": "completed"
    },
    "tags": []
   },
   "outputs": [
    {
     "name": "stdout",
     "output_type": "stream",
     "text": [
      "(980093, 7)\n"
     ]
    },
    {
     "data": {
      "text/html": [
       "<div>\n",
       "<style scoped>\n",
       "    .dataframe tbody tr th:only-of-type {\n",
       "        vertical-align: middle;\n",
       "    }\n",
       "\n",
       "    .dataframe tbody tr th {\n",
       "        vertical-align: top;\n",
       "    }\n",
       "\n",
       "    .dataframe thead th {\n",
       "        text-align: right;\n",
       "    }\n",
       "</style>\n",
       "<table border=\"1\" class=\"dataframe\">\n",
       "  <thead>\n",
       "    <tr style=\"text-align: right;\">\n",
       "      <th></th>\n",
       "      <th>timestamp</th>\n",
       "      <th>user_id</th>\n",
       "      <th>content_id</th>\n",
       "      <th>content_type_id</th>\n",
       "      <th>answered_correctly</th>\n",
       "      <th>prior_question_elapsed_time</th>\n",
       "      <th>prior_question_had_explanation</th>\n",
       "    </tr>\n",
       "  </thead>\n",
       "  <tbody>\n",
       "    <tr>\n",
       "      <th>0</th>\n",
       "      <td>0</td>\n",
       "      <td>115</td>\n",
       "      <td>5692</td>\n",
       "      <td>0</td>\n",
       "      <td>1</td>\n",
       "      <td>NaN</td>\n",
       "      <td>&lt;NA&gt;</td>\n",
       "    </tr>\n",
       "    <tr>\n",
       "      <th>1</th>\n",
       "      <td>0</td>\n",
       "      <td>19437777</td>\n",
       "      <td>7900</td>\n",
       "      <td>0</td>\n",
       "      <td>1</td>\n",
       "      <td>NaN</td>\n",
       "      <td>&lt;NA&gt;</td>\n",
       "    </tr>\n",
       "    <tr>\n",
       "      <th>2</th>\n",
       "      <td>0</td>\n",
       "      <td>15244238</td>\n",
       "      <td>4356</td>\n",
       "      <td>0</td>\n",
       "      <td>1</td>\n",
       "      <td>NaN</td>\n",
       "      <td>&lt;NA&gt;</td>\n",
       "    </tr>\n",
       "    <tr>\n",
       "      <th>3</th>\n",
       "      <td>0</td>\n",
       "      <td>15240250</td>\n",
       "      <td>7900</td>\n",
       "      <td>0</td>\n",
       "      <td>0</td>\n",
       "      <td>NaN</td>\n",
       "      <td>&lt;NA&gt;</td>\n",
       "    </tr>\n",
       "    <tr>\n",
       "      <th>4</th>\n",
       "      <td>0</td>\n",
       "      <td>786789</td>\n",
       "      <td>7900</td>\n",
       "      <td>0</td>\n",
       "      <td>1</td>\n",
       "      <td>NaN</td>\n",
       "      <td>&lt;NA&gt;</td>\n",
       "    </tr>\n",
       "  </tbody>\n",
       "</table>\n",
       "</div>"
      ],
      "text/plain": [
       "   timestamp   user_id  content_id  content_type_id  answered_correctly  \\\n",
       "0          0       115        5692                0                   1   \n",
       "1          0  19437777        7900                0                   1   \n",
       "2          0  15244238        4356                0                   1   \n",
       "3          0  15240250        7900                0                   0   \n",
       "4          0    786789        7900                0                   1   \n",
       "\n",
       "   prior_question_elapsed_time  prior_question_had_explanation  \n",
       "0                          NaN                            <NA>  \n",
       "1                          NaN                            <NA>  \n",
       "2                          NaN                            <NA>  \n",
       "3                          NaN                            <NA>  \n",
       "4                          NaN                            <NA>  "
      ]
     },
     "execution_count": 3,
     "metadata": {},
     "output_type": "execute_result"
    }
   ],
   "source": [
    "train = pd.read_csv('/kaggle/input/riiid-test-answer-prediction/train.csv',\n",
    "                   usecols=[1, 2, 3, 4, 7, 8, 9],\n",
    "                   dtype={'timestamp': 'int64',\n",
    "                          'user_id': 'int32',\n",
    "                          'content_id': 'int16',\n",
    "                          'content_type_id': 'int8',\n",
    "                          'answered_correctly':'int8',\n",
    "                          'prior_question_elapsed_time': 'float32',\n",
    "                          'prior_question_had_explanation': 'boolean'},\n",
    "                    nrows=10**6)\n",
    "\n",
    "train = train[train.content_type_id == False]\n",
    "train = train.sort_values(['timestamp'], ascending=True).reset_index(drop = True)\n",
    "\n",
    "print(train.shape)\n",
    "train.head()"
   ]
  },
  {
   "cell_type": "code",
   "execution_count": 4,
   "metadata": {
    "execution": {
     "iopub.execute_input": "2020-12-10T02:08:35.123893Z",
     "iopub.status.busy": "2020-12-10T02:08:35.123128Z",
     "iopub.status.idle": "2020-12-10T02:08:35.182382Z",
     "shell.execute_reply": "2020-12-10T02:08:35.182918Z"
    },
    "papermill": {
     "duration": 0.102377,
     "end_time": "2020-12-10T02:08:35.183051",
     "exception": false,
     "start_time": "2020-12-10T02:08:35.080674",
     "status": "completed"
    },
    "tags": []
   },
   "outputs": [
    {
     "name": "stdout",
     "output_type": "stream",
     "text": [
      "(13076, 1)\n"
     ]
    },
    {
     "data": {
      "text/html": [
       "<div>\n",
       "<style scoped>\n",
       "    .dataframe tbody tr th:only-of-type {\n",
       "        vertical-align: middle;\n",
       "    }\n",
       "\n",
       "    .dataframe tbody tr th {\n",
       "        vertical-align: top;\n",
       "    }\n",
       "\n",
       "    .dataframe thead th {\n",
       "        text-align: right;\n",
       "    }\n",
       "</style>\n",
       "<table border=\"1\" class=\"dataframe\">\n",
       "  <thead>\n",
       "    <tr style=\"text-align: right;\">\n",
       "      <th></th>\n",
       "      <th>answered_correctly_content</th>\n",
       "    </tr>\n",
       "    <tr>\n",
       "      <th>content_id</th>\n",
       "      <th></th>\n",
       "    </tr>\n",
       "  </thead>\n",
       "  <tbody>\n",
       "    <tr>\n",
       "      <th>0</th>\n",
       "      <td>0.863014</td>\n",
       "    </tr>\n",
       "    <tr>\n",
       "      <th>1</th>\n",
       "      <td>0.927273</td>\n",
       "    </tr>\n",
       "    <tr>\n",
       "      <th>2</th>\n",
       "      <td>0.560811</td>\n",
       "    </tr>\n",
       "    <tr>\n",
       "      <th>3</th>\n",
       "      <td>0.798995</td>\n",
       "    </tr>\n",
       "    <tr>\n",
       "      <th>4</th>\n",
       "      <td>0.602606</td>\n",
       "    </tr>\n",
       "  </tbody>\n",
       "</table>\n",
       "</div>"
      ],
      "text/plain": [
       "            answered_correctly_content\n",
       "content_id                            \n",
       "0                             0.863014\n",
       "1                             0.927273\n",
       "2                             0.560811\n",
       "3                             0.798995\n",
       "4                             0.602606"
      ]
     },
     "execution_count": 4,
     "metadata": {},
     "output_type": "execute_result"
    }
   ],
   "source": [
    "results_c_final = train[['content_id','answered_correctly']].groupby(['content_id']).agg(['mean'])\n",
    "results_c_final.columns = [\"answered_correctly_content\"]\n",
    "\n",
    "print(results_c_final.shape)\n",
    "results_c_final.head()"
   ]
  },
  {
   "cell_type": "code",
   "execution_count": 5,
   "metadata": {
    "execution": {
     "iopub.execute_input": "2020-12-10T02:08:35.249607Z",
     "iopub.status.busy": "2020-12-10T02:08:35.248920Z",
     "iopub.status.idle": "2020-12-10T02:08:35.312643Z",
     "shell.execute_reply": "2020-12-10T02:08:35.311974Z"
    },
    "papermill": {
     "duration": 0.105445,
     "end_time": "2020-12-10T02:08:35.312756",
     "exception": false,
     "start_time": "2020-12-10T02:08:35.207311",
     "status": "completed"
    },
    "tags": []
   },
   "outputs": [
    {
     "name": "stdout",
     "output_type": "stream",
     "text": [
      "(3824, 3)\n"
     ]
    },
    {
     "data": {
      "text/html": [
       "<div>\n",
       "<style scoped>\n",
       "    .dataframe tbody tr th:only-of-type {\n",
       "        vertical-align: middle;\n",
       "    }\n",
       "\n",
       "    .dataframe tbody tr th {\n",
       "        vertical-align: top;\n",
       "    }\n",
       "\n",
       "    .dataframe thead th {\n",
       "        text-align: right;\n",
       "    }\n",
       "</style>\n",
       "<table border=\"1\" class=\"dataframe\">\n",
       "  <thead>\n",
       "    <tr style=\"text-align: right;\">\n",
       "      <th></th>\n",
       "      <th>answered_correctly_user</th>\n",
       "      <th>sum</th>\n",
       "      <th>count</th>\n",
       "    </tr>\n",
       "    <tr>\n",
       "      <th>user_id</th>\n",
       "      <th></th>\n",
       "      <th></th>\n",
       "      <th></th>\n",
       "    </tr>\n",
       "  </thead>\n",
       "  <tbody>\n",
       "    <tr>\n",
       "      <th>115</th>\n",
       "      <td>0.695652</td>\n",
       "      <td>32.0</td>\n",
       "      <td>46</td>\n",
       "    </tr>\n",
       "    <tr>\n",
       "      <th>124</th>\n",
       "      <td>0.233333</td>\n",
       "      <td>7.0</td>\n",
       "      <td>30</td>\n",
       "    </tr>\n",
       "    <tr>\n",
       "      <th>2746</th>\n",
       "      <td>0.578947</td>\n",
       "      <td>11.0</td>\n",
       "      <td>19</td>\n",
       "    </tr>\n",
       "    <tr>\n",
       "      <th>5382</th>\n",
       "      <td>0.672000</td>\n",
       "      <td>84.0</td>\n",
       "      <td>125</td>\n",
       "    </tr>\n",
       "    <tr>\n",
       "      <th>8623</th>\n",
       "      <td>0.642202</td>\n",
       "      <td>70.0</td>\n",
       "      <td>109</td>\n",
       "    </tr>\n",
       "  </tbody>\n",
       "</table>\n",
       "</div>"
      ],
      "text/plain": [
       "         answered_correctly_user   sum  count\n",
       "user_id                                      \n",
       "115                     0.695652  32.0     46\n",
       "124                     0.233333   7.0     30\n",
       "2746                    0.578947  11.0     19\n",
       "5382                    0.672000  84.0    125\n",
       "8623                    0.642202  70.0    109"
      ]
     },
     "execution_count": 5,
     "metadata": {},
     "output_type": "execute_result"
    }
   ],
   "source": [
    "results_u_final = train[['user_id','answered_correctly']].groupby(['user_id']).agg(['mean', 'sum', 'count'])\n",
    "results_u_final.columns = ['answered_correctly_user', 'sum', 'count']\n",
    "\n",
    "print(results_u_final.shape)\n",
    "results_u_final.head()"
   ]
  },
  {
   "cell_type": "code",
   "execution_count": 6,
   "metadata": {
    "execution": {
     "iopub.execute_input": "2020-12-10T02:08:35.368802Z",
     "iopub.status.busy": "2020-12-10T02:08:35.368119Z",
     "iopub.status.idle": "2020-12-10T02:08:35.374099Z",
     "shell.execute_reply": "2020-12-10T02:08:35.373466Z"
    },
    "papermill": {
     "duration": 0.035714,
     "end_time": "2020-12-10T02:08:35.374199",
     "exception": false,
     "start_time": "2020-12-10T02:08:35.338485",
     "status": "completed"
    },
    "tags": []
   },
   "outputs": [
    {
     "name": "stdout",
     "output_type": "stream",
     "text": [
      "25321.21875\n"
     ]
    }
   ],
   "source": [
    "elapsed_mean = train.prior_question_elapsed_time.mean()\n",
    "\n",
    "print(elapsed_mean)"
   ]
  },
  {
   "cell_type": "code",
   "execution_count": 7,
   "metadata": {
    "execution": {
     "iopub.execute_input": "2020-12-10T02:08:35.432705Z",
     "iopub.status.busy": "2020-12-10T02:08:35.432086Z",
     "iopub.status.idle": "2020-12-10T02:08:35.624932Z",
     "shell.execute_reply": "2020-12-10T02:08:35.624231Z"
    },
    "papermill": {
     "duration": 0.224974,
     "end_time": "2020-12-10T02:08:35.625061",
     "exception": false,
     "start_time": "2020-12-10T02:08:35.400087",
     "status": "completed"
    },
    "tags": []
   },
   "outputs": [
    {
     "name": "stdout",
     "output_type": "stream",
     "text": [
      "0.6794905120873408\n",
      "0.650242869112908\n",
      "0.4720422649528504\n",
      "True     889887\n",
      "False     86390\n",
      "Name: prior_question_had_explanation, dtype: Int64\n",
      "0.6503576701394663\n"
     ]
    }
   ],
   "source": [
    "print(train.loc[(train.timestamp == 0)].answered_correctly.mean())\n",
    "print(train.loc[(train.timestamp != 0)].answered_correctly.mean())\n",
    "print(train.loc[(train.timestamp < 1000000) & (train.timestamp > 0)].answered_correctly.mean())\n",
    "print(train.prior_question_had_explanation.value_counts())\n",
    "print(train.answered_correctly.mean())"
   ]
  },
  {
   "cell_type": "code",
   "execution_count": 8,
   "metadata": {
    "execution": {
     "iopub.execute_input": "2020-12-10T02:08:35.709010Z",
     "iopub.status.busy": "2020-12-10T02:08:35.708088Z",
     "iopub.status.idle": "2020-12-10T02:08:35.713870Z",
     "shell.execute_reply": "2020-12-10T02:08:35.714377Z"
    },
    "papermill": {
     "duration": 0.058105,
     "end_time": "2020-12-10T02:08:35.714506",
     "exception": false,
     "start_time": "2020-12-10T02:08:35.656401",
     "status": "completed"
    },
    "tags": []
   },
   "outputs": [
    {
     "name": "stdout",
     "output_type": "stream",
     "text": [
      "(980093, 5)\n"
     ]
    },
    {
     "data": {
      "text/html": [
       "<div>\n",
       "<style scoped>\n",
       "    .dataframe tbody tr th:only-of-type {\n",
       "        vertical-align: middle;\n",
       "    }\n",
       "\n",
       "    .dataframe tbody tr th {\n",
       "        vertical-align: top;\n",
       "    }\n",
       "\n",
       "    .dataframe thead th {\n",
       "        text-align: right;\n",
       "    }\n",
       "</style>\n",
       "<table border=\"1\" class=\"dataframe\">\n",
       "  <thead>\n",
       "    <tr style=\"text-align: right;\">\n",
       "      <th></th>\n",
       "      <th>user_id</th>\n",
       "      <th>content_id</th>\n",
       "      <th>answered_correctly</th>\n",
       "      <th>prior_question_elapsed_time</th>\n",
       "      <th>prior_question_had_explanation</th>\n",
       "    </tr>\n",
       "  </thead>\n",
       "  <tbody>\n",
       "    <tr>\n",
       "      <th>0</th>\n",
       "      <td>115</td>\n",
       "      <td>5692</td>\n",
       "      <td>1</td>\n",
       "      <td>NaN</td>\n",
       "      <td>&lt;NA&gt;</td>\n",
       "    </tr>\n",
       "    <tr>\n",
       "      <th>1</th>\n",
       "      <td>19437777</td>\n",
       "      <td>7900</td>\n",
       "      <td>1</td>\n",
       "      <td>NaN</td>\n",
       "      <td>&lt;NA&gt;</td>\n",
       "    </tr>\n",
       "    <tr>\n",
       "      <th>2</th>\n",
       "      <td>15244238</td>\n",
       "      <td>4356</td>\n",
       "      <td>1</td>\n",
       "      <td>NaN</td>\n",
       "      <td>&lt;NA&gt;</td>\n",
       "    </tr>\n",
       "    <tr>\n",
       "      <th>3</th>\n",
       "      <td>15240250</td>\n",
       "      <td>7900</td>\n",
       "      <td>0</td>\n",
       "      <td>NaN</td>\n",
       "      <td>&lt;NA&gt;</td>\n",
       "    </tr>\n",
       "    <tr>\n",
       "      <th>4</th>\n",
       "      <td>786789</td>\n",
       "      <td>7900</td>\n",
       "      <td>1</td>\n",
       "      <td>NaN</td>\n",
       "      <td>&lt;NA&gt;</td>\n",
       "    </tr>\n",
       "  </tbody>\n",
       "</table>\n",
       "</div>"
      ],
      "text/plain": [
       "    user_id  content_id  answered_correctly  prior_question_elapsed_time  \\\n",
       "0       115        5692                   1                          NaN   \n",
       "1  19437777        7900                   1                          NaN   \n",
       "2  15244238        4356                   1                          NaN   \n",
       "3  15240250        7900                   0                          NaN   \n",
       "4    786789        7900                   1                          NaN   \n",
       "\n",
       "   prior_question_had_explanation  \n",
       "0                            <NA>  \n",
       "1                            <NA>  \n",
       "2                            <NA>  \n",
       "3                            <NA>  \n",
       "4                            <NA>  "
      ]
     },
     "execution_count": 8,
     "metadata": {},
     "output_type": "execute_result"
    }
   ],
   "source": [
    "train.drop(['timestamp', 'content_type_id'], axis=1, inplace=True)\n",
    "\n",
    "print(train.shape)\n",
    "train.head()"
   ]
  },
  {
   "cell_type": "code",
   "execution_count": 9,
   "metadata": {
    "execution": {
     "iopub.execute_input": "2020-12-10T02:08:35.779863Z",
     "iopub.status.busy": "2020-12-10T02:08:35.778079Z",
     "iopub.status.idle": "2020-12-10T02:08:36.352178Z",
     "shell.execute_reply": "2020-12-10T02:08:36.351479Z"
    },
    "papermill": {
     "duration": 0.610121,
     "end_time": "2020-12-10T02:08:36.352289",
     "exception": false,
     "start_time": "2020-12-10T02:08:35.742168",
     "status": "completed"
    },
    "tags": []
   },
   "outputs": [
    {
     "name": "stdout",
     "output_type": "stream",
     "text": [
      "964808\n",
      "15285\n",
      "0.5362119725220804\n",
      "0.652166026815698\n"
     ]
    }
   ],
   "source": [
    "validation = pd.DataFrame()\n",
    "\n",
    "for i in range(4):\n",
    "    last_records = train.drop_duplicates('user_id', keep = 'last')\n",
    "    train = train[~train.index.isin(last_records.index)]\n",
    "    validation = validation.append(last_records)\n",
    "    \n",
    "print(len(train))\n",
    "print(len(validation))\n",
    "\n",
    "print(validation.answered_correctly.mean())\n",
    "print(train.answered_correctly.mean())"
   ]
  },
  {
   "cell_type": "code",
   "execution_count": 10,
   "metadata": {
    "execution": {
     "iopub.execute_input": "2020-12-10T02:08:36.418431Z",
     "iopub.status.busy": "2020-12-10T02:08:36.417665Z",
     "iopub.status.idle": "2020-12-10T02:08:37.561856Z",
     "shell.execute_reply": "2020-12-10T02:08:37.561271Z"
    },
    "papermill": {
     "duration": 1.181115,
     "end_time": "2020-12-10T02:08:37.561971",
     "exception": false,
     "start_time": "2020-12-10T02:08:36.380856",
     "status": "completed"
    },
    "tags": []
   },
   "outputs": [
    {
     "name": "stdout",
     "output_type": "stream",
     "text": [
      "55271\n",
      "909537\n",
      "0.5550469504803605\n",
      "0.6580677861373424\n"
     ]
    }
   ],
   "source": [
    "X = pd.DataFrame()\n",
    "\n",
    "for i in range(15):\n",
    "    last_records = train.drop_duplicates('user_id', keep = 'last')\n",
    "    train = train[~train.index.isin(last_records.index)]\n",
    "    X = X.append(last_records)\n",
    "    \n",
    "print(len(X))\n",
    "print(len(train))\n",
    "\n",
    "print(X.answered_correctly.mean())\n",
    "print(train.answered_correctly.mean())"
   ]
  },
  {
   "cell_type": "code",
   "execution_count": 11,
   "metadata": {
    "execution": {
     "iopub.execute_input": "2020-12-10T02:08:37.640902Z",
     "iopub.status.busy": "2020-12-10T02:08:37.640271Z",
     "iopub.status.idle": "2020-12-10T02:08:37.741261Z",
     "shell.execute_reply": "2020-12-10T02:08:37.741803Z"
    },
    "papermill": {
     "duration": 0.150737,
     "end_time": "2020-12-10T02:08:37.741947",
     "exception": false,
     "start_time": "2020-12-10T02:08:37.591210",
     "status": "completed"
    },
    "tags": []
   },
   "outputs": [
    {
     "name": "stdout",
     "output_type": "stream",
     "text": [
      "(13061, 1)\n"
     ]
    },
    {
     "data": {
      "text/html": [
       "<div>\n",
       "<style scoped>\n",
       "    .dataframe tbody tr th:only-of-type {\n",
       "        vertical-align: middle;\n",
       "    }\n",
       "\n",
       "    .dataframe tbody tr th {\n",
       "        vertical-align: top;\n",
       "    }\n",
       "\n",
       "    .dataframe thead th {\n",
       "        text-align: right;\n",
       "    }\n",
       "</style>\n",
       "<table border=\"1\" class=\"dataframe\">\n",
       "  <thead>\n",
       "    <tr style=\"text-align: right;\">\n",
       "      <th></th>\n",
       "      <th>answered_correctly_content</th>\n",
       "    </tr>\n",
       "    <tr>\n",
       "      <th>content_id</th>\n",
       "      <th></th>\n",
       "    </tr>\n",
       "  </thead>\n",
       "  <tbody>\n",
       "    <tr>\n",
       "      <th>0</th>\n",
       "      <td>0.897059</td>\n",
       "    </tr>\n",
       "    <tr>\n",
       "      <th>1</th>\n",
       "      <td>0.924528</td>\n",
       "    </tr>\n",
       "    <tr>\n",
       "      <th>2</th>\n",
       "      <td>0.558252</td>\n",
       "    </tr>\n",
       "    <tr>\n",
       "      <th>3</th>\n",
       "      <td>0.795812</td>\n",
       "    </tr>\n",
       "    <tr>\n",
       "      <th>4</th>\n",
       "      <td>0.609665</td>\n",
       "    </tr>\n",
       "  </tbody>\n",
       "</table>\n",
       "</div>"
      ],
      "text/plain": [
       "            answered_correctly_content\n",
       "content_id                            \n",
       "0                             0.897059\n",
       "1                             0.924528\n",
       "2                             0.558252\n",
       "3                             0.795812\n",
       "4                             0.609665"
      ]
     },
     "execution_count": 11,
     "metadata": {},
     "output_type": "execute_result"
    }
   ],
   "source": [
    "results_c = train[['content_id','answered_correctly']].groupby(['content_id']).agg(['mean'])\n",
    "results_c.columns = [\"answered_correctly_content\"]\n",
    "\n",
    "print(results_c.shape)\n",
    "results_c.head()"
   ]
  },
  {
   "cell_type": "code",
   "execution_count": 12,
   "metadata": {
    "execution": {
     "iopub.execute_input": "2020-12-10T02:08:37.824410Z",
     "iopub.status.busy": "2020-12-10T02:08:37.823709Z",
     "iopub.status.idle": "2020-12-10T02:08:37.887738Z",
     "shell.execute_reply": "2020-12-10T02:08:37.887168Z"
    },
    "papermill": {
     "duration": 0.115651,
     "end_time": "2020-12-10T02:08:37.887843",
     "exception": false,
     "start_time": "2020-12-10T02:08:37.772192",
     "status": "completed"
    },
    "tags": []
   },
   "outputs": [
    {
     "name": "stdout",
     "output_type": "stream",
     "text": [
      "(3276, 3)\n"
     ]
    },
    {
     "data": {
      "text/html": [
       "<div>\n",
       "<style scoped>\n",
       "    .dataframe tbody tr th:only-of-type {\n",
       "        vertical-align: middle;\n",
       "    }\n",
       "\n",
       "    .dataframe tbody tr th {\n",
       "        vertical-align: top;\n",
       "    }\n",
       "\n",
       "    .dataframe thead th {\n",
       "        text-align: right;\n",
       "    }\n",
       "</style>\n",
       "<table border=\"1\" class=\"dataframe\">\n",
       "  <thead>\n",
       "    <tr style=\"text-align: right;\">\n",
       "      <th></th>\n",
       "      <th>answered_correctly_user</th>\n",
       "      <th>sum</th>\n",
       "      <th>count</th>\n",
       "    </tr>\n",
       "    <tr>\n",
       "      <th>user_id</th>\n",
       "      <th></th>\n",
       "      <th></th>\n",
       "      <th></th>\n",
       "    </tr>\n",
       "  </thead>\n",
       "  <tbody>\n",
       "    <tr>\n",
       "      <th>115</th>\n",
       "      <td>0.703704</td>\n",
       "      <td>19.0</td>\n",
       "      <td>27</td>\n",
       "    </tr>\n",
       "    <tr>\n",
       "      <th>124</th>\n",
       "      <td>0.363636</td>\n",
       "      <td>4.0</td>\n",
       "      <td>11</td>\n",
       "    </tr>\n",
       "    <tr>\n",
       "      <th>5382</th>\n",
       "      <td>0.669811</td>\n",
       "      <td>71.0</td>\n",
       "      <td>106</td>\n",
       "    </tr>\n",
       "    <tr>\n",
       "      <th>8623</th>\n",
       "      <td>0.611111</td>\n",
       "      <td>55.0</td>\n",
       "      <td>90</td>\n",
       "    </tr>\n",
       "    <tr>\n",
       "      <th>12741</th>\n",
       "      <td>0.556911</td>\n",
       "      <td>137.0</td>\n",
       "      <td>246</td>\n",
       "    </tr>\n",
       "  </tbody>\n",
       "</table>\n",
       "</div>"
      ],
      "text/plain": [
       "         answered_correctly_user    sum  count\n",
       "user_id                                       \n",
       "115                     0.703704   19.0     27\n",
       "124                     0.363636    4.0     11\n",
       "5382                    0.669811   71.0    106\n",
       "8623                    0.611111   55.0     90\n",
       "12741                   0.556911  137.0    246"
      ]
     },
     "execution_count": 12,
     "metadata": {},
     "output_type": "execute_result"
    }
   ],
   "source": [
    "results_u = train[['user_id','answered_correctly']].groupby(['user_id']).agg(['mean', 'sum', 'count'])\n",
    "results_u.columns = [\"answered_correctly_user\", 'sum', 'count']\n",
    "\n",
    "print(results_u.shape)\n",
    "results_u.head()"
   ]
  },
  {
   "cell_type": "code",
   "execution_count": 13,
   "metadata": {
    "execution": {
     "iopub.execute_input": "2020-12-10T02:08:37.957064Z",
     "iopub.status.busy": "2020-12-10T02:08:37.956260Z",
     "iopub.status.idle": "2020-12-10T02:08:37.959648Z",
     "shell.execute_reply": "2020-12-10T02:08:37.959116Z"
    },
    "papermill": {
     "duration": 0.041003,
     "end_time": "2020-12-10T02:08:37.959762",
     "exception": false,
     "start_time": "2020-12-10T02:08:37.918759",
     "status": "completed"
    },
    "tags": []
   },
   "outputs": [],
   "source": [
    "del(train)"
   ]
  },
  {
   "cell_type": "markdown",
   "metadata": {
    "papermill": {
     "duration": 0.030663,
     "end_time": "2020-12-10T02:08:38.021556",
     "exception": false,
     "start_time": "2020-12-10T02:08:37.990893",
     "status": "completed"
    },
    "tags": []
   },
   "source": [
    "# Dataset (X, validation)"
   ]
  },
  {
   "cell_type": "code",
   "execution_count": 14,
   "metadata": {
    "execution": {
     "iopub.execute_input": "2020-12-10T02:08:38.093082Z",
     "iopub.status.busy": "2020-12-10T02:08:38.092179Z",
     "iopub.status.idle": "2020-12-10T02:08:38.150703Z",
     "shell.execute_reply": "2020-12-10T02:08:38.151355Z"
    },
    "papermill": {
     "duration": 0.098572,
     "end_time": "2020-12-10T02:08:38.151528",
     "exception": false,
     "start_time": "2020-12-10T02:08:38.052956",
     "status": "completed"
    },
    "tags": []
   },
   "outputs": [
    {
     "name": "stdout",
     "output_type": "stream",
     "text": [
      "(55271, 9)\n"
     ]
    },
    {
     "data": {
      "text/html": [
       "<div>\n",
       "<style scoped>\n",
       "    .dataframe tbody tr th:only-of-type {\n",
       "        vertical-align: middle;\n",
       "    }\n",
       "\n",
       "    .dataframe tbody tr th {\n",
       "        vertical-align: top;\n",
       "    }\n",
       "\n",
       "    .dataframe thead th {\n",
       "        text-align: right;\n",
       "    }\n",
       "</style>\n",
       "<table border=\"1\" class=\"dataframe\">\n",
       "  <thead>\n",
       "    <tr style=\"text-align: right;\">\n",
       "      <th></th>\n",
       "      <th>user_id</th>\n",
       "      <th>content_id</th>\n",
       "      <th>answered_correctly</th>\n",
       "      <th>prior_question_elapsed_time</th>\n",
       "      <th>prior_question_had_explanation</th>\n",
       "      <th>answered_correctly_user</th>\n",
       "      <th>sum</th>\n",
       "      <th>count</th>\n",
       "      <th>answered_correctly_content</th>\n",
       "    </tr>\n",
       "  </thead>\n",
       "  <tbody>\n",
       "    <tr>\n",
       "      <th>0</th>\n",
       "      <td>8343734</td>\n",
       "      <td>4439</td>\n",
       "      <td>1</td>\n",
       "      <td>17000.0</td>\n",
       "      <td>False</td>\n",
       "      <td>NaN</td>\n",
       "      <td>NaN</td>\n",
       "      <td>NaN</td>\n",
       "      <td>0.203252</td>\n",
       "    </tr>\n",
       "    <tr>\n",
       "      <th>1</th>\n",
       "      <td>11814782</td>\n",
       "      <td>9117</td>\n",
       "      <td>0</td>\n",
       "      <td>1000.0</td>\n",
       "      <td>False</td>\n",
       "      <td>NaN</td>\n",
       "      <td>NaN</td>\n",
       "      <td>NaN</td>\n",
       "      <td>0.720000</td>\n",
       "    </tr>\n",
       "    <tr>\n",
       "      <th>2</th>\n",
       "      <td>3258925</td>\n",
       "      <td>8894</td>\n",
       "      <td>1</td>\n",
       "      <td>1000.0</td>\n",
       "      <td>False</td>\n",
       "      <td>NaN</td>\n",
       "      <td>NaN</td>\n",
       "      <td>NaN</td>\n",
       "      <td>0.355556</td>\n",
       "    </tr>\n",
       "    <tr>\n",
       "      <th>3</th>\n",
       "      <td>1360462</td>\n",
       "      <td>88</td>\n",
       "      <td>0</td>\n",
       "      <td>9000.0</td>\n",
       "      <td>False</td>\n",
       "      <td>NaN</td>\n",
       "      <td>NaN</td>\n",
       "      <td>NaN</td>\n",
       "      <td>0.607143</td>\n",
       "    </tr>\n",
       "    <tr>\n",
       "      <th>4</th>\n",
       "      <td>15786147</td>\n",
       "      <td>6477</td>\n",
       "      <td>0</td>\n",
       "      <td>19000.0</td>\n",
       "      <td>False</td>\n",
       "      <td>NaN</td>\n",
       "      <td>NaN</td>\n",
       "      <td>NaN</td>\n",
       "      <td>0.293233</td>\n",
       "    </tr>\n",
       "  </tbody>\n",
       "</table>\n",
       "</div>"
      ],
      "text/plain": [
       "    user_id  content_id  answered_correctly  prior_question_elapsed_time  \\\n",
       "0   8343734        4439                   1                      17000.0   \n",
       "1  11814782        9117                   0                       1000.0   \n",
       "2   3258925        8894                   1                       1000.0   \n",
       "3   1360462          88                   0                       9000.0   \n",
       "4  15786147        6477                   0                      19000.0   \n",
       "\n",
       "   prior_question_had_explanation  answered_correctly_user  sum  count  \\\n",
       "0                           False                      NaN  NaN    NaN   \n",
       "1                           False                      NaN  NaN    NaN   \n",
       "2                           False                      NaN  NaN    NaN   \n",
       "3                           False                      NaN  NaN    NaN   \n",
       "4                           False                      NaN  NaN    NaN   \n",
       "\n",
       "   answered_correctly_content  \n",
       "0                    0.203252  \n",
       "1                    0.720000  \n",
       "2                    0.355556  \n",
       "3                    0.607143  \n",
       "4                    0.293233  "
      ]
     },
     "execution_count": 14,
     "metadata": {},
     "output_type": "execute_result"
    }
   ],
   "source": [
    "X = pd.merge(X, results_u, on=['user_id'], how=\"left\")\n",
    "X = pd.merge(X, results_c_final, on=['content_id'], how=\"left\")\n",
    "\n",
    "print(X.shape)\n",
    "X.head()"
   ]
  },
  {
   "cell_type": "code",
   "execution_count": 15,
   "metadata": {
    "execution": {
     "iopub.execute_input": "2020-12-10T02:08:38.224102Z",
     "iopub.status.busy": "2020-12-10T02:08:38.223221Z",
     "iopub.status.idle": "2020-12-10T02:08:38.262902Z",
     "shell.execute_reply": "2020-12-10T02:08:38.262347Z"
    },
    "papermill": {
     "duration": 0.079192,
     "end_time": "2020-12-10T02:08:38.263018",
     "exception": false,
     "start_time": "2020-12-10T02:08:38.183826",
     "status": "completed"
    },
    "tags": []
   },
   "outputs": [
    {
     "name": "stdout",
     "output_type": "stream",
     "text": [
      "(15285, 9)\n"
     ]
    },
    {
     "data": {
      "text/html": [
       "<div>\n",
       "<style scoped>\n",
       "    .dataframe tbody tr th:only-of-type {\n",
       "        vertical-align: middle;\n",
       "    }\n",
       "\n",
       "    .dataframe tbody tr th {\n",
       "        vertical-align: top;\n",
       "    }\n",
       "\n",
       "    .dataframe thead th {\n",
       "        text-align: right;\n",
       "    }\n",
       "</style>\n",
       "<table border=\"1\" class=\"dataframe\">\n",
       "  <thead>\n",
       "    <tr style=\"text-align: right;\">\n",
       "      <th></th>\n",
       "      <th>user_id</th>\n",
       "      <th>content_id</th>\n",
       "      <th>answered_correctly</th>\n",
       "      <th>prior_question_elapsed_time</th>\n",
       "      <th>prior_question_had_explanation</th>\n",
       "      <th>answered_correctly_user</th>\n",
       "      <th>sum</th>\n",
       "      <th>count</th>\n",
       "      <th>answered_correctly_content</th>\n",
       "    </tr>\n",
       "  </thead>\n",
       "  <tbody>\n",
       "    <tr>\n",
       "      <th>0</th>\n",
       "      <td>19887248</td>\n",
       "      <td>6368</td>\n",
       "      <td>0</td>\n",
       "      <td>NaN</td>\n",
       "      <td>&lt;NA&gt;</td>\n",
       "      <td>NaN</td>\n",
       "      <td>NaN</td>\n",
       "      <td>NaN</td>\n",
       "      <td>0.744186</td>\n",
       "    </tr>\n",
       "    <tr>\n",
       "      <th>1</th>\n",
       "      <td>1880240</td>\n",
       "      <td>192</td>\n",
       "      <td>1</td>\n",
       "      <td>NaN</td>\n",
       "      <td>&lt;NA&gt;</td>\n",
       "      <td>NaN</td>\n",
       "      <td>NaN</td>\n",
       "      <td>NaN</td>\n",
       "      <td>0.969697</td>\n",
       "    </tr>\n",
       "    <tr>\n",
       "      <th>2</th>\n",
       "      <td>2148001</td>\n",
       "      <td>9320</td>\n",
       "      <td>0</td>\n",
       "      <td>21000.0</td>\n",
       "      <td>False</td>\n",
       "      <td>NaN</td>\n",
       "      <td>NaN</td>\n",
       "      <td>NaN</td>\n",
       "      <td>0.758621</td>\n",
       "    </tr>\n",
       "    <tr>\n",
       "      <th>3</th>\n",
       "      <td>15960740</td>\n",
       "      <td>7924</td>\n",
       "      <td>0</td>\n",
       "      <td>77000.0</td>\n",
       "      <td>False</td>\n",
       "      <td>NaN</td>\n",
       "      <td>NaN</td>\n",
       "      <td>NaN</td>\n",
       "      <td>0.748571</td>\n",
       "    </tr>\n",
       "    <tr>\n",
       "      <th>4</th>\n",
       "      <td>1946295</td>\n",
       "      <td>175</td>\n",
       "      <td>1</td>\n",
       "      <td>20000.0</td>\n",
       "      <td>False</td>\n",
       "      <td>NaN</td>\n",
       "      <td>NaN</td>\n",
       "      <td>NaN</td>\n",
       "      <td>0.359084</td>\n",
       "    </tr>\n",
       "  </tbody>\n",
       "</table>\n",
       "</div>"
      ],
      "text/plain": [
       "    user_id  content_id  answered_correctly  prior_question_elapsed_time  \\\n",
       "0  19887248        6368                   0                          NaN   \n",
       "1   1880240         192                   1                          NaN   \n",
       "2   2148001        9320                   0                      21000.0   \n",
       "3  15960740        7924                   0                      77000.0   \n",
       "4   1946295         175                   1                      20000.0   \n",
       "\n",
       "   prior_question_had_explanation  answered_correctly_user  sum  count  \\\n",
       "0                            <NA>                      NaN  NaN    NaN   \n",
       "1                            <NA>                      NaN  NaN    NaN   \n",
       "2                           False                      NaN  NaN    NaN   \n",
       "3                           False                      NaN  NaN    NaN   \n",
       "4                           False                      NaN  NaN    NaN   \n",
       "\n",
       "   answered_correctly_content  \n",
       "0                    0.744186  \n",
       "1                    0.969697  \n",
       "2                    0.758621  \n",
       "3                    0.748571  \n",
       "4                    0.359084  "
      ]
     },
     "execution_count": 15,
     "metadata": {},
     "output_type": "execute_result"
    }
   ],
   "source": [
    "validation = pd.merge(validation, results_u, on=['user_id'], how=\"left\")\n",
    "validation = pd.merge(validation, results_c_final, on=['content_id'], how=\"left\")\n",
    "\n",
    "print(validation.shape)\n",
    "validation.head()"
   ]
  },
  {
   "cell_type": "code",
   "execution_count": 16,
   "metadata": {
    "execution": {
     "iopub.execute_input": "2020-12-10T02:08:38.334311Z",
     "iopub.status.busy": "2020-12-10T02:08:38.333698Z",
     "iopub.status.idle": "2020-12-10T02:08:38.355771Z",
     "shell.execute_reply": "2020-12-10T02:08:38.356292Z"
    },
    "papermill": {
     "duration": 0.060772,
     "end_time": "2020-12-10T02:08:38.356423",
     "exception": false,
     "start_time": "2020-12-10T02:08:38.295651",
     "status": "completed"
    },
    "tags": []
   },
   "outputs": [],
   "source": [
    "lb_make = LabelEncoder()\n",
    "\n",
    "X.prior_question_had_explanation.fillna(False, inplace = True)\n",
    "validation.prior_question_had_explanation.fillna(False, inplace = True)\n",
    "\n",
    "X[\"prior_question_had_explanation_enc\"] = lb_make.fit_transform(X[\"prior_question_had_explanation\"])\n",
    "validation[\"prior_question_had_explanation_enc\"] = lb_make.fit_transform(validation[\"prior_question_had_explanation\"])"
   ]
  },
  {
   "cell_type": "code",
   "execution_count": 17,
   "metadata": {
    "execution": {
     "iopub.execute_input": "2020-12-10T02:08:38.437111Z",
     "iopub.status.busy": "2020-12-10T02:08:38.436380Z",
     "iopub.status.idle": "2020-12-10T02:08:38.440965Z",
     "shell.execute_reply": "2020-12-10T02:08:38.441431Z"
    },
    "papermill": {
     "duration": 0.051895,
     "end_time": "2020-12-10T02:08:38.441563",
     "exception": false,
     "start_time": "2020-12-10T02:08:38.389668",
     "status": "completed"
    },
    "tags": []
   },
   "outputs": [
    {
     "name": "stdout",
     "output_type": "stream",
     "text": [
      "(55271, 10)\n"
     ]
    },
    {
     "data": {
      "text/html": [
       "<div>\n",
       "<style scoped>\n",
       "    .dataframe tbody tr th:only-of-type {\n",
       "        vertical-align: middle;\n",
       "    }\n",
       "\n",
       "    .dataframe tbody tr th {\n",
       "        vertical-align: top;\n",
       "    }\n",
       "\n",
       "    .dataframe thead th {\n",
       "        text-align: right;\n",
       "    }\n",
       "</style>\n",
       "<table border=\"1\" class=\"dataframe\">\n",
       "  <thead>\n",
       "    <tr style=\"text-align: right;\">\n",
       "      <th></th>\n",
       "      <th>user_id</th>\n",
       "      <th>content_id</th>\n",
       "      <th>answered_correctly</th>\n",
       "      <th>prior_question_elapsed_time</th>\n",
       "      <th>prior_question_had_explanation</th>\n",
       "      <th>answered_correctly_user</th>\n",
       "      <th>sum</th>\n",
       "      <th>count</th>\n",
       "      <th>answered_correctly_content</th>\n",
       "      <th>prior_question_had_explanation_enc</th>\n",
       "    </tr>\n",
       "  </thead>\n",
       "  <tbody>\n",
       "    <tr>\n",
       "      <th>0</th>\n",
       "      <td>8343734</td>\n",
       "      <td>4439</td>\n",
       "      <td>1</td>\n",
       "      <td>17000.0</td>\n",
       "      <td>False</td>\n",
       "      <td>NaN</td>\n",
       "      <td>NaN</td>\n",
       "      <td>NaN</td>\n",
       "      <td>0.203252</td>\n",
       "      <td>0</td>\n",
       "    </tr>\n",
       "    <tr>\n",
       "      <th>1</th>\n",
       "      <td>11814782</td>\n",
       "      <td>9117</td>\n",
       "      <td>0</td>\n",
       "      <td>1000.0</td>\n",
       "      <td>False</td>\n",
       "      <td>NaN</td>\n",
       "      <td>NaN</td>\n",
       "      <td>NaN</td>\n",
       "      <td>0.720000</td>\n",
       "      <td>0</td>\n",
       "    </tr>\n",
       "    <tr>\n",
       "      <th>2</th>\n",
       "      <td>3258925</td>\n",
       "      <td>8894</td>\n",
       "      <td>1</td>\n",
       "      <td>1000.0</td>\n",
       "      <td>False</td>\n",
       "      <td>NaN</td>\n",
       "      <td>NaN</td>\n",
       "      <td>NaN</td>\n",
       "      <td>0.355556</td>\n",
       "      <td>0</td>\n",
       "    </tr>\n",
       "    <tr>\n",
       "      <th>3</th>\n",
       "      <td>1360462</td>\n",
       "      <td>88</td>\n",
       "      <td>0</td>\n",
       "      <td>9000.0</td>\n",
       "      <td>False</td>\n",
       "      <td>NaN</td>\n",
       "      <td>NaN</td>\n",
       "      <td>NaN</td>\n",
       "      <td>0.607143</td>\n",
       "      <td>0</td>\n",
       "    </tr>\n",
       "    <tr>\n",
       "      <th>4</th>\n",
       "      <td>15786147</td>\n",
       "      <td>6477</td>\n",
       "      <td>0</td>\n",
       "      <td>19000.0</td>\n",
       "      <td>False</td>\n",
       "      <td>NaN</td>\n",
       "      <td>NaN</td>\n",
       "      <td>NaN</td>\n",
       "      <td>0.293233</td>\n",
       "      <td>0</td>\n",
       "    </tr>\n",
       "  </tbody>\n",
       "</table>\n",
       "</div>"
      ],
      "text/plain": [
       "    user_id  content_id  answered_correctly  prior_question_elapsed_time  \\\n",
       "0   8343734        4439                   1                      17000.0   \n",
       "1  11814782        9117                   0                       1000.0   \n",
       "2   3258925        8894                   1                       1000.0   \n",
       "3   1360462          88                   0                       9000.0   \n",
       "4  15786147        6477                   0                      19000.0   \n",
       "\n",
       "   prior_question_had_explanation  answered_correctly_user  sum  count  \\\n",
       "0                           False                      NaN  NaN    NaN   \n",
       "1                           False                      NaN  NaN    NaN   \n",
       "2                           False                      NaN  NaN    NaN   \n",
       "3                           False                      NaN  NaN    NaN   \n",
       "4                           False                      NaN  NaN    NaN   \n",
       "\n",
       "   answered_correctly_content  prior_question_had_explanation_enc  \n",
       "0                    0.203252                                   0  \n",
       "1                    0.720000                                   0  \n",
       "2                    0.355556                                   0  \n",
       "3                    0.607143                                   0  \n",
       "4                    0.293233                                   0  "
      ]
     },
     "execution_count": 17,
     "metadata": {},
     "output_type": "execute_result"
    }
   ],
   "source": [
    "print(X.shape)\n",
    "X.head()"
   ]
  },
  {
   "cell_type": "code",
   "execution_count": 18,
   "metadata": {
    "execution": {
     "iopub.execute_input": "2020-12-10T02:08:38.518403Z",
     "iopub.status.busy": "2020-12-10T02:08:38.514807Z",
     "iopub.status.idle": "2020-12-10T02:08:38.531446Z",
     "shell.execute_reply": "2020-12-10T02:08:38.532069Z"
    },
    "papermill": {
     "duration": 0.056547,
     "end_time": "2020-12-10T02:08:38.532200",
     "exception": false,
     "start_time": "2020-12-10T02:08:38.475653",
     "status": "completed"
    },
    "tags": []
   },
   "outputs": [
    {
     "name": "stdout",
     "output_type": "stream",
     "text": [
      "(15285, 10)\n"
     ]
    },
    {
     "data": {
      "text/html": [
       "<div>\n",
       "<style scoped>\n",
       "    .dataframe tbody tr th:only-of-type {\n",
       "        vertical-align: middle;\n",
       "    }\n",
       "\n",
       "    .dataframe tbody tr th {\n",
       "        vertical-align: top;\n",
       "    }\n",
       "\n",
       "    .dataframe thead th {\n",
       "        text-align: right;\n",
       "    }\n",
       "</style>\n",
       "<table border=\"1\" class=\"dataframe\">\n",
       "  <thead>\n",
       "    <tr style=\"text-align: right;\">\n",
       "      <th></th>\n",
       "      <th>user_id</th>\n",
       "      <th>content_id</th>\n",
       "      <th>answered_correctly</th>\n",
       "      <th>prior_question_elapsed_time</th>\n",
       "      <th>prior_question_had_explanation</th>\n",
       "      <th>answered_correctly_user</th>\n",
       "      <th>sum</th>\n",
       "      <th>count</th>\n",
       "      <th>answered_correctly_content</th>\n",
       "      <th>prior_question_had_explanation_enc</th>\n",
       "    </tr>\n",
       "  </thead>\n",
       "  <tbody>\n",
       "    <tr>\n",
       "      <th>0</th>\n",
       "      <td>19887248</td>\n",
       "      <td>6368</td>\n",
       "      <td>0</td>\n",
       "      <td>NaN</td>\n",
       "      <td>False</td>\n",
       "      <td>NaN</td>\n",
       "      <td>NaN</td>\n",
       "      <td>NaN</td>\n",
       "      <td>0.744186</td>\n",
       "      <td>0</td>\n",
       "    </tr>\n",
       "    <tr>\n",
       "      <th>1</th>\n",
       "      <td>1880240</td>\n",
       "      <td>192</td>\n",
       "      <td>1</td>\n",
       "      <td>NaN</td>\n",
       "      <td>False</td>\n",
       "      <td>NaN</td>\n",
       "      <td>NaN</td>\n",
       "      <td>NaN</td>\n",
       "      <td>0.969697</td>\n",
       "      <td>0</td>\n",
       "    </tr>\n",
       "    <tr>\n",
       "      <th>2</th>\n",
       "      <td>2148001</td>\n",
       "      <td>9320</td>\n",
       "      <td>0</td>\n",
       "      <td>21000.0</td>\n",
       "      <td>False</td>\n",
       "      <td>NaN</td>\n",
       "      <td>NaN</td>\n",
       "      <td>NaN</td>\n",
       "      <td>0.758621</td>\n",
       "      <td>0</td>\n",
       "    </tr>\n",
       "    <tr>\n",
       "      <th>3</th>\n",
       "      <td>15960740</td>\n",
       "      <td>7924</td>\n",
       "      <td>0</td>\n",
       "      <td>77000.0</td>\n",
       "      <td>False</td>\n",
       "      <td>NaN</td>\n",
       "      <td>NaN</td>\n",
       "      <td>NaN</td>\n",
       "      <td>0.748571</td>\n",
       "      <td>0</td>\n",
       "    </tr>\n",
       "    <tr>\n",
       "      <th>4</th>\n",
       "      <td>1946295</td>\n",
       "      <td>175</td>\n",
       "      <td>1</td>\n",
       "      <td>20000.0</td>\n",
       "      <td>False</td>\n",
       "      <td>NaN</td>\n",
       "      <td>NaN</td>\n",
       "      <td>NaN</td>\n",
       "      <td>0.359084</td>\n",
       "      <td>0</td>\n",
       "    </tr>\n",
       "  </tbody>\n",
       "</table>\n",
       "</div>"
      ],
      "text/plain": [
       "    user_id  content_id  answered_correctly  prior_question_elapsed_time  \\\n",
       "0  19887248        6368                   0                          NaN   \n",
       "1   1880240         192                   1                          NaN   \n",
       "2   2148001        9320                   0                      21000.0   \n",
       "3  15960740        7924                   0                      77000.0   \n",
       "4   1946295         175                   1                      20000.0   \n",
       "\n",
       "   prior_question_had_explanation  answered_correctly_user  sum  count  \\\n",
       "0                           False                      NaN  NaN    NaN   \n",
       "1                           False                      NaN  NaN    NaN   \n",
       "2                           False                      NaN  NaN    NaN   \n",
       "3                           False                      NaN  NaN    NaN   \n",
       "4                           False                      NaN  NaN    NaN   \n",
       "\n",
       "   answered_correctly_content  prior_question_had_explanation_enc  \n",
       "0                    0.744186                                   0  \n",
       "1                    0.969697                                   0  \n",
       "2                    0.758621                                   0  \n",
       "3                    0.748571                                   0  \n",
       "4                    0.359084                                   0  "
      ]
     },
     "execution_count": 18,
     "metadata": {},
     "output_type": "execute_result"
    }
   ],
   "source": [
    "print(validation.shape)\n",
    "validation.head()"
   ]
  },
  {
   "cell_type": "code",
   "execution_count": 19,
   "metadata": {
    "execution": {
     "iopub.execute_input": "2020-12-10T02:08:38.609264Z",
     "iopub.status.busy": "2020-12-10T02:08:38.608680Z",
     "iopub.status.idle": "2020-12-10T02:08:38.632094Z",
     "shell.execute_reply": "2020-12-10T02:08:38.631438Z"
    },
    "papermill": {
     "duration": 0.065002,
     "end_time": "2020-12-10T02:08:38.632197",
     "exception": false,
     "start_time": "2020-12-10T02:08:38.567195",
     "status": "completed"
    },
    "tags": []
   },
   "outputs": [
    {
     "name": "stdout",
     "output_type": "stream",
     "text": [
      "(13523, 2)\n"
     ]
    },
    {
     "data": {
      "text/html": [
       "<div>\n",
       "<style scoped>\n",
       "    .dataframe tbody tr th:only-of-type {\n",
       "        vertical-align: middle;\n",
       "    }\n",
       "\n",
       "    .dataframe tbody tr th {\n",
       "        vertical-align: top;\n",
       "    }\n",
       "\n",
       "    .dataframe thead th {\n",
       "        text-align: right;\n",
       "    }\n",
       "</style>\n",
       "<table border=\"1\" class=\"dataframe\">\n",
       "  <thead>\n",
       "    <tr style=\"text-align: right;\">\n",
       "      <th></th>\n",
       "      <th>question_id</th>\n",
       "      <th>part</th>\n",
       "    </tr>\n",
       "  </thead>\n",
       "  <tbody>\n",
       "    <tr>\n",
       "      <th>0</th>\n",
       "      <td>0</td>\n",
       "      <td>1</td>\n",
       "    </tr>\n",
       "    <tr>\n",
       "      <th>1</th>\n",
       "      <td>1</td>\n",
       "      <td>1</td>\n",
       "    </tr>\n",
       "    <tr>\n",
       "      <th>2</th>\n",
       "      <td>2</td>\n",
       "      <td>1</td>\n",
       "    </tr>\n",
       "    <tr>\n",
       "      <th>3</th>\n",
       "      <td>3</td>\n",
       "      <td>1</td>\n",
       "    </tr>\n",
       "    <tr>\n",
       "      <th>4</th>\n",
       "      <td>4</td>\n",
       "      <td>1</td>\n",
       "    </tr>\n",
       "  </tbody>\n",
       "</table>\n",
       "</div>"
      ],
      "text/plain": [
       "   question_id  part\n",
       "0            0     1\n",
       "1            1     1\n",
       "2            2     1\n",
       "3            3     1\n",
       "4            4     1"
      ]
     },
     "execution_count": 19,
     "metadata": {},
     "output_type": "execute_result"
    }
   ],
   "source": [
    "questions_df = pd.read_csv('/kaggle/input/riiid-test-answer-prediction/questions.csv',\n",
    "                            usecols=[0, 3],\n",
    "                            dtype={'question_id': 'int16',\n",
    "                              'part': 'int8'})\n",
    "\n",
    "print(questions_df.shape)\n",
    "questions_df.head()"
   ]
  },
  {
   "cell_type": "code",
   "execution_count": 20,
   "metadata": {
    "execution": {
     "iopub.execute_input": "2020-12-10T02:08:38.716316Z",
     "iopub.status.busy": "2020-12-10T02:08:38.715467Z",
     "iopub.status.idle": "2020-12-10T02:08:38.748508Z",
     "shell.execute_reply": "2020-12-10T02:08:38.747730Z"
    },
    "papermill": {
     "duration": 0.07962,
     "end_time": "2020-12-10T02:08:38.748641",
     "exception": false,
     "start_time": "2020-12-10T02:08:38.669021",
     "status": "completed"
    },
    "tags": []
   },
   "outputs": [
    {
     "name": "stdout",
     "output_type": "stream",
     "text": [
      "4    27885\n",
      "1    11807\n",
      "5     4898\n",
      "3     4410\n",
      "0     2906\n",
      "6     1734\n",
      "2     1631\n",
      "Name: part, dtype: int64\n",
      "4    7480\n",
      "1    3234\n",
      "6    2546\n",
      "0     671\n",
      "5     589\n",
      "3     462\n",
      "2     303\n",
      "Name: part, dtype: int64\n"
     ]
    }
   ],
   "source": [
    "X = pd.merge(X, questions_df, left_on = 'content_id', right_on = 'question_id', how = 'left')\n",
    "validation = pd.merge(validation, questions_df, left_on = 'content_id', right_on = 'question_id', how = 'left')\n",
    "\n",
    "X.part = X.part - 1\n",
    "validation.part = validation.part - 1\n",
    "\n",
    "print(X.part.value_counts())\n",
    "print(validation.part.value_counts())"
   ]
  },
  {
   "cell_type": "code",
   "execution_count": 21,
   "metadata": {
    "execution": {
     "iopub.execute_input": "2020-12-10T02:08:38.832952Z",
     "iopub.status.busy": "2020-12-10T02:08:38.828689Z",
     "iopub.status.idle": "2020-12-10T02:08:38.845864Z",
     "shell.execute_reply": "2020-12-10T02:08:38.845219Z"
    },
    "papermill": {
     "duration": 0.060478,
     "end_time": "2020-12-10T02:08:38.845966",
     "exception": false,
     "start_time": "2020-12-10T02:08:38.785488",
     "status": "completed"
    },
    "tags": []
   },
   "outputs": [
    {
     "name": "stdout",
     "output_type": "stream",
     "text": [
      "(55271, 12)\n"
     ]
    },
    {
     "data": {
      "text/html": [
       "<div>\n",
       "<style scoped>\n",
       "    .dataframe tbody tr th:only-of-type {\n",
       "        vertical-align: middle;\n",
       "    }\n",
       "\n",
       "    .dataframe tbody tr th {\n",
       "        vertical-align: top;\n",
       "    }\n",
       "\n",
       "    .dataframe thead th {\n",
       "        text-align: right;\n",
       "    }\n",
       "</style>\n",
       "<table border=\"1\" class=\"dataframe\">\n",
       "  <thead>\n",
       "    <tr style=\"text-align: right;\">\n",
       "      <th></th>\n",
       "      <th>user_id</th>\n",
       "      <th>content_id</th>\n",
       "      <th>answered_correctly</th>\n",
       "      <th>prior_question_elapsed_time</th>\n",
       "      <th>prior_question_had_explanation</th>\n",
       "      <th>answered_correctly_user</th>\n",
       "      <th>sum</th>\n",
       "      <th>count</th>\n",
       "      <th>answered_correctly_content</th>\n",
       "      <th>prior_question_had_explanation_enc</th>\n",
       "      <th>question_id</th>\n",
       "      <th>part</th>\n",
       "    </tr>\n",
       "  </thead>\n",
       "  <tbody>\n",
       "    <tr>\n",
       "      <th>0</th>\n",
       "      <td>8343734</td>\n",
       "      <td>4439</td>\n",
       "      <td>1</td>\n",
       "      <td>17000.0</td>\n",
       "      <td>False</td>\n",
       "      <td>NaN</td>\n",
       "      <td>NaN</td>\n",
       "      <td>NaN</td>\n",
       "      <td>0.203252</td>\n",
       "      <td>0</td>\n",
       "      <td>4439</td>\n",
       "      <td>4</td>\n",
       "    </tr>\n",
       "    <tr>\n",
       "      <th>1</th>\n",
       "      <td>11814782</td>\n",
       "      <td>9117</td>\n",
       "      <td>0</td>\n",
       "      <td>1000.0</td>\n",
       "      <td>False</td>\n",
       "      <td>NaN</td>\n",
       "      <td>NaN</td>\n",
       "      <td>NaN</td>\n",
       "      <td>0.720000</td>\n",
       "      <td>0</td>\n",
       "      <td>9117</td>\n",
       "      <td>4</td>\n",
       "    </tr>\n",
       "    <tr>\n",
       "      <th>2</th>\n",
       "      <td>3258925</td>\n",
       "      <td>8894</td>\n",
       "      <td>1</td>\n",
       "      <td>1000.0</td>\n",
       "      <td>False</td>\n",
       "      <td>NaN</td>\n",
       "      <td>NaN</td>\n",
       "      <td>NaN</td>\n",
       "      <td>0.355556</td>\n",
       "      <td>0</td>\n",
       "      <td>8894</td>\n",
       "      <td>4</td>\n",
       "    </tr>\n",
       "    <tr>\n",
       "      <th>3</th>\n",
       "      <td>1360462</td>\n",
       "      <td>88</td>\n",
       "      <td>0</td>\n",
       "      <td>9000.0</td>\n",
       "      <td>False</td>\n",
       "      <td>NaN</td>\n",
       "      <td>NaN</td>\n",
       "      <td>NaN</td>\n",
       "      <td>0.607143</td>\n",
       "      <td>0</td>\n",
       "      <td>88</td>\n",
       "      <td>0</td>\n",
       "    </tr>\n",
       "    <tr>\n",
       "      <th>4</th>\n",
       "      <td>15786147</td>\n",
       "      <td>6477</td>\n",
       "      <td>0</td>\n",
       "      <td>19000.0</td>\n",
       "      <td>False</td>\n",
       "      <td>NaN</td>\n",
       "      <td>NaN</td>\n",
       "      <td>NaN</td>\n",
       "      <td>0.293233</td>\n",
       "      <td>0</td>\n",
       "      <td>6477</td>\n",
       "      <td>4</td>\n",
       "    </tr>\n",
       "  </tbody>\n",
       "</table>\n",
       "</div>"
      ],
      "text/plain": [
       "    user_id  content_id  answered_correctly  prior_question_elapsed_time  \\\n",
       "0   8343734        4439                   1                      17000.0   \n",
       "1  11814782        9117                   0                       1000.0   \n",
       "2   3258925        8894                   1                       1000.0   \n",
       "3   1360462          88                   0                       9000.0   \n",
       "4  15786147        6477                   0                      19000.0   \n",
       "\n",
       "   prior_question_had_explanation  answered_correctly_user  sum  count  \\\n",
       "0                           False                      NaN  NaN    NaN   \n",
       "1                           False                      NaN  NaN    NaN   \n",
       "2                           False                      NaN  NaN    NaN   \n",
       "3                           False                      NaN  NaN    NaN   \n",
       "4                           False                      NaN  NaN    NaN   \n",
       "\n",
       "   answered_correctly_content  prior_question_had_explanation_enc  \\\n",
       "0                    0.203252                                   0   \n",
       "1                    0.720000                                   0   \n",
       "2                    0.355556                                   0   \n",
       "3                    0.607143                                   0   \n",
       "4                    0.293233                                   0   \n",
       "\n",
       "   question_id  part  \n",
       "0         4439     4  \n",
       "1         9117     4  \n",
       "2         8894     4  \n",
       "3           88     0  \n",
       "4         6477     4  "
      ]
     },
     "execution_count": 21,
     "metadata": {},
     "output_type": "execute_result"
    }
   ],
   "source": [
    "print(X.shape)\n",
    "X.head()"
   ]
  },
  {
   "cell_type": "code",
   "execution_count": 22,
   "metadata": {
    "execution": {
     "iopub.execute_input": "2020-12-10T02:08:38.938572Z",
     "iopub.status.busy": "2020-12-10T02:08:38.932593Z",
     "iopub.status.idle": "2020-12-10T02:08:38.945278Z",
     "shell.execute_reply": "2020-12-10T02:08:38.944756Z"
    },
    "papermill": {
     "duration": 0.061267,
     "end_time": "2020-12-10T02:08:38.945392",
     "exception": false,
     "start_time": "2020-12-10T02:08:38.884125",
     "status": "completed"
    },
    "tags": []
   },
   "outputs": [
    {
     "name": "stdout",
     "output_type": "stream",
     "text": [
      "(15285, 12)\n"
     ]
    },
    {
     "data": {
      "text/html": [
       "<div>\n",
       "<style scoped>\n",
       "    .dataframe tbody tr th:only-of-type {\n",
       "        vertical-align: middle;\n",
       "    }\n",
       "\n",
       "    .dataframe tbody tr th {\n",
       "        vertical-align: top;\n",
       "    }\n",
       "\n",
       "    .dataframe thead th {\n",
       "        text-align: right;\n",
       "    }\n",
       "</style>\n",
       "<table border=\"1\" class=\"dataframe\">\n",
       "  <thead>\n",
       "    <tr style=\"text-align: right;\">\n",
       "      <th></th>\n",
       "      <th>user_id</th>\n",
       "      <th>content_id</th>\n",
       "      <th>answered_correctly</th>\n",
       "      <th>prior_question_elapsed_time</th>\n",
       "      <th>prior_question_had_explanation</th>\n",
       "      <th>answered_correctly_user</th>\n",
       "      <th>sum</th>\n",
       "      <th>count</th>\n",
       "      <th>answered_correctly_content</th>\n",
       "      <th>prior_question_had_explanation_enc</th>\n",
       "      <th>question_id</th>\n",
       "      <th>part</th>\n",
       "    </tr>\n",
       "  </thead>\n",
       "  <tbody>\n",
       "    <tr>\n",
       "      <th>0</th>\n",
       "      <td>19887248</td>\n",
       "      <td>6368</td>\n",
       "      <td>0</td>\n",
       "      <td>NaN</td>\n",
       "      <td>False</td>\n",
       "      <td>NaN</td>\n",
       "      <td>NaN</td>\n",
       "      <td>NaN</td>\n",
       "      <td>0.744186</td>\n",
       "      <td>0</td>\n",
       "      <td>6368</td>\n",
       "      <td>4</td>\n",
       "    </tr>\n",
       "    <tr>\n",
       "      <th>1</th>\n",
       "      <td>1880240</td>\n",
       "      <td>192</td>\n",
       "      <td>1</td>\n",
       "      <td>NaN</td>\n",
       "      <td>False</td>\n",
       "      <td>NaN</td>\n",
       "      <td>NaN</td>\n",
       "      <td>NaN</td>\n",
       "      <td>0.969697</td>\n",
       "      <td>0</td>\n",
       "      <td>192</td>\n",
       "      <td>0</td>\n",
       "    </tr>\n",
       "    <tr>\n",
       "      <th>2</th>\n",
       "      <td>2148001</td>\n",
       "      <td>9320</td>\n",
       "      <td>0</td>\n",
       "      <td>21000.0</td>\n",
       "      <td>False</td>\n",
       "      <td>NaN</td>\n",
       "      <td>NaN</td>\n",
       "      <td>NaN</td>\n",
       "      <td>0.758621</td>\n",
       "      <td>0</td>\n",
       "      <td>9320</td>\n",
       "      <td>4</td>\n",
       "    </tr>\n",
       "    <tr>\n",
       "      <th>3</th>\n",
       "      <td>15960740</td>\n",
       "      <td>7924</td>\n",
       "      <td>0</td>\n",
       "      <td>77000.0</td>\n",
       "      <td>False</td>\n",
       "      <td>NaN</td>\n",
       "      <td>NaN</td>\n",
       "      <td>NaN</td>\n",
       "      <td>0.748571</td>\n",
       "      <td>0</td>\n",
       "      <td>7924</td>\n",
       "      <td>0</td>\n",
       "    </tr>\n",
       "    <tr>\n",
       "      <th>4</th>\n",
       "      <td>1946295</td>\n",
       "      <td>175</td>\n",
       "      <td>1</td>\n",
       "      <td>20000.0</td>\n",
       "      <td>False</td>\n",
       "      <td>NaN</td>\n",
       "      <td>NaN</td>\n",
       "      <td>NaN</td>\n",
       "      <td>0.359084</td>\n",
       "      <td>0</td>\n",
       "      <td>175</td>\n",
       "      <td>0</td>\n",
       "    </tr>\n",
       "  </tbody>\n",
       "</table>\n",
       "</div>"
      ],
      "text/plain": [
       "    user_id  content_id  answered_correctly  prior_question_elapsed_time  \\\n",
       "0  19887248        6368                   0                          NaN   \n",
       "1   1880240         192                   1                          NaN   \n",
       "2   2148001        9320                   0                      21000.0   \n",
       "3  15960740        7924                   0                      77000.0   \n",
       "4   1946295         175                   1                      20000.0   \n",
       "\n",
       "   prior_question_had_explanation  answered_correctly_user  sum  count  \\\n",
       "0                           False                      NaN  NaN    NaN   \n",
       "1                           False                      NaN  NaN    NaN   \n",
       "2                           False                      NaN  NaN    NaN   \n",
       "3                           False                      NaN  NaN    NaN   \n",
       "4                           False                      NaN  NaN    NaN   \n",
       "\n",
       "   answered_correctly_content  prior_question_had_explanation_enc  \\\n",
       "0                    0.744186                                   0   \n",
       "1                    0.969697                                   0   \n",
       "2                    0.758621                                   0   \n",
       "3                    0.748571                                   0   \n",
       "4                    0.359084                                   0   \n",
       "\n",
       "   question_id  part  \n",
       "0         6368     4  \n",
       "1          192     0  \n",
       "2         9320     4  \n",
       "3         7924     0  \n",
       "4          175     0  "
      ]
     },
     "execution_count": 22,
     "metadata": {},
     "output_type": "execute_result"
    }
   ],
   "source": [
    "print(validation.shape)\n",
    "validation.head()"
   ]
  },
  {
   "cell_type": "code",
   "execution_count": 23,
   "metadata": {
    "execution": {
     "iopub.execute_input": "2020-12-10T02:08:39.030864Z",
     "iopub.status.busy": "2020-12-10T02:08:39.030215Z",
     "iopub.status.idle": "2020-12-10T02:08:39.038418Z",
     "shell.execute_reply": "2020-12-10T02:08:39.037877Z"
    },
    "papermill": {
     "duration": 0.053728,
     "end_time": "2020-12-10T02:08:39.038524",
     "exception": false,
     "start_time": "2020-12-10T02:08:38.984796",
     "status": "completed"
    },
    "tags": []
   },
   "outputs": [],
   "source": [
    "y = X['answered_correctly']\n",
    "X = X.drop(['answered_correctly'], axis=1)\n",
    "\n",
    "y_val = validation['answered_correctly']\n",
    "X_val = validation.drop(['answered_correctly'], axis=1)"
   ]
  },
  {
   "cell_type": "code",
   "execution_count": 24,
   "metadata": {
    "execution": {
     "iopub.execute_input": "2020-12-10T02:08:39.127450Z",
     "iopub.status.busy": "2020-12-10T02:08:39.126552Z",
     "iopub.status.idle": "2020-12-10T02:08:39.129540Z",
     "shell.execute_reply": "2020-12-10T02:08:39.129020Z"
    },
    "papermill": {
     "duration": 0.051816,
     "end_time": "2020-12-10T02:08:39.129668",
     "exception": false,
     "start_time": "2020-12-10T02:08:39.077852",
     "status": "completed"
    },
    "tags": []
   },
   "outputs": [],
   "source": [
    "X = X[['answered_correctly_user', 'answered_correctly_content', 'sum', 'count',\n",
    "       'prior_question_elapsed_time','prior_question_had_explanation_enc', 'part']]\n",
    "\n",
    "X_val = X_val[['answered_correctly_user', 'answered_correctly_content', 'sum', 'count',\n",
    "       'prior_question_elapsed_time','prior_question_had_explanation_enc', 'part']]"
   ]
  },
  {
   "cell_type": "code",
   "execution_count": 25,
   "metadata": {
    "execution": {
     "iopub.execute_input": "2020-12-10T02:08:39.218720Z",
     "iopub.status.busy": "2020-12-10T02:08:39.218074Z",
     "iopub.status.idle": "2020-12-10T02:08:39.226439Z",
     "shell.execute_reply": "2020-12-10T02:08:39.225938Z"
    },
    "papermill": {
     "duration": 0.057449,
     "end_time": "2020-12-10T02:08:39.226546",
     "exception": false,
     "start_time": "2020-12-10T02:08:39.169097",
     "status": "completed"
    },
    "tags": []
   },
   "outputs": [],
   "source": [
    "X['answered_correctly_user'].fillna(0.5,  inplace=True)\n",
    "X['answered_correctly_content'].fillna(0.5,  inplace=True)\n",
    "X['part'].fillna(4, inplace = True)\n",
    "X['sum'].fillna(0, inplace = True)\n",
    "X['count'].fillna(0, inplace = True)\n",
    "X['prior_question_elapsed_time'].fillna(elapsed_mean, inplace = True)\n",
    "X['prior_question_had_explanation_enc'].fillna(0, inplace = True)\n",
    "\n",
    "X_val['answered_correctly_user'].fillna(0.5,  inplace=True)\n",
    "X_val['answered_correctly_content'].fillna(0.5,  inplace=True)\n",
    "X_val['part'].fillna(4, inplace = True)\n",
    "X_val['count'].fillna(0, inplace = True)\n",
    "X_val['sum'].fillna(0, inplace = True)\n",
    "X_val['prior_question_elapsed_time'].fillna(elapsed_mean, inplace = True)\n",
    "X_val['prior_question_had_explanation_enc'].fillna(0, inplace = True)"
   ]
  },
  {
   "cell_type": "markdown",
   "metadata": {
    "papermill": {
     "duration": 0.03808,
     "end_time": "2020-12-10T02:08:39.303878",
     "exception": false,
     "start_time": "2020-12-10T02:08:39.265798",
     "status": "completed"
    },
    "tags": []
   },
   "source": [
    "# Modeling"
   ]
  },
  {
   "cell_type": "code",
   "execution_count": 26,
   "metadata": {
    "execution": {
     "iopub.execute_input": "2020-12-10T02:08:39.387382Z",
     "iopub.status.busy": "2020-12-10T02:08:39.386781Z",
     "iopub.status.idle": "2020-12-10T02:08:39.390179Z",
     "shell.execute_reply": "2020-12-10T02:08:39.389549Z"
    },
    "papermill": {
     "duration": 0.047973,
     "end_time": "2020-12-10T02:08:39.390274",
     "exception": false,
     "start_time": "2020-12-10T02:08:39.342301",
     "status": "completed"
    },
    "tags": []
   },
   "outputs": [],
   "source": [
    "import lightgbm as lgb\n",
    "\n",
    "params = {\n",
    "    'objective': 'binary',\n",
    "    'max_bin': 700,\n",
    "    'learning_rate': 0.0175,\n",
    "    'num_leaves': 80\n",
    "}\n",
    "\n",
    "lgb_train = lgb.Dataset(X, y, categorical_feature = ['part', 'prior_question_had_explanation_enc'])\n",
    "lgb_eval = lgb.Dataset(X_val, y_val, categorical_feature = ['part', 'prior_question_had_explanation_enc'], reference=lgb_train)"
   ]
  },
  {
   "cell_type": "code",
   "execution_count": 27,
   "metadata": {
    "execution": {
     "iopub.execute_input": "2020-12-10T02:08:39.474554Z",
     "iopub.status.busy": "2020-12-10T02:08:39.473876Z",
     "iopub.status.idle": "2020-12-10T02:08:42.041208Z",
     "shell.execute_reply": "2020-12-10T02:08:42.042177Z"
    },
    "papermill": {
     "duration": 2.612738,
     "end_time": "2020-12-10T02:08:42.042335",
     "exception": false,
     "start_time": "2020-12-10T02:08:39.429597",
     "status": "completed"
    },
    "tags": []
   },
   "outputs": [
    {
     "name": "stderr",
     "output_type": "stream",
     "text": [
      "/opt/conda/lib/python3.7/site-packages/lightgbm/basic.py:1291: UserWarning: Using categorical_feature in Dataset.\n",
      "  warnings.warn('Using categorical_feature in Dataset.')\n"
     ]
    },
    {
     "name": "stdout",
     "output_type": "stream",
     "text": [
      "Training until validation scores don't improve for 12 rounds\n",
      "[50]\ttraining's binary_logloss: 0.603899\tvalid_1's binary_logloss: 0.627715\n",
      "[100]\ttraining's binary_logloss: 0.58143\tvalid_1's binary_logloss: 0.61543\n",
      "[150]\ttraining's binary_logloss: 0.571657\tvalid_1's binary_logloss: 0.612741\n",
      "Early stopping, best iteration is:\n",
      "[177]\ttraining's binary_logloss: 0.567679\tvalid_1's binary_logloss: 0.612406\n"
     ]
    }
   ],
   "source": [
    "model = lgb.train(\n",
    "    params, lgb_train,\n",
    "    valid_sets=[lgb_train, lgb_eval],\n",
    "    verbose_eval=50,\n",
    "    num_boost_round=10000,\n",
    "    early_stopping_rounds=12\n",
    ")"
   ]
  },
  {
   "cell_type": "code",
   "execution_count": 28,
   "metadata": {
    "execution": {
     "iopub.execute_input": "2020-12-10T02:08:42.155977Z",
     "iopub.status.busy": "2020-12-10T02:08:42.155221Z",
     "iopub.status.idle": "2020-12-10T02:08:42.260731Z",
     "shell.execute_reply": "2020-12-10T02:08:42.261431Z"
    },
    "papermill": {
     "duration": 0.166233,
     "end_time": "2020-12-10T02:08:42.261578",
     "exception": false,
     "start_time": "2020-12-10T02:08:42.095345",
     "status": "completed"
    },
    "tags": []
   },
   "outputs": [
    {
     "data": {
      "text/plain": [
       "0.721275713904804"
      ]
     },
     "execution_count": 28,
     "metadata": {},
     "output_type": "execute_result"
    }
   ],
   "source": [
    "y_pred = model.predict(X_val)\n",
    "y_true = np.array(y_val)\n",
    "roc_auc_score(y_true, y_pred)"
   ]
  },
  {
   "cell_type": "code",
   "execution_count": 29,
   "metadata": {
    "execution": {
     "iopub.execute_input": "2020-12-10T02:08:42.371983Z",
     "iopub.status.busy": "2020-12-10T02:08:42.371244Z",
     "iopub.status.idle": "2020-12-10T02:08:42.622692Z",
     "shell.execute_reply": "2020-12-10T02:08:42.621958Z"
    },
    "papermill": {
     "duration": 0.308429,
     "end_time": "2020-12-10T02:08:42.622813",
     "exception": false,
     "start_time": "2020-12-10T02:08:42.314384",
     "status": "completed"
    },
    "tags": []
   },
   "outputs": [
    {
     "data": {
      "image/png": "[encoded data removed]",
      "text/plain": [
       "<Figure size 432x288 with 1 Axes>"
      ]
     },
     "metadata": {
      "needs_background": "light"
     },
     "output_type": "display_data"
    }
   ],
   "source": [
    "lgb.plot_importance(model)\n",
    "plt.show()"
   ]
  },
  {
   "cell_type": "markdown",
   "metadata": {
    "papermill": {
     "duration": 0.043469,
     "end_time": "2020-12-10T02:08:42.711144",
     "exception": false,
     "start_time": "2020-12-10T02:08:42.667675",
     "status": "completed"
    },
    "tags": []
   },
   "source": [
    "# Submit"
   ]
  },
  {
   "cell_type": "code",
   "execution_count": 30,
   "metadata": {
    "execution": {
     "iopub.execute_input": "2020-12-10T02:08:42.817901Z",
     "iopub.status.busy": "2020-12-10T02:08:42.808394Z",
     "iopub.status.idle": "2020-12-10T02:08:43.406926Z",
     "shell.execute_reply": "2020-12-10T02:08:43.407575Z"
    },
    "papermill": {
     "duration": 0.652484,
     "end_time": "2020-12-10T02:08:43.407772",
     "exception": false,
     "start_time": "2020-12-10T02:08:42.755288",
     "status": "completed"
    },
    "tags": []
   },
   "outputs": [],
   "source": [
    "for (test_df, sample_prediction_df) in iter_test:\n",
    "    \n",
    "    test_df = pd.merge(test_df, questions_df, left_on = 'content_id', right_on = 'question_id', how = 'left')\n",
    "    test_df = pd.merge(test_df, results_u_final, on=['user_id'],  how=\"left\")\n",
    "    test_df = pd.merge(test_df, results_c_final, on=['content_id'],  how=\"left\")\n",
    "    test_df['answered_correctly_user'].fillna(0.5,  inplace=True)\n",
    "    test_df['answered_correctly_content'].fillna(0.5,  inplace=True)\n",
    "    test_df['part'] = test_df.part - 1\n",
    "    test_df['part'].fillna(4, inplace = True)\n",
    "    test_df['sum'].fillna(0, inplace=True)\n",
    "    test_df['count'].fillna(0, inplace=True)\n",
    "    test_df['prior_question_elapsed_time'].fillna(elapsed_mean, inplace = True)\n",
    "    test_df['prior_question_had_explanation'].fillna(False, inplace=True)\n",
    "    test_df[\"prior_question_had_explanation_enc\"] = lb_make.fit_transform(test_df[\"prior_question_had_explanation\"])\n",
    "    test_df['answered_correctly'] =  model.predict(test_df[['answered_correctly_user', 'answered_correctly_content', 'sum', 'count',\n",
    "                                                            'prior_question_elapsed_time','prior_question_had_explanation_enc', 'part']])\n",
    "    \n",
    "    env.predict(test_df.loc[test_df['content_type_id'] == 0, ['row_id', 'answered_correctly']])"
   ]
  }
 ],
 "metadata": {
  "kernelspec": {
   "display_name": "Python 3",
   "language": "python",
   "name": "python3"
  },
  "language_info": {
   "codemirror_mode": {
    "name": "ipython",
    "version": 3
   },
   "file_extension": ".py",
   "mimetype": "text/x-python",
   "name": "python",
   "nbconvert_exporter": "python",
   "pygments_lexer": "ipython3",
   "version": "3.7.6"
  },
  "papermill": {
   "duration": 18.848944,
   "end_time": "2020-12-10T02:08:43.564972",
   "environment_variables": {},
   "exception": null,
   "input_path": "__notebook__.ipynb",
   "output_path": "__notebook__.ipynb",
   "parameters": {},
   "start_time": "2020-12-10T02:08:24.716028",
   "version": "2.1.0"
  }
 },
 "nbformat": 4,
 "nbformat_minor": 4
}
