{
 "cells": [
  {
   "cell_type": "markdown",
   "id": "supported-rebel",
   "metadata": {
    "papermill": {
     "duration": 0.065836,
     "end_time": "2021-06-21T03:44:10.176419",
     "exception": false,
     "start_time": "2021-06-21T03:44:10.110583",
     "status": "completed"
    },
    "tags": []
   },
   "source": [
    "# Overview"
   ]
  },
  {
   "cell_type": "markdown",
   "id": "objective-shoulder",
   "metadata": {
    "papermill": {
     "duration": 0.064953,
     "end_time": "2021-06-21T03:44:10.305841",
     "exception": false,
     "start_time": "2021-06-21T03:44:10.240888",
     "status": "completed"
    },
    "tags": []
   },
   "source": [
    "1448棟のビルの4種類のメーター（電力、冷水、スチーム、温水）の値を予測するコンペである。\n",
    "\n",
    "背景としては、エネルギー使用量（4種類のメーターの値）が正確に予測できるようになることで<br>\n",
    "省エネ投資を活発化させて、環境問題に貢献したいという狙いがある。\n",
    "\n",
    "ビルの所有者は、ビルのエネルギー効率を改善するような投資を行うことで<br>\n",
    "エネルギー効率が改善された分、コストを抑えることができる。"
   ]
  },
  {
   "cell_type": "markdown",
   "id": "adjacent-television",
   "metadata": {
    "papermill": {
     "duration": 0.063182,
     "end_time": "2021-06-21T03:44:10.432808",
     "exception": false,
     "start_time": "2021-06-21T03:44:10.369626",
     "status": "completed"
    },
    "tags": []
   },
   "source": [
    "# Module"
   ]
  },
  {
   "cell_type": "code",
   "execution_count": 1,
   "id": "twelve-interest",
   "metadata": {
    "execution": {
     "iopub.execute_input": "2021-06-21T03:44:10.564826Z",
     "iopub.status.busy": "2021-06-21T03:44:10.563600Z",
     "iopub.status.idle": "2021-06-21T03:44:13.905542Z",
     "shell.execute_reply": "2021-06-21T03:44:13.906144Z",
     "shell.execute_reply.started": "2021-06-21T01:18:12.298297Z"
    },
    "papermill": {
     "duration": 3.410474,
     "end_time": "2021-06-21T03:44:13.906547",
     "exception": false,
     "start_time": "2021-06-21T03:44:10.496073",
     "status": "completed"
    },
    "tags": []
   },
   "outputs": [
    {
     "data": {
      "text/html": [
       "<style type='text/css'>\n",
       ".datatable table.frame { margin-bottom: 0; }\n",
       ".datatable table.frame thead { border-bottom: none; }\n",
       ".datatable table.frame tr.coltypes td {  color: #FFFFFF;  line-height: 6px;  padding: 0 0.5em;}\n",
       ".datatable .bool    { background: #DDDD99; }\n",
       ".datatable .object  { background: #565656; }\n",
       ".datatable .int     { background: #5D9E5D; }\n",
       ".datatable .float   { background: #4040CC; }\n",
       ".datatable .str     { background: #CC4040; }\n",
       ".datatable .row_index {  background: var(--jp-border-color3);  border-right: 1px solid var(--jp-border-color0);  color: var(--jp-ui-font-color3);  font-size: 9px;}\n",
       ".datatable .frame tr.coltypes .row_index {  background: var(--jp-border-color0);}\n",
       ".datatable th:nth-child(2) { padding-left: 12px; }\n",
       ".datatable .hellipsis {  color: var(--jp-cell-editor-border-color);}\n",
       ".datatable .vellipsis {  background: var(--jp-layout-color0);  color: var(--jp-cell-editor-border-color);}\n",
       ".datatable .na {  color: var(--jp-cell-editor-border-color);  font-size: 80%;}\n",
       ".datatable .footer { font-size: 9px; }\n",
       ".datatable .frame_dimensions {  background: var(--jp-border-color3);  border-top: 1px solid var(--jp-border-color0);  color: var(--jp-ui-font-color3);  display: inline-block;  opacity: 0.6;  padding: 1px 10px 1px 5px;}\n",
       "</style>\n"
      ],
      "text/plain": [
       "<IPython.core.display.HTML object>"
      ]
     },
     "metadata": {},
     "output_type": "display_data"
    }
   ],
   "source": [
    "import gc\n",
    "import sys\n",
    "import optuna\n",
    "import datetime\n",
    "import warnings\n",
    "import matplotlib\n",
    "import numpy as np\n",
    "import pandas as pd\n",
    "import seaborn as sns\n",
    "import lightgbm as lgb\n",
    "import matplotlib.pyplot as plt\n",
    "\n",
    "from sklearn.preprocessing import LabelEncoder\n",
    "from sklearn.model_selection import train_test_split\n",
    "from sklearn.metrics import mean_squared_error\n",
    "from pandas.api.types import is_datetime64_any_dtype as is_datetime\n",
    "from pandas.api.types import is_categorical_dtype"
   ]
  },
  {
   "cell_type": "markdown",
   "id": "written-substance",
   "metadata": {
    "papermill": {
     "duration": 0.063333,
     "end_time": "2021-06-21T03:44:14.034303",
     "exception": false,
     "start_time": "2021-06-21T03:44:13.970970",
     "status": "completed"
    },
    "tags": []
   },
   "source": [
    "# Datasets"
   ]
  },
  {
   "cell_type": "code",
   "execution_count": 2,
   "id": "attempted-survivor",
   "metadata": {
    "execution": {
     "iopub.execute_input": "2021-06-21T03:44:14.168462Z",
     "iopub.status.busy": "2021-06-21T03:44:14.167395Z",
     "iopub.status.idle": "2021-06-21T03:44:31.577816Z",
     "shell.execute_reply": "2021-06-21T03:44:31.577144Z",
     "shell.execute_reply.started": "2021-06-21T01:18:15.367946Z"
    },
    "papermill": {
     "duration": 17.478029,
     "end_time": "2021-06-21T03:44:31.577969",
     "exception": false,
     "start_time": "2021-06-21T03:44:14.099940",
     "status": "completed"
    },
    "tags": []
   },
   "outputs": [
    {
     "name": "stdout",
     "output_type": "stream",
     "text": [
      "(20216100, 4)\n"
     ]
    },
    {
     "data": {
      "text/html": [
       "<div>\n",
       "<style scoped>\n",
       "    .dataframe tbody tr th:only-of-type {\n",
       "        vertical-align: middle;\n",
       "    }\n",
       "\n",
       "    .dataframe tbody tr th {\n",
       "        vertical-align: top;\n",
       "    }\n",
       "\n",
       "    .dataframe thead th {\n",
       "        text-align: right;\n",
       "    }\n",
       "</style>\n",
       "<table border=\"1\" class=\"dataframe\">\n",
       "  <thead>\n",
       "    <tr style=\"text-align: right;\">\n",
       "      <th></th>\n",
       "      <th>building_id</th>\n",
       "      <th>meter</th>\n",
       "      <th>timestamp</th>\n",
       "      <th>meter_reading</th>\n",
       "    </tr>\n",
       "  </thead>\n",
       "  <tbody>\n",
       "    <tr>\n",
       "      <th>0</th>\n",
       "      <td>0</td>\n",
       "      <td>0</td>\n",
       "      <td>2016-01-01 00:00:00</td>\n",
       "      <td>0.0</td>\n",
       "    </tr>\n",
       "    <tr>\n",
       "      <th>1</th>\n",
       "      <td>1</td>\n",
       "      <td>0</td>\n",
       "      <td>2016-01-01 00:00:00</td>\n",
       "      <td>0.0</td>\n",
       "    </tr>\n",
       "    <tr>\n",
       "      <th>2</th>\n",
       "      <td>2</td>\n",
       "      <td>0</td>\n",
       "      <td>2016-01-01 00:00:00</td>\n",
       "      <td>0.0</td>\n",
       "    </tr>\n",
       "    <tr>\n",
       "      <th>3</th>\n",
       "      <td>3</td>\n",
       "      <td>0</td>\n",
       "      <td>2016-01-01 00:00:00</td>\n",
       "      <td>0.0</td>\n",
       "    </tr>\n",
       "    <tr>\n",
       "      <th>4</th>\n",
       "      <td>4</td>\n",
       "      <td>0</td>\n",
       "      <td>2016-01-01 00:00:00</td>\n",
       "      <td>0.0</td>\n",
       "    </tr>\n",
       "  </tbody>\n",
       "</table>\n",
       "</div>"
      ],
      "text/plain": [
       "   building_id  meter            timestamp  meter_reading\n",
       "0            0      0  2016-01-01 00:00:00            0.0\n",
       "1            1      0  2016-01-01 00:00:00            0.0\n",
       "2            2      0  2016-01-01 00:00:00            0.0\n",
       "3            3      0  2016-01-01 00:00:00            0.0\n",
       "4            4      0  2016-01-01 00:00:00            0.0"
      ]
     },
     "execution_count": 2,
     "metadata": {},
     "output_type": "execute_result"
    }
   ],
   "source": [
    "train = pd.read_csv('../input/ashrae-energy-prediction/train.csv')\n",
    "\n",
    "print(train.shape)\n",
    "train.head()"
   ]
  },
  {
   "cell_type": "markdown",
   "id": "settled-pipeline",
   "metadata": {
    "execution": {
     "iopub.execute_input": "2021-06-04T05:10:36.573413Z",
     "iopub.status.busy": "2021-06-04T05:10:36.573045Z",
     "iopub.status.idle": "2021-06-04T05:10:36.579555Z",
     "shell.execute_reply": "2021-06-04T05:10:36.578197Z",
     "shell.execute_reply.started": "2021-06-04T05:10:36.573384Z"
    },
    "papermill": {
     "duration": 0.064976,
     "end_time": "2021-06-21T03:44:31.707374",
     "exception": false,
     "start_time": "2021-06-21T03:44:31.642398",
     "status": "completed"
    },
    "tags": []
   },
   "source": [
    "1時間ごとのメータ値を保持するテーブル（学習データ）<br>\n",
    "・building_id：ビルのID<br>\n",
    "・meter：0は電力、1は冷水、2はスチーム、3は温水<br>\n",
    "・timestamp：日付と時刻<br>\n",
    "・meter_reading：メーターの使用量（目的変数）<br>"
   ]
  },
  {
   "cell_type": "code",
   "execution_count": 3,
   "id": "toxic-phone",
   "metadata": {
    "execution": {
     "iopub.execute_input": "2021-06-21T03:44:31.845240Z",
     "iopub.status.busy": "2021-06-21T03:44:31.844542Z",
     "iopub.status.idle": "2021-06-21T03:45:06.752495Z",
     "shell.execute_reply": "2021-06-21T03:45:06.751898Z",
     "shell.execute_reply.started": "2021-06-21T01:18:29.989142Z"
    },
    "papermill": {
     "duration": 34.977506,
     "end_time": "2021-06-21T03:45:06.752653",
     "exception": false,
     "start_time": "2021-06-21T03:44:31.775147",
     "status": "completed"
    },
    "tags": []
   },
   "outputs": [
    {
     "name": "stdout",
     "output_type": "stream",
     "text": [
      "(41697600, 4)\n"
     ]
    },
    {
     "data": {
      "text/html": [
       "<div>\n",
       "<style scoped>\n",
       "    .dataframe tbody tr th:only-of-type {\n",
       "        vertical-align: middle;\n",
       "    }\n",
       "\n",
       "    .dataframe tbody tr th {\n",
       "        vertical-align: top;\n",
       "    }\n",
       "\n",
       "    .dataframe thead th {\n",
       "        text-align: right;\n",
       "    }\n",
       "</style>\n",
       "<table border=\"1\" class=\"dataframe\">\n",
       "  <thead>\n",
       "    <tr style=\"text-align: right;\">\n",
       "      <th></th>\n",
       "      <th>row_id</th>\n",
       "      <th>building_id</th>\n",
       "      <th>meter</th>\n",
       "      <th>timestamp</th>\n",
       "    </tr>\n",
       "  </thead>\n",
       "  <tbody>\n",
       "    <tr>\n",
       "      <th>0</th>\n",
       "      <td>0</td>\n",
       "      <td>0</td>\n",
       "      <td>0</td>\n",
       "      <td>2017-01-01 00:00:00</td>\n",
       "    </tr>\n",
       "    <tr>\n",
       "      <th>1</th>\n",
       "      <td>1</td>\n",
       "      <td>1</td>\n",
       "      <td>0</td>\n",
       "      <td>2017-01-01 00:00:00</td>\n",
       "    </tr>\n",
       "    <tr>\n",
       "      <th>2</th>\n",
       "      <td>2</td>\n",
       "      <td>2</td>\n",
       "      <td>0</td>\n",
       "      <td>2017-01-01 00:00:00</td>\n",
       "    </tr>\n",
       "    <tr>\n",
       "      <th>3</th>\n",
       "      <td>3</td>\n",
       "      <td>3</td>\n",
       "      <td>0</td>\n",
       "      <td>2017-01-01 00:00:00</td>\n",
       "    </tr>\n",
       "    <tr>\n",
       "      <th>4</th>\n",
       "      <td>4</td>\n",
       "      <td>4</td>\n",
       "      <td>0</td>\n",
       "      <td>2017-01-01 00:00:00</td>\n",
       "    </tr>\n",
       "  </tbody>\n",
       "</table>\n",
       "</div>"
      ],
      "text/plain": [
       "   row_id  building_id  meter            timestamp\n",
       "0       0            0      0  2017-01-01 00:00:00\n",
       "1       1            1      0  2017-01-01 00:00:00\n",
       "2       2            2      0  2017-01-01 00:00:00\n",
       "3       3            3      0  2017-01-01 00:00:00\n",
       "4       4            4      0  2017-01-01 00:00:00"
      ]
     },
     "execution_count": 3,
     "metadata": {},
     "output_type": "execute_result"
    }
   ],
   "source": [
    "test = pd.read_csv('../input/ashrae-energy-prediction/test.csv')\n",
    "\n",
    "print(test.shape)\n",
    "test.head()"
   ]
  },
  {
   "cell_type": "markdown",
   "id": "temporal-proceeding",
   "metadata": {
    "papermill": {
     "duration": 0.065071,
     "end_time": "2021-06-21T03:45:06.882657",
     "exception": false,
     "start_time": "2021-06-21T03:45:06.817586",
     "status": "completed"
    },
    "tags": []
   },
   "source": [
    "1時間ごとのメータ値を保持するテーブル（テストデータ）<br>\n",
    "・row_id：行のID<br>\n",
    "・building_id：ビルのID<br>\n",
    "・meter：0は電力、1は冷水、2はスチーム、3は温水<br>\n",
    "・timestamp：日付と時刻<br>"
   ]
  },
  {
   "cell_type": "code",
   "execution_count": 4,
   "id": "underlying-documentary",
   "metadata": {
    "execution": {
     "iopub.execute_input": "2021-06-21T03:45:07.021673Z",
     "iopub.status.busy": "2021-06-21T03:45:07.020894Z",
     "iopub.status.idle": "2021-06-21T03:45:07.025848Z",
     "shell.execute_reply": "2021-06-21T03:45:07.025064Z",
     "shell.execute_reply.started": "2021-06-21T01:18:58.438662Z"
    },
    "papermill": {
     "duration": 0.077415,
     "end_time": "2021-06-21T03:45:07.026037",
     "exception": false,
     "start_time": "2021-06-21T03:45:06.948622",
     "status": "completed"
    },
    "tags": []
   },
   "outputs": [],
   "source": [
    "usecols = {'site_id', 'timestamp', 'air_temperature', 'dew_temperature'}"
   ]
  },
  {
   "cell_type": "code",
   "execution_count": 5,
   "id": "medieval-speaker",
   "metadata": {
    "execution": {
     "iopub.execute_input": "2021-06-21T03:45:07.164612Z",
     "iopub.status.busy": "2021-06-21T03:45:07.163831Z",
     "iopub.status.idle": "2021-06-21T03:45:07.413459Z",
     "shell.execute_reply": "2021-06-21T03:45:07.412821Z",
     "shell.execute_reply.started": "2021-06-21T01:18:58.444293Z"
    },
    "papermill": {
     "duration": 0.320527,
     "end_time": "2021-06-21T03:45:07.413645",
     "exception": false,
     "start_time": "2021-06-21T03:45:07.093118",
     "status": "completed"
    },
    "tags": []
   },
   "outputs": [
    {
     "name": "stdout",
     "output_type": "stream",
     "text": [
      "(139773, 4)\n"
     ]
    },
    {
     "data": {
      "text/html": [
       "<div>\n",
       "<style scoped>\n",
       "    .dataframe tbody tr th:only-of-type {\n",
       "        vertical-align: middle;\n",
       "    }\n",
       "\n",
       "    .dataframe tbody tr th {\n",
       "        vertical-align: top;\n",
       "    }\n",
       "\n",
       "    .dataframe thead th {\n",
       "        text-align: right;\n",
       "    }\n",
       "</style>\n",
       "<table border=\"1\" class=\"dataframe\">\n",
       "  <thead>\n",
       "    <tr style=\"text-align: right;\">\n",
       "      <th></th>\n",
       "      <th>site_id</th>\n",
       "      <th>timestamp</th>\n",
       "      <th>air_temperature</th>\n",
       "      <th>dew_temperature</th>\n",
       "    </tr>\n",
       "  </thead>\n",
       "  <tbody>\n",
       "    <tr>\n",
       "      <th>0</th>\n",
       "      <td>0</td>\n",
       "      <td>2016-01-01 00:00:00</td>\n",
       "      <td>25.0</td>\n",
       "      <td>20.0</td>\n",
       "    </tr>\n",
       "    <tr>\n",
       "      <th>1</th>\n",
       "      <td>0</td>\n",
       "      <td>2016-01-01 01:00:00</td>\n",
       "      <td>24.4</td>\n",
       "      <td>21.1</td>\n",
       "    </tr>\n",
       "    <tr>\n",
       "      <th>2</th>\n",
       "      <td>0</td>\n",
       "      <td>2016-01-01 02:00:00</td>\n",
       "      <td>22.8</td>\n",
       "      <td>21.1</td>\n",
       "    </tr>\n",
       "    <tr>\n",
       "      <th>3</th>\n",
       "      <td>0</td>\n",
       "      <td>2016-01-01 03:00:00</td>\n",
       "      <td>21.1</td>\n",
       "      <td>20.6</td>\n",
       "    </tr>\n",
       "    <tr>\n",
       "      <th>4</th>\n",
       "      <td>0</td>\n",
       "      <td>2016-01-01 04:00:00</td>\n",
       "      <td>20.0</td>\n",
       "      <td>20.0</td>\n",
       "    </tr>\n",
       "  </tbody>\n",
       "</table>\n",
       "</div>"
      ],
      "text/plain": [
       "   site_id            timestamp  air_temperature  dew_temperature\n",
       "0        0  2016-01-01 00:00:00             25.0             20.0\n",
       "1        0  2016-01-01 01:00:00             24.4             21.1\n",
       "2        0  2016-01-01 02:00:00             22.8             21.1\n",
       "3        0  2016-01-01 03:00:00             21.1             20.6\n",
       "4        0  2016-01-01 04:00:00             20.0             20.0"
      ]
     },
     "execution_count": 5,
     "metadata": {},
     "output_type": "execute_result"
    }
   ],
   "source": [
    "weather_train = pd.read_csv('../input/ashrae-energy-prediction/weather_train.csv', usecols=usecols)\n",
    "\n",
    "print(weather_train.shape)\n",
    "weather_train.head()"
   ]
  },
  {
   "cell_type": "markdown",
   "id": "raising-rental",
   "metadata": {
    "papermill": {
     "duration": 0.066009,
     "end_time": "2021-06-21T03:45:07.546652",
     "exception": false,
     "start_time": "2021-06-21T03:45:07.480643",
     "status": "completed"
    },
    "tags": []
   },
   "source": [
    "気象情報を保持するテーブル（学習データに対応）<br>\n",
    "・site_id：ビルの物理的な位置<br>\n",
    "・timestamp：日付と時刻<br>\n",
    "・air_temperature：気温<br>\n",
    "・dew_temperature：湿度<br>\n",
    "・precip_depth：降水量<br>\n",
    "・sea_level_pressure：海圧<br>\n",
    "・wind_direction：風向<br>\n",
    "・wind_speed：風速<br>"
   ]
  },
  {
   "cell_type": "code",
   "execution_count": 6,
   "id": "golden-glasgow",
   "metadata": {
    "execution": {
     "iopub.execute_input": "2021-06-21T03:45:07.686790Z",
     "iopub.status.busy": "2021-06-21T03:45:07.685899Z",
     "iopub.status.idle": "2021-06-21T03:45:08.140788Z",
     "shell.execute_reply": "2021-06-21T03:45:08.141767Z",
     "shell.execute_reply.started": "2021-06-21T01:18:58.669431Z"
    },
    "papermill": {
     "duration": 0.52767,
     "end_time": "2021-06-21T03:45:08.142080",
     "exception": false,
     "start_time": "2021-06-21T03:45:07.614410",
     "status": "completed"
    },
    "tags": []
   },
   "outputs": [
    {
     "name": "stdout",
     "output_type": "stream",
     "text": [
      "(277243, 4)\n"
     ]
    },
    {
     "data": {
      "text/html": [
       "<div>\n",
       "<style scoped>\n",
       "    .dataframe tbody tr th:only-of-type {\n",
       "        vertical-align: middle;\n",
       "    }\n",
       "\n",
       "    .dataframe tbody tr th {\n",
       "        vertical-align: top;\n",
       "    }\n",
       "\n",
       "    .dataframe thead th {\n",
       "        text-align: right;\n",
       "    }\n",
       "</style>\n",
       "<table border=\"1\" class=\"dataframe\">\n",
       "  <thead>\n",
       "    <tr style=\"text-align: right;\">\n",
       "      <th></th>\n",
       "      <th>site_id</th>\n",
       "      <th>timestamp</th>\n",
       "      <th>air_temperature</th>\n",
       "      <th>dew_temperature</th>\n",
       "    </tr>\n",
       "  </thead>\n",
       "  <tbody>\n",
       "    <tr>\n",
       "      <th>0</th>\n",
       "      <td>0</td>\n",
       "      <td>2017-01-01 00:00:00</td>\n",
       "      <td>17.8</td>\n",
       "      <td>11.7</td>\n",
       "    </tr>\n",
       "    <tr>\n",
       "      <th>1</th>\n",
       "      <td>0</td>\n",
       "      <td>2017-01-01 01:00:00</td>\n",
       "      <td>17.8</td>\n",
       "      <td>12.8</td>\n",
       "    </tr>\n",
       "    <tr>\n",
       "      <th>2</th>\n",
       "      <td>0</td>\n",
       "      <td>2017-01-01 02:00:00</td>\n",
       "      <td>16.1</td>\n",
       "      <td>12.8</td>\n",
       "    </tr>\n",
       "    <tr>\n",
       "      <th>3</th>\n",
       "      <td>0</td>\n",
       "      <td>2017-01-01 03:00:00</td>\n",
       "      <td>17.2</td>\n",
       "      <td>13.3</td>\n",
       "    </tr>\n",
       "    <tr>\n",
       "      <th>4</th>\n",
       "      <td>0</td>\n",
       "      <td>2017-01-01 04:00:00</td>\n",
       "      <td>16.7</td>\n",
       "      <td>13.3</td>\n",
       "    </tr>\n",
       "  </tbody>\n",
       "</table>\n",
       "</div>"
      ],
      "text/plain": [
       "   site_id            timestamp  air_temperature  dew_temperature\n",
       "0        0  2017-01-01 00:00:00             17.8             11.7\n",
       "1        0  2017-01-01 01:00:00             17.8             12.8\n",
       "2        0  2017-01-01 02:00:00             16.1             12.8\n",
       "3        0  2017-01-01 03:00:00             17.2             13.3\n",
       "4        0  2017-01-01 04:00:00             16.7             13.3"
      ]
     },
     "execution_count": 6,
     "metadata": {},
     "output_type": "execute_result"
    }
   ],
   "source": [
    "weather_test = pd.read_csv('../input/ashrae-energy-prediction/weather_test.csv', usecols=usecols)\n",
    "\n",
    "print(weather_test.shape)\n",
    "weather_test.head()"
   ]
  },
  {
   "cell_type": "markdown",
   "id": "rocky-product",
   "metadata": {
    "papermill": {
     "duration": 0.067004,
     "end_time": "2021-06-21T03:45:08.276740",
     "exception": false,
     "start_time": "2021-06-21T03:45:08.209736",
     "status": "completed"
    },
    "tags": []
   },
   "source": [
    "気象情報を保持するテーブル（テストデータに対応）<br>\n",
    "・site_id：ビルの物理的な位置<br>\n",
    "・timestamp：日付と時刻<br>\n",
    "・air_temperature：気温<br>\n",
    "・dew_temperature：湿度<br>\n",
    "・precip_depth：降水量<br>\n",
    "・sea_level_pressure：海圧<br>\n",
    "・wind_direction：風向<br>\n",
    "・wind_speed：風速<br>"
   ]
  },
  {
   "cell_type": "code",
   "execution_count": 7,
   "id": "duplicate-ukraine",
   "metadata": {
    "execution": {
     "iopub.execute_input": "2021-06-21T03:45:08.418852Z",
     "iopub.status.busy": "2021-06-21T03:45:08.417705Z",
     "iopub.status.idle": "2021-06-21T03:45:08.420465Z",
     "shell.execute_reply": "2021-06-21T03:45:08.421121Z",
     "shell.execute_reply.started": "2021-06-21T01:18:59.043057Z"
    },
    "papermill": {
     "duration": 0.077163,
     "end_time": "2021-06-21T03:45:08.421330",
     "exception": false,
     "start_time": "2021-06-21T03:45:08.344167",
     "status": "completed"
    },
    "tags": []
   },
   "outputs": [],
   "source": [
    "usecols = {'site_id', 'building_id', 'primary_use', 'square_feet', 'year_built'}"
   ]
  },
  {
   "cell_type": "code",
   "execution_count": 8,
   "id": "double-grass",
   "metadata": {
    "execution": {
     "iopub.execute_input": "2021-06-21T03:45:08.560455Z",
     "iopub.status.busy": "2021-06-21T03:45:08.559348Z",
     "iopub.status.idle": "2021-06-21T03:45:08.587526Z",
     "shell.execute_reply": "2021-06-21T03:45:08.588119Z",
     "shell.execute_reply.started": "2021-06-21T01:18:59.049541Z"
    },
    "papermill": {
     "duration": 0.099862,
     "end_time": "2021-06-21T03:45:08.588328",
     "exception": false,
     "start_time": "2021-06-21T03:45:08.488466",
     "status": "completed"
    },
    "tags": []
   },
   "outputs": [
    {
     "name": "stdout",
     "output_type": "stream",
     "text": [
      "(1449, 5)\n"
     ]
    },
    {
     "data": {
      "text/html": [
       "<div>\n",
       "<style scoped>\n",
       "    .dataframe tbody tr th:only-of-type {\n",
       "        vertical-align: middle;\n",
       "    }\n",
       "\n",
       "    .dataframe tbody tr th {\n",
       "        vertical-align: top;\n",
       "    }\n",
       "\n",
       "    .dataframe thead th {\n",
       "        text-align: right;\n",
       "    }\n",
       "</style>\n",
       "<table border=\"1\" class=\"dataframe\">\n",
       "  <thead>\n",
       "    <tr style=\"text-align: right;\">\n",
       "      <th></th>\n",
       "      <th>site_id</th>\n",
       "      <th>building_id</th>\n",
       "      <th>primary_use</th>\n",
       "      <th>square_feet</th>\n",
       "      <th>year_built</th>\n",
       "    </tr>\n",
       "  </thead>\n",
       "  <tbody>\n",
       "    <tr>\n",
       "      <th>0</th>\n",
       "      <td>0</td>\n",
       "      <td>0</td>\n",
       "      <td>Education</td>\n",
       "      <td>7432</td>\n",
       "      <td>2008.0</td>\n",
       "    </tr>\n",
       "    <tr>\n",
       "      <th>1</th>\n",
       "      <td>0</td>\n",
       "      <td>1</td>\n",
       "      <td>Education</td>\n",
       "      <td>2720</td>\n",
       "      <td>2004.0</td>\n",
       "    </tr>\n",
       "    <tr>\n",
       "      <th>2</th>\n",
       "      <td>0</td>\n",
       "      <td>2</td>\n",
       "      <td>Education</td>\n",
       "      <td>5376</td>\n",
       "      <td>1991.0</td>\n",
       "    </tr>\n",
       "    <tr>\n",
       "      <th>3</th>\n",
       "      <td>0</td>\n",
       "      <td>3</td>\n",
       "      <td>Education</td>\n",
       "      <td>23685</td>\n",
       "      <td>2002.0</td>\n",
       "    </tr>\n",
       "    <tr>\n",
       "      <th>4</th>\n",
       "      <td>0</td>\n",
       "      <td>4</td>\n",
       "      <td>Education</td>\n",
       "      <td>116607</td>\n",
       "      <td>1975.0</td>\n",
       "    </tr>\n",
       "  </tbody>\n",
       "</table>\n",
       "</div>"
      ],
      "text/plain": [
       "   site_id  building_id primary_use  square_feet  year_built\n",
       "0        0            0   Education         7432      2008.0\n",
       "1        0            1   Education         2720      2004.0\n",
       "2        0            2   Education         5376      1991.0\n",
       "3        0            3   Education        23685      2002.0\n",
       "4        0            4   Education       116607      1975.0"
      ]
     },
     "execution_count": 8,
     "metadata": {},
     "output_type": "execute_result"
    }
   ],
   "source": [
    "building = pd.read_csv('../input/ashrae-energy-prediction/building_metadata.csv', usecols=usecols)\n",
    "\n",
    "print(building.shape)\n",
    "building.head()"
   ]
  },
  {
   "cell_type": "markdown",
   "id": "running-requirement",
   "metadata": {
    "papermill": {
     "duration": 0.068506,
     "end_time": "2021-06-21T03:45:08.727429",
     "exception": false,
     "start_time": "2021-06-21T03:45:08.658923",
     "status": "completed"
    },
    "tags": []
   },
   "source": [
    "ビルの情報を保持するテーブル<br>\n",
    "・site_id：ビルの物理的な位置<br>\n",
    "・building_id：ビルのID<br>\n",
    "・primary_use：使用目的<br>\n",
    "・square_feet：面積<br>\n",
    "・year_built：施工した年<br>\n",
    "・floor_count：階数<br>"
   ]
  },
  {
   "cell_type": "markdown",
   "id": "smoking-health",
   "metadata": {
    "papermill": {
     "duration": 0.067781,
     "end_time": "2021-06-21T03:45:08.865053",
     "exception": false,
     "start_time": "2021-06-21T03:45:08.797272",
     "status": "completed"
    },
    "tags": []
   },
   "source": [
    "# Lags"
   ]
  },
  {
   "cell_type": "code",
   "execution_count": 9,
   "id": "unique-daisy",
   "metadata": {
    "execution": {
     "iopub.execute_input": "2021-06-21T03:45:09.008823Z",
     "iopub.status.busy": "2021-06-21T03:45:09.007743Z",
     "iopub.status.idle": "2021-06-21T03:45:09.015528Z",
     "shell.execute_reply": "2021-06-21T03:45:09.016038Z",
     "shell.execute_reply.started": "2021-06-21T01:18:59.078645Z"
    },
    "papermill": {
     "duration": 0.081696,
     "end_time": "2021-06-21T03:45:09.016263",
     "exception": false,
     "start_time": "2021-06-21T03:45:08.934567",
     "status": "completed"
    },
    "tags": []
   },
   "outputs": [
    {
     "data": {
      "text/plain": [
       "\"\\nlag_cols = ['air_temperature', 'dew_temperature']\\n\\nfor i in lag_cols:\\n    weather_train['DIFF_' + i] = weather_train.groupby(by = ['site_id'])[i].shift(-1)\\n    weather_train['PREVIOUS_DIFF_' + i] = np.abs(weather_train[i] - weather_train['DIFF_' + i])\\n    weather_train = weather_train.drop(['DIFF_' + i], axis=1)\\n    \\nweather_train.head()\\n\""
      ]
     },
     "execution_count": 9,
     "metadata": {},
     "output_type": "execute_result"
    }
   ],
   "source": [
    "'''\n",
    "lag_cols = ['air_temperature', 'dew_temperature']\n",
    "\n",
    "for i in lag_cols:\n",
    "    weather_train['DIFF_' + i] = weather_train.groupby(by = ['site_id'])[i].shift(-1)\n",
    "    weather_train['PREVIOUS_DIFF_' + i] = np.abs(weather_train[i] - weather_train['DIFF_' + i])\n",
    "    weather_train = weather_train.drop(['DIFF_' + i], axis=1)\n",
    "    \n",
    "weather_train.head()\n",
    "'''"
   ]
  },
  {
   "cell_type": "code",
   "execution_count": 10,
   "id": "divided-baseball",
   "metadata": {
    "execution": {
     "iopub.execute_input": "2021-06-21T03:45:09.159952Z",
     "iopub.status.busy": "2021-06-21T03:45:09.158895Z",
     "iopub.status.idle": "2021-06-21T03:45:09.164819Z",
     "shell.execute_reply": "2021-06-21T03:45:09.165489Z",
     "shell.execute_reply.started": "2021-06-21T01:18:59.085088Z"
    },
    "papermill": {
     "duration": 0.07997,
     "end_time": "2021-06-21T03:45:09.165694",
     "exception": false,
     "start_time": "2021-06-21T03:45:09.085724",
     "status": "completed"
    },
    "tags": []
   },
   "outputs": [
    {
     "data": {
      "text/plain": [
       "\"\\nlag_cols = ['air_temperature', 'dew_temperature']\\n\\nfor i in lag_cols:\\n    weather_test['DIFF_' + i] = weather_test.groupby(by = ['site_id'])[i].shift(-1)\\n    weather_test['PREVIOUS_DIFF_' + i] = np.abs(weather_test[i] - weather_test['DIFF_' + i])\\n    weather_test = weather_test.drop(['DIFF_' + i], axis=1)\\n    \\nweather_test.head()\\n\""
      ]
     },
     "execution_count": 10,
     "metadata": {},
     "output_type": "execute_result"
    }
   ],
   "source": [
    "'''\n",
    "lag_cols = ['air_temperature', 'dew_temperature']\n",
    "\n",
    "for i in lag_cols:\n",
    "    weather_test['DIFF_' + i] = weather_test.groupby(by = ['site_id'])[i].shift(-1)\n",
    "    weather_test['PREVIOUS_DIFF_' + i] = np.abs(weather_test[i] - weather_test['DIFF_' + i])\n",
    "    weather_test = weather_test.drop(['DIFF_' + i], axis=1)\n",
    "    \n",
    "weather_test.head()\n",
    "'''"
   ]
  },
  {
   "cell_type": "markdown",
   "id": "greek-south",
   "metadata": {
    "papermill": {
     "duration": 0.067865,
     "end_time": "2021-06-21T03:45:09.302341",
     "exception": false,
     "start_time": "2021-06-21T03:45:09.234476",
     "status": "completed"
    },
    "tags": []
   },
   "source": [
    "# Join"
   ]
  },
  {
   "cell_type": "code",
   "execution_count": 11,
   "id": "handy-flour",
   "metadata": {
    "execution": {
     "iopub.execute_input": "2021-06-21T03:45:09.446948Z",
     "iopub.status.busy": "2021-06-21T03:45:09.445766Z",
     "iopub.status.idle": "2021-06-21T03:45:09.461355Z",
     "shell.execute_reply": "2021-06-21T03:45:09.461888Z",
     "shell.execute_reply.started": "2021-06-21T01:18:59.097295Z"
    },
    "papermill": {
     "duration": 0.089341,
     "end_time": "2021-06-21T03:45:09.462129",
     "exception": false,
     "start_time": "2021-06-21T03:45:09.372788",
     "status": "completed"
    },
    "tags": []
   },
   "outputs": [],
   "source": [
    "def reduce_mem_usage(df, use_float16=False):\n",
    "    \n",
    "    start_mem = df.memory_usage().sum() / 1024**2\n",
    "    print('Memory usage of dataframe is {:.2f} MB'.format(start_mem))\n",
    "    \n",
    "    for col in df.columns:\n",
    "        if is_datetime(df[col]) or is_categorical_dtype(df[col]):\n",
    "            continue\n",
    "        col_type = df[col].dtype\n",
    "        \n",
    "        if col_type != object:\n",
    "            c_min = df[col].min()\n",
    "            c_max = df[col].max()\n",
    "            if str(col_type)[:3] == 'int':\n",
    "                if c_min > np.iinfo(np.int8).min and c_max < np.iinfo(np.int8).max:\n",
    "                    df[col] = df[col].astype(np.int8)\n",
    "                elif c_min > np.iinfo(np.int16).min and c_max < np.iinfo(np.int16).max:\n",
    "                    df[col] = df[col].astype(np.int16)\n",
    "                elif c_min > np.iinfo(np.int32).min and c_max < np.iinfo(np.int32).max:\n",
    "                    df[col] = df[col].astype(np.int32)\n",
    "                elif c_min > np.iinfo(np.int64).min and c_max < np.iinfo(np.int64).max:\n",
    "                    df[col] = df[col].astype(np.int64)  \n",
    "            else:\n",
    "                if use_float16 and c_min > np.finfo(np.float16).min and c_max < np.finfo(np.float16).max:\n",
    "                    df[col] = df[col].astype(np.float16)\n",
    "                elif c_min > np.finfo(np.float32).min and c_max < np.finfo(np.float32).max:\n",
    "                    df[col] = df[col].astype(np.float32)\n",
    "                else:\n",
    "                    df[col] = df[col].astype(np.float64)\n",
    "        else:\n",
    "            df[col] = df[col].astype('category')\n",
    "\n",
    "    end_mem = df.memory_usage().sum() / 1024**2\n",
    "    print('Memory usage after optimization is: {:.2f} MB'.format(end_mem))\n",
    "    print('Decreased by {:.1f}%'.format(100 * (start_mem - end_mem) / start_mem))\n",
    "    \n",
    "    return df"
   ]
  },
  {
   "cell_type": "code",
   "execution_count": 12,
   "id": "genuine-horror",
   "metadata": {
    "execution": {
     "iopub.execute_input": "2021-06-21T03:45:09.606448Z",
     "iopub.status.busy": "2021-06-21T03:45:09.605334Z",
     "iopub.status.idle": "2021-06-21T03:45:09.767011Z",
     "shell.execute_reply": "2021-06-21T03:45:09.766394Z",
     "shell.execute_reply.started": "2021-06-21T01:18:59.113176Z"
    },
    "papermill": {
     "duration": 0.235431,
     "end_time": "2021-06-21T03:45:09.767215",
     "exception": false,
     "start_time": "2021-06-21T03:45:09.531784",
     "status": "completed"
    },
    "tags": []
   },
   "outputs": [
    {
     "name": "stdout",
     "output_type": "stream",
     "text": [
      "Memory usage of dataframe is 4.27 MB\n",
      "Memory usage after optimization is: 1.79 MB\n",
      "Decreased by 58.1%\n",
      "Memory usage of dataframe is 8.46 MB\n",
      "Memory usage after optimization is: 3.55 MB\n",
      "Decreased by 58.1%\n",
      "Memory usage of dataframe is 0.06 MB\n",
      "Memory usage after optimization is: 0.02 MB\n",
      "Decreased by 68.7%\n"
     ]
    }
   ],
   "source": [
    "# train = reduce_mem_usage(train)\n",
    "# test = reduce_mem_usage(test)\n",
    "\n",
    "weather_train = reduce_mem_usage(weather_train)\n",
    "weather_test = reduce_mem_usage(weather_test)\n",
    "\n",
    "building = reduce_mem_usage(building)"
   ]
  },
  {
   "cell_type": "code",
   "execution_count": 13,
   "id": "signal-mother",
   "metadata": {
    "execution": {
     "iopub.execute_input": "2021-06-21T03:45:09.917573Z",
     "iopub.status.busy": "2021-06-21T03:45:09.916762Z",
     "iopub.status.idle": "2021-06-21T03:45:20.301649Z",
     "shell.execute_reply": "2021-06-21T03:45:20.302411Z",
     "shell.execute_reply.started": "2021-06-21T01:18:59.251568Z"
    },
    "papermill": {
     "duration": 10.465487,
     "end_time": "2021-06-21T03:45:20.302721",
     "exception": false,
     "start_time": "2021-06-21T03:45:09.837234",
     "status": "completed"
    },
    "tags": []
   },
   "outputs": [
    {
     "name": "stdout",
     "output_type": "stream",
     "text": [
      "(20216100, 8)\n"
     ]
    },
    {
     "data": {
      "text/html": [
       "<div>\n",
       "<style scoped>\n",
       "    .dataframe tbody tr th:only-of-type {\n",
       "        vertical-align: middle;\n",
       "    }\n",
       "\n",
       "    .dataframe tbody tr th {\n",
       "        vertical-align: top;\n",
       "    }\n",
       "\n",
       "    .dataframe thead th {\n",
       "        text-align: right;\n",
       "    }\n",
       "</style>\n",
       "<table border=\"1\" class=\"dataframe\">\n",
       "  <thead>\n",
       "    <tr style=\"text-align: right;\">\n",
       "      <th></th>\n",
       "      <th>building_id</th>\n",
       "      <th>meter</th>\n",
       "      <th>timestamp</th>\n",
       "      <th>meter_reading</th>\n",
       "      <th>site_id</th>\n",
       "      <th>primary_use</th>\n",
       "      <th>square_feet</th>\n",
       "      <th>year_built</th>\n",
       "    </tr>\n",
       "  </thead>\n",
       "  <tbody>\n",
       "    <tr>\n",
       "      <th>0</th>\n",
       "      <td>0</td>\n",
       "      <td>0</td>\n",
       "      <td>2016-01-01 00:00:00</td>\n",
       "      <td>0.0</td>\n",
       "      <td>0</td>\n",
       "      <td>Education</td>\n",
       "      <td>7432</td>\n",
       "      <td>2008.0</td>\n",
       "    </tr>\n",
       "    <tr>\n",
       "      <th>1</th>\n",
       "      <td>1</td>\n",
       "      <td>0</td>\n",
       "      <td>2016-01-01 00:00:00</td>\n",
       "      <td>0.0</td>\n",
       "      <td>0</td>\n",
       "      <td>Education</td>\n",
       "      <td>2720</td>\n",
       "      <td>2004.0</td>\n",
       "    </tr>\n",
       "    <tr>\n",
       "      <th>2</th>\n",
       "      <td>2</td>\n",
       "      <td>0</td>\n",
       "      <td>2016-01-01 00:00:00</td>\n",
       "      <td>0.0</td>\n",
       "      <td>0</td>\n",
       "      <td>Education</td>\n",
       "      <td>5376</td>\n",
       "      <td>1991.0</td>\n",
       "    </tr>\n",
       "    <tr>\n",
       "      <th>3</th>\n",
       "      <td>3</td>\n",
       "      <td>0</td>\n",
       "      <td>2016-01-01 00:00:00</td>\n",
       "      <td>0.0</td>\n",
       "      <td>0</td>\n",
       "      <td>Education</td>\n",
       "      <td>23685</td>\n",
       "      <td>2002.0</td>\n",
       "    </tr>\n",
       "    <tr>\n",
       "      <th>4</th>\n",
       "      <td>4</td>\n",
       "      <td>0</td>\n",
       "      <td>2016-01-01 00:00:00</td>\n",
       "      <td>0.0</td>\n",
       "      <td>0</td>\n",
       "      <td>Education</td>\n",
       "      <td>116607</td>\n",
       "      <td>1975.0</td>\n",
       "    </tr>\n",
       "  </tbody>\n",
       "</table>\n",
       "</div>"
      ],
      "text/plain": [
       "   building_id  meter            timestamp  meter_reading  site_id  \\\n",
       "0            0      0  2016-01-01 00:00:00            0.0        0   \n",
       "1            1      0  2016-01-01 00:00:00            0.0        0   \n",
       "2            2      0  2016-01-01 00:00:00            0.0        0   \n",
       "3            3      0  2016-01-01 00:00:00            0.0        0   \n",
       "4            4      0  2016-01-01 00:00:00            0.0        0   \n",
       "\n",
       "  primary_use  square_feet  year_built  \n",
       "0   Education         7432      2008.0  \n",
       "1   Education         2720      2004.0  \n",
       "2   Education         5376      1991.0  \n",
       "3   Education        23685      2002.0  \n",
       "4   Education       116607      1975.0  "
      ]
     },
     "execution_count": 13,
     "metadata": {},
     "output_type": "execute_result"
    }
   ],
   "source": [
    "train = train.merge(building, on='building_id', how='left')\n",
    "test = test.merge(building, on='building_id', how='left')\n",
    "\n",
    "print(train.shape)\n",
    "train.head()"
   ]
  },
  {
   "cell_type": "code",
   "execution_count": 14,
   "id": "substantial-gasoline",
   "metadata": {
    "execution": {
     "iopub.execute_input": "2021-06-21T03:45:20.655260Z",
     "iopub.status.busy": "2021-06-21T03:45:20.653980Z",
     "iopub.status.idle": "2021-06-21T03:45:20.661933Z",
     "shell.execute_reply": "2021-06-21T03:45:20.660741Z",
     "shell.execute_reply.started": "2021-06-21T01:19:08.932740Z"
    },
    "papermill": {
     "duration": 0.286864,
     "end_time": "2021-06-21T03:45:20.662178",
     "exception": false,
     "start_time": "2021-06-21T03:45:20.375314",
     "status": "completed"
    },
    "tags": []
   },
   "outputs": [
    {
     "data": {
      "text/plain": [
       "41"
      ]
     },
     "execution_count": 14,
     "metadata": {},
     "output_type": "execute_result"
    }
   ],
   "source": [
    "del building\n",
    "gc.collect()"
   ]
  },
  {
   "cell_type": "code",
   "execution_count": 15,
   "id": "administrative-percentage",
   "metadata": {
    "execution": {
     "iopub.execute_input": "2021-06-21T03:45:20.821310Z",
     "iopub.status.busy": "2021-06-21T03:45:20.820397Z",
     "iopub.status.idle": "2021-06-21T03:45:41.100285Z",
     "shell.execute_reply": "2021-06-21T03:45:41.101047Z",
     "shell.execute_reply.started": "2021-06-21T01:19:09.080243Z"
    },
    "papermill": {
     "duration": 20.365303,
     "end_time": "2021-06-21T03:45:41.101275",
     "exception": false,
     "start_time": "2021-06-21T03:45:20.735972",
     "status": "completed"
    },
    "tags": []
   },
   "outputs": [
    {
     "name": "stdout",
     "output_type": "stream",
     "text": [
      "(20216100, 10)\n"
     ]
    },
    {
     "data": {
      "text/html": [
       "<div>\n",
       "<style scoped>\n",
       "    .dataframe tbody tr th:only-of-type {\n",
       "        vertical-align: middle;\n",
       "    }\n",
       "\n",
       "    .dataframe tbody tr th {\n",
       "        vertical-align: top;\n",
       "    }\n",
       "\n",
       "    .dataframe thead th {\n",
       "        text-align: right;\n",
       "    }\n",
       "</style>\n",
       "<table border=\"1\" class=\"dataframe\">\n",
       "  <thead>\n",
       "    <tr style=\"text-align: right;\">\n",
       "      <th></th>\n",
       "      <th>building_id</th>\n",
       "      <th>meter</th>\n",
       "      <th>timestamp</th>\n",
       "      <th>meter_reading</th>\n",
       "      <th>site_id</th>\n",
       "      <th>primary_use</th>\n",
       "      <th>square_feet</th>\n",
       "      <th>year_built</th>\n",
       "      <th>air_temperature</th>\n",
       "      <th>dew_temperature</th>\n",
       "    </tr>\n",
       "  </thead>\n",
       "  <tbody>\n",
       "    <tr>\n",
       "      <th>0</th>\n",
       "      <td>0</td>\n",
       "      <td>0</td>\n",
       "      <td>2016-01-01 00:00:00</td>\n",
       "      <td>0.0</td>\n",
       "      <td>0</td>\n",
       "      <td>Education</td>\n",
       "      <td>7432</td>\n",
       "      <td>2008.0</td>\n",
       "      <td>25.0</td>\n",
       "      <td>20.0</td>\n",
       "    </tr>\n",
       "    <tr>\n",
       "      <th>1</th>\n",
       "      <td>1</td>\n",
       "      <td>0</td>\n",
       "      <td>2016-01-01 00:00:00</td>\n",
       "      <td>0.0</td>\n",
       "      <td>0</td>\n",
       "      <td>Education</td>\n",
       "      <td>2720</td>\n",
       "      <td>2004.0</td>\n",
       "      <td>25.0</td>\n",
       "      <td>20.0</td>\n",
       "    </tr>\n",
       "    <tr>\n",
       "      <th>2</th>\n",
       "      <td>2</td>\n",
       "      <td>0</td>\n",
       "      <td>2016-01-01 00:00:00</td>\n",
       "      <td>0.0</td>\n",
       "      <td>0</td>\n",
       "      <td>Education</td>\n",
       "      <td>5376</td>\n",
       "      <td>1991.0</td>\n",
       "      <td>25.0</td>\n",
       "      <td>20.0</td>\n",
       "    </tr>\n",
       "    <tr>\n",
       "      <th>3</th>\n",
       "      <td>3</td>\n",
       "      <td>0</td>\n",
       "      <td>2016-01-01 00:00:00</td>\n",
       "      <td>0.0</td>\n",
       "      <td>0</td>\n",
       "      <td>Education</td>\n",
       "      <td>23685</td>\n",
       "      <td>2002.0</td>\n",
       "      <td>25.0</td>\n",
       "      <td>20.0</td>\n",
       "    </tr>\n",
       "    <tr>\n",
       "      <th>4</th>\n",
       "      <td>4</td>\n",
       "      <td>0</td>\n",
       "      <td>2016-01-01 00:00:00</td>\n",
       "      <td>0.0</td>\n",
       "      <td>0</td>\n",
       "      <td>Education</td>\n",
       "      <td>116607</td>\n",
       "      <td>1975.0</td>\n",
       "      <td>25.0</td>\n",
       "      <td>20.0</td>\n",
       "    </tr>\n",
       "  </tbody>\n",
       "</table>\n",
       "</div>"
      ],
      "text/plain": [
       "   building_id  meter            timestamp  meter_reading  site_id  \\\n",
       "0            0      0  2016-01-01 00:00:00            0.0        0   \n",
       "1            1      0  2016-01-01 00:00:00            0.0        0   \n",
       "2            2      0  2016-01-01 00:00:00            0.0        0   \n",
       "3            3      0  2016-01-01 00:00:00            0.0        0   \n",
       "4            4      0  2016-01-01 00:00:00            0.0        0   \n",
       "\n",
       "  primary_use  square_feet  year_built  air_temperature  dew_temperature  \n",
       "0   Education         7432      2008.0             25.0             20.0  \n",
       "1   Education         2720      2004.0             25.0             20.0  \n",
       "2   Education         5376      1991.0             25.0             20.0  \n",
       "3   Education        23685      2002.0             25.0             20.0  \n",
       "4   Education       116607      1975.0             25.0             20.0  "
      ]
     },
     "execution_count": 15,
     "metadata": {},
     "output_type": "execute_result"
    }
   ],
   "source": [
    "train = train.merge(weather_train, on=['site_id', 'timestamp'], how='left')\n",
    "test = test.merge(weather_test, on=['site_id', 'timestamp'], how='left')\n",
    "\n",
    "print(train.shape)\n",
    "train.head()"
   ]
  },
  {
   "cell_type": "code",
   "execution_count": 16,
   "id": "nominated-container",
   "metadata": {
    "execution": {
     "iopub.execute_input": "2021-06-21T03:45:41.448575Z",
     "iopub.status.busy": "2021-06-21T03:45:41.447778Z",
     "iopub.status.idle": "2021-06-21T03:45:41.455075Z",
     "shell.execute_reply": "2021-06-21T03:45:41.454299Z",
     "shell.execute_reply.started": "2021-06-21T01:19:27.985724Z"
    },
    "papermill": {
     "duration": 0.279969,
     "end_time": "2021-06-21T03:45:41.455259",
     "exception": false,
     "start_time": "2021-06-21T03:45:41.175290",
     "status": "completed"
    },
    "tags": []
   },
   "outputs": [
    {
     "data": {
      "text/plain": [
       "40"
      ]
     },
     "execution_count": 16,
     "metadata": {},
     "output_type": "execute_result"
    }
   ],
   "source": [
    "del weather_train, weather_test\n",
    "gc.collect()"
   ]
  },
  {
   "cell_type": "code",
   "execution_count": 17,
   "id": "legal-yacht",
   "metadata": {
    "execution": {
     "iopub.execute_input": "2021-06-21T03:45:41.606409Z",
     "iopub.status.busy": "2021-06-21T03:45:41.605420Z",
     "iopub.status.idle": "2021-06-21T03:45:41.608923Z",
     "shell.execute_reply": "2021-06-21T03:45:41.609434Z",
     "shell.execute_reply.started": "2021-06-21T01:19:28.121232Z"
    },
    "papermill": {
     "duration": 0.081773,
     "end_time": "2021-06-21T03:45:41.609659",
     "exception": false,
     "start_time": "2021-06-21T03:45:41.527886",
     "status": "completed"
    },
    "tags": []
   },
   "outputs": [],
   "source": [
    "# train = reduce_mem_usage(train)\n",
    "# test = reduce_mem_usage(test)"
   ]
  },
  {
   "cell_type": "code",
   "execution_count": 18,
   "id": "wooden-delaware",
   "metadata": {
    "execution": {
     "iopub.execute_input": "2021-06-21T03:45:41.769620Z",
     "iopub.status.busy": "2021-06-21T03:45:41.768812Z",
     "iopub.status.idle": "2021-06-21T03:45:43.681494Z",
     "shell.execute_reply": "2021-06-21T03:45:43.682108Z",
     "shell.execute_reply.started": "2021-06-21T01:19:28.133678Z"
    },
    "papermill": {
     "duration": 1.993413,
     "end_time": "2021-06-21T03:45:43.682332",
     "exception": false,
     "start_time": "2021-06-21T03:45:41.688919",
     "status": "completed"
    },
    "tags": []
   },
   "outputs": [],
   "source": [
    "train = train.reset_index(drop=True)\n",
    "test = test.reset_index(drop=True)"
   ]
  },
  {
   "cell_type": "code",
   "execution_count": 19,
   "id": "parliamentary-possibility",
   "metadata": {
    "execution": {
     "iopub.execute_input": "2021-06-21T03:45:55.047777Z",
     "iopub.status.busy": "2021-06-21T03:45:47.468985Z",
     "iopub.status.idle": "2021-06-21T03:45:55.057983Z",
     "shell.execute_reply": "2021-06-21T03:45:55.056864Z",
     "shell.execute_reply.started": "2021-06-21T01:19:29.918244Z"
    },
    "papermill": {
     "duration": 11.302914,
     "end_time": "2021-06-21T03:45:55.058254",
     "exception": false,
     "start_time": "2021-06-21T03:45:43.755340",
     "status": "completed"
    },
    "tags": []
   },
   "outputs": [
    {
     "name": "stdout",
     "output_type": "stream",
     "text": [
      "2385501647\n",
      "4920318647\n"
     ]
    }
   ],
   "source": [
    "print(sys.getsizeof(train))\n",
    "print(sys.getsizeof(test))"
   ]
  },
  {
   "cell_type": "code",
   "execution_count": 20,
   "id": "entitled-darwin",
   "metadata": {
    "execution": {
     "iopub.execute_input": "2021-06-21T03:45:55.247507Z",
     "iopub.status.busy": "2021-06-21T03:45:55.246483Z",
     "iopub.status.idle": "2021-06-21T03:45:55.251754Z",
     "shell.execute_reply": "2021-06-21T03:45:55.251066Z",
     "shell.execute_reply.started": "2021-06-21T01:19:40.831630Z"
    },
    "papermill": {
     "duration": 0.103468,
     "end_time": "2021-06-21T03:45:55.251952",
     "exception": false,
     "start_time": "2021-06-21T03:45:55.148484",
     "status": "completed"
    },
    "tags": []
   },
   "outputs": [
    {
     "data": {
      "text/plain": [
       "Index                    128\n",
       "building_id        161728800\n",
       "meter              161728800\n",
       "timestamp          161728800\n",
       "meter_reading      161728800\n",
       "site_id             20216100\n",
       "primary_use         20216784\n",
       "square_feet         80864400\n",
       "year_built          80864400\n",
       "air_temperature     80864400\n",
       "dew_temperature     80864400\n",
       "dtype: int64"
      ]
     },
     "execution_count": 20,
     "metadata": {},
     "output_type": "execute_result"
    }
   ],
   "source": [
    "train.memory_usage()"
   ]
  },
  {
   "cell_type": "code",
   "execution_count": 21,
   "id": "traditional-colony",
   "metadata": {
    "execution": {
     "iopub.execute_input": "2021-06-21T03:45:55.444392Z",
     "iopub.status.busy": "2021-06-21T03:45:55.443500Z",
     "iopub.status.idle": "2021-06-21T03:45:55.448327Z",
     "shell.execute_reply": "2021-06-21T03:45:55.447683Z",
     "shell.execute_reply.started": "2021-06-21T01:19:40.842132Z"
    },
    "papermill": {
     "duration": 0.109564,
     "end_time": "2021-06-21T03:45:55.448501",
     "exception": false,
     "start_time": "2021-06-21T03:45:55.338937",
     "status": "completed"
    },
    "tags": []
   },
   "outputs": [
    {
     "data": {
      "text/plain": [
       "Index                    128\n",
       "row_id             333580800\n",
       "building_id        333580800\n",
       "meter              333580800\n",
       "timestamp          333580800\n",
       "site_id             41697600\n",
       "primary_use         41698284\n",
       "square_feet        166790400\n",
       "year_built         166790400\n",
       "air_temperature    166790400\n",
       "dew_temperature    166790400\n",
       "dtype: int64"
      ]
     },
     "execution_count": 21,
     "metadata": {},
     "output_type": "execute_result"
    }
   ],
   "source": [
    "test.memory_usage()"
   ]
  },
  {
   "cell_type": "code",
   "execution_count": 22,
   "id": "overhead-roots",
   "metadata": {
    "execution": {
     "iopub.execute_input": "2021-06-21T03:45:55.627293Z",
     "iopub.status.busy": "2021-06-21T03:45:55.626440Z",
     "iopub.status.idle": "2021-06-21T03:45:55.632182Z",
     "shell.execute_reply": "2021-06-21T03:45:55.632754Z",
     "shell.execute_reply.started": "2021-06-21T01:19:40.862010Z"
    },
    "papermill": {
     "duration": 0.103693,
     "end_time": "2021-06-21T03:45:55.632951",
     "exception": false,
     "start_time": "2021-06-21T03:45:55.529258",
     "status": "completed"
    },
    "tags": []
   },
   "outputs": [
    {
     "name": "stdout",
     "output_type": "stream",
     "text": [
      "(20216100, 10)\n"
     ]
    },
    {
     "data": {
      "text/html": [
       "<div>\n",
       "<style scoped>\n",
       "    .dataframe tbody tr th:only-of-type {\n",
       "        vertical-align: middle;\n",
       "    }\n",
       "\n",
       "    .dataframe tbody tr th {\n",
       "        vertical-align: top;\n",
       "    }\n",
       "\n",
       "    .dataframe thead th {\n",
       "        text-align: right;\n",
       "    }\n",
       "</style>\n",
       "<table border=\"1\" class=\"dataframe\">\n",
       "  <thead>\n",
       "    <tr style=\"text-align: right;\">\n",
       "      <th></th>\n",
       "      <th>building_id</th>\n",
       "      <th>meter</th>\n",
       "      <th>timestamp</th>\n",
       "      <th>meter_reading</th>\n",
       "      <th>site_id</th>\n",
       "      <th>primary_use</th>\n",
       "      <th>square_feet</th>\n",
       "      <th>year_built</th>\n",
       "      <th>air_temperature</th>\n",
       "      <th>dew_temperature</th>\n",
       "    </tr>\n",
       "  </thead>\n",
       "  <tbody>\n",
       "    <tr>\n",
       "      <th>0</th>\n",
       "      <td>0</td>\n",
       "      <td>0</td>\n",
       "      <td>2016-01-01 00:00:00</td>\n",
       "      <td>0.0</td>\n",
       "      <td>0</td>\n",
       "      <td>Education</td>\n",
       "      <td>7432</td>\n",
       "      <td>2008.0</td>\n",
       "      <td>25.0</td>\n",
       "      <td>20.0</td>\n",
       "    </tr>\n",
       "    <tr>\n",
       "      <th>1</th>\n",
       "      <td>1</td>\n",
       "      <td>0</td>\n",
       "      <td>2016-01-01 00:00:00</td>\n",
       "      <td>0.0</td>\n",
       "      <td>0</td>\n",
       "      <td>Education</td>\n",
       "      <td>2720</td>\n",
       "      <td>2004.0</td>\n",
       "      <td>25.0</td>\n",
       "      <td>20.0</td>\n",
       "    </tr>\n",
       "    <tr>\n",
       "      <th>2</th>\n",
       "      <td>2</td>\n",
       "      <td>0</td>\n",
       "      <td>2016-01-01 00:00:00</td>\n",
       "      <td>0.0</td>\n",
       "      <td>0</td>\n",
       "      <td>Education</td>\n",
       "      <td>5376</td>\n",
       "      <td>1991.0</td>\n",
       "      <td>25.0</td>\n",
       "      <td>20.0</td>\n",
       "    </tr>\n",
       "    <tr>\n",
       "      <th>3</th>\n",
       "      <td>3</td>\n",
       "      <td>0</td>\n",
       "      <td>2016-01-01 00:00:00</td>\n",
       "      <td>0.0</td>\n",
       "      <td>0</td>\n",
       "      <td>Education</td>\n",
       "      <td>23685</td>\n",
       "      <td>2002.0</td>\n",
       "      <td>25.0</td>\n",
       "      <td>20.0</td>\n",
       "    </tr>\n",
       "    <tr>\n",
       "      <th>4</th>\n",
       "      <td>4</td>\n",
       "      <td>0</td>\n",
       "      <td>2016-01-01 00:00:00</td>\n",
       "      <td>0.0</td>\n",
       "      <td>0</td>\n",
       "      <td>Education</td>\n",
       "      <td>116607</td>\n",
       "      <td>1975.0</td>\n",
       "      <td>25.0</td>\n",
       "      <td>20.0</td>\n",
       "    </tr>\n",
       "  </tbody>\n",
       "</table>\n",
       "</div>"
      ],
      "text/plain": [
       "   building_id  meter            timestamp  meter_reading  site_id  \\\n",
       "0            0      0  2016-01-01 00:00:00            0.0        0   \n",
       "1            1      0  2016-01-01 00:00:00            0.0        0   \n",
       "2            2      0  2016-01-01 00:00:00            0.0        0   \n",
       "3            3      0  2016-01-01 00:00:00            0.0        0   \n",
       "4            4      0  2016-01-01 00:00:00            0.0        0   \n",
       "\n",
       "  primary_use  square_feet  year_built  air_temperature  dew_temperature  \n",
       "0   Education         7432      2008.0             25.0             20.0  \n",
       "1   Education         2720      2004.0             25.0             20.0  \n",
       "2   Education         5376      1991.0             25.0             20.0  \n",
       "3   Education        23685      2002.0             25.0             20.0  \n",
       "4   Education       116607      1975.0             25.0             20.0  "
      ]
     },
     "execution_count": 22,
     "metadata": {},
     "output_type": "execute_result"
    }
   ],
   "source": [
    "print(train.shape)\n",
    "train.head()"
   ]
  },
  {
   "cell_type": "markdown",
   "id": "overhead-photograph",
   "metadata": {
    "papermill": {
     "duration": 0.076428,
     "end_time": "2021-06-21T03:45:55.786631",
     "exception": false,
     "start_time": "2021-06-21T03:45:55.710203",
     "status": "completed"
    },
    "tags": []
   },
   "source": [
    "# Analytics"
   ]
  },
  {
   "cell_type": "code",
   "execution_count": 23,
   "id": "superb-quebec",
   "metadata": {
    "execution": {
     "iopub.execute_input": "2021-06-21T03:45:55.951941Z",
     "iopub.status.busy": "2021-06-21T03:45:55.950766Z",
     "iopub.status.idle": "2021-06-21T03:45:55.964921Z",
     "shell.execute_reply": "2021-06-21T03:45:55.965517Z",
     "shell.execute_reply.started": "2021-06-21T01:19:40.883928Z"
    },
    "papermill": {
     "duration": 0.099427,
     "end_time": "2021-06-21T03:45:55.965744",
     "exception": false,
     "start_time": "2021-06-21T03:45:55.866317",
     "status": "completed"
    },
    "tags": []
   },
   "outputs": [
    {
     "name": "stdout",
     "output_type": "stream",
     "text": [
      "<class 'pandas.core.frame.DataFrame'>\n",
      "RangeIndex: 20216100 entries, 0 to 20216099\n",
      "Data columns (total 10 columns):\n",
      " #   Column           Dtype   \n",
      "---  ------           -----   \n",
      " 0   building_id      int64   \n",
      " 1   meter            int64   \n",
      " 2   timestamp        object  \n",
      " 3   meter_reading    float64 \n",
      " 4   site_id          int8    \n",
      " 5   primary_use      category\n",
      " 6   square_feet      int32   \n",
      " 7   year_built       float32 \n",
      " 8   air_temperature  float32 \n",
      " 9   dew_temperature  float32 \n",
      "dtypes: category(1), float32(3), float64(1), int32(1), int64(2), int8(1), object(1)\n",
      "memory usage: 964.0+ MB\n"
     ]
    }
   ],
   "source": [
    "train.info()"
   ]
  },
  {
   "cell_type": "code",
   "execution_count": 24,
   "id": "removed-universal",
   "metadata": {
    "execution": {
     "iopub.execute_input": "2021-06-21T03:45:56.123015Z",
     "iopub.status.busy": "2021-06-21T03:45:56.121911Z",
     "iopub.status.idle": "2021-06-21T03:46:04.282283Z",
     "shell.execute_reply": "2021-06-21T03:46:04.281624Z",
     "shell.execute_reply.started": "2021-06-21T01:19:40.907708Z"
    },
    "papermill": {
     "duration": 8.242872,
     "end_time": "2021-06-21T03:46:04.282472",
     "exception": false,
     "start_time": "2021-06-21T03:45:56.039600",
     "status": "completed"
    },
    "tags": []
   },
   "outputs": [
    {
     "data": {
      "text/plain": [
       "building_id           1449\n",
       "meter                    4\n",
       "timestamp             8784\n",
       "meter_reading      1688175\n",
       "site_id                 16\n",
       "primary_use             16\n",
       "square_feet           1397\n",
       "year_built             116\n",
       "air_temperature        619\n",
       "dew_temperature        522\n",
       "dtype: int64"
      ]
     },
     "execution_count": 24,
     "metadata": {},
     "output_type": "execute_result"
    }
   ],
   "source": [
    "train.nunique()"
   ]
  },
  {
   "cell_type": "code",
   "execution_count": 25,
   "id": "acknowledged-separation",
   "metadata": {
    "execution": {
     "iopub.execute_input": "2021-06-21T03:46:04.443866Z",
     "iopub.status.busy": "2021-06-21T03:46:04.443149Z",
     "iopub.status.idle": "2021-06-21T03:46:06.551992Z",
     "shell.execute_reply": "2021-06-21T03:46:06.551382Z",
     "shell.execute_reply.started": "2021-06-21T01:19:48.113507Z"
    },
    "papermill": {
     "duration": 2.19212,
     "end_time": "2021-06-21T03:46:06.552174",
     "exception": false,
     "start_time": "2021-06-21T03:46:04.360054",
     "status": "completed"
    },
    "tags": []
   },
   "outputs": [
    {
     "data": {
      "text/plain": [
       "building_id               0\n",
       "meter                     0\n",
       "timestamp                 0\n",
       "meter_reading             0\n",
       "site_id                   0\n",
       "primary_use               0\n",
       "square_feet               0\n",
       "year_built         12127645\n",
       "air_temperature       96658\n",
       "dew_temperature      100140\n",
       "dtype: int64"
      ]
     },
     "execution_count": 25,
     "metadata": {},
     "output_type": "execute_result"
    }
   ],
   "source": [
    "train.isnull().sum()"
   ]
  },
  {
   "cell_type": "code",
   "execution_count": 26,
   "id": "front-architect",
   "metadata": {
    "execution": {
     "iopub.execute_input": "2021-06-21T03:46:06.711234Z",
     "iopub.status.busy": "2021-06-21T03:46:06.709629Z",
     "iopub.status.idle": "2021-06-21T03:46:11.497760Z",
     "shell.execute_reply": "2021-06-21T03:46:11.496628Z",
     "shell.execute_reply.started": "2021-06-21T01:19:50.164116Z"
    },
    "papermill": {
     "duration": 4.87104,
     "end_time": "2021-06-21T03:46:11.497949",
     "exception": false,
     "start_time": "2021-06-21T03:46:06.626909",
     "status": "completed"
    },
    "tags": []
   },
   "outputs": [
    {
     "data": {
      "text/html": [
       "<div>\n",
       "<style scoped>\n",
       "    .dataframe tbody tr th:only-of-type {\n",
       "        vertical-align: middle;\n",
       "    }\n",
       "\n",
       "    .dataframe tbody tr th {\n",
       "        vertical-align: top;\n",
       "    }\n",
       "\n",
       "    .dataframe thead th {\n",
       "        text-align: right;\n",
       "    }\n",
       "</style>\n",
       "<table border=\"1\" class=\"dataframe\">\n",
       "  <thead>\n",
       "    <tr style=\"text-align: right;\">\n",
       "      <th></th>\n",
       "      <th>building_id</th>\n",
       "      <th>meter</th>\n",
       "      <th>meter_reading</th>\n",
       "      <th>site_id</th>\n",
       "      <th>square_feet</th>\n",
       "      <th>year_built</th>\n",
       "      <th>air_temperature</th>\n",
       "      <th>dew_temperature</th>\n",
       "    </tr>\n",
       "  </thead>\n",
       "  <tbody>\n",
       "    <tr>\n",
       "      <th>building_id</th>\n",
       "      <td>1.000000</td>\n",
       "      <td>0.222268</td>\n",
       "      <td>0.008761</td>\n",
       "      <td>0.980975</td>\n",
       "      <td>0.087704</td>\n",
       "      <td>-0.246150</td>\n",
       "      <td>-0.314149</td>\n",
       "      <td>-0.110091</td>\n",
       "    </tr>\n",
       "    <tr>\n",
       "      <th>meter</th>\n",
       "      <td>0.222268</td>\n",
       "      <td>1.000000</td>\n",
       "      <td>0.017672</td>\n",
       "      <td>0.253875</td>\n",
       "      <td>0.132708</td>\n",
       "      <td>-0.003798</td>\n",
       "      <td>-0.011159</td>\n",
       "      <td>-0.080445</td>\n",
       "    </tr>\n",
       "    <tr>\n",
       "      <th>meter_reading</th>\n",
       "      <td>0.008761</td>\n",
       "      <td>0.017672</td>\n",
       "      <td>1.000000</td>\n",
       "      <td>0.011897</td>\n",
       "      <td>0.024308</td>\n",
       "      <td>0.111837</td>\n",
       "      <td>-0.004132</td>\n",
       "      <td>-0.003330</td>\n",
       "    </tr>\n",
       "    <tr>\n",
       "      <th>site_id</th>\n",
       "      <td>0.980975</td>\n",
       "      <td>0.253875</td>\n",
       "      <td>0.011897</td>\n",
       "      <td>1.000000</td>\n",
       "      <td>0.090934</td>\n",
       "      <td>-0.212378</td>\n",
       "      <td>-0.307199</td>\n",
       "      <td>-0.135186</td>\n",
       "    </tr>\n",
       "    <tr>\n",
       "      <th>square_feet</th>\n",
       "      <td>0.087704</td>\n",
       "      <td>0.132708</td>\n",
       "      <td>0.024308</td>\n",
       "      <td>0.090934</td>\n",
       "      <td>1.000000</td>\n",
       "      <td>0.135717</td>\n",
       "      <td>-0.015665</td>\n",
       "      <td>-0.023385</td>\n",
       "    </tr>\n",
       "    <tr>\n",
       "      <th>year_built</th>\n",
       "      <td>-0.246150</td>\n",
       "      <td>-0.003798</td>\n",
       "      <td>0.111837</td>\n",
       "      <td>-0.212378</td>\n",
       "      <td>0.135717</td>\n",
       "      <td>1.000000</td>\n",
       "      <td>0.174156</td>\n",
       "      <td>0.117523</td>\n",
       "    </tr>\n",
       "    <tr>\n",
       "      <th>air_temperature</th>\n",
       "      <td>-0.314149</td>\n",
       "      <td>-0.011159</td>\n",
       "      <td>-0.004132</td>\n",
       "      <td>-0.307199</td>\n",
       "      <td>-0.015665</td>\n",
       "      <td>0.174156</td>\n",
       "      <td>1.000000</td>\n",
       "      <td>0.750640</td>\n",
       "    </tr>\n",
       "    <tr>\n",
       "      <th>dew_temperature</th>\n",
       "      <td>-0.110091</td>\n",
       "      <td>-0.080445</td>\n",
       "      <td>-0.003330</td>\n",
       "      <td>-0.135186</td>\n",
       "      <td>-0.023385</td>\n",
       "      <td>0.117523</td>\n",
       "      <td>0.750640</td>\n",
       "      <td>1.000000</td>\n",
       "    </tr>\n",
       "  </tbody>\n",
       "</table>\n",
       "</div>"
      ],
      "text/plain": [
       "                 building_id     meter  meter_reading   site_id  square_feet  \\\n",
       "building_id         1.000000  0.222268       0.008761  0.980975     0.087704   \n",
       "meter               0.222268  1.000000       0.017672  0.253875     0.132708   \n",
       "meter_reading       0.008761  0.017672       1.000000  0.011897     0.024308   \n",
       "site_id             0.980975  0.253875       0.011897  1.000000     0.090934   \n",
       "square_feet         0.087704  0.132708       0.024308  0.090934     1.000000   \n",
       "year_built         -0.246150 -0.003798       0.111837 -0.212378     0.135717   \n",
       "air_temperature    -0.314149 -0.011159      -0.004132 -0.307199    -0.015665   \n",
       "dew_temperature    -0.110091 -0.080445      -0.003330 -0.135186    -0.023385   \n",
       "\n",
       "                 year_built  air_temperature  dew_temperature  \n",
       "building_id       -0.246150        -0.314149        -0.110091  \n",
       "meter             -0.003798        -0.011159        -0.080445  \n",
       "meter_reading      0.111837        -0.004132        -0.003330  \n",
       "site_id           -0.212378        -0.307199        -0.135186  \n",
       "square_feet        0.135717        -0.015665        -0.023385  \n",
       "year_built         1.000000         0.174156         0.117523  \n",
       "air_temperature    0.174156         1.000000         0.750640  \n",
       "dew_temperature    0.117523         0.750640         1.000000  "
      ]
     },
     "execution_count": 26,
     "metadata": {},
     "output_type": "execute_result"
    }
   ],
   "source": [
    "train.corr()"
   ]
  },
  {
   "cell_type": "markdown",
   "id": "still-pastor",
   "metadata": {
    "execution": {
     "iopub.execute_input": "2021-06-09T04:35:08.004653Z",
     "iopub.status.busy": "2021-06-09T04:35:08.004275Z",
     "iopub.status.idle": "2021-06-09T04:35:08.008716Z",
     "shell.execute_reply": "2021-06-09T04:35:08.007602Z",
     "shell.execute_reply.started": "2021-06-09T04:35:08.004621Z"
    },
    "papermill": {
     "duration": 0.076745,
     "end_time": "2021-06-21T03:46:11.650668",
     "exception": false,
     "start_time": "2021-06-21T03:46:11.573923",
     "status": "completed"
    },
    "tags": []
   },
   "source": [
    "# Visualization"
   ]
  },
  {
   "cell_type": "code",
   "execution_count": 27,
   "id": "collective-range",
   "metadata": {
    "execution": {
     "iopub.execute_input": "2021-06-21T03:46:11.808134Z",
     "iopub.status.busy": "2021-06-21T03:46:11.807344Z",
     "iopub.status.idle": "2021-06-21T03:46:11.810768Z",
     "shell.execute_reply": "2021-06-21T03:46:11.810128Z",
     "shell.execute_reply.started": "2021-06-21T01:19:54.582142Z"
    },
    "papermill": {
     "duration": 0.08404,
     "end_time": "2021-06-21T03:46:11.810929",
     "exception": false,
     "start_time": "2021-06-21T03:46:11.726889",
     "status": "completed"
    },
    "tags": []
   },
   "outputs": [],
   "source": [
    "sns.set()"
   ]
  },
  {
   "cell_type": "code",
   "execution_count": 28,
   "id": "professional-albuquerque",
   "metadata": {
    "execution": {
     "iopub.execute_input": "2021-06-21T03:46:11.968308Z",
     "iopub.status.busy": "2021-06-21T03:46:11.967614Z",
     "iopub.status.idle": "2021-06-21T03:46:24.696070Z",
     "shell.execute_reply": "2021-06-21T03:46:24.695202Z",
     "shell.execute_reply.started": "2021-06-21T01:19:54.590325Z"
    },
    "papermill": {
     "duration": 12.807068,
     "end_time": "2021-06-21T03:46:24.696247",
     "exception": false,
     "start_time": "2021-06-21T03:46:11.889179",
     "status": "completed"
    },
    "tags": []
   },
   "outputs": [],
   "source": [
    "train['timestamp'] = pd.to_datetime(train['timestamp'])\n",
    "test['timestamp'] = pd.to_datetime(test['timestamp'])"
   ]
  },
  {
   "cell_type": "code",
   "execution_count": 29,
   "id": "formal-testing",
   "metadata": {
    "execution": {
     "iopub.execute_input": "2021-06-21T03:46:24.886841Z",
     "iopub.status.busy": "2021-06-21T03:46:24.886102Z",
     "iopub.status.idle": "2021-06-21T03:46:27.473246Z",
     "shell.execute_reply": "2021-06-21T03:46:27.473812Z",
     "shell.execute_reply.started": "2021-06-21T01:20:07.106406Z"
    },
    "papermill": {
     "duration": 2.699502,
     "end_time": "2021-06-21T03:46:27.474053",
     "exception": false,
     "start_time": "2021-06-21T03:46:24.774551",
     "status": "completed"
    },
    "tags": []
   },
   "outputs": [
    {
     "data": {
      "text/plain": [
       "<matplotlib.legend.Legend at 0x7f90482ccbd0>"
      ]
     },
     "execution_count": 29,
     "metadata": {},
     "output_type": "execute_result"
    },
    {
     "data": {
      "image/png": "[encoded data removed]",
      "text/plain": [
       "<Figure size 576x288 with 1 Axes>"
      ]
     },
     "metadata": {},
     "output_type": "display_data"
    }
   ],
   "source": [
    "fig, axes = plt.subplots(figsize=(8, 4))\n",
    "train[['timestamp', 'meter_reading']].set_index('timestamp').resample('H').mean()['meter_reading'].plot(ax=axes, label='hour', alpha=0.8).set_ylabel('Meter reading', fontsize=14)\n",
    "train[['timestamp', 'meter_reading']].set_index('timestamp').resample('D').mean()['meter_reading'].plot(ax=axes, label='day', alpha=0.8).set_ylabel('Meter reading', fontsize=14)\n",
    "axes.legend()"
   ]
  },
  {
   "cell_type": "code",
   "execution_count": 30,
   "id": "brilliant-drama",
   "metadata": {
    "execution": {
     "iopub.execute_input": "2021-06-21T03:46:27.641953Z",
     "iopub.status.busy": "2021-06-21T03:46:27.641141Z",
     "iopub.status.idle": "2021-06-21T03:46:29.813260Z",
     "shell.execute_reply": "2021-06-21T03:46:29.813834Z",
     "shell.execute_reply.started": "2021-06-21T01:20:09.495972Z"
    },
    "papermill": {
     "duration": 2.255672,
     "end_time": "2021-06-21T03:46:29.814074",
     "exception": false,
     "start_time": "2021-06-21T03:46:27.558402",
     "status": "completed"
    },
    "tags": []
   },
   "outputs": [
    {
     "data": {
      "text/plain": [
       "<matplotlib.legend.Legend at 0x7f9047fa4f50>"
      ]
     },
     "execution_count": 30,
     "metadata": {},
     "output_type": "execute_result"
    },
    {
     "data": {
      "image/png": "[encoded data removed]",
      "text/plain": [
       "<Figure size 576x288 with 1 Axes>"
      ]
     },
     "metadata": {},
     "output_type": "display_data"
    }
   ],
   "source": [
    "fig, axes = plt.subplots(figsize=(8, 4))\n",
    "train[['timestamp', 'meter_reading']].set_index('timestamp').resample('W').mean()['meter_reading'].plot(ax=axes, label='week', alpha=1).set_ylabel('Meter reading', fontsize=14)\n",
    "train[['timestamp', 'meter_reading']].set_index('timestamp').resample('M').mean()['meter_reading'].plot(ax=axes, label='month', alpha=1).set_ylabel('Meter reading', fontsize=14)\n",
    "axes.legend()"
   ]
  },
  {
   "cell_type": "markdown",
   "id": "waiting-morris",
   "metadata": {
    "papermill": {
     "duration": 0.081568,
     "end_time": "2021-06-21T03:46:29.981158",
     "exception": false,
     "start_time": "2021-06-21T03:46:29.899590",
     "status": "completed"
    },
    "tags": []
   },
   "source": [
    "# Outliers"
   ]
  },
  {
   "cell_type": "code",
   "execution_count": 31,
   "id": "convinced-mapping",
   "metadata": {
    "execution": {
     "iopub.execute_input": "2021-06-21T03:46:30.152807Z",
     "iopub.status.busy": "2021-06-21T03:46:30.151962Z",
     "iopub.status.idle": "2021-06-21T03:46:30.158194Z",
     "shell.execute_reply": "2021-06-21T03:46:30.159114Z",
     "shell.execute_reply.started": "2021-06-21T01:20:11.555079Z"
    },
    "papermill": {
     "duration": 0.095214,
     "end_time": "2021-06-21T03:46:30.159450",
     "exception": false,
     "start_time": "2021-06-21T03:46:30.064236",
     "status": "completed"
    },
    "tags": []
   },
   "outputs": [],
   "source": [
    "def to_season(month_num):\n",
    "    season = 'winter'\n",
    "    if 3 <= month_num <= 5:\n",
    "        season = 'spring'\n",
    "    elif 6 <= month_num <= 8:\n",
    "        season = 'summer'\n",
    "    elif 9 <= month_num <= 11:\n",
    "        season = 'autumn'\n",
    "    return season"
   ]
  },
  {
   "cell_type": "code",
   "execution_count": 32,
   "id": "ongoing-problem",
   "metadata": {
    "execution": {
     "iopub.execute_input": "2021-06-21T03:46:30.331135Z",
     "iopub.status.busy": "2021-06-21T03:46:30.330442Z",
     "iopub.status.idle": "2021-06-21T03:46:43.809736Z",
     "shell.execute_reply": "2021-06-21T03:46:43.809014Z",
     "shell.execute_reply.started": "2021-06-21T01:20:11.563203Z"
    },
    "papermill": {
     "duration": 13.564102,
     "end_time": "2021-06-21T03:46:43.809905",
     "exception": false,
     "start_time": "2021-06-21T03:46:30.245803",
     "status": "completed"
    },
    "tags": []
   },
   "outputs": [],
   "source": [
    "train['month'] = train['timestamp'].dt.month\n",
    "train['season'] = train['month'].apply(lambda x: to_season(x))"
   ]
  },
  {
   "cell_type": "code",
   "execution_count": 33,
   "id": "rural-begin",
   "metadata": {
    "execution": {
     "iopub.execute_input": "2021-06-21T03:46:43.982714Z",
     "iopub.status.busy": "2021-06-21T03:46:43.981802Z",
     "iopub.status.idle": "2021-06-21T03:46:46.554563Z",
     "shell.execute_reply": "2021-06-21T03:46:46.555194Z",
     "shell.execute_reply.started": "2021-06-21T01:20:24.665343Z"
    },
    "papermill": {
     "duration": 2.662639,
     "end_time": "2021-06-21T03:46:46.555425",
     "exception": false,
     "start_time": "2021-06-21T03:46:43.892786",
     "status": "completed"
    },
    "tags": []
   },
   "outputs": [],
   "source": [
    "train = train.drop(train[(train['meter'] == 0) & (train['meter_reading'] == 0)].index, axis=0)"
   ]
  },
  {
   "cell_type": "code",
   "execution_count": 34,
   "id": "similar-milwaukee",
   "metadata": {
    "execution": {
     "iopub.execute_input": "2021-06-21T03:46:46.725147Z",
     "iopub.status.busy": "2021-06-21T03:46:46.723813Z",
     "iopub.status.idle": "2021-06-21T03:47:07.061887Z",
     "shell.execute_reply": "2021-06-21T03:47:07.061265Z",
     "shell.execute_reply.started": "2021-06-21T01:20:26.991243Z"
    },
    "papermill": {
     "duration": 20.426261,
     "end_time": "2021-06-21T03:47:07.062100",
     "exception": false,
     "start_time": "2021-06-21T03:46:46.635839",
     "status": "completed"
    },
    "tags": []
   },
   "outputs": [],
   "source": [
    "train = train.drop(train[(train['meter'] == 1) & (train['meter_reading'] == 0) & (train['season'] == 'spring')].index, axis=0)\n",
    "train = train.drop(train[(train['meter'] == 1) & (train['meter_reading'] == 0) & (train['season'] == 'summer')].index, axis=0)\n",
    "train = train.drop(train[(train['meter'] == 1) & (train['meter_reading'] == 0) & (train['season'] == 'autumn')].index, axis=0)"
   ]
  },
  {
   "cell_type": "code",
   "execution_count": 35,
   "id": "julian-portland",
   "metadata": {
    "execution": {
     "iopub.execute_input": "2021-06-21T03:47:07.241246Z",
     "iopub.status.busy": "2021-06-21T03:47:07.240482Z",
     "iopub.status.idle": "2021-06-21T03:47:26.825383Z",
     "shell.execute_reply": "2021-06-21T03:47:26.824752Z",
     "shell.execute_reply.started": "2021-06-21T01:20:46.568097Z"
    },
    "papermill": {
     "duration": 19.680988,
     "end_time": "2021-06-21T03:47:26.825585",
     "exception": false,
     "start_time": "2021-06-21T03:47:07.144597",
     "status": "completed"
    },
    "tags": []
   },
   "outputs": [],
   "source": [
    "train = train.drop(train[(train['meter'] == 2) & (train['meter_reading'] == 0) & (train['season'] == 'spring')].index, axis=0)\n",
    "train = train.drop(train[(train['meter'] == 2) & (train['meter_reading'] == 0) & (train['season'] == 'autumn')].index, axis=0)\n",
    "train = train.drop(train[(train['meter'] == 2) & (train['meter_reading'] == 0) & (train['season'] == 'winter')].index, axis=0)"
   ]
  },
  {
   "cell_type": "code",
   "execution_count": 36,
   "id": "conservative-trance",
   "metadata": {
    "execution": {
     "iopub.execute_input": "2021-06-21T03:47:26.991804Z",
     "iopub.status.busy": "2021-06-21T03:47:26.991014Z",
     "iopub.status.idle": "2021-06-21T03:47:46.373642Z",
     "shell.execute_reply": "2021-06-21T03:47:46.372990Z",
     "shell.execute_reply.started": "2021-06-21T01:21:05.476167Z"
    },
    "papermill": {
     "duration": 19.469321,
     "end_time": "2021-06-21T03:47:46.373828",
     "exception": false,
     "start_time": "2021-06-21T03:47:26.904507",
     "status": "completed"
    },
    "tags": []
   },
   "outputs": [],
   "source": [
    "train = train.drop(train[(train['meter'] == 3) & (train['meter_reading'] == 0) & (train['season'] == 'spring')].index, axis=0)\n",
    "train = train.drop(train[(train['meter'] == 3) & (train['meter_reading'] == 0) & (train['season'] == 'autumn')].index, axis=0)\n",
    "train = train.drop(train[(train['meter'] == 3) & (train['meter_reading'] == 0) & (train['season'] == 'winter')].index, axis=0)"
   ]
  },
  {
   "cell_type": "code",
   "execution_count": 37,
   "id": "rental-canon",
   "metadata": {
    "execution": {
     "iopub.execute_input": "2021-06-21T03:47:46.864268Z",
     "iopub.status.busy": "2021-06-21T03:47:46.698870Z",
     "iopub.status.idle": "2021-06-21T03:47:49.244074Z",
     "shell.execute_reply": "2021-06-21T03:47:49.243430Z",
     "shell.execute_reply.started": "2021-06-21T01:21:24.295852Z"
    },
    "papermill": {
     "duration": 2.792353,
     "end_time": "2021-06-21T03:47:49.244257",
     "exception": false,
     "start_time": "2021-06-21T03:47:46.451904",
     "status": "completed"
    },
    "tags": []
   },
   "outputs": [
    {
     "name": "stdout",
     "output_type": "stream",
     "text": [
      "Memory usage of dataframe is 1043.12 MB\n",
      "Memory usage after optimization is: 611.48 MB\n",
      "Decreased by 41.4%\n"
     ]
    }
   ],
   "source": [
    "train = train.drop('season', axis=1).reset_index(drop=True)\n",
    "gc.collect()\n",
    "\n",
    "train = reduce_mem_usage(train)"
   ]
  },
  {
   "cell_type": "code",
   "execution_count": 38,
   "id": "contained-capacity",
   "metadata": {
    "execution": {
     "iopub.execute_input": "2021-06-21T03:47:49.443108Z",
     "iopub.status.busy": "2021-06-21T03:47:49.434487Z",
     "iopub.status.idle": "2021-06-21T03:47:49.450724Z",
     "shell.execute_reply": "2021-06-21T03:47:49.449890Z",
     "shell.execute_reply.started": "2021-06-21T01:21:26.822315Z"
    },
    "papermill": {
     "duration": 0.112716,
     "end_time": "2021-06-21T03:47:49.450914",
     "exception": false,
     "start_time": "2021-06-21T03:47:49.338198",
     "status": "completed"
    },
    "tags": []
   },
   "outputs": [
    {
     "name": "stdout",
     "output_type": "stream",
     "text": [
      "(18858379, 11)\n"
     ]
    },
    {
     "data": {
      "text/html": [
       "<div>\n",
       "<style scoped>\n",
       "    .dataframe tbody tr th:only-of-type {\n",
       "        vertical-align: middle;\n",
       "    }\n",
       "\n",
       "    .dataframe tbody tr th {\n",
       "        vertical-align: top;\n",
       "    }\n",
       "\n",
       "    .dataframe thead th {\n",
       "        text-align: right;\n",
       "    }\n",
       "</style>\n",
       "<table border=\"1\" class=\"dataframe\">\n",
       "  <thead>\n",
       "    <tr style=\"text-align: right;\">\n",
       "      <th></th>\n",
       "      <th>building_id</th>\n",
       "      <th>meter</th>\n",
       "      <th>timestamp</th>\n",
       "      <th>meter_reading</th>\n",
       "      <th>site_id</th>\n",
       "      <th>primary_use</th>\n",
       "      <th>square_feet</th>\n",
       "      <th>year_built</th>\n",
       "      <th>air_temperature</th>\n",
       "      <th>dew_temperature</th>\n",
       "      <th>month</th>\n",
       "    </tr>\n",
       "  </thead>\n",
       "  <tbody>\n",
       "    <tr>\n",
       "      <th>0</th>\n",
       "      <td>46</td>\n",
       "      <td>0</td>\n",
       "      <td>2016-01-01</td>\n",
       "      <td>53.239700</td>\n",
       "      <td>0</td>\n",
       "      <td>Retail</td>\n",
       "      <td>9045</td>\n",
       "      <td>2016.0</td>\n",
       "      <td>25.0</td>\n",
       "      <td>20.0</td>\n",
       "      <td>1</td>\n",
       "    </tr>\n",
       "    <tr>\n",
       "      <th>1</th>\n",
       "      <td>74</td>\n",
       "      <td>0</td>\n",
       "      <td>2016-01-01</td>\n",
       "      <td>43.001301</td>\n",
       "      <td>0</td>\n",
       "      <td>Parking</td>\n",
       "      <td>387638</td>\n",
       "      <td>1997.0</td>\n",
       "      <td>25.0</td>\n",
       "      <td>20.0</td>\n",
       "      <td>1</td>\n",
       "    </tr>\n",
       "    <tr>\n",
       "      <th>2</th>\n",
       "      <td>93</td>\n",
       "      <td>0</td>\n",
       "      <td>2016-01-01</td>\n",
       "      <td>52.420601</td>\n",
       "      <td>0</td>\n",
       "      <td>Office</td>\n",
       "      <td>33370</td>\n",
       "      <td>1982.0</td>\n",
       "      <td>25.0</td>\n",
       "      <td>20.0</td>\n",
       "      <td>1</td>\n",
       "    </tr>\n",
       "    <tr>\n",
       "      <th>3</th>\n",
       "      <td>105</td>\n",
       "      <td>0</td>\n",
       "      <td>2016-01-01</td>\n",
       "      <td>23.303600</td>\n",
       "      <td>1</td>\n",
       "      <td>Education</td>\n",
       "      <td>50623</td>\n",
       "      <td>NaN</td>\n",
       "      <td>3.8</td>\n",
       "      <td>2.4</td>\n",
       "      <td>1</td>\n",
       "    </tr>\n",
       "    <tr>\n",
       "      <th>4</th>\n",
       "      <td>106</td>\n",
       "      <td>0</td>\n",
       "      <td>2016-01-01</td>\n",
       "      <td>0.374600</td>\n",
       "      <td>1</td>\n",
       "      <td>Education</td>\n",
       "      <td>5374</td>\n",
       "      <td>NaN</td>\n",
       "      <td>3.8</td>\n",
       "      <td>2.4</td>\n",
       "      <td>1</td>\n",
       "    </tr>\n",
       "  </tbody>\n",
       "</table>\n",
       "</div>"
      ],
      "text/plain": [
       "   building_id  meter  timestamp  meter_reading  site_id primary_use  \\\n",
       "0           46      0 2016-01-01      53.239700        0      Retail   \n",
       "1           74      0 2016-01-01      43.001301        0     Parking   \n",
       "2           93      0 2016-01-01      52.420601        0      Office   \n",
       "3          105      0 2016-01-01      23.303600        1   Education   \n",
       "4          106      0 2016-01-01       0.374600        1   Education   \n",
       "\n",
       "   square_feet  year_built  air_temperature  dew_temperature  month  \n",
       "0         9045      2016.0             25.0             20.0      1  \n",
       "1       387638      1997.0             25.0             20.0      1  \n",
       "2        33370      1982.0             25.0             20.0      1  \n",
       "3        50623         NaN              3.8              2.4      1  \n",
       "4         5374         NaN              3.8              2.4      1  "
      ]
     },
     "execution_count": 38,
     "metadata": {},
     "output_type": "execute_result"
    }
   ],
   "source": [
    "print(train.shape)\n",
    "train.head()"
   ]
  },
  {
   "cell_type": "markdown",
   "id": "tropical-testing",
   "metadata": {
    "papermill": {
     "duration": 0.081264,
     "end_time": "2021-06-21T03:47:49.614652",
     "exception": false,
     "start_time": "2021-06-21T03:47:49.533388",
     "status": "completed"
    },
    "tags": []
   },
   "source": [
    "# Feature Engineering"
   ]
  },
  {
   "cell_type": "code",
   "execution_count": 39,
   "id": "muslim-trial",
   "metadata": {
    "execution": {
     "iopub.execute_input": "2021-06-21T03:47:49.786424Z",
     "iopub.status.busy": "2021-06-21T03:47:49.785591Z",
     "iopub.status.idle": "2021-06-21T03:47:51.530319Z",
     "shell.execute_reply": "2021-06-21T03:47:51.529622Z",
     "shell.execute_reply.started": "2021-06-21T01:21:26.842910Z"
    },
    "papermill": {
     "duration": 1.831955,
     "end_time": "2021-06-21T03:47:51.530492",
     "exception": false,
     "start_time": "2021-06-21T03:47:49.698537",
     "status": "completed"
    },
    "tags": []
   },
   "outputs": [],
   "source": [
    "train['hour'] = train['timestamp'].dt.hour\n",
    "#train['day'] = train['timestamp'].dt.day\n",
    "#train['weekend'] = train['timestamp'].dt.weekday"
   ]
  },
  {
   "cell_type": "code",
   "execution_count": 40,
   "id": "expressed-southeast",
   "metadata": {
    "execution": {
     "iopub.execute_input": "2021-06-21T03:47:51.700012Z",
     "iopub.status.busy": "2021-06-21T03:47:51.699259Z",
     "iopub.status.idle": "2021-06-21T03:47:53.776173Z",
     "shell.execute_reply": "2021-06-21T03:47:53.775536Z",
     "shell.execute_reply.started": "2021-06-21T01:21:28.581982Z"
    },
    "papermill": {
     "duration": 2.16468,
     "end_time": "2021-06-21T03:47:53.776365",
     "exception": false,
     "start_time": "2021-06-21T03:47:51.611685",
     "status": "completed"
    },
    "tags": []
   },
   "outputs": [
    {
     "name": "stdout",
     "output_type": "stream",
     "text": [
      "Memory usage of dataframe is 593.50 MB\n",
      "Memory usage after optimization is: 467.60 MB\n",
      "Decreased by 21.2%\n"
     ]
    }
   ],
   "source": [
    "train = train.drop(['timestamp', 'site_id'], axis=1)\n",
    "gc.collect()\n",
    "\n",
    "train = reduce_mem_usage(train)"
   ]
  },
  {
   "cell_type": "code",
   "execution_count": 41,
   "id": "danish-playing",
   "metadata": {
    "execution": {
     "iopub.execute_input": "2021-06-21T03:47:53.955994Z",
     "iopub.status.busy": "2021-06-21T03:47:53.954252Z",
     "iopub.status.idle": "2021-06-21T03:47:55.434102Z",
     "shell.execute_reply": "2021-06-21T03:47:55.433515Z",
     "shell.execute_reply.started": "2021-06-21T01:21:30.534473Z"
    },
    "papermill": {
     "duration": 1.571836,
     "end_time": "2021-06-21T03:47:55.434310",
     "exception": false,
     "start_time": "2021-06-21T03:47:53.862474",
     "status": "completed"
    },
    "tags": []
   },
   "outputs": [],
   "source": [
    "df_group = train.groupby('building_id')['meter_reading']\n",
    "\n",
    "building_mean = df_group.mean()\n",
    "building_median = df_group.median()\n",
    "building_std = df_group.std()\n",
    "\n",
    "building_min = df_group.min()\n",
    "building_max = df_group.max()"
   ]
  },
  {
   "cell_type": "code",
   "execution_count": 42,
   "id": "bottom-paradise",
   "metadata": {
    "execution": {
     "iopub.execute_input": "2021-06-21T03:47:55.608853Z",
     "iopub.status.busy": "2021-06-21T03:47:55.608073Z",
     "iopub.status.idle": "2021-06-21T03:47:56.822976Z",
     "shell.execute_reply": "2021-06-21T03:47:56.822255Z",
     "shell.execute_reply.started": "2021-06-21T01:21:31.967907Z"
    },
    "papermill": {
     "duration": 1.303884,
     "end_time": "2021-06-21T03:47:56.823158",
     "exception": false,
     "start_time": "2021-06-21T03:47:55.519274",
     "status": "completed"
    },
    "tags": []
   },
   "outputs": [],
   "source": [
    "train['building_mean'] = train['building_id'].map(building_mean)\n",
    "train['building_median'] = train['building_id'].map(building_median)\n",
    "train['building_std'] = train['building_id'].map(building_std)\n",
    "\n",
    "train['building_min'] = train['building_id'].map(building_min)\n",
    "train['building_max'] = train['building_id'].map(building_max)"
   ]
  },
  {
   "cell_type": "code",
   "execution_count": 43,
   "id": "diagnostic-passenger",
   "metadata": {
    "execution": {
     "iopub.execute_input": "2021-06-21T03:47:57.190705Z",
     "iopub.status.busy": "2021-06-21T03:47:57.189373Z",
     "iopub.status.idle": "2021-06-21T03:47:59.208787Z",
     "shell.execute_reply": "2021-06-21T03:47:59.209512Z",
     "shell.execute_reply.started": "2021-06-21T01:21:33.157468Z"
    },
    "papermill": {
     "duration": 2.30313,
     "end_time": "2021-06-21T03:47:59.209804",
     "exception": false,
     "start_time": "2021-06-21T03:47:56.906674",
     "status": "completed"
    },
    "tags": []
   },
   "outputs": [
    {
     "name": "stdout",
     "output_type": "stream",
     "text": [
      "Memory usage of dataframe is 899.24 MB\n",
      "Memory usage after optimization is: 827.30 MB\n",
      "Decreased by 8.0%\n"
     ]
    }
   ],
   "source": [
    "del df_group\n",
    "gc.collect()\n",
    "\n",
    "train = reduce_mem_usage(train)"
   ]
  },
  {
   "cell_type": "code",
   "execution_count": 44,
   "id": "heated-passing",
   "metadata": {
    "execution": {
     "iopub.execute_input": "2021-06-21T03:47:59.394239Z",
     "iopub.status.busy": "2021-06-21T03:47:59.393153Z",
     "iopub.status.idle": "2021-06-21T03:47:59.400368Z",
     "shell.execute_reply": "2021-06-21T03:47:59.400960Z",
     "shell.execute_reply.started": "2021-06-21T01:21:35.259993Z"
    },
    "papermill": {
     "duration": 0.109751,
     "end_time": "2021-06-21T03:47:59.401204",
     "exception": false,
     "start_time": "2021-06-21T03:47:59.291453",
     "status": "completed"
    },
    "tags": []
   },
   "outputs": [
    {
     "name": "stdout",
     "output_type": "stream",
     "text": [
      "(18858379, 15)\n"
     ]
    },
    {
     "data": {
      "text/html": [
       "<div>\n",
       "<style scoped>\n",
       "    .dataframe tbody tr th:only-of-type {\n",
       "        vertical-align: middle;\n",
       "    }\n",
       "\n",
       "    .dataframe tbody tr th {\n",
       "        vertical-align: top;\n",
       "    }\n",
       "\n",
       "    .dataframe thead th {\n",
       "        text-align: right;\n",
       "    }\n",
       "</style>\n",
       "<table border=\"1\" class=\"dataframe\">\n",
       "  <thead>\n",
       "    <tr style=\"text-align: right;\">\n",
       "      <th></th>\n",
       "      <th>building_id</th>\n",
       "      <th>meter</th>\n",
       "      <th>meter_reading</th>\n",
       "      <th>primary_use</th>\n",
       "      <th>square_feet</th>\n",
       "      <th>year_built</th>\n",
       "      <th>air_temperature</th>\n",
       "      <th>dew_temperature</th>\n",
       "      <th>month</th>\n",
       "      <th>hour</th>\n",
       "      <th>building_mean</th>\n",
       "      <th>building_median</th>\n",
       "      <th>building_std</th>\n",
       "      <th>building_min</th>\n",
       "      <th>building_max</th>\n",
       "    </tr>\n",
       "  </thead>\n",
       "  <tbody>\n",
       "    <tr>\n",
       "      <th>0</th>\n",
       "      <td>46</td>\n",
       "      <td>0</td>\n",
       "      <td>53.239700</td>\n",
       "      <td>Retail</td>\n",
       "      <td>9045</td>\n",
       "      <td>2016.0</td>\n",
       "      <td>25.0</td>\n",
       "      <td>20.0</td>\n",
       "      <td>1</td>\n",
       "      <td>0</td>\n",
       "      <td>15.850802</td>\n",
       "      <td>12.789499</td>\n",
       "      <td>12.523717</td>\n",
       "      <td>0.4095</td>\n",
       "      <td>283.000000</td>\n",
       "    </tr>\n",
       "    <tr>\n",
       "      <th>1</th>\n",
       "      <td>74</td>\n",
       "      <td>0</td>\n",
       "      <td>43.001301</td>\n",
       "      <td>Parking</td>\n",
       "      <td>387638</td>\n",
       "      <td>1997.0</td>\n",
       "      <td>25.0</td>\n",
       "      <td>20.0</td>\n",
       "      <td>1</td>\n",
       "      <td>0</td>\n",
       "      <td>128.057907</td>\n",
       "      <td>109.551003</td>\n",
       "      <td>41.993210</td>\n",
       "      <td>16.7227</td>\n",
       "      <td>268.000000</td>\n",
       "    </tr>\n",
       "    <tr>\n",
       "      <th>2</th>\n",
       "      <td>93</td>\n",
       "      <td>0</td>\n",
       "      <td>52.420601</td>\n",
       "      <td>Office</td>\n",
       "      <td>33370</td>\n",
       "      <td>1982.0</td>\n",
       "      <td>25.0</td>\n",
       "      <td>20.0</td>\n",
       "      <td>1</td>\n",
       "      <td>0</td>\n",
       "      <td>165.691940</td>\n",
       "      <td>161.240997</td>\n",
       "      <td>39.328667</td>\n",
       "      <td>1.4982</td>\n",
       "      <td>396.000000</td>\n",
       "    </tr>\n",
       "    <tr>\n",
       "      <th>3</th>\n",
       "      <td>105</td>\n",
       "      <td>0</td>\n",
       "      <td>23.303600</td>\n",
       "      <td>Education</td>\n",
       "      <td>50623</td>\n",
       "      <td>NaN</td>\n",
       "      <td>3.8</td>\n",
       "      <td>2.4</td>\n",
       "      <td>1</td>\n",
       "      <td>0</td>\n",
       "      <td>78.124031</td>\n",
       "      <td>75.115097</td>\n",
       "      <td>27.533489</td>\n",
       "      <td>23.3036</td>\n",
       "      <td>173.945007</td>\n",
       "    </tr>\n",
       "    <tr>\n",
       "      <th>4</th>\n",
       "      <td>106</td>\n",
       "      <td>0</td>\n",
       "      <td>0.374600</td>\n",
       "      <td>Education</td>\n",
       "      <td>5374</td>\n",
       "      <td>NaN</td>\n",
       "      <td>3.8</td>\n",
       "      <td>2.4</td>\n",
       "      <td>1</td>\n",
       "      <td>0</td>\n",
       "      <td>4.004444</td>\n",
       "      <td>0.749200</td>\n",
       "      <td>5.811982</td>\n",
       "      <td>0.0000</td>\n",
       "      <td>40.000000</td>\n",
       "    </tr>\n",
       "  </tbody>\n",
       "</table>\n",
       "</div>"
      ],
      "text/plain": [
       "   building_id  meter  meter_reading primary_use  square_feet  year_built  \\\n",
       "0           46      0      53.239700      Retail         9045      2016.0   \n",
       "1           74      0      43.001301     Parking       387638      1997.0   \n",
       "2           93      0      52.420601      Office        33370      1982.0   \n",
       "3          105      0      23.303600   Education        50623         NaN   \n",
       "4          106      0       0.374600   Education         5374         NaN   \n",
       "\n",
       "   air_temperature  dew_temperature  month  hour  building_mean  \\\n",
       "0             25.0             20.0      1     0      15.850802   \n",
       "1             25.0             20.0      1     0     128.057907   \n",
       "2             25.0             20.0      1     0     165.691940   \n",
       "3              3.8              2.4      1     0      78.124031   \n",
       "4              3.8              2.4      1     0       4.004444   \n",
       "\n",
       "   building_median  building_std  building_min  building_max  \n",
       "0        12.789499     12.523717        0.4095    283.000000  \n",
       "1       109.551003     41.993210       16.7227    268.000000  \n",
       "2       161.240997     39.328667        1.4982    396.000000  \n",
       "3        75.115097     27.533489       23.3036    173.945007  \n",
       "4         0.749200      5.811982        0.0000     40.000000  "
      ]
     },
     "execution_count": 44,
     "metadata": {},
     "output_type": "execute_result"
    }
   ],
   "source": [
    "print(train.shape)\n",
    "train.head()"
   ]
  },
  {
   "cell_type": "markdown",
   "id": "funny-representative",
   "metadata": {
    "papermill": {
     "duration": 0.081077,
     "end_time": "2021-06-21T03:47:59.564213",
     "exception": false,
     "start_time": "2021-06-21T03:47:59.483136",
     "status": "completed"
    },
    "tags": []
   },
   "source": [
    "# Preprocess"
   ]
  },
  {
   "cell_type": "code",
   "execution_count": 45,
   "id": "complete-beginning",
   "metadata": {
    "execution": {
     "iopub.execute_input": "2021-06-21T03:47:59.733886Z",
     "iopub.status.busy": "2021-06-21T03:47:59.733204Z",
     "iopub.status.idle": "2021-06-21T03:47:59.735988Z",
     "shell.execute_reply": "2021-06-21T03:47:59.736506Z",
     "shell.execute_reply.started": "2021-06-21T01:21:35.284251Z"
    },
    "papermill": {
     "duration": 0.090639,
     "end_time": "2021-06-21T03:47:59.736719",
     "exception": false,
     "start_time": "2021-06-21T03:47:59.646080",
     "status": "completed"
    },
    "tags": []
   },
   "outputs": [],
   "source": [
    "# drop_col = ['precip_depth_1_hr', 'sea_level_pressure', 'wind_direction', 'wind_speed', 'floor_count']      "
   ]
  },
  {
   "cell_type": "code",
   "execution_count": 46,
   "id": "paperback-dryer",
   "metadata": {
    "execution": {
     "iopub.execute_input": "2021-06-21T03:47:59.908216Z",
     "iopub.status.busy": "2021-06-21T03:47:59.907167Z",
     "iopub.status.idle": "2021-06-21T03:47:59.909869Z",
     "shell.execute_reply": "2021-06-21T03:47:59.910362Z",
     "shell.execute_reply.started": "2021-06-21T01:21:35.294873Z"
    },
    "papermill": {
     "duration": 0.089683,
     "end_time": "2021-06-21T03:47:59.910589",
     "exception": false,
     "start_time": "2021-06-21T03:47:59.820906",
     "status": "completed"
    },
    "tags": []
   },
   "outputs": [],
   "source": [
    "# train = train.drop(drop_col, axis = 1)\n",
    "# gc.collect()"
   ]
  },
  {
   "cell_type": "code",
   "execution_count": 47,
   "id": "novel-profession",
   "metadata": {
    "execution": {
     "iopub.execute_input": "2021-06-21T03:48:00.081441Z",
     "iopub.status.busy": "2021-06-21T03:48:00.080705Z",
     "iopub.status.idle": "2021-06-21T03:48:01.779155Z",
     "shell.execute_reply": "2021-06-21T03:48:01.779683Z",
     "shell.execute_reply.started": "2021-06-21T01:21:35.306711Z"
    },
    "papermill": {
     "duration": 1.787081,
     "end_time": "2021-06-21T03:48:01.779927",
     "exception": false,
     "start_time": "2021-06-21T03:47:59.992846",
     "status": "completed"
    },
    "tags": []
   },
   "outputs": [],
   "source": [
    "train['square_feet'] = np.log(train['square_feet'])\n",
    "test['square_feet'] = np.log(test['square_feet'])"
   ]
  },
  {
   "cell_type": "code",
   "execution_count": 48,
   "id": "finnish-craft",
   "metadata": {
    "execution": {
     "iopub.execute_input": "2021-06-21T03:48:01.956214Z",
     "iopub.status.busy": "2021-06-21T03:48:01.955321Z",
     "iopub.status.idle": "2021-06-21T03:48:22.268433Z",
     "shell.execute_reply": "2021-06-21T03:48:22.269840Z",
     "shell.execute_reply.started": "2021-06-21T01:21:36.982006Z"
    },
    "papermill": {
     "duration": 20.405464,
     "end_time": "2021-06-21T03:48:22.270157",
     "exception": false,
     "start_time": "2021-06-21T03:48:01.864693",
     "status": "completed"
    },
    "tags": []
   },
   "outputs": [],
   "source": [
    "le = LabelEncoder()\n",
    "\n",
    "train['primary_use'] = le.fit_transform(train['primary_use'])\n",
    "test['primary_use'] = le.fit_transform(test['primary_use'])"
   ]
  },
  {
   "cell_type": "code",
   "execution_count": 49,
   "id": "figured-harvest",
   "metadata": {
    "execution": {
     "iopub.execute_input": "2021-06-21T03:48:22.461915Z",
     "iopub.status.busy": "2021-06-21T03:48:22.460916Z",
     "iopub.status.idle": "2021-06-21T03:48:23.849247Z",
     "shell.execute_reply": "2021-06-21T03:48:23.848647Z",
     "shell.execute_reply.started": "2021-06-21T01:21:56.598054Z"
    },
    "papermill": {
     "duration": 1.480641,
     "end_time": "2021-06-21T03:48:23.849422",
     "exception": false,
     "start_time": "2021-06-21T03:48:22.368781",
     "status": "completed"
    },
    "tags": []
   },
   "outputs": [],
   "source": [
    "target = np.log1p(train['meter_reading'])\n",
    "train = train.drop(['meter_reading'], axis=1)"
   ]
  },
  {
   "cell_type": "code",
   "execution_count": 50,
   "id": "bizarre-function",
   "metadata": {
    "execution": {
     "iopub.execute_input": "2021-06-21T03:48:24.219243Z",
     "iopub.status.busy": "2021-06-21T03:48:24.218170Z",
     "iopub.status.idle": "2021-06-21T03:48:24.223866Z",
     "shell.execute_reply": "2021-06-21T03:48:24.223305Z",
     "shell.execute_reply.started": "2021-06-21T01:21:57.981613Z"
    },
    "papermill": {
     "duration": 0.287259,
     "end_time": "2021-06-21T03:48:24.224042",
     "exception": false,
     "start_time": "2021-06-21T03:48:23.936783",
     "status": "completed"
    },
    "tags": []
   },
   "outputs": [
    {
     "data": {
      "text/plain": [
       "140"
      ]
     },
     "execution_count": 50,
     "metadata": {},
     "output_type": "execute_result"
    }
   ],
   "source": [
    "del le\n",
    "gc.collect()"
   ]
  },
  {
   "cell_type": "code",
   "execution_count": 51,
   "id": "solid-statement",
   "metadata": {
    "execution": {
     "iopub.execute_input": "2021-06-21T03:48:24.398848Z",
     "iopub.status.busy": "2021-06-21T03:48:24.397896Z",
     "iopub.status.idle": "2021-06-21T03:48:29.593809Z",
     "shell.execute_reply": "2021-06-21T03:48:29.593194Z",
     "shell.execute_reply.started": "2021-06-21T01:21:58.125970Z"
    },
    "papermill": {
     "duration": 5.287341,
     "end_time": "2021-06-21T03:48:29.593971",
     "exception": false,
     "start_time": "2021-06-21T03:48:24.306630",
     "status": "completed"
    },
    "tags": []
   },
   "outputs": [
    {
     "name": "stdout",
     "output_type": "stream",
     "text": [
      "Memory usage of dataframe is 953.19 MB\n",
      "Memory usage after optimization is: 755.36 MB\n",
      "Decreased by 20.8%\n",
      "Memory usage of dataframe is 2425.72 MB\n",
      "Memory usage after optimization is: 1312.28 MB\n",
      "Decreased by 45.9%\n"
     ]
    }
   ],
   "source": [
    "train = reduce_mem_usage(train)\n",
    "test = reduce_mem_usage(test)"
   ]
  },
  {
   "cell_type": "code",
   "execution_count": 52,
   "id": "fiscal-fellowship",
   "metadata": {
    "execution": {
     "iopub.execute_input": "2021-06-21T03:48:29.766924Z",
     "iopub.status.busy": "2021-06-21T03:48:29.766243Z",
     "iopub.status.idle": "2021-06-21T03:48:30.624526Z",
     "shell.execute_reply": "2021-06-21T03:48:30.623775Z",
     "shell.execute_reply.started": "2021-06-21T01:22:03.120511Z"
    },
    "papermill": {
     "duration": 0.947387,
     "end_time": "2021-06-21T03:48:30.624709",
     "exception": false,
     "start_time": "2021-06-21T03:48:29.677322",
     "status": "completed"
    },
    "tags": []
   },
   "outputs": [],
   "source": [
    "train = train.reset_index(drop=True)\n",
    "test = test.reset_index(drop=True)"
   ]
  },
  {
   "cell_type": "code",
   "execution_count": 53,
   "id": "positive-capital",
   "metadata": {
    "execution": {
     "iopub.execute_input": "2021-06-21T03:48:30.803129Z",
     "iopub.status.busy": "2021-06-21T03:48:30.802390Z",
     "iopub.status.idle": "2021-06-21T03:48:30.805849Z",
     "shell.execute_reply": "2021-06-21T03:48:30.806383Z",
     "shell.execute_reply.started": "2021-06-21T01:22:03.959553Z"
    },
    "papermill": {
     "duration": 0.098766,
     "end_time": "2021-06-21T03:48:30.806583",
     "exception": false,
     "start_time": "2021-06-21T03:48:30.707817",
     "status": "completed"
    },
    "tags": []
   },
   "outputs": [
    {
     "name": "stdout",
     "output_type": "stream",
     "text": [
      "792052078\n",
      "1376020960\n"
     ]
    }
   ],
   "source": [
    "print(sys.getsizeof(train))\n",
    "print(sys.getsizeof(test))"
   ]
  },
  {
   "cell_type": "code",
   "execution_count": 54,
   "id": "rapid-serum",
   "metadata": {
    "execution": {
     "iopub.execute_input": "2021-06-21T03:48:31.070395Z",
     "iopub.status.busy": "2021-06-21T03:48:31.069580Z",
     "iopub.status.idle": "2021-06-21T03:48:31.075453Z",
     "shell.execute_reply": "2021-06-21T03:48:31.074828Z",
     "shell.execute_reply.started": "2021-06-21T01:22:03.971561Z"
    },
    "papermill": {
     "duration": 0.110847,
     "end_time": "2021-06-21T03:48:31.075620",
     "exception": false,
     "start_time": "2021-06-21T03:48:30.964773",
     "status": "completed"
    },
    "tags": []
   },
   "outputs": [
    {
     "name": "stdout",
     "output_type": "stream",
     "text": [
      "(18858379, 14)\n"
     ]
    },
    {
     "data": {
      "text/html": [
       "<div>\n",
       "<style scoped>\n",
       "    .dataframe tbody tr th:only-of-type {\n",
       "        vertical-align: middle;\n",
       "    }\n",
       "\n",
       "    .dataframe tbody tr th {\n",
       "        vertical-align: top;\n",
       "    }\n",
       "\n",
       "    .dataframe thead th {\n",
       "        text-align: right;\n",
       "    }\n",
       "</style>\n",
       "<table border=\"1\" class=\"dataframe\">\n",
       "  <thead>\n",
       "    <tr style=\"text-align: right;\">\n",
       "      <th></th>\n",
       "      <th>building_id</th>\n",
       "      <th>meter</th>\n",
       "      <th>primary_use</th>\n",
       "      <th>square_feet</th>\n",
       "      <th>year_built</th>\n",
       "      <th>air_temperature</th>\n",
       "      <th>dew_temperature</th>\n",
       "      <th>month</th>\n",
       "      <th>hour</th>\n",
       "      <th>building_mean</th>\n",
       "      <th>building_median</th>\n",
       "      <th>building_std</th>\n",
       "      <th>building_min</th>\n",
       "      <th>building_max</th>\n",
       "    </tr>\n",
       "  </thead>\n",
       "  <tbody>\n",
       "    <tr>\n",
       "      <th>0</th>\n",
       "      <td>46</td>\n",
       "      <td>0</td>\n",
       "      <td>11</td>\n",
       "      <td>9.109967</td>\n",
       "      <td>2016.0</td>\n",
       "      <td>25.0</td>\n",
       "      <td>20.0</td>\n",
       "      <td>1</td>\n",
       "      <td>0</td>\n",
       "      <td>15.850802</td>\n",
       "      <td>12.789499</td>\n",
       "      <td>12.523717</td>\n",
       "      <td>0.4095</td>\n",
       "      <td>283.000000</td>\n",
       "    </tr>\n",
       "    <tr>\n",
       "      <th>1</th>\n",
       "      <td>74</td>\n",
       "      <td>0</td>\n",
       "      <td>8</td>\n",
       "      <td>12.867827</td>\n",
       "      <td>1997.0</td>\n",
       "      <td>25.0</td>\n",
       "      <td>20.0</td>\n",
       "      <td>1</td>\n",
       "      <td>0</td>\n",
       "      <td>128.057907</td>\n",
       "      <td>109.551003</td>\n",
       "      <td>41.993210</td>\n",
       "      <td>16.7227</td>\n",
       "      <td>268.000000</td>\n",
       "    </tr>\n",
       "    <tr>\n",
       "      <th>2</th>\n",
       "      <td>93</td>\n",
       "      <td>0</td>\n",
       "      <td>6</td>\n",
       "      <td>10.415413</td>\n",
       "      <td>1982.0</td>\n",
       "      <td>25.0</td>\n",
       "      <td>20.0</td>\n",
       "      <td>1</td>\n",
       "      <td>0</td>\n",
       "      <td>165.691940</td>\n",
       "      <td>161.240997</td>\n",
       "      <td>39.328667</td>\n",
       "      <td>1.4982</td>\n",
       "      <td>396.000000</td>\n",
       "    </tr>\n",
       "    <tr>\n",
       "      <th>3</th>\n",
       "      <td>105</td>\n",
       "      <td>0</td>\n",
       "      <td>0</td>\n",
       "      <td>10.832161</td>\n",
       "      <td>NaN</td>\n",
       "      <td>3.8</td>\n",
       "      <td>2.4</td>\n",
       "      <td>1</td>\n",
       "      <td>0</td>\n",
       "      <td>78.124031</td>\n",
       "      <td>75.115097</td>\n",
       "      <td>27.533489</td>\n",
       "      <td>23.3036</td>\n",
       "      <td>173.945007</td>\n",
       "    </tr>\n",
       "    <tr>\n",
       "      <th>4</th>\n",
       "      <td>106</td>\n",
       "      <td>0</td>\n",
       "      <td>0</td>\n",
       "      <td>8.589328</td>\n",
       "      <td>NaN</td>\n",
       "      <td>3.8</td>\n",
       "      <td>2.4</td>\n",
       "      <td>1</td>\n",
       "      <td>0</td>\n",
       "      <td>4.004444</td>\n",
       "      <td>0.749200</td>\n",
       "      <td>5.811982</td>\n",
       "      <td>0.0000</td>\n",
       "      <td>40.000000</td>\n",
       "    </tr>\n",
       "  </tbody>\n",
       "</table>\n",
       "</div>"
      ],
      "text/plain": [
       "   building_id  meter  primary_use  square_feet  year_built  air_temperature  \\\n",
       "0           46      0           11     9.109967      2016.0             25.0   \n",
       "1           74      0            8    12.867827      1997.0             25.0   \n",
       "2           93      0            6    10.415413      1982.0             25.0   \n",
       "3          105      0            0    10.832161         NaN              3.8   \n",
       "4          106      0            0     8.589328         NaN              3.8   \n",
       "\n",
       "   dew_temperature  month  hour  building_mean  building_median  building_std  \\\n",
       "0             20.0      1     0      15.850802        12.789499     12.523717   \n",
       "1             20.0      1     0     128.057907       109.551003     41.993210   \n",
       "2             20.0      1     0     165.691940       161.240997     39.328667   \n",
       "3              2.4      1     0      78.124031        75.115097     27.533489   \n",
       "4              2.4      1     0       4.004444         0.749200      5.811982   \n",
       "\n",
       "   building_min  building_max  \n",
       "0        0.4095    283.000000  \n",
       "1       16.7227    268.000000  \n",
       "2        1.4982    396.000000  \n",
       "3       23.3036    173.945007  \n",
       "4        0.0000     40.000000  "
      ]
     },
     "execution_count": 54,
     "metadata": {},
     "output_type": "execute_result"
    }
   ],
   "source": [
    "print(train.shape)\n",
    "train.head()"
   ]
  },
  {
   "cell_type": "markdown",
   "id": "identified-green",
   "metadata": {
    "papermill": {
     "duration": 0.083855,
     "end_time": "2021-06-21T03:48:31.244161",
     "exception": false,
     "start_time": "2021-06-21T03:48:31.160306",
     "status": "completed"
    },
    "tags": []
   },
   "source": [
    "# Modeling"
   ]
  },
  {
   "cell_type": "code",
   "execution_count": 55,
   "id": "proprietary-carroll",
   "metadata": {
    "execution": {
     "iopub.execute_input": "2021-06-21T03:48:31.421411Z",
     "iopub.status.busy": "2021-06-21T03:48:31.420561Z",
     "iopub.status.idle": "2021-06-21T03:48:31.425562Z",
     "shell.execute_reply": "2021-06-21T03:48:31.424757Z",
     "shell.execute_reply.started": "2021-06-21T01:22:03.998912Z"
    },
    "papermill": {
     "duration": 0.097,
     "end_time": "2021-06-21T03:48:31.425889",
     "exception": false,
     "start_time": "2021-06-21T03:48:31.328889",
     "status": "completed"
    },
    "tags": []
   },
   "outputs": [
    {
     "data": {
      "text/plain": [
       "\"\\nX_tr, X_val, y_tr, y_val = train_test_split(train, target, test_size=0.2, random_state=666)\\n\\ndef create_model(trial):\\n    num_leaves = trial.suggest_int('num_leaves', 2, 30)\\n    n_estimators = trial.suggest_int('n_estimators', 50, 300)\\n    learning_rate = trial.suggest_uniform('learning_rate', 0.0001, 0.99)\\n    max_depth = trial.suggest_int('max_depth', 2, 10)\\n    min_child_samples = trial.suggest_int('min_child_samples', 100, 1200)\\n    min_data_in_leaf = trial.suggest_int('min_data_in_leaf', 5, 90)\\n    bagging_freq = trial.suggest_int('bagging_freq', 1, 7)\\n    bagging_fraction = trial.suggest_uniform('bagging_fraction', 0.0001, 1.0)\\n    feature_fraction = trial.suggest_uniform('feature_fraction', 0.0001, 1.0)\\n    subsample = trial.suggest_uniform('subsample', 0.1, 1.0)\\n    colsample_bytree = trial.suggest_uniform('colsample_bytree', 0.1, 1.0)\\n    \\n    model = lgb.LGBMRegressor(\\n        num_leaves=num_leaves,\\n        n_estimators=n_estimators,\\n        learning_rate=learning_rate,\\n        max_depth=max_depth, \\n        min_child_samples=min_child_samples, \\n        min_data_in_leaf=min_data_in_leaf,\\n        bagging_freq=bagging_freq,\\n        bagging_fraction=bagging_fraction,\\n        feature_fraction=feature_fraction,\\n        subsample=subsample,\\n        colsample_bytree=colsample_bytree,\\n        metric='rsme',\\n        random_state=666)\\n    return model\\n\\ndef objective(trial):\\n    model = create_model(trial)\\n    model.fit(X_tr, y_tr)\\n    y_pred = model.predict(X_val)\\n    rsme = np.sqrt(mean_squared_error(y_pred, y_val))\\n    return rsme\\n\\nstudy = optuna.create_study(direction='minimize')\\nstudy.optimize(objective, n_trials=40)\\nparams = study.best_params\\nprint(params)\\n\""
      ]
     },
     "execution_count": 55,
     "metadata": {},
     "output_type": "execute_result"
    }
   ],
   "source": [
    "'''\n",
    "X_tr, X_val, y_tr, y_val = train_test_split(train, target, test_size=0.2, random_state=666)\n",
    "\n",
    "def create_model(trial):\n",
    "    num_leaves = trial.suggest_int('num_leaves', 2, 30)\n",
    "    n_estimators = trial.suggest_int('n_estimators', 50, 300)\n",
    "    learning_rate = trial.suggest_uniform('learning_rate', 0.0001, 0.99)\n",
    "    max_depth = trial.suggest_int('max_depth', 2, 10)\n",
    "    min_child_samples = trial.suggest_int('min_child_samples', 100, 1200)\n",
    "    min_data_in_leaf = trial.suggest_int('min_data_in_leaf', 5, 90)\n",
    "    bagging_freq = trial.suggest_int('bagging_freq', 1, 7)\n",
    "    bagging_fraction = trial.suggest_uniform('bagging_fraction', 0.0001, 1.0)\n",
    "    feature_fraction = trial.suggest_uniform('feature_fraction', 0.0001, 1.0)\n",
    "    subsample = trial.suggest_uniform('subsample', 0.1, 1.0)\n",
    "    colsample_bytree = trial.suggest_uniform('colsample_bytree', 0.1, 1.0)\n",
    "    \n",
    "    model = lgb.LGBMRegressor(\n",
    "        num_leaves=num_leaves,\n",
    "        n_estimators=n_estimators,\n",
    "        learning_rate=learning_rate,\n",
    "        max_depth=max_depth, \n",
    "        min_child_samples=min_child_samples, \n",
    "        min_data_in_leaf=min_data_in_leaf,\n",
    "        bagging_freq=bagging_freq,\n",
    "        bagging_fraction=bagging_fraction,\n",
    "        feature_fraction=feature_fraction,\n",
    "        subsample=subsample,\n",
    "        colsample_bytree=colsample_bytree,\n",
    "        metric='rsme',\n",
    "        random_state=666)\n",
    "    return model\n",
    "\n",
    "def objective(trial):\n",
    "    model = create_model(trial)\n",
    "    model.fit(X_tr, y_tr)\n",
    "    y_pred = model.predict(X_val)\n",
    "    rsme = np.sqrt(mean_squared_error(y_pred, y_val))\n",
    "    return rsme\n",
    "\n",
    "study = optuna.create_study(direction='minimize')\n",
    "study.optimize(objective, n_trials=40)\n",
    "params = study.best_params\n",
    "print(params)\n",
    "'''"
   ]
  },
  {
   "cell_type": "code",
   "execution_count": 56,
   "id": "printable-portland",
   "metadata": {
    "execution": {
     "iopub.execute_input": "2021-06-21T03:48:31.604431Z",
     "iopub.status.busy": "2021-06-21T03:48:31.603598Z",
     "iopub.status.idle": "2021-06-21T03:48:31.607438Z",
     "shell.execute_reply": "2021-06-21T03:48:31.606753Z",
     "shell.execute_reply.started": "2021-06-21T02:43:33.706273Z"
    },
    "papermill": {
     "duration": 0.09552,
     "end_time": "2021-06-21T03:48:31.607646",
     "exception": false,
     "start_time": "2021-06-21T03:48:31.512126",
     "status": "completed"
    },
    "tags": []
   },
   "outputs": [],
   "source": [
    "params = {'num_leaves': 30,\n",
    "          'n_estimators': 279,\n",
    "          'learning_rate': 0.41293292317272395,\n",
    "          'max_depth': 9,\n",
    "          'min_child_samples': 118,\n",
    "          'min_data_in_leaf': 74,\n",
    "          'bagging_freq': 1,\n",
    "          'bagging_fraction': 0.34909235383110854,\n",
    "          'feature_fraction': 0.7673641507626504,\n",
    "          'subsample': 0.7826605676058075,\n",
    "          'colsample_bytree': 0.31499443536061944,\n",
    "          'random_state': 666}"
   ]
  },
  {
   "cell_type": "code",
   "execution_count": 57,
   "id": "rubber-myrtle",
   "metadata": {
    "execution": {
     "iopub.execute_input": "2021-06-21T03:48:31.790087Z",
     "iopub.status.busy": "2021-06-21T03:48:31.789329Z",
     "iopub.status.idle": "2021-06-21T03:51:41.225736Z",
     "shell.execute_reply": "2021-06-21T03:51:41.226295Z",
     "shell.execute_reply.started": "2021-06-21T02:43:33.717504Z"
    },
    "papermill": {
     "duration": 189.531574,
     "end_time": "2021-06-21T03:51:41.226520",
     "exception": false,
     "start_time": "2021-06-21T03:48:31.694946",
     "status": "completed"
    },
    "tags": []
   },
   "outputs": [
    {
     "name": "stdout",
     "output_type": "stream",
     "text": [
      "[LightGBM] [Warning] bagging_fraction is set=0.34909235383110854, subsample=0.7826605676058075 will be ignored. Current value: bagging_fraction=0.34909235383110854\n",
      "[LightGBM] [Warning] feature_fraction is set=0.7673641507626504, colsample_bytree=0.31499443536061944 will be ignored. Current value: feature_fraction=0.7673641507626504\n",
      "[LightGBM] [Warning] bagging_freq is set=1, subsample_freq=0 will be ignored. Current value: bagging_freq=1\n",
      "[LightGBM] [Warning] min_data_in_leaf is set=74, min_child_samples=118 will be ignored. Current value: min_data_in_leaf=74\n"
     ]
    },
    {
     "data": {
      "text/plain": [
       "LGBMRegressor(bagging_fraction=0.34909235383110854, bagging_freq=1,\n",
       "              colsample_bytree=0.31499443536061944,\n",
       "              feature_fraction=0.7673641507626504,\n",
       "              learning_rate=0.41293292317272395, max_depth=9,\n",
       "              min_child_samples=118, min_data_in_leaf=74, n_estimators=279,\n",
       "              num_leaves=30, random_state=666, subsample=0.7826605676058075)"
      ]
     },
     "execution_count": 57,
     "metadata": {},
     "output_type": "execute_result"
    }
   ],
   "source": [
    "cls = lgb.LGBMRegressor(**params)\n",
    "cls.fit(train, target)"
   ]
  },
  {
   "cell_type": "code",
   "execution_count": 58,
   "id": "attended-privacy",
   "metadata": {
    "execution": {
     "iopub.execute_input": "2021-06-21T03:51:41.601894Z",
     "iopub.status.busy": "2021-06-21T03:51:41.601065Z",
     "iopub.status.idle": "2021-06-21T03:51:41.604570Z",
     "shell.execute_reply": "2021-06-21T03:51:41.605069Z",
     "shell.execute_reply.started": "2021-06-21T02:45:26.230907Z"
    },
    "papermill": {
     "duration": 0.293703,
     "end_time": "2021-06-21T03:51:41.605272",
     "exception": false,
     "start_time": "2021-06-21T03:51:41.311569",
     "status": "completed"
    },
    "tags": []
   },
   "outputs": [
    {
     "data": {
      "text/plain": [
       "119"
      ]
     },
     "execution_count": 58,
     "metadata": {},
     "output_type": "execute_result"
    }
   ],
   "source": [
    "del train, target, params\n",
    "gc.collect()"
   ]
  },
  {
   "cell_type": "code",
   "execution_count": 59,
   "id": "thrown-machinery",
   "metadata": {
    "execution": {
     "iopub.execute_input": "2021-06-21T03:51:41.782855Z",
     "iopub.status.busy": "2021-06-21T03:51:41.782148Z",
     "iopub.status.idle": "2021-06-21T03:51:42.076092Z",
     "shell.execute_reply": "2021-06-21T03:51:42.076658Z",
     "shell.execute_reply.started": "2021-06-21T02:45:26.633383Z"
    },
    "papermill": {
     "duration": 0.38415,
     "end_time": "2021-06-21T03:51:42.076867",
     "exception": false,
     "start_time": "2021-06-21T03:51:41.692717",
     "status": "completed"
    },
    "tags": []
   },
   "outputs": [
    {
     "data": {
      "image/png": "[encoded data removed]",
      "text/plain": [
       "<Figure size 432x288 with 1 Axes>"
      ]
     },
     "metadata": {},
     "output_type": "display_data"
    }
   ],
   "source": [
    "lgb.plot_importance(cls)\n",
    "plt.show()"
   ]
  },
  {
   "cell_type": "markdown",
   "id": "assured-instrumentation",
   "metadata": {
    "papermill": {
     "duration": 0.086821,
     "end_time": "2021-06-21T03:51:42.253317",
     "exception": false,
     "start_time": "2021-06-21T03:51:42.166496",
     "status": "completed"
    },
    "tags": []
   },
   "source": [
    "# Submit"
   ]
  },
  {
   "cell_type": "code",
   "execution_count": 60,
   "id": "thorough-morning",
   "metadata": {
    "execution": {
     "iopub.execute_input": "2021-06-21T03:51:42.432523Z",
     "iopub.status.busy": "2021-06-21T03:51:42.431751Z",
     "iopub.status.idle": "2021-06-21T03:51:43.860855Z",
     "shell.execute_reply": "2021-06-21T03:51:43.861414Z",
     "shell.execute_reply.started": "2021-06-21T02:45:26.942071Z"
    },
    "papermill": {
     "duration": 1.521201,
     "end_time": "2021-06-21T03:51:43.861634",
     "exception": false,
     "start_time": "2021-06-21T03:51:42.340433",
     "status": "completed"
    },
    "tags": []
   },
   "outputs": [
    {
     "data": {
      "text/plain": [
       "4979"
      ]
     },
     "execution_count": 60,
     "metadata": {},
     "output_type": "execute_result"
    }
   ],
   "source": [
    "row_id = test['row_id']\n",
    "\n",
    "test = test.drop(['row_id'], axis = 1)\n",
    "gc.collect()"
   ]
  },
  {
   "cell_type": "code",
   "execution_count": 61,
   "id": "strategic-memphis",
   "metadata": {
    "execution": {
     "iopub.execute_input": "2021-06-21T03:51:44.045514Z",
     "iopub.status.busy": "2021-06-21T03:51:44.044784Z",
     "iopub.status.idle": "2021-06-21T03:51:51.819539Z",
     "shell.execute_reply": "2021-06-21T03:51:51.818853Z",
     "shell.execute_reply.started": "2021-06-21T02:45:28.359864Z"
    },
    "papermill": {
     "duration": 7.869178,
     "end_time": "2021-06-21T03:51:51.819715",
     "exception": false,
     "start_time": "2021-06-21T03:51:43.950537",
     "status": "completed"
    },
    "tags": []
   },
   "outputs": [],
   "source": [
    "test['hour'] = test['timestamp'].dt.hour\n",
    "# test['day'] = test['timestamp'].dt.day\n",
    "# test['weekend'] = test['timestamp'].dt.weekday\n",
    "test['month'] = test['timestamp'].dt.month"
   ]
  },
  {
   "cell_type": "code",
   "execution_count": 62,
   "id": "prepared-region",
   "metadata": {
    "execution": {
     "iopub.execute_input": "2021-06-21T03:51:52.008827Z",
     "iopub.status.busy": "2021-06-21T03:51:52.008128Z",
     "iopub.status.idle": "2021-06-21T03:51:53.377556Z",
     "shell.execute_reply": "2021-06-21T03:51:53.376971Z",
     "shell.execute_reply.started": "2021-06-21T02:45:44.244237Z"
    },
    "papermill": {
     "duration": 1.467319,
     "end_time": "2021-06-21T03:51:53.377736",
     "exception": false,
     "start_time": "2021-06-21T03:51:51.910417",
     "status": "completed"
    },
    "tags": []
   },
   "outputs": [
    {
     "data": {
      "text/plain": [
       "55"
      ]
     },
     "execution_count": 62,
     "metadata": {},
     "output_type": "execute_result"
    }
   ],
   "source": [
    "test = test.drop(['timestamp', 'site_id'], axis=1)\n",
    "gc.collect()"
   ]
  },
  {
   "cell_type": "code",
   "execution_count": 63,
   "id": "forty-stock",
   "metadata": {
    "execution": {
     "iopub.execute_input": "2021-06-21T03:51:53.563545Z",
     "iopub.status.busy": "2021-06-21T03:51:53.561964Z",
     "iopub.status.idle": "2021-06-21T03:51:56.084741Z",
     "shell.execute_reply": "2021-06-21T03:51:56.085259Z",
     "shell.execute_reply.started": "2021-06-21T02:45:46.352828Z"
    },
    "papermill": {
     "duration": 2.618892,
     "end_time": "2021-06-21T03:51:56.085476",
     "exception": false,
     "start_time": "2021-06-21T03:51:53.466584",
     "status": "completed"
    },
    "tags": []
   },
   "outputs": [],
   "source": [
    "test['building_mean'] = test['building_id'].map(building_mean)\n",
    "test['building_median'] = test['building_id'].map(building_median)\n",
    "test['building_std'] = test['building_id'].map(building_std)\n",
    "\n",
    "test['building_min'] = test['building_id'].map(building_min)\n",
    "test['building_max'] = test['building_id'].map(building_max)"
   ]
  },
  {
   "cell_type": "code",
   "execution_count": 64,
   "id": "dramatic-trader",
   "metadata": {
    "execution": {
     "iopub.execute_input": "2021-06-21T03:51:56.466264Z",
     "iopub.status.busy": "2021-06-21T03:51:56.465292Z",
     "iopub.status.idle": "2021-06-21T03:51:56.470072Z",
     "shell.execute_reply": "2021-06-21T03:51:56.469500Z",
     "shell.execute_reply.started": "2021-06-21T02:45:48.849978Z"
    },
    "papermill": {
     "duration": 0.293895,
     "end_time": "2021-06-21T03:51:56.470228",
     "exception": false,
     "start_time": "2021-06-21T03:51:56.176333",
     "status": "completed"
    },
    "tags": []
   },
   "outputs": [
    {
     "data": {
      "text/plain": [
       "40"
      ]
     },
     "execution_count": 64,
     "metadata": {},
     "output_type": "execute_result"
    }
   ],
   "source": [
    "del building_mean, building_median, building_std\n",
    "gc.collect()"
   ]
  },
  {
   "cell_type": "code",
   "execution_count": 65,
   "id": "about-heart",
   "metadata": {
    "execution": {
     "iopub.execute_input": "2021-06-21T03:51:56.656135Z",
     "iopub.status.busy": "2021-06-21T03:51:56.654435Z",
     "iopub.status.idle": "2021-06-21T03:52:02.106860Z",
     "shell.execute_reply": "2021-06-21T03:52:02.105997Z",
     "shell.execute_reply.started": "2021-06-21T02:45:48.990630Z"
    },
    "papermill": {
     "duration": 5.548469,
     "end_time": "2021-06-21T03:52:02.107078",
     "exception": false,
     "start_time": "2021-06-21T03:51:56.558609",
     "status": "completed"
    },
    "tags": []
   },
   "outputs": [
    {
     "name": "stdout",
     "output_type": "stream",
     "text": [
      "Memory usage of dataframe is 2385.96 MB\n",
      "Memory usage after optimization is: 1670.17 MB\n",
      "Decreased by 30.0%\n"
     ]
    }
   ],
   "source": [
    "row_id = row_id.reset_index(drop=True)\n",
    "test = test.reset_index(drop=True)\n",
    "\n",
    "test = reduce_mem_usage(test)"
   ]
  },
  {
   "cell_type": "code",
   "execution_count": 66,
   "id": "exempt-morrison",
   "metadata": {
    "_kg_hide-input": true,
    "_kg_hide-output": true,
    "execution": {
     "iopub.execute_input": "2021-06-21T03:52:02.334949Z",
     "iopub.status.busy": "2021-06-21T03:52:02.334297Z",
     "iopub.status.idle": "2021-06-21T03:52:02.375928Z",
     "shell.execute_reply": "2021-06-21T03:52:02.376444Z",
     "shell.execute_reply.started": "2021-06-21T02:45:57.162230Z"
    },
    "papermill": {
     "duration": 0.16767,
     "end_time": "2021-06-21T03:52:02.376657",
     "exception": false,
     "start_time": "2021-06-21T03:52:02.208987",
     "status": "completed"
    },
    "tags": []
   },
   "outputs": [
    {
     "name": "stdout",
     "output_type": "stream",
     "text": [
      "           name        size\n",
      "0          test  1751299360\n",
      "1        row_id   166790560\n",
      "2  building_min       50484\n",
      "3  building_max       50484\n",
      "4           _22        2437\n",
      "5           _15        2349\n",
      "6           _13        2309\n",
      "7           _44        2077\n",
      "8           _38        2017\n",
      "9          _i11        1787\n"
     ]
    }
   ],
   "source": [
    "print(pd.DataFrame([[i for i in dir()], [sys.getsizeof(eval(i)) for i in dir()]],\n",
    "                   index=['name','size']).T.sort_values('size', ascending=False).reset_index(drop=True).head(10))"
   ]
  },
  {
   "cell_type": "code",
   "execution_count": 67,
   "id": "activated-railway",
   "metadata": {
    "execution": {
     "iopub.execute_input": "2021-06-21T03:52:02.577578Z",
     "iopub.status.busy": "2021-06-21T03:52:02.568468Z",
     "iopub.status.idle": "2021-06-21T03:52:02.582383Z",
     "shell.execute_reply": "2021-06-21T03:52:02.582896Z",
     "shell.execute_reply.started": "2021-06-21T02:45:57.218308Z"
    },
    "papermill": {
     "duration": 0.115873,
     "end_time": "2021-06-21T03:52:02.583111",
     "exception": false,
     "start_time": "2021-06-21T03:52:02.467238",
     "status": "completed"
    },
    "tags": []
   },
   "outputs": [
    {
     "name": "stdout",
     "output_type": "stream",
     "text": [
      "(41697600, 14)\n"
     ]
    },
    {
     "data": {
      "text/html": [
       "<div>\n",
       "<style scoped>\n",
       "    .dataframe tbody tr th:only-of-type {\n",
       "        vertical-align: middle;\n",
       "    }\n",
       "\n",
       "    .dataframe tbody tr th {\n",
       "        vertical-align: top;\n",
       "    }\n",
       "\n",
       "    .dataframe thead th {\n",
       "        text-align: right;\n",
       "    }\n",
       "</style>\n",
       "<table border=\"1\" class=\"dataframe\">\n",
       "  <thead>\n",
       "    <tr style=\"text-align: right;\">\n",
       "      <th></th>\n",
       "      <th>building_id</th>\n",
       "      <th>meter</th>\n",
       "      <th>primary_use</th>\n",
       "      <th>square_feet</th>\n",
       "      <th>year_built</th>\n",
       "      <th>air_temperature</th>\n",
       "      <th>dew_temperature</th>\n",
       "      <th>hour</th>\n",
       "      <th>month</th>\n",
       "      <th>building_mean</th>\n",
       "      <th>building_median</th>\n",
       "      <th>building_std</th>\n",
       "      <th>building_min</th>\n",
       "      <th>building_max</th>\n",
       "    </tr>\n",
       "  </thead>\n",
       "  <tbody>\n",
       "    <tr>\n",
       "      <th>0</th>\n",
       "      <td>0</td>\n",
       "      <td>0</td>\n",
       "      <td>0</td>\n",
       "      <td>8.913550</td>\n",
       "      <td>2008.0</td>\n",
       "      <td>17.799999</td>\n",
       "      <td>11.7</td>\n",
       "      <td>0</td>\n",
       "      <td>1</td>\n",
       "      <td>237.749130</td>\n",
       "      <td>240.944000</td>\n",
       "      <td>49.132168</td>\n",
       "      <td>37.540798</td>\n",
       "      <td>448.000000</td>\n",
       "    </tr>\n",
       "    <tr>\n",
       "      <th>1</th>\n",
       "      <td>1</td>\n",
       "      <td>0</td>\n",
       "      <td>0</td>\n",
       "      <td>7.908387</td>\n",
       "      <td>2004.0</td>\n",
       "      <td>17.799999</td>\n",
       "      <td>11.7</td>\n",
       "      <td>0</td>\n",
       "      <td>1</td>\n",
       "      <td>118.553741</td>\n",
       "      <td>131.871002</td>\n",
       "      <td>29.347374</td>\n",
       "      <td>11.740000</td>\n",
       "      <td>255.000000</td>\n",
       "    </tr>\n",
       "    <tr>\n",
       "      <th>2</th>\n",
       "      <td>2</td>\n",
       "      <td>0</td>\n",
       "      <td>0</td>\n",
       "      <td>8.589700</td>\n",
       "      <td>1991.0</td>\n",
       "      <td>17.799999</td>\n",
       "      <td>11.7</td>\n",
       "      <td>0</td>\n",
       "      <td>1</td>\n",
       "      <td>23.626499</td>\n",
       "      <td>20.476801</td>\n",
       "      <td>14.302269</td>\n",
       "      <td>1.228600</td>\n",
       "      <td>67.983002</td>\n",
       "    </tr>\n",
       "    <tr>\n",
       "      <th>3</th>\n",
       "      <td>3</td>\n",
       "      <td>0</td>\n",
       "      <td>0</td>\n",
       "      <td>10.072598</td>\n",
       "      <td>2002.0</td>\n",
       "      <td>17.799999</td>\n",
       "      <td>11.7</td>\n",
       "      <td>0</td>\n",
       "      <td>1</td>\n",
       "      <td>382.736023</td>\n",
       "      <td>368.924011</td>\n",
       "      <td>112.268532</td>\n",
       "      <td>77.811897</td>\n",
       "      <td>937.000000</td>\n",
       "    </tr>\n",
       "    <tr>\n",
       "      <th>4</th>\n",
       "      <td>4</td>\n",
       "      <td>0</td>\n",
       "      <td>0</td>\n",
       "      <td>11.666565</td>\n",
       "      <td>1975.0</td>\n",
       "      <td>17.799999</td>\n",
       "      <td>11.7</td>\n",
       "      <td>0</td>\n",
       "      <td>1</td>\n",
       "      <td>1579.174194</td>\n",
       "      <td>1593.780029</td>\n",
       "      <td>176.969437</td>\n",
       "      <td>70.986298</td>\n",
       "      <td>3592.000000</td>\n",
       "    </tr>\n",
       "  </tbody>\n",
       "</table>\n",
       "</div>"
      ],
      "text/plain": [
       "   building_id  meter  primary_use  square_feet  year_built  air_temperature  \\\n",
       "0            0      0            0     8.913550      2008.0        17.799999   \n",
       "1            1      0            0     7.908387      2004.0        17.799999   \n",
       "2            2      0            0     8.589700      1991.0        17.799999   \n",
       "3            3      0            0    10.072598      2002.0        17.799999   \n",
       "4            4      0            0    11.666565      1975.0        17.799999   \n",
       "\n",
       "   dew_temperature  hour  month  building_mean  building_median  building_std  \\\n",
       "0             11.7     0      1     237.749130       240.944000     49.132168   \n",
       "1             11.7     0      1     118.553741       131.871002     29.347374   \n",
       "2             11.7     0      1      23.626499        20.476801     14.302269   \n",
       "3             11.7     0      1     382.736023       368.924011    112.268532   \n",
       "4             11.7     0      1    1579.174194      1593.780029    176.969437   \n",
       "\n",
       "   building_min  building_max  \n",
       "0     37.540798    448.000000  \n",
       "1     11.740000    255.000000  \n",
       "2      1.228600     67.983002  \n",
       "3     77.811897    937.000000  \n",
       "4     70.986298   3592.000000  "
      ]
     },
     "execution_count": 67,
     "metadata": {},
     "output_type": "execute_result"
    }
   ],
   "source": [
    "print(test.shape)\n",
    "test.head()"
   ]
  },
  {
   "cell_type": "code",
   "execution_count": 68,
   "id": "after-latitude",
   "metadata": {
    "execution": {
     "iopub.execute_input": "2021-06-21T03:52:02.778267Z",
     "iopub.status.busy": "2021-06-21T03:52:02.776628Z",
     "iopub.status.idle": "2021-06-21T03:55:00.736807Z",
     "shell.execute_reply": "2021-06-21T03:55:00.737361Z",
     "shell.execute_reply.started": "2021-06-21T02:45:57.244300Z"
    },
    "papermill": {
     "duration": 178.060903,
     "end_time": "2021-06-21T03:55:00.737586",
     "exception": false,
     "start_time": "2021-06-21T03:52:02.676683",
     "status": "completed"
    },
    "tags": []
   },
   "outputs": [
    {
     "data": {
      "text/html": [
       "<div>\n",
       "<style scoped>\n",
       "    .dataframe tbody tr th:only-of-type {\n",
       "        vertical-align: middle;\n",
       "    }\n",
       "\n",
       "    .dataframe tbody tr th {\n",
       "        vertical-align: top;\n",
       "    }\n",
       "\n",
       "    .dataframe thead th {\n",
       "        text-align: right;\n",
       "    }\n",
       "</style>\n",
       "<table border=\"1\" class=\"dataframe\">\n",
       "  <thead>\n",
       "    <tr style=\"text-align: right;\">\n",
       "      <th></th>\n",
       "      <th>meter_reading</th>\n",
       "    </tr>\n",
       "    <tr>\n",
       "      <th>row_id</th>\n",
       "      <th></th>\n",
       "    </tr>\n",
       "  </thead>\n",
       "  <tbody>\n",
       "    <tr>\n",
       "      <th>0</th>\n",
       "      <td>39.108085</td>\n",
       "    </tr>\n",
       "    <tr>\n",
       "      <th>1</th>\n",
       "      <td>51.360983</td>\n",
       "    </tr>\n",
       "    <tr>\n",
       "      <th>2</th>\n",
       "      <td>8.794303</td>\n",
       "    </tr>\n",
       "    <tr>\n",
       "      <th>3</th>\n",
       "      <td>95.236591</td>\n",
       "    </tr>\n",
       "    <tr>\n",
       "      <th>4</th>\n",
       "      <td>288.396315</td>\n",
       "    </tr>\n",
       "    <tr>\n",
       "      <th>5</th>\n",
       "      <td>10.192141</td>\n",
       "    </tr>\n",
       "    <tr>\n",
       "      <th>6</th>\n",
       "      <td>25.039492</td>\n",
       "    </tr>\n",
       "    <tr>\n",
       "      <th>7</th>\n",
       "      <td>148.996264</td>\n",
       "    </tr>\n",
       "    <tr>\n",
       "      <th>8</th>\n",
       "      <td>20.136699</td>\n",
       "    </tr>\n",
       "    <tr>\n",
       "      <th>9</th>\n",
       "      <td>63.185181</td>\n",
       "    </tr>\n",
       "  </tbody>\n",
       "</table>\n",
       "</div>"
      ],
      "text/plain": [
       "        meter_reading\n",
       "row_id               \n",
       "0           39.108085\n",
       "1           51.360983\n",
       "2            8.794303\n",
       "3           95.236591\n",
       "4          288.396315\n",
       "5           10.192141\n",
       "6           25.039492\n",
       "7          148.996264\n",
       "8           20.136699\n",
       "9           63.185181"
      ]
     },
     "execution_count": 68,
     "metadata": {},
     "output_type": "execute_result"
    }
   ],
   "source": [
    "target = np.expm1(cls.predict(test))\n",
    "\n",
    "submission = pd.DataFrame(target, index=row_id, columns=['meter_reading'])\n",
    "submission.head(10)"
   ]
  },
  {
   "cell_type": "code",
   "execution_count": 69,
   "id": "suffering-wrist",
   "metadata": {
    "execution": {
     "iopub.execute_input": "2021-06-21T03:55:01.137842Z",
     "iopub.status.busy": "2021-06-21T03:55:01.134844Z",
     "iopub.status.idle": "2021-06-21T03:55:01.510692Z",
     "shell.execute_reply": "2021-06-21T03:55:01.511232Z"
    },
    "papermill": {
     "duration": 0.682375,
     "end_time": "2021-06-21T03:55:01.511447",
     "exception": false,
     "start_time": "2021-06-21T03:55:00.829072",
     "status": "completed"
    },
    "tags": []
   },
   "outputs": [
    {
     "name": "stdout",
     "output_type": "stream",
     "text": [
      "Memory usage of dataframe is 636.25 MB\n",
      "Memory usage after optimization is: 477.19 MB\n",
      "Decreased by 25.0%\n"
     ]
    }
   ],
   "source": [
    "del row_id\n",
    "gc.collect()\n",
    "\n",
    "submission = reduce_mem_usage(submission)"
   ]
  },
  {
   "cell_type": "code",
   "execution_count": 70,
   "id": "robust-shareware",
   "metadata": {
    "execution": {
     "iopub.execute_input": "2021-06-21T03:55:01.709286Z",
     "iopub.status.busy": "2021-06-21T03:55:01.708263Z",
     "iopub.status.idle": "2021-06-21T03:57:19.151717Z",
     "shell.execute_reply": "2021-06-21T03:57:19.151045Z"
    },
    "papermill": {
     "duration": 137.546593,
     "end_time": "2021-06-21T03:57:19.151924",
     "exception": false,
     "start_time": "2021-06-21T03:55:01.605331",
     "status": "completed"
    },
    "tags": []
   },
   "outputs": [],
   "source": [
    "submission.to_csv('ASHRAE_submit.csv')"
   ]
  }
 ],
 "metadata": {
  "kernelspec": {
   "display_name": "Python 3",
   "language": "python",
   "name": "python3"
  },
  "language_info": {
   "codemirror_mode": {
    "name": "ipython",
    "version": 3
   },
   "file_extension": ".py",
   "mimetype": "text/x-python",
   "name": "python",
   "nbconvert_exporter": "python",
   "pygments_lexer": "ipython3",
   "version": "3.7.10"
  },
  "papermill": {
   "default_parameters": {},
   "duration": 801.454052,
   "end_time": "2021-06-21T03:57:21.961446",
   "environment_variables": {},
   "exception": null,
   "input_path": "__notebook__.ipynb",
   "output_path": "__notebook__.ipynb",
   "parameters": {},
   "start_time": "2021-06-21T03:44:00.507394",
   "version": "2.3.3"
  }
 },
 "nbformat": 4,
 "nbformat_minor": 5
}
