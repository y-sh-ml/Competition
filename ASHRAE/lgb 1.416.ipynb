{
 "cells": [
  {
   "cell_type": "markdown",
   "id": "exempt-placement",
   "metadata": {
    "papermill": {
     "duration": 0.055587,
     "end_time": "2021-06-09T10:36:13.203239",
     "exception": false,
     "start_time": "2021-06-09T10:36:13.147652",
     "status": "completed"
    },
    "tags": []
   },
   "source": [
    "# Overview"
   ]
  },
  {
   "cell_type": "markdown",
   "id": "pediatric-flush",
   "metadata": {
    "papermill": {
     "duration": 0.04744,
     "end_time": "2021-06-09T10:36:13.298219",
     "exception": false,
     "start_time": "2021-06-09T10:36:13.250779",
     "status": "completed"
    },
    "tags": []
   },
   "source": [
    "1448棟のビルの4種類のメーター（電力、冷水、スチーム、温水）の値を予測するコンペである。\n",
    "\n",
    "背景としては、エネルギー使用量（4種類のメーターの値）が正確に予測できるようになることで<br>\n",
    "省エネ投資を活発化させて、環境問題に貢献したいという狙いがある。\n",
    "\n",
    "ビルの所有者は、ビルのエネルギー効率を改善するような投資を行うことで<br>\n",
    "エネルギー効率が改善された分、コストを抑えることができる。"
   ]
  },
  {
   "cell_type": "markdown",
   "id": "printable-charleston",
   "metadata": {
    "papermill": {
     "duration": 0.047395,
     "end_time": "2021-06-09T10:36:13.393115",
     "exception": false,
     "start_time": "2021-06-09T10:36:13.345720",
     "status": "completed"
    },
    "tags": []
   },
   "source": [
    "# Module"
   ]
  },
  {
   "cell_type": "code",
   "execution_count": 1,
   "id": "compliant-agreement",
   "metadata": {
    "execution": {
     "iopub.execute_input": "2021-06-09T10:36:13.502018Z",
     "iopub.status.busy": "2021-06-09T10:36:13.501392Z",
     "iopub.status.idle": "2021-06-09T10:36:16.377678Z",
     "shell.execute_reply": "2021-06-09T10:36:16.376665Z",
     "shell.execute_reply.started": "2021-06-09T10:27:07.592378Z"
    },
    "papermill": {
     "duration": 2.937424,
     "end_time": "2021-06-09T10:36:16.377874",
     "exception": false,
     "start_time": "2021-06-09T10:36:13.440450",
     "status": "completed"
    },
    "tags": []
   },
   "outputs": [
    {
     "data": {
      "text/html": [
       "<style type='text/css'>\n",
       ".datatable table.frame { margin-bottom: 0; }\n",
       ".datatable table.frame thead { border-bottom: none; }\n",
       ".datatable table.frame tr.coltypes td {  color: #FFFFFF;  line-height: 6px;  padding: 0 0.5em;}\n",
       ".datatable .bool    { background: #DDDD99; }\n",
       ".datatable .object  { background: #565656; }\n",
       ".datatable .int     { background: #5D9E5D; }\n",
       ".datatable .float   { background: #4040CC; }\n",
       ".datatable .str     { background: #CC4040; }\n",
       ".datatable .row_index {  background: var(--jp-border-color3);  border-right: 1px solid var(--jp-border-color0);  color: var(--jp-ui-font-color3);  font-size: 9px;}\n",
       ".datatable .frame tr.coltypes .row_index {  background: var(--jp-border-color0);}\n",
       ".datatable th:nth-child(2) { padding-left: 12px; }\n",
       ".datatable .hellipsis {  color: var(--jp-cell-editor-border-color);}\n",
       ".datatable .vellipsis {  background: var(--jp-layout-color0);  color: var(--jp-cell-editor-border-color);}\n",
       ".datatable .na {  color: var(--jp-cell-editor-border-color);  font-size: 80%;}\n",
       ".datatable .footer { font-size: 9px; }\n",
       ".datatable .frame_dimensions {  background: var(--jp-border-color3);  border-top: 1px solid var(--jp-border-color0);  color: var(--jp-ui-font-color3);  display: inline-block;  opacity: 0.6;  padding: 1px 10px 1px 5px;}\n",
       "</style>\n"
      ],
      "text/plain": [
       "<IPython.core.display.HTML object>"
      ]
     },
     "metadata": {},
     "output_type": "display_data"
    }
   ],
   "source": [
    "import gc\n",
    "import sys\n",
    "import optuna\n",
    "import datetime\n",
    "import warnings\n",
    "import matplotlib\n",
    "import numpy as np\n",
    "import pandas as pd\n",
    "import seaborn as sns\n",
    "import lightgbm as lgb\n",
    "import matplotlib.pyplot as plt\n",
    "\n",
    "from sklearn.preprocessing import LabelEncoder\n",
    "from sklearn.model_selection import train_test_split\n",
    "from sklearn.metrics import mean_squared_error\n",
    "from pandas.api.types import is_datetime64_any_dtype as is_datetime\n",
    "from pandas.api.types import is_categorical_dtype"
   ]
  },
  {
   "cell_type": "markdown",
   "id": "opposed-india",
   "metadata": {
    "papermill": {
     "duration": 0.047904,
     "end_time": "2021-06-09T10:36:16.474792",
     "exception": false,
     "start_time": "2021-06-09T10:36:16.426888",
     "status": "completed"
    },
    "tags": []
   },
   "source": [
    "# Datasets"
   ]
  },
  {
   "cell_type": "code",
   "execution_count": 2,
   "id": "entire-multimedia",
   "metadata": {
    "execution": {
     "iopub.execute_input": "2021-06-09T10:36:16.576264Z",
     "iopub.status.busy": "2021-06-09T10:36:16.575579Z",
     "iopub.status.idle": "2021-06-09T10:36:31.659388Z",
     "shell.execute_reply": "2021-06-09T10:36:31.658648Z",
     "shell.execute_reply.started": "2021-06-09T10:27:10.934309Z"
    },
    "papermill": {
     "duration": 15.136592,
     "end_time": "2021-06-09T10:36:31.659543",
     "exception": false,
     "start_time": "2021-06-09T10:36:16.522951",
     "status": "completed"
    },
    "tags": []
   },
   "outputs": [
    {
     "name": "stdout",
     "output_type": "stream",
     "text": [
      "(20216100, 4)\n"
     ]
    },
    {
     "data": {
      "text/html": [
       "<div>\n",
       "<style scoped>\n",
       "    .dataframe tbody tr th:only-of-type {\n",
       "        vertical-align: middle;\n",
       "    }\n",
       "\n",
       "    .dataframe tbody tr th {\n",
       "        vertical-align: top;\n",
       "    }\n",
       "\n",
       "    .dataframe thead th {\n",
       "        text-align: right;\n",
       "    }\n",
       "</style>\n",
       "<table border=\"1\" class=\"dataframe\">\n",
       "  <thead>\n",
       "    <tr style=\"text-align: right;\">\n",
       "      <th></th>\n",
       "      <th>building_id</th>\n",
       "      <th>meter</th>\n",
       "      <th>timestamp</th>\n",
       "      <th>meter_reading</th>\n",
       "    </tr>\n",
       "  </thead>\n",
       "  <tbody>\n",
       "    <tr>\n",
       "      <th>0</th>\n",
       "      <td>0</td>\n",
       "      <td>0</td>\n",
       "      <td>2016-01-01 00:00:00</td>\n",
       "      <td>0.0</td>\n",
       "    </tr>\n",
       "    <tr>\n",
       "      <th>1</th>\n",
       "      <td>1</td>\n",
       "      <td>0</td>\n",
       "      <td>2016-01-01 00:00:00</td>\n",
       "      <td>0.0</td>\n",
       "    </tr>\n",
       "    <tr>\n",
       "      <th>2</th>\n",
       "      <td>2</td>\n",
       "      <td>0</td>\n",
       "      <td>2016-01-01 00:00:00</td>\n",
       "      <td>0.0</td>\n",
       "    </tr>\n",
       "    <tr>\n",
       "      <th>3</th>\n",
       "      <td>3</td>\n",
       "      <td>0</td>\n",
       "      <td>2016-01-01 00:00:00</td>\n",
       "      <td>0.0</td>\n",
       "    </tr>\n",
       "    <tr>\n",
       "      <th>4</th>\n",
       "      <td>4</td>\n",
       "      <td>0</td>\n",
       "      <td>2016-01-01 00:00:00</td>\n",
       "      <td>0.0</td>\n",
       "    </tr>\n",
       "  </tbody>\n",
       "</table>\n",
       "</div>"
      ],
      "text/plain": [
       "   building_id  meter            timestamp  meter_reading\n",
       "0            0      0  2016-01-01 00:00:00            0.0\n",
       "1            1      0  2016-01-01 00:00:00            0.0\n",
       "2            2      0  2016-01-01 00:00:00            0.0\n",
       "3            3      0  2016-01-01 00:00:00            0.0\n",
       "4            4      0  2016-01-01 00:00:00            0.0"
      ]
     },
     "execution_count": 2,
     "metadata": {},
     "output_type": "execute_result"
    }
   ],
   "source": [
    "train = pd.read_csv('../input/ashrae-energy-prediction/train.csv')\n",
    "\n",
    "print(train.shape)\n",
    "train.head()"
   ]
  },
  {
   "cell_type": "markdown",
   "id": "nonprofit-tanzania",
   "metadata": {
    "execution": {
     "iopub.execute_input": "2021-06-04T05:10:36.573413Z",
     "iopub.status.busy": "2021-06-04T05:10:36.573045Z",
     "iopub.status.idle": "2021-06-04T05:10:36.579555Z",
     "shell.execute_reply": "2021-06-04T05:10:36.578197Z",
     "shell.execute_reply.started": "2021-06-04T05:10:36.573384Z"
    },
    "papermill": {
     "duration": 0.048508,
     "end_time": "2021-06-09T10:36:31.756846",
     "exception": false,
     "start_time": "2021-06-09T10:36:31.708338",
     "status": "completed"
    },
    "tags": []
   },
   "source": [
    "1時間ごとのメータ値を保持するテーブル（学習データ）<br>\n",
    "・building_id：ビルのID<br>\n",
    "・meter：0は電力、1は冷水、2はスチーム、3は温水<br>\n",
    "・timestamp：日付と時刻<br>\n",
    "・meter_reading：メーターの使用量（目的変数）<br>"
   ]
  },
  {
   "cell_type": "code",
   "execution_count": 3,
   "id": "toxic-stability",
   "metadata": {
    "execution": {
     "iopub.execute_input": "2021-06-09T10:36:31.858199Z",
     "iopub.status.busy": "2021-06-09T10:36:31.857164Z",
     "iopub.status.idle": "2021-06-09T10:37:01.378000Z",
     "shell.execute_reply": "2021-06-09T10:37:01.378457Z",
     "shell.execute_reply.started": "2021-06-09T10:27:24.556322Z"
    },
    "papermill": {
     "duration": 29.573041,
     "end_time": "2021-06-09T10:37:01.378630",
     "exception": false,
     "start_time": "2021-06-09T10:36:31.805589",
     "status": "completed"
    },
    "tags": []
   },
   "outputs": [
    {
     "name": "stdout",
     "output_type": "stream",
     "text": [
      "(41697600, 4)\n"
     ]
    },
    {
     "data": {
      "text/html": [
       "<div>\n",
       "<style scoped>\n",
       "    .dataframe tbody tr th:only-of-type {\n",
       "        vertical-align: middle;\n",
       "    }\n",
       "\n",
       "    .dataframe tbody tr th {\n",
       "        vertical-align: top;\n",
       "    }\n",
       "\n",
       "    .dataframe thead th {\n",
       "        text-align: right;\n",
       "    }\n",
       "</style>\n",
       "<table border=\"1\" class=\"dataframe\">\n",
       "  <thead>\n",
       "    <tr style=\"text-align: right;\">\n",
       "      <th></th>\n",
       "      <th>row_id</th>\n",
       "      <th>building_id</th>\n",
       "      <th>meter</th>\n",
       "      <th>timestamp</th>\n",
       "    </tr>\n",
       "  </thead>\n",
       "  <tbody>\n",
       "    <tr>\n",
       "      <th>0</th>\n",
       "      <td>0</td>\n",
       "      <td>0</td>\n",
       "      <td>0</td>\n",
       "      <td>2017-01-01 00:00:00</td>\n",
       "    </tr>\n",
       "    <tr>\n",
       "      <th>1</th>\n",
       "      <td>1</td>\n",
       "      <td>1</td>\n",
       "      <td>0</td>\n",
       "      <td>2017-01-01 00:00:00</td>\n",
       "    </tr>\n",
       "    <tr>\n",
       "      <th>2</th>\n",
       "      <td>2</td>\n",
       "      <td>2</td>\n",
       "      <td>0</td>\n",
       "      <td>2017-01-01 00:00:00</td>\n",
       "    </tr>\n",
       "    <tr>\n",
       "      <th>3</th>\n",
       "      <td>3</td>\n",
       "      <td>3</td>\n",
       "      <td>0</td>\n",
       "      <td>2017-01-01 00:00:00</td>\n",
       "    </tr>\n",
       "    <tr>\n",
       "      <th>4</th>\n",
       "      <td>4</td>\n",
       "      <td>4</td>\n",
       "      <td>0</td>\n",
       "      <td>2017-01-01 00:00:00</td>\n",
       "    </tr>\n",
       "  </tbody>\n",
       "</table>\n",
       "</div>"
      ],
      "text/plain": [
       "   row_id  building_id  meter            timestamp\n",
       "0       0            0      0  2017-01-01 00:00:00\n",
       "1       1            1      0  2017-01-01 00:00:00\n",
       "2       2            2      0  2017-01-01 00:00:00\n",
       "3       3            3      0  2017-01-01 00:00:00\n",
       "4       4            4      0  2017-01-01 00:00:00"
      ]
     },
     "execution_count": 3,
     "metadata": {},
     "output_type": "execute_result"
    }
   ],
   "source": [
    "test = pd.read_csv('../input/ashrae-energy-prediction/test.csv')\n",
    "\n",
    "print(test.shape)\n",
    "test.head()"
   ]
  },
  {
   "cell_type": "markdown",
   "id": "exotic-snake",
   "metadata": {
    "papermill": {
     "duration": 0.04932,
     "end_time": "2021-06-09T10:37:01.477568",
     "exception": false,
     "start_time": "2021-06-09T10:37:01.428248",
     "status": "completed"
    },
    "tags": []
   },
   "source": [
    "1時間ごとのメータ値を保持するテーブル（テストデータ）<br>\n",
    "・row_id：行のID<br>\n",
    "・building_id：ビルのID<br>\n",
    "・meter：0は電力、1は冷水、2はスチーム、3は温水<br>\n",
    "・timestamp：日付と時刻<br>"
   ]
  },
  {
   "cell_type": "code",
   "execution_count": 4,
   "id": "detected-evaluation",
   "metadata": {
    "execution": {
     "iopub.execute_input": "2021-06-09T10:37:01.582555Z",
     "iopub.status.busy": "2021-06-09T10:37:01.581936Z",
     "iopub.status.idle": "2021-06-09T10:37:01.586048Z",
     "shell.execute_reply": "2021-06-09T10:37:01.586538Z",
     "shell.execute_reply.started": "2021-06-09T10:27:53.130524Z"
    },
    "papermill": {
     "duration": 0.059351,
     "end_time": "2021-06-09T10:37:01.586704",
     "exception": false,
     "start_time": "2021-06-09T10:37:01.527353",
     "status": "completed"
    },
    "tags": []
   },
   "outputs": [],
   "source": [
    "usecols = {'site_id', 'timestamp', 'air_temperature', 'cloud_coverage', 'dew_temperature'}"
   ]
  },
  {
   "cell_type": "code",
   "execution_count": 5,
   "id": "three-denmark",
   "metadata": {
    "execution": {
     "iopub.execute_input": "2021-06-09T10:37:01.691119Z",
     "iopub.status.busy": "2021-06-09T10:37:01.690496Z",
     "iopub.status.idle": "2021-06-09T10:37:01.901017Z",
     "shell.execute_reply": "2021-06-09T10:37:01.900036Z",
     "shell.execute_reply.started": "2021-06-09T10:27:53.137885Z"
    },
    "papermill": {
     "duration": 0.264531,
     "end_time": "2021-06-09T10:37:01.901206",
     "exception": false,
     "start_time": "2021-06-09T10:37:01.636675",
     "status": "completed"
    },
    "tags": []
   },
   "outputs": [
    {
     "name": "stdout",
     "output_type": "stream",
     "text": [
      "(139773, 5)\n"
     ]
    },
    {
     "data": {
      "text/html": [
       "<div>\n",
       "<style scoped>\n",
       "    .dataframe tbody tr th:only-of-type {\n",
       "        vertical-align: middle;\n",
       "    }\n",
       "\n",
       "    .dataframe tbody tr th {\n",
       "        vertical-align: top;\n",
       "    }\n",
       "\n",
       "    .dataframe thead th {\n",
       "        text-align: right;\n",
       "    }\n",
       "</style>\n",
       "<table border=\"1\" class=\"dataframe\">\n",
       "  <thead>\n",
       "    <tr style=\"text-align: right;\">\n",
       "      <th></th>\n",
       "      <th>site_id</th>\n",
       "      <th>timestamp</th>\n",
       "      <th>air_temperature</th>\n",
       "      <th>cloud_coverage</th>\n",
       "      <th>dew_temperature</th>\n",
       "    </tr>\n",
       "  </thead>\n",
       "  <tbody>\n",
       "    <tr>\n",
       "      <th>0</th>\n",
       "      <td>0</td>\n",
       "      <td>2016-01-01 00:00:00</td>\n",
       "      <td>25.0</td>\n",
       "      <td>6.0</td>\n",
       "      <td>20.0</td>\n",
       "    </tr>\n",
       "    <tr>\n",
       "      <th>1</th>\n",
       "      <td>0</td>\n",
       "      <td>2016-01-01 01:00:00</td>\n",
       "      <td>24.4</td>\n",
       "      <td>NaN</td>\n",
       "      <td>21.1</td>\n",
       "    </tr>\n",
       "    <tr>\n",
       "      <th>2</th>\n",
       "      <td>0</td>\n",
       "      <td>2016-01-01 02:00:00</td>\n",
       "      <td>22.8</td>\n",
       "      <td>2.0</td>\n",
       "      <td>21.1</td>\n",
       "    </tr>\n",
       "    <tr>\n",
       "      <th>3</th>\n",
       "      <td>0</td>\n",
       "      <td>2016-01-01 03:00:00</td>\n",
       "      <td>21.1</td>\n",
       "      <td>2.0</td>\n",
       "      <td>20.6</td>\n",
       "    </tr>\n",
       "    <tr>\n",
       "      <th>4</th>\n",
       "      <td>0</td>\n",
       "      <td>2016-01-01 04:00:00</td>\n",
       "      <td>20.0</td>\n",
       "      <td>2.0</td>\n",
       "      <td>20.0</td>\n",
       "    </tr>\n",
       "  </tbody>\n",
       "</table>\n",
       "</div>"
      ],
      "text/plain": [
       "   site_id            timestamp  air_temperature  cloud_coverage  \\\n",
       "0        0  2016-01-01 00:00:00             25.0             6.0   \n",
       "1        0  2016-01-01 01:00:00             24.4             NaN   \n",
       "2        0  2016-01-01 02:00:00             22.8             2.0   \n",
       "3        0  2016-01-01 03:00:00             21.1             2.0   \n",
       "4        0  2016-01-01 04:00:00             20.0             2.0   \n",
       "\n",
       "   dew_temperature  \n",
       "0             20.0  \n",
       "1             21.1  \n",
       "2             21.1  \n",
       "3             20.6  \n",
       "4             20.0  "
      ]
     },
     "execution_count": 5,
     "metadata": {},
     "output_type": "execute_result"
    }
   ],
   "source": [
    "weather_train = pd.read_csv('../input/ashrae-energy-prediction/weather_train.csv', usecols=usecols)\n",
    "\n",
    "print(weather_train.shape)\n",
    "weather_train.head()"
   ]
  },
  {
   "cell_type": "markdown",
   "id": "golden-toronto",
   "metadata": {
    "papermill": {
     "duration": 0.051528,
     "end_time": "2021-06-09T10:37:02.004374",
     "exception": false,
     "start_time": "2021-06-09T10:37:01.952846",
     "status": "completed"
    },
    "tags": []
   },
   "source": [
    "気象情報を保持するテーブル（学習データに対応）<br>\n",
    "・site_id：ビルの物理的な位置<br>\n",
    "・timestamp：日付と時刻<br>\n",
    "・air_temperature：気温<br>\n",
    "・dew_temperature：湿度<br>\n",
    "・precip_depth：降水量<br>\n",
    "・sea_level_pressure：海圧<br>\n",
    "・wind_direction：風向<br>\n",
    "・wind_speed：風速<br>"
   ]
  },
  {
   "cell_type": "code",
   "execution_count": 6,
   "id": "progressive-communication",
   "metadata": {
    "execution": {
     "iopub.execute_input": "2021-06-09T10:37:02.111568Z",
     "iopub.status.busy": "2021-06-09T10:37:02.110964Z",
     "iopub.status.idle": "2021-06-09T10:37:02.502434Z",
     "shell.execute_reply": "2021-06-09T10:37:02.501832Z",
     "shell.execute_reply.started": "2021-06-09T10:27:53.322836Z"
    },
    "papermill": {
     "duration": 0.447339,
     "end_time": "2021-06-09T10:37:02.502579",
     "exception": false,
     "start_time": "2021-06-09T10:37:02.055240",
     "status": "completed"
    },
    "tags": []
   },
   "outputs": [
    {
     "name": "stdout",
     "output_type": "stream",
     "text": [
      "(277243, 5)\n"
     ]
    },
    {
     "data": {
      "text/html": [
       "<div>\n",
       "<style scoped>\n",
       "    .dataframe tbody tr th:only-of-type {\n",
       "        vertical-align: middle;\n",
       "    }\n",
       "\n",
       "    .dataframe tbody tr th {\n",
       "        vertical-align: top;\n",
       "    }\n",
       "\n",
       "    .dataframe thead th {\n",
       "        text-align: right;\n",
       "    }\n",
       "</style>\n",
       "<table border=\"1\" class=\"dataframe\">\n",
       "  <thead>\n",
       "    <tr style=\"text-align: right;\">\n",
       "      <th></th>\n",
       "      <th>site_id</th>\n",
       "      <th>timestamp</th>\n",
       "      <th>air_temperature</th>\n",
       "      <th>cloud_coverage</th>\n",
       "      <th>dew_temperature</th>\n",
       "    </tr>\n",
       "  </thead>\n",
       "  <tbody>\n",
       "    <tr>\n",
       "      <th>0</th>\n",
       "      <td>0</td>\n",
       "      <td>2017-01-01 00:00:00</td>\n",
       "      <td>17.8</td>\n",
       "      <td>4.0</td>\n",
       "      <td>11.7</td>\n",
       "    </tr>\n",
       "    <tr>\n",
       "      <th>1</th>\n",
       "      <td>0</td>\n",
       "      <td>2017-01-01 01:00:00</td>\n",
       "      <td>17.8</td>\n",
       "      <td>2.0</td>\n",
       "      <td>12.8</td>\n",
       "    </tr>\n",
       "    <tr>\n",
       "      <th>2</th>\n",
       "      <td>0</td>\n",
       "      <td>2017-01-01 02:00:00</td>\n",
       "      <td>16.1</td>\n",
       "      <td>0.0</td>\n",
       "      <td>12.8</td>\n",
       "    </tr>\n",
       "    <tr>\n",
       "      <th>3</th>\n",
       "      <td>0</td>\n",
       "      <td>2017-01-01 03:00:00</td>\n",
       "      <td>17.2</td>\n",
       "      <td>0.0</td>\n",
       "      <td>13.3</td>\n",
       "    </tr>\n",
       "    <tr>\n",
       "      <th>4</th>\n",
       "      <td>0</td>\n",
       "      <td>2017-01-01 04:00:00</td>\n",
       "      <td>16.7</td>\n",
       "      <td>2.0</td>\n",
       "      <td>13.3</td>\n",
       "    </tr>\n",
       "  </tbody>\n",
       "</table>\n",
       "</div>"
      ],
      "text/plain": [
       "   site_id            timestamp  air_temperature  cloud_coverage  \\\n",
       "0        0  2017-01-01 00:00:00             17.8             4.0   \n",
       "1        0  2017-01-01 01:00:00             17.8             2.0   \n",
       "2        0  2017-01-01 02:00:00             16.1             0.0   \n",
       "3        0  2017-01-01 03:00:00             17.2             0.0   \n",
       "4        0  2017-01-01 04:00:00             16.7             2.0   \n",
       "\n",
       "   dew_temperature  \n",
       "0             11.7  \n",
       "1             12.8  \n",
       "2             12.8  \n",
       "3             13.3  \n",
       "4             13.3  "
      ]
     },
     "execution_count": 6,
     "metadata": {},
     "output_type": "execute_result"
    }
   ],
   "source": [
    "weather_test = pd.read_csv('../input/ashrae-energy-prediction/weather_test.csv', usecols=usecols)\n",
    "\n",
    "print(weather_test.shape)\n",
    "weather_test.head()"
   ]
  },
  {
   "cell_type": "markdown",
   "id": "prescription-wheat",
   "metadata": {
    "papermill": {
     "duration": 0.050715,
     "end_time": "2021-06-09T10:37:02.604535",
     "exception": false,
     "start_time": "2021-06-09T10:37:02.553820",
     "status": "completed"
    },
    "tags": []
   },
   "source": [
    "気象情報を保持するテーブル（テストデータに対応）<br>\n",
    "・site_id：ビルの物理的な位置<br>\n",
    "・timestamp：日付と時刻<br>\n",
    "・air_temperature：気温<br>\n",
    "・dew_temperature：湿度<br>\n",
    "・precip_depth：降水量<br>\n",
    "・sea_level_pressure：海圧<br>\n",
    "・wind_direction：風向<br>\n",
    "・wind_speed：風速<br>"
   ]
  },
  {
   "cell_type": "code",
   "execution_count": 7,
   "id": "sublime-developer",
   "metadata": {
    "execution": {
     "iopub.execute_input": "2021-06-09T10:37:02.711961Z",
     "iopub.status.busy": "2021-06-09T10:37:02.711046Z",
     "iopub.status.idle": "2021-06-09T10:37:02.714429Z",
     "shell.execute_reply": "2021-06-09T10:37:02.713755Z",
     "shell.execute_reply.started": "2021-06-09T10:27:53.704009Z"
    },
    "papermill": {
     "duration": 0.058897,
     "end_time": "2021-06-09T10:37:02.714583",
     "exception": false,
     "start_time": "2021-06-09T10:37:02.655686",
     "status": "completed"
    },
    "tags": []
   },
   "outputs": [],
   "source": [
    "usecols = {'site_id', 'building_id', 'primary_use', 'square_feet', 'year_built'}"
   ]
  },
  {
   "cell_type": "code",
   "execution_count": 8,
   "id": "emerging-research",
   "metadata": {
    "execution": {
     "iopub.execute_input": "2021-06-09T10:37:02.821888Z",
     "iopub.status.busy": "2021-06-09T10:37:02.821243Z",
     "iopub.status.idle": "2021-06-09T10:37:02.843309Z",
     "shell.execute_reply": "2021-06-09T10:37:02.842610Z",
     "shell.execute_reply.started": "2021-06-09T10:27:53.710130Z"
    },
    "papermill": {
     "duration": 0.077609,
     "end_time": "2021-06-09T10:37:02.843471",
     "exception": false,
     "start_time": "2021-06-09T10:37:02.765862",
     "status": "completed"
    },
    "tags": []
   },
   "outputs": [
    {
     "name": "stdout",
     "output_type": "stream",
     "text": [
      "(1449, 5)\n"
     ]
    },
    {
     "data": {
      "text/html": [
       "<div>\n",
       "<style scoped>\n",
       "    .dataframe tbody tr th:only-of-type {\n",
       "        vertical-align: middle;\n",
       "    }\n",
       "\n",
       "    .dataframe tbody tr th {\n",
       "        vertical-align: top;\n",
       "    }\n",
       "\n",
       "    .dataframe thead th {\n",
       "        text-align: right;\n",
       "    }\n",
       "</style>\n",
       "<table border=\"1\" class=\"dataframe\">\n",
       "  <thead>\n",
       "    <tr style=\"text-align: right;\">\n",
       "      <th></th>\n",
       "      <th>site_id</th>\n",
       "      <th>building_id</th>\n",
       "      <th>primary_use</th>\n",
       "      <th>square_feet</th>\n",
       "      <th>year_built</th>\n",
       "    </tr>\n",
       "  </thead>\n",
       "  <tbody>\n",
       "    <tr>\n",
       "      <th>0</th>\n",
       "      <td>0</td>\n",
       "      <td>0</td>\n",
       "      <td>Education</td>\n",
       "      <td>7432</td>\n",
       "      <td>2008.0</td>\n",
       "    </tr>\n",
       "    <tr>\n",
       "      <th>1</th>\n",
       "      <td>0</td>\n",
       "      <td>1</td>\n",
       "      <td>Education</td>\n",
       "      <td>2720</td>\n",
       "      <td>2004.0</td>\n",
       "    </tr>\n",
       "    <tr>\n",
       "      <th>2</th>\n",
       "      <td>0</td>\n",
       "      <td>2</td>\n",
       "      <td>Education</td>\n",
       "      <td>5376</td>\n",
       "      <td>1991.0</td>\n",
       "    </tr>\n",
       "    <tr>\n",
       "      <th>3</th>\n",
       "      <td>0</td>\n",
       "      <td>3</td>\n",
       "      <td>Education</td>\n",
       "      <td>23685</td>\n",
       "      <td>2002.0</td>\n",
       "    </tr>\n",
       "    <tr>\n",
       "      <th>4</th>\n",
       "      <td>0</td>\n",
       "      <td>4</td>\n",
       "      <td>Education</td>\n",
       "      <td>116607</td>\n",
       "      <td>1975.0</td>\n",
       "    </tr>\n",
       "  </tbody>\n",
       "</table>\n",
       "</div>"
      ],
      "text/plain": [
       "   site_id  building_id primary_use  square_feet  year_built\n",
       "0        0            0   Education         7432      2008.0\n",
       "1        0            1   Education         2720      2004.0\n",
       "2        0            2   Education         5376      1991.0\n",
       "3        0            3   Education        23685      2002.0\n",
       "4        0            4   Education       116607      1975.0"
      ]
     },
     "execution_count": 8,
     "metadata": {},
     "output_type": "execute_result"
    }
   ],
   "source": [
    "building = pd.read_csv('../input/ashrae-energy-prediction/building_metadata.csv', usecols=usecols)\n",
    "\n",
    "print(building.shape)\n",
    "building.head()"
   ]
  },
  {
   "cell_type": "markdown",
   "id": "computational-vertex",
   "metadata": {
    "papermill": {
     "duration": 0.051674,
     "end_time": "2021-06-09T10:37:02.948638",
     "exception": false,
     "start_time": "2021-06-09T10:37:02.896964",
     "status": "completed"
    },
    "tags": []
   },
   "source": [
    "ビルの情報を保持するテーブル<br>\n",
    "・site_id：ビルの物理的な位置<br>\n",
    "・building_id：ビルのID<br>\n",
    "・primary_use：使用目的<br>\n",
    "・square_feet：面積<br>\n",
    "・year_built：施工した年<br>\n",
    "・floor_count：階数<br>"
   ]
  },
  {
   "cell_type": "markdown",
   "id": "challenging-system",
   "metadata": {
    "papermill": {
     "duration": 0.051871,
     "end_time": "2021-06-09T10:37:03.053183",
     "exception": false,
     "start_time": "2021-06-09T10:37:03.001312",
     "status": "completed"
    },
    "tags": []
   },
   "source": [
    "# Join"
   ]
  },
  {
   "cell_type": "code",
   "execution_count": 9,
   "id": "secret-murder",
   "metadata": {
    "execution": {
     "iopub.execute_input": "2021-06-09T10:37:03.177940Z",
     "iopub.status.busy": "2021-06-09T10:37:03.177198Z",
     "iopub.status.idle": "2021-06-09T10:37:03.180614Z",
     "shell.execute_reply": "2021-06-09T10:37:03.180140Z",
     "shell.execute_reply.started": "2021-06-09T10:27:53.738653Z"
    },
    "papermill": {
     "duration": 0.075091,
     "end_time": "2021-06-09T10:37:03.180767",
     "exception": false,
     "start_time": "2021-06-09T10:37:03.105676",
     "status": "completed"
    },
    "tags": []
   },
   "outputs": [],
   "source": [
    "def reduce_mem_usage(df, use_float16=False):\n",
    "    \n",
    "    start_mem = df.memory_usage().sum() / 1024**2\n",
    "    print('Memory usage of dataframe is {:.2f} MB'.format(start_mem))\n",
    "    \n",
    "    for col in df.columns:\n",
    "        if is_datetime(df[col]) or is_categorical_dtype(df[col]):\n",
    "            continue\n",
    "        col_type = df[col].dtype\n",
    "        \n",
    "        if col_type != object:\n",
    "            c_min = df[col].min()\n",
    "            c_max = df[col].max()\n",
    "            if str(col_type)[:3] == 'int':\n",
    "                if c_min > np.iinfo(np.int8).min and c_max < np.iinfo(np.int8).max:\n",
    "                    df[col] = df[col].astype(np.int8)\n",
    "                elif c_min > np.iinfo(np.int16).min and c_max < np.iinfo(np.int16).max:\n",
    "                    df[col] = df[col].astype(np.int16)\n",
    "                elif c_min > np.iinfo(np.int32).min and c_max < np.iinfo(np.int32).max:\n",
    "                    df[col] = df[col].astype(np.int32)\n",
    "                elif c_min > np.iinfo(np.int64).min and c_max < np.iinfo(np.int64).max:\n",
    "                    df[col] = df[col].astype(np.int64)  \n",
    "            else:\n",
    "                if use_float16 and c_min > np.finfo(np.float16).min and c_max < np.finfo(np.float16).max:\n",
    "                    df[col] = df[col].astype(np.float16)\n",
    "                elif c_min > np.finfo(np.float32).min and c_max < np.finfo(np.float32).max:\n",
    "                    df[col] = df[col].astype(np.float32)\n",
    "                else:\n",
    "                    df[col] = df[col].astype(np.float64)\n",
    "        else:\n",
    "            df[col] = df[col].astype('category')\n",
    "\n",
    "    end_mem = df.memory_usage().sum() / 1024**2\n",
    "    print('Memory usage after optimization is: {:.2f} MB'.format(end_mem))\n",
    "    print('Decreased by {:.1f}%'.format(100 * (start_mem - end_mem) / start_mem))\n",
    "    \n",
    "    return df"
   ]
  },
  {
   "cell_type": "code",
   "execution_count": 10,
   "id": "large-budget",
   "metadata": {
    "execution": {
     "iopub.execute_input": "2021-06-09T10:37:03.294227Z",
     "iopub.status.busy": "2021-06-09T10:37:03.293289Z",
     "iopub.status.idle": "2021-06-09T10:37:03.408768Z",
     "shell.execute_reply": "2021-06-09T10:37:03.407851Z",
     "shell.execute_reply.started": "2021-06-09T10:27:53.751484Z"
    },
    "papermill": {
     "duration": 0.175935,
     "end_time": "2021-06-09T10:37:03.408977",
     "exception": false,
     "start_time": "2021-06-09T10:37:03.233042",
     "status": "completed"
    },
    "tags": []
   },
   "outputs": [
    {
     "name": "stdout",
     "output_type": "stream",
     "text": [
      "Memory usage of dataframe is 5.33 MB\n",
      "Memory usage after optimization is: 2.32 MB\n",
      "Decreased by 56.5%\n",
      "Memory usage of dataframe is 10.58 MB\n",
      "Memory usage after optimization is: 4.60 MB\n",
      "Decreased by 56.5%\n"
     ]
    }
   ],
   "source": [
    "# train = reduce_mem_usage(train)\n",
    "# test = reduce_mem_usage(test)\n",
    "\n",
    "weather_train = reduce_mem_usage(weather_train)\n",
    "weather_test = reduce_mem_usage(weather_test)"
   ]
  },
  {
   "cell_type": "code",
   "execution_count": 11,
   "id": "prescribed-couple",
   "metadata": {
    "execution": {
     "iopub.execute_input": "2021-06-09T10:37:03.523290Z",
     "iopub.status.busy": "2021-06-09T10:37:03.519269Z",
     "iopub.status.idle": "2021-06-09T10:37:15.266064Z",
     "shell.execute_reply": "2021-06-09T10:37:15.265555Z",
     "shell.execute_reply.started": "2021-06-09T10:27:53.856694Z"
    },
    "papermill": {
     "duration": 11.804219,
     "end_time": "2021-06-09T10:37:15.266219",
     "exception": false,
     "start_time": "2021-06-09T10:37:03.462000",
     "status": "completed"
    },
    "tags": []
   },
   "outputs": [
    {
     "name": "stdout",
     "output_type": "stream",
     "text": [
      "(20216100, 8)\n"
     ]
    },
    {
     "data": {
      "text/html": [
       "<div>\n",
       "<style scoped>\n",
       "    .dataframe tbody tr th:only-of-type {\n",
       "        vertical-align: middle;\n",
       "    }\n",
       "\n",
       "    .dataframe tbody tr th {\n",
       "        vertical-align: top;\n",
       "    }\n",
       "\n",
       "    .dataframe thead th {\n",
       "        text-align: right;\n",
       "    }\n",
       "</style>\n",
       "<table border=\"1\" class=\"dataframe\">\n",
       "  <thead>\n",
       "    <tr style=\"text-align: right;\">\n",
       "      <th></th>\n",
       "      <th>building_id</th>\n",
       "      <th>meter</th>\n",
       "      <th>timestamp</th>\n",
       "      <th>meter_reading</th>\n",
       "      <th>site_id</th>\n",
       "      <th>primary_use</th>\n",
       "      <th>square_feet</th>\n",
       "      <th>year_built</th>\n",
       "    </tr>\n",
       "  </thead>\n",
       "  <tbody>\n",
       "    <tr>\n",
       "      <th>0</th>\n",
       "      <td>0</td>\n",
       "      <td>0</td>\n",
       "      <td>2016-01-01 00:00:00</td>\n",
       "      <td>0.0</td>\n",
       "      <td>0</td>\n",
       "      <td>Education</td>\n",
       "      <td>7432</td>\n",
       "      <td>2008.0</td>\n",
       "    </tr>\n",
       "    <tr>\n",
       "      <th>1</th>\n",
       "      <td>1</td>\n",
       "      <td>0</td>\n",
       "      <td>2016-01-01 00:00:00</td>\n",
       "      <td>0.0</td>\n",
       "      <td>0</td>\n",
       "      <td>Education</td>\n",
       "      <td>2720</td>\n",
       "      <td>2004.0</td>\n",
       "    </tr>\n",
       "    <tr>\n",
       "      <th>2</th>\n",
       "      <td>2</td>\n",
       "      <td>0</td>\n",
       "      <td>2016-01-01 00:00:00</td>\n",
       "      <td>0.0</td>\n",
       "      <td>0</td>\n",
       "      <td>Education</td>\n",
       "      <td>5376</td>\n",
       "      <td>1991.0</td>\n",
       "    </tr>\n",
       "    <tr>\n",
       "      <th>3</th>\n",
       "      <td>3</td>\n",
       "      <td>0</td>\n",
       "      <td>2016-01-01 00:00:00</td>\n",
       "      <td>0.0</td>\n",
       "      <td>0</td>\n",
       "      <td>Education</td>\n",
       "      <td>23685</td>\n",
       "      <td>2002.0</td>\n",
       "    </tr>\n",
       "    <tr>\n",
       "      <th>4</th>\n",
       "      <td>4</td>\n",
       "      <td>0</td>\n",
       "      <td>2016-01-01 00:00:00</td>\n",
       "      <td>0.0</td>\n",
       "      <td>0</td>\n",
       "      <td>Education</td>\n",
       "      <td>116607</td>\n",
       "      <td>1975.0</td>\n",
       "    </tr>\n",
       "  </tbody>\n",
       "</table>\n",
       "</div>"
      ],
      "text/plain": [
       "   building_id  meter            timestamp  meter_reading  site_id  \\\n",
       "0            0      0  2016-01-01 00:00:00            0.0        0   \n",
       "1            1      0  2016-01-01 00:00:00            0.0        0   \n",
       "2            2      0  2016-01-01 00:00:00            0.0        0   \n",
       "3            3      0  2016-01-01 00:00:00            0.0        0   \n",
       "4            4      0  2016-01-01 00:00:00            0.0        0   \n",
       "\n",
       "  primary_use  square_feet  year_built  \n",
       "0   Education         7432      2008.0  \n",
       "1   Education         2720      2004.0  \n",
       "2   Education         5376      1991.0  \n",
       "3   Education        23685      2002.0  \n",
       "4   Education       116607      1975.0  "
      ]
     },
     "execution_count": 11,
     "metadata": {},
     "output_type": "execute_result"
    }
   ],
   "source": [
    "train = train.merge(building, on='building_id', how='left')\n",
    "test = test.merge(building, on='building_id', how='left')\n",
    "\n",
    "print(train.shape)\n",
    "train.head()"
   ]
  },
  {
   "cell_type": "code",
   "execution_count": 12,
   "id": "spanish-bottle",
   "metadata": {
    "execution": {
     "iopub.execute_input": "2021-06-09T10:37:15.502378Z",
     "iopub.status.busy": "2021-06-09T10:37:15.501293Z",
     "iopub.status.idle": "2021-06-09T10:37:15.506069Z",
     "shell.execute_reply": "2021-06-09T10:37:15.505539Z",
     "shell.execute_reply.started": "2021-06-09T10:28:08.838379Z"
    },
    "papermill": {
     "duration": 0.185376,
     "end_time": "2021-06-09T10:37:15.506203",
     "exception": false,
     "start_time": "2021-06-09T10:37:15.320827",
     "status": "completed"
    },
    "tags": []
   },
   "outputs": [
    {
     "data": {
      "text/plain": [
       "131"
      ]
     },
     "execution_count": 12,
     "metadata": {},
     "output_type": "execute_result"
    }
   ],
   "source": [
    "del building\n",
    "gc.collect()"
   ]
  },
  {
   "cell_type": "code",
   "execution_count": 13,
   "id": "amateur-franklin",
   "metadata": {
    "execution": {
     "iopub.execute_input": "2021-06-09T10:37:15.620127Z",
     "iopub.status.busy": "2021-06-09T10:37:15.618780Z",
     "iopub.status.idle": "2021-06-09T10:37:39.612812Z",
     "shell.execute_reply": "2021-06-09T10:37:39.612238Z",
     "shell.execute_reply.started": "2021-06-09T10:28:09.038899Z"
    },
    "papermill": {
     "duration": 24.053098,
     "end_time": "2021-06-09T10:37:39.612957",
     "exception": false,
     "start_time": "2021-06-09T10:37:15.559859",
     "status": "completed"
    },
    "tags": []
   },
   "outputs": [
    {
     "name": "stdout",
     "output_type": "stream",
     "text": [
      "(20216100, 11)\n"
     ]
    },
    {
     "data": {
      "text/html": [
       "<div>\n",
       "<style scoped>\n",
       "    .dataframe tbody tr th:only-of-type {\n",
       "        vertical-align: middle;\n",
       "    }\n",
       "\n",
       "    .dataframe tbody tr th {\n",
       "        vertical-align: top;\n",
       "    }\n",
       "\n",
       "    .dataframe thead th {\n",
       "        text-align: right;\n",
       "    }\n",
       "</style>\n",
       "<table border=\"1\" class=\"dataframe\">\n",
       "  <thead>\n",
       "    <tr style=\"text-align: right;\">\n",
       "      <th></th>\n",
       "      <th>building_id</th>\n",
       "      <th>meter</th>\n",
       "      <th>timestamp</th>\n",
       "      <th>meter_reading</th>\n",
       "      <th>site_id</th>\n",
       "      <th>primary_use</th>\n",
       "      <th>square_feet</th>\n",
       "      <th>year_built</th>\n",
       "      <th>air_temperature</th>\n",
       "      <th>cloud_coverage</th>\n",
       "      <th>dew_temperature</th>\n",
       "    </tr>\n",
       "  </thead>\n",
       "  <tbody>\n",
       "    <tr>\n",
       "      <th>0</th>\n",
       "      <td>0</td>\n",
       "      <td>0</td>\n",
       "      <td>2016-01-01 00:00:00</td>\n",
       "      <td>0.0</td>\n",
       "      <td>0</td>\n",
       "      <td>Education</td>\n",
       "      <td>7432</td>\n",
       "      <td>2008.0</td>\n",
       "      <td>25.0</td>\n",
       "      <td>6.0</td>\n",
       "      <td>20.0</td>\n",
       "    </tr>\n",
       "    <tr>\n",
       "      <th>1</th>\n",
       "      <td>1</td>\n",
       "      <td>0</td>\n",
       "      <td>2016-01-01 00:00:00</td>\n",
       "      <td>0.0</td>\n",
       "      <td>0</td>\n",
       "      <td>Education</td>\n",
       "      <td>2720</td>\n",
       "      <td>2004.0</td>\n",
       "      <td>25.0</td>\n",
       "      <td>6.0</td>\n",
       "      <td>20.0</td>\n",
       "    </tr>\n",
       "    <tr>\n",
       "      <th>2</th>\n",
       "      <td>2</td>\n",
       "      <td>0</td>\n",
       "      <td>2016-01-01 00:00:00</td>\n",
       "      <td>0.0</td>\n",
       "      <td>0</td>\n",
       "      <td>Education</td>\n",
       "      <td>5376</td>\n",
       "      <td>1991.0</td>\n",
       "      <td>25.0</td>\n",
       "      <td>6.0</td>\n",
       "      <td>20.0</td>\n",
       "    </tr>\n",
       "    <tr>\n",
       "      <th>3</th>\n",
       "      <td>3</td>\n",
       "      <td>0</td>\n",
       "      <td>2016-01-01 00:00:00</td>\n",
       "      <td>0.0</td>\n",
       "      <td>0</td>\n",
       "      <td>Education</td>\n",
       "      <td>23685</td>\n",
       "      <td>2002.0</td>\n",
       "      <td>25.0</td>\n",
       "      <td>6.0</td>\n",
       "      <td>20.0</td>\n",
       "    </tr>\n",
       "    <tr>\n",
       "      <th>4</th>\n",
       "      <td>4</td>\n",
       "      <td>0</td>\n",
       "      <td>2016-01-01 00:00:00</td>\n",
       "      <td>0.0</td>\n",
       "      <td>0</td>\n",
       "      <td>Education</td>\n",
       "      <td>116607</td>\n",
       "      <td>1975.0</td>\n",
       "      <td>25.0</td>\n",
       "      <td>6.0</td>\n",
       "      <td>20.0</td>\n",
       "    </tr>\n",
       "  </tbody>\n",
       "</table>\n",
       "</div>"
      ],
      "text/plain": [
       "   building_id  meter            timestamp  meter_reading  site_id  \\\n",
       "0            0      0  2016-01-01 00:00:00            0.0        0   \n",
       "1            1      0  2016-01-01 00:00:00            0.0        0   \n",
       "2            2      0  2016-01-01 00:00:00            0.0        0   \n",
       "3            3      0  2016-01-01 00:00:00            0.0        0   \n",
       "4            4      0  2016-01-01 00:00:00            0.0        0   \n",
       "\n",
       "  primary_use  square_feet  year_built  air_temperature  cloud_coverage  \\\n",
       "0   Education         7432      2008.0             25.0             6.0   \n",
       "1   Education         2720      2004.0             25.0             6.0   \n",
       "2   Education         5376      1991.0             25.0             6.0   \n",
       "3   Education        23685      2002.0             25.0             6.0   \n",
       "4   Education       116607      1975.0             25.0             6.0   \n",
       "\n",
       "   dew_temperature  \n",
       "0             20.0  \n",
       "1             20.0  \n",
       "2             20.0  \n",
       "3             20.0  \n",
       "4             20.0  "
      ]
     },
     "execution_count": 13,
     "metadata": {},
     "output_type": "execute_result"
    }
   ],
   "source": [
    "train = train.merge(weather_train, on=['site_id', 'timestamp'], how='left')\n",
    "test = test.merge(weather_test, on=['site_id', 'timestamp'], how='left')\n",
    "\n",
    "print(train.shape)\n",
    "train.head()"
   ]
  },
  {
   "cell_type": "code",
   "execution_count": 14,
   "id": "eligible-toolbox",
   "metadata": {
    "execution": {
     "iopub.execute_input": "2021-06-09T10:37:39.849451Z",
     "iopub.status.busy": "2021-06-09T10:37:39.848643Z",
     "iopub.status.idle": "2021-06-09T10:37:39.852691Z",
     "shell.execute_reply": "2021-06-09T10:37:39.852200Z",
     "shell.execute_reply.started": "2021-06-09T10:28:26.664598Z"
    },
    "papermill": {
     "duration": 0.185637,
     "end_time": "2021-06-09T10:37:39.852848",
     "exception": false,
     "start_time": "2021-06-09T10:37:39.667211",
     "status": "completed"
    },
    "tags": []
   },
   "outputs": [
    {
     "data": {
      "text/plain": [
       "40"
      ]
     },
     "execution_count": 14,
     "metadata": {},
     "output_type": "execute_result"
    }
   ],
   "source": [
    "del weather_train, weather_test\n",
    "gc.collect()"
   ]
  },
  {
   "cell_type": "code",
   "execution_count": 15,
   "id": "disabled-place",
   "metadata": {
    "execution": {
     "iopub.execute_input": "2021-06-09T10:37:39.965597Z",
     "iopub.status.busy": "2021-06-09T10:37:39.964967Z",
     "iopub.status.idle": "2021-06-09T10:37:39.966939Z",
     "shell.execute_reply": "2021-06-09T10:37:39.967441Z",
     "shell.execute_reply.started": "2021-06-09T10:28:26.787145Z"
    },
    "papermill": {
     "duration": 0.060671,
     "end_time": "2021-06-09T10:37:39.967601",
     "exception": false,
     "start_time": "2021-06-09T10:37:39.906930",
     "status": "completed"
    },
    "tags": []
   },
   "outputs": [],
   "source": [
    "# train = reduce_mem_usage(train)\n",
    "# test = reduce_mem_usage(test)"
   ]
  },
  {
   "cell_type": "code",
   "execution_count": 16,
   "id": "defensive-arbor",
   "metadata": {
    "execution": {
     "iopub.execute_input": "2021-06-09T10:37:40.080561Z",
     "iopub.status.busy": "2021-06-09T10:37:40.079869Z",
     "iopub.status.idle": "2021-06-09T10:38:02.060227Z",
     "shell.execute_reply": "2021-06-09T10:38:02.059300Z",
     "shell.execute_reply.started": "2021-06-09T10:28:26.804495Z"
    },
    "papermill": {
     "duration": 22.038467,
     "end_time": "2021-06-09T10:38:02.060494",
     "exception": false,
     "start_time": "2021-06-09T10:37:40.022027",
     "status": "completed"
    },
    "tags": []
   },
   "outputs": [
    {
     "name": "stdout",
     "output_type": "stream",
     "text": [
      "4312612301\n",
      "8896901312\n"
     ]
    }
   ],
   "source": [
    "print(sys.getsizeof(train))\n",
    "print(sys.getsizeof(test))"
   ]
  },
  {
   "cell_type": "code",
   "execution_count": 17,
   "id": "resistant-transmission",
   "metadata": {
    "execution": {
     "iopub.execute_input": "2021-06-09T10:38:02.182177Z",
     "iopub.status.busy": "2021-06-09T10:38:02.181286Z",
     "iopub.status.idle": "2021-06-09T10:38:02.185547Z",
     "shell.execute_reply": "2021-06-09T10:38:02.185054Z",
     "shell.execute_reply.started": "2021-06-09T10:28:37.098011Z"
    },
    "papermill": {
     "duration": 0.068587,
     "end_time": "2021-06-09T10:38:02.185695",
     "exception": false,
     "start_time": "2021-06-09T10:38:02.117108",
     "status": "completed"
    },
    "tags": []
   },
   "outputs": [
    {
     "data": {
      "text/plain": [
       "Index              161728800\n",
       "building_id        161728800\n",
       "meter              161728800\n",
       "timestamp          161728800\n",
       "meter_reading      161728800\n",
       "site_id            161728800\n",
       "primary_use        161728800\n",
       "square_feet        161728800\n",
       "year_built         161728800\n",
       "air_temperature     80864400\n",
       "cloud_coverage      80864400\n",
       "dew_temperature     80864400\n",
       "dtype: int64"
      ]
     },
     "execution_count": 17,
     "metadata": {},
     "output_type": "execute_result"
    }
   ],
   "source": [
    "train.memory_usage()"
   ]
  },
  {
   "cell_type": "code",
   "execution_count": 18,
   "id": "specific-banks",
   "metadata": {
    "execution": {
     "iopub.execute_input": "2021-06-09T10:38:02.304524Z",
     "iopub.status.busy": "2021-06-09T10:38:02.303688Z",
     "iopub.status.idle": "2021-06-09T10:38:02.307730Z",
     "shell.execute_reply": "2021-06-09T10:38:02.307110Z",
     "shell.execute_reply.started": "2021-06-09T10:28:37.106673Z"
    },
    "papermill": {
     "duration": 0.066557,
     "end_time": "2021-06-09T10:38:02.307886",
     "exception": false,
     "start_time": "2021-06-09T10:38:02.241329",
     "status": "completed"
    },
    "tags": []
   },
   "outputs": [
    {
     "data": {
      "text/plain": [
       "Index              333580800\n",
       "row_id             333580800\n",
       "building_id        333580800\n",
       "meter              333580800\n",
       "timestamp          333580800\n",
       "site_id            333580800\n",
       "primary_use        333580800\n",
       "square_feet        333580800\n",
       "year_built         333580800\n",
       "air_temperature    166790400\n",
       "cloud_coverage     166790400\n",
       "dew_temperature    166790400\n",
       "dtype: int64"
      ]
     },
     "execution_count": 18,
     "metadata": {},
     "output_type": "execute_result"
    }
   ],
   "source": [
    "test.memory_usage()"
   ]
  },
  {
   "cell_type": "markdown",
   "id": "standard-execution",
   "metadata": {
    "papermill": {
     "duration": 0.055458,
     "end_time": "2021-06-09T10:38:02.419997",
     "exception": false,
     "start_time": "2021-06-09T10:38:02.364539",
     "status": "completed"
    },
    "tags": []
   },
   "source": [
    "# Analytics"
   ]
  },
  {
   "cell_type": "code",
   "execution_count": 19,
   "id": "impressed-corpus",
   "metadata": {
    "execution": {
     "iopub.execute_input": "2021-06-09T10:38:02.547185Z",
     "iopub.status.busy": "2021-06-09T10:38:02.546393Z",
     "iopub.status.idle": "2021-06-09T10:38:02.550346Z",
     "shell.execute_reply": "2021-06-09T10:38:02.549714Z",
     "shell.execute_reply.started": "2021-06-09T10:28:37.125209Z"
    },
    "papermill": {
     "duration": 0.074479,
     "end_time": "2021-06-09T10:38:02.550478",
     "exception": false,
     "start_time": "2021-06-09T10:38:02.475999",
     "status": "completed"
    },
    "tags": []
   },
   "outputs": [
    {
     "name": "stdout",
     "output_type": "stream",
     "text": [
      "<class 'pandas.core.frame.DataFrame'>\n",
      "Int64Index: 20216100 entries, 0 to 20216099\n",
      "Data columns (total 11 columns):\n",
      " #   Column           Dtype  \n",
      "---  ------           -----  \n",
      " 0   building_id      int64  \n",
      " 1   meter            int64  \n",
      " 2   timestamp        object \n",
      " 3   meter_reading    float64\n",
      " 4   site_id          int64  \n",
      " 5   primary_use      object \n",
      " 6   square_feet      int64  \n",
      " 7   year_built       float64\n",
      " 8   air_temperature  float32\n",
      " 9   cloud_coverage   float32\n",
      " 10  dew_temperature  float32\n",
      "dtypes: float32(3), float64(2), int64(4), object(2)\n",
      "memory usage: 1.6+ GB\n"
     ]
    }
   ],
   "source": [
    "train.info()"
   ]
  },
  {
   "cell_type": "code",
   "execution_count": 20,
   "id": "coastal-european",
   "metadata": {
    "execution": {
     "iopub.execute_input": "2021-06-09T10:38:02.670058Z",
     "iopub.status.busy": "2021-06-09T10:38:02.668684Z",
     "iopub.status.idle": "2021-06-09T10:38:13.806255Z",
     "shell.execute_reply": "2021-06-09T10:38:13.805541Z",
     "shell.execute_reply.started": "2021-06-09T10:28:37.152604Z"
    },
    "papermill": {
     "duration": 11.199308,
     "end_time": "2021-06-09T10:38:13.806450",
     "exception": false,
     "start_time": "2021-06-09T10:38:02.607142",
     "status": "completed"
    },
    "tags": []
   },
   "outputs": [
    {
     "name": "stdout",
     "output_type": "stream",
     "text": [
      "building_id: 1449\n",
      "meter: 4\n",
      "timestamp: 8784\n",
      "meter_reading: 1688175\n",
      "site_id: 16\n",
      "primary_use: 16\n",
      "square_feet: 1397\n",
      "year_built: 116\n",
      "air_temperature: 619\n",
      "cloud_coverage: 10\n",
      "dew_temperature: 522\n"
     ]
    }
   ],
   "source": [
    "for i in train.columns:\n",
    "    print('{}: {}'.format(i, train[i].nunique()))"
   ]
  },
  {
   "cell_type": "code",
   "execution_count": 21,
   "id": "ancient-spanking",
   "metadata": {
    "execution": {
     "iopub.execute_input": "2021-06-09T10:38:13.929379Z",
     "iopub.status.busy": "2021-06-09T10:38:13.928713Z",
     "iopub.status.idle": "2021-06-09T10:38:17.804538Z",
     "shell.execute_reply": "2021-06-09T10:38:17.805289Z",
     "shell.execute_reply.started": "2021-06-09T10:28:44.762219Z"
    },
    "papermill": {
     "duration": 3.939562,
     "end_time": "2021-06-09T10:38:17.805547",
     "exception": false,
     "start_time": "2021-06-09T10:38:13.865985",
     "status": "completed"
    },
    "tags": []
   },
   "outputs": [
    {
     "data": {
      "text/plain": [
       "building_id               0\n",
       "meter                     0\n",
       "timestamp                 0\n",
       "meter_reading             0\n",
       "site_id                   0\n",
       "primary_use               0\n",
       "square_feet               0\n",
       "year_built         12127645\n",
       "air_temperature       96658\n",
       "cloud_coverage      8825365\n",
       "dew_temperature      100140\n",
       "dtype: int64"
      ]
     },
     "execution_count": 21,
     "metadata": {},
     "output_type": "execute_result"
    }
   ],
   "source": [
    "train.isnull().sum()"
   ]
  },
  {
   "cell_type": "code",
   "execution_count": 22,
   "id": "sunrise-maintenance",
   "metadata": {
    "execution": {
     "iopub.execute_input": "2021-06-09T10:38:17.936970Z",
     "iopub.status.busy": "2021-06-09T10:38:17.935542Z",
     "iopub.status.idle": "2021-06-09T10:38:23.649952Z",
     "shell.execute_reply": "2021-06-09T10:38:23.649233Z",
     "shell.execute_reply.started": "2021-06-09T10:28:46.165915Z"
    },
    "papermill": {
     "duration": 5.77955,
     "end_time": "2021-06-09T10:38:23.650092",
     "exception": false,
     "start_time": "2021-06-09T10:38:17.870542",
     "status": "completed"
    },
    "tags": []
   },
   "outputs": [
    {
     "data": {
      "text/html": [
       "<div>\n",
       "<style scoped>\n",
       "    .dataframe tbody tr th:only-of-type {\n",
       "        vertical-align: middle;\n",
       "    }\n",
       "\n",
       "    .dataframe tbody tr th {\n",
       "        vertical-align: top;\n",
       "    }\n",
       "\n",
       "    .dataframe thead th {\n",
       "        text-align: right;\n",
       "    }\n",
       "</style>\n",
       "<table border=\"1\" class=\"dataframe\">\n",
       "  <thead>\n",
       "    <tr style=\"text-align: right;\">\n",
       "      <th></th>\n",
       "      <th>building_id</th>\n",
       "      <th>meter</th>\n",
       "      <th>meter_reading</th>\n",
       "      <th>site_id</th>\n",
       "      <th>square_feet</th>\n",
       "      <th>year_built</th>\n",
       "      <th>air_temperature</th>\n",
       "      <th>cloud_coverage</th>\n",
       "      <th>dew_temperature</th>\n",
       "    </tr>\n",
       "  </thead>\n",
       "  <tbody>\n",
       "    <tr>\n",
       "      <th>building_id</th>\n",
       "      <td>1.000000</td>\n",
       "      <td>0.222268</td>\n",
       "      <td>0.008761</td>\n",
       "      <td>0.980975</td>\n",
       "      <td>0.087704</td>\n",
       "      <td>-0.246150</td>\n",
       "      <td>-0.314149</td>\n",
       "      <td>-0.203832</td>\n",
       "      <td>-0.110091</td>\n",
       "    </tr>\n",
       "    <tr>\n",
       "      <th>meter</th>\n",
       "      <td>0.222268</td>\n",
       "      <td>1.000000</td>\n",
       "      <td>0.017672</td>\n",
       "      <td>0.253875</td>\n",
       "      <td>0.132708</td>\n",
       "      <td>-0.003798</td>\n",
       "      <td>-0.011159</td>\n",
       "      <td>-0.177186</td>\n",
       "      <td>-0.080445</td>\n",
       "    </tr>\n",
       "    <tr>\n",
       "      <th>meter_reading</th>\n",
       "      <td>0.008761</td>\n",
       "      <td>0.017672</td>\n",
       "      <td>1.000000</td>\n",
       "      <td>0.011897</td>\n",
       "      <td>0.024308</td>\n",
       "      <td>0.111837</td>\n",
       "      <td>-0.004132</td>\n",
       "      <td>0.006024</td>\n",
       "      <td>-0.003330</td>\n",
       "    </tr>\n",
       "    <tr>\n",
       "      <th>site_id</th>\n",
       "      <td>0.980975</td>\n",
       "      <td>0.253875</td>\n",
       "      <td>0.011897</td>\n",
       "      <td>1.000000</td>\n",
       "      <td>0.090934</td>\n",
       "      <td>-0.212378</td>\n",
       "      <td>-0.307199</td>\n",
       "      <td>-0.179160</td>\n",
       "      <td>-0.135186</td>\n",
       "    </tr>\n",
       "    <tr>\n",
       "      <th>square_feet</th>\n",
       "      <td>0.087704</td>\n",
       "      <td>0.132708</td>\n",
       "      <td>0.024308</td>\n",
       "      <td>0.090934</td>\n",
       "      <td>1.000000</td>\n",
       "      <td>0.135717</td>\n",
       "      <td>-0.015665</td>\n",
       "      <td>-0.041162</td>\n",
       "      <td>-0.023385</td>\n",
       "    </tr>\n",
       "    <tr>\n",
       "      <th>year_built</th>\n",
       "      <td>-0.246150</td>\n",
       "      <td>-0.003798</td>\n",
       "      <td>0.111837</td>\n",
       "      <td>-0.212378</td>\n",
       "      <td>0.135717</td>\n",
       "      <td>1.000000</td>\n",
       "      <td>0.174156</td>\n",
       "      <td>0.062713</td>\n",
       "      <td>0.117523</td>\n",
       "    </tr>\n",
       "    <tr>\n",
       "      <th>air_temperature</th>\n",
       "      <td>-0.314149</td>\n",
       "      <td>-0.011159</td>\n",
       "      <td>-0.004132</td>\n",
       "      <td>-0.307199</td>\n",
       "      <td>-0.015665</td>\n",
       "      <td>0.174156</td>\n",
       "      <td>1.000000</td>\n",
       "      <td>0.045196</td>\n",
       "      <td>0.750640</td>\n",
       "    </tr>\n",
       "    <tr>\n",
       "      <th>cloud_coverage</th>\n",
       "      <td>-0.203832</td>\n",
       "      <td>-0.177186</td>\n",
       "      <td>0.006024</td>\n",
       "      <td>-0.179160</td>\n",
       "      <td>-0.041162</td>\n",
       "      <td>0.062713</td>\n",
       "      <td>0.045196</td>\n",
       "      <td>1.000000</td>\n",
       "      <td>0.132972</td>\n",
       "    </tr>\n",
       "    <tr>\n",
       "      <th>dew_temperature</th>\n",
       "      <td>-0.110091</td>\n",
       "      <td>-0.080445</td>\n",
       "      <td>-0.003330</td>\n",
       "      <td>-0.135186</td>\n",
       "      <td>-0.023385</td>\n",
       "      <td>0.117523</td>\n",
       "      <td>0.750640</td>\n",
       "      <td>0.132972</td>\n",
       "      <td>1.000000</td>\n",
       "    </tr>\n",
       "  </tbody>\n",
       "</table>\n",
       "</div>"
      ],
      "text/plain": [
       "                 building_id     meter  meter_reading   site_id  square_feet  \\\n",
       "building_id         1.000000  0.222268       0.008761  0.980975     0.087704   \n",
       "meter               0.222268  1.000000       0.017672  0.253875     0.132708   \n",
       "meter_reading       0.008761  0.017672       1.000000  0.011897     0.024308   \n",
       "site_id             0.980975  0.253875       0.011897  1.000000     0.090934   \n",
       "square_feet         0.087704  0.132708       0.024308  0.090934     1.000000   \n",
       "year_built         -0.246150 -0.003798       0.111837 -0.212378     0.135717   \n",
       "air_temperature    -0.314149 -0.011159      -0.004132 -0.307199    -0.015665   \n",
       "cloud_coverage     -0.203832 -0.177186       0.006024 -0.179160    -0.041162   \n",
       "dew_temperature    -0.110091 -0.080445      -0.003330 -0.135186    -0.023385   \n",
       "\n",
       "                 year_built  air_temperature  cloud_coverage  dew_temperature  \n",
       "building_id       -0.246150        -0.314149       -0.203832        -0.110091  \n",
       "meter             -0.003798        -0.011159       -0.177186        -0.080445  \n",
       "meter_reading      0.111837        -0.004132        0.006024        -0.003330  \n",
       "site_id           -0.212378        -0.307199       -0.179160        -0.135186  \n",
       "square_feet        0.135717        -0.015665       -0.041162        -0.023385  \n",
       "year_built         1.000000         0.174156        0.062713         0.117523  \n",
       "air_temperature    0.174156         1.000000        0.045196         0.750640  \n",
       "cloud_coverage     0.062713         0.045196        1.000000         0.132972  \n",
       "dew_temperature    0.117523         0.750640        0.132972         1.000000  "
      ]
     },
     "execution_count": 22,
     "metadata": {},
     "output_type": "execute_result"
    }
   ],
   "source": [
    "train.corr()"
   ]
  },
  {
   "cell_type": "markdown",
   "id": "assisted-battery",
   "metadata": {
    "execution": {
     "iopub.execute_input": "2021-06-09T04:35:08.004653Z",
     "iopub.status.busy": "2021-06-09T04:35:08.004275Z",
     "iopub.status.idle": "2021-06-09T04:35:08.008716Z",
     "shell.execute_reply": "2021-06-09T04:35:08.007602Z",
     "shell.execute_reply.started": "2021-06-09T04:35:08.004621Z"
    },
    "papermill": {
     "duration": 0.061044,
     "end_time": "2021-06-09T10:38:23.771463",
     "exception": false,
     "start_time": "2021-06-09T10:38:23.710419",
     "status": "completed"
    },
    "tags": []
   },
   "source": [
    "# Visualization"
   ]
  },
  {
   "cell_type": "code",
   "execution_count": 23,
   "id": "peripheral-viking",
   "metadata": {
    "execution": {
     "iopub.execute_input": "2021-06-09T10:38:23.898027Z",
     "iopub.status.busy": "2021-06-09T10:38:23.897358Z",
     "iopub.status.idle": "2021-06-09T10:38:23.899078Z",
     "shell.execute_reply": "2021-06-09T10:38:23.899630Z",
     "shell.execute_reply.started": "2021-06-09T10:28:49.915102Z"
    },
    "papermill": {
     "duration": 0.067269,
     "end_time": "2021-06-09T10:38:23.899803",
     "exception": false,
     "start_time": "2021-06-09T10:38:23.832534",
     "status": "completed"
    },
    "tags": []
   },
   "outputs": [],
   "source": [
    "sns.set()"
   ]
  },
  {
   "cell_type": "code",
   "execution_count": 24,
   "id": "changed-theme",
   "metadata": {
    "execution": {
     "iopub.execute_input": "2021-06-09T10:38:24.024124Z",
     "iopub.status.busy": "2021-06-09T10:38:24.023462Z",
     "iopub.status.idle": "2021-06-09T10:38:36.468856Z",
     "shell.execute_reply": "2021-06-09T10:38:36.468287Z",
     "shell.execute_reply.started": "2021-06-09T10:28:49.922136Z"
    },
    "papermill": {
     "duration": 12.50907,
     "end_time": "2021-06-09T10:38:36.468996",
     "exception": false,
     "start_time": "2021-06-09T10:38:23.959926",
     "status": "completed"
    },
    "tags": []
   },
   "outputs": [],
   "source": [
    "train['timestamp'] = pd.to_datetime(train['timestamp'])\n",
    "test['timestamp'] = pd.to_datetime(test['timestamp'])"
   ]
  },
  {
   "cell_type": "code",
   "execution_count": 25,
   "id": "consecutive-initial",
   "metadata": {
    "execution": {
     "iopub.execute_input": "2021-06-09T10:38:36.594357Z",
     "iopub.status.busy": "2021-06-09T10:38:36.593755Z",
     "iopub.status.idle": "2021-06-09T10:38:36.596522Z",
     "shell.execute_reply": "2021-06-09T10:38:36.596010Z",
     "shell.execute_reply.started": "2021-06-09T10:28:58.207743Z"
    },
    "papermill": {
     "duration": 0.067211,
     "end_time": "2021-06-09T10:38:36.596656",
     "exception": false,
     "start_time": "2021-06-09T10:38:36.529445",
     "status": "completed"
    },
    "tags": []
   },
   "outputs": [],
   "source": [
    "# 7月以降、メータの数値が低いのが気になる、外れ値の可能性はないか"
   ]
  },
  {
   "cell_type": "code",
   "execution_count": 26,
   "id": "prostate-cattle",
   "metadata": {
    "execution": {
     "iopub.execute_input": "2021-06-09T10:38:36.726911Z",
     "iopub.status.busy": "2021-06-09T10:38:36.726278Z",
     "iopub.status.idle": "2021-06-09T10:38:39.727100Z",
     "shell.execute_reply": "2021-06-09T10:38:39.727561Z",
     "shell.execute_reply.started": "2021-06-09T10:28:58.215311Z"
    },
    "papermill": {
     "duration": 3.070992,
     "end_time": "2021-06-09T10:38:39.727718",
     "exception": false,
     "start_time": "2021-06-09T10:38:36.656726",
     "status": "completed"
    },
    "tags": []
   },
   "outputs": [
    {
     "data": {
      "text/plain": [
       "<matplotlib.legend.Legend at 0x7fb1ddb75a90>"
      ]
     },
     "execution_count": 26,
     "metadata": {},
     "output_type": "execute_result"
    },
    {
     "data": {
      "image/png": "[encoded data removed]",
      "text/plain": [
       "<Figure size 576x288 with 1 Axes>"
      ]
     },
     "metadata": {},
     "output_type": "display_data"
    }
   ],
   "source": [
    "fig, axes = plt.subplots(figsize=(8, 4))\n",
    "train[['timestamp', 'meter_reading']].set_index('timestamp').resample('H').mean()['meter_reading'].plot(ax=axes, label='hour', alpha=0.8).set_ylabel('Meter reading', fontsize=14)\n",
    "train[['timestamp', 'meter_reading']].set_index('timestamp').resample('D').mean()['meter_reading'].plot(ax=axes, label='day', alpha=0.8).set_ylabel('Meter reading', fontsize=14)\n",
    "axes.legend()"
   ]
  },
  {
   "cell_type": "code",
   "execution_count": 27,
   "id": "protecting-commitment",
   "metadata": {
    "execution": {
     "iopub.execute_input": "2021-06-09T10:38:39.855497Z",
     "iopub.status.busy": "2021-06-09T10:38:39.854911Z",
     "iopub.status.idle": "2021-06-09T10:38:41.917439Z",
     "shell.execute_reply": "2021-06-09T10:38:41.916763Z",
     "shell.execute_reply.started": "2021-06-09T10:29:00.511263Z"
    },
    "papermill": {
     "duration": 2.127058,
     "end_time": "2021-06-09T10:38:41.917574",
     "exception": false,
     "start_time": "2021-06-09T10:38:39.790516",
     "status": "completed"
    },
    "tags": []
   },
   "outputs": [
    {
     "data": {
      "text/plain": [
       "<matplotlib.legend.Legend at 0x7fb1dd7fe0d0>"
      ]
     },
     "execution_count": 27,
     "metadata": {},
     "output_type": "execute_result"
    },
    {
     "data": {
      "image/png": "[encoded data removed]",
      "text/plain": [
       "<Figure size 576x288 with 1 Axes>"
      ]
     },
     "metadata": {},
     "output_type": "display_data"
    }
   ],
   "source": [
    "fig, axes = plt.subplots(figsize=(8, 4))\n",
    "train[['timestamp', 'meter_reading']].set_index('timestamp').resample('W').mean()['meter_reading'].plot(ax=axes, label='week', alpha=1).set_ylabel('Meter reading', fontsize=14)\n",
    "train[['timestamp', 'meter_reading']].set_index('timestamp').resample('M').mean()['meter_reading'].plot(ax=axes, label='month', alpha=1).set_ylabel('Meter reading', fontsize=14)\n",
    "axes.legend()"
   ]
  },
  {
   "cell_type": "markdown",
   "id": "incorrect-electron",
   "metadata": {
    "papermill": {
     "duration": 0.063469,
     "end_time": "2021-06-09T10:38:42.045256",
     "exception": false,
     "start_time": "2021-06-09T10:38:41.981787",
     "status": "completed"
    },
    "tags": []
   },
   "source": [
    "# Feature Engineering"
   ]
  },
  {
   "cell_type": "code",
   "execution_count": 28,
   "id": "great-wheel",
   "metadata": {
    "execution": {
     "iopub.execute_input": "2021-06-09T10:38:42.182680Z",
     "iopub.status.busy": "2021-06-09T10:38:42.181841Z",
     "iopub.status.idle": "2021-06-09T10:38:49.816210Z",
     "shell.execute_reply": "2021-06-09T10:38:49.815201Z",
     "shell.execute_reply.started": "2021-06-09T10:29:02.344720Z"
    },
    "papermill": {
     "duration": 7.707169,
     "end_time": "2021-06-09T10:38:49.816409",
     "exception": false,
     "start_time": "2021-06-09T10:38:42.109240",
     "status": "completed"
    },
    "tags": []
   },
   "outputs": [],
   "source": [
    "train['hour'] = train['timestamp'].dt.hour\n",
    "train['day'] = train['timestamp'].dt.day\n",
    "train['weekend'] = train['timestamp'].dt.weekday\n",
    "train['month'] = train['timestamp'].dt.month"
   ]
  },
  {
   "cell_type": "code",
   "execution_count": 29,
   "id": "confident-opposition",
   "metadata": {
    "execution": {
     "iopub.execute_input": "2021-06-09T10:38:49.975524Z",
     "iopub.status.busy": "2021-06-09T10:38:49.974868Z",
     "iopub.status.idle": "2021-06-09T10:38:49.978162Z",
     "shell.execute_reply": "2021-06-09T10:38:49.977524Z",
     "shell.execute_reply.started": "2021-06-09T10:29:05.831179Z"
    },
    "papermill": {
     "duration": 0.080168,
     "end_time": "2021-06-09T10:38:49.978311",
     "exception": false,
     "start_time": "2021-06-09T10:38:49.898143",
     "status": "completed"
    },
    "tags": []
   },
   "outputs": [],
   "source": [
    "# ラグ特徴量"
   ]
  },
  {
   "cell_type": "code",
   "execution_count": 30,
   "id": "smooth-huntington",
   "metadata": {
    "execution": {
     "iopub.execute_input": "2021-06-09T10:38:50.111605Z",
     "iopub.status.busy": "2021-06-09T10:38:50.111002Z",
     "iopub.status.idle": "2021-06-09T10:38:57.037782Z",
     "shell.execute_reply": "2021-06-09T10:38:57.037194Z",
     "shell.execute_reply.started": "2021-06-09T10:29:05.837847Z"
    },
    "papermill": {
     "duration": 6.994121,
     "end_time": "2021-06-09T10:38:57.037949",
     "exception": false,
     "start_time": "2021-06-09T10:38:50.043828",
     "status": "completed"
    },
    "tags": []
   },
   "outputs": [
    {
     "name": "stdout",
     "output_type": "stream",
     "text": [
      "Memory usage of dataframe is 1927.96 MB\n",
      "Memory usage after optimization is: 771.18 MB\n",
      "Decreased by 60.0%\n"
     ]
    }
   ],
   "source": [
    "train = train.drop(['timestamp', 'site_id'], axis=1)\n",
    "gc.collect()\n",
    "\n",
    "train = reduce_mem_usage(train)"
   ]
  },
  {
   "cell_type": "code",
   "execution_count": 31,
   "id": "expensive-standard",
   "metadata": {
    "execution": {
     "iopub.execute_input": "2021-06-09T10:38:57.189480Z",
     "iopub.status.busy": "2021-06-09T10:38:57.188825Z",
     "iopub.status.idle": "2021-06-09T10:38:57.192622Z",
     "shell.execute_reply": "2021-06-09T10:38:57.193187Z",
     "shell.execute_reply.started": "2021-06-09T10:29:11.610550Z"
    },
    "papermill": {
     "duration": 0.087766,
     "end_time": "2021-06-09T10:38:57.193355",
     "exception": false,
     "start_time": "2021-06-09T10:38:57.105589",
     "status": "completed"
    },
    "tags": []
   },
   "outputs": [
    {
     "name": "stdout",
     "output_type": "stream",
     "text": [
      "(20216100, 13)\n"
     ]
    },
    {
     "data": {
      "text/html": [
       "<div>\n",
       "<style scoped>\n",
       "    .dataframe tbody tr th:only-of-type {\n",
       "        vertical-align: middle;\n",
       "    }\n",
       "\n",
       "    .dataframe tbody tr th {\n",
       "        vertical-align: top;\n",
       "    }\n",
       "\n",
       "    .dataframe thead th {\n",
       "        text-align: right;\n",
       "    }\n",
       "</style>\n",
       "<table border=\"1\" class=\"dataframe\">\n",
       "  <thead>\n",
       "    <tr style=\"text-align: right;\">\n",
       "      <th></th>\n",
       "      <th>building_id</th>\n",
       "      <th>meter</th>\n",
       "      <th>meter_reading</th>\n",
       "      <th>primary_use</th>\n",
       "      <th>square_feet</th>\n",
       "      <th>year_built</th>\n",
       "      <th>air_temperature</th>\n",
       "      <th>cloud_coverage</th>\n",
       "      <th>dew_temperature</th>\n",
       "      <th>hour</th>\n",
       "      <th>day</th>\n",
       "      <th>weekend</th>\n",
       "      <th>month</th>\n",
       "    </tr>\n",
       "  </thead>\n",
       "  <tbody>\n",
       "    <tr>\n",
       "      <th>0</th>\n",
       "      <td>0</td>\n",
       "      <td>0</td>\n",
       "      <td>0.0</td>\n",
       "      <td>Education</td>\n",
       "      <td>7432</td>\n",
       "      <td>2008.0</td>\n",
       "      <td>25.0</td>\n",
       "      <td>6.0</td>\n",
       "      <td>20.0</td>\n",
       "      <td>0</td>\n",
       "      <td>1</td>\n",
       "      <td>4</td>\n",
       "      <td>1</td>\n",
       "    </tr>\n",
       "    <tr>\n",
       "      <th>1</th>\n",
       "      <td>1</td>\n",
       "      <td>0</td>\n",
       "      <td>0.0</td>\n",
       "      <td>Education</td>\n",
       "      <td>2720</td>\n",
       "      <td>2004.0</td>\n",
       "      <td>25.0</td>\n",
       "      <td>6.0</td>\n",
       "      <td>20.0</td>\n",
       "      <td>0</td>\n",
       "      <td>1</td>\n",
       "      <td>4</td>\n",
       "      <td>1</td>\n",
       "    </tr>\n",
       "    <tr>\n",
       "      <th>2</th>\n",
       "      <td>2</td>\n",
       "      <td>0</td>\n",
       "      <td>0.0</td>\n",
       "      <td>Education</td>\n",
       "      <td>5376</td>\n",
       "      <td>1991.0</td>\n",
       "      <td>25.0</td>\n",
       "      <td>6.0</td>\n",
       "      <td>20.0</td>\n",
       "      <td>0</td>\n",
       "      <td>1</td>\n",
       "      <td>4</td>\n",
       "      <td>1</td>\n",
       "    </tr>\n",
       "    <tr>\n",
       "      <th>3</th>\n",
       "      <td>3</td>\n",
       "      <td>0</td>\n",
       "      <td>0.0</td>\n",
       "      <td>Education</td>\n",
       "      <td>23685</td>\n",
       "      <td>2002.0</td>\n",
       "      <td>25.0</td>\n",
       "      <td>6.0</td>\n",
       "      <td>20.0</td>\n",
       "      <td>0</td>\n",
       "      <td>1</td>\n",
       "      <td>4</td>\n",
       "      <td>1</td>\n",
       "    </tr>\n",
       "    <tr>\n",
       "      <th>4</th>\n",
       "      <td>4</td>\n",
       "      <td>0</td>\n",
       "      <td>0.0</td>\n",
       "      <td>Education</td>\n",
       "      <td>116607</td>\n",
       "      <td>1975.0</td>\n",
       "      <td>25.0</td>\n",
       "      <td>6.0</td>\n",
       "      <td>20.0</td>\n",
       "      <td>0</td>\n",
       "      <td>1</td>\n",
       "      <td>4</td>\n",
       "      <td>1</td>\n",
       "    </tr>\n",
       "  </tbody>\n",
       "</table>\n",
       "</div>"
      ],
      "text/plain": [
       "   building_id  meter  meter_reading primary_use  square_feet  year_built  \\\n",
       "0            0      0            0.0   Education         7432      2008.0   \n",
       "1            1      0            0.0   Education         2720      2004.0   \n",
       "2            2      0            0.0   Education         5376      1991.0   \n",
       "3            3      0            0.0   Education        23685      2002.0   \n",
       "4            4      0            0.0   Education       116607      1975.0   \n",
       "\n",
       "   air_temperature  cloud_coverage  dew_temperature  hour  day  weekend  month  \n",
       "0             25.0             6.0             20.0     0    1        4      1  \n",
       "1             25.0             6.0             20.0     0    1        4      1  \n",
       "2             25.0             6.0             20.0     0    1        4      1  \n",
       "3             25.0             6.0             20.0     0    1        4      1  \n",
       "4             25.0             6.0             20.0     0    1        4      1  "
      ]
     },
     "execution_count": 31,
     "metadata": {},
     "output_type": "execute_result"
    }
   ],
   "source": [
    "print(train.shape)\n",
    "train.head()"
   ]
  },
  {
   "cell_type": "markdown",
   "id": "careful-ticket",
   "metadata": {
    "papermill": {
     "duration": 0.065461,
     "end_time": "2021-06-09T10:38:57.325091",
     "exception": false,
     "start_time": "2021-06-09T10:38:57.259630",
     "status": "completed"
    },
    "tags": []
   },
   "source": [
    "# Preprocess"
   ]
  },
  {
   "cell_type": "code",
   "execution_count": 32,
   "id": "agreed-confidentiality",
   "metadata": {
    "execution": {
     "iopub.execute_input": "2021-06-09T10:38:57.460604Z",
     "iopub.status.busy": "2021-06-09T10:38:57.459961Z",
     "iopub.status.idle": "2021-06-09T10:38:57.462874Z",
     "shell.execute_reply": "2021-06-09T10:38:57.462336Z",
     "shell.execute_reply.started": "2021-06-09T10:29:11.637198Z"
    },
    "papermill": {
     "duration": 0.072578,
     "end_time": "2021-06-09T10:38:57.463019",
     "exception": false,
     "start_time": "2021-06-09T10:38:57.390441",
     "status": "completed"
    },
    "tags": []
   },
   "outputs": [],
   "source": [
    "# drop_col = ['precip_depth_1_hr', 'sea_level_pressure', 'wind_direction', 'wind_speed', 'floor_count']      "
   ]
  },
  {
   "cell_type": "code",
   "execution_count": 33,
   "id": "closing-costume",
   "metadata": {
    "execution": {
     "iopub.execute_input": "2021-06-09T10:38:57.599611Z",
     "iopub.status.busy": "2021-06-09T10:38:57.598974Z",
     "iopub.status.idle": "2021-06-09T10:38:57.602272Z",
     "shell.execute_reply": "2021-06-09T10:38:57.601712Z",
     "shell.execute_reply.started": "2021-06-09T10:29:11.643164Z"
    },
    "papermill": {
     "duration": 0.073533,
     "end_time": "2021-06-09T10:38:57.602412",
     "exception": false,
     "start_time": "2021-06-09T10:38:57.528879",
     "status": "completed"
    },
    "tags": []
   },
   "outputs": [],
   "source": [
    "# train = train.drop(drop_col, axis = 1)\n",
    "# gc.collect()"
   ]
  },
  {
   "cell_type": "code",
   "execution_count": 34,
   "id": "grave-consensus",
   "metadata": {
    "execution": {
     "iopub.execute_input": "2021-06-09T10:38:57.738921Z",
     "iopub.status.busy": "2021-06-09T10:38:57.738221Z",
     "iopub.status.idle": "2021-06-09T10:39:17.550666Z",
     "shell.execute_reply": "2021-06-09T10:39:17.550030Z",
     "shell.execute_reply.started": "2021-06-09T10:29:11.658475Z"
    },
    "papermill": {
     "duration": 19.882355,
     "end_time": "2021-06-09T10:39:17.550839",
     "exception": false,
     "start_time": "2021-06-09T10:38:57.668484",
     "status": "completed"
    },
    "tags": []
   },
   "outputs": [],
   "source": [
    "le = LabelEncoder()\n",
    "\n",
    "train['primary_use'] = le.fit_transform(train['primary_use'])\n",
    "test['primary_use'] = le.fit_transform(test['primary_use'])"
   ]
  },
  {
   "cell_type": "code",
   "execution_count": 35,
   "id": "adequate-corporation",
   "metadata": {
    "execution": {
     "iopub.execute_input": "2021-06-09T10:39:17.688193Z",
     "iopub.status.busy": "2021-06-09T10:39:17.687541Z",
     "iopub.status.idle": "2021-06-09T10:39:18.842323Z",
     "shell.execute_reply": "2021-06-09T10:39:18.841824Z",
     "shell.execute_reply.started": "2021-06-09T10:29:22.958804Z"
    },
    "papermill": {
     "duration": 1.225758,
     "end_time": "2021-06-09T10:39:18.842462",
     "exception": false,
     "start_time": "2021-06-09T10:39:17.616704",
     "status": "completed"
    },
    "tags": []
   },
   "outputs": [
    {
     "name": "stdout",
     "output_type": "stream",
     "text": [
      "(20216100, 12)\n"
     ]
    },
    {
     "data": {
      "text/html": [
       "<div>\n",
       "<style scoped>\n",
       "    .dataframe tbody tr th:only-of-type {\n",
       "        vertical-align: middle;\n",
       "    }\n",
       "\n",
       "    .dataframe tbody tr th {\n",
       "        vertical-align: top;\n",
       "    }\n",
       "\n",
       "    .dataframe thead th {\n",
       "        text-align: right;\n",
       "    }\n",
       "</style>\n",
       "<table border=\"1\" class=\"dataframe\">\n",
       "  <thead>\n",
       "    <tr style=\"text-align: right;\">\n",
       "      <th></th>\n",
       "      <th>building_id</th>\n",
       "      <th>meter</th>\n",
       "      <th>primary_use</th>\n",
       "      <th>square_feet</th>\n",
       "      <th>year_built</th>\n",
       "      <th>air_temperature</th>\n",
       "      <th>cloud_coverage</th>\n",
       "      <th>dew_temperature</th>\n",
       "      <th>hour</th>\n",
       "      <th>day</th>\n",
       "      <th>weekend</th>\n",
       "      <th>month</th>\n",
       "    </tr>\n",
       "  </thead>\n",
       "  <tbody>\n",
       "    <tr>\n",
       "      <th>0</th>\n",
       "      <td>0</td>\n",
       "      <td>0</td>\n",
       "      <td>0</td>\n",
       "      <td>7432</td>\n",
       "      <td>2008.0</td>\n",
       "      <td>25.0</td>\n",
       "      <td>6.0</td>\n",
       "      <td>20.0</td>\n",
       "      <td>0</td>\n",
       "      <td>1</td>\n",
       "      <td>4</td>\n",
       "      <td>1</td>\n",
       "    </tr>\n",
       "    <tr>\n",
       "      <th>1</th>\n",
       "      <td>1</td>\n",
       "      <td>0</td>\n",
       "      <td>0</td>\n",
       "      <td>2720</td>\n",
       "      <td>2004.0</td>\n",
       "      <td>25.0</td>\n",
       "      <td>6.0</td>\n",
       "      <td>20.0</td>\n",
       "      <td>0</td>\n",
       "      <td>1</td>\n",
       "      <td>4</td>\n",
       "      <td>1</td>\n",
       "    </tr>\n",
       "    <tr>\n",
       "      <th>2</th>\n",
       "      <td>2</td>\n",
       "      <td>0</td>\n",
       "      <td>0</td>\n",
       "      <td>5376</td>\n",
       "      <td>1991.0</td>\n",
       "      <td>25.0</td>\n",
       "      <td>6.0</td>\n",
       "      <td>20.0</td>\n",
       "      <td>0</td>\n",
       "      <td>1</td>\n",
       "      <td>4</td>\n",
       "      <td>1</td>\n",
       "    </tr>\n",
       "    <tr>\n",
       "      <th>3</th>\n",
       "      <td>3</td>\n",
       "      <td>0</td>\n",
       "      <td>0</td>\n",
       "      <td>23685</td>\n",
       "      <td>2002.0</td>\n",
       "      <td>25.0</td>\n",
       "      <td>6.0</td>\n",
       "      <td>20.0</td>\n",
       "      <td>0</td>\n",
       "      <td>1</td>\n",
       "      <td>4</td>\n",
       "      <td>1</td>\n",
       "    </tr>\n",
       "    <tr>\n",
       "      <th>4</th>\n",
       "      <td>4</td>\n",
       "      <td>0</td>\n",
       "      <td>0</td>\n",
       "      <td>116607</td>\n",
       "      <td>1975.0</td>\n",
       "      <td>25.0</td>\n",
       "      <td>6.0</td>\n",
       "      <td>20.0</td>\n",
       "      <td>0</td>\n",
       "      <td>1</td>\n",
       "      <td>4</td>\n",
       "      <td>1</td>\n",
       "    </tr>\n",
       "  </tbody>\n",
       "</table>\n",
       "</div>"
      ],
      "text/plain": [
       "   building_id  meter  primary_use  square_feet  year_built  air_temperature  \\\n",
       "0            0      0            0         7432      2008.0             25.0   \n",
       "1            1      0            0         2720      2004.0             25.0   \n",
       "2            2      0            0         5376      1991.0             25.0   \n",
       "3            3      0            0        23685      2002.0             25.0   \n",
       "4            4      0            0       116607      1975.0             25.0   \n",
       "\n",
       "   cloud_coverage  dew_temperature  hour  day  weekend  month  \n",
       "0             6.0             20.0     0    1        4      1  \n",
       "1             6.0             20.0     0    1        4      1  \n",
       "2             6.0             20.0     0    1        4      1  \n",
       "3             6.0             20.0     0    1        4      1  \n",
       "4             6.0             20.0     0    1        4      1  "
      ]
     },
     "execution_count": 35,
     "metadata": {},
     "output_type": "execute_result"
    }
   ],
   "source": [
    "target = np.log1p(train['meter_reading'])\n",
    "train = train.drop(['meter_reading'], axis=1)\n",
    "\n",
    "print(train.shape)\n",
    "train.head()"
   ]
  },
  {
   "cell_type": "code",
   "execution_count": 36,
   "id": "round-buying",
   "metadata": {
    "execution": {
     "iopub.execute_input": "2021-06-09T10:39:18.980432Z",
     "iopub.status.busy": "2021-06-09T10:39:18.979063Z",
     "iopub.status.idle": "2021-06-09T10:39:20.536903Z",
     "shell.execute_reply": "2021-06-09T10:39:20.537436Z",
     "shell.execute_reply.started": "2021-06-09T10:29:23.803503Z"
    },
    "papermill": {
     "duration": 1.629236,
     "end_time": "2021-06-09T10:39:20.537643",
     "exception": false,
     "start_time": "2021-06-09T10:39:18.908407",
     "status": "completed"
    },
    "tags": []
   },
   "outputs": [],
   "source": [
    "train = train.reset_index(drop=True)\n",
    "test = test.reset_index(drop=True)"
   ]
  },
  {
   "cell_type": "code",
   "execution_count": 37,
   "id": "sustainable-breast",
   "metadata": {
    "execution": {
     "iopub.execute_input": "2021-06-09T10:39:20.806289Z",
     "iopub.status.busy": "2021-06-09T10:39:20.805407Z",
     "iopub.status.idle": "2021-06-09T10:39:20.809531Z",
     "shell.execute_reply": "2021-06-09T10:39:20.808934Z",
     "shell.execute_reply.started": "2021-06-09T10:29:24.867211Z"
    },
    "papermill": {
     "duration": 0.205944,
     "end_time": "2021-06-09T10:39:20.809661",
     "exception": false,
     "start_time": "2021-06-09T10:39:20.603717",
     "status": "completed"
    },
    "tags": []
   },
   "outputs": [
    {
     "data": {
      "text/plain": [
       "140"
      ]
     },
     "execution_count": 37,
     "metadata": {},
     "output_type": "execute_result"
    }
   ],
   "source": [
    "del le\n",
    "gc.collect()"
   ]
  },
  {
   "cell_type": "code",
   "execution_count": 38,
   "id": "protecting-visiting",
   "metadata": {
    "execution": {
     "iopub.execute_input": "2021-06-09T10:39:20.953541Z",
     "iopub.status.busy": "2021-06-09T10:39:20.952922Z",
     "iopub.status.idle": "2021-06-09T10:39:26.205571Z",
     "shell.execute_reply": "2021-06-09T10:39:26.206060Z",
     "shell.execute_reply.started": "2021-06-09T10:29:25.075653Z"
    },
    "papermill": {
     "duration": 5.327432,
     "end_time": "2021-06-09T10:39:26.206234",
     "exception": false,
     "start_time": "2021-06-09T10:39:20.878802",
     "status": "completed"
    },
    "tags": []
   },
   "outputs": [
    {
     "name": "stdout",
     "output_type": "stream",
     "text": [
      "Memory usage of dataframe is 674.79 MB\n",
      "Memory usage after optimization is: 539.83 MB\n",
      "Decreased by 20.0%\n",
      "Memory usage of dataframe is 3022.21 MB\n",
      "Memory usage after optimization is: 1471.34 MB\n",
      "Decreased by 51.3%\n"
     ]
    }
   ],
   "source": [
    "train = reduce_mem_usage(train)\n",
    "test = reduce_mem_usage(test)"
   ]
  },
  {
   "cell_type": "code",
   "execution_count": 39,
   "id": "gothic-explorer",
   "metadata": {
    "execution": {
     "iopub.execute_input": "2021-06-09T10:39:26.349257Z",
     "iopub.status.busy": "2021-06-09T10:39:26.348595Z",
     "iopub.status.idle": "2021-06-09T10:39:26.352144Z",
     "shell.execute_reply": "2021-06-09T10:39:26.351533Z",
     "shell.execute_reply.started": "2021-06-09T10:29:28.386399Z"
    },
    "papermill": {
     "duration": 0.078261,
     "end_time": "2021-06-09T10:39:26.352297",
     "exception": false,
     "start_time": "2021-06-09T10:39:26.274036",
     "status": "completed"
    },
    "tags": []
   },
   "outputs": [
    {
     "name": "stdout",
     "output_type": "stream",
     "text": [
      "566050960\n",
      "1542811360\n"
     ]
    }
   ],
   "source": [
    "print(sys.getsizeof(train))\n",
    "print(sys.getsizeof(test))"
   ]
  },
  {
   "cell_type": "markdown",
   "id": "injured-barcelona",
   "metadata": {
    "papermill": {
     "duration": 0.067411,
     "end_time": "2021-06-09T10:39:26.487895",
     "exception": false,
     "start_time": "2021-06-09T10:39:26.420484",
     "status": "completed"
    },
    "tags": []
   },
   "source": [
    "# Modeling"
   ]
  },
  {
   "cell_type": "code",
   "execution_count": 40,
   "id": "compliant-williams",
   "metadata": {
    "execution": {
     "iopub.execute_input": "2021-06-09T10:39:26.630289Z",
     "iopub.status.busy": "2021-06-09T10:39:26.629389Z",
     "iopub.status.idle": "2021-06-09T10:39:26.633613Z",
     "shell.execute_reply": "2021-06-09T10:39:26.633010Z",
     "shell.execute_reply.started": "2021-06-09T10:29:28.396696Z"
    },
    "papermill": {
     "duration": 0.07823,
     "end_time": "2021-06-09T10:39:26.633762",
     "exception": false,
     "start_time": "2021-06-09T10:39:26.555532",
     "status": "completed"
    },
    "tags": []
   },
   "outputs": [
    {
     "data": {
      "text/plain": [
       "\"\\nX_tr, X_val, y_tr, y_val = train_test_split(train, target, test_size=0.2, random_state=666)\\n\\ndef create_model(trial):\\n    num_leaves = trial.suggest_int('num_leaves', 2, 31)\\n    n_estimators = trial.suggest_int('n_estimators', 50, 300)\\n    learning_rate = trial.suggest_uniform('learning_rate', 0.0001, 0.99)\\n    max_depth = trial.suggest_int('max_depth', 3, 8)\\n    min_child_samples = trial.suggest_int('min_child_samples', 100, 1200)\\n    min_data_in_leaf = trial.suggest_int('min_data_in_leaf', 5, 90)\\n    bagging_freq = trial.suggest_int('bagging_freq', 1, 7)\\n    bagging_fraction = trial.suggest_uniform('bagging_fraction', 0.0001, 1.0)\\n    feature_fraction = trial.suggest_uniform('feature_fraction', 0.0001, 1.0)\\n    subsample = trial.suggest_uniform('subsample', 0.1, 1.0)\\n    colsample_bytree = trial.suggest_uniform('colsample_bytree', 0.1, 1.0)\\n    \\n    model = lgb.LGBMRegressor(\\n        num_leaves=num_leaves,\\n        n_estimators=n_estimators,\\n        learning_rate=learning_rate,\\n        max_depth=max_depth, \\n        min_child_samples=min_child_samples, \\n        min_data_in_leaf=min_data_in_leaf,\\n        bagging_freq=bagging_freq,\\n        bagging_fraction=bagging_fraction,\\n        feature_fraction=feature_fraction,\\n        subsample=subsample,\\n        colsample_bytree=colsample_bytree,\\n        metric='rsme',\\n        random_state=666)\\n    return model\\n\\ndef objective(trial):\\n    model = create_model(trial)\\n    model.fit(X_tr, y_tr)\\n    y_pred = model.predict(X_val)\\n    rsme = np.sqrt(mean_squared_error(y_pred, y_val))\\n    return rsme\\n\\nstudy = optuna.create_study(direction='minimize')\\nstudy.optimize(objective, n_trials=40)\\nparams = study.best_params\\nprint(params)\\n\""
      ]
     },
     "execution_count": 40,
     "metadata": {},
     "output_type": "execute_result"
    }
   ],
   "source": [
    "'''\n",
    "X_tr, X_val, y_tr, y_val = train_test_split(train, target, test_size=0.2, random_state=666)\n",
    "\n",
    "def create_model(trial):\n",
    "    num_leaves = trial.suggest_int('num_leaves', 2, 31)\n",
    "    n_estimators = trial.suggest_int('n_estimators', 50, 300)\n",
    "    learning_rate = trial.suggest_uniform('learning_rate', 0.0001, 0.99)\n",
    "    max_depth = trial.suggest_int('max_depth', 3, 8)\n",
    "    min_child_samples = trial.suggest_int('min_child_samples', 100, 1200)\n",
    "    min_data_in_leaf = trial.suggest_int('min_data_in_leaf', 5, 90)\n",
    "    bagging_freq = trial.suggest_int('bagging_freq', 1, 7)\n",
    "    bagging_fraction = trial.suggest_uniform('bagging_fraction', 0.0001, 1.0)\n",
    "    feature_fraction = trial.suggest_uniform('feature_fraction', 0.0001, 1.0)\n",
    "    subsample = trial.suggest_uniform('subsample', 0.1, 1.0)\n",
    "    colsample_bytree = trial.suggest_uniform('colsample_bytree', 0.1, 1.0)\n",
    "    \n",
    "    model = lgb.LGBMRegressor(\n",
    "        num_leaves=num_leaves,\n",
    "        n_estimators=n_estimators,\n",
    "        learning_rate=learning_rate,\n",
    "        max_depth=max_depth, \n",
    "        min_child_samples=min_child_samples, \n",
    "        min_data_in_leaf=min_data_in_leaf,\n",
    "        bagging_freq=bagging_freq,\n",
    "        bagging_fraction=bagging_fraction,\n",
    "        feature_fraction=feature_fraction,\n",
    "        subsample=subsample,\n",
    "        colsample_bytree=colsample_bytree,\n",
    "        metric='rsme',\n",
    "        random_state=666)\n",
    "    return model\n",
    "\n",
    "def objective(trial):\n",
    "    model = create_model(trial)\n",
    "    model.fit(X_tr, y_tr)\n",
    "    y_pred = model.predict(X_val)\n",
    "    rsme = np.sqrt(mean_squared_error(y_pred, y_val))\n",
    "    return rsme\n",
    "\n",
    "study = optuna.create_study(direction='minimize')\n",
    "study.optimize(objective, n_trials=40)\n",
    "params = study.best_params\n",
    "print(params)\n",
    "'''"
   ]
  },
  {
   "cell_type": "code",
   "execution_count": 41,
   "id": "talented-macro",
   "metadata": {
    "execution": {
     "iopub.execute_input": "2021-06-09T10:39:26.776502Z",
     "iopub.status.busy": "2021-06-09T10:39:26.775611Z",
     "iopub.status.idle": "2021-06-09T10:39:26.779264Z",
     "shell.execute_reply": "2021-06-09T10:39:26.778667Z",
     "shell.execute_reply.started": "2021-06-09T10:29:28.414276Z"
    },
    "papermill": {
     "duration": 0.07747,
     "end_time": "2021-06-09T10:39:26.779451",
     "exception": false,
     "start_time": "2021-06-09T10:39:26.701981",
     "status": "completed"
    },
    "tags": []
   },
   "outputs": [],
   "source": [
    "# RSME: 0.950774489831851\n",
    "\n",
    "params = {'num_leaves': 28,\n",
    "          'n_estimators': 183,\n",
    "          'learning_rate': 0.9008234659299758,\n",
    "          'max_depth': 6,\n",
    "          'min_child_samples': 817,\n",
    "          'min_data_in_leaf': 44,\n",
    "          'bagging_freq': 4,\n",
    "          'bagging_fraction': 0.9270605366661377,\n",
    "          'feature_fraction': 0.9896334712112087,\n",
    "          'subsample': 0.39057883070907706,\n",
    "          'colsample_bytree': 0.9362204120972267,\n",
    "          'random_state': 666}"
   ]
  },
  {
   "cell_type": "code",
   "execution_count": 42,
   "id": "interested-buffalo",
   "metadata": {
    "execution": {
     "iopub.execute_input": "2021-06-09T10:39:26.923212Z",
     "iopub.status.busy": "2021-06-09T10:39:26.921652Z",
     "iopub.status.idle": "2021-06-09T10:42:20.146463Z",
     "shell.execute_reply": "2021-06-09T10:42:20.146976Z",
     "shell.execute_reply.started": "2021-06-09T10:29:28.432447Z"
    },
    "papermill": {
     "duration": 173.299278,
     "end_time": "2021-06-09T10:42:20.147154",
     "exception": false,
     "start_time": "2021-06-09T10:39:26.847876",
     "status": "completed"
    },
    "tags": []
   },
   "outputs": [
    {
     "name": "stdout",
     "output_type": "stream",
     "text": [
      "[LightGBM] [Warning] bagging_fraction is set=0.9270605366661377, subsample=0.39057883070907706 will be ignored. Current value: bagging_fraction=0.9270605366661377\n",
      "[LightGBM] [Warning] feature_fraction is set=0.9896334712112087, colsample_bytree=0.9362204120972267 will be ignored. Current value: feature_fraction=0.9896334712112087\n",
      "[LightGBM] [Warning] bagging_freq is set=4, subsample_freq=0 will be ignored. Current value: bagging_freq=4\n",
      "[LightGBM] [Warning] min_data_in_leaf is set=44, min_child_samples=817 will be ignored. Current value: min_data_in_leaf=44\n"
     ]
    },
    {
     "data": {
      "text/plain": [
       "LGBMRegressor(bagging_fraction=0.9270605366661377, bagging_freq=4,\n",
       "              colsample_bytree=0.9362204120972267,\n",
       "              feature_fraction=0.9896334712112087,\n",
       "              learning_rate=0.9008234659299758, max_depth=6,\n",
       "              min_child_samples=817, min_data_in_leaf=44, n_estimators=183,\n",
       "              num_leaves=28, random_state=666, subsample=0.39057883070907706)"
      ]
     },
     "execution_count": 42,
     "metadata": {},
     "output_type": "execute_result"
    }
   ],
   "source": [
    "cls = lgb.LGBMRegressor(**params)\n",
    "cls.fit(train, target)"
   ]
  },
  {
   "cell_type": "code",
   "execution_count": 43,
   "id": "speaking-chart",
   "metadata": {
    "execution": {
     "iopub.execute_input": "2021-06-09T10:42:20.455039Z",
     "iopub.status.busy": "2021-06-09T10:42:20.313819Z",
     "iopub.status.idle": "2021-06-09T10:42:20.459186Z",
     "shell.execute_reply": "2021-06-09T10:42:20.458550Z",
     "shell.execute_reply.started": "2021-06-09T10:32:32.877213Z"
    },
    "papermill": {
     "duration": 0.24304,
     "end_time": "2021-06-09T10:42:20.459327",
     "exception": false,
     "start_time": "2021-06-09T10:42:20.216287",
     "status": "completed"
    },
    "tags": []
   },
   "outputs": [
    {
     "data": {
      "text/plain": [
       "79"
      ]
     },
     "execution_count": 43,
     "metadata": {},
     "output_type": "execute_result"
    }
   ],
   "source": [
    "del train, target, params\n",
    "gc.collect()"
   ]
  },
  {
   "cell_type": "code",
   "execution_count": 44,
   "id": "scenic-trout",
   "metadata": {
    "execution": {
     "iopub.execute_input": "2021-06-09T10:42:20.612283Z",
     "iopub.status.busy": "2021-06-09T10:42:20.611244Z",
     "iopub.status.idle": "2021-06-09T10:42:20.867491Z",
     "shell.execute_reply": "2021-06-09T10:42:20.866963Z",
     "shell.execute_reply.started": "2021-06-09T10:32:33.104264Z"
    },
    "papermill": {
     "duration": 0.338624,
     "end_time": "2021-06-09T10:42:20.867627",
     "exception": false,
     "start_time": "2021-06-09T10:42:20.529003",
     "status": "completed"
    },
    "tags": []
   },
   "outputs": [
    {
     "data": {
      "image/png": "[encoded data removed]",
      "text/plain": [
       "<Figure size 432x288 with 1 Axes>"
      ]
     },
     "metadata": {},
     "output_type": "display_data"
    }
   ],
   "source": [
    "lgb.plot_importance(cls)\n",
    "plt.show()"
   ]
  },
  {
   "cell_type": "markdown",
   "id": "micro-things",
   "metadata": {
    "papermill": {
     "duration": 0.071056,
     "end_time": "2021-06-09T10:42:21.009620",
     "exception": false,
     "start_time": "2021-06-09T10:42:20.938564",
     "status": "completed"
    },
    "tags": []
   },
   "source": [
    "# Submit"
   ]
  },
  {
   "cell_type": "code",
   "execution_count": 45,
   "id": "forward-joyce",
   "metadata": {
    "execution": {
     "iopub.execute_input": "2021-06-09T10:42:21.156928Z",
     "iopub.status.busy": "2021-06-09T10:42:21.156255Z",
     "iopub.status.idle": "2021-06-09T10:42:22.878893Z",
     "shell.execute_reply": "2021-06-09T10:42:22.878216Z",
     "shell.execute_reply.started": "2021-06-09T10:32:33.343318Z"
    },
    "papermill": {
     "duration": 1.798533,
     "end_time": "2021-06-09T10:42:22.879046",
     "exception": false,
     "start_time": "2021-06-09T10:42:21.080513",
     "status": "completed"
    },
    "tags": []
   },
   "outputs": [
    {
     "data": {
      "text/plain": [
       "4667"
      ]
     },
     "execution_count": 45,
     "metadata": {},
     "output_type": "execute_result"
    }
   ],
   "source": [
    "row_id = test['row_id']\n",
    "\n",
    "test = test.drop(['row_id'], axis = 1)\n",
    "gc.collect()"
   ]
  },
  {
   "cell_type": "code",
   "execution_count": 46,
   "id": "occupied-second",
   "metadata": {
    "execution": {
     "iopub.execute_input": "2021-06-09T10:42:23.027331Z",
     "iopub.status.busy": "2021-06-09T10:42:23.026675Z",
     "iopub.status.idle": "2021-06-09T10:42:38.965577Z",
     "shell.execute_reply": "2021-06-09T10:42:38.964949Z",
     "shell.execute_reply.started": "2021-06-09T10:32:34.563424Z"
    },
    "papermill": {
     "duration": 16.016082,
     "end_time": "2021-06-09T10:42:38.965721",
     "exception": false,
     "start_time": "2021-06-09T10:42:22.949639",
     "status": "completed"
    },
    "tags": []
   },
   "outputs": [],
   "source": [
    "test['hour'] = test['timestamp'].dt.hour\n",
    "test['day'] = test['timestamp'].dt.day\n",
    "test['weekend'] = test['timestamp'].dt.weekday\n",
    "test['month'] = test['timestamp'].dt.month"
   ]
  },
  {
   "cell_type": "code",
   "execution_count": 47,
   "id": "viral-military",
   "metadata": {
    "execution": {
     "iopub.execute_input": "2021-06-09T10:42:39.124119Z",
     "iopub.status.busy": "2021-06-09T10:42:39.123434Z",
     "iopub.status.idle": "2021-06-09T10:42:41.343402Z",
     "shell.execute_reply": "2021-06-09T10:42:41.342882Z",
     "shell.execute_reply.started": "2021-06-09T10:32:41.910217Z"
    },
    "papermill": {
     "duration": 2.301816,
     "end_time": "2021-06-09T10:42:41.343544",
     "exception": false,
     "start_time": "2021-06-09T10:42:39.041728",
     "status": "completed"
    },
    "tags": []
   },
   "outputs": [
    {
     "data": {
      "text/plain": [
       "55"
      ]
     },
     "execution_count": 47,
     "metadata": {},
     "output_type": "execute_result"
    }
   ],
   "source": [
    "test = test.drop(['timestamp', 'site_id'], axis=1)\n",
    "gc.collect()"
   ]
  },
  {
   "cell_type": "code",
   "execution_count": 48,
   "id": "interstate-grace",
   "metadata": {
    "execution": {
     "iopub.execute_input": "2021-06-09T10:42:41.490000Z",
     "iopub.status.busy": "2021-06-09T10:42:41.489348Z",
     "iopub.status.idle": "2021-06-09T10:42:46.329023Z",
     "shell.execute_reply": "2021-06-09T10:42:46.328093Z",
     "shell.execute_reply.started": "2021-06-09T10:32:43.291636Z"
    },
    "papermill": {
     "duration": 4.915031,
     "end_time": "2021-06-09T10:42:46.329174",
     "exception": false,
     "start_time": "2021-06-09T10:42:41.414143",
     "status": "completed"
    },
    "tags": []
   },
   "outputs": [
    {
     "name": "stdout",
     "output_type": "stream",
     "text": [
      "Memory usage of dataframe is 2226.89 MB\n",
      "Memory usage after optimization is: 1113.45 MB\n",
      "Decreased by 50.0%\n"
     ]
    }
   ],
   "source": [
    "row_id = row_id.reset_index(drop=True)\n",
    "test = test.reset_index(drop=True)\n",
    "\n",
    "test = reduce_mem_usage(test)"
   ]
  },
  {
   "cell_type": "code",
   "execution_count": 49,
   "id": "entitled-speaking",
   "metadata": {
    "_kg_hide-input": true,
    "_kg_hide-output": true,
    "execution": {
     "iopub.execute_input": "2021-06-09T10:42:46.475797Z",
     "iopub.status.busy": "2021-06-09T10:42:46.475137Z",
     "iopub.status.idle": "2021-06-09T10:42:46.510339Z",
     "shell.execute_reply": "2021-06-09T10:42:46.511069Z",
     "shell.execute_reply.started": "2021-06-09T10:32:46.064548Z"
    },
    "papermill": {
     "duration": 0.110473,
     "end_time": "2021-06-09T10:42:46.511296",
     "exception": false,
     "start_time": "2021-06-09T10:42:46.400823",
     "status": "completed"
    },
    "tags": []
   },
   "outputs": [
    {
     "name": "stdout",
     "output_type": "stream",
     "text": [
      "     name        size\n",
      "0    test  1167532960\n",
      "1  row_id   166790560\n",
      "2     _31        1919\n",
      "3     _i9        1787\n",
      "4    _i40        1744\n",
      "5     _40        1738\n",
      "6     _22        1594\n",
      "7     _17        1238\n",
      "8     _18        1231\n",
      "9     _oh        1192\n"
     ]
    }
   ],
   "source": [
    "print(pd.DataFrame([[i for i in dir()], [sys.getsizeof(eval(i)) for i in dir()]],\n",
    "                   index=['name','size']).T.sort_values('size', ascending=False).reset_index(drop=True).head(10))"
   ]
  },
  {
   "cell_type": "code",
   "execution_count": 50,
   "id": "quarterly-trial",
   "metadata": {
    "execution": {
     "iopub.execute_input": "2021-06-09T10:42:46.662077Z",
     "iopub.status.busy": "2021-06-09T10:42:46.661421Z",
     "iopub.status.idle": "2021-06-09T10:44:55.880952Z",
     "shell.execute_reply": "2021-06-09T10:44:55.881466Z",
     "shell.execute_reply.started": "2021-06-09T10:32:46.100588Z"
    },
    "papermill": {
     "duration": 129.29566,
     "end_time": "2021-06-09T10:44:55.881641",
     "exception": false,
     "start_time": "2021-06-09T10:42:46.585981",
     "status": "completed"
    },
    "tags": []
   },
   "outputs": [
    {
     "data": {
      "text/html": [
       "<div>\n",
       "<style scoped>\n",
       "    .dataframe tbody tr th:only-of-type {\n",
       "        vertical-align: middle;\n",
       "    }\n",
       "\n",
       "    .dataframe tbody tr th {\n",
       "        vertical-align: top;\n",
       "    }\n",
       "\n",
       "    .dataframe thead th {\n",
       "        text-align: right;\n",
       "    }\n",
       "</style>\n",
       "<table border=\"1\" class=\"dataframe\">\n",
       "  <thead>\n",
       "    <tr style=\"text-align: right;\">\n",
       "      <th></th>\n",
       "      <th>meter_reading</th>\n",
       "    </tr>\n",
       "    <tr>\n",
       "      <th>row_id</th>\n",
       "      <th></th>\n",
       "    </tr>\n",
       "  </thead>\n",
       "  <tbody>\n",
       "    <tr>\n",
       "      <th>0</th>\n",
       "      <td>-0.221495</td>\n",
       "    </tr>\n",
       "    <tr>\n",
       "      <th>1</th>\n",
       "      <td>0.788805</td>\n",
       "    </tr>\n",
       "    <tr>\n",
       "      <th>2</th>\n",
       "      <td>-0.254128</td>\n",
       "    </tr>\n",
       "    <tr>\n",
       "      <th>3</th>\n",
       "      <td>0.361223</td>\n",
       "    </tr>\n",
       "    <tr>\n",
       "      <th>4</th>\n",
       "      <td>0.610046</td>\n",
       "    </tr>\n",
       "    <tr>\n",
       "      <th>5</th>\n",
       "      <td>-0.554877</td>\n",
       "    </tr>\n",
       "    <tr>\n",
       "      <th>6</th>\n",
       "      <td>0.660449</td>\n",
       "    </tr>\n",
       "    <tr>\n",
       "      <th>7</th>\n",
       "      <td>0.102739</td>\n",
       "    </tr>\n",
       "    <tr>\n",
       "      <th>8</th>\n",
       "      <td>43.823963</td>\n",
       "    </tr>\n",
       "    <tr>\n",
       "      <th>9</th>\n",
       "      <td>-0.348181</td>\n",
       "    </tr>\n",
       "  </tbody>\n",
       "</table>\n",
       "</div>"
      ],
      "text/plain": [
       "        meter_reading\n",
       "row_id               \n",
       "0           -0.221495\n",
       "1            0.788805\n",
       "2           -0.254128\n",
       "3            0.361223\n",
       "4            0.610046\n",
       "5           -0.554877\n",
       "6            0.660449\n",
       "7            0.102739\n",
       "8           43.823963\n",
       "9           -0.348181"
      ]
     },
     "execution_count": 50,
     "metadata": {},
     "output_type": "execute_result"
    }
   ],
   "source": [
    "target = np.expm1(cls.predict(test))\n",
    "\n",
    "submission = pd.DataFrame(target, index=row_id, columns=['meter_reading'])\n",
    "submission.head(10)"
   ]
  },
  {
   "cell_type": "code",
   "execution_count": 51,
   "id": "popular-hardwood",
   "metadata": {
    "execution": {
     "iopub.execute_input": "2021-06-09T10:44:56.179506Z",
     "iopub.status.busy": "2021-06-09T10:44:56.178781Z",
     "iopub.status.idle": "2021-06-09T10:44:56.543062Z",
     "shell.execute_reply": "2021-06-09T10:44:56.543553Z",
     "shell.execute_reply.started": "2021-06-09T10:34:25.103435Z"
    },
    "papermill": {
     "duration": 0.589298,
     "end_time": "2021-06-09T10:44:56.543729",
     "exception": false,
     "start_time": "2021-06-09T10:44:55.954431",
     "status": "completed"
    },
    "tags": []
   },
   "outputs": [
    {
     "name": "stdout",
     "output_type": "stream",
     "text": [
      "Memory usage of dataframe is 636.25 MB\n",
      "Memory usage after optimization is: 477.19 MB\n",
      "Decreased by 25.0%\n"
     ]
    }
   ],
   "source": [
    "del row_id\n",
    "gc.collect()\n",
    "\n",
    "submission = reduce_mem_usage(submission)"
   ]
  },
  {
   "cell_type": "code",
   "execution_count": 52,
   "id": "composite-banks",
   "metadata": {
    "execution": {
     "iopub.execute_input": "2021-06-09T10:44:56.746415Z",
     "iopub.status.busy": "2021-06-09T10:44:56.745776Z",
     "iopub.status.idle": "2021-06-09T10:47:11.843799Z",
     "shell.execute_reply": "2021-06-09T10:47:11.843075Z",
     "shell.execute_reply.started": "2021-06-09T10:34:25.462623Z"
    },
    "papermill": {
     "duration": 135.175155,
     "end_time": "2021-06-09T10:47:11.843976",
     "exception": false,
     "start_time": "2021-06-09T10:44:56.668821",
     "status": "completed"
    },
    "tags": []
   },
   "outputs": [],
   "source": [
    "submission.to_csv('ASHRAE_submit.csv')"
   ]
  }
 ],
 "metadata": {
  "kernelspec": {
   "display_name": "Python 3",
   "language": "python",
   "name": "python3"
  },
  "language_info": {
   "codemirror_mode": {
    "name": "ipython",
    "version": 3
   },
   "file_extension": ".py",
   "mimetype": "text/x-python",
   "name": "python",
   "nbconvert_exporter": "python",
   "pygments_lexer": "ipython3",
   "version": "3.7.10"
  },
  "papermill": {
   "default_parameters": {},
   "duration": 669.119936,
   "end_time": "2021-06-09T10:47:14.332392",
   "environment_variables": {},
   "exception": null,
   "input_path": "__notebook__.ipynb",
   "output_path": "__notebook__.ipynb",
   "parameters": {},
   "start_time": "2021-06-09T10:36:05.212456",
   "version": "2.3.3"
  }
 },
 "nbformat": 4,
 "nbformat_minor": 5
}
