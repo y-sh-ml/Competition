{
 "cells": [
  {
   "cell_type": "markdown",
   "id": "bronze-cricket",
   "metadata": {
    "papermill": {
     "duration": 0.067551,
     "end_time": "2021-06-10T02:51:29.079386",
     "exception": false,
     "start_time": "2021-06-10T02:51:29.011835",
     "status": "completed"
    },
    "tags": []
   },
   "source": [
    "# Overview"
   ]
  },
  {
   "cell_type": "markdown",
   "id": "aquatic-portfolio",
   "metadata": {
    "papermill": {
     "duration": 0.0489,
     "end_time": "2021-06-10T02:51:29.178068",
     "exception": false,
     "start_time": "2021-06-10T02:51:29.129168",
     "status": "completed"
    },
    "tags": []
   },
   "source": [
    "1448棟のビルの4種類のメーター（電力、冷水、スチーム、温水）の値を予測するコンペである。\n",
    "\n",
    "背景としては、エネルギー使用量（4種類のメーターの値）が正確に予測できるようになることで<br>\n",
    "省エネ投資を活発化させて、環境問題に貢献したいという狙いがある。\n",
    "\n",
    "ビルの所有者は、ビルのエネルギー効率を改善するような投資を行うことで<br>\n",
    "エネルギー効率が改善された分、コストを抑えることができる。"
   ]
  },
  {
   "cell_type": "markdown",
   "id": "married-excellence",
   "metadata": {
    "papermill": {
     "duration": 0.047994,
     "end_time": "2021-06-10T02:51:29.274930",
     "exception": false,
     "start_time": "2021-06-10T02:51:29.226936",
     "status": "completed"
    },
    "tags": []
   },
   "source": [
    "# Module"
   ]
  },
  {
   "cell_type": "code",
   "execution_count": 1,
   "id": "technical-reach",
   "metadata": {
    "execution": {
     "iopub.execute_input": "2021-06-10T02:51:29.377945Z",
     "iopub.status.busy": "2021-06-10T02:51:29.376818Z",
     "iopub.status.idle": "2021-06-10T02:51:32.572314Z",
     "shell.execute_reply": "2021-06-10T02:51:32.571395Z",
     "shell.execute_reply.started": "2021-06-10T01:25:26.806774Z"
    },
    "papermill": {
     "duration": 3.249513,
     "end_time": "2021-06-10T02:51:32.572504",
     "exception": false,
     "start_time": "2021-06-10T02:51:29.322991",
     "status": "completed"
    },
    "tags": []
   },
   "outputs": [
    {
     "data": {
      "text/html": [
       "<style type='text/css'>\n",
       ".datatable table.frame { margin-bottom: 0; }\n",
       ".datatable table.frame thead { border-bottom: none; }\n",
       ".datatable table.frame tr.coltypes td {  color: #FFFFFF;  line-height: 6px;  padding: 0 0.5em;}\n",
       ".datatable .bool    { background: #DDDD99; }\n",
       ".datatable .object  { background: #565656; }\n",
       ".datatable .int     { background: #5D9E5D; }\n",
       ".datatable .float   { background: #4040CC; }\n",
       ".datatable .str     { background: #CC4040; }\n",
       ".datatable .row_index {  background: var(--jp-border-color3);  border-right: 1px solid var(--jp-border-color0);  color: var(--jp-ui-font-color3);  font-size: 9px;}\n",
       ".datatable .frame tr.coltypes .row_index {  background: var(--jp-border-color0);}\n",
       ".datatable th:nth-child(2) { padding-left: 12px; }\n",
       ".datatable .hellipsis {  color: var(--jp-cell-editor-border-color);}\n",
       ".datatable .vellipsis {  background: var(--jp-layout-color0);  color: var(--jp-cell-editor-border-color);}\n",
       ".datatable .na {  color: var(--jp-cell-editor-border-color);  font-size: 80%;}\n",
       ".datatable .footer { font-size: 9px; }\n",
       ".datatable .frame_dimensions {  background: var(--jp-border-color3);  border-top: 1px solid var(--jp-border-color0);  color: var(--jp-ui-font-color3);  display: inline-block;  opacity: 0.6;  padding: 1px 10px 1px 5px;}\n",
       "</style>\n"
      ],
      "text/plain": [
       "<IPython.core.display.HTML object>"
      ]
     },
     "metadata": {},
     "output_type": "display_data"
    }
   ],
   "source": [
    "import gc\n",
    "import sys\n",
    "import optuna\n",
    "import datetime\n",
    "import warnings\n",
    "import matplotlib\n",
    "import numpy as np\n",
    "import pandas as pd\n",
    "import seaborn as sns\n",
    "import lightgbm as lgb\n",
    "import matplotlib.pyplot as plt\n",
    "\n",
    "from sklearn.preprocessing import LabelEncoder\n",
    "from sklearn.model_selection import train_test_split\n",
    "from sklearn.metrics import mean_squared_error\n",
    "from pandas.api.types import is_datetime64_any_dtype as is_datetime\n",
    "from pandas.api.types import is_categorical_dtype"
   ]
  },
  {
   "cell_type": "markdown",
   "id": "gorgeous-seventh",
   "metadata": {
    "papermill": {
     "duration": 0.049382,
     "end_time": "2021-06-10T02:51:32.673767",
     "exception": false,
     "start_time": "2021-06-10T02:51:32.624385",
     "status": "completed"
    },
    "tags": []
   },
   "source": [
    "# Datasets"
   ]
  },
  {
   "cell_type": "code",
   "execution_count": 2,
   "id": "closed-clear",
   "metadata": {
    "execution": {
     "iopub.execute_input": "2021-06-10T02:51:32.779319Z",
     "iopub.status.busy": "2021-06-10T02:51:32.778600Z",
     "iopub.status.idle": "2021-06-10T02:51:48.111763Z",
     "shell.execute_reply": "2021-06-10T02:51:48.111208Z",
     "shell.execute_reply.started": "2021-06-10T01:25:29.841328Z"
    },
    "papermill": {
     "duration": 15.38839,
     "end_time": "2021-06-10T02:51:48.111923",
     "exception": false,
     "start_time": "2021-06-10T02:51:32.723533",
     "status": "completed"
    },
    "tags": []
   },
   "outputs": [
    {
     "name": "stdout",
     "output_type": "stream",
     "text": [
      "(20216100, 4)\n"
     ]
    },
    {
     "data": {
      "text/html": [
       "<div>\n",
       "<style scoped>\n",
       "    .dataframe tbody tr th:only-of-type {\n",
       "        vertical-align: middle;\n",
       "    }\n",
       "\n",
       "    .dataframe tbody tr th {\n",
       "        vertical-align: top;\n",
       "    }\n",
       "\n",
       "    .dataframe thead th {\n",
       "        text-align: right;\n",
       "    }\n",
       "</style>\n",
       "<table border=\"1\" class=\"dataframe\">\n",
       "  <thead>\n",
       "    <tr style=\"text-align: right;\">\n",
       "      <th></th>\n",
       "      <th>building_id</th>\n",
       "      <th>meter</th>\n",
       "      <th>timestamp</th>\n",
       "      <th>meter_reading</th>\n",
       "    </tr>\n",
       "  </thead>\n",
       "  <tbody>\n",
       "    <tr>\n",
       "      <th>0</th>\n",
       "      <td>0</td>\n",
       "      <td>0</td>\n",
       "      <td>2016-01-01 00:00:00</td>\n",
       "      <td>0.0</td>\n",
       "    </tr>\n",
       "    <tr>\n",
       "      <th>1</th>\n",
       "      <td>1</td>\n",
       "      <td>0</td>\n",
       "      <td>2016-01-01 00:00:00</td>\n",
       "      <td>0.0</td>\n",
       "    </tr>\n",
       "    <tr>\n",
       "      <th>2</th>\n",
       "      <td>2</td>\n",
       "      <td>0</td>\n",
       "      <td>2016-01-01 00:00:00</td>\n",
       "      <td>0.0</td>\n",
       "    </tr>\n",
       "    <tr>\n",
       "      <th>3</th>\n",
       "      <td>3</td>\n",
       "      <td>0</td>\n",
       "      <td>2016-01-01 00:00:00</td>\n",
       "      <td>0.0</td>\n",
       "    </tr>\n",
       "    <tr>\n",
       "      <th>4</th>\n",
       "      <td>4</td>\n",
       "      <td>0</td>\n",
       "      <td>2016-01-01 00:00:00</td>\n",
       "      <td>0.0</td>\n",
       "    </tr>\n",
       "  </tbody>\n",
       "</table>\n",
       "</div>"
      ],
      "text/plain": [
       "   building_id  meter            timestamp  meter_reading\n",
       "0            0      0  2016-01-01 00:00:00            0.0\n",
       "1            1      0  2016-01-01 00:00:00            0.0\n",
       "2            2      0  2016-01-01 00:00:00            0.0\n",
       "3            3      0  2016-01-01 00:00:00            0.0\n",
       "4            4      0  2016-01-01 00:00:00            0.0"
      ]
     },
     "execution_count": 2,
     "metadata": {},
     "output_type": "execute_result"
    }
   ],
   "source": [
    "train = pd.read_csv('../input/ashrae-energy-prediction/train.csv')\n",
    "\n",
    "print(train.shape)\n",
    "train.head()"
   ]
  },
  {
   "cell_type": "markdown",
   "id": "conditional-richardson",
   "metadata": {
    "execution": {
     "iopub.execute_input": "2021-06-04T05:10:36.573413Z",
     "iopub.status.busy": "2021-06-04T05:10:36.573045Z",
     "iopub.status.idle": "2021-06-04T05:10:36.579555Z",
     "shell.execute_reply": "2021-06-04T05:10:36.578197Z",
     "shell.execute_reply.started": "2021-06-04T05:10:36.573384Z"
    },
    "papermill": {
     "duration": 0.05158,
     "end_time": "2021-06-10T02:51:48.213616",
     "exception": false,
     "start_time": "2021-06-10T02:51:48.162036",
     "status": "completed"
    },
    "tags": []
   },
   "source": [
    "1時間ごとのメータ値を保持するテーブル（学習データ）<br>\n",
    "・building_id：ビルのID<br>\n",
    "・meter：0は電力、1は冷水、2はスチーム、3は温水<br>\n",
    "・timestamp：日付と時刻<br>\n",
    "・meter_reading：メーターの使用量（目的変数）<br>"
   ]
  },
  {
   "cell_type": "code",
   "execution_count": 3,
   "id": "funky-strip",
   "metadata": {
    "execution": {
     "iopub.execute_input": "2021-06-10T02:51:48.321466Z",
     "iopub.status.busy": "2021-06-10T02:51:48.320840Z",
     "iopub.status.idle": "2021-06-10T02:52:19.446817Z",
     "shell.execute_reply": "2021-06-10T02:52:19.446287Z",
     "shell.execute_reply.started": "2021-06-10T01:25:45.280708Z"
    },
    "papermill": {
     "duration": 31.180952,
     "end_time": "2021-06-10T02:52:19.446958",
     "exception": false,
     "start_time": "2021-06-10T02:51:48.266006",
     "status": "completed"
    },
    "tags": []
   },
   "outputs": [
    {
     "name": "stdout",
     "output_type": "stream",
     "text": [
      "(41697600, 4)\n"
     ]
    },
    {
     "data": {
      "text/html": [
       "<div>\n",
       "<style scoped>\n",
       "    .dataframe tbody tr th:only-of-type {\n",
       "        vertical-align: middle;\n",
       "    }\n",
       "\n",
       "    .dataframe tbody tr th {\n",
       "        vertical-align: top;\n",
       "    }\n",
       "\n",
       "    .dataframe thead th {\n",
       "        text-align: right;\n",
       "    }\n",
       "</style>\n",
       "<table border=\"1\" class=\"dataframe\">\n",
       "  <thead>\n",
       "    <tr style=\"text-align: right;\">\n",
       "      <th></th>\n",
       "      <th>row_id</th>\n",
       "      <th>building_id</th>\n",
       "      <th>meter</th>\n",
       "      <th>timestamp</th>\n",
       "    </tr>\n",
       "  </thead>\n",
       "  <tbody>\n",
       "    <tr>\n",
       "      <th>0</th>\n",
       "      <td>0</td>\n",
       "      <td>0</td>\n",
       "      <td>0</td>\n",
       "      <td>2017-01-01 00:00:00</td>\n",
       "    </tr>\n",
       "    <tr>\n",
       "      <th>1</th>\n",
       "      <td>1</td>\n",
       "      <td>1</td>\n",
       "      <td>0</td>\n",
       "      <td>2017-01-01 00:00:00</td>\n",
       "    </tr>\n",
       "    <tr>\n",
       "      <th>2</th>\n",
       "      <td>2</td>\n",
       "      <td>2</td>\n",
       "      <td>0</td>\n",
       "      <td>2017-01-01 00:00:00</td>\n",
       "    </tr>\n",
       "    <tr>\n",
       "      <th>3</th>\n",
       "      <td>3</td>\n",
       "      <td>3</td>\n",
       "      <td>0</td>\n",
       "      <td>2017-01-01 00:00:00</td>\n",
       "    </tr>\n",
       "    <tr>\n",
       "      <th>4</th>\n",
       "      <td>4</td>\n",
       "      <td>4</td>\n",
       "      <td>0</td>\n",
       "      <td>2017-01-01 00:00:00</td>\n",
       "    </tr>\n",
       "  </tbody>\n",
       "</table>\n",
       "</div>"
      ],
      "text/plain": [
       "   row_id  building_id  meter            timestamp\n",
       "0       0            0      0  2017-01-01 00:00:00\n",
       "1       1            1      0  2017-01-01 00:00:00\n",
       "2       2            2      0  2017-01-01 00:00:00\n",
       "3       3            3      0  2017-01-01 00:00:00\n",
       "4       4            4      0  2017-01-01 00:00:00"
      ]
     },
     "execution_count": 3,
     "metadata": {},
     "output_type": "execute_result"
    }
   ],
   "source": [
    "test = pd.read_csv('../input/ashrae-energy-prediction/test.csv')\n",
    "\n",
    "print(test.shape)\n",
    "test.head()"
   ]
  },
  {
   "cell_type": "markdown",
   "id": "expired-lightning",
   "metadata": {
    "papermill": {
     "duration": 0.052683,
     "end_time": "2021-06-10T02:52:19.549895",
     "exception": false,
     "start_time": "2021-06-10T02:52:19.497212",
     "status": "completed"
    },
    "tags": []
   },
   "source": [
    "1時間ごとのメータ値を保持するテーブル（テストデータ）<br>\n",
    "・row_id：行のID<br>\n",
    "・building_id：ビルのID<br>\n",
    "・meter：0は電力、1は冷水、2はスチーム、3は温水<br>\n",
    "・timestamp：日付と時刻<br>"
   ]
  },
  {
   "cell_type": "code",
   "execution_count": 4,
   "id": "corporate-period",
   "metadata": {
    "execution": {
     "iopub.execute_input": "2021-06-10T02:52:19.654459Z",
     "iopub.status.busy": "2021-06-10T02:52:19.653866Z",
     "iopub.status.idle": "2021-06-10T02:52:19.657968Z",
     "shell.execute_reply": "2021-06-10T02:52:19.657431Z"
    },
    "papermill": {
     "duration": 0.057348,
     "end_time": "2021-06-10T02:52:19.658106",
     "exception": false,
     "start_time": "2021-06-10T02:52:19.600758",
     "status": "completed"
    },
    "tags": []
   },
   "outputs": [],
   "source": [
    "# 特徴量の選定を行う"
   ]
  },
  {
   "cell_type": "code",
   "execution_count": 5,
   "id": "driven-marker",
   "metadata": {
    "execution": {
     "iopub.execute_input": "2021-06-10T02:52:19.762894Z",
     "iopub.status.busy": "2021-06-10T02:52:19.762250Z",
     "iopub.status.idle": "2021-06-10T02:52:19.765493Z",
     "shell.execute_reply": "2021-06-10T02:52:19.765985Z",
     "shell.execute_reply.started": "2021-06-10T01:26:16.000767Z"
    },
    "papermill": {
     "duration": 0.057329,
     "end_time": "2021-06-10T02:52:19.766172",
     "exception": false,
     "start_time": "2021-06-10T02:52:19.708843",
     "status": "completed"
    },
    "tags": []
   },
   "outputs": [],
   "source": [
    "usecols = {'site_id', 'timestamp', 'air_temperature', 'dew_temperature'}"
   ]
  },
  {
   "cell_type": "code",
   "execution_count": 6,
   "id": "certain-background",
   "metadata": {
    "execution": {
     "iopub.execute_input": "2021-06-10T02:52:19.871162Z",
     "iopub.status.busy": "2021-06-10T02:52:19.870518Z",
     "iopub.status.idle": "2021-06-10T02:52:20.068737Z",
     "shell.execute_reply": "2021-06-10T02:52:20.068197Z",
     "shell.execute_reply.started": "2021-06-10T01:26:16.007692Z"
    },
    "papermill": {
     "duration": 0.251639,
     "end_time": "2021-06-10T02:52:20.068881",
     "exception": false,
     "start_time": "2021-06-10T02:52:19.817242",
     "status": "completed"
    },
    "tags": []
   },
   "outputs": [
    {
     "name": "stdout",
     "output_type": "stream",
     "text": [
      "(139773, 4)\n"
     ]
    },
    {
     "data": {
      "text/html": [
       "<div>\n",
       "<style scoped>\n",
       "    .dataframe tbody tr th:only-of-type {\n",
       "        vertical-align: middle;\n",
       "    }\n",
       "\n",
       "    .dataframe tbody tr th {\n",
       "        vertical-align: top;\n",
       "    }\n",
       "\n",
       "    .dataframe thead th {\n",
       "        text-align: right;\n",
       "    }\n",
       "</style>\n",
       "<table border=\"1\" class=\"dataframe\">\n",
       "  <thead>\n",
       "    <tr style=\"text-align: right;\">\n",
       "      <th></th>\n",
       "      <th>site_id</th>\n",
       "      <th>timestamp</th>\n",
       "      <th>air_temperature</th>\n",
       "      <th>dew_temperature</th>\n",
       "    </tr>\n",
       "  </thead>\n",
       "  <tbody>\n",
       "    <tr>\n",
       "      <th>0</th>\n",
       "      <td>0</td>\n",
       "      <td>2016-01-01 00:00:00</td>\n",
       "      <td>25.0</td>\n",
       "      <td>20.0</td>\n",
       "    </tr>\n",
       "    <tr>\n",
       "      <th>1</th>\n",
       "      <td>0</td>\n",
       "      <td>2016-01-01 01:00:00</td>\n",
       "      <td>24.4</td>\n",
       "      <td>21.1</td>\n",
       "    </tr>\n",
       "    <tr>\n",
       "      <th>2</th>\n",
       "      <td>0</td>\n",
       "      <td>2016-01-01 02:00:00</td>\n",
       "      <td>22.8</td>\n",
       "      <td>21.1</td>\n",
       "    </tr>\n",
       "    <tr>\n",
       "      <th>3</th>\n",
       "      <td>0</td>\n",
       "      <td>2016-01-01 03:00:00</td>\n",
       "      <td>21.1</td>\n",
       "      <td>20.6</td>\n",
       "    </tr>\n",
       "    <tr>\n",
       "      <th>4</th>\n",
       "      <td>0</td>\n",
       "      <td>2016-01-01 04:00:00</td>\n",
       "      <td>20.0</td>\n",
       "      <td>20.0</td>\n",
       "    </tr>\n",
       "  </tbody>\n",
       "</table>\n",
       "</div>"
      ],
      "text/plain": [
       "   site_id            timestamp  air_temperature  dew_temperature\n",
       "0        0  2016-01-01 00:00:00             25.0             20.0\n",
       "1        0  2016-01-01 01:00:00             24.4             21.1\n",
       "2        0  2016-01-01 02:00:00             22.8             21.1\n",
       "3        0  2016-01-01 03:00:00             21.1             20.6\n",
       "4        0  2016-01-01 04:00:00             20.0             20.0"
      ]
     },
     "execution_count": 6,
     "metadata": {},
     "output_type": "execute_result"
    }
   ],
   "source": [
    "weather_train = pd.read_csv('../input/ashrae-energy-prediction/weather_train.csv', usecols=usecols)\n",
    "\n",
    "print(weather_train.shape)\n",
    "weather_train.head()"
   ]
  },
  {
   "cell_type": "markdown",
   "id": "ambient-nigeria",
   "metadata": {
    "papermill": {
     "duration": 0.051856,
     "end_time": "2021-06-10T02:52:20.174342",
     "exception": false,
     "start_time": "2021-06-10T02:52:20.122486",
     "status": "completed"
    },
    "tags": []
   },
   "source": [
    "気象情報を保持するテーブル（学習データに対応）<br>\n",
    "・site_id：ビルの物理的な位置<br>\n",
    "・timestamp：日付と時刻<br>\n",
    "・air_temperature：気温<br>\n",
    "・dew_temperature：湿度<br>\n",
    "・precip_depth：降水量<br>\n",
    "・sea_level_pressure：海圧<br>\n",
    "・wind_direction：風向<br>\n",
    "・wind_speed：風速<br>"
   ]
  },
  {
   "cell_type": "code",
   "execution_count": 7,
   "id": "documentary-finder",
   "metadata": {
    "execution": {
     "iopub.execute_input": "2021-06-10T02:52:20.283261Z",
     "iopub.status.busy": "2021-06-10T02:52:20.282233Z",
     "iopub.status.idle": "2021-06-10T02:52:20.662945Z",
     "shell.execute_reply": "2021-06-10T02:52:20.662338Z",
     "shell.execute_reply.started": "2021-06-10T01:26:16.223553Z"
    },
    "papermill": {
     "duration": 0.436898,
     "end_time": "2021-06-10T02:52:20.663108",
     "exception": false,
     "start_time": "2021-06-10T02:52:20.226210",
     "status": "completed"
    },
    "tags": []
   },
   "outputs": [
    {
     "name": "stdout",
     "output_type": "stream",
     "text": [
      "(277243, 4)\n"
     ]
    },
    {
     "data": {
      "text/html": [
       "<div>\n",
       "<style scoped>\n",
       "    .dataframe tbody tr th:only-of-type {\n",
       "        vertical-align: middle;\n",
       "    }\n",
       "\n",
       "    .dataframe tbody tr th {\n",
       "        vertical-align: top;\n",
       "    }\n",
       "\n",
       "    .dataframe thead th {\n",
       "        text-align: right;\n",
       "    }\n",
       "</style>\n",
       "<table border=\"1\" class=\"dataframe\">\n",
       "  <thead>\n",
       "    <tr style=\"text-align: right;\">\n",
       "      <th></th>\n",
       "      <th>site_id</th>\n",
       "      <th>timestamp</th>\n",
       "      <th>air_temperature</th>\n",
       "      <th>dew_temperature</th>\n",
       "    </tr>\n",
       "  </thead>\n",
       "  <tbody>\n",
       "    <tr>\n",
       "      <th>0</th>\n",
       "      <td>0</td>\n",
       "      <td>2017-01-01 00:00:00</td>\n",
       "      <td>17.8</td>\n",
       "      <td>11.7</td>\n",
       "    </tr>\n",
       "    <tr>\n",
       "      <th>1</th>\n",
       "      <td>0</td>\n",
       "      <td>2017-01-01 01:00:00</td>\n",
       "      <td>17.8</td>\n",
       "      <td>12.8</td>\n",
       "    </tr>\n",
       "    <tr>\n",
       "      <th>2</th>\n",
       "      <td>0</td>\n",
       "      <td>2017-01-01 02:00:00</td>\n",
       "      <td>16.1</td>\n",
       "      <td>12.8</td>\n",
       "    </tr>\n",
       "    <tr>\n",
       "      <th>3</th>\n",
       "      <td>0</td>\n",
       "      <td>2017-01-01 03:00:00</td>\n",
       "      <td>17.2</td>\n",
       "      <td>13.3</td>\n",
       "    </tr>\n",
       "    <tr>\n",
       "      <th>4</th>\n",
       "      <td>0</td>\n",
       "      <td>2017-01-01 04:00:00</td>\n",
       "      <td>16.7</td>\n",
       "      <td>13.3</td>\n",
       "    </tr>\n",
       "  </tbody>\n",
       "</table>\n",
       "</div>"
      ],
      "text/plain": [
       "   site_id            timestamp  air_temperature  dew_temperature\n",
       "0        0  2017-01-01 00:00:00             17.8             11.7\n",
       "1        0  2017-01-01 01:00:00             17.8             12.8\n",
       "2        0  2017-01-01 02:00:00             16.1             12.8\n",
       "3        0  2017-01-01 03:00:00             17.2             13.3\n",
       "4        0  2017-01-01 04:00:00             16.7             13.3"
      ]
     },
     "execution_count": 7,
     "metadata": {},
     "output_type": "execute_result"
    }
   ],
   "source": [
    "weather_test = pd.read_csv('../input/ashrae-energy-prediction/weather_test.csv', usecols=usecols)\n",
    "\n",
    "print(weather_test.shape)\n",
    "weather_test.head()"
   ]
  },
  {
   "cell_type": "markdown",
   "id": "straight-blocking",
   "metadata": {
    "papermill": {
     "duration": 0.052181,
     "end_time": "2021-06-10T02:52:20.767816",
     "exception": false,
     "start_time": "2021-06-10T02:52:20.715635",
     "status": "completed"
    },
    "tags": []
   },
   "source": [
    "気象情報を保持するテーブル（テストデータに対応）<br>\n",
    "・site_id：ビルの物理的な位置<br>\n",
    "・timestamp：日付と時刻<br>\n",
    "・air_temperature：気温<br>\n",
    "・dew_temperature：湿度<br>\n",
    "・precip_depth：降水量<br>\n",
    "・sea_level_pressure：海圧<br>\n",
    "・wind_direction：風向<br>\n",
    "・wind_speed：風速<br>"
   ]
  },
  {
   "cell_type": "code",
   "execution_count": 8,
   "id": "unlimited-fifteen",
   "metadata": {
    "execution": {
     "iopub.execute_input": "2021-06-10T02:52:20.878566Z",
     "iopub.status.busy": "2021-06-10T02:52:20.877890Z",
     "iopub.status.idle": "2021-06-10T02:52:20.881355Z",
     "shell.execute_reply": "2021-06-10T02:52:20.880725Z",
     "shell.execute_reply.started": "2021-06-10T01:26:16.620704Z"
    },
    "papermill": {
     "duration": 0.06133,
     "end_time": "2021-06-10T02:52:20.881492",
     "exception": false,
     "start_time": "2021-06-10T02:52:20.820162",
     "status": "completed"
    },
    "tags": []
   },
   "outputs": [],
   "source": [
    "usecols = {'site_id', 'building_id', 'primary_use', 'square_feet', 'year_built', 'floor_count'}"
   ]
  },
  {
   "cell_type": "code",
   "execution_count": 9,
   "id": "verbal-enforcement",
   "metadata": {
    "execution": {
     "iopub.execute_input": "2021-06-10T02:52:20.993358Z",
     "iopub.status.busy": "2021-06-10T02:52:20.992702Z",
     "iopub.status.idle": "2021-06-10T02:52:21.016331Z",
     "shell.execute_reply": "2021-06-10T02:52:21.015666Z",
     "shell.execute_reply.started": "2021-06-10T01:26:16.630191Z"
    },
    "papermill": {
     "duration": 0.082426,
     "end_time": "2021-06-10T02:52:21.016486",
     "exception": false,
     "start_time": "2021-06-10T02:52:20.934060",
     "status": "completed"
    },
    "tags": []
   },
   "outputs": [
    {
     "name": "stdout",
     "output_type": "stream",
     "text": [
      "(1449, 6)\n"
     ]
    },
    {
     "data": {
      "text/html": [
       "<div>\n",
       "<style scoped>\n",
       "    .dataframe tbody tr th:only-of-type {\n",
       "        vertical-align: middle;\n",
       "    }\n",
       "\n",
       "    .dataframe tbody tr th {\n",
       "        vertical-align: top;\n",
       "    }\n",
       "\n",
       "    .dataframe thead th {\n",
       "        text-align: right;\n",
       "    }\n",
       "</style>\n",
       "<table border=\"1\" class=\"dataframe\">\n",
       "  <thead>\n",
       "    <tr style=\"text-align: right;\">\n",
       "      <th></th>\n",
       "      <th>site_id</th>\n",
       "      <th>building_id</th>\n",
       "      <th>primary_use</th>\n",
       "      <th>square_feet</th>\n",
       "      <th>year_built</th>\n",
       "      <th>floor_count</th>\n",
       "    </tr>\n",
       "  </thead>\n",
       "  <tbody>\n",
       "    <tr>\n",
       "      <th>0</th>\n",
       "      <td>0</td>\n",
       "      <td>0</td>\n",
       "      <td>Education</td>\n",
       "      <td>7432</td>\n",
       "      <td>2008.0</td>\n",
       "      <td>NaN</td>\n",
       "    </tr>\n",
       "    <tr>\n",
       "      <th>1</th>\n",
       "      <td>0</td>\n",
       "      <td>1</td>\n",
       "      <td>Education</td>\n",
       "      <td>2720</td>\n",
       "      <td>2004.0</td>\n",
       "      <td>NaN</td>\n",
       "    </tr>\n",
       "    <tr>\n",
       "      <th>2</th>\n",
       "      <td>0</td>\n",
       "      <td>2</td>\n",
       "      <td>Education</td>\n",
       "      <td>5376</td>\n",
       "      <td>1991.0</td>\n",
       "      <td>NaN</td>\n",
       "    </tr>\n",
       "    <tr>\n",
       "      <th>3</th>\n",
       "      <td>0</td>\n",
       "      <td>3</td>\n",
       "      <td>Education</td>\n",
       "      <td>23685</td>\n",
       "      <td>2002.0</td>\n",
       "      <td>NaN</td>\n",
       "    </tr>\n",
       "    <tr>\n",
       "      <th>4</th>\n",
       "      <td>0</td>\n",
       "      <td>4</td>\n",
       "      <td>Education</td>\n",
       "      <td>116607</td>\n",
       "      <td>1975.0</td>\n",
       "      <td>NaN</td>\n",
       "    </tr>\n",
       "  </tbody>\n",
       "</table>\n",
       "</div>"
      ],
      "text/plain": [
       "   site_id  building_id primary_use  square_feet  year_built  floor_count\n",
       "0        0            0   Education         7432      2008.0          NaN\n",
       "1        0            1   Education         2720      2004.0          NaN\n",
       "2        0            2   Education         5376      1991.0          NaN\n",
       "3        0            3   Education        23685      2002.0          NaN\n",
       "4        0            4   Education       116607      1975.0          NaN"
      ]
     },
     "execution_count": 9,
     "metadata": {},
     "output_type": "execute_result"
    }
   ],
   "source": [
    "building = pd.read_csv('../input/ashrae-energy-prediction/building_metadata.csv', usecols=usecols)\n",
    "\n",
    "print(building.shape)\n",
    "building.head()"
   ]
  },
  {
   "cell_type": "markdown",
   "id": "south-burns",
   "metadata": {
    "papermill": {
     "duration": 0.054316,
     "end_time": "2021-06-10T02:52:21.125740",
     "exception": false,
     "start_time": "2021-06-10T02:52:21.071424",
     "status": "completed"
    },
    "tags": []
   },
   "source": [
    "ビルの情報を保持するテーブル<br>\n",
    "・site_id：ビルの物理的な位置<br>\n",
    "・building_id：ビルのID<br>\n",
    "・primary_use：使用目的<br>\n",
    "・square_feet：面積<br>\n",
    "・year_built：施工した年<br>\n",
    "・floor_count：階数<br>"
   ]
  },
  {
   "cell_type": "markdown",
   "id": "colored-silicon",
   "metadata": {
    "papermill": {
     "duration": 0.055907,
     "end_time": "2021-06-10T02:52:21.235243",
     "exception": false,
     "start_time": "2021-06-10T02:52:21.179336",
     "status": "completed"
    },
    "tags": []
   },
   "source": [
    "# Join"
   ]
  },
  {
   "cell_type": "code",
   "execution_count": 10,
   "id": "driven-yemen",
   "metadata": {
    "execution": {
     "iopub.execute_input": "2021-06-10T02:52:21.358486Z",
     "iopub.status.busy": "2021-06-10T02:52:21.353158Z",
     "iopub.status.idle": "2021-06-10T02:52:21.366145Z",
     "shell.execute_reply": "2021-06-10T02:52:21.365449Z",
     "shell.execute_reply.started": "2021-06-10T01:26:16.663284Z"
    },
    "papermill": {
     "duration": 0.075986,
     "end_time": "2021-06-10T02:52:21.366304",
     "exception": false,
     "start_time": "2021-06-10T02:52:21.290318",
     "status": "completed"
    },
    "tags": []
   },
   "outputs": [],
   "source": [
    "def reduce_mem_usage(df, use_float16=False):\n",
    "    \n",
    "    start_mem = df.memory_usage().sum() / 1024**2\n",
    "    print('Memory usage of dataframe is {:.2f} MB'.format(start_mem))\n",
    "    \n",
    "    for col in df.columns:\n",
    "        if is_datetime(df[col]) or is_categorical_dtype(df[col]):\n",
    "            continue\n",
    "        col_type = df[col].dtype\n",
    "        \n",
    "        if col_type != object:\n",
    "            c_min = df[col].min()\n",
    "            c_max = df[col].max()\n",
    "            if str(col_type)[:3] == 'int':\n",
    "                if c_min > np.iinfo(np.int8).min and c_max < np.iinfo(np.int8).max:\n",
    "                    df[col] = df[col].astype(np.int8)\n",
    "                elif c_min > np.iinfo(np.int16).min and c_max < np.iinfo(np.int16).max:\n",
    "                    df[col] = df[col].astype(np.int16)\n",
    "                elif c_min > np.iinfo(np.int32).min and c_max < np.iinfo(np.int32).max:\n",
    "                    df[col] = df[col].astype(np.int32)\n",
    "                elif c_min > np.iinfo(np.int64).min and c_max < np.iinfo(np.int64).max:\n",
    "                    df[col] = df[col].astype(np.int64)  \n",
    "            else:\n",
    "                if use_float16 and c_min > np.finfo(np.float16).min and c_max < np.finfo(np.float16).max:\n",
    "                    df[col] = df[col].astype(np.float16)\n",
    "                elif c_min > np.finfo(np.float32).min and c_max < np.finfo(np.float32).max:\n",
    "                    df[col] = df[col].astype(np.float32)\n",
    "                else:\n",
    "                    df[col] = df[col].astype(np.float64)\n",
    "        else:\n",
    "            df[col] = df[col].astype('category')\n",
    "\n",
    "    end_mem = df.memory_usage().sum() / 1024**2\n",
    "    print('Memory usage after optimization is: {:.2f} MB'.format(end_mem))\n",
    "    print('Decreased by {:.1f}%'.format(100 * (start_mem - end_mem) / start_mem))\n",
    "    \n",
    "    return df"
   ]
  },
  {
   "cell_type": "code",
   "execution_count": 11,
   "id": "prime-citizenship",
   "metadata": {
    "execution": {
     "iopub.execute_input": "2021-06-10T02:52:21.483769Z",
     "iopub.status.busy": "2021-06-10T02:52:21.483078Z",
     "iopub.status.idle": "2021-06-10T02:52:21.596314Z",
     "shell.execute_reply": "2021-06-10T02:52:21.597027Z",
     "shell.execute_reply.started": "2021-06-10T01:26:16.681655Z"
    },
    "papermill": {
     "duration": 0.177127,
     "end_time": "2021-06-10T02:52:21.597281",
     "exception": false,
     "start_time": "2021-06-10T02:52:21.420154",
     "status": "completed"
    },
    "tags": []
   },
   "outputs": [
    {
     "name": "stdout",
     "output_type": "stream",
     "text": [
      "Memory usage of dataframe is 4.27 MB\n",
      "Memory usage after optimization is: 1.79 MB\n",
      "Decreased by 58.1%\n",
      "Memory usage of dataframe is 8.46 MB\n",
      "Memory usage after optimization is: 3.55 MB\n",
      "Decreased by 58.1%\n"
     ]
    }
   ],
   "source": [
    "# train = reduce_mem_usage(train)\n",
    "# test = reduce_mem_usage(test)\n",
    "\n",
    "weather_train = reduce_mem_usage(weather_train)\n",
    "weather_test = reduce_mem_usage(weather_test)"
   ]
  },
  {
   "cell_type": "code",
   "execution_count": 12,
   "id": "played-worst",
   "metadata": {
    "execution": {
     "iopub.execute_input": "2021-06-10T02:52:21.708209Z",
     "iopub.status.busy": "2021-06-10T02:52:21.707539Z",
     "iopub.status.idle": "2021-06-10T02:52:34.187390Z",
     "shell.execute_reply": "2021-06-10T02:52:34.186897Z",
     "shell.execute_reply.started": "2021-06-10T01:26:16.826479Z"
    },
    "papermill": {
     "duration": 12.535779,
     "end_time": "2021-06-10T02:52:34.187539",
     "exception": false,
     "start_time": "2021-06-10T02:52:21.651760",
     "status": "completed"
    },
    "tags": []
   },
   "outputs": [
    {
     "name": "stdout",
     "output_type": "stream",
     "text": [
      "(20216100, 9)\n"
     ]
    },
    {
     "data": {
      "text/html": [
       "<div>\n",
       "<style scoped>\n",
       "    .dataframe tbody tr th:only-of-type {\n",
       "        vertical-align: middle;\n",
       "    }\n",
       "\n",
       "    .dataframe tbody tr th {\n",
       "        vertical-align: top;\n",
       "    }\n",
       "\n",
       "    .dataframe thead th {\n",
       "        text-align: right;\n",
       "    }\n",
       "</style>\n",
       "<table border=\"1\" class=\"dataframe\">\n",
       "  <thead>\n",
       "    <tr style=\"text-align: right;\">\n",
       "      <th></th>\n",
       "      <th>building_id</th>\n",
       "      <th>meter</th>\n",
       "      <th>timestamp</th>\n",
       "      <th>meter_reading</th>\n",
       "      <th>site_id</th>\n",
       "      <th>primary_use</th>\n",
       "      <th>square_feet</th>\n",
       "      <th>year_built</th>\n",
       "      <th>floor_count</th>\n",
       "    </tr>\n",
       "  </thead>\n",
       "  <tbody>\n",
       "    <tr>\n",
       "      <th>0</th>\n",
       "      <td>0</td>\n",
       "      <td>0</td>\n",
       "      <td>2016-01-01 00:00:00</td>\n",
       "      <td>0.0</td>\n",
       "      <td>0</td>\n",
       "      <td>Education</td>\n",
       "      <td>7432</td>\n",
       "      <td>2008.0</td>\n",
       "      <td>NaN</td>\n",
       "    </tr>\n",
       "    <tr>\n",
       "      <th>1</th>\n",
       "      <td>1</td>\n",
       "      <td>0</td>\n",
       "      <td>2016-01-01 00:00:00</td>\n",
       "      <td>0.0</td>\n",
       "      <td>0</td>\n",
       "      <td>Education</td>\n",
       "      <td>2720</td>\n",
       "      <td>2004.0</td>\n",
       "      <td>NaN</td>\n",
       "    </tr>\n",
       "    <tr>\n",
       "      <th>2</th>\n",
       "      <td>2</td>\n",
       "      <td>0</td>\n",
       "      <td>2016-01-01 00:00:00</td>\n",
       "      <td>0.0</td>\n",
       "      <td>0</td>\n",
       "      <td>Education</td>\n",
       "      <td>5376</td>\n",
       "      <td>1991.0</td>\n",
       "      <td>NaN</td>\n",
       "    </tr>\n",
       "    <tr>\n",
       "      <th>3</th>\n",
       "      <td>3</td>\n",
       "      <td>0</td>\n",
       "      <td>2016-01-01 00:00:00</td>\n",
       "      <td>0.0</td>\n",
       "      <td>0</td>\n",
       "      <td>Education</td>\n",
       "      <td>23685</td>\n",
       "      <td>2002.0</td>\n",
       "      <td>NaN</td>\n",
       "    </tr>\n",
       "    <tr>\n",
       "      <th>4</th>\n",
       "      <td>4</td>\n",
       "      <td>0</td>\n",
       "      <td>2016-01-01 00:00:00</td>\n",
       "      <td>0.0</td>\n",
       "      <td>0</td>\n",
       "      <td>Education</td>\n",
       "      <td>116607</td>\n",
       "      <td>1975.0</td>\n",
       "      <td>NaN</td>\n",
       "    </tr>\n",
       "  </tbody>\n",
       "</table>\n",
       "</div>"
      ],
      "text/plain": [
       "   building_id  meter            timestamp  meter_reading  site_id  \\\n",
       "0            0      0  2016-01-01 00:00:00            0.0        0   \n",
       "1            1      0  2016-01-01 00:00:00            0.0        0   \n",
       "2            2      0  2016-01-01 00:00:00            0.0        0   \n",
       "3            3      0  2016-01-01 00:00:00            0.0        0   \n",
       "4            4      0  2016-01-01 00:00:00            0.0        0   \n",
       "\n",
       "  primary_use  square_feet  year_built  floor_count  \n",
       "0   Education         7432      2008.0          NaN  \n",
       "1   Education         2720      2004.0          NaN  \n",
       "2   Education         5376      1991.0          NaN  \n",
       "3   Education        23685      2002.0          NaN  \n",
       "4   Education       116607      1975.0          NaN  "
      ]
     },
     "execution_count": 12,
     "metadata": {},
     "output_type": "execute_result"
    }
   ],
   "source": [
    "train = train.merge(building, on='building_id', how='left')\n",
    "test = test.merge(building, on='building_id', how='left')\n",
    "\n",
    "print(train.shape)\n",
    "train.head()"
   ]
  },
  {
   "cell_type": "code",
   "execution_count": 13,
   "id": "independent-inspection",
   "metadata": {
    "execution": {
     "iopub.execute_input": "2021-06-10T02:52:34.449213Z",
     "iopub.status.busy": "2021-06-10T02:52:34.448350Z",
     "iopub.status.idle": "2021-06-10T02:52:34.452369Z",
     "shell.execute_reply": "2021-06-10T02:52:34.451854Z",
     "shell.execute_reply.started": "2021-06-10T01:26:32.779080Z"
    },
    "papermill": {
     "duration": 0.210955,
     "end_time": "2021-06-10T02:52:34.452516",
     "exception": false,
     "start_time": "2021-06-10T02:52:34.241561",
     "status": "completed"
    },
    "tags": []
   },
   "outputs": [
    {
     "data": {
      "text/plain": [
       "131"
      ]
     },
     "execution_count": 13,
     "metadata": {},
     "output_type": "execute_result"
    }
   ],
   "source": [
    "del building\n",
    "gc.collect()"
   ]
  },
  {
   "cell_type": "code",
   "execution_count": 14,
   "id": "alone-intelligence",
   "metadata": {
    "execution": {
     "iopub.execute_input": "2021-06-10T02:52:34.567755Z",
     "iopub.status.busy": "2021-06-10T02:52:34.567082Z",
     "iopub.status.idle": "2021-06-10T02:53:02.047761Z",
     "shell.execute_reply": "2021-06-10T02:53:02.048238Z",
     "shell.execute_reply.started": "2021-06-10T01:26:32.978359Z"
    },
    "papermill": {
     "duration": 27.541003,
     "end_time": "2021-06-10T02:53:02.048442",
     "exception": false,
     "start_time": "2021-06-10T02:52:34.507439",
     "status": "completed"
    },
    "tags": []
   },
   "outputs": [
    {
     "name": "stdout",
     "output_type": "stream",
     "text": [
      "(20216100, 11)\n"
     ]
    },
    {
     "data": {
      "text/html": [
       "<div>\n",
       "<style scoped>\n",
       "    .dataframe tbody tr th:only-of-type {\n",
       "        vertical-align: middle;\n",
       "    }\n",
       "\n",
       "    .dataframe tbody tr th {\n",
       "        vertical-align: top;\n",
       "    }\n",
       "\n",
       "    .dataframe thead th {\n",
       "        text-align: right;\n",
       "    }\n",
       "</style>\n",
       "<table border=\"1\" class=\"dataframe\">\n",
       "  <thead>\n",
       "    <tr style=\"text-align: right;\">\n",
       "      <th></th>\n",
       "      <th>building_id</th>\n",
       "      <th>meter</th>\n",
       "      <th>timestamp</th>\n",
       "      <th>meter_reading</th>\n",
       "      <th>site_id</th>\n",
       "      <th>primary_use</th>\n",
       "      <th>square_feet</th>\n",
       "      <th>year_built</th>\n",
       "      <th>floor_count</th>\n",
       "      <th>air_temperature</th>\n",
       "      <th>dew_temperature</th>\n",
       "    </tr>\n",
       "  </thead>\n",
       "  <tbody>\n",
       "    <tr>\n",
       "      <th>0</th>\n",
       "      <td>0</td>\n",
       "      <td>0</td>\n",
       "      <td>2016-01-01 00:00:00</td>\n",
       "      <td>0.0</td>\n",
       "      <td>0</td>\n",
       "      <td>Education</td>\n",
       "      <td>7432</td>\n",
       "      <td>2008.0</td>\n",
       "      <td>NaN</td>\n",
       "      <td>25.0</td>\n",
       "      <td>20.0</td>\n",
       "    </tr>\n",
       "    <tr>\n",
       "      <th>1</th>\n",
       "      <td>1</td>\n",
       "      <td>0</td>\n",
       "      <td>2016-01-01 00:00:00</td>\n",
       "      <td>0.0</td>\n",
       "      <td>0</td>\n",
       "      <td>Education</td>\n",
       "      <td>2720</td>\n",
       "      <td>2004.0</td>\n",
       "      <td>NaN</td>\n",
       "      <td>25.0</td>\n",
       "      <td>20.0</td>\n",
       "    </tr>\n",
       "    <tr>\n",
       "      <th>2</th>\n",
       "      <td>2</td>\n",
       "      <td>0</td>\n",
       "      <td>2016-01-01 00:00:00</td>\n",
       "      <td>0.0</td>\n",
       "      <td>0</td>\n",
       "      <td>Education</td>\n",
       "      <td>5376</td>\n",
       "      <td>1991.0</td>\n",
       "      <td>NaN</td>\n",
       "      <td>25.0</td>\n",
       "      <td>20.0</td>\n",
       "    </tr>\n",
       "    <tr>\n",
       "      <th>3</th>\n",
       "      <td>3</td>\n",
       "      <td>0</td>\n",
       "      <td>2016-01-01 00:00:00</td>\n",
       "      <td>0.0</td>\n",
       "      <td>0</td>\n",
       "      <td>Education</td>\n",
       "      <td>23685</td>\n",
       "      <td>2002.0</td>\n",
       "      <td>NaN</td>\n",
       "      <td>25.0</td>\n",
       "      <td>20.0</td>\n",
       "    </tr>\n",
       "    <tr>\n",
       "      <th>4</th>\n",
       "      <td>4</td>\n",
       "      <td>0</td>\n",
       "      <td>2016-01-01 00:00:00</td>\n",
       "      <td>0.0</td>\n",
       "      <td>0</td>\n",
       "      <td>Education</td>\n",
       "      <td>116607</td>\n",
       "      <td>1975.0</td>\n",
       "      <td>NaN</td>\n",
       "      <td>25.0</td>\n",
       "      <td>20.0</td>\n",
       "    </tr>\n",
       "  </tbody>\n",
       "</table>\n",
       "</div>"
      ],
      "text/plain": [
       "   building_id  meter            timestamp  meter_reading  site_id  \\\n",
       "0            0      0  2016-01-01 00:00:00            0.0        0   \n",
       "1            1      0  2016-01-01 00:00:00            0.0        0   \n",
       "2            2      0  2016-01-01 00:00:00            0.0        0   \n",
       "3            3      0  2016-01-01 00:00:00            0.0        0   \n",
       "4            4      0  2016-01-01 00:00:00            0.0        0   \n",
       "\n",
       "  primary_use  square_feet  year_built  floor_count  air_temperature  \\\n",
       "0   Education         7432      2008.0          NaN             25.0   \n",
       "1   Education         2720      2004.0          NaN             25.0   \n",
       "2   Education         5376      1991.0          NaN             25.0   \n",
       "3   Education        23685      2002.0          NaN             25.0   \n",
       "4   Education       116607      1975.0          NaN             25.0   \n",
       "\n",
       "   dew_temperature  \n",
       "0             20.0  \n",
       "1             20.0  \n",
       "2             20.0  \n",
       "3             20.0  \n",
       "4             20.0  "
      ]
     },
     "execution_count": 14,
     "metadata": {},
     "output_type": "execute_result"
    }
   ],
   "source": [
    "train = train.merge(weather_train, on=['site_id', 'timestamp'], how='left')\n",
    "test = test.merge(weather_test, on=['site_id', 'timestamp'], how='left')\n",
    "\n",
    "print(train.shape)\n",
    "train.head()"
   ]
  },
  {
   "cell_type": "code",
   "execution_count": 15,
   "id": "directed-nightmare",
   "metadata": {
    "execution": {
     "iopub.execute_input": "2021-06-10T02:53:02.302257Z",
     "iopub.status.busy": "2021-06-10T02:53:02.301328Z",
     "iopub.status.idle": "2021-06-10T02:53:02.305883Z",
     "shell.execute_reply": "2021-06-10T02:53:02.305365Z",
     "shell.execute_reply.started": "2021-06-10T01:27:05.426738Z"
    },
    "papermill": {
     "duration": 0.194943,
     "end_time": "2021-06-10T02:53:02.306029",
     "exception": false,
     "start_time": "2021-06-10T02:53:02.111086",
     "status": "completed"
    },
    "tags": []
   },
   "outputs": [
    {
     "data": {
      "text/plain": [
       "40"
      ]
     },
     "execution_count": 15,
     "metadata": {},
     "output_type": "execute_result"
    }
   ],
   "source": [
    "del weather_train, weather_test\n",
    "gc.collect()"
   ]
  },
  {
   "cell_type": "code",
   "execution_count": 16,
   "id": "operating-compilation",
   "metadata": {
    "execution": {
     "iopub.execute_input": "2021-06-10T02:53:02.424477Z",
     "iopub.status.busy": "2021-06-10T02:53:02.423438Z",
     "iopub.status.idle": "2021-06-10T02:53:02.426783Z",
     "shell.execute_reply": "2021-06-10T02:53:02.426198Z",
     "shell.execute_reply.started": "2021-06-10T01:27:05.737341Z"
    },
    "papermill": {
     "duration": 0.064368,
     "end_time": "2021-06-10T02:53:02.426927",
     "exception": false,
     "start_time": "2021-06-10T02:53:02.362559",
     "status": "completed"
    },
    "tags": []
   },
   "outputs": [],
   "source": [
    "# train = reduce_mem_usage(train)\n",
    "# test = reduce_mem_usage(test)"
   ]
  },
  {
   "cell_type": "code",
   "execution_count": 17,
   "id": "upper-utilization",
   "metadata": {
    "execution": {
     "iopub.execute_input": "2021-06-10T02:53:05.981161Z",
     "iopub.status.busy": "2021-06-10T02:53:05.980146Z",
     "iopub.status.idle": "2021-06-10T02:53:24.290354Z",
     "shell.execute_reply": "2021-06-10T02:53:24.289790Z",
     "shell.execute_reply.started": "2021-06-10T01:27:05.753459Z"
    },
    "papermill": {
     "duration": 21.80718,
     "end_time": "2021-06-10T02:53:24.290537",
     "exception": false,
     "start_time": "2021-06-10T02:53:02.483357",
     "status": "completed"
    },
    "tags": []
   },
   "outputs": [
    {
     "name": "stdout",
     "output_type": "stream",
     "text": [
      "4393476701\n",
      "9063691712\n"
     ]
    }
   ],
   "source": [
    "print(sys.getsizeof(train))\n",
    "print(sys.getsizeof(test))"
   ]
  },
  {
   "cell_type": "code",
   "execution_count": 18,
   "id": "bound-medicine",
   "metadata": {
    "execution": {
     "iopub.execute_input": "2021-06-10T02:53:24.416715Z",
     "iopub.status.busy": "2021-06-10T02:53:24.415784Z",
     "iopub.status.idle": "2021-06-10T02:53:24.420993Z",
     "shell.execute_reply": "2021-06-10T02:53:24.420337Z",
     "shell.execute_reply.started": "2021-06-10T01:27:26.858281Z"
    },
    "papermill": {
     "duration": 0.071265,
     "end_time": "2021-06-10T02:53:24.421157",
     "exception": false,
     "start_time": "2021-06-10T02:53:24.349892",
     "status": "completed"
    },
    "tags": []
   },
   "outputs": [
    {
     "data": {
      "text/plain": [
       "Index              161728800\n",
       "building_id        161728800\n",
       "meter              161728800\n",
       "timestamp          161728800\n",
       "meter_reading      161728800\n",
       "site_id            161728800\n",
       "primary_use        161728800\n",
       "square_feet        161728800\n",
       "year_built         161728800\n",
       "floor_count        161728800\n",
       "air_temperature     80864400\n",
       "dew_temperature     80864400\n",
       "dtype: int64"
      ]
     },
     "execution_count": 18,
     "metadata": {},
     "output_type": "execute_result"
    }
   ],
   "source": [
    "train.memory_usage()"
   ]
  },
  {
   "cell_type": "code",
   "execution_count": 19,
   "id": "compact-gilbert",
   "metadata": {
    "execution": {
     "iopub.execute_input": "2021-06-10T02:53:24.545309Z",
     "iopub.status.busy": "2021-06-10T02:53:24.544607Z",
     "iopub.status.idle": "2021-06-10T02:53:24.551714Z",
     "shell.execute_reply": "2021-06-10T02:53:24.551126Z",
     "shell.execute_reply.started": "2021-06-10T01:27:26.869695Z"
    },
    "papermill": {
     "duration": 0.072836,
     "end_time": "2021-06-10T02:53:24.551877",
     "exception": false,
     "start_time": "2021-06-10T02:53:24.479041",
     "status": "completed"
    },
    "tags": []
   },
   "outputs": [
    {
     "data": {
      "text/plain": [
       "Index              333580800\n",
       "row_id             333580800\n",
       "building_id        333580800\n",
       "meter              333580800\n",
       "timestamp          333580800\n",
       "site_id            333580800\n",
       "primary_use        333580800\n",
       "square_feet        333580800\n",
       "year_built         333580800\n",
       "floor_count        333580800\n",
       "air_temperature    166790400\n",
       "dew_temperature    166790400\n",
       "dtype: int64"
      ]
     },
     "execution_count": 19,
     "metadata": {},
     "output_type": "execute_result"
    }
   ],
   "source": [
    "test.memory_usage()"
   ]
  },
  {
   "cell_type": "markdown",
   "id": "august-eclipse",
   "metadata": {
    "papermill": {
     "duration": 0.057318,
     "end_time": "2021-06-10T02:53:24.667293",
     "exception": false,
     "start_time": "2021-06-10T02:53:24.609975",
     "status": "completed"
    },
    "tags": []
   },
   "source": [
    "# Analytics"
   ]
  },
  {
   "cell_type": "code",
   "execution_count": 20,
   "id": "textile-polyester",
   "metadata": {
    "execution": {
     "iopub.execute_input": "2021-06-10T02:53:24.802574Z",
     "iopub.status.busy": "2021-06-10T02:53:24.801619Z",
     "iopub.status.idle": "2021-06-10T02:53:24.805973Z",
     "shell.execute_reply": "2021-06-10T02:53:24.806695Z",
     "shell.execute_reply.started": "2021-06-10T01:27:26.883963Z"
    },
    "papermill": {
     "duration": 0.080841,
     "end_time": "2021-06-10T02:53:24.806907",
     "exception": false,
     "start_time": "2021-06-10T02:53:24.726066",
     "status": "completed"
    },
    "tags": []
   },
   "outputs": [
    {
     "name": "stdout",
     "output_type": "stream",
     "text": [
      "<class 'pandas.core.frame.DataFrame'>\n",
      "Int64Index: 20216100 entries, 0 to 20216099\n",
      "Data columns (total 11 columns):\n",
      " #   Column           Dtype  \n",
      "---  ------           -----  \n",
      " 0   building_id      int64  \n",
      " 1   meter            int64  \n",
      " 2   timestamp        object \n",
      " 3   meter_reading    float64\n",
      " 4   site_id          int64  \n",
      " 5   primary_use      object \n",
      " 6   square_feet      int64  \n",
      " 7   year_built       float64\n",
      " 8   floor_count      float64\n",
      " 9   air_temperature  float32\n",
      " 10  dew_temperature  float32\n",
      "dtypes: float32(2), float64(3), int64(4), object(2)\n",
      "memory usage: 1.7+ GB\n"
     ]
    }
   ],
   "source": [
    "train.info()"
   ]
  },
  {
   "cell_type": "code",
   "execution_count": 21,
   "id": "delayed-secretary",
   "metadata": {
    "execution": {
     "iopub.execute_input": "2021-06-10T02:53:24.930779Z",
     "iopub.status.busy": "2021-06-10T02:53:24.930115Z",
     "iopub.status.idle": "2021-06-10T02:53:36.360952Z",
     "shell.execute_reply": "2021-06-10T02:53:36.360202Z",
     "shell.execute_reply.started": "2021-06-10T01:27:26.904851Z"
    },
    "papermill": {
     "duration": 11.49445,
     "end_time": "2021-06-10T02:53:36.361156",
     "exception": false,
     "start_time": "2021-06-10T02:53:24.866706",
     "status": "completed"
    },
    "tags": []
   },
   "outputs": [
    {
     "name": "stdout",
     "output_type": "stream",
     "text": [
      "building_id: 1449\n",
      "meter: 4\n",
      "timestamp: 8784\n",
      "meter_reading: 1688175\n",
      "site_id: 16\n",
      "primary_use: 16\n",
      "square_feet: 1397\n",
      "year_built: 116\n",
      "floor_count: 18\n",
      "air_temperature: 619\n",
      "dew_temperature: 522\n"
     ]
    }
   ],
   "source": [
    "for i in train.columns:\n",
    "    print('{}: {}'.format(i, train[i].nunique()))"
   ]
  },
  {
   "cell_type": "code",
   "execution_count": 22,
   "id": "copyrighted-trinidad",
   "metadata": {
    "execution": {
     "iopub.execute_input": "2021-06-10T02:53:36.487704Z",
     "iopub.status.busy": "2021-06-10T02:53:36.487059Z",
     "iopub.status.idle": "2021-06-10T02:53:40.588036Z",
     "shell.execute_reply": "2021-06-10T02:53:40.587371Z",
     "shell.execute_reply.started": "2021-06-10T01:27:38.090881Z"
    },
    "papermill": {
     "duration": 4.166337,
     "end_time": "2021-06-10T02:53:40.588192",
     "exception": false,
     "start_time": "2021-06-10T02:53:36.421855",
     "status": "completed"
    },
    "tags": []
   },
   "outputs": [
    {
     "data": {
      "text/plain": [
       "building_id               0\n",
       "meter                     0\n",
       "timestamp                 0\n",
       "meter_reading             0\n",
       "site_id                   0\n",
       "primary_use               0\n",
       "square_feet               0\n",
       "year_built         12127645\n",
       "floor_count        16709167\n",
       "air_temperature       96658\n",
       "dew_temperature      100140\n",
       "dtype: int64"
      ]
     },
     "execution_count": 22,
     "metadata": {},
     "output_type": "execute_result"
    }
   ],
   "source": [
    "train.isnull().sum()"
   ]
  },
  {
   "cell_type": "code",
   "execution_count": 23,
   "id": "metropolitan-given",
   "metadata": {
    "execution": {
     "iopub.execute_input": "2021-06-10T02:53:40.716044Z",
     "iopub.status.busy": "2021-06-10T02:53:40.715348Z",
     "iopub.status.idle": "2021-06-10T02:53:46.456709Z",
     "shell.execute_reply": "2021-06-10T02:53:46.456149Z",
     "shell.execute_reply.started": "2021-06-10T01:27:41.876996Z"
    },
    "papermill": {
     "duration": 5.808001,
     "end_time": "2021-06-10T02:53:46.456853",
     "exception": false,
     "start_time": "2021-06-10T02:53:40.648852",
     "status": "completed"
    },
    "tags": []
   },
   "outputs": [
    {
     "data": {
      "text/html": [
       "<div>\n",
       "<style scoped>\n",
       "    .dataframe tbody tr th:only-of-type {\n",
       "        vertical-align: middle;\n",
       "    }\n",
       "\n",
       "    .dataframe tbody tr th {\n",
       "        vertical-align: top;\n",
       "    }\n",
       "\n",
       "    .dataframe thead th {\n",
       "        text-align: right;\n",
       "    }\n",
       "</style>\n",
       "<table border=\"1\" class=\"dataframe\">\n",
       "  <thead>\n",
       "    <tr style=\"text-align: right;\">\n",
       "      <th></th>\n",
       "      <th>building_id</th>\n",
       "      <th>meter</th>\n",
       "      <th>meter_reading</th>\n",
       "      <th>site_id</th>\n",
       "      <th>square_feet</th>\n",
       "      <th>year_built</th>\n",
       "      <th>floor_count</th>\n",
       "      <th>air_temperature</th>\n",
       "      <th>dew_temperature</th>\n",
       "    </tr>\n",
       "  </thead>\n",
       "  <tbody>\n",
       "    <tr>\n",
       "      <th>building_id</th>\n",
       "      <td>1.000000</td>\n",
       "      <td>0.222268</td>\n",
       "      <td>0.008761</td>\n",
       "      <td>0.980975</td>\n",
       "      <td>0.087704</td>\n",
       "      <td>-0.246150</td>\n",
       "      <td>-0.348353</td>\n",
       "      <td>-0.314149</td>\n",
       "      <td>-0.110091</td>\n",
       "    </tr>\n",
       "    <tr>\n",
       "      <th>meter</th>\n",
       "      <td>0.222268</td>\n",
       "      <td>1.000000</td>\n",
       "      <td>0.017672</td>\n",
       "      <td>0.253875</td>\n",
       "      <td>0.132708</td>\n",
       "      <td>-0.003798</td>\n",
       "      <td>0.176926</td>\n",
       "      <td>-0.011159</td>\n",
       "      <td>-0.080445</td>\n",
       "    </tr>\n",
       "    <tr>\n",
       "      <th>meter_reading</th>\n",
       "      <td>0.008761</td>\n",
       "      <td>0.017672</td>\n",
       "      <td>1.000000</td>\n",
       "      <td>0.011897</td>\n",
       "      <td>0.024308</td>\n",
       "      <td>0.111837</td>\n",
       "      <td>0.130224</td>\n",
       "      <td>-0.004132</td>\n",
       "      <td>-0.003330</td>\n",
       "    </tr>\n",
       "    <tr>\n",
       "      <th>site_id</th>\n",
       "      <td>0.980975</td>\n",
       "      <td>0.253875</td>\n",
       "      <td>0.011897</td>\n",
       "      <td>1.000000</td>\n",
       "      <td>0.090934</td>\n",
       "      <td>-0.212378</td>\n",
       "      <td>-0.336626</td>\n",
       "      <td>-0.307199</td>\n",
       "      <td>-0.135186</td>\n",
       "    </tr>\n",
       "    <tr>\n",
       "      <th>square_feet</th>\n",
       "      <td>0.087704</td>\n",
       "      <td>0.132708</td>\n",
       "      <td>0.024308</td>\n",
       "      <td>0.090934</td>\n",
       "      <td>1.000000</td>\n",
       "      <td>0.135717</td>\n",
       "      <td>0.584495</td>\n",
       "      <td>-0.015665</td>\n",
       "      <td>-0.023385</td>\n",
       "    </tr>\n",
       "    <tr>\n",
       "      <th>year_built</th>\n",
       "      <td>-0.246150</td>\n",
       "      <td>-0.003798</td>\n",
       "      <td>0.111837</td>\n",
       "      <td>-0.212378</td>\n",
       "      <td>0.135717</td>\n",
       "      <td>1.000000</td>\n",
       "      <td>0.147381</td>\n",
       "      <td>0.174156</td>\n",
       "      <td>0.117523</td>\n",
       "    </tr>\n",
       "    <tr>\n",
       "      <th>floor_count</th>\n",
       "      <td>-0.348353</td>\n",
       "      <td>0.176926</td>\n",
       "      <td>0.130224</td>\n",
       "      <td>-0.336626</td>\n",
       "      <td>0.584495</td>\n",
       "      <td>0.147381</td>\n",
       "      <td>1.000000</td>\n",
       "      <td>-0.183969</td>\n",
       "      <td>-0.174681</td>\n",
       "    </tr>\n",
       "    <tr>\n",
       "      <th>air_temperature</th>\n",
       "      <td>-0.314149</td>\n",
       "      <td>-0.011159</td>\n",
       "      <td>-0.004132</td>\n",
       "      <td>-0.307199</td>\n",
       "      <td>-0.015665</td>\n",
       "      <td>0.174156</td>\n",
       "      <td>-0.183969</td>\n",
       "      <td>1.000000</td>\n",
       "      <td>0.750640</td>\n",
       "    </tr>\n",
       "    <tr>\n",
       "      <th>dew_temperature</th>\n",
       "      <td>-0.110091</td>\n",
       "      <td>-0.080445</td>\n",
       "      <td>-0.003330</td>\n",
       "      <td>-0.135186</td>\n",
       "      <td>-0.023385</td>\n",
       "      <td>0.117523</td>\n",
       "      <td>-0.174681</td>\n",
       "      <td>0.750640</td>\n",
       "      <td>1.000000</td>\n",
       "    </tr>\n",
       "  </tbody>\n",
       "</table>\n",
       "</div>"
      ],
      "text/plain": [
       "                 building_id     meter  meter_reading   site_id  square_feet  \\\n",
       "building_id         1.000000  0.222268       0.008761  0.980975     0.087704   \n",
       "meter               0.222268  1.000000       0.017672  0.253875     0.132708   \n",
       "meter_reading       0.008761  0.017672       1.000000  0.011897     0.024308   \n",
       "site_id             0.980975  0.253875       0.011897  1.000000     0.090934   \n",
       "square_feet         0.087704  0.132708       0.024308  0.090934     1.000000   \n",
       "year_built         -0.246150 -0.003798       0.111837 -0.212378     0.135717   \n",
       "floor_count        -0.348353  0.176926       0.130224 -0.336626     0.584495   \n",
       "air_temperature    -0.314149 -0.011159      -0.004132 -0.307199    -0.015665   \n",
       "dew_temperature    -0.110091 -0.080445      -0.003330 -0.135186    -0.023385   \n",
       "\n",
       "                 year_built  floor_count  air_temperature  dew_temperature  \n",
       "building_id       -0.246150    -0.348353        -0.314149        -0.110091  \n",
       "meter             -0.003798     0.176926        -0.011159        -0.080445  \n",
       "meter_reading      0.111837     0.130224        -0.004132        -0.003330  \n",
       "site_id           -0.212378    -0.336626        -0.307199        -0.135186  \n",
       "square_feet        0.135717     0.584495        -0.015665        -0.023385  \n",
       "year_built         1.000000     0.147381         0.174156         0.117523  \n",
       "floor_count        0.147381     1.000000        -0.183969        -0.174681  \n",
       "air_temperature    0.174156    -0.183969         1.000000         0.750640  \n",
       "dew_temperature    0.117523    -0.174681         0.750640         1.000000  "
      ]
     },
     "execution_count": 23,
     "metadata": {},
     "output_type": "execute_result"
    }
   ],
   "source": [
    "train.corr()"
   ]
  },
  {
   "cell_type": "markdown",
   "id": "further-surfing",
   "metadata": {
    "execution": {
     "iopub.execute_input": "2021-06-09T04:35:08.004653Z",
     "iopub.status.busy": "2021-06-09T04:35:08.004275Z",
     "iopub.status.idle": "2021-06-09T04:35:08.008716Z",
     "shell.execute_reply": "2021-06-09T04:35:08.007602Z",
     "shell.execute_reply.started": "2021-06-09T04:35:08.004621Z"
    },
    "papermill": {
     "duration": 0.06218,
     "end_time": "2021-06-10T02:53:46.581248",
     "exception": false,
     "start_time": "2021-06-10T02:53:46.519068",
     "status": "completed"
    },
    "tags": []
   },
   "source": [
    "# Visualization"
   ]
  },
  {
   "cell_type": "code",
   "execution_count": 24,
   "id": "developing-eugene",
   "metadata": {
    "execution": {
     "iopub.execute_input": "2021-06-10T02:53:46.714387Z",
     "iopub.status.busy": "2021-06-10T02:53:46.713735Z",
     "iopub.status.idle": "2021-06-10T02:53:46.718992Z",
     "shell.execute_reply": "2021-06-10T02:53:46.718438Z",
     "shell.execute_reply.started": "2021-06-10T01:27:47.647004Z"
    },
    "papermill": {
     "duration": 0.074287,
     "end_time": "2021-06-10T02:53:46.719160",
     "exception": false,
     "start_time": "2021-06-10T02:53:46.644873",
     "status": "completed"
    },
    "tags": []
   },
   "outputs": [],
   "source": [
    "sns.set()"
   ]
  },
  {
   "cell_type": "code",
   "execution_count": 25,
   "id": "english-attribute",
   "metadata": {
    "execution": {
     "iopub.execute_input": "2021-06-10T02:53:47.932869Z",
     "iopub.status.busy": "2021-06-10T02:53:47.932210Z",
     "iopub.status.idle": "2021-06-10T02:53:59.780259Z",
     "shell.execute_reply": "2021-06-10T02:53:59.780758Z",
     "shell.execute_reply.started": "2021-06-10T01:27:47.655513Z"
    },
    "papermill": {
     "duration": 12.999729,
     "end_time": "2021-06-10T02:53:59.780976",
     "exception": false,
     "start_time": "2021-06-10T02:53:46.781247",
     "status": "completed"
    },
    "tags": []
   },
   "outputs": [],
   "source": [
    "train['timestamp'] = pd.to_datetime(train['timestamp'])\n",
    "test['timestamp'] = pd.to_datetime(test['timestamp'])"
   ]
  },
  {
   "cell_type": "code",
   "execution_count": 26,
   "id": "bright-blank",
   "metadata": {
    "execution": {
     "iopub.execute_input": "2021-06-10T02:53:59.909226Z",
     "iopub.status.busy": "2021-06-10T02:53:59.908240Z",
     "iopub.status.idle": "2021-06-10T02:53:59.911739Z",
     "shell.execute_reply": "2021-06-10T02:53:59.912172Z",
     "shell.execute_reply.started": "2021-06-10T01:28:00.132755Z"
    },
    "papermill": {
     "duration": 0.069369,
     "end_time": "2021-06-10T02:53:59.912352",
     "exception": false,
     "start_time": "2021-06-10T02:53:59.842983",
     "status": "completed"
    },
    "tags": []
   },
   "outputs": [],
   "source": [
    "# 7月以降、メータの数値が低いのが気になる、外れ値の可能性はないか"
   ]
  },
  {
   "cell_type": "code",
   "execution_count": 27,
   "id": "rising-packing",
   "metadata": {
    "execution": {
     "iopub.execute_input": "2021-06-10T02:54:00.042528Z",
     "iopub.status.busy": "2021-06-10T02:54:00.041588Z",
     "iopub.status.idle": "2021-06-10T02:54:03.182976Z",
     "shell.execute_reply": "2021-06-10T02:54:03.182459Z",
     "shell.execute_reply.started": "2021-06-10T01:28:00.138654Z"
    },
    "papermill": {
     "duration": 3.207978,
     "end_time": "2021-06-10T02:54:03.183134",
     "exception": false,
     "start_time": "2021-06-10T02:53:59.975156",
     "status": "completed"
    },
    "tags": []
   },
   "outputs": [
    {
     "data": {
      "text/plain": [
       "<matplotlib.legend.Legend at 0x7ff92d1bb7d0>"
      ]
     },
     "execution_count": 27,
     "metadata": {},
     "output_type": "execute_result"
    },
    {
     "data": {
      "image/png": "[encoded data removed]",
      "text/plain": [
       "<Figure size 576x288 with 1 Axes>"
      ]
     },
     "metadata": {},
     "output_type": "display_data"
    }
   ],
   "source": [
    "fig, axes = plt.subplots(figsize=(8, 4))\n",
    "train[['timestamp', 'meter_reading']].set_index('timestamp').resample('H').mean()['meter_reading'].plot(ax=axes, label='hour', alpha=0.8).set_ylabel('Meter reading', fontsize=14)\n",
    "train[['timestamp', 'meter_reading']].set_index('timestamp').resample('D').mean()['meter_reading'].plot(ax=axes, label='day', alpha=0.8).set_ylabel('Meter reading', fontsize=14)\n",
    "axes.legend()"
   ]
  },
  {
   "cell_type": "code",
   "execution_count": 28,
   "id": "brilliant-outside",
   "metadata": {
    "execution": {
     "iopub.execute_input": "2021-06-10T02:54:03.493145Z",
     "iopub.status.busy": "2021-06-10T02:54:03.491670Z",
     "iopub.status.idle": "2021-06-10T02:54:05.365596Z",
     "shell.execute_reply": "2021-06-10T02:54:05.365045Z",
     "shell.execute_reply.started": "2021-06-10T01:28:03.347476Z"
    },
    "papermill": {
     "duration": 2.117197,
     "end_time": "2021-06-10T02:54:05.365755",
     "exception": false,
     "start_time": "2021-06-10T02:54:03.248558",
     "status": "completed"
    },
    "tags": []
   },
   "outputs": [
    {
     "data": {
      "text/plain": [
       "<matplotlib.legend.Legend at 0x7ff92dc0a7d0>"
      ]
     },
     "execution_count": 28,
     "metadata": {},
     "output_type": "execute_result"
    },
    {
     "data": {
      "image/png": "[encoded data removed]",
      "text/plain": [
       "<Figure size 576x288 with 1 Axes>"
      ]
     },
     "metadata": {},
     "output_type": "display_data"
    }
   ],
   "source": [
    "fig, axes = plt.subplots(figsize=(8, 4))\n",
    "train[['timestamp', 'meter_reading']].set_index('timestamp').resample('W').mean()['meter_reading'].plot(ax=axes, label='week', alpha=1).set_ylabel('Meter reading', fontsize=14)\n",
    "train[['timestamp', 'meter_reading']].set_index('timestamp').resample('M').mean()['meter_reading'].plot(ax=axes, label='month', alpha=1).set_ylabel('Meter reading', fontsize=14)\n",
    "axes.legend()"
   ]
  },
  {
   "cell_type": "markdown",
   "id": "still-cattle",
   "metadata": {
    "papermill": {
     "duration": 0.067038,
     "end_time": "2021-06-10T02:54:05.500968",
     "exception": false,
     "start_time": "2021-06-10T02:54:05.433930",
     "status": "completed"
    },
    "tags": []
   },
   "source": [
    "# Feature Engineering"
   ]
  },
  {
   "cell_type": "code",
   "execution_count": 29,
   "id": "processed-scroll",
   "metadata": {
    "execution": {
     "iopub.execute_input": "2021-06-10T02:54:05.647143Z",
     "iopub.status.busy": "2021-06-10T02:54:05.646474Z",
     "iopub.status.idle": "2021-06-10T02:54:13.657472Z",
     "shell.execute_reply": "2021-06-10T02:54:13.656514Z",
     "shell.execute_reply.started": "2021-06-10T01:28:05.435972Z"
    },
    "papermill": {
     "duration": 8.087662,
     "end_time": "2021-06-10T02:54:13.657638",
     "exception": false,
     "start_time": "2021-06-10T02:54:05.569976",
     "status": "completed"
    },
    "tags": []
   },
   "outputs": [],
   "source": [
    "train['hour'] = train['timestamp'].dt.hour\n",
    "train['day'] = train['timestamp'].dt.day\n",
    "train['weekend'] = train['timestamp'].dt.weekday\n",
    "train['month'] = train['timestamp'].dt.month"
   ]
  },
  {
   "cell_type": "code",
   "execution_count": 30,
   "id": "located-quantum",
   "metadata": {
    "execution": {
     "iopub.execute_input": "2021-06-10T02:54:13.797003Z",
     "iopub.status.busy": "2021-06-10T02:54:13.796358Z",
     "iopub.status.idle": "2021-06-10T02:54:13.799478Z",
     "shell.execute_reply": "2021-06-10T02:54:13.798628Z",
     "shell.execute_reply.started": "2021-06-10T01:28:13.042952Z"
    },
    "papermill": {
     "duration": 0.074236,
     "end_time": "2021-06-10T02:54:13.799635",
     "exception": false,
     "start_time": "2021-06-10T02:54:13.725399",
     "status": "completed"
    },
    "tags": []
   },
   "outputs": [],
   "source": [
    "# ラグ特徴量"
   ]
  },
  {
   "cell_type": "code",
   "execution_count": 31,
   "id": "applied-juvenile",
   "metadata": {
    "execution": {
     "iopub.execute_input": "2021-06-10T02:54:13.940728Z",
     "iopub.status.busy": "2021-06-10T02:54:13.939990Z",
     "iopub.status.idle": "2021-06-10T02:54:22.583833Z",
     "shell.execute_reply": "2021-06-10T02:54:22.584538Z",
     "shell.execute_reply.started": "2021-06-10T01:28:13.051299Z"
    },
    "papermill": {
     "duration": 8.71939,
     "end_time": "2021-06-10T02:54:22.584794",
     "exception": false,
     "start_time": "2021-06-10T02:54:13.865404",
     "status": "completed"
    },
    "tags": []
   },
   "outputs": [
    {
     "name": "stdout",
     "output_type": "stream",
     "text": [
      "Memory usage of dataframe is 2005.08 MB\n",
      "Memory usage after optimization is: 771.18 MB\n",
      "Decreased by 61.5%\n"
     ]
    }
   ],
   "source": [
    "train = train.drop(['timestamp', 'site_id'], axis=1)\n",
    "gc.collect()\n",
    "\n",
    "train = reduce_mem_usage(train)"
   ]
  },
  {
   "cell_type": "code",
   "execution_count": 32,
   "id": "literary-award",
   "metadata": {
    "execution": {
     "iopub.execute_input": "2021-06-10T02:54:22.737362Z",
     "iopub.status.busy": "2021-06-10T02:54:22.736741Z",
     "iopub.status.idle": "2021-06-10T02:54:22.741406Z",
     "shell.execute_reply": "2021-06-10T02:54:22.740904Z",
     "shell.execute_reply.started": "2021-06-10T01:28:20.727135Z"
    },
    "papermill": {
     "duration": 0.089307,
     "end_time": "2021-06-10T02:54:22.741557",
     "exception": false,
     "start_time": "2021-06-10T02:54:22.652250",
     "status": "completed"
    },
    "tags": []
   },
   "outputs": [
    {
     "name": "stdout",
     "output_type": "stream",
     "text": [
      "(20216100, 13)\n"
     ]
    },
    {
     "data": {
      "text/html": [
       "<div>\n",
       "<style scoped>\n",
       "    .dataframe tbody tr th:only-of-type {\n",
       "        vertical-align: middle;\n",
       "    }\n",
       "\n",
       "    .dataframe tbody tr th {\n",
       "        vertical-align: top;\n",
       "    }\n",
       "\n",
       "    .dataframe thead th {\n",
       "        text-align: right;\n",
       "    }\n",
       "</style>\n",
       "<table border=\"1\" class=\"dataframe\">\n",
       "  <thead>\n",
       "    <tr style=\"text-align: right;\">\n",
       "      <th></th>\n",
       "      <th>building_id</th>\n",
       "      <th>meter</th>\n",
       "      <th>meter_reading</th>\n",
       "      <th>primary_use</th>\n",
       "      <th>square_feet</th>\n",
       "      <th>year_built</th>\n",
       "      <th>floor_count</th>\n",
       "      <th>air_temperature</th>\n",
       "      <th>dew_temperature</th>\n",
       "      <th>hour</th>\n",
       "      <th>day</th>\n",
       "      <th>weekend</th>\n",
       "      <th>month</th>\n",
       "    </tr>\n",
       "  </thead>\n",
       "  <tbody>\n",
       "    <tr>\n",
       "      <th>0</th>\n",
       "      <td>0</td>\n",
       "      <td>0</td>\n",
       "      <td>0.0</td>\n",
       "      <td>Education</td>\n",
       "      <td>7432</td>\n",
       "      <td>2008.0</td>\n",
       "      <td>NaN</td>\n",
       "      <td>25.0</td>\n",
       "      <td>20.0</td>\n",
       "      <td>0</td>\n",
       "      <td>1</td>\n",
       "      <td>4</td>\n",
       "      <td>1</td>\n",
       "    </tr>\n",
       "    <tr>\n",
       "      <th>1</th>\n",
       "      <td>1</td>\n",
       "      <td>0</td>\n",
       "      <td>0.0</td>\n",
       "      <td>Education</td>\n",
       "      <td>2720</td>\n",
       "      <td>2004.0</td>\n",
       "      <td>NaN</td>\n",
       "      <td>25.0</td>\n",
       "      <td>20.0</td>\n",
       "      <td>0</td>\n",
       "      <td>1</td>\n",
       "      <td>4</td>\n",
       "      <td>1</td>\n",
       "    </tr>\n",
       "    <tr>\n",
       "      <th>2</th>\n",
       "      <td>2</td>\n",
       "      <td>0</td>\n",
       "      <td>0.0</td>\n",
       "      <td>Education</td>\n",
       "      <td>5376</td>\n",
       "      <td>1991.0</td>\n",
       "      <td>NaN</td>\n",
       "      <td>25.0</td>\n",
       "      <td>20.0</td>\n",
       "      <td>0</td>\n",
       "      <td>1</td>\n",
       "      <td>4</td>\n",
       "      <td>1</td>\n",
       "    </tr>\n",
       "    <tr>\n",
       "      <th>3</th>\n",
       "      <td>3</td>\n",
       "      <td>0</td>\n",
       "      <td>0.0</td>\n",
       "      <td>Education</td>\n",
       "      <td>23685</td>\n",
       "      <td>2002.0</td>\n",
       "      <td>NaN</td>\n",
       "      <td>25.0</td>\n",
       "      <td>20.0</td>\n",
       "      <td>0</td>\n",
       "      <td>1</td>\n",
       "      <td>4</td>\n",
       "      <td>1</td>\n",
       "    </tr>\n",
       "    <tr>\n",
       "      <th>4</th>\n",
       "      <td>4</td>\n",
       "      <td>0</td>\n",
       "      <td>0.0</td>\n",
       "      <td>Education</td>\n",
       "      <td>116607</td>\n",
       "      <td>1975.0</td>\n",
       "      <td>NaN</td>\n",
       "      <td>25.0</td>\n",
       "      <td>20.0</td>\n",
       "      <td>0</td>\n",
       "      <td>1</td>\n",
       "      <td>4</td>\n",
       "      <td>1</td>\n",
       "    </tr>\n",
       "  </tbody>\n",
       "</table>\n",
       "</div>"
      ],
      "text/plain": [
       "   building_id  meter  meter_reading primary_use  square_feet  year_built  \\\n",
       "0            0      0            0.0   Education         7432      2008.0   \n",
       "1            1      0            0.0   Education         2720      2004.0   \n",
       "2            2      0            0.0   Education         5376      1991.0   \n",
       "3            3      0            0.0   Education        23685      2002.0   \n",
       "4            4      0            0.0   Education       116607      1975.0   \n",
       "\n",
       "   floor_count  air_temperature  dew_temperature  hour  day  weekend  month  \n",
       "0          NaN             25.0             20.0     0    1        4      1  \n",
       "1          NaN             25.0             20.0     0    1        4      1  \n",
       "2          NaN             25.0             20.0     0    1        4      1  \n",
       "3          NaN             25.0             20.0     0    1        4      1  \n",
       "4          NaN             25.0             20.0     0    1        4      1  "
      ]
     },
     "execution_count": 32,
     "metadata": {},
     "output_type": "execute_result"
    }
   ],
   "source": [
    "print(train.shape)\n",
    "train.head()"
   ]
  },
  {
   "cell_type": "markdown",
   "id": "painted-parts",
   "metadata": {
    "papermill": {
     "duration": 0.067852,
     "end_time": "2021-06-10T02:54:22.876752",
     "exception": false,
     "start_time": "2021-06-10T02:54:22.808900",
     "status": "completed"
    },
    "tags": []
   },
   "source": [
    "# Preprocess"
   ]
  },
  {
   "cell_type": "code",
   "execution_count": 33,
   "id": "qualified-variation",
   "metadata": {
    "execution": {
     "iopub.execute_input": "2021-06-10T02:54:23.014118Z",
     "iopub.status.busy": "2021-06-10T02:54:23.013479Z",
     "iopub.status.idle": "2021-06-10T02:54:23.016695Z",
     "shell.execute_reply": "2021-06-10T02:54:23.017183Z",
     "shell.execute_reply.started": "2021-06-10T01:28:20.755960Z"
    },
    "papermill": {
     "duration": 0.07348,
     "end_time": "2021-06-10T02:54:23.017354",
     "exception": false,
     "start_time": "2021-06-10T02:54:22.943874",
     "status": "completed"
    },
    "tags": []
   },
   "outputs": [],
   "source": [
    "# drop_col = ['precip_depth_1_hr', 'sea_level_pressure', 'wind_direction', 'wind_speed', 'floor_count']      "
   ]
  },
  {
   "cell_type": "code",
   "execution_count": 34,
   "id": "third-leadership",
   "metadata": {
    "execution": {
     "iopub.execute_input": "2021-06-10T02:54:23.155807Z",
     "iopub.status.busy": "2021-06-10T02:54:23.155151Z",
     "iopub.status.idle": "2021-06-10T02:54:23.158317Z",
     "shell.execute_reply": "2021-06-10T02:54:23.158846Z",
     "shell.execute_reply.started": "2021-06-10T01:28:20.762116Z"
    },
    "papermill": {
     "duration": 0.073799,
     "end_time": "2021-06-10T02:54:23.159026",
     "exception": false,
     "start_time": "2021-06-10T02:54:23.085227",
     "status": "completed"
    },
    "tags": []
   },
   "outputs": [],
   "source": [
    "# train = train.drop(drop_col, axis = 1)\n",
    "# gc.collect()"
   ]
  },
  {
   "cell_type": "code",
   "execution_count": 35,
   "id": "ideal-liability",
   "metadata": {
    "execution": {
     "iopub.execute_input": "2021-06-10T02:54:23.295046Z",
     "iopub.status.busy": "2021-06-10T02:54:23.294351Z",
     "iopub.status.idle": "2021-06-10T02:54:43.509901Z",
     "shell.execute_reply": "2021-06-10T02:54:43.510412Z",
     "shell.execute_reply.started": "2021-06-10T01:28:20.774278Z"
    },
    "papermill": {
     "duration": 20.284996,
     "end_time": "2021-06-10T02:54:43.510602",
     "exception": false,
     "start_time": "2021-06-10T02:54:23.225606",
     "status": "completed"
    },
    "tags": []
   },
   "outputs": [],
   "source": [
    "le = LabelEncoder()\n",
    "\n",
    "train['primary_use'] = le.fit_transform(train['primary_use'])\n",
    "test['primary_use'] = le.fit_transform(test['primary_use'])"
   ]
  },
  {
   "cell_type": "code",
   "execution_count": 36,
   "id": "advance-humanity",
   "metadata": {
    "execution": {
     "iopub.execute_input": "2021-06-10T02:54:43.651551Z",
     "iopub.status.busy": "2021-06-10T02:54:43.650623Z",
     "iopub.status.idle": "2021-06-10T02:54:44.796607Z",
     "shell.execute_reply": "2021-06-10T02:54:44.796050Z",
     "shell.execute_reply.started": "2021-06-10T01:28:40.651177Z"
    },
    "papermill": {
     "duration": 1.218649,
     "end_time": "2021-06-10T02:54:44.796772",
     "exception": false,
     "start_time": "2021-06-10T02:54:43.578123",
     "status": "completed"
    },
    "tags": []
   },
   "outputs": [
    {
     "name": "stdout",
     "output_type": "stream",
     "text": [
      "(20216100, 12)\n"
     ]
    },
    {
     "data": {
      "text/html": [
       "<div>\n",
       "<style scoped>\n",
       "    .dataframe tbody tr th:only-of-type {\n",
       "        vertical-align: middle;\n",
       "    }\n",
       "\n",
       "    .dataframe tbody tr th {\n",
       "        vertical-align: top;\n",
       "    }\n",
       "\n",
       "    .dataframe thead th {\n",
       "        text-align: right;\n",
       "    }\n",
       "</style>\n",
       "<table border=\"1\" class=\"dataframe\">\n",
       "  <thead>\n",
       "    <tr style=\"text-align: right;\">\n",
       "      <th></th>\n",
       "      <th>building_id</th>\n",
       "      <th>meter</th>\n",
       "      <th>primary_use</th>\n",
       "      <th>square_feet</th>\n",
       "      <th>year_built</th>\n",
       "      <th>floor_count</th>\n",
       "      <th>air_temperature</th>\n",
       "      <th>dew_temperature</th>\n",
       "      <th>hour</th>\n",
       "      <th>day</th>\n",
       "      <th>weekend</th>\n",
       "      <th>month</th>\n",
       "    </tr>\n",
       "  </thead>\n",
       "  <tbody>\n",
       "    <tr>\n",
       "      <th>0</th>\n",
       "      <td>0</td>\n",
       "      <td>0</td>\n",
       "      <td>0</td>\n",
       "      <td>7432</td>\n",
       "      <td>2008.0</td>\n",
       "      <td>NaN</td>\n",
       "      <td>25.0</td>\n",
       "      <td>20.0</td>\n",
       "      <td>0</td>\n",
       "      <td>1</td>\n",
       "      <td>4</td>\n",
       "      <td>1</td>\n",
       "    </tr>\n",
       "    <tr>\n",
       "      <th>1</th>\n",
       "      <td>1</td>\n",
       "      <td>0</td>\n",
       "      <td>0</td>\n",
       "      <td>2720</td>\n",
       "      <td>2004.0</td>\n",
       "      <td>NaN</td>\n",
       "      <td>25.0</td>\n",
       "      <td>20.0</td>\n",
       "      <td>0</td>\n",
       "      <td>1</td>\n",
       "      <td>4</td>\n",
       "      <td>1</td>\n",
       "    </tr>\n",
       "    <tr>\n",
       "      <th>2</th>\n",
       "      <td>2</td>\n",
       "      <td>0</td>\n",
       "      <td>0</td>\n",
       "      <td>5376</td>\n",
       "      <td>1991.0</td>\n",
       "      <td>NaN</td>\n",
       "      <td>25.0</td>\n",
       "      <td>20.0</td>\n",
       "      <td>0</td>\n",
       "      <td>1</td>\n",
       "      <td>4</td>\n",
       "      <td>1</td>\n",
       "    </tr>\n",
       "    <tr>\n",
       "      <th>3</th>\n",
       "      <td>3</td>\n",
       "      <td>0</td>\n",
       "      <td>0</td>\n",
       "      <td>23685</td>\n",
       "      <td>2002.0</td>\n",
       "      <td>NaN</td>\n",
       "      <td>25.0</td>\n",
       "      <td>20.0</td>\n",
       "      <td>0</td>\n",
       "      <td>1</td>\n",
       "      <td>4</td>\n",
       "      <td>1</td>\n",
       "    </tr>\n",
       "    <tr>\n",
       "      <th>4</th>\n",
       "      <td>4</td>\n",
       "      <td>0</td>\n",
       "      <td>0</td>\n",
       "      <td>116607</td>\n",
       "      <td>1975.0</td>\n",
       "      <td>NaN</td>\n",
       "      <td>25.0</td>\n",
       "      <td>20.0</td>\n",
       "      <td>0</td>\n",
       "      <td>1</td>\n",
       "      <td>4</td>\n",
       "      <td>1</td>\n",
       "    </tr>\n",
       "  </tbody>\n",
       "</table>\n",
       "</div>"
      ],
      "text/plain": [
       "   building_id  meter  primary_use  square_feet  year_built  floor_count  \\\n",
       "0            0      0            0         7432      2008.0          NaN   \n",
       "1            1      0            0         2720      2004.0          NaN   \n",
       "2            2      0            0         5376      1991.0          NaN   \n",
       "3            3      0            0        23685      2002.0          NaN   \n",
       "4            4      0            0       116607      1975.0          NaN   \n",
       "\n",
       "   air_temperature  dew_temperature  hour  day  weekend  month  \n",
       "0             25.0             20.0     0    1        4      1  \n",
       "1             25.0             20.0     0    1        4      1  \n",
       "2             25.0             20.0     0    1        4      1  \n",
       "3             25.0             20.0     0    1        4      1  \n",
       "4             25.0             20.0     0    1        4      1  "
      ]
     },
     "execution_count": 36,
     "metadata": {},
     "output_type": "execute_result"
    }
   ],
   "source": [
    "target = np.log1p(train['meter_reading'])\n",
    "train = train.drop(['meter_reading'], axis=1)\n",
    "\n",
    "print(train.shape)\n",
    "train.head()"
   ]
  },
  {
   "cell_type": "code",
   "execution_count": 37,
   "id": "female-petite",
   "metadata": {
    "execution": {
     "iopub.execute_input": "2021-06-10T02:54:44.937451Z",
     "iopub.status.busy": "2021-06-10T02:54:44.936814Z",
     "iopub.status.idle": "2021-06-10T02:54:47.002170Z",
     "shell.execute_reply": "2021-06-10T02:54:47.003688Z",
     "shell.execute_reply.started": "2021-06-10T01:28:41.855859Z"
    },
    "papermill": {
     "duration": 2.138807,
     "end_time": "2021-06-10T02:54:47.003989",
     "exception": false,
     "start_time": "2021-06-10T02:54:44.865182",
     "status": "completed"
    },
    "tags": []
   },
   "outputs": [],
   "source": [
    "train = train.reset_index(drop=True)\n",
    "test = test.reset_index(drop=True)"
   ]
  },
  {
   "cell_type": "code",
   "execution_count": 38,
   "id": "lightweight-aaron",
   "metadata": {
    "execution": {
     "iopub.execute_input": "2021-06-10T02:54:47.333976Z",
     "iopub.status.busy": "2021-06-10T02:54:47.333232Z",
     "iopub.status.idle": "2021-06-10T02:54:47.338572Z",
     "shell.execute_reply": "2021-06-10T02:54:47.339045Z",
     "shell.execute_reply.started": "2021-06-10T01:28:44.362785Z"
    },
    "papermill": {
     "duration": 0.242317,
     "end_time": "2021-06-10T02:54:47.339234",
     "exception": false,
     "start_time": "2021-06-10T02:54:47.096917",
     "status": "completed"
    },
    "tags": []
   },
   "outputs": [
    {
     "data": {
      "text/plain": [
       "140"
      ]
     },
     "execution_count": 38,
     "metadata": {},
     "output_type": "execute_result"
    }
   ],
   "source": [
    "del le\n",
    "gc.collect()"
   ]
  },
  {
   "cell_type": "code",
   "execution_count": 39,
   "id": "twenty-release",
   "metadata": {
    "execution": {
     "iopub.execute_input": "2021-06-10T02:54:47.483378Z",
     "iopub.status.busy": "2021-06-10T02:54:47.482750Z",
     "iopub.status.idle": "2021-06-10T02:54:53.975133Z",
     "shell.execute_reply": "2021-06-10T02:54:53.974590Z",
     "shell.execute_reply.started": "2021-06-10T01:28:44.595899Z"
    },
    "papermill": {
     "duration": 6.568544,
     "end_time": "2021-06-10T02:54:53.975279",
     "exception": false,
     "start_time": "2021-06-10T02:54:47.406735",
     "status": "completed"
    },
    "tags": []
   },
   "outputs": [
    {
     "name": "stdout",
     "output_type": "stream",
     "text": [
      "Memory usage of dataframe is 674.79 MB\n",
      "Memory usage after optimization is: 539.83 MB\n",
      "Decreased by 20.0%\n",
      "Memory usage of dataframe is 3181.27 MB\n",
      "Memory usage after optimization is: 1471.34 MB\n",
      "Decreased by 53.7%\n"
     ]
    }
   ],
   "source": [
    "train = reduce_mem_usage(train)\n",
    "test = reduce_mem_usage(test)"
   ]
  },
  {
   "cell_type": "code",
   "execution_count": 40,
   "id": "handmade-ceramic",
   "metadata": {
    "execution": {
     "iopub.execute_input": "2021-06-10T02:54:54.126696Z",
     "iopub.status.busy": "2021-06-10T02:54:54.125988Z",
     "iopub.status.idle": "2021-06-10T02:54:54.128531Z",
     "shell.execute_reply": "2021-06-10T02:54:54.129050Z",
     "shell.execute_reply.started": "2021-06-10T01:28:50.822136Z"
    },
    "papermill": {
     "duration": 0.083012,
     "end_time": "2021-06-10T02:54:54.129251",
     "exception": false,
     "start_time": "2021-06-10T02:54:54.046239",
     "status": "completed"
    },
    "tags": []
   },
   "outputs": [
    {
     "name": "stdout",
     "output_type": "stream",
     "text": [
      "566050960\n",
      "1542811360\n"
     ]
    }
   ],
   "source": [
    "print(sys.getsizeof(train))\n",
    "print(sys.getsizeof(test))"
   ]
  },
  {
   "cell_type": "markdown",
   "id": "unusual-correlation",
   "metadata": {
    "papermill": {
     "duration": 0.071078,
     "end_time": "2021-06-10T02:54:54.272324",
     "exception": false,
     "start_time": "2021-06-10T02:54:54.201246",
     "status": "completed"
    },
    "tags": []
   },
   "source": [
    "# Modeling"
   ]
  },
  {
   "cell_type": "code",
   "execution_count": 41,
   "id": "varying-right",
   "metadata": {
    "execution": {
     "iopub.execute_input": "2021-06-10T02:54:54.415742Z",
     "iopub.status.busy": "2021-06-10T02:54:54.415066Z",
     "iopub.status.idle": "2021-06-10T02:54:54.421466Z",
     "shell.execute_reply": "2021-06-10T02:54:54.422010Z",
     "shell.execute_reply.started": "2021-06-10T01:28:50.832960Z"
    },
    "papermill": {
     "duration": 0.07947,
     "end_time": "2021-06-10T02:54:54.422204",
     "exception": false,
     "start_time": "2021-06-10T02:54:54.342734",
     "status": "completed"
    },
    "tags": []
   },
   "outputs": [
    {
     "data": {
      "text/plain": [
       "\"\\nX_tr, X_val, y_tr, y_val = train_test_split(train, target, test_size=0.2, random_state=666)\\n\\ndef create_model(trial):\\n    num_leaves = trial.suggest_int('num_leaves', 2, 30)\\n    n_estimators = trial.suggest_int('n_estimators', 50, 300)\\n    learning_rate = trial.suggest_uniform('learning_rate', 0.0001, 0.99)\\n    max_depth = trial.suggest_int('max_depth', 2, 10)\\n    min_child_samples = trial.suggest_int('min_child_samples', 100, 1200)\\n    min_data_in_leaf = trial.suggest_int('min_data_in_leaf', 5, 90)\\n    bagging_freq = trial.suggest_int('bagging_freq', 1, 7)\\n    bagging_fraction = trial.suggest_uniform('bagging_fraction', 0.0001, 1.0)\\n    feature_fraction = trial.suggest_uniform('feature_fraction', 0.0001, 1.0)\\n    subsample = trial.suggest_uniform('subsample', 0.1, 1.0)\\n    colsample_bytree = trial.suggest_uniform('colsample_bytree', 0.1, 1.0)\\n    \\n    model = lgb.LGBMRegressor(\\n        num_leaves=num_leaves,\\n        n_estimators=n_estimators,\\n        learning_rate=learning_rate,\\n        max_depth=max_depth, \\n        min_child_samples=min_child_samples, \\n        min_data_in_leaf=min_data_in_leaf,\\n        bagging_freq=bagging_freq,\\n        bagging_fraction=bagging_fraction,\\n        feature_fraction=feature_fraction,\\n        subsample=subsample,\\n        colsample_bytree=colsample_bytree,\\n        metric='rsme',\\n        random_state=666)\\n    return model\\n\\ndef objective(trial):\\n    model = create_model(trial)\\n    model.fit(X_tr, y_tr)\\n    y_pred = model.predict(X_val)\\n    rsme = np.sqrt(mean_squared_error(y_pred, y_val))\\n    return rsme\\n\\nstudy = optuna.create_study(direction='minimize')\\nstudy.optimize(objective, n_trials=40)\\nparams = study.best_params\\nprint(params)\\n\""
      ]
     },
     "execution_count": 41,
     "metadata": {},
     "output_type": "execute_result"
    }
   ],
   "source": [
    "'''\n",
    "X_tr, X_val, y_tr, y_val = train_test_split(train, target, test_size=0.2, random_state=666)\n",
    "\n",
    "def create_model(trial):\n",
    "    num_leaves = trial.suggest_int('num_leaves', 2, 30)\n",
    "    n_estimators = trial.suggest_int('n_estimators', 50, 300)\n",
    "    learning_rate = trial.suggest_uniform('learning_rate', 0.0001, 0.99)\n",
    "    max_depth = trial.suggest_int('max_depth', 2, 10)\n",
    "    min_child_samples = trial.suggest_int('min_child_samples', 100, 1200)\n",
    "    min_data_in_leaf = trial.suggest_int('min_data_in_leaf', 5, 90)\n",
    "    bagging_freq = trial.suggest_int('bagging_freq', 1, 7)\n",
    "    bagging_fraction = trial.suggest_uniform('bagging_fraction', 0.0001, 1.0)\n",
    "    feature_fraction = trial.suggest_uniform('feature_fraction', 0.0001, 1.0)\n",
    "    subsample = trial.suggest_uniform('subsample', 0.1, 1.0)\n",
    "    colsample_bytree = trial.suggest_uniform('colsample_bytree', 0.1, 1.0)\n",
    "    \n",
    "    model = lgb.LGBMRegressor(\n",
    "        num_leaves=num_leaves,\n",
    "        n_estimators=n_estimators,\n",
    "        learning_rate=learning_rate,\n",
    "        max_depth=max_depth, \n",
    "        min_child_samples=min_child_samples, \n",
    "        min_data_in_leaf=min_data_in_leaf,\n",
    "        bagging_freq=bagging_freq,\n",
    "        bagging_fraction=bagging_fraction,\n",
    "        feature_fraction=feature_fraction,\n",
    "        subsample=subsample,\n",
    "        colsample_bytree=colsample_bytree,\n",
    "        metric='rsme',\n",
    "        random_state=666)\n",
    "    return model\n",
    "\n",
    "def objective(trial):\n",
    "    model = create_model(trial)\n",
    "    model.fit(X_tr, y_tr)\n",
    "    y_pred = model.predict(X_val)\n",
    "    rsme = np.sqrt(mean_squared_error(y_pred, y_val))\n",
    "    return rsme\n",
    "\n",
    "study = optuna.create_study(direction='minimize')\n",
    "study.optimize(objective, n_trials=40)\n",
    "params = study.best_params\n",
    "print(params)\n",
    "'''"
   ]
  },
  {
   "cell_type": "code",
   "execution_count": 42,
   "id": "animal-wednesday",
   "metadata": {
    "execution": {
     "iopub.execute_input": "2021-06-10T02:54:54.566294Z",
     "iopub.status.busy": "2021-06-10T02:54:54.565613Z",
     "iopub.status.idle": "2021-06-10T02:54:54.572344Z",
     "shell.execute_reply": "2021-06-10T02:54:54.571822Z",
     "shell.execute_reply.started": "2021-06-10T01:19:44.688684Z"
    },
    "papermill": {
     "duration": 0.079859,
     "end_time": "2021-06-10T02:54:54.572496",
     "exception": false,
     "start_time": "2021-06-10T02:54:54.492637",
     "status": "completed"
    },
    "tags": []
   },
   "outputs": [],
   "source": [
    "# rsme: 0.8751749628536593\n",
    "\n",
    "params = {'num_leaves': 29,\n",
    "          'n_estimators': 259,\n",
    "          'learning_rate': 0.6767825229671494,\n",
    "          'max_depth': 7,\n",
    "          'min_child_samples': 991,\n",
    "          'min_data_in_leaf': 51,\n",
    "          'bagging_freq': 4,\n",
    "          'bagging_fraction': 0.7298919866619639,\n",
    "          'feature_fraction': 0.875247529005268,\n",
    "          'subsample': 0.315064279924561,\n",
    "          'colsample_bytree': 0.67995244232174,\n",
    "          'random_state': 666}"
   ]
  },
  {
   "cell_type": "code",
   "execution_count": 43,
   "id": "fabulous-relaxation",
   "metadata": {
    "execution": {
     "iopub.execute_input": "2021-06-10T02:54:54.719022Z",
     "iopub.status.busy": "2021-06-10T02:54:54.718360Z",
     "iopub.status.idle": "2021-06-10T02:54:54.722912Z",
     "shell.execute_reply": "2021-06-10T02:54:54.722173Z"
    },
    "papermill": {
     "duration": 0.080397,
     "end_time": "2021-06-10T02:54:54.723080",
     "exception": false,
     "start_time": "2021-06-10T02:54:54.642683",
     "status": "completed"
    },
    "tags": []
   },
   "outputs": [
    {
     "data": {
      "text/plain": [
       "\"\\n# rsme: 0.9077297841386155\\n\\nparams = {'num_leaves': 15,\\n          'n_estimators': 300,\\n          'learning_rate': 0.9849803475916162,\\n          'max_depth': 8,\\n          'min_child_samples': 852,\\n          'min_data_in_leaf': 57,\\n          'bagging_freq': 6,\\n          'bagging_fraction': 0.45951000229116346,\\n          'feature_fraction': 0.9981667070528089,\\n          'subsample': 0.1064524138387621,\\n          'colsample_bytree': 0.9853399903480412,\\n          'random_state': 666}\\n\""
      ]
     },
     "execution_count": 43,
     "metadata": {},
     "output_type": "execute_result"
    }
   ],
   "source": [
    "'''\n",
    "# rsme: 0.9077297841386155\n",
    "\n",
    "params = {'num_leaves': 15,\n",
    "          'n_estimators': 300,\n",
    "          'learning_rate': 0.9849803475916162,\n",
    "          'max_depth': 8,\n",
    "          'min_child_samples': 852,\n",
    "          'min_data_in_leaf': 57,\n",
    "          'bagging_freq': 6,\n",
    "          'bagging_fraction': 0.45951000229116346,\n",
    "          'feature_fraction': 0.9981667070528089,\n",
    "          'subsample': 0.1064524138387621,\n",
    "          'colsample_bytree': 0.9853399903480412,\n",
    "          'random_state': 666}\n",
    "'''"
   ]
  },
  {
   "cell_type": "code",
   "execution_count": 44,
   "id": "isolated-frame",
   "metadata": {
    "execution": {
     "iopub.execute_input": "2021-06-10T02:54:54.873222Z",
     "iopub.status.busy": "2021-06-10T02:54:54.871613Z",
     "iopub.status.idle": "2021-06-10T02:58:05.876202Z",
     "shell.execute_reply": "2021-06-10T02:58:05.876713Z",
     "shell.execute_reply.started": "2021-06-10T01:19:44.704461Z"
    },
    "papermill": {
     "duration": 191.082749,
     "end_time": "2021-06-10T02:58:05.876899",
     "exception": false,
     "start_time": "2021-06-10T02:54:54.794150",
     "status": "completed"
    },
    "tags": []
   },
   "outputs": [
    {
     "name": "stdout",
     "output_type": "stream",
     "text": [
      "[LightGBM] [Warning] bagging_fraction is set=0.7298919866619639, subsample=0.315064279924561 will be ignored. Current value: bagging_fraction=0.7298919866619639\n",
      "[LightGBM] [Warning] feature_fraction is set=0.875247529005268, colsample_bytree=0.67995244232174 will be ignored. Current value: feature_fraction=0.875247529005268\n",
      "[LightGBM] [Warning] bagging_freq is set=4, subsample_freq=0 will be ignored. Current value: bagging_freq=4\n",
      "[LightGBM] [Warning] min_data_in_leaf is set=51, min_child_samples=991 will be ignored. Current value: min_data_in_leaf=51\n"
     ]
    },
    {
     "data": {
      "text/plain": [
       "LGBMRegressor(bagging_fraction=0.7298919866619639, bagging_freq=4,\n",
       "              colsample_bytree=0.67995244232174,\n",
       "              feature_fraction=0.875247529005268,\n",
       "              learning_rate=0.6767825229671494, max_depth=7,\n",
       "              min_child_samples=991, min_data_in_leaf=51, n_estimators=259,\n",
       "              num_leaves=29, random_state=666, subsample=0.315064279924561)"
      ]
     },
     "execution_count": 44,
     "metadata": {},
     "output_type": "execute_result"
    }
   ],
   "source": [
    "cls = lgb.LGBMRegressor(**params)\n",
    "cls.fit(train, target)"
   ]
  },
  {
   "cell_type": "code",
   "execution_count": 45,
   "id": "yellow-enzyme",
   "metadata": {
    "execution": {
     "iopub.execute_input": "2021-06-10T02:58:06.174740Z",
     "iopub.status.busy": "2021-06-10T02:58:06.173843Z",
     "iopub.status.idle": "2021-06-10T02:58:06.178985Z",
     "shell.execute_reply": "2021-06-10T02:58:06.178366Z",
     "shell.execute_reply.started": "2021-06-10T01:21:22.649872Z"
    },
    "papermill": {
     "duration": 0.231335,
     "end_time": "2021-06-10T02:58:06.179135",
     "exception": false,
     "start_time": "2021-06-10T02:58:05.947800",
     "status": "completed"
    },
    "tags": []
   },
   "outputs": [
    {
     "data": {
      "text/plain": [
       "99"
      ]
     },
     "execution_count": 45,
     "metadata": {},
     "output_type": "execute_result"
    }
   ],
   "source": [
    "del train, target, params\n",
    "gc.collect()"
   ]
  },
  {
   "cell_type": "code",
   "execution_count": 46,
   "id": "resistant-investment",
   "metadata": {
    "execution": {
     "iopub.execute_input": "2021-06-10T02:58:06.342333Z",
     "iopub.status.busy": "2021-06-10T02:58:06.339500Z",
     "iopub.status.idle": "2021-06-10T02:58:06.618676Z",
     "shell.execute_reply": "2021-06-10T02:58:06.618039Z",
     "shell.execute_reply.started": "2021-06-10T01:21:22.800103Z"
    },
    "papermill": {
     "duration": 0.368964,
     "end_time": "2021-06-10T02:58:06.618819",
     "exception": false,
     "start_time": "2021-06-10T02:58:06.249855",
     "status": "completed"
    },
    "tags": []
   },
   "outputs": [
    {
     "data": {
      "image/png": "[encoded data removed]",
      "text/plain": [
       "<Figure size 432x288 with 1 Axes>"
      ]
     },
     "metadata": {},
     "output_type": "display_data"
    }
   ],
   "source": [
    "lgb.plot_importance(cls)\n",
    "plt.show()"
   ]
  },
  {
   "cell_type": "markdown",
   "id": "dimensional-trance",
   "metadata": {
    "papermill": {
     "duration": 0.072997,
     "end_time": "2021-06-10T02:58:06.768107",
     "exception": false,
     "start_time": "2021-06-10T02:58:06.695110",
     "status": "completed"
    },
    "tags": []
   },
   "source": [
    "# Submit"
   ]
  },
  {
   "cell_type": "code",
   "execution_count": 47,
   "id": "dutch-white",
   "metadata": {
    "execution": {
     "iopub.execute_input": "2021-06-10T02:58:06.924029Z",
     "iopub.status.busy": "2021-06-10T02:58:06.923334Z",
     "iopub.status.idle": "2021-06-10T02:58:08.999416Z",
     "shell.execute_reply": "2021-06-10T02:58:08.999905Z",
     "shell.execute_reply.started": "2021-06-10T01:21:23.053973Z"
    },
    "papermill": {
     "duration": 2.157326,
     "end_time": "2021-06-10T02:58:09.000121",
     "exception": false,
     "start_time": "2021-06-10T02:58:06.842795",
     "status": "completed"
    },
    "tags": []
   },
   "outputs": [
    {
     "data": {
      "text/plain": [
       "4819"
      ]
     },
     "execution_count": 47,
     "metadata": {},
     "output_type": "execute_result"
    }
   ],
   "source": [
    "row_id = test['row_id']\n",
    "\n",
    "test = test.drop(['row_id'], axis = 1)\n",
    "gc.collect()"
   ]
  },
  {
   "cell_type": "code",
   "execution_count": 48,
   "id": "computational-multiple",
   "metadata": {
    "execution": {
     "iopub.execute_input": "2021-06-10T02:58:09.152623Z",
     "iopub.status.busy": "2021-06-10T02:58:09.151979Z",
     "iopub.status.idle": "2021-06-10T02:58:25.456222Z",
     "shell.execute_reply": "2021-06-10T02:58:25.455565Z",
     "shell.execute_reply.started": "2021-06-10T01:21:24.910629Z"
    },
    "papermill": {
     "duration": 16.383131,
     "end_time": "2021-06-10T02:58:25.456395",
     "exception": false,
     "start_time": "2021-06-10T02:58:09.073264",
     "status": "completed"
    },
    "tags": []
   },
   "outputs": [],
   "source": [
    "test['hour'] = test['timestamp'].dt.hour\n",
    "test['day'] = test['timestamp'].dt.day\n",
    "test['weekend'] = test['timestamp'].dt.weekday\n",
    "test['month'] = test['timestamp'].dt.month"
   ]
  },
  {
   "cell_type": "code",
   "execution_count": 49,
   "id": "underlying-cambridge",
   "metadata": {
    "execution": {
     "iopub.execute_input": "2021-06-10T02:58:25.607453Z",
     "iopub.status.busy": "2021-06-10T02:58:25.606751Z",
     "iopub.status.idle": "2021-06-10T02:58:28.223949Z",
     "shell.execute_reply": "2021-06-10T02:58:28.223419Z",
     "shell.execute_reply.started": "2021-06-10T01:21:39.779341Z"
    },
    "papermill": {
     "duration": 2.69367,
     "end_time": "2021-06-10T02:58:28.224112",
     "exception": false,
     "start_time": "2021-06-10T02:58:25.530442",
     "status": "completed"
    },
    "tags": []
   },
   "outputs": [
    {
     "data": {
      "text/plain": [
       "55"
      ]
     },
     "execution_count": 49,
     "metadata": {},
     "output_type": "execute_result"
    }
   ],
   "source": [
    "test = test.drop(['timestamp', 'site_id'], axis=1)\n",
    "gc.collect()"
   ]
  },
  {
   "cell_type": "code",
   "execution_count": 50,
   "id": "heavy-junction",
   "metadata": {
    "execution": {
     "iopub.execute_input": "2021-06-10T02:58:28.376262Z",
     "iopub.status.busy": "2021-06-10T02:58:28.374790Z",
     "iopub.status.idle": "2021-06-10T02:58:34.594995Z",
     "shell.execute_reply": "2021-06-10T02:58:34.596088Z",
     "shell.execute_reply.started": "2021-06-10T01:21:41.979914Z"
    },
    "papermill": {
     "duration": 6.299746,
     "end_time": "2021-06-10T02:58:34.596348",
     "exception": false,
     "start_time": "2021-06-10T02:58:28.296602",
     "status": "completed"
    },
    "tags": []
   },
   "outputs": [
    {
     "name": "stdout",
     "output_type": "stream",
     "text": [
      "Memory usage of dataframe is 2226.89 MB\n",
      "Memory usage after optimization is: 1113.45 MB\n",
      "Decreased by 50.0%\n"
     ]
    }
   ],
   "source": [
    "row_id = row_id.reset_index(drop=True)\n",
    "test = test.reset_index(drop=True)\n",
    "\n",
    "test = reduce_mem_usage(test)"
   ]
  },
  {
   "cell_type": "code",
   "execution_count": 51,
   "id": "inclusive-sheffield",
   "metadata": {
    "_kg_hide-input": true,
    "_kg_hide-output": true,
    "execution": {
     "iopub.execute_input": "2021-06-10T02:58:34.784341Z",
     "iopub.status.busy": "2021-06-10T02:58:34.783633Z",
     "iopub.status.idle": "2021-06-10T02:58:34.787791Z",
     "shell.execute_reply": "2021-06-10T02:58:34.786887Z",
     "shell.execute_reply.started": "2021-06-10T01:21:47.449128Z"
    },
    "papermill": {
     "duration": 0.115945,
     "end_time": "2021-06-10T02:58:34.787988",
     "exception": false,
     "start_time": "2021-06-10T02:58:34.672043",
     "status": "completed"
    },
    "tags": []
   },
   "outputs": [
    {
     "name": "stdout",
     "output_type": "stream",
     "text": [
      "     name        size\n",
      "0    test  1167532960\n",
      "1  row_id   166790560\n",
      "2     _32        1919\n",
      "3    _i10        1787\n",
      "4    _i41        1745\n",
      "5     _41        1739\n",
      "6     _23        1591\n",
      "7     _18        1235\n",
      "8     _19        1228\n",
      "9     _oh        1192\n"
     ]
    }
   ],
   "source": [
    "print(pd.DataFrame([[i for i in dir()], [sys.getsizeof(eval(i)) for i in dir()]],\n",
    "                   index=['name','size']).T.sort_values('size', ascending=False).reset_index(drop=True).head(10))"
   ]
  },
  {
   "cell_type": "code",
   "execution_count": 52,
   "id": "electoral-submission",
   "metadata": {
    "execution": {
     "iopub.execute_input": "2021-06-10T02:58:34.945589Z",
     "iopub.status.busy": "2021-06-10T02:58:34.944931Z",
     "iopub.status.idle": "2021-06-10T03:01:18.631751Z",
     "shell.execute_reply": "2021-06-10T03:01:18.632264Z"
    },
    "papermill": {
     "duration": 163.767343,
     "end_time": "2021-06-10T03:01:18.632458",
     "exception": false,
     "start_time": "2021-06-10T02:58:34.865115",
     "status": "completed"
    },
    "tags": []
   },
   "outputs": [
    {
     "data": {
      "text/html": [
       "<div>\n",
       "<style scoped>\n",
       "    .dataframe tbody tr th:only-of-type {\n",
       "        vertical-align: middle;\n",
       "    }\n",
       "\n",
       "    .dataframe tbody tr th {\n",
       "        vertical-align: top;\n",
       "    }\n",
       "\n",
       "    .dataframe thead th {\n",
       "        text-align: right;\n",
       "    }\n",
       "</style>\n",
       "<table border=\"1\" class=\"dataframe\">\n",
       "  <thead>\n",
       "    <tr style=\"text-align: right;\">\n",
       "      <th></th>\n",
       "      <th>meter_reading</th>\n",
       "    </tr>\n",
       "    <tr>\n",
       "      <th>row_id</th>\n",
       "      <th></th>\n",
       "    </tr>\n",
       "  </thead>\n",
       "  <tbody>\n",
       "    <tr>\n",
       "      <th>0</th>\n",
       "      <td>-0.081565</td>\n",
       "    </tr>\n",
       "    <tr>\n",
       "      <th>1</th>\n",
       "      <td>0.411655</td>\n",
       "    </tr>\n",
       "    <tr>\n",
       "      <th>2</th>\n",
       "      <td>-0.292215</td>\n",
       "    </tr>\n",
       "    <tr>\n",
       "      <th>3</th>\n",
       "      <td>-0.156384</td>\n",
       "    </tr>\n",
       "    <tr>\n",
       "      <th>4</th>\n",
       "      <td>-0.081333</td>\n",
       "    </tr>\n",
       "    <tr>\n",
       "      <th>5</th>\n",
       "      <td>-0.028558</td>\n",
       "    </tr>\n",
       "    <tr>\n",
       "      <th>6</th>\n",
       "      <td>-0.079388</td>\n",
       "    </tr>\n",
       "    <tr>\n",
       "      <th>7</th>\n",
       "      <td>-0.085697</td>\n",
       "    </tr>\n",
       "    <tr>\n",
       "      <th>8</th>\n",
       "      <td>297.446544</td>\n",
       "    </tr>\n",
       "    <tr>\n",
       "      <th>9</th>\n",
       "      <td>0.160300</td>\n",
       "    </tr>\n",
       "  </tbody>\n",
       "</table>\n",
       "</div>"
      ],
      "text/plain": [
       "        meter_reading\n",
       "row_id               \n",
       "0           -0.081565\n",
       "1            0.411655\n",
       "2           -0.292215\n",
       "3           -0.156384\n",
       "4           -0.081333\n",
       "5           -0.028558\n",
       "6           -0.079388\n",
       "7           -0.085697\n",
       "8          297.446544\n",
       "9            0.160300"
      ]
     },
     "execution_count": 52,
     "metadata": {},
     "output_type": "execute_result"
    }
   ],
   "source": [
    "target = np.expm1(cls.predict(test))\n",
    "\n",
    "submission = pd.DataFrame(target, index=row_id, columns=['meter_reading'])\n",
    "submission.head(10)"
   ]
  },
  {
   "cell_type": "code",
   "execution_count": 53,
   "id": "fancy-bahamas",
   "metadata": {
    "execution": {
     "iopub.execute_input": "2021-06-10T03:01:18.783738Z",
     "iopub.status.busy": "2021-06-10T03:01:18.783098Z",
     "iopub.status.idle": "2021-06-10T03:01:19.285733Z",
     "shell.execute_reply": "2021-06-10T03:01:19.286439Z"
    },
    "papermill": {
     "duration": 0.58034,
     "end_time": "2021-06-10T03:01:19.286685",
     "exception": false,
     "start_time": "2021-06-10T03:01:18.706345",
     "status": "completed"
    },
    "tags": []
   },
   "outputs": [
    {
     "name": "stdout",
     "output_type": "stream",
     "text": [
      "Memory usage of dataframe is 636.25 MB\n",
      "Memory usage after optimization is: 477.19 MB\n",
      "Decreased by 25.0%\n"
     ]
    }
   ],
   "source": [
    "del row_id\n",
    "gc.collect()\n",
    "\n",
    "submission = reduce_mem_usage(submission)"
   ]
  },
  {
   "cell_type": "code",
   "execution_count": 54,
   "id": "moved-expense",
   "metadata": {
    "execution": {
     "iopub.execute_input": "2021-06-10T03:01:19.442201Z",
     "iopub.status.busy": "2021-06-10T03:01:19.441571Z",
     "iopub.status.idle": "2021-06-10T03:03:35.496989Z",
     "shell.execute_reply": "2021-06-10T03:03:35.496281Z"
    },
    "papermill": {
     "duration": 136.133228,
     "end_time": "2021-06-10T03:03:35.497185",
     "exception": false,
     "start_time": "2021-06-10T03:01:19.363957",
     "status": "completed"
    },
    "tags": []
   },
   "outputs": [],
   "source": [
    "submission.to_csv('ASHRAE_submit.csv')"
   ]
  }
 ],
 "metadata": {
  "kernelspec": {
   "display_name": "Python 3",
   "language": "python",
   "name": "python3"
  },
  "language_info": {
   "codemirror_mode": {
    "name": "ipython",
    "version": 3
   },
   "file_extension": ".py",
   "mimetype": "text/x-python",
   "name": "python",
   "nbconvert_exporter": "python",
   "pygments_lexer": "ipython3",
   "version": "3.7.10"
  },
  "papermill": {
   "default_parameters": {},
   "duration": 737.240305,
   "end_time": "2021-06-10T03:03:37.516149",
   "environment_variables": {},
   "exception": null,
   "input_path": "__notebook__.ipynb",
   "output_path": "__notebook__.ipynb",
   "parameters": {},
   "start_time": "2021-06-10T02:51:20.275844",
   "version": "2.3.3"
  }
 },
 "nbformat": 4,
 "nbformat_minor": 5
}
