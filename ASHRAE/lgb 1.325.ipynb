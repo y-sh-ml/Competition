{
 "cells": [
  {
   "cell_type": "markdown",
   "id": "unavailable-agreement",
   "metadata": {
    "papermill": {
     "duration": 0.062723,
     "end_time": "2021-06-14T00:58:53.731531",
     "exception": false,
     "start_time": "2021-06-14T00:58:53.668808",
     "status": "completed"
    },
    "tags": []
   },
   "source": [
    "# Overview"
   ]
  },
  {
   "cell_type": "markdown",
   "id": "adjacent-arthritis",
   "metadata": {
    "papermill": {
     "duration": 0.063247,
     "end_time": "2021-06-14T00:58:53.855287",
     "exception": false,
     "start_time": "2021-06-14T00:58:53.792040",
     "status": "completed"
    },
    "tags": []
   },
   "source": [
    "1448棟のビルの4種類のメーター（電力、冷水、スチーム、温水）の値を予測するコンペである。\n",
    "\n",
    "背景としては、エネルギー使用量（4種類のメーターの値）が正確に予測できるようになることで<br>\n",
    "省エネ投資を活発化させて、環境問題に貢献したいという狙いがある。\n",
    "\n",
    "ビルの所有者は、ビルのエネルギー効率を改善するような投資を行うことで<br>\n",
    "エネルギー効率が改善された分、コストを抑えることができる。"
   ]
  },
  {
   "cell_type": "markdown",
   "id": "postal-inflation",
   "metadata": {
    "papermill": {
     "duration": 0.06117,
     "end_time": "2021-06-14T00:58:53.977704",
     "exception": false,
     "start_time": "2021-06-14T00:58:53.916534",
     "status": "completed"
    },
    "tags": []
   },
   "source": [
    "# Module"
   ]
  },
  {
   "cell_type": "code",
   "execution_count": 1,
   "id": "parliamentary-variation",
   "metadata": {
    "execution": {
     "iopub.execute_input": "2021-06-14T00:58:54.105179Z",
     "iopub.status.busy": "2021-06-14T00:58:54.104030Z",
     "iopub.status.idle": "2021-06-14T00:58:56.756873Z",
     "shell.execute_reply": "2021-06-14T00:58:56.756199Z",
     "shell.execute_reply.started": "2021-06-14T00:49:28.101177Z"
    },
    "papermill": {
     "duration": 2.718464,
     "end_time": "2021-06-14T00:58:56.757053",
     "exception": false,
     "start_time": "2021-06-14T00:58:54.038589",
     "status": "completed"
    },
    "tags": []
   },
   "outputs": [
    {
     "data": {
      "text/html": [
       "<style type='text/css'>\n",
       ".datatable table.frame { margin-bottom: 0; }\n",
       ".datatable table.frame thead { border-bottom: none; }\n",
       ".datatable table.frame tr.coltypes td {  color: #FFFFFF;  line-height: 6px;  padding: 0 0.5em;}\n",
       ".datatable .bool    { background: #DDDD99; }\n",
       ".datatable .object  { background: #565656; }\n",
       ".datatable .int     { background: #5D9E5D; }\n",
       ".datatable .float   { background: #4040CC; }\n",
       ".datatable .str     { background: #CC4040; }\n",
       ".datatable .row_index {  background: var(--jp-border-color3);  border-right: 1px solid var(--jp-border-color0);  color: var(--jp-ui-font-color3);  font-size: 9px;}\n",
       ".datatable .frame tr.coltypes .row_index {  background: var(--jp-border-color0);}\n",
       ".datatable th:nth-child(2) { padding-left: 12px; }\n",
       ".datatable .hellipsis {  color: var(--jp-cell-editor-border-color);}\n",
       ".datatable .vellipsis {  background: var(--jp-layout-color0);  color: var(--jp-cell-editor-border-color);}\n",
       ".datatable .na {  color: var(--jp-cell-editor-border-color);  font-size: 80%;}\n",
       ".datatable .footer { font-size: 9px; }\n",
       ".datatable .frame_dimensions {  background: var(--jp-border-color3);  border-top: 1px solid var(--jp-border-color0);  color: var(--jp-ui-font-color3);  display: inline-block;  opacity: 0.6;  padding: 1px 10px 1px 5px;}\n",
       "</style>\n"
      ],
      "text/plain": [
       "<IPython.core.display.HTML object>"
      ]
     },
     "metadata": {},
     "output_type": "display_data"
    }
   ],
   "source": [
    "import gc\n",
    "import sys\n",
    "import optuna\n",
    "import datetime\n",
    "import warnings\n",
    "import matplotlib\n",
    "import numpy as np\n",
    "import pandas as pd\n",
    "import seaborn as sns\n",
    "import lightgbm as lgb\n",
    "import matplotlib.pyplot as plt\n",
    "\n",
    "from sklearn.preprocessing import LabelEncoder\n",
    "from sklearn.model_selection import train_test_split\n",
    "from sklearn.metrics import mean_squared_error\n",
    "from pandas.api.types import is_datetime64_any_dtype as is_datetime\n",
    "from pandas.api.types import is_categorical_dtype"
   ]
  },
  {
   "cell_type": "markdown",
   "id": "natural-admission",
   "metadata": {
    "papermill": {
     "duration": 0.061695,
     "end_time": "2021-06-14T00:58:56.884565",
     "exception": false,
     "start_time": "2021-06-14T00:58:56.822870",
     "status": "completed"
    },
    "tags": []
   },
   "source": [
    "# Datasets"
   ]
  },
  {
   "cell_type": "code",
   "execution_count": 2,
   "id": "suitable-premium",
   "metadata": {
    "execution": {
     "iopub.execute_input": "2021-06-14T00:58:57.014816Z",
     "iopub.status.busy": "2021-06-14T00:58:57.014104Z",
     "iopub.status.idle": "2021-06-14T00:59:11.107886Z",
     "shell.execute_reply": "2021-06-14T00:59:11.108368Z",
     "shell.execute_reply.started": "2021-06-14T00:49:30.829017Z"
    },
    "papermill": {
     "duration": 14.161265,
     "end_time": "2021-06-14T00:59:11.108522",
     "exception": false,
     "start_time": "2021-06-14T00:58:56.947257",
     "status": "completed"
    },
    "tags": []
   },
   "outputs": [
    {
     "name": "stdout",
     "output_type": "stream",
     "text": [
      "(20216100, 4)\n"
     ]
    },
    {
     "data": {
      "text/html": [
       "<div>\n",
       "<style scoped>\n",
       "    .dataframe tbody tr th:only-of-type {\n",
       "        vertical-align: middle;\n",
       "    }\n",
       "\n",
       "    .dataframe tbody tr th {\n",
       "        vertical-align: top;\n",
       "    }\n",
       "\n",
       "    .dataframe thead th {\n",
       "        text-align: right;\n",
       "    }\n",
       "</style>\n",
       "<table border=\"1\" class=\"dataframe\">\n",
       "  <thead>\n",
       "    <tr style=\"text-align: right;\">\n",
       "      <th></th>\n",
       "      <th>building_id</th>\n",
       "      <th>meter</th>\n",
       "      <th>timestamp</th>\n",
       "      <th>meter_reading</th>\n",
       "    </tr>\n",
       "  </thead>\n",
       "  <tbody>\n",
       "    <tr>\n",
       "      <th>0</th>\n",
       "      <td>0</td>\n",
       "      <td>0</td>\n",
       "      <td>2016-01-01 00:00:00</td>\n",
       "      <td>0.0</td>\n",
       "    </tr>\n",
       "    <tr>\n",
       "      <th>1</th>\n",
       "      <td>1</td>\n",
       "      <td>0</td>\n",
       "      <td>2016-01-01 00:00:00</td>\n",
       "      <td>0.0</td>\n",
       "    </tr>\n",
       "    <tr>\n",
       "      <th>2</th>\n",
       "      <td>2</td>\n",
       "      <td>0</td>\n",
       "      <td>2016-01-01 00:00:00</td>\n",
       "      <td>0.0</td>\n",
       "    </tr>\n",
       "    <tr>\n",
       "      <th>3</th>\n",
       "      <td>3</td>\n",
       "      <td>0</td>\n",
       "      <td>2016-01-01 00:00:00</td>\n",
       "      <td>0.0</td>\n",
       "    </tr>\n",
       "    <tr>\n",
       "      <th>4</th>\n",
       "      <td>4</td>\n",
       "      <td>0</td>\n",
       "      <td>2016-01-01 00:00:00</td>\n",
       "      <td>0.0</td>\n",
       "    </tr>\n",
       "  </tbody>\n",
       "</table>\n",
       "</div>"
      ],
      "text/plain": [
       "   building_id  meter            timestamp  meter_reading\n",
       "0            0      0  2016-01-01 00:00:00            0.0\n",
       "1            1      0  2016-01-01 00:00:00            0.0\n",
       "2            2      0  2016-01-01 00:00:00            0.0\n",
       "3            3      0  2016-01-01 00:00:00            0.0\n",
       "4            4      0  2016-01-01 00:00:00            0.0"
      ]
     },
     "execution_count": 2,
     "metadata": {},
     "output_type": "execute_result"
    }
   ],
   "source": [
    "train = pd.read_csv('../input/ashrae-energy-prediction/train.csv')\n",
    "\n",
    "print(train.shape)\n",
    "train.head()"
   ]
  },
  {
   "cell_type": "markdown",
   "id": "psychological-debate",
   "metadata": {
    "execution": {
     "iopub.execute_input": "2021-06-04T05:10:36.573413Z",
     "iopub.status.busy": "2021-06-04T05:10:36.573045Z",
     "iopub.status.idle": "2021-06-04T05:10:36.579555Z",
     "shell.execute_reply": "2021-06-04T05:10:36.578197Z",
     "shell.execute_reply.started": "2021-06-04T05:10:36.573384Z"
    },
    "papermill": {
     "duration": 0.062939,
     "end_time": "2021-06-14T00:59:11.234486",
     "exception": false,
     "start_time": "2021-06-14T00:59:11.171547",
     "status": "completed"
    },
    "tags": []
   },
   "source": [
    "1時間ごとのメータ値を保持するテーブル（学習データ）<br>\n",
    "・building_id：ビルのID<br>\n",
    "・meter：0は電力、1は冷水、2はスチーム、3は温水<br>\n",
    "・timestamp：日付と時刻<br>\n",
    "・meter_reading：メーターの使用量（目的変数）<br>"
   ]
  },
  {
   "cell_type": "code",
   "execution_count": 3,
   "id": "integrated-surname",
   "metadata": {
    "execution": {
     "iopub.execute_input": "2021-06-14T00:59:11.365905Z",
     "iopub.status.busy": "2021-06-14T00:59:11.365096Z",
     "iopub.status.idle": "2021-06-14T00:59:39.295369Z",
     "shell.execute_reply": "2021-06-14T00:59:39.294648Z",
     "shell.execute_reply.started": "2021-06-14T00:49:43.296643Z"
    },
    "papermill": {
     "duration": 27.998153,
     "end_time": "2021-06-14T00:59:39.295556",
     "exception": false,
     "start_time": "2021-06-14T00:59:11.297403",
     "status": "completed"
    },
    "tags": []
   },
   "outputs": [
    {
     "name": "stdout",
     "output_type": "stream",
     "text": [
      "(41697600, 4)\n"
     ]
    },
    {
     "data": {
      "text/html": [
       "<div>\n",
       "<style scoped>\n",
       "    .dataframe tbody tr th:only-of-type {\n",
       "        vertical-align: middle;\n",
       "    }\n",
       "\n",
       "    .dataframe tbody tr th {\n",
       "        vertical-align: top;\n",
       "    }\n",
       "\n",
       "    .dataframe thead th {\n",
       "        text-align: right;\n",
       "    }\n",
       "</style>\n",
       "<table border=\"1\" class=\"dataframe\">\n",
       "  <thead>\n",
       "    <tr style=\"text-align: right;\">\n",
       "      <th></th>\n",
       "      <th>row_id</th>\n",
       "      <th>building_id</th>\n",
       "      <th>meter</th>\n",
       "      <th>timestamp</th>\n",
       "    </tr>\n",
       "  </thead>\n",
       "  <tbody>\n",
       "    <tr>\n",
       "      <th>0</th>\n",
       "      <td>0</td>\n",
       "      <td>0</td>\n",
       "      <td>0</td>\n",
       "      <td>2017-01-01 00:00:00</td>\n",
       "    </tr>\n",
       "    <tr>\n",
       "      <th>1</th>\n",
       "      <td>1</td>\n",
       "      <td>1</td>\n",
       "      <td>0</td>\n",
       "      <td>2017-01-01 00:00:00</td>\n",
       "    </tr>\n",
       "    <tr>\n",
       "      <th>2</th>\n",
       "      <td>2</td>\n",
       "      <td>2</td>\n",
       "      <td>0</td>\n",
       "      <td>2017-01-01 00:00:00</td>\n",
       "    </tr>\n",
       "    <tr>\n",
       "      <th>3</th>\n",
       "      <td>3</td>\n",
       "      <td>3</td>\n",
       "      <td>0</td>\n",
       "      <td>2017-01-01 00:00:00</td>\n",
       "    </tr>\n",
       "    <tr>\n",
       "      <th>4</th>\n",
       "      <td>4</td>\n",
       "      <td>4</td>\n",
       "      <td>0</td>\n",
       "      <td>2017-01-01 00:00:00</td>\n",
       "    </tr>\n",
       "  </tbody>\n",
       "</table>\n",
       "</div>"
      ],
      "text/plain": [
       "   row_id  building_id  meter            timestamp\n",
       "0       0            0      0  2017-01-01 00:00:00\n",
       "1       1            1      0  2017-01-01 00:00:00\n",
       "2       2            2      0  2017-01-01 00:00:00\n",
       "3       3            3      0  2017-01-01 00:00:00\n",
       "4       4            4      0  2017-01-01 00:00:00"
      ]
     },
     "execution_count": 3,
     "metadata": {},
     "output_type": "execute_result"
    }
   ],
   "source": [
    "test = pd.read_csv('../input/ashrae-energy-prediction/test.csv')\n",
    "\n",
    "print(test.shape)\n",
    "test.head()"
   ]
  },
  {
   "cell_type": "markdown",
   "id": "crazy-hybrid",
   "metadata": {
    "papermill": {
     "duration": 0.08441,
     "end_time": "2021-06-14T00:59:39.449017",
     "exception": false,
     "start_time": "2021-06-14T00:59:39.364607",
     "status": "completed"
    },
    "tags": []
   },
   "source": [
    "1時間ごとのメータ値を保持するテーブル（テストデータ）<br>\n",
    "・row_id：行のID<br>\n",
    "・building_id：ビルのID<br>\n",
    "・meter：0は電力、1は冷水、2はスチーム、3は温水<br>\n",
    "・timestamp：日付と時刻<br>"
   ]
  },
  {
   "cell_type": "code",
   "execution_count": 4,
   "id": "linear-snowboard",
   "metadata": {
    "execution": {
     "iopub.execute_input": "2021-06-14T00:59:39.583903Z",
     "iopub.status.busy": "2021-06-14T00:59:39.583252Z",
     "iopub.status.idle": "2021-06-14T00:59:39.585067Z",
     "shell.execute_reply": "2021-06-14T00:59:39.585497Z",
     "shell.execute_reply.started": "2021-06-14T00:50:07.750975Z"
    },
    "papermill": {
     "duration": 0.070869,
     "end_time": "2021-06-14T00:59:39.585659",
     "exception": false,
     "start_time": "2021-06-14T00:59:39.514790",
     "status": "completed"
    },
    "tags": []
   },
   "outputs": [],
   "source": [
    "usecols = {'site_id', 'timestamp', 'air_temperature', 'dew_temperature'}"
   ]
  },
  {
   "cell_type": "code",
   "execution_count": 5,
   "id": "opening-gardening",
   "metadata": {
    "execution": {
     "iopub.execute_input": "2021-06-14T00:59:39.717124Z",
     "iopub.status.busy": "2021-06-14T00:59:39.716517Z",
     "iopub.status.idle": "2021-06-14T00:59:39.906679Z",
     "shell.execute_reply": "2021-06-14T00:59:39.907142Z",
     "shell.execute_reply.started": "2021-06-14T00:50:07.755970Z"
    },
    "papermill": {
     "duration": 0.25754,
     "end_time": "2021-06-14T00:59:39.907308",
     "exception": false,
     "start_time": "2021-06-14T00:59:39.649768",
     "status": "completed"
    },
    "tags": []
   },
   "outputs": [
    {
     "name": "stdout",
     "output_type": "stream",
     "text": [
      "(139773, 4)\n"
     ]
    },
    {
     "data": {
      "text/html": [
       "<div>\n",
       "<style scoped>\n",
       "    .dataframe tbody tr th:only-of-type {\n",
       "        vertical-align: middle;\n",
       "    }\n",
       "\n",
       "    .dataframe tbody tr th {\n",
       "        vertical-align: top;\n",
       "    }\n",
       "\n",
       "    .dataframe thead th {\n",
       "        text-align: right;\n",
       "    }\n",
       "</style>\n",
       "<table border=\"1\" class=\"dataframe\">\n",
       "  <thead>\n",
       "    <tr style=\"text-align: right;\">\n",
       "      <th></th>\n",
       "      <th>site_id</th>\n",
       "      <th>timestamp</th>\n",
       "      <th>air_temperature</th>\n",
       "      <th>dew_temperature</th>\n",
       "    </tr>\n",
       "  </thead>\n",
       "  <tbody>\n",
       "    <tr>\n",
       "      <th>0</th>\n",
       "      <td>0</td>\n",
       "      <td>2016-01-01 00:00:00</td>\n",
       "      <td>25.0</td>\n",
       "      <td>20.0</td>\n",
       "    </tr>\n",
       "    <tr>\n",
       "      <th>1</th>\n",
       "      <td>0</td>\n",
       "      <td>2016-01-01 01:00:00</td>\n",
       "      <td>24.4</td>\n",
       "      <td>21.1</td>\n",
       "    </tr>\n",
       "    <tr>\n",
       "      <th>2</th>\n",
       "      <td>0</td>\n",
       "      <td>2016-01-01 02:00:00</td>\n",
       "      <td>22.8</td>\n",
       "      <td>21.1</td>\n",
       "    </tr>\n",
       "    <tr>\n",
       "      <th>3</th>\n",
       "      <td>0</td>\n",
       "      <td>2016-01-01 03:00:00</td>\n",
       "      <td>21.1</td>\n",
       "      <td>20.6</td>\n",
       "    </tr>\n",
       "    <tr>\n",
       "      <th>4</th>\n",
       "      <td>0</td>\n",
       "      <td>2016-01-01 04:00:00</td>\n",
       "      <td>20.0</td>\n",
       "      <td>20.0</td>\n",
       "    </tr>\n",
       "  </tbody>\n",
       "</table>\n",
       "</div>"
      ],
      "text/plain": [
       "   site_id            timestamp  air_temperature  dew_temperature\n",
       "0        0  2016-01-01 00:00:00             25.0             20.0\n",
       "1        0  2016-01-01 01:00:00             24.4             21.1\n",
       "2        0  2016-01-01 02:00:00             22.8             21.1\n",
       "3        0  2016-01-01 03:00:00             21.1             20.6\n",
       "4        0  2016-01-01 04:00:00             20.0             20.0"
      ]
     },
     "execution_count": 5,
     "metadata": {},
     "output_type": "execute_result"
    }
   ],
   "source": [
    "weather_train = pd.read_csv('../input/ashrae-energy-prediction/weather_train.csv', usecols=usecols)\n",
    "\n",
    "print(weather_train.shape)\n",
    "weather_train.head()"
   ]
  },
  {
   "cell_type": "markdown",
   "id": "chief-enforcement",
   "metadata": {
    "papermill": {
     "duration": 0.065675,
     "end_time": "2021-06-14T00:59:40.038160",
     "exception": false,
     "start_time": "2021-06-14T00:59:39.972485",
     "status": "completed"
    },
    "tags": []
   },
   "source": [
    "気象情報を保持するテーブル（学習データに対応）<br>\n",
    "・site_id：ビルの物理的な位置<br>\n",
    "・timestamp：日付と時刻<br>\n",
    "・air_temperature：気温<br>\n",
    "・dew_temperature：湿度<br>\n",
    "・precip_depth：降水量<br>\n",
    "・sea_level_pressure：海圧<br>\n",
    "・wind_direction：風向<br>\n",
    "・wind_speed：風速<br>"
   ]
  },
  {
   "cell_type": "code",
   "execution_count": 6,
   "id": "scheduled-duncan",
   "metadata": {
    "execution": {
     "iopub.execute_input": "2021-06-14T00:59:40.174348Z",
     "iopub.status.busy": "2021-06-14T00:59:40.173418Z",
     "iopub.status.idle": "2021-06-14T00:59:40.549649Z",
     "shell.execute_reply": "2021-06-14T00:59:40.550263Z",
     "shell.execute_reply.started": "2021-06-14T00:50:07.934019Z"
    },
    "papermill": {
     "duration": 0.445345,
     "end_time": "2021-06-14T00:59:40.550429",
     "exception": false,
     "start_time": "2021-06-14T00:59:40.105084",
     "status": "completed"
    },
    "tags": []
   },
   "outputs": [
    {
     "name": "stdout",
     "output_type": "stream",
     "text": [
      "(277243, 4)\n"
     ]
    },
    {
     "data": {
      "text/html": [
       "<div>\n",
       "<style scoped>\n",
       "    .dataframe tbody tr th:only-of-type {\n",
       "        vertical-align: middle;\n",
       "    }\n",
       "\n",
       "    .dataframe tbody tr th {\n",
       "        vertical-align: top;\n",
       "    }\n",
       "\n",
       "    .dataframe thead th {\n",
       "        text-align: right;\n",
       "    }\n",
       "</style>\n",
       "<table border=\"1\" class=\"dataframe\">\n",
       "  <thead>\n",
       "    <tr style=\"text-align: right;\">\n",
       "      <th></th>\n",
       "      <th>site_id</th>\n",
       "      <th>timestamp</th>\n",
       "      <th>air_temperature</th>\n",
       "      <th>dew_temperature</th>\n",
       "    </tr>\n",
       "  </thead>\n",
       "  <tbody>\n",
       "    <tr>\n",
       "      <th>0</th>\n",
       "      <td>0</td>\n",
       "      <td>2017-01-01 00:00:00</td>\n",
       "      <td>17.8</td>\n",
       "      <td>11.7</td>\n",
       "    </tr>\n",
       "    <tr>\n",
       "      <th>1</th>\n",
       "      <td>0</td>\n",
       "      <td>2017-01-01 01:00:00</td>\n",
       "      <td>17.8</td>\n",
       "      <td>12.8</td>\n",
       "    </tr>\n",
       "    <tr>\n",
       "      <th>2</th>\n",
       "      <td>0</td>\n",
       "      <td>2017-01-01 02:00:00</td>\n",
       "      <td>16.1</td>\n",
       "      <td>12.8</td>\n",
       "    </tr>\n",
       "    <tr>\n",
       "      <th>3</th>\n",
       "      <td>0</td>\n",
       "      <td>2017-01-01 03:00:00</td>\n",
       "      <td>17.2</td>\n",
       "      <td>13.3</td>\n",
       "    </tr>\n",
       "    <tr>\n",
       "      <th>4</th>\n",
       "      <td>0</td>\n",
       "      <td>2017-01-01 04:00:00</td>\n",
       "      <td>16.7</td>\n",
       "      <td>13.3</td>\n",
       "    </tr>\n",
       "  </tbody>\n",
       "</table>\n",
       "</div>"
      ],
      "text/plain": [
       "   site_id            timestamp  air_temperature  dew_temperature\n",
       "0        0  2017-01-01 00:00:00             17.8             11.7\n",
       "1        0  2017-01-01 01:00:00             17.8             12.8\n",
       "2        0  2017-01-01 02:00:00             16.1             12.8\n",
       "3        0  2017-01-01 03:00:00             17.2             13.3\n",
       "4        0  2017-01-01 04:00:00             16.7             13.3"
      ]
     },
     "execution_count": 6,
     "metadata": {},
     "output_type": "execute_result"
    }
   ],
   "source": [
    "weather_test = pd.read_csv('../input/ashrae-energy-prediction/weather_test.csv', usecols=usecols)\n",
    "\n",
    "print(weather_test.shape)\n",
    "weather_test.head()"
   ]
  },
  {
   "cell_type": "markdown",
   "id": "analyzed-climb",
   "metadata": {
    "papermill": {
     "duration": 0.065811,
     "end_time": "2021-06-14T00:59:40.682291",
     "exception": false,
     "start_time": "2021-06-14T00:59:40.616480",
     "status": "completed"
    },
    "tags": []
   },
   "source": [
    "気象情報を保持するテーブル（テストデータに対応）<br>\n",
    "・site_id：ビルの物理的な位置<br>\n",
    "・timestamp：日付と時刻<br>\n",
    "・air_temperature：気温<br>\n",
    "・dew_temperature：湿度<br>\n",
    "・precip_depth：降水量<br>\n",
    "・sea_level_pressure：海圧<br>\n",
    "・wind_direction：風向<br>\n",
    "・wind_speed：風速<br>"
   ]
  },
  {
   "cell_type": "code",
   "execution_count": 7,
   "id": "super-planner",
   "metadata": {
    "execution": {
     "iopub.execute_input": "2021-06-14T00:59:40.817924Z",
     "iopub.status.busy": "2021-06-14T00:59:40.816973Z",
     "iopub.status.idle": "2021-06-14T00:59:40.820850Z",
     "shell.execute_reply": "2021-06-14T00:59:40.821311Z",
     "shell.execute_reply.started": "2021-06-14T00:50:08.231034Z"
    },
    "papermill": {
     "duration": 0.073084,
     "end_time": "2021-06-14T00:59:40.821467",
     "exception": false,
     "start_time": "2021-06-14T00:59:40.748383",
     "status": "completed"
    },
    "tags": []
   },
   "outputs": [],
   "source": [
    "usecols = {'site_id', 'building_id', 'primary_use', 'square_feet', 'year_built'}"
   ]
  },
  {
   "cell_type": "code",
   "execution_count": 8,
   "id": "consistent-quilt",
   "metadata": {
    "execution": {
     "iopub.execute_input": "2021-06-14T00:59:40.957464Z",
     "iopub.status.busy": "2021-06-14T00:59:40.956450Z",
     "iopub.status.idle": "2021-06-14T00:59:40.977841Z",
     "shell.execute_reply": "2021-06-14T00:59:40.977222Z",
     "shell.execute_reply.started": "2021-06-14T00:50:08.235590Z"
    },
    "papermill": {
     "duration": 0.0906,
     "end_time": "2021-06-14T00:59:40.977975",
     "exception": false,
     "start_time": "2021-06-14T00:59:40.887375",
     "status": "completed"
    },
    "tags": []
   },
   "outputs": [
    {
     "name": "stdout",
     "output_type": "stream",
     "text": [
      "(1449, 5)\n"
     ]
    },
    {
     "data": {
      "text/html": [
       "<div>\n",
       "<style scoped>\n",
       "    .dataframe tbody tr th:only-of-type {\n",
       "        vertical-align: middle;\n",
       "    }\n",
       "\n",
       "    .dataframe tbody tr th {\n",
       "        vertical-align: top;\n",
       "    }\n",
       "\n",
       "    .dataframe thead th {\n",
       "        text-align: right;\n",
       "    }\n",
       "</style>\n",
       "<table border=\"1\" class=\"dataframe\">\n",
       "  <thead>\n",
       "    <tr style=\"text-align: right;\">\n",
       "      <th></th>\n",
       "      <th>site_id</th>\n",
       "      <th>building_id</th>\n",
       "      <th>primary_use</th>\n",
       "      <th>square_feet</th>\n",
       "      <th>year_built</th>\n",
       "    </tr>\n",
       "  </thead>\n",
       "  <tbody>\n",
       "    <tr>\n",
       "      <th>0</th>\n",
       "      <td>0</td>\n",
       "      <td>0</td>\n",
       "      <td>Education</td>\n",
       "      <td>7432</td>\n",
       "      <td>2008.0</td>\n",
       "    </tr>\n",
       "    <tr>\n",
       "      <th>1</th>\n",
       "      <td>0</td>\n",
       "      <td>1</td>\n",
       "      <td>Education</td>\n",
       "      <td>2720</td>\n",
       "      <td>2004.0</td>\n",
       "    </tr>\n",
       "    <tr>\n",
       "      <th>2</th>\n",
       "      <td>0</td>\n",
       "      <td>2</td>\n",
       "      <td>Education</td>\n",
       "      <td>5376</td>\n",
       "      <td>1991.0</td>\n",
       "    </tr>\n",
       "    <tr>\n",
       "      <th>3</th>\n",
       "      <td>0</td>\n",
       "      <td>3</td>\n",
       "      <td>Education</td>\n",
       "      <td>23685</td>\n",
       "      <td>2002.0</td>\n",
       "    </tr>\n",
       "    <tr>\n",
       "      <th>4</th>\n",
       "      <td>0</td>\n",
       "      <td>4</td>\n",
       "      <td>Education</td>\n",
       "      <td>116607</td>\n",
       "      <td>1975.0</td>\n",
       "    </tr>\n",
       "  </tbody>\n",
       "</table>\n",
       "</div>"
      ],
      "text/plain": [
       "   site_id  building_id primary_use  square_feet  year_built\n",
       "0        0            0   Education         7432      2008.0\n",
       "1        0            1   Education         2720      2004.0\n",
       "2        0            2   Education         5376      1991.0\n",
       "3        0            3   Education        23685      2002.0\n",
       "4        0            4   Education       116607      1975.0"
      ]
     },
     "execution_count": 8,
     "metadata": {},
     "output_type": "execute_result"
    }
   ],
   "source": [
    "building = pd.read_csv('../input/ashrae-energy-prediction/building_metadata.csv', usecols=usecols)\n",
    "\n",
    "print(building.shape)\n",
    "building.head()"
   ]
  },
  {
   "cell_type": "markdown",
   "id": "suspended-mother",
   "metadata": {
    "papermill": {
     "duration": 0.067577,
     "end_time": "2021-06-14T00:59:41.112580",
     "exception": false,
     "start_time": "2021-06-14T00:59:41.045003",
     "status": "completed"
    },
    "tags": []
   },
   "source": [
    "ビルの情報を保持するテーブル<br>\n",
    "・site_id：ビルの物理的な位置<br>\n",
    "・building_id：ビルのID<br>\n",
    "・primary_use：使用目的<br>\n",
    "・square_feet：面積<br>\n",
    "・year_built：施工した年<br>\n",
    "・floor_count：階数<br>"
   ]
  },
  {
   "cell_type": "markdown",
   "id": "fatal-destination",
   "metadata": {
    "papermill": {
     "duration": 0.066546,
     "end_time": "2021-06-14T00:59:41.247344",
     "exception": false,
     "start_time": "2021-06-14T00:59:41.180798",
     "status": "completed"
    },
    "tags": []
   },
   "source": [
    "# Lags"
   ]
  },
  {
   "cell_type": "code",
   "execution_count": 9,
   "id": "blind-cream",
   "metadata": {
    "execution": {
     "iopub.execute_input": "2021-06-14T00:59:41.389157Z",
     "iopub.status.busy": "2021-06-14T00:59:41.388496Z",
     "iopub.status.idle": "2021-06-14T00:59:41.441763Z",
     "shell.execute_reply": "2021-06-14T00:59:41.442242Z",
     "shell.execute_reply.started": "2021-06-14T00:50:08.268164Z"
    },
    "papermill": {
     "duration": 0.128073,
     "end_time": "2021-06-14T00:59:41.442415",
     "exception": false,
     "start_time": "2021-06-14T00:59:41.314342",
     "status": "completed"
    },
    "tags": []
   },
   "outputs": [
    {
     "data": {
      "text/html": [
       "<div>\n",
       "<style scoped>\n",
       "    .dataframe tbody tr th:only-of-type {\n",
       "        vertical-align: middle;\n",
       "    }\n",
       "\n",
       "    .dataframe tbody tr th {\n",
       "        vertical-align: top;\n",
       "    }\n",
       "\n",
       "    .dataframe thead th {\n",
       "        text-align: right;\n",
       "    }\n",
       "</style>\n",
       "<table border=\"1\" class=\"dataframe\">\n",
       "  <thead>\n",
       "    <tr style=\"text-align: right;\">\n",
       "      <th></th>\n",
       "      <th>site_id</th>\n",
       "      <th>timestamp</th>\n",
       "      <th>air_temperature</th>\n",
       "      <th>dew_temperature</th>\n",
       "      <th>PREVIOUS_DIFF_air_temperature</th>\n",
       "      <th>PREVIOUS_DIFF_dew_temperature</th>\n",
       "    </tr>\n",
       "  </thead>\n",
       "  <tbody>\n",
       "    <tr>\n",
       "      <th>0</th>\n",
       "      <td>0</td>\n",
       "      <td>2016-01-01 00:00:00</td>\n",
       "      <td>25.0</td>\n",
       "      <td>20.0</td>\n",
       "      <td>0.6</td>\n",
       "      <td>1.1</td>\n",
       "    </tr>\n",
       "    <tr>\n",
       "      <th>1</th>\n",
       "      <td>0</td>\n",
       "      <td>2016-01-01 01:00:00</td>\n",
       "      <td>24.4</td>\n",
       "      <td>21.1</td>\n",
       "      <td>1.6</td>\n",
       "      <td>0.0</td>\n",
       "    </tr>\n",
       "    <tr>\n",
       "      <th>2</th>\n",
       "      <td>0</td>\n",
       "      <td>2016-01-01 02:00:00</td>\n",
       "      <td>22.8</td>\n",
       "      <td>21.1</td>\n",
       "      <td>1.7</td>\n",
       "      <td>0.5</td>\n",
       "    </tr>\n",
       "    <tr>\n",
       "      <th>3</th>\n",
       "      <td>0</td>\n",
       "      <td>2016-01-01 03:00:00</td>\n",
       "      <td>21.1</td>\n",
       "      <td>20.6</td>\n",
       "      <td>1.1</td>\n",
       "      <td>0.6</td>\n",
       "    </tr>\n",
       "    <tr>\n",
       "      <th>4</th>\n",
       "      <td>0</td>\n",
       "      <td>2016-01-01 04:00:00</td>\n",
       "      <td>20.0</td>\n",
       "      <td>20.0</td>\n",
       "      <td>0.6</td>\n",
       "      <td>0.6</td>\n",
       "    </tr>\n",
       "  </tbody>\n",
       "</table>\n",
       "</div>"
      ],
      "text/plain": [
       "   site_id            timestamp  air_temperature  dew_temperature  \\\n",
       "0        0  2016-01-01 00:00:00             25.0             20.0   \n",
       "1        0  2016-01-01 01:00:00             24.4             21.1   \n",
       "2        0  2016-01-01 02:00:00             22.8             21.1   \n",
       "3        0  2016-01-01 03:00:00             21.1             20.6   \n",
       "4        0  2016-01-01 04:00:00             20.0             20.0   \n",
       "\n",
       "   PREVIOUS_DIFF_air_temperature  PREVIOUS_DIFF_dew_temperature  \n",
       "0                            0.6                            1.1  \n",
       "1                            1.6                            0.0  \n",
       "2                            1.7                            0.5  \n",
       "3                            1.1                            0.6  \n",
       "4                            0.6                            0.6  "
      ]
     },
     "execution_count": 9,
     "metadata": {},
     "output_type": "execute_result"
    }
   ],
   "source": [
    "lag_cols = ['air_temperature', 'dew_temperature']\n",
    "\n",
    "for i in lag_cols:\n",
    "    weather_train['DIFF_' + i] = weather_train.groupby(by = ['site_id'])[i].shift(-1)\n",
    "    weather_train['PREVIOUS_DIFF_' + i] = np.abs(weather_train[i] - weather_train['DIFF_' + i])\n",
    "    weather_train = weather_train.drop(['DIFF_' + i], axis=1)\n",
    "    \n",
    "weather_train.head()"
   ]
  },
  {
   "cell_type": "code",
   "execution_count": 10,
   "id": "interracial-perception",
   "metadata": {
    "execution": {
     "iopub.execute_input": "2021-06-14T00:59:41.584483Z",
     "iopub.status.busy": "2021-06-14T00:59:41.583831Z",
     "iopub.status.idle": "2021-06-14T00:59:41.654778Z",
     "shell.execute_reply": "2021-06-14T00:59:41.655266Z",
     "shell.execute_reply.started": "2021-06-14T00:50:08.324302Z"
    },
    "papermill": {
     "duration": 0.145277,
     "end_time": "2021-06-14T00:59:41.655424",
     "exception": false,
     "start_time": "2021-06-14T00:59:41.510147",
     "status": "completed"
    },
    "tags": []
   },
   "outputs": [
    {
     "data": {
      "text/html": [
       "<div>\n",
       "<style scoped>\n",
       "    .dataframe tbody tr th:only-of-type {\n",
       "        vertical-align: middle;\n",
       "    }\n",
       "\n",
       "    .dataframe tbody tr th {\n",
       "        vertical-align: top;\n",
       "    }\n",
       "\n",
       "    .dataframe thead th {\n",
       "        text-align: right;\n",
       "    }\n",
       "</style>\n",
       "<table border=\"1\" class=\"dataframe\">\n",
       "  <thead>\n",
       "    <tr style=\"text-align: right;\">\n",
       "      <th></th>\n",
       "      <th>site_id</th>\n",
       "      <th>timestamp</th>\n",
       "      <th>air_temperature</th>\n",
       "      <th>dew_temperature</th>\n",
       "      <th>PREVIOUS_DIFF_air_temperature</th>\n",
       "      <th>PREVIOUS_DIFF_dew_temperature</th>\n",
       "    </tr>\n",
       "  </thead>\n",
       "  <tbody>\n",
       "    <tr>\n",
       "      <th>0</th>\n",
       "      <td>0</td>\n",
       "      <td>2017-01-01 00:00:00</td>\n",
       "      <td>17.8</td>\n",
       "      <td>11.7</td>\n",
       "      <td>0.0</td>\n",
       "      <td>1.1</td>\n",
       "    </tr>\n",
       "    <tr>\n",
       "      <th>1</th>\n",
       "      <td>0</td>\n",
       "      <td>2017-01-01 01:00:00</td>\n",
       "      <td>17.8</td>\n",
       "      <td>12.8</td>\n",
       "      <td>1.7</td>\n",
       "      <td>0.0</td>\n",
       "    </tr>\n",
       "    <tr>\n",
       "      <th>2</th>\n",
       "      <td>0</td>\n",
       "      <td>2017-01-01 02:00:00</td>\n",
       "      <td>16.1</td>\n",
       "      <td>12.8</td>\n",
       "      <td>1.1</td>\n",
       "      <td>0.5</td>\n",
       "    </tr>\n",
       "    <tr>\n",
       "      <th>3</th>\n",
       "      <td>0</td>\n",
       "      <td>2017-01-01 03:00:00</td>\n",
       "      <td>17.2</td>\n",
       "      <td>13.3</td>\n",
       "      <td>0.5</td>\n",
       "      <td>0.0</td>\n",
       "    </tr>\n",
       "    <tr>\n",
       "      <th>4</th>\n",
       "      <td>0</td>\n",
       "      <td>2017-01-01 04:00:00</td>\n",
       "      <td>16.7</td>\n",
       "      <td>13.3</td>\n",
       "      <td>1.1</td>\n",
       "      <td>0.5</td>\n",
       "    </tr>\n",
       "  </tbody>\n",
       "</table>\n",
       "</div>"
      ],
      "text/plain": [
       "   site_id            timestamp  air_temperature  dew_temperature  \\\n",
       "0        0  2017-01-01 00:00:00             17.8             11.7   \n",
       "1        0  2017-01-01 01:00:00             17.8             12.8   \n",
       "2        0  2017-01-01 02:00:00             16.1             12.8   \n",
       "3        0  2017-01-01 03:00:00             17.2             13.3   \n",
       "4        0  2017-01-01 04:00:00             16.7             13.3   \n",
       "\n",
       "   PREVIOUS_DIFF_air_temperature  PREVIOUS_DIFF_dew_temperature  \n",
       "0                            0.0                            1.1  \n",
       "1                            1.7                            0.0  \n",
       "2                            1.1                            0.5  \n",
       "3                            0.5                            0.0  \n",
       "4                            1.1                            0.5  "
      ]
     },
     "execution_count": 10,
     "metadata": {},
     "output_type": "execute_result"
    }
   ],
   "source": [
    "lag_cols = ['air_temperature', 'dew_temperature']\n",
    "\n",
    "for i in lag_cols:\n",
    "    weather_test['DIFF_' + i] = weather_test.groupby(by = ['site_id'])[i].shift(-1)\n",
    "    weather_test['PREVIOUS_DIFF_' + i] = np.abs(weather_test[i] - weather_test['DIFF_' + i])\n",
    "    weather_test = weather_test.drop(['DIFF_' + i], axis=1)\n",
    "    \n",
    "weather_test.head()"
   ]
  },
  {
   "cell_type": "markdown",
   "id": "handled-amendment",
   "metadata": {
    "papermill": {
     "duration": 0.067362,
     "end_time": "2021-06-14T00:59:41.790605",
     "exception": false,
     "start_time": "2021-06-14T00:59:41.723243",
     "status": "completed"
    },
    "tags": []
   },
   "source": [
    "# Join"
   ]
  },
  {
   "cell_type": "code",
   "execution_count": 11,
   "id": "laughing-quarterly",
   "metadata": {
    "execution": {
     "iopub.execute_input": "2021-06-14T00:59:41.941400Z",
     "iopub.status.busy": "2021-06-14T00:59:41.940400Z",
     "iopub.status.idle": "2021-06-14T00:59:41.943408Z",
     "shell.execute_reply": "2021-06-14T00:59:41.942871Z",
     "shell.execute_reply.started": "2021-06-14T00:50:08.400015Z"
    },
    "papermill": {
     "duration": 0.085123,
     "end_time": "2021-06-14T00:59:41.943546",
     "exception": false,
     "start_time": "2021-06-14T00:59:41.858423",
     "status": "completed"
    },
    "tags": []
   },
   "outputs": [],
   "source": [
    "def reduce_mem_usage(df, use_float16=False):\n",
    "    \n",
    "    start_mem = df.memory_usage().sum() / 1024**2\n",
    "    print('Memory usage of dataframe is {:.2f} MB'.format(start_mem))\n",
    "    \n",
    "    for col in df.columns:\n",
    "        if is_datetime(df[col]) or is_categorical_dtype(df[col]):\n",
    "            continue\n",
    "        col_type = df[col].dtype\n",
    "        \n",
    "        if col_type != object:\n",
    "            c_min = df[col].min()\n",
    "            c_max = df[col].max()\n",
    "            if str(col_type)[:3] == 'int':\n",
    "                if c_min > np.iinfo(np.int8).min and c_max < np.iinfo(np.int8).max:\n",
    "                    df[col] = df[col].astype(np.int8)\n",
    "                elif c_min > np.iinfo(np.int16).min and c_max < np.iinfo(np.int16).max:\n",
    "                    df[col] = df[col].astype(np.int16)\n",
    "                elif c_min > np.iinfo(np.int32).min and c_max < np.iinfo(np.int32).max:\n",
    "                    df[col] = df[col].astype(np.int32)\n",
    "                elif c_min > np.iinfo(np.int64).min and c_max < np.iinfo(np.int64).max:\n",
    "                    df[col] = df[col].astype(np.int64)  \n",
    "            else:\n",
    "                if use_float16 and c_min > np.finfo(np.float16).min and c_max < np.finfo(np.float16).max:\n",
    "                    df[col] = df[col].astype(np.float16)\n",
    "                elif c_min > np.finfo(np.float32).min and c_max < np.finfo(np.float32).max:\n",
    "                    df[col] = df[col].astype(np.float32)\n",
    "                else:\n",
    "                    df[col] = df[col].astype(np.float64)\n",
    "        else:\n",
    "            df[col] = df[col].astype('category')\n",
    "\n",
    "    end_mem = df.memory_usage().sum() / 1024**2\n",
    "    print('Memory usage after optimization is: {:.2f} MB'.format(end_mem))\n",
    "    print('Decreased by {:.1f}%'.format(100 * (start_mem - end_mem) / start_mem))\n",
    "    \n",
    "    return df"
   ]
  },
  {
   "cell_type": "code",
   "execution_count": 12,
   "id": "quality-aside",
   "metadata": {
    "execution": {
     "iopub.execute_input": "2021-06-14T00:59:42.088260Z",
     "iopub.status.busy": "2021-06-14T00:59:42.087342Z",
     "iopub.status.idle": "2021-06-14T00:59:42.213631Z",
     "shell.execute_reply": "2021-06-14T00:59:42.212956Z",
     "shell.execute_reply.started": "2021-06-14T00:50:08.412000Z"
    },
    "papermill": {
     "duration": 0.202083,
     "end_time": "2021-06-14T00:59:42.213838",
     "exception": false,
     "start_time": "2021-06-14T00:59:42.011755",
     "status": "completed"
    },
    "tags": []
   },
   "outputs": [
    {
     "name": "stdout",
     "output_type": "stream",
     "text": [
      "Memory usage of dataframe is 6.40 MB\n",
      "Memory usage after optimization is: 2.85 MB\n",
      "Decreased by 55.4%\n",
      "Memory usage of dataframe is 12.69 MB\n",
      "Memory usage after optimization is: 5.66 MB\n",
      "Decreased by 55.4%\n",
      "Memory usage of dataframe is 0.06 MB\n",
      "Memory usage after optimization is: 0.02 MB\n",
      "Decreased by 68.7%\n"
     ]
    }
   ],
   "source": [
    "# train = reduce_mem_usage(train)\n",
    "# test = reduce_mem_usage(test)\n",
    "\n",
    "weather_train = reduce_mem_usage(weather_train)\n",
    "weather_test = reduce_mem_usage(weather_test)\n",
    "\n",
    "building = reduce_mem_usage(building)"
   ]
  },
  {
   "cell_type": "code",
   "execution_count": 13,
   "id": "phantom-reference",
   "metadata": {
    "execution": {
     "iopub.execute_input": "2021-06-14T00:59:42.353828Z",
     "iopub.status.busy": "2021-06-14T00:59:42.353218Z",
     "iopub.status.idle": "2021-06-14T00:59:51.861416Z",
     "shell.execute_reply": "2021-06-14T00:59:51.861880Z",
     "shell.execute_reply.started": "2021-06-14T00:50:08.536984Z"
    },
    "papermill": {
     "duration": 9.579056,
     "end_time": "2021-06-14T00:59:51.862056",
     "exception": false,
     "start_time": "2021-06-14T00:59:42.283000",
     "status": "completed"
    },
    "tags": []
   },
   "outputs": [
    {
     "name": "stdout",
     "output_type": "stream",
     "text": [
      "(20216100, 8)\n"
     ]
    },
    {
     "data": {
      "text/html": [
       "<div>\n",
       "<style scoped>\n",
       "    .dataframe tbody tr th:only-of-type {\n",
       "        vertical-align: middle;\n",
       "    }\n",
       "\n",
       "    .dataframe tbody tr th {\n",
       "        vertical-align: top;\n",
       "    }\n",
       "\n",
       "    .dataframe thead th {\n",
       "        text-align: right;\n",
       "    }\n",
       "</style>\n",
       "<table border=\"1\" class=\"dataframe\">\n",
       "  <thead>\n",
       "    <tr style=\"text-align: right;\">\n",
       "      <th></th>\n",
       "      <th>building_id</th>\n",
       "      <th>meter</th>\n",
       "      <th>timestamp</th>\n",
       "      <th>meter_reading</th>\n",
       "      <th>site_id</th>\n",
       "      <th>primary_use</th>\n",
       "      <th>square_feet</th>\n",
       "      <th>year_built</th>\n",
       "    </tr>\n",
       "  </thead>\n",
       "  <tbody>\n",
       "    <tr>\n",
       "      <th>0</th>\n",
       "      <td>0</td>\n",
       "      <td>0</td>\n",
       "      <td>2016-01-01 00:00:00</td>\n",
       "      <td>0.0</td>\n",
       "      <td>0</td>\n",
       "      <td>Education</td>\n",
       "      <td>7432</td>\n",
       "      <td>2008.0</td>\n",
       "    </tr>\n",
       "    <tr>\n",
       "      <th>1</th>\n",
       "      <td>1</td>\n",
       "      <td>0</td>\n",
       "      <td>2016-01-01 00:00:00</td>\n",
       "      <td>0.0</td>\n",
       "      <td>0</td>\n",
       "      <td>Education</td>\n",
       "      <td>2720</td>\n",
       "      <td>2004.0</td>\n",
       "    </tr>\n",
       "    <tr>\n",
       "      <th>2</th>\n",
       "      <td>2</td>\n",
       "      <td>0</td>\n",
       "      <td>2016-01-01 00:00:00</td>\n",
       "      <td>0.0</td>\n",
       "      <td>0</td>\n",
       "      <td>Education</td>\n",
       "      <td>5376</td>\n",
       "      <td>1991.0</td>\n",
       "    </tr>\n",
       "    <tr>\n",
       "      <th>3</th>\n",
       "      <td>3</td>\n",
       "      <td>0</td>\n",
       "      <td>2016-01-01 00:00:00</td>\n",
       "      <td>0.0</td>\n",
       "      <td>0</td>\n",
       "      <td>Education</td>\n",
       "      <td>23685</td>\n",
       "      <td>2002.0</td>\n",
       "    </tr>\n",
       "    <tr>\n",
       "      <th>4</th>\n",
       "      <td>4</td>\n",
       "      <td>0</td>\n",
       "      <td>2016-01-01 00:00:00</td>\n",
       "      <td>0.0</td>\n",
       "      <td>0</td>\n",
       "      <td>Education</td>\n",
       "      <td>116607</td>\n",
       "      <td>1975.0</td>\n",
       "    </tr>\n",
       "  </tbody>\n",
       "</table>\n",
       "</div>"
      ],
      "text/plain": [
       "   building_id  meter            timestamp  meter_reading  site_id  \\\n",
       "0            0      0  2016-01-01 00:00:00            0.0        0   \n",
       "1            1      0  2016-01-01 00:00:00            0.0        0   \n",
       "2            2      0  2016-01-01 00:00:00            0.0        0   \n",
       "3            3      0  2016-01-01 00:00:00            0.0        0   \n",
       "4            4      0  2016-01-01 00:00:00            0.0        0   \n",
       "\n",
       "  primary_use  square_feet  year_built  \n",
       "0   Education         7432      2008.0  \n",
       "1   Education         2720      2004.0  \n",
       "2   Education         5376      1991.0  \n",
       "3   Education        23685      2002.0  \n",
       "4   Education       116607      1975.0  "
      ]
     },
     "execution_count": 13,
     "metadata": {},
     "output_type": "execute_result"
    }
   ],
   "source": [
    "train = train.merge(building, on='building_id', how='left')\n",
    "test = test.merge(building, on='building_id', how='left')\n",
    "\n",
    "print(train.shape)\n",
    "train.head()"
   ]
  },
  {
   "cell_type": "code",
   "execution_count": 14,
   "id": "fleet-remark",
   "metadata": {
    "execution": {
     "iopub.execute_input": "2021-06-14T00:59:52.003631Z",
     "iopub.status.busy": "2021-06-14T00:59:52.003064Z",
     "iopub.status.idle": "2021-06-14T00:59:52.131176Z",
     "shell.execute_reply": "2021-06-14T00:59:52.131646Z",
     "shell.execute_reply.started": "2021-06-14T00:50:17.789495Z"
    },
    "papermill": {
     "duration": 0.200538,
     "end_time": "2021-06-14T00:59:52.131847",
     "exception": false,
     "start_time": "2021-06-14T00:59:51.931309",
     "status": "completed"
    },
    "tags": []
   },
   "outputs": [
    {
     "data": {
      "text/plain": [
       "131"
      ]
     },
     "execution_count": 14,
     "metadata": {},
     "output_type": "execute_result"
    }
   ],
   "source": [
    "del building\n",
    "gc.collect()"
   ]
  },
  {
   "cell_type": "code",
   "execution_count": 15,
   "id": "hungry-least",
   "metadata": {
    "execution": {
     "iopub.execute_input": "2021-06-14T00:59:52.276529Z",
     "iopub.status.busy": "2021-06-14T00:59:52.275929Z",
     "iopub.status.idle": "2021-06-14T01:00:11.081794Z",
     "shell.execute_reply": "2021-06-14T01:00:11.081191Z",
     "shell.execute_reply.started": "2021-06-14T00:50:17.909603Z"
    },
    "papermill": {
     "duration": 18.880764,
     "end_time": "2021-06-14T01:00:11.081926",
     "exception": false,
     "start_time": "2021-06-14T00:59:52.201162",
     "status": "completed"
    },
    "tags": []
   },
   "outputs": [
    {
     "name": "stdout",
     "output_type": "stream",
     "text": [
      "(20216100, 12)\n"
     ]
    },
    {
     "data": {
      "text/html": [
       "<div>\n",
       "<style scoped>\n",
       "    .dataframe tbody tr th:only-of-type {\n",
       "        vertical-align: middle;\n",
       "    }\n",
       "\n",
       "    .dataframe tbody tr th {\n",
       "        vertical-align: top;\n",
       "    }\n",
       "\n",
       "    .dataframe thead th {\n",
       "        text-align: right;\n",
       "    }\n",
       "</style>\n",
       "<table border=\"1\" class=\"dataframe\">\n",
       "  <thead>\n",
       "    <tr style=\"text-align: right;\">\n",
       "      <th></th>\n",
       "      <th>building_id</th>\n",
       "      <th>meter</th>\n",
       "      <th>timestamp</th>\n",
       "      <th>meter_reading</th>\n",
       "      <th>site_id</th>\n",
       "      <th>primary_use</th>\n",
       "      <th>square_feet</th>\n",
       "      <th>year_built</th>\n",
       "      <th>air_temperature</th>\n",
       "      <th>dew_temperature</th>\n",
       "      <th>PREVIOUS_DIFF_air_temperature</th>\n",
       "      <th>PREVIOUS_DIFF_dew_temperature</th>\n",
       "    </tr>\n",
       "  </thead>\n",
       "  <tbody>\n",
       "    <tr>\n",
       "      <th>0</th>\n",
       "      <td>0</td>\n",
       "      <td>0</td>\n",
       "      <td>2016-01-01 00:00:00</td>\n",
       "      <td>0.0</td>\n",
       "      <td>0</td>\n",
       "      <td>Education</td>\n",
       "      <td>7432</td>\n",
       "      <td>2008.0</td>\n",
       "      <td>25.0</td>\n",
       "      <td>20.0</td>\n",
       "      <td>0.6</td>\n",
       "      <td>1.1</td>\n",
       "    </tr>\n",
       "    <tr>\n",
       "      <th>1</th>\n",
       "      <td>1</td>\n",
       "      <td>0</td>\n",
       "      <td>2016-01-01 00:00:00</td>\n",
       "      <td>0.0</td>\n",
       "      <td>0</td>\n",
       "      <td>Education</td>\n",
       "      <td>2720</td>\n",
       "      <td>2004.0</td>\n",
       "      <td>25.0</td>\n",
       "      <td>20.0</td>\n",
       "      <td>0.6</td>\n",
       "      <td>1.1</td>\n",
       "    </tr>\n",
       "    <tr>\n",
       "      <th>2</th>\n",
       "      <td>2</td>\n",
       "      <td>0</td>\n",
       "      <td>2016-01-01 00:00:00</td>\n",
       "      <td>0.0</td>\n",
       "      <td>0</td>\n",
       "      <td>Education</td>\n",
       "      <td>5376</td>\n",
       "      <td>1991.0</td>\n",
       "      <td>25.0</td>\n",
       "      <td>20.0</td>\n",
       "      <td>0.6</td>\n",
       "      <td>1.1</td>\n",
       "    </tr>\n",
       "    <tr>\n",
       "      <th>3</th>\n",
       "      <td>3</td>\n",
       "      <td>0</td>\n",
       "      <td>2016-01-01 00:00:00</td>\n",
       "      <td>0.0</td>\n",
       "      <td>0</td>\n",
       "      <td>Education</td>\n",
       "      <td>23685</td>\n",
       "      <td>2002.0</td>\n",
       "      <td>25.0</td>\n",
       "      <td>20.0</td>\n",
       "      <td>0.6</td>\n",
       "      <td>1.1</td>\n",
       "    </tr>\n",
       "    <tr>\n",
       "      <th>4</th>\n",
       "      <td>4</td>\n",
       "      <td>0</td>\n",
       "      <td>2016-01-01 00:00:00</td>\n",
       "      <td>0.0</td>\n",
       "      <td>0</td>\n",
       "      <td>Education</td>\n",
       "      <td>116607</td>\n",
       "      <td>1975.0</td>\n",
       "      <td>25.0</td>\n",
       "      <td>20.0</td>\n",
       "      <td>0.6</td>\n",
       "      <td>1.1</td>\n",
       "    </tr>\n",
       "  </tbody>\n",
       "</table>\n",
       "</div>"
      ],
      "text/plain": [
       "   building_id  meter            timestamp  meter_reading  site_id  \\\n",
       "0            0      0  2016-01-01 00:00:00            0.0        0   \n",
       "1            1      0  2016-01-01 00:00:00            0.0        0   \n",
       "2            2      0  2016-01-01 00:00:00            0.0        0   \n",
       "3            3      0  2016-01-01 00:00:00            0.0        0   \n",
       "4            4      0  2016-01-01 00:00:00            0.0        0   \n",
       "\n",
       "  primary_use  square_feet  year_built  air_temperature  dew_temperature  \\\n",
       "0   Education         7432      2008.0             25.0             20.0   \n",
       "1   Education         2720      2004.0             25.0             20.0   \n",
       "2   Education         5376      1991.0             25.0             20.0   \n",
       "3   Education        23685      2002.0             25.0             20.0   \n",
       "4   Education       116607      1975.0             25.0             20.0   \n",
       "\n",
       "   PREVIOUS_DIFF_air_temperature  PREVIOUS_DIFF_dew_temperature  \n",
       "0                            0.6                            1.1  \n",
       "1                            0.6                            1.1  \n",
       "2                            0.6                            1.1  \n",
       "3                            0.6                            1.1  \n",
       "4                            0.6                            1.1  "
      ]
     },
     "execution_count": 15,
     "metadata": {},
     "output_type": "execute_result"
    }
   ],
   "source": [
    "train = train.merge(weather_train, on=['site_id', 'timestamp'], how='left')\n",
    "test = test.merge(weather_test, on=['site_id', 'timestamp'], how='left')\n",
    "\n",
    "print(train.shape)\n",
    "train.head()"
   ]
  },
  {
   "cell_type": "code",
   "execution_count": 16,
   "id": "genetic-coffee",
   "metadata": {
    "execution": {
     "iopub.execute_input": "2021-06-14T01:00:11.350520Z",
     "iopub.status.busy": "2021-06-14T01:00:11.349822Z",
     "iopub.status.idle": "2021-06-14T01:00:11.353855Z",
     "shell.execute_reply": "2021-06-14T01:00:11.354285Z",
     "shell.execute_reply.started": "2021-06-14T00:50:34.018524Z"
    },
    "papermill": {
     "duration": 0.201793,
     "end_time": "2021-06-14T01:00:11.354446",
     "exception": false,
     "start_time": "2021-06-14T01:00:11.152653",
     "status": "completed"
    },
    "tags": []
   },
   "outputs": [
    {
     "data": {
      "text/plain": [
       "40"
      ]
     },
     "execution_count": 16,
     "metadata": {},
     "output_type": "execute_result"
    }
   ],
   "source": [
    "del weather_train, weather_test\n",
    "gc.collect()"
   ]
  },
  {
   "cell_type": "code",
   "execution_count": 17,
   "id": "forced-afternoon",
   "metadata": {
    "execution": {
     "iopub.execute_input": "2021-06-14T01:00:11.498847Z",
     "iopub.status.busy": "2021-06-14T01:00:11.498201Z",
     "iopub.status.idle": "2021-06-14T01:00:11.501075Z",
     "shell.execute_reply": "2021-06-14T01:00:11.500559Z",
     "shell.execute_reply.started": "2021-06-14T00:50:34.139302Z"
    },
    "papermill": {
     "duration": 0.076777,
     "end_time": "2021-06-14T01:00:11.501228",
     "exception": false,
     "start_time": "2021-06-14T01:00:11.424451",
     "status": "completed"
    },
    "tags": []
   },
   "outputs": [],
   "source": [
    "# train = reduce_mem_usage(train)\n",
    "# test = reduce_mem_usage(test)"
   ]
  },
  {
   "cell_type": "code",
   "execution_count": 18,
   "id": "atlantic-wyoming",
   "metadata": {
    "execution": {
     "iopub.execute_input": "2021-06-14T01:00:11.646448Z",
     "iopub.status.busy": "2021-06-14T01:00:11.645845Z",
     "iopub.status.idle": "2021-06-14T01:00:13.635724Z",
     "shell.execute_reply": "2021-06-14T01:00:13.636379Z",
     "shell.execute_reply.started": "2021-06-14T00:50:34.152630Z"
    },
    "papermill": {
     "duration": 2.065102,
     "end_time": "2021-06-14T01:00:13.636574",
     "exception": false,
     "start_time": "2021-06-14T01:00:11.571472",
     "status": "completed"
    },
    "tags": []
   },
   "outputs": [],
   "source": [
    "train = train.reset_index(drop=True)\n",
    "test = test.reset_index(drop=True)"
   ]
  },
  {
   "cell_type": "code",
   "execution_count": 19,
   "id": "likely-ontario",
   "metadata": {
    "execution": {
     "iopub.execute_input": "2021-06-14T01:00:13.785022Z",
     "iopub.status.busy": "2021-06-14T01:00:13.784368Z",
     "iopub.status.idle": "2021-06-14T01:00:24.834986Z",
     "shell.execute_reply": "2021-06-14T01:00:24.835493Z",
     "shell.execute_reply.started": "2021-06-14T00:50:36.100099Z"
    },
    "papermill": {
     "duration": 11.126887,
     "end_time": "2021-06-14T01:00:24.835654",
     "exception": false,
     "start_time": "2021-06-14T01:00:13.708767",
     "status": "completed"
    },
    "tags": []
   },
   "outputs": [
    {
     "name": "stdout",
     "output_type": "stream",
     "text": [
      "2547230447\n",
      "5253899447\n"
     ]
    }
   ],
   "source": [
    "print(sys.getsizeof(train))\n",
    "print(sys.getsizeof(test))"
   ]
  },
  {
   "cell_type": "code",
   "execution_count": 20,
   "id": "negative-visiting",
   "metadata": {
    "execution": {
     "iopub.execute_input": "2021-06-14T01:00:24.987319Z",
     "iopub.status.busy": "2021-06-14T01:00:24.986655Z",
     "iopub.status.idle": "2021-06-14T01:00:24.990481Z",
     "shell.execute_reply": "2021-06-14T01:00:24.989954Z",
     "shell.execute_reply.started": "2021-06-14T00:50:40.716213Z"
    },
    "papermill": {
     "duration": 0.084078,
     "end_time": "2021-06-14T01:00:24.990609",
     "exception": false,
     "start_time": "2021-06-14T01:00:24.906531",
     "status": "completed"
    },
    "tags": []
   },
   "outputs": [
    {
     "data": {
      "text/plain": [
       "Index                                  128\n",
       "building_id                      161728800\n",
       "meter                            161728800\n",
       "timestamp                        161728800\n",
       "meter_reading                    161728800\n",
       "site_id                           20216100\n",
       "primary_use                       20216784\n",
       "square_feet                       80864400\n",
       "year_built                        80864400\n",
       "air_temperature                   80864400\n",
       "dew_temperature                   80864400\n",
       "PREVIOUS_DIFF_air_temperature     80864400\n",
       "PREVIOUS_DIFF_dew_temperature     80864400\n",
       "dtype: int64"
      ]
     },
     "execution_count": 20,
     "metadata": {},
     "output_type": "execute_result"
    }
   ],
   "source": [
    "train.memory_usage()"
   ]
  },
  {
   "cell_type": "code",
   "execution_count": 21,
   "id": "challenging-boxing",
   "metadata": {
    "execution": {
     "iopub.execute_input": "2021-06-14T01:00:25.138812Z",
     "iopub.status.busy": "2021-06-14T01:00:25.138188Z",
     "iopub.status.idle": "2021-06-14T01:00:25.143324Z",
     "shell.execute_reply": "2021-06-14T01:00:25.142879Z",
     "shell.execute_reply.started": "2021-06-14T00:50:40.731047Z"
    },
    "papermill": {
     "duration": 0.081895,
     "end_time": "2021-06-14T01:00:25.143455",
     "exception": false,
     "start_time": "2021-06-14T01:00:25.061560",
     "status": "completed"
    },
    "tags": []
   },
   "outputs": [
    {
     "data": {
      "text/plain": [
       "Index                                  128\n",
       "row_id                           333580800\n",
       "building_id                      333580800\n",
       "meter                            333580800\n",
       "timestamp                        333580800\n",
       "site_id                           41697600\n",
       "primary_use                       41698284\n",
       "square_feet                      166790400\n",
       "year_built                       166790400\n",
       "air_temperature                  166790400\n",
       "dew_temperature                  166790400\n",
       "PREVIOUS_DIFF_air_temperature    166790400\n",
       "PREVIOUS_DIFF_dew_temperature    166790400\n",
       "dtype: int64"
      ]
     },
     "execution_count": 21,
     "metadata": {},
     "output_type": "execute_result"
    }
   ],
   "source": [
    "test.memory_usage()"
   ]
  },
  {
   "cell_type": "code",
   "execution_count": 22,
   "id": "limited-culture",
   "metadata": {
    "execution": {
     "iopub.execute_input": "2021-06-14T01:00:25.304585Z",
     "iopub.status.busy": "2021-06-14T01:00:25.296895Z",
     "iopub.status.idle": "2021-06-14T01:00:25.309594Z",
     "shell.execute_reply": "2021-06-14T01:00:25.310064Z",
     "shell.execute_reply.started": "2021-06-14T00:50:40.745180Z"
    },
    "papermill": {
     "duration": 0.09533,
     "end_time": "2021-06-14T01:00:25.310230",
     "exception": false,
     "start_time": "2021-06-14T01:00:25.214900",
     "status": "completed"
    },
    "tags": []
   },
   "outputs": [
    {
     "name": "stdout",
     "output_type": "stream",
     "text": [
      "(20216100, 12)\n"
     ]
    },
    {
     "data": {
      "text/html": [
       "<div>\n",
       "<style scoped>\n",
       "    .dataframe tbody tr th:only-of-type {\n",
       "        vertical-align: middle;\n",
       "    }\n",
       "\n",
       "    .dataframe tbody tr th {\n",
       "        vertical-align: top;\n",
       "    }\n",
       "\n",
       "    .dataframe thead th {\n",
       "        text-align: right;\n",
       "    }\n",
       "</style>\n",
       "<table border=\"1\" class=\"dataframe\">\n",
       "  <thead>\n",
       "    <tr style=\"text-align: right;\">\n",
       "      <th></th>\n",
       "      <th>building_id</th>\n",
       "      <th>meter</th>\n",
       "      <th>timestamp</th>\n",
       "      <th>meter_reading</th>\n",
       "      <th>site_id</th>\n",
       "      <th>primary_use</th>\n",
       "      <th>square_feet</th>\n",
       "      <th>year_built</th>\n",
       "      <th>air_temperature</th>\n",
       "      <th>dew_temperature</th>\n",
       "      <th>PREVIOUS_DIFF_air_temperature</th>\n",
       "      <th>PREVIOUS_DIFF_dew_temperature</th>\n",
       "    </tr>\n",
       "  </thead>\n",
       "  <tbody>\n",
       "    <tr>\n",
       "      <th>0</th>\n",
       "      <td>0</td>\n",
       "      <td>0</td>\n",
       "      <td>2016-01-01 00:00:00</td>\n",
       "      <td>0.0</td>\n",
       "      <td>0</td>\n",
       "      <td>Education</td>\n",
       "      <td>7432</td>\n",
       "      <td>2008.0</td>\n",
       "      <td>25.0</td>\n",
       "      <td>20.0</td>\n",
       "      <td>0.6</td>\n",
       "      <td>1.1</td>\n",
       "    </tr>\n",
       "    <tr>\n",
       "      <th>1</th>\n",
       "      <td>1</td>\n",
       "      <td>0</td>\n",
       "      <td>2016-01-01 00:00:00</td>\n",
       "      <td>0.0</td>\n",
       "      <td>0</td>\n",
       "      <td>Education</td>\n",
       "      <td>2720</td>\n",
       "      <td>2004.0</td>\n",
       "      <td>25.0</td>\n",
       "      <td>20.0</td>\n",
       "      <td>0.6</td>\n",
       "      <td>1.1</td>\n",
       "    </tr>\n",
       "    <tr>\n",
       "      <th>2</th>\n",
       "      <td>2</td>\n",
       "      <td>0</td>\n",
       "      <td>2016-01-01 00:00:00</td>\n",
       "      <td>0.0</td>\n",
       "      <td>0</td>\n",
       "      <td>Education</td>\n",
       "      <td>5376</td>\n",
       "      <td>1991.0</td>\n",
       "      <td>25.0</td>\n",
       "      <td>20.0</td>\n",
       "      <td>0.6</td>\n",
       "      <td>1.1</td>\n",
       "    </tr>\n",
       "    <tr>\n",
       "      <th>3</th>\n",
       "      <td>3</td>\n",
       "      <td>0</td>\n",
       "      <td>2016-01-01 00:00:00</td>\n",
       "      <td>0.0</td>\n",
       "      <td>0</td>\n",
       "      <td>Education</td>\n",
       "      <td>23685</td>\n",
       "      <td>2002.0</td>\n",
       "      <td>25.0</td>\n",
       "      <td>20.0</td>\n",
       "      <td>0.6</td>\n",
       "      <td>1.1</td>\n",
       "    </tr>\n",
       "    <tr>\n",
       "      <th>4</th>\n",
       "      <td>4</td>\n",
       "      <td>0</td>\n",
       "      <td>2016-01-01 00:00:00</td>\n",
       "      <td>0.0</td>\n",
       "      <td>0</td>\n",
       "      <td>Education</td>\n",
       "      <td>116607</td>\n",
       "      <td>1975.0</td>\n",
       "      <td>25.0</td>\n",
       "      <td>20.0</td>\n",
       "      <td>0.6</td>\n",
       "      <td>1.1</td>\n",
       "    </tr>\n",
       "  </tbody>\n",
       "</table>\n",
       "</div>"
      ],
      "text/plain": [
       "   building_id  meter            timestamp  meter_reading  site_id  \\\n",
       "0            0      0  2016-01-01 00:00:00            0.0        0   \n",
       "1            1      0  2016-01-01 00:00:00            0.0        0   \n",
       "2            2      0  2016-01-01 00:00:00            0.0        0   \n",
       "3            3      0  2016-01-01 00:00:00            0.0        0   \n",
       "4            4      0  2016-01-01 00:00:00            0.0        0   \n",
       "\n",
       "  primary_use  square_feet  year_built  air_temperature  dew_temperature  \\\n",
       "0   Education         7432      2008.0             25.0             20.0   \n",
       "1   Education         2720      2004.0             25.0             20.0   \n",
       "2   Education         5376      1991.0             25.0             20.0   \n",
       "3   Education        23685      2002.0             25.0             20.0   \n",
       "4   Education       116607      1975.0             25.0             20.0   \n",
       "\n",
       "   PREVIOUS_DIFF_air_temperature  PREVIOUS_DIFF_dew_temperature  \n",
       "0                            0.6                            1.1  \n",
       "1                            0.6                            1.1  \n",
       "2                            0.6                            1.1  \n",
       "3                            0.6                            1.1  \n",
       "4                            0.6                            1.1  "
      ]
     },
     "execution_count": 22,
     "metadata": {},
     "output_type": "execute_result"
    }
   ],
   "source": [
    "print(train.shape)\n",
    "train.head()"
   ]
  },
  {
   "cell_type": "markdown",
   "id": "afraid-communication",
   "metadata": {
    "papermill": {
     "duration": 0.072226,
     "end_time": "2021-06-14T01:00:25.454650",
     "exception": false,
     "start_time": "2021-06-14T01:00:25.382424",
     "status": "completed"
    },
    "tags": []
   },
   "source": [
    "# Analytics"
   ]
  },
  {
   "cell_type": "code",
   "execution_count": 23,
   "id": "organizational-budget",
   "metadata": {
    "execution": {
     "iopub.execute_input": "2021-06-14T01:00:25.613817Z",
     "iopub.status.busy": "2021-06-14T01:00:25.613174Z",
     "iopub.status.idle": "2021-06-14T01:00:25.617597Z",
     "shell.execute_reply": "2021-06-14T01:00:25.617106Z",
     "shell.execute_reply.started": "2021-06-14T00:50:40.769585Z"
    },
    "papermill": {
     "duration": 0.090466,
     "end_time": "2021-06-14T01:00:25.617723",
     "exception": false,
     "start_time": "2021-06-14T01:00:25.527257",
     "status": "completed"
    },
    "tags": []
   },
   "outputs": [
    {
     "name": "stdout",
     "output_type": "stream",
     "text": [
      "<class 'pandas.core.frame.DataFrame'>\n",
      "RangeIndex: 20216100 entries, 0 to 20216099\n",
      "Data columns (total 12 columns):\n",
      " #   Column                         Dtype   \n",
      "---  ------                         -----   \n",
      " 0   building_id                    int64   \n",
      " 1   meter                          int64   \n",
      " 2   timestamp                      object  \n",
      " 3   meter_reading                  float64 \n",
      " 4   site_id                        int8    \n",
      " 5   primary_use                    category\n",
      " 6   square_feet                    int32   \n",
      " 7   year_built                     float32 \n",
      " 8   air_temperature                float32 \n",
      " 9   dew_temperature                float32 \n",
      " 10  PREVIOUS_DIFF_air_temperature  float32 \n",
      " 11  PREVIOUS_DIFF_dew_temperature  float32 \n",
      "dtypes: category(1), float32(5), float64(1), int32(1), int64(2), int8(1), object(1)\n",
      "memory usage: 1.1+ GB\n"
     ]
    }
   ],
   "source": [
    "train.info()"
   ]
  },
  {
   "cell_type": "code",
   "execution_count": 24,
   "id": "derived-sphere",
   "metadata": {
    "execution": {
     "iopub.execute_input": "2021-06-14T01:00:25.768843Z",
     "iopub.status.busy": "2021-06-14T01:00:25.767863Z",
     "iopub.status.idle": "2021-06-14T01:00:33.749672Z",
     "shell.execute_reply": "2021-06-14T01:00:33.748745Z",
     "shell.execute_reply.started": "2021-06-14T00:50:40.791092Z"
    },
    "papermill": {
     "duration": 8.059232,
     "end_time": "2021-06-14T01:00:33.749832",
     "exception": false,
     "start_time": "2021-06-14T01:00:25.690600",
     "status": "completed"
    },
    "tags": []
   },
   "outputs": [
    {
     "data": {
      "text/plain": [
       "building_id                         1449\n",
       "meter                                  4\n",
       "timestamp                           8784\n",
       "meter_reading                    1688175\n",
       "site_id                               16\n",
       "primary_use                           16\n",
       "square_feet                         1397\n",
       "year_built                           116\n",
       "air_temperature                      619\n",
       "dew_temperature                      522\n",
       "PREVIOUS_DIFF_air_temperature         88\n",
       "PREVIOUS_DIFF_dew_temperature         85\n",
       "dtype: int64"
      ]
     },
     "execution_count": 24,
     "metadata": {},
     "output_type": "execute_result"
    }
   ],
   "source": [
    "train.nunique()"
   ]
  },
  {
   "cell_type": "code",
   "execution_count": 25,
   "id": "static-house",
   "metadata": {
    "execution": {
     "iopub.execute_input": "2021-06-14T01:00:33.900084Z",
     "iopub.status.busy": "2021-06-14T01:00:33.899110Z",
     "iopub.status.idle": "2021-06-14T01:00:36.018897Z",
     "shell.execute_reply": "2021-06-14T01:00:36.018250Z",
     "shell.execute_reply.started": "2021-06-14T00:50:47.263658Z"
    },
    "papermill": {
     "duration": 2.196362,
     "end_time": "2021-06-14T01:00:36.019032",
     "exception": false,
     "start_time": "2021-06-14T01:00:33.822670",
     "status": "completed"
    },
    "tags": []
   },
   "outputs": [
    {
     "data": {
      "text/plain": [
       "building_id                             0\n",
       "meter                                   0\n",
       "timestamp                               0\n",
       "meter_reading                           0\n",
       "site_id                                 0\n",
       "primary_use                             0\n",
       "square_feet                             0\n",
       "year_built                       12127645\n",
       "air_temperature                     96658\n",
       "dew_temperature                    100140\n",
       "PREVIOUS_DIFF_air_temperature      103287\n",
       "PREVIOUS_DIFF_dew_temperature      109561\n",
       "dtype: int64"
      ]
     },
     "execution_count": 25,
     "metadata": {},
     "output_type": "execute_result"
    }
   ],
   "source": [
    "train.isnull().sum()"
   ]
  },
  {
   "cell_type": "code",
   "execution_count": 26,
   "id": "prescribed-wound",
   "metadata": {
    "execution": {
     "iopub.execute_input": "2021-06-14T01:00:36.171910Z",
     "iopub.status.busy": "2021-06-14T01:00:36.170664Z",
     "iopub.status.idle": "2021-06-14T01:00:42.737217Z",
     "shell.execute_reply": "2021-06-14T01:00:42.736703Z",
     "shell.execute_reply.started": "2021-06-14T00:50:48.304311Z"
    },
    "papermill": {
     "duration": 6.645241,
     "end_time": "2021-06-14T01:00:42.737358",
     "exception": false,
     "start_time": "2021-06-14T01:00:36.092117",
     "status": "completed"
    },
    "tags": []
   },
   "outputs": [
    {
     "data": {
      "text/html": [
       "<div>\n",
       "<style scoped>\n",
       "    .dataframe tbody tr th:only-of-type {\n",
       "        vertical-align: middle;\n",
       "    }\n",
       "\n",
       "    .dataframe tbody tr th {\n",
       "        vertical-align: top;\n",
       "    }\n",
       "\n",
       "    .dataframe thead th {\n",
       "        text-align: right;\n",
       "    }\n",
       "</style>\n",
       "<table border=\"1\" class=\"dataframe\">\n",
       "  <thead>\n",
       "    <tr style=\"text-align: right;\">\n",
       "      <th></th>\n",
       "      <th>building_id</th>\n",
       "      <th>meter</th>\n",
       "      <th>meter_reading</th>\n",
       "      <th>site_id</th>\n",
       "      <th>square_feet</th>\n",
       "      <th>year_built</th>\n",
       "      <th>air_temperature</th>\n",
       "      <th>dew_temperature</th>\n",
       "      <th>PREVIOUS_DIFF_air_temperature</th>\n",
       "      <th>PREVIOUS_DIFF_dew_temperature</th>\n",
       "    </tr>\n",
       "  </thead>\n",
       "  <tbody>\n",
       "    <tr>\n",
       "      <th>building_id</th>\n",
       "      <td>1.000000</td>\n",
       "      <td>0.222268</td>\n",
       "      <td>0.008761</td>\n",
       "      <td>0.980975</td>\n",
       "      <td>0.087704</td>\n",
       "      <td>-0.246150</td>\n",
       "      <td>-0.314149</td>\n",
       "      <td>-0.110091</td>\n",
       "      <td>-0.020921</td>\n",
       "      <td>-0.053756</td>\n",
       "    </tr>\n",
       "    <tr>\n",
       "      <th>meter</th>\n",
       "      <td>0.222268</td>\n",
       "      <td>1.000000</td>\n",
       "      <td>0.017672</td>\n",
       "      <td>0.253875</td>\n",
       "      <td>0.132708</td>\n",
       "      <td>-0.003798</td>\n",
       "      <td>-0.011159</td>\n",
       "      <td>-0.080445</td>\n",
       "      <td>0.030199</td>\n",
       "      <td>0.014938</td>\n",
       "    </tr>\n",
       "    <tr>\n",
       "      <th>meter_reading</th>\n",
       "      <td>0.008761</td>\n",
       "      <td>0.017672</td>\n",
       "      <td>1.000000</td>\n",
       "      <td>0.011897</td>\n",
       "      <td>0.024308</td>\n",
       "      <td>0.111837</td>\n",
       "      <td>-0.004132</td>\n",
       "      <td>-0.003330</td>\n",
       "      <td>-0.001116</td>\n",
       "      <td>-0.000967</td>\n",
       "    </tr>\n",
       "    <tr>\n",
       "      <th>site_id</th>\n",
       "      <td>0.980975</td>\n",
       "      <td>0.253875</td>\n",
       "      <td>0.011897</td>\n",
       "      <td>1.000000</td>\n",
       "      <td>0.090934</td>\n",
       "      <td>-0.212378</td>\n",
       "      <td>-0.307199</td>\n",
       "      <td>-0.135186</td>\n",
       "      <td>-0.015325</td>\n",
       "      <td>-0.046934</td>\n",
       "    </tr>\n",
       "    <tr>\n",
       "      <th>square_feet</th>\n",
       "      <td>0.087704</td>\n",
       "      <td>0.132708</td>\n",
       "      <td>0.024308</td>\n",
       "      <td>0.090934</td>\n",
       "      <td>1.000000</td>\n",
       "      <td>0.135717</td>\n",
       "      <td>-0.015665</td>\n",
       "      <td>-0.023385</td>\n",
       "      <td>0.001130</td>\n",
       "      <td>-0.007160</td>\n",
       "    </tr>\n",
       "    <tr>\n",
       "      <th>year_built</th>\n",
       "      <td>-0.246150</td>\n",
       "      <td>-0.003798</td>\n",
       "      <td>0.111837</td>\n",
       "      <td>-0.212378</td>\n",
       "      <td>0.135717</td>\n",
       "      <td>1.000000</td>\n",
       "      <td>0.174156</td>\n",
       "      <td>0.117523</td>\n",
       "      <td>0.030027</td>\n",
       "      <td>0.007051</td>\n",
       "    </tr>\n",
       "    <tr>\n",
       "      <th>air_temperature</th>\n",
       "      <td>-0.314149</td>\n",
       "      <td>-0.011159</td>\n",
       "      <td>-0.004132</td>\n",
       "      <td>-0.307199</td>\n",
       "      <td>-0.015665</td>\n",
       "      <td>0.174156</td>\n",
       "      <td>1.000000</td>\n",
       "      <td>0.750640</td>\n",
       "      <td>0.135334</td>\n",
       "      <td>0.051859</td>\n",
       "    </tr>\n",
       "    <tr>\n",
       "      <th>dew_temperature</th>\n",
       "      <td>-0.110091</td>\n",
       "      <td>-0.080445</td>\n",
       "      <td>-0.003330</td>\n",
       "      <td>-0.135186</td>\n",
       "      <td>-0.023385</td>\n",
       "      <td>0.117523</td>\n",
       "      <td>0.750640</td>\n",
       "      <td>1.000000</td>\n",
       "      <td>0.019573</td>\n",
       "      <td>-0.100071</td>\n",
       "    </tr>\n",
       "    <tr>\n",
       "      <th>PREVIOUS_DIFF_air_temperature</th>\n",
       "      <td>-0.020921</td>\n",
       "      <td>0.030199</td>\n",
       "      <td>-0.001116</td>\n",
       "      <td>-0.015325</td>\n",
       "      <td>0.001130</td>\n",
       "      <td>0.030027</td>\n",
       "      <td>0.135334</td>\n",
       "      <td>0.019573</td>\n",
       "      <td>1.000000</td>\n",
       "      <td>0.321456</td>\n",
       "    </tr>\n",
       "    <tr>\n",
       "      <th>PREVIOUS_DIFF_dew_temperature</th>\n",
       "      <td>-0.053756</td>\n",
       "      <td>0.014938</td>\n",
       "      <td>-0.000967</td>\n",
       "      <td>-0.046934</td>\n",
       "      <td>-0.007160</td>\n",
       "      <td>0.007051</td>\n",
       "      <td>0.051859</td>\n",
       "      <td>-0.100071</td>\n",
       "      <td>0.321456</td>\n",
       "      <td>1.000000</td>\n",
       "    </tr>\n",
       "  </tbody>\n",
       "</table>\n",
       "</div>"
      ],
      "text/plain": [
       "                               building_id     meter  meter_reading   site_id  \\\n",
       "building_id                       1.000000  0.222268       0.008761  0.980975   \n",
       "meter                             0.222268  1.000000       0.017672  0.253875   \n",
       "meter_reading                     0.008761  0.017672       1.000000  0.011897   \n",
       "site_id                           0.980975  0.253875       0.011897  1.000000   \n",
       "square_feet                       0.087704  0.132708       0.024308  0.090934   \n",
       "year_built                       -0.246150 -0.003798       0.111837 -0.212378   \n",
       "air_temperature                  -0.314149 -0.011159      -0.004132 -0.307199   \n",
       "dew_temperature                  -0.110091 -0.080445      -0.003330 -0.135186   \n",
       "PREVIOUS_DIFF_air_temperature    -0.020921  0.030199      -0.001116 -0.015325   \n",
       "PREVIOUS_DIFF_dew_temperature    -0.053756  0.014938      -0.000967 -0.046934   \n",
       "\n",
       "                               square_feet  year_built  air_temperature  \\\n",
       "building_id                       0.087704   -0.246150        -0.314149   \n",
       "meter                             0.132708   -0.003798        -0.011159   \n",
       "meter_reading                     0.024308    0.111837        -0.004132   \n",
       "site_id                           0.090934   -0.212378        -0.307199   \n",
       "square_feet                       1.000000    0.135717        -0.015665   \n",
       "year_built                        0.135717    1.000000         0.174156   \n",
       "air_temperature                  -0.015665    0.174156         1.000000   \n",
       "dew_temperature                  -0.023385    0.117523         0.750640   \n",
       "PREVIOUS_DIFF_air_temperature     0.001130    0.030027         0.135334   \n",
       "PREVIOUS_DIFF_dew_temperature    -0.007160    0.007051         0.051859   \n",
       "\n",
       "                               dew_temperature  PREVIOUS_DIFF_air_temperature  \\\n",
       "building_id                          -0.110091                      -0.020921   \n",
       "meter                                -0.080445                       0.030199   \n",
       "meter_reading                        -0.003330                      -0.001116   \n",
       "site_id                              -0.135186                      -0.015325   \n",
       "square_feet                          -0.023385                       0.001130   \n",
       "year_built                            0.117523                       0.030027   \n",
       "air_temperature                       0.750640                       0.135334   \n",
       "dew_temperature                       1.000000                       0.019573   \n",
       "PREVIOUS_DIFF_air_temperature         0.019573                       1.000000   \n",
       "PREVIOUS_DIFF_dew_temperature        -0.100071                       0.321456   \n",
       "\n",
       "                               PREVIOUS_DIFF_dew_temperature  \n",
       "building_id                                        -0.053756  \n",
       "meter                                               0.014938  \n",
       "meter_reading                                      -0.000967  \n",
       "site_id                                            -0.046934  \n",
       "square_feet                                        -0.007160  \n",
       "year_built                                          0.007051  \n",
       "air_temperature                                     0.051859  \n",
       "dew_temperature                                    -0.100071  \n",
       "PREVIOUS_DIFF_air_temperature                       0.321456  \n",
       "PREVIOUS_DIFF_dew_temperature                       1.000000  "
      ]
     },
     "execution_count": 26,
     "metadata": {},
     "output_type": "execute_result"
    }
   ],
   "source": [
    "train.corr()"
   ]
  },
  {
   "cell_type": "markdown",
   "id": "modern-advice",
   "metadata": {
    "execution": {
     "iopub.execute_input": "2021-06-09T04:35:08.004653Z",
     "iopub.status.busy": "2021-06-09T04:35:08.004275Z",
     "iopub.status.idle": "2021-06-09T04:35:08.008716Z",
     "shell.execute_reply": "2021-06-09T04:35:08.007602Z",
     "shell.execute_reply.started": "2021-06-09T04:35:08.004621Z"
    },
    "papermill": {
     "duration": 0.074184,
     "end_time": "2021-06-14T01:00:42.885286",
     "exception": false,
     "start_time": "2021-06-14T01:00:42.811102",
     "status": "completed"
    },
    "tags": []
   },
   "source": [
    "# Visualization"
   ]
  },
  {
   "cell_type": "code",
   "execution_count": 27,
   "id": "aquatic-withdrawal",
   "metadata": {
    "execution": {
     "iopub.execute_input": "2021-06-14T01:00:43.039048Z",
     "iopub.status.busy": "2021-06-14T01:00:43.038116Z",
     "iopub.status.idle": "2021-06-14T01:00:43.041208Z",
     "shell.execute_reply": "2021-06-14T01:00:43.040716Z",
     "shell.execute_reply.started": "2021-06-14T00:50:54.591532Z"
    },
    "papermill": {
     "duration": 0.082137,
     "end_time": "2021-06-14T01:00:43.041358",
     "exception": false,
     "start_time": "2021-06-14T01:00:42.959221",
     "status": "completed"
    },
    "tags": []
   },
   "outputs": [],
   "source": [
    "sns.set()"
   ]
  },
  {
   "cell_type": "code",
   "execution_count": 28,
   "id": "mental-generation",
   "metadata": {
    "execution": {
     "iopub.execute_input": "2021-06-14T01:00:43.194138Z",
     "iopub.status.busy": "2021-06-14T01:00:43.193509Z",
     "iopub.status.idle": "2021-06-14T01:00:55.583690Z",
     "shell.execute_reply": "2021-06-14T01:00:55.584253Z",
     "shell.execute_reply.started": "2021-06-14T00:50:54.598176Z"
    },
    "papermill": {
     "duration": 12.46849,
     "end_time": "2021-06-14T01:00:55.584437",
     "exception": false,
     "start_time": "2021-06-14T01:00:43.115947",
     "status": "completed"
    },
    "tags": []
   },
   "outputs": [],
   "source": [
    "train['timestamp'] = pd.to_datetime(train['timestamp'])\n",
    "test['timestamp'] = pd.to_datetime(test['timestamp'])"
   ]
  },
  {
   "cell_type": "code",
   "execution_count": 29,
   "id": "outdoor-possibility",
   "metadata": {
    "execution": {
     "iopub.execute_input": "2021-06-14T01:00:55.735759Z",
     "iopub.status.busy": "2021-06-14T01:00:55.735122Z",
     "iopub.status.idle": "2021-06-14T01:00:58.280118Z",
     "shell.execute_reply": "2021-06-14T01:00:58.279537Z",
     "shell.execute_reply.started": "2021-06-14T00:51:03.247957Z"
    },
    "papermill": {
     "duration": 2.621544,
     "end_time": "2021-06-14T01:00:58.280254",
     "exception": false,
     "start_time": "2021-06-14T01:00:55.658710",
     "status": "completed"
    },
    "tags": []
   },
   "outputs": [
    {
     "data": {
      "text/plain": [
       "<matplotlib.legend.Legend at 0x7f655b9327d0>"
      ]
     },
     "execution_count": 29,
     "metadata": {},
     "output_type": "execute_result"
    },
    {
     "data": {
      "image/png": "[encoded data removed]",
      "text/plain": [
       "<Figure size 576x288 with 1 Axes>"
      ]
     },
     "metadata": {},
     "output_type": "display_data"
    }
   ],
   "source": [
    "fig, axes = plt.subplots(figsize=(8, 4))\n",
    "train[['timestamp', 'meter_reading']].set_index('timestamp').resample('H').mean()['meter_reading'].plot(ax=axes, label='hour', alpha=0.8).set_ylabel('Meter reading', fontsize=14)\n",
    "train[['timestamp', 'meter_reading']].set_index('timestamp').resample('D').mean()['meter_reading'].plot(ax=axes, label='day', alpha=0.8).set_ylabel('Meter reading', fontsize=14)\n",
    "axes.legend()"
   ]
  },
  {
   "cell_type": "code",
   "execution_count": 30,
   "id": "massive-drill",
   "metadata": {
    "execution": {
     "iopub.execute_input": "2021-06-14T01:00:58.635338Z",
     "iopub.status.busy": "2021-06-14T01:00:58.633888Z",
     "iopub.status.idle": "2021-06-14T01:01:00.487550Z",
     "shell.execute_reply": "2021-06-14T01:01:00.486985Z",
     "shell.execute_reply.started": "2021-06-14T00:51:05.628274Z"
    },
    "papermill": {
     "duration": 2.130376,
     "end_time": "2021-06-14T01:01:00.487704",
     "exception": false,
     "start_time": "2021-06-14T01:00:58.357328",
     "status": "completed"
    },
    "tags": []
   },
   "outputs": [
    {
     "data": {
      "text/plain": [
       "<matplotlib.legend.Legend at 0x7f655ae31390>"
      ]
     },
     "execution_count": 30,
     "metadata": {},
     "output_type": "execute_result"
    },
    {
     "data": {
      "image/png": "[encoded data removed]",
      "text/plain": [
       "<Figure size 576x288 with 1 Axes>"
      ]
     },
     "metadata": {},
     "output_type": "display_data"
    }
   ],
   "source": [
    "fig, axes = plt.subplots(figsize=(8, 4))\n",
    "train[['timestamp', 'meter_reading']].set_index('timestamp').resample('W').mean()['meter_reading'].plot(ax=axes, label='week', alpha=1).set_ylabel('Meter reading', fontsize=14)\n",
    "train[['timestamp', 'meter_reading']].set_index('timestamp').resample('M').mean()['meter_reading'].plot(ax=axes, label='month', alpha=1).set_ylabel('Meter reading', fontsize=14)\n",
    "axes.legend()"
   ]
  },
  {
   "cell_type": "markdown",
   "id": "minor-rendering",
   "metadata": {
    "papermill": {
     "duration": 0.077693,
     "end_time": "2021-06-14T01:01:00.644201",
     "exception": false,
     "start_time": "2021-06-14T01:01:00.566508",
     "status": "completed"
    },
    "tags": []
   },
   "source": [
    "# Outliers"
   ]
  },
  {
   "cell_type": "code",
   "execution_count": 31,
   "id": "legal-progress",
   "metadata": {
    "execution": {
     "iopub.execute_input": "2021-06-14T01:01:00.809675Z",
     "iopub.status.busy": "2021-06-14T01:01:00.808568Z",
     "iopub.status.idle": "2021-06-14T01:01:00.812343Z",
     "shell.execute_reply": "2021-06-14T01:01:00.811678Z",
     "shell.execute_reply.started": "2021-06-14T00:51:07.579719Z"
    },
    "papermill": {
     "duration": 0.090186,
     "end_time": "2021-06-14T01:01:00.812496",
     "exception": false,
     "start_time": "2021-06-14T01:01:00.722310",
     "status": "completed"
    },
    "tags": []
   },
   "outputs": [],
   "source": [
    "def to_season(month_num):\n",
    "    season = 'winter'\n",
    "    if 3 <= month_num <= 5:\n",
    "        season = 'spring'\n",
    "    elif 6 <= month_num <= 8:\n",
    "        season = 'summer'\n",
    "    elif 9 <= month_num <= 11:\n",
    "        season = 'autumn'\n",
    "    return season"
   ]
  },
  {
   "cell_type": "code",
   "execution_count": 32,
   "id": "demonstrated-carter",
   "metadata": {
    "execution": {
     "iopub.execute_input": "2021-06-14T01:01:00.975712Z",
     "iopub.status.busy": "2021-06-14T01:01:00.975049Z",
     "iopub.status.idle": "2021-06-14T01:01:14.250632Z",
     "shell.execute_reply": "2021-06-14T01:01:14.251269Z",
     "shell.execute_reply.started": "2021-06-14T00:51:07.585427Z"
    },
    "papermill": {
     "duration": 13.36043,
     "end_time": "2021-06-14T01:01:14.251473",
     "exception": false,
     "start_time": "2021-06-14T01:01:00.891043",
     "status": "completed"
    },
    "tags": []
   },
   "outputs": [],
   "source": [
    "train['month'] = train['timestamp'].dt.month\n",
    "train['season'] = train['month'].apply(lambda x: to_season(x))"
   ]
  },
  {
   "cell_type": "code",
   "execution_count": 33,
   "id": "alpine-produce",
   "metadata": {
    "execution": {
     "iopub.execute_input": "2021-06-14T01:01:14.411949Z",
     "iopub.status.busy": "2021-06-14T01:01:14.411242Z",
     "iopub.status.idle": "2021-06-14T01:01:16.805061Z",
     "shell.execute_reply": "2021-06-14T01:01:16.804408Z",
     "shell.execute_reply.started": "2021-06-14T00:51:15.344206Z"
    },
    "papermill": {
     "duration": 2.474979,
     "end_time": "2021-06-14T01:01:16.805210",
     "exception": false,
     "start_time": "2021-06-14T01:01:14.330231",
     "status": "completed"
    },
    "tags": []
   },
   "outputs": [],
   "source": [
    "train = train.drop(train[(train['meter'] == 0) & (train['meter_reading'] == 0)].index, axis=0)"
   ]
  },
  {
   "cell_type": "code",
   "execution_count": 34,
   "id": "swiss-stanford",
   "metadata": {
    "execution": {
     "iopub.execute_input": "2021-06-14T01:01:16.969905Z",
     "iopub.status.busy": "2021-06-14T01:01:16.968807Z",
     "iopub.status.idle": "2021-06-14T01:01:37.017197Z",
     "shell.execute_reply": "2021-06-14T01:01:37.016638Z",
     "shell.execute_reply.started": "2021-06-14T00:51:17.626804Z"
    },
    "papermill": {
     "duration": 20.134229,
     "end_time": "2021-06-14T01:01:37.017345",
     "exception": false,
     "start_time": "2021-06-14T01:01:16.883116",
     "status": "completed"
    },
    "tags": []
   },
   "outputs": [],
   "source": [
    "train = train.drop(train[(train['meter'] == 1) & (train['meter_reading'] == 0) & (train['season'] == 'spring')].index, axis=0)\n",
    "train = train.drop(train[(train['meter'] == 1) & (train['meter_reading'] == 0) & (train['season'] == 'summer')].index, axis=0)\n",
    "train = train.drop(train[(train['meter'] == 1) & (train['meter_reading'] == 0) & (train['season'] == 'autumn')].index, axis=0)"
   ]
  },
  {
   "cell_type": "code",
   "execution_count": 35,
   "id": "presidential-shopper",
   "metadata": {
    "execution": {
     "iopub.execute_input": "2021-06-14T01:01:37.180680Z",
     "iopub.status.busy": "2021-06-14T01:01:37.180042Z",
     "iopub.status.idle": "2021-06-14T01:01:56.786816Z",
     "shell.execute_reply": "2021-06-14T01:01:56.786132Z",
     "shell.execute_reply.started": "2021-06-14T00:51:32.089258Z"
    },
    "papermill": {
     "duration": 19.691712,
     "end_time": "2021-06-14T01:01:56.786979",
     "exception": false,
     "start_time": "2021-06-14T01:01:37.095267",
     "status": "completed"
    },
    "tags": []
   },
   "outputs": [],
   "source": [
    "train = train.drop(train[(train['meter'] == 2) & (train['meter_reading'] == 0) & (train['season'] == 'spring')].index, axis=0)\n",
    "train = train.drop(train[(train['meter'] == 2) & (train['meter_reading'] == 0) & (train['season'] == 'autumn')].index, axis=0)\n",
    "train = train.drop(train[(train['meter'] == 2) & (train['meter_reading'] == 0) & (train['season'] == 'winter')].index, axis=0)"
   ]
  },
  {
   "cell_type": "code",
   "execution_count": 36,
   "id": "sharp-recognition",
   "metadata": {
    "execution": {
     "iopub.execute_input": "2021-06-14T01:01:56.949284Z",
     "iopub.status.busy": "2021-06-14T01:01:56.948637Z",
     "iopub.status.idle": "2021-06-14T01:02:15.915347Z",
     "shell.execute_reply": "2021-06-14T01:02:15.914765Z",
     "shell.execute_reply.started": "2021-06-14T00:51:46.344577Z"
    },
    "papermill": {
     "duration": 19.05084,
     "end_time": "2021-06-14T01:02:15.915486",
     "exception": false,
     "start_time": "2021-06-14T01:01:56.864646",
     "status": "completed"
    },
    "tags": []
   },
   "outputs": [],
   "source": [
    "train = train.drop(train[(train['meter'] == 3) & (train['meter_reading'] == 0) & (train['season'] == 'spring')].index, axis=0)\n",
    "train = train.drop(train[(train['meter'] == 3) & (train['meter_reading'] == 0) & (train['season'] == 'autumn')].index, axis=0)\n",
    "train = train.drop(train[(train['meter'] == 3) & (train['meter_reading'] == 0) & (train['season'] == 'winter')].index, axis=0)"
   ]
  },
  {
   "cell_type": "code",
   "execution_count": 37,
   "id": "painful-challenge",
   "metadata": {
    "execution": {
     "iopub.execute_input": "2021-06-14T01:02:16.623627Z",
     "iopub.status.busy": "2021-06-14T01:02:16.486341Z",
     "iopub.status.idle": "2021-06-14T01:02:19.439001Z",
     "shell.execute_reply": "2021-06-14T01:02:19.438394Z",
     "shell.execute_reply.started": "2021-06-14T00:52:00.417177Z"
    },
    "papermill": {
     "duration": 3.44495,
     "end_time": "2021-06-14T01:02:19.439151",
     "exception": false,
     "start_time": "2021-06-14T01:02:15.994201",
     "status": "completed"
    },
    "tags": []
   },
   "outputs": [
    {
     "name": "stdout",
     "output_type": "stream",
     "text": [
      "Memory usage of dataframe is 1186.99 MB\n",
      "Memory usage after optimization is: 755.36 MB\n",
      "Decreased by 36.4%\n"
     ]
    }
   ],
   "source": [
    "train = train.drop('season', axis=1).reset_index(drop=True)\n",
    "gc.collect()\n",
    "\n",
    "train = reduce_mem_usage(train)"
   ]
  },
  {
   "cell_type": "code",
   "execution_count": 38,
   "id": "owned-specific",
   "metadata": {
    "execution": {
     "iopub.execute_input": "2021-06-14T01:02:19.617765Z",
     "iopub.status.busy": "2021-06-14T01:02:19.616680Z",
     "iopub.status.idle": "2021-06-14T01:02:19.621866Z",
     "shell.execute_reply": "2021-06-14T01:02:19.622310Z",
     "shell.execute_reply.started": "2021-06-14T00:52:03.420611Z"
    },
    "papermill": {
     "duration": 0.104997,
     "end_time": "2021-06-14T01:02:19.622502",
     "exception": false,
     "start_time": "2021-06-14T01:02:19.517505",
     "status": "completed"
    },
    "tags": []
   },
   "outputs": [
    {
     "name": "stdout",
     "output_type": "stream",
     "text": [
      "(18858379, 13)\n"
     ]
    },
    {
     "data": {
      "text/html": [
       "<div>\n",
       "<style scoped>\n",
       "    .dataframe tbody tr th:only-of-type {\n",
       "        vertical-align: middle;\n",
       "    }\n",
       "\n",
       "    .dataframe tbody tr th {\n",
       "        vertical-align: top;\n",
       "    }\n",
       "\n",
       "    .dataframe thead th {\n",
       "        text-align: right;\n",
       "    }\n",
       "</style>\n",
       "<table border=\"1\" class=\"dataframe\">\n",
       "  <thead>\n",
       "    <tr style=\"text-align: right;\">\n",
       "      <th></th>\n",
       "      <th>building_id</th>\n",
       "      <th>meter</th>\n",
       "      <th>timestamp</th>\n",
       "      <th>meter_reading</th>\n",
       "      <th>site_id</th>\n",
       "      <th>primary_use</th>\n",
       "      <th>square_feet</th>\n",
       "      <th>year_built</th>\n",
       "      <th>air_temperature</th>\n",
       "      <th>dew_temperature</th>\n",
       "      <th>PREVIOUS_DIFF_air_temperature</th>\n",
       "      <th>PREVIOUS_DIFF_dew_temperature</th>\n",
       "      <th>month</th>\n",
       "    </tr>\n",
       "  </thead>\n",
       "  <tbody>\n",
       "    <tr>\n",
       "      <th>0</th>\n",
       "      <td>46</td>\n",
       "      <td>0</td>\n",
       "      <td>2016-01-01</td>\n",
       "      <td>53.239700</td>\n",
       "      <td>0</td>\n",
       "      <td>Retail</td>\n",
       "      <td>9045</td>\n",
       "      <td>2016.0</td>\n",
       "      <td>25.0</td>\n",
       "      <td>20.0</td>\n",
       "      <td>0.6</td>\n",
       "      <td>1.1</td>\n",
       "      <td>1</td>\n",
       "    </tr>\n",
       "    <tr>\n",
       "      <th>1</th>\n",
       "      <td>74</td>\n",
       "      <td>0</td>\n",
       "      <td>2016-01-01</td>\n",
       "      <td>43.001301</td>\n",
       "      <td>0</td>\n",
       "      <td>Parking</td>\n",
       "      <td>387638</td>\n",
       "      <td>1997.0</td>\n",
       "      <td>25.0</td>\n",
       "      <td>20.0</td>\n",
       "      <td>0.6</td>\n",
       "      <td>1.1</td>\n",
       "      <td>1</td>\n",
       "    </tr>\n",
       "    <tr>\n",
       "      <th>2</th>\n",
       "      <td>93</td>\n",
       "      <td>0</td>\n",
       "      <td>2016-01-01</td>\n",
       "      <td>52.420601</td>\n",
       "      <td>0</td>\n",
       "      <td>Office</td>\n",
       "      <td>33370</td>\n",
       "      <td>1982.0</td>\n",
       "      <td>25.0</td>\n",
       "      <td>20.0</td>\n",
       "      <td>0.6</td>\n",
       "      <td>1.1</td>\n",
       "      <td>1</td>\n",
       "    </tr>\n",
       "    <tr>\n",
       "      <th>3</th>\n",
       "      <td>105</td>\n",
       "      <td>0</td>\n",
       "      <td>2016-01-01</td>\n",
       "      <td>23.303600</td>\n",
       "      <td>1</td>\n",
       "      <td>Education</td>\n",
       "      <td>50623</td>\n",
       "      <td>NaN</td>\n",
       "      <td>3.8</td>\n",
       "      <td>2.4</td>\n",
       "      <td>0.1</td>\n",
       "      <td>0.0</td>\n",
       "      <td>1</td>\n",
       "    </tr>\n",
       "    <tr>\n",
       "      <th>4</th>\n",
       "      <td>106</td>\n",
       "      <td>0</td>\n",
       "      <td>2016-01-01</td>\n",
       "      <td>0.374600</td>\n",
       "      <td>1</td>\n",
       "      <td>Education</td>\n",
       "      <td>5374</td>\n",
       "      <td>NaN</td>\n",
       "      <td>3.8</td>\n",
       "      <td>2.4</td>\n",
       "      <td>0.1</td>\n",
       "      <td>0.0</td>\n",
       "      <td>1</td>\n",
       "    </tr>\n",
       "  </tbody>\n",
       "</table>\n",
       "</div>"
      ],
      "text/plain": [
       "   building_id  meter  timestamp  meter_reading  site_id primary_use  \\\n",
       "0           46      0 2016-01-01      53.239700        0      Retail   \n",
       "1           74      0 2016-01-01      43.001301        0     Parking   \n",
       "2           93      0 2016-01-01      52.420601        0      Office   \n",
       "3          105      0 2016-01-01      23.303600        1   Education   \n",
       "4          106      0 2016-01-01       0.374600        1   Education   \n",
       "\n",
       "   square_feet  year_built  air_temperature  dew_temperature  \\\n",
       "0         9045      2016.0             25.0             20.0   \n",
       "1       387638      1997.0             25.0             20.0   \n",
       "2        33370      1982.0             25.0             20.0   \n",
       "3        50623         NaN              3.8              2.4   \n",
       "4         5374         NaN              3.8              2.4   \n",
       "\n",
       "   PREVIOUS_DIFF_air_temperature  PREVIOUS_DIFF_dew_temperature  month  \n",
       "0                            0.6                            1.1      1  \n",
       "1                            0.6                            1.1      1  \n",
       "2                            0.6                            1.1      1  \n",
       "3                            0.1                            0.0      1  \n",
       "4                            0.1                            0.0      1  "
      ]
     },
     "execution_count": 38,
     "metadata": {},
     "output_type": "execute_result"
    }
   ],
   "source": [
    "print(train.shape)\n",
    "train.head()"
   ]
  },
  {
   "cell_type": "markdown",
   "id": "settled-agreement",
   "metadata": {
    "papermill": {
     "duration": 0.080924,
     "end_time": "2021-06-14T01:02:19.783865",
     "exception": false,
     "start_time": "2021-06-14T01:02:19.702941",
     "status": "completed"
    },
    "tags": []
   },
   "source": [
    "# Feature Engineering"
   ]
  },
  {
   "cell_type": "code",
   "execution_count": 39,
   "id": "rubber-sector",
   "metadata": {
    "execution": {
     "iopub.execute_input": "2021-06-14T01:02:19.952479Z",
     "iopub.status.busy": "2021-06-14T01:02:19.951482Z",
     "iopub.status.idle": "2021-06-14T01:02:21.783312Z",
     "shell.execute_reply": "2021-06-14T01:02:21.782574Z",
     "shell.execute_reply.started": "2021-06-14T00:52:03.440250Z"
    },
    "papermill": {
     "duration": 1.91758,
     "end_time": "2021-06-14T01:02:21.783479",
     "exception": false,
     "start_time": "2021-06-14T01:02:19.865899",
     "status": "completed"
    },
    "tags": []
   },
   "outputs": [],
   "source": [
    "train['hour'] = train['timestamp'].dt.hour\n",
    "#train['day'] = train['timestamp'].dt.day\n",
    "#train['weekend'] = train['timestamp'].dt.weekday"
   ]
  },
  {
   "cell_type": "code",
   "execution_count": 40,
   "id": "heard-recommendation",
   "metadata": {
    "execution": {
     "iopub.execute_input": "2021-06-14T01:02:21.954912Z",
     "iopub.status.busy": "2021-06-14T01:02:21.953100Z",
     "iopub.status.idle": "2021-06-14T01:02:25.440141Z",
     "shell.execute_reply": "2021-06-14T01:02:25.439487Z",
     "shell.execute_reply.started": "2021-06-14T00:52:05.079840Z"
    },
    "papermill": {
     "duration": 3.57492,
     "end_time": "2021-06-14T01:02:25.440308",
     "exception": false,
     "start_time": "2021-06-14T01:02:21.865388",
     "status": "completed"
    },
    "tags": []
   },
   "outputs": [
    {
     "name": "stdout",
     "output_type": "stream",
     "text": [
      "Memory usage of dataframe is 737.38 MB\n",
      "Memory usage after optimization is: 611.48 MB\n",
      "Decreased by 17.1%\n"
     ]
    }
   ],
   "source": [
    "train = train.drop(['timestamp', 'site_id'], axis=1)\n",
    "gc.collect()\n",
    "\n",
    "train = reduce_mem_usage(train)"
   ]
  },
  {
   "cell_type": "code",
   "execution_count": 41,
   "id": "apart-resident",
   "metadata": {
    "execution": {
     "iopub.execute_input": "2021-06-14T01:02:25.606234Z",
     "iopub.status.busy": "2021-06-14T01:02:25.605619Z",
     "iopub.status.idle": "2021-06-14T01:02:26.778199Z",
     "shell.execute_reply": "2021-06-14T01:02:26.777660Z",
     "shell.execute_reply.started": "2021-06-14T00:52:07.595628Z"
    },
    "papermill": {
     "duration": 1.257821,
     "end_time": "2021-06-14T01:02:26.778353",
     "exception": false,
     "start_time": "2021-06-14T01:02:25.520532",
     "status": "completed"
    },
    "tags": []
   },
   "outputs": [],
   "source": [
    "df_group = train.groupby('building_id')['meter_reading']\n",
    "\n",
    "building_mean = df_group.mean()\n",
    "building_median = df_group.median()\n",
    "building_std = df_group.std()\n",
    "\n",
    "# building_min = df_group.min()\n",
    "# building_max = df_group.max()"
   ]
  },
  {
   "cell_type": "code",
   "execution_count": 42,
   "id": "disciplinary-cologne",
   "metadata": {
    "execution": {
     "iopub.execute_input": "2021-06-14T01:02:26.946829Z",
     "iopub.status.busy": "2021-06-14T01:02:26.945458Z",
     "iopub.status.idle": "2021-06-14T01:02:27.930027Z",
     "shell.execute_reply": "2021-06-14T01:02:27.929401Z",
     "shell.execute_reply.started": "2021-06-14T00:52:08.847910Z"
    },
    "papermill": {
     "duration": 1.0723,
     "end_time": "2021-06-14T01:02:27.930196",
     "exception": false,
     "start_time": "2021-06-14T01:02:26.857896",
     "status": "completed"
    },
    "tags": []
   },
   "outputs": [],
   "source": [
    "train['building_mean'] = train['building_id'].map(building_mean)\n",
    "train['building_median'] = train['building_id'].map(building_median)\n",
    "train['building_std'] = train['building_id'].map(building_std)\n",
    "\n",
    "# train['building_min'] = train['building_id'].map(building_min)\n",
    "# train['building_max'] = train['building_id'].map(building_max)"
   ]
  },
  {
   "cell_type": "code",
   "execution_count": 43,
   "id": "historical-lebanon",
   "metadata": {
    "execution": {
     "iopub.execute_input": "2021-06-14T01:02:28.250985Z",
     "iopub.status.busy": "2021-06-14T01:02:28.250069Z",
     "iopub.status.idle": "2021-06-14T01:02:30.657141Z",
     "shell.execute_reply": "2021-06-14T01:02:30.657938Z",
     "shell.execute_reply.started": "2021-06-14T00:52:09.579794Z"
    },
    "papermill": {
     "duration": 2.646248,
     "end_time": "2021-06-14T01:02:30.658183",
     "exception": false,
     "start_time": "2021-06-14T01:02:28.011935",
     "status": "completed"
    },
    "tags": []
   },
   "outputs": [
    {
     "name": "stdout",
     "output_type": "stream",
     "text": [
      "Memory usage of dataframe is 899.24 MB\n",
      "Memory usage after optimization is: 827.30 MB\n",
      "Decreased by 8.0%\n"
     ]
    }
   ],
   "source": [
    "del df_group\n",
    "gc.collect()\n",
    "\n",
    "train = reduce_mem_usage(train)"
   ]
  },
  {
   "cell_type": "code",
   "execution_count": 44,
   "id": "built-apparatus",
   "metadata": {
    "execution": {
     "iopub.execute_input": "2021-06-14T01:02:30.842493Z",
     "iopub.status.busy": "2021-06-14T01:02:30.841208Z",
     "iopub.status.idle": "2021-06-14T01:02:30.847734Z",
     "shell.execute_reply": "2021-06-14T01:02:30.847087Z",
     "shell.execute_reply.started": "2021-06-14T00:52:11.758254Z"
    },
    "papermill": {
     "duration": 0.107687,
     "end_time": "2021-06-14T01:02:30.847910",
     "exception": false,
     "start_time": "2021-06-14T01:02:30.740223",
     "status": "completed"
    },
    "tags": []
   },
   "outputs": [
    {
     "name": "stdout",
     "output_type": "stream",
     "text": [
      "(18858379, 15)\n"
     ]
    },
    {
     "data": {
      "text/html": [
       "<div>\n",
       "<style scoped>\n",
       "    .dataframe tbody tr th:only-of-type {\n",
       "        vertical-align: middle;\n",
       "    }\n",
       "\n",
       "    .dataframe tbody tr th {\n",
       "        vertical-align: top;\n",
       "    }\n",
       "\n",
       "    .dataframe thead th {\n",
       "        text-align: right;\n",
       "    }\n",
       "</style>\n",
       "<table border=\"1\" class=\"dataframe\">\n",
       "  <thead>\n",
       "    <tr style=\"text-align: right;\">\n",
       "      <th></th>\n",
       "      <th>building_id</th>\n",
       "      <th>meter</th>\n",
       "      <th>meter_reading</th>\n",
       "      <th>primary_use</th>\n",
       "      <th>square_feet</th>\n",
       "      <th>year_built</th>\n",
       "      <th>air_temperature</th>\n",
       "      <th>dew_temperature</th>\n",
       "      <th>PREVIOUS_DIFF_air_temperature</th>\n",
       "      <th>PREVIOUS_DIFF_dew_temperature</th>\n",
       "      <th>month</th>\n",
       "      <th>hour</th>\n",
       "      <th>building_mean</th>\n",
       "      <th>building_median</th>\n",
       "      <th>building_std</th>\n",
       "    </tr>\n",
       "  </thead>\n",
       "  <tbody>\n",
       "    <tr>\n",
       "      <th>0</th>\n",
       "      <td>46</td>\n",
       "      <td>0</td>\n",
       "      <td>53.239700</td>\n",
       "      <td>Retail</td>\n",
       "      <td>9045</td>\n",
       "      <td>2016.0</td>\n",
       "      <td>25.0</td>\n",
       "      <td>20.0</td>\n",
       "      <td>0.6</td>\n",
       "      <td>1.1</td>\n",
       "      <td>1</td>\n",
       "      <td>0</td>\n",
       "      <td>15.850802</td>\n",
       "      <td>12.789499</td>\n",
       "      <td>12.523717</td>\n",
       "    </tr>\n",
       "    <tr>\n",
       "      <th>1</th>\n",
       "      <td>74</td>\n",
       "      <td>0</td>\n",
       "      <td>43.001301</td>\n",
       "      <td>Parking</td>\n",
       "      <td>387638</td>\n",
       "      <td>1997.0</td>\n",
       "      <td>25.0</td>\n",
       "      <td>20.0</td>\n",
       "      <td>0.6</td>\n",
       "      <td>1.1</td>\n",
       "      <td>1</td>\n",
       "      <td>0</td>\n",
       "      <td>128.057907</td>\n",
       "      <td>109.551003</td>\n",
       "      <td>41.993210</td>\n",
       "    </tr>\n",
       "    <tr>\n",
       "      <th>2</th>\n",
       "      <td>93</td>\n",
       "      <td>0</td>\n",
       "      <td>52.420601</td>\n",
       "      <td>Office</td>\n",
       "      <td>33370</td>\n",
       "      <td>1982.0</td>\n",
       "      <td>25.0</td>\n",
       "      <td>20.0</td>\n",
       "      <td>0.6</td>\n",
       "      <td>1.1</td>\n",
       "      <td>1</td>\n",
       "      <td>0</td>\n",
       "      <td>165.691940</td>\n",
       "      <td>161.240997</td>\n",
       "      <td>39.328667</td>\n",
       "    </tr>\n",
       "    <tr>\n",
       "      <th>3</th>\n",
       "      <td>105</td>\n",
       "      <td>0</td>\n",
       "      <td>23.303600</td>\n",
       "      <td>Education</td>\n",
       "      <td>50623</td>\n",
       "      <td>NaN</td>\n",
       "      <td>3.8</td>\n",
       "      <td>2.4</td>\n",
       "      <td>0.1</td>\n",
       "      <td>0.0</td>\n",
       "      <td>1</td>\n",
       "      <td>0</td>\n",
       "      <td>78.124031</td>\n",
       "      <td>75.115097</td>\n",
       "      <td>27.533489</td>\n",
       "    </tr>\n",
       "    <tr>\n",
       "      <th>4</th>\n",
       "      <td>106</td>\n",
       "      <td>0</td>\n",
       "      <td>0.374600</td>\n",
       "      <td>Education</td>\n",
       "      <td>5374</td>\n",
       "      <td>NaN</td>\n",
       "      <td>3.8</td>\n",
       "      <td>2.4</td>\n",
       "      <td>0.1</td>\n",
       "      <td>0.0</td>\n",
       "      <td>1</td>\n",
       "      <td>0</td>\n",
       "      <td>4.004444</td>\n",
       "      <td>0.749200</td>\n",
       "      <td>5.811982</td>\n",
       "    </tr>\n",
       "  </tbody>\n",
       "</table>\n",
       "</div>"
      ],
      "text/plain": [
       "   building_id  meter  meter_reading primary_use  square_feet  year_built  \\\n",
       "0           46      0      53.239700      Retail         9045      2016.0   \n",
       "1           74      0      43.001301     Parking       387638      1997.0   \n",
       "2           93      0      52.420601      Office        33370      1982.0   \n",
       "3          105      0      23.303600   Education        50623         NaN   \n",
       "4          106      0       0.374600   Education         5374         NaN   \n",
       "\n",
       "   air_temperature  dew_temperature  PREVIOUS_DIFF_air_temperature  \\\n",
       "0             25.0             20.0                            0.6   \n",
       "1             25.0             20.0                            0.6   \n",
       "2             25.0             20.0                            0.6   \n",
       "3              3.8              2.4                            0.1   \n",
       "4              3.8              2.4                            0.1   \n",
       "\n",
       "   PREVIOUS_DIFF_dew_temperature  month  hour  building_mean  building_median  \\\n",
       "0                            1.1      1     0      15.850802        12.789499   \n",
       "1                            1.1      1     0     128.057907       109.551003   \n",
       "2                            1.1      1     0     165.691940       161.240997   \n",
       "3                            0.0      1     0      78.124031        75.115097   \n",
       "4                            0.0      1     0       4.004444         0.749200   \n",
       "\n",
       "   building_std  \n",
       "0     12.523717  \n",
       "1     41.993210  \n",
       "2     39.328667  \n",
       "3     27.533489  \n",
       "4      5.811982  "
      ]
     },
     "execution_count": 44,
     "metadata": {},
     "output_type": "execute_result"
    }
   ],
   "source": [
    "print(train.shape)\n",
    "train.head()"
   ]
  },
  {
   "cell_type": "markdown",
   "id": "dried-papua",
   "metadata": {
    "papermill": {
     "duration": 0.081981,
     "end_time": "2021-06-14T01:02:31.012017",
     "exception": false,
     "start_time": "2021-06-14T01:02:30.930036",
     "status": "completed"
    },
    "tags": []
   },
   "source": [
    "# Preprocess"
   ]
  },
  {
   "cell_type": "code",
   "execution_count": 45,
   "id": "infinite-interaction",
   "metadata": {
    "execution": {
     "iopub.execute_input": "2021-06-14T01:02:31.183569Z",
     "iopub.status.busy": "2021-06-14T01:02:31.182991Z",
     "iopub.status.idle": "2021-06-14T01:02:31.185418Z",
     "shell.execute_reply": "2021-06-14T01:02:31.185867Z",
     "shell.execute_reply.started": "2021-06-14T00:52:11.776943Z"
    },
    "papermill": {
     "duration": 0.090265,
     "end_time": "2021-06-14T01:02:31.186038",
     "exception": false,
     "start_time": "2021-06-14T01:02:31.095773",
     "status": "completed"
    },
    "tags": []
   },
   "outputs": [],
   "source": [
    "# drop_col = ['precip_depth_1_hr', 'sea_level_pressure', 'wind_direction', 'wind_speed', 'floor_count']      "
   ]
  },
  {
   "cell_type": "code",
   "execution_count": 46,
   "id": "trained-genealogy",
   "metadata": {
    "execution": {
     "iopub.execute_input": "2021-06-14T01:02:31.354756Z",
     "iopub.status.busy": "2021-06-14T01:02:31.354161Z",
     "iopub.status.idle": "2021-06-14T01:02:31.356558Z",
     "shell.execute_reply": "2021-06-14T01:02:31.356000Z",
     "shell.execute_reply.started": "2021-06-14T00:52:11.790046Z"
    },
    "papermill": {
     "duration": 0.088357,
     "end_time": "2021-06-14T01:02:31.356681",
     "exception": false,
     "start_time": "2021-06-14T01:02:31.268324",
     "status": "completed"
    },
    "tags": []
   },
   "outputs": [],
   "source": [
    "# train = train.drop(drop_col, axis = 1)\n",
    "# gc.collect()"
   ]
  },
  {
   "cell_type": "code",
   "execution_count": 47,
   "id": "innovative-authority",
   "metadata": {
    "execution": {
     "iopub.execute_input": "2021-06-14T01:02:31.523212Z",
     "iopub.status.busy": "2021-06-14T01:02:31.522563Z",
     "iopub.status.idle": "2021-06-14T01:02:33.197903Z",
     "shell.execute_reply": "2021-06-14T01:02:33.197172Z",
     "shell.execute_reply.started": "2021-06-14T00:52:11.801983Z"
    },
    "papermill": {
     "duration": 1.759589,
     "end_time": "2021-06-14T01:02:33.198059",
     "exception": false,
     "start_time": "2021-06-14T01:02:31.438470",
     "status": "completed"
    },
    "tags": []
   },
   "outputs": [],
   "source": [
    "train['square_feet'] = np.log(train['square_feet'])\n",
    "test['square_feet'] = np.log(test['square_feet'])"
   ]
  },
  {
   "cell_type": "code",
   "execution_count": 48,
   "id": "otherwise-background",
   "metadata": {
    "execution": {
     "iopub.execute_input": "2021-06-14T01:02:33.371502Z",
     "iopub.status.busy": "2021-06-14T01:02:33.370908Z",
     "iopub.status.idle": "2021-06-14T01:02:53.659436Z",
     "shell.execute_reply": "2021-06-14T01:02:53.658772Z",
     "shell.execute_reply.started": "2021-06-14T00:52:13.385636Z"
    },
    "papermill": {
     "duration": 20.378534,
     "end_time": "2021-06-14T01:02:53.659586",
     "exception": false,
     "start_time": "2021-06-14T01:02:33.281052",
     "status": "completed"
    },
    "tags": []
   },
   "outputs": [],
   "source": [
    "le = LabelEncoder()\n",
    "\n",
    "train['primary_use'] = le.fit_transform(train['primary_use'])\n",
    "test['primary_use'] = le.fit_transform(test['primary_use'])"
   ]
  },
  {
   "cell_type": "code",
   "execution_count": 49,
   "id": "wrapped-property",
   "metadata": {
    "execution": {
     "iopub.execute_input": "2021-06-14T01:02:53.828449Z",
     "iopub.status.busy": "2021-06-14T01:02:53.827799Z",
     "iopub.status.idle": "2021-06-14T01:02:55.174171Z",
     "shell.execute_reply": "2021-06-14T01:02:55.173634Z",
     "shell.execute_reply.started": "2021-06-14T00:52:24.360339Z"
    },
    "papermill": {
     "duration": 1.432666,
     "end_time": "2021-06-14T01:02:55.174324",
     "exception": false,
     "start_time": "2021-06-14T01:02:53.741658",
     "status": "completed"
    },
    "tags": []
   },
   "outputs": [],
   "source": [
    "target = np.log1p(train['meter_reading'])\n",
    "train = train.drop(['meter_reading'], axis=1)"
   ]
  },
  {
   "cell_type": "code",
   "execution_count": 50,
   "id": "referenced-asset",
   "metadata": {
    "execution": {
     "iopub.execute_input": "2021-06-14T01:02:55.474281Z",
     "iopub.status.busy": "2021-06-14T01:02:55.473637Z",
     "iopub.status.idle": "2021-06-14T01:02:55.480430Z",
     "shell.execute_reply": "2021-06-14T01:02:55.479924Z",
     "shell.execute_reply.started": "2021-06-14T00:52:25.686264Z"
    },
    "papermill": {
     "duration": 0.223882,
     "end_time": "2021-06-14T01:02:55.480568",
     "exception": false,
     "start_time": "2021-06-14T01:02:55.256686",
     "status": "completed"
    },
    "tags": []
   },
   "outputs": [
    {
     "data": {
      "text/plain": [
       "140"
      ]
     },
     "execution_count": 50,
     "metadata": {},
     "output_type": "execute_result"
    }
   ],
   "source": [
    "del le\n",
    "gc.collect()"
   ]
  },
  {
   "cell_type": "code",
   "execution_count": 51,
   "id": "russian-front",
   "metadata": {
    "execution": {
     "iopub.execute_input": "2021-06-14T01:02:55.650641Z",
     "iopub.status.busy": "2021-06-14T01:02:55.648225Z",
     "iopub.status.idle": "2021-06-14T01:03:01.789783Z",
     "shell.execute_reply": "2021-06-14T01:03:01.790484Z",
     "shell.execute_reply.started": "2021-06-14T00:52:25.815986Z"
    },
    "papermill": {
     "duration": 6.22845,
     "end_time": "2021-06-14T01:03:01.790747",
     "exception": false,
     "start_time": "2021-06-14T01:02:55.562297",
     "status": "completed"
    },
    "tags": []
   },
   "outputs": [
    {
     "name": "stdout",
     "output_type": "stream",
     "text": [
      "Memory usage of dataframe is 953.19 MB\n",
      "Memory usage after optimization is: 755.36 MB\n",
      "Decreased by 20.8%\n",
      "Memory usage of dataframe is 2743.85 MB\n",
      "Memory usage after optimization is: 1630.40 MB\n",
      "Decreased by 40.6%\n"
     ]
    }
   ],
   "source": [
    "train = reduce_mem_usage(train)\n",
    "test = reduce_mem_usage(test)"
   ]
  },
  {
   "cell_type": "code",
   "execution_count": 52,
   "id": "sunrise-regard",
   "metadata": {
    "execution": {
     "iopub.execute_input": "2021-06-14T01:03:01.962514Z",
     "iopub.status.busy": "2021-06-14T01:03:01.961845Z",
     "iopub.status.idle": "2021-06-14T01:03:02.918360Z",
     "shell.execute_reply": "2021-06-14T01:03:02.917707Z",
     "shell.execute_reply.started": "2021-06-14T00:52:31.858343Z"
    },
    "papermill": {
     "duration": 1.044301,
     "end_time": "2021-06-14T01:03:02.918501",
     "exception": false,
     "start_time": "2021-06-14T01:03:01.874200",
     "status": "completed"
    },
    "tags": []
   },
   "outputs": [],
   "source": [
    "train = train.reset_index(drop=True)\n",
    "test = test.reset_index(drop=True)"
   ]
  },
  {
   "cell_type": "code",
   "execution_count": 53,
   "id": "amber-project",
   "metadata": {
    "execution": {
     "iopub.execute_input": "2021-06-14T01:03:03.094189Z",
     "iopub.status.busy": "2021-06-14T01:03:03.093500Z",
     "iopub.status.idle": "2021-06-14T01:03:03.097061Z",
     "shell.execute_reply": "2021-06-14T01:03:03.097498Z",
     "shell.execute_reply.started": "2021-06-14T00:52:32.826726Z"
    },
    "papermill": {
     "duration": 0.095555,
     "end_time": "2021-06-14T01:03:03.097668",
     "exception": false,
     "start_time": "2021-06-14T01:03:03.002113",
     "status": "completed"
    },
    "tags": []
   },
   "outputs": [
    {
     "name": "stdout",
     "output_type": "stream",
     "text": [
      "792052078\n",
      "1709601760\n"
     ]
    }
   ],
   "source": [
    "print(sys.getsizeof(train))\n",
    "print(sys.getsizeof(test))"
   ]
  },
  {
   "cell_type": "code",
   "execution_count": 54,
   "id": "sustained-michael",
   "metadata": {
    "execution": {
     "iopub.execute_input": "2021-06-14T01:03:03.283541Z",
     "iopub.status.busy": "2021-06-14T01:03:03.281322Z",
     "iopub.status.idle": "2021-06-14T01:03:03.288861Z",
     "shell.execute_reply": "2021-06-14T01:03:03.288133Z",
     "shell.execute_reply.started": "2021-06-14T00:52:32.838550Z"
    },
    "papermill": {
     "duration": 0.108505,
     "end_time": "2021-06-14T01:03:03.289050",
     "exception": false,
     "start_time": "2021-06-14T01:03:03.180545",
     "status": "completed"
    },
    "tags": []
   },
   "outputs": [
    {
     "name": "stdout",
     "output_type": "stream",
     "text": [
      "(18858379, 14)\n"
     ]
    },
    {
     "data": {
      "text/html": [
       "<div>\n",
       "<style scoped>\n",
       "    .dataframe tbody tr th:only-of-type {\n",
       "        vertical-align: middle;\n",
       "    }\n",
       "\n",
       "    .dataframe tbody tr th {\n",
       "        vertical-align: top;\n",
       "    }\n",
       "\n",
       "    .dataframe thead th {\n",
       "        text-align: right;\n",
       "    }\n",
       "</style>\n",
       "<table border=\"1\" class=\"dataframe\">\n",
       "  <thead>\n",
       "    <tr style=\"text-align: right;\">\n",
       "      <th></th>\n",
       "      <th>building_id</th>\n",
       "      <th>meter</th>\n",
       "      <th>primary_use</th>\n",
       "      <th>square_feet</th>\n",
       "      <th>year_built</th>\n",
       "      <th>air_temperature</th>\n",
       "      <th>dew_temperature</th>\n",
       "      <th>PREVIOUS_DIFF_air_temperature</th>\n",
       "      <th>PREVIOUS_DIFF_dew_temperature</th>\n",
       "      <th>month</th>\n",
       "      <th>hour</th>\n",
       "      <th>building_mean</th>\n",
       "      <th>building_median</th>\n",
       "      <th>building_std</th>\n",
       "    </tr>\n",
       "  </thead>\n",
       "  <tbody>\n",
       "    <tr>\n",
       "      <th>0</th>\n",
       "      <td>46</td>\n",
       "      <td>0</td>\n",
       "      <td>11</td>\n",
       "      <td>9.109967</td>\n",
       "      <td>2016.0</td>\n",
       "      <td>25.0</td>\n",
       "      <td>20.0</td>\n",
       "      <td>0.6</td>\n",
       "      <td>1.1</td>\n",
       "      <td>1</td>\n",
       "      <td>0</td>\n",
       "      <td>15.850802</td>\n",
       "      <td>12.789499</td>\n",
       "      <td>12.523717</td>\n",
       "    </tr>\n",
       "    <tr>\n",
       "      <th>1</th>\n",
       "      <td>74</td>\n",
       "      <td>0</td>\n",
       "      <td>8</td>\n",
       "      <td>12.867827</td>\n",
       "      <td>1997.0</td>\n",
       "      <td>25.0</td>\n",
       "      <td>20.0</td>\n",
       "      <td>0.6</td>\n",
       "      <td>1.1</td>\n",
       "      <td>1</td>\n",
       "      <td>0</td>\n",
       "      <td>128.057907</td>\n",
       "      <td>109.551003</td>\n",
       "      <td>41.993210</td>\n",
       "    </tr>\n",
       "    <tr>\n",
       "      <th>2</th>\n",
       "      <td>93</td>\n",
       "      <td>0</td>\n",
       "      <td>6</td>\n",
       "      <td>10.415413</td>\n",
       "      <td>1982.0</td>\n",
       "      <td>25.0</td>\n",
       "      <td>20.0</td>\n",
       "      <td>0.6</td>\n",
       "      <td>1.1</td>\n",
       "      <td>1</td>\n",
       "      <td>0</td>\n",
       "      <td>165.691940</td>\n",
       "      <td>161.240997</td>\n",
       "      <td>39.328667</td>\n",
       "    </tr>\n",
       "    <tr>\n",
       "      <th>3</th>\n",
       "      <td>105</td>\n",
       "      <td>0</td>\n",
       "      <td>0</td>\n",
       "      <td>10.832161</td>\n",
       "      <td>NaN</td>\n",
       "      <td>3.8</td>\n",
       "      <td>2.4</td>\n",
       "      <td>0.1</td>\n",
       "      <td>0.0</td>\n",
       "      <td>1</td>\n",
       "      <td>0</td>\n",
       "      <td>78.124031</td>\n",
       "      <td>75.115097</td>\n",
       "      <td>27.533489</td>\n",
       "    </tr>\n",
       "    <tr>\n",
       "      <th>4</th>\n",
       "      <td>106</td>\n",
       "      <td>0</td>\n",
       "      <td>0</td>\n",
       "      <td>8.589328</td>\n",
       "      <td>NaN</td>\n",
       "      <td>3.8</td>\n",
       "      <td>2.4</td>\n",
       "      <td>0.1</td>\n",
       "      <td>0.0</td>\n",
       "      <td>1</td>\n",
       "      <td>0</td>\n",
       "      <td>4.004444</td>\n",
       "      <td>0.749200</td>\n",
       "      <td>5.811982</td>\n",
       "    </tr>\n",
       "  </tbody>\n",
       "</table>\n",
       "</div>"
      ],
      "text/plain": [
       "   building_id  meter  primary_use  square_feet  year_built  air_temperature  \\\n",
       "0           46      0           11     9.109967      2016.0             25.0   \n",
       "1           74      0            8    12.867827      1997.0             25.0   \n",
       "2           93      0            6    10.415413      1982.0             25.0   \n",
       "3          105      0            0    10.832161         NaN              3.8   \n",
       "4          106      0            0     8.589328         NaN              3.8   \n",
       "\n",
       "   dew_temperature  PREVIOUS_DIFF_air_temperature  \\\n",
       "0             20.0                            0.6   \n",
       "1             20.0                            0.6   \n",
       "2             20.0                            0.6   \n",
       "3              2.4                            0.1   \n",
       "4              2.4                            0.1   \n",
       "\n",
       "   PREVIOUS_DIFF_dew_temperature  month  hour  building_mean  building_median  \\\n",
       "0                            1.1      1     0      15.850802        12.789499   \n",
       "1                            1.1      1     0     128.057907       109.551003   \n",
       "2                            1.1      1     0     165.691940       161.240997   \n",
       "3                            0.0      1     0      78.124031        75.115097   \n",
       "4                            0.0      1     0       4.004444         0.749200   \n",
       "\n",
       "   building_std  \n",
       "0     12.523717  \n",
       "1     41.993210  \n",
       "2     39.328667  \n",
       "3     27.533489  \n",
       "4      5.811982  "
      ]
     },
     "execution_count": 54,
     "metadata": {},
     "output_type": "execute_result"
    }
   ],
   "source": [
    "print(train.shape)\n",
    "train.head()"
   ]
  },
  {
   "cell_type": "markdown",
   "id": "entire-commerce",
   "metadata": {
    "papermill": {
     "duration": 0.08382,
     "end_time": "2021-06-14T01:03:03.512407",
     "exception": false,
     "start_time": "2021-06-14T01:03:03.428587",
     "status": "completed"
    },
    "tags": []
   },
   "source": [
    "# Modeling"
   ]
  },
  {
   "cell_type": "code",
   "execution_count": 55,
   "id": "animated-lingerie",
   "metadata": {
    "execution": {
     "iopub.execute_input": "2021-06-14T01:03:03.688036Z",
     "iopub.status.busy": "2021-06-14T01:03:03.687095Z",
     "iopub.status.idle": "2021-06-14T01:03:03.690837Z",
     "shell.execute_reply": "2021-06-14T01:03:03.691280Z",
     "shell.execute_reply.started": "2021-06-14T00:52:32.863846Z"
    },
    "papermill": {
     "duration": 0.095252,
     "end_time": "2021-06-14T01:03:03.691447",
     "exception": false,
     "start_time": "2021-06-14T01:03:03.596195",
     "status": "completed"
    },
    "tags": []
   },
   "outputs": [
    {
     "data": {
      "text/plain": [
       "\"\\nX_tr, X_val, y_tr, y_val = train_test_split(train, target, test_size=0.2, random_state=666)\\n\\ndef create_model(trial):\\n    num_leaves = trial.suggest_int('num_leaves', 2, 30)\\n    n_estimators = trial.suggest_int('n_estimators', 50, 300)\\n    learning_rate = trial.suggest_uniform('learning_rate', 0.0001, 0.99)\\n    max_depth = trial.suggest_int('max_depth', 2, 10)\\n    min_child_samples = trial.suggest_int('min_child_samples', 100, 1200)\\n    min_data_in_leaf = trial.suggest_int('min_data_in_leaf', 5, 90)\\n    bagging_freq = trial.suggest_int('bagging_freq', 1, 7)\\n    bagging_fraction = trial.suggest_uniform('bagging_fraction', 0.0001, 1.0)\\n    feature_fraction = trial.suggest_uniform('feature_fraction', 0.0001, 1.0)\\n    subsample = trial.suggest_uniform('subsample', 0.1, 1.0)\\n    colsample_bytree = trial.suggest_uniform('colsample_bytree', 0.1, 1.0)\\n    \\n    model = lgb.LGBMRegressor(\\n        num_leaves=num_leaves,\\n        n_estimators=n_estimators,\\n        learning_rate=learning_rate,\\n        max_depth=max_depth, \\n        min_child_samples=min_child_samples, \\n        min_data_in_leaf=min_data_in_leaf,\\n        bagging_freq=bagging_freq,\\n        bagging_fraction=bagging_fraction,\\n        feature_fraction=feature_fraction,\\n        subsample=subsample,\\n        colsample_bytree=colsample_bytree,\\n        metric='rsme',\\n        random_state=666)\\n    return model\\n\\ndef objective(trial):\\n    model = create_model(trial)\\n    model.fit(X_tr, y_tr)\\n    y_pred = model.predict(X_val)\\n    rsme = np.sqrt(mean_squared_error(y_pred, y_val))\\n    return rsme\\n\\nstudy = optuna.create_study(direction='minimize')\\nstudy.optimize(objective, n_trials=40)\\nparams = study.best_params\\nprint(params)\\n\""
      ]
     },
     "execution_count": 55,
     "metadata": {},
     "output_type": "execute_result"
    }
   ],
   "source": [
    "'''\n",
    "X_tr, X_val, y_tr, y_val = train_test_split(train, target, test_size=0.2, random_state=666)\n",
    "\n",
    "def create_model(trial):\n",
    "    num_leaves = trial.suggest_int('num_leaves', 2, 30)\n",
    "    n_estimators = trial.suggest_int('n_estimators', 50, 300)\n",
    "    learning_rate = trial.suggest_uniform('learning_rate', 0.0001, 0.99)\n",
    "    max_depth = trial.suggest_int('max_depth', 2, 10)\n",
    "    min_child_samples = trial.suggest_int('min_child_samples', 100, 1200)\n",
    "    min_data_in_leaf = trial.suggest_int('min_data_in_leaf', 5, 90)\n",
    "    bagging_freq = trial.suggest_int('bagging_freq', 1, 7)\n",
    "    bagging_fraction = trial.suggest_uniform('bagging_fraction', 0.0001, 1.0)\n",
    "    feature_fraction = trial.suggest_uniform('feature_fraction', 0.0001, 1.0)\n",
    "    subsample = trial.suggest_uniform('subsample', 0.1, 1.0)\n",
    "    colsample_bytree = trial.suggest_uniform('colsample_bytree', 0.1, 1.0)\n",
    "    \n",
    "    model = lgb.LGBMRegressor(\n",
    "        num_leaves=num_leaves,\n",
    "        n_estimators=n_estimators,\n",
    "        learning_rate=learning_rate,\n",
    "        max_depth=max_depth, \n",
    "        min_child_samples=min_child_samples, \n",
    "        min_data_in_leaf=min_data_in_leaf,\n",
    "        bagging_freq=bagging_freq,\n",
    "        bagging_fraction=bagging_fraction,\n",
    "        feature_fraction=feature_fraction,\n",
    "        subsample=subsample,\n",
    "        colsample_bytree=colsample_bytree,\n",
    "        metric='rsme',\n",
    "        random_state=666)\n",
    "    return model\n",
    "\n",
    "def objective(trial):\n",
    "    model = create_model(trial)\n",
    "    model.fit(X_tr, y_tr)\n",
    "    y_pred = model.predict(X_val)\n",
    "    rsme = np.sqrt(mean_squared_error(y_pred, y_val))\n",
    "    return rsme\n",
    "\n",
    "study = optuna.create_study(direction='minimize')\n",
    "study.optimize(objective, n_trials=40)\n",
    "params = study.best_params\n",
    "print(params)\n",
    "'''"
   ]
  },
  {
   "cell_type": "code",
   "execution_count": 56,
   "id": "egyptian-stopping",
   "metadata": {
    "execution": {
     "iopub.execute_input": "2021-06-14T01:03:03.866970Z",
     "iopub.status.busy": "2021-06-14T01:03:03.866234Z",
     "iopub.status.idle": "2021-06-14T01:03:03.868639Z",
     "shell.execute_reply": "2021-06-14T01:03:03.869135Z",
     "shell.execute_reply.started": "2021-06-14T00:52:32.870610Z"
    },
    "papermill": {
     "duration": 0.092867,
     "end_time": "2021-06-14T01:03:03.869310",
     "exception": false,
     "start_time": "2021-06-14T01:03:03.776443",
     "status": "completed"
    },
    "tags": []
   },
   "outputs": [],
   "source": [
    "# rsme: 0.6627186382841255\n",
    "\n",
    "params = {'num_leaves': 22,\n",
    "          'n_estimators': 224,\n",
    "          'learning_rate': 0.9872718324285167,\n",
    "          'max_depth': 6,\n",
    "          'min_child_samples': 356,\n",
    "          'min_data_in_leaf': 90,\n",
    "          'bagging_freq': 6,\n",
    "          'bagging_fraction': 0.24294192754026261,\n",
    "          'feature_fraction': 0.9842419034949743,\n",
    "          'subsample': 0.6906846576788777,\n",
    "          'colsample_bytree': 0.3177737396019228,\n",
    "          'random_state': 666}"
   ]
  },
  {
   "cell_type": "code",
   "execution_count": 57,
   "id": "phantom-california",
   "metadata": {
    "execution": {
     "iopub.execute_input": "2021-06-14T01:03:04.047941Z",
     "iopub.status.busy": "2021-06-14T01:03:04.047129Z",
     "iopub.status.idle": "2021-06-14T01:04:57.790360Z",
     "shell.execute_reply": "2021-06-14T01:04:57.790988Z",
     "shell.execute_reply.started": "2021-06-14T00:52:32.886789Z"
    },
    "papermill": {
     "duration": 113.837423,
     "end_time": "2021-06-14T01:04:57.791332",
     "exception": false,
     "start_time": "2021-06-14T01:03:03.953909",
     "status": "completed"
    },
    "tags": []
   },
   "outputs": [
    {
     "name": "stdout",
     "output_type": "stream",
     "text": [
      "[LightGBM] [Warning] bagging_fraction is set=0.24294192754026261, subsample=0.6906846576788777 will be ignored. Current value: bagging_fraction=0.24294192754026261\n",
      "[LightGBM] [Warning] feature_fraction is set=0.9842419034949743, colsample_bytree=0.3177737396019228 will be ignored. Current value: feature_fraction=0.9842419034949743\n",
      "[LightGBM] [Warning] bagging_freq is set=6, subsample_freq=0 will be ignored. Current value: bagging_freq=6\n",
      "[LightGBM] [Warning] min_data_in_leaf is set=90, min_child_samples=356 will be ignored. Current value: min_data_in_leaf=90\n"
     ]
    },
    {
     "data": {
      "text/plain": [
       "LGBMRegressor(bagging_fraction=0.24294192754026261, bagging_freq=6,\n",
       "              colsample_bytree=0.3177737396019228,\n",
       "              feature_fraction=0.9842419034949743,\n",
       "              learning_rate=0.9872718324285167, max_depth=6,\n",
       "              min_child_samples=356, min_data_in_leaf=90, n_estimators=224,\n",
       "              num_leaves=22, random_state=666, subsample=0.6906846576788777)"
      ]
     },
     "execution_count": 57,
     "metadata": {},
     "output_type": "execute_result"
    }
   ],
   "source": [
    "cls = lgb.LGBMRegressor(**params)\n",
    "cls.fit(train, target)"
   ]
  },
  {
   "cell_type": "code",
   "execution_count": 58,
   "id": "alternate-detection",
   "metadata": {
    "execution": {
     "iopub.execute_input": "2021-06-14T01:04:58.199120Z",
     "iopub.status.busy": "2021-06-14T01:04:58.198284Z",
     "iopub.status.idle": "2021-06-14T01:04:58.202303Z",
     "shell.execute_reply": "2021-06-14T01:04:58.201776Z",
     "shell.execute_reply.started": "2021-06-14T00:54:04.219941Z"
    },
    "papermill": {
     "duration": 0.325296,
     "end_time": "2021-06-14T01:04:58.202449",
     "exception": false,
     "start_time": "2021-06-14T01:04:57.877153",
     "status": "completed"
    },
    "tags": []
   },
   "outputs": [
    {
     "data": {
      "text/plain": [
       "119"
      ]
     },
     "execution_count": 58,
     "metadata": {},
     "output_type": "execute_result"
    }
   ],
   "source": [
    "del train, target, params\n",
    "gc.collect()"
   ]
  },
  {
   "cell_type": "code",
   "execution_count": 59,
   "id": "human-panama",
   "metadata": {
    "execution": {
     "iopub.execute_input": "2021-06-14T01:04:58.386928Z",
     "iopub.status.busy": "2021-06-14T01:04:58.382010Z",
     "iopub.status.idle": "2021-06-14T01:04:58.706208Z",
     "shell.execute_reply": "2021-06-14T01:04:58.705504Z",
     "shell.execute_reply.started": "2021-06-14T00:54:04.377420Z"
    },
    "papermill": {
     "duration": 0.417224,
     "end_time": "2021-06-14T01:04:58.706370",
     "exception": false,
     "start_time": "2021-06-14T01:04:58.289146",
     "status": "completed"
    },
    "tags": []
   },
   "outputs": [
    {
     "data": {
      "image/png": "[encoded data removed]",
      "text/plain": [
       "<Figure size 432x288 with 1 Axes>"
      ]
     },
     "metadata": {},
     "output_type": "display_data"
    }
   ],
   "source": [
    "lgb.plot_importance(cls)\n",
    "plt.show()"
   ]
  },
  {
   "cell_type": "markdown",
   "id": "lovely-luxembourg",
   "metadata": {
    "papermill": {
     "duration": 0.090835,
     "end_time": "2021-06-14T01:04:58.884040",
     "exception": false,
     "start_time": "2021-06-14T01:04:58.793205",
     "status": "completed"
    },
    "tags": []
   },
   "source": [
    "# Submit"
   ]
  },
  {
   "cell_type": "code",
   "execution_count": 60,
   "id": "worse-understanding",
   "metadata": {
    "execution": {
     "iopub.execute_input": "2021-06-14T01:04:59.073478Z",
     "iopub.status.busy": "2021-06-14T01:04:59.072770Z",
     "iopub.status.idle": "2021-06-14T01:05:01.188006Z",
     "shell.execute_reply": "2021-06-14T01:05:01.187402Z",
     "shell.execute_reply.started": "2021-06-14T00:54:04.639388Z"
    },
    "papermill": {
     "duration": 2.21241,
     "end_time": "2021-06-14T01:05:01.188161",
     "exception": false,
     "start_time": "2021-06-14T01:04:58.975751",
     "status": "completed"
    },
    "tags": []
   },
   "outputs": [
    {
     "data": {
      "text/plain": [
       "5131"
      ]
     },
     "execution_count": 60,
     "metadata": {},
     "output_type": "execute_result"
    }
   ],
   "source": [
    "row_id = test['row_id']\n",
    "\n",
    "test = test.drop(['row_id'], axis = 1)\n",
    "gc.collect()"
   ]
  },
  {
   "cell_type": "code",
   "execution_count": 61,
   "id": "dramatic-recipe",
   "metadata": {
    "execution": {
     "iopub.execute_input": "2021-06-14T01:05:01.370653Z",
     "iopub.status.busy": "2021-06-14T01:05:01.369838Z",
     "iopub.status.idle": "2021-06-14T01:05:09.286964Z",
     "shell.execute_reply": "2021-06-14T01:05:09.286217Z",
     "shell.execute_reply.started": "2021-06-14T00:54:06.543220Z"
    },
    "papermill": {
     "duration": 8.01164,
     "end_time": "2021-06-14T01:05:09.287127",
     "exception": false,
     "start_time": "2021-06-14T01:05:01.275487",
     "status": "completed"
    },
    "tags": []
   },
   "outputs": [],
   "source": [
    "test['hour'] = test['timestamp'].dt.hour\n",
    "# test['day'] = test['timestamp'].dt.day\n",
    "# test['weekend'] = test['timestamp'].dt.weekday\n",
    "test['month'] = test['timestamp'].dt.month"
   ]
  },
  {
   "cell_type": "code",
   "execution_count": 62,
   "id": "prescription-consent",
   "metadata": {
    "execution": {
     "iopub.execute_input": "2021-06-14T01:05:09.499717Z",
     "iopub.status.busy": "2021-06-14T01:05:09.498217Z",
     "iopub.status.idle": "2021-06-14T01:05:11.097341Z",
     "shell.execute_reply": "2021-06-14T01:05:11.097809Z",
     "shell.execute_reply.started": "2021-06-14T00:54:13.859289Z"
    },
    "papermill": {
     "duration": 1.714054,
     "end_time": "2021-06-14T01:05:11.098001",
     "exception": false,
     "start_time": "2021-06-14T01:05:09.383947",
     "status": "completed"
    },
    "tags": []
   },
   "outputs": [
    {
     "data": {
      "text/plain": [
       "55"
      ]
     },
     "execution_count": 62,
     "metadata": {},
     "output_type": "execute_result"
    }
   ],
   "source": [
    "test = test.drop(['timestamp', 'site_id'], axis=1)\n",
    "gc.collect()"
   ]
  },
  {
   "cell_type": "code",
   "execution_count": 63,
   "id": "noted-regard",
   "metadata": {
    "execution": {
     "iopub.execute_input": "2021-06-14T01:05:11.278683Z",
     "iopub.status.busy": "2021-06-14T01:05:11.278052Z",
     "iopub.status.idle": "2021-06-14T01:05:13.176103Z",
     "shell.execute_reply": "2021-06-14T01:05:13.175439Z",
     "shell.execute_reply.started": "2021-06-14T00:54:15.363765Z"
    },
    "papermill": {
     "duration": 1.991019,
     "end_time": "2021-06-14T01:05:13.176242",
     "exception": false,
     "start_time": "2021-06-14T01:05:11.185223",
     "status": "completed"
    },
    "tags": []
   },
   "outputs": [],
   "source": [
    "test['building_mean'] = test['building_id'].map(building_mean)\n",
    "test['building_median'] = test['building_id'].map(building_median)\n",
    "test['building_std'] = test['building_id'].map(building_std)\n",
    "\n",
    "# test['building_min'] = test['building_id'].map(building_min)\n",
    "# test['building_max'] = test['building_id'].map(building_max)"
   ]
  },
  {
   "cell_type": "code",
   "execution_count": 64,
   "id": "cordless-south",
   "metadata": {
    "execution": {
     "iopub.execute_input": "2021-06-14T01:05:13.491362Z",
     "iopub.status.busy": "2021-06-14T01:05:13.489630Z",
     "iopub.status.idle": "2021-06-14T01:05:13.496670Z",
     "shell.execute_reply": "2021-06-14T01:05:13.497188Z",
     "shell.execute_reply.started": "2021-06-14T00:54:16.956206Z"
    },
    "papermill": {
     "duration": 0.23436,
     "end_time": "2021-06-14T01:05:13.497360",
     "exception": false,
     "start_time": "2021-06-14T01:05:13.263000",
     "status": "completed"
    },
    "tags": []
   },
   "outputs": [
    {
     "data": {
      "text/plain": [
       "40"
      ]
     },
     "execution_count": 64,
     "metadata": {},
     "output_type": "execute_result"
    }
   ],
   "source": [
    "del building_mean, building_median, building_std\n",
    "gc.collect()"
   ]
  },
  {
   "cell_type": "code",
   "execution_count": 65,
   "id": "nervous-english",
   "metadata": {
    "execution": {
     "iopub.execute_input": "2021-06-14T01:05:13.680133Z",
     "iopub.status.busy": "2021-06-14T01:05:13.679474Z",
     "iopub.status.idle": "2021-06-14T01:05:21.314140Z",
     "shell.execute_reply": "2021-06-14T01:05:21.314639Z",
     "shell.execute_reply.started": "2021-06-14T00:54:17.087333Z"
    },
    "papermill": {
     "duration": 7.728883,
     "end_time": "2021-06-14T01:05:21.314830",
     "exception": false,
     "start_time": "2021-06-14T01:05:13.585947",
     "status": "completed"
    },
    "tags": []
   },
   "outputs": [
    {
     "name": "stdout",
     "output_type": "stream",
     "text": [
      "Memory usage of dataframe is 2385.96 MB\n",
      "Memory usage after optimization is: 1670.17 MB\n",
      "Decreased by 30.0%\n"
     ]
    }
   ],
   "source": [
    "row_id = row_id.reset_index(drop=True)\n",
    "test = test.reset_index(drop=True)\n",
    "\n",
    "test = reduce_mem_usage(test)"
   ]
  },
  {
   "cell_type": "code",
   "execution_count": 66,
   "id": "postal-doctor",
   "metadata": {
    "_kg_hide-input": true,
    "_kg_hide-output": true,
    "execution": {
     "iopub.execute_input": "2021-06-14T01:05:21.538435Z",
     "iopub.status.busy": "2021-06-14T01:05:21.537649Z",
     "iopub.status.idle": "2021-06-14T01:05:21.541452Z",
     "shell.execute_reply": "2021-06-14T01:05:21.541927Z",
     "shell.execute_reply.started": "2021-06-14T00:54:23.393928Z"
    },
    "papermill": {
     "duration": 0.138409,
     "end_time": "2021-06-14T01:05:21.542111",
     "exception": false,
     "start_time": "2021-06-14T01:05:21.403702",
     "status": "completed"
    },
    "tags": []
   },
   "outputs": [
    {
     "name": "stdout",
     "output_type": "stream",
     "text": [
      "     name        size\n",
      "0    test  1751299360\n",
      "1  row_id   166790560\n",
      "2     _22        2477\n",
      "3     _15        2389\n",
      "4     _13        2309\n",
      "5     _44        2077\n",
      "6     _38        2057\n",
      "7     _26        1847\n",
      "8    _i11        1787\n",
      "9    _i55        1745\n"
     ]
    }
   ],
   "source": [
    "print(pd.DataFrame([[i for i in dir()], [sys.getsizeof(eval(i)) for i in dir()]],\n",
    "                   index=['name','size']).T.sort_values('size', ascending=False).reset_index(drop=True).head(10))"
   ]
  },
  {
   "cell_type": "code",
   "execution_count": 67,
   "id": "sought-resolution",
   "metadata": {
    "execution": {
     "iopub.execute_input": "2021-06-14T01:05:21.739262Z",
     "iopub.status.busy": "2021-06-14T01:05:21.738314Z",
     "iopub.status.idle": "2021-06-14T01:05:21.744158Z",
     "shell.execute_reply": "2021-06-14T01:05:21.743621Z",
     "shell.execute_reply.started": "2021-06-14T00:54:23.444300Z"
    },
    "papermill": {
     "duration": 0.113303,
     "end_time": "2021-06-14T01:05:21.744293",
     "exception": false,
     "start_time": "2021-06-14T01:05:21.630990",
     "status": "completed"
    },
    "tags": []
   },
   "outputs": [
    {
     "name": "stdout",
     "output_type": "stream",
     "text": [
      "(41697600, 14)\n"
     ]
    },
    {
     "data": {
      "text/html": [
       "<div>\n",
       "<style scoped>\n",
       "    .dataframe tbody tr th:only-of-type {\n",
       "        vertical-align: middle;\n",
       "    }\n",
       "\n",
       "    .dataframe tbody tr th {\n",
       "        vertical-align: top;\n",
       "    }\n",
       "\n",
       "    .dataframe thead th {\n",
       "        text-align: right;\n",
       "    }\n",
       "</style>\n",
       "<table border=\"1\" class=\"dataframe\">\n",
       "  <thead>\n",
       "    <tr style=\"text-align: right;\">\n",
       "      <th></th>\n",
       "      <th>building_id</th>\n",
       "      <th>meter</th>\n",
       "      <th>primary_use</th>\n",
       "      <th>square_feet</th>\n",
       "      <th>year_built</th>\n",
       "      <th>air_temperature</th>\n",
       "      <th>dew_temperature</th>\n",
       "      <th>PREVIOUS_DIFF_air_temperature</th>\n",
       "      <th>PREVIOUS_DIFF_dew_temperature</th>\n",
       "      <th>hour</th>\n",
       "      <th>month</th>\n",
       "      <th>building_mean</th>\n",
       "      <th>building_median</th>\n",
       "      <th>building_std</th>\n",
       "    </tr>\n",
       "  </thead>\n",
       "  <tbody>\n",
       "    <tr>\n",
       "      <th>0</th>\n",
       "      <td>0</td>\n",
       "      <td>0</td>\n",
       "      <td>0</td>\n",
       "      <td>8.913550</td>\n",
       "      <td>2008.0</td>\n",
       "      <td>17.799999</td>\n",
       "      <td>11.7</td>\n",
       "      <td>0.0</td>\n",
       "      <td>1.1</td>\n",
       "      <td>0</td>\n",
       "      <td>1</td>\n",
       "      <td>237.749130</td>\n",
       "      <td>240.944000</td>\n",
       "      <td>49.132168</td>\n",
       "    </tr>\n",
       "    <tr>\n",
       "      <th>1</th>\n",
       "      <td>1</td>\n",
       "      <td>0</td>\n",
       "      <td>0</td>\n",
       "      <td>7.908387</td>\n",
       "      <td>2004.0</td>\n",
       "      <td>17.799999</td>\n",
       "      <td>11.7</td>\n",
       "      <td>0.0</td>\n",
       "      <td>1.1</td>\n",
       "      <td>0</td>\n",
       "      <td>1</td>\n",
       "      <td>118.553741</td>\n",
       "      <td>131.871002</td>\n",
       "      <td>29.347374</td>\n",
       "    </tr>\n",
       "    <tr>\n",
       "      <th>2</th>\n",
       "      <td>2</td>\n",
       "      <td>0</td>\n",
       "      <td>0</td>\n",
       "      <td>8.589700</td>\n",
       "      <td>1991.0</td>\n",
       "      <td>17.799999</td>\n",
       "      <td>11.7</td>\n",
       "      <td>0.0</td>\n",
       "      <td>1.1</td>\n",
       "      <td>0</td>\n",
       "      <td>1</td>\n",
       "      <td>23.626499</td>\n",
       "      <td>20.476801</td>\n",
       "      <td>14.302269</td>\n",
       "    </tr>\n",
       "    <tr>\n",
       "      <th>3</th>\n",
       "      <td>3</td>\n",
       "      <td>0</td>\n",
       "      <td>0</td>\n",
       "      <td>10.072598</td>\n",
       "      <td>2002.0</td>\n",
       "      <td>17.799999</td>\n",
       "      <td>11.7</td>\n",
       "      <td>0.0</td>\n",
       "      <td>1.1</td>\n",
       "      <td>0</td>\n",
       "      <td>1</td>\n",
       "      <td>382.736023</td>\n",
       "      <td>368.924011</td>\n",
       "      <td>112.268532</td>\n",
       "    </tr>\n",
       "    <tr>\n",
       "      <th>4</th>\n",
       "      <td>4</td>\n",
       "      <td>0</td>\n",
       "      <td>0</td>\n",
       "      <td>11.666565</td>\n",
       "      <td>1975.0</td>\n",
       "      <td>17.799999</td>\n",
       "      <td>11.7</td>\n",
       "      <td>0.0</td>\n",
       "      <td>1.1</td>\n",
       "      <td>0</td>\n",
       "      <td>1</td>\n",
       "      <td>1579.174194</td>\n",
       "      <td>1593.780029</td>\n",
       "      <td>176.969437</td>\n",
       "    </tr>\n",
       "  </tbody>\n",
       "</table>\n",
       "</div>"
      ],
      "text/plain": [
       "   building_id  meter  primary_use  square_feet  year_built  air_temperature  \\\n",
       "0            0      0            0     8.913550      2008.0        17.799999   \n",
       "1            1      0            0     7.908387      2004.0        17.799999   \n",
       "2            2      0            0     8.589700      1991.0        17.799999   \n",
       "3            3      0            0    10.072598      2002.0        17.799999   \n",
       "4            4      0            0    11.666565      1975.0        17.799999   \n",
       "\n",
       "   dew_temperature  PREVIOUS_DIFF_air_temperature  \\\n",
       "0             11.7                            0.0   \n",
       "1             11.7                            0.0   \n",
       "2             11.7                            0.0   \n",
       "3             11.7                            0.0   \n",
       "4             11.7                            0.0   \n",
       "\n",
       "   PREVIOUS_DIFF_dew_temperature  hour  month  building_mean  building_median  \\\n",
       "0                            1.1     0      1     237.749130       240.944000   \n",
       "1                            1.1     0      1     118.553741       131.871002   \n",
       "2                            1.1     0      1      23.626499        20.476801   \n",
       "3                            1.1     0      1     382.736023       368.924011   \n",
       "4                            1.1     0      1    1579.174194      1593.780029   \n",
       "\n",
       "   building_std  \n",
       "0     49.132168  \n",
       "1     29.347374  \n",
       "2     14.302269  \n",
       "3    112.268532  \n",
       "4    176.969437  "
      ]
     },
     "execution_count": 67,
     "metadata": {},
     "output_type": "execute_result"
    }
   ],
   "source": [
    "print(test.shape)\n",
    "test.head()"
   ]
  },
  {
   "cell_type": "code",
   "execution_count": 68,
   "id": "fitting-mailman",
   "metadata": {
    "execution": {
     "iopub.execute_input": "2021-06-14T01:05:21.931498Z",
     "iopub.status.busy": "2021-06-14T01:05:21.930885Z",
     "iopub.status.idle": "2021-06-14T01:07:54.171942Z",
     "shell.execute_reply": "2021-06-14T01:07:54.172493Z",
     "shell.execute_reply.started": "2021-06-14T00:54:23.471611Z"
    },
    "papermill": {
     "duration": 152.338134,
     "end_time": "2021-06-14T01:07:54.172700",
     "exception": false,
     "start_time": "2021-06-14T01:05:21.834566",
     "status": "completed"
    },
    "tags": []
   },
   "outputs": [
    {
     "data": {
      "text/html": [
       "<div>\n",
       "<style scoped>\n",
       "    .dataframe tbody tr th:only-of-type {\n",
       "        vertical-align: middle;\n",
       "    }\n",
       "\n",
       "    .dataframe tbody tr th {\n",
       "        vertical-align: top;\n",
       "    }\n",
       "\n",
       "    .dataframe thead th {\n",
       "        text-align: right;\n",
       "    }\n",
       "</style>\n",
       "<table border=\"1\" class=\"dataframe\">\n",
       "  <thead>\n",
       "    <tr style=\"text-align: right;\">\n",
       "      <th></th>\n",
       "      <th>meter_reading</th>\n",
       "    </tr>\n",
       "    <tr>\n",
       "      <th>row_id</th>\n",
       "      <th></th>\n",
       "    </tr>\n",
       "  </thead>\n",
       "  <tbody>\n",
       "    <tr>\n",
       "      <th>0</th>\n",
       "      <td>61.375184</td>\n",
       "    </tr>\n",
       "    <tr>\n",
       "      <th>1</th>\n",
       "      <td>24.334337</td>\n",
       "    </tr>\n",
       "    <tr>\n",
       "      <th>2</th>\n",
       "      <td>19.732102</td>\n",
       "    </tr>\n",
       "    <tr>\n",
       "      <th>3</th>\n",
       "      <td>197.282062</td>\n",
       "    </tr>\n",
       "    <tr>\n",
       "      <th>4</th>\n",
       "      <td>626.315857</td>\n",
       "    </tr>\n",
       "    <tr>\n",
       "      <th>5</th>\n",
       "      <td>33.638315</td>\n",
       "    </tr>\n",
       "    <tr>\n",
       "      <th>6</th>\n",
       "      <td>34.929234</td>\n",
       "    </tr>\n",
       "    <tr>\n",
       "      <th>7</th>\n",
       "      <td>998.710260</td>\n",
       "    </tr>\n",
       "    <tr>\n",
       "      <th>8</th>\n",
       "      <td>31.009532</td>\n",
       "    </tr>\n",
       "    <tr>\n",
       "      <th>9</th>\n",
       "      <td>129.442023</td>\n",
       "    </tr>\n",
       "  </tbody>\n",
       "</table>\n",
       "</div>"
      ],
      "text/plain": [
       "        meter_reading\n",
       "row_id               \n",
       "0           61.375184\n",
       "1           24.334337\n",
       "2           19.732102\n",
       "3          197.282062\n",
       "4          626.315857\n",
       "5           33.638315\n",
       "6           34.929234\n",
       "7          998.710260\n",
       "8           31.009532\n",
       "9          129.442023"
      ]
     },
     "execution_count": 68,
     "metadata": {},
     "output_type": "execute_result"
    }
   ],
   "source": [
    "target = np.expm1(cls.predict(test))\n",
    "\n",
    "submission = pd.DataFrame(target, index=row_id, columns=['meter_reading'])\n",
    "submission.head(10)"
   ]
  },
  {
   "cell_type": "code",
   "execution_count": 69,
   "id": "broken-genome",
   "metadata": {
    "execution": {
     "iopub.execute_input": "2021-06-14T01:07:54.361134Z",
     "iopub.status.busy": "2021-06-14T01:07:54.360052Z",
     "iopub.status.idle": "2021-06-14T01:07:55.017979Z",
     "shell.execute_reply": "2021-06-14T01:07:55.017328Z",
     "shell.execute_reply.started": "2021-06-14T00:56:45.845486Z"
    },
    "papermill": {
     "duration": 0.754235,
     "end_time": "2021-06-14T01:07:55.018129",
     "exception": false,
     "start_time": "2021-06-14T01:07:54.263894",
     "status": "completed"
    },
    "tags": []
   },
   "outputs": [
    {
     "name": "stdout",
     "output_type": "stream",
     "text": [
      "Memory usage of dataframe is 636.25 MB\n",
      "Memory usage after optimization is: 477.19 MB\n",
      "Decreased by 25.0%\n"
     ]
    }
   ],
   "source": [
    "del row_id\n",
    "gc.collect()\n",
    "\n",
    "submission = reduce_mem_usage(submission)"
   ]
  },
  {
   "cell_type": "code",
   "execution_count": 70,
   "id": "proud-screw",
   "metadata": {
    "execution": {
     "iopub.execute_input": "2021-06-14T01:07:55.205776Z",
     "iopub.status.busy": "2021-06-14T01:07:55.204901Z",
     "iopub.status.idle": "2021-06-14T01:10:08.906971Z",
     "shell.execute_reply": "2021-06-14T01:10:08.907474Z",
     "shell.execute_reply.started": "2021-06-14T00:56:46.346695Z"
    },
    "papermill": {
     "duration": 133.797786,
     "end_time": "2021-06-14T01:10:08.907694",
     "exception": false,
     "start_time": "2021-06-14T01:07:55.109908",
     "status": "completed"
    },
    "tags": []
   },
   "outputs": [],
   "source": [
    "submission.to_csv('ASHRAE_submit.csv')"
   ]
  }
 ],
 "metadata": {
  "kernelspec": {
   "display_name": "Python 3",
   "language": "python",
   "name": "python3"
  },
  "language_info": {
   "codemirror_mode": {
    "name": "ipython",
    "version": 3
   },
   "file_extension": ".py",
   "mimetype": "text/x-python",
   "name": "python",
   "nbconvert_exporter": "python",
   "pygments_lexer": "ipython3",
   "version": "3.7.10"
  },
  "papermill": {
   "default_parameters": {},
   "duration": 685.098644,
   "end_time": "2021-06-14T01:10:11.414162",
   "environment_variables": {},
   "exception": null,
   "input_path": "__notebook__.ipynb",
   "output_path": "__notebook__.ipynb",
   "parameters": {},
   "start_time": "2021-06-14T00:58:46.315518",
   "version": "2.3.3"
  }
 },
 "nbformat": 4,
 "nbformat_minor": 5
}
