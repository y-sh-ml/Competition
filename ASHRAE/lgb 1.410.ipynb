{
 "cells": [
  {
   "cell_type": "markdown",
   "id": "positive-frank",
   "metadata": {
    "papermill": {
     "duration": 0.049139,
     "end_time": "2021-06-09T23:55:36.124444",
     "exception": false,
     "start_time": "2021-06-09T23:55:36.075305",
     "status": "completed"
    },
    "tags": []
   },
   "source": [
    "# Overview"
   ]
  },
  {
   "cell_type": "markdown",
   "id": "thirty-framework",
   "metadata": {
    "papermill": {
     "duration": 0.044523,
     "end_time": "2021-06-09T23:55:36.213970",
     "exception": false,
     "start_time": "2021-06-09T23:55:36.169447",
     "status": "completed"
    },
    "tags": []
   },
   "source": [
    "1448棟のビルの4種類のメーター（電力、冷水、スチーム、温水）の値を予測するコンペである。\n",
    "\n",
    "背景としては、エネルギー使用量（4種類のメーターの値）が正確に予測できるようになることで<br>\n",
    "省エネ投資を活発化させて、環境問題に貢献したいという狙いがある。\n",
    "\n",
    "ビルの所有者は、ビルのエネルギー効率を改善するような投資を行うことで<br>\n",
    "エネルギー効率が改善された分、コストを抑えることができる。"
   ]
  },
  {
   "cell_type": "markdown",
   "id": "widespread-operator",
   "metadata": {
    "papermill": {
     "duration": 0.044473,
     "end_time": "2021-06-09T23:55:36.304298",
     "exception": false,
     "start_time": "2021-06-09T23:55:36.259825",
     "status": "completed"
    },
    "tags": []
   },
   "source": [
    "# Module"
   ]
  },
  {
   "cell_type": "code",
   "execution_count": 1,
   "id": "exclusive-backing",
   "metadata": {
    "execution": {
     "iopub.execute_input": "2021-06-09T23:55:36.398741Z",
     "iopub.status.busy": "2021-06-09T23:55:36.397579Z",
     "iopub.status.idle": "2021-06-09T23:55:39.547518Z",
     "shell.execute_reply": "2021-06-09T23:55:39.548036Z",
     "shell.execute_reply.started": "2021-06-09T23:54:16.999742Z"
    },
    "papermill": {
     "duration": 3.199484,
     "end_time": "2021-06-09T23:55:39.548423",
     "exception": false,
     "start_time": "2021-06-09T23:55:36.348939",
     "status": "completed"
    },
    "tags": []
   },
   "outputs": [
    {
     "data": {
      "text/html": [
       "<style type='text/css'>\n",
       ".datatable table.frame { margin-bottom: 0; }\n",
       ".datatable table.frame thead { border-bottom: none; }\n",
       ".datatable table.frame tr.coltypes td {  color: #FFFFFF;  line-height: 6px;  padding: 0 0.5em;}\n",
       ".datatable .bool    { background: #DDDD99; }\n",
       ".datatable .object  { background: #565656; }\n",
       ".datatable .int     { background: #5D9E5D; }\n",
       ".datatable .float   { background: #4040CC; }\n",
       ".datatable .str     { background: #CC4040; }\n",
       ".datatable .row_index {  background: var(--jp-border-color3);  border-right: 1px solid var(--jp-border-color0);  color: var(--jp-ui-font-color3);  font-size: 9px;}\n",
       ".datatable .frame tr.coltypes .row_index {  background: var(--jp-border-color0);}\n",
       ".datatable th:nth-child(2) { padding-left: 12px; }\n",
       ".datatable .hellipsis {  color: var(--jp-cell-editor-border-color);}\n",
       ".datatable .vellipsis {  background: var(--jp-layout-color0);  color: var(--jp-cell-editor-border-color);}\n",
       ".datatable .na {  color: var(--jp-cell-editor-border-color);  font-size: 80%;}\n",
       ".datatable .footer { font-size: 9px; }\n",
       ".datatable .frame_dimensions {  background: var(--jp-border-color3);  border-top: 1px solid var(--jp-border-color0);  color: var(--jp-ui-font-color3);  display: inline-block;  opacity: 0.6;  padding: 1px 10px 1px 5px;}\n",
       "</style>\n"
      ],
      "text/plain": [
       "<IPython.core.display.HTML object>"
      ]
     },
     "metadata": {},
     "output_type": "display_data"
    }
   ],
   "source": [
    "import gc\n",
    "import sys\n",
    "import optuna\n",
    "import datetime\n",
    "import warnings\n",
    "import matplotlib\n",
    "import numpy as np\n",
    "import pandas as pd\n",
    "import seaborn as sns\n",
    "import lightgbm as lgb\n",
    "import matplotlib.pyplot as plt\n",
    "\n",
    "from sklearn.preprocessing import LabelEncoder\n",
    "from sklearn.model_selection import train_test_split\n",
    "from sklearn.metrics import mean_squared_error\n",
    "from pandas.api.types import is_datetime64_any_dtype as is_datetime\n",
    "from pandas.api.types import is_categorical_dtype"
   ]
  },
  {
   "cell_type": "markdown",
   "id": "bulgarian-timer",
   "metadata": {
    "papermill": {
     "duration": 0.04522,
     "end_time": "2021-06-09T23:55:39.640630",
     "exception": false,
     "start_time": "2021-06-09T23:55:39.595410",
     "status": "completed"
    },
    "tags": []
   },
   "source": [
    "# Datasets"
   ]
  },
  {
   "cell_type": "code",
   "execution_count": 2,
   "id": "empty-grace",
   "metadata": {
    "execution": {
     "iopub.execute_input": "2021-06-09T23:55:39.736596Z",
     "iopub.status.busy": "2021-06-09T23:55:39.735829Z",
     "iopub.status.idle": "2021-06-09T23:55:55.913272Z",
     "shell.execute_reply": "2021-06-09T23:55:55.913977Z",
     "shell.execute_reply.started": "2021-06-09T23:54:20.297255Z"
    },
    "papermill": {
     "duration": 16.228334,
     "end_time": "2021-06-09T23:55:55.914244",
     "exception": false,
     "start_time": "2021-06-09T23:55:39.685910",
     "status": "completed"
    },
    "tags": []
   },
   "outputs": [
    {
     "name": "stdout",
     "output_type": "stream",
     "text": [
      "(20216100, 4)\n"
     ]
    },
    {
     "data": {
      "text/html": [
       "<div>\n",
       "<style scoped>\n",
       "    .dataframe tbody tr th:only-of-type {\n",
       "        vertical-align: middle;\n",
       "    }\n",
       "\n",
       "    .dataframe tbody tr th {\n",
       "        vertical-align: top;\n",
       "    }\n",
       "\n",
       "    .dataframe thead th {\n",
       "        text-align: right;\n",
       "    }\n",
       "</style>\n",
       "<table border=\"1\" class=\"dataframe\">\n",
       "  <thead>\n",
       "    <tr style=\"text-align: right;\">\n",
       "      <th></th>\n",
       "      <th>building_id</th>\n",
       "      <th>meter</th>\n",
       "      <th>timestamp</th>\n",
       "      <th>meter_reading</th>\n",
       "    </tr>\n",
       "  </thead>\n",
       "  <tbody>\n",
       "    <tr>\n",
       "      <th>0</th>\n",
       "      <td>0</td>\n",
       "      <td>0</td>\n",
       "      <td>2016-01-01 00:00:00</td>\n",
       "      <td>0.0</td>\n",
       "    </tr>\n",
       "    <tr>\n",
       "      <th>1</th>\n",
       "      <td>1</td>\n",
       "      <td>0</td>\n",
       "      <td>2016-01-01 00:00:00</td>\n",
       "      <td>0.0</td>\n",
       "    </tr>\n",
       "    <tr>\n",
       "      <th>2</th>\n",
       "      <td>2</td>\n",
       "      <td>0</td>\n",
       "      <td>2016-01-01 00:00:00</td>\n",
       "      <td>0.0</td>\n",
       "    </tr>\n",
       "    <tr>\n",
       "      <th>3</th>\n",
       "      <td>3</td>\n",
       "      <td>0</td>\n",
       "      <td>2016-01-01 00:00:00</td>\n",
       "      <td>0.0</td>\n",
       "    </tr>\n",
       "    <tr>\n",
       "      <th>4</th>\n",
       "      <td>4</td>\n",
       "      <td>0</td>\n",
       "      <td>2016-01-01 00:00:00</td>\n",
       "      <td>0.0</td>\n",
       "    </tr>\n",
       "  </tbody>\n",
       "</table>\n",
       "</div>"
      ],
      "text/plain": [
       "   building_id  meter            timestamp  meter_reading\n",
       "0            0      0  2016-01-01 00:00:00            0.0\n",
       "1            1      0  2016-01-01 00:00:00            0.0\n",
       "2            2      0  2016-01-01 00:00:00            0.0\n",
       "3            3      0  2016-01-01 00:00:00            0.0\n",
       "4            4      0  2016-01-01 00:00:00            0.0"
      ]
     },
     "execution_count": 2,
     "metadata": {},
     "output_type": "execute_result"
    }
   ],
   "source": [
    "train = pd.read_csv('../input/ashrae-energy-prediction/train.csv')\n",
    "\n",
    "print(train.shape)\n",
    "train.head()"
   ]
  },
  {
   "cell_type": "markdown",
   "id": "undefined-humanity",
   "metadata": {
    "execution": {
     "iopub.execute_input": "2021-06-04T05:10:36.573413Z",
     "iopub.status.busy": "2021-06-04T05:10:36.573045Z",
     "iopub.status.idle": "2021-06-04T05:10:36.579555Z",
     "shell.execute_reply": "2021-06-04T05:10:36.578197Z",
     "shell.execute_reply.started": "2021-06-04T05:10:36.573384Z"
    },
    "papermill": {
     "duration": 0.046703,
     "end_time": "2021-06-09T23:55:56.009368",
     "exception": false,
     "start_time": "2021-06-09T23:55:55.962665",
     "status": "completed"
    },
    "tags": []
   },
   "source": [
    "1時間ごとのメータ値を保持するテーブル（学習データ）<br>\n",
    "・building_id：ビルのID<br>\n",
    "・meter：0は電力、1は冷水、2はスチーム、3は温水<br>\n",
    "・timestamp：日付と時刻<br>\n",
    "・meter_reading：メーターの使用量（目的変数）<br>"
   ]
  },
  {
   "cell_type": "code",
   "execution_count": 3,
   "id": "respective-barbados",
   "metadata": {
    "execution": {
     "iopub.execute_input": "2021-06-09T23:55:56.107301Z",
     "iopub.status.busy": "2021-06-09T23:55:56.106545Z",
     "iopub.status.idle": "2021-06-09T23:56:28.623322Z",
     "shell.execute_reply": "2021-06-09T23:56:28.622755Z"
    },
    "papermill": {
     "duration": 32.567646,
     "end_time": "2021-06-09T23:56:28.623484",
     "exception": false,
     "start_time": "2021-06-09T23:55:56.055838",
     "status": "completed"
    },
    "tags": []
   },
   "outputs": [
    {
     "name": "stdout",
     "output_type": "stream",
     "text": [
      "(41697600, 4)\n"
     ]
    },
    {
     "data": {
      "text/html": [
       "<div>\n",
       "<style scoped>\n",
       "    .dataframe tbody tr th:only-of-type {\n",
       "        vertical-align: middle;\n",
       "    }\n",
       "\n",
       "    .dataframe tbody tr th {\n",
       "        vertical-align: top;\n",
       "    }\n",
       "\n",
       "    .dataframe thead th {\n",
       "        text-align: right;\n",
       "    }\n",
       "</style>\n",
       "<table border=\"1\" class=\"dataframe\">\n",
       "  <thead>\n",
       "    <tr style=\"text-align: right;\">\n",
       "      <th></th>\n",
       "      <th>row_id</th>\n",
       "      <th>building_id</th>\n",
       "      <th>meter</th>\n",
       "      <th>timestamp</th>\n",
       "    </tr>\n",
       "  </thead>\n",
       "  <tbody>\n",
       "    <tr>\n",
       "      <th>0</th>\n",
       "      <td>0</td>\n",
       "      <td>0</td>\n",
       "      <td>0</td>\n",
       "      <td>2017-01-01 00:00:00</td>\n",
       "    </tr>\n",
       "    <tr>\n",
       "      <th>1</th>\n",
       "      <td>1</td>\n",
       "      <td>1</td>\n",
       "      <td>0</td>\n",
       "      <td>2017-01-01 00:00:00</td>\n",
       "    </tr>\n",
       "    <tr>\n",
       "      <th>2</th>\n",
       "      <td>2</td>\n",
       "      <td>2</td>\n",
       "      <td>0</td>\n",
       "      <td>2017-01-01 00:00:00</td>\n",
       "    </tr>\n",
       "    <tr>\n",
       "      <th>3</th>\n",
       "      <td>3</td>\n",
       "      <td>3</td>\n",
       "      <td>0</td>\n",
       "      <td>2017-01-01 00:00:00</td>\n",
       "    </tr>\n",
       "    <tr>\n",
       "      <th>4</th>\n",
       "      <td>4</td>\n",
       "      <td>4</td>\n",
       "      <td>0</td>\n",
       "      <td>2017-01-01 00:00:00</td>\n",
       "    </tr>\n",
       "  </tbody>\n",
       "</table>\n",
       "</div>"
      ],
      "text/plain": [
       "   row_id  building_id  meter            timestamp\n",
       "0       0            0      0  2017-01-01 00:00:00\n",
       "1       1            1      0  2017-01-01 00:00:00\n",
       "2       2            2      0  2017-01-01 00:00:00\n",
       "3       3            3      0  2017-01-01 00:00:00\n",
       "4       4            4      0  2017-01-01 00:00:00"
      ]
     },
     "execution_count": 3,
     "metadata": {},
     "output_type": "execute_result"
    }
   ],
   "source": [
    "test = pd.read_csv('../input/ashrae-energy-prediction/test.csv')\n",
    "\n",
    "print(test.shape)\n",
    "test.head()"
   ]
  },
  {
   "cell_type": "markdown",
   "id": "considerable-colonial",
   "metadata": {
    "papermill": {
     "duration": 0.046446,
     "end_time": "2021-06-09T23:56:28.717311",
     "exception": false,
     "start_time": "2021-06-09T23:56:28.670865",
     "status": "completed"
    },
    "tags": []
   },
   "source": [
    "1時間ごとのメータ値を保持するテーブル（テストデータ）<br>\n",
    "・row_id：行のID<br>\n",
    "・building_id：ビルのID<br>\n",
    "・meter：0は電力、1は冷水、2はスチーム、3は温水<br>\n",
    "・timestamp：日付と時刻<br>"
   ]
  },
  {
   "cell_type": "code",
   "execution_count": 4,
   "id": "sharing-diabetes",
   "metadata": {
    "execution": {
     "iopub.execute_input": "2021-06-09T23:56:28.814233Z",
     "iopub.status.busy": "2021-06-09T23:56:28.813606Z",
     "iopub.status.idle": "2021-06-09T23:56:28.817803Z",
     "shell.execute_reply": "2021-06-09T23:56:28.818317Z"
    },
    "papermill": {
     "duration": 0.054236,
     "end_time": "2021-06-09T23:56:28.818483",
     "exception": false,
     "start_time": "2021-06-09T23:56:28.764247",
     "status": "completed"
    },
    "tags": []
   },
   "outputs": [],
   "source": [
    "usecols = {'site_id', 'timestamp', 'air_temperature', 'cloud_coverage', 'dew_temperature'}"
   ]
  },
  {
   "cell_type": "code",
   "execution_count": 5,
   "id": "fallen-colonial",
   "metadata": {
    "execution": {
     "iopub.execute_input": "2021-06-09T23:56:28.917724Z",
     "iopub.status.busy": "2021-06-09T23:56:28.916977Z",
     "iopub.status.idle": "2021-06-09T23:56:29.278921Z",
     "shell.execute_reply": "2021-06-09T23:56:29.279533Z"
    },
    "papermill": {
     "duration": 0.414258,
     "end_time": "2021-06-09T23:56:29.279716",
     "exception": false,
     "start_time": "2021-06-09T23:56:28.865458",
     "status": "completed"
    },
    "tags": []
   },
   "outputs": [
    {
     "name": "stdout",
     "output_type": "stream",
     "text": [
      "(139773, 5)\n"
     ]
    },
    {
     "data": {
      "text/html": [
       "<div>\n",
       "<style scoped>\n",
       "    .dataframe tbody tr th:only-of-type {\n",
       "        vertical-align: middle;\n",
       "    }\n",
       "\n",
       "    .dataframe tbody tr th {\n",
       "        vertical-align: top;\n",
       "    }\n",
       "\n",
       "    .dataframe thead th {\n",
       "        text-align: right;\n",
       "    }\n",
       "</style>\n",
       "<table border=\"1\" class=\"dataframe\">\n",
       "  <thead>\n",
       "    <tr style=\"text-align: right;\">\n",
       "      <th></th>\n",
       "      <th>site_id</th>\n",
       "      <th>timestamp</th>\n",
       "      <th>air_temperature</th>\n",
       "      <th>cloud_coverage</th>\n",
       "      <th>dew_temperature</th>\n",
       "    </tr>\n",
       "  </thead>\n",
       "  <tbody>\n",
       "    <tr>\n",
       "      <th>0</th>\n",
       "      <td>0</td>\n",
       "      <td>2016-01-01 00:00:00</td>\n",
       "      <td>25.0</td>\n",
       "      <td>6.0</td>\n",
       "      <td>20.0</td>\n",
       "    </tr>\n",
       "    <tr>\n",
       "      <th>1</th>\n",
       "      <td>0</td>\n",
       "      <td>2016-01-01 01:00:00</td>\n",
       "      <td>24.4</td>\n",
       "      <td>NaN</td>\n",
       "      <td>21.1</td>\n",
       "    </tr>\n",
       "    <tr>\n",
       "      <th>2</th>\n",
       "      <td>0</td>\n",
       "      <td>2016-01-01 02:00:00</td>\n",
       "      <td>22.8</td>\n",
       "      <td>2.0</td>\n",
       "      <td>21.1</td>\n",
       "    </tr>\n",
       "    <tr>\n",
       "      <th>3</th>\n",
       "      <td>0</td>\n",
       "      <td>2016-01-01 03:00:00</td>\n",
       "      <td>21.1</td>\n",
       "      <td>2.0</td>\n",
       "      <td>20.6</td>\n",
       "    </tr>\n",
       "    <tr>\n",
       "      <th>4</th>\n",
       "      <td>0</td>\n",
       "      <td>2016-01-01 04:00:00</td>\n",
       "      <td>20.0</td>\n",
       "      <td>2.0</td>\n",
       "      <td>20.0</td>\n",
       "    </tr>\n",
       "  </tbody>\n",
       "</table>\n",
       "</div>"
      ],
      "text/plain": [
       "   site_id            timestamp  air_temperature  cloud_coverage  \\\n",
       "0        0  2016-01-01 00:00:00             25.0             6.0   \n",
       "1        0  2016-01-01 01:00:00             24.4             NaN   \n",
       "2        0  2016-01-01 02:00:00             22.8             2.0   \n",
       "3        0  2016-01-01 03:00:00             21.1             2.0   \n",
       "4        0  2016-01-01 04:00:00             20.0             2.0   \n",
       "\n",
       "   dew_temperature  \n",
       "0             20.0  \n",
       "1             21.1  \n",
       "2             21.1  \n",
       "3             20.6  \n",
       "4             20.0  "
      ]
     },
     "execution_count": 5,
     "metadata": {},
     "output_type": "execute_result"
    }
   ],
   "source": [
    "weather_train = pd.read_csv('../input/ashrae-energy-prediction/weather_train.csv', usecols=usecols)\n",
    "\n",
    "print(weather_train.shape)\n",
    "weather_train.head()"
   ]
  },
  {
   "cell_type": "markdown",
   "id": "interior-astronomy",
   "metadata": {
    "papermill": {
     "duration": 0.047999,
     "end_time": "2021-06-09T23:56:29.376853",
     "exception": false,
     "start_time": "2021-06-09T23:56:29.328854",
     "status": "completed"
    },
    "tags": []
   },
   "source": [
    "気象情報を保持するテーブル（学習データに対応）<br>\n",
    "・site_id：ビルの物理的な位置<br>\n",
    "・timestamp：日付と時刻<br>\n",
    "・air_temperature：気温<br>\n",
    "・dew_temperature：湿度<br>\n",
    "・precip_depth：降水量<br>\n",
    "・sea_level_pressure：海圧<br>\n",
    "・wind_direction：風向<br>\n",
    "・wind_speed：風速<br>"
   ]
  },
  {
   "cell_type": "code",
   "execution_count": 6,
   "id": "russian-french",
   "metadata": {
    "execution": {
     "iopub.execute_input": "2021-06-09T23:56:29.477954Z",
     "iopub.status.busy": "2021-06-09T23:56:29.477300Z",
     "iopub.status.idle": "2021-06-09T23:56:29.907341Z",
     "shell.execute_reply": "2021-06-09T23:56:29.906645Z"
    },
    "papermill": {
     "duration": 0.482674,
     "end_time": "2021-06-09T23:56:29.907499",
     "exception": false,
     "start_time": "2021-06-09T23:56:29.424825",
     "status": "completed"
    },
    "tags": []
   },
   "outputs": [
    {
     "name": "stdout",
     "output_type": "stream",
     "text": [
      "(277243, 5)\n"
     ]
    },
    {
     "data": {
      "text/html": [
       "<div>\n",
       "<style scoped>\n",
       "    .dataframe tbody tr th:only-of-type {\n",
       "        vertical-align: middle;\n",
       "    }\n",
       "\n",
       "    .dataframe tbody tr th {\n",
       "        vertical-align: top;\n",
       "    }\n",
       "\n",
       "    .dataframe thead th {\n",
       "        text-align: right;\n",
       "    }\n",
       "</style>\n",
       "<table border=\"1\" class=\"dataframe\">\n",
       "  <thead>\n",
       "    <tr style=\"text-align: right;\">\n",
       "      <th></th>\n",
       "      <th>site_id</th>\n",
       "      <th>timestamp</th>\n",
       "      <th>air_temperature</th>\n",
       "      <th>cloud_coverage</th>\n",
       "      <th>dew_temperature</th>\n",
       "    </tr>\n",
       "  </thead>\n",
       "  <tbody>\n",
       "    <tr>\n",
       "      <th>0</th>\n",
       "      <td>0</td>\n",
       "      <td>2017-01-01 00:00:00</td>\n",
       "      <td>17.8</td>\n",
       "      <td>4.0</td>\n",
       "      <td>11.7</td>\n",
       "    </tr>\n",
       "    <tr>\n",
       "      <th>1</th>\n",
       "      <td>0</td>\n",
       "      <td>2017-01-01 01:00:00</td>\n",
       "      <td>17.8</td>\n",
       "      <td>2.0</td>\n",
       "      <td>12.8</td>\n",
       "    </tr>\n",
       "    <tr>\n",
       "      <th>2</th>\n",
       "      <td>0</td>\n",
       "      <td>2017-01-01 02:00:00</td>\n",
       "      <td>16.1</td>\n",
       "      <td>0.0</td>\n",
       "      <td>12.8</td>\n",
       "    </tr>\n",
       "    <tr>\n",
       "      <th>3</th>\n",
       "      <td>0</td>\n",
       "      <td>2017-01-01 03:00:00</td>\n",
       "      <td>17.2</td>\n",
       "      <td>0.0</td>\n",
       "      <td>13.3</td>\n",
       "    </tr>\n",
       "    <tr>\n",
       "      <th>4</th>\n",
       "      <td>0</td>\n",
       "      <td>2017-01-01 04:00:00</td>\n",
       "      <td>16.7</td>\n",
       "      <td>2.0</td>\n",
       "      <td>13.3</td>\n",
       "    </tr>\n",
       "  </tbody>\n",
       "</table>\n",
       "</div>"
      ],
      "text/plain": [
       "   site_id            timestamp  air_temperature  cloud_coverage  \\\n",
       "0        0  2017-01-01 00:00:00             17.8             4.0   \n",
       "1        0  2017-01-01 01:00:00             17.8             2.0   \n",
       "2        0  2017-01-01 02:00:00             16.1             0.0   \n",
       "3        0  2017-01-01 03:00:00             17.2             0.0   \n",
       "4        0  2017-01-01 04:00:00             16.7             2.0   \n",
       "\n",
       "   dew_temperature  \n",
       "0             11.7  \n",
       "1             12.8  \n",
       "2             12.8  \n",
       "3             13.3  \n",
       "4             13.3  "
      ]
     },
     "execution_count": 6,
     "metadata": {},
     "output_type": "execute_result"
    }
   ],
   "source": [
    "weather_test = pd.read_csv('../input/ashrae-energy-prediction/weather_test.csv', usecols=usecols)\n",
    "\n",
    "print(weather_test.shape)\n",
    "weather_test.head()"
   ]
  },
  {
   "cell_type": "markdown",
   "id": "jewish-sussex",
   "metadata": {
    "papermill": {
     "duration": 0.051975,
     "end_time": "2021-06-09T23:56:30.009699",
     "exception": false,
     "start_time": "2021-06-09T23:56:29.957724",
     "status": "completed"
    },
    "tags": []
   },
   "source": [
    "気象情報を保持するテーブル（テストデータに対応）<br>\n",
    "・site_id：ビルの物理的な位置<br>\n",
    "・timestamp：日付と時刻<br>\n",
    "・air_temperature：気温<br>\n",
    "・dew_temperature：湿度<br>\n",
    "・precip_depth：降水量<br>\n",
    "・sea_level_pressure：海圧<br>\n",
    "・wind_direction：風向<br>\n",
    "・wind_speed：風速<br>"
   ]
  },
  {
   "cell_type": "code",
   "execution_count": 7,
   "id": "brazilian-latex",
   "metadata": {
    "execution": {
     "iopub.execute_input": "2021-06-09T23:56:30.112856Z",
     "iopub.status.busy": "2021-06-09T23:56:30.111961Z",
     "iopub.status.idle": "2021-06-09T23:56:30.116496Z",
     "shell.execute_reply": "2021-06-09T23:56:30.115834Z"
    },
    "papermill": {
     "duration": 0.057738,
     "end_time": "2021-06-09T23:56:30.116640",
     "exception": false,
     "start_time": "2021-06-09T23:56:30.058902",
     "status": "completed"
    },
    "tags": []
   },
   "outputs": [],
   "source": [
    "usecols = {'site_id', 'building_id', 'primary_use', 'square_feet', 'year_built'}"
   ]
  },
  {
   "cell_type": "code",
   "execution_count": 8,
   "id": "catholic-stick",
   "metadata": {
    "execution": {
     "iopub.execute_input": "2021-06-09T23:56:30.219845Z",
     "iopub.status.busy": "2021-06-09T23:56:30.219136Z",
     "iopub.status.idle": "2021-06-09T23:56:30.245382Z",
     "shell.execute_reply": "2021-06-09T23:56:30.245886Z"
    },
    "papermill": {
     "duration": 0.080143,
     "end_time": "2021-06-09T23:56:30.246061",
     "exception": false,
     "start_time": "2021-06-09T23:56:30.165918",
     "status": "completed"
    },
    "tags": []
   },
   "outputs": [
    {
     "name": "stdout",
     "output_type": "stream",
     "text": [
      "(1449, 5)\n"
     ]
    },
    {
     "data": {
      "text/html": [
       "<div>\n",
       "<style scoped>\n",
       "    .dataframe tbody tr th:only-of-type {\n",
       "        vertical-align: middle;\n",
       "    }\n",
       "\n",
       "    .dataframe tbody tr th {\n",
       "        vertical-align: top;\n",
       "    }\n",
       "\n",
       "    .dataframe thead th {\n",
       "        text-align: right;\n",
       "    }\n",
       "</style>\n",
       "<table border=\"1\" class=\"dataframe\">\n",
       "  <thead>\n",
       "    <tr style=\"text-align: right;\">\n",
       "      <th></th>\n",
       "      <th>site_id</th>\n",
       "      <th>building_id</th>\n",
       "      <th>primary_use</th>\n",
       "      <th>square_feet</th>\n",
       "      <th>year_built</th>\n",
       "    </tr>\n",
       "  </thead>\n",
       "  <tbody>\n",
       "    <tr>\n",
       "      <th>0</th>\n",
       "      <td>0</td>\n",
       "      <td>0</td>\n",
       "      <td>Education</td>\n",
       "      <td>7432</td>\n",
       "      <td>2008.0</td>\n",
       "    </tr>\n",
       "    <tr>\n",
       "      <th>1</th>\n",
       "      <td>0</td>\n",
       "      <td>1</td>\n",
       "      <td>Education</td>\n",
       "      <td>2720</td>\n",
       "      <td>2004.0</td>\n",
       "    </tr>\n",
       "    <tr>\n",
       "      <th>2</th>\n",
       "      <td>0</td>\n",
       "      <td>2</td>\n",
       "      <td>Education</td>\n",
       "      <td>5376</td>\n",
       "      <td>1991.0</td>\n",
       "    </tr>\n",
       "    <tr>\n",
       "      <th>3</th>\n",
       "      <td>0</td>\n",
       "      <td>3</td>\n",
       "      <td>Education</td>\n",
       "      <td>23685</td>\n",
       "      <td>2002.0</td>\n",
       "    </tr>\n",
       "    <tr>\n",
       "      <th>4</th>\n",
       "      <td>0</td>\n",
       "      <td>4</td>\n",
       "      <td>Education</td>\n",
       "      <td>116607</td>\n",
       "      <td>1975.0</td>\n",
       "    </tr>\n",
       "  </tbody>\n",
       "</table>\n",
       "</div>"
      ],
      "text/plain": [
       "   site_id  building_id primary_use  square_feet  year_built\n",
       "0        0            0   Education         7432      2008.0\n",
       "1        0            1   Education         2720      2004.0\n",
       "2        0            2   Education         5376      1991.0\n",
       "3        0            3   Education        23685      2002.0\n",
       "4        0            4   Education       116607      1975.0"
      ]
     },
     "execution_count": 8,
     "metadata": {},
     "output_type": "execute_result"
    }
   ],
   "source": [
    "building = pd.read_csv('../input/ashrae-energy-prediction/building_metadata.csv', usecols=usecols)\n",
    "\n",
    "print(building.shape)\n",
    "building.head()"
   ]
  },
  {
   "cell_type": "markdown",
   "id": "medieval-velvet",
   "metadata": {
    "papermill": {
     "duration": 0.049598,
     "end_time": "2021-06-09T23:56:30.346248",
     "exception": false,
     "start_time": "2021-06-09T23:56:30.296650",
     "status": "completed"
    },
    "tags": []
   },
   "source": [
    "ビルの情報を保持するテーブル<br>\n",
    "・site_id：ビルの物理的な位置<br>\n",
    "・building_id：ビルのID<br>\n",
    "・primary_use：使用目的<br>\n",
    "・square_feet：面積<br>\n",
    "・year_built：施工した年<br>\n",
    "・floor_count：階数<br>"
   ]
  },
  {
   "cell_type": "markdown",
   "id": "rolled-superintendent",
   "metadata": {
    "papermill": {
     "duration": 0.049412,
     "end_time": "2021-06-09T23:56:30.445823",
     "exception": false,
     "start_time": "2021-06-09T23:56:30.396411",
     "status": "completed"
    },
    "tags": []
   },
   "source": [
    "# Join"
   ]
  },
  {
   "cell_type": "code",
   "execution_count": 9,
   "id": "bottom-softball",
   "metadata": {
    "execution": {
     "iopub.execute_input": "2021-06-09T23:56:30.562425Z",
     "iopub.status.busy": "2021-06-09T23:56:30.559830Z",
     "iopub.status.idle": "2021-06-09T23:56:30.565924Z",
     "shell.execute_reply": "2021-06-09T23:56:30.565276Z"
    },
    "papermill": {
     "duration": 0.070479,
     "end_time": "2021-06-09T23:56:30.566068",
     "exception": false,
     "start_time": "2021-06-09T23:56:30.495589",
     "status": "completed"
    },
    "tags": []
   },
   "outputs": [],
   "source": [
    "def reduce_mem_usage(df, use_float16=False):\n",
    "    \n",
    "    start_mem = df.memory_usage().sum() / 1024**2\n",
    "    print('Memory usage of dataframe is {:.2f} MB'.format(start_mem))\n",
    "    \n",
    "    for col in df.columns:\n",
    "        if is_datetime(df[col]) or is_categorical_dtype(df[col]):\n",
    "            continue\n",
    "        col_type = df[col].dtype\n",
    "        \n",
    "        if col_type != object:\n",
    "            c_min = df[col].min()\n",
    "            c_max = df[col].max()\n",
    "            if str(col_type)[:3] == 'int':\n",
    "                if c_min > np.iinfo(np.int8).min and c_max < np.iinfo(np.int8).max:\n",
    "                    df[col] = df[col].astype(np.int8)\n",
    "                elif c_min > np.iinfo(np.int16).min and c_max < np.iinfo(np.int16).max:\n",
    "                    df[col] = df[col].astype(np.int16)\n",
    "                elif c_min > np.iinfo(np.int32).min and c_max < np.iinfo(np.int32).max:\n",
    "                    df[col] = df[col].astype(np.int32)\n",
    "                elif c_min > np.iinfo(np.int64).min and c_max < np.iinfo(np.int64).max:\n",
    "                    df[col] = df[col].astype(np.int64)  \n",
    "            else:\n",
    "                if use_float16 and c_min > np.finfo(np.float16).min and c_max < np.finfo(np.float16).max:\n",
    "                    df[col] = df[col].astype(np.float16)\n",
    "                elif c_min > np.finfo(np.float32).min and c_max < np.finfo(np.float32).max:\n",
    "                    df[col] = df[col].astype(np.float32)\n",
    "                else:\n",
    "                    df[col] = df[col].astype(np.float64)\n",
    "        else:\n",
    "            df[col] = df[col].astype('category')\n",
    "\n",
    "    end_mem = df.memory_usage().sum() / 1024**2\n",
    "    print('Memory usage after optimization is: {:.2f} MB'.format(end_mem))\n",
    "    print('Decreased by {:.1f}%'.format(100 * (start_mem - end_mem) / start_mem))\n",
    "    \n",
    "    return df"
   ]
  },
  {
   "cell_type": "code",
   "execution_count": 10,
   "id": "little-diamond",
   "metadata": {
    "execution": {
     "iopub.execute_input": "2021-06-09T23:56:30.684422Z",
     "iopub.status.busy": "2021-06-09T23:56:30.683688Z",
     "iopub.status.idle": "2021-06-09T23:56:30.801983Z",
     "shell.execute_reply": "2021-06-09T23:56:30.801031Z"
    },
    "papermill": {
     "duration": 0.186183,
     "end_time": "2021-06-09T23:56:30.802146",
     "exception": false,
     "start_time": "2021-06-09T23:56:30.615963",
     "status": "completed"
    },
    "tags": []
   },
   "outputs": [
    {
     "name": "stdout",
     "output_type": "stream",
     "text": [
      "Memory usage of dataframe is 5.33 MB\n",
      "Memory usage after optimization is: 2.32 MB\n",
      "Decreased by 56.5%\n",
      "Memory usage of dataframe is 10.58 MB\n",
      "Memory usage after optimization is: 4.60 MB\n",
      "Decreased by 56.5%\n"
     ]
    }
   ],
   "source": [
    "# train = reduce_mem_usage(train)\n",
    "# test = reduce_mem_usage(test)\n",
    "\n",
    "weather_train = reduce_mem_usage(weather_train)\n",
    "weather_test = reduce_mem_usage(weather_test)"
   ]
  },
  {
   "cell_type": "code",
   "execution_count": 11,
   "id": "productive-porcelain",
   "metadata": {
    "execution": {
     "iopub.execute_input": "2021-06-09T23:56:30.914212Z",
     "iopub.status.busy": "2021-06-09T23:56:30.913528Z",
     "iopub.status.idle": "2021-06-09T23:56:42.888664Z",
     "shell.execute_reply": "2021-06-09T23:56:42.889283Z"
    },
    "papermill": {
     "duration": 12.036421,
     "end_time": "2021-06-09T23:56:42.889458",
     "exception": false,
     "start_time": "2021-06-09T23:56:30.853037",
     "status": "completed"
    },
    "tags": []
   },
   "outputs": [
    {
     "name": "stdout",
     "output_type": "stream",
     "text": [
      "(20216100, 8)\n"
     ]
    },
    {
     "data": {
      "text/html": [
       "<div>\n",
       "<style scoped>\n",
       "    .dataframe tbody tr th:only-of-type {\n",
       "        vertical-align: middle;\n",
       "    }\n",
       "\n",
       "    .dataframe tbody tr th {\n",
       "        vertical-align: top;\n",
       "    }\n",
       "\n",
       "    .dataframe thead th {\n",
       "        text-align: right;\n",
       "    }\n",
       "</style>\n",
       "<table border=\"1\" class=\"dataframe\">\n",
       "  <thead>\n",
       "    <tr style=\"text-align: right;\">\n",
       "      <th></th>\n",
       "      <th>building_id</th>\n",
       "      <th>meter</th>\n",
       "      <th>timestamp</th>\n",
       "      <th>meter_reading</th>\n",
       "      <th>site_id</th>\n",
       "      <th>primary_use</th>\n",
       "      <th>square_feet</th>\n",
       "      <th>year_built</th>\n",
       "    </tr>\n",
       "  </thead>\n",
       "  <tbody>\n",
       "    <tr>\n",
       "      <th>0</th>\n",
       "      <td>0</td>\n",
       "      <td>0</td>\n",
       "      <td>2016-01-01 00:00:00</td>\n",
       "      <td>0.0</td>\n",
       "      <td>0</td>\n",
       "      <td>Education</td>\n",
       "      <td>7432</td>\n",
       "      <td>2008.0</td>\n",
       "    </tr>\n",
       "    <tr>\n",
       "      <th>1</th>\n",
       "      <td>1</td>\n",
       "      <td>0</td>\n",
       "      <td>2016-01-01 00:00:00</td>\n",
       "      <td>0.0</td>\n",
       "      <td>0</td>\n",
       "      <td>Education</td>\n",
       "      <td>2720</td>\n",
       "      <td>2004.0</td>\n",
       "    </tr>\n",
       "    <tr>\n",
       "      <th>2</th>\n",
       "      <td>2</td>\n",
       "      <td>0</td>\n",
       "      <td>2016-01-01 00:00:00</td>\n",
       "      <td>0.0</td>\n",
       "      <td>0</td>\n",
       "      <td>Education</td>\n",
       "      <td>5376</td>\n",
       "      <td>1991.0</td>\n",
       "    </tr>\n",
       "    <tr>\n",
       "      <th>3</th>\n",
       "      <td>3</td>\n",
       "      <td>0</td>\n",
       "      <td>2016-01-01 00:00:00</td>\n",
       "      <td>0.0</td>\n",
       "      <td>0</td>\n",
       "      <td>Education</td>\n",
       "      <td>23685</td>\n",
       "      <td>2002.0</td>\n",
       "    </tr>\n",
       "    <tr>\n",
       "      <th>4</th>\n",
       "      <td>4</td>\n",
       "      <td>0</td>\n",
       "      <td>2016-01-01 00:00:00</td>\n",
       "      <td>0.0</td>\n",
       "      <td>0</td>\n",
       "      <td>Education</td>\n",
       "      <td>116607</td>\n",
       "      <td>1975.0</td>\n",
       "    </tr>\n",
       "  </tbody>\n",
       "</table>\n",
       "</div>"
      ],
      "text/plain": [
       "   building_id  meter            timestamp  meter_reading  site_id  \\\n",
       "0            0      0  2016-01-01 00:00:00            0.0        0   \n",
       "1            1      0  2016-01-01 00:00:00            0.0        0   \n",
       "2            2      0  2016-01-01 00:00:00            0.0        0   \n",
       "3            3      0  2016-01-01 00:00:00            0.0        0   \n",
       "4            4      0  2016-01-01 00:00:00            0.0        0   \n",
       "\n",
       "  primary_use  square_feet  year_built  \n",
       "0   Education         7432      2008.0  \n",
       "1   Education         2720      2004.0  \n",
       "2   Education         5376      1991.0  \n",
       "3   Education        23685      2002.0  \n",
       "4   Education       116607      1975.0  "
      ]
     },
     "execution_count": 11,
     "metadata": {},
     "output_type": "execute_result"
    }
   ],
   "source": [
    "train = train.merge(building, on='building_id', how='left')\n",
    "test = test.merge(building, on='building_id', how='left')\n",
    "\n",
    "print(train.shape)\n",
    "train.head()"
   ]
  },
  {
   "cell_type": "code",
   "execution_count": 12,
   "id": "palestinian-violin",
   "metadata": {
    "execution": {
     "iopub.execute_input": "2021-06-09T23:56:43.133665Z",
     "iopub.status.busy": "2021-06-09T23:56:43.132956Z",
     "iopub.status.idle": "2021-06-09T23:56:43.137445Z",
     "shell.execute_reply": "2021-06-09T23:56:43.136918Z"
    },
    "papermill": {
     "duration": 0.196912,
     "end_time": "2021-06-09T23:56:43.137601",
     "exception": false,
     "start_time": "2021-06-09T23:56:42.940689",
     "status": "completed"
    },
    "tags": []
   },
   "outputs": [
    {
     "data": {
      "text/plain": [
       "131"
      ]
     },
     "execution_count": 12,
     "metadata": {},
     "output_type": "execute_result"
    }
   ],
   "source": [
    "del building\n",
    "gc.collect()"
   ]
  },
  {
   "cell_type": "code",
   "execution_count": 13,
   "id": "amino-lucas",
   "metadata": {
    "execution": {
     "iopub.execute_input": "2021-06-09T23:56:43.247597Z",
     "iopub.status.busy": "2021-06-09T23:56:43.246440Z",
     "iopub.status.idle": "2021-06-09T23:57:05.999578Z",
     "shell.execute_reply": "2021-06-09T23:57:06.000100Z"
    },
    "papermill": {
     "duration": 22.811349,
     "end_time": "2021-06-09T23:57:06.000319",
     "exception": false,
     "start_time": "2021-06-09T23:56:43.188970",
     "status": "completed"
    },
    "tags": []
   },
   "outputs": [
    {
     "name": "stdout",
     "output_type": "stream",
     "text": [
      "(20216100, 11)\n"
     ]
    },
    {
     "data": {
      "text/html": [
       "<div>\n",
       "<style scoped>\n",
       "    .dataframe tbody tr th:only-of-type {\n",
       "        vertical-align: middle;\n",
       "    }\n",
       "\n",
       "    .dataframe tbody tr th {\n",
       "        vertical-align: top;\n",
       "    }\n",
       "\n",
       "    .dataframe thead th {\n",
       "        text-align: right;\n",
       "    }\n",
       "</style>\n",
       "<table border=\"1\" class=\"dataframe\">\n",
       "  <thead>\n",
       "    <tr style=\"text-align: right;\">\n",
       "      <th></th>\n",
       "      <th>building_id</th>\n",
       "      <th>meter</th>\n",
       "      <th>timestamp</th>\n",
       "      <th>meter_reading</th>\n",
       "      <th>site_id</th>\n",
       "      <th>primary_use</th>\n",
       "      <th>square_feet</th>\n",
       "      <th>year_built</th>\n",
       "      <th>air_temperature</th>\n",
       "      <th>cloud_coverage</th>\n",
       "      <th>dew_temperature</th>\n",
       "    </tr>\n",
       "  </thead>\n",
       "  <tbody>\n",
       "    <tr>\n",
       "      <th>0</th>\n",
       "      <td>0</td>\n",
       "      <td>0</td>\n",
       "      <td>2016-01-01 00:00:00</td>\n",
       "      <td>0.0</td>\n",
       "      <td>0</td>\n",
       "      <td>Education</td>\n",
       "      <td>7432</td>\n",
       "      <td>2008.0</td>\n",
       "      <td>25.0</td>\n",
       "      <td>6.0</td>\n",
       "      <td>20.0</td>\n",
       "    </tr>\n",
       "    <tr>\n",
       "      <th>1</th>\n",
       "      <td>1</td>\n",
       "      <td>0</td>\n",
       "      <td>2016-01-01 00:00:00</td>\n",
       "      <td>0.0</td>\n",
       "      <td>0</td>\n",
       "      <td>Education</td>\n",
       "      <td>2720</td>\n",
       "      <td>2004.0</td>\n",
       "      <td>25.0</td>\n",
       "      <td>6.0</td>\n",
       "      <td>20.0</td>\n",
       "    </tr>\n",
       "    <tr>\n",
       "      <th>2</th>\n",
       "      <td>2</td>\n",
       "      <td>0</td>\n",
       "      <td>2016-01-01 00:00:00</td>\n",
       "      <td>0.0</td>\n",
       "      <td>0</td>\n",
       "      <td>Education</td>\n",
       "      <td>5376</td>\n",
       "      <td>1991.0</td>\n",
       "      <td>25.0</td>\n",
       "      <td>6.0</td>\n",
       "      <td>20.0</td>\n",
       "    </tr>\n",
       "    <tr>\n",
       "      <th>3</th>\n",
       "      <td>3</td>\n",
       "      <td>0</td>\n",
       "      <td>2016-01-01 00:00:00</td>\n",
       "      <td>0.0</td>\n",
       "      <td>0</td>\n",
       "      <td>Education</td>\n",
       "      <td>23685</td>\n",
       "      <td>2002.0</td>\n",
       "      <td>25.0</td>\n",
       "      <td>6.0</td>\n",
       "      <td>20.0</td>\n",
       "    </tr>\n",
       "    <tr>\n",
       "      <th>4</th>\n",
       "      <td>4</td>\n",
       "      <td>0</td>\n",
       "      <td>2016-01-01 00:00:00</td>\n",
       "      <td>0.0</td>\n",
       "      <td>0</td>\n",
       "      <td>Education</td>\n",
       "      <td>116607</td>\n",
       "      <td>1975.0</td>\n",
       "      <td>25.0</td>\n",
       "      <td>6.0</td>\n",
       "      <td>20.0</td>\n",
       "    </tr>\n",
       "  </tbody>\n",
       "</table>\n",
       "</div>"
      ],
      "text/plain": [
       "   building_id  meter            timestamp  meter_reading  site_id  \\\n",
       "0            0      0  2016-01-01 00:00:00            0.0        0   \n",
       "1            1      0  2016-01-01 00:00:00            0.0        0   \n",
       "2            2      0  2016-01-01 00:00:00            0.0        0   \n",
       "3            3      0  2016-01-01 00:00:00            0.0        0   \n",
       "4            4      0  2016-01-01 00:00:00            0.0        0   \n",
       "\n",
       "  primary_use  square_feet  year_built  air_temperature  cloud_coverage  \\\n",
       "0   Education         7432      2008.0             25.0             6.0   \n",
       "1   Education         2720      2004.0             25.0             6.0   \n",
       "2   Education         5376      1991.0             25.0             6.0   \n",
       "3   Education        23685      2002.0             25.0             6.0   \n",
       "4   Education       116607      1975.0             25.0             6.0   \n",
       "\n",
       "   dew_temperature  \n",
       "0             20.0  \n",
       "1             20.0  \n",
       "2             20.0  \n",
       "3             20.0  \n",
       "4             20.0  "
      ]
     },
     "execution_count": 13,
     "metadata": {},
     "output_type": "execute_result"
    }
   ],
   "source": [
    "train = train.merge(weather_train, on=['site_id', 'timestamp'], how='left')\n",
    "test = test.merge(weather_test, on=['site_id', 'timestamp'], how='left')\n",
    "\n",
    "print(train.shape)\n",
    "train.head()"
   ]
  },
  {
   "cell_type": "code",
   "execution_count": 14,
   "id": "coupled-briefs",
   "metadata": {
    "execution": {
     "iopub.execute_input": "2021-06-09T23:57:06.109112Z",
     "iopub.status.busy": "2021-06-09T23:57:06.108494Z",
     "iopub.status.idle": "2021-06-09T23:57:06.247221Z",
     "shell.execute_reply": "2021-06-09T23:57:06.247680Z"
    },
    "papermill": {
     "duration": 0.194896,
     "end_time": "2021-06-09T23:57:06.247857",
     "exception": false,
     "start_time": "2021-06-09T23:57:06.052961",
     "status": "completed"
    },
    "tags": []
   },
   "outputs": [
    {
     "data": {
      "text/plain": [
       "40"
      ]
     },
     "execution_count": 14,
     "metadata": {},
     "output_type": "execute_result"
    }
   ],
   "source": [
    "del weather_train, weather_test\n",
    "gc.collect()"
   ]
  },
  {
   "cell_type": "code",
   "execution_count": 15,
   "id": "greater-relations",
   "metadata": {
    "execution": {
     "iopub.execute_input": "2021-06-09T23:57:06.357341Z",
     "iopub.status.busy": "2021-06-09T23:57:06.356684Z",
     "iopub.status.idle": "2021-06-09T23:57:06.359962Z",
     "shell.execute_reply": "2021-06-09T23:57:06.359336Z"
    },
    "papermill": {
     "duration": 0.059352,
     "end_time": "2021-06-09T23:57:06.360100",
     "exception": false,
     "start_time": "2021-06-09T23:57:06.300748",
     "status": "completed"
    },
    "tags": []
   },
   "outputs": [],
   "source": [
    "# train = reduce_mem_usage(train)\n",
    "# test = reduce_mem_usage(test)"
   ]
  },
  {
   "cell_type": "code",
   "execution_count": 16,
   "id": "wrong-truth",
   "metadata": {
    "execution": {
     "iopub.execute_input": "2021-06-09T23:57:13.448587Z",
     "iopub.status.busy": "2021-06-09T23:57:09.989061Z",
     "iopub.status.idle": "2021-06-09T23:57:28.443254Z",
     "shell.execute_reply": "2021-06-09T23:57:28.443697Z"
    },
    "papermill": {
     "duration": 22.030686,
     "end_time": "2021-06-09T23:57:28.443881",
     "exception": false,
     "start_time": "2021-06-09T23:57:06.413195",
     "status": "completed"
    },
    "tags": []
   },
   "outputs": [
    {
     "name": "stdout",
     "output_type": "stream",
     "text": [
      "4312612301\n",
      "8896901312\n"
     ]
    }
   ],
   "source": [
    "print(sys.getsizeof(train))\n",
    "print(sys.getsizeof(test))"
   ]
  },
  {
   "cell_type": "code",
   "execution_count": 17,
   "id": "entire-monaco",
   "metadata": {
    "execution": {
     "iopub.execute_input": "2021-06-09T23:57:28.557170Z",
     "iopub.status.busy": "2021-06-09T23:57:28.556509Z",
     "iopub.status.idle": "2021-06-09T23:57:28.561095Z",
     "shell.execute_reply": "2021-06-09T23:57:28.560547Z"
    },
    "papermill": {
     "duration": 0.064489,
     "end_time": "2021-06-09T23:57:28.561253",
     "exception": false,
     "start_time": "2021-06-09T23:57:28.496764",
     "status": "completed"
    },
    "tags": []
   },
   "outputs": [
    {
     "data": {
      "text/plain": [
       "Index              161728800\n",
       "building_id        161728800\n",
       "meter              161728800\n",
       "timestamp          161728800\n",
       "meter_reading      161728800\n",
       "site_id            161728800\n",
       "primary_use        161728800\n",
       "square_feet        161728800\n",
       "year_built         161728800\n",
       "air_temperature     80864400\n",
       "cloud_coverage      80864400\n",
       "dew_temperature     80864400\n",
       "dtype: int64"
      ]
     },
     "execution_count": 17,
     "metadata": {},
     "output_type": "execute_result"
    }
   ],
   "source": [
    "train.memory_usage()"
   ]
  },
  {
   "cell_type": "code",
   "execution_count": 18,
   "id": "russian-bones",
   "metadata": {
    "execution": {
     "iopub.execute_input": "2021-06-09T23:57:28.678363Z",
     "iopub.status.busy": "2021-06-09T23:57:28.677694Z",
     "iopub.status.idle": "2021-06-09T23:57:28.681758Z",
     "shell.execute_reply": "2021-06-09T23:57:28.682214Z"
    },
    "papermill": {
     "duration": 0.064747,
     "end_time": "2021-06-09T23:57:28.682389",
     "exception": false,
     "start_time": "2021-06-09T23:57:28.617642",
     "status": "completed"
    },
    "tags": []
   },
   "outputs": [
    {
     "data": {
      "text/plain": [
       "Index              333580800\n",
       "row_id             333580800\n",
       "building_id        333580800\n",
       "meter              333580800\n",
       "timestamp          333580800\n",
       "site_id            333580800\n",
       "primary_use        333580800\n",
       "square_feet        333580800\n",
       "year_built         333580800\n",
       "air_temperature    166790400\n",
       "cloud_coverage     166790400\n",
       "dew_temperature    166790400\n",
       "dtype: int64"
      ]
     },
     "execution_count": 18,
     "metadata": {},
     "output_type": "execute_result"
    }
   ],
   "source": [
    "test.memory_usage()"
   ]
  },
  {
   "cell_type": "markdown",
   "id": "caring-belize",
   "metadata": {
    "papermill": {
     "duration": 0.053268,
     "end_time": "2021-06-09T23:57:28.789132",
     "exception": false,
     "start_time": "2021-06-09T23:57:28.735864",
     "status": "completed"
    },
    "tags": []
   },
   "source": [
    "# Analytics"
   ]
  },
  {
   "cell_type": "code",
   "execution_count": 19,
   "id": "binding-forward",
   "metadata": {
    "execution": {
     "iopub.execute_input": "2021-06-09T23:57:28.900378Z",
     "iopub.status.busy": "2021-06-09T23:57:28.899654Z",
     "iopub.status.idle": "2021-06-09T23:57:28.915379Z",
     "shell.execute_reply": "2021-06-09T23:57:28.915917Z"
    },
    "papermill": {
     "duration": 0.07324,
     "end_time": "2021-06-09T23:57:28.916112",
     "exception": false,
     "start_time": "2021-06-09T23:57:28.842872",
     "status": "completed"
    },
    "tags": []
   },
   "outputs": [
    {
     "name": "stdout",
     "output_type": "stream",
     "text": [
      "<class 'pandas.core.frame.DataFrame'>\n",
      "Int64Index: 20216100 entries, 0 to 20216099\n",
      "Data columns (total 11 columns):\n",
      " #   Column           Dtype  \n",
      "---  ------           -----  \n",
      " 0   building_id      int64  \n",
      " 1   meter            int64  \n",
      " 2   timestamp        object \n",
      " 3   meter_reading    float64\n",
      " 4   site_id          int64  \n",
      " 5   primary_use      object \n",
      " 6   square_feet      int64  \n",
      " 7   year_built       float64\n",
      " 8   air_temperature  float32\n",
      " 9   cloud_coverage   float32\n",
      " 10  dew_temperature  float32\n",
      "dtypes: float32(3), float64(2), int64(4), object(2)\n",
      "memory usage: 1.6+ GB\n"
     ]
    }
   ],
   "source": [
    "train.info()"
   ]
  },
  {
   "cell_type": "code",
   "execution_count": 20,
   "id": "cubic-snake",
   "metadata": {
    "execution": {
     "iopub.execute_input": "2021-06-09T23:57:29.029207Z",
     "iopub.status.busy": "2021-06-09T23:57:29.028488Z",
     "iopub.status.idle": "2021-06-09T23:57:40.171717Z",
     "shell.execute_reply": "2021-06-09T23:57:40.171203Z"
    },
    "papermill": {
     "duration": 11.201656,
     "end_time": "2021-06-09T23:57:40.171861",
     "exception": false,
     "start_time": "2021-06-09T23:57:28.970205",
     "status": "completed"
    },
    "tags": []
   },
   "outputs": [
    {
     "name": "stdout",
     "output_type": "stream",
     "text": [
      "building_id: 1449\n",
      "meter: 4\n",
      "timestamp: 8784\n",
      "meter_reading: 1688175\n",
      "site_id: 16\n",
      "primary_use: 16\n",
      "square_feet: 1397\n",
      "year_built: 116\n",
      "air_temperature: 619\n",
      "cloud_coverage: 10\n",
      "dew_temperature: 522\n"
     ]
    }
   ],
   "source": [
    "for i in train.columns:\n",
    "    print('{}: {}'.format(i, train[i].nunique()))"
   ]
  },
  {
   "cell_type": "code",
   "execution_count": 21,
   "id": "neutral-petroleum",
   "metadata": {
    "execution": {
     "iopub.execute_input": "2021-06-09T23:57:40.290442Z",
     "iopub.status.busy": "2021-06-09T23:57:40.289783Z",
     "iopub.status.idle": "2021-06-09T23:57:44.151775Z",
     "shell.execute_reply": "2021-06-09T23:57:44.150976Z"
    },
    "papermill": {
     "duration": 3.923126,
     "end_time": "2021-06-09T23:57:44.151964",
     "exception": false,
     "start_time": "2021-06-09T23:57:40.228838",
     "status": "completed"
    },
    "tags": []
   },
   "outputs": [
    {
     "data": {
      "text/plain": [
       "building_id               0\n",
       "meter                     0\n",
       "timestamp                 0\n",
       "meter_reading             0\n",
       "site_id                   0\n",
       "primary_use               0\n",
       "square_feet               0\n",
       "year_built         12127645\n",
       "air_temperature       96658\n",
       "cloud_coverage      8825365\n",
       "dew_temperature      100140\n",
       "dtype: int64"
      ]
     },
     "execution_count": 21,
     "metadata": {},
     "output_type": "execute_result"
    }
   ],
   "source": [
    "train.isnull().sum()"
   ]
  },
  {
   "cell_type": "code",
   "execution_count": 22,
   "id": "polar-information",
   "metadata": {
    "execution": {
     "iopub.execute_input": "2021-06-09T23:57:44.274286Z",
     "iopub.status.busy": "2021-06-09T23:57:44.272857Z",
     "iopub.status.idle": "2021-06-09T23:57:50.041947Z",
     "shell.execute_reply": "2021-06-09T23:57:50.041090Z"
    },
    "papermill": {
     "duration": 5.831979,
     "end_time": "2021-06-09T23:57:50.042115",
     "exception": false,
     "start_time": "2021-06-09T23:57:44.210136",
     "status": "completed"
    },
    "tags": []
   },
   "outputs": [
    {
     "data": {
      "text/html": [
       "<div>\n",
       "<style scoped>\n",
       "    .dataframe tbody tr th:only-of-type {\n",
       "        vertical-align: middle;\n",
       "    }\n",
       "\n",
       "    .dataframe tbody tr th {\n",
       "        vertical-align: top;\n",
       "    }\n",
       "\n",
       "    .dataframe thead th {\n",
       "        text-align: right;\n",
       "    }\n",
       "</style>\n",
       "<table border=\"1\" class=\"dataframe\">\n",
       "  <thead>\n",
       "    <tr style=\"text-align: right;\">\n",
       "      <th></th>\n",
       "      <th>building_id</th>\n",
       "      <th>meter</th>\n",
       "      <th>meter_reading</th>\n",
       "      <th>site_id</th>\n",
       "      <th>square_feet</th>\n",
       "      <th>year_built</th>\n",
       "      <th>air_temperature</th>\n",
       "      <th>cloud_coverage</th>\n",
       "      <th>dew_temperature</th>\n",
       "    </tr>\n",
       "  </thead>\n",
       "  <tbody>\n",
       "    <tr>\n",
       "      <th>building_id</th>\n",
       "      <td>1.000000</td>\n",
       "      <td>0.222268</td>\n",
       "      <td>0.008761</td>\n",
       "      <td>0.980975</td>\n",
       "      <td>0.087704</td>\n",
       "      <td>-0.246150</td>\n",
       "      <td>-0.314149</td>\n",
       "      <td>-0.203832</td>\n",
       "      <td>-0.110091</td>\n",
       "    </tr>\n",
       "    <tr>\n",
       "      <th>meter</th>\n",
       "      <td>0.222268</td>\n",
       "      <td>1.000000</td>\n",
       "      <td>0.017672</td>\n",
       "      <td>0.253875</td>\n",
       "      <td>0.132708</td>\n",
       "      <td>-0.003798</td>\n",
       "      <td>-0.011159</td>\n",
       "      <td>-0.177186</td>\n",
       "      <td>-0.080445</td>\n",
       "    </tr>\n",
       "    <tr>\n",
       "      <th>meter_reading</th>\n",
       "      <td>0.008761</td>\n",
       "      <td>0.017672</td>\n",
       "      <td>1.000000</td>\n",
       "      <td>0.011897</td>\n",
       "      <td>0.024308</td>\n",
       "      <td>0.111837</td>\n",
       "      <td>-0.004132</td>\n",
       "      <td>0.006024</td>\n",
       "      <td>-0.003330</td>\n",
       "    </tr>\n",
       "    <tr>\n",
       "      <th>site_id</th>\n",
       "      <td>0.980975</td>\n",
       "      <td>0.253875</td>\n",
       "      <td>0.011897</td>\n",
       "      <td>1.000000</td>\n",
       "      <td>0.090934</td>\n",
       "      <td>-0.212378</td>\n",
       "      <td>-0.307199</td>\n",
       "      <td>-0.179160</td>\n",
       "      <td>-0.135186</td>\n",
       "    </tr>\n",
       "    <tr>\n",
       "      <th>square_feet</th>\n",
       "      <td>0.087704</td>\n",
       "      <td>0.132708</td>\n",
       "      <td>0.024308</td>\n",
       "      <td>0.090934</td>\n",
       "      <td>1.000000</td>\n",
       "      <td>0.135717</td>\n",
       "      <td>-0.015665</td>\n",
       "      <td>-0.041162</td>\n",
       "      <td>-0.023385</td>\n",
       "    </tr>\n",
       "    <tr>\n",
       "      <th>year_built</th>\n",
       "      <td>-0.246150</td>\n",
       "      <td>-0.003798</td>\n",
       "      <td>0.111837</td>\n",
       "      <td>-0.212378</td>\n",
       "      <td>0.135717</td>\n",
       "      <td>1.000000</td>\n",
       "      <td>0.174156</td>\n",
       "      <td>0.062713</td>\n",
       "      <td>0.117523</td>\n",
       "    </tr>\n",
       "    <tr>\n",
       "      <th>air_temperature</th>\n",
       "      <td>-0.314149</td>\n",
       "      <td>-0.011159</td>\n",
       "      <td>-0.004132</td>\n",
       "      <td>-0.307199</td>\n",
       "      <td>-0.015665</td>\n",
       "      <td>0.174156</td>\n",
       "      <td>1.000000</td>\n",
       "      <td>0.045196</td>\n",
       "      <td>0.750640</td>\n",
       "    </tr>\n",
       "    <tr>\n",
       "      <th>cloud_coverage</th>\n",
       "      <td>-0.203832</td>\n",
       "      <td>-0.177186</td>\n",
       "      <td>0.006024</td>\n",
       "      <td>-0.179160</td>\n",
       "      <td>-0.041162</td>\n",
       "      <td>0.062713</td>\n",
       "      <td>0.045196</td>\n",
       "      <td>1.000000</td>\n",
       "      <td>0.132972</td>\n",
       "    </tr>\n",
       "    <tr>\n",
       "      <th>dew_temperature</th>\n",
       "      <td>-0.110091</td>\n",
       "      <td>-0.080445</td>\n",
       "      <td>-0.003330</td>\n",
       "      <td>-0.135186</td>\n",
       "      <td>-0.023385</td>\n",
       "      <td>0.117523</td>\n",
       "      <td>0.750640</td>\n",
       "      <td>0.132972</td>\n",
       "      <td>1.000000</td>\n",
       "    </tr>\n",
       "  </tbody>\n",
       "</table>\n",
       "</div>"
      ],
      "text/plain": [
       "                 building_id     meter  meter_reading   site_id  square_feet  \\\n",
       "building_id         1.000000  0.222268       0.008761  0.980975     0.087704   \n",
       "meter               0.222268  1.000000       0.017672  0.253875     0.132708   \n",
       "meter_reading       0.008761  0.017672       1.000000  0.011897     0.024308   \n",
       "site_id             0.980975  0.253875       0.011897  1.000000     0.090934   \n",
       "square_feet         0.087704  0.132708       0.024308  0.090934     1.000000   \n",
       "year_built         -0.246150 -0.003798       0.111837 -0.212378     0.135717   \n",
       "air_temperature    -0.314149 -0.011159      -0.004132 -0.307199    -0.015665   \n",
       "cloud_coverage     -0.203832 -0.177186       0.006024 -0.179160    -0.041162   \n",
       "dew_temperature    -0.110091 -0.080445      -0.003330 -0.135186    -0.023385   \n",
       "\n",
       "                 year_built  air_temperature  cloud_coverage  dew_temperature  \n",
       "building_id       -0.246150        -0.314149       -0.203832        -0.110091  \n",
       "meter             -0.003798        -0.011159       -0.177186        -0.080445  \n",
       "meter_reading      0.111837        -0.004132        0.006024        -0.003330  \n",
       "site_id           -0.212378        -0.307199       -0.179160        -0.135186  \n",
       "square_feet        0.135717        -0.015665       -0.041162        -0.023385  \n",
       "year_built         1.000000         0.174156        0.062713         0.117523  \n",
       "air_temperature    0.174156         1.000000        0.045196         0.750640  \n",
       "cloud_coverage     0.062713         0.045196        1.000000         0.132972  \n",
       "dew_temperature    0.117523         0.750640        0.132972         1.000000  "
      ]
     },
     "execution_count": 22,
     "metadata": {},
     "output_type": "execute_result"
    }
   ],
   "source": [
    "train.corr()"
   ]
  },
  {
   "cell_type": "markdown",
   "id": "coupled-offer",
   "metadata": {
    "execution": {
     "iopub.execute_input": "2021-06-09T04:35:08.004653Z",
     "iopub.status.busy": "2021-06-09T04:35:08.004275Z",
     "iopub.status.idle": "2021-06-09T04:35:08.008716Z",
     "shell.execute_reply": "2021-06-09T04:35:08.007602Z",
     "shell.execute_reply.started": "2021-06-09T04:35:08.004621Z"
    },
    "papermill": {
     "duration": 0.058314,
     "end_time": "2021-06-09T23:57:50.159048",
     "exception": false,
     "start_time": "2021-06-09T23:57:50.100734",
     "status": "completed"
    },
    "tags": []
   },
   "source": [
    "# Visualization"
   ]
  },
  {
   "cell_type": "code",
   "execution_count": 23,
   "id": "marine-heritage",
   "metadata": {
    "execution": {
     "iopub.execute_input": "2021-06-09T23:57:50.282580Z",
     "iopub.status.busy": "2021-06-09T23:57:50.281894Z",
     "iopub.status.idle": "2021-06-09T23:57:50.285247Z",
     "shell.execute_reply": "2021-06-09T23:57:50.284733Z"
    },
    "papermill": {
     "duration": 0.067164,
     "end_time": "2021-06-09T23:57:50.285397",
     "exception": false,
     "start_time": "2021-06-09T23:57:50.218233",
     "status": "completed"
    },
    "tags": []
   },
   "outputs": [],
   "source": [
    "sns.set()"
   ]
  },
  {
   "cell_type": "code",
   "execution_count": 24,
   "id": "photographic-advantage",
   "metadata": {
    "execution": {
     "iopub.execute_input": "2021-06-09T23:57:51.473903Z",
     "iopub.status.busy": "2021-06-09T23:57:51.473237Z",
     "iopub.status.idle": "2021-06-09T23:58:02.867222Z",
     "shell.execute_reply": "2021-06-09T23:58:02.866598Z"
    },
    "papermill": {
     "duration": 12.522777,
     "end_time": "2021-06-09T23:58:02.867370",
     "exception": false,
     "start_time": "2021-06-09T23:57:50.344593",
     "status": "completed"
    },
    "tags": []
   },
   "outputs": [],
   "source": [
    "train['timestamp'] = pd.to_datetime(train['timestamp'])\n",
    "test['timestamp'] = pd.to_datetime(test['timestamp'])"
   ]
  },
  {
   "cell_type": "code",
   "execution_count": 25,
   "id": "empty-crawford",
   "metadata": {
    "execution": {
     "iopub.execute_input": "2021-06-09T23:58:02.989030Z",
     "iopub.status.busy": "2021-06-09T23:58:02.988375Z",
     "iopub.status.idle": "2021-06-09T23:58:02.990667Z",
     "shell.execute_reply": "2021-06-09T23:58:02.991111Z"
    },
    "papermill": {
     "duration": 0.065749,
     "end_time": "2021-06-09T23:58:02.991317",
     "exception": false,
     "start_time": "2021-06-09T23:58:02.925568",
     "status": "completed"
    },
    "tags": []
   },
   "outputs": [],
   "source": [
    "# 7月以降、メータの数値が低いのが気になる、外れ値の可能性はないか"
   ]
  },
  {
   "cell_type": "code",
   "execution_count": 26,
   "id": "detected-perspective",
   "metadata": {
    "execution": {
     "iopub.execute_input": "2021-06-09T23:58:03.110876Z",
     "iopub.status.busy": "2021-06-09T23:58:03.110217Z",
     "iopub.status.idle": "2021-06-09T23:58:06.114181Z",
     "shell.execute_reply": "2021-06-09T23:58:06.114672Z"
    },
    "papermill": {
     "duration": 3.065383,
     "end_time": "2021-06-09T23:58:06.114840",
     "exception": false,
     "start_time": "2021-06-09T23:58:03.049457",
     "status": "completed"
    },
    "tags": []
   },
   "outputs": [
    {
     "data": {
      "text/plain": [
       "<matplotlib.legend.Legend at 0x7f561c97b750>"
      ]
     },
     "execution_count": 26,
     "metadata": {},
     "output_type": "execute_result"
    },
    {
     "data": {
      "image/png": "[encoded data removed]",
      "text/plain": [
       "<Figure size 576x288 with 1 Axes>"
      ]
     },
     "metadata": {},
     "output_type": "display_data"
    }
   ],
   "source": [
    "fig, axes = plt.subplots(figsize=(8, 4))\n",
    "train[['timestamp', 'meter_reading']].set_index('timestamp').resample('H').mean()['meter_reading'].plot(ax=axes, label='hour', alpha=0.8).set_ylabel('Meter reading', fontsize=14)\n",
    "train[['timestamp', 'meter_reading']].set_index('timestamp').resample('D').mean()['meter_reading'].plot(ax=axes, label='day', alpha=0.8).set_ylabel('Meter reading', fontsize=14)\n",
    "axes.legend()"
   ]
  },
  {
   "cell_type": "code",
   "execution_count": 27,
   "id": "boolean-bridges",
   "metadata": {
    "execution": {
     "iopub.execute_input": "2021-06-09T23:58:06.240240Z",
     "iopub.status.busy": "2021-06-09T23:58:06.239620Z",
     "iopub.status.idle": "2021-06-09T23:58:08.334909Z",
     "shell.execute_reply": "2021-06-09T23:58:08.335394Z"
    },
    "papermill": {
     "duration": 2.160091,
     "end_time": "2021-06-09T23:58:08.335579",
     "exception": false,
     "start_time": "2021-06-09T23:58:06.175488",
     "status": "completed"
    },
    "tags": []
   },
   "outputs": [
    {
     "data": {
      "text/plain": [
       "<matplotlib.legend.Legend at 0x7f561bb800d0>"
      ]
     },
     "execution_count": 27,
     "metadata": {},
     "output_type": "execute_result"
    },
    {
     "data": {
      "image/png": "[encoded data removed]",
      "text/plain": [
       "<Figure size 576x288 with 1 Axes>"
      ]
     },
     "metadata": {},
     "output_type": "display_data"
    }
   ],
   "source": [
    "fig, axes = plt.subplots(figsize=(8, 4))\n",
    "train[['timestamp', 'meter_reading']].set_index('timestamp').resample('W').mean()['meter_reading'].plot(ax=axes, label='week', alpha=1).set_ylabel('Meter reading', fontsize=14)\n",
    "train[['timestamp', 'meter_reading']].set_index('timestamp').resample('M').mean()['meter_reading'].plot(ax=axes, label='month', alpha=1).set_ylabel('Meter reading', fontsize=14)\n",
    "axes.legend()"
   ]
  },
  {
   "cell_type": "markdown",
   "id": "medium-consolidation",
   "metadata": {
    "papermill": {
     "duration": 0.061806,
     "end_time": "2021-06-09T23:58:08.459878",
     "exception": false,
     "start_time": "2021-06-09T23:58:08.398072",
     "status": "completed"
    },
    "tags": []
   },
   "source": [
    "# Feature Engineering"
   ]
  },
  {
   "cell_type": "code",
   "execution_count": 28,
   "id": "extensive-progress",
   "metadata": {
    "execution": {
     "iopub.execute_input": "2021-06-09T23:58:08.594039Z",
     "iopub.status.busy": "2021-06-09T23:58:08.593421Z",
     "iopub.status.idle": "2021-06-09T23:58:16.254097Z",
     "shell.execute_reply": "2021-06-09T23:58:16.253554Z"
    },
    "papermill": {
     "duration": 7.731384,
     "end_time": "2021-06-09T23:58:16.254269",
     "exception": false,
     "start_time": "2021-06-09T23:58:08.522885",
     "status": "completed"
    },
    "tags": []
   },
   "outputs": [],
   "source": [
    "train['hour'] = train['timestamp'].dt.hour\n",
    "train['day'] = train['timestamp'].dt.day\n",
    "train['weekend'] = train['timestamp'].dt.weekday\n",
    "train['month'] = train['timestamp'].dt.month"
   ]
  },
  {
   "cell_type": "code",
   "execution_count": 29,
   "id": "separate-encoding",
   "metadata": {
    "execution": {
     "iopub.execute_input": "2021-06-09T23:58:16.384533Z",
     "iopub.status.busy": "2021-06-09T23:58:16.383861Z",
     "iopub.status.idle": "2021-06-09T23:58:16.385895Z",
     "shell.execute_reply": "2021-06-09T23:58:16.386374Z"
    },
    "papermill": {
     "duration": 0.068614,
     "end_time": "2021-06-09T23:58:16.386562",
     "exception": false,
     "start_time": "2021-06-09T23:58:16.317948",
     "status": "completed"
    },
    "tags": []
   },
   "outputs": [],
   "source": [
    "# ラグ特徴量"
   ]
  },
  {
   "cell_type": "code",
   "execution_count": 30,
   "id": "related-liberal",
   "metadata": {
    "execution": {
     "iopub.execute_input": "2021-06-09T23:58:16.514882Z",
     "iopub.status.busy": "2021-06-09T23:58:16.514232Z",
     "iopub.status.idle": "2021-06-09T23:58:23.566882Z",
     "shell.execute_reply": "2021-06-09T23:58:23.567391Z"
    },
    "papermill": {
     "duration": 7.118169,
     "end_time": "2021-06-09T23:58:23.567570",
     "exception": false,
     "start_time": "2021-06-09T23:58:16.449401",
     "status": "completed"
    },
    "tags": []
   },
   "outputs": [
    {
     "name": "stdout",
     "output_type": "stream",
     "text": [
      "Memory usage of dataframe is 1927.96 MB\n",
      "Memory usage after optimization is: 771.18 MB\n",
      "Decreased by 60.0%\n"
     ]
    }
   ],
   "source": [
    "train = train.drop(['timestamp', 'site_id'], axis=1)\n",
    "gc.collect()\n",
    "\n",
    "train = reduce_mem_usage(train)"
   ]
  },
  {
   "cell_type": "code",
   "execution_count": 31,
   "id": "separate-objective",
   "metadata": {
    "execution": {
     "iopub.execute_input": "2021-06-09T23:58:23.716336Z",
     "iopub.status.busy": "2021-06-09T23:58:23.715493Z",
     "iopub.status.idle": "2021-06-09T23:58:23.720607Z",
     "shell.execute_reply": "2021-06-09T23:58:23.721109Z"
    },
    "papermill": {
     "duration": 0.089405,
     "end_time": "2021-06-09T23:58:23.721313",
     "exception": false,
     "start_time": "2021-06-09T23:58:23.631908",
     "status": "completed"
    },
    "tags": []
   },
   "outputs": [
    {
     "name": "stdout",
     "output_type": "stream",
     "text": [
      "(20216100, 13)\n"
     ]
    },
    {
     "data": {
      "text/html": [
       "<div>\n",
       "<style scoped>\n",
       "    .dataframe tbody tr th:only-of-type {\n",
       "        vertical-align: middle;\n",
       "    }\n",
       "\n",
       "    .dataframe tbody tr th {\n",
       "        vertical-align: top;\n",
       "    }\n",
       "\n",
       "    .dataframe thead th {\n",
       "        text-align: right;\n",
       "    }\n",
       "</style>\n",
       "<table border=\"1\" class=\"dataframe\">\n",
       "  <thead>\n",
       "    <tr style=\"text-align: right;\">\n",
       "      <th></th>\n",
       "      <th>building_id</th>\n",
       "      <th>meter</th>\n",
       "      <th>meter_reading</th>\n",
       "      <th>primary_use</th>\n",
       "      <th>square_feet</th>\n",
       "      <th>year_built</th>\n",
       "      <th>air_temperature</th>\n",
       "      <th>cloud_coverage</th>\n",
       "      <th>dew_temperature</th>\n",
       "      <th>hour</th>\n",
       "      <th>day</th>\n",
       "      <th>weekend</th>\n",
       "      <th>month</th>\n",
       "    </tr>\n",
       "  </thead>\n",
       "  <tbody>\n",
       "    <tr>\n",
       "      <th>0</th>\n",
       "      <td>0</td>\n",
       "      <td>0</td>\n",
       "      <td>0.0</td>\n",
       "      <td>Education</td>\n",
       "      <td>7432</td>\n",
       "      <td>2008.0</td>\n",
       "      <td>25.0</td>\n",
       "      <td>6.0</td>\n",
       "      <td>20.0</td>\n",
       "      <td>0</td>\n",
       "      <td>1</td>\n",
       "      <td>4</td>\n",
       "      <td>1</td>\n",
       "    </tr>\n",
       "    <tr>\n",
       "      <th>1</th>\n",
       "      <td>1</td>\n",
       "      <td>0</td>\n",
       "      <td>0.0</td>\n",
       "      <td>Education</td>\n",
       "      <td>2720</td>\n",
       "      <td>2004.0</td>\n",
       "      <td>25.0</td>\n",
       "      <td>6.0</td>\n",
       "      <td>20.0</td>\n",
       "      <td>0</td>\n",
       "      <td>1</td>\n",
       "      <td>4</td>\n",
       "      <td>1</td>\n",
       "    </tr>\n",
       "    <tr>\n",
       "      <th>2</th>\n",
       "      <td>2</td>\n",
       "      <td>0</td>\n",
       "      <td>0.0</td>\n",
       "      <td>Education</td>\n",
       "      <td>5376</td>\n",
       "      <td>1991.0</td>\n",
       "      <td>25.0</td>\n",
       "      <td>6.0</td>\n",
       "      <td>20.0</td>\n",
       "      <td>0</td>\n",
       "      <td>1</td>\n",
       "      <td>4</td>\n",
       "      <td>1</td>\n",
       "    </tr>\n",
       "    <tr>\n",
       "      <th>3</th>\n",
       "      <td>3</td>\n",
       "      <td>0</td>\n",
       "      <td>0.0</td>\n",
       "      <td>Education</td>\n",
       "      <td>23685</td>\n",
       "      <td>2002.0</td>\n",
       "      <td>25.0</td>\n",
       "      <td>6.0</td>\n",
       "      <td>20.0</td>\n",
       "      <td>0</td>\n",
       "      <td>1</td>\n",
       "      <td>4</td>\n",
       "      <td>1</td>\n",
       "    </tr>\n",
       "    <tr>\n",
       "      <th>4</th>\n",
       "      <td>4</td>\n",
       "      <td>0</td>\n",
       "      <td>0.0</td>\n",
       "      <td>Education</td>\n",
       "      <td>116607</td>\n",
       "      <td>1975.0</td>\n",
       "      <td>25.0</td>\n",
       "      <td>6.0</td>\n",
       "      <td>20.0</td>\n",
       "      <td>0</td>\n",
       "      <td>1</td>\n",
       "      <td>4</td>\n",
       "      <td>1</td>\n",
       "    </tr>\n",
       "  </tbody>\n",
       "</table>\n",
       "</div>"
      ],
      "text/plain": [
       "   building_id  meter  meter_reading primary_use  square_feet  year_built  \\\n",
       "0            0      0            0.0   Education         7432      2008.0   \n",
       "1            1      0            0.0   Education         2720      2004.0   \n",
       "2            2      0            0.0   Education         5376      1991.0   \n",
       "3            3      0            0.0   Education        23685      2002.0   \n",
       "4            4      0            0.0   Education       116607      1975.0   \n",
       "\n",
       "   air_temperature  cloud_coverage  dew_temperature  hour  day  weekend  month  \n",
       "0             25.0             6.0             20.0     0    1        4      1  \n",
       "1             25.0             6.0             20.0     0    1        4      1  \n",
       "2             25.0             6.0             20.0     0    1        4      1  \n",
       "3             25.0             6.0             20.0     0    1        4      1  \n",
       "4             25.0             6.0             20.0     0    1        4      1  "
      ]
     },
     "execution_count": 31,
     "metadata": {},
     "output_type": "execute_result"
    }
   ],
   "source": [
    "print(train.shape)\n",
    "train.head()"
   ]
  },
  {
   "cell_type": "markdown",
   "id": "optional-williams",
   "metadata": {
    "papermill": {
     "duration": 0.065418,
     "end_time": "2021-06-09T23:58:23.851814",
     "exception": false,
     "start_time": "2021-06-09T23:58:23.786396",
     "status": "completed"
    },
    "tags": []
   },
   "source": [
    "# Preprocess"
   ]
  },
  {
   "cell_type": "code",
   "execution_count": 32,
   "id": "based-place",
   "metadata": {
    "execution": {
     "iopub.execute_input": "2021-06-09T23:58:23.988943Z",
     "iopub.status.busy": "2021-06-09T23:58:23.987937Z",
     "iopub.status.idle": "2021-06-09T23:58:23.991948Z",
     "shell.execute_reply": "2021-06-09T23:58:23.991313Z"
    },
    "papermill": {
     "duration": 0.074601,
     "end_time": "2021-06-09T23:58:23.992093",
     "exception": false,
     "start_time": "2021-06-09T23:58:23.917492",
     "status": "completed"
    },
    "tags": []
   },
   "outputs": [],
   "source": [
    "# drop_col = ['precip_depth_1_hr', 'sea_level_pressure', 'wind_direction', 'wind_speed', 'floor_count']      "
   ]
  },
  {
   "cell_type": "code",
   "execution_count": 33,
   "id": "nearby-humor",
   "metadata": {
    "execution": {
     "iopub.execute_input": "2021-06-09T23:58:24.129120Z",
     "iopub.status.busy": "2021-06-09T23:58:24.128131Z",
     "iopub.status.idle": "2021-06-09T23:58:24.131748Z",
     "shell.execute_reply": "2021-06-09T23:58:24.132295Z"
    },
    "papermill": {
     "duration": 0.07441,
     "end_time": "2021-06-09T23:58:24.132470",
     "exception": false,
     "start_time": "2021-06-09T23:58:24.058060",
     "status": "completed"
    },
    "tags": []
   },
   "outputs": [],
   "source": [
    "# train = train.drop(drop_col, axis = 1)\n",
    "# gc.collect()"
   ]
  },
  {
   "cell_type": "code",
   "execution_count": 34,
   "id": "accessory-lawrence",
   "metadata": {
    "execution": {
     "iopub.execute_input": "2021-06-09T23:58:24.267925Z",
     "iopub.status.busy": "2021-06-09T23:58:24.266916Z",
     "iopub.status.idle": "2021-06-09T23:58:44.465961Z",
     "shell.execute_reply": "2021-06-09T23:58:44.466450Z"
    },
    "papermill": {
     "duration": 20.268416,
     "end_time": "2021-06-09T23:58:44.466652",
     "exception": false,
     "start_time": "2021-06-09T23:58:24.198236",
     "status": "completed"
    },
    "tags": []
   },
   "outputs": [],
   "source": [
    "le = LabelEncoder()\n",
    "\n",
    "train['primary_use'] = le.fit_transform(train['primary_use'])\n",
    "test['primary_use'] = le.fit_transform(test['primary_use'])"
   ]
  },
  {
   "cell_type": "code",
   "execution_count": 35,
   "id": "lightweight-iraqi",
   "metadata": {
    "execution": {
     "iopub.execute_input": "2021-06-09T23:58:44.597195Z",
     "iopub.status.busy": "2021-06-09T23:58:44.596258Z",
     "iopub.status.idle": "2021-06-09T23:58:45.758876Z",
     "shell.execute_reply": "2021-06-09T23:58:45.758365Z"
    },
    "papermill": {
     "duration": 1.229117,
     "end_time": "2021-06-09T23:58:45.759023",
     "exception": false,
     "start_time": "2021-06-09T23:58:44.529906",
     "status": "completed"
    },
    "tags": []
   },
   "outputs": [
    {
     "name": "stdout",
     "output_type": "stream",
     "text": [
      "(20216100, 12)\n"
     ]
    },
    {
     "data": {
      "text/html": [
       "<div>\n",
       "<style scoped>\n",
       "    .dataframe tbody tr th:only-of-type {\n",
       "        vertical-align: middle;\n",
       "    }\n",
       "\n",
       "    .dataframe tbody tr th {\n",
       "        vertical-align: top;\n",
       "    }\n",
       "\n",
       "    .dataframe thead th {\n",
       "        text-align: right;\n",
       "    }\n",
       "</style>\n",
       "<table border=\"1\" class=\"dataframe\">\n",
       "  <thead>\n",
       "    <tr style=\"text-align: right;\">\n",
       "      <th></th>\n",
       "      <th>building_id</th>\n",
       "      <th>meter</th>\n",
       "      <th>primary_use</th>\n",
       "      <th>square_feet</th>\n",
       "      <th>year_built</th>\n",
       "      <th>air_temperature</th>\n",
       "      <th>cloud_coverage</th>\n",
       "      <th>dew_temperature</th>\n",
       "      <th>hour</th>\n",
       "      <th>day</th>\n",
       "      <th>weekend</th>\n",
       "      <th>month</th>\n",
       "    </tr>\n",
       "  </thead>\n",
       "  <tbody>\n",
       "    <tr>\n",
       "      <th>0</th>\n",
       "      <td>0</td>\n",
       "      <td>0</td>\n",
       "      <td>0</td>\n",
       "      <td>7432</td>\n",
       "      <td>2008.0</td>\n",
       "      <td>25.0</td>\n",
       "      <td>6.0</td>\n",
       "      <td>20.0</td>\n",
       "      <td>0</td>\n",
       "      <td>1</td>\n",
       "      <td>4</td>\n",
       "      <td>1</td>\n",
       "    </tr>\n",
       "    <tr>\n",
       "      <th>1</th>\n",
       "      <td>1</td>\n",
       "      <td>0</td>\n",
       "      <td>0</td>\n",
       "      <td>2720</td>\n",
       "      <td>2004.0</td>\n",
       "      <td>25.0</td>\n",
       "      <td>6.0</td>\n",
       "      <td>20.0</td>\n",
       "      <td>0</td>\n",
       "      <td>1</td>\n",
       "      <td>4</td>\n",
       "      <td>1</td>\n",
       "    </tr>\n",
       "    <tr>\n",
       "      <th>2</th>\n",
       "      <td>2</td>\n",
       "      <td>0</td>\n",
       "      <td>0</td>\n",
       "      <td>5376</td>\n",
       "      <td>1991.0</td>\n",
       "      <td>25.0</td>\n",
       "      <td>6.0</td>\n",
       "      <td>20.0</td>\n",
       "      <td>0</td>\n",
       "      <td>1</td>\n",
       "      <td>4</td>\n",
       "      <td>1</td>\n",
       "    </tr>\n",
       "    <tr>\n",
       "      <th>3</th>\n",
       "      <td>3</td>\n",
       "      <td>0</td>\n",
       "      <td>0</td>\n",
       "      <td>23685</td>\n",
       "      <td>2002.0</td>\n",
       "      <td>25.0</td>\n",
       "      <td>6.0</td>\n",
       "      <td>20.0</td>\n",
       "      <td>0</td>\n",
       "      <td>1</td>\n",
       "      <td>4</td>\n",
       "      <td>1</td>\n",
       "    </tr>\n",
       "    <tr>\n",
       "      <th>4</th>\n",
       "      <td>4</td>\n",
       "      <td>0</td>\n",
       "      <td>0</td>\n",
       "      <td>116607</td>\n",
       "      <td>1975.0</td>\n",
       "      <td>25.0</td>\n",
       "      <td>6.0</td>\n",
       "      <td>20.0</td>\n",
       "      <td>0</td>\n",
       "      <td>1</td>\n",
       "      <td>4</td>\n",
       "      <td>1</td>\n",
       "    </tr>\n",
       "  </tbody>\n",
       "</table>\n",
       "</div>"
      ],
      "text/plain": [
       "   building_id  meter  primary_use  square_feet  year_built  air_temperature  \\\n",
       "0            0      0            0         7432      2008.0             25.0   \n",
       "1            1      0            0         2720      2004.0             25.0   \n",
       "2            2      0            0         5376      1991.0             25.0   \n",
       "3            3      0            0        23685      2002.0             25.0   \n",
       "4            4      0            0       116607      1975.0             25.0   \n",
       "\n",
       "   cloud_coverage  dew_temperature  hour  day  weekend  month  \n",
       "0             6.0             20.0     0    1        4      1  \n",
       "1             6.0             20.0     0    1        4      1  \n",
       "2             6.0             20.0     0    1        4      1  \n",
       "3             6.0             20.0     0    1        4      1  \n",
       "4             6.0             20.0     0    1        4      1  "
      ]
     },
     "execution_count": 35,
     "metadata": {},
     "output_type": "execute_result"
    }
   ],
   "source": [
    "target = np.log1p(train['meter_reading'])\n",
    "train = train.drop(['meter_reading'], axis=1)\n",
    "\n",
    "print(train.shape)\n",
    "train.head()"
   ]
  },
  {
   "cell_type": "code",
   "execution_count": 36,
   "id": "stunning-value",
   "metadata": {
    "execution": {
     "iopub.execute_input": "2021-06-09T23:58:45.897049Z",
     "iopub.status.busy": "2021-06-09T23:58:45.895563Z",
     "iopub.status.idle": "2021-06-09T23:58:47.402873Z",
     "shell.execute_reply": "2021-06-09T23:58:47.402320Z"
    },
    "papermill": {
     "duration": 1.57835,
     "end_time": "2021-06-09T23:58:47.403030",
     "exception": false,
     "start_time": "2021-06-09T23:58:45.824680",
     "status": "completed"
    },
    "tags": []
   },
   "outputs": [],
   "source": [
    "train = train.reset_index(drop=True)\n",
    "test = test.reset_index(drop=True)"
   ]
  },
  {
   "cell_type": "code",
   "execution_count": 37,
   "id": "electoral-standing",
   "metadata": {
    "execution": {
     "iopub.execute_input": "2021-06-09T23:58:47.684954Z",
     "iopub.status.busy": "2021-06-09T23:58:47.684321Z",
     "iopub.status.idle": "2021-06-09T23:58:47.691335Z",
     "shell.execute_reply": "2021-06-09T23:58:47.690788Z"
    },
    "papermill": {
     "duration": 0.222419,
     "end_time": "2021-06-09T23:58:47.691478",
     "exception": false,
     "start_time": "2021-06-09T23:58:47.469059",
     "status": "completed"
    },
    "tags": []
   },
   "outputs": [
    {
     "data": {
      "text/plain": [
       "140"
      ]
     },
     "execution_count": 37,
     "metadata": {},
     "output_type": "execute_result"
    }
   ],
   "source": [
    "del le\n",
    "gc.collect()"
   ]
  },
  {
   "cell_type": "code",
   "execution_count": 38,
   "id": "spanish-hungarian",
   "metadata": {
    "execution": {
     "iopub.execute_input": "2021-06-09T23:58:47.830138Z",
     "iopub.status.busy": "2021-06-09T23:58:47.829482Z",
     "iopub.status.idle": "2021-06-09T23:58:53.070254Z",
     "shell.execute_reply": "2021-06-09T23:58:53.069131Z"
    },
    "papermill": {
     "duration": 5.313503,
     "end_time": "2021-06-09T23:58:53.070492",
     "exception": false,
     "start_time": "2021-06-09T23:58:47.756989",
     "status": "completed"
    },
    "tags": []
   },
   "outputs": [
    {
     "name": "stdout",
     "output_type": "stream",
     "text": [
      "Memory usage of dataframe is 674.79 MB\n",
      "Memory usage after optimization is: 539.83 MB\n",
      "Decreased by 20.0%\n",
      "Memory usage of dataframe is 3022.21 MB\n",
      "Memory usage after optimization is: 1471.34 MB\n",
      "Decreased by 51.3%\n"
     ]
    }
   ],
   "source": [
    "train = reduce_mem_usage(train)\n",
    "test = reduce_mem_usage(test)"
   ]
  },
  {
   "cell_type": "code",
   "execution_count": 39,
   "id": "athletic-sierra",
   "metadata": {
    "execution": {
     "iopub.execute_input": "2021-06-09T23:58:53.211569Z",
     "iopub.status.busy": "2021-06-09T23:58:53.210579Z",
     "iopub.status.idle": "2021-06-09T23:58:53.214077Z",
     "shell.execute_reply": "2021-06-09T23:58:53.214773Z"
    },
    "papermill": {
     "duration": 0.0784,
     "end_time": "2021-06-09T23:58:53.214999",
     "exception": false,
     "start_time": "2021-06-09T23:58:53.136599",
     "status": "completed"
    },
    "tags": []
   },
   "outputs": [
    {
     "name": "stdout",
     "output_type": "stream",
     "text": [
      "566050960\n",
      "1542811360\n"
     ]
    }
   ],
   "source": [
    "print(sys.getsizeof(train))\n",
    "print(sys.getsizeof(test))"
   ]
  },
  {
   "cell_type": "markdown",
   "id": "visible-aberdeen",
   "metadata": {
    "papermill": {
     "duration": 0.067188,
     "end_time": "2021-06-09T23:58:53.350177",
     "exception": false,
     "start_time": "2021-06-09T23:58:53.282989",
     "status": "completed"
    },
    "tags": []
   },
   "source": [
    "# Modeling"
   ]
  },
  {
   "cell_type": "code",
   "execution_count": 40,
   "id": "geographic-afternoon",
   "metadata": {
    "execution": {
     "iopub.execute_input": "2021-06-09T23:58:53.486050Z",
     "iopub.status.busy": "2021-06-09T23:58:53.485118Z",
     "iopub.status.idle": "2021-06-09T23:58:53.492877Z",
     "shell.execute_reply": "2021-06-09T23:58:53.493348Z"
    },
    "papermill": {
     "duration": 0.077055,
     "end_time": "2021-06-09T23:58:53.493531",
     "exception": false,
     "start_time": "2021-06-09T23:58:53.416476",
     "status": "completed"
    },
    "tags": []
   },
   "outputs": [
    {
     "data": {
      "text/plain": [
       "\"\\nX_tr, X_val, y_tr, y_val = train_test_split(train, target, test_size=0.2, random_state=666)\\n\\ndef create_model(trial):\\n    num_leaves = trial.suggest_int('num_leaves', 2, 31)\\n    n_estimators = trial.suggest_int('n_estimators', 50, 300)\\n    learning_rate = trial.suggest_uniform('learning_rate', 0.0001, 0.99)\\n    max_depth = trial.suggest_int('max_depth', 3, 8)\\n    min_child_samples = trial.suggest_int('min_child_samples', 100, 1200)\\n    min_data_in_leaf = trial.suggest_int('min_data_in_leaf', 5, 90)\\n    bagging_freq = trial.suggest_int('bagging_freq', 1, 7)\\n    bagging_fraction = trial.suggest_uniform('bagging_fraction', 0.0001, 1.0)\\n    feature_fraction = trial.suggest_uniform('feature_fraction', 0.0001, 1.0)\\n    subsample = trial.suggest_uniform('subsample', 0.1, 1.0)\\n    colsample_bytree = trial.suggest_uniform('colsample_bytree', 0.1, 1.0)\\n    \\n    model = lgb.LGBMRegressor(\\n        num_leaves=num_leaves,\\n        n_estimators=n_estimators,\\n        learning_rate=learning_rate,\\n        max_depth=max_depth, \\n        min_child_samples=min_child_samples, \\n        min_data_in_leaf=min_data_in_leaf,\\n        bagging_freq=bagging_freq,\\n        bagging_fraction=bagging_fraction,\\n        feature_fraction=feature_fraction,\\n        subsample=subsample,\\n        colsample_bytree=colsample_bytree,\\n        metric='rsme',\\n        random_state=666)\\n    return model\\n\\ndef objective(trial):\\n    model = create_model(trial)\\n    model.fit(X_tr, y_tr)\\n    y_pred = model.predict(X_val)\\n    rsme = np.sqrt(mean_squared_error(y_pred, y_val))\\n    return rsme\\n\\nstudy = optuna.create_study(direction='minimize')\\nstudy.optimize(objective, n_trials=40)\\nparams = study.best_params\\nprint(params)\\n\""
      ]
     },
     "execution_count": 40,
     "metadata": {},
     "output_type": "execute_result"
    }
   ],
   "source": [
    "'''\n",
    "X_tr, X_val, y_tr, y_val = train_test_split(train, target, test_size=0.2, random_state=666)\n",
    "\n",
    "def create_model(trial):\n",
    "    num_leaves = trial.suggest_int('num_leaves', 2, 31)\n",
    "    n_estimators = trial.suggest_int('n_estimators', 50, 300)\n",
    "    learning_rate = trial.suggest_uniform('learning_rate', 0.0001, 0.99)\n",
    "    max_depth = trial.suggest_int('max_depth', 3, 8)\n",
    "    min_child_samples = trial.suggest_int('min_child_samples', 100, 1200)\n",
    "    min_data_in_leaf = trial.suggest_int('min_data_in_leaf', 5, 90)\n",
    "    bagging_freq = trial.suggest_int('bagging_freq', 1, 7)\n",
    "    bagging_fraction = trial.suggest_uniform('bagging_fraction', 0.0001, 1.0)\n",
    "    feature_fraction = trial.suggest_uniform('feature_fraction', 0.0001, 1.0)\n",
    "    subsample = trial.suggest_uniform('subsample', 0.1, 1.0)\n",
    "    colsample_bytree = trial.suggest_uniform('colsample_bytree', 0.1, 1.0)\n",
    "    \n",
    "    model = lgb.LGBMRegressor(\n",
    "        num_leaves=num_leaves,\n",
    "        n_estimators=n_estimators,\n",
    "        learning_rate=learning_rate,\n",
    "        max_depth=max_depth, \n",
    "        min_child_samples=min_child_samples, \n",
    "        min_data_in_leaf=min_data_in_leaf,\n",
    "        bagging_freq=bagging_freq,\n",
    "        bagging_fraction=bagging_fraction,\n",
    "        feature_fraction=feature_fraction,\n",
    "        subsample=subsample,\n",
    "        colsample_bytree=colsample_bytree,\n",
    "        metric='rsme',\n",
    "        random_state=666)\n",
    "    return model\n",
    "\n",
    "def objective(trial):\n",
    "    model = create_model(trial)\n",
    "    model.fit(X_tr, y_tr)\n",
    "    y_pred = model.predict(X_val)\n",
    "    rsme = np.sqrt(mean_squared_error(y_pred, y_val))\n",
    "    return rsme\n",
    "\n",
    "study = optuna.create_study(direction='minimize')\n",
    "study.optimize(objective, n_trials=40)\n",
    "params = study.best_params\n",
    "print(params)\n",
    "'''"
   ]
  },
  {
   "cell_type": "code",
   "execution_count": 41,
   "id": "sonic-nebraska",
   "metadata": {
    "execution": {
     "iopub.execute_input": "2021-06-09T23:58:53.633977Z",
     "iopub.status.busy": "2021-06-09T23:58:53.632943Z",
     "iopub.status.idle": "2021-06-09T23:58:53.635457Z",
     "shell.execute_reply": "2021-06-09T23:58:53.635877Z"
    },
    "papermill": {
     "duration": 0.075862,
     "end_time": "2021-06-09T23:58:53.636045",
     "exception": false,
     "start_time": "2021-06-09T23:58:53.560183",
     "status": "completed"
    },
    "tags": []
   },
   "outputs": [],
   "source": [
    "# RSME: 0.8712929849586984\n",
    "\n",
    "params = {'num_leaves': 31,\n",
    "          'n_estimators': 276,\n",
    "          'learning_rate': 0.7003465436836729,\n",
    "          'max_depth': 8,\n",
    "          'min_child_samples': 560,\n",
    "          'min_data_in_leaf': 33,\n",
    "          'bagging_freq': 5,\n",
    "          'bagging_fraction': 0.4526594242172297,\n",
    "          'feature_fraction': 0.7434254652818092,\n",
    "          'subsample': 0.6426682013750424,\n",
    "          'colsample_bytree': 0.23168085273652078,\n",
    "          'random_state': 666}"
   ]
  },
  {
   "cell_type": "code",
   "execution_count": 42,
   "id": "verified-bulletin",
   "metadata": {
    "execution": {
     "iopub.execute_input": "2021-06-09T23:58:53.776226Z",
     "iopub.status.busy": "2021-06-09T23:58:53.774750Z",
     "iopub.status.idle": "2021-06-10T00:01:31.291662Z",
     "shell.execute_reply": "2021-06-10T00:01:31.292196Z"
    },
    "papermill": {
     "duration": 157.589708,
     "end_time": "2021-06-10T00:01:31.292392",
     "exception": false,
     "start_time": "2021-06-09T23:58:53.702684",
     "status": "completed"
    },
    "tags": []
   },
   "outputs": [
    {
     "name": "stdout",
     "output_type": "stream",
     "text": [
      "[LightGBM] [Warning] bagging_fraction is set=0.4526594242172297, subsample=0.6426682013750424 will be ignored. Current value: bagging_fraction=0.4526594242172297\n",
      "[LightGBM] [Warning] feature_fraction is set=0.7434254652818092, colsample_bytree=0.23168085273652078 will be ignored. Current value: feature_fraction=0.7434254652818092\n",
      "[LightGBM] [Warning] bagging_freq is set=5, subsample_freq=0 will be ignored. Current value: bagging_freq=5\n",
      "[LightGBM] [Warning] min_data_in_leaf is set=33, min_child_samples=560 will be ignored. Current value: min_data_in_leaf=33\n"
     ]
    },
    {
     "data": {
      "text/plain": [
       "LGBMRegressor(bagging_fraction=0.4526594242172297, bagging_freq=5,\n",
       "              colsample_bytree=0.23168085273652078,\n",
       "              feature_fraction=0.7434254652818092,\n",
       "              learning_rate=0.7003465436836729, max_depth=8,\n",
       "              min_child_samples=560, min_data_in_leaf=33, n_estimators=276,\n",
       "              random_state=666, subsample=0.6426682013750424)"
      ]
     },
     "execution_count": 42,
     "metadata": {},
     "output_type": "execute_result"
    }
   ],
   "source": [
    "cls = lgb.LGBMRegressor(**params)\n",
    "cls.fit(train, target)"
   ]
  },
  {
   "cell_type": "code",
   "execution_count": 43,
   "id": "sealed-resolution",
   "metadata": {
    "execution": {
     "iopub.execute_input": "2021-06-10T00:01:31.587133Z",
     "iopub.status.busy": "2021-06-10T00:01:31.586336Z",
     "iopub.status.idle": "2021-06-10T00:01:31.591069Z",
     "shell.execute_reply": "2021-06-10T00:01:31.591561Z"
    },
    "papermill": {
     "duration": 0.230656,
     "end_time": "2021-06-10T00:01:31.591741",
     "exception": false,
     "start_time": "2021-06-10T00:01:31.361085",
     "status": "completed"
    },
    "tags": []
   },
   "outputs": [
    {
     "data": {
      "text/plain": [
       "79"
      ]
     },
     "execution_count": 43,
     "metadata": {},
     "output_type": "execute_result"
    }
   ],
   "source": [
    "del train, target, params\n",
    "gc.collect()"
   ]
  },
  {
   "cell_type": "code",
   "execution_count": 44,
   "id": "suited-canal",
   "metadata": {
    "execution": {
     "iopub.execute_input": "2021-06-10T00:01:31.738556Z",
     "iopub.status.busy": "2021-06-10T00:01:31.737840Z",
     "iopub.status.idle": "2021-06-10T00:01:32.024674Z",
     "shell.execute_reply": "2021-06-10T00:01:32.023998Z"
    },
    "papermill": {
     "duration": 0.359718,
     "end_time": "2021-06-10T00:01:32.024814",
     "exception": false,
     "start_time": "2021-06-10T00:01:31.665096",
     "status": "completed"
    },
    "tags": []
   },
   "outputs": [
    {
     "data": {
      "image/png": "[encoded data removed]",
      "text/plain": [
       "<Figure size 432x288 with 1 Axes>"
      ]
     },
     "metadata": {},
     "output_type": "display_data"
    }
   ],
   "source": [
    "lgb.plot_importance(cls)\n",
    "plt.show()"
   ]
  },
  {
   "cell_type": "markdown",
   "id": "piano-blood",
   "metadata": {
    "papermill": {
     "duration": 0.069163,
     "end_time": "2021-06-10T00:01:32.163556",
     "exception": false,
     "start_time": "2021-06-10T00:01:32.094393",
     "status": "completed"
    },
    "tags": []
   },
   "source": [
    "# Submit"
   ]
  },
  {
   "cell_type": "code",
   "execution_count": 45,
   "id": "adjusted-jason",
   "metadata": {
    "execution": {
     "iopub.execute_input": "2021-06-10T00:01:32.308530Z",
     "iopub.status.busy": "2021-06-10T00:01:32.307797Z",
     "iopub.status.idle": "2021-06-10T00:01:34.327456Z",
     "shell.execute_reply": "2021-06-10T00:01:34.326738Z"
    },
    "papermill": {
     "duration": 2.094586,
     "end_time": "2021-06-10T00:01:34.327680",
     "exception": false,
     "start_time": "2021-06-10T00:01:32.233094",
     "status": "completed"
    },
    "tags": []
   },
   "outputs": [
    {
     "data": {
      "text/plain": [
       "4819"
      ]
     },
     "execution_count": 45,
     "metadata": {},
     "output_type": "execute_result"
    }
   ],
   "source": [
    "row_id = test['row_id']\n",
    "\n",
    "test = test.drop(['row_id'], axis = 1)\n",
    "gc.collect()"
   ]
  },
  {
   "cell_type": "code",
   "execution_count": 46,
   "id": "desperate-nitrogen",
   "metadata": {
    "execution": {
     "iopub.execute_input": "2021-06-10T00:01:34.475802Z",
     "iopub.status.busy": "2021-06-10T00:01:34.474928Z",
     "iopub.status.idle": "2021-06-10T00:01:50.413360Z",
     "shell.execute_reply": "2021-06-10T00:01:50.412618Z"
    },
    "papermill": {
     "duration": 16.014765,
     "end_time": "2021-06-10T00:01:50.413508",
     "exception": false,
     "start_time": "2021-06-10T00:01:34.398743",
     "status": "completed"
    },
    "tags": []
   },
   "outputs": [],
   "source": [
    "test['hour'] = test['timestamp'].dt.hour\n",
    "test['day'] = test['timestamp'].dt.day\n",
    "test['weekend'] = test['timestamp'].dt.weekday\n",
    "test['month'] = test['timestamp'].dt.month"
   ]
  },
  {
   "cell_type": "code",
   "execution_count": 47,
   "id": "eight-forest",
   "metadata": {
    "execution": {
     "iopub.execute_input": "2021-06-10T00:01:50.561310Z",
     "iopub.status.busy": "2021-06-10T00:01:50.560512Z",
     "iopub.status.idle": "2021-06-10T00:01:52.721400Z",
     "shell.execute_reply": "2021-06-10T00:01:52.720294Z"
    },
    "papermill": {
     "duration": 2.237949,
     "end_time": "2021-06-10T00:01:52.721568",
     "exception": false,
     "start_time": "2021-06-10T00:01:50.483619",
     "status": "completed"
    },
    "tags": []
   },
   "outputs": [
    {
     "data": {
      "text/plain": [
       "55"
      ]
     },
     "execution_count": 47,
     "metadata": {},
     "output_type": "execute_result"
    }
   ],
   "source": [
    "test = test.drop(['timestamp', 'site_id'], axis=1)\n",
    "gc.collect()"
   ]
  },
  {
   "cell_type": "code",
   "execution_count": 48,
   "id": "built-drove",
   "metadata": {
    "execution": {
     "iopub.execute_input": "2021-06-10T00:01:52.867047Z",
     "iopub.status.busy": "2021-06-10T00:01:52.866285Z",
     "iopub.status.idle": "2021-06-10T00:01:58.055300Z",
     "shell.execute_reply": "2021-06-10T00:01:58.055820Z"
    },
    "papermill": {
     "duration": 5.264539,
     "end_time": "2021-06-10T00:01:58.056012",
     "exception": false,
     "start_time": "2021-06-10T00:01:52.791473",
     "status": "completed"
    },
    "tags": []
   },
   "outputs": [
    {
     "name": "stdout",
     "output_type": "stream",
     "text": [
      "Memory usage of dataframe is 2226.89 MB\n",
      "Memory usage after optimization is: 1113.45 MB\n",
      "Decreased by 50.0%\n"
     ]
    }
   ],
   "source": [
    "row_id = row_id.reset_index(drop=True)\n",
    "test = test.reset_index(drop=True)\n",
    "\n",
    "test = reduce_mem_usage(test)"
   ]
  },
  {
   "cell_type": "code",
   "execution_count": 49,
   "id": "assumed-offer",
   "metadata": {
    "_kg_hide-input": true,
    "_kg_hide-output": true,
    "execution": {
     "iopub.execute_input": "2021-06-10T00:01:58.241051Z",
     "iopub.status.busy": "2021-06-10T00:01:58.240218Z",
     "iopub.status.idle": "2021-06-10T00:01:58.245346Z",
     "shell.execute_reply": "2021-06-10T00:01:58.244512Z"
    },
    "papermill": {
     "duration": 0.117962,
     "end_time": "2021-06-10T00:01:58.245543",
     "exception": false,
     "start_time": "2021-06-10T00:01:58.127581",
     "status": "completed"
    },
    "tags": []
   },
   "outputs": [
    {
     "name": "stdout",
     "output_type": "stream",
     "text": [
      "     name        size\n",
      "0    test  1167532960\n",
      "1  row_id   166790560\n",
      "2     _31        1919\n",
      "3     _i9        1787\n",
      "4    _i40        1744\n",
      "5     _40        1738\n",
      "6     _22        1594\n",
      "7     _17        1238\n",
      "8     _18        1231\n",
      "9     _oh        1192\n"
     ]
    }
   ],
   "source": [
    "print(pd.DataFrame([[i for i in dir()], [sys.getsizeof(eval(i)) for i in dir()]],\n",
    "                   index=['name','size']).T.sort_values('size', ascending=False).reset_index(drop=True).head(10))"
   ]
  },
  {
   "cell_type": "code",
   "execution_count": 50,
   "id": "infectious-airport",
   "metadata": {
    "execution": {
     "iopub.execute_input": "2021-06-10T00:01:58.401080Z",
     "iopub.status.busy": "2021-06-10T00:01:58.400454Z",
     "iopub.status.idle": "2021-06-10T00:04:48.522670Z",
     "shell.execute_reply": "2021-06-10T00:04:48.523201Z"
    },
    "papermill": {
     "duration": 170.201544,
     "end_time": "2021-06-10T00:04:48.523391",
     "exception": false,
     "start_time": "2021-06-10T00:01:58.321847",
     "status": "completed"
    },
    "tags": []
   },
   "outputs": [
    {
     "data": {
      "text/html": [
       "<div>\n",
       "<style scoped>\n",
       "    .dataframe tbody tr th:only-of-type {\n",
       "        vertical-align: middle;\n",
       "    }\n",
       "\n",
       "    .dataframe tbody tr th {\n",
       "        vertical-align: top;\n",
       "    }\n",
       "\n",
       "    .dataframe thead th {\n",
       "        text-align: right;\n",
       "    }\n",
       "</style>\n",
       "<table border=\"1\" class=\"dataframe\">\n",
       "  <thead>\n",
       "    <tr style=\"text-align: right;\">\n",
       "      <th></th>\n",
       "      <th>meter_reading</th>\n",
       "    </tr>\n",
       "    <tr>\n",
       "      <th>row_id</th>\n",
       "      <th></th>\n",
       "    </tr>\n",
       "  </thead>\n",
       "  <tbody>\n",
       "    <tr>\n",
       "      <th>0</th>\n",
       "      <td>-0.093110</td>\n",
       "    </tr>\n",
       "    <tr>\n",
       "      <th>1</th>\n",
       "      <td>0.531344</td>\n",
       "    </tr>\n",
       "    <tr>\n",
       "      <th>2</th>\n",
       "      <td>-0.432351</td>\n",
       "    </tr>\n",
       "    <tr>\n",
       "      <th>3</th>\n",
       "      <td>-0.111577</td>\n",
       "    </tr>\n",
       "    <tr>\n",
       "      <th>4</th>\n",
       "      <td>-0.291889</td>\n",
       "    </tr>\n",
       "    <tr>\n",
       "      <th>5</th>\n",
       "      <td>-0.140921</td>\n",
       "    </tr>\n",
       "    <tr>\n",
       "      <th>6</th>\n",
       "      <td>1.114875</td>\n",
       "    </tr>\n",
       "    <tr>\n",
       "      <th>7</th>\n",
       "      <td>0.305012</td>\n",
       "    </tr>\n",
       "    <tr>\n",
       "      <th>8</th>\n",
       "      <td>32.198863</td>\n",
       "    </tr>\n",
       "    <tr>\n",
       "      <th>9</th>\n",
       "      <td>0.230532</td>\n",
       "    </tr>\n",
       "  </tbody>\n",
       "</table>\n",
       "</div>"
      ],
      "text/plain": [
       "        meter_reading\n",
       "row_id               \n",
       "0           -0.093110\n",
       "1            0.531344\n",
       "2           -0.432351\n",
       "3           -0.111577\n",
       "4           -0.291889\n",
       "5           -0.140921\n",
       "6            1.114875\n",
       "7            0.305012\n",
       "8           32.198863\n",
       "9            0.230532"
      ]
     },
     "execution_count": 50,
     "metadata": {},
     "output_type": "execute_result"
    }
   ],
   "source": [
    "target = np.expm1(cls.predict(test))\n",
    "\n",
    "submission = pd.DataFrame(target, index=row_id, columns=['meter_reading'])\n",
    "submission.head(10)"
   ]
  },
  {
   "cell_type": "code",
   "execution_count": 51,
   "id": "creative-sculpture",
   "metadata": {
    "execution": {
     "iopub.execute_input": "2021-06-10T00:04:48.724522Z",
     "iopub.status.busy": "2021-06-10T00:04:48.723897Z",
     "iopub.status.idle": "2021-06-10T00:04:49.379144Z",
     "shell.execute_reply": "2021-06-10T00:04:49.378566Z"
    },
    "papermill": {
     "duration": 0.784242,
     "end_time": "2021-06-10T00:04:49.379382",
     "exception": false,
     "start_time": "2021-06-10T00:04:48.595140",
     "status": "completed"
    },
    "tags": []
   },
   "outputs": [
    {
     "name": "stdout",
     "output_type": "stream",
     "text": [
      "Memory usage of dataframe is 636.25 MB\n",
      "Memory usage after optimization is: 477.19 MB\n",
      "Decreased by 25.0%\n"
     ]
    }
   ],
   "source": [
    "del row_id\n",
    "gc.collect()\n",
    "\n",
    "submission = reduce_mem_usage(submission)"
   ]
  },
  {
   "cell_type": "code",
   "execution_count": 52,
   "id": "adapted-ballet",
   "metadata": {
    "execution": {
     "iopub.execute_input": "2021-06-10T00:04:49.530625Z",
     "iopub.status.busy": "2021-06-10T00:04:49.529795Z",
     "iopub.status.idle": "2021-06-10T00:07:03.656489Z",
     "shell.execute_reply": "2021-06-10T00:07:03.655786Z"
    },
    "papermill": {
     "duration": 134.204492,
     "end_time": "2021-06-10T00:07:03.656673",
     "exception": false,
     "start_time": "2021-06-10T00:04:49.452181",
     "status": "completed"
    },
    "tags": []
   },
   "outputs": [],
   "source": [
    "submission.to_csv('ASHRAE_submit.csv')"
   ]
  }
 ],
 "metadata": {
  "kernelspec": {
   "display_name": "Python 3",
   "language": "python",
   "name": "python3"
  },
  "language_info": {
   "codemirror_mode": {
    "name": "ipython",
    "version": 3
   },
   "file_extension": ".py",
   "mimetype": "text/x-python",
   "name": "python",
   "nbconvert_exporter": "python",
   "pygments_lexer": "ipython3",
   "version": "3.7.10"
  },
  "papermill": {
   "default_parameters": {},
   "duration": 698.080133,
   "end_time": "2021-06-10T00:07:05.345884",
   "environment_variables": {},
   "exception": null,
   "input_path": "__notebook__.ipynb",
   "output_path": "__notebook__.ipynb",
   "parameters": {},
   "start_time": "2021-06-09T23:55:27.265751",
   "version": "2.3.3"
  }
 },
 "nbformat": 4,
 "nbformat_minor": 5
}
