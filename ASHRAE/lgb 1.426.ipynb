{
 "cells": [
  {
   "cell_type": "markdown",
   "id": "least-little",
   "metadata": {
    "papermill": {
     "duration": 0.041707,
     "end_time": "2021-06-10T03:10:55.352982",
     "exception": false,
     "start_time": "2021-06-10T03:10:55.311275",
     "status": "completed"
    },
    "tags": []
   },
   "source": [
    "# Overview"
   ]
  },
  {
   "cell_type": "markdown",
   "id": "middle-translation",
   "metadata": {
    "papermill": {
     "duration": 0.033613,
     "end_time": "2021-06-10T03:10:55.420593",
     "exception": false,
     "start_time": "2021-06-10T03:10:55.386980",
     "status": "completed"
    },
    "tags": []
   },
   "source": [
    "1448棟のビルの4種類のメーター（電力、冷水、スチーム、温水）の値を予測するコンペである。\n",
    "\n",
    "背景としては、エネルギー使用量（4種類のメーターの値）が正確に予測できるようになることで<br>\n",
    "省エネ投資を活発化させて、環境問題に貢献したいという狙いがある。\n",
    "\n",
    "ビルの所有者は、ビルのエネルギー効率を改善するような投資を行うことで<br>\n",
    "エネルギー効率が改善された分、コストを抑えることができる。"
   ]
  },
  {
   "cell_type": "markdown",
   "id": "earlier-destination",
   "metadata": {
    "papermill": {
     "duration": 0.036024,
     "end_time": "2021-06-10T03:10:55.490944",
     "exception": false,
     "start_time": "2021-06-10T03:10:55.454920",
     "status": "completed"
    },
    "tags": []
   },
   "source": [
    "# Module"
   ]
  },
  {
   "cell_type": "code",
   "execution_count": 1,
   "id": "spoken-bidding",
   "metadata": {
    "execution": {
     "iopub.execute_input": "2021-06-10T03:10:55.570252Z",
     "iopub.status.busy": "2021-06-10T03:10:55.569431Z",
     "iopub.status.idle": "2021-06-10T03:10:58.360687Z",
     "shell.execute_reply": "2021-06-10T03:10:58.359870Z",
     "shell.execute_reply.started": "2021-06-10T01:25:26.806774Z"
    },
    "papermill": {
     "duration": 2.835065,
     "end_time": "2021-06-10T03:10:58.360846",
     "exception": false,
     "start_time": "2021-06-10T03:10:55.525781",
     "status": "completed"
    },
    "tags": []
   },
   "outputs": [
    {
     "data": {
      "text/html": [
       "<style type='text/css'>\n",
       ".datatable table.frame { margin-bottom: 0; }\n",
       ".datatable table.frame thead { border-bottom: none; }\n",
       ".datatable table.frame tr.coltypes td {  color: #FFFFFF;  line-height: 6px;  padding: 0 0.5em;}\n",
       ".datatable .bool    { background: #DDDD99; }\n",
       ".datatable .object  { background: #565656; }\n",
       ".datatable .int     { background: #5D9E5D; }\n",
       ".datatable .float   { background: #4040CC; }\n",
       ".datatable .str     { background: #CC4040; }\n",
       ".datatable .row_index {  background: var(--jp-border-color3);  border-right: 1px solid var(--jp-border-color0);  color: var(--jp-ui-font-color3);  font-size: 9px;}\n",
       ".datatable .frame tr.coltypes .row_index {  background: var(--jp-border-color0);}\n",
       ".datatable th:nth-child(2) { padding-left: 12px; }\n",
       ".datatable .hellipsis {  color: var(--jp-cell-editor-border-color);}\n",
       ".datatable .vellipsis {  background: var(--jp-layout-color0);  color: var(--jp-cell-editor-border-color);}\n",
       ".datatable .na {  color: var(--jp-cell-editor-border-color);  font-size: 80%;}\n",
       ".datatable .footer { font-size: 9px; }\n",
       ".datatable .frame_dimensions {  background: var(--jp-border-color3);  border-top: 1px solid var(--jp-border-color0);  color: var(--jp-ui-font-color3);  display: inline-block;  opacity: 0.6;  padding: 1px 10px 1px 5px;}\n",
       "</style>\n"
      ],
      "text/plain": [
       "<IPython.core.display.HTML object>"
      ]
     },
     "metadata": {},
     "output_type": "display_data"
    }
   ],
   "source": [
    "import gc\n",
    "import sys\n",
    "import optuna\n",
    "import datetime\n",
    "import warnings\n",
    "import matplotlib\n",
    "import numpy as np\n",
    "import pandas as pd\n",
    "import seaborn as sns\n",
    "import lightgbm as lgb\n",
    "import matplotlib.pyplot as plt\n",
    "\n",
    "from sklearn.preprocessing import LabelEncoder\n",
    "from sklearn.model_selection import train_test_split\n",
    "from sklearn.metrics import mean_squared_error\n",
    "from pandas.api.types import is_datetime64_any_dtype as is_datetime\n",
    "from pandas.api.types import is_categorical_dtype"
   ]
  },
  {
   "cell_type": "markdown",
   "id": "attached-imperial",
   "metadata": {
    "papermill": {
     "duration": 0.033551,
     "end_time": "2021-06-10T03:10:58.428925",
     "exception": false,
     "start_time": "2021-06-10T03:10:58.395374",
     "status": "completed"
    },
    "tags": []
   },
   "source": [
    "# Datasets"
   ]
  },
  {
   "cell_type": "code",
   "execution_count": 2,
   "id": "biblical-indiana",
   "metadata": {
    "execution": {
     "iopub.execute_input": "2021-06-10T03:10:58.501830Z",
     "iopub.status.busy": "2021-06-10T03:10:58.500976Z",
     "iopub.status.idle": "2021-06-10T03:11:11.697543Z",
     "shell.execute_reply": "2021-06-10T03:11:11.696868Z",
     "shell.execute_reply.started": "2021-06-10T01:25:29.841328Z"
    },
    "papermill": {
     "duration": 13.234794,
     "end_time": "2021-06-10T03:11:11.697752",
     "exception": false,
     "start_time": "2021-06-10T03:10:58.462958",
     "status": "completed"
    },
    "tags": []
   },
   "outputs": [
    {
     "name": "stdout",
     "output_type": "stream",
     "text": [
      "(20216100, 4)\n"
     ]
    },
    {
     "data": {
      "text/html": [
       "<div>\n",
       "<style scoped>\n",
       "    .dataframe tbody tr th:only-of-type {\n",
       "        vertical-align: middle;\n",
       "    }\n",
       "\n",
       "    .dataframe tbody tr th {\n",
       "        vertical-align: top;\n",
       "    }\n",
       "\n",
       "    .dataframe thead th {\n",
       "        text-align: right;\n",
       "    }\n",
       "</style>\n",
       "<table border=\"1\" class=\"dataframe\">\n",
       "  <thead>\n",
       "    <tr style=\"text-align: right;\">\n",
       "      <th></th>\n",
       "      <th>building_id</th>\n",
       "      <th>meter</th>\n",
       "      <th>timestamp</th>\n",
       "      <th>meter_reading</th>\n",
       "    </tr>\n",
       "  </thead>\n",
       "  <tbody>\n",
       "    <tr>\n",
       "      <th>0</th>\n",
       "      <td>0</td>\n",
       "      <td>0</td>\n",
       "      <td>2016-01-01 00:00:00</td>\n",
       "      <td>0.0</td>\n",
       "    </tr>\n",
       "    <tr>\n",
       "      <th>1</th>\n",
       "      <td>1</td>\n",
       "      <td>0</td>\n",
       "      <td>2016-01-01 00:00:00</td>\n",
       "      <td>0.0</td>\n",
       "    </tr>\n",
       "    <tr>\n",
       "      <th>2</th>\n",
       "      <td>2</td>\n",
       "      <td>0</td>\n",
       "      <td>2016-01-01 00:00:00</td>\n",
       "      <td>0.0</td>\n",
       "    </tr>\n",
       "    <tr>\n",
       "      <th>3</th>\n",
       "      <td>3</td>\n",
       "      <td>0</td>\n",
       "      <td>2016-01-01 00:00:00</td>\n",
       "      <td>0.0</td>\n",
       "    </tr>\n",
       "    <tr>\n",
       "      <th>4</th>\n",
       "      <td>4</td>\n",
       "      <td>0</td>\n",
       "      <td>2016-01-01 00:00:00</td>\n",
       "      <td>0.0</td>\n",
       "    </tr>\n",
       "  </tbody>\n",
       "</table>\n",
       "</div>"
      ],
      "text/plain": [
       "   building_id  meter            timestamp  meter_reading\n",
       "0            0      0  2016-01-01 00:00:00            0.0\n",
       "1            1      0  2016-01-01 00:00:00            0.0\n",
       "2            2      0  2016-01-01 00:00:00            0.0\n",
       "3            3      0  2016-01-01 00:00:00            0.0\n",
       "4            4      0  2016-01-01 00:00:00            0.0"
      ]
     },
     "execution_count": 2,
     "metadata": {},
     "output_type": "execute_result"
    }
   ],
   "source": [
    "train = pd.read_csv('../input/ashrae-energy-prediction/train.csv')\n",
    "\n",
    "print(train.shape)\n",
    "train.head()"
   ]
  },
  {
   "cell_type": "markdown",
   "id": "union-messenger",
   "metadata": {
    "execution": {
     "iopub.execute_input": "2021-06-04T05:10:36.573413Z",
     "iopub.status.busy": "2021-06-04T05:10:36.573045Z",
     "iopub.status.idle": "2021-06-04T05:10:36.579555Z",
     "shell.execute_reply": "2021-06-04T05:10:36.578197Z",
     "shell.execute_reply.started": "2021-06-04T05:10:36.573384Z"
    },
    "papermill": {
     "duration": 0.034795,
     "end_time": "2021-06-10T03:11:11.777002",
     "exception": false,
     "start_time": "2021-06-10T03:11:11.742207",
     "status": "completed"
    },
    "tags": []
   },
   "source": [
    "1時間ごとのメータ値を保持するテーブル（学習データ）<br>\n",
    "・building_id：ビルのID<br>\n",
    "・meter：0は電力、1は冷水、2はスチーム、3は温水<br>\n",
    "・timestamp：日付と時刻<br>\n",
    "・meter_reading：メーターの使用量（目的変数）<br>"
   ]
  },
  {
   "cell_type": "code",
   "execution_count": 3,
   "id": "thick-martin",
   "metadata": {
    "execution": {
     "iopub.execute_input": "2021-06-10T03:11:11.853299Z",
     "iopub.status.busy": "2021-06-10T03:11:11.852459Z",
     "iopub.status.idle": "2021-06-10T03:11:37.798099Z",
     "shell.execute_reply": "2021-06-10T03:11:37.797446Z",
     "shell.execute_reply.started": "2021-06-10T01:25:45.280708Z"
    },
    "papermill": {
     "duration": 25.984895,
     "end_time": "2021-06-10T03:11:37.798272",
     "exception": false,
     "start_time": "2021-06-10T03:11:11.813377",
     "status": "completed"
    },
    "tags": []
   },
   "outputs": [
    {
     "name": "stdout",
     "output_type": "stream",
     "text": [
      "(41697600, 4)\n"
     ]
    },
    {
     "data": {
      "text/html": [
       "<div>\n",
       "<style scoped>\n",
       "    .dataframe tbody tr th:only-of-type {\n",
       "        vertical-align: middle;\n",
       "    }\n",
       "\n",
       "    .dataframe tbody tr th {\n",
       "        vertical-align: top;\n",
       "    }\n",
       "\n",
       "    .dataframe thead th {\n",
       "        text-align: right;\n",
       "    }\n",
       "</style>\n",
       "<table border=\"1\" class=\"dataframe\">\n",
       "  <thead>\n",
       "    <tr style=\"text-align: right;\">\n",
       "      <th></th>\n",
       "      <th>row_id</th>\n",
       "      <th>building_id</th>\n",
       "      <th>meter</th>\n",
       "      <th>timestamp</th>\n",
       "    </tr>\n",
       "  </thead>\n",
       "  <tbody>\n",
       "    <tr>\n",
       "      <th>0</th>\n",
       "      <td>0</td>\n",
       "      <td>0</td>\n",
       "      <td>0</td>\n",
       "      <td>2017-01-01 00:00:00</td>\n",
       "    </tr>\n",
       "    <tr>\n",
       "      <th>1</th>\n",
       "      <td>1</td>\n",
       "      <td>1</td>\n",
       "      <td>0</td>\n",
       "      <td>2017-01-01 00:00:00</td>\n",
       "    </tr>\n",
       "    <tr>\n",
       "      <th>2</th>\n",
       "      <td>2</td>\n",
       "      <td>2</td>\n",
       "      <td>0</td>\n",
       "      <td>2017-01-01 00:00:00</td>\n",
       "    </tr>\n",
       "    <tr>\n",
       "      <th>3</th>\n",
       "      <td>3</td>\n",
       "      <td>3</td>\n",
       "      <td>0</td>\n",
       "      <td>2017-01-01 00:00:00</td>\n",
       "    </tr>\n",
       "    <tr>\n",
       "      <th>4</th>\n",
       "      <td>4</td>\n",
       "      <td>4</td>\n",
       "      <td>0</td>\n",
       "      <td>2017-01-01 00:00:00</td>\n",
       "    </tr>\n",
       "  </tbody>\n",
       "</table>\n",
       "</div>"
      ],
      "text/plain": [
       "   row_id  building_id  meter            timestamp\n",
       "0       0            0      0  2017-01-01 00:00:00\n",
       "1       1            1      0  2017-01-01 00:00:00\n",
       "2       2            2      0  2017-01-01 00:00:00\n",
       "3       3            3      0  2017-01-01 00:00:00\n",
       "4       4            4      0  2017-01-01 00:00:00"
      ]
     },
     "execution_count": 3,
     "metadata": {},
     "output_type": "execute_result"
    }
   ],
   "source": [
    "test = pd.read_csv('../input/ashrae-energy-prediction/test.csv')\n",
    "\n",
    "print(test.shape)\n",
    "test.head()"
   ]
  },
  {
   "cell_type": "markdown",
   "id": "acoustic-rider",
   "metadata": {
    "papermill": {
     "duration": 0.034594,
     "end_time": "2021-06-10T03:11:37.868154",
     "exception": false,
     "start_time": "2021-06-10T03:11:37.833560",
     "status": "completed"
    },
    "tags": []
   },
   "source": [
    "1時間ごとのメータ値を保持するテーブル（テストデータ）<br>\n",
    "・row_id：行のID<br>\n",
    "・building_id：ビルのID<br>\n",
    "・meter：0は電力、1は冷水、2はスチーム、3は温水<br>\n",
    "・timestamp：日付と時刻<br>"
   ]
  },
  {
   "cell_type": "code",
   "execution_count": 4,
   "id": "blond-present",
   "metadata": {
    "execution": {
     "iopub.execute_input": "2021-06-10T03:11:37.942714Z",
     "iopub.status.busy": "2021-06-10T03:11:37.942152Z",
     "iopub.status.idle": "2021-06-10T03:11:37.944297Z",
     "shell.execute_reply": "2021-06-10T03:11:37.944779Z"
    },
    "papermill": {
     "duration": 0.041637,
     "end_time": "2021-06-10T03:11:37.944944",
     "exception": false,
     "start_time": "2021-06-10T03:11:37.903307",
     "status": "completed"
    },
    "tags": []
   },
   "outputs": [],
   "source": [
    "# 特徴量の選定を行う"
   ]
  },
  {
   "cell_type": "code",
   "execution_count": 5,
   "id": "lightweight-kingdom",
   "metadata": {
    "execution": {
     "iopub.execute_input": "2021-06-10T03:11:38.021960Z",
     "iopub.status.busy": "2021-06-10T03:11:38.021363Z",
     "iopub.status.idle": "2021-06-10T03:11:38.024053Z",
     "shell.execute_reply": "2021-06-10T03:11:38.024433Z",
     "shell.execute_reply.started": "2021-06-10T01:26:16.000767Z"
    },
    "papermill": {
     "duration": 0.043828,
     "end_time": "2021-06-10T03:11:38.024610",
     "exception": false,
     "start_time": "2021-06-10T03:11:37.980782",
     "status": "completed"
    },
    "tags": []
   },
   "outputs": [],
   "source": [
    "usecols = {'site_id', 'timestamp', 'air_temperature', 'dew_temperature'}"
   ]
  },
  {
   "cell_type": "code",
   "execution_count": 6,
   "id": "moved-solution",
   "metadata": {
    "execution": {
     "iopub.execute_input": "2021-06-10T03:11:38.100271Z",
     "iopub.status.busy": "2021-06-10T03:11:38.099696Z",
     "iopub.status.idle": "2021-06-10T03:11:38.262977Z",
     "shell.execute_reply": "2021-06-10T03:11:38.263352Z",
     "shell.execute_reply.started": "2021-06-10T01:26:16.007692Z"
    },
    "papermill": {
     "duration": 0.203256,
     "end_time": "2021-06-10T03:11:38.263509",
     "exception": false,
     "start_time": "2021-06-10T03:11:38.060253",
     "status": "completed"
    },
    "tags": []
   },
   "outputs": [
    {
     "name": "stdout",
     "output_type": "stream",
     "text": [
      "(139773, 4)\n"
     ]
    },
    {
     "data": {
      "text/html": [
       "<div>\n",
       "<style scoped>\n",
       "    .dataframe tbody tr th:only-of-type {\n",
       "        vertical-align: middle;\n",
       "    }\n",
       "\n",
       "    .dataframe tbody tr th {\n",
       "        vertical-align: top;\n",
       "    }\n",
       "\n",
       "    .dataframe thead th {\n",
       "        text-align: right;\n",
       "    }\n",
       "</style>\n",
       "<table border=\"1\" class=\"dataframe\">\n",
       "  <thead>\n",
       "    <tr style=\"text-align: right;\">\n",
       "      <th></th>\n",
       "      <th>site_id</th>\n",
       "      <th>timestamp</th>\n",
       "      <th>air_temperature</th>\n",
       "      <th>dew_temperature</th>\n",
       "    </tr>\n",
       "  </thead>\n",
       "  <tbody>\n",
       "    <tr>\n",
       "      <th>0</th>\n",
       "      <td>0</td>\n",
       "      <td>2016-01-01 00:00:00</td>\n",
       "      <td>25.0</td>\n",
       "      <td>20.0</td>\n",
       "    </tr>\n",
       "    <tr>\n",
       "      <th>1</th>\n",
       "      <td>0</td>\n",
       "      <td>2016-01-01 01:00:00</td>\n",
       "      <td>24.4</td>\n",
       "      <td>21.1</td>\n",
       "    </tr>\n",
       "    <tr>\n",
       "      <th>2</th>\n",
       "      <td>0</td>\n",
       "      <td>2016-01-01 02:00:00</td>\n",
       "      <td>22.8</td>\n",
       "      <td>21.1</td>\n",
       "    </tr>\n",
       "    <tr>\n",
       "      <th>3</th>\n",
       "      <td>0</td>\n",
       "      <td>2016-01-01 03:00:00</td>\n",
       "      <td>21.1</td>\n",
       "      <td>20.6</td>\n",
       "    </tr>\n",
       "    <tr>\n",
       "      <th>4</th>\n",
       "      <td>0</td>\n",
       "      <td>2016-01-01 04:00:00</td>\n",
       "      <td>20.0</td>\n",
       "      <td>20.0</td>\n",
       "    </tr>\n",
       "  </tbody>\n",
       "</table>\n",
       "</div>"
      ],
      "text/plain": [
       "   site_id            timestamp  air_temperature  dew_temperature\n",
       "0        0  2016-01-01 00:00:00             25.0             20.0\n",
       "1        0  2016-01-01 01:00:00             24.4             21.1\n",
       "2        0  2016-01-01 02:00:00             22.8             21.1\n",
       "3        0  2016-01-01 03:00:00             21.1             20.6\n",
       "4        0  2016-01-01 04:00:00             20.0             20.0"
      ]
     },
     "execution_count": 6,
     "metadata": {},
     "output_type": "execute_result"
    }
   ],
   "source": [
    "weather_train = pd.read_csv('../input/ashrae-energy-prediction/weather_train.csv', usecols=usecols)\n",
    "\n",
    "print(weather_train.shape)\n",
    "weather_train.head()"
   ]
  },
  {
   "cell_type": "markdown",
   "id": "going-country",
   "metadata": {
    "papermill": {
     "duration": 0.035774,
     "end_time": "2021-06-10T03:11:38.335051",
     "exception": false,
     "start_time": "2021-06-10T03:11:38.299277",
     "status": "completed"
    },
    "tags": []
   },
   "source": [
    "気象情報を保持するテーブル（学習データに対応）<br>\n",
    "・site_id：ビルの物理的な位置<br>\n",
    "・timestamp：日付と時刻<br>\n",
    "・air_temperature：気温<br>\n",
    "・dew_temperature：湿度<br>\n",
    "・precip_depth：降水量<br>\n",
    "・sea_level_pressure：海圧<br>\n",
    "・wind_direction：風向<br>\n",
    "・wind_speed：風速<br>"
   ]
  },
  {
   "cell_type": "code",
   "execution_count": 7,
   "id": "touched-orange",
   "metadata": {
    "execution": {
     "iopub.execute_input": "2021-06-10T03:11:38.410889Z",
     "iopub.status.busy": "2021-06-10T03:11:38.410291Z",
     "iopub.status.idle": "2021-06-10T03:11:38.719254Z",
     "shell.execute_reply": "2021-06-10T03:11:38.718717Z",
     "shell.execute_reply.started": "2021-06-10T01:26:16.223553Z"
    },
    "papermill": {
     "duration": 0.348532,
     "end_time": "2021-06-10T03:11:38.719381",
     "exception": false,
     "start_time": "2021-06-10T03:11:38.370849",
     "status": "completed"
    },
    "tags": []
   },
   "outputs": [
    {
     "name": "stdout",
     "output_type": "stream",
     "text": [
      "(277243, 4)\n"
     ]
    },
    {
     "data": {
      "text/html": [
       "<div>\n",
       "<style scoped>\n",
       "    .dataframe tbody tr th:only-of-type {\n",
       "        vertical-align: middle;\n",
       "    }\n",
       "\n",
       "    .dataframe tbody tr th {\n",
       "        vertical-align: top;\n",
       "    }\n",
       "\n",
       "    .dataframe thead th {\n",
       "        text-align: right;\n",
       "    }\n",
       "</style>\n",
       "<table border=\"1\" class=\"dataframe\">\n",
       "  <thead>\n",
       "    <tr style=\"text-align: right;\">\n",
       "      <th></th>\n",
       "      <th>site_id</th>\n",
       "      <th>timestamp</th>\n",
       "      <th>air_temperature</th>\n",
       "      <th>dew_temperature</th>\n",
       "    </tr>\n",
       "  </thead>\n",
       "  <tbody>\n",
       "    <tr>\n",
       "      <th>0</th>\n",
       "      <td>0</td>\n",
       "      <td>2017-01-01 00:00:00</td>\n",
       "      <td>17.8</td>\n",
       "      <td>11.7</td>\n",
       "    </tr>\n",
       "    <tr>\n",
       "      <th>1</th>\n",
       "      <td>0</td>\n",
       "      <td>2017-01-01 01:00:00</td>\n",
       "      <td>17.8</td>\n",
       "      <td>12.8</td>\n",
       "    </tr>\n",
       "    <tr>\n",
       "      <th>2</th>\n",
       "      <td>0</td>\n",
       "      <td>2017-01-01 02:00:00</td>\n",
       "      <td>16.1</td>\n",
       "      <td>12.8</td>\n",
       "    </tr>\n",
       "    <tr>\n",
       "      <th>3</th>\n",
       "      <td>0</td>\n",
       "      <td>2017-01-01 03:00:00</td>\n",
       "      <td>17.2</td>\n",
       "      <td>13.3</td>\n",
       "    </tr>\n",
       "    <tr>\n",
       "      <th>4</th>\n",
       "      <td>0</td>\n",
       "      <td>2017-01-01 04:00:00</td>\n",
       "      <td>16.7</td>\n",
       "      <td>13.3</td>\n",
       "    </tr>\n",
       "  </tbody>\n",
       "</table>\n",
       "</div>"
      ],
      "text/plain": [
       "   site_id            timestamp  air_temperature  dew_temperature\n",
       "0        0  2017-01-01 00:00:00             17.8             11.7\n",
       "1        0  2017-01-01 01:00:00             17.8             12.8\n",
       "2        0  2017-01-01 02:00:00             16.1             12.8\n",
       "3        0  2017-01-01 03:00:00             17.2             13.3\n",
       "4        0  2017-01-01 04:00:00             16.7             13.3"
      ]
     },
     "execution_count": 7,
     "metadata": {},
     "output_type": "execute_result"
    }
   ],
   "source": [
    "weather_test = pd.read_csv('../input/ashrae-energy-prediction/weather_test.csv', usecols=usecols)\n",
    "\n",
    "print(weather_test.shape)\n",
    "weather_test.head()"
   ]
  },
  {
   "cell_type": "markdown",
   "id": "sought-planner",
   "metadata": {
    "papermill": {
     "duration": 0.036007,
     "end_time": "2021-06-10T03:11:38.792209",
     "exception": false,
     "start_time": "2021-06-10T03:11:38.756202",
     "status": "completed"
    },
    "tags": []
   },
   "source": [
    "気象情報を保持するテーブル（テストデータに対応）<br>\n",
    "・site_id：ビルの物理的な位置<br>\n",
    "・timestamp：日付と時刻<br>\n",
    "・air_temperature：気温<br>\n",
    "・dew_temperature：湿度<br>\n",
    "・precip_depth：降水量<br>\n",
    "・sea_level_pressure：海圧<br>\n",
    "・wind_direction：風向<br>\n",
    "・wind_speed：風速<br>"
   ]
  },
  {
   "cell_type": "code",
   "execution_count": 8,
   "id": "comfortable-minnesota",
   "metadata": {
    "execution": {
     "iopub.execute_input": "2021-06-10T03:11:38.869618Z",
     "iopub.status.busy": "2021-06-10T03:11:38.868796Z",
     "iopub.status.idle": "2021-06-10T03:11:38.871724Z",
     "shell.execute_reply": "2021-06-10T03:11:38.871190Z",
     "shell.execute_reply.started": "2021-06-10T01:26:16.620704Z"
    },
    "papermill": {
     "duration": 0.043062,
     "end_time": "2021-06-10T03:11:38.871850",
     "exception": false,
     "start_time": "2021-06-10T03:11:38.828788",
     "status": "completed"
    },
    "tags": []
   },
   "outputs": [],
   "source": [
    "usecols = {'site_id', 'building_id', 'primary_use', 'square_feet', 'year_built', 'floor_count'}"
   ]
  },
  {
   "cell_type": "code",
   "execution_count": 9,
   "id": "rational-karma",
   "metadata": {
    "execution": {
     "iopub.execute_input": "2021-06-10T03:11:38.949339Z",
     "iopub.status.busy": "2021-06-10T03:11:38.948492Z",
     "iopub.status.idle": "2021-06-10T03:11:38.966937Z",
     "shell.execute_reply": "2021-06-10T03:11:38.967543Z",
     "shell.execute_reply.started": "2021-06-10T01:26:16.630191Z"
    },
    "papermill": {
     "duration": 0.059427,
     "end_time": "2021-06-10T03:11:38.967771",
     "exception": false,
     "start_time": "2021-06-10T03:11:38.908344",
     "status": "completed"
    },
    "tags": []
   },
   "outputs": [
    {
     "name": "stdout",
     "output_type": "stream",
     "text": [
      "(1449, 6)\n"
     ]
    },
    {
     "data": {
      "text/html": [
       "<div>\n",
       "<style scoped>\n",
       "    .dataframe tbody tr th:only-of-type {\n",
       "        vertical-align: middle;\n",
       "    }\n",
       "\n",
       "    .dataframe tbody tr th {\n",
       "        vertical-align: top;\n",
       "    }\n",
       "\n",
       "    .dataframe thead th {\n",
       "        text-align: right;\n",
       "    }\n",
       "</style>\n",
       "<table border=\"1\" class=\"dataframe\">\n",
       "  <thead>\n",
       "    <tr style=\"text-align: right;\">\n",
       "      <th></th>\n",
       "      <th>site_id</th>\n",
       "      <th>building_id</th>\n",
       "      <th>primary_use</th>\n",
       "      <th>square_feet</th>\n",
       "      <th>year_built</th>\n",
       "      <th>floor_count</th>\n",
       "    </tr>\n",
       "  </thead>\n",
       "  <tbody>\n",
       "    <tr>\n",
       "      <th>0</th>\n",
       "      <td>0</td>\n",
       "      <td>0</td>\n",
       "      <td>Education</td>\n",
       "      <td>7432</td>\n",
       "      <td>2008.0</td>\n",
       "      <td>NaN</td>\n",
       "    </tr>\n",
       "    <tr>\n",
       "      <th>1</th>\n",
       "      <td>0</td>\n",
       "      <td>1</td>\n",
       "      <td>Education</td>\n",
       "      <td>2720</td>\n",
       "      <td>2004.0</td>\n",
       "      <td>NaN</td>\n",
       "    </tr>\n",
       "    <tr>\n",
       "      <th>2</th>\n",
       "      <td>0</td>\n",
       "      <td>2</td>\n",
       "      <td>Education</td>\n",
       "      <td>5376</td>\n",
       "      <td>1991.0</td>\n",
       "      <td>NaN</td>\n",
       "    </tr>\n",
       "    <tr>\n",
       "      <th>3</th>\n",
       "      <td>0</td>\n",
       "      <td>3</td>\n",
       "      <td>Education</td>\n",
       "      <td>23685</td>\n",
       "      <td>2002.0</td>\n",
       "      <td>NaN</td>\n",
       "    </tr>\n",
       "    <tr>\n",
       "      <th>4</th>\n",
       "      <td>0</td>\n",
       "      <td>4</td>\n",
       "      <td>Education</td>\n",
       "      <td>116607</td>\n",
       "      <td>1975.0</td>\n",
       "      <td>NaN</td>\n",
       "    </tr>\n",
       "  </tbody>\n",
       "</table>\n",
       "</div>"
      ],
      "text/plain": [
       "   site_id  building_id primary_use  square_feet  year_built  floor_count\n",
       "0        0            0   Education         7432      2008.0          NaN\n",
       "1        0            1   Education         2720      2004.0          NaN\n",
       "2        0            2   Education         5376      1991.0          NaN\n",
       "3        0            3   Education        23685      2002.0          NaN\n",
       "4        0            4   Education       116607      1975.0          NaN"
      ]
     },
     "execution_count": 9,
     "metadata": {},
     "output_type": "execute_result"
    }
   ],
   "source": [
    "building = pd.read_csv('../input/ashrae-energy-prediction/building_metadata.csv', usecols=usecols)\n",
    "\n",
    "print(building.shape)\n",
    "building.head()"
   ]
  },
  {
   "cell_type": "markdown",
   "id": "corrected-necessity",
   "metadata": {
    "papermill": {
     "duration": 0.036691,
     "end_time": "2021-06-10T03:11:39.042505",
     "exception": false,
     "start_time": "2021-06-10T03:11:39.005814",
     "status": "completed"
    },
    "tags": []
   },
   "source": [
    "ビルの情報を保持するテーブル<br>\n",
    "・site_id：ビルの物理的な位置<br>\n",
    "・building_id：ビルのID<br>\n",
    "・primary_use：使用目的<br>\n",
    "・square_feet：面積<br>\n",
    "・year_built：施工した年<br>\n",
    "・floor_count：階数<br>"
   ]
  },
  {
   "cell_type": "markdown",
   "id": "arranged-ensemble",
   "metadata": {
    "papermill": {
     "duration": 0.037305,
     "end_time": "2021-06-10T03:11:39.116773",
     "exception": false,
     "start_time": "2021-06-10T03:11:39.079468",
     "status": "completed"
    },
    "tags": []
   },
   "source": [
    "# Join"
   ]
  },
  {
   "cell_type": "code",
   "execution_count": 10,
   "id": "maritime-cosmetic",
   "metadata": {
    "execution": {
     "iopub.execute_input": "2021-06-10T03:11:39.194210Z",
     "iopub.status.busy": "2021-06-10T03:11:39.193559Z",
     "iopub.status.idle": "2021-06-10T03:11:39.205290Z",
     "shell.execute_reply": "2021-06-10T03:11:39.205716Z",
     "shell.execute_reply.started": "2021-06-10T01:26:16.663284Z"
    },
    "papermill": {
     "duration": 0.051522,
     "end_time": "2021-06-10T03:11:39.205890",
     "exception": false,
     "start_time": "2021-06-10T03:11:39.154368",
     "status": "completed"
    },
    "tags": []
   },
   "outputs": [],
   "source": [
    "def reduce_mem_usage(df, use_float16=False):\n",
    "    \n",
    "    start_mem = df.memory_usage().sum() / 1024**2\n",
    "    print('Memory usage of dataframe is {:.2f} MB'.format(start_mem))\n",
    "    \n",
    "    for col in df.columns:\n",
    "        if is_datetime(df[col]) or is_categorical_dtype(df[col]):\n",
    "            continue\n",
    "        col_type = df[col].dtype\n",
    "        \n",
    "        if col_type != object:\n",
    "            c_min = df[col].min()\n",
    "            c_max = df[col].max()\n",
    "            if str(col_type)[:3] == 'int':\n",
    "                if c_min > np.iinfo(np.int8).min and c_max < np.iinfo(np.int8).max:\n",
    "                    df[col] = df[col].astype(np.int8)\n",
    "                elif c_min > np.iinfo(np.int16).min and c_max < np.iinfo(np.int16).max:\n",
    "                    df[col] = df[col].astype(np.int16)\n",
    "                elif c_min > np.iinfo(np.int32).min and c_max < np.iinfo(np.int32).max:\n",
    "                    df[col] = df[col].astype(np.int32)\n",
    "                elif c_min > np.iinfo(np.int64).min and c_max < np.iinfo(np.int64).max:\n",
    "                    df[col] = df[col].astype(np.int64)  \n",
    "            else:\n",
    "                if use_float16 and c_min > np.finfo(np.float16).min and c_max < np.finfo(np.float16).max:\n",
    "                    df[col] = df[col].astype(np.float16)\n",
    "                elif c_min > np.finfo(np.float32).min and c_max < np.finfo(np.float32).max:\n",
    "                    df[col] = df[col].astype(np.float32)\n",
    "                else:\n",
    "                    df[col] = df[col].astype(np.float64)\n",
    "        else:\n",
    "            df[col] = df[col].astype('category')\n",
    "\n",
    "    end_mem = df.memory_usage().sum() / 1024**2\n",
    "    print('Memory usage after optimization is: {:.2f} MB'.format(end_mem))\n",
    "    print('Decreased by {:.1f}%'.format(100 * (start_mem - end_mem) / start_mem))\n",
    "    \n",
    "    return df"
   ]
  },
  {
   "cell_type": "code",
   "execution_count": 11,
   "id": "lucky-malawi",
   "metadata": {
    "execution": {
     "iopub.execute_input": "2021-06-10T03:11:39.283032Z",
     "iopub.status.busy": "2021-06-10T03:11:39.282465Z",
     "iopub.status.idle": "2021-06-10T03:11:39.399502Z",
     "shell.execute_reply": "2021-06-10T03:11:39.400203Z",
     "shell.execute_reply.started": "2021-06-10T01:26:16.681655Z"
    },
    "papermill": {
     "duration": 0.157664,
     "end_time": "2021-06-10T03:11:39.400438",
     "exception": false,
     "start_time": "2021-06-10T03:11:39.242774",
     "status": "completed"
    },
    "tags": []
   },
   "outputs": [
    {
     "name": "stdout",
     "output_type": "stream",
     "text": [
      "Memory usage of dataframe is 4.27 MB\n",
      "Memory usage after optimization is: 1.79 MB\n",
      "Decreased by 58.1%\n",
      "Memory usage of dataframe is 8.46 MB\n",
      "Memory usage after optimization is: 3.55 MB\n",
      "Decreased by 58.1%\n"
     ]
    }
   ],
   "source": [
    "# train = reduce_mem_usage(train)\n",
    "# test = reduce_mem_usage(test)\n",
    "\n",
    "weather_train = reduce_mem_usage(weather_train)\n",
    "weather_test = reduce_mem_usage(weather_test)"
   ]
  },
  {
   "cell_type": "code",
   "execution_count": 12,
   "id": "marine-evans",
   "metadata": {
    "execution": {
     "iopub.execute_input": "2021-06-10T03:11:39.485263Z",
     "iopub.status.busy": "2021-06-10T03:11:39.484529Z",
     "iopub.status.idle": "2021-06-10T03:11:54.316391Z",
     "shell.execute_reply": "2021-06-10T03:11:54.316864Z",
     "shell.execute_reply.started": "2021-06-10T01:26:16.826479Z"
    },
    "papermill": {
     "duration": 14.877969,
     "end_time": "2021-06-10T03:11:54.317034",
     "exception": false,
     "start_time": "2021-06-10T03:11:39.439065",
     "status": "completed"
    },
    "tags": []
   },
   "outputs": [
    {
     "name": "stdout",
     "output_type": "stream",
     "text": [
      "(20216100, 9)\n"
     ]
    },
    {
     "data": {
      "text/html": [
       "<div>\n",
       "<style scoped>\n",
       "    .dataframe tbody tr th:only-of-type {\n",
       "        vertical-align: middle;\n",
       "    }\n",
       "\n",
       "    .dataframe tbody tr th {\n",
       "        vertical-align: top;\n",
       "    }\n",
       "\n",
       "    .dataframe thead th {\n",
       "        text-align: right;\n",
       "    }\n",
       "</style>\n",
       "<table border=\"1\" class=\"dataframe\">\n",
       "  <thead>\n",
       "    <tr style=\"text-align: right;\">\n",
       "      <th></th>\n",
       "      <th>building_id</th>\n",
       "      <th>meter</th>\n",
       "      <th>timestamp</th>\n",
       "      <th>meter_reading</th>\n",
       "      <th>site_id</th>\n",
       "      <th>primary_use</th>\n",
       "      <th>square_feet</th>\n",
       "      <th>year_built</th>\n",
       "      <th>floor_count</th>\n",
       "    </tr>\n",
       "  </thead>\n",
       "  <tbody>\n",
       "    <tr>\n",
       "      <th>0</th>\n",
       "      <td>0</td>\n",
       "      <td>0</td>\n",
       "      <td>2016-01-01 00:00:00</td>\n",
       "      <td>0.0</td>\n",
       "      <td>0</td>\n",
       "      <td>Education</td>\n",
       "      <td>7432</td>\n",
       "      <td>2008.0</td>\n",
       "      <td>NaN</td>\n",
       "    </tr>\n",
       "    <tr>\n",
       "      <th>1</th>\n",
       "      <td>1</td>\n",
       "      <td>0</td>\n",
       "      <td>2016-01-01 00:00:00</td>\n",
       "      <td>0.0</td>\n",
       "      <td>0</td>\n",
       "      <td>Education</td>\n",
       "      <td>2720</td>\n",
       "      <td>2004.0</td>\n",
       "      <td>NaN</td>\n",
       "    </tr>\n",
       "    <tr>\n",
       "      <th>2</th>\n",
       "      <td>2</td>\n",
       "      <td>0</td>\n",
       "      <td>2016-01-01 00:00:00</td>\n",
       "      <td>0.0</td>\n",
       "      <td>0</td>\n",
       "      <td>Education</td>\n",
       "      <td>5376</td>\n",
       "      <td>1991.0</td>\n",
       "      <td>NaN</td>\n",
       "    </tr>\n",
       "    <tr>\n",
       "      <th>3</th>\n",
       "      <td>3</td>\n",
       "      <td>0</td>\n",
       "      <td>2016-01-01 00:00:00</td>\n",
       "      <td>0.0</td>\n",
       "      <td>0</td>\n",
       "      <td>Education</td>\n",
       "      <td>23685</td>\n",
       "      <td>2002.0</td>\n",
       "      <td>NaN</td>\n",
       "    </tr>\n",
       "    <tr>\n",
       "      <th>4</th>\n",
       "      <td>4</td>\n",
       "      <td>0</td>\n",
       "      <td>2016-01-01 00:00:00</td>\n",
       "      <td>0.0</td>\n",
       "      <td>0</td>\n",
       "      <td>Education</td>\n",
       "      <td>116607</td>\n",
       "      <td>1975.0</td>\n",
       "      <td>NaN</td>\n",
       "    </tr>\n",
       "  </tbody>\n",
       "</table>\n",
       "</div>"
      ],
      "text/plain": [
       "   building_id  meter            timestamp  meter_reading  site_id  \\\n",
       "0            0      0  2016-01-01 00:00:00            0.0        0   \n",
       "1            1      0  2016-01-01 00:00:00            0.0        0   \n",
       "2            2      0  2016-01-01 00:00:00            0.0        0   \n",
       "3            3      0  2016-01-01 00:00:00            0.0        0   \n",
       "4            4      0  2016-01-01 00:00:00            0.0        0   \n",
       "\n",
       "  primary_use  square_feet  year_built  floor_count  \n",
       "0   Education         7432      2008.0          NaN  \n",
       "1   Education         2720      2004.0          NaN  \n",
       "2   Education         5376      1991.0          NaN  \n",
       "3   Education        23685      2002.0          NaN  \n",
       "4   Education       116607      1975.0          NaN  "
      ]
     },
     "execution_count": 12,
     "metadata": {},
     "output_type": "execute_result"
    }
   ],
   "source": [
    "train = train.merge(building, on='building_id', how='left')\n",
    "test = test.merge(building, on='building_id', how='left')\n",
    "\n",
    "print(train.shape)\n",
    "train.head()"
   ]
  },
  {
   "cell_type": "code",
   "execution_count": 13,
   "id": "clinical-clearance",
   "metadata": {
    "execution": {
     "iopub.execute_input": "2021-06-10T03:11:54.522052Z",
     "iopub.status.busy": "2021-06-10T03:11:54.521055Z",
     "iopub.status.idle": "2021-06-10T03:11:54.524895Z",
     "shell.execute_reply": "2021-06-10T03:11:54.524470Z",
     "shell.execute_reply.started": "2021-06-10T01:26:32.77908Z"
    },
    "papermill": {
     "duration": 0.169313,
     "end_time": "2021-06-10T03:11:54.525029",
     "exception": false,
     "start_time": "2021-06-10T03:11:54.355716",
     "status": "completed"
    },
    "tags": []
   },
   "outputs": [
    {
     "data": {
      "text/plain": [
       "131"
      ]
     },
     "execution_count": 13,
     "metadata": {},
     "output_type": "execute_result"
    }
   ],
   "source": [
    "del building\n",
    "gc.collect()"
   ]
  },
  {
   "cell_type": "code",
   "execution_count": 14,
   "id": "going-stack",
   "metadata": {
    "execution": {
     "iopub.execute_input": "2021-06-10T03:11:54.609269Z",
     "iopub.status.busy": "2021-06-10T03:11:54.607964Z",
     "iopub.status.idle": "2021-06-10T03:12:21.139979Z",
     "shell.execute_reply": "2021-06-10T03:12:21.140572Z",
     "shell.execute_reply.started": "2021-06-10T01:26:32.978359Z"
    },
    "papermill": {
     "duration": 26.576229,
     "end_time": "2021-06-10T03:12:21.140770",
     "exception": false,
     "start_time": "2021-06-10T03:11:54.564541",
     "status": "completed"
    },
    "tags": []
   },
   "outputs": [
    {
     "name": "stdout",
     "output_type": "stream",
     "text": [
      "(20216100, 11)\n"
     ]
    },
    {
     "data": {
      "text/html": [
       "<div>\n",
       "<style scoped>\n",
       "    .dataframe tbody tr th:only-of-type {\n",
       "        vertical-align: middle;\n",
       "    }\n",
       "\n",
       "    .dataframe tbody tr th {\n",
       "        vertical-align: top;\n",
       "    }\n",
       "\n",
       "    .dataframe thead th {\n",
       "        text-align: right;\n",
       "    }\n",
       "</style>\n",
       "<table border=\"1\" class=\"dataframe\">\n",
       "  <thead>\n",
       "    <tr style=\"text-align: right;\">\n",
       "      <th></th>\n",
       "      <th>building_id</th>\n",
       "      <th>meter</th>\n",
       "      <th>timestamp</th>\n",
       "      <th>meter_reading</th>\n",
       "      <th>site_id</th>\n",
       "      <th>primary_use</th>\n",
       "      <th>square_feet</th>\n",
       "      <th>year_built</th>\n",
       "      <th>floor_count</th>\n",
       "      <th>air_temperature</th>\n",
       "      <th>dew_temperature</th>\n",
       "    </tr>\n",
       "  </thead>\n",
       "  <tbody>\n",
       "    <tr>\n",
       "      <th>0</th>\n",
       "      <td>0</td>\n",
       "      <td>0</td>\n",
       "      <td>2016-01-01 00:00:00</td>\n",
       "      <td>0.0</td>\n",
       "      <td>0</td>\n",
       "      <td>Education</td>\n",
       "      <td>7432</td>\n",
       "      <td>2008.0</td>\n",
       "      <td>NaN</td>\n",
       "      <td>25.0</td>\n",
       "      <td>20.0</td>\n",
       "    </tr>\n",
       "    <tr>\n",
       "      <th>1</th>\n",
       "      <td>1</td>\n",
       "      <td>0</td>\n",
       "      <td>2016-01-01 00:00:00</td>\n",
       "      <td>0.0</td>\n",
       "      <td>0</td>\n",
       "      <td>Education</td>\n",
       "      <td>2720</td>\n",
       "      <td>2004.0</td>\n",
       "      <td>NaN</td>\n",
       "      <td>25.0</td>\n",
       "      <td>20.0</td>\n",
       "    </tr>\n",
       "    <tr>\n",
       "      <th>2</th>\n",
       "      <td>2</td>\n",
       "      <td>0</td>\n",
       "      <td>2016-01-01 00:00:00</td>\n",
       "      <td>0.0</td>\n",
       "      <td>0</td>\n",
       "      <td>Education</td>\n",
       "      <td>5376</td>\n",
       "      <td>1991.0</td>\n",
       "      <td>NaN</td>\n",
       "      <td>25.0</td>\n",
       "      <td>20.0</td>\n",
       "    </tr>\n",
       "    <tr>\n",
       "      <th>3</th>\n",
       "      <td>3</td>\n",
       "      <td>0</td>\n",
       "      <td>2016-01-01 00:00:00</td>\n",
       "      <td>0.0</td>\n",
       "      <td>0</td>\n",
       "      <td>Education</td>\n",
       "      <td>23685</td>\n",
       "      <td>2002.0</td>\n",
       "      <td>NaN</td>\n",
       "      <td>25.0</td>\n",
       "      <td>20.0</td>\n",
       "    </tr>\n",
       "    <tr>\n",
       "      <th>4</th>\n",
       "      <td>4</td>\n",
       "      <td>0</td>\n",
       "      <td>2016-01-01 00:00:00</td>\n",
       "      <td>0.0</td>\n",
       "      <td>0</td>\n",
       "      <td>Education</td>\n",
       "      <td>116607</td>\n",
       "      <td>1975.0</td>\n",
       "      <td>NaN</td>\n",
       "      <td>25.0</td>\n",
       "      <td>20.0</td>\n",
       "    </tr>\n",
       "  </tbody>\n",
       "</table>\n",
       "</div>"
      ],
      "text/plain": [
       "   building_id  meter            timestamp  meter_reading  site_id  \\\n",
       "0            0      0  2016-01-01 00:00:00            0.0        0   \n",
       "1            1      0  2016-01-01 00:00:00            0.0        0   \n",
       "2            2      0  2016-01-01 00:00:00            0.0        0   \n",
       "3            3      0  2016-01-01 00:00:00            0.0        0   \n",
       "4            4      0  2016-01-01 00:00:00            0.0        0   \n",
       "\n",
       "  primary_use  square_feet  year_built  floor_count  air_temperature  \\\n",
       "0   Education         7432      2008.0          NaN             25.0   \n",
       "1   Education         2720      2004.0          NaN             25.0   \n",
       "2   Education         5376      1991.0          NaN             25.0   \n",
       "3   Education        23685      2002.0          NaN             25.0   \n",
       "4   Education       116607      1975.0          NaN             25.0   \n",
       "\n",
       "   dew_temperature  \n",
       "0             20.0  \n",
       "1             20.0  \n",
       "2             20.0  \n",
       "3             20.0  \n",
       "4             20.0  "
      ]
     },
     "execution_count": 14,
     "metadata": {},
     "output_type": "execute_result"
    }
   ],
   "source": [
    "train = train.merge(weather_train, on=['site_id', 'timestamp'], how='left')\n",
    "test = test.merge(weather_test, on=['site_id', 'timestamp'], how='left')\n",
    "\n",
    "print(train.shape)\n",
    "train.head()"
   ]
  },
  {
   "cell_type": "code",
   "execution_count": 15,
   "id": "unable-composite",
   "metadata": {
    "execution": {
     "iopub.execute_input": "2021-06-10T03:12:21.226866Z",
     "iopub.status.busy": "2021-06-10T03:12:21.226278Z",
     "iopub.status.idle": "2021-06-10T03:12:21.383041Z",
     "shell.execute_reply": "2021-06-10T03:12:21.382564Z",
     "shell.execute_reply.started": "2021-06-10T01:27:05.426738Z"
    },
    "papermill": {
     "duration": 0.198057,
     "end_time": "2021-06-10T03:12:21.383176",
     "exception": false,
     "start_time": "2021-06-10T03:12:21.185119",
     "status": "completed"
    },
    "tags": []
   },
   "outputs": [
    {
     "data": {
      "text/plain": [
       "40"
      ]
     },
     "execution_count": 15,
     "metadata": {},
     "output_type": "execute_result"
    }
   ],
   "source": [
    "del weather_train, weather_test\n",
    "gc.collect()"
   ]
  },
  {
   "cell_type": "code",
   "execution_count": 16,
   "id": "young-wrong",
   "metadata": {
    "execution": {
     "iopub.execute_input": "2021-06-10T03:12:21.466324Z",
     "iopub.status.busy": "2021-06-10T03:12:21.465455Z",
     "iopub.status.idle": "2021-06-10T03:12:21.467958Z",
     "shell.execute_reply": "2021-06-10T03:12:21.468366Z",
     "shell.execute_reply.started": "2021-06-10T01:27:05.737341Z"
    },
    "papermill": {
     "duration": 0.046294,
     "end_time": "2021-06-10T03:12:21.468528",
     "exception": false,
     "start_time": "2021-06-10T03:12:21.422234",
     "status": "completed"
    },
    "tags": []
   },
   "outputs": [],
   "source": [
    "# train = reduce_mem_usage(train)\n",
    "# test = reduce_mem_usage(test)"
   ]
  },
  {
   "cell_type": "code",
   "execution_count": 17,
   "id": "reflected-morocco",
   "metadata": {
    "execution": {
     "iopub.execute_input": "2021-06-10T03:12:23.037058Z",
     "iopub.status.busy": "2021-06-10T03:12:23.036217Z",
     "iopub.status.idle": "2021-06-10T03:12:30.885148Z",
     "shell.execute_reply": "2021-06-10T03:12:30.885650Z",
     "shell.execute_reply.started": "2021-06-10T01:27:05.753459Z"
    },
    "papermill": {
     "duration": 9.378266,
     "end_time": "2021-06-10T03:12:30.885824",
     "exception": false,
     "start_time": "2021-06-10T03:12:21.507558",
     "status": "completed"
    },
    "tags": []
   },
   "outputs": [
    {
     "name": "stdout",
     "output_type": "stream",
     "text": [
      "4393476701\n",
      "9063691712\n"
     ]
    }
   ],
   "source": [
    "print(sys.getsizeof(train))\n",
    "print(sys.getsizeof(test))"
   ]
  },
  {
   "cell_type": "code",
   "execution_count": 18,
   "id": "administrative-excess",
   "metadata": {
    "execution": {
     "iopub.execute_input": "2021-06-10T03:12:30.981376Z",
     "iopub.status.busy": "2021-06-10T03:12:30.980332Z",
     "iopub.status.idle": "2021-06-10T03:12:30.986508Z",
     "shell.execute_reply": "2021-06-10T03:12:30.985872Z",
     "shell.execute_reply.started": "2021-06-10T01:27:26.858281Z"
    },
    "papermill": {
     "duration": 0.060256,
     "end_time": "2021-06-10T03:12:30.986670",
     "exception": false,
     "start_time": "2021-06-10T03:12:30.926414",
     "status": "completed"
    },
    "tags": []
   },
   "outputs": [
    {
     "data": {
      "text/plain": [
       "Index              161728800\n",
       "building_id        161728800\n",
       "meter              161728800\n",
       "timestamp          161728800\n",
       "meter_reading      161728800\n",
       "site_id            161728800\n",
       "primary_use        161728800\n",
       "square_feet        161728800\n",
       "year_built         161728800\n",
       "floor_count        161728800\n",
       "air_temperature     80864400\n",
       "dew_temperature     80864400\n",
       "dtype: int64"
      ]
     },
     "execution_count": 18,
     "metadata": {},
     "output_type": "execute_result"
    }
   ],
   "source": [
    "train.memory_usage()"
   ]
  },
  {
   "cell_type": "code",
   "execution_count": 19,
   "id": "accompanied-dependence",
   "metadata": {
    "execution": {
     "iopub.execute_input": "2021-06-10T03:12:31.092813Z",
     "iopub.status.busy": "2021-06-10T03:12:31.092001Z",
     "iopub.status.idle": "2021-06-10T03:12:31.097127Z",
     "shell.execute_reply": "2021-06-10T03:12:31.097568Z",
     "shell.execute_reply.started": "2021-06-10T01:27:26.869695Z"
    },
    "papermill": {
     "duration": 0.062442,
     "end_time": "2021-06-10T03:12:31.097786",
     "exception": false,
     "start_time": "2021-06-10T03:12:31.035344",
     "status": "completed"
    },
    "tags": []
   },
   "outputs": [
    {
     "data": {
      "text/plain": [
       "Index              333580800\n",
       "row_id             333580800\n",
       "building_id        333580800\n",
       "meter              333580800\n",
       "timestamp          333580800\n",
       "site_id            333580800\n",
       "primary_use        333580800\n",
       "square_feet        333580800\n",
       "year_built         333580800\n",
       "floor_count        333580800\n",
       "air_temperature    166790400\n",
       "dew_temperature    166790400\n",
       "dtype: int64"
      ]
     },
     "execution_count": 19,
     "metadata": {},
     "output_type": "execute_result"
    }
   ],
   "source": [
    "test.memory_usage()"
   ]
  },
  {
   "cell_type": "markdown",
   "id": "narrow-center",
   "metadata": {
    "papermill": {
     "duration": 0.042004,
     "end_time": "2021-06-10T03:12:31.181008",
     "exception": false,
     "start_time": "2021-06-10T03:12:31.139004",
     "status": "completed"
    },
    "tags": []
   },
   "source": [
    "# Analytics"
   ]
  },
  {
   "cell_type": "code",
   "execution_count": 20,
   "id": "rapid-gasoline",
   "metadata": {
    "execution": {
     "iopub.execute_input": "2021-06-10T03:12:31.288615Z",
     "iopub.status.busy": "2021-06-10T03:12:31.287482Z",
     "iopub.status.idle": "2021-06-10T03:12:31.295398Z",
     "shell.execute_reply": "2021-06-10T03:12:31.294864Z",
     "shell.execute_reply.started": "2021-06-10T01:27:26.883963Z"
    },
    "papermill": {
     "duration": 0.066699,
     "end_time": "2021-06-10T03:12:31.295573",
     "exception": false,
     "start_time": "2021-06-10T03:12:31.228874",
     "status": "completed"
    },
    "tags": []
   },
   "outputs": [
    {
     "name": "stdout",
     "output_type": "stream",
     "text": [
      "<class 'pandas.core.frame.DataFrame'>\n",
      "Int64Index: 20216100 entries, 0 to 20216099\n",
      "Data columns (total 11 columns):\n",
      " #   Column           Dtype  \n",
      "---  ------           -----  \n",
      " 0   building_id      int64  \n",
      " 1   meter            int64  \n",
      " 2   timestamp        object \n",
      " 3   meter_reading    float64\n",
      " 4   site_id          int64  \n",
      " 5   primary_use      object \n",
      " 6   square_feet      int64  \n",
      " 7   year_built       float64\n",
      " 8   floor_count      float64\n",
      " 9   air_temperature  float32\n",
      " 10  dew_temperature  float32\n",
      "dtypes: float32(2), float64(3), int64(4), object(2)\n",
      "memory usage: 1.7+ GB\n"
     ]
    }
   ],
   "source": [
    "train.info()"
   ]
  },
  {
   "cell_type": "code",
   "execution_count": 21,
   "id": "dependent-kazakhstan",
   "metadata": {
    "execution": {
     "iopub.execute_input": "2021-06-10T03:12:31.394424Z",
     "iopub.status.busy": "2021-06-10T03:12:31.393783Z",
     "iopub.status.idle": "2021-06-10T03:12:40.818318Z",
     "shell.execute_reply": "2021-06-10T03:12:40.817555Z",
     "shell.execute_reply.started": "2021-06-10T01:27:26.904851Z"
    },
    "papermill": {
     "duration": 9.473183,
     "end_time": "2021-06-10T03:12:40.818508",
     "exception": false,
     "start_time": "2021-06-10T03:12:31.345325",
     "status": "completed"
    },
    "tags": []
   },
   "outputs": [
    {
     "name": "stdout",
     "output_type": "stream",
     "text": [
      "building_id: 1449\n",
      "meter: 4\n",
      "timestamp: 8784\n",
      "meter_reading: 1688175\n",
      "site_id: 16\n",
      "primary_use: 16\n",
      "square_feet: 1397\n",
      "year_built: 116\n",
      "floor_count: 18\n",
      "air_temperature: 619\n",
      "dew_temperature: 522\n"
     ]
    }
   ],
   "source": [
    "for i in train.columns:\n",
    "    print('{}: {}'.format(i, train[i].nunique()))"
   ]
  },
  {
   "cell_type": "code",
   "execution_count": 22,
   "id": "french-breast",
   "metadata": {
    "execution": {
     "iopub.execute_input": "2021-06-10T03:12:40.909314Z",
     "iopub.status.busy": "2021-06-10T03:12:40.908696Z",
     "iopub.status.idle": "2021-06-10T03:12:42.753582Z",
     "shell.execute_reply": "2021-06-10T03:12:42.752987Z",
     "shell.execute_reply.started": "2021-06-10T01:27:38.090881Z"
    },
    "papermill": {
     "duration": 1.891485,
     "end_time": "2021-06-10T03:12:42.753738",
     "exception": false,
     "start_time": "2021-06-10T03:12:40.862253",
     "status": "completed"
    },
    "tags": []
   },
   "outputs": [
    {
     "data": {
      "text/plain": [
       "building_id               0\n",
       "meter                     0\n",
       "timestamp                 0\n",
       "meter_reading             0\n",
       "site_id                   0\n",
       "primary_use               0\n",
       "square_feet               0\n",
       "year_built         12127645\n",
       "floor_count        16709167\n",
       "air_temperature       96658\n",
       "dew_temperature      100140\n",
       "dtype: int64"
      ]
     },
     "execution_count": 22,
     "metadata": {},
     "output_type": "execute_result"
    }
   ],
   "source": [
    "train.isnull().sum()"
   ]
  },
  {
   "cell_type": "code",
   "execution_count": 23,
   "id": "gross-associate",
   "metadata": {
    "execution": {
     "iopub.execute_input": "2021-06-10T03:12:42.848666Z",
     "iopub.status.busy": "2021-06-10T03:12:42.847870Z",
     "iopub.status.idle": "2021-06-10T03:12:49.620934Z",
     "shell.execute_reply": "2021-06-10T03:12:49.621325Z",
     "shell.execute_reply.started": "2021-06-10T01:27:41.876996Z"
    },
    "papermill": {
     "duration": 6.823539,
     "end_time": "2021-06-10T03:12:49.621494",
     "exception": false,
     "start_time": "2021-06-10T03:12:42.797955",
     "status": "completed"
    },
    "tags": []
   },
   "outputs": [
    {
     "data": {
      "text/html": [
       "<div>\n",
       "<style scoped>\n",
       "    .dataframe tbody tr th:only-of-type {\n",
       "        vertical-align: middle;\n",
       "    }\n",
       "\n",
       "    .dataframe tbody tr th {\n",
       "        vertical-align: top;\n",
       "    }\n",
       "\n",
       "    .dataframe thead th {\n",
       "        text-align: right;\n",
       "    }\n",
       "</style>\n",
       "<table border=\"1\" class=\"dataframe\">\n",
       "  <thead>\n",
       "    <tr style=\"text-align: right;\">\n",
       "      <th></th>\n",
       "      <th>building_id</th>\n",
       "      <th>meter</th>\n",
       "      <th>meter_reading</th>\n",
       "      <th>site_id</th>\n",
       "      <th>square_feet</th>\n",
       "      <th>year_built</th>\n",
       "      <th>floor_count</th>\n",
       "      <th>air_temperature</th>\n",
       "      <th>dew_temperature</th>\n",
       "    </tr>\n",
       "  </thead>\n",
       "  <tbody>\n",
       "    <tr>\n",
       "      <th>building_id</th>\n",
       "      <td>1.000000</td>\n",
       "      <td>0.222268</td>\n",
       "      <td>0.008761</td>\n",
       "      <td>0.980975</td>\n",
       "      <td>0.087704</td>\n",
       "      <td>-0.246150</td>\n",
       "      <td>-0.348353</td>\n",
       "      <td>-0.314149</td>\n",
       "      <td>-0.110091</td>\n",
       "    </tr>\n",
       "    <tr>\n",
       "      <th>meter</th>\n",
       "      <td>0.222268</td>\n",
       "      <td>1.000000</td>\n",
       "      <td>0.017672</td>\n",
       "      <td>0.253875</td>\n",
       "      <td>0.132708</td>\n",
       "      <td>-0.003798</td>\n",
       "      <td>0.176926</td>\n",
       "      <td>-0.011159</td>\n",
       "      <td>-0.080445</td>\n",
       "    </tr>\n",
       "    <tr>\n",
       "      <th>meter_reading</th>\n",
       "      <td>0.008761</td>\n",
       "      <td>0.017672</td>\n",
       "      <td>1.000000</td>\n",
       "      <td>0.011897</td>\n",
       "      <td>0.024308</td>\n",
       "      <td>0.111837</td>\n",
       "      <td>0.130224</td>\n",
       "      <td>-0.004132</td>\n",
       "      <td>-0.003330</td>\n",
       "    </tr>\n",
       "    <tr>\n",
       "      <th>site_id</th>\n",
       "      <td>0.980975</td>\n",
       "      <td>0.253875</td>\n",
       "      <td>0.011897</td>\n",
       "      <td>1.000000</td>\n",
       "      <td>0.090934</td>\n",
       "      <td>-0.212378</td>\n",
       "      <td>-0.336626</td>\n",
       "      <td>-0.307199</td>\n",
       "      <td>-0.135186</td>\n",
       "    </tr>\n",
       "    <tr>\n",
       "      <th>square_feet</th>\n",
       "      <td>0.087704</td>\n",
       "      <td>0.132708</td>\n",
       "      <td>0.024308</td>\n",
       "      <td>0.090934</td>\n",
       "      <td>1.000000</td>\n",
       "      <td>0.135717</td>\n",
       "      <td>0.584495</td>\n",
       "      <td>-0.015665</td>\n",
       "      <td>-0.023385</td>\n",
       "    </tr>\n",
       "    <tr>\n",
       "      <th>year_built</th>\n",
       "      <td>-0.246150</td>\n",
       "      <td>-0.003798</td>\n",
       "      <td>0.111837</td>\n",
       "      <td>-0.212378</td>\n",
       "      <td>0.135717</td>\n",
       "      <td>1.000000</td>\n",
       "      <td>0.147381</td>\n",
       "      <td>0.174156</td>\n",
       "      <td>0.117523</td>\n",
       "    </tr>\n",
       "    <tr>\n",
       "      <th>floor_count</th>\n",
       "      <td>-0.348353</td>\n",
       "      <td>0.176926</td>\n",
       "      <td>0.130224</td>\n",
       "      <td>-0.336626</td>\n",
       "      <td>0.584495</td>\n",
       "      <td>0.147381</td>\n",
       "      <td>1.000000</td>\n",
       "      <td>-0.183969</td>\n",
       "      <td>-0.174681</td>\n",
       "    </tr>\n",
       "    <tr>\n",
       "      <th>air_temperature</th>\n",
       "      <td>-0.314149</td>\n",
       "      <td>-0.011159</td>\n",
       "      <td>-0.004132</td>\n",
       "      <td>-0.307199</td>\n",
       "      <td>-0.015665</td>\n",
       "      <td>0.174156</td>\n",
       "      <td>-0.183969</td>\n",
       "      <td>1.000000</td>\n",
       "      <td>0.750640</td>\n",
       "    </tr>\n",
       "    <tr>\n",
       "      <th>dew_temperature</th>\n",
       "      <td>-0.110091</td>\n",
       "      <td>-0.080445</td>\n",
       "      <td>-0.003330</td>\n",
       "      <td>-0.135186</td>\n",
       "      <td>-0.023385</td>\n",
       "      <td>0.117523</td>\n",
       "      <td>-0.174681</td>\n",
       "      <td>0.750640</td>\n",
       "      <td>1.000000</td>\n",
       "    </tr>\n",
       "  </tbody>\n",
       "</table>\n",
       "</div>"
      ],
      "text/plain": [
       "                 building_id     meter  meter_reading   site_id  square_feet  \\\n",
       "building_id         1.000000  0.222268       0.008761  0.980975     0.087704   \n",
       "meter               0.222268  1.000000       0.017672  0.253875     0.132708   \n",
       "meter_reading       0.008761  0.017672       1.000000  0.011897     0.024308   \n",
       "site_id             0.980975  0.253875       0.011897  1.000000     0.090934   \n",
       "square_feet         0.087704  0.132708       0.024308  0.090934     1.000000   \n",
       "year_built         -0.246150 -0.003798       0.111837 -0.212378     0.135717   \n",
       "floor_count        -0.348353  0.176926       0.130224 -0.336626     0.584495   \n",
       "air_temperature    -0.314149 -0.011159      -0.004132 -0.307199    -0.015665   \n",
       "dew_temperature    -0.110091 -0.080445      -0.003330 -0.135186    -0.023385   \n",
       "\n",
       "                 year_built  floor_count  air_temperature  dew_temperature  \n",
       "building_id       -0.246150    -0.348353        -0.314149        -0.110091  \n",
       "meter             -0.003798     0.176926        -0.011159        -0.080445  \n",
       "meter_reading      0.111837     0.130224        -0.004132        -0.003330  \n",
       "site_id           -0.212378    -0.336626        -0.307199        -0.135186  \n",
       "square_feet        0.135717     0.584495        -0.015665        -0.023385  \n",
       "year_built         1.000000     0.147381         0.174156         0.117523  \n",
       "floor_count        0.147381     1.000000        -0.183969        -0.174681  \n",
       "air_temperature    0.174156    -0.183969         1.000000         0.750640  \n",
       "dew_temperature    0.117523    -0.174681         0.750640         1.000000  "
      ]
     },
     "execution_count": 23,
     "metadata": {},
     "output_type": "execute_result"
    }
   ],
   "source": [
    "train.corr()"
   ]
  },
  {
   "cell_type": "markdown",
   "id": "unknown-doctrine",
   "metadata": {
    "execution": {
     "iopub.execute_input": "2021-06-09T04:35:08.004653Z",
     "iopub.status.busy": "2021-06-09T04:35:08.004275Z",
     "iopub.status.idle": "2021-06-09T04:35:08.008716Z",
     "shell.execute_reply": "2021-06-09T04:35:08.007602Z",
     "shell.execute_reply.started": "2021-06-09T04:35:08.004621Z"
    },
    "papermill": {
     "duration": 0.043491,
     "end_time": "2021-06-10T03:12:49.708748",
     "exception": false,
     "start_time": "2021-06-10T03:12:49.665257",
     "status": "completed"
    },
    "tags": []
   },
   "source": [
    "# Visualization"
   ]
  },
  {
   "cell_type": "code",
   "execution_count": 24,
   "id": "corrected-bedroom",
   "metadata": {
    "execution": {
     "iopub.execute_input": "2021-06-10T03:12:49.800588Z",
     "iopub.status.busy": "2021-06-10T03:12:49.799949Z",
     "iopub.status.idle": "2021-06-10T03:12:49.804107Z",
     "shell.execute_reply": "2021-06-10T03:12:49.803470Z",
     "shell.execute_reply.started": "2021-06-10T01:27:47.647004Z"
    },
    "papermill": {
     "duration": 0.05242,
     "end_time": "2021-06-10T03:12:49.804254",
     "exception": false,
     "start_time": "2021-06-10T03:12:49.751834",
     "status": "completed"
    },
    "tags": []
   },
   "outputs": [],
   "source": [
    "sns.set()"
   ]
  },
  {
   "cell_type": "code",
   "execution_count": 25,
   "id": "demanding-digit",
   "metadata": {
    "execution": {
     "iopub.execute_input": "2021-06-10T03:12:50.621759Z",
     "iopub.status.busy": "2021-06-10T03:12:50.621116Z",
     "iopub.status.idle": "2021-06-10T03:12:59.010706Z",
     "shell.execute_reply": "2021-06-10T03:12:59.011945Z",
     "shell.execute_reply.started": "2021-06-10T01:27:47.655513Z"
    },
    "papermill": {
     "duration": 9.163375,
     "end_time": "2021-06-10T03:12:59.012129",
     "exception": false,
     "start_time": "2021-06-10T03:12:49.848754",
     "status": "completed"
    },
    "tags": []
   },
   "outputs": [],
   "source": [
    "train['timestamp'] = pd.to_datetime(train['timestamp'])\n",
    "test['timestamp'] = pd.to_datetime(test['timestamp'])"
   ]
  },
  {
   "cell_type": "code",
   "execution_count": 26,
   "id": "italic-moldova",
   "metadata": {
    "execution": {
     "iopub.execute_input": "2021-06-10T03:12:59.112605Z",
     "iopub.status.busy": "2021-06-10T03:12:59.112013Z",
     "iopub.status.idle": "2021-06-10T03:12:59.115221Z",
     "shell.execute_reply": "2021-06-10T03:12:59.114614Z",
     "shell.execute_reply.started": "2021-06-10T01:28:00.132755Z"
    },
    "papermill": {
     "duration": 0.0559,
     "end_time": "2021-06-10T03:12:59.115359",
     "exception": false,
     "start_time": "2021-06-10T03:12:59.059459",
     "status": "completed"
    },
    "tags": []
   },
   "outputs": [],
   "source": [
    "# 7月以降、メータの数値が低いのが気になる、外れ値の可能性はないか"
   ]
  },
  {
   "cell_type": "code",
   "execution_count": 27,
   "id": "miniature-installation",
   "metadata": {
    "execution": {
     "iopub.execute_input": "2021-06-10T03:12:59.227521Z",
     "iopub.status.busy": "2021-06-10T03:12:59.226878Z",
     "iopub.status.idle": "2021-06-10T03:13:03.167752Z",
     "shell.execute_reply": "2021-06-10T03:13:03.167159Z",
     "shell.execute_reply.started": "2021-06-10T01:28:00.138654Z"
    },
    "papermill": {
     "duration": 4.008188,
     "end_time": "2021-06-10T03:13:03.167894",
     "exception": false,
     "start_time": "2021-06-10T03:12:59.159706",
     "status": "completed"
    },
    "tags": []
   },
   "outputs": [
    {
     "data": {
      "text/plain": [
       "<matplotlib.legend.Legend at 0x7f49db1ace50>"
      ]
     },
     "execution_count": 27,
     "metadata": {},
     "output_type": "execute_result"
    },
    {
     "data": {
      "image/png": "[encoded data removed]",
      "text/plain": [
       "<Figure size 576x288 with 1 Axes>"
      ]
     },
     "metadata": {},
     "output_type": "display_data"
    }
   ],
   "source": [
    "fig, axes = plt.subplots(figsize=(8, 4))\n",
    "train[['timestamp', 'meter_reading']].set_index('timestamp').resample('H').mean()['meter_reading'].plot(ax=axes, label='hour', alpha=0.8).set_ylabel('Meter reading', fontsize=14)\n",
    "train[['timestamp', 'meter_reading']].set_index('timestamp').resample('D').mean()['meter_reading'].plot(ax=axes, label='day', alpha=0.8).set_ylabel('Meter reading', fontsize=14)\n",
    "axes.legend()"
   ]
  },
  {
   "cell_type": "code",
   "execution_count": 28,
   "id": "loving-bible",
   "metadata": {
    "execution": {
     "iopub.execute_input": "2021-06-10T03:13:03.496875Z",
     "iopub.status.busy": "2021-06-10T03:13:03.280425Z",
     "iopub.status.idle": "2021-06-10T03:13:05.599023Z",
     "shell.execute_reply": "2021-06-10T03:13:05.598536Z",
     "shell.execute_reply.started": "2021-06-10T01:28:03.347476Z"
    },
    "papermill": {
     "duration": 2.385474,
     "end_time": "2021-06-10T03:13:05.599151",
     "exception": false,
     "start_time": "2021-06-10T03:13:03.213677",
     "status": "completed"
    },
    "tags": []
   },
   "outputs": [
    {
     "data": {
      "text/plain": [
       "<matplotlib.legend.Legend at 0x7f49df04bc90>"
      ]
     },
     "execution_count": 28,
     "metadata": {},
     "output_type": "execute_result"
    },
    {
     "data": {
      "image/png": "[encoded data removed]",
      "text/plain": [
       "<Figure size 576x288 with 1 Axes>"
      ]
     },
     "metadata": {},
     "output_type": "display_data"
    }
   ],
   "source": [
    "fig, axes = plt.subplots(figsize=(8, 4))\n",
    "train[['timestamp', 'meter_reading']].set_index('timestamp').resample('W').mean()['meter_reading'].plot(ax=axes, label='week', alpha=1).set_ylabel('Meter reading', fontsize=14)\n",
    "train[['timestamp', 'meter_reading']].set_index('timestamp').resample('M').mean()['meter_reading'].plot(ax=axes, label='month', alpha=1).set_ylabel('Meter reading', fontsize=14)\n",
    "axes.legend()"
   ]
  },
  {
   "cell_type": "markdown",
   "id": "rubber-eight",
   "metadata": {
    "papermill": {
     "duration": 0.045996,
     "end_time": "2021-06-10T03:13:05.691563",
     "exception": false,
     "start_time": "2021-06-10T03:13:05.645567",
     "status": "completed"
    },
    "tags": []
   },
   "source": [
    "# Feature Engineering"
   ]
  },
  {
   "cell_type": "code",
   "execution_count": 29,
   "id": "circular-appearance",
   "metadata": {
    "execution": {
     "iopub.execute_input": "2021-06-10T03:13:05.793206Z",
     "iopub.status.busy": "2021-06-10T03:13:05.792564Z",
     "iopub.status.idle": "2021-06-10T03:13:13.334079Z",
     "shell.execute_reply": "2021-06-10T03:13:13.333548Z",
     "shell.execute_reply.started": "2021-06-10T01:28:05.435972Z"
    },
    "papermill": {
     "duration": 7.594944,
     "end_time": "2021-06-10T03:13:13.334219",
     "exception": false,
     "start_time": "2021-06-10T03:13:05.739275",
     "status": "completed"
    },
    "tags": []
   },
   "outputs": [],
   "source": [
    "train['hour'] = train['timestamp'].dt.hour\n",
    "train['day'] = train['timestamp'].dt.day\n",
    "train['weekend'] = train['timestamp'].dt.weekday\n",
    "train['month'] = train['timestamp'].dt.month"
   ]
  },
  {
   "cell_type": "code",
   "execution_count": 30,
   "id": "optimum-thirty",
   "metadata": {
    "execution": {
     "iopub.execute_input": "2021-06-10T03:13:13.431745Z",
     "iopub.status.busy": "2021-06-10T03:13:13.431154Z",
     "iopub.status.idle": "2021-06-10T03:13:13.435769Z",
     "shell.execute_reply": "2021-06-10T03:13:13.435174Z",
     "shell.execute_reply.started": "2021-06-10T01:28:13.042952Z"
    },
    "papermill": {
     "duration": 0.055167,
     "end_time": "2021-06-10T03:13:13.435909",
     "exception": false,
     "start_time": "2021-06-10T03:13:13.380742",
     "status": "completed"
    },
    "tags": []
   },
   "outputs": [],
   "source": [
    "# ラグ特徴量"
   ]
  },
  {
   "cell_type": "code",
   "execution_count": 31,
   "id": "unauthorized-soviet",
   "metadata": {
    "execution": {
     "iopub.execute_input": "2021-06-10T03:13:13.533560Z",
     "iopub.status.busy": "2021-06-10T03:13:13.532987Z",
     "iopub.status.idle": "2021-06-10T03:13:22.941621Z",
     "shell.execute_reply": "2021-06-10T03:13:22.941113Z",
     "shell.execute_reply.started": "2021-06-10T01:28:13.051299Z"
    },
    "papermill": {
     "duration": 9.459252,
     "end_time": "2021-06-10T03:13:22.941791",
     "exception": false,
     "start_time": "2021-06-10T03:13:13.482539",
     "status": "completed"
    },
    "tags": []
   },
   "outputs": [
    {
     "name": "stdout",
     "output_type": "stream",
     "text": [
      "Memory usage of dataframe is 2005.08 MB\n",
      "Memory usage after optimization is: 771.18 MB\n",
      "Decreased by 61.5%\n"
     ]
    }
   ],
   "source": [
    "train = train.drop(['timestamp', 'site_id'], axis=1)\n",
    "gc.collect()\n",
    "\n",
    "train = reduce_mem_usage(train)"
   ]
  },
  {
   "cell_type": "code",
   "execution_count": 32,
   "id": "mighty-hostel",
   "metadata": {
    "execution": {
     "iopub.execute_input": "2021-06-10T03:13:23.055799Z",
     "iopub.status.busy": "2021-06-10T03:13:23.055120Z",
     "iopub.status.idle": "2021-06-10T03:13:23.062378Z",
     "shell.execute_reply": "2021-06-10T03:13:23.061204Z",
     "shell.execute_reply.started": "2021-06-10T01:28:20.727135Z"
    },
    "papermill": {
     "duration": 0.073691,
     "end_time": "2021-06-10T03:13:23.062551",
     "exception": false,
     "start_time": "2021-06-10T03:13:22.988860",
     "status": "completed"
    },
    "tags": []
   },
   "outputs": [
    {
     "name": "stdout",
     "output_type": "stream",
     "text": [
      "(20216100, 13)\n"
     ]
    },
    {
     "data": {
      "text/html": [
       "<div>\n",
       "<style scoped>\n",
       "    .dataframe tbody tr th:only-of-type {\n",
       "        vertical-align: middle;\n",
       "    }\n",
       "\n",
       "    .dataframe tbody tr th {\n",
       "        vertical-align: top;\n",
       "    }\n",
       "\n",
       "    .dataframe thead th {\n",
       "        text-align: right;\n",
       "    }\n",
       "</style>\n",
       "<table border=\"1\" class=\"dataframe\">\n",
       "  <thead>\n",
       "    <tr style=\"text-align: right;\">\n",
       "      <th></th>\n",
       "      <th>building_id</th>\n",
       "      <th>meter</th>\n",
       "      <th>meter_reading</th>\n",
       "      <th>primary_use</th>\n",
       "      <th>square_feet</th>\n",
       "      <th>year_built</th>\n",
       "      <th>floor_count</th>\n",
       "      <th>air_temperature</th>\n",
       "      <th>dew_temperature</th>\n",
       "      <th>hour</th>\n",
       "      <th>day</th>\n",
       "      <th>weekend</th>\n",
       "      <th>month</th>\n",
       "    </tr>\n",
       "  </thead>\n",
       "  <tbody>\n",
       "    <tr>\n",
       "      <th>0</th>\n",
       "      <td>0</td>\n",
       "      <td>0</td>\n",
       "      <td>0.0</td>\n",
       "      <td>Education</td>\n",
       "      <td>7432</td>\n",
       "      <td>2008.0</td>\n",
       "      <td>NaN</td>\n",
       "      <td>25.0</td>\n",
       "      <td>20.0</td>\n",
       "      <td>0</td>\n",
       "      <td>1</td>\n",
       "      <td>4</td>\n",
       "      <td>1</td>\n",
       "    </tr>\n",
       "    <tr>\n",
       "      <th>1</th>\n",
       "      <td>1</td>\n",
       "      <td>0</td>\n",
       "      <td>0.0</td>\n",
       "      <td>Education</td>\n",
       "      <td>2720</td>\n",
       "      <td>2004.0</td>\n",
       "      <td>NaN</td>\n",
       "      <td>25.0</td>\n",
       "      <td>20.0</td>\n",
       "      <td>0</td>\n",
       "      <td>1</td>\n",
       "      <td>4</td>\n",
       "      <td>1</td>\n",
       "    </tr>\n",
       "    <tr>\n",
       "      <th>2</th>\n",
       "      <td>2</td>\n",
       "      <td>0</td>\n",
       "      <td>0.0</td>\n",
       "      <td>Education</td>\n",
       "      <td>5376</td>\n",
       "      <td>1991.0</td>\n",
       "      <td>NaN</td>\n",
       "      <td>25.0</td>\n",
       "      <td>20.0</td>\n",
       "      <td>0</td>\n",
       "      <td>1</td>\n",
       "      <td>4</td>\n",
       "      <td>1</td>\n",
       "    </tr>\n",
       "    <tr>\n",
       "      <th>3</th>\n",
       "      <td>3</td>\n",
       "      <td>0</td>\n",
       "      <td>0.0</td>\n",
       "      <td>Education</td>\n",
       "      <td>23685</td>\n",
       "      <td>2002.0</td>\n",
       "      <td>NaN</td>\n",
       "      <td>25.0</td>\n",
       "      <td>20.0</td>\n",
       "      <td>0</td>\n",
       "      <td>1</td>\n",
       "      <td>4</td>\n",
       "      <td>1</td>\n",
       "    </tr>\n",
       "    <tr>\n",
       "      <th>4</th>\n",
       "      <td>4</td>\n",
       "      <td>0</td>\n",
       "      <td>0.0</td>\n",
       "      <td>Education</td>\n",
       "      <td>116607</td>\n",
       "      <td>1975.0</td>\n",
       "      <td>NaN</td>\n",
       "      <td>25.0</td>\n",
       "      <td>20.0</td>\n",
       "      <td>0</td>\n",
       "      <td>1</td>\n",
       "      <td>4</td>\n",
       "      <td>1</td>\n",
       "    </tr>\n",
       "  </tbody>\n",
       "</table>\n",
       "</div>"
      ],
      "text/plain": [
       "   building_id  meter  meter_reading primary_use  square_feet  year_built  \\\n",
       "0            0      0            0.0   Education         7432      2008.0   \n",
       "1            1      0            0.0   Education         2720      2004.0   \n",
       "2            2      0            0.0   Education         5376      1991.0   \n",
       "3            3      0            0.0   Education        23685      2002.0   \n",
       "4            4      0            0.0   Education       116607      1975.0   \n",
       "\n",
       "   floor_count  air_temperature  dew_temperature  hour  day  weekend  month  \n",
       "0          NaN             25.0             20.0     0    1        4      1  \n",
       "1          NaN             25.0             20.0     0    1        4      1  \n",
       "2          NaN             25.0             20.0     0    1        4      1  \n",
       "3          NaN             25.0             20.0     0    1        4      1  \n",
       "4          NaN             25.0             20.0     0    1        4      1  "
      ]
     },
     "execution_count": 32,
     "metadata": {},
     "output_type": "execute_result"
    }
   ],
   "source": [
    "print(train.shape)\n",
    "train.head()"
   ]
  },
  {
   "cell_type": "markdown",
   "id": "moving-portsmouth",
   "metadata": {
    "papermill": {
     "duration": 0.04828,
     "end_time": "2021-06-10T03:13:23.160247",
     "exception": false,
     "start_time": "2021-06-10T03:13:23.111967",
     "status": "completed"
    },
    "tags": []
   },
   "source": [
    "# Preprocess"
   ]
  },
  {
   "cell_type": "code",
   "execution_count": 33,
   "id": "accepting-forest",
   "metadata": {
    "execution": {
     "iopub.execute_input": "2021-06-10T03:13:23.261254Z",
     "iopub.status.busy": "2021-06-10T03:13:23.260611Z",
     "iopub.status.idle": "2021-06-10T03:13:23.263112Z",
     "shell.execute_reply": "2021-06-10T03:13:23.262543Z",
     "shell.execute_reply.started": "2021-06-10T01:28:20.75596Z"
    },
    "papermill": {
     "duration": 0.054035,
     "end_time": "2021-06-10T03:13:23.263249",
     "exception": false,
     "start_time": "2021-06-10T03:13:23.209214",
     "status": "completed"
    },
    "tags": []
   },
   "outputs": [],
   "source": [
    "# drop_col = ['precip_depth_1_hr', 'sea_level_pressure', 'wind_direction', 'wind_speed', 'floor_count']      "
   ]
  },
  {
   "cell_type": "code",
   "execution_count": 34,
   "id": "acknowledged-convergence",
   "metadata": {
    "execution": {
     "iopub.execute_input": "2021-06-10T03:13:23.363237Z",
     "iopub.status.busy": "2021-06-10T03:13:23.362650Z",
     "iopub.status.idle": "2021-06-10T03:13:23.366264Z",
     "shell.execute_reply": "2021-06-10T03:13:23.365809Z",
     "shell.execute_reply.started": "2021-06-10T01:28:20.762116Z"
    },
    "papermill": {
     "duration": 0.054814,
     "end_time": "2021-06-10T03:13:23.366404",
     "exception": false,
     "start_time": "2021-06-10T03:13:23.311590",
     "status": "completed"
    },
    "tags": []
   },
   "outputs": [],
   "source": [
    "# train = train.drop(drop_col, axis = 1)\n",
    "# gc.collect()"
   ]
  },
  {
   "cell_type": "code",
   "execution_count": 35,
   "id": "thrown-incidence",
   "metadata": {
    "execution": {
     "iopub.execute_input": "2021-06-10T03:13:23.471545Z",
     "iopub.status.busy": "2021-06-10T03:13:23.470926Z",
     "iopub.status.idle": "2021-06-10T03:13:34.547131Z",
     "shell.execute_reply": "2021-06-10T03:13:34.546678Z",
     "shell.execute_reply.started": "2021-06-10T01:28:20.774278Z"
    },
    "papermill": {
     "duration": 11.129183,
     "end_time": "2021-06-10T03:13:34.547267",
     "exception": false,
     "start_time": "2021-06-10T03:13:23.418084",
     "status": "completed"
    },
    "tags": []
   },
   "outputs": [],
   "source": [
    "le = LabelEncoder()\n",
    "\n",
    "train['primary_use'] = le.fit_transform(train['primary_use'])\n",
    "test['primary_use'] = le.fit_transform(test['primary_use'])"
   ]
  },
  {
   "cell_type": "code",
   "execution_count": 36,
   "id": "auburn-emergency",
   "metadata": {
    "execution": {
     "iopub.execute_input": "2021-06-10T03:13:34.648435Z",
     "iopub.status.busy": "2021-06-10T03:13:34.647808Z",
     "iopub.status.idle": "2021-06-10T03:13:36.161578Z",
     "shell.execute_reply": "2021-06-10T03:13:36.162314Z",
     "shell.execute_reply.started": "2021-06-10T01:28:40.651177Z"
    },
    "papermill": {
     "duration": 1.567477,
     "end_time": "2021-06-10T03:13:36.162575",
     "exception": false,
     "start_time": "2021-06-10T03:13:34.595098",
     "status": "completed"
    },
    "tags": []
   },
   "outputs": [
    {
     "name": "stdout",
     "output_type": "stream",
     "text": [
      "(20216100, 12)\n"
     ]
    },
    {
     "data": {
      "text/html": [
       "<div>\n",
       "<style scoped>\n",
       "    .dataframe tbody tr th:only-of-type {\n",
       "        vertical-align: middle;\n",
       "    }\n",
       "\n",
       "    .dataframe tbody tr th {\n",
       "        vertical-align: top;\n",
       "    }\n",
       "\n",
       "    .dataframe thead th {\n",
       "        text-align: right;\n",
       "    }\n",
       "</style>\n",
       "<table border=\"1\" class=\"dataframe\">\n",
       "  <thead>\n",
       "    <tr style=\"text-align: right;\">\n",
       "      <th></th>\n",
       "      <th>building_id</th>\n",
       "      <th>meter</th>\n",
       "      <th>primary_use</th>\n",
       "      <th>square_feet</th>\n",
       "      <th>year_built</th>\n",
       "      <th>floor_count</th>\n",
       "      <th>air_temperature</th>\n",
       "      <th>dew_temperature</th>\n",
       "      <th>hour</th>\n",
       "      <th>day</th>\n",
       "      <th>weekend</th>\n",
       "      <th>month</th>\n",
       "    </tr>\n",
       "  </thead>\n",
       "  <tbody>\n",
       "    <tr>\n",
       "      <th>0</th>\n",
       "      <td>0</td>\n",
       "      <td>0</td>\n",
       "      <td>0</td>\n",
       "      <td>7432</td>\n",
       "      <td>2008.0</td>\n",
       "      <td>NaN</td>\n",
       "      <td>25.0</td>\n",
       "      <td>20.0</td>\n",
       "      <td>0</td>\n",
       "      <td>1</td>\n",
       "      <td>4</td>\n",
       "      <td>1</td>\n",
       "    </tr>\n",
       "    <tr>\n",
       "      <th>1</th>\n",
       "      <td>1</td>\n",
       "      <td>0</td>\n",
       "      <td>0</td>\n",
       "      <td>2720</td>\n",
       "      <td>2004.0</td>\n",
       "      <td>NaN</td>\n",
       "      <td>25.0</td>\n",
       "      <td>20.0</td>\n",
       "      <td>0</td>\n",
       "      <td>1</td>\n",
       "      <td>4</td>\n",
       "      <td>1</td>\n",
       "    </tr>\n",
       "    <tr>\n",
       "      <th>2</th>\n",
       "      <td>2</td>\n",
       "      <td>0</td>\n",
       "      <td>0</td>\n",
       "      <td>5376</td>\n",
       "      <td>1991.0</td>\n",
       "      <td>NaN</td>\n",
       "      <td>25.0</td>\n",
       "      <td>20.0</td>\n",
       "      <td>0</td>\n",
       "      <td>1</td>\n",
       "      <td>4</td>\n",
       "      <td>1</td>\n",
       "    </tr>\n",
       "    <tr>\n",
       "      <th>3</th>\n",
       "      <td>3</td>\n",
       "      <td>0</td>\n",
       "      <td>0</td>\n",
       "      <td>23685</td>\n",
       "      <td>2002.0</td>\n",
       "      <td>NaN</td>\n",
       "      <td>25.0</td>\n",
       "      <td>20.0</td>\n",
       "      <td>0</td>\n",
       "      <td>1</td>\n",
       "      <td>4</td>\n",
       "      <td>1</td>\n",
       "    </tr>\n",
       "    <tr>\n",
       "      <th>4</th>\n",
       "      <td>4</td>\n",
       "      <td>0</td>\n",
       "      <td>0</td>\n",
       "      <td>116607</td>\n",
       "      <td>1975.0</td>\n",
       "      <td>NaN</td>\n",
       "      <td>25.0</td>\n",
       "      <td>20.0</td>\n",
       "      <td>0</td>\n",
       "      <td>1</td>\n",
       "      <td>4</td>\n",
       "      <td>1</td>\n",
       "    </tr>\n",
       "  </tbody>\n",
       "</table>\n",
       "</div>"
      ],
      "text/plain": [
       "   building_id  meter  primary_use  square_feet  year_built  floor_count  \\\n",
       "0            0      0            0         7432      2008.0          NaN   \n",
       "1            1      0            0         2720      2004.0          NaN   \n",
       "2            2      0            0         5376      1991.0          NaN   \n",
       "3            3      0            0        23685      2002.0          NaN   \n",
       "4            4      0            0       116607      1975.0          NaN   \n",
       "\n",
       "   air_temperature  dew_temperature  hour  day  weekend  month  \n",
       "0             25.0             20.0     0    1        4      1  \n",
       "1             25.0             20.0     0    1        4      1  \n",
       "2             25.0             20.0     0    1        4      1  \n",
       "3             25.0             20.0     0    1        4      1  \n",
       "4             25.0             20.0     0    1        4      1  "
      ]
     },
     "execution_count": 36,
     "metadata": {},
     "output_type": "execute_result"
    }
   ],
   "source": [
    "target = np.log1p(train['meter_reading'])\n",
    "train = train.drop(['meter_reading'], axis=1)\n",
    "\n",
    "print(train.shape)\n",
    "train.head()"
   ]
  },
  {
   "cell_type": "code",
   "execution_count": 37,
   "id": "thick-spencer",
   "metadata": {
    "execution": {
     "iopub.execute_input": "2021-06-10T03:13:36.267033Z",
     "iopub.status.busy": "2021-06-10T03:13:36.266425Z",
     "iopub.status.idle": "2021-06-10T03:13:38.987899Z",
     "shell.execute_reply": "2021-06-10T03:13:38.987357Z",
     "shell.execute_reply.started": "2021-06-10T01:28:41.855859Z"
    },
    "papermill": {
     "duration": 2.775965,
     "end_time": "2021-06-10T03:13:38.988066",
     "exception": false,
     "start_time": "2021-06-10T03:13:36.212101",
     "status": "completed"
    },
    "tags": []
   },
   "outputs": [],
   "source": [
    "train = train.reset_index(drop=True)\n",
    "test = test.reset_index(drop=True)"
   ]
  },
  {
   "cell_type": "code",
   "execution_count": 38,
   "id": "lyric-enough",
   "metadata": {
    "execution": {
     "iopub.execute_input": "2021-06-10T03:13:39.240913Z",
     "iopub.status.busy": "2021-06-10T03:13:39.238834Z",
     "iopub.status.idle": "2021-06-10T03:13:39.243954Z",
     "shell.execute_reply": "2021-06-10T03:13:39.244477Z",
     "shell.execute_reply.started": "2021-06-10T01:28:44.362785Z"
    },
    "papermill": {
     "duration": 0.204154,
     "end_time": "2021-06-10T03:13:39.244729",
     "exception": false,
     "start_time": "2021-06-10T03:13:39.040575",
     "status": "completed"
    },
    "tags": []
   },
   "outputs": [
    {
     "data": {
      "text/plain": [
       "140"
      ]
     },
     "execution_count": 38,
     "metadata": {},
     "output_type": "execute_result"
    }
   ],
   "source": [
    "del le\n",
    "gc.collect()"
   ]
  },
  {
   "cell_type": "code",
   "execution_count": 39,
   "id": "defined-advantage",
   "metadata": {
    "execution": {
     "iopub.execute_input": "2021-06-10T03:13:39.363594Z",
     "iopub.status.busy": "2021-06-10T03:13:39.362947Z",
     "iopub.status.idle": "2021-06-10T03:13:46.930201Z",
     "shell.execute_reply": "2021-06-10T03:13:46.930809Z",
     "shell.execute_reply.started": "2021-06-10T01:28:44.595899Z"
    },
    "papermill": {
     "duration": 7.631478,
     "end_time": "2021-06-10T03:13:46.931042",
     "exception": false,
     "start_time": "2021-06-10T03:13:39.299564",
     "status": "completed"
    },
    "tags": []
   },
   "outputs": [
    {
     "name": "stdout",
     "output_type": "stream",
     "text": [
      "Memory usage of dataframe is 674.79 MB\n",
      "Memory usage after optimization is: 539.83 MB\n",
      "Decreased by 20.0%\n",
      "Memory usage of dataframe is 3181.27 MB\n",
      "Memory usage after optimization is: 1471.34 MB\n",
      "Decreased by 53.7%\n"
     ]
    }
   ],
   "source": [
    "train = reduce_mem_usage(train)\n",
    "test = reduce_mem_usage(test)"
   ]
  },
  {
   "cell_type": "code",
   "execution_count": 40,
   "id": "varying-committee",
   "metadata": {
    "execution": {
     "iopub.execute_input": "2021-06-10T03:13:47.040622Z",
     "iopub.status.busy": "2021-06-10T03:13:47.039926Z",
     "iopub.status.idle": "2021-06-10T03:13:47.043427Z",
     "shell.execute_reply": "2021-06-10T03:13:47.044074Z",
     "shell.execute_reply.started": "2021-06-10T01:28:50.822136Z"
    },
    "papermill": {
     "duration": 0.062804,
     "end_time": "2021-06-10T03:13:47.044293",
     "exception": false,
     "start_time": "2021-06-10T03:13:46.981489",
     "status": "completed"
    },
    "tags": []
   },
   "outputs": [
    {
     "name": "stdout",
     "output_type": "stream",
     "text": [
      "566050960\n",
      "1542811360\n"
     ]
    }
   ],
   "source": [
    "print(sys.getsizeof(train))\n",
    "print(sys.getsizeof(test))"
   ]
  },
  {
   "cell_type": "markdown",
   "id": "loose-division",
   "metadata": {
    "papermill": {
     "duration": 0.049873,
     "end_time": "2021-06-10T03:13:47.147782",
     "exception": false,
     "start_time": "2021-06-10T03:13:47.097909",
     "status": "completed"
    },
    "tags": []
   },
   "source": [
    "# Modeling"
   ]
  },
  {
   "cell_type": "code",
   "execution_count": 41,
   "id": "progressive-article",
   "metadata": {
    "execution": {
     "iopub.execute_input": "2021-06-10T03:13:47.251388Z",
     "iopub.status.busy": "2021-06-10T03:13:47.250823Z",
     "iopub.status.idle": "2021-06-10T03:13:47.253186Z",
     "shell.execute_reply": "2021-06-10T03:13:47.253546Z",
     "shell.execute_reply.started": "2021-06-10T01:28:50.83296Z"
    },
    "papermill": {
     "duration": 0.056562,
     "end_time": "2021-06-10T03:13:47.253723",
     "exception": false,
     "start_time": "2021-06-10T03:13:47.197161",
     "status": "completed"
    },
    "tags": []
   },
   "outputs": [
    {
     "data": {
      "text/plain": [
       "\"\\nX_tr, X_val, y_tr, y_val = train_test_split(train, target, test_size=0.2, random_state=666)\\n\\ndef create_model(trial):\\n    num_leaves = trial.suggest_int('num_leaves', 2, 30)\\n    n_estimators = trial.suggest_int('n_estimators', 50, 300)\\n    learning_rate = trial.suggest_uniform('learning_rate', 0.0001, 0.99)\\n    max_depth = trial.suggest_int('max_depth', 2, 10)\\n    min_child_samples = trial.suggest_int('min_child_samples', 100, 1200)\\n    min_data_in_leaf = trial.suggest_int('min_data_in_leaf', 5, 90)\\n    bagging_freq = trial.suggest_int('bagging_freq', 1, 7)\\n    bagging_fraction = trial.suggest_uniform('bagging_fraction', 0.0001, 1.0)\\n    feature_fraction = trial.suggest_uniform('feature_fraction', 0.0001, 1.0)\\n    subsample = trial.suggest_uniform('subsample', 0.1, 1.0)\\n    colsample_bytree = trial.suggest_uniform('colsample_bytree', 0.1, 1.0)\\n    \\n    model = lgb.LGBMRegressor(\\n        num_leaves=num_leaves,\\n        n_estimators=n_estimators,\\n        learning_rate=learning_rate,\\n        max_depth=max_depth, \\n        min_child_samples=min_child_samples, \\n        min_data_in_leaf=min_data_in_leaf,\\n        bagging_freq=bagging_freq,\\n        bagging_fraction=bagging_fraction,\\n        feature_fraction=feature_fraction,\\n        subsample=subsample,\\n        colsample_bytree=colsample_bytree,\\n        metric='rsme',\\n        random_state=666)\\n    return model\\n\\ndef objective(trial):\\n    model = create_model(trial)\\n    model.fit(X_tr, y_tr)\\n    y_pred = model.predict(X_val)\\n    rsme = np.sqrt(mean_squared_error(y_pred, y_val))\\n    return rsme\\n\\nstudy = optuna.create_study(direction='minimize')\\nstudy.optimize(objective, n_trials=40)\\nparams = study.best_params\\nprint(params)\\n\""
      ]
     },
     "execution_count": 41,
     "metadata": {},
     "output_type": "execute_result"
    }
   ],
   "source": [
    "'''\n",
    "X_tr, X_val, y_tr, y_val = train_test_split(train, target, test_size=0.2, random_state=666)\n",
    "\n",
    "def create_model(trial):\n",
    "    num_leaves = trial.suggest_int('num_leaves', 2, 30)\n",
    "    n_estimators = trial.suggest_int('n_estimators', 50, 300)\n",
    "    learning_rate = trial.suggest_uniform('learning_rate', 0.0001, 0.99)\n",
    "    max_depth = trial.suggest_int('max_depth', 2, 10)\n",
    "    min_child_samples = trial.suggest_int('min_child_samples', 100, 1200)\n",
    "    min_data_in_leaf = trial.suggest_int('min_data_in_leaf', 5, 90)\n",
    "    bagging_freq = trial.suggest_int('bagging_freq', 1, 7)\n",
    "    bagging_fraction = trial.suggest_uniform('bagging_fraction', 0.0001, 1.0)\n",
    "    feature_fraction = trial.suggest_uniform('feature_fraction', 0.0001, 1.0)\n",
    "    subsample = trial.suggest_uniform('subsample', 0.1, 1.0)\n",
    "    colsample_bytree = trial.suggest_uniform('colsample_bytree', 0.1, 1.0)\n",
    "    \n",
    "    model = lgb.LGBMRegressor(\n",
    "        num_leaves=num_leaves,\n",
    "        n_estimators=n_estimators,\n",
    "        learning_rate=learning_rate,\n",
    "        max_depth=max_depth, \n",
    "        min_child_samples=min_child_samples, \n",
    "        min_data_in_leaf=min_data_in_leaf,\n",
    "        bagging_freq=bagging_freq,\n",
    "        bagging_fraction=bagging_fraction,\n",
    "        feature_fraction=feature_fraction,\n",
    "        subsample=subsample,\n",
    "        colsample_bytree=colsample_bytree,\n",
    "        metric='rsme',\n",
    "        random_state=666)\n",
    "    return model\n",
    "\n",
    "def objective(trial):\n",
    "    model = create_model(trial)\n",
    "    model.fit(X_tr, y_tr)\n",
    "    y_pred = model.predict(X_val)\n",
    "    rsme = np.sqrt(mean_squared_error(y_pred, y_val))\n",
    "    return rsme\n",
    "\n",
    "study = optuna.create_study(direction='minimize')\n",
    "study.optimize(objective, n_trials=40)\n",
    "params = study.best_params\n",
    "print(params)\n",
    "'''"
   ]
  },
  {
   "cell_type": "code",
   "execution_count": 42,
   "id": "union-growth",
   "metadata": {
    "execution": {
     "iopub.execute_input": "2021-06-10T03:13:47.357305Z",
     "iopub.status.busy": "2021-06-10T03:13:47.356476Z",
     "iopub.status.idle": "2021-06-10T03:13:47.360235Z",
     "shell.execute_reply": "2021-06-10T03:13:47.359690Z",
     "shell.execute_reply.started": "2021-06-10T01:19:44.688684Z"
    },
    "papermill": {
     "duration": 0.057333,
     "end_time": "2021-06-10T03:13:47.360375",
     "exception": false,
     "start_time": "2021-06-10T03:13:47.303042",
     "status": "completed"
    },
    "tags": []
   },
   "outputs": [
    {
     "data": {
      "text/plain": [
       "\"\\n# rsme: 0.8751749628536593\\n\\nparams = {'num_leaves': 29,\\n          'n_estimators': 259,\\n          'learning_rate': 0.6767825229671494,\\n          'max_depth': 7,\\n          'min_child_samples': 991,\\n          'min_data_in_leaf': 51,\\n          'bagging_freq': 4,\\n          'bagging_fraction': 0.7298919866619639,\\n          'feature_fraction': 0.875247529005268,\\n          'subsample': 0.315064279924561,\\n          'colsample_bytree': 0.67995244232174,\\n          'random_state': 666}\\n\""
      ]
     },
     "execution_count": 42,
     "metadata": {},
     "output_type": "execute_result"
    }
   ],
   "source": [
    "'''\n",
    "# rsme: 0.8751749628536593\n",
    "\n",
    "params = {'num_leaves': 29,\n",
    "          'n_estimators': 259,\n",
    "          'learning_rate': 0.6767825229671494,\n",
    "          'max_depth': 7,\n",
    "          'min_child_samples': 991,\n",
    "          'min_data_in_leaf': 51,\n",
    "          'bagging_freq': 4,\n",
    "          'bagging_fraction': 0.7298919866619639,\n",
    "          'feature_fraction': 0.875247529005268,\n",
    "          'subsample': 0.315064279924561,\n",
    "          'colsample_bytree': 0.67995244232174,\n",
    "          'random_state': 666}\n",
    "'''"
   ]
  },
  {
   "cell_type": "code",
   "execution_count": 43,
   "id": "cordless-trader",
   "metadata": {
    "execution": {
     "iopub.execute_input": "2021-06-10T03:13:47.466160Z",
     "iopub.status.busy": "2021-06-10T03:13:47.465566Z",
     "iopub.status.idle": "2021-06-10T03:13:47.467357Z",
     "shell.execute_reply": "2021-06-10T03:13:47.467758Z"
    },
    "papermill": {
     "duration": 0.05741,
     "end_time": "2021-06-10T03:13:47.467927",
     "exception": false,
     "start_time": "2021-06-10T03:13:47.410517",
     "status": "completed"
    },
    "tags": []
   },
   "outputs": [],
   "source": [
    "# rsme: 0.9077297841386155\n",
    "\n",
    "params = {'num_leaves': 15,\n",
    "          'n_estimators': 300,\n",
    "          'learning_rate': 0.9849803475916162,\n",
    "          'max_depth': 8,\n",
    "          'min_child_samples': 852,\n",
    "          'min_data_in_leaf': 57,\n",
    "          'bagging_freq': 6,\n",
    "          'bagging_fraction': 0.45951000229116346,\n",
    "          'feature_fraction': 0.9981667070528089,\n",
    "          'subsample': 0.1064524138387621,\n",
    "          'colsample_bytree': 0.9853399903480412,\n",
    "          'random_state': 666}"
   ]
  },
  {
   "cell_type": "code",
   "execution_count": 44,
   "id": "pacific-georgia",
   "metadata": {
    "execution": {
     "iopub.execute_input": "2021-06-10T03:13:47.571358Z",
     "iopub.status.busy": "2021-06-10T03:13:47.570738Z",
     "iopub.status.idle": "2021-06-10T03:15:59.808239Z",
     "shell.execute_reply": "2021-06-10T03:15:59.808688Z",
     "shell.execute_reply.started": "2021-06-10T01:19:44.704461Z"
    },
    "papermill": {
     "duration": 132.2908,
     "end_time": "2021-06-10T03:15:59.808860",
     "exception": false,
     "start_time": "2021-06-10T03:13:47.518060",
     "status": "completed"
    },
    "tags": []
   },
   "outputs": [
    {
     "name": "stdout",
     "output_type": "stream",
     "text": [
      "[LightGBM] [Warning] bagging_fraction is set=0.45951000229116346, subsample=0.1064524138387621 will be ignored. Current value: bagging_fraction=0.45951000229116346\n",
      "[LightGBM] [Warning] feature_fraction is set=0.9981667070528089, colsample_bytree=0.9853399903480412 will be ignored. Current value: feature_fraction=0.9981667070528089\n",
      "[LightGBM] [Warning] bagging_freq is set=6, subsample_freq=0 will be ignored. Current value: bagging_freq=6\n",
      "[LightGBM] [Warning] min_data_in_leaf is set=57, min_child_samples=852 will be ignored. Current value: min_data_in_leaf=57\n"
     ]
    },
    {
     "data": {
      "text/plain": [
       "LGBMRegressor(bagging_fraction=0.45951000229116346, bagging_freq=6,\n",
       "              colsample_bytree=0.9853399903480412,\n",
       "              feature_fraction=0.9981667070528089,\n",
       "              learning_rate=0.9849803475916162, max_depth=8,\n",
       "              min_child_samples=852, min_data_in_leaf=57, n_estimators=300,\n",
       "              num_leaves=15, random_state=666, subsample=0.1064524138387621)"
      ]
     },
     "execution_count": 44,
     "metadata": {},
     "output_type": "execute_result"
    }
   ],
   "source": [
    "cls = lgb.LGBMRegressor(**params)\n",
    "cls.fit(train, target)"
   ]
  },
  {
   "cell_type": "code",
   "execution_count": 45,
   "id": "charitable-testament",
   "metadata": {
    "execution": {
     "iopub.execute_input": "2021-06-10T03:16:00.063345Z",
     "iopub.status.busy": "2021-06-10T03:16:00.062313Z",
     "iopub.status.idle": "2021-06-10T03:16:00.067693Z",
     "shell.execute_reply": "2021-06-10T03:16:00.067073Z",
     "shell.execute_reply.started": "2021-06-10T01:21:22.649872Z"
    },
    "papermill": {
     "duration": 0.207722,
     "end_time": "2021-06-10T03:16:00.067860",
     "exception": false,
     "start_time": "2021-06-10T03:15:59.860138",
     "status": "completed"
    },
    "tags": []
   },
   "outputs": [
    {
     "data": {
      "text/plain": [
       "79"
      ]
     },
     "execution_count": 45,
     "metadata": {},
     "output_type": "execute_result"
    }
   ],
   "source": [
    "del train, target, params\n",
    "gc.collect()"
   ]
  },
  {
   "cell_type": "code",
   "execution_count": 46,
   "id": "handed-recruitment",
   "metadata": {
    "execution": {
     "iopub.execute_input": "2021-06-10T03:16:00.206993Z",
     "iopub.status.busy": "2021-06-10T03:16:00.200346Z",
     "iopub.status.idle": "2021-06-10T03:16:00.433691Z",
     "shell.execute_reply": "2021-06-10T03:16:00.433187Z",
     "shell.execute_reply.started": "2021-06-10T01:21:22.800103Z"
    },
    "papermill": {
     "duration": 0.30768,
     "end_time": "2021-06-10T03:16:00.433838",
     "exception": false,
     "start_time": "2021-06-10T03:16:00.126158",
     "status": "completed"
    },
    "tags": []
   },
   "outputs": [
    {
     "data": {
      "image/png": "[encoded data removed]",
      "text/plain": [
       "<Figure size 432x288 with 1 Axes>"
      ]
     },
     "metadata": {},
     "output_type": "display_data"
    }
   ],
   "source": [
    "lgb.plot_importance(cls)\n",
    "plt.show()"
   ]
  },
  {
   "cell_type": "markdown",
   "id": "prepared-reception",
   "metadata": {
    "papermill": {
     "duration": 0.054512,
     "end_time": "2021-06-10T03:16:00.540605",
     "exception": false,
     "start_time": "2021-06-10T03:16:00.486093",
     "status": "completed"
    },
    "tags": []
   },
   "source": [
    "# Submit"
   ]
  },
  {
   "cell_type": "code",
   "execution_count": 47,
   "id": "domestic-celebration",
   "metadata": {
    "execution": {
     "iopub.execute_input": "2021-06-10T03:16:00.652846Z",
     "iopub.status.busy": "2021-06-10T03:16:00.651434Z",
     "iopub.status.idle": "2021-06-10T03:16:03.027759Z",
     "shell.execute_reply": "2021-06-10T03:16:03.027294Z",
     "shell.execute_reply.started": "2021-06-10T01:21:23.053973Z"
    },
    "papermill": {
     "duration": 2.435095,
     "end_time": "2021-06-10T03:16:03.027900",
     "exception": false,
     "start_time": "2021-06-10T03:16:00.592805",
     "status": "completed"
    },
    "tags": []
   },
   "outputs": [
    {
     "data": {
      "text/plain": [
       "4591"
      ]
     },
     "execution_count": 47,
     "metadata": {},
     "output_type": "execute_result"
    }
   ],
   "source": [
    "row_id = test['row_id']\n",
    "\n",
    "test = test.drop(['row_id'], axis = 1)\n",
    "gc.collect()"
   ]
  },
  {
   "cell_type": "code",
   "execution_count": 48,
   "id": "false-fighter",
   "metadata": {
    "execution": {
     "iopub.execute_input": "2021-06-10T03:16:03.141975Z",
     "iopub.status.busy": "2021-06-10T03:16:03.141380Z",
     "iopub.status.idle": "2021-06-10T03:16:18.889240Z",
     "shell.execute_reply": "2021-06-10T03:16:18.888723Z",
     "shell.execute_reply.started": "2021-06-10T01:21:24.910629Z"
    },
    "papermill": {
     "duration": 15.807688,
     "end_time": "2021-06-10T03:16:18.889380",
     "exception": false,
     "start_time": "2021-06-10T03:16:03.081692",
     "status": "completed"
    },
    "tags": []
   },
   "outputs": [],
   "source": [
    "test['hour'] = test['timestamp'].dt.hour\n",
    "test['day'] = test['timestamp'].dt.day\n",
    "test['weekend'] = test['timestamp'].dt.weekday\n",
    "test['month'] = test['timestamp'].dt.month"
   ]
  },
  {
   "cell_type": "code",
   "execution_count": 49,
   "id": "thrown-import",
   "metadata": {
    "execution": {
     "iopub.execute_input": "2021-06-10T03:16:19.002653Z",
     "iopub.status.busy": "2021-06-10T03:16:19.001113Z",
     "iopub.status.idle": "2021-06-10T03:16:22.188862Z",
     "shell.execute_reply": "2021-06-10T03:16:22.188402Z",
     "shell.execute_reply.started": "2021-06-10T01:21:39.779341Z"
    },
    "papermill": {
     "duration": 3.245598,
     "end_time": "2021-06-10T03:16:22.189003",
     "exception": false,
     "start_time": "2021-06-10T03:16:18.943405",
     "status": "completed"
    },
    "tags": []
   },
   "outputs": [
    {
     "data": {
      "text/plain": [
       "55"
      ]
     },
     "execution_count": 49,
     "metadata": {},
     "output_type": "execute_result"
    }
   ],
   "source": [
    "test = test.drop(['timestamp', 'site_id'], axis=1)\n",
    "gc.collect()"
   ]
  },
  {
   "cell_type": "code",
   "execution_count": 50,
   "id": "visible-bermuda",
   "metadata": {
    "execution": {
     "iopub.execute_input": "2021-06-10T03:16:22.298703Z",
     "iopub.status.busy": "2021-06-10T03:16:22.298119Z",
     "iopub.status.idle": "2021-06-10T03:16:29.166595Z",
     "shell.execute_reply": "2021-06-10T03:16:29.166078Z",
     "shell.execute_reply.started": "2021-06-10T01:21:41.979914Z"
    },
    "papermill": {
     "duration": 6.924675,
     "end_time": "2021-06-10T03:16:29.166756",
     "exception": false,
     "start_time": "2021-06-10T03:16:22.242081",
     "status": "completed"
    },
    "tags": []
   },
   "outputs": [
    {
     "name": "stdout",
     "output_type": "stream",
     "text": [
      "Memory usage of dataframe is 2226.89 MB\n",
      "Memory usage after optimization is: 1113.45 MB\n",
      "Decreased by 50.0%\n"
     ]
    }
   ],
   "source": [
    "row_id = row_id.reset_index(drop=True)\n",
    "test = test.reset_index(drop=True)\n",
    "\n",
    "test = reduce_mem_usage(test)"
   ]
  },
  {
   "cell_type": "code",
   "execution_count": 51,
   "id": "closing-thinking",
   "metadata": {
    "_kg_hide-input": true,
    "_kg_hide-output": true,
    "execution": {
     "iopub.execute_input": "2021-06-10T03:16:29.301439Z",
     "iopub.status.busy": "2021-06-10T03:16:29.300659Z",
     "iopub.status.idle": "2021-06-10T03:16:29.303907Z",
     "shell.execute_reply": "2021-06-10T03:16:29.304353Z",
     "shell.execute_reply.started": "2021-06-10T01:21:47.449128Z"
    },
    "papermill": {
     "duration": 0.085412,
     "end_time": "2021-06-10T03:16:29.304523",
     "exception": false,
     "start_time": "2021-06-10T03:16:29.219111",
     "status": "completed"
    },
    "tags": []
   },
   "outputs": [
    {
     "name": "stdout",
     "output_type": "stream",
     "text": [
      "     name        size\n",
      "0    test  1167532960\n",
      "1  row_id   166790560\n",
      "2     _32        1919\n",
      "3    _i10        1787\n",
      "4    _i41        1745\n",
      "5     _41        1739\n",
      "6     _23        1591\n",
      "7     _18        1235\n",
      "8     _19        1228\n",
      "9     _oh        1192\n"
     ]
    }
   ],
   "source": [
    "print(pd.DataFrame([[i for i in dir()], [sys.getsizeof(eval(i)) for i in dir()]],\n",
    "                   index=['name','size']).T.sort_values('size', ascending=False).reset_index(drop=True).head(10))"
   ]
  },
  {
   "cell_type": "code",
   "execution_count": 52,
   "id": "unlikely-source",
   "metadata": {
    "execution": {
     "iopub.execute_input": "2021-06-10T03:16:29.417753Z",
     "iopub.status.busy": "2021-06-10T03:16:29.416271Z",
     "iopub.status.idle": "2021-06-10T03:19:08.027317Z",
     "shell.execute_reply": "2021-06-10T03:19:08.027818Z"
    },
    "papermill": {
     "duration": 158.669724,
     "end_time": "2021-06-10T03:19:08.028012",
     "exception": false,
     "start_time": "2021-06-10T03:16:29.358288",
     "status": "completed"
    },
    "tags": []
   },
   "outputs": [
    {
     "data": {
      "text/html": [
       "<div>\n",
       "<style scoped>\n",
       "    .dataframe tbody tr th:only-of-type {\n",
       "        vertical-align: middle;\n",
       "    }\n",
       "\n",
       "    .dataframe tbody tr th {\n",
       "        vertical-align: top;\n",
       "    }\n",
       "\n",
       "    .dataframe thead th {\n",
       "        text-align: right;\n",
       "    }\n",
       "</style>\n",
       "<table border=\"1\" class=\"dataframe\">\n",
       "  <thead>\n",
       "    <tr style=\"text-align: right;\">\n",
       "      <th></th>\n",
       "      <th>meter_reading</th>\n",
       "    </tr>\n",
       "    <tr>\n",
       "      <th>row_id</th>\n",
       "      <th></th>\n",
       "    </tr>\n",
       "  </thead>\n",
       "  <tbody>\n",
       "    <tr>\n",
       "      <th>0</th>\n",
       "      <td>0.256276</td>\n",
       "    </tr>\n",
       "    <tr>\n",
       "      <th>1</th>\n",
       "      <td>0.469759</td>\n",
       "    </tr>\n",
       "    <tr>\n",
       "      <th>2</th>\n",
       "      <td>-0.137010</td>\n",
       "    </tr>\n",
       "    <tr>\n",
       "      <th>3</th>\n",
       "      <td>0.078759</td>\n",
       "    </tr>\n",
       "    <tr>\n",
       "      <th>4</th>\n",
       "      <td>-0.014703</td>\n",
       "    </tr>\n",
       "    <tr>\n",
       "      <th>5</th>\n",
       "      <td>-0.294153</td>\n",
       "    </tr>\n",
       "    <tr>\n",
       "      <th>6</th>\n",
       "      <td>-0.332167</td>\n",
       "    </tr>\n",
       "    <tr>\n",
       "      <th>7</th>\n",
       "      <td>-0.118127</td>\n",
       "    </tr>\n",
       "    <tr>\n",
       "      <th>8</th>\n",
       "      <td>154.501898</td>\n",
       "    </tr>\n",
       "    <tr>\n",
       "      <th>9</th>\n",
       "      <td>-0.087379</td>\n",
       "    </tr>\n",
       "  </tbody>\n",
       "</table>\n",
       "</div>"
      ],
      "text/plain": [
       "        meter_reading\n",
       "row_id               \n",
       "0            0.256276\n",
       "1            0.469759\n",
       "2           -0.137010\n",
       "3            0.078759\n",
       "4           -0.014703\n",
       "5           -0.294153\n",
       "6           -0.332167\n",
       "7           -0.118127\n",
       "8          154.501898\n",
       "9           -0.087379"
      ]
     },
     "execution_count": 52,
     "metadata": {},
     "output_type": "execute_result"
    }
   ],
   "source": [
    "target = np.expm1(cls.predict(test))\n",
    "\n",
    "submission = pd.DataFrame(target, index=row_id, columns=['meter_reading'])\n",
    "submission.head(10)"
   ]
  },
  {
   "cell_type": "code",
   "execution_count": 53,
   "id": "continental-average",
   "metadata": {
    "execution": {
     "iopub.execute_input": "2021-06-10T03:19:08.297310Z",
     "iopub.status.busy": "2021-06-10T03:19:08.296463Z",
     "iopub.status.idle": "2021-06-10T03:19:08.754926Z",
     "shell.execute_reply": "2021-06-10T03:19:08.755347Z"
    },
    "papermill": {
     "duration": 0.67023,
     "end_time": "2021-06-10T03:19:08.755523",
     "exception": false,
     "start_time": "2021-06-10T03:19:08.085293",
     "status": "completed"
    },
    "tags": []
   },
   "outputs": [
    {
     "name": "stdout",
     "output_type": "stream",
     "text": [
      "Memory usage of dataframe is 636.25 MB\n",
      "Memory usage after optimization is: 477.19 MB\n",
      "Decreased by 25.0%\n"
     ]
    }
   ],
   "source": [
    "del row_id\n",
    "gc.collect()\n",
    "\n",
    "submission = reduce_mem_usage(submission)"
   ]
  },
  {
   "cell_type": "code",
   "execution_count": 54,
   "id": "amended-tiffany",
   "metadata": {
    "execution": {
     "iopub.execute_input": "2021-06-10T03:19:08.883159Z",
     "iopub.status.busy": "2021-06-10T03:19:08.882474Z",
     "iopub.status.idle": "2021-06-10T03:20:29.348725Z",
     "shell.execute_reply": "2021-06-10T03:20:29.348066Z"
    },
    "papermill": {
     "duration": 80.529631,
     "end_time": "2021-06-10T03:20:29.348876",
     "exception": false,
     "start_time": "2021-06-10T03:19:08.819245",
     "status": "completed"
    },
    "tags": []
   },
   "outputs": [],
   "source": [
    "submission.to_csv('ASHRAE_submit.csv')"
   ]
  }
 ],
 "metadata": {
  "kernelspec": {
   "display_name": "Python 3",
   "language": "python",
   "name": "python3"
  },
  "language_info": {
   "codemirror_mode": {
    "name": "ipython",
    "version": 3
   },
   "file_extension": ".py",
   "mimetype": "text/x-python",
   "name": "python",
   "nbconvert_exporter": "python",
   "pygments_lexer": "ipython3",
   "version": "3.7.10"
  },
  "papermill": {
   "default_parameters": {},
   "duration": 583.13435,
   "end_time": "2021-06-10T03:20:31.211452",
   "environment_variables": {},
   "exception": null,
   "input_path": "__notebook__.ipynb",
   "output_path": "__notebook__.ipynb",
   "parameters": {},
   "start_time": "2021-06-10T03:10:48.077102",
   "version": "2.3.3"
  }
 },
 "nbformat": 4,
 "nbformat_minor": 5
}
