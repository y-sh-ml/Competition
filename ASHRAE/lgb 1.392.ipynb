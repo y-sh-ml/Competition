{
 "cells": [
  {
   "cell_type": "markdown",
   "id": "incorporated-slovakia",
   "metadata": {
    "papermill": {
     "duration": 0.050711,
     "end_time": "2021-06-09T06:53:39.700469",
     "exception": false,
     "start_time": "2021-06-09T06:53:39.649758",
     "status": "completed"
    },
    "tags": []
   },
   "source": [
    "# Overview"
   ]
  },
  {
   "cell_type": "markdown",
   "id": "developing-questionnaire",
   "metadata": {
    "papermill": {
     "duration": 0.049618,
     "end_time": "2021-06-09T06:53:39.799202",
     "exception": false,
     "start_time": "2021-06-09T06:53:39.749584",
     "status": "completed"
    },
    "tags": []
   },
   "source": [
    "1448棟のビルの4種類のメーター（電力、冷水、スチーム、温水）の値を予測するコンペである。\n",
    "\n",
    "背景としては、エネルギー使用量（4種類のメーターの値）が正確に予測できるようになることで<br>\n",
    "省エネ投資を活発化させて、環境問題に貢献したいという狙いがある。\n",
    "\n",
    "ビルの所有者は、ビルのエネルギー効率を改善するような投資を行うことで<br>\n",
    "エネルギー効率が改善された分、コストを抑えることができる。"
   ]
  },
  {
   "cell_type": "markdown",
   "id": "sporting-gospel",
   "metadata": {
    "papermill": {
     "duration": 0.049055,
     "end_time": "2021-06-09T06:53:39.897416",
     "exception": false,
     "start_time": "2021-06-09T06:53:39.848361",
     "status": "completed"
    },
    "tags": []
   },
   "source": [
    "# Module"
   ]
  },
  {
   "cell_type": "code",
   "execution_count": 1,
   "id": "essential-triple",
   "metadata": {
    "execution": {
     "iopub.execute_input": "2021-06-09T06:53:40.000761Z",
     "iopub.status.busy": "2021-06-09T06:53:39.999536Z",
     "iopub.status.idle": "2021-06-09T06:53:42.886005Z",
     "shell.execute_reply": "2021-06-09T06:53:42.884773Z",
     "shell.execute_reply.started": "2021-06-09T06:40:55.993342Z"
    },
    "papermill": {
     "duration": 2.939679,
     "end_time": "2021-06-09T06:53:42.886222",
     "exception": false,
     "start_time": "2021-06-09T06:53:39.946543",
     "status": "completed"
    },
    "tags": []
   },
   "outputs": [
    {
     "data": {
      "text/html": [
       "<style type='text/css'>\n",
       ".datatable table.frame { margin-bottom: 0; }\n",
       ".datatable table.frame thead { border-bottom: none; }\n",
       ".datatable table.frame tr.coltypes td {  color: #FFFFFF;  line-height: 6px;  padding: 0 0.5em;}\n",
       ".datatable .bool    { background: #DDDD99; }\n",
       ".datatable .object  { background: #565656; }\n",
       ".datatable .int     { background: #5D9E5D; }\n",
       ".datatable .float   { background: #4040CC; }\n",
       ".datatable .str     { background: #CC4040; }\n",
       ".datatable .row_index {  background: var(--jp-border-color3);  border-right: 1px solid var(--jp-border-color0);  color: var(--jp-ui-font-color3);  font-size: 9px;}\n",
       ".datatable .frame tr.coltypes .row_index {  background: var(--jp-border-color0);}\n",
       ".datatable th:nth-child(2) { padding-left: 12px; }\n",
       ".datatable .hellipsis {  color: var(--jp-cell-editor-border-color);}\n",
       ".datatable .vellipsis {  background: var(--jp-layout-color0);  color: var(--jp-cell-editor-border-color);}\n",
       ".datatable .na {  color: var(--jp-cell-editor-border-color);  font-size: 80%;}\n",
       ".datatable .footer { font-size: 9px; }\n",
       ".datatable .frame_dimensions {  background: var(--jp-border-color3);  border-top: 1px solid var(--jp-border-color0);  color: var(--jp-ui-font-color3);  display: inline-block;  opacity: 0.6;  padding: 1px 10px 1px 5px;}\n",
       "</style>\n"
      ],
      "text/plain": [
       "<IPython.core.display.HTML object>"
      ]
     },
     "metadata": {},
     "output_type": "display_data"
    }
   ],
   "source": [
    "import gc\n",
    "import sys\n",
    "import optuna\n",
    "import datetime\n",
    "import warnings\n",
    "import matplotlib\n",
    "import numpy as np\n",
    "import pandas as pd\n",
    "import seaborn as sns\n",
    "import lightgbm as lgb\n",
    "import matplotlib.pyplot as plt\n",
    "\n",
    "from sklearn.preprocessing import LabelEncoder\n",
    "from sklearn.model_selection import train_test_split\n",
    "from sklearn.metrics import mean_squared_error\n",
    "from pandas.api.types import is_datetime64_any_dtype as is_datetime\n",
    "from pandas.api.types import is_categorical_dtype"
   ]
  },
  {
   "cell_type": "markdown",
   "id": "competent-choice",
   "metadata": {
    "papermill": {
     "duration": 0.051328,
     "end_time": "2021-06-09T06:53:42.990551",
     "exception": false,
     "start_time": "2021-06-09T06:53:42.939223",
     "status": "completed"
    },
    "tags": []
   },
   "source": [
    "# Datasets"
   ]
  },
  {
   "cell_type": "code",
   "execution_count": 2,
   "id": "noticed-taste",
   "metadata": {
    "execution": {
     "iopub.execute_input": "2021-06-09T06:53:43.096671Z",
     "iopub.status.busy": "2021-06-09T06:53:43.095932Z",
     "iopub.status.idle": "2021-06-09T06:53:57.034535Z",
     "shell.execute_reply": "2021-06-09T06:53:57.033955Z",
     "shell.execute_reply.started": "2021-06-09T06:40:59.019135Z"
    },
    "papermill": {
     "duration": 13.99314,
     "end_time": "2021-06-09T06:53:57.034708",
     "exception": false,
     "start_time": "2021-06-09T06:53:43.041568",
     "status": "completed"
    },
    "tags": []
   },
   "outputs": [
    {
     "name": "stdout",
     "output_type": "stream",
     "text": [
      "(20216100, 4)\n"
     ]
    },
    {
     "data": {
      "text/html": [
       "<div>\n",
       "<style scoped>\n",
       "    .dataframe tbody tr th:only-of-type {\n",
       "        vertical-align: middle;\n",
       "    }\n",
       "\n",
       "    .dataframe tbody tr th {\n",
       "        vertical-align: top;\n",
       "    }\n",
       "\n",
       "    .dataframe thead th {\n",
       "        text-align: right;\n",
       "    }\n",
       "</style>\n",
       "<table border=\"1\" class=\"dataframe\">\n",
       "  <thead>\n",
       "    <tr style=\"text-align: right;\">\n",
       "      <th></th>\n",
       "      <th>building_id</th>\n",
       "      <th>meter</th>\n",
       "      <th>timestamp</th>\n",
       "      <th>meter_reading</th>\n",
       "    </tr>\n",
       "  </thead>\n",
       "  <tbody>\n",
       "    <tr>\n",
       "      <th>0</th>\n",
       "      <td>0</td>\n",
       "      <td>0</td>\n",
       "      <td>2016-01-01 00:00:00</td>\n",
       "      <td>0.0</td>\n",
       "    </tr>\n",
       "    <tr>\n",
       "      <th>1</th>\n",
       "      <td>1</td>\n",
       "      <td>0</td>\n",
       "      <td>2016-01-01 00:00:00</td>\n",
       "      <td>0.0</td>\n",
       "    </tr>\n",
       "    <tr>\n",
       "      <th>2</th>\n",
       "      <td>2</td>\n",
       "      <td>0</td>\n",
       "      <td>2016-01-01 00:00:00</td>\n",
       "      <td>0.0</td>\n",
       "    </tr>\n",
       "    <tr>\n",
       "      <th>3</th>\n",
       "      <td>3</td>\n",
       "      <td>0</td>\n",
       "      <td>2016-01-01 00:00:00</td>\n",
       "      <td>0.0</td>\n",
       "    </tr>\n",
       "    <tr>\n",
       "      <th>4</th>\n",
       "      <td>4</td>\n",
       "      <td>0</td>\n",
       "      <td>2016-01-01 00:00:00</td>\n",
       "      <td>0.0</td>\n",
       "    </tr>\n",
       "  </tbody>\n",
       "</table>\n",
       "</div>"
      ],
      "text/plain": [
       "   building_id  meter            timestamp  meter_reading\n",
       "0            0      0  2016-01-01 00:00:00            0.0\n",
       "1            1      0  2016-01-01 00:00:00            0.0\n",
       "2            2      0  2016-01-01 00:00:00            0.0\n",
       "3            3      0  2016-01-01 00:00:00            0.0\n",
       "4            4      0  2016-01-01 00:00:00            0.0"
      ]
     },
     "execution_count": 2,
     "metadata": {},
     "output_type": "execute_result"
    }
   ],
   "source": [
    "train = pd.read_csv('../input/ashrae-energy-prediction/train.csv')\n",
    "\n",
    "print(train.shape)\n",
    "train.head()"
   ]
  },
  {
   "cell_type": "markdown",
   "id": "quality-motorcycle",
   "metadata": {
    "execution": {
     "iopub.execute_input": "2021-06-04T05:10:36.573413Z",
     "iopub.status.busy": "2021-06-04T05:10:36.573045Z",
     "iopub.status.idle": "2021-06-04T05:10:36.579555Z",
     "shell.execute_reply": "2021-06-04T05:10:36.578197Z",
     "shell.execute_reply.started": "2021-06-04T05:10:36.573384Z"
    },
    "papermill": {
     "duration": 0.057066,
     "end_time": "2021-06-09T06:53:57.143150",
     "exception": false,
     "start_time": "2021-06-09T06:53:57.086084",
     "status": "completed"
    },
    "tags": []
   },
   "source": [
    "1時間ごとのメータ値を保持するテーブル（学習データ）<br>\n",
    "・building_id：ビルのID<br>\n",
    "・meter：0は電力、1は冷水、2はスチーム、3は温水<br>\n",
    "・timestamp：日付と時刻<br>\n",
    "・meter_reading：メーターの使用量（目的変数）<br>"
   ]
  },
  {
   "cell_type": "code",
   "execution_count": 3,
   "id": "fatal-rouge",
   "metadata": {
    "execution": {
     "iopub.execute_input": "2021-06-09T06:53:57.263203Z",
     "iopub.status.busy": "2021-06-09T06:53:57.262308Z",
     "iopub.status.idle": "2021-06-09T06:54:24.452936Z",
     "shell.execute_reply": "2021-06-09T06:54:24.452209Z",
     "shell.execute_reply.started": "2021-06-09T06:41:13.783478Z"
    },
    "papermill": {
     "duration": 27.252628,
     "end_time": "2021-06-09T06:54:24.453083",
     "exception": false,
     "start_time": "2021-06-09T06:53:57.200455",
     "status": "completed"
    },
    "tags": []
   },
   "outputs": [
    {
     "name": "stdout",
     "output_type": "stream",
     "text": [
      "(41697600, 4)\n"
     ]
    },
    {
     "data": {
      "text/html": [
       "<div>\n",
       "<style scoped>\n",
       "    .dataframe tbody tr th:only-of-type {\n",
       "        vertical-align: middle;\n",
       "    }\n",
       "\n",
       "    .dataframe tbody tr th {\n",
       "        vertical-align: top;\n",
       "    }\n",
       "\n",
       "    .dataframe thead th {\n",
       "        text-align: right;\n",
       "    }\n",
       "</style>\n",
       "<table border=\"1\" class=\"dataframe\">\n",
       "  <thead>\n",
       "    <tr style=\"text-align: right;\">\n",
       "      <th></th>\n",
       "      <th>row_id</th>\n",
       "      <th>building_id</th>\n",
       "      <th>meter</th>\n",
       "      <th>timestamp</th>\n",
       "    </tr>\n",
       "  </thead>\n",
       "  <tbody>\n",
       "    <tr>\n",
       "      <th>0</th>\n",
       "      <td>0</td>\n",
       "      <td>0</td>\n",
       "      <td>0</td>\n",
       "      <td>2017-01-01 00:00:00</td>\n",
       "    </tr>\n",
       "    <tr>\n",
       "      <th>1</th>\n",
       "      <td>1</td>\n",
       "      <td>1</td>\n",
       "      <td>0</td>\n",
       "      <td>2017-01-01 00:00:00</td>\n",
       "    </tr>\n",
       "    <tr>\n",
       "      <th>2</th>\n",
       "      <td>2</td>\n",
       "      <td>2</td>\n",
       "      <td>0</td>\n",
       "      <td>2017-01-01 00:00:00</td>\n",
       "    </tr>\n",
       "    <tr>\n",
       "      <th>3</th>\n",
       "      <td>3</td>\n",
       "      <td>3</td>\n",
       "      <td>0</td>\n",
       "      <td>2017-01-01 00:00:00</td>\n",
       "    </tr>\n",
       "    <tr>\n",
       "      <th>4</th>\n",
       "      <td>4</td>\n",
       "      <td>4</td>\n",
       "      <td>0</td>\n",
       "      <td>2017-01-01 00:00:00</td>\n",
       "    </tr>\n",
       "  </tbody>\n",
       "</table>\n",
       "</div>"
      ],
      "text/plain": [
       "   row_id  building_id  meter            timestamp\n",
       "0       0            0      0  2017-01-01 00:00:00\n",
       "1       1            1      0  2017-01-01 00:00:00\n",
       "2       2            2      0  2017-01-01 00:00:00\n",
       "3       3            3      0  2017-01-01 00:00:00\n",
       "4       4            4      0  2017-01-01 00:00:00"
      ]
     },
     "execution_count": 3,
     "metadata": {},
     "output_type": "execute_result"
    }
   ],
   "source": [
    "test = pd.read_csv('../input/ashrae-energy-prediction/test.csv')\n",
    "\n",
    "print(test.shape)\n",
    "test.head()"
   ]
  },
  {
   "cell_type": "markdown",
   "id": "dense-florence",
   "metadata": {
    "papermill": {
     "duration": 0.05483,
     "end_time": "2021-06-09T06:54:24.564173",
     "exception": false,
     "start_time": "2021-06-09T06:54:24.509343",
     "status": "completed"
    },
    "tags": []
   },
   "source": [
    "1時間ごとのメータ値を保持するテーブル（テストデータ）<br>\n",
    "・row_id：行のID<br>\n",
    "・building_id：ビルのID<br>\n",
    "・meter：0は電力、1は冷水、2はスチーム、3は温水<br>\n",
    "・timestamp：日付と時刻<br>"
   ]
  },
  {
   "cell_type": "code",
   "execution_count": 4,
   "id": "ignored-serve",
   "metadata": {
    "execution": {
     "iopub.execute_input": "2021-06-09T06:54:24.673263Z",
     "iopub.status.busy": "2021-06-09T06:54:24.672267Z",
     "iopub.status.idle": "2021-06-09T06:54:24.675697Z",
     "shell.execute_reply": "2021-06-09T06:54:24.675022Z",
     "shell.execute_reply.started": "2021-06-09T06:41:43.087828Z"
    },
    "papermill": {
     "duration": 0.05961,
     "end_time": "2021-06-09T06:54:24.675851",
     "exception": false,
     "start_time": "2021-06-09T06:54:24.616241",
     "status": "completed"
    },
    "tags": []
   },
   "outputs": [],
   "source": [
    "usecols = {'site_id', 'timestamp', 'air_temperature', 'cloud_coverage', 'dew_temperature'}"
   ]
  },
  {
   "cell_type": "code",
   "execution_count": 5,
   "id": "urban-palmer",
   "metadata": {
    "execution": {
     "iopub.execute_input": "2021-06-09T06:54:24.785074Z",
     "iopub.status.busy": "2021-06-09T06:54:24.784324Z",
     "iopub.status.idle": "2021-06-09T06:54:24.982420Z",
     "shell.execute_reply": "2021-06-09T06:54:24.981839Z",
     "shell.execute_reply.started": "2021-06-09T06:41:43.093693Z"
    },
    "papermill": {
     "duration": 0.255126,
     "end_time": "2021-06-09T06:54:24.982572",
     "exception": false,
     "start_time": "2021-06-09T06:54:24.727446",
     "status": "completed"
    },
    "tags": []
   },
   "outputs": [
    {
     "name": "stdout",
     "output_type": "stream",
     "text": [
      "(139773, 5)\n"
     ]
    },
    {
     "data": {
      "text/html": [
       "<div>\n",
       "<style scoped>\n",
       "    .dataframe tbody tr th:only-of-type {\n",
       "        vertical-align: middle;\n",
       "    }\n",
       "\n",
       "    .dataframe tbody tr th {\n",
       "        vertical-align: top;\n",
       "    }\n",
       "\n",
       "    .dataframe thead th {\n",
       "        text-align: right;\n",
       "    }\n",
       "</style>\n",
       "<table border=\"1\" class=\"dataframe\">\n",
       "  <thead>\n",
       "    <tr style=\"text-align: right;\">\n",
       "      <th></th>\n",
       "      <th>site_id</th>\n",
       "      <th>timestamp</th>\n",
       "      <th>air_temperature</th>\n",
       "      <th>cloud_coverage</th>\n",
       "      <th>dew_temperature</th>\n",
       "    </tr>\n",
       "  </thead>\n",
       "  <tbody>\n",
       "    <tr>\n",
       "      <th>0</th>\n",
       "      <td>0</td>\n",
       "      <td>2016-01-01 00:00:00</td>\n",
       "      <td>25.0</td>\n",
       "      <td>6.0</td>\n",
       "      <td>20.0</td>\n",
       "    </tr>\n",
       "    <tr>\n",
       "      <th>1</th>\n",
       "      <td>0</td>\n",
       "      <td>2016-01-01 01:00:00</td>\n",
       "      <td>24.4</td>\n",
       "      <td>NaN</td>\n",
       "      <td>21.1</td>\n",
       "    </tr>\n",
       "    <tr>\n",
       "      <th>2</th>\n",
       "      <td>0</td>\n",
       "      <td>2016-01-01 02:00:00</td>\n",
       "      <td>22.8</td>\n",
       "      <td>2.0</td>\n",
       "      <td>21.1</td>\n",
       "    </tr>\n",
       "    <tr>\n",
       "      <th>3</th>\n",
       "      <td>0</td>\n",
       "      <td>2016-01-01 03:00:00</td>\n",
       "      <td>21.1</td>\n",
       "      <td>2.0</td>\n",
       "      <td>20.6</td>\n",
       "    </tr>\n",
       "    <tr>\n",
       "      <th>4</th>\n",
       "      <td>0</td>\n",
       "      <td>2016-01-01 04:00:00</td>\n",
       "      <td>20.0</td>\n",
       "      <td>2.0</td>\n",
       "      <td>20.0</td>\n",
       "    </tr>\n",
       "  </tbody>\n",
       "</table>\n",
       "</div>"
      ],
      "text/plain": [
       "   site_id            timestamp  air_temperature  cloud_coverage  \\\n",
       "0        0  2016-01-01 00:00:00             25.0             6.0   \n",
       "1        0  2016-01-01 01:00:00             24.4             NaN   \n",
       "2        0  2016-01-01 02:00:00             22.8             2.0   \n",
       "3        0  2016-01-01 03:00:00             21.1             2.0   \n",
       "4        0  2016-01-01 04:00:00             20.0             2.0   \n",
       "\n",
       "   dew_temperature  \n",
       "0             20.0  \n",
       "1             21.1  \n",
       "2             21.1  \n",
       "3             20.6  \n",
       "4             20.0  "
      ]
     },
     "execution_count": 5,
     "metadata": {},
     "output_type": "execute_result"
    }
   ],
   "source": [
    "weather_train = pd.read_csv('../input/ashrae-energy-prediction/weather_train.csv', usecols=usecols)\n",
    "\n",
    "print(weather_train.shape)\n",
    "weather_train.head()"
   ]
  },
  {
   "cell_type": "markdown",
   "id": "pointed-distance",
   "metadata": {
    "papermill": {
     "duration": 0.052842,
     "end_time": "2021-06-09T06:54:25.087897",
     "exception": false,
     "start_time": "2021-06-09T06:54:25.035055",
     "status": "completed"
    },
    "tags": []
   },
   "source": [
    "気象情報を保持するテーブル（学習データに対応）<br>\n",
    "・site_id：ビルの物理的な位置<br>\n",
    "・timestamp：日付と時刻<br>\n",
    "・air_temperature：気温<br>\n",
    "・dew_temperature：湿度<br>\n",
    "・precip_depth：降水量<br>\n",
    "・sea_level_pressure：海圧<br>\n",
    "・wind_direction：風向<br>\n",
    "・wind_speed：風速<br>"
   ]
  },
  {
   "cell_type": "code",
   "execution_count": 6,
   "id": "confidential-diamond",
   "metadata": {
    "execution": {
     "iopub.execute_input": "2021-06-09T06:54:25.199301Z",
     "iopub.status.busy": "2021-06-09T06:54:25.198652Z",
     "iopub.status.idle": "2021-06-09T06:54:25.573211Z",
     "shell.execute_reply": "2021-06-09T06:54:25.572511Z",
     "shell.execute_reply.started": "2021-06-09T06:41:43.310898Z"
    },
    "papermill": {
     "duration": 0.431622,
     "end_time": "2021-06-09T06:54:25.573355",
     "exception": false,
     "start_time": "2021-06-09T06:54:25.141733",
     "status": "completed"
    },
    "tags": []
   },
   "outputs": [
    {
     "name": "stdout",
     "output_type": "stream",
     "text": [
      "(277243, 5)\n"
     ]
    },
    {
     "data": {
      "text/html": [
       "<div>\n",
       "<style scoped>\n",
       "    .dataframe tbody tr th:only-of-type {\n",
       "        vertical-align: middle;\n",
       "    }\n",
       "\n",
       "    .dataframe tbody tr th {\n",
       "        vertical-align: top;\n",
       "    }\n",
       "\n",
       "    .dataframe thead th {\n",
       "        text-align: right;\n",
       "    }\n",
       "</style>\n",
       "<table border=\"1\" class=\"dataframe\">\n",
       "  <thead>\n",
       "    <tr style=\"text-align: right;\">\n",
       "      <th></th>\n",
       "      <th>site_id</th>\n",
       "      <th>timestamp</th>\n",
       "      <th>air_temperature</th>\n",
       "      <th>cloud_coverage</th>\n",
       "      <th>dew_temperature</th>\n",
       "    </tr>\n",
       "  </thead>\n",
       "  <tbody>\n",
       "    <tr>\n",
       "      <th>0</th>\n",
       "      <td>0</td>\n",
       "      <td>2017-01-01 00:00:00</td>\n",
       "      <td>17.8</td>\n",
       "      <td>4.0</td>\n",
       "      <td>11.7</td>\n",
       "    </tr>\n",
       "    <tr>\n",
       "      <th>1</th>\n",
       "      <td>0</td>\n",
       "      <td>2017-01-01 01:00:00</td>\n",
       "      <td>17.8</td>\n",
       "      <td>2.0</td>\n",
       "      <td>12.8</td>\n",
       "    </tr>\n",
       "    <tr>\n",
       "      <th>2</th>\n",
       "      <td>0</td>\n",
       "      <td>2017-01-01 02:00:00</td>\n",
       "      <td>16.1</td>\n",
       "      <td>0.0</td>\n",
       "      <td>12.8</td>\n",
       "    </tr>\n",
       "    <tr>\n",
       "      <th>3</th>\n",
       "      <td>0</td>\n",
       "      <td>2017-01-01 03:00:00</td>\n",
       "      <td>17.2</td>\n",
       "      <td>0.0</td>\n",
       "      <td>13.3</td>\n",
       "    </tr>\n",
       "    <tr>\n",
       "      <th>4</th>\n",
       "      <td>0</td>\n",
       "      <td>2017-01-01 04:00:00</td>\n",
       "      <td>16.7</td>\n",
       "      <td>2.0</td>\n",
       "      <td>13.3</td>\n",
       "    </tr>\n",
       "  </tbody>\n",
       "</table>\n",
       "</div>"
      ],
      "text/plain": [
       "   site_id            timestamp  air_temperature  cloud_coverage  \\\n",
       "0        0  2017-01-01 00:00:00             17.8             4.0   \n",
       "1        0  2017-01-01 01:00:00             17.8             2.0   \n",
       "2        0  2017-01-01 02:00:00             16.1             0.0   \n",
       "3        0  2017-01-01 03:00:00             17.2             0.0   \n",
       "4        0  2017-01-01 04:00:00             16.7             2.0   \n",
       "\n",
       "   dew_temperature  \n",
       "0             11.7  \n",
       "1             12.8  \n",
       "2             12.8  \n",
       "3             13.3  \n",
       "4             13.3  "
      ]
     },
     "execution_count": 6,
     "metadata": {},
     "output_type": "execute_result"
    }
   ],
   "source": [
    "weather_test = pd.read_csv('../input/ashrae-energy-prediction/weather_test.csv', usecols=usecols)\n",
    "\n",
    "print(weather_test.shape)\n",
    "weather_test.head()"
   ]
  },
  {
   "cell_type": "markdown",
   "id": "alike-capability",
   "metadata": {
    "papermill": {
     "duration": 0.052958,
     "end_time": "2021-06-09T06:54:25.679690",
     "exception": false,
     "start_time": "2021-06-09T06:54:25.626732",
     "status": "completed"
    },
    "tags": []
   },
   "source": [
    "気象情報を保持するテーブル（テストデータに対応）<br>\n",
    "・site_id：ビルの物理的な位置<br>\n",
    "・timestamp：日付と時刻<br>\n",
    "・air_temperature：気温<br>\n",
    "・dew_temperature：湿度<br>\n",
    "・precip_depth：降水量<br>\n",
    "・sea_level_pressure：海圧<br>\n",
    "・wind_direction：風向<br>\n",
    "・wind_speed：風速<br>"
   ]
  },
  {
   "cell_type": "code",
   "execution_count": 7,
   "id": "other-playback",
   "metadata": {
    "execution": {
     "iopub.execute_input": "2021-06-09T06:54:25.791319Z",
     "iopub.status.busy": "2021-06-09T06:54:25.790619Z",
     "iopub.status.idle": "2021-06-09T06:54:25.795630Z",
     "shell.execute_reply": "2021-06-09T06:54:25.795051Z",
     "shell.execute_reply.started": "2021-06-09T06:41:43.708901Z"
    },
    "papermill": {
     "duration": 0.062537,
     "end_time": "2021-06-09T06:54:25.795786",
     "exception": false,
     "start_time": "2021-06-09T06:54:25.733249",
     "status": "completed"
    },
    "tags": []
   },
   "outputs": [],
   "source": [
    "usecols = {'site_id', 'building_id', 'primary_use', 'square_feet', 'year_built'}"
   ]
  },
  {
   "cell_type": "code",
   "execution_count": 8,
   "id": "placed-effectiveness",
   "metadata": {
    "execution": {
     "iopub.execute_input": "2021-06-09T06:54:25.908765Z",
     "iopub.status.busy": "2021-06-09T06:54:25.907966Z",
     "iopub.status.idle": "2021-06-09T06:54:25.931961Z",
     "shell.execute_reply": "2021-06-09T06:54:25.932435Z",
     "shell.execute_reply.started": "2021-06-09T06:41:43.715337Z"
    },
    "papermill": {
     "duration": 0.083082,
     "end_time": "2021-06-09T06:54:25.932618",
     "exception": false,
     "start_time": "2021-06-09T06:54:25.849536",
     "status": "completed"
    },
    "tags": []
   },
   "outputs": [
    {
     "name": "stdout",
     "output_type": "stream",
     "text": [
      "(1449, 5)\n"
     ]
    },
    {
     "data": {
      "text/html": [
       "<div>\n",
       "<style scoped>\n",
       "    .dataframe tbody tr th:only-of-type {\n",
       "        vertical-align: middle;\n",
       "    }\n",
       "\n",
       "    .dataframe tbody tr th {\n",
       "        vertical-align: top;\n",
       "    }\n",
       "\n",
       "    .dataframe thead th {\n",
       "        text-align: right;\n",
       "    }\n",
       "</style>\n",
       "<table border=\"1\" class=\"dataframe\">\n",
       "  <thead>\n",
       "    <tr style=\"text-align: right;\">\n",
       "      <th></th>\n",
       "      <th>site_id</th>\n",
       "      <th>building_id</th>\n",
       "      <th>primary_use</th>\n",
       "      <th>square_feet</th>\n",
       "      <th>year_built</th>\n",
       "    </tr>\n",
       "  </thead>\n",
       "  <tbody>\n",
       "    <tr>\n",
       "      <th>0</th>\n",
       "      <td>0</td>\n",
       "      <td>0</td>\n",
       "      <td>Education</td>\n",
       "      <td>7432</td>\n",
       "      <td>2008.0</td>\n",
       "    </tr>\n",
       "    <tr>\n",
       "      <th>1</th>\n",
       "      <td>0</td>\n",
       "      <td>1</td>\n",
       "      <td>Education</td>\n",
       "      <td>2720</td>\n",
       "      <td>2004.0</td>\n",
       "    </tr>\n",
       "    <tr>\n",
       "      <th>2</th>\n",
       "      <td>0</td>\n",
       "      <td>2</td>\n",
       "      <td>Education</td>\n",
       "      <td>5376</td>\n",
       "      <td>1991.0</td>\n",
       "    </tr>\n",
       "    <tr>\n",
       "      <th>3</th>\n",
       "      <td>0</td>\n",
       "      <td>3</td>\n",
       "      <td>Education</td>\n",
       "      <td>23685</td>\n",
       "      <td>2002.0</td>\n",
       "    </tr>\n",
       "    <tr>\n",
       "      <th>4</th>\n",
       "      <td>0</td>\n",
       "      <td>4</td>\n",
       "      <td>Education</td>\n",
       "      <td>116607</td>\n",
       "      <td>1975.0</td>\n",
       "    </tr>\n",
       "  </tbody>\n",
       "</table>\n",
       "</div>"
      ],
      "text/plain": [
       "   site_id  building_id primary_use  square_feet  year_built\n",
       "0        0            0   Education         7432      2008.0\n",
       "1        0            1   Education         2720      2004.0\n",
       "2        0            2   Education         5376      1991.0\n",
       "3        0            3   Education        23685      2002.0\n",
       "4        0            4   Education       116607      1975.0"
      ]
     },
     "execution_count": 8,
     "metadata": {},
     "output_type": "execute_result"
    }
   ],
   "source": [
    "building = pd.read_csv('../input/ashrae-energy-prediction/building_metadata.csv', usecols=usecols)\n",
    "\n",
    "print(building.shape)\n",
    "building.head()"
   ]
  },
  {
   "cell_type": "markdown",
   "id": "absent-orange",
   "metadata": {
    "papermill": {
     "duration": 0.053773,
     "end_time": "2021-06-09T06:54:26.041049",
     "exception": false,
     "start_time": "2021-06-09T06:54:25.987276",
     "status": "completed"
    },
    "tags": []
   },
   "source": [
    "ビルの情報を保持するテーブル<br>\n",
    "・site_id：ビルの物理的な位置<br>\n",
    "・building_id：ビルのID<br>\n",
    "・primary_use：使用目的<br>\n",
    "・square_feet：面積<br>\n",
    "・year_built：施工した年<br>\n",
    "・floor_count：階数<br>"
   ]
  },
  {
   "cell_type": "markdown",
   "id": "aquatic-temperature",
   "metadata": {
    "papermill": {
     "duration": 0.054339,
     "end_time": "2021-06-09T06:54:26.149435",
     "exception": false,
     "start_time": "2021-06-09T06:54:26.095096",
     "status": "completed"
    },
    "tags": []
   },
   "source": [
    "# Join"
   ]
  },
  {
   "cell_type": "code",
   "execution_count": 9,
   "id": "anonymous-homeless",
   "metadata": {
    "execution": {
     "iopub.execute_input": "2021-06-09T06:54:26.273402Z",
     "iopub.status.busy": "2021-06-09T06:54:26.272707Z",
     "iopub.status.idle": "2021-06-09T06:54:26.275056Z",
     "shell.execute_reply": "2021-06-09T06:54:26.275556Z",
     "shell.execute_reply.started": "2021-06-09T06:41:43.746297Z"
    },
    "papermill": {
     "duration": 0.072397,
     "end_time": "2021-06-09T06:54:26.275725",
     "exception": false,
     "start_time": "2021-06-09T06:54:26.203328",
     "status": "completed"
    },
    "tags": []
   },
   "outputs": [],
   "source": [
    "def reduce_mem_usage(df, use_float16=False):\n",
    "    \n",
    "    start_mem = df.memory_usage().sum() / 1024**2\n",
    "    print('Memory usage of dataframe is {:.2f} MB'.format(start_mem))\n",
    "    \n",
    "    for col in df.columns:\n",
    "        if is_datetime(df[col]) or is_categorical_dtype(df[col]):\n",
    "            continue\n",
    "        col_type = df[col].dtype\n",
    "        \n",
    "        if col_type != object:\n",
    "            c_min = df[col].min()\n",
    "            c_max = df[col].max()\n",
    "            if str(col_type)[:3] == 'int':\n",
    "                if c_min > np.iinfo(np.int8).min and c_max < np.iinfo(np.int8).max:\n",
    "                    df[col] = df[col].astype(np.int8)\n",
    "                elif c_min > np.iinfo(np.int16).min and c_max < np.iinfo(np.int16).max:\n",
    "                    df[col] = df[col].astype(np.int16)\n",
    "                elif c_min > np.iinfo(np.int32).min and c_max < np.iinfo(np.int32).max:\n",
    "                    df[col] = df[col].astype(np.int32)\n",
    "                elif c_min > np.iinfo(np.int64).min and c_max < np.iinfo(np.int64).max:\n",
    "                    df[col] = df[col].astype(np.int64)  \n",
    "            else:\n",
    "                if use_float16 and c_min > np.finfo(np.float16).min and c_max < np.finfo(np.float16).max:\n",
    "                    df[col] = df[col].astype(np.float16)\n",
    "                elif c_min > np.finfo(np.float32).min and c_max < np.finfo(np.float32).max:\n",
    "                    df[col] = df[col].astype(np.float32)\n",
    "                else:\n",
    "                    df[col] = df[col].astype(np.float64)\n",
    "        else:\n",
    "            df[col] = df[col].astype('category')\n",
    "\n",
    "    end_mem = df.memory_usage().sum() / 1024**2\n",
    "    print('Memory usage after optimization is: {:.2f} MB'.format(end_mem))\n",
    "    print('Decreased by {:.1f}%'.format(100 * (start_mem - end_mem) / start_mem))\n",
    "    \n",
    "    return df"
   ]
  },
  {
   "cell_type": "code",
   "execution_count": 10,
   "id": "injured-atlanta",
   "metadata": {
    "execution": {
     "iopub.execute_input": "2021-06-09T06:54:26.393481Z",
     "iopub.status.busy": "2021-06-09T06:54:26.392809Z",
     "iopub.status.idle": "2021-06-09T06:54:26.504349Z",
     "shell.execute_reply": "2021-06-09T06:54:26.503695Z",
     "shell.execute_reply.started": "2021-06-09T06:41:43.761669Z"
    },
    "papermill": {
     "duration": 0.174074,
     "end_time": "2021-06-09T06:54:26.504492",
     "exception": false,
     "start_time": "2021-06-09T06:54:26.330418",
     "status": "completed"
    },
    "tags": []
   },
   "outputs": [
    {
     "name": "stdout",
     "output_type": "stream",
     "text": [
      "Memory usage of dataframe is 5.33 MB\n",
      "Memory usage after optimization is: 2.32 MB\n",
      "Decreased by 56.5%\n",
      "Memory usage of dataframe is 10.58 MB\n",
      "Memory usage after optimization is: 4.60 MB\n",
      "Decreased by 56.5%\n"
     ]
    }
   ],
   "source": [
    "# train = reduce_mem_usage(train)\n",
    "# test = reduce_mem_usage(test)\n",
    "\n",
    "weather_train = reduce_mem_usage(weather_train)\n",
    "weather_test = reduce_mem_usage(weather_test)"
   ]
  },
  {
   "cell_type": "code",
   "execution_count": 11,
   "id": "english-realtor",
   "metadata": {
    "execution": {
     "iopub.execute_input": "2021-06-09T06:54:26.622861Z",
     "iopub.status.busy": "2021-06-09T06:54:26.622166Z",
     "iopub.status.idle": "2021-06-09T06:54:38.411414Z",
     "shell.execute_reply": "2021-06-09T06:54:38.410751Z",
     "shell.execute_reply.started": "2021-06-09T06:41:43.897982Z"
    },
    "papermill": {
     "duration": 11.852513,
     "end_time": "2021-06-09T06:54:38.411570",
     "exception": false,
     "start_time": "2021-06-09T06:54:26.559057",
     "status": "completed"
    },
    "tags": []
   },
   "outputs": [
    {
     "name": "stdout",
     "output_type": "stream",
     "text": [
      "(20216100, 8)\n"
     ]
    },
    {
     "data": {
      "text/html": [
       "<div>\n",
       "<style scoped>\n",
       "    .dataframe tbody tr th:only-of-type {\n",
       "        vertical-align: middle;\n",
       "    }\n",
       "\n",
       "    .dataframe tbody tr th {\n",
       "        vertical-align: top;\n",
       "    }\n",
       "\n",
       "    .dataframe thead th {\n",
       "        text-align: right;\n",
       "    }\n",
       "</style>\n",
       "<table border=\"1\" class=\"dataframe\">\n",
       "  <thead>\n",
       "    <tr style=\"text-align: right;\">\n",
       "      <th></th>\n",
       "      <th>building_id</th>\n",
       "      <th>meter</th>\n",
       "      <th>timestamp</th>\n",
       "      <th>meter_reading</th>\n",
       "      <th>site_id</th>\n",
       "      <th>primary_use</th>\n",
       "      <th>square_feet</th>\n",
       "      <th>year_built</th>\n",
       "    </tr>\n",
       "  </thead>\n",
       "  <tbody>\n",
       "    <tr>\n",
       "      <th>0</th>\n",
       "      <td>0</td>\n",
       "      <td>0</td>\n",
       "      <td>2016-01-01 00:00:00</td>\n",
       "      <td>0.0</td>\n",
       "      <td>0</td>\n",
       "      <td>Education</td>\n",
       "      <td>7432</td>\n",
       "      <td>2008.0</td>\n",
       "    </tr>\n",
       "    <tr>\n",
       "      <th>1</th>\n",
       "      <td>1</td>\n",
       "      <td>0</td>\n",
       "      <td>2016-01-01 00:00:00</td>\n",
       "      <td>0.0</td>\n",
       "      <td>0</td>\n",
       "      <td>Education</td>\n",
       "      <td>2720</td>\n",
       "      <td>2004.0</td>\n",
       "    </tr>\n",
       "    <tr>\n",
       "      <th>2</th>\n",
       "      <td>2</td>\n",
       "      <td>0</td>\n",
       "      <td>2016-01-01 00:00:00</td>\n",
       "      <td>0.0</td>\n",
       "      <td>0</td>\n",
       "      <td>Education</td>\n",
       "      <td>5376</td>\n",
       "      <td>1991.0</td>\n",
       "    </tr>\n",
       "    <tr>\n",
       "      <th>3</th>\n",
       "      <td>3</td>\n",
       "      <td>0</td>\n",
       "      <td>2016-01-01 00:00:00</td>\n",
       "      <td>0.0</td>\n",
       "      <td>0</td>\n",
       "      <td>Education</td>\n",
       "      <td>23685</td>\n",
       "      <td>2002.0</td>\n",
       "    </tr>\n",
       "    <tr>\n",
       "      <th>4</th>\n",
       "      <td>4</td>\n",
       "      <td>0</td>\n",
       "      <td>2016-01-01 00:00:00</td>\n",
       "      <td>0.0</td>\n",
       "      <td>0</td>\n",
       "      <td>Education</td>\n",
       "      <td>116607</td>\n",
       "      <td>1975.0</td>\n",
       "    </tr>\n",
       "  </tbody>\n",
       "</table>\n",
       "</div>"
      ],
      "text/plain": [
       "   building_id  meter            timestamp  meter_reading  site_id  \\\n",
       "0            0      0  2016-01-01 00:00:00            0.0        0   \n",
       "1            1      0  2016-01-01 00:00:00            0.0        0   \n",
       "2            2      0  2016-01-01 00:00:00            0.0        0   \n",
       "3            3      0  2016-01-01 00:00:00            0.0        0   \n",
       "4            4      0  2016-01-01 00:00:00            0.0        0   \n",
       "\n",
       "  primary_use  square_feet  year_built  \n",
       "0   Education         7432      2008.0  \n",
       "1   Education         2720      2004.0  \n",
       "2   Education         5376      1991.0  \n",
       "3   Education        23685      2002.0  \n",
       "4   Education       116607      1975.0  "
      ]
     },
     "execution_count": 11,
     "metadata": {},
     "output_type": "execute_result"
    }
   ],
   "source": [
    "train = train.merge(building, on='building_id', how='left')\n",
    "test = test.merge(building, on='building_id', how='left')\n",
    "\n",
    "print(train.shape)\n",
    "train.head()"
   ]
  },
  {
   "cell_type": "code",
   "execution_count": 12,
   "id": "differential-upper",
   "metadata": {
    "execution": {
     "iopub.execute_input": "2021-06-09T06:54:38.652799Z",
     "iopub.status.busy": "2021-06-09T06:54:38.651942Z",
     "iopub.status.idle": "2021-06-09T06:54:38.656321Z",
     "shell.execute_reply": "2021-06-09T06:54:38.655747Z",
     "shell.execute_reply.started": "2021-06-09T06:41:55.761301Z"
    },
    "papermill": {
     "duration": 0.189171,
     "end_time": "2021-06-09T06:54:38.656464",
     "exception": false,
     "start_time": "2021-06-09T06:54:38.467293",
     "status": "completed"
    },
    "tags": []
   },
   "outputs": [
    {
     "data": {
      "text/plain": [
       "131"
      ]
     },
     "execution_count": 12,
     "metadata": {},
     "output_type": "execute_result"
    }
   ],
   "source": [
    "del building\n",
    "gc.collect()"
   ]
  },
  {
   "cell_type": "code",
   "execution_count": 13,
   "id": "fresh-draft",
   "metadata": {
    "execution": {
     "iopub.execute_input": "2021-06-09T06:54:38.773335Z",
     "iopub.status.busy": "2021-06-09T06:54:38.772642Z",
     "iopub.status.idle": "2021-06-09T06:55:02.508208Z",
     "shell.execute_reply": "2021-06-09T06:55:02.508667Z",
     "shell.execute_reply.started": "2021-06-09T06:41:55.893800Z"
    },
    "papermill": {
     "duration": 23.79717,
     "end_time": "2021-06-09T06:55:02.508862",
     "exception": false,
     "start_time": "2021-06-09T06:54:38.711692",
     "status": "completed"
    },
    "tags": []
   },
   "outputs": [
    {
     "name": "stdout",
     "output_type": "stream",
     "text": [
      "(20216100, 11)\n"
     ]
    },
    {
     "data": {
      "text/html": [
       "<div>\n",
       "<style scoped>\n",
       "    .dataframe tbody tr th:only-of-type {\n",
       "        vertical-align: middle;\n",
       "    }\n",
       "\n",
       "    .dataframe tbody tr th {\n",
       "        vertical-align: top;\n",
       "    }\n",
       "\n",
       "    .dataframe thead th {\n",
       "        text-align: right;\n",
       "    }\n",
       "</style>\n",
       "<table border=\"1\" class=\"dataframe\">\n",
       "  <thead>\n",
       "    <tr style=\"text-align: right;\">\n",
       "      <th></th>\n",
       "      <th>building_id</th>\n",
       "      <th>meter</th>\n",
       "      <th>timestamp</th>\n",
       "      <th>meter_reading</th>\n",
       "      <th>site_id</th>\n",
       "      <th>primary_use</th>\n",
       "      <th>square_feet</th>\n",
       "      <th>year_built</th>\n",
       "      <th>air_temperature</th>\n",
       "      <th>cloud_coverage</th>\n",
       "      <th>dew_temperature</th>\n",
       "    </tr>\n",
       "  </thead>\n",
       "  <tbody>\n",
       "    <tr>\n",
       "      <th>0</th>\n",
       "      <td>0</td>\n",
       "      <td>0</td>\n",
       "      <td>2016-01-01 00:00:00</td>\n",
       "      <td>0.0</td>\n",
       "      <td>0</td>\n",
       "      <td>Education</td>\n",
       "      <td>7432</td>\n",
       "      <td>2008.0</td>\n",
       "      <td>25.0</td>\n",
       "      <td>6.0</td>\n",
       "      <td>20.0</td>\n",
       "    </tr>\n",
       "    <tr>\n",
       "      <th>1</th>\n",
       "      <td>1</td>\n",
       "      <td>0</td>\n",
       "      <td>2016-01-01 00:00:00</td>\n",
       "      <td>0.0</td>\n",
       "      <td>0</td>\n",
       "      <td>Education</td>\n",
       "      <td>2720</td>\n",
       "      <td>2004.0</td>\n",
       "      <td>25.0</td>\n",
       "      <td>6.0</td>\n",
       "      <td>20.0</td>\n",
       "    </tr>\n",
       "    <tr>\n",
       "      <th>2</th>\n",
       "      <td>2</td>\n",
       "      <td>0</td>\n",
       "      <td>2016-01-01 00:00:00</td>\n",
       "      <td>0.0</td>\n",
       "      <td>0</td>\n",
       "      <td>Education</td>\n",
       "      <td>5376</td>\n",
       "      <td>1991.0</td>\n",
       "      <td>25.0</td>\n",
       "      <td>6.0</td>\n",
       "      <td>20.0</td>\n",
       "    </tr>\n",
       "    <tr>\n",
       "      <th>3</th>\n",
       "      <td>3</td>\n",
       "      <td>0</td>\n",
       "      <td>2016-01-01 00:00:00</td>\n",
       "      <td>0.0</td>\n",
       "      <td>0</td>\n",
       "      <td>Education</td>\n",
       "      <td>23685</td>\n",
       "      <td>2002.0</td>\n",
       "      <td>25.0</td>\n",
       "      <td>6.0</td>\n",
       "      <td>20.0</td>\n",
       "    </tr>\n",
       "    <tr>\n",
       "      <th>4</th>\n",
       "      <td>4</td>\n",
       "      <td>0</td>\n",
       "      <td>2016-01-01 00:00:00</td>\n",
       "      <td>0.0</td>\n",
       "      <td>0</td>\n",
       "      <td>Education</td>\n",
       "      <td>116607</td>\n",
       "      <td>1975.0</td>\n",
       "      <td>25.0</td>\n",
       "      <td>6.0</td>\n",
       "      <td>20.0</td>\n",
       "    </tr>\n",
       "  </tbody>\n",
       "</table>\n",
       "</div>"
      ],
      "text/plain": [
       "   building_id  meter            timestamp  meter_reading  site_id  \\\n",
       "0            0      0  2016-01-01 00:00:00            0.0        0   \n",
       "1            1      0  2016-01-01 00:00:00            0.0        0   \n",
       "2            2      0  2016-01-01 00:00:00            0.0        0   \n",
       "3            3      0  2016-01-01 00:00:00            0.0        0   \n",
       "4            4      0  2016-01-01 00:00:00            0.0        0   \n",
       "\n",
       "  primary_use  square_feet  year_built  air_temperature  cloud_coverage  \\\n",
       "0   Education         7432      2008.0             25.0             6.0   \n",
       "1   Education         2720      2004.0             25.0             6.0   \n",
       "2   Education         5376      1991.0             25.0             6.0   \n",
       "3   Education        23685      2002.0             25.0             6.0   \n",
       "4   Education       116607      1975.0             25.0             6.0   \n",
       "\n",
       "   dew_temperature  \n",
       "0             20.0  \n",
       "1             20.0  \n",
       "2             20.0  \n",
       "3             20.0  \n",
       "4             20.0  "
      ]
     },
     "execution_count": 13,
     "metadata": {},
     "output_type": "execute_result"
    }
   ],
   "source": [
    "train = train.merge(weather_train, on=['site_id', 'timestamp'], how='left')\n",
    "test = test.merge(weather_test, on=['site_id', 'timestamp'], how='left')\n",
    "\n",
    "print(train.shape)\n",
    "train.head()"
   ]
  },
  {
   "cell_type": "code",
   "execution_count": 14,
   "id": "hearing-charm",
   "metadata": {
    "execution": {
     "iopub.execute_input": "2021-06-09T06:55:02.762058Z",
     "iopub.status.busy": "2021-06-09T06:55:02.761131Z",
     "iopub.status.idle": "2021-06-09T06:55:02.765805Z",
     "shell.execute_reply": "2021-06-09T06:55:02.765326Z",
     "shell.execute_reply.started": "2021-06-09T06:42:19.801047Z"
    },
    "papermill": {
     "duration": 0.199488,
     "end_time": "2021-06-09T06:55:02.766071",
     "exception": false,
     "start_time": "2021-06-09T06:55:02.566583",
     "status": "completed"
    },
    "tags": []
   },
   "outputs": [
    {
     "data": {
      "text/plain": [
       "40"
      ]
     },
     "execution_count": 14,
     "metadata": {},
     "output_type": "execute_result"
    }
   ],
   "source": [
    "del weather_train, weather_test\n",
    "gc.collect()"
   ]
  },
  {
   "cell_type": "code",
   "execution_count": 15,
   "id": "olympic-glory",
   "metadata": {
    "execution": {
     "iopub.execute_input": "2021-06-09T06:55:02.884266Z",
     "iopub.status.busy": "2021-06-09T06:55:02.883419Z",
     "iopub.status.idle": "2021-06-09T06:55:02.885383Z",
     "shell.execute_reply": "2021-06-09T06:55:02.885939Z",
     "shell.execute_reply.started": "2021-06-09T06:42:19.935026Z"
    },
    "papermill": {
     "duration": 0.062998,
     "end_time": "2021-06-09T06:55:02.886171",
     "exception": false,
     "start_time": "2021-06-09T06:55:02.823173",
     "status": "completed"
    },
    "tags": []
   },
   "outputs": [],
   "source": [
    "# train = reduce_mem_usage(train)\n",
    "# test = reduce_mem_usage(test)"
   ]
  },
  {
   "cell_type": "code",
   "execution_count": 16,
   "id": "continuing-budget",
   "metadata": {
    "execution": {
     "iopub.execute_input": "2021-06-09T06:55:03.010262Z",
     "iopub.status.busy": "2021-06-09T06:55:03.009633Z",
     "iopub.status.idle": "2021-06-09T06:55:24.832219Z",
     "shell.execute_reply": "2021-06-09T06:55:24.831564Z",
     "shell.execute_reply.started": "2021-06-09T06:42:19.955854Z"
    },
    "papermill": {
     "duration": 21.883918,
     "end_time": "2021-06-09T06:55:24.832383",
     "exception": false,
     "start_time": "2021-06-09T06:55:02.948465",
     "status": "completed"
    },
    "tags": []
   },
   "outputs": [
    {
     "name": "stdout",
     "output_type": "stream",
     "text": [
      "4312612301\n",
      "8896901312\n"
     ]
    }
   ],
   "source": [
    "print(sys.getsizeof(train))\n",
    "print(sys.getsizeof(test))"
   ]
  },
  {
   "cell_type": "code",
   "execution_count": 17,
   "id": "individual-herald",
   "metadata": {
    "execution": {
     "iopub.execute_input": "2021-06-09T06:55:24.952695Z",
     "iopub.status.busy": "2021-06-09T06:55:24.951680Z",
     "iopub.status.idle": "2021-06-09T06:55:24.959764Z",
     "shell.execute_reply": "2021-06-09T06:55:24.960220Z",
     "shell.execute_reply.started": "2021-06-09T06:42:41.477168Z"
    },
    "papermill": {
     "duration": 0.06972,
     "end_time": "2021-06-09T06:55:24.960399",
     "exception": false,
     "start_time": "2021-06-09T06:55:24.890679",
     "status": "completed"
    },
    "tags": []
   },
   "outputs": [
    {
     "data": {
      "text/plain": [
       "Index              161728800\n",
       "building_id        161728800\n",
       "meter              161728800\n",
       "timestamp          161728800\n",
       "meter_reading      161728800\n",
       "site_id            161728800\n",
       "primary_use        161728800\n",
       "square_feet        161728800\n",
       "year_built         161728800\n",
       "air_temperature     80864400\n",
       "cloud_coverage      80864400\n",
       "dew_temperature     80864400\n",
       "dtype: int64"
      ]
     },
     "execution_count": 17,
     "metadata": {},
     "output_type": "execute_result"
    }
   ],
   "source": [
    "train.memory_usage()"
   ]
  },
  {
   "cell_type": "code",
   "execution_count": 18,
   "id": "informed-sympathy",
   "metadata": {
    "execution": {
     "iopub.execute_input": "2021-06-09T06:55:25.079412Z",
     "iopub.status.busy": "2021-06-09T06:55:25.078458Z",
     "iopub.status.idle": "2021-06-09T06:55:25.087295Z",
     "shell.execute_reply": "2021-06-09T06:55:25.086770Z",
     "shell.execute_reply.started": "2021-06-09T06:42:41.487414Z"
    },
    "papermill": {
     "duration": 0.069239,
     "end_time": "2021-06-09T06:55:25.087443",
     "exception": false,
     "start_time": "2021-06-09T06:55:25.018204",
     "status": "completed"
    },
    "tags": []
   },
   "outputs": [
    {
     "data": {
      "text/plain": [
       "Index              333580800\n",
       "row_id             333580800\n",
       "building_id        333580800\n",
       "meter              333580800\n",
       "timestamp          333580800\n",
       "site_id            333580800\n",
       "primary_use        333580800\n",
       "square_feet        333580800\n",
       "year_built         333580800\n",
       "air_temperature    166790400\n",
       "cloud_coverage     166790400\n",
       "dew_temperature    166790400\n",
       "dtype: int64"
      ]
     },
     "execution_count": 18,
     "metadata": {},
     "output_type": "execute_result"
    }
   ],
   "source": [
    "test.memory_usage()"
   ]
  },
  {
   "cell_type": "markdown",
   "id": "consolidated-multiple",
   "metadata": {
    "papermill": {
     "duration": 0.057124,
     "end_time": "2021-06-09T06:55:25.202384",
     "exception": false,
     "start_time": "2021-06-09T06:55:25.145260",
     "status": "completed"
    },
    "tags": []
   },
   "source": [
    "# Analytics"
   ]
  },
  {
   "cell_type": "code",
   "execution_count": 19,
   "id": "liked-soviet",
   "metadata": {
    "execution": {
     "iopub.execute_input": "2021-06-09T06:55:25.334276Z",
     "iopub.status.busy": "2021-06-09T06:55:25.333525Z",
     "iopub.status.idle": "2021-06-09T06:55:25.336948Z",
     "shell.execute_reply": "2021-06-09T06:55:25.337830Z",
     "shell.execute_reply.started": "2021-06-09T06:42:41.505786Z"
    },
    "papermill": {
     "duration": 0.078104,
     "end_time": "2021-06-09T06:55:25.338072",
     "exception": false,
     "start_time": "2021-06-09T06:55:25.259968",
     "status": "completed"
    },
    "tags": []
   },
   "outputs": [
    {
     "name": "stdout",
     "output_type": "stream",
     "text": [
      "<class 'pandas.core.frame.DataFrame'>\n",
      "Int64Index: 20216100 entries, 0 to 20216099\n",
      "Data columns (total 11 columns):\n",
      " #   Column           Dtype  \n",
      "---  ------           -----  \n",
      " 0   building_id      int64  \n",
      " 1   meter            int64  \n",
      " 2   timestamp        object \n",
      " 3   meter_reading    float64\n",
      " 4   site_id          int64  \n",
      " 5   primary_use      object \n",
      " 6   square_feet      int64  \n",
      " 7   year_built       float64\n",
      " 8   air_temperature  float32\n",
      " 9   cloud_coverage   float32\n",
      " 10  dew_temperature  float32\n",
      "dtypes: float32(3), float64(2), int64(4), object(2)\n",
      "memory usage: 1.6+ GB\n"
     ]
    }
   ],
   "source": [
    "train.info()"
   ]
  },
  {
   "cell_type": "code",
   "execution_count": 20,
   "id": "figured-resort",
   "metadata": {
    "execution": {
     "iopub.execute_input": "2021-06-09T06:55:25.460766Z",
     "iopub.status.busy": "2021-06-09T06:55:25.460054Z",
     "iopub.status.idle": "2021-06-09T06:55:36.774519Z",
     "shell.execute_reply": "2021-06-09T06:55:36.773603Z",
     "shell.execute_reply.started": "2021-06-09T06:42:41.532596Z"
    },
    "papermill": {
     "duration": 11.377055,
     "end_time": "2021-06-09T06:55:36.774729",
     "exception": false,
     "start_time": "2021-06-09T06:55:25.397674",
     "status": "completed"
    },
    "tags": []
   },
   "outputs": [
    {
     "name": "stdout",
     "output_type": "stream",
     "text": [
      "building_id: 1449\n",
      "meter: 4\n",
      "timestamp: 8784\n",
      "meter_reading: 1688175\n",
      "site_id: 16\n",
      "primary_use: 16\n",
      "square_feet: 1397\n",
      "year_built: 116\n",
      "air_temperature: 619\n",
      "cloud_coverage: 10\n",
      "dew_temperature: 522\n"
     ]
    }
   ],
   "source": [
    "for i in train.columns:\n",
    "    print('{}: {}'.format(i, train[i].nunique()))"
   ]
  },
  {
   "cell_type": "code",
   "execution_count": 21,
   "id": "searching-serve",
   "metadata": {
    "execution": {
     "iopub.execute_input": "2021-06-09T06:55:36.904717Z",
     "iopub.status.busy": "2021-06-09T06:55:36.903420Z",
     "iopub.status.idle": "2021-06-09T06:55:40.742032Z",
     "shell.execute_reply": "2021-06-09T06:55:40.741445Z",
     "shell.execute_reply.started": "2021-06-09T06:42:52.782935Z"
    },
    "papermill": {
     "duration": 3.905531,
     "end_time": "2021-06-09T06:55:40.742193",
     "exception": false,
     "start_time": "2021-06-09T06:55:36.836662",
     "status": "completed"
    },
    "tags": []
   },
   "outputs": [
    {
     "data": {
      "text/plain": [
       "building_id               0\n",
       "meter                     0\n",
       "timestamp                 0\n",
       "meter_reading             0\n",
       "site_id                   0\n",
       "primary_use               0\n",
       "square_feet               0\n",
       "year_built         12127645\n",
       "air_temperature       96658\n",
       "cloud_coverage      8825365\n",
       "dew_temperature      100140\n",
       "dtype: int64"
      ]
     },
     "execution_count": 21,
     "metadata": {},
     "output_type": "execute_result"
    }
   ],
   "source": [
    "train.isnull().sum()"
   ]
  },
  {
   "cell_type": "code",
   "execution_count": 22,
   "id": "incomplete-conditioning",
   "metadata": {
    "execution": {
     "iopub.execute_input": "2021-06-09T06:55:40.870724Z",
     "iopub.status.busy": "2021-06-09T06:55:40.870023Z",
     "iopub.status.idle": "2021-06-09T06:55:46.622253Z",
     "shell.execute_reply": "2021-06-09T06:55:46.621722Z",
     "shell.execute_reply.started": "2021-06-09T06:42:56.697712Z"
    },
    "papermill": {
     "duration": 5.818787,
     "end_time": "2021-06-09T06:55:46.622434",
     "exception": false,
     "start_time": "2021-06-09T06:55:40.803647",
     "status": "completed"
    },
    "tags": []
   },
   "outputs": [
    {
     "data": {
      "text/html": [
       "<div>\n",
       "<style scoped>\n",
       "    .dataframe tbody tr th:only-of-type {\n",
       "        vertical-align: middle;\n",
       "    }\n",
       "\n",
       "    .dataframe tbody tr th {\n",
       "        vertical-align: top;\n",
       "    }\n",
       "\n",
       "    .dataframe thead th {\n",
       "        text-align: right;\n",
       "    }\n",
       "</style>\n",
       "<table border=\"1\" class=\"dataframe\">\n",
       "  <thead>\n",
       "    <tr style=\"text-align: right;\">\n",
       "      <th></th>\n",
       "      <th>building_id</th>\n",
       "      <th>meter</th>\n",
       "      <th>meter_reading</th>\n",
       "      <th>site_id</th>\n",
       "      <th>square_feet</th>\n",
       "      <th>year_built</th>\n",
       "      <th>air_temperature</th>\n",
       "      <th>cloud_coverage</th>\n",
       "      <th>dew_temperature</th>\n",
       "    </tr>\n",
       "  </thead>\n",
       "  <tbody>\n",
       "    <tr>\n",
       "      <th>building_id</th>\n",
       "      <td>1.000000</td>\n",
       "      <td>0.222268</td>\n",
       "      <td>0.008761</td>\n",
       "      <td>0.980975</td>\n",
       "      <td>0.087704</td>\n",
       "      <td>-0.246150</td>\n",
       "      <td>-0.314149</td>\n",
       "      <td>-0.203832</td>\n",
       "      <td>-0.110091</td>\n",
       "    </tr>\n",
       "    <tr>\n",
       "      <th>meter</th>\n",
       "      <td>0.222268</td>\n",
       "      <td>1.000000</td>\n",
       "      <td>0.017672</td>\n",
       "      <td>0.253875</td>\n",
       "      <td>0.132708</td>\n",
       "      <td>-0.003798</td>\n",
       "      <td>-0.011159</td>\n",
       "      <td>-0.177186</td>\n",
       "      <td>-0.080445</td>\n",
       "    </tr>\n",
       "    <tr>\n",
       "      <th>meter_reading</th>\n",
       "      <td>0.008761</td>\n",
       "      <td>0.017672</td>\n",
       "      <td>1.000000</td>\n",
       "      <td>0.011897</td>\n",
       "      <td>0.024308</td>\n",
       "      <td>0.111837</td>\n",
       "      <td>-0.004132</td>\n",
       "      <td>0.006024</td>\n",
       "      <td>-0.003330</td>\n",
       "    </tr>\n",
       "    <tr>\n",
       "      <th>site_id</th>\n",
       "      <td>0.980975</td>\n",
       "      <td>0.253875</td>\n",
       "      <td>0.011897</td>\n",
       "      <td>1.000000</td>\n",
       "      <td>0.090934</td>\n",
       "      <td>-0.212378</td>\n",
       "      <td>-0.307199</td>\n",
       "      <td>-0.179160</td>\n",
       "      <td>-0.135186</td>\n",
       "    </tr>\n",
       "    <tr>\n",
       "      <th>square_feet</th>\n",
       "      <td>0.087704</td>\n",
       "      <td>0.132708</td>\n",
       "      <td>0.024308</td>\n",
       "      <td>0.090934</td>\n",
       "      <td>1.000000</td>\n",
       "      <td>0.135717</td>\n",
       "      <td>-0.015665</td>\n",
       "      <td>-0.041162</td>\n",
       "      <td>-0.023385</td>\n",
       "    </tr>\n",
       "    <tr>\n",
       "      <th>year_built</th>\n",
       "      <td>-0.246150</td>\n",
       "      <td>-0.003798</td>\n",
       "      <td>0.111837</td>\n",
       "      <td>-0.212378</td>\n",
       "      <td>0.135717</td>\n",
       "      <td>1.000000</td>\n",
       "      <td>0.174156</td>\n",
       "      <td>0.062713</td>\n",
       "      <td>0.117523</td>\n",
       "    </tr>\n",
       "    <tr>\n",
       "      <th>air_temperature</th>\n",
       "      <td>-0.314149</td>\n",
       "      <td>-0.011159</td>\n",
       "      <td>-0.004132</td>\n",
       "      <td>-0.307199</td>\n",
       "      <td>-0.015665</td>\n",
       "      <td>0.174156</td>\n",
       "      <td>1.000000</td>\n",
       "      <td>0.045196</td>\n",
       "      <td>0.750640</td>\n",
       "    </tr>\n",
       "    <tr>\n",
       "      <th>cloud_coverage</th>\n",
       "      <td>-0.203832</td>\n",
       "      <td>-0.177186</td>\n",
       "      <td>0.006024</td>\n",
       "      <td>-0.179160</td>\n",
       "      <td>-0.041162</td>\n",
       "      <td>0.062713</td>\n",
       "      <td>0.045196</td>\n",
       "      <td>1.000000</td>\n",
       "      <td>0.132972</td>\n",
       "    </tr>\n",
       "    <tr>\n",
       "      <th>dew_temperature</th>\n",
       "      <td>-0.110091</td>\n",
       "      <td>-0.080445</td>\n",
       "      <td>-0.003330</td>\n",
       "      <td>-0.135186</td>\n",
       "      <td>-0.023385</td>\n",
       "      <td>0.117523</td>\n",
       "      <td>0.750640</td>\n",
       "      <td>0.132972</td>\n",
       "      <td>1.000000</td>\n",
       "    </tr>\n",
       "  </tbody>\n",
       "</table>\n",
       "</div>"
      ],
      "text/plain": [
       "                 building_id     meter  meter_reading   site_id  square_feet  \\\n",
       "building_id         1.000000  0.222268       0.008761  0.980975     0.087704   \n",
       "meter               0.222268  1.000000       0.017672  0.253875     0.132708   \n",
       "meter_reading       0.008761  0.017672       1.000000  0.011897     0.024308   \n",
       "site_id             0.980975  0.253875       0.011897  1.000000     0.090934   \n",
       "square_feet         0.087704  0.132708       0.024308  0.090934     1.000000   \n",
       "year_built         -0.246150 -0.003798       0.111837 -0.212378     0.135717   \n",
       "air_temperature    -0.314149 -0.011159      -0.004132 -0.307199    -0.015665   \n",
       "cloud_coverage     -0.203832 -0.177186       0.006024 -0.179160    -0.041162   \n",
       "dew_temperature    -0.110091 -0.080445      -0.003330 -0.135186    -0.023385   \n",
       "\n",
       "                 year_built  air_temperature  cloud_coverage  dew_temperature  \n",
       "building_id       -0.246150        -0.314149       -0.203832        -0.110091  \n",
       "meter             -0.003798        -0.011159       -0.177186        -0.080445  \n",
       "meter_reading      0.111837        -0.004132        0.006024        -0.003330  \n",
       "site_id           -0.212378        -0.307199       -0.179160        -0.135186  \n",
       "square_feet        0.135717        -0.015665       -0.041162        -0.023385  \n",
       "year_built         1.000000         0.174156        0.062713         0.117523  \n",
       "air_temperature    0.174156         1.000000        0.045196         0.750640  \n",
       "cloud_coverage     0.062713         0.045196        1.000000         0.132972  \n",
       "dew_temperature    0.117523         0.750640        0.132972         1.000000  "
      ]
     },
     "execution_count": 22,
     "metadata": {},
     "output_type": "execute_result"
    }
   ],
   "source": [
    "train.corr()"
   ]
  },
  {
   "cell_type": "markdown",
   "id": "administrative-flower",
   "metadata": {
    "execution": {
     "iopub.execute_input": "2021-06-09T04:35:08.004653Z",
     "iopub.status.busy": "2021-06-09T04:35:08.004275Z",
     "iopub.status.idle": "2021-06-09T04:35:08.008716Z",
     "shell.execute_reply": "2021-06-09T04:35:08.007602Z",
     "shell.execute_reply.started": "2021-06-09T04:35:08.004621Z"
    },
    "papermill": {
     "duration": 0.061369,
     "end_time": "2021-06-09T06:55:46.745626",
     "exception": false,
     "start_time": "2021-06-09T06:55:46.684257",
     "status": "completed"
    },
    "tags": []
   },
   "source": [
    "# Visualization"
   ]
  },
  {
   "cell_type": "code",
   "execution_count": 23,
   "id": "reduced-challenge",
   "metadata": {
    "execution": {
     "iopub.execute_input": "2021-06-09T06:55:46.876913Z",
     "iopub.status.busy": "2021-06-09T06:55:46.876159Z",
     "iopub.status.idle": "2021-06-09T06:55:46.879358Z",
     "shell.execute_reply": "2021-06-09T06:55:46.878712Z",
     "shell.execute_reply.started": "2021-06-09T06:43:02.449303Z"
    },
    "papermill": {
     "duration": 0.072068,
     "end_time": "2021-06-09T06:55:46.879507",
     "exception": false,
     "start_time": "2021-06-09T06:55:46.807439",
     "status": "completed"
    },
    "tags": []
   },
   "outputs": [],
   "source": [
    "sns.set()"
   ]
  },
  {
   "cell_type": "code",
   "execution_count": 24,
   "id": "amino-screening",
   "metadata": {
    "execution": {
     "iopub.execute_input": "2021-06-09T06:55:47.008157Z",
     "iopub.status.busy": "2021-06-09T06:55:47.007489Z",
     "iopub.status.idle": "2021-06-09T06:55:59.396887Z",
     "shell.execute_reply": "2021-06-09T06:55:59.395854Z",
     "shell.execute_reply.started": "2021-06-09T06:43:02.457651Z"
    },
    "papermill": {
     "duration": 12.454497,
     "end_time": "2021-06-09T06:55:59.397042",
     "exception": false,
     "start_time": "2021-06-09T06:55:46.942545",
     "status": "completed"
    },
    "tags": []
   },
   "outputs": [],
   "source": [
    "train['timestamp'] = pd.to_datetime(train['timestamp'])\n",
    "test['timestamp'] = pd.to_datetime(test['timestamp'])"
   ]
  },
  {
   "cell_type": "code",
   "execution_count": 25,
   "id": "colonial-carbon",
   "metadata": {
    "execution": {
     "iopub.execute_input": "2021-06-09T06:55:59.527128Z",
     "iopub.status.busy": "2021-06-09T06:55:59.526091Z",
     "iopub.status.idle": "2021-06-09T06:55:59.529270Z",
     "shell.execute_reply": "2021-06-09T06:55:59.528771Z",
     "shell.execute_reply.started": "2021-06-09T06:43:14.928307Z"
    },
    "papermill": {
     "duration": 0.070038,
     "end_time": "2021-06-09T06:55:59.529439",
     "exception": false,
     "start_time": "2021-06-09T06:55:59.459401",
     "status": "completed"
    },
    "tags": []
   },
   "outputs": [],
   "source": [
    "# 7月以降、メータの数値が低いのが気になる、外れ値の可能性はないか"
   ]
  },
  {
   "cell_type": "code",
   "execution_count": 26,
   "id": "determined-minnesota",
   "metadata": {
    "execution": {
     "iopub.execute_input": "2021-06-09T06:55:59.681480Z",
     "iopub.status.busy": "2021-06-09T06:55:59.680766Z",
     "iopub.status.idle": "2021-06-09T06:56:02.705186Z",
     "shell.execute_reply": "2021-06-09T06:56:02.705812Z",
     "shell.execute_reply.started": "2021-06-09T06:43:14.934542Z"
    },
    "papermill": {
     "duration": 3.114072,
     "end_time": "2021-06-09T06:56:02.705986",
     "exception": false,
     "start_time": "2021-06-09T06:55:59.591914",
     "status": "completed"
    },
    "tags": []
   },
   "outputs": [
    {
     "data": {
      "text/plain": [
       "<matplotlib.legend.Legend at 0x7f8ab72c8d50>"
      ]
     },
     "execution_count": 26,
     "metadata": {},
     "output_type": "execute_result"
    },
    {
     "data": {
      "image/png": "[encoded data removed]",
      "text/plain": [
       "<Figure size 576x288 with 1 Axes>"
      ]
     },
     "metadata": {},
     "output_type": "display_data"
    }
   ],
   "source": [
    "fig, axes = plt.subplots(figsize=(8, 4))\n",
    "train[['timestamp', 'meter_reading']].set_index('timestamp').resample('H').mean()['meter_reading'].plot(ax=axes, label='hour', alpha=0.8).set_ylabel('Meter reading', fontsize=14)\n",
    "train[['timestamp', 'meter_reading']].set_index('timestamp').resample('D').mean()['meter_reading'].plot(ax=axes, label='day', alpha=0.8).set_ylabel('Meter reading', fontsize=14)\n",
    "axes.legend()"
   ]
  },
  {
   "cell_type": "code",
   "execution_count": 27,
   "id": "agreed-metadata",
   "metadata": {
    "execution": {
     "iopub.execute_input": "2021-06-09T06:56:02.838654Z",
     "iopub.status.busy": "2021-06-09T06:56:02.837656Z",
     "iopub.status.idle": "2021-06-09T06:56:04.938034Z",
     "shell.execute_reply": "2021-06-09T06:56:04.937470Z",
     "shell.execute_reply.started": "2021-06-09T06:43:17.925316Z"
    },
    "papermill": {
     "duration": 2.167593,
     "end_time": "2021-06-09T06:56:04.938214",
     "exception": false,
     "start_time": "2021-06-09T06:56:02.770621",
     "status": "completed"
    },
    "tags": []
   },
   "outputs": [
    {
     "data": {
      "text/plain": [
       "<matplotlib.legend.Legend at 0x7f8ab67e5890>"
      ]
     },
     "execution_count": 27,
     "metadata": {},
     "output_type": "execute_result"
    },
    {
     "data": {
      "image/png": "[encoded data removed]",
      "text/plain": [
       "<Figure size 576x288 with 1 Axes>"
      ]
     },
     "metadata": {},
     "output_type": "display_data"
    }
   ],
   "source": [
    "fig, axes = plt.subplots(figsize=(8, 4))\n",
    "train[['timestamp', 'meter_reading']].set_index('timestamp').resample('W').mean()['meter_reading'].plot(ax=axes, label='week', alpha=1).set_ylabel('Meter reading', fontsize=14)\n",
    "train[['timestamp', 'meter_reading']].set_index('timestamp').resample('M').mean()['meter_reading'].plot(ax=axes, label='month', alpha=1).set_ylabel('Meter reading', fontsize=14)\n",
    "axes.legend()"
   ]
  },
  {
   "cell_type": "markdown",
   "id": "useful-harmony",
   "metadata": {
    "papermill": {
     "duration": 0.065883,
     "end_time": "2021-06-09T06:56:05.069952",
     "exception": false,
     "start_time": "2021-06-09T06:56:05.004069",
     "status": "completed"
    },
    "tags": []
   },
   "source": [
    "# Feature Engineering"
   ]
  },
  {
   "cell_type": "code",
   "execution_count": 28,
   "id": "bored-buffer",
   "metadata": {
    "execution": {
     "iopub.execute_input": "2021-06-09T06:56:05.210626Z",
     "iopub.status.busy": "2021-06-09T06:56:05.209925Z",
     "iopub.status.idle": "2021-06-09T06:56:12.803316Z",
     "shell.execute_reply": "2021-06-09T06:56:12.802754Z",
     "shell.execute_reply.started": "2021-06-09T06:43:19.993074Z"
    },
    "papermill": {
     "duration": 7.667314,
     "end_time": "2021-06-09T06:56:12.803483",
     "exception": false,
     "start_time": "2021-06-09T06:56:05.136169",
     "status": "completed"
    },
    "tags": []
   },
   "outputs": [],
   "source": [
    "train['hour'] = train['timestamp'].dt.hour\n",
    "train['day'] = train['timestamp'].dt.day\n",
    "train['weekend'] = train['timestamp'].dt.weekday\n",
    "train['month'] = train['timestamp'].dt.month"
   ]
  },
  {
   "cell_type": "code",
   "execution_count": 29,
   "id": "bearing-string",
   "metadata": {
    "execution": {
     "iopub.execute_input": "2021-06-09T06:56:12.940180Z",
     "iopub.status.busy": "2021-06-09T06:56:12.939510Z",
     "iopub.status.idle": "2021-06-09T06:56:12.942664Z",
     "shell.execute_reply": "2021-06-09T06:56:12.942025Z",
     "shell.execute_reply.started": "2021-06-09T06:43:27.622531Z"
    },
    "papermill": {
     "duration": 0.073311,
     "end_time": "2021-06-09T06:56:12.942799",
     "exception": false,
     "start_time": "2021-06-09T06:56:12.869488",
     "status": "completed"
    },
    "tags": []
   },
   "outputs": [],
   "source": [
    "# ラグ特徴量"
   ]
  },
  {
   "cell_type": "code",
   "execution_count": 30,
   "id": "underlying-camcorder",
   "metadata": {
    "execution": {
     "iopub.execute_input": "2021-06-09T06:56:13.081229Z",
     "iopub.status.busy": "2021-06-09T06:56:13.080516Z",
     "iopub.status.idle": "2021-06-09T06:56:20.057010Z",
     "shell.execute_reply": "2021-06-09T06:56:20.057523Z",
     "shell.execute_reply.started": "2021-06-09T06:43:27.629017Z"
    },
    "papermill": {
     "duration": 7.048406,
     "end_time": "2021-06-09T06:56:20.057716",
     "exception": false,
     "start_time": "2021-06-09T06:56:13.009310",
     "status": "completed"
    },
    "tags": []
   },
   "outputs": [
    {
     "name": "stdout",
     "output_type": "stream",
     "text": [
      "Memory usage of dataframe is 1927.96 MB\n",
      "Memory usage after optimization is: 771.18 MB\n",
      "Decreased by 60.0%\n"
     ]
    }
   ],
   "source": [
    "train = train.drop(['timestamp', 'site_id'], axis=1)\n",
    "gc.collect()\n",
    "\n",
    "train = reduce_mem_usage(train)"
   ]
  },
  {
   "cell_type": "code",
   "execution_count": 31,
   "id": "judicial-picking",
   "metadata": {
    "execution": {
     "iopub.execute_input": "2021-06-09T06:56:20.210618Z",
     "iopub.status.busy": "2021-06-09T06:56:20.203235Z",
     "iopub.status.idle": "2021-06-09T06:56:20.216007Z",
     "shell.execute_reply": "2021-06-09T06:56:20.216663Z",
     "shell.execute_reply.started": "2021-06-09T06:43:34.649496Z"
    },
    "papermill": {
     "duration": 0.09171,
     "end_time": "2021-06-09T06:56:20.216857",
     "exception": false,
     "start_time": "2021-06-09T06:56:20.125147",
     "status": "completed"
    },
    "tags": []
   },
   "outputs": [
    {
     "name": "stdout",
     "output_type": "stream",
     "text": [
      "(20216100, 13)\n"
     ]
    },
    {
     "data": {
      "text/html": [
       "<div>\n",
       "<style scoped>\n",
       "    .dataframe tbody tr th:only-of-type {\n",
       "        vertical-align: middle;\n",
       "    }\n",
       "\n",
       "    .dataframe tbody tr th {\n",
       "        vertical-align: top;\n",
       "    }\n",
       "\n",
       "    .dataframe thead th {\n",
       "        text-align: right;\n",
       "    }\n",
       "</style>\n",
       "<table border=\"1\" class=\"dataframe\">\n",
       "  <thead>\n",
       "    <tr style=\"text-align: right;\">\n",
       "      <th></th>\n",
       "      <th>building_id</th>\n",
       "      <th>meter</th>\n",
       "      <th>meter_reading</th>\n",
       "      <th>primary_use</th>\n",
       "      <th>square_feet</th>\n",
       "      <th>year_built</th>\n",
       "      <th>air_temperature</th>\n",
       "      <th>cloud_coverage</th>\n",
       "      <th>dew_temperature</th>\n",
       "      <th>hour</th>\n",
       "      <th>day</th>\n",
       "      <th>weekend</th>\n",
       "      <th>month</th>\n",
       "    </tr>\n",
       "  </thead>\n",
       "  <tbody>\n",
       "    <tr>\n",
       "      <th>0</th>\n",
       "      <td>0</td>\n",
       "      <td>0</td>\n",
       "      <td>0.0</td>\n",
       "      <td>Education</td>\n",
       "      <td>7432</td>\n",
       "      <td>2008.0</td>\n",
       "      <td>25.0</td>\n",
       "      <td>6.0</td>\n",
       "      <td>20.0</td>\n",
       "      <td>0</td>\n",
       "      <td>1</td>\n",
       "      <td>4</td>\n",
       "      <td>1</td>\n",
       "    </tr>\n",
       "    <tr>\n",
       "      <th>1</th>\n",
       "      <td>1</td>\n",
       "      <td>0</td>\n",
       "      <td>0.0</td>\n",
       "      <td>Education</td>\n",
       "      <td>2720</td>\n",
       "      <td>2004.0</td>\n",
       "      <td>25.0</td>\n",
       "      <td>6.0</td>\n",
       "      <td>20.0</td>\n",
       "      <td>0</td>\n",
       "      <td>1</td>\n",
       "      <td>4</td>\n",
       "      <td>1</td>\n",
       "    </tr>\n",
       "    <tr>\n",
       "      <th>2</th>\n",
       "      <td>2</td>\n",
       "      <td>0</td>\n",
       "      <td>0.0</td>\n",
       "      <td>Education</td>\n",
       "      <td>5376</td>\n",
       "      <td>1991.0</td>\n",
       "      <td>25.0</td>\n",
       "      <td>6.0</td>\n",
       "      <td>20.0</td>\n",
       "      <td>0</td>\n",
       "      <td>1</td>\n",
       "      <td>4</td>\n",
       "      <td>1</td>\n",
       "    </tr>\n",
       "    <tr>\n",
       "      <th>3</th>\n",
       "      <td>3</td>\n",
       "      <td>0</td>\n",
       "      <td>0.0</td>\n",
       "      <td>Education</td>\n",
       "      <td>23685</td>\n",
       "      <td>2002.0</td>\n",
       "      <td>25.0</td>\n",
       "      <td>6.0</td>\n",
       "      <td>20.0</td>\n",
       "      <td>0</td>\n",
       "      <td>1</td>\n",
       "      <td>4</td>\n",
       "      <td>1</td>\n",
       "    </tr>\n",
       "    <tr>\n",
       "      <th>4</th>\n",
       "      <td>4</td>\n",
       "      <td>0</td>\n",
       "      <td>0.0</td>\n",
       "      <td>Education</td>\n",
       "      <td>116607</td>\n",
       "      <td>1975.0</td>\n",
       "      <td>25.0</td>\n",
       "      <td>6.0</td>\n",
       "      <td>20.0</td>\n",
       "      <td>0</td>\n",
       "      <td>1</td>\n",
       "      <td>4</td>\n",
       "      <td>1</td>\n",
       "    </tr>\n",
       "  </tbody>\n",
       "</table>\n",
       "</div>"
      ],
      "text/plain": [
       "   building_id  meter  meter_reading primary_use  square_feet  year_built  \\\n",
       "0            0      0            0.0   Education         7432      2008.0   \n",
       "1            1      0            0.0   Education         2720      2004.0   \n",
       "2            2      0            0.0   Education         5376      1991.0   \n",
       "3            3      0            0.0   Education        23685      2002.0   \n",
       "4            4      0            0.0   Education       116607      1975.0   \n",
       "\n",
       "   air_temperature  cloud_coverage  dew_temperature  hour  day  weekend  month  \n",
       "0             25.0             6.0             20.0     0    1        4      1  \n",
       "1             25.0             6.0             20.0     0    1        4      1  \n",
       "2             25.0             6.0             20.0     0    1        4      1  \n",
       "3             25.0             6.0             20.0     0    1        4      1  \n",
       "4             25.0             6.0             20.0     0    1        4      1  "
      ]
     },
     "execution_count": 31,
     "metadata": {},
     "output_type": "execute_result"
    }
   ],
   "source": [
    "print(train.shape)\n",
    "train.head()"
   ]
  },
  {
   "cell_type": "markdown",
   "id": "minute-protection",
   "metadata": {
    "papermill": {
     "duration": 0.067165,
     "end_time": "2021-06-09T06:56:20.351229",
     "exception": false,
     "start_time": "2021-06-09T06:56:20.284064",
     "status": "completed"
    },
    "tags": []
   },
   "source": [
    "# Preprocess"
   ]
  },
  {
   "cell_type": "code",
   "execution_count": 32,
   "id": "wireless-rapid",
   "metadata": {
    "execution": {
     "iopub.execute_input": "2021-06-09T06:56:20.490023Z",
     "iopub.status.busy": "2021-06-09T06:56:20.489401Z",
     "iopub.status.idle": "2021-06-09T06:56:20.492577Z",
     "shell.execute_reply": "2021-06-09T06:56:20.491930Z",
     "shell.execute_reply.started": "2021-06-09T06:43:34.671381Z"
    },
    "papermill": {
     "duration": 0.074301,
     "end_time": "2021-06-09T06:56:20.492718",
     "exception": false,
     "start_time": "2021-06-09T06:56:20.418417",
     "status": "completed"
    },
    "tags": []
   },
   "outputs": [],
   "source": [
    "# drop_col = ['precip_depth_1_hr', 'sea_level_pressure', 'wind_direction', 'wind_speed', 'floor_count']      "
   ]
  },
  {
   "cell_type": "code",
   "execution_count": 33,
   "id": "individual-inquiry",
   "metadata": {
    "execution": {
     "iopub.execute_input": "2021-06-09T06:56:20.634292Z",
     "iopub.status.busy": "2021-06-09T06:56:20.633614Z",
     "iopub.status.idle": "2021-06-09T06:56:20.636338Z",
     "shell.execute_reply": "2021-06-09T06:56:20.635738Z",
     "shell.execute_reply.started": "2021-06-09T06:43:34.682795Z"
    },
    "papermill": {
     "duration": 0.074829,
     "end_time": "2021-06-09T06:56:20.636502",
     "exception": false,
     "start_time": "2021-06-09T06:56:20.561673",
     "status": "completed"
    },
    "tags": []
   },
   "outputs": [],
   "source": [
    "# train = train.drop(drop_col, axis = 1)\n",
    "# gc.collect()"
   ]
  },
  {
   "cell_type": "code",
   "execution_count": 34,
   "id": "ahead-conference",
   "metadata": {
    "execution": {
     "iopub.execute_input": "2021-06-09T06:56:20.777998Z",
     "iopub.status.busy": "2021-06-09T06:56:20.777329Z",
     "iopub.status.idle": "2021-06-09T06:56:40.339013Z",
     "shell.execute_reply": "2021-06-09T06:56:40.338481Z",
     "shell.execute_reply.started": "2021-06-09T06:43:34.694515Z"
    },
    "papermill": {
     "duration": 19.634503,
     "end_time": "2021-06-09T06:56:40.339198",
     "exception": false,
     "start_time": "2021-06-09T06:56:20.704695",
     "status": "completed"
    },
    "tags": []
   },
   "outputs": [],
   "source": [
    "le = LabelEncoder()\n",
    "\n",
    "train['primary_use'] = le.fit_transform(train['primary_use'])\n",
    "test['primary_use'] = le.fit_transform(test['primary_use'])"
   ]
  },
  {
   "cell_type": "code",
   "execution_count": 35,
   "id": "single-deployment",
   "metadata": {
    "execution": {
     "iopub.execute_input": "2021-06-09T06:56:40.479260Z",
     "iopub.status.busy": "2021-06-09T06:56:40.478604Z",
     "iopub.status.idle": "2021-06-09T06:56:41.624465Z",
     "shell.execute_reply": "2021-06-09T06:56:41.624948Z",
     "shell.execute_reply.started": "2021-06-09T06:43:54.383032Z"
    },
    "papermill": {
     "duration": 1.218427,
     "end_time": "2021-06-09T06:56:41.625132",
     "exception": false,
     "start_time": "2021-06-09T06:56:40.406705",
     "status": "completed"
    },
    "tags": []
   },
   "outputs": [
    {
     "name": "stdout",
     "output_type": "stream",
     "text": [
      "(20216100, 12)\n"
     ]
    },
    {
     "data": {
      "text/html": [
       "<div>\n",
       "<style scoped>\n",
       "    .dataframe tbody tr th:only-of-type {\n",
       "        vertical-align: middle;\n",
       "    }\n",
       "\n",
       "    .dataframe tbody tr th {\n",
       "        vertical-align: top;\n",
       "    }\n",
       "\n",
       "    .dataframe thead th {\n",
       "        text-align: right;\n",
       "    }\n",
       "</style>\n",
       "<table border=\"1\" class=\"dataframe\">\n",
       "  <thead>\n",
       "    <tr style=\"text-align: right;\">\n",
       "      <th></th>\n",
       "      <th>building_id</th>\n",
       "      <th>meter</th>\n",
       "      <th>primary_use</th>\n",
       "      <th>square_feet</th>\n",
       "      <th>year_built</th>\n",
       "      <th>air_temperature</th>\n",
       "      <th>cloud_coverage</th>\n",
       "      <th>dew_temperature</th>\n",
       "      <th>hour</th>\n",
       "      <th>day</th>\n",
       "      <th>weekend</th>\n",
       "      <th>month</th>\n",
       "    </tr>\n",
       "  </thead>\n",
       "  <tbody>\n",
       "    <tr>\n",
       "      <th>0</th>\n",
       "      <td>0</td>\n",
       "      <td>0</td>\n",
       "      <td>0</td>\n",
       "      <td>7432</td>\n",
       "      <td>2008.0</td>\n",
       "      <td>25.0</td>\n",
       "      <td>6.0</td>\n",
       "      <td>20.0</td>\n",
       "      <td>0</td>\n",
       "      <td>1</td>\n",
       "      <td>4</td>\n",
       "      <td>1</td>\n",
       "    </tr>\n",
       "    <tr>\n",
       "      <th>1</th>\n",
       "      <td>1</td>\n",
       "      <td>0</td>\n",
       "      <td>0</td>\n",
       "      <td>2720</td>\n",
       "      <td>2004.0</td>\n",
       "      <td>25.0</td>\n",
       "      <td>6.0</td>\n",
       "      <td>20.0</td>\n",
       "      <td>0</td>\n",
       "      <td>1</td>\n",
       "      <td>4</td>\n",
       "      <td>1</td>\n",
       "    </tr>\n",
       "    <tr>\n",
       "      <th>2</th>\n",
       "      <td>2</td>\n",
       "      <td>0</td>\n",
       "      <td>0</td>\n",
       "      <td>5376</td>\n",
       "      <td>1991.0</td>\n",
       "      <td>25.0</td>\n",
       "      <td>6.0</td>\n",
       "      <td>20.0</td>\n",
       "      <td>0</td>\n",
       "      <td>1</td>\n",
       "      <td>4</td>\n",
       "      <td>1</td>\n",
       "    </tr>\n",
       "    <tr>\n",
       "      <th>3</th>\n",
       "      <td>3</td>\n",
       "      <td>0</td>\n",
       "      <td>0</td>\n",
       "      <td>23685</td>\n",
       "      <td>2002.0</td>\n",
       "      <td>25.0</td>\n",
       "      <td>6.0</td>\n",
       "      <td>20.0</td>\n",
       "      <td>0</td>\n",
       "      <td>1</td>\n",
       "      <td>4</td>\n",
       "      <td>1</td>\n",
       "    </tr>\n",
       "    <tr>\n",
       "      <th>4</th>\n",
       "      <td>4</td>\n",
       "      <td>0</td>\n",
       "      <td>0</td>\n",
       "      <td>116607</td>\n",
       "      <td>1975.0</td>\n",
       "      <td>25.0</td>\n",
       "      <td>6.0</td>\n",
       "      <td>20.0</td>\n",
       "      <td>0</td>\n",
       "      <td>1</td>\n",
       "      <td>4</td>\n",
       "      <td>1</td>\n",
       "    </tr>\n",
       "  </tbody>\n",
       "</table>\n",
       "</div>"
      ],
      "text/plain": [
       "   building_id  meter  primary_use  square_feet  year_built  air_temperature  \\\n",
       "0            0      0            0         7432      2008.0             25.0   \n",
       "1            1      0            0         2720      2004.0             25.0   \n",
       "2            2      0            0         5376      1991.0             25.0   \n",
       "3            3      0            0        23685      2002.0             25.0   \n",
       "4            4      0            0       116607      1975.0             25.0   \n",
       "\n",
       "   cloud_coverage  dew_temperature  hour  day  weekend  month  \n",
       "0             6.0             20.0     0    1        4      1  \n",
       "1             6.0             20.0     0    1        4      1  \n",
       "2             6.0             20.0     0    1        4      1  \n",
       "3             6.0             20.0     0    1        4      1  \n",
       "4             6.0             20.0     0    1        4      1  "
      ]
     },
     "execution_count": 35,
     "metadata": {},
     "output_type": "execute_result"
    }
   ],
   "source": [
    "target = np.log1p(train['meter_reading'])\n",
    "train = train.drop(['meter_reading'], axis=1)\n",
    "\n",
    "print(train.shape)\n",
    "train.head()"
   ]
  },
  {
   "cell_type": "code",
   "execution_count": 36,
   "id": "hollow-comfort",
   "metadata": {
    "execution": {
     "iopub.execute_input": "2021-06-09T06:56:41.766267Z",
     "iopub.status.busy": "2021-06-09T06:56:41.765593Z",
     "iopub.status.idle": "2021-06-09T06:56:43.302853Z",
     "shell.execute_reply": "2021-06-09T06:56:43.302287Z",
     "shell.execute_reply.started": "2021-06-09T06:43:55.534569Z"
    },
    "papermill": {
     "duration": 1.609773,
     "end_time": "2021-06-09T06:56:43.302990",
     "exception": false,
     "start_time": "2021-06-09T06:56:41.693217",
     "status": "completed"
    },
    "tags": []
   },
   "outputs": [],
   "source": [
    "train = train.reset_index(drop=True)\n",
    "test = test.reset_index(drop=True)"
   ]
  },
  {
   "cell_type": "code",
   "execution_count": 37,
   "id": "liked-regression",
   "metadata": {
    "execution": {
     "iopub.execute_input": "2021-06-09T06:56:43.578410Z",
     "iopub.status.busy": "2021-06-09T06:56:43.577602Z",
     "iopub.status.idle": "2021-06-09T06:56:43.581736Z",
     "shell.execute_reply": "2021-06-09T06:56:43.582229Z",
     "shell.execute_reply.started": "2021-06-09T06:43:57.144244Z"
    },
    "papermill": {
     "duration": 0.211226,
     "end_time": "2021-06-09T06:56:43.582401",
     "exception": false,
     "start_time": "2021-06-09T06:56:43.371175",
     "status": "completed"
    },
    "tags": []
   },
   "outputs": [
    {
     "data": {
      "text/plain": [
       "140"
      ]
     },
     "execution_count": 37,
     "metadata": {},
     "output_type": "execute_result"
    }
   ],
   "source": [
    "del le\n",
    "gc.collect()"
   ]
  },
  {
   "cell_type": "code",
   "execution_count": 38,
   "id": "mathematical-damage",
   "metadata": {
    "execution": {
     "iopub.execute_input": "2021-06-09T06:56:43.726259Z",
     "iopub.status.busy": "2021-06-09T06:56:43.725545Z",
     "iopub.status.idle": "2021-06-09T06:56:49.009272Z",
     "shell.execute_reply": "2021-06-09T06:56:49.009835Z",
     "shell.execute_reply.started": "2021-06-09T06:43:57.292082Z"
    },
    "papermill": {
     "duration": 5.359521,
     "end_time": "2021-06-09T06:56:49.010019",
     "exception": false,
     "start_time": "2021-06-09T06:56:43.650498",
     "status": "completed"
    },
    "tags": []
   },
   "outputs": [
    {
     "name": "stdout",
     "output_type": "stream",
     "text": [
      "Memory usage of dataframe is 674.79 MB\n",
      "Memory usage after optimization is: 539.83 MB\n",
      "Decreased by 20.0%\n",
      "Memory usage of dataframe is 3022.21 MB\n",
      "Memory usage after optimization is: 1471.34 MB\n",
      "Decreased by 51.3%\n"
     ]
    }
   ],
   "source": [
    "train = reduce_mem_usage(train)\n",
    "test = reduce_mem_usage(test)"
   ]
  },
  {
   "cell_type": "code",
   "execution_count": 39,
   "id": "incorporate-green",
   "metadata": {
    "execution": {
     "iopub.execute_input": "2021-06-09T06:56:49.155979Z",
     "iopub.status.busy": "2021-06-09T06:56:49.155308Z",
     "iopub.status.idle": "2021-06-09T06:56:49.157960Z",
     "shell.execute_reply": "2021-06-09T06:56:49.158651Z",
     "shell.execute_reply.started": "2021-06-09T06:44:02.546032Z"
    },
    "papermill": {
     "duration": 0.079969,
     "end_time": "2021-06-09T06:56:49.158874",
     "exception": false,
     "start_time": "2021-06-09T06:56:49.078905",
     "status": "completed"
    },
    "tags": []
   },
   "outputs": [
    {
     "name": "stdout",
     "output_type": "stream",
     "text": [
      "566050960\n",
      "1542811360\n"
     ]
    }
   ],
   "source": [
    "print(sys.getsizeof(train))\n",
    "print(sys.getsizeof(test))"
   ]
  },
  {
   "cell_type": "markdown",
   "id": "spiritual-bangladesh",
   "metadata": {
    "papermill": {
     "duration": 0.068871,
     "end_time": "2021-06-09T06:56:49.297969",
     "exception": false,
     "start_time": "2021-06-09T06:56:49.229098",
     "status": "completed"
    },
    "tags": []
   },
   "source": [
    "# Modeling"
   ]
  },
  {
   "cell_type": "code",
   "execution_count": 40,
   "id": "exempt-address",
   "metadata": {
    "execution": {
     "iopub.execute_input": "2021-06-09T06:56:49.440064Z",
     "iopub.status.busy": "2021-06-09T06:56:49.439407Z",
     "iopub.status.idle": "2021-06-09T06:56:49.446445Z",
     "shell.execute_reply": "2021-06-09T06:56:49.445903Z",
     "shell.execute_reply.started": "2021-06-09T06:44:02.559279Z"
    },
    "papermill": {
     "duration": 0.078852,
     "end_time": "2021-06-09T06:56:49.446594",
     "exception": false,
     "start_time": "2021-06-09T06:56:49.367742",
     "status": "completed"
    },
    "tags": []
   },
   "outputs": [
    {
     "data": {
      "text/plain": [
       "\"\\nX_tr, X_val, y_tr, y_val = train_test_split(train, target, test_size=0.2, random_state=666)\\n\\ndef create_model(trial):\\n    num_leaves = trial.suggest_int('num_leaves', 2, 31)\\n    n_estimators = trial.suggest_int('n_estimators', 50, 300)\\n    learning_rate = trial.suggest_uniform('learning_rate', 0.0001, 0.99)\\n    max_depth = trial.suggest_int('max_depth', 3, 8)\\n    min_child_samples = trial.suggest_int('min_child_samples', 100, 1200)\\n    min_data_in_leaf = trial.suggest_int('min_data_in_leaf', 5, 90)\\n    bagging_freq = trial.suggest_int('bagging_freq', 1, 7)\\n    bagging_fraction = trial.suggest_uniform('bagging_fraction', 0.0001, 1.0)\\n    feature_fraction = trial.suggest_uniform('feature_fraction', 0.0001, 1.0)\\n    subsample = trial.suggest_uniform('subsample', 0.1, 1.0)\\n    colsample_bytree = trial.suggest_uniform('colsample_bytree', 0.1, 1.0)\\n    \\n    model = lgb.LGBMRegressor(\\n        num_leaves=num_leaves,\\n        n_estimators=n_estimators,\\n        learning_rate=learning_rate,\\n        max_depth=max_depth, \\n        min_child_samples=min_child_samples, \\n        min_data_in_leaf=min_data_in_leaf,\\n        bagging_freq=bagging_freq,\\n        bagging_fraction=bagging_fraction,\\n        feature_fraction=feature_fraction,\\n        subsample=subsample,\\n        colsample_bytree=colsample_bytree,\\n        metric='rsme',\\n        random_state=666)\\n    return model\\n\\ndef objective(trial):\\n    model = create_model(trial)\\n    model.fit(X_tr, y_tr)\\n    y_pred = model.predict(X_val)\\n    rsme = np.sqrt(mean_squared_error(y_pred, y_val))\\n    return rsme\\n\\nstudy = optuna.create_study(direction='minimize')\\nstudy.optimize(objective, n_trials=40)\\nparams = study.best_params\\nprint(params)\\n\""
      ]
     },
     "execution_count": 40,
     "metadata": {},
     "output_type": "execute_result"
    }
   ],
   "source": [
    "'''\n",
    "X_tr, X_val, y_tr, y_val = train_test_split(train, target, test_size=0.2, random_state=666)\n",
    "\n",
    "def create_model(trial):\n",
    "    num_leaves = trial.suggest_int('num_leaves', 2, 31)\n",
    "    n_estimators = trial.suggest_int('n_estimators', 50, 300)\n",
    "    learning_rate = trial.suggest_uniform('learning_rate', 0.0001, 0.99)\n",
    "    max_depth = trial.suggest_int('max_depth', 3, 8)\n",
    "    min_child_samples = trial.suggest_int('min_child_samples', 100, 1200)\n",
    "    min_data_in_leaf = trial.suggest_int('min_data_in_leaf', 5, 90)\n",
    "    bagging_freq = trial.suggest_int('bagging_freq', 1, 7)\n",
    "    bagging_fraction = trial.suggest_uniform('bagging_fraction', 0.0001, 1.0)\n",
    "    feature_fraction = trial.suggest_uniform('feature_fraction', 0.0001, 1.0)\n",
    "    subsample = trial.suggest_uniform('subsample', 0.1, 1.0)\n",
    "    colsample_bytree = trial.suggest_uniform('colsample_bytree', 0.1, 1.0)\n",
    "    \n",
    "    model = lgb.LGBMRegressor(\n",
    "        num_leaves=num_leaves,\n",
    "        n_estimators=n_estimators,\n",
    "        learning_rate=learning_rate,\n",
    "        max_depth=max_depth, \n",
    "        min_child_samples=min_child_samples, \n",
    "        min_data_in_leaf=min_data_in_leaf,\n",
    "        bagging_freq=bagging_freq,\n",
    "        bagging_fraction=bagging_fraction,\n",
    "        feature_fraction=feature_fraction,\n",
    "        subsample=subsample,\n",
    "        colsample_bytree=colsample_bytree,\n",
    "        metric='rsme',\n",
    "        random_state=666)\n",
    "    return model\n",
    "\n",
    "def objective(trial):\n",
    "    model = create_model(trial)\n",
    "    model.fit(X_tr, y_tr)\n",
    "    y_pred = model.predict(X_val)\n",
    "    rsme = np.sqrt(mean_squared_error(y_pred, y_val))\n",
    "    return rsme\n",
    "\n",
    "study = optuna.create_study(direction='minimize')\n",
    "study.optimize(objective, n_trials=40)\n",
    "params = study.best_params\n",
    "print(params)\n",
    "'''"
   ]
  },
  {
   "cell_type": "code",
   "execution_count": 41,
   "id": "suffering-queue",
   "metadata": {
    "execution": {
     "iopub.execute_input": "2021-06-09T06:56:49.594144Z",
     "iopub.status.busy": "2021-06-09T06:56:49.593425Z",
     "iopub.status.idle": "2021-06-09T06:56:49.596372Z",
     "shell.execute_reply": "2021-06-09T06:56:49.595837Z",
     "shell.execute_reply.started": "2021-06-09T06:44:02.581597Z"
    },
    "papermill": {
     "duration": 0.080206,
     "end_time": "2021-06-09T06:56:49.596520",
     "exception": false,
     "start_time": "2021-06-09T06:56:49.516314",
     "status": "completed"
    },
    "tags": []
   },
   "outputs": [],
   "source": [
    "params = {'num_leaves': 27,\n",
    "          'n_estimators': 263,\n",
    "          'learning_rate': 0.16348994934438152,\n",
    "          'max_depth': 7,\n",
    "          'min_child_samples': 168,\n",
    "          'min_data_in_leaf': 65,\n",
    "          'bagging_freq': 4,\n",
    "          'bagging_fraction': 0.18401200096444287,\n",
    "          'feature_fraction': 0.8221516236454854,\n",
    "          'subsample': 0.3486200480190973,\n",
    "          'colsample_bytree': 0.9135850678665222,\n",
    "          'random_state': 666}"
   ]
  },
  {
   "cell_type": "code",
   "execution_count": 42,
   "id": "young-fiction",
   "metadata": {
    "execution": {
     "iopub.execute_input": "2021-06-09T06:56:49.741833Z",
     "iopub.status.busy": "2021-06-09T06:56:49.741155Z",
     "iopub.status.idle": "2021-06-09T06:59:15.038922Z",
     "shell.execute_reply": "2021-06-09T06:59:15.039450Z",
     "shell.execute_reply.started": "2021-06-09T06:44:02.596864Z"
    },
    "papermill": {
     "duration": 145.373087,
     "end_time": "2021-06-09T06:59:15.039637",
     "exception": false,
     "start_time": "2021-06-09T06:56:49.666550",
     "status": "completed"
    },
    "tags": []
   },
   "outputs": [
    {
     "name": "stdout",
     "output_type": "stream",
     "text": [
      "[LightGBM] [Warning] bagging_fraction is set=0.18401200096444287, subsample=0.3486200480190973 will be ignored. Current value: bagging_fraction=0.18401200096444287\n",
      "[LightGBM] [Warning] feature_fraction is set=0.8221516236454854, colsample_bytree=0.9135850678665222 will be ignored. Current value: feature_fraction=0.8221516236454854\n",
      "[LightGBM] [Warning] bagging_freq is set=4, subsample_freq=0 will be ignored. Current value: bagging_freq=4\n",
      "[LightGBM] [Warning] min_data_in_leaf is set=65, min_child_samples=168 will be ignored. Current value: min_data_in_leaf=65\n"
     ]
    },
    {
     "data": {
      "text/plain": [
       "LGBMRegressor(bagging_fraction=0.18401200096444287, bagging_freq=4,\n",
       "              colsample_bytree=0.9135850678665222,\n",
       "              feature_fraction=0.8221516236454854,\n",
       "              learning_rate=0.16348994934438152, max_depth=7,\n",
       "              min_child_samples=168, min_data_in_leaf=65, n_estimators=263,\n",
       "              num_leaves=27, random_state=666, subsample=0.3486200480190973)"
      ]
     },
     "execution_count": 42,
     "metadata": {},
     "output_type": "execute_result"
    }
   ],
   "source": [
    "cls = lgb.LGBMRegressor(**params)\n",
    "cls.fit(train, target)"
   ]
  },
  {
   "cell_type": "code",
   "execution_count": 43,
   "id": "insured-wedding",
   "metadata": {
    "execution": {
     "iopub.execute_input": "2021-06-09T06:59:15.329378Z",
     "iopub.status.busy": "2021-06-09T06:59:15.328421Z",
     "iopub.status.idle": "2021-06-09T06:59:15.332312Z",
     "shell.execute_reply": "2021-06-09T06:59:15.332767Z",
     "shell.execute_reply.started": "2021-06-09T06:46:26.971145Z"
    },
    "papermill": {
     "duration": 0.222403,
     "end_time": "2021-06-09T06:59:15.332952",
     "exception": false,
     "start_time": "2021-06-09T06:59:15.110549",
     "status": "completed"
    },
    "tags": []
   },
   "outputs": [
    {
     "data": {
      "text/plain": [
       "79"
      ]
     },
     "execution_count": 43,
     "metadata": {},
     "output_type": "execute_result"
    }
   ],
   "source": [
    "del train, target, params\n",
    "gc.collect()"
   ]
  },
  {
   "cell_type": "code",
   "execution_count": 44,
   "id": "unlimited-reconstruction",
   "metadata": {
    "execution": {
     "iopub.execute_input": "2021-06-09T06:59:15.484004Z",
     "iopub.status.busy": "2021-06-09T06:59:15.483037Z",
     "iopub.status.idle": "2021-06-09T06:59:15.757299Z",
     "shell.execute_reply": "2021-06-09T06:59:15.756694Z"
    },
    "papermill": {
     "duration": 0.350834,
     "end_time": "2021-06-09T06:59:15.757458",
     "exception": false,
     "start_time": "2021-06-09T06:59:15.406624",
     "status": "completed"
    },
    "tags": []
   },
   "outputs": [
    {
     "data": {
      "image/png": "[encoded data removed]",
      "text/plain": [
       "<Figure size 432x288 with 1 Axes>"
      ]
     },
     "metadata": {},
     "output_type": "display_data"
    }
   ],
   "source": [
    "lgb.plot_importance(cls)\n",
    "plt.show()"
   ]
  },
  {
   "cell_type": "markdown",
   "id": "applied-frame",
   "metadata": {
    "papermill": {
     "duration": 0.071752,
     "end_time": "2021-06-09T06:59:15.902748",
     "exception": false,
     "start_time": "2021-06-09T06:59:15.830996",
     "status": "completed"
    },
    "tags": []
   },
   "source": [
    "# Submit"
   ]
  },
  {
   "cell_type": "code",
   "execution_count": 45,
   "id": "sufficient-prison",
   "metadata": {
    "execution": {
     "iopub.execute_input": "2021-06-09T06:59:16.052833Z",
     "iopub.status.busy": "2021-06-09T06:59:16.052082Z",
     "iopub.status.idle": "2021-06-09T06:59:17.718481Z",
     "shell.execute_reply": "2021-06-09T06:59:17.717945Z",
     "shell.execute_reply.started": "2021-06-09T06:46:27.125451Z"
    },
    "papermill": {
     "duration": 1.743601,
     "end_time": "2021-06-09T06:59:17.718632",
     "exception": false,
     "start_time": "2021-06-09T06:59:15.975031",
     "status": "completed"
    },
    "tags": []
   },
   "outputs": [
    {
     "data": {
      "text/plain": [
       "4743"
      ]
     },
     "execution_count": 45,
     "metadata": {},
     "output_type": "execute_result"
    }
   ],
   "source": [
    "row_id = test['row_id']\n",
    "\n",
    "test = test.drop(['row_id'], axis = 1)\n",
    "gc.collect()"
   ]
  },
  {
   "cell_type": "code",
   "execution_count": 46,
   "id": "electric-graduation",
   "metadata": {
    "execution": {
     "iopub.execute_input": "2021-06-09T06:59:17.878293Z",
     "iopub.status.busy": "2021-06-09T06:59:17.877625Z",
     "iopub.status.idle": "2021-06-09T06:59:33.841681Z",
     "shell.execute_reply": "2021-06-09T06:59:33.842161Z",
     "shell.execute_reply.started": "2021-06-09T06:46:28.802127Z"
    },
    "papermill": {
     "duration": 16.051064,
     "end_time": "2021-06-09T06:59:33.842357",
     "exception": false,
     "start_time": "2021-06-09T06:59:17.791293",
     "status": "completed"
    },
    "tags": []
   },
   "outputs": [],
   "source": [
    "test['hour'] = test['timestamp'].dt.hour\n",
    "test['day'] = test['timestamp'].dt.day\n",
    "test['weekend'] = test['timestamp'].dt.weekday\n",
    "test['month'] = test['timestamp'].dt.month"
   ]
  },
  {
   "cell_type": "code",
   "execution_count": 47,
   "id": "willing-latino",
   "metadata": {
    "execution": {
     "iopub.execute_input": "2021-06-09T06:59:33.995397Z",
     "iopub.status.busy": "2021-06-09T06:59:33.994740Z",
     "iopub.status.idle": "2021-06-09T06:59:36.157584Z",
     "shell.execute_reply": "2021-06-09T06:59:36.156995Z",
     "shell.execute_reply.started": "2021-06-09T06:46:44.716722Z"
    },
    "papermill": {
     "duration": 2.241927,
     "end_time": "2021-06-09T06:59:36.157730",
     "exception": false,
     "start_time": "2021-06-09T06:59:33.915803",
     "status": "completed"
    },
    "tags": []
   },
   "outputs": [
    {
     "data": {
      "text/plain": [
       "55"
      ]
     },
     "execution_count": 47,
     "metadata": {},
     "output_type": "execute_result"
    }
   ],
   "source": [
    "test = test.drop(['timestamp', 'site_id'], axis=1)\n",
    "gc.collect()"
   ]
  },
  {
   "cell_type": "code",
   "execution_count": 48,
   "id": "scheduled-aging",
   "metadata": {
    "execution": {
     "iopub.execute_input": "2021-06-09T06:59:36.310539Z",
     "iopub.status.busy": "2021-06-09T06:59:36.309848Z",
     "iopub.status.idle": "2021-06-09T06:59:41.367986Z",
     "shell.execute_reply": "2021-06-09T06:59:41.368691Z",
     "shell.execute_reply.started": "2021-06-09T06:46:47.081920Z"
    },
    "papermill": {
     "duration": 5.136978,
     "end_time": "2021-06-09T06:59:41.368935",
     "exception": false,
     "start_time": "2021-06-09T06:59:36.231957",
     "status": "completed"
    },
    "tags": []
   },
   "outputs": [
    {
     "name": "stdout",
     "output_type": "stream",
     "text": [
      "Memory usage of dataframe is 2226.89 MB\n",
      "Memory usage after optimization is: 1113.45 MB\n",
      "Decreased by 50.0%\n"
     ]
    }
   ],
   "source": [
    "row_id = row_id.reset_index(drop=True)\n",
    "test = test.reset_index(drop=True)\n",
    "\n",
    "test = reduce_mem_usage(test)"
   ]
  },
  {
   "cell_type": "code",
   "execution_count": 49,
   "id": "expensive-deficit",
   "metadata": {
    "_kg_hide-input": true,
    "_kg_hide-output": true,
    "execution": {
     "iopub.execute_input": "2021-06-09T06:59:41.526392Z",
     "iopub.status.busy": "2021-06-09T06:59:41.525651Z",
     "iopub.status.idle": "2021-06-09T06:59:41.529879Z",
     "shell.execute_reply": "2021-06-09T06:59:41.529225Z",
     "shell.execute_reply.started": "2021-06-09T06:46:51.800924Z"
    },
    "papermill": {
     "duration": 0.086397,
     "end_time": "2021-06-09T06:59:41.530023",
     "exception": false,
     "start_time": "2021-06-09T06:59:41.443626",
     "status": "completed"
    },
    "tags": []
   },
   "outputs": [
    {
     "name": "stdout",
     "output_type": "stream",
     "text": [
      "166790560\n",
      "1167532960\n"
     ]
    }
   ],
   "source": [
    "print(sys.getsizeof(row_id))\n",
    "print(sys.getsizeof(test))"
   ]
  },
  {
   "cell_type": "code",
   "execution_count": 50,
   "id": "better-forest",
   "metadata": {
    "execution": {
     "iopub.execute_input": "2021-06-09T06:59:41.687686Z",
     "iopub.status.busy": "2021-06-09T06:59:41.686997Z",
     "iopub.status.idle": "2021-06-09T06:59:41.690806Z",
     "shell.execute_reply": "2021-06-09T06:59:41.691308Z",
     "shell.execute_reply.started": "2021-06-09T06:46:51.809778Z"
    },
    "papermill": {
     "duration": 0.084981,
     "end_time": "2021-06-09T06:59:41.691493",
     "exception": false,
     "start_time": "2021-06-09T06:59:41.606512",
     "status": "completed"
    },
    "tags": []
   },
   "outputs": [
    {
     "data": {
      "text/plain": [
       "Index                    128\n",
       "building_id         83395200\n",
       "meter               41697600\n",
       "primary_use         41697600\n",
       "square_feet        166790400\n",
       "year_built         166790400\n",
       "air_temperature    166790400\n",
       "cloud_coverage     166790400\n",
       "dew_temperature    166790400\n",
       "hour                41697600\n",
       "day                 41697600\n",
       "weekend             41697600\n",
       "month               41697600\n",
       "dtype: int64"
      ]
     },
     "execution_count": 50,
     "metadata": {},
     "output_type": "execute_result"
    }
   ],
   "source": [
    "test.memory_usage()"
   ]
  },
  {
   "cell_type": "code",
   "execution_count": 51,
   "id": "respective-dress",
   "metadata": {
    "_kg_hide-input": true,
    "_kg_hide-output": true,
    "execution": {
     "iopub.execute_input": "2021-06-09T06:59:41.880584Z",
     "iopub.status.busy": "2021-06-09T06:59:41.868630Z",
     "iopub.status.idle": "2021-06-09T06:59:41.885893Z",
     "shell.execute_reply": "2021-06-09T06:59:41.885072Z",
     "shell.execute_reply.started": "2021-06-09T06:46:51.825605Z"
    },
    "papermill": {
     "duration": 0.119142,
     "end_time": "2021-06-09T06:59:41.886101",
     "exception": false,
     "start_time": "2021-06-09T06:59:41.766959",
     "status": "completed"
    },
    "tags": []
   },
   "outputs": [
    {
     "name": "stdout",
     "output_type": "stream",
     "text": [
      "            name        size\n",
      "0           test  1167532960\n",
      "1         row_id   166790560\n",
      "2            _31        1919\n",
      "3            _i9        1787\n",
      "4           _i40        1744\n",
      "..           ...         ...\n",
      "115          _14          28\n",
      "116          _12          28\n",
      "117   __loader__          16\n",
      "118  __package__          16\n",
      "119     __spec__          16\n",
      "\n",
      "[120 rows x 2 columns]\n"
     ]
    }
   ],
   "source": [
    "print(pd.DataFrame([[val for val in dir()], [sys.getsizeof(eval(val)) for val in dir()]], index=['name','size']).T.sort_values('size', ascending=False).reset_index(drop=True))"
   ]
  },
  {
   "cell_type": "code",
   "execution_count": 52,
   "id": "fatty-charlotte",
   "metadata": {
    "execution": {
     "iopub.execute_input": "2021-06-09T06:59:42.042533Z",
     "iopub.status.busy": "2021-06-09T06:59:42.041827Z",
     "iopub.status.idle": "2021-06-09T07:02:49.342527Z",
     "shell.execute_reply": "2021-06-09T07:02:49.343059Z",
     "shell.execute_reply.started": "2021-06-09T06:46:51.874428Z"
    },
    "papermill": {
     "duration": 187.382085,
     "end_time": "2021-06-09T07:02:49.343269",
     "exception": false,
     "start_time": "2021-06-09T06:59:41.961184",
     "status": "completed"
    },
    "tags": []
   },
   "outputs": [
    {
     "data": {
      "text/html": [
       "<div>\n",
       "<style scoped>\n",
       "    .dataframe tbody tr th:only-of-type {\n",
       "        vertical-align: middle;\n",
       "    }\n",
       "\n",
       "    .dataframe tbody tr th {\n",
       "        vertical-align: top;\n",
       "    }\n",
       "\n",
       "    .dataframe thead th {\n",
       "        text-align: right;\n",
       "    }\n",
       "</style>\n",
       "<table border=\"1\" class=\"dataframe\">\n",
       "  <thead>\n",
       "    <tr style=\"text-align: right;\">\n",
       "      <th></th>\n",
       "      <th>meter_reading</th>\n",
       "    </tr>\n",
       "    <tr>\n",
       "      <th>row_id</th>\n",
       "      <th></th>\n",
       "    </tr>\n",
       "  </thead>\n",
       "  <tbody>\n",
       "    <tr>\n",
       "      <th>0</th>\n",
       "      <td>-0.076428</td>\n",
       "    </tr>\n",
       "    <tr>\n",
       "      <th>1</th>\n",
       "      <td>-0.117568</td>\n",
       "    </tr>\n",
       "    <tr>\n",
       "      <th>2</th>\n",
       "      <td>-0.418607</td>\n",
       "    </tr>\n",
       "    <tr>\n",
       "      <th>3</th>\n",
       "      <td>-0.101576</td>\n",
       "    </tr>\n",
       "    <tr>\n",
       "      <th>4</th>\n",
       "      <td>-0.480145</td>\n",
       "    </tr>\n",
       "    <tr>\n",
       "      <th>5</th>\n",
       "      <td>-0.320679</td>\n",
       "    </tr>\n",
       "    <tr>\n",
       "      <th>6</th>\n",
       "      <td>-0.112892</td>\n",
       "    </tr>\n",
       "    <tr>\n",
       "      <th>7</th>\n",
       "      <td>-0.454856</td>\n",
       "    </tr>\n",
       "    <tr>\n",
       "      <th>8</th>\n",
       "      <td>164.982660</td>\n",
       "    </tr>\n",
       "    <tr>\n",
       "      <th>9</th>\n",
       "      <td>-0.456551</td>\n",
       "    </tr>\n",
       "  </tbody>\n",
       "</table>\n",
       "</div>"
      ],
      "text/plain": [
       "        meter_reading\n",
       "row_id               \n",
       "0           -0.076428\n",
       "1           -0.117568\n",
       "2           -0.418607\n",
       "3           -0.101576\n",
       "4           -0.480145\n",
       "5           -0.320679\n",
       "6           -0.112892\n",
       "7           -0.454856\n",
       "8          164.982660\n",
       "9           -0.456551"
      ]
     },
     "execution_count": 52,
     "metadata": {},
     "output_type": "execute_result"
    }
   ],
   "source": [
    "target = np.expm1(cls.predict(test))\n",
    "\n",
    "submission = pd.DataFrame(target, index=row_id, columns=['meter_reading'])\n",
    "submission.head(10)"
   ]
  },
  {
   "cell_type": "code",
   "execution_count": 53,
   "id": "frequent-start",
   "metadata": {
    "execution": {
     "iopub.execute_input": "2021-06-09T07:02:49.498957Z",
     "iopub.status.busy": "2021-06-09T07:02:49.497926Z",
     "iopub.status.idle": "2021-06-09T07:02:50.091759Z",
     "shell.execute_reply": "2021-06-09T07:02:50.091071Z",
     "shell.execute_reply.started": "2021-06-09T06:49:59.516804Z"
    },
    "papermill": {
     "duration": 0.672328,
     "end_time": "2021-06-09T07:02:50.091900",
     "exception": false,
     "start_time": "2021-06-09T07:02:49.419572",
     "status": "completed"
    },
    "tags": []
   },
   "outputs": [
    {
     "name": "stdout",
     "output_type": "stream",
     "text": [
      "Memory usage of dataframe is 636.25 MB\n",
      "Memory usage after optimization is: 477.19 MB\n",
      "Decreased by 25.0%\n"
     ]
    }
   ],
   "source": [
    "del row_id\n",
    "gc.collect()\n",
    "\n",
    "submission = reduce_mem_usage(submission)"
   ]
  },
  {
   "cell_type": "code",
   "execution_count": 54,
   "id": "urban-marathon",
   "metadata": {
    "execution": {
     "iopub.execute_input": "2021-06-09T07:02:50.248223Z",
     "iopub.status.busy": "2021-06-09T07:02:50.247551Z",
     "iopub.status.idle": "2021-06-09T07:05:03.858071Z",
     "shell.execute_reply": "2021-06-09T07:05:03.856912Z",
     "shell.execute_reply.started": "2021-06-09T06:50:00.034125Z"
    },
    "papermill": {
     "duration": 133.690325,
     "end_time": "2021-06-09T07:05:03.858280",
     "exception": false,
     "start_time": "2021-06-09T07:02:50.167955",
     "status": "completed"
    },
    "tags": []
   },
   "outputs": [],
   "source": [
    "submission.to_csv('ASHRAE_submit.csv')"
   ]
  }
 ],
 "metadata": {
  "kernelspec": {
   "display_name": "Python 3",
   "language": "python",
   "name": "python3"
  },
  "language_info": {
   "codemirror_mode": {
    "name": "ipython",
    "version": 3
   },
   "file_extension": ".py",
   "mimetype": "text/x-python",
   "name": "python",
   "nbconvert_exporter": "python",
   "pygments_lexer": "ipython3",
   "version": "3.7.10"
  },
  "papermill": {
   "default_parameters": {},
   "duration": 694.060612,
   "end_time": "2021-06-09T07:05:05.650337",
   "environment_variables": {},
   "exception": null,
   "input_path": "__notebook__.ipynb",
   "output_path": "__notebook__.ipynb",
   "parameters": {},
   "start_time": "2021-06-09T06:53:31.589725",
   "version": "2.3.3"
  }
 },
 "nbformat": 4,
 "nbformat_minor": 5
}
